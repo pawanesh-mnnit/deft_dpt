{
 "cells": [
  {
   "cell_type": "code",
   "execution_count": 1,
   "id": "6e7e08ee",
   "metadata": {},
   "outputs": [],
   "source": [
    "import os\n",
    "import numpy as np\n",
    "import pandas as pd\n",
    "import torch\n",
    "import torch.nn as nn\n",
    "import torch.nn.functional as F\n",
    "import torchvision.transforms as transforms\n",
    "from torchvision.models import resnet50\n",
    "from PIL import Image\n",
    "from tqdm import tqdm"
   ]
  },
  {
   "cell_type": "code",
   "execution_count": 2,
   "id": "97c38b29",
   "metadata": {},
   "outputs": [],
   "source": [
    "class LocalizationNetwork(nn.Module):\n",
    "    def __init__(self, input_channels):\n",
    "        super(LocalizationNetwork, self).__init__()\n",
    "        self.conv1 = nn.Conv2d(input_channels, 8, kernel_size=7)\n",
    "        self.pool = nn.MaxPool2d(2, 2)\n",
    "        self.conv2 = nn.Conv2d(8, 10, kernel_size=5)\n",
    "\n",
    "        # Placeholder fc1 (will update after shape calculation)\n",
    "        self.fc1 = nn.Linear(1, 32)  # Temporary placeholder\n",
    "        self.fc2 = nn.Linear(32, 6)  # 6 affine parameters\n",
    "\n",
    "        # Initialize weights for identity transformation\n",
    "        self.fc2.weight.data.zero_()\n",
    "        self.fc2.bias.data.copy_(torch.tensor([1, 0, 0, 0, 1, 0], dtype=torch.float))\n",
    "\n",
    "    def forward(self, x):\n",
    "        x = self.pool(F.relu(self.conv1(x)))\n",
    "        x = self.pool(F.relu(self.conv2(x)))\n",
    "\n",
    "        # Dynamically compute the flattened size\n",
    "        if not hasattr(self, 'computed_fc1'):\n",
    "            flattened_size = x.view(x.shape[0], -1).shape[1]\n",
    "            self.fc1 = nn.Linear(flattened_size, 32).to(x.device)\n",
    "            self.computed_fc1 = True  # Prevent re-initialization\n",
    "\n",
    "        x = x.view(x.shape[0], -1)  # Flatten\n",
    "        x = F.relu(self.fc1(x))\n",
    "        theta = self.fc2(x)\n",
    "        theta = theta.view(-1, 2, 3)\n",
    "        return theta\n",
    "\n",
    "\n",
    "class WeightingModule(nn.Module):\n",
    "    def __init__(self, sigma=0.5):\n",
    "        super(WeightingModule, self).__init__()\n",
    "        self.lambda_param = nn.Parameter(torch.tensor(0.5))\n",
    "        self.sigma = sigma\n",
    "\n",
    "    def forward(self, grid):\n",
    "        dist2 = grid[..., 0] ** 2 + grid[..., 1] ** 2\n",
    "        weight = 1 + self.lambda_param * torch.exp(-dist2 / (2 * self.sigma ** 2))\n",
    "        return weight.unsqueeze(-1)\n",
    "\n",
    "\n",
    "class DEFTModule(nn.Module):\n",
    "    def __init__(self, input_channels, sigma=0.5):\n",
    "        super(DEFTModule, self).__init__()\n",
    "        self.localization = LocalizationNetwork(input_channels)\n",
    "        self.weighting = WeightingModule(sigma)\n",
    "\n",
    "    def forward(self, x):\n",
    "        theta = self.localization(x)\n",
    "        grid = F.affine_grid(theta, x.size(), align_corners=False)\n",
    "        weight = self.weighting(grid)\n",
    "        x_transformed = F.grid_sample(x, grid, align_corners=False)\n",
    "\n",
    "        if x.shape[1] > 1:\n",
    "            weight = weight.expand(-1, x.shape[2], x.shape[3], x.shape[1]).permute(0, 3, 1, 2)\n",
    "        else:\n",
    "            weight = weight.permute(0, 3, 1, 2)\n",
    "\n",
    "        x_weighted = x_transformed * weight\n",
    "        return x_weighted"
   ]
  },
  {
   "cell_type": "code",
   "execution_count": 6,
   "id": "b0f9fc3a",
   "metadata": {},
   "outputs": [
    {
     "name": "stderr",
     "output_type": "stream",
     "text": [
      "C:\\Users\\PAWANESH\\anaconda3\\Lib\\site-packages\\torchvision\\models\\_utils.py:223: UserWarning: Arguments other than a weight enum or `None` for 'weights' are deprecated since 0.13 and may be removed in the future. The current behavior is equivalent to passing `weights=ResNet50_Weights.IMAGENET1K_V1`. You can also use `weights=ResNet50_Weights.DEFAULT` to get the most up-to-date weights.\n",
      "  warnings.warn(msg)\n"
     ]
    }
   ],
   "source": [
    "device = torch.device(\"cuda\" if torch.cuda.is_available() else \"cpu\")\n",
    "\n",
    "resnet_model = resnet50(weights=True)\n",
    "resnet_model = torch.nn.Sequential(*list(resnet_model.children())[:-1])  # Remove classification layer\n",
    "resnet_model.eval().to(device)\n",
    "\n",
    "# Load DEFT Module\n",
    "deft_model = DEFTModule(input_channels=3).to(device)  # Input channels = 3 (RGB)\n",
    "deft_model.eval()\n",
    "###########################################################\n",
    "# Define Image Transformation\n",
    "###########################################################\n",
    "\n",
    "transform = transforms.Compose([\n",
    "    transforms.Resize((224, 224)),\n",
    "    transforms.ToTensor(),\n",
    "    transforms.Normalize(mean=[0.485, 0.456, 0.406], std=[0.229, 0.224, 0.225])\n",
    "])"
   ]
  },
  {
   "cell_type": "code",
   "execution_count": 7,
   "id": "882b2305",
   "metadata": {},
   "outputs": [],
   "source": [
    "# Paths\n",
    "rgb_path = \"D:/Datasets/Datasets/EPIC_Kitchen/RGB/P01_04\"\n",
    "flow_path = \"D:/Datasets/Datasets/EPIC_Kitchen/Flow/P01_04\"\n",
    "label_csv = \"D:/Datasets/Datasets/EPIC_Kitchen/Label/P01_04.csv\"\n",
    "\n",
    "# Load CSV\n",
    "df = pd.read_csv(label_csv)"
   ]
  },
  {
   "cell_type": "code",
   "execution_count": 8,
   "id": "06e0cb74",
   "metadata": {},
   "outputs": [
    {
     "name": "stderr",
     "output_type": "stream",
     "text": [
      "Processing RGB + Flow frames:   1%|▍                                                   | 5/631 [00:00<00:14, 43.33it/s]"
     ]
    },
    {
     "name": "stdout",
     "output_type": "stream",
     "text": [
      "Skipping D:/Datasets/Datasets/EPIC_Kitchen/RGB/P01_04\\frame_00000.jpg: name 'deft' is not defined\n",
      "Skipping D:/Datasets/Datasets/EPIC_Kitchen/Flow/P01_04\\frame_00000.jpg: [Errno 2] No such file or directory: 'D:\\\\Datasets\\\\Datasets\\\\EPIC_Kitchen\\\\Flow\\\\P01_04\\\\frame_00000.jpg'\n",
      "Skipping D:/Datasets/Datasets/EPIC_Kitchen/RGB/P01_04\\frame_00010.jpg: name 'deft' is not defined\n",
      "Skipping D:/Datasets/Datasets/EPIC_Kitchen/Flow/P01_04\\frame_00010.jpg: [Errno 2] No such file or directory: 'D:\\\\Datasets\\\\Datasets\\\\EPIC_Kitchen\\\\Flow\\\\P01_04\\\\frame_00010.jpg'\n",
      "Skipping D:/Datasets/Datasets/EPIC_Kitchen/RGB/P01_04\\frame_00020.jpg: name 'deft' is not defined\n",
      "Skipping D:/Datasets/Datasets/EPIC_Kitchen/Flow/P01_04\\frame_00020.jpg: [Errno 2] No such file or directory: 'D:\\\\Datasets\\\\Datasets\\\\EPIC_Kitchen\\\\Flow\\\\P01_04\\\\frame_00020.jpg'\n",
      "Skipping D:/Datasets/Datasets/EPIC_Kitchen/RGB/P01_04\\frame_00030.jpg: name 'deft' is not defined\n",
      "Skipping D:/Datasets/Datasets/EPIC_Kitchen/Flow/P01_04\\frame_00030.jpg: [Errno 2] No such file or directory: 'D:\\\\Datasets\\\\Datasets\\\\EPIC_Kitchen\\\\Flow\\\\P01_04\\\\frame_00030.jpg'\n",
      "Skipping D:/Datasets/Datasets/EPIC_Kitchen/RGB/P01_04\\frame_00040.jpg: name 'deft' is not defined\n",
      "Skipping D:/Datasets/Datasets/EPIC_Kitchen/Flow/P01_04\\frame_00040.jpg: [Errno 2] No such file or directory: 'D:\\\\Datasets\\\\Datasets\\\\EPIC_Kitchen\\\\Flow\\\\P01_04\\\\frame_00040.jpg'\n",
      "Skipping D:/Datasets/Datasets/EPIC_Kitchen/RGB/P01_04\\frame_00050.jpg: name 'deft' is not defined\n",
      "Skipping D:/Datasets/Datasets/EPIC_Kitchen/Flow/P01_04\\frame_00050.jpg: [Errno 2] No such file or directory: 'D:\\\\Datasets\\\\Datasets\\\\EPIC_Kitchen\\\\Flow\\\\P01_04\\\\frame_00050.jpg'\n",
      "Skipping D:/Datasets/Datasets/EPIC_Kitchen/RGB/P01_04\\frame_00060.jpg: name 'deft' is not defined\n",
      "Skipping D:/Datasets/Datasets/EPIC_Kitchen/Flow/P01_04\\frame_00060.jpg: [Errno 2] No such file or directory: 'D:\\\\Datasets\\\\Datasets\\\\EPIC_Kitchen\\\\Flow\\\\P01_04\\\\frame_00060.jpg'\n",
      "Skipping D:/Datasets/Datasets/EPIC_Kitchen/RGB/P01_04\\frame_00070.jpg: name 'deft' is not defined\n",
      "Skipping D:/Datasets/Datasets/EPIC_Kitchen/Flow/P01_04\\frame_00070.jpg: [Errno 2] No such file or directory: 'D:\\\\Datasets\\\\Datasets\\\\EPIC_Kitchen\\\\Flow\\\\P01_04\\\\frame_00070.jpg'\n",
      "Skipping D:/Datasets/Datasets/EPIC_Kitchen/RGB/P01_04\\frame_00080.jpg: name 'deft' is not defined\n"
     ]
    },
    {
     "name": "stderr",
     "output_type": "stream",
     "text": [
      "Processing RGB + Flow frames:   2%|█▏                                                 | 15/631 [00:00<00:15, 40.65it/s]"
     ]
    },
    {
     "name": "stdout",
     "output_type": "stream",
     "text": [
      "Skipping D:/Datasets/Datasets/EPIC_Kitchen/Flow/P01_04\\frame_00080.jpg: [Errno 2] No such file or directory: 'D:\\\\Datasets\\\\Datasets\\\\EPIC_Kitchen\\\\Flow\\\\P01_04\\\\frame_00080.jpg'\n",
      "Skipping D:/Datasets/Datasets/EPIC_Kitchen/RGB/P01_04\\frame_00090.jpg: name 'deft' is not defined\n",
      "Skipping D:/Datasets/Datasets/EPIC_Kitchen/Flow/P01_04\\frame_00090.jpg: [Errno 2] No such file or directory: 'D:\\\\Datasets\\\\Datasets\\\\EPIC_Kitchen\\\\Flow\\\\P01_04\\\\frame_00090.jpg'\n",
      "Skipping D:/Datasets/Datasets/EPIC_Kitchen/RGB/P01_04\\frame_00100.jpg: name 'deft' is not defined\n",
      "Skipping D:/Datasets/Datasets/EPIC_Kitchen/Flow/P01_04\\frame_00100.jpg: [Errno 2] No such file or directory: 'D:\\\\Datasets\\\\Datasets\\\\EPIC_Kitchen\\\\Flow\\\\P01_04\\\\frame_00100.jpg'\n",
      "Skipping D:/Datasets/Datasets/EPIC_Kitchen/RGB/P01_04\\frame_00110.jpg: name 'deft' is not defined\n",
      "Skipping D:/Datasets/Datasets/EPIC_Kitchen/Flow/P01_04\\frame_00110.jpg: [Errno 2] No such file or directory: 'D:\\\\Datasets\\\\Datasets\\\\EPIC_Kitchen\\\\Flow\\\\P01_04\\\\frame_00110.jpg'\n",
      "Skipping D:/Datasets/Datasets/EPIC_Kitchen/RGB/P01_04\\frame_00120.jpg: name 'deft' is not defined\n",
      "Skipping D:/Datasets/Datasets/EPIC_Kitchen/Flow/P01_04\\frame_00120.jpg: [Errno 2] No such file or directory: 'D:\\\\Datasets\\\\Datasets\\\\EPIC_Kitchen\\\\Flow\\\\P01_04\\\\frame_00120.jpg'\n",
      "Skipping D:/Datasets/Datasets/EPIC_Kitchen/RGB/P01_04\\frame_00130.jpg: name 'deft' is not defined\n",
      "Skipping D:/Datasets/Datasets/EPIC_Kitchen/Flow/P01_04\\frame_00130.jpg: [Errno 2] No such file or directory: 'D:\\\\Datasets\\\\Datasets\\\\EPIC_Kitchen\\\\Flow\\\\P01_04\\\\frame_00130.jpg'\n",
      "Skipping D:/Datasets/Datasets/EPIC_Kitchen/RGB/P01_04\\frame_00140.jpg: name 'deft' is not defined\n",
      "Skipping D:/Datasets/Datasets/EPIC_Kitchen/Flow/P01_04\\frame_00140.jpg: [Errno 2] No such file or directory: 'D:\\\\Datasets\\\\Datasets\\\\EPIC_Kitchen\\\\Flow\\\\P01_04\\\\frame_00140.jpg'\n",
      "Skipping D:/Datasets/Datasets/EPIC_Kitchen/RGB/P01_04\\frame_00150.jpg: name 'deft' is not defined\n",
      "Skipping D:/Datasets/Datasets/EPIC_Kitchen/Flow/P01_04\\frame_00150.jpg: [Errno 2] No such file or directory: 'D:\\\\Datasets\\\\Datasets\\\\EPIC_Kitchen\\\\Flow\\\\P01_04\\\\frame_00150.jpg'\n",
      "Skipping D:/Datasets/Datasets/EPIC_Kitchen/RGB/P01_04\\frame_00160.jpg: name 'deft' is not defined\n",
      "Skipping D:/Datasets/Datasets/EPIC_Kitchen/Flow/P01_04\\frame_00160.jpg: [Errno 2] No such file or directory: 'D:\\\\Datasets\\\\Datasets\\\\EPIC_Kitchen\\\\Flow\\\\P01_04\\\\frame_00160.jpg'\n"
     ]
    },
    {
     "name": "stderr",
     "output_type": "stream",
     "text": [
      "Processing RGB + Flow frames:   4%|██                                                 | 25/631 [00:00<00:14, 40.55it/s]"
     ]
    },
    {
     "name": "stdout",
     "output_type": "stream",
     "text": [
      "Skipping D:/Datasets/Datasets/EPIC_Kitchen/RGB/P01_04\\frame_00170.jpg: name 'deft' is not defined\n",
      "Skipping D:/Datasets/Datasets/EPIC_Kitchen/Flow/P01_04\\frame_00170.jpg: [Errno 2] No such file or directory: 'D:\\\\Datasets\\\\Datasets\\\\EPIC_Kitchen\\\\Flow\\\\P01_04\\\\frame_00170.jpg'\n",
      "Skipping D:/Datasets/Datasets/EPIC_Kitchen/RGB/P01_04\\frame_00180.jpg: name 'deft' is not defined\n",
      "Skipping D:/Datasets/Datasets/EPIC_Kitchen/Flow/P01_04\\frame_00180.jpg: [Errno 2] No such file or directory: 'D:\\\\Datasets\\\\Datasets\\\\EPIC_Kitchen\\\\Flow\\\\P01_04\\\\frame_00180.jpg'\n",
      "Skipping D:/Datasets/Datasets/EPIC_Kitchen/RGB/P01_04\\frame_00190.jpg: name 'deft' is not defined\n",
      "Skipping D:/Datasets/Datasets/EPIC_Kitchen/Flow/P01_04\\frame_00190.jpg: [Errno 2] No such file or directory: 'D:\\\\Datasets\\\\Datasets\\\\EPIC_Kitchen\\\\Flow\\\\P01_04\\\\frame_00190.jpg'\n",
      "Skipping D:/Datasets/Datasets/EPIC_Kitchen/RGB/P01_04\\frame_00200.jpg: name 'deft' is not defined\n",
      "Skipping D:/Datasets/Datasets/EPIC_Kitchen/Flow/P01_04\\frame_00200.jpg: [Errno 2] No such file or directory: 'D:\\\\Datasets\\\\Datasets\\\\EPIC_Kitchen\\\\Flow\\\\P01_04\\\\frame_00200.jpg'\n",
      "Skipping D:/Datasets/Datasets/EPIC_Kitchen/RGB/P01_04\\frame_00210.jpg: name 'deft' is not defined\n",
      "Skipping D:/Datasets/Datasets/EPIC_Kitchen/Flow/P01_04\\frame_00210.jpg: [Errno 2] No such file or directory: 'D:\\\\Datasets\\\\Datasets\\\\EPIC_Kitchen\\\\Flow\\\\P01_04\\\\frame_00210.jpg'\n",
      "Skipping D:/Datasets/Datasets/EPIC_Kitchen/RGB/P01_04\\frame_00220.jpg: name 'deft' is not defined\n",
      "Skipping D:/Datasets/Datasets/EPIC_Kitchen/Flow/P01_04\\frame_00220.jpg: [Errno 2] No such file or directory: 'D:\\\\Datasets\\\\Datasets\\\\EPIC_Kitchen\\\\Flow\\\\P01_04\\\\frame_00220.jpg'\n",
      "Skipping D:/Datasets/Datasets/EPIC_Kitchen/RGB/P01_04\\frame_00230.jpg: name 'deft' is not defined\n",
      "Skipping D:/Datasets/Datasets/EPIC_Kitchen/Flow/P01_04\\frame_00230.jpg: [Errno 2] No such file or directory: 'D:\\\\Datasets\\\\Datasets\\\\EPIC_Kitchen\\\\Flow\\\\P01_04\\\\frame_00230.jpg'\n",
      "Skipping D:/Datasets/Datasets/EPIC_Kitchen/RGB/P01_04\\frame_00240.jpg: name 'deft' is not defined\n",
      "Skipping D:/Datasets/Datasets/EPIC_Kitchen/Flow/P01_04\\frame_00240.jpg: [Errno 2] No such file or directory: 'D:\\\\Datasets\\\\Datasets\\\\EPIC_Kitchen\\\\Flow\\\\P01_04\\\\frame_00240.jpg'\n",
      "Skipping D:/Datasets/Datasets/EPIC_Kitchen/RGB/P01_04\\frame_00250.jpg: name 'deft' is not defined\n",
      "Skipping D:/Datasets/Datasets/EPIC_Kitchen/Flow/P01_04\\frame_00250.jpg: [Errno 2] No such file or directory: 'D:\\\\Datasets\\\\Datasets\\\\EPIC_Kitchen\\\\Flow\\\\P01_04\\\\frame_00250.jpg'\n"
     ]
    },
    {
     "name": "stderr",
     "output_type": "stream",
     "text": [
      "Processing RGB + Flow frames:   6%|██▊                                                | 35/631 [00:00<00:14, 41.52it/s]"
     ]
    },
    {
     "name": "stdout",
     "output_type": "stream",
     "text": [
      "Skipping D:/Datasets/Datasets/EPIC_Kitchen/RGB/P01_04\\frame_00260.jpg: name 'deft' is not defined\n",
      "Skipping D:/Datasets/Datasets/EPIC_Kitchen/Flow/P01_04\\frame_00260.jpg: [Errno 2] No such file or directory: 'D:\\\\Datasets\\\\Datasets\\\\EPIC_Kitchen\\\\Flow\\\\P01_04\\\\frame_00260.jpg'\n",
      "Skipping D:/Datasets/Datasets/EPIC_Kitchen/RGB/P01_04\\frame_00270.jpg: name 'deft' is not defined\n",
      "Skipping D:/Datasets/Datasets/EPIC_Kitchen/Flow/P01_04\\frame_00270.jpg: [Errno 2] No such file or directory: 'D:\\\\Datasets\\\\Datasets\\\\EPIC_Kitchen\\\\Flow\\\\P01_04\\\\frame_00270.jpg'\n",
      "Skipping D:/Datasets/Datasets/EPIC_Kitchen/RGB/P01_04\\frame_00280.jpg: name 'deft' is not defined\n",
      "Skipping D:/Datasets/Datasets/EPIC_Kitchen/Flow/P01_04\\frame_00280.jpg: [Errno 2] No such file or directory: 'D:\\\\Datasets\\\\Datasets\\\\EPIC_Kitchen\\\\Flow\\\\P01_04\\\\frame_00280.jpg'\n",
      "Skipping D:/Datasets/Datasets/EPIC_Kitchen/RGB/P01_04\\frame_00290.jpg: name 'deft' is not defined\n",
      "Skipping D:/Datasets/Datasets/EPIC_Kitchen/Flow/P01_04\\frame_00290.jpg: [Errno 2] No such file or directory: 'D:\\\\Datasets\\\\Datasets\\\\EPIC_Kitchen\\\\Flow\\\\P01_04\\\\frame_00290.jpg'\n",
      "Skipping D:/Datasets/Datasets/EPIC_Kitchen/RGB/P01_04\\frame_00300.jpg: name 'deft' is not defined\n",
      "Skipping D:/Datasets/Datasets/EPIC_Kitchen/Flow/P01_04\\frame_00300.jpg: [Errno 2] No such file or directory: 'D:\\\\Datasets\\\\Datasets\\\\EPIC_Kitchen\\\\Flow\\\\P01_04\\\\frame_00300.jpg'\n",
      "Skipping D:/Datasets/Datasets/EPIC_Kitchen/RGB/P01_04\\frame_00310.jpg: name 'deft' is not defined\n",
      "Skipping D:/Datasets/Datasets/EPIC_Kitchen/Flow/P01_04\\frame_00310.jpg: [Errno 2] No such file or directory: 'D:\\\\Datasets\\\\Datasets\\\\EPIC_Kitchen\\\\Flow\\\\P01_04\\\\frame_00310.jpg'\n",
      "Skipping D:/Datasets/Datasets/EPIC_Kitchen/RGB/P01_04\\frame_00320.jpg: name 'deft' is not defined\n",
      "Skipping D:/Datasets/Datasets/EPIC_Kitchen/Flow/P01_04\\frame_00320.jpg: [Errno 2] No such file or directory: 'D:\\\\Datasets\\\\Datasets\\\\EPIC_Kitchen\\\\Flow\\\\P01_04\\\\frame_00320.jpg'\n",
      "Skipping D:/Datasets/Datasets/EPIC_Kitchen/RGB/P01_04\\frame_00330.jpg: name 'deft' is not defined\n",
      "Skipping D:/Datasets/Datasets/EPIC_Kitchen/Flow/P01_04\\frame_00330.jpg: [Errno 2] No such file or directory: 'D:\\\\Datasets\\\\Datasets\\\\EPIC_Kitchen\\\\Flow\\\\P01_04\\\\frame_00330.jpg'\n",
      "Skipping D:/Datasets/Datasets/EPIC_Kitchen/RGB/P01_04\\frame_00340.jpg: name 'deft' is not defined\n",
      "Skipping D:/Datasets/Datasets/EPIC_Kitchen/Flow/P01_04\\frame_00340.jpg: [Errno 2] No such file or directory: 'D:\\\\Datasets\\\\Datasets\\\\EPIC_Kitchen\\\\Flow\\\\P01_04\\\\frame_00340.jpg'\n"
     ]
    },
    {
     "name": "stderr",
     "output_type": "stream",
     "text": [
      "\r",
      "Processing RGB + Flow frames:   6%|███▏                                               | 40/631 [00:00<00:14, 40.81it/s]"
     ]
    },
    {
     "name": "stdout",
     "output_type": "stream",
     "text": [
      "Skipping D:/Datasets/Datasets/EPIC_Kitchen/RGB/P01_04\\frame_00350.jpg: name 'deft' is not defined\n",
      "Skipping D:/Datasets/Datasets/EPIC_Kitchen/Flow/P01_04\\frame_00350.jpg: [Errno 2] No such file or directory: 'D:\\\\Datasets\\\\Datasets\\\\EPIC_Kitchen\\\\Flow\\\\P01_04\\\\frame_00350.jpg'\n",
      "Skipping D:/Datasets/Datasets/EPIC_Kitchen/RGB/P01_04\\frame_00360.jpg: name 'deft' is not defined\n",
      "Skipping D:/Datasets/Datasets/EPIC_Kitchen/Flow/P01_04\\frame_00360.jpg: [Errno 2] No such file or directory: 'D:\\\\Datasets\\\\Datasets\\\\EPIC_Kitchen\\\\Flow\\\\P01_04\\\\frame_00360.jpg'\n",
      "Skipping D:/Datasets/Datasets/EPIC_Kitchen/RGB/P01_04\\frame_00370.jpg: name 'deft' is not defined\n",
      "Skipping D:/Datasets/Datasets/EPIC_Kitchen/Flow/P01_04\\frame_00370.jpg: [Errno 2] No such file or directory: 'D:\\\\Datasets\\\\Datasets\\\\EPIC_Kitchen\\\\Flow\\\\P01_04\\\\frame_00370.jpg'\n",
      "Skipping D:/Datasets/Datasets/EPIC_Kitchen/RGB/P01_04\\frame_00380.jpg: name 'deft' is not defined\n",
      "Skipping D:/Datasets/Datasets/EPIC_Kitchen/Flow/P01_04\\frame_00380.jpg: [Errno 2] No such file or directory: 'D:\\\\Datasets\\\\Datasets\\\\EPIC_Kitchen\\\\Flow\\\\P01_04\\\\frame_00380.jpg'\n",
      "Skipping D:/Datasets/Datasets/EPIC_Kitchen/RGB/P01_04\\frame_00390.jpg: name 'deft' is not defined\n",
      "Skipping D:/Datasets/Datasets/EPIC_Kitchen/Flow/P01_04\\frame_00390.jpg: [Errno 2] No such file or directory: 'D:\\\\Datasets\\\\Datasets\\\\EPIC_Kitchen\\\\Flow\\\\P01_04\\\\frame_00390.jpg'\n",
      "Skipping D:/Datasets/Datasets/EPIC_Kitchen/RGB/P01_04\\frame_00400.jpg: name 'deft' is not defined\n",
      "Skipping D:/Datasets/Datasets/EPIC_Kitchen/Flow/P01_04\\frame_00400.jpg: [Errno 2] No such file or directory: 'D:\\\\Datasets\\\\Datasets\\\\EPIC_Kitchen\\\\Flow\\\\P01_04\\\\frame_00400.jpg'\n",
      "Skipping D:/Datasets/Datasets/EPIC_Kitchen/RGB/P01_04\\frame_00410.jpg: name 'deft' is not defined\n",
      "Skipping D:/Datasets/Datasets/EPIC_Kitchen/Flow/P01_04\\frame_00410.jpg: [Errno 2] No such file or directory: 'D:\\\\Datasets\\\\Datasets\\\\EPIC_Kitchen\\\\Flow\\\\P01_04\\\\frame_00410.jpg'\n",
      "Skipping D:/Datasets/Datasets/EPIC_Kitchen/RGB/P01_04\\frame_00420.jpg: name 'deft' is not defined\n",
      "Skipping D:/Datasets/Datasets/EPIC_Kitchen/Flow/P01_04\\frame_00420.jpg: [Errno 2] No such file or directory: 'D:\\\\Datasets\\\\Datasets\\\\EPIC_Kitchen\\\\Flow\\\\P01_04\\\\frame_00420.jpg'\n"
     ]
    },
    {
     "name": "stderr",
     "output_type": "stream",
     "text": [
      "Processing RGB + Flow frames:   8%|████                                               | 50/631 [00:01<00:15, 38.47it/s]"
     ]
    },
    {
     "name": "stdout",
     "output_type": "stream",
     "text": [
      "Skipping D:/Datasets/Datasets/EPIC_Kitchen/RGB/P01_04\\frame_00430.jpg: name 'deft' is not defined\n",
      "Skipping D:/Datasets/Datasets/EPIC_Kitchen/Flow/P01_04\\frame_00430.jpg: [Errno 2] No such file or directory: 'D:\\\\Datasets\\\\Datasets\\\\EPIC_Kitchen\\\\Flow\\\\P01_04\\\\frame_00430.jpg'\n",
      "Skipping D:/Datasets/Datasets/EPIC_Kitchen/RGB/P01_04\\frame_00440.jpg: name 'deft' is not defined\n",
      "Skipping D:/Datasets/Datasets/EPIC_Kitchen/Flow/P01_04\\frame_00440.jpg: [Errno 2] No such file or directory: 'D:\\\\Datasets\\\\Datasets\\\\EPIC_Kitchen\\\\Flow\\\\P01_04\\\\frame_00440.jpg'\n",
      "Skipping D:/Datasets/Datasets/EPIC_Kitchen/RGB/P01_04\\frame_00450.jpg: name 'deft' is not defined\n",
      "Skipping D:/Datasets/Datasets/EPIC_Kitchen/Flow/P01_04\\frame_00450.jpg: [Errno 2] No such file or directory: 'D:\\\\Datasets\\\\Datasets\\\\EPIC_Kitchen\\\\Flow\\\\P01_04\\\\frame_00450.jpg'\n",
      "Skipping D:/Datasets/Datasets/EPIC_Kitchen/RGB/P01_04\\frame_00460.jpg: name 'deft' is not defined\n",
      "Skipping D:/Datasets/Datasets/EPIC_Kitchen/Flow/P01_04\\frame_00460.jpg: [Errno 2] No such file or directory: 'D:\\\\Datasets\\\\Datasets\\\\EPIC_Kitchen\\\\Flow\\\\P01_04\\\\frame_00460.jpg'\n",
      "Skipping D:/Datasets/Datasets/EPIC_Kitchen/RGB/P01_04\\frame_00470.jpg: name 'deft' is not defined\n",
      "Skipping D:/Datasets/Datasets/EPIC_Kitchen/Flow/P01_04\\frame_00470.jpg: [Errno 2] No such file or directory: 'D:\\\\Datasets\\\\Datasets\\\\EPIC_Kitchen\\\\Flow\\\\P01_04\\\\frame_00470.jpg'\n",
      "Skipping D:/Datasets/Datasets/EPIC_Kitchen/RGB/P01_04\\frame_00480.jpg: name 'deft' is not defined\n",
      "Skipping D:/Datasets/Datasets/EPIC_Kitchen/Flow/P01_04\\frame_00480.jpg: [Errno 2] No such file or directory: 'D:\\\\Datasets\\\\Datasets\\\\EPIC_Kitchen\\\\Flow\\\\P01_04\\\\frame_00480.jpg'\n",
      "Skipping D:/Datasets/Datasets/EPIC_Kitchen/RGB/P01_04\\frame_00490.jpg: name 'deft' is not defined\n",
      "Skipping D:/Datasets/Datasets/EPIC_Kitchen/Flow/P01_04\\frame_00490.jpg: [Errno 2] No such file or directory: 'D:\\\\Datasets\\\\Datasets\\\\EPIC_Kitchen\\\\Flow\\\\P01_04\\\\frame_00490.jpg'\n",
      "Skipping D:/Datasets/Datasets/EPIC_Kitchen/RGB/P01_04\\frame_00500.jpg: name 'deft' is not defined\n",
      "Skipping D:/Datasets/Datasets/EPIC_Kitchen/Flow/P01_04\\frame_00500.jpg: [Errno 2] No such file or directory: 'D:\\\\Datasets\\\\Datasets\\\\EPIC_Kitchen\\\\Flow\\\\P01_04\\\\frame_00500.jpg'\n"
     ]
    },
    {
     "name": "stderr",
     "output_type": "stream",
     "text": [
      "Processing RGB + Flow frames:   9%|████▊                                              | 59/631 [00:01<00:14, 39.22it/s]"
     ]
    },
    {
     "name": "stdout",
     "output_type": "stream",
     "text": [
      "Skipping D:/Datasets/Datasets/EPIC_Kitchen/RGB/P01_04\\frame_00510.jpg: name 'deft' is not defined\n",
      "Skipping D:/Datasets/Datasets/EPIC_Kitchen/Flow/P01_04\\frame_00510.jpg: [Errno 2] No such file or directory: 'D:\\\\Datasets\\\\Datasets\\\\EPIC_Kitchen\\\\Flow\\\\P01_04\\\\frame_00510.jpg'\n",
      "Skipping D:/Datasets/Datasets/EPIC_Kitchen/RGB/P01_04\\frame_00520.jpg: name 'deft' is not defined\n",
      "Skipping D:/Datasets/Datasets/EPIC_Kitchen/Flow/P01_04\\frame_00520.jpg: [Errno 2] No such file or directory: 'D:\\\\Datasets\\\\Datasets\\\\EPIC_Kitchen\\\\Flow\\\\P01_04\\\\frame_00520.jpg'\n",
      "Skipping D:/Datasets/Datasets/EPIC_Kitchen/RGB/P01_04\\frame_00530.jpg: name 'deft' is not defined\n",
      "Skipping D:/Datasets/Datasets/EPIC_Kitchen/Flow/P01_04\\frame_00530.jpg: [Errno 2] No such file or directory: 'D:\\\\Datasets\\\\Datasets\\\\EPIC_Kitchen\\\\Flow\\\\P01_04\\\\frame_00530.jpg'\n",
      "Skipping D:/Datasets/Datasets/EPIC_Kitchen/RGB/P01_04\\frame_00540.jpg: name 'deft' is not defined\n",
      "Skipping D:/Datasets/Datasets/EPIC_Kitchen/Flow/P01_04\\frame_00540.jpg: [Errno 2] No such file or directory: 'D:\\\\Datasets\\\\Datasets\\\\EPIC_Kitchen\\\\Flow\\\\P01_04\\\\frame_00540.jpg'\n",
      "Skipping D:/Datasets/Datasets/EPIC_Kitchen/RGB/P01_04\\frame_00550.jpg: name 'deft' is not defined\n",
      "Skipping D:/Datasets/Datasets/EPIC_Kitchen/Flow/P01_04\\frame_00550.jpg: [Errno 2] No such file or directory: 'D:\\\\Datasets\\\\Datasets\\\\EPIC_Kitchen\\\\Flow\\\\P01_04\\\\frame_00550.jpg'\n",
      "Skipping D:/Datasets/Datasets/EPIC_Kitchen/RGB/P01_04\\frame_00560.jpg: name 'deft' is not defined\n",
      "Skipping D:/Datasets/Datasets/EPIC_Kitchen/Flow/P01_04\\frame_00560.jpg: [Errno 2] No such file or directory: 'D:\\\\Datasets\\\\Datasets\\\\EPIC_Kitchen\\\\Flow\\\\P01_04\\\\frame_00560.jpg'\n",
      "Skipping D:/Datasets/Datasets/EPIC_Kitchen/RGB/P01_04\\frame_00570.jpg: name 'deft' is not defined\n",
      "Skipping D:/Datasets/Datasets/EPIC_Kitchen/Flow/P01_04\\frame_00570.jpg: [Errno 2] No such file or directory: 'D:\\\\Datasets\\\\Datasets\\\\EPIC_Kitchen\\\\Flow\\\\P01_04\\\\frame_00570.jpg'\n",
      "Skipping D:/Datasets/Datasets/EPIC_Kitchen/RGB/P01_04\\frame_00580.jpg: name 'deft' is not defined\n",
      "Skipping D:/Datasets/Datasets/EPIC_Kitchen/Flow/P01_04\\frame_00580.jpg: [Errno 2] No such file or directory: 'D:\\\\Datasets\\\\Datasets\\\\EPIC_Kitchen\\\\Flow\\\\P01_04\\\\frame_00580.jpg'\n",
      "Skipping D:/Datasets/Datasets/EPIC_Kitchen/RGB/P01_04\\frame_00590.jpg: name 'deft' is not defined\n",
      "Skipping D:/Datasets/Datasets/EPIC_Kitchen/Flow/P01_04\\frame_00590.jpg: [Errno 2] No such file or directory: 'D:\\\\Datasets\\\\Datasets\\\\EPIC_Kitchen\\\\Flow\\\\P01_04\\\\frame_00590.jpg'\n"
     ]
    },
    {
     "name": "stderr",
     "output_type": "stream",
     "text": [
      "Processing RGB + Flow frames:  11%|█████▌                                             | 69/631 [00:01<00:13, 40.31it/s]"
     ]
    },
    {
     "name": "stdout",
     "output_type": "stream",
     "text": [
      "Skipping D:/Datasets/Datasets/EPIC_Kitchen/RGB/P01_04\\frame_00600.jpg: name 'deft' is not defined\n",
      "Skipping D:/Datasets/Datasets/EPIC_Kitchen/Flow/P01_04\\frame_00600.jpg: [Errno 2] No such file or directory: 'D:\\\\Datasets\\\\Datasets\\\\EPIC_Kitchen\\\\Flow\\\\P01_04\\\\frame_00600.jpg'\n",
      "Skipping D:/Datasets/Datasets/EPIC_Kitchen/RGB/P01_04\\frame_00610.jpg: name 'deft' is not defined\n",
      "Skipping D:/Datasets/Datasets/EPIC_Kitchen/Flow/P01_04\\frame_00610.jpg: [Errno 2] No such file or directory: 'D:\\\\Datasets\\\\Datasets\\\\EPIC_Kitchen\\\\Flow\\\\P01_04\\\\frame_00610.jpg'\n",
      "Skipping D:/Datasets/Datasets/EPIC_Kitchen/RGB/P01_04\\frame_00620.jpg: name 'deft' is not defined\n",
      "Skipping D:/Datasets/Datasets/EPIC_Kitchen/Flow/P01_04\\frame_00620.jpg: [Errno 2] No such file or directory: 'D:\\\\Datasets\\\\Datasets\\\\EPIC_Kitchen\\\\Flow\\\\P01_04\\\\frame_00620.jpg'\n",
      "Skipping D:/Datasets/Datasets/EPIC_Kitchen/RGB/P01_04\\frame_00630.jpg: name 'deft' is not defined\n",
      "Skipping D:/Datasets/Datasets/EPIC_Kitchen/Flow/P01_04\\frame_00630.jpg: [Errno 2] No such file or directory: 'D:\\\\Datasets\\\\Datasets\\\\EPIC_Kitchen\\\\Flow\\\\P01_04\\\\frame_00630.jpg'\n",
      "Skipping D:/Datasets/Datasets/EPIC_Kitchen/RGB/P01_04\\frame_00640.jpg: name 'deft' is not defined\n",
      "Skipping D:/Datasets/Datasets/EPIC_Kitchen/Flow/P01_04\\frame_00640.jpg: [Errno 2] No such file or directory: 'D:\\\\Datasets\\\\Datasets\\\\EPIC_Kitchen\\\\Flow\\\\P01_04\\\\frame_00640.jpg'\n",
      "Skipping D:/Datasets/Datasets/EPIC_Kitchen/RGB/P01_04\\frame_00650.jpg: name 'deft' is not defined\n",
      "Skipping D:/Datasets/Datasets/EPIC_Kitchen/Flow/P01_04\\frame_00650.jpg: [Errno 2] No such file or directory: 'D:\\\\Datasets\\\\Datasets\\\\EPIC_Kitchen\\\\Flow\\\\P01_04\\\\frame_00650.jpg'\n",
      "Skipping D:/Datasets/Datasets/EPIC_Kitchen/RGB/P01_04\\frame_00660.jpg: name 'deft' is not defined\n",
      "Skipping D:/Datasets/Datasets/EPIC_Kitchen/Flow/P01_04\\frame_00660.jpg: [Errno 2] No such file or directory: 'D:\\\\Datasets\\\\Datasets\\\\EPIC_Kitchen\\\\Flow\\\\P01_04\\\\frame_00660.jpg'\n",
      "Skipping D:/Datasets/Datasets/EPIC_Kitchen/RGB/P01_04\\frame_00670.jpg: name 'deft' is not defined\n",
      "Skipping D:/Datasets/Datasets/EPIC_Kitchen/Flow/P01_04\\frame_00670.jpg: [Errno 2] No such file or directory: 'D:\\\\Datasets\\\\Datasets\\\\EPIC_Kitchen\\\\Flow\\\\P01_04\\\\frame_00670.jpg'\n",
      "Skipping D:/Datasets/Datasets/EPIC_Kitchen/RGB/P01_04\\frame_00680.jpg: name 'deft' is not defined\n",
      "Skipping D:/Datasets/Datasets/EPIC_Kitchen/Flow/P01_04\\frame_00680.jpg: [Errno 2] No such file or directory: 'D:\\\\Datasets\\\\Datasets\\\\EPIC_Kitchen\\\\Flow\\\\P01_04\\\\frame_00680.jpg'\n"
     ]
    },
    {
     "name": "stderr",
     "output_type": "stream",
     "text": [
      "\r",
      "Processing RGB + Flow frames:  12%|█████▉                                             | 74/631 [00:01<00:13, 40.40it/s]"
     ]
    },
    {
     "name": "stdout",
     "output_type": "stream",
     "text": [
      "Skipping D:/Datasets/Datasets/EPIC_Kitchen/RGB/P01_04\\frame_00690.jpg: name 'deft' is not defined\n",
      "Skipping D:/Datasets/Datasets/EPIC_Kitchen/Flow/P01_04\\frame_00690.jpg: [Errno 2] No such file or directory: 'D:\\\\Datasets\\\\Datasets\\\\EPIC_Kitchen\\\\Flow\\\\P01_04\\\\frame_00690.jpg'\n",
      "Skipping D:/Datasets/Datasets/EPIC_Kitchen/RGB/P01_04\\frame_00700.jpg: name 'deft' is not defined\n",
      "Skipping D:/Datasets/Datasets/EPIC_Kitchen/Flow/P01_04\\frame_00700.jpg: [Errno 2] No such file or directory: 'D:\\\\Datasets\\\\Datasets\\\\EPIC_Kitchen\\\\Flow\\\\P01_04\\\\frame_00700.jpg'\n",
      "Skipping D:/Datasets/Datasets/EPIC_Kitchen/RGB/P01_04\\frame_00710.jpg: name 'deft' is not defined\n",
      "Skipping D:/Datasets/Datasets/EPIC_Kitchen/Flow/P01_04\\frame_00710.jpg: [Errno 2] No such file or directory: 'D:\\\\Datasets\\\\Datasets\\\\EPIC_Kitchen\\\\Flow\\\\P01_04\\\\frame_00710.jpg'\n",
      "Skipping D:/Datasets/Datasets/EPIC_Kitchen/RGB/P01_04\\frame_00720.jpg: name 'deft' is not defined\n",
      "Skipping D:/Datasets/Datasets/EPIC_Kitchen/Flow/P01_04\\frame_00720.jpg: [Errno 2] No such file or directory: 'D:\\\\Datasets\\\\Datasets\\\\EPIC_Kitchen\\\\Flow\\\\P01_04\\\\frame_00720.jpg'\n",
      "Skipping D:/Datasets/Datasets/EPIC_Kitchen/RGB/P01_04\\frame_00730.jpg: name 'deft' is not defined\n",
      "Skipping D:/Datasets/Datasets/EPIC_Kitchen/Flow/P01_04\\frame_00730.jpg: [Errno 2] No such file or directory: 'D:\\\\Datasets\\\\Datasets\\\\EPIC_Kitchen\\\\Flow\\\\P01_04\\\\frame_00730.jpg'\n",
      "Skipping D:/Datasets/Datasets/EPIC_Kitchen/RGB/P01_04\\frame_00740.jpg: name 'deft' is not defined\n",
      "Skipping D:/Datasets/Datasets/EPIC_Kitchen/Flow/P01_04\\frame_00740.jpg: [Errno 2] No such file or directory: 'D:\\\\Datasets\\\\Datasets\\\\EPIC_Kitchen\\\\Flow\\\\P01_04\\\\frame_00740.jpg'\n",
      "Skipping D:/Datasets/Datasets/EPIC_Kitchen/RGB/P01_04\\frame_00750.jpg: name 'deft' is not defined\n",
      "Skipping D:/Datasets/Datasets/EPIC_Kitchen/Flow/P01_04\\frame_00750.jpg: [Errno 2] No such file or directory: 'D:\\\\Datasets\\\\Datasets\\\\EPIC_Kitchen\\\\Flow\\\\P01_04\\\\frame_00750.jpg'\n",
      "Skipping D:/Datasets/Datasets/EPIC_Kitchen/RGB/P01_04\\frame_00760.jpg: name 'deft' is not defined\n",
      "Skipping D:/Datasets/Datasets/EPIC_Kitchen/Flow/P01_04\\frame_00760.jpg: [Errno 2] No such file or directory: 'D:\\\\Datasets\\\\Datasets\\\\EPIC_Kitchen\\\\Flow\\\\P01_04\\\\frame_00760.jpg'\n",
      "Skipping D:/Datasets/Datasets/EPIC_Kitchen/RGB/P01_04\\frame_00770.jpg: name 'deft' is not defined\n",
      "Skipping D:/Datasets/Datasets/EPIC_Kitchen/Flow/P01_04\\frame_00770.jpg: [Errno 2] No such file or directory: 'D:\\\\Datasets\\\\Datasets\\\\EPIC_Kitchen\\\\Flow\\\\P01_04\\\\frame_00770.jpg'\n"
     ]
    },
    {
     "name": "stderr",
     "output_type": "stream",
     "text": [
      "Processing RGB + Flow frames:  13%|██████▊                                            | 84/631 [00:02<00:13, 41.37it/s]"
     ]
    },
    {
     "name": "stdout",
     "output_type": "stream",
     "text": [
      "Skipping D:/Datasets/Datasets/EPIC_Kitchen/RGB/P01_04\\frame_00780.jpg: name 'deft' is not defined\n",
      "Skipping D:/Datasets/Datasets/EPIC_Kitchen/Flow/P01_04\\frame_00780.jpg: [Errno 2] No such file or directory: 'D:\\\\Datasets\\\\Datasets\\\\EPIC_Kitchen\\\\Flow\\\\P01_04\\\\frame_00780.jpg'\n",
      "Skipping D:/Datasets/Datasets/EPIC_Kitchen/RGB/P01_04\\frame_00790.jpg: name 'deft' is not defined\n",
      "Skipping D:/Datasets/Datasets/EPIC_Kitchen/Flow/P01_04\\frame_00790.jpg: [Errno 2] No such file or directory: 'D:\\\\Datasets\\\\Datasets\\\\EPIC_Kitchen\\\\Flow\\\\P01_04\\\\frame_00790.jpg'\n",
      "Skipping D:/Datasets/Datasets/EPIC_Kitchen/RGB/P01_04\\frame_00800.jpg: name 'deft' is not defined\n",
      "Skipping D:/Datasets/Datasets/EPIC_Kitchen/Flow/P01_04\\frame_00800.jpg: [Errno 2] No such file or directory: 'D:\\\\Datasets\\\\Datasets\\\\EPIC_Kitchen\\\\Flow\\\\P01_04\\\\frame_00800.jpg'\n",
      "Skipping D:/Datasets/Datasets/EPIC_Kitchen/RGB/P01_04\\frame_00810.jpg: name 'deft' is not defined\n",
      "Skipping D:/Datasets/Datasets/EPIC_Kitchen/Flow/P01_04\\frame_00810.jpg: [Errno 2] No such file or directory: 'D:\\\\Datasets\\\\Datasets\\\\EPIC_Kitchen\\\\Flow\\\\P01_04\\\\frame_00810.jpg'\n",
      "Skipping D:/Datasets/Datasets/EPIC_Kitchen/RGB/P01_04\\frame_00820.jpg: name 'deft' is not defined\n",
      "Skipping D:/Datasets/Datasets/EPIC_Kitchen/Flow/P01_04\\frame_00820.jpg: [Errno 2] No such file or directory: 'D:\\\\Datasets\\\\Datasets\\\\EPIC_Kitchen\\\\Flow\\\\P01_04\\\\frame_00820.jpg'\n",
      "Skipping D:/Datasets/Datasets/EPIC_Kitchen/RGB/P01_04\\frame_00830.jpg: name 'deft' is not defined\n",
      "Skipping D:/Datasets/Datasets/EPIC_Kitchen/Flow/P01_04\\frame_00830.jpg: [Errno 2] No such file or directory: 'D:\\\\Datasets\\\\Datasets\\\\EPIC_Kitchen\\\\Flow\\\\P01_04\\\\frame_00830.jpg'\n",
      "Skipping D:/Datasets/Datasets/EPIC_Kitchen/RGB/P01_04\\frame_00840.jpg: name 'deft' is not defined\n",
      "Skipping D:/Datasets/Datasets/EPIC_Kitchen/Flow/P01_04\\frame_00840.jpg: [Errno 2] No such file or directory: 'D:\\\\Datasets\\\\Datasets\\\\EPIC_Kitchen\\\\Flow\\\\P01_04\\\\frame_00840.jpg'\n",
      "Skipping D:/Datasets/Datasets/EPIC_Kitchen/RGB/P01_04\\frame_00850.jpg: name 'deft' is not defined\n",
      "Skipping D:/Datasets/Datasets/EPIC_Kitchen/Flow/P01_04\\frame_00850.jpg: [Errno 2] No such file or directory: 'D:\\\\Datasets\\\\Datasets\\\\EPIC_Kitchen\\\\Flow\\\\P01_04\\\\frame_00850.jpg'\n",
      "Skipping D:/Datasets/Datasets/EPIC_Kitchen/RGB/P01_04\\frame_00860.jpg: name 'deft' is not defined\n",
      "Skipping D:/Datasets/Datasets/EPIC_Kitchen/Flow/P01_04\\frame_00860.jpg: [Errno 2] No such file or directory: 'D:\\\\Datasets\\\\Datasets\\\\EPIC_Kitchen\\\\Flow\\\\P01_04\\\\frame_00860.jpg'\n"
     ]
    },
    {
     "name": "stderr",
     "output_type": "stream",
     "text": [
      "Processing RGB + Flow frames:  15%|███████▌                                           | 94/631 [00:02<00:13, 40.69it/s]"
     ]
    },
    {
     "name": "stdout",
     "output_type": "stream",
     "text": [
      "Skipping D:/Datasets/Datasets/EPIC_Kitchen/RGB/P01_04\\frame_00870.jpg: name 'deft' is not defined\n",
      "Skipping D:/Datasets/Datasets/EPIC_Kitchen/Flow/P01_04\\frame_00870.jpg: [Errno 2] No such file or directory: 'D:\\\\Datasets\\\\Datasets\\\\EPIC_Kitchen\\\\Flow\\\\P01_04\\\\frame_00870.jpg'\n",
      "Skipping D:/Datasets/Datasets/EPIC_Kitchen/RGB/P01_04\\frame_00880.jpg: name 'deft' is not defined\n",
      "Skipping D:/Datasets/Datasets/EPIC_Kitchen/Flow/P01_04\\frame_00880.jpg: [Errno 2] No such file or directory: 'D:\\\\Datasets\\\\Datasets\\\\EPIC_Kitchen\\\\Flow\\\\P01_04\\\\frame_00880.jpg'\n",
      "Skipping D:/Datasets/Datasets/EPIC_Kitchen/RGB/P01_04\\frame_00890.jpg: name 'deft' is not defined\n",
      "Skipping D:/Datasets/Datasets/EPIC_Kitchen/Flow/P01_04\\frame_00890.jpg: [Errno 2] No such file or directory: 'D:\\\\Datasets\\\\Datasets\\\\EPIC_Kitchen\\\\Flow\\\\P01_04\\\\frame_00890.jpg'\n",
      "Skipping D:/Datasets/Datasets/EPIC_Kitchen/RGB/P01_04\\frame_00900.jpg: name 'deft' is not defined\n",
      "Skipping D:/Datasets/Datasets/EPIC_Kitchen/Flow/P01_04\\frame_00900.jpg: [Errno 2] No such file or directory: 'D:\\\\Datasets\\\\Datasets\\\\EPIC_Kitchen\\\\Flow\\\\P01_04\\\\frame_00900.jpg'\n",
      "Skipping D:/Datasets/Datasets/EPIC_Kitchen/RGB/P01_04\\frame_00910.jpg: name 'deft' is not defined\n",
      "Skipping D:/Datasets/Datasets/EPIC_Kitchen/Flow/P01_04\\frame_00910.jpg: [Errno 2] No such file or directory: 'D:\\\\Datasets\\\\Datasets\\\\EPIC_Kitchen\\\\Flow\\\\P01_04\\\\frame_00910.jpg'\n",
      "Skipping D:/Datasets/Datasets/EPIC_Kitchen/RGB/P01_04\\frame_00920.jpg: name 'deft' is not defined\n",
      "Skipping D:/Datasets/Datasets/EPIC_Kitchen/Flow/P01_04\\frame_00920.jpg: [Errno 2] No such file or directory: 'D:\\\\Datasets\\\\Datasets\\\\EPIC_Kitchen\\\\Flow\\\\P01_04\\\\frame_00920.jpg'\n",
      "Skipping D:/Datasets/Datasets/EPIC_Kitchen/RGB/P01_04\\frame_00930.jpg: name 'deft' is not defined\n",
      "Skipping D:/Datasets/Datasets/EPIC_Kitchen/Flow/P01_04\\frame_00930.jpg: [Errno 2] No such file or directory: 'D:\\\\Datasets\\\\Datasets\\\\EPIC_Kitchen\\\\Flow\\\\P01_04\\\\frame_00930.jpg'\n",
      "Skipping D:/Datasets/Datasets/EPIC_Kitchen/RGB/P01_04\\frame_00940.jpg: name 'deft' is not defined\n",
      "Skipping D:/Datasets/Datasets/EPIC_Kitchen/Flow/P01_04\\frame_00940.jpg: [Errno 2] No such file or directory: 'D:\\\\Datasets\\\\Datasets\\\\EPIC_Kitchen\\\\Flow\\\\P01_04\\\\frame_00940.jpg'\n",
      "Skipping D:/Datasets/Datasets/EPIC_Kitchen/RGB/P01_04\\frame_00950.jpg: name 'deft' is not defined\n"
     ]
    },
    {
     "name": "stderr",
     "output_type": "stream",
     "text": [
      "Processing RGB + Flow frames:  16%|████████▏                                         | 104/631 [00:02<00:13, 40.45it/s]"
     ]
    },
    {
     "name": "stdout",
     "output_type": "stream",
     "text": [
      "Skipping D:/Datasets/Datasets/EPIC_Kitchen/Flow/P01_04\\frame_00950.jpg: [Errno 2] No such file or directory: 'D:\\\\Datasets\\\\Datasets\\\\EPIC_Kitchen\\\\Flow\\\\P01_04\\\\frame_00950.jpg'\n",
      "Skipping D:/Datasets/Datasets/EPIC_Kitchen/RGB/P01_04\\frame_00960.jpg: name 'deft' is not defined\n",
      "Skipping D:/Datasets/Datasets/EPIC_Kitchen/Flow/P01_04\\frame_00960.jpg: [Errno 2] No such file or directory: 'D:\\\\Datasets\\\\Datasets\\\\EPIC_Kitchen\\\\Flow\\\\P01_04\\\\frame_00960.jpg'\n",
      "Skipping D:/Datasets/Datasets/EPIC_Kitchen/RGB/P01_04\\frame_00970.jpg: name 'deft' is not defined\n",
      "Skipping D:/Datasets/Datasets/EPIC_Kitchen/Flow/P01_04\\frame_00970.jpg: [Errno 2] No such file or directory: 'D:\\\\Datasets\\\\Datasets\\\\EPIC_Kitchen\\\\Flow\\\\P01_04\\\\frame_00970.jpg'\n",
      "Skipping D:/Datasets/Datasets/EPIC_Kitchen/RGB/P01_04\\frame_00980.jpg: name 'deft' is not defined\n",
      "Skipping D:/Datasets/Datasets/EPIC_Kitchen/Flow/P01_04\\frame_00980.jpg: [Errno 2] No such file or directory: 'D:\\\\Datasets\\\\Datasets\\\\EPIC_Kitchen\\\\Flow\\\\P01_04\\\\frame_00980.jpg'\n",
      "Skipping D:/Datasets/Datasets/EPIC_Kitchen/RGB/P01_04\\frame_00990.jpg: name 'deft' is not defined\n",
      "Skipping D:/Datasets/Datasets/EPIC_Kitchen/Flow/P01_04\\frame_00990.jpg: [Errno 2] No such file or directory: 'D:\\\\Datasets\\\\Datasets\\\\EPIC_Kitchen\\\\Flow\\\\P01_04\\\\frame_00990.jpg'\n",
      "Skipping D:/Datasets/Datasets/EPIC_Kitchen/RGB/P01_04\\frame_01000.jpg: name 'deft' is not defined\n",
      "Skipping D:/Datasets/Datasets/EPIC_Kitchen/Flow/P01_04\\frame_01000.jpg: [Errno 2] No such file or directory: 'D:\\\\Datasets\\\\Datasets\\\\EPIC_Kitchen\\\\Flow\\\\P01_04\\\\frame_01000.jpg'\n",
      "Skipping D:/Datasets/Datasets/EPIC_Kitchen/RGB/P01_04\\frame_01010.jpg: name 'deft' is not defined\n",
      "Skipping D:/Datasets/Datasets/EPIC_Kitchen/Flow/P01_04\\frame_01010.jpg: [Errno 2] No such file or directory: 'D:\\\\Datasets\\\\Datasets\\\\EPIC_Kitchen\\\\Flow\\\\P01_04\\\\frame_01010.jpg'\n",
      "Skipping D:/Datasets/Datasets/EPIC_Kitchen/RGB/P01_04\\frame_01020.jpg: name 'deft' is not defined\n",
      "Skipping D:/Datasets/Datasets/EPIC_Kitchen/Flow/P01_04\\frame_01020.jpg: [Errno 2] No such file or directory: 'D:\\\\Datasets\\\\Datasets\\\\EPIC_Kitchen\\\\Flow\\\\P01_04\\\\frame_01020.jpg'\n",
      "Skipping D:/Datasets/Datasets/EPIC_Kitchen/RGB/P01_04\\frame_01030.jpg: name 'deft' is not defined\n",
      "Skipping D:/Datasets/Datasets/EPIC_Kitchen/Flow/P01_04\\frame_01030.jpg: [Errno 2] No such file or directory: 'D:\\\\Datasets\\\\Datasets\\\\EPIC_Kitchen\\\\Flow\\\\P01_04\\\\frame_01030.jpg'\n"
     ]
    },
    {
     "name": "stderr",
     "output_type": "stream",
     "text": [
      "\r",
      "Processing RGB + Flow frames:  17%|████████▋                                         | 109/631 [00:02<00:12, 41.16it/s]"
     ]
    },
    {
     "name": "stdout",
     "output_type": "stream",
     "text": [
      "Skipping D:/Datasets/Datasets/EPIC_Kitchen/RGB/P01_04\\frame_01040.jpg: name 'deft' is not defined\n",
      "Skipping D:/Datasets/Datasets/EPIC_Kitchen/Flow/P01_04\\frame_01040.jpg: [Errno 2] No such file or directory: 'D:\\\\Datasets\\\\Datasets\\\\EPIC_Kitchen\\\\Flow\\\\P01_04\\\\frame_01040.jpg'\n",
      "Skipping D:/Datasets/Datasets/EPIC_Kitchen/RGB/P01_04\\frame_01050.jpg: name 'deft' is not defined\n",
      "Skipping D:/Datasets/Datasets/EPIC_Kitchen/Flow/P01_04\\frame_01050.jpg: [Errno 2] No such file or directory: 'D:\\\\Datasets\\\\Datasets\\\\EPIC_Kitchen\\\\Flow\\\\P01_04\\\\frame_01050.jpg'\n",
      "Skipping D:/Datasets/Datasets/EPIC_Kitchen/RGB/P01_04\\frame_01060.jpg: name 'deft' is not defined\n",
      "Skipping D:/Datasets/Datasets/EPIC_Kitchen/Flow/P01_04\\frame_01060.jpg: [Errno 2] No such file or directory: 'D:\\\\Datasets\\\\Datasets\\\\EPIC_Kitchen\\\\Flow\\\\P01_04\\\\frame_01060.jpg'\n",
      "Skipping D:/Datasets/Datasets/EPIC_Kitchen/RGB/P01_04\\frame_01070.jpg: name 'deft' is not defined\n",
      "Skipping D:/Datasets/Datasets/EPIC_Kitchen/Flow/P01_04\\frame_01070.jpg: [Errno 2] No such file or directory: 'D:\\\\Datasets\\\\Datasets\\\\EPIC_Kitchen\\\\Flow\\\\P01_04\\\\frame_01070.jpg'\n",
      "Skipping D:/Datasets/Datasets/EPIC_Kitchen/RGB/P01_04\\frame_01080.jpg: name 'deft' is not defined\n",
      "Skipping D:/Datasets/Datasets/EPIC_Kitchen/Flow/P01_04\\frame_01080.jpg: [Errno 2] No such file or directory: 'D:\\\\Datasets\\\\Datasets\\\\EPIC_Kitchen\\\\Flow\\\\P01_04\\\\frame_01080.jpg'\n",
      "Skipping D:/Datasets/Datasets/EPIC_Kitchen/RGB/P01_04\\frame_01090.jpg: name 'deft' is not defined\n",
      "Skipping D:/Datasets/Datasets/EPIC_Kitchen/Flow/P01_04\\frame_01090.jpg: [Errno 2] No such file or directory: 'D:\\\\Datasets\\\\Datasets\\\\EPIC_Kitchen\\\\Flow\\\\P01_04\\\\frame_01090.jpg'\n",
      "Skipping D:/Datasets/Datasets/EPIC_Kitchen/RGB/P01_04\\frame_01100.jpg: name 'deft' is not defined\n",
      "Skipping D:/Datasets/Datasets/EPIC_Kitchen/Flow/P01_04\\frame_01100.jpg: [Errno 2] No such file or directory: 'D:\\\\Datasets\\\\Datasets\\\\EPIC_Kitchen\\\\Flow\\\\P01_04\\\\frame_01100.jpg'\n",
      "Skipping D:/Datasets/Datasets/EPIC_Kitchen/RGB/P01_04\\frame_01110.jpg: name 'deft' is not defined\n",
      "Skipping D:/Datasets/Datasets/EPIC_Kitchen/Flow/P01_04\\frame_01110.jpg: [Errno 2] No such file or directory: 'D:\\\\Datasets\\\\Datasets\\\\EPIC_Kitchen\\\\Flow\\\\P01_04\\\\frame_01110.jpg'\n",
      "Skipping D:/Datasets/Datasets/EPIC_Kitchen/RGB/P01_04\\frame_01120.jpg: name 'deft' is not defined\n",
      "Skipping D:/Datasets/Datasets/EPIC_Kitchen/Flow/P01_04\\frame_01120.jpg: [Errno 2] No such file or directory: 'D:\\\\Datasets\\\\Datasets\\\\EPIC_Kitchen\\\\Flow\\\\P01_04\\\\frame_01120.jpg'\n"
     ]
    },
    {
     "name": "stderr",
     "output_type": "stream",
     "text": [
      "Processing RGB + Flow frames:  19%|█████████▍                                        | 119/631 [00:02<00:12, 41.74it/s]"
     ]
    },
    {
     "name": "stdout",
     "output_type": "stream",
     "text": [
      "Skipping D:/Datasets/Datasets/EPIC_Kitchen/RGB/P01_04\\frame_01130.jpg: name 'deft' is not defined\n",
      "Skipping D:/Datasets/Datasets/EPIC_Kitchen/Flow/P01_04\\frame_01130.jpg: [Errno 2] No such file or directory: 'D:\\\\Datasets\\\\Datasets\\\\EPIC_Kitchen\\\\Flow\\\\P01_04\\\\frame_01130.jpg'\n",
      "Skipping D:/Datasets/Datasets/EPIC_Kitchen/RGB/P01_04\\frame_01140.jpg: name 'deft' is not defined\n",
      "Skipping D:/Datasets/Datasets/EPIC_Kitchen/Flow/P01_04\\frame_01140.jpg: [Errno 2] No such file or directory: 'D:\\\\Datasets\\\\Datasets\\\\EPIC_Kitchen\\\\Flow\\\\P01_04\\\\frame_01140.jpg'\n",
      "Skipping D:/Datasets/Datasets/EPIC_Kitchen/RGB/P01_04\\frame_01150.jpg: name 'deft' is not defined\n",
      "Skipping D:/Datasets/Datasets/EPIC_Kitchen/Flow/P01_04\\frame_01150.jpg: [Errno 2] No such file or directory: 'D:\\\\Datasets\\\\Datasets\\\\EPIC_Kitchen\\\\Flow\\\\P01_04\\\\frame_01150.jpg'\n",
      "Skipping D:/Datasets/Datasets/EPIC_Kitchen/RGB/P01_04\\frame_01160.jpg: name 'deft' is not defined\n",
      "Skipping D:/Datasets/Datasets/EPIC_Kitchen/Flow/P01_04\\frame_01160.jpg: [Errno 2] No such file or directory: 'D:\\\\Datasets\\\\Datasets\\\\EPIC_Kitchen\\\\Flow\\\\P01_04\\\\frame_01160.jpg'\n",
      "Skipping D:/Datasets/Datasets/EPIC_Kitchen/RGB/P01_04\\frame_01170.jpg: name 'deft' is not defined\n",
      "Skipping D:/Datasets/Datasets/EPIC_Kitchen/Flow/P01_04\\frame_01170.jpg: [Errno 2] No such file or directory: 'D:\\\\Datasets\\\\Datasets\\\\EPIC_Kitchen\\\\Flow\\\\P01_04\\\\frame_01170.jpg'\n",
      "Skipping D:/Datasets/Datasets/EPIC_Kitchen/RGB/P01_04\\frame_01180.jpg: name 'deft' is not defined\n",
      "Skipping D:/Datasets/Datasets/EPIC_Kitchen/Flow/P01_04\\frame_01180.jpg: [Errno 2] No such file or directory: 'D:\\\\Datasets\\\\Datasets\\\\EPIC_Kitchen\\\\Flow\\\\P01_04\\\\frame_01180.jpg'\n",
      "Skipping D:/Datasets/Datasets/EPIC_Kitchen/RGB/P01_04\\frame_01190.jpg: name 'deft' is not defined\n",
      "Skipping D:/Datasets/Datasets/EPIC_Kitchen/Flow/P01_04\\frame_01190.jpg: [Errno 2] No such file or directory: 'D:\\\\Datasets\\\\Datasets\\\\EPIC_Kitchen\\\\Flow\\\\P01_04\\\\frame_01190.jpg'\n",
      "Skipping D:/Datasets/Datasets/EPIC_Kitchen/RGB/P01_04\\frame_01200.jpg: name 'deft' is not defined\n",
      "Skipping D:/Datasets/Datasets/EPIC_Kitchen/Flow/P01_04\\frame_01200.jpg: [Errno 2] No such file or directory: 'D:\\\\Datasets\\\\Datasets\\\\EPIC_Kitchen\\\\Flow\\\\P01_04\\\\frame_01200.jpg'\n",
      "Skipping D:/Datasets/Datasets/EPIC_Kitchen/RGB/P01_04\\frame_01210.jpg: name 'deft' is not defined\n",
      "Skipping D:/Datasets/Datasets/EPIC_Kitchen/Flow/P01_04\\frame_01210.jpg: [Errno 2] No such file or directory: 'D:\\\\Datasets\\\\Datasets\\\\EPIC_Kitchen\\\\Flow\\\\P01_04\\\\frame_01210.jpg'\n"
     ]
    },
    {
     "name": "stderr",
     "output_type": "stream",
     "text": [
      "Processing RGB + Flow frames:  20%|██████████▏                                       | 129/631 [00:03<00:12, 40.92it/s]"
     ]
    },
    {
     "name": "stdout",
     "output_type": "stream",
     "text": [
      "Skipping D:/Datasets/Datasets/EPIC_Kitchen/RGB/P01_04\\frame_01220.jpg: name 'deft' is not defined\n",
      "Skipping D:/Datasets/Datasets/EPIC_Kitchen/Flow/P01_04\\frame_01220.jpg: [Errno 2] No such file or directory: 'D:\\\\Datasets\\\\Datasets\\\\EPIC_Kitchen\\\\Flow\\\\P01_04\\\\frame_01220.jpg'\n",
      "Skipping D:/Datasets/Datasets/EPIC_Kitchen/RGB/P01_04\\frame_01230.jpg: name 'deft' is not defined\n",
      "Skipping D:/Datasets/Datasets/EPIC_Kitchen/Flow/P01_04\\frame_01230.jpg: [Errno 2] No such file or directory: 'D:\\\\Datasets\\\\Datasets\\\\EPIC_Kitchen\\\\Flow\\\\P01_04\\\\frame_01230.jpg'\n",
      "Skipping D:/Datasets/Datasets/EPIC_Kitchen/RGB/P01_04\\frame_01240.jpg: name 'deft' is not defined\n",
      "Skipping D:/Datasets/Datasets/EPIC_Kitchen/Flow/P01_04\\frame_01240.jpg: [Errno 2] No such file or directory: 'D:\\\\Datasets\\\\Datasets\\\\EPIC_Kitchen\\\\Flow\\\\P01_04\\\\frame_01240.jpg'\n",
      "Skipping D:/Datasets/Datasets/EPIC_Kitchen/RGB/P01_04\\frame_01250.jpg: name 'deft' is not defined\n",
      "Skipping D:/Datasets/Datasets/EPIC_Kitchen/Flow/P01_04\\frame_01250.jpg: [Errno 2] No such file or directory: 'D:\\\\Datasets\\\\Datasets\\\\EPIC_Kitchen\\\\Flow\\\\P01_04\\\\frame_01250.jpg'\n",
      "Skipping D:/Datasets/Datasets/EPIC_Kitchen/RGB/P01_04\\frame_01260.jpg: name 'deft' is not defined\n",
      "Skipping D:/Datasets/Datasets/EPIC_Kitchen/Flow/P01_04\\frame_01260.jpg: [Errno 2] No such file or directory: 'D:\\\\Datasets\\\\Datasets\\\\EPIC_Kitchen\\\\Flow\\\\P01_04\\\\frame_01260.jpg'\n",
      "Skipping D:/Datasets/Datasets/EPIC_Kitchen/RGB/P01_04\\frame_01270.jpg: name 'deft' is not defined\n",
      "Skipping D:/Datasets/Datasets/EPIC_Kitchen/Flow/P01_04\\frame_01270.jpg: [Errno 2] No such file or directory: 'D:\\\\Datasets\\\\Datasets\\\\EPIC_Kitchen\\\\Flow\\\\P01_04\\\\frame_01270.jpg'\n",
      "Skipping D:/Datasets/Datasets/EPIC_Kitchen/RGB/P01_04\\frame_01280.jpg: name 'deft' is not defined\n",
      "Skipping D:/Datasets/Datasets/EPIC_Kitchen/Flow/P01_04\\frame_01280.jpg: [Errno 2] No such file or directory: 'D:\\\\Datasets\\\\Datasets\\\\EPIC_Kitchen\\\\Flow\\\\P01_04\\\\frame_01280.jpg'\n",
      "Skipping D:/Datasets/Datasets/EPIC_Kitchen/RGB/P01_04\\frame_01290.jpg: name 'deft' is not defined\n",
      "Skipping D:/Datasets/Datasets/EPIC_Kitchen/Flow/P01_04\\frame_01290.jpg: [Errno 2] No such file or directory: 'D:\\\\Datasets\\\\Datasets\\\\EPIC_Kitchen\\\\Flow\\\\P01_04\\\\frame_01290.jpg'\n",
      "Skipping D:/Datasets/Datasets/EPIC_Kitchen/RGB/P01_04\\frame_01300.jpg: name 'deft' is not defined\n",
      "Skipping D:/Datasets/Datasets/EPIC_Kitchen/Flow/P01_04\\frame_01300.jpg: [Errno 2] No such file or directory: 'D:\\\\Datasets\\\\Datasets\\\\EPIC_Kitchen\\\\Flow\\\\P01_04\\\\frame_01300.jpg'\n"
     ]
    },
    {
     "name": "stderr",
     "output_type": "stream",
     "text": [
      "Processing RGB + Flow frames:  22%|███████████                                       | 139/631 [00:03<00:12, 40.75it/s]"
     ]
    },
    {
     "name": "stdout",
     "output_type": "stream",
     "text": [
      "Skipping D:/Datasets/Datasets/EPIC_Kitchen/RGB/P01_04\\frame_01310.jpg: name 'deft' is not defined\n",
      "Skipping D:/Datasets/Datasets/EPIC_Kitchen/Flow/P01_04\\frame_01310.jpg: [Errno 2] No such file or directory: 'D:\\\\Datasets\\\\Datasets\\\\EPIC_Kitchen\\\\Flow\\\\P01_04\\\\frame_01310.jpg'\n",
      "Skipping D:/Datasets/Datasets/EPIC_Kitchen/RGB/P01_04\\frame_01320.jpg: name 'deft' is not defined\n",
      "Skipping D:/Datasets/Datasets/EPIC_Kitchen/Flow/P01_04\\frame_01320.jpg: [Errno 2] No such file or directory: 'D:\\\\Datasets\\\\Datasets\\\\EPIC_Kitchen\\\\Flow\\\\P01_04\\\\frame_01320.jpg'\n",
      "Skipping D:/Datasets/Datasets/EPIC_Kitchen/RGB/P01_04\\frame_01330.jpg: name 'deft' is not defined\n",
      "Skipping D:/Datasets/Datasets/EPIC_Kitchen/Flow/P01_04\\frame_01330.jpg: [Errno 2] No such file or directory: 'D:\\\\Datasets\\\\Datasets\\\\EPIC_Kitchen\\\\Flow\\\\P01_04\\\\frame_01330.jpg'\n",
      "Skipping D:/Datasets/Datasets/EPIC_Kitchen/RGB/P01_04\\frame_01340.jpg: name 'deft' is not defined\n",
      "Skipping D:/Datasets/Datasets/EPIC_Kitchen/Flow/P01_04\\frame_01340.jpg: [Errno 2] No such file or directory: 'D:\\\\Datasets\\\\Datasets\\\\EPIC_Kitchen\\\\Flow\\\\P01_04\\\\frame_01340.jpg'\n",
      "Skipping D:/Datasets/Datasets/EPIC_Kitchen/RGB/P01_04\\frame_01350.jpg: name 'deft' is not defined\n",
      "Skipping D:/Datasets/Datasets/EPIC_Kitchen/Flow/P01_04\\frame_01350.jpg: [Errno 2] No such file or directory: 'D:\\\\Datasets\\\\Datasets\\\\EPIC_Kitchen\\\\Flow\\\\P01_04\\\\frame_01350.jpg'\n",
      "Skipping D:/Datasets/Datasets/EPIC_Kitchen/RGB/P01_04\\frame_01360.jpg: name 'deft' is not defined\n",
      "Skipping D:/Datasets/Datasets/EPIC_Kitchen/Flow/P01_04\\frame_01360.jpg: [Errno 2] No such file or directory: 'D:\\\\Datasets\\\\Datasets\\\\EPIC_Kitchen\\\\Flow\\\\P01_04\\\\frame_01360.jpg'\n",
      "Skipping D:/Datasets/Datasets/EPIC_Kitchen/RGB/P01_04\\frame_01370.jpg: name 'deft' is not defined\n",
      "Skipping D:/Datasets/Datasets/EPIC_Kitchen/Flow/P01_04\\frame_01370.jpg: [Errno 2] No such file or directory: 'D:\\\\Datasets\\\\Datasets\\\\EPIC_Kitchen\\\\Flow\\\\P01_04\\\\frame_01370.jpg'\n",
      "Skipping D:/Datasets/Datasets/EPIC_Kitchen/RGB/P01_04\\frame_01380.jpg: name 'deft' is not defined\n",
      "Skipping D:/Datasets/Datasets/EPIC_Kitchen/Flow/P01_04\\frame_01380.jpg: [Errno 2] No such file or directory: 'D:\\\\Datasets\\\\Datasets\\\\EPIC_Kitchen\\\\Flow\\\\P01_04\\\\frame_01380.jpg'\n",
      "Skipping D:/Datasets/Datasets/EPIC_Kitchen/RGB/P01_04\\frame_01390.jpg: name 'deft' is not defined\n",
      "Skipping D:/Datasets/Datasets/EPIC_Kitchen/Flow/P01_04\\frame_01390.jpg: [Errno 2] No such file or directory: 'D:\\\\Datasets\\\\Datasets\\\\EPIC_Kitchen\\\\Flow\\\\P01_04\\\\frame_01390.jpg'\n"
     ]
    },
    {
     "name": "stderr",
     "output_type": "stream",
     "text": [
      "Processing RGB + Flow frames:  24%|███████████▊                                      | 149/631 [00:03<00:11, 40.18it/s]"
     ]
    },
    {
     "name": "stdout",
     "output_type": "stream",
     "text": [
      "Skipping D:/Datasets/Datasets/EPIC_Kitchen/RGB/P01_04\\frame_01400.jpg: name 'deft' is not defined\n",
      "Skipping D:/Datasets/Datasets/EPIC_Kitchen/Flow/P01_04\\frame_01400.jpg: [Errno 2] No such file or directory: 'D:\\\\Datasets\\\\Datasets\\\\EPIC_Kitchen\\\\Flow\\\\P01_04\\\\frame_01400.jpg'\n",
      "Skipping D:/Datasets/Datasets/EPIC_Kitchen/RGB/P01_04\\frame_01410.jpg: name 'deft' is not defined\n",
      "Skipping D:/Datasets/Datasets/EPIC_Kitchen/Flow/P01_04\\frame_01410.jpg: [Errno 2] No such file or directory: 'D:\\\\Datasets\\\\Datasets\\\\EPIC_Kitchen\\\\Flow\\\\P01_04\\\\frame_01410.jpg'\n",
      "Skipping D:/Datasets/Datasets/EPIC_Kitchen/RGB/P01_04\\frame_01420.jpg: name 'deft' is not defined\n",
      "Skipping D:/Datasets/Datasets/EPIC_Kitchen/Flow/P01_04\\frame_01420.jpg: [Errno 2] No such file or directory: 'D:\\\\Datasets\\\\Datasets\\\\EPIC_Kitchen\\\\Flow\\\\P01_04\\\\frame_01420.jpg'\n",
      "Skipping D:/Datasets/Datasets/EPIC_Kitchen/RGB/P01_04\\frame_01430.jpg: name 'deft' is not defined\n",
      "Skipping D:/Datasets/Datasets/EPIC_Kitchen/Flow/P01_04\\frame_01430.jpg: [Errno 2] No such file or directory: 'D:\\\\Datasets\\\\Datasets\\\\EPIC_Kitchen\\\\Flow\\\\P01_04\\\\frame_01430.jpg'\n",
      "Skipping D:/Datasets/Datasets/EPIC_Kitchen/RGB/P01_04\\frame_01440.jpg: name 'deft' is not defined\n",
      "Skipping D:/Datasets/Datasets/EPIC_Kitchen/Flow/P01_04\\frame_01440.jpg: [Errno 2] No such file or directory: 'D:\\\\Datasets\\\\Datasets\\\\EPIC_Kitchen\\\\Flow\\\\P01_04\\\\frame_01440.jpg'\n",
      "Skipping D:/Datasets/Datasets/EPIC_Kitchen/RGB/P01_04\\frame_01450.jpg: name 'deft' is not defined\n",
      "Skipping D:/Datasets/Datasets/EPIC_Kitchen/Flow/P01_04\\frame_01450.jpg: [Errno 2] No such file or directory: 'D:\\\\Datasets\\\\Datasets\\\\EPIC_Kitchen\\\\Flow\\\\P01_04\\\\frame_01450.jpg'\n",
      "Skipping D:/Datasets/Datasets/EPIC_Kitchen/RGB/P01_04\\frame_01460.jpg: name 'deft' is not defined\n",
      "Skipping D:/Datasets/Datasets/EPIC_Kitchen/Flow/P01_04\\frame_01460.jpg: [Errno 2] No such file or directory: 'D:\\\\Datasets\\\\Datasets\\\\EPIC_Kitchen\\\\Flow\\\\P01_04\\\\frame_01460.jpg'\n",
      "Skipping D:/Datasets/Datasets/EPIC_Kitchen/RGB/P01_04\\frame_01470.jpg: name 'deft' is not defined\n",
      "Skipping D:/Datasets/Datasets/EPIC_Kitchen/Flow/P01_04\\frame_01470.jpg: [Errno 2] No such file or directory: 'D:\\\\Datasets\\\\Datasets\\\\EPIC_Kitchen\\\\Flow\\\\P01_04\\\\frame_01470.jpg'\n",
      "Skipping D:/Datasets/Datasets/EPIC_Kitchen/RGB/P01_04\\frame_01480.jpg: name 'deft' is not defined\n",
      "Skipping D:/Datasets/Datasets/EPIC_Kitchen/Flow/P01_04\\frame_01480.jpg: [Errno 2] No such file or directory: 'D:\\\\Datasets\\\\Datasets\\\\EPIC_Kitchen\\\\Flow\\\\P01_04\\\\frame_01480.jpg'\n"
     ]
    },
    {
     "name": "stderr",
     "output_type": "stream",
     "text": [
      "\r",
      "Processing RGB + Flow frames:  24%|████████████▏                                     | 154/631 [00:03<00:12, 39.47it/s]"
     ]
    },
    {
     "name": "stdout",
     "output_type": "stream",
     "text": [
      "Skipping D:/Datasets/Datasets/EPIC_Kitchen/RGB/P01_04\\frame_01490.jpg: name 'deft' is not defined\n",
      "Skipping D:/Datasets/Datasets/EPIC_Kitchen/Flow/P01_04\\frame_01490.jpg: [Errno 2] No such file or directory: 'D:\\\\Datasets\\\\Datasets\\\\EPIC_Kitchen\\\\Flow\\\\P01_04\\\\frame_01490.jpg'\n",
      "Skipping D:/Datasets/Datasets/EPIC_Kitchen/RGB/P01_04\\frame_01500.jpg: name 'deft' is not defined\n",
      "Skipping D:/Datasets/Datasets/EPIC_Kitchen/Flow/P01_04\\frame_01500.jpg: [Errno 2] No such file or directory: 'D:\\\\Datasets\\\\Datasets\\\\EPIC_Kitchen\\\\Flow\\\\P01_04\\\\frame_01500.jpg'\n",
      "Skipping D:/Datasets/Datasets/EPIC_Kitchen/RGB/P01_04\\frame_01510.jpg: name 'deft' is not defined\n",
      "Skipping D:/Datasets/Datasets/EPIC_Kitchen/Flow/P01_04\\frame_01510.jpg: [Errno 2] No such file or directory: 'D:\\\\Datasets\\\\Datasets\\\\EPIC_Kitchen\\\\Flow\\\\P01_04\\\\frame_01510.jpg'\n",
      "Skipping D:/Datasets/Datasets/EPIC_Kitchen/RGB/P01_04\\frame_01520.jpg: name 'deft' is not defined\n",
      "Skipping D:/Datasets/Datasets/EPIC_Kitchen/Flow/P01_04\\frame_01520.jpg: [Errno 2] No such file or directory: 'D:\\\\Datasets\\\\Datasets\\\\EPIC_Kitchen\\\\Flow\\\\P01_04\\\\frame_01520.jpg'\n",
      "Skipping D:/Datasets/Datasets/EPIC_Kitchen/RGB/P01_04\\frame_01530.jpg: name 'deft' is not defined\n",
      "Skipping D:/Datasets/Datasets/EPIC_Kitchen/Flow/P01_04\\frame_01530.jpg: [Errno 2] No such file or directory: 'D:\\\\Datasets\\\\Datasets\\\\EPIC_Kitchen\\\\Flow\\\\P01_04\\\\frame_01530.jpg'\n",
      "Skipping D:/Datasets/Datasets/EPIC_Kitchen/RGB/P01_04\\frame_01540.jpg: name 'deft' is not defined\n",
      "Skipping D:/Datasets/Datasets/EPIC_Kitchen/Flow/P01_04\\frame_01540.jpg: [Errno 2] No such file or directory: 'D:\\\\Datasets\\\\Datasets\\\\EPIC_Kitchen\\\\Flow\\\\P01_04\\\\frame_01540.jpg'\n",
      "Skipping D:/Datasets/Datasets/EPIC_Kitchen/RGB/P01_04\\frame_01550.jpg: name 'deft' is not defined\n",
      "Skipping D:/Datasets/Datasets/EPIC_Kitchen/Flow/P01_04\\frame_01550.jpg: [Errno 2] No such file or directory: 'D:\\\\Datasets\\\\Datasets\\\\EPIC_Kitchen\\\\Flow\\\\P01_04\\\\frame_01550.jpg'\n",
      "Skipping D:/Datasets/Datasets/EPIC_Kitchen/RGB/P01_04\\frame_01560.jpg: name 'deft' is not defined\n",
      "Skipping D:/Datasets/Datasets/EPIC_Kitchen/Flow/P01_04\\frame_01560.jpg: [Errno 2] No such file or directory: 'D:\\\\Datasets\\\\Datasets\\\\EPIC_Kitchen\\\\Flow\\\\P01_04\\\\frame_01560.jpg'\n"
     ]
    },
    {
     "name": "stderr",
     "output_type": "stream",
     "text": [
      "Processing RGB + Flow frames:  26%|████████████▉                                     | 163/631 [00:04<00:12, 38.87it/s]"
     ]
    },
    {
     "name": "stdout",
     "output_type": "stream",
     "text": [
      "Skipping D:/Datasets/Datasets/EPIC_Kitchen/RGB/P01_04\\frame_01570.jpg: name 'deft' is not defined\n",
      "Skipping D:/Datasets/Datasets/EPIC_Kitchen/Flow/P01_04\\frame_01570.jpg: [Errno 2] No such file or directory: 'D:\\\\Datasets\\\\Datasets\\\\EPIC_Kitchen\\\\Flow\\\\P01_04\\\\frame_01570.jpg'\n",
      "Skipping D:/Datasets/Datasets/EPIC_Kitchen/RGB/P01_04\\frame_01580.jpg: name 'deft' is not defined\n",
      "Skipping D:/Datasets/Datasets/EPIC_Kitchen/Flow/P01_04\\frame_01580.jpg: [Errno 2] No such file or directory: 'D:\\\\Datasets\\\\Datasets\\\\EPIC_Kitchen\\\\Flow\\\\P01_04\\\\frame_01580.jpg'\n",
      "Skipping D:/Datasets/Datasets/EPIC_Kitchen/RGB/P01_04\\frame_01590.jpg: name 'deft' is not defined\n",
      "Skipping D:/Datasets/Datasets/EPIC_Kitchen/Flow/P01_04\\frame_01590.jpg: [Errno 2] No such file or directory: 'D:\\\\Datasets\\\\Datasets\\\\EPIC_Kitchen\\\\Flow\\\\P01_04\\\\frame_01590.jpg'\n",
      "Skipping D:/Datasets/Datasets/EPIC_Kitchen/RGB/P01_04\\frame_01600.jpg: name 'deft' is not defined\n",
      "Skipping D:/Datasets/Datasets/EPIC_Kitchen/Flow/P01_04\\frame_01600.jpg: [Errno 2] No such file or directory: 'D:\\\\Datasets\\\\Datasets\\\\EPIC_Kitchen\\\\Flow\\\\P01_04\\\\frame_01600.jpg'\n",
      "Skipping D:/Datasets/Datasets/EPIC_Kitchen/RGB/P01_04\\frame_01610.jpg: name 'deft' is not defined\n",
      "Skipping D:/Datasets/Datasets/EPIC_Kitchen/Flow/P01_04\\frame_01610.jpg: [Errno 2] No such file or directory: 'D:\\\\Datasets\\\\Datasets\\\\EPIC_Kitchen\\\\Flow\\\\P01_04\\\\frame_01610.jpg'\n",
      "Skipping D:/Datasets/Datasets/EPIC_Kitchen/RGB/P01_04\\frame_01620.jpg: name 'deft' is not defined\n",
      "Skipping D:/Datasets/Datasets/EPIC_Kitchen/Flow/P01_04\\frame_01620.jpg: [Errno 2] No such file or directory: 'D:\\\\Datasets\\\\Datasets\\\\EPIC_Kitchen\\\\Flow\\\\P01_04\\\\frame_01620.jpg'\n",
      "Skipping D:/Datasets/Datasets/EPIC_Kitchen/RGB/P01_04\\frame_01630.jpg: name 'deft' is not defined\n",
      "Skipping D:/Datasets/Datasets/EPIC_Kitchen/Flow/P01_04\\frame_01630.jpg: [Errno 2] No such file or directory: 'D:\\\\Datasets\\\\Datasets\\\\EPIC_Kitchen\\\\Flow\\\\P01_04\\\\frame_01630.jpg'\n",
      "Skipping D:/Datasets/Datasets/EPIC_Kitchen/RGB/P01_04\\frame_01640.jpg: name 'deft' is not defined\n",
      "Skipping D:/Datasets/Datasets/EPIC_Kitchen/Flow/P01_04\\frame_01640.jpg: [Errno 2] No such file or directory: 'D:\\\\Datasets\\\\Datasets\\\\EPIC_Kitchen\\\\Flow\\\\P01_04\\\\frame_01640.jpg'\n",
      "Skipping D:/Datasets/Datasets/EPIC_Kitchen/RGB/P01_04\\frame_01650.jpg: name 'deft' is not defined\n",
      "Skipping D:/Datasets/Datasets/EPIC_Kitchen/Flow/P01_04\\frame_01650.jpg: [Errno 2] No such file or directory: 'D:\\\\Datasets\\\\Datasets\\\\EPIC_Kitchen\\\\Flow\\\\P01_04\\\\frame_01650.jpg'\n"
     ]
    },
    {
     "name": "stderr",
     "output_type": "stream",
     "text": [
      "Processing RGB + Flow frames:  27%|█████████████▋                                    | 172/631 [00:04<00:11, 39.38it/s]"
     ]
    },
    {
     "name": "stdout",
     "output_type": "stream",
     "text": [
      "Skipping D:/Datasets/Datasets/EPIC_Kitchen/RGB/P01_04\\frame_01660.jpg: name 'deft' is not defined\n",
      "Skipping D:/Datasets/Datasets/EPIC_Kitchen/Flow/P01_04\\frame_01660.jpg: [Errno 2] No such file or directory: 'D:\\\\Datasets\\\\Datasets\\\\EPIC_Kitchen\\\\Flow\\\\P01_04\\\\frame_01660.jpg'\n",
      "Skipping D:/Datasets/Datasets/EPIC_Kitchen/RGB/P01_04\\frame_01670.jpg: name 'deft' is not defined\n",
      "Skipping D:/Datasets/Datasets/EPIC_Kitchen/Flow/P01_04\\frame_01670.jpg: [Errno 2] No such file or directory: 'D:\\\\Datasets\\\\Datasets\\\\EPIC_Kitchen\\\\Flow\\\\P01_04\\\\frame_01670.jpg'\n",
      "Skipping D:/Datasets/Datasets/EPIC_Kitchen/RGB/P01_04\\frame_01680.jpg: name 'deft' is not defined\n",
      "Skipping D:/Datasets/Datasets/EPIC_Kitchen/Flow/P01_04\\frame_01680.jpg: [Errno 2] No such file or directory: 'D:\\\\Datasets\\\\Datasets\\\\EPIC_Kitchen\\\\Flow\\\\P01_04\\\\frame_01680.jpg'\n",
      "Skipping D:/Datasets/Datasets/EPIC_Kitchen/RGB/P01_04\\frame_01690.jpg: name 'deft' is not defined\n",
      "Skipping D:/Datasets/Datasets/EPIC_Kitchen/Flow/P01_04\\frame_01690.jpg: [Errno 2] No such file or directory: 'D:\\\\Datasets\\\\Datasets\\\\EPIC_Kitchen\\\\Flow\\\\P01_04\\\\frame_01690.jpg'\n",
      "Skipping D:/Datasets/Datasets/EPIC_Kitchen/RGB/P01_04\\frame_01700.jpg: name 'deft' is not defined\n",
      "Skipping D:/Datasets/Datasets/EPIC_Kitchen/Flow/P01_04\\frame_01700.jpg: [Errno 2] No such file or directory: 'D:\\\\Datasets\\\\Datasets\\\\EPIC_Kitchen\\\\Flow\\\\P01_04\\\\frame_01700.jpg'\n",
      "Skipping D:/Datasets/Datasets/EPIC_Kitchen/RGB/P01_04\\frame_01710.jpg: name 'deft' is not defined\n",
      "Skipping D:/Datasets/Datasets/EPIC_Kitchen/Flow/P01_04\\frame_01710.jpg: [Errno 2] No such file or directory: 'D:\\\\Datasets\\\\Datasets\\\\EPIC_Kitchen\\\\Flow\\\\P01_04\\\\frame_01710.jpg'\n",
      "Skipping D:/Datasets/Datasets/EPIC_Kitchen/RGB/P01_04\\frame_01720.jpg: name 'deft' is not defined\n",
      "Skipping D:/Datasets/Datasets/EPIC_Kitchen/Flow/P01_04\\frame_01720.jpg: [Errno 2] No such file or directory: 'D:\\\\Datasets\\\\Datasets\\\\EPIC_Kitchen\\\\Flow\\\\P01_04\\\\frame_01720.jpg'\n",
      "Skipping D:/Datasets/Datasets/EPIC_Kitchen/RGB/P01_04\\frame_01730.jpg: name 'deft' is not defined\n",
      "Skipping D:/Datasets/Datasets/EPIC_Kitchen/Flow/P01_04\\frame_01730.jpg: [Errno 2] No such file or directory: 'D:\\\\Datasets\\\\Datasets\\\\EPIC_Kitchen\\\\Flow\\\\P01_04\\\\frame_01730.jpg'\n",
      "Skipping D:/Datasets/Datasets/EPIC_Kitchen/RGB/P01_04\\frame_01740.jpg: name 'deft' is not defined\n",
      "Skipping D:/Datasets/Datasets/EPIC_Kitchen/Flow/P01_04\\frame_01740.jpg: [Errno 2] No such file or directory: 'D:\\\\Datasets\\\\Datasets\\\\EPIC_Kitchen\\\\Flow\\\\P01_04\\\\frame_01740.jpg'\n"
     ]
    },
    {
     "name": "stderr",
     "output_type": "stream",
     "text": [
      "Processing RGB + Flow frames:  29%|██████████████▍                                   | 182/631 [00:04<00:11, 40.26it/s]"
     ]
    },
    {
     "name": "stdout",
     "output_type": "stream",
     "text": [
      "Skipping D:/Datasets/Datasets/EPIC_Kitchen/RGB/P01_04\\frame_01750.jpg: name 'deft' is not defined\n",
      "Skipping D:/Datasets/Datasets/EPIC_Kitchen/Flow/P01_04\\frame_01750.jpg: [Errno 2] No such file or directory: 'D:\\\\Datasets\\\\Datasets\\\\EPIC_Kitchen\\\\Flow\\\\P01_04\\\\frame_01750.jpg'\n",
      "Skipping D:/Datasets/Datasets/EPIC_Kitchen/RGB/P01_04\\frame_01760.jpg: name 'deft' is not defined\n",
      "Skipping D:/Datasets/Datasets/EPIC_Kitchen/Flow/P01_04\\frame_01760.jpg: [Errno 2] No such file or directory: 'D:\\\\Datasets\\\\Datasets\\\\EPIC_Kitchen\\\\Flow\\\\P01_04\\\\frame_01760.jpg'\n",
      "Skipping D:/Datasets/Datasets/EPIC_Kitchen/RGB/P01_04\\frame_01770.jpg: name 'deft' is not defined\n",
      "Skipping D:/Datasets/Datasets/EPIC_Kitchen/Flow/P01_04\\frame_01770.jpg: [Errno 2] No such file or directory: 'D:\\\\Datasets\\\\Datasets\\\\EPIC_Kitchen\\\\Flow\\\\P01_04\\\\frame_01770.jpg'\n",
      "Skipping D:/Datasets/Datasets/EPIC_Kitchen/RGB/P01_04\\frame_01780.jpg: name 'deft' is not defined\n",
      "Skipping D:/Datasets/Datasets/EPIC_Kitchen/Flow/P01_04\\frame_01780.jpg: [Errno 2] No such file or directory: 'D:\\\\Datasets\\\\Datasets\\\\EPIC_Kitchen\\\\Flow\\\\P01_04\\\\frame_01780.jpg'\n",
      "Skipping D:/Datasets/Datasets/EPIC_Kitchen/RGB/P01_04\\frame_01790.jpg: name 'deft' is not defined\n",
      "Skipping D:/Datasets/Datasets/EPIC_Kitchen/Flow/P01_04\\frame_01790.jpg: [Errno 2] No such file or directory: 'D:\\\\Datasets\\\\Datasets\\\\EPIC_Kitchen\\\\Flow\\\\P01_04\\\\frame_01790.jpg'\n",
      "Skipping D:/Datasets/Datasets/EPIC_Kitchen/RGB/P01_04\\frame_01800.jpg: name 'deft' is not defined\n",
      "Skipping D:/Datasets/Datasets/EPIC_Kitchen/Flow/P01_04\\frame_01800.jpg: [Errno 2] No such file or directory: 'D:\\\\Datasets\\\\Datasets\\\\EPIC_Kitchen\\\\Flow\\\\P01_04\\\\frame_01800.jpg'\n",
      "Skipping D:/Datasets/Datasets/EPIC_Kitchen/RGB/P01_04\\frame_01810.jpg: name 'deft' is not defined\n",
      "Skipping D:/Datasets/Datasets/EPIC_Kitchen/Flow/P01_04\\frame_01810.jpg: [Errno 2] No such file or directory: 'D:\\\\Datasets\\\\Datasets\\\\EPIC_Kitchen\\\\Flow\\\\P01_04\\\\frame_01810.jpg'\n",
      "Skipping D:/Datasets/Datasets/EPIC_Kitchen/RGB/P01_04\\frame_01820.jpg: name 'deft' is not defined\n",
      "Skipping D:/Datasets/Datasets/EPIC_Kitchen/Flow/P01_04\\frame_01820.jpg: [Errno 2] No such file or directory: 'D:\\\\Datasets\\\\Datasets\\\\EPIC_Kitchen\\\\Flow\\\\P01_04\\\\frame_01820.jpg'\n"
     ]
    },
    {
     "name": "stderr",
     "output_type": "stream",
     "text": [
      "Processing RGB + Flow frames:  30%|███████████████▏                                  | 192/631 [00:04<00:10, 39.97it/s]"
     ]
    },
    {
     "name": "stdout",
     "output_type": "stream",
     "text": [
      "Skipping D:/Datasets/Datasets/EPIC_Kitchen/RGB/P01_04\\frame_01830.jpg: name 'deft' is not defined\n",
      "Skipping D:/Datasets/Datasets/EPIC_Kitchen/Flow/P01_04\\frame_01830.jpg: [Errno 2] No such file or directory: 'D:\\\\Datasets\\\\Datasets\\\\EPIC_Kitchen\\\\Flow\\\\P01_04\\\\frame_01830.jpg'\n",
      "Skipping D:/Datasets/Datasets/EPIC_Kitchen/RGB/P01_04\\frame_01840.jpg: name 'deft' is not defined\n",
      "Skipping D:/Datasets/Datasets/EPIC_Kitchen/Flow/P01_04\\frame_01840.jpg: [Errno 2] No such file or directory: 'D:\\\\Datasets\\\\Datasets\\\\EPIC_Kitchen\\\\Flow\\\\P01_04\\\\frame_01840.jpg'\n",
      "Skipping D:/Datasets/Datasets/EPIC_Kitchen/RGB/P01_04\\frame_01850.jpg: name 'deft' is not defined\n",
      "Skipping D:/Datasets/Datasets/EPIC_Kitchen/Flow/P01_04\\frame_01850.jpg: [Errno 2] No such file or directory: 'D:\\\\Datasets\\\\Datasets\\\\EPIC_Kitchen\\\\Flow\\\\P01_04\\\\frame_01850.jpg'\n",
      "Skipping D:/Datasets/Datasets/EPIC_Kitchen/RGB/P01_04\\frame_01860.jpg: name 'deft' is not defined\n",
      "Skipping D:/Datasets/Datasets/EPIC_Kitchen/Flow/P01_04\\frame_01860.jpg: [Errno 2] No such file or directory: 'D:\\\\Datasets\\\\Datasets\\\\EPIC_Kitchen\\\\Flow\\\\P01_04\\\\frame_01860.jpg'\n",
      "Skipping D:/Datasets/Datasets/EPIC_Kitchen/RGB/P01_04\\frame_01870.jpg: name 'deft' is not defined\n",
      "Skipping D:/Datasets/Datasets/EPIC_Kitchen/Flow/P01_04\\frame_01870.jpg: [Errno 2] No such file or directory: 'D:\\\\Datasets\\\\Datasets\\\\EPIC_Kitchen\\\\Flow\\\\P01_04\\\\frame_01870.jpg'\n",
      "Skipping D:/Datasets/Datasets/EPIC_Kitchen/RGB/P01_04\\frame_01880.jpg: name 'deft' is not defined\n",
      "Skipping D:/Datasets/Datasets/EPIC_Kitchen/Flow/P01_04\\frame_01880.jpg: [Errno 2] No such file or directory: 'D:\\\\Datasets\\\\Datasets\\\\EPIC_Kitchen\\\\Flow\\\\P01_04\\\\frame_01880.jpg'\n",
      "Skipping D:/Datasets/Datasets/EPIC_Kitchen/RGB/P01_04\\frame_01890.jpg: name 'deft' is not defined\n",
      "Skipping D:/Datasets/Datasets/EPIC_Kitchen/Flow/P01_04\\frame_01890.jpg: [Errno 2] No such file or directory: 'D:\\\\Datasets\\\\Datasets\\\\EPIC_Kitchen\\\\Flow\\\\P01_04\\\\frame_01890.jpg'\n",
      "Skipping D:/Datasets/Datasets/EPIC_Kitchen/RGB/P01_04\\frame_01900.jpg: name 'deft' is not defined\n",
      "Skipping D:/Datasets/Datasets/EPIC_Kitchen/Flow/P01_04\\frame_01900.jpg: [Errno 2] No such file or directory: 'D:\\\\Datasets\\\\Datasets\\\\EPIC_Kitchen\\\\Flow\\\\P01_04\\\\frame_01900.jpg'\n",
      "Skipping D:/Datasets/Datasets/EPIC_Kitchen/RGB/P01_04\\frame_01910.jpg: name 'deft' is not defined\n",
      "Skipping D:/Datasets/Datasets/EPIC_Kitchen/Flow/P01_04\\frame_01910.jpg: [Errno 2] No such file or directory: 'D:\\\\Datasets\\\\Datasets\\\\EPIC_Kitchen\\\\Flow\\\\P01_04\\\\frame_01910.jpg'\n"
     ]
    },
    {
     "name": "stderr",
     "output_type": "stream",
     "text": [
      "\r",
      "Processing RGB + Flow frames:  31%|███████████████▌                                  | 196/631 [00:04<00:11, 38.57it/s]"
     ]
    },
    {
     "name": "stdout",
     "output_type": "stream",
     "text": [
      "Skipping D:/Datasets/Datasets/EPIC_Kitchen/RGB/P01_04\\frame_01920.jpg: name 'deft' is not defined\n",
      "Skipping D:/Datasets/Datasets/EPIC_Kitchen/Flow/P01_04\\frame_01920.jpg: [Errno 2] No such file or directory: 'D:\\\\Datasets\\\\Datasets\\\\EPIC_Kitchen\\\\Flow\\\\P01_04\\\\frame_01920.jpg'\n",
      "Skipping D:/Datasets/Datasets/EPIC_Kitchen/RGB/P01_04\\frame_01930.jpg: name 'deft' is not defined\n",
      "Skipping D:/Datasets/Datasets/EPIC_Kitchen/Flow/P01_04\\frame_01930.jpg: [Errno 2] No such file or directory: 'D:\\\\Datasets\\\\Datasets\\\\EPIC_Kitchen\\\\Flow\\\\P01_04\\\\frame_01930.jpg'\n",
      "Skipping D:/Datasets/Datasets/EPIC_Kitchen/RGB/P01_04\\frame_01940.jpg: name 'deft' is not defined\n",
      "Skipping D:/Datasets/Datasets/EPIC_Kitchen/Flow/P01_04\\frame_01940.jpg: [Errno 2] No such file or directory: 'D:\\\\Datasets\\\\Datasets\\\\EPIC_Kitchen\\\\Flow\\\\P01_04\\\\frame_01940.jpg'\n",
      "Skipping D:/Datasets/Datasets/EPIC_Kitchen/RGB/P01_04\\frame_01950.jpg: name 'deft' is not defined\n",
      "Skipping D:/Datasets/Datasets/EPIC_Kitchen/Flow/P01_04\\frame_01950.jpg: [Errno 2] No such file or directory: 'D:\\\\Datasets\\\\Datasets\\\\EPIC_Kitchen\\\\Flow\\\\P01_04\\\\frame_01950.jpg'\n",
      "Skipping D:/Datasets/Datasets/EPIC_Kitchen/RGB/P01_04\\frame_01960.jpg: name 'deft' is not defined\n",
      "Skipping D:/Datasets/Datasets/EPIC_Kitchen/Flow/P01_04\\frame_01960.jpg: [Errno 2] No such file or directory: 'D:\\\\Datasets\\\\Datasets\\\\EPIC_Kitchen\\\\Flow\\\\P01_04\\\\frame_01960.jpg'\n",
      "Skipping D:/Datasets/Datasets/EPIC_Kitchen/RGB/P01_04\\frame_01970.jpg: name 'deft' is not defined\n",
      "Skipping D:/Datasets/Datasets/EPIC_Kitchen/Flow/P01_04\\frame_01970.jpg: [Errno 2] No such file or directory: 'D:\\\\Datasets\\\\Datasets\\\\EPIC_Kitchen\\\\Flow\\\\P01_04\\\\frame_01970.jpg'\n",
      "Skipping D:/Datasets/Datasets/EPIC_Kitchen/RGB/P01_04\\frame_01980.jpg: name 'deft' is not defined\n",
      "Skipping D:/Datasets/Datasets/EPIC_Kitchen/Flow/P01_04\\frame_01980.jpg: [Errno 2] No such file or directory: 'D:\\\\Datasets\\\\Datasets\\\\EPIC_Kitchen\\\\Flow\\\\P01_04\\\\frame_01980.jpg'\n",
      "Skipping D:/Datasets/Datasets/EPIC_Kitchen/RGB/P01_04\\frame_01990.jpg: name 'deft' is not defined\n",
      "Skipping D:/Datasets/Datasets/EPIC_Kitchen/Flow/P01_04\\frame_01990.jpg: [Errno 2] No such file or directory: 'D:\\\\Datasets\\\\Datasets\\\\EPIC_Kitchen\\\\Flow\\\\P01_04\\\\frame_01990.jpg'\n"
     ]
    },
    {
     "name": "stderr",
     "output_type": "stream",
     "text": [
      "Processing RGB + Flow frames:  33%|████████████████▎                                 | 206/631 [00:05<00:10, 40.45it/s]"
     ]
    },
    {
     "name": "stdout",
     "output_type": "stream",
     "text": [
      "Skipping D:/Datasets/Datasets/EPIC_Kitchen/RGB/P01_04\\frame_02000.jpg: name 'deft' is not defined\n",
      "Skipping D:/Datasets/Datasets/EPIC_Kitchen/Flow/P01_04\\frame_02000.jpg: [Errno 2] No such file or directory: 'D:\\\\Datasets\\\\Datasets\\\\EPIC_Kitchen\\\\Flow\\\\P01_04\\\\frame_02000.jpg'\n",
      "Skipping D:/Datasets/Datasets/EPIC_Kitchen/RGB/P01_04\\frame_02010.jpg: name 'deft' is not defined\n",
      "Skipping D:/Datasets/Datasets/EPIC_Kitchen/Flow/P01_04\\frame_02010.jpg: [Errno 2] No such file or directory: 'D:\\\\Datasets\\\\Datasets\\\\EPIC_Kitchen\\\\Flow\\\\P01_04\\\\frame_02010.jpg'\n",
      "Skipping D:/Datasets/Datasets/EPIC_Kitchen/RGB/P01_04\\frame_02020.jpg: name 'deft' is not defined\n",
      "Skipping D:/Datasets/Datasets/EPIC_Kitchen/Flow/P01_04\\frame_02020.jpg: [Errno 2] No such file or directory: 'D:\\\\Datasets\\\\Datasets\\\\EPIC_Kitchen\\\\Flow\\\\P01_04\\\\frame_02020.jpg'\n",
      "Skipping D:/Datasets/Datasets/EPIC_Kitchen/RGB/P01_04\\frame_02030.jpg: name 'deft' is not defined\n",
      "Skipping D:/Datasets/Datasets/EPIC_Kitchen/Flow/P01_04\\frame_02030.jpg: [Errno 2] No such file or directory: 'D:\\\\Datasets\\\\Datasets\\\\EPIC_Kitchen\\\\Flow\\\\P01_04\\\\frame_02030.jpg'\n",
      "Skipping D:/Datasets/Datasets/EPIC_Kitchen/RGB/P01_04\\frame_02040.jpg: name 'deft' is not defined\n",
      "Skipping D:/Datasets/Datasets/EPIC_Kitchen/Flow/P01_04\\frame_02040.jpg: [Errno 2] No such file or directory: 'D:\\\\Datasets\\\\Datasets\\\\EPIC_Kitchen\\\\Flow\\\\P01_04\\\\frame_02040.jpg'\n",
      "Skipping D:/Datasets/Datasets/EPIC_Kitchen/RGB/P01_04\\frame_02050.jpg: name 'deft' is not defined\n",
      "Skipping D:/Datasets/Datasets/EPIC_Kitchen/Flow/P01_04\\frame_02050.jpg: [Errno 2] No such file or directory: 'D:\\\\Datasets\\\\Datasets\\\\EPIC_Kitchen\\\\Flow\\\\P01_04\\\\frame_02050.jpg'\n",
      "Skipping D:/Datasets/Datasets/EPIC_Kitchen/RGB/P01_04\\frame_02060.jpg: name 'deft' is not defined\n",
      "Skipping D:/Datasets/Datasets/EPIC_Kitchen/Flow/P01_04\\frame_02060.jpg: [Errno 2] No such file or directory: 'D:\\\\Datasets\\\\Datasets\\\\EPIC_Kitchen\\\\Flow\\\\P01_04\\\\frame_02060.jpg'\n",
      "Skipping D:/Datasets/Datasets/EPIC_Kitchen/RGB/P01_04\\frame_02070.jpg: name 'deft' is not defined\n",
      "Skipping D:/Datasets/Datasets/EPIC_Kitchen/Flow/P01_04\\frame_02070.jpg: [Errno 2] No such file or directory: 'D:\\\\Datasets\\\\Datasets\\\\EPIC_Kitchen\\\\Flow\\\\P01_04\\\\frame_02070.jpg'\n",
      "Skipping D:/Datasets/Datasets/EPIC_Kitchen/RGB/P01_04\\frame_02080.jpg: name 'deft' is not defined\n",
      "Skipping D:/Datasets/Datasets/EPIC_Kitchen/Flow/P01_04\\frame_02080.jpg: [Errno 2] No such file or directory: 'D:\\\\Datasets\\\\Datasets\\\\EPIC_Kitchen\\\\Flow\\\\P01_04\\\\frame_02080.jpg'\n"
     ]
    },
    {
     "name": "stderr",
     "output_type": "stream",
     "text": [
      "Processing RGB + Flow frames:  34%|█████████████████                                 | 216/631 [00:05<00:10, 39.86it/s]"
     ]
    },
    {
     "name": "stdout",
     "output_type": "stream",
     "text": [
      "Skipping D:/Datasets/Datasets/EPIC_Kitchen/RGB/P01_04\\frame_02090.jpg: name 'deft' is not defined\n",
      "Skipping D:/Datasets/Datasets/EPIC_Kitchen/Flow/P01_04\\frame_02090.jpg: [Errno 2] No such file or directory: 'D:\\\\Datasets\\\\Datasets\\\\EPIC_Kitchen\\\\Flow\\\\P01_04\\\\frame_02090.jpg'\n",
      "Skipping D:/Datasets/Datasets/EPIC_Kitchen/RGB/P01_04\\frame_02100.jpg: name 'deft' is not defined\n",
      "Skipping D:/Datasets/Datasets/EPIC_Kitchen/Flow/P01_04\\frame_02100.jpg: [Errno 2] No such file or directory: 'D:\\\\Datasets\\\\Datasets\\\\EPIC_Kitchen\\\\Flow\\\\P01_04\\\\frame_02100.jpg'\n",
      "Skipping D:/Datasets/Datasets/EPIC_Kitchen/RGB/P01_04\\frame_02110.jpg: name 'deft' is not defined\n",
      "Skipping D:/Datasets/Datasets/EPIC_Kitchen/Flow/P01_04\\frame_02110.jpg: [Errno 2] No such file or directory: 'D:\\\\Datasets\\\\Datasets\\\\EPIC_Kitchen\\\\Flow\\\\P01_04\\\\frame_02110.jpg'\n",
      "Skipping D:/Datasets/Datasets/EPIC_Kitchen/RGB/P01_04\\frame_02120.jpg: name 'deft' is not defined\n",
      "Skipping D:/Datasets/Datasets/EPIC_Kitchen/Flow/P01_04\\frame_02120.jpg: [Errno 2] No such file or directory: 'D:\\\\Datasets\\\\Datasets\\\\EPIC_Kitchen\\\\Flow\\\\P01_04\\\\frame_02120.jpg'\n",
      "Skipping D:/Datasets/Datasets/EPIC_Kitchen/RGB/P01_04\\frame_02130.jpg: name 'deft' is not defined\n",
      "Skipping D:/Datasets/Datasets/EPIC_Kitchen/Flow/P01_04\\frame_02130.jpg: [Errno 2] No such file or directory: 'D:\\\\Datasets\\\\Datasets\\\\EPIC_Kitchen\\\\Flow\\\\P01_04\\\\frame_02130.jpg'\n",
      "Skipping D:/Datasets/Datasets/EPIC_Kitchen/RGB/P01_04\\frame_02140.jpg: name 'deft' is not defined\n",
      "Skipping D:/Datasets/Datasets/EPIC_Kitchen/Flow/P01_04\\frame_02140.jpg: [Errno 2] No such file or directory: 'D:\\\\Datasets\\\\Datasets\\\\EPIC_Kitchen\\\\Flow\\\\P01_04\\\\frame_02140.jpg'\n",
      "Skipping D:/Datasets/Datasets/EPIC_Kitchen/RGB/P01_04\\frame_02150.jpg: name 'deft' is not defined\n",
      "Skipping D:/Datasets/Datasets/EPIC_Kitchen/Flow/P01_04\\frame_02150.jpg: [Errno 2] No such file or directory: 'D:\\\\Datasets\\\\Datasets\\\\EPIC_Kitchen\\\\Flow\\\\P01_04\\\\frame_02150.jpg'\n",
      "Skipping D:/Datasets/Datasets/EPIC_Kitchen/RGB/P01_04\\frame_02160.jpg: name 'deft' is not defined\n",
      "Skipping D:/Datasets/Datasets/EPIC_Kitchen/Flow/P01_04\\frame_02160.jpg: [Errno 2] No such file or directory: 'D:\\\\Datasets\\\\Datasets\\\\EPIC_Kitchen\\\\Flow\\\\P01_04\\\\frame_02160.jpg'\n"
     ]
    },
    {
     "name": "stderr",
     "output_type": "stream",
     "text": [
      "Processing RGB + Flow frames:  36%|█████████████████▉                                | 226/631 [00:05<00:10, 40.32it/s]"
     ]
    },
    {
     "name": "stdout",
     "output_type": "stream",
     "text": [
      "Skipping D:/Datasets/Datasets/EPIC_Kitchen/RGB/P01_04\\frame_02170.jpg: name 'deft' is not defined\n",
      "Skipping D:/Datasets/Datasets/EPIC_Kitchen/Flow/P01_04\\frame_02170.jpg: [Errno 2] No such file or directory: 'D:\\\\Datasets\\\\Datasets\\\\EPIC_Kitchen\\\\Flow\\\\P01_04\\\\frame_02170.jpg'\n",
      "Skipping D:/Datasets/Datasets/EPIC_Kitchen/RGB/P01_04\\frame_02180.jpg: name 'deft' is not defined\n",
      "Skipping D:/Datasets/Datasets/EPIC_Kitchen/Flow/P01_04\\frame_02180.jpg: [Errno 2] No such file or directory: 'D:\\\\Datasets\\\\Datasets\\\\EPIC_Kitchen\\\\Flow\\\\P01_04\\\\frame_02180.jpg'\n",
      "Skipping D:/Datasets/Datasets/EPIC_Kitchen/RGB/P01_04\\frame_02190.jpg: name 'deft' is not defined\n",
      "Skipping D:/Datasets/Datasets/EPIC_Kitchen/Flow/P01_04\\frame_02190.jpg: [Errno 2] No such file or directory: 'D:\\\\Datasets\\\\Datasets\\\\EPIC_Kitchen\\\\Flow\\\\P01_04\\\\frame_02190.jpg'\n",
      "Skipping D:/Datasets/Datasets/EPIC_Kitchen/RGB/P01_04\\frame_02200.jpg: name 'deft' is not defined\n",
      "Skipping D:/Datasets/Datasets/EPIC_Kitchen/Flow/P01_04\\frame_02200.jpg: [Errno 2] No such file or directory: 'D:\\\\Datasets\\\\Datasets\\\\EPIC_Kitchen\\\\Flow\\\\P01_04\\\\frame_02200.jpg'\n",
      "Skipping D:/Datasets/Datasets/EPIC_Kitchen/RGB/P01_04\\frame_02210.jpg: name 'deft' is not defined\n",
      "Skipping D:/Datasets/Datasets/EPIC_Kitchen/Flow/P01_04\\frame_02210.jpg: [Errno 2] No such file or directory: 'D:\\\\Datasets\\\\Datasets\\\\EPIC_Kitchen\\\\Flow\\\\P01_04\\\\frame_02210.jpg'\n",
      "Skipping D:/Datasets/Datasets/EPIC_Kitchen/RGB/P01_04\\frame_02220.jpg: name 'deft' is not defined\n",
      "Skipping D:/Datasets/Datasets/EPIC_Kitchen/Flow/P01_04\\frame_02220.jpg: [Errno 2] No such file or directory: 'D:\\\\Datasets\\\\Datasets\\\\EPIC_Kitchen\\\\Flow\\\\P01_04\\\\frame_02220.jpg'\n",
      "Skipping D:/Datasets/Datasets/EPIC_Kitchen/RGB/P01_04\\frame_02230.jpg: name 'deft' is not defined\n",
      "Skipping D:/Datasets/Datasets/EPIC_Kitchen/Flow/P01_04\\frame_02230.jpg: [Errno 2] No such file or directory: 'D:\\\\Datasets\\\\Datasets\\\\EPIC_Kitchen\\\\Flow\\\\P01_04\\\\frame_02230.jpg'\n",
      "Skipping D:/Datasets/Datasets/EPIC_Kitchen/RGB/P01_04\\frame_02240.jpg: name 'deft' is not defined\n",
      "Skipping D:/Datasets/Datasets/EPIC_Kitchen/Flow/P01_04\\frame_02240.jpg: [Errno 2] No such file or directory: 'D:\\\\Datasets\\\\Datasets\\\\EPIC_Kitchen\\\\Flow\\\\P01_04\\\\frame_02240.jpg'\n",
      "Skipping D:/Datasets/Datasets/EPIC_Kitchen/RGB/P01_04\\frame_02250.jpg: name 'deft' is not defined\n",
      "Skipping D:/Datasets/Datasets/EPIC_Kitchen/Flow/P01_04\\frame_02250.jpg: [Errno 2] No such file or directory: 'D:\\\\Datasets\\\\Datasets\\\\EPIC_Kitchen\\\\Flow\\\\P01_04\\\\frame_02250.jpg'\n"
     ]
    },
    {
     "name": "stderr",
     "output_type": "stream",
     "text": [
      "\r",
      "Processing RGB + Flow frames:  37%|██████████████████▎                               | 231/631 [00:05<00:09, 40.66it/s]"
     ]
    },
    {
     "name": "stdout",
     "output_type": "stream",
     "text": [
      "Skipping D:/Datasets/Datasets/EPIC_Kitchen/RGB/P01_04\\frame_02260.jpg: name 'deft' is not defined\n",
      "Skipping D:/Datasets/Datasets/EPIC_Kitchen/Flow/P01_04\\frame_02260.jpg: [Errno 2] No such file or directory: 'D:\\\\Datasets\\\\Datasets\\\\EPIC_Kitchen\\\\Flow\\\\P01_04\\\\frame_02260.jpg'\n",
      "Skipping D:/Datasets/Datasets/EPIC_Kitchen/RGB/P01_04\\frame_02270.jpg: name 'deft' is not defined\n",
      "Skipping D:/Datasets/Datasets/EPIC_Kitchen/Flow/P01_04\\frame_02270.jpg: [Errno 2] No such file or directory: 'D:\\\\Datasets\\\\Datasets\\\\EPIC_Kitchen\\\\Flow\\\\P01_04\\\\frame_02270.jpg'\n",
      "Skipping D:/Datasets/Datasets/EPIC_Kitchen/RGB/P01_04\\frame_02280.jpg: name 'deft' is not defined\n",
      "Skipping D:/Datasets/Datasets/EPIC_Kitchen/Flow/P01_04\\frame_02280.jpg: [Errno 2] No such file or directory: 'D:\\\\Datasets\\\\Datasets\\\\EPIC_Kitchen\\\\Flow\\\\P01_04\\\\frame_02280.jpg'\n",
      "Skipping D:/Datasets/Datasets/EPIC_Kitchen/RGB/P01_04\\frame_02290.jpg: name 'deft' is not defined\n",
      "Skipping D:/Datasets/Datasets/EPIC_Kitchen/Flow/P01_04\\frame_02290.jpg: [Errno 2] No such file or directory: 'D:\\\\Datasets\\\\Datasets\\\\EPIC_Kitchen\\\\Flow\\\\P01_04\\\\frame_02290.jpg'\n",
      "Skipping D:/Datasets/Datasets/EPIC_Kitchen/RGB/P01_04\\frame_02300.jpg: name 'deft' is not defined\n",
      "Skipping D:/Datasets/Datasets/EPIC_Kitchen/Flow/P01_04\\frame_02300.jpg: [Errno 2] No such file or directory: 'D:\\\\Datasets\\\\Datasets\\\\EPIC_Kitchen\\\\Flow\\\\P01_04\\\\frame_02300.jpg'\n",
      "Skipping D:/Datasets/Datasets/EPIC_Kitchen/RGB/P01_04\\frame_02310.jpg: name 'deft' is not defined\n",
      "Skipping D:/Datasets/Datasets/EPIC_Kitchen/Flow/P01_04\\frame_02310.jpg: [Errno 2] No such file or directory: 'D:\\\\Datasets\\\\Datasets\\\\EPIC_Kitchen\\\\Flow\\\\P01_04\\\\frame_02310.jpg'\n",
      "Skipping D:/Datasets/Datasets/EPIC_Kitchen/RGB/P01_04\\frame_02320.jpg: name 'deft' is not defined\n",
      "Skipping D:/Datasets/Datasets/EPIC_Kitchen/Flow/P01_04\\frame_02320.jpg: [Errno 2] No such file or directory: 'D:\\\\Datasets\\\\Datasets\\\\EPIC_Kitchen\\\\Flow\\\\P01_04\\\\frame_02320.jpg'\n",
      "Skipping D:/Datasets/Datasets/EPIC_Kitchen/RGB/P01_04\\frame_02330.jpg: name 'deft' is not defined\n",
      "Skipping D:/Datasets/Datasets/EPIC_Kitchen/Flow/P01_04\\frame_02330.jpg: [Errno 2] No such file or directory: 'D:\\\\Datasets\\\\Datasets\\\\EPIC_Kitchen\\\\Flow\\\\P01_04\\\\frame_02330.jpg'\n",
      "Skipping D:/Datasets/Datasets/EPIC_Kitchen/RGB/P01_04\\frame_02340.jpg: name 'deft' is not defined\n",
      "Skipping D:/Datasets/Datasets/EPIC_Kitchen/Flow/P01_04\\frame_02340.jpg: [Errno 2] No such file or directory: 'D:\\\\Datasets\\\\Datasets\\\\EPIC_Kitchen\\\\Flow\\\\P01_04\\\\frame_02340.jpg'\n"
     ]
    },
    {
     "name": "stderr",
     "output_type": "stream",
     "text": [
      "Processing RGB + Flow frames:  38%|███████████████████                               | 241/631 [00:05<00:09, 42.54it/s]"
     ]
    },
    {
     "name": "stdout",
     "output_type": "stream",
     "text": [
      "Skipping D:/Datasets/Datasets/EPIC_Kitchen/RGB/P01_04\\frame_02350.jpg: name 'deft' is not defined\n",
      "Skipping D:/Datasets/Datasets/EPIC_Kitchen/Flow/P01_04\\frame_02350.jpg: [Errno 2] No such file or directory: 'D:\\\\Datasets\\\\Datasets\\\\EPIC_Kitchen\\\\Flow\\\\P01_04\\\\frame_02350.jpg'\n",
      "Skipping D:/Datasets/Datasets/EPIC_Kitchen/RGB/P01_04\\frame_02360.jpg: name 'deft' is not defined\n",
      "Skipping D:/Datasets/Datasets/EPIC_Kitchen/Flow/P01_04\\frame_02360.jpg: [Errno 2] No such file or directory: 'D:\\\\Datasets\\\\Datasets\\\\EPIC_Kitchen\\\\Flow\\\\P01_04\\\\frame_02360.jpg'\n",
      "Skipping D:/Datasets/Datasets/EPIC_Kitchen/RGB/P01_04\\frame_02370.jpg: name 'deft' is not defined\n",
      "Skipping D:/Datasets/Datasets/EPIC_Kitchen/Flow/P01_04\\frame_02370.jpg: [Errno 2] No such file or directory: 'D:\\\\Datasets\\\\Datasets\\\\EPIC_Kitchen\\\\Flow\\\\P01_04\\\\frame_02370.jpg'\n",
      "Skipping D:/Datasets/Datasets/EPIC_Kitchen/RGB/P01_04\\frame_02380.jpg: name 'deft' is not defined\n",
      "Skipping D:/Datasets/Datasets/EPIC_Kitchen/Flow/P01_04\\frame_02380.jpg: [Errno 2] No such file or directory: 'D:\\\\Datasets\\\\Datasets\\\\EPIC_Kitchen\\\\Flow\\\\P01_04\\\\frame_02380.jpg'\n",
      "Skipping D:/Datasets/Datasets/EPIC_Kitchen/RGB/P01_04\\frame_02390.jpg: name 'deft' is not defined\n",
      "Skipping D:/Datasets/Datasets/EPIC_Kitchen/Flow/P01_04\\frame_02390.jpg: [Errno 2] No such file or directory: 'D:\\\\Datasets\\\\Datasets\\\\EPIC_Kitchen\\\\Flow\\\\P01_04\\\\frame_02390.jpg'\n",
      "Skipping D:/Datasets/Datasets/EPIC_Kitchen/RGB/P01_04\\frame_02400.jpg: name 'deft' is not defined\n",
      "Skipping D:/Datasets/Datasets/EPIC_Kitchen/Flow/P01_04\\frame_02400.jpg: [Errno 2] No such file or directory: 'D:\\\\Datasets\\\\Datasets\\\\EPIC_Kitchen\\\\Flow\\\\P01_04\\\\frame_02400.jpg'\n",
      "Skipping D:/Datasets/Datasets/EPIC_Kitchen/RGB/P01_04\\frame_02410.jpg: name 'deft' is not defined\n",
      "Skipping D:/Datasets/Datasets/EPIC_Kitchen/Flow/P01_04\\frame_02410.jpg: [Errno 2] No such file or directory: 'D:\\\\Datasets\\\\Datasets\\\\EPIC_Kitchen\\\\Flow\\\\P01_04\\\\frame_02410.jpg'\n",
      "Skipping D:/Datasets/Datasets/EPIC_Kitchen/RGB/P01_04\\frame_02420.jpg: name 'deft' is not defined\n",
      "Skipping D:/Datasets/Datasets/EPIC_Kitchen/Flow/P01_04\\frame_02420.jpg: [Errno 2] No such file or directory: 'D:\\\\Datasets\\\\Datasets\\\\EPIC_Kitchen\\\\Flow\\\\P01_04\\\\frame_02420.jpg'\n",
      "Skipping D:/Datasets/Datasets/EPIC_Kitchen/RGB/P01_04\\frame_02430.jpg: name 'deft' is not defined\n",
      "Skipping D:/Datasets/Datasets/EPIC_Kitchen/Flow/P01_04\\frame_02430.jpg: [Errno 2] No such file or directory: 'D:\\\\Datasets\\\\Datasets\\\\EPIC_Kitchen\\\\Flow\\\\P01_04\\\\frame_02430.jpg'\n"
     ]
    },
    {
     "name": "stderr",
     "output_type": "stream",
     "text": [
      "Processing RGB + Flow frames:  40%|███████████████████▉                              | 251/631 [00:06<00:08, 43.22it/s]"
     ]
    },
    {
     "name": "stdout",
     "output_type": "stream",
     "text": [
      "Skipping D:/Datasets/Datasets/EPIC_Kitchen/RGB/P01_04\\frame_02440.jpg: name 'deft' is not defined\n",
      "Skipping D:/Datasets/Datasets/EPIC_Kitchen/Flow/P01_04\\frame_02440.jpg: [Errno 2] No such file or directory: 'D:\\\\Datasets\\\\Datasets\\\\EPIC_Kitchen\\\\Flow\\\\P01_04\\\\frame_02440.jpg'\n",
      "Skipping D:/Datasets/Datasets/EPIC_Kitchen/RGB/P01_04\\frame_02450.jpg: name 'deft' is not defined\n",
      "Skipping D:/Datasets/Datasets/EPIC_Kitchen/Flow/P01_04\\frame_02450.jpg: [Errno 2] No such file or directory: 'D:\\\\Datasets\\\\Datasets\\\\EPIC_Kitchen\\\\Flow\\\\P01_04\\\\frame_02450.jpg'\n",
      "Skipping D:/Datasets/Datasets/EPIC_Kitchen/RGB/P01_04\\frame_02460.jpg: name 'deft' is not defined\n",
      "Skipping D:/Datasets/Datasets/EPIC_Kitchen/Flow/P01_04\\frame_02460.jpg: [Errno 2] No such file or directory: 'D:\\\\Datasets\\\\Datasets\\\\EPIC_Kitchen\\\\Flow\\\\P01_04\\\\frame_02460.jpg'\n",
      "Skipping D:/Datasets/Datasets/EPIC_Kitchen/RGB/P01_04\\frame_02470.jpg: name 'deft' is not defined\n",
      "Skipping D:/Datasets/Datasets/EPIC_Kitchen/Flow/P01_04\\frame_02470.jpg: [Errno 2] No such file or directory: 'D:\\\\Datasets\\\\Datasets\\\\EPIC_Kitchen\\\\Flow\\\\P01_04\\\\frame_02470.jpg'\n",
      "Skipping D:/Datasets/Datasets/EPIC_Kitchen/RGB/P01_04\\frame_02480.jpg: name 'deft' is not defined\n",
      "Skipping D:/Datasets/Datasets/EPIC_Kitchen/Flow/P01_04\\frame_02480.jpg: [Errno 2] No such file or directory: 'D:\\\\Datasets\\\\Datasets\\\\EPIC_Kitchen\\\\Flow\\\\P01_04\\\\frame_02480.jpg'\n",
      "Skipping D:/Datasets/Datasets/EPIC_Kitchen/RGB/P01_04\\frame_02490.jpg: name 'deft' is not defined\n",
      "Skipping D:/Datasets/Datasets/EPIC_Kitchen/Flow/P01_04\\frame_02490.jpg: [Errno 2] No such file or directory: 'D:\\\\Datasets\\\\Datasets\\\\EPIC_Kitchen\\\\Flow\\\\P01_04\\\\frame_02490.jpg'\n",
      "Skipping D:/Datasets/Datasets/EPIC_Kitchen/RGB/P01_04\\frame_02500.jpg: name 'deft' is not defined\n",
      "Skipping D:/Datasets/Datasets/EPIC_Kitchen/Flow/P01_04\\frame_02500.jpg: [Errno 2] No such file or directory: 'D:\\\\Datasets\\\\Datasets\\\\EPIC_Kitchen\\\\Flow\\\\P01_04\\\\frame_02500.jpg'\n",
      "Skipping D:/Datasets/Datasets/EPIC_Kitchen/RGB/P01_04\\frame_02510.jpg: name 'deft' is not defined\n",
      "Skipping D:/Datasets/Datasets/EPIC_Kitchen/Flow/P01_04\\frame_02510.jpg: [Errno 2] No such file or directory: 'D:\\\\Datasets\\\\Datasets\\\\EPIC_Kitchen\\\\Flow\\\\P01_04\\\\frame_02510.jpg'\n",
      "Skipping D:/Datasets/Datasets/EPIC_Kitchen/RGB/P01_04\\frame_02520.jpg: name 'deft' is not defined\n",
      "Skipping D:/Datasets/Datasets/EPIC_Kitchen/Flow/P01_04\\frame_02520.jpg: [Errno 2] No such file or directory: 'D:\\\\Datasets\\\\Datasets\\\\EPIC_Kitchen\\\\Flow\\\\P01_04\\\\frame_02520.jpg'\n",
      "Skipping D:/Datasets/Datasets/EPIC_Kitchen/RGB/P01_04\\frame_02530.jpg: name 'deft' is not defined\n",
      "Skipping D:/Datasets/Datasets/EPIC_Kitchen/Flow/P01_04\\frame_02530.jpg: [Errno 2] No such file or directory: 'D:\\\\Datasets\\\\Datasets\\\\EPIC_Kitchen\\\\Flow\\\\P01_04\\\\frame_02530.jpg'\n"
     ]
    },
    {
     "name": "stderr",
     "output_type": "stream",
     "text": [
      "Processing RGB + Flow frames:  41%|████████████████████▋                             | 261/631 [00:06<00:08, 42.15it/s]"
     ]
    },
    {
     "name": "stdout",
     "output_type": "stream",
     "text": [
      "Skipping D:/Datasets/Datasets/EPIC_Kitchen/RGB/P01_04\\frame_02540.jpg: name 'deft' is not defined\n",
      "Skipping D:/Datasets/Datasets/EPIC_Kitchen/Flow/P01_04\\frame_02540.jpg: [Errno 2] No such file or directory: 'D:\\\\Datasets\\\\Datasets\\\\EPIC_Kitchen\\\\Flow\\\\P01_04\\\\frame_02540.jpg'\n",
      "Skipping D:/Datasets/Datasets/EPIC_Kitchen/RGB/P01_04\\frame_02550.jpg: name 'deft' is not defined\n",
      "Skipping D:/Datasets/Datasets/EPIC_Kitchen/Flow/P01_04\\frame_02550.jpg: [Errno 2] No such file or directory: 'D:\\\\Datasets\\\\Datasets\\\\EPIC_Kitchen\\\\Flow\\\\P01_04\\\\frame_02550.jpg'\n",
      "Skipping D:/Datasets/Datasets/EPIC_Kitchen/RGB/P01_04\\frame_02560.jpg: name 'deft' is not defined\n",
      "Skipping D:/Datasets/Datasets/EPIC_Kitchen/Flow/P01_04\\frame_02560.jpg: [Errno 2] No such file or directory: 'D:\\\\Datasets\\\\Datasets\\\\EPIC_Kitchen\\\\Flow\\\\P01_04\\\\frame_02560.jpg'\n",
      "Skipping D:/Datasets/Datasets/EPIC_Kitchen/RGB/P01_04\\frame_02570.jpg: name 'deft' is not defined\n",
      "Skipping D:/Datasets/Datasets/EPIC_Kitchen/Flow/P01_04\\frame_02570.jpg: [Errno 2] No such file or directory: 'D:\\\\Datasets\\\\Datasets\\\\EPIC_Kitchen\\\\Flow\\\\P01_04\\\\frame_02570.jpg'\n",
      "Skipping D:/Datasets/Datasets/EPIC_Kitchen/RGB/P01_04\\frame_02580.jpg: name 'deft' is not defined\n",
      "Skipping D:/Datasets/Datasets/EPIC_Kitchen/Flow/P01_04\\frame_02580.jpg: [Errno 2] No such file or directory: 'D:\\\\Datasets\\\\Datasets\\\\EPIC_Kitchen\\\\Flow\\\\P01_04\\\\frame_02580.jpg'\n",
      "Skipping D:/Datasets/Datasets/EPIC_Kitchen/RGB/P01_04\\frame_02590.jpg: name 'deft' is not defined\n",
      "Skipping D:/Datasets/Datasets/EPIC_Kitchen/Flow/P01_04\\frame_02590.jpg: [Errno 2] No such file or directory: 'D:\\\\Datasets\\\\Datasets\\\\EPIC_Kitchen\\\\Flow\\\\P01_04\\\\frame_02590.jpg'\n",
      "Skipping D:/Datasets/Datasets/EPIC_Kitchen/RGB/P01_04\\frame_02600.jpg: name 'deft' is not defined\n",
      "Skipping D:/Datasets/Datasets/EPIC_Kitchen/Flow/P01_04\\frame_02600.jpg: [Errno 2] No such file or directory: 'D:\\\\Datasets\\\\Datasets\\\\EPIC_Kitchen\\\\Flow\\\\P01_04\\\\frame_02600.jpg'\n",
      "Skipping D:/Datasets/Datasets/EPIC_Kitchen/RGB/P01_04\\frame_02610.jpg: name 'deft' is not defined\n",
      "Skipping D:/Datasets/Datasets/EPIC_Kitchen/Flow/P01_04\\frame_02610.jpg: [Errno 2] No such file or directory: 'D:\\\\Datasets\\\\Datasets\\\\EPIC_Kitchen\\\\Flow\\\\P01_04\\\\frame_02610.jpg'\n",
      "Skipping D:/Datasets/Datasets/EPIC_Kitchen/RGB/P01_04\\frame_02620.jpg: name 'deft' is not defined\n",
      "Skipping D:/Datasets/Datasets/EPIC_Kitchen/Flow/P01_04\\frame_02620.jpg: [Errno 2] No such file or directory: 'D:\\\\Datasets\\\\Datasets\\\\EPIC_Kitchen\\\\Flow\\\\P01_04\\\\frame_02620.jpg'\n"
     ]
    },
    {
     "name": "stderr",
     "output_type": "stream",
     "text": [
      "\r",
      "Processing RGB + Flow frames:  42%|█████████████████████                             | 266/631 [00:06<00:08, 41.01it/s]"
     ]
    },
    {
     "name": "stdout",
     "output_type": "stream",
     "text": [
      "Skipping D:/Datasets/Datasets/EPIC_Kitchen/RGB/P01_04\\frame_02630.jpg: name 'deft' is not defined\n",
      "Skipping D:/Datasets/Datasets/EPIC_Kitchen/Flow/P01_04\\frame_02630.jpg: [Errno 2] No such file or directory: 'D:\\\\Datasets\\\\Datasets\\\\EPIC_Kitchen\\\\Flow\\\\P01_04\\\\frame_02630.jpg'\n",
      "Skipping D:/Datasets/Datasets/EPIC_Kitchen/RGB/P01_04\\frame_02640.jpg: name 'deft' is not defined\n",
      "Skipping D:/Datasets/Datasets/EPIC_Kitchen/Flow/P01_04\\frame_02640.jpg: [Errno 2] No such file or directory: 'D:\\\\Datasets\\\\Datasets\\\\EPIC_Kitchen\\\\Flow\\\\P01_04\\\\frame_02640.jpg'\n",
      "Skipping D:/Datasets/Datasets/EPIC_Kitchen/RGB/P01_04\\frame_02650.jpg: name 'deft' is not defined\n",
      "Skipping D:/Datasets/Datasets/EPIC_Kitchen/Flow/P01_04\\frame_02650.jpg: [Errno 2] No such file or directory: 'D:\\\\Datasets\\\\Datasets\\\\EPIC_Kitchen\\\\Flow\\\\P01_04\\\\frame_02650.jpg'\n",
      "Skipping D:/Datasets/Datasets/EPIC_Kitchen/RGB/P01_04\\frame_02660.jpg: name 'deft' is not defined\n",
      "Skipping D:/Datasets/Datasets/EPIC_Kitchen/Flow/P01_04\\frame_02660.jpg: [Errno 2] No such file or directory: 'D:\\\\Datasets\\\\Datasets\\\\EPIC_Kitchen\\\\Flow\\\\P01_04\\\\frame_02660.jpg'\n",
      "Skipping D:/Datasets/Datasets/EPIC_Kitchen/RGB/P01_04\\frame_02670.jpg: name 'deft' is not defined\n",
      "Skipping D:/Datasets/Datasets/EPIC_Kitchen/Flow/P01_04\\frame_02670.jpg: [Errno 2] No such file or directory: 'D:\\\\Datasets\\\\Datasets\\\\EPIC_Kitchen\\\\Flow\\\\P01_04\\\\frame_02670.jpg'\n",
      "Skipping D:/Datasets/Datasets/EPIC_Kitchen/RGB/P01_04\\frame_02680.jpg: name 'deft' is not defined\n",
      "Skipping D:/Datasets/Datasets/EPIC_Kitchen/Flow/P01_04\\frame_02680.jpg: [Errno 2] No such file or directory: 'D:\\\\Datasets\\\\Datasets\\\\EPIC_Kitchen\\\\Flow\\\\P01_04\\\\frame_02680.jpg'\n",
      "Skipping D:/Datasets/Datasets/EPIC_Kitchen/RGB/P01_04\\frame_02690.jpg: name 'deft' is not defined\n",
      "Skipping D:/Datasets/Datasets/EPIC_Kitchen/Flow/P01_04\\frame_02690.jpg: [Errno 2] No such file or directory: 'D:\\\\Datasets\\\\Datasets\\\\EPIC_Kitchen\\\\Flow\\\\P01_04\\\\frame_02690.jpg'\n",
      "Skipping D:/Datasets/Datasets/EPIC_Kitchen/RGB/P01_04\\frame_02700.jpg: name 'deft' is not defined\n"
     ]
    },
    {
     "name": "stderr",
     "output_type": "stream",
     "text": [
      "Processing RGB + Flow frames:  44%|█████████████████████▊                            | 275/631 [00:06<00:10, 34.88it/s]"
     ]
    },
    {
     "name": "stdout",
     "output_type": "stream",
     "text": [
      "Skipping D:/Datasets/Datasets/EPIC_Kitchen/Flow/P01_04\\frame_02700.jpg: [Errno 2] No such file or directory: 'D:\\\\Datasets\\\\Datasets\\\\EPIC_Kitchen\\\\Flow\\\\P01_04\\\\frame_02700.jpg'\n",
      "Skipping D:/Datasets/Datasets/EPIC_Kitchen/RGB/P01_04\\frame_02710.jpg: name 'deft' is not defined\n",
      "Skipping D:/Datasets/Datasets/EPIC_Kitchen/Flow/P01_04\\frame_02710.jpg: [Errno 2] No such file or directory: 'D:\\\\Datasets\\\\Datasets\\\\EPIC_Kitchen\\\\Flow\\\\P01_04\\\\frame_02710.jpg'\n",
      "Skipping D:/Datasets/Datasets/EPIC_Kitchen/RGB/P01_04\\frame_02720.jpg: name 'deft' is not defined\n",
      "Skipping D:/Datasets/Datasets/EPIC_Kitchen/Flow/P01_04\\frame_02720.jpg: [Errno 2] No such file or directory: 'D:\\\\Datasets\\\\Datasets\\\\EPIC_Kitchen\\\\Flow\\\\P01_04\\\\frame_02720.jpg'\n",
      "Skipping D:/Datasets/Datasets/EPIC_Kitchen/RGB/P01_04\\frame_02730.jpg: name 'deft' is not defined\n",
      "Skipping D:/Datasets/Datasets/EPIC_Kitchen/Flow/P01_04\\frame_02730.jpg: [Errno 2] No such file or directory: 'D:\\\\Datasets\\\\Datasets\\\\EPIC_Kitchen\\\\Flow\\\\P01_04\\\\frame_02730.jpg'\n",
      "Skipping D:/Datasets/Datasets/EPIC_Kitchen/RGB/P01_04\\frame_02740.jpg: name 'deft' is not defined\n",
      "Skipping D:/Datasets/Datasets/EPIC_Kitchen/Flow/P01_04\\frame_02740.jpg: [Errno 2] No such file or directory: 'D:\\\\Datasets\\\\Datasets\\\\EPIC_Kitchen\\\\Flow\\\\P01_04\\\\frame_02740.jpg'\n",
      "Skipping D:/Datasets/Datasets/EPIC_Kitchen/RGB/P01_04\\frame_02750.jpg: name 'deft' is not defined\n",
      "Skipping D:/Datasets/Datasets/EPIC_Kitchen/Flow/P01_04\\frame_02750.jpg: [Errno 2] No such file or directory: 'D:\\\\Datasets\\\\Datasets\\\\EPIC_Kitchen\\\\Flow\\\\P01_04\\\\frame_02750.jpg'\n",
      "Skipping D:/Datasets/Datasets/EPIC_Kitchen/RGB/P01_04\\frame_02760.jpg: name 'deft' is not defined\n",
      "Skipping D:/Datasets/Datasets/EPIC_Kitchen/Flow/P01_04\\frame_02760.jpg: [Errno 2] No such file or directory: 'D:\\\\Datasets\\\\Datasets\\\\EPIC_Kitchen\\\\Flow\\\\P01_04\\\\frame_02760.jpg'\n"
     ]
    },
    {
     "name": "stderr",
     "output_type": "stream",
     "text": [
      "Processing RGB + Flow frames:  45%|██████████████████████▍                           | 283/631 [00:07<00:10, 32.44it/s]"
     ]
    },
    {
     "name": "stdout",
     "output_type": "stream",
     "text": [
      "Skipping D:/Datasets/Datasets/EPIC_Kitchen/RGB/P01_04\\frame_02770.jpg: name 'deft' is not defined\n",
      "Skipping D:/Datasets/Datasets/EPIC_Kitchen/Flow/P01_04\\frame_02770.jpg: [Errno 2] No such file or directory: 'D:\\\\Datasets\\\\Datasets\\\\EPIC_Kitchen\\\\Flow\\\\P01_04\\\\frame_02770.jpg'\n",
      "Skipping D:/Datasets/Datasets/EPIC_Kitchen/RGB/P01_04\\frame_02780.jpg: name 'deft' is not defined\n",
      "Skipping D:/Datasets/Datasets/EPIC_Kitchen/Flow/P01_04\\frame_02780.jpg: [Errno 2] No such file or directory: 'D:\\\\Datasets\\\\Datasets\\\\EPIC_Kitchen\\\\Flow\\\\P01_04\\\\frame_02780.jpg'\n",
      "Skipping D:/Datasets/Datasets/EPIC_Kitchen/RGB/P01_04\\frame_02790.jpg: name 'deft' is not defined\n",
      "Skipping D:/Datasets/Datasets/EPIC_Kitchen/Flow/P01_04\\frame_02790.jpg: [Errno 2] No such file or directory: 'D:\\\\Datasets\\\\Datasets\\\\EPIC_Kitchen\\\\Flow\\\\P01_04\\\\frame_02790.jpg'\n",
      "Skipping D:/Datasets/Datasets/EPIC_Kitchen/RGB/P01_04\\frame_02800.jpg: name 'deft' is not defined\n",
      "Skipping D:/Datasets/Datasets/EPIC_Kitchen/Flow/P01_04\\frame_02800.jpg: [Errno 2] No such file or directory: 'D:\\\\Datasets\\\\Datasets\\\\EPIC_Kitchen\\\\Flow\\\\P01_04\\\\frame_02800.jpg'\n",
      "Skipping D:/Datasets/Datasets/EPIC_Kitchen/RGB/P01_04\\frame_02810.jpg: name 'deft' is not defined\n",
      "Skipping D:/Datasets/Datasets/EPIC_Kitchen/Flow/P01_04\\frame_02810.jpg: [Errno 2] No such file or directory: 'D:\\\\Datasets\\\\Datasets\\\\EPIC_Kitchen\\\\Flow\\\\P01_04\\\\frame_02810.jpg'\n",
      "Skipping D:/Datasets/Datasets/EPIC_Kitchen/RGB/P01_04\\frame_02820.jpg: name 'deft' is not defined\n",
      "Skipping D:/Datasets/Datasets/EPIC_Kitchen/Flow/P01_04\\frame_02820.jpg: [Errno 2] No such file or directory: 'D:\\\\Datasets\\\\Datasets\\\\EPIC_Kitchen\\\\Flow\\\\P01_04\\\\frame_02820.jpg'\n",
      "Skipping D:/Datasets/Datasets/EPIC_Kitchen/RGB/P01_04\\frame_02830.jpg: name 'deft' is not defined\n",
      "Skipping D:/Datasets/Datasets/EPIC_Kitchen/Flow/P01_04\\frame_02830.jpg: [Errno 2] No such file or directory: 'D:\\\\Datasets\\\\Datasets\\\\EPIC_Kitchen\\\\Flow\\\\P01_04\\\\frame_02830.jpg'\n"
     ]
    },
    {
     "name": "stderr",
     "output_type": "stream",
     "text": [
      "\r",
      "Processing RGB + Flow frames:  45%|██████████████████████▋                           | 287/631 [00:07<00:10, 31.32it/s]"
     ]
    },
    {
     "name": "stdout",
     "output_type": "stream",
     "text": [
      "Skipping D:/Datasets/Datasets/EPIC_Kitchen/RGB/P01_04\\frame_02840.jpg: name 'deft' is not defined\n",
      "Skipping D:/Datasets/Datasets/EPIC_Kitchen/Flow/P01_04\\frame_02840.jpg: [Errno 2] No such file or directory: 'D:\\\\Datasets\\\\Datasets\\\\EPIC_Kitchen\\\\Flow\\\\P01_04\\\\frame_02840.jpg'\n",
      "Skipping D:/Datasets/Datasets/EPIC_Kitchen/RGB/P01_04\\frame_02850.jpg: name 'deft' is not defined\n",
      "Skipping D:/Datasets/Datasets/EPIC_Kitchen/Flow/P01_04\\frame_02850.jpg: [Errno 2] No such file or directory: 'D:\\\\Datasets\\\\Datasets\\\\EPIC_Kitchen\\\\Flow\\\\P01_04\\\\frame_02850.jpg'\n",
      "Skipping D:/Datasets/Datasets/EPIC_Kitchen/RGB/P01_04\\frame_02860.jpg: name 'deft' is not defined\n",
      "Skipping D:/Datasets/Datasets/EPIC_Kitchen/Flow/P01_04\\frame_02860.jpg: [Errno 2] No such file or directory: 'D:\\\\Datasets\\\\Datasets\\\\EPIC_Kitchen\\\\Flow\\\\P01_04\\\\frame_02860.jpg'\n",
      "Skipping D:/Datasets/Datasets/EPIC_Kitchen/RGB/P01_04\\frame_02870.jpg: name 'deft' is not defined\n",
      "Skipping D:/Datasets/Datasets/EPIC_Kitchen/Flow/P01_04\\frame_02870.jpg: [Errno 2] No such file or directory: 'D:\\\\Datasets\\\\Datasets\\\\EPIC_Kitchen\\\\Flow\\\\P01_04\\\\frame_02870.jpg'\n",
      "Skipping D:/Datasets/Datasets/EPIC_Kitchen/RGB/P01_04\\frame_02880.jpg: name 'deft' is not defined\n",
      "Skipping D:/Datasets/Datasets/EPIC_Kitchen/Flow/P01_04\\frame_02880.jpg: [Errno 2] No such file or directory: 'D:\\\\Datasets\\\\Datasets\\\\EPIC_Kitchen\\\\Flow\\\\P01_04\\\\frame_02880.jpg'\n",
      "Skipping D:/Datasets/Datasets/EPIC_Kitchen/RGB/P01_04\\frame_02890.jpg: name 'deft' is not defined\n",
      "Skipping D:/Datasets/Datasets/EPIC_Kitchen/Flow/P01_04\\frame_02890.jpg: [Errno 2] No such file or directory: 'D:\\\\Datasets\\\\Datasets\\\\EPIC_Kitchen\\\\Flow\\\\P01_04\\\\frame_02890.jpg'\n",
      "Skipping D:/Datasets/Datasets/EPIC_Kitchen/RGB/P01_04\\frame_02900.jpg: name 'deft' is not defined\n"
     ]
    },
    {
     "name": "stderr",
     "output_type": "stream",
     "text": [
      "Processing RGB + Flow frames:  47%|███████████████████████▍                          | 295/631 [00:07<00:10, 30.76it/s]"
     ]
    },
    {
     "name": "stdout",
     "output_type": "stream",
     "text": [
      "Skipping D:/Datasets/Datasets/EPIC_Kitchen/Flow/P01_04\\frame_02900.jpg: [Errno 2] No such file or directory: 'D:\\\\Datasets\\\\Datasets\\\\EPIC_Kitchen\\\\Flow\\\\P01_04\\\\frame_02900.jpg'\n",
      "Skipping D:/Datasets/Datasets/EPIC_Kitchen/RGB/P01_04\\frame_02910.jpg: name 'deft' is not defined\n",
      "Skipping D:/Datasets/Datasets/EPIC_Kitchen/Flow/P01_04\\frame_02910.jpg: [Errno 2] No such file or directory: 'D:\\\\Datasets\\\\Datasets\\\\EPIC_Kitchen\\\\Flow\\\\P01_04\\\\frame_02910.jpg'\n",
      "Skipping D:/Datasets/Datasets/EPIC_Kitchen/RGB/P01_04\\frame_02920.jpg: name 'deft' is not defined\n",
      "Skipping D:/Datasets/Datasets/EPIC_Kitchen/Flow/P01_04\\frame_02920.jpg: [Errno 2] No such file or directory: 'D:\\\\Datasets\\\\Datasets\\\\EPIC_Kitchen\\\\Flow\\\\P01_04\\\\frame_02920.jpg'\n",
      "Skipping D:/Datasets/Datasets/EPIC_Kitchen/RGB/P01_04\\frame_02930.jpg: name 'deft' is not defined\n",
      "Skipping D:/Datasets/Datasets/EPIC_Kitchen/Flow/P01_04\\frame_02930.jpg: [Errno 2] No such file or directory: 'D:\\\\Datasets\\\\Datasets\\\\EPIC_Kitchen\\\\Flow\\\\P01_04\\\\frame_02930.jpg'\n",
      "Skipping D:/Datasets/Datasets/EPIC_Kitchen/RGB/P01_04\\frame_02940.jpg: name 'deft' is not defined\n",
      "Skipping D:/Datasets/Datasets/EPIC_Kitchen/Flow/P01_04\\frame_02940.jpg: [Errno 2] No such file or directory: 'D:\\\\Datasets\\\\Datasets\\\\EPIC_Kitchen\\\\Flow\\\\P01_04\\\\frame_02940.jpg'\n",
      "Skipping D:/Datasets/Datasets/EPIC_Kitchen/RGB/P01_04\\frame_02950.jpg: name 'deft' is not defined\n",
      "Skipping D:/Datasets/Datasets/EPIC_Kitchen/Flow/P01_04\\frame_02950.jpg: [Errno 2] No such file or directory: 'D:\\\\Datasets\\\\Datasets\\\\EPIC_Kitchen\\\\Flow\\\\P01_04\\\\frame_02950.jpg'\n",
      "Skipping D:/Datasets/Datasets/EPIC_Kitchen/RGB/P01_04\\frame_02960.jpg: name 'deft' is not defined\n",
      "Skipping D:/Datasets/Datasets/EPIC_Kitchen/Flow/P01_04\\frame_02960.jpg: [Errno 2] No such file or directory: 'D:\\\\Datasets\\\\Datasets\\\\EPIC_Kitchen\\\\Flow\\\\P01_04\\\\frame_02960.jpg'\n"
     ]
    },
    {
     "name": "stderr",
     "output_type": "stream",
     "text": [
      "Processing RGB + Flow frames:  48%|████████████████████████                          | 303/631 [00:07<00:10, 30.56it/s]"
     ]
    },
    {
     "name": "stdout",
     "output_type": "stream",
     "text": [
      "Skipping D:/Datasets/Datasets/EPIC_Kitchen/RGB/P01_04\\frame_02970.jpg: name 'deft' is not defined\n",
      "Skipping D:/Datasets/Datasets/EPIC_Kitchen/Flow/P01_04\\frame_02970.jpg: [Errno 2] No such file or directory: 'D:\\\\Datasets\\\\Datasets\\\\EPIC_Kitchen\\\\Flow\\\\P01_04\\\\frame_02970.jpg'\n",
      "Skipping D:/Datasets/Datasets/EPIC_Kitchen/RGB/P01_04\\frame_02980.jpg: name 'deft' is not defined\n",
      "Skipping D:/Datasets/Datasets/EPIC_Kitchen/Flow/P01_04\\frame_02980.jpg: [Errno 2] No such file or directory: 'D:\\\\Datasets\\\\Datasets\\\\EPIC_Kitchen\\\\Flow\\\\P01_04\\\\frame_02980.jpg'\n",
      "Skipping D:/Datasets/Datasets/EPIC_Kitchen/RGB/P01_04\\frame_02990.jpg: name 'deft' is not defined\n",
      "Skipping D:/Datasets/Datasets/EPIC_Kitchen/Flow/P01_04\\frame_02990.jpg: [Errno 2] No such file or directory: 'D:\\\\Datasets\\\\Datasets\\\\EPIC_Kitchen\\\\Flow\\\\P01_04\\\\frame_02990.jpg'\n",
      "Skipping D:/Datasets/Datasets/EPIC_Kitchen/RGB/P01_04\\frame_03000.jpg: name 'deft' is not defined\n",
      "Skipping D:/Datasets/Datasets/EPIC_Kitchen/Flow/P01_04\\frame_03000.jpg: [Errno 2] No such file or directory: 'D:\\\\Datasets\\\\Datasets\\\\EPIC_Kitchen\\\\Flow\\\\P01_04\\\\frame_03000.jpg'\n",
      "Skipping D:/Datasets/Datasets/EPIC_Kitchen/RGB/P01_04\\frame_03010.jpg: name 'deft' is not defined\n",
      "Skipping D:/Datasets/Datasets/EPIC_Kitchen/Flow/P01_04\\frame_03010.jpg: [Errno 2] No such file or directory: 'D:\\\\Datasets\\\\Datasets\\\\EPIC_Kitchen\\\\Flow\\\\P01_04\\\\frame_03010.jpg'\n",
      "Skipping D:/Datasets/Datasets/EPIC_Kitchen/RGB/P01_04\\frame_03020.jpg: name 'deft' is not defined\n",
      "Skipping D:/Datasets/Datasets/EPIC_Kitchen/Flow/P01_04\\frame_03020.jpg: [Errno 2] No such file or directory: 'D:\\\\Datasets\\\\Datasets\\\\EPIC_Kitchen\\\\Flow\\\\P01_04\\\\frame_03020.jpg'\n",
      "Skipping D:/Datasets/Datasets/EPIC_Kitchen/RGB/P01_04\\frame_03030.jpg: name 'deft' is not defined\n",
      "Skipping D:/Datasets/Datasets/EPIC_Kitchen/Flow/P01_04\\frame_03030.jpg: [Errno 2] No such file or directory: 'D:\\\\Datasets\\\\Datasets\\\\EPIC_Kitchen\\\\Flow\\\\P01_04\\\\frame_03030.jpg'\n"
     ]
    },
    {
     "name": "stderr",
     "output_type": "stream",
     "text": [
      "Processing RGB + Flow frames:  49%|████████████████████████▋                         | 311/631 [00:08<00:10, 30.63it/s]"
     ]
    },
    {
     "name": "stdout",
     "output_type": "stream",
     "text": [
      "Skipping D:/Datasets/Datasets/EPIC_Kitchen/RGB/P01_04\\frame_03040.jpg: name 'deft' is not defined\n",
      "Skipping D:/Datasets/Datasets/EPIC_Kitchen/Flow/P01_04\\frame_03040.jpg: [Errno 2] No such file or directory: 'D:\\\\Datasets\\\\Datasets\\\\EPIC_Kitchen\\\\Flow\\\\P01_04\\\\frame_03040.jpg'\n",
      "Skipping D:/Datasets/Datasets/EPIC_Kitchen/RGB/P01_04\\frame_03050.jpg: name 'deft' is not defined\n",
      "Skipping D:/Datasets/Datasets/EPIC_Kitchen/Flow/P01_04\\frame_03050.jpg: [Errno 2] No such file or directory: 'D:\\\\Datasets\\\\Datasets\\\\EPIC_Kitchen\\\\Flow\\\\P01_04\\\\frame_03050.jpg'\n",
      "Skipping D:/Datasets/Datasets/EPIC_Kitchen/RGB/P01_04\\frame_03060.jpg: name 'deft' is not defined\n",
      "Skipping D:/Datasets/Datasets/EPIC_Kitchen/Flow/P01_04\\frame_03060.jpg: [Errno 2] No such file or directory: 'D:\\\\Datasets\\\\Datasets\\\\EPIC_Kitchen\\\\Flow\\\\P01_04\\\\frame_03060.jpg'\n",
      "Skipping D:/Datasets/Datasets/EPIC_Kitchen/RGB/P01_04\\frame_03070.jpg: name 'deft' is not defined\n",
      "Skipping D:/Datasets/Datasets/EPIC_Kitchen/Flow/P01_04\\frame_03070.jpg: [Errno 2] No such file or directory: 'D:\\\\Datasets\\\\Datasets\\\\EPIC_Kitchen\\\\Flow\\\\P01_04\\\\frame_03070.jpg'\n",
      "Skipping D:/Datasets/Datasets/EPIC_Kitchen/RGB/P01_04\\frame_03080.jpg: name 'deft' is not defined\n",
      "Skipping D:/Datasets/Datasets/EPIC_Kitchen/Flow/P01_04\\frame_03080.jpg: [Errno 2] No such file or directory: 'D:\\\\Datasets\\\\Datasets\\\\EPIC_Kitchen\\\\Flow\\\\P01_04\\\\frame_03080.jpg'\n",
      "Skipping D:/Datasets/Datasets/EPIC_Kitchen/RGB/P01_04\\frame_03090.jpg: name 'deft' is not defined\n",
      "Skipping D:/Datasets/Datasets/EPIC_Kitchen/Flow/P01_04\\frame_03090.jpg: [Errno 2] No such file or directory: 'D:\\\\Datasets\\\\Datasets\\\\EPIC_Kitchen\\\\Flow\\\\P01_04\\\\frame_03090.jpg'\n",
      "Skipping D:/Datasets/Datasets/EPIC_Kitchen/RGB/P01_04\\frame_03100.jpg: name 'deft' is not defined\n",
      "Skipping D:/Datasets/Datasets/EPIC_Kitchen/Flow/P01_04\\frame_03100.jpg: [Errno 2] No such file or directory: 'D:\\\\Datasets\\\\Datasets\\\\EPIC_Kitchen\\\\Flow\\\\P01_04\\\\frame_03100.jpg'\n"
     ]
    },
    {
     "name": "stderr",
     "output_type": "stream",
     "text": [
      "\r",
      "Processing RGB + Flow frames:  50%|████████████████████████▉                         | 315/631 [00:08<00:10, 30.66it/s]"
     ]
    },
    {
     "name": "stdout",
     "output_type": "stream",
     "text": [
      "Skipping D:/Datasets/Datasets/EPIC_Kitchen/RGB/P01_04\\frame_03110.jpg: name 'deft' is not defined\n",
      "Skipping D:/Datasets/Datasets/EPIC_Kitchen/Flow/P01_04\\frame_03110.jpg: [Errno 2] No such file or directory: 'D:\\\\Datasets\\\\Datasets\\\\EPIC_Kitchen\\\\Flow\\\\P01_04\\\\frame_03110.jpg'\n",
      "Skipping D:/Datasets/Datasets/EPIC_Kitchen/RGB/P01_04\\frame_03120.jpg: name 'deft' is not defined\n",
      "Skipping D:/Datasets/Datasets/EPIC_Kitchen/Flow/P01_04\\frame_03120.jpg: [Errno 2] No such file or directory: 'D:\\\\Datasets\\\\Datasets\\\\EPIC_Kitchen\\\\Flow\\\\P01_04\\\\frame_03120.jpg'\n",
      "Skipping D:/Datasets/Datasets/EPIC_Kitchen/RGB/P01_04\\frame_03130.jpg: name 'deft' is not defined\n",
      "Skipping D:/Datasets/Datasets/EPIC_Kitchen/Flow/P01_04\\frame_03130.jpg: [Errno 2] No such file or directory: 'D:\\\\Datasets\\\\Datasets\\\\EPIC_Kitchen\\\\Flow\\\\P01_04\\\\frame_03130.jpg'\n",
      "Skipping D:/Datasets/Datasets/EPIC_Kitchen/RGB/P01_04\\frame_03140.jpg: name 'deft' is not defined\n",
      "Skipping D:/Datasets/Datasets/EPIC_Kitchen/Flow/P01_04\\frame_03140.jpg: [Errno 2] No such file or directory: 'D:\\\\Datasets\\\\Datasets\\\\EPIC_Kitchen\\\\Flow\\\\P01_04\\\\frame_03140.jpg'\n",
      "Skipping D:/Datasets/Datasets/EPIC_Kitchen/RGB/P01_04\\frame_03150.jpg: name 'deft' is not defined\n",
      "Skipping D:/Datasets/Datasets/EPIC_Kitchen/Flow/P01_04\\frame_03150.jpg: [Errno 2] No such file or directory: 'D:\\\\Datasets\\\\Datasets\\\\EPIC_Kitchen\\\\Flow\\\\P01_04\\\\frame_03150.jpg'\n",
      "Skipping D:/Datasets/Datasets/EPIC_Kitchen/RGB/P01_04\\frame_03160.jpg: name 'deft' is not defined\n",
      "Skipping D:/Datasets/Datasets/EPIC_Kitchen/Flow/P01_04\\frame_03160.jpg: [Errno 2] No such file or directory: 'D:\\\\Datasets\\\\Datasets\\\\EPIC_Kitchen\\\\Flow\\\\P01_04\\\\frame_03160.jpg'\n",
      "Skipping D:/Datasets/Datasets/EPIC_Kitchen/RGB/P01_04\\frame_03170.jpg: name 'deft' is not defined\n",
      "Skipping D:/Datasets/Datasets/EPIC_Kitchen/Flow/P01_04\\frame_03170.jpg: [Errno 2] No such file or directory: 'D:\\\\Datasets\\\\Datasets\\\\EPIC_Kitchen\\\\Flow\\\\P01_04\\\\frame_03170.jpg'\n"
     ]
    },
    {
     "name": "stderr",
     "output_type": "stream",
     "text": [
      "Processing RGB + Flow frames:  51%|█████████████████████████▌                        | 323/631 [00:08<00:09, 30.91it/s]"
     ]
    },
    {
     "name": "stdout",
     "output_type": "stream",
     "text": [
      "Skipping D:/Datasets/Datasets/EPIC_Kitchen/RGB/P01_04\\frame_03180.jpg: name 'deft' is not defined\n",
      "Skipping D:/Datasets/Datasets/EPIC_Kitchen/Flow/P01_04\\frame_03180.jpg: [Errno 2] No such file or directory: 'D:\\\\Datasets\\\\Datasets\\\\EPIC_Kitchen\\\\Flow\\\\P01_04\\\\frame_03180.jpg'\n",
      "Skipping D:/Datasets/Datasets/EPIC_Kitchen/RGB/P01_04\\frame_03190.jpg: name 'deft' is not defined\n",
      "Skipping D:/Datasets/Datasets/EPIC_Kitchen/Flow/P01_04\\frame_03190.jpg: [Errno 2] No such file or directory: 'D:\\\\Datasets\\\\Datasets\\\\EPIC_Kitchen\\\\Flow\\\\P01_04\\\\frame_03190.jpg'\n",
      "Skipping D:/Datasets/Datasets/EPIC_Kitchen/RGB/P01_04\\frame_03200.jpg: name 'deft' is not defined\n",
      "Skipping D:/Datasets/Datasets/EPIC_Kitchen/Flow/P01_04\\frame_03200.jpg: [Errno 2] No such file or directory: 'D:\\\\Datasets\\\\Datasets\\\\EPIC_Kitchen\\\\Flow\\\\P01_04\\\\frame_03200.jpg'\n",
      "Skipping D:/Datasets/Datasets/EPIC_Kitchen/RGB/P01_04\\frame_03210.jpg: name 'deft' is not defined\n",
      "Skipping D:/Datasets/Datasets/EPIC_Kitchen/Flow/P01_04\\frame_03210.jpg: [Errno 2] No such file or directory: 'D:\\\\Datasets\\\\Datasets\\\\EPIC_Kitchen\\\\Flow\\\\P01_04\\\\frame_03210.jpg'\n",
      "Skipping D:/Datasets/Datasets/EPIC_Kitchen/RGB/P01_04\\frame_03220.jpg: name 'deft' is not defined\n",
      "Skipping D:/Datasets/Datasets/EPIC_Kitchen/Flow/P01_04\\frame_03220.jpg: [Errno 2] No such file or directory: 'D:\\\\Datasets\\\\Datasets\\\\EPIC_Kitchen\\\\Flow\\\\P01_04\\\\frame_03220.jpg'\n",
      "Skipping D:/Datasets/Datasets/EPIC_Kitchen/RGB/P01_04\\frame_03230.jpg: name 'deft' is not defined\n",
      "Skipping D:/Datasets/Datasets/EPIC_Kitchen/Flow/P01_04\\frame_03230.jpg: [Errno 2] No such file or directory: 'D:\\\\Datasets\\\\Datasets\\\\EPIC_Kitchen\\\\Flow\\\\P01_04\\\\frame_03230.jpg'\n",
      "Skipping D:/Datasets/Datasets/EPIC_Kitchen/RGB/P01_04\\frame_03240.jpg: name 'deft' is not defined\n",
      "Skipping D:/Datasets/Datasets/EPIC_Kitchen/Flow/P01_04\\frame_03240.jpg: [Errno 2] No such file or directory: 'D:\\\\Datasets\\\\Datasets\\\\EPIC_Kitchen\\\\Flow\\\\P01_04\\\\frame_03240.jpg'\n"
     ]
    },
    {
     "name": "stderr",
     "output_type": "stream",
     "text": [
      "Processing RGB + Flow frames:  52%|██████████████████████████▏                       | 331/631 [00:08<00:09, 30.50it/s]"
     ]
    },
    {
     "name": "stdout",
     "output_type": "stream",
     "text": [
      "Skipping D:/Datasets/Datasets/EPIC_Kitchen/RGB/P01_04\\frame_03250.jpg: name 'deft' is not defined\n",
      "Skipping D:/Datasets/Datasets/EPIC_Kitchen/Flow/P01_04\\frame_03250.jpg: [Errno 2] No such file or directory: 'D:\\\\Datasets\\\\Datasets\\\\EPIC_Kitchen\\\\Flow\\\\P01_04\\\\frame_03250.jpg'\n",
      "Skipping D:/Datasets/Datasets/EPIC_Kitchen/RGB/P01_04\\frame_03260.jpg: name 'deft' is not defined\n",
      "Skipping D:/Datasets/Datasets/EPIC_Kitchen/Flow/P01_04\\frame_03260.jpg: [Errno 2] No such file or directory: 'D:\\\\Datasets\\\\Datasets\\\\EPIC_Kitchen\\\\Flow\\\\P01_04\\\\frame_03260.jpg'\n",
      "Skipping D:/Datasets/Datasets/EPIC_Kitchen/RGB/P01_04\\frame_03270.jpg: name 'deft' is not defined\n",
      "Skipping D:/Datasets/Datasets/EPIC_Kitchen/Flow/P01_04\\frame_03270.jpg: [Errno 2] No such file or directory: 'D:\\\\Datasets\\\\Datasets\\\\EPIC_Kitchen\\\\Flow\\\\P01_04\\\\frame_03270.jpg'\n",
      "Skipping D:/Datasets/Datasets/EPIC_Kitchen/RGB/P01_04\\frame_03280.jpg: name 'deft' is not defined\n",
      "Skipping D:/Datasets/Datasets/EPIC_Kitchen/Flow/P01_04\\frame_03280.jpg: [Errno 2] No such file or directory: 'D:\\\\Datasets\\\\Datasets\\\\EPIC_Kitchen\\\\Flow\\\\P01_04\\\\frame_03280.jpg'\n",
      "Skipping D:/Datasets/Datasets/EPIC_Kitchen/RGB/P01_04\\frame_03290.jpg: name 'deft' is not defined\n",
      "Skipping D:/Datasets/Datasets/EPIC_Kitchen/Flow/P01_04\\frame_03290.jpg: [Errno 2] No such file or directory: 'D:\\\\Datasets\\\\Datasets\\\\EPIC_Kitchen\\\\Flow\\\\P01_04\\\\frame_03290.jpg'\n",
      "Skipping D:/Datasets/Datasets/EPIC_Kitchen/RGB/P01_04\\frame_03300.jpg: name 'deft' is not defined\n",
      "Skipping D:/Datasets/Datasets/EPIC_Kitchen/Flow/P01_04\\frame_03300.jpg: [Errno 2] No such file or directory: 'D:\\\\Datasets\\\\Datasets\\\\EPIC_Kitchen\\\\Flow\\\\P01_04\\\\frame_03300.jpg'\n",
      "Skipping D:/Datasets/Datasets/EPIC_Kitchen/RGB/P01_04\\frame_03310.jpg: name 'deft' is not defined\n",
      "Skipping D:/Datasets/Datasets/EPIC_Kitchen/Flow/P01_04\\frame_03310.jpg: [Errno 2] No such file or directory: 'D:\\\\Datasets\\\\Datasets\\\\EPIC_Kitchen\\\\Flow\\\\P01_04\\\\frame_03310.jpg'\n"
     ]
    },
    {
     "name": "stderr",
     "output_type": "stream",
     "text": [
      "\r",
      "Processing RGB + Flow frames:  53%|██████████████████████████▌                       | 335/631 [00:08<00:09, 29.99it/s]"
     ]
    },
    {
     "name": "stdout",
     "output_type": "stream",
     "text": [
      "Skipping D:/Datasets/Datasets/EPIC_Kitchen/RGB/P01_04\\frame_03320.jpg: name 'deft' is not defined\n",
      "Skipping D:/Datasets/Datasets/EPIC_Kitchen/Flow/P01_04\\frame_03320.jpg: [Errno 2] No such file or directory: 'D:\\\\Datasets\\\\Datasets\\\\EPIC_Kitchen\\\\Flow\\\\P01_04\\\\frame_03320.jpg'\n",
      "Skipping D:/Datasets/Datasets/EPIC_Kitchen/RGB/P01_04\\frame_03330.jpg: name 'deft' is not defined\n",
      "Skipping D:/Datasets/Datasets/EPIC_Kitchen/Flow/P01_04\\frame_03330.jpg: [Errno 2] No such file or directory: 'D:\\\\Datasets\\\\Datasets\\\\EPIC_Kitchen\\\\Flow\\\\P01_04\\\\frame_03330.jpg'\n",
      "Skipping D:/Datasets/Datasets/EPIC_Kitchen/RGB/P01_04\\frame_03340.jpg: name 'deft' is not defined\n",
      "Skipping D:/Datasets/Datasets/EPIC_Kitchen/Flow/P01_04\\frame_03340.jpg: [Errno 2] No such file or directory: 'D:\\\\Datasets\\\\Datasets\\\\EPIC_Kitchen\\\\Flow\\\\P01_04\\\\frame_03340.jpg'\n",
      "Skipping D:/Datasets/Datasets/EPIC_Kitchen/RGB/P01_04\\frame_03350.jpg: name 'deft' is not defined\n",
      "Skipping D:/Datasets/Datasets/EPIC_Kitchen/Flow/P01_04\\frame_03350.jpg: [Errno 2] No such file or directory: 'D:\\\\Datasets\\\\Datasets\\\\EPIC_Kitchen\\\\Flow\\\\P01_04\\\\frame_03350.jpg'\n",
      "Skipping D:/Datasets/Datasets/EPIC_Kitchen/RGB/P01_04\\frame_03360.jpg: name 'deft' is not defined\n",
      "Skipping D:/Datasets/Datasets/EPIC_Kitchen/Flow/P01_04\\frame_03360.jpg: [Errno 2] No such file or directory: 'D:\\\\Datasets\\\\Datasets\\\\EPIC_Kitchen\\\\Flow\\\\P01_04\\\\frame_03360.jpg'\n",
      "Skipping D:/Datasets/Datasets/EPIC_Kitchen/RGB/P01_04\\frame_03370.jpg: name 'deft' is not defined\n",
      "Skipping D:/Datasets/Datasets/EPIC_Kitchen/Flow/P01_04\\frame_03370.jpg: [Errno 2] No such file or directory: 'D:\\\\Datasets\\\\Datasets\\\\EPIC_Kitchen\\\\Flow\\\\P01_04\\\\frame_03370.jpg'\n"
     ]
    },
    {
     "name": "stderr",
     "output_type": "stream",
     "text": [
      "Processing RGB + Flow frames:  54%|███████████████████████████                       | 342/631 [00:09<00:10, 28.69it/s]"
     ]
    },
    {
     "name": "stdout",
     "output_type": "stream",
     "text": [
      "Skipping D:/Datasets/Datasets/EPIC_Kitchen/RGB/P01_04\\frame_03380.jpg: name 'deft' is not defined\n",
      "Skipping D:/Datasets/Datasets/EPIC_Kitchen/Flow/P01_04\\frame_03380.jpg: [Errno 2] No such file or directory: 'D:\\\\Datasets\\\\Datasets\\\\EPIC_Kitchen\\\\Flow\\\\P01_04\\\\frame_03380.jpg'\n",
      "Skipping D:/Datasets/Datasets/EPIC_Kitchen/RGB/P01_04\\frame_03390.jpg: name 'deft' is not defined\n",
      "Skipping D:/Datasets/Datasets/EPIC_Kitchen/Flow/P01_04\\frame_03390.jpg: [Errno 2] No such file or directory: 'D:\\\\Datasets\\\\Datasets\\\\EPIC_Kitchen\\\\Flow\\\\P01_04\\\\frame_03390.jpg'\n",
      "Skipping D:/Datasets/Datasets/EPIC_Kitchen/RGB/P01_04\\frame_03400.jpg: name 'deft' is not defined\n",
      "Skipping D:/Datasets/Datasets/EPIC_Kitchen/Flow/P01_04\\frame_03400.jpg: [Errno 2] No such file or directory: 'D:\\\\Datasets\\\\Datasets\\\\EPIC_Kitchen\\\\Flow\\\\P01_04\\\\frame_03400.jpg'\n",
      "Skipping D:/Datasets/Datasets/EPIC_Kitchen/RGB/P01_04\\frame_03410.jpg: name 'deft' is not defined\n",
      "Skipping D:/Datasets/Datasets/EPIC_Kitchen/Flow/P01_04\\frame_03410.jpg: [Errno 2] No such file or directory: 'D:\\\\Datasets\\\\Datasets\\\\EPIC_Kitchen\\\\Flow\\\\P01_04\\\\frame_03410.jpg'\n",
      "Skipping D:/Datasets/Datasets/EPIC_Kitchen/RGB/P01_04\\frame_03420.jpg: name 'deft' is not defined\n",
      "Skipping D:/Datasets/Datasets/EPIC_Kitchen/Flow/P01_04\\frame_03420.jpg: [Errno 2] No such file or directory: 'D:\\\\Datasets\\\\Datasets\\\\EPIC_Kitchen\\\\Flow\\\\P01_04\\\\frame_03420.jpg'\n",
      "Skipping D:/Datasets/Datasets/EPIC_Kitchen/RGB/P01_04\\frame_03430.jpg: name 'deft' is not defined\n",
      "Skipping D:/Datasets/Datasets/EPIC_Kitchen/Flow/P01_04\\frame_03430.jpg: [Errno 2] No such file or directory: 'D:\\\\Datasets\\\\Datasets\\\\EPIC_Kitchen\\\\Flow\\\\P01_04\\\\frame_03430.jpg'\n"
     ]
    },
    {
     "name": "stderr",
     "output_type": "stream",
     "text": [
      "Processing RGB + Flow frames:  55%|███████████████████████████▌                      | 348/631 [00:09<00:09, 28.83it/s]"
     ]
    },
    {
     "name": "stdout",
     "output_type": "stream",
     "text": [
      "Skipping D:/Datasets/Datasets/EPIC_Kitchen/RGB/P01_04\\frame_03440.jpg: name 'deft' is not defined\n",
      "Skipping D:/Datasets/Datasets/EPIC_Kitchen/Flow/P01_04\\frame_03440.jpg: [Errno 2] No such file or directory: 'D:\\\\Datasets\\\\Datasets\\\\EPIC_Kitchen\\\\Flow\\\\P01_04\\\\frame_03440.jpg'\n",
      "Skipping D:/Datasets/Datasets/EPIC_Kitchen/RGB/P01_04\\frame_03450.jpg: name 'deft' is not defined\n",
      "Skipping D:/Datasets/Datasets/EPIC_Kitchen/Flow/P01_04\\frame_03450.jpg: [Errno 2] No such file or directory: 'D:\\\\Datasets\\\\Datasets\\\\EPIC_Kitchen\\\\Flow\\\\P01_04\\\\frame_03450.jpg'\n",
      "Skipping D:/Datasets/Datasets/EPIC_Kitchen/RGB/P01_04\\frame_03460.jpg: name 'deft' is not defined\n",
      "Skipping D:/Datasets/Datasets/EPIC_Kitchen/Flow/P01_04\\frame_03460.jpg: [Errno 2] No such file or directory: 'D:\\\\Datasets\\\\Datasets\\\\EPIC_Kitchen\\\\Flow\\\\P01_04\\\\frame_03460.jpg'\n",
      "Skipping D:/Datasets/Datasets/EPIC_Kitchen/RGB/P01_04\\frame_03470.jpg: name 'deft' is not defined\n",
      "Skipping D:/Datasets/Datasets/EPIC_Kitchen/Flow/P01_04\\frame_03470.jpg: [Errno 2] No such file or directory: 'D:\\\\Datasets\\\\Datasets\\\\EPIC_Kitchen\\\\Flow\\\\P01_04\\\\frame_03470.jpg'\n",
      "Skipping D:/Datasets/Datasets/EPIC_Kitchen/RGB/P01_04\\frame_03480.jpg: name 'deft' is not defined\n",
      "Skipping D:/Datasets/Datasets/EPIC_Kitchen/Flow/P01_04\\frame_03480.jpg: [Errno 2] No such file or directory: 'D:\\\\Datasets\\\\Datasets\\\\EPIC_Kitchen\\\\Flow\\\\P01_04\\\\frame_03480.jpg'\n",
      "Skipping D:/Datasets/Datasets/EPIC_Kitchen/RGB/P01_04\\frame_03490.jpg: name 'deft' is not defined\n",
      "Skipping D:/Datasets/Datasets/EPIC_Kitchen/Flow/P01_04\\frame_03490.jpg: [Errno 2] No such file or directory: 'D:\\\\Datasets\\\\Datasets\\\\EPIC_Kitchen\\\\Flow\\\\P01_04\\\\frame_03490.jpg'\n"
     ]
    },
    {
     "name": "stderr",
     "output_type": "stream",
     "text": [
      "Processing RGB + Flow frames:  56%|████████████████████████████▏                     | 355/631 [00:09<00:09, 29.07it/s]"
     ]
    },
    {
     "name": "stdout",
     "output_type": "stream",
     "text": [
      "Skipping D:/Datasets/Datasets/EPIC_Kitchen/RGB/P01_04\\frame_03500.jpg: name 'deft' is not defined\n",
      "Skipping D:/Datasets/Datasets/EPIC_Kitchen/Flow/P01_04\\frame_03500.jpg: [Errno 2] No such file or directory: 'D:\\\\Datasets\\\\Datasets\\\\EPIC_Kitchen\\\\Flow\\\\P01_04\\\\frame_03500.jpg'\n",
      "Skipping D:/Datasets/Datasets/EPIC_Kitchen/RGB/P01_04\\frame_03510.jpg: name 'deft' is not defined\n",
      "Skipping D:/Datasets/Datasets/EPIC_Kitchen/Flow/P01_04\\frame_03510.jpg: [Errno 2] No such file or directory: 'D:\\\\Datasets\\\\Datasets\\\\EPIC_Kitchen\\\\Flow\\\\P01_04\\\\frame_03510.jpg'\n",
      "Skipping D:/Datasets/Datasets/EPIC_Kitchen/RGB/P01_04\\frame_03520.jpg: name 'deft' is not defined\n",
      "Skipping D:/Datasets/Datasets/EPIC_Kitchen/Flow/P01_04\\frame_03520.jpg: [Errno 2] No such file or directory: 'D:\\\\Datasets\\\\Datasets\\\\EPIC_Kitchen\\\\Flow\\\\P01_04\\\\frame_03520.jpg'\n",
      "Skipping D:/Datasets/Datasets/EPIC_Kitchen/RGB/P01_04\\frame_03530.jpg: name 'deft' is not defined\n",
      "Skipping D:/Datasets/Datasets/EPIC_Kitchen/Flow/P01_04\\frame_03530.jpg: [Errno 2] No such file or directory: 'D:\\\\Datasets\\\\Datasets\\\\EPIC_Kitchen\\\\Flow\\\\P01_04\\\\frame_03530.jpg'\n",
      "Skipping D:/Datasets/Datasets/EPIC_Kitchen/RGB/P01_04\\frame_03540.jpg: name 'deft' is not defined\n",
      "Skipping D:/Datasets/Datasets/EPIC_Kitchen/Flow/P01_04\\frame_03540.jpg: [Errno 2] No such file or directory: 'D:\\\\Datasets\\\\Datasets\\\\EPIC_Kitchen\\\\Flow\\\\P01_04\\\\frame_03540.jpg'\n",
      "Skipping D:/Datasets/Datasets/EPIC_Kitchen/RGB/P01_04\\frame_03550.jpg: name 'deft' is not defined\n",
      "Skipping D:/Datasets/Datasets/EPIC_Kitchen/Flow/P01_04\\frame_03550.jpg: [Errno 2] No such file or directory: 'D:\\\\Datasets\\\\Datasets\\\\EPIC_Kitchen\\\\Flow\\\\P01_04\\\\frame_03550.jpg'\n",
      "Skipping D:/Datasets/Datasets/EPIC_Kitchen/RGB/P01_04\\frame_03560.jpg: name 'deft' is not defined\n",
      "Skipping D:/Datasets/Datasets/EPIC_Kitchen/Flow/P01_04\\frame_03560.jpg: [Errno 2] No such file or directory: 'D:\\\\Datasets\\\\Datasets\\\\EPIC_Kitchen\\\\Flow\\\\P01_04\\\\frame_03560.jpg'\n"
     ]
    },
    {
     "name": "stderr",
     "output_type": "stream",
     "text": [
      "Processing RGB + Flow frames:  57%|████████████████████████████▋                     | 362/631 [00:09<00:09, 29.55it/s]"
     ]
    },
    {
     "name": "stdout",
     "output_type": "stream",
     "text": [
      "Skipping D:/Datasets/Datasets/EPIC_Kitchen/RGB/P01_04\\frame_03570.jpg: name 'deft' is not defined\n",
      "Skipping D:/Datasets/Datasets/EPIC_Kitchen/Flow/P01_04\\frame_03570.jpg: [Errno 2] No such file or directory: 'D:\\\\Datasets\\\\Datasets\\\\EPIC_Kitchen\\\\Flow\\\\P01_04\\\\frame_03570.jpg'\n",
      "Skipping D:/Datasets/Datasets/EPIC_Kitchen/RGB/P01_04\\frame_03580.jpg: name 'deft' is not defined\n",
      "Skipping D:/Datasets/Datasets/EPIC_Kitchen/Flow/P01_04\\frame_03580.jpg: [Errno 2] No such file or directory: 'D:\\\\Datasets\\\\Datasets\\\\EPIC_Kitchen\\\\Flow\\\\P01_04\\\\frame_03580.jpg'\n",
      "Skipping D:/Datasets/Datasets/EPIC_Kitchen/RGB/P01_04\\frame_03590.jpg: name 'deft' is not defined\n",
      "Skipping D:/Datasets/Datasets/EPIC_Kitchen/Flow/P01_04\\frame_03590.jpg: [Errno 2] No such file or directory: 'D:\\\\Datasets\\\\Datasets\\\\EPIC_Kitchen\\\\Flow\\\\P01_04\\\\frame_03590.jpg'\n",
      "Skipping D:/Datasets/Datasets/EPIC_Kitchen/RGB/P01_04\\frame_03600.jpg: name 'deft' is not defined\n",
      "Skipping D:/Datasets/Datasets/EPIC_Kitchen/Flow/P01_04\\frame_03600.jpg: [Errno 2] No such file or directory: 'D:\\\\Datasets\\\\Datasets\\\\EPIC_Kitchen\\\\Flow\\\\P01_04\\\\frame_03600.jpg'\n",
      "Skipping D:/Datasets/Datasets/EPIC_Kitchen/RGB/P01_04\\frame_03610.jpg: name 'deft' is not defined\n",
      "Skipping D:/Datasets/Datasets/EPIC_Kitchen/Flow/P01_04\\frame_03610.jpg: [Errno 2] No such file or directory: 'D:\\\\Datasets\\\\Datasets\\\\EPIC_Kitchen\\\\Flow\\\\P01_04\\\\frame_03610.jpg'\n",
      "Skipping D:/Datasets/Datasets/EPIC_Kitchen/RGB/P01_04\\frame_03620.jpg: name 'deft' is not defined\n",
      "Skipping D:/Datasets/Datasets/EPIC_Kitchen/Flow/P01_04\\frame_03620.jpg: [Errno 2] No such file or directory: 'D:\\\\Datasets\\\\Datasets\\\\EPIC_Kitchen\\\\Flow\\\\P01_04\\\\frame_03620.jpg'\n",
      "Skipping D:/Datasets/Datasets/EPIC_Kitchen/RGB/P01_04\\frame_03630.jpg: name 'deft' is not defined\n",
      "Skipping D:/Datasets/Datasets/EPIC_Kitchen/Flow/P01_04\\frame_03630.jpg: [Errno 2] No such file or directory: 'D:\\\\Datasets\\\\Datasets\\\\EPIC_Kitchen\\\\Flow\\\\P01_04\\\\frame_03630.jpg'\n"
     ]
    },
    {
     "name": "stderr",
     "output_type": "stream",
     "text": [
      "Processing RGB + Flow frames:  58%|█████████████████████████████▏                    | 368/631 [00:09<00:09, 28.97it/s]"
     ]
    },
    {
     "name": "stdout",
     "output_type": "stream",
     "text": [
      "Skipping D:/Datasets/Datasets/EPIC_Kitchen/RGB/P01_04\\frame_03640.jpg: name 'deft' is not defined\n",
      "Skipping D:/Datasets/Datasets/EPIC_Kitchen/Flow/P01_04\\frame_03640.jpg: [Errno 2] No such file or directory: 'D:\\\\Datasets\\\\Datasets\\\\EPIC_Kitchen\\\\Flow\\\\P01_04\\\\frame_03640.jpg'\n",
      "Skipping D:/Datasets/Datasets/EPIC_Kitchen/RGB/P01_04\\frame_03650.jpg: name 'deft' is not defined\n",
      "Skipping D:/Datasets/Datasets/EPIC_Kitchen/Flow/P01_04\\frame_03650.jpg: [Errno 2] No such file or directory: 'D:\\\\Datasets\\\\Datasets\\\\EPIC_Kitchen\\\\Flow\\\\P01_04\\\\frame_03650.jpg'\n",
      "Skipping D:/Datasets/Datasets/EPIC_Kitchen/RGB/P01_04\\frame_03660.jpg: name 'deft' is not defined\n",
      "Skipping D:/Datasets/Datasets/EPIC_Kitchen/Flow/P01_04\\frame_03660.jpg: [Errno 2] No such file or directory: 'D:\\\\Datasets\\\\Datasets\\\\EPIC_Kitchen\\\\Flow\\\\P01_04\\\\frame_03660.jpg'\n",
      "Skipping D:/Datasets/Datasets/EPIC_Kitchen/RGB/P01_04\\frame_03670.jpg: name 'deft' is not defined\n",
      "Skipping D:/Datasets/Datasets/EPIC_Kitchen/Flow/P01_04\\frame_03670.jpg: [Errno 2] No such file or directory: 'D:\\\\Datasets\\\\Datasets\\\\EPIC_Kitchen\\\\Flow\\\\P01_04\\\\frame_03670.jpg'\n",
      "Skipping D:/Datasets/Datasets/EPIC_Kitchen/RGB/P01_04\\frame_03680.jpg: name 'deft' is not defined\n",
      "Skipping D:/Datasets/Datasets/EPIC_Kitchen/Flow/P01_04\\frame_03680.jpg: [Errno 2] No such file or directory: 'D:\\\\Datasets\\\\Datasets\\\\EPIC_Kitchen\\\\Flow\\\\P01_04\\\\frame_03680.jpg'\n",
      "Skipping D:/Datasets/Datasets/EPIC_Kitchen/RGB/P01_04\\frame_03690.jpg: name 'deft' is not defined\n",
      "Skipping D:/Datasets/Datasets/EPIC_Kitchen/Flow/P01_04\\frame_03690.jpg: [Errno 2] No such file or directory: 'D:\\\\Datasets\\\\Datasets\\\\EPIC_Kitchen\\\\Flow\\\\P01_04\\\\frame_03690.jpg'\n"
     ]
    },
    {
     "name": "stderr",
     "output_type": "stream",
     "text": [
      "Processing RGB + Flow frames:  59%|█████████████████████████████▋                    | 375/631 [00:10<00:08, 29.51it/s]"
     ]
    },
    {
     "name": "stdout",
     "output_type": "stream",
     "text": [
      "Skipping D:/Datasets/Datasets/EPIC_Kitchen/RGB/P01_04\\frame_03700.jpg: name 'deft' is not defined\n",
      "Skipping D:/Datasets/Datasets/EPIC_Kitchen/Flow/P01_04\\frame_03700.jpg: [Errno 2] No such file or directory: 'D:\\\\Datasets\\\\Datasets\\\\EPIC_Kitchen\\\\Flow\\\\P01_04\\\\frame_03700.jpg'\n",
      "Skipping D:/Datasets/Datasets/EPIC_Kitchen/RGB/P01_04\\frame_03710.jpg: name 'deft' is not defined\n",
      "Skipping D:/Datasets/Datasets/EPIC_Kitchen/Flow/P01_04\\frame_03710.jpg: [Errno 2] No such file or directory: 'D:\\\\Datasets\\\\Datasets\\\\EPIC_Kitchen\\\\Flow\\\\P01_04\\\\frame_03710.jpg'\n",
      "Skipping D:/Datasets/Datasets/EPIC_Kitchen/RGB/P01_04\\frame_03720.jpg: name 'deft' is not defined\n",
      "Skipping D:/Datasets/Datasets/EPIC_Kitchen/Flow/P01_04\\frame_03720.jpg: [Errno 2] No such file or directory: 'D:\\\\Datasets\\\\Datasets\\\\EPIC_Kitchen\\\\Flow\\\\P01_04\\\\frame_03720.jpg'\n",
      "Skipping D:/Datasets/Datasets/EPIC_Kitchen/RGB/P01_04\\frame_03730.jpg: name 'deft' is not defined\n",
      "Skipping D:/Datasets/Datasets/EPIC_Kitchen/Flow/P01_04\\frame_03730.jpg: [Errno 2] No such file or directory: 'D:\\\\Datasets\\\\Datasets\\\\EPIC_Kitchen\\\\Flow\\\\P01_04\\\\frame_03730.jpg'\n",
      "Skipping D:/Datasets/Datasets/EPIC_Kitchen/RGB/P01_04\\frame_03740.jpg: name 'deft' is not defined\n",
      "Skipping D:/Datasets/Datasets/EPIC_Kitchen/Flow/P01_04\\frame_03740.jpg: [Errno 2] No such file or directory: 'D:\\\\Datasets\\\\Datasets\\\\EPIC_Kitchen\\\\Flow\\\\P01_04\\\\frame_03740.jpg'\n",
      "Skipping D:/Datasets/Datasets/EPIC_Kitchen/RGB/P01_04\\frame_03750.jpg: name 'deft' is not defined\n",
      "Skipping D:/Datasets/Datasets/EPIC_Kitchen/Flow/P01_04\\frame_03750.jpg: [Errno 2] No such file or directory: 'D:\\\\Datasets\\\\Datasets\\\\EPIC_Kitchen\\\\Flow\\\\P01_04\\\\frame_03750.jpg'\n",
      "Skipping D:/Datasets/Datasets/EPIC_Kitchen/RGB/P01_04\\frame_03760.jpg: name 'deft' is not defined\n",
      "Skipping D:/Datasets/Datasets/EPIC_Kitchen/Flow/P01_04\\frame_03760.jpg: [Errno 2] No such file or directory: 'D:\\\\Datasets\\\\Datasets\\\\EPIC_Kitchen\\\\Flow\\\\P01_04\\\\frame_03760.jpg'\n"
     ]
    },
    {
     "name": "stderr",
     "output_type": "stream",
     "text": [
      "Processing RGB + Flow frames:  61%|██████████████████████████████▎                   | 382/631 [00:10<00:08, 29.77it/s]"
     ]
    },
    {
     "name": "stdout",
     "output_type": "stream",
     "text": [
      "Skipping D:/Datasets/Datasets/EPIC_Kitchen/RGB/P01_04\\frame_03770.jpg: name 'deft' is not defined\n",
      "Skipping D:/Datasets/Datasets/EPIC_Kitchen/Flow/P01_04\\frame_03770.jpg: [Errno 2] No such file or directory: 'D:\\\\Datasets\\\\Datasets\\\\EPIC_Kitchen\\\\Flow\\\\P01_04\\\\frame_03770.jpg'\n",
      "Skipping D:/Datasets/Datasets/EPIC_Kitchen/RGB/P01_04\\frame_03780.jpg: name 'deft' is not defined\n",
      "Skipping D:/Datasets/Datasets/EPIC_Kitchen/Flow/P01_04\\frame_03780.jpg: [Errno 2] No such file or directory: 'D:\\\\Datasets\\\\Datasets\\\\EPIC_Kitchen\\\\Flow\\\\P01_04\\\\frame_03780.jpg'\n",
      "Skipping D:/Datasets/Datasets/EPIC_Kitchen/RGB/P01_04\\frame_03790.jpg: name 'deft' is not defined\n",
      "Skipping D:/Datasets/Datasets/EPIC_Kitchen/Flow/P01_04\\frame_03790.jpg: [Errno 2] No such file or directory: 'D:\\\\Datasets\\\\Datasets\\\\EPIC_Kitchen\\\\Flow\\\\P01_04\\\\frame_03790.jpg'\n",
      "Skipping D:/Datasets/Datasets/EPIC_Kitchen/RGB/P01_04\\frame_03800.jpg: name 'deft' is not defined\n",
      "Skipping D:/Datasets/Datasets/EPIC_Kitchen/Flow/P01_04\\frame_03800.jpg: [Errno 2] No such file or directory: 'D:\\\\Datasets\\\\Datasets\\\\EPIC_Kitchen\\\\Flow\\\\P01_04\\\\frame_03800.jpg'\n",
      "Skipping D:/Datasets/Datasets/EPIC_Kitchen/RGB/P01_04\\frame_03810.jpg: name 'deft' is not defined\n",
      "Skipping D:/Datasets/Datasets/EPIC_Kitchen/Flow/P01_04\\frame_03810.jpg: [Errno 2] No such file or directory: 'D:\\\\Datasets\\\\Datasets\\\\EPIC_Kitchen\\\\Flow\\\\P01_04\\\\frame_03810.jpg'\n",
      "Skipping D:/Datasets/Datasets/EPIC_Kitchen/RGB/P01_04\\frame_03820.jpg: name 'deft' is not defined\n",
      "Skipping D:/Datasets/Datasets/EPIC_Kitchen/Flow/P01_04\\frame_03820.jpg: [Errno 2] No such file or directory: 'D:\\\\Datasets\\\\Datasets\\\\EPIC_Kitchen\\\\Flow\\\\P01_04\\\\frame_03820.jpg'\n"
     ]
    },
    {
     "name": "stderr",
     "output_type": "stream",
     "text": [
      "Processing RGB + Flow frames:  61%|██████████████████████████████▋                   | 388/631 [00:10<00:08, 28.86it/s]"
     ]
    },
    {
     "name": "stdout",
     "output_type": "stream",
     "text": [
      "Skipping D:/Datasets/Datasets/EPIC_Kitchen/RGB/P01_04\\frame_03830.jpg: name 'deft' is not defined\n",
      "Skipping D:/Datasets/Datasets/EPIC_Kitchen/Flow/P01_04\\frame_03830.jpg: [Errno 2] No such file or directory: 'D:\\\\Datasets\\\\Datasets\\\\EPIC_Kitchen\\\\Flow\\\\P01_04\\\\frame_03830.jpg'\n",
      "Skipping D:/Datasets/Datasets/EPIC_Kitchen/RGB/P01_04\\frame_03840.jpg: name 'deft' is not defined\n",
      "Skipping D:/Datasets/Datasets/EPIC_Kitchen/Flow/P01_04\\frame_03840.jpg: [Errno 2] No such file or directory: 'D:\\\\Datasets\\\\Datasets\\\\EPIC_Kitchen\\\\Flow\\\\P01_04\\\\frame_03840.jpg'\n",
      "Skipping D:/Datasets/Datasets/EPIC_Kitchen/RGB/P01_04\\frame_03850.jpg: name 'deft' is not defined\n",
      "Skipping D:/Datasets/Datasets/EPIC_Kitchen/Flow/P01_04\\frame_03850.jpg: [Errno 2] No such file or directory: 'D:\\\\Datasets\\\\Datasets\\\\EPIC_Kitchen\\\\Flow\\\\P01_04\\\\frame_03850.jpg'\n",
      "Skipping D:/Datasets/Datasets/EPIC_Kitchen/RGB/P01_04\\frame_03860.jpg: name 'deft' is not defined\n",
      "Skipping D:/Datasets/Datasets/EPIC_Kitchen/Flow/P01_04\\frame_03860.jpg: [Errno 2] No such file or directory: 'D:\\\\Datasets\\\\Datasets\\\\EPIC_Kitchen\\\\Flow\\\\P01_04\\\\frame_03860.jpg'\n",
      "Skipping D:/Datasets/Datasets/EPIC_Kitchen/RGB/P01_04\\frame_03870.jpg: name 'deft' is not defined\n",
      "Skipping D:/Datasets/Datasets/EPIC_Kitchen/Flow/P01_04\\frame_03870.jpg: [Errno 2] No such file or directory: 'D:\\\\Datasets\\\\Datasets\\\\EPIC_Kitchen\\\\Flow\\\\P01_04\\\\frame_03870.jpg'\n",
      "Skipping D:/Datasets/Datasets/EPIC_Kitchen/RGB/P01_04\\frame_03880.jpg: name 'deft' is not defined\n",
      "Skipping D:/Datasets/Datasets/EPIC_Kitchen/Flow/P01_04\\frame_03880.jpg: [Errno 2] No such file or directory: 'D:\\\\Datasets\\\\Datasets\\\\EPIC_Kitchen\\\\Flow\\\\P01_04\\\\frame_03880.jpg'\n"
     ]
    },
    {
     "name": "stderr",
     "output_type": "stream",
     "text": [
      "Processing RGB + Flow frames:  63%|███████████████████████████████▎                  | 395/631 [00:10<00:08, 29.06it/s]"
     ]
    },
    {
     "name": "stdout",
     "output_type": "stream",
     "text": [
      "Skipping D:/Datasets/Datasets/EPIC_Kitchen/RGB/P01_04\\frame_03890.jpg: name 'deft' is not defined\n",
      "Skipping D:/Datasets/Datasets/EPIC_Kitchen/Flow/P01_04\\frame_03890.jpg: [Errno 2] No such file or directory: 'D:\\\\Datasets\\\\Datasets\\\\EPIC_Kitchen\\\\Flow\\\\P01_04\\\\frame_03890.jpg'\n",
      "Skipping D:/Datasets/Datasets/EPIC_Kitchen/RGB/P01_04\\frame_03900.jpg: name 'deft' is not defined\n",
      "Skipping D:/Datasets/Datasets/EPIC_Kitchen/Flow/P01_04\\frame_03900.jpg: [Errno 2] No such file or directory: 'D:\\\\Datasets\\\\Datasets\\\\EPIC_Kitchen\\\\Flow\\\\P01_04\\\\frame_03900.jpg'\n",
      "Skipping D:/Datasets/Datasets/EPIC_Kitchen/RGB/P01_04\\frame_03910.jpg: name 'deft' is not defined\n",
      "Skipping D:/Datasets/Datasets/EPIC_Kitchen/Flow/P01_04\\frame_03910.jpg: [Errno 2] No such file or directory: 'D:\\\\Datasets\\\\Datasets\\\\EPIC_Kitchen\\\\Flow\\\\P01_04\\\\frame_03910.jpg'\n",
      "Skipping D:/Datasets/Datasets/EPIC_Kitchen/RGB/P01_04\\frame_03920.jpg: name 'deft' is not defined\n",
      "Skipping D:/Datasets/Datasets/EPIC_Kitchen/Flow/P01_04\\frame_03920.jpg: [Errno 2] No such file or directory: 'D:\\\\Datasets\\\\Datasets\\\\EPIC_Kitchen\\\\Flow\\\\P01_04\\\\frame_03920.jpg'\n",
      "Skipping D:/Datasets/Datasets/EPIC_Kitchen/RGB/P01_04\\frame_03930.jpg: name 'deft' is not defined\n",
      "Skipping D:/Datasets/Datasets/EPIC_Kitchen/Flow/P01_04\\frame_03930.jpg: [Errno 2] No such file or directory: 'D:\\\\Datasets\\\\Datasets\\\\EPIC_Kitchen\\\\Flow\\\\P01_04\\\\frame_03930.jpg'\n",
      "Skipping D:/Datasets/Datasets/EPIC_Kitchen/RGB/P01_04\\frame_03940.jpg: name 'deft' is not defined\n",
      "Skipping D:/Datasets/Datasets/EPIC_Kitchen/Flow/P01_04\\frame_03940.jpg: [Errno 2] No such file or directory: 'D:\\\\Datasets\\\\Datasets\\\\EPIC_Kitchen\\\\Flow\\\\P01_04\\\\frame_03940.jpg'\n",
      "Skipping D:/Datasets/Datasets/EPIC_Kitchen/RGB/P01_04\\frame_03950.jpg: name 'deft' is not defined\n"
     ]
    },
    {
     "name": "stderr",
     "output_type": "stream",
     "text": [
      "\r",
      "Processing RGB + Flow frames:  63%|███████████████████████████████▌                  | 399/631 [00:11<00:07, 29.32it/s]"
     ]
    },
    {
     "name": "stdout",
     "output_type": "stream",
     "text": [
      "Skipping D:/Datasets/Datasets/EPIC_Kitchen/Flow/P01_04\\frame_03950.jpg: [Errno 2] No such file or directory: 'D:\\\\Datasets\\\\Datasets\\\\EPIC_Kitchen\\\\Flow\\\\P01_04\\\\frame_03950.jpg'\n",
      "Skipping D:/Datasets/Datasets/EPIC_Kitchen/RGB/P01_04\\frame_03960.jpg: name 'deft' is not defined\n",
      "Skipping D:/Datasets/Datasets/EPIC_Kitchen/Flow/P01_04\\frame_03960.jpg: [Errno 2] No such file or directory: 'D:\\\\Datasets\\\\Datasets\\\\EPIC_Kitchen\\\\Flow\\\\P01_04\\\\frame_03960.jpg'\n",
      "Skipping D:/Datasets/Datasets/EPIC_Kitchen/RGB/P01_04\\frame_03970.jpg: name 'deft' is not defined\n",
      "Skipping D:/Datasets/Datasets/EPIC_Kitchen/Flow/P01_04\\frame_03970.jpg: [Errno 2] No such file or directory: 'D:\\\\Datasets\\\\Datasets\\\\EPIC_Kitchen\\\\Flow\\\\P01_04\\\\frame_03970.jpg'\n",
      "Skipping D:/Datasets/Datasets/EPIC_Kitchen/RGB/P01_04\\frame_03980.jpg: name 'deft' is not defined\n",
      "Skipping D:/Datasets/Datasets/EPIC_Kitchen/Flow/P01_04\\frame_03980.jpg: [Errno 2] No such file or directory: 'D:\\\\Datasets\\\\Datasets\\\\EPIC_Kitchen\\\\Flow\\\\P01_04\\\\frame_03980.jpg'\n",
      "Skipping D:/Datasets/Datasets/EPIC_Kitchen/RGB/P01_04\\frame_03990.jpg: name 'deft' is not defined\n",
      "Skipping D:/Datasets/Datasets/EPIC_Kitchen/Flow/P01_04\\frame_03990.jpg: [Errno 2] No such file or directory: 'D:\\\\Datasets\\\\Datasets\\\\EPIC_Kitchen\\\\Flow\\\\P01_04\\\\frame_03990.jpg'\n",
      "Skipping D:/Datasets/Datasets/EPIC_Kitchen/RGB/P01_04\\frame_04000.jpg: name 'deft' is not defined\n",
      "Skipping D:/Datasets/Datasets/EPIC_Kitchen/Flow/P01_04\\frame_04000.jpg: [Errno 2] No such file or directory: 'D:\\\\Datasets\\\\Datasets\\\\EPIC_Kitchen\\\\Flow\\\\P01_04\\\\frame_04000.jpg'\n"
     ]
    },
    {
     "name": "stderr",
     "output_type": "stream",
     "text": [
      "Processing RGB + Flow frames:  64%|████████████████████████████████▏                 | 406/631 [00:11<00:07, 29.81it/s]"
     ]
    },
    {
     "name": "stdout",
     "output_type": "stream",
     "text": [
      "Skipping D:/Datasets/Datasets/EPIC_Kitchen/RGB/P01_04\\frame_04010.jpg: name 'deft' is not defined\n",
      "Skipping D:/Datasets/Datasets/EPIC_Kitchen/Flow/P01_04\\frame_04010.jpg: [Errno 2] No such file or directory: 'D:\\\\Datasets\\\\Datasets\\\\EPIC_Kitchen\\\\Flow\\\\P01_04\\\\frame_04010.jpg'\n",
      "Skipping D:/Datasets/Datasets/EPIC_Kitchen/RGB/P01_04\\frame_04020.jpg: name 'deft' is not defined\n",
      "Skipping D:/Datasets/Datasets/EPIC_Kitchen/Flow/P01_04\\frame_04020.jpg: [Errno 2] No such file or directory: 'D:\\\\Datasets\\\\Datasets\\\\EPIC_Kitchen\\\\Flow\\\\P01_04\\\\frame_04020.jpg'\n",
      "Skipping D:/Datasets/Datasets/EPIC_Kitchen/RGB/P01_04\\frame_04030.jpg: name 'deft' is not defined\n",
      "Skipping D:/Datasets/Datasets/EPIC_Kitchen/Flow/P01_04\\frame_04030.jpg: [Errno 2] No such file or directory: 'D:\\\\Datasets\\\\Datasets\\\\EPIC_Kitchen\\\\Flow\\\\P01_04\\\\frame_04030.jpg'\n",
      "Skipping D:/Datasets/Datasets/EPIC_Kitchen/RGB/P01_04\\frame_04040.jpg: name 'deft' is not defined\n",
      "Skipping D:/Datasets/Datasets/EPIC_Kitchen/Flow/P01_04\\frame_04040.jpg: [Errno 2] No such file or directory: 'D:\\\\Datasets\\\\Datasets\\\\EPIC_Kitchen\\\\Flow\\\\P01_04\\\\frame_04040.jpg'\n",
      "Skipping D:/Datasets/Datasets/EPIC_Kitchen/RGB/P01_04\\frame_04050.jpg: name 'deft' is not defined\n",
      "Skipping D:/Datasets/Datasets/EPIC_Kitchen/Flow/P01_04\\frame_04050.jpg: [Errno 2] No such file or directory: 'D:\\\\Datasets\\\\Datasets\\\\EPIC_Kitchen\\\\Flow\\\\P01_04\\\\frame_04050.jpg'\n",
      "Skipping D:/Datasets/Datasets/EPIC_Kitchen/RGB/P01_04\\frame_04060.jpg: name 'deft' is not defined\n",
      "Skipping D:/Datasets/Datasets/EPIC_Kitchen/Flow/P01_04\\frame_04060.jpg: [Errno 2] No such file or directory: 'D:\\\\Datasets\\\\Datasets\\\\EPIC_Kitchen\\\\Flow\\\\P01_04\\\\frame_04060.jpg'\n",
      "Skipping D:/Datasets/Datasets/EPIC_Kitchen/RGB/P01_04\\frame_04070.jpg: name 'deft' is not defined\n",
      "Skipping D:/Datasets/Datasets/EPIC_Kitchen/Flow/P01_04\\frame_04070.jpg: [Errno 2] No such file or directory: 'D:\\\\Datasets\\\\Datasets\\\\EPIC_Kitchen\\\\Flow\\\\P01_04\\\\frame_04070.jpg'\n"
     ]
    },
    {
     "name": "stderr",
     "output_type": "stream",
     "text": [
      "Processing RGB + Flow frames:  65%|████████████████████████████████▋                 | 412/631 [00:11<00:07, 29.67it/s]"
     ]
    },
    {
     "name": "stdout",
     "output_type": "stream",
     "text": [
      "Skipping D:/Datasets/Datasets/EPIC_Kitchen/RGB/P01_04\\frame_04080.jpg: name 'deft' is not defined\n",
      "Skipping D:/Datasets/Datasets/EPIC_Kitchen/Flow/P01_04\\frame_04080.jpg: [Errno 2] No such file or directory: 'D:\\\\Datasets\\\\Datasets\\\\EPIC_Kitchen\\\\Flow\\\\P01_04\\\\frame_04080.jpg'\n",
      "Skipping D:/Datasets/Datasets/EPIC_Kitchen/RGB/P01_04\\frame_04090.jpg: name 'deft' is not defined\n",
      "Skipping D:/Datasets/Datasets/EPIC_Kitchen/Flow/P01_04\\frame_04090.jpg: [Errno 2] No such file or directory: 'D:\\\\Datasets\\\\Datasets\\\\EPIC_Kitchen\\\\Flow\\\\P01_04\\\\frame_04090.jpg'\n",
      "Skipping D:/Datasets/Datasets/EPIC_Kitchen/RGB/P01_04\\frame_04100.jpg: name 'deft' is not defined\n",
      "Skipping D:/Datasets/Datasets/EPIC_Kitchen/Flow/P01_04\\frame_04100.jpg: [Errno 2] No such file or directory: 'D:\\\\Datasets\\\\Datasets\\\\EPIC_Kitchen\\\\Flow\\\\P01_04\\\\frame_04100.jpg'\n",
      "Skipping D:/Datasets/Datasets/EPIC_Kitchen/RGB/P01_04\\frame_04110.jpg: name 'deft' is not defined\n",
      "Skipping D:/Datasets/Datasets/EPIC_Kitchen/Flow/P01_04\\frame_04110.jpg: [Errno 2] No such file or directory: 'D:\\\\Datasets\\\\Datasets\\\\EPIC_Kitchen\\\\Flow\\\\P01_04\\\\frame_04110.jpg'\n",
      "Skipping D:/Datasets/Datasets/EPIC_Kitchen/RGB/P01_04\\frame_04120.jpg: name 'deft' is not defined\n",
      "Skipping D:/Datasets/Datasets/EPIC_Kitchen/Flow/P01_04\\frame_04120.jpg: [Errno 2] No such file or directory: 'D:\\\\Datasets\\\\Datasets\\\\EPIC_Kitchen\\\\Flow\\\\P01_04\\\\frame_04120.jpg'\n",
      "Skipping D:/Datasets/Datasets/EPIC_Kitchen/RGB/P01_04\\frame_04130.jpg: name 'deft' is not defined\n",
      "Skipping D:/Datasets/Datasets/EPIC_Kitchen/Flow/P01_04\\frame_04130.jpg: [Errno 2] No such file or directory: 'D:\\\\Datasets\\\\Datasets\\\\EPIC_Kitchen\\\\Flow\\\\P01_04\\\\frame_04130.jpg'\n",
      "Skipping D:/Datasets/Datasets/EPIC_Kitchen/RGB/P01_04\\frame_04140.jpg: name 'deft' is not defined\n",
      "Skipping D:/Datasets/Datasets/EPIC_Kitchen/Flow/P01_04\\frame_04140.jpg: [Errno 2] No such file or directory: 'D:\\\\Datasets\\\\Datasets\\\\EPIC_Kitchen\\\\Flow\\\\P01_04\\\\frame_04140.jpg'\n"
     ]
    },
    {
     "name": "stderr",
     "output_type": "stream",
     "text": [
      "Processing RGB + Flow frames:  67%|█████████████████████████████████▎                | 420/631 [00:11<00:06, 30.22it/s]"
     ]
    },
    {
     "name": "stdout",
     "output_type": "stream",
     "text": [
      "Skipping D:/Datasets/Datasets/EPIC_Kitchen/RGB/P01_04\\frame_04150.jpg: name 'deft' is not defined\n",
      "Skipping D:/Datasets/Datasets/EPIC_Kitchen/Flow/P01_04\\frame_04150.jpg: [Errno 2] No such file or directory: 'D:\\\\Datasets\\\\Datasets\\\\EPIC_Kitchen\\\\Flow\\\\P01_04\\\\frame_04150.jpg'\n",
      "Skipping D:/Datasets/Datasets/EPIC_Kitchen/RGB/P01_04\\frame_04160.jpg: name 'deft' is not defined\n",
      "Skipping D:/Datasets/Datasets/EPIC_Kitchen/Flow/P01_04\\frame_04160.jpg: [Errno 2] No such file or directory: 'D:\\\\Datasets\\\\Datasets\\\\EPIC_Kitchen\\\\Flow\\\\P01_04\\\\frame_04160.jpg'\n",
      "Skipping D:/Datasets/Datasets/EPIC_Kitchen/RGB/P01_04\\frame_04170.jpg: name 'deft' is not defined\n",
      "Skipping D:/Datasets/Datasets/EPIC_Kitchen/Flow/P01_04\\frame_04170.jpg: [Errno 2] No such file or directory: 'D:\\\\Datasets\\\\Datasets\\\\EPIC_Kitchen\\\\Flow\\\\P01_04\\\\frame_04170.jpg'\n",
      "Skipping D:/Datasets/Datasets/EPIC_Kitchen/RGB/P01_04\\frame_04180.jpg: name 'deft' is not defined\n",
      "Skipping D:/Datasets/Datasets/EPIC_Kitchen/Flow/P01_04\\frame_04180.jpg: [Errno 2] No such file or directory: 'D:\\\\Datasets\\\\Datasets\\\\EPIC_Kitchen\\\\Flow\\\\P01_04\\\\frame_04180.jpg'\n",
      "Skipping D:/Datasets/Datasets/EPIC_Kitchen/RGB/P01_04\\frame_04190.jpg: name 'deft' is not defined\n",
      "Skipping D:/Datasets/Datasets/EPIC_Kitchen/Flow/P01_04\\frame_04190.jpg: [Errno 2] No such file or directory: 'D:\\\\Datasets\\\\Datasets\\\\EPIC_Kitchen\\\\Flow\\\\P01_04\\\\frame_04190.jpg'\n",
      "Skipping D:/Datasets/Datasets/EPIC_Kitchen/RGB/P01_04\\frame_04200.jpg: name 'deft' is not defined\n",
      "Skipping D:/Datasets/Datasets/EPIC_Kitchen/Flow/P01_04\\frame_04200.jpg: [Errno 2] No such file or directory: 'D:\\\\Datasets\\\\Datasets\\\\EPIC_Kitchen\\\\Flow\\\\P01_04\\\\frame_04200.jpg'\n"
     ]
    },
    {
     "name": "stderr",
     "output_type": "stream",
     "text": [
      "Processing RGB + Flow frames:  68%|█████████████████████████████████▉                | 428/631 [00:12<00:06, 30.03it/s]"
     ]
    },
    {
     "name": "stdout",
     "output_type": "stream",
     "text": [
      "Skipping D:/Datasets/Datasets/EPIC_Kitchen/RGB/P01_04\\frame_04210.jpg: name 'deft' is not defined\n",
      "Skipping D:/Datasets/Datasets/EPIC_Kitchen/Flow/P01_04\\frame_04210.jpg: [Errno 2] No such file or directory: 'D:\\\\Datasets\\\\Datasets\\\\EPIC_Kitchen\\\\Flow\\\\P01_04\\\\frame_04210.jpg'\n",
      "Skipping D:/Datasets/Datasets/EPIC_Kitchen/RGB/P01_04\\frame_04220.jpg: name 'deft' is not defined\n",
      "Skipping D:/Datasets/Datasets/EPIC_Kitchen/Flow/P01_04\\frame_04220.jpg: [Errno 2] No such file or directory: 'D:\\\\Datasets\\\\Datasets\\\\EPIC_Kitchen\\\\Flow\\\\P01_04\\\\frame_04220.jpg'\n",
      "Skipping D:/Datasets/Datasets/EPIC_Kitchen/RGB/P01_04\\frame_04230.jpg: name 'deft' is not defined\n",
      "Skipping D:/Datasets/Datasets/EPIC_Kitchen/Flow/P01_04\\frame_04230.jpg: [Errno 2] No such file or directory: 'D:\\\\Datasets\\\\Datasets\\\\EPIC_Kitchen\\\\Flow\\\\P01_04\\\\frame_04230.jpg'\n",
      "Skipping D:/Datasets/Datasets/EPIC_Kitchen/RGB/P01_04\\frame_04240.jpg: name 'deft' is not defined\n",
      "Skipping D:/Datasets/Datasets/EPIC_Kitchen/Flow/P01_04\\frame_04240.jpg: [Errno 2] No such file or directory: 'D:\\\\Datasets\\\\Datasets\\\\EPIC_Kitchen\\\\Flow\\\\P01_04\\\\frame_04240.jpg'\n",
      "Skipping D:/Datasets/Datasets/EPIC_Kitchen/RGB/P01_04\\frame_04250.jpg: name 'deft' is not defined\n",
      "Skipping D:/Datasets/Datasets/EPIC_Kitchen/Flow/P01_04\\frame_04250.jpg: [Errno 2] No such file or directory: 'D:\\\\Datasets\\\\Datasets\\\\EPIC_Kitchen\\\\Flow\\\\P01_04\\\\frame_04250.jpg'\n",
      "Skipping D:/Datasets/Datasets/EPIC_Kitchen/RGB/P01_04\\frame_04260.jpg: name 'deft' is not defined\n",
      "Skipping D:/Datasets/Datasets/EPIC_Kitchen/Flow/P01_04\\frame_04260.jpg: [Errno 2] No such file or directory: 'D:\\\\Datasets\\\\Datasets\\\\EPIC_Kitchen\\\\Flow\\\\P01_04\\\\frame_04260.jpg'\n",
      "Skipping D:/Datasets/Datasets/EPIC_Kitchen/RGB/P01_04\\frame_04270.jpg: name 'deft' is not defined\n",
      "Skipping D:/Datasets/Datasets/EPIC_Kitchen/Flow/P01_04\\frame_04270.jpg: [Errno 2] No such file or directory: 'D:\\\\Datasets\\\\Datasets\\\\EPIC_Kitchen\\\\Flow\\\\P01_04\\\\frame_04270.jpg'\n"
     ]
    },
    {
     "name": "stderr",
     "output_type": "stream",
     "text": [
      "\r",
      "Processing RGB + Flow frames:  68%|██████████████████████████████████▏               | 432/631 [00:12<00:06, 29.44it/s]"
     ]
    },
    {
     "name": "stdout",
     "output_type": "stream",
     "text": [
      "Skipping D:/Datasets/Datasets/EPIC_Kitchen/RGB/P01_04\\frame_04280.jpg: name 'deft' is not defined\n",
      "Skipping D:/Datasets/Datasets/EPIC_Kitchen/Flow/P01_04\\frame_04280.jpg: [Errno 2] No such file or directory: 'D:\\\\Datasets\\\\Datasets\\\\EPIC_Kitchen\\\\Flow\\\\P01_04\\\\frame_04280.jpg'\n",
      "Skipping D:/Datasets/Datasets/EPIC_Kitchen/RGB/P01_04\\frame_04290.jpg: name 'deft' is not defined\n",
      "Skipping D:/Datasets/Datasets/EPIC_Kitchen/Flow/P01_04\\frame_04290.jpg: [Errno 2] No such file or directory: 'D:\\\\Datasets\\\\Datasets\\\\EPIC_Kitchen\\\\Flow\\\\P01_04\\\\frame_04290.jpg'\n",
      "Skipping D:/Datasets/Datasets/EPIC_Kitchen/RGB/P01_04\\frame_04300.jpg: name 'deft' is not defined\n",
      "Skipping D:/Datasets/Datasets/EPIC_Kitchen/Flow/P01_04\\frame_04300.jpg: [Errno 2] No such file or directory: 'D:\\\\Datasets\\\\Datasets\\\\EPIC_Kitchen\\\\Flow\\\\P01_04\\\\frame_04300.jpg'\n",
      "Skipping D:/Datasets/Datasets/EPIC_Kitchen/RGB/P01_04\\frame_04310.jpg: name 'deft' is not defined\n",
      "Skipping D:/Datasets/Datasets/EPIC_Kitchen/Flow/P01_04\\frame_04310.jpg: [Errno 2] No such file or directory: 'D:\\\\Datasets\\\\Datasets\\\\EPIC_Kitchen\\\\Flow\\\\P01_04\\\\frame_04310.jpg'\n",
      "Skipping D:/Datasets/Datasets/EPIC_Kitchen/RGB/P01_04\\frame_04320.jpg: name 'deft' is not defined\n",
      "Skipping D:/Datasets/Datasets/EPIC_Kitchen/Flow/P01_04\\frame_04320.jpg: [Errno 2] No such file or directory: 'D:\\\\Datasets\\\\Datasets\\\\EPIC_Kitchen\\\\Flow\\\\P01_04\\\\frame_04320.jpg'\n",
      "Skipping D:/Datasets/Datasets/EPIC_Kitchen/RGB/P01_04\\frame_04330.jpg: name 'deft' is not defined\n",
      "Skipping D:/Datasets/Datasets/EPIC_Kitchen/Flow/P01_04\\frame_04330.jpg: [Errno 2] No such file or directory: 'D:\\\\Datasets\\\\Datasets\\\\EPIC_Kitchen\\\\Flow\\\\P01_04\\\\frame_04330.jpg'\n",
      "Skipping D:/Datasets/Datasets/EPIC_Kitchen/RGB/P01_04\\frame_04340.jpg: name 'deft' is not defined\n",
      "Skipping D:/Datasets/Datasets/EPIC_Kitchen/Flow/P01_04\\frame_04340.jpg: [Errno 2] No such file or directory: 'D:\\\\Datasets\\\\Datasets\\\\EPIC_Kitchen\\\\Flow\\\\P01_04\\\\frame_04340.jpg'\n"
     ]
    },
    {
     "name": "stderr",
     "output_type": "stream",
     "text": [
      "Processing RGB + Flow frames:  70%|██████████████████████████████████▊               | 440/631 [00:12<00:06, 29.88it/s]"
     ]
    },
    {
     "name": "stdout",
     "output_type": "stream",
     "text": [
      "Skipping D:/Datasets/Datasets/EPIC_Kitchen/RGB/P01_04\\frame_04350.jpg: name 'deft' is not defined\n",
      "Skipping D:/Datasets/Datasets/EPIC_Kitchen/Flow/P01_04\\frame_04350.jpg: [Errno 2] No such file or directory: 'D:\\\\Datasets\\\\Datasets\\\\EPIC_Kitchen\\\\Flow\\\\P01_04\\\\frame_04350.jpg'\n",
      "Skipping D:/Datasets/Datasets/EPIC_Kitchen/RGB/P01_04\\frame_04360.jpg: name 'deft' is not defined\n",
      "Skipping D:/Datasets/Datasets/EPIC_Kitchen/Flow/P01_04\\frame_04360.jpg: [Errno 2] No such file or directory: 'D:\\\\Datasets\\\\Datasets\\\\EPIC_Kitchen\\\\Flow\\\\P01_04\\\\frame_04360.jpg'\n",
      "Skipping D:/Datasets/Datasets/EPIC_Kitchen/RGB/P01_04\\frame_04370.jpg: name 'deft' is not defined\n",
      "Skipping D:/Datasets/Datasets/EPIC_Kitchen/Flow/P01_04\\frame_04370.jpg: [Errno 2] No such file or directory: 'D:\\\\Datasets\\\\Datasets\\\\EPIC_Kitchen\\\\Flow\\\\P01_04\\\\frame_04370.jpg'\n",
      "Skipping D:/Datasets/Datasets/EPIC_Kitchen/RGB/P01_04\\frame_04380.jpg: name 'deft' is not defined\n",
      "Skipping D:/Datasets/Datasets/EPIC_Kitchen/Flow/P01_04\\frame_04380.jpg: [Errno 2] No such file or directory: 'D:\\\\Datasets\\\\Datasets\\\\EPIC_Kitchen\\\\Flow\\\\P01_04\\\\frame_04380.jpg'\n",
      "Skipping D:/Datasets/Datasets/EPIC_Kitchen/RGB/P01_04\\frame_04390.jpg: name 'deft' is not defined\n",
      "Skipping D:/Datasets/Datasets/EPIC_Kitchen/Flow/P01_04\\frame_04390.jpg: [Errno 2] No such file or directory: 'D:\\\\Datasets\\\\Datasets\\\\EPIC_Kitchen\\\\Flow\\\\P01_04\\\\frame_04390.jpg'\n",
      "Skipping D:/Datasets/Datasets/EPIC_Kitchen/RGB/P01_04\\frame_04400.jpg: name 'deft' is not defined\n",
      "Skipping D:/Datasets/Datasets/EPIC_Kitchen/Flow/P01_04\\frame_04400.jpg: [Errno 2] No such file or directory: 'D:\\\\Datasets\\\\Datasets\\\\EPIC_Kitchen\\\\Flow\\\\P01_04\\\\frame_04400.jpg'\n"
     ]
    },
    {
     "name": "stderr",
     "output_type": "stream",
     "text": [
      "Processing RGB + Flow frames:  71%|███████████████████████████████████▍              | 447/631 [00:12<00:06, 30.17it/s]"
     ]
    },
    {
     "name": "stdout",
     "output_type": "stream",
     "text": [
      "Skipping D:/Datasets/Datasets/EPIC_Kitchen/RGB/P01_04\\frame_04410.jpg: name 'deft' is not defined\n",
      "Skipping D:/Datasets/Datasets/EPIC_Kitchen/Flow/P01_04\\frame_04410.jpg: [Errno 2] No such file or directory: 'D:\\\\Datasets\\\\Datasets\\\\EPIC_Kitchen\\\\Flow\\\\P01_04\\\\frame_04410.jpg'\n",
      "Skipping D:/Datasets/Datasets/EPIC_Kitchen/RGB/P01_04\\frame_04420.jpg: name 'deft' is not defined\n",
      "Skipping D:/Datasets/Datasets/EPIC_Kitchen/Flow/P01_04\\frame_04420.jpg: [Errno 2] No such file or directory: 'D:\\\\Datasets\\\\Datasets\\\\EPIC_Kitchen\\\\Flow\\\\P01_04\\\\frame_04420.jpg'\n",
      "Skipping D:/Datasets/Datasets/EPIC_Kitchen/RGB/P01_04\\frame_04430.jpg: name 'deft' is not defined\n",
      "Skipping D:/Datasets/Datasets/EPIC_Kitchen/Flow/P01_04\\frame_04430.jpg: [Errno 2] No such file or directory: 'D:\\\\Datasets\\\\Datasets\\\\EPIC_Kitchen\\\\Flow\\\\P01_04\\\\frame_04430.jpg'\n",
      "Skipping D:/Datasets/Datasets/EPIC_Kitchen/RGB/P01_04\\frame_04440.jpg: name 'deft' is not defined\n",
      "Skipping D:/Datasets/Datasets/EPIC_Kitchen/Flow/P01_04\\frame_04440.jpg: [Errno 2] No such file or directory: 'D:\\\\Datasets\\\\Datasets\\\\EPIC_Kitchen\\\\Flow\\\\P01_04\\\\frame_04440.jpg'\n",
      "Skipping D:/Datasets/Datasets/EPIC_Kitchen/RGB/P01_04\\frame_04450.jpg: name 'deft' is not defined\n",
      "Skipping D:/Datasets/Datasets/EPIC_Kitchen/Flow/P01_04\\frame_04450.jpg: [Errno 2] No such file or directory: 'D:\\\\Datasets\\\\Datasets\\\\EPIC_Kitchen\\\\Flow\\\\P01_04\\\\frame_04450.jpg'\n",
      "Skipping D:/Datasets/Datasets/EPIC_Kitchen/RGB/P01_04\\frame_04460.jpg: name 'deft' is not defined\n",
      "Skipping D:/Datasets/Datasets/EPIC_Kitchen/Flow/P01_04\\frame_04460.jpg: [Errno 2] No such file or directory: 'D:\\\\Datasets\\\\Datasets\\\\EPIC_Kitchen\\\\Flow\\\\P01_04\\\\frame_04460.jpg'\n",
      "Skipping D:/Datasets/Datasets/EPIC_Kitchen/RGB/P01_04\\frame_04470.jpg: name 'deft' is not defined\n"
     ]
    },
    {
     "name": "stderr",
     "output_type": "stream",
     "text": [
      "\r",
      "Processing RGB + Flow frames:  71%|███████████████████████████████████▋              | 451/631 [00:12<00:06, 29.50it/s]"
     ]
    },
    {
     "name": "stdout",
     "output_type": "stream",
     "text": [
      "Skipping D:/Datasets/Datasets/EPIC_Kitchen/Flow/P01_04\\frame_04470.jpg: [Errno 2] No such file or directory: 'D:\\\\Datasets\\\\Datasets\\\\EPIC_Kitchen\\\\Flow\\\\P01_04\\\\frame_04470.jpg'\n",
      "Skipping D:/Datasets/Datasets/EPIC_Kitchen/RGB/P01_04\\frame_04480.jpg: name 'deft' is not defined\n",
      "Skipping D:/Datasets/Datasets/EPIC_Kitchen/Flow/P01_04\\frame_04480.jpg: [Errno 2] No such file or directory: 'D:\\\\Datasets\\\\Datasets\\\\EPIC_Kitchen\\\\Flow\\\\P01_04\\\\frame_04480.jpg'\n",
      "Skipping D:/Datasets/Datasets/EPIC_Kitchen/RGB/P01_04\\frame_04490.jpg: name 'deft' is not defined\n",
      "Skipping D:/Datasets/Datasets/EPIC_Kitchen/Flow/P01_04\\frame_04490.jpg: [Errno 2] No such file or directory: 'D:\\\\Datasets\\\\Datasets\\\\EPIC_Kitchen\\\\Flow\\\\P01_04\\\\frame_04490.jpg'\n",
      "Skipping D:/Datasets/Datasets/EPIC_Kitchen/RGB/P01_04\\frame_04500.jpg: name 'deft' is not defined\n",
      "Skipping D:/Datasets/Datasets/EPIC_Kitchen/Flow/P01_04\\frame_04500.jpg: [Errno 2] No such file or directory: 'D:\\\\Datasets\\\\Datasets\\\\EPIC_Kitchen\\\\Flow\\\\P01_04\\\\frame_04500.jpg'\n",
      "Skipping D:/Datasets/Datasets/EPIC_Kitchen/RGB/P01_04\\frame_04510.jpg: name 'deft' is not defined\n",
      "Skipping D:/Datasets/Datasets/EPIC_Kitchen/Flow/P01_04\\frame_04510.jpg: [Errno 2] No such file or directory: 'D:\\\\Datasets\\\\Datasets\\\\EPIC_Kitchen\\\\Flow\\\\P01_04\\\\frame_04510.jpg'\n",
      "Skipping D:/Datasets/Datasets/EPIC_Kitchen/RGB/P01_04\\frame_04520.jpg: name 'deft' is not defined\n",
      "Skipping D:/Datasets/Datasets/EPIC_Kitchen/Flow/P01_04\\frame_04520.jpg: [Errno 2] No such file or directory: 'D:\\\\Datasets\\\\Datasets\\\\EPIC_Kitchen\\\\Flow\\\\P01_04\\\\frame_04520.jpg'\n",
      "Skipping D:/Datasets/Datasets/EPIC_Kitchen/RGB/P01_04\\frame_04530.jpg: name 'deft' is not defined\n",
      "Skipping D:/Datasets/Datasets/EPIC_Kitchen/Flow/P01_04\\frame_04530.jpg: [Errno 2] No such file or directory: 'D:\\\\Datasets\\\\Datasets\\\\EPIC_Kitchen\\\\Flow\\\\P01_04\\\\frame_04530.jpg'\n"
     ]
    },
    {
     "name": "stderr",
     "output_type": "stream",
     "text": [
      "Processing RGB + Flow frames:  73%|████████████████████████████████████▎             | 459/631 [00:13<00:05, 29.50it/s]"
     ]
    },
    {
     "name": "stdout",
     "output_type": "stream",
     "text": [
      "Skipping D:/Datasets/Datasets/EPIC_Kitchen/RGB/P01_04\\frame_04540.jpg: name 'deft' is not defined\n",
      "Skipping D:/Datasets/Datasets/EPIC_Kitchen/Flow/P01_04\\frame_04540.jpg: [Errno 2] No such file or directory: 'D:\\\\Datasets\\\\Datasets\\\\EPIC_Kitchen\\\\Flow\\\\P01_04\\\\frame_04540.jpg'\n",
      "Skipping D:/Datasets/Datasets/EPIC_Kitchen/RGB/P01_04\\frame_04550.jpg: name 'deft' is not defined\n",
      "Skipping D:/Datasets/Datasets/EPIC_Kitchen/Flow/P01_04\\frame_04550.jpg: [Errno 2] No such file or directory: 'D:\\\\Datasets\\\\Datasets\\\\EPIC_Kitchen\\\\Flow\\\\P01_04\\\\frame_04550.jpg'\n",
      "Skipping D:/Datasets/Datasets/EPIC_Kitchen/RGB/P01_04\\frame_04560.jpg: name 'deft' is not defined\n",
      "Skipping D:/Datasets/Datasets/EPIC_Kitchen/Flow/P01_04\\frame_04560.jpg: [Errno 2] No such file or directory: 'D:\\\\Datasets\\\\Datasets\\\\EPIC_Kitchen\\\\Flow\\\\P01_04\\\\frame_04560.jpg'\n",
      "Skipping D:/Datasets/Datasets/EPIC_Kitchen/RGB/P01_04\\frame_04570.jpg: name 'deft' is not defined\n",
      "Skipping D:/Datasets/Datasets/EPIC_Kitchen/Flow/P01_04\\frame_04570.jpg: [Errno 2] No such file or directory: 'D:\\\\Datasets\\\\Datasets\\\\EPIC_Kitchen\\\\Flow\\\\P01_04\\\\frame_04570.jpg'\n",
      "Skipping D:/Datasets/Datasets/EPIC_Kitchen/RGB/P01_04\\frame_04580.jpg: name 'deft' is not defined\n",
      "Skipping D:/Datasets/Datasets/EPIC_Kitchen/Flow/P01_04\\frame_04580.jpg: [Errno 2] No such file or directory: 'D:\\\\Datasets\\\\Datasets\\\\EPIC_Kitchen\\\\Flow\\\\P01_04\\\\frame_04580.jpg'\n",
      "Skipping D:/Datasets/Datasets/EPIC_Kitchen/RGB/P01_04\\frame_04590.jpg: name 'deft' is not defined\n",
      "Skipping D:/Datasets/Datasets/EPIC_Kitchen/Flow/P01_04\\frame_04590.jpg: [Errno 2] No such file or directory: 'D:\\\\Datasets\\\\Datasets\\\\EPIC_Kitchen\\\\Flow\\\\P01_04\\\\frame_04590.jpg'\n"
     ]
    },
    {
     "name": "stderr",
     "output_type": "stream",
     "text": [
      "Processing RGB + Flow frames:  74%|████████████████████████████████████▊             | 465/631 [00:13<00:05, 29.20it/s]"
     ]
    },
    {
     "name": "stdout",
     "output_type": "stream",
     "text": [
      "Skipping D:/Datasets/Datasets/EPIC_Kitchen/RGB/P01_04\\frame_04600.jpg: name 'deft' is not defined\n",
      "Skipping D:/Datasets/Datasets/EPIC_Kitchen/Flow/P01_04\\frame_04600.jpg: [Errno 2] No such file or directory: 'D:\\\\Datasets\\\\Datasets\\\\EPIC_Kitchen\\\\Flow\\\\P01_04\\\\frame_04600.jpg'\n",
      "Skipping D:/Datasets/Datasets/EPIC_Kitchen/RGB/P01_04\\frame_04610.jpg: name 'deft' is not defined\n",
      "Skipping D:/Datasets/Datasets/EPIC_Kitchen/Flow/P01_04\\frame_04610.jpg: [Errno 2] No such file or directory: 'D:\\\\Datasets\\\\Datasets\\\\EPIC_Kitchen\\\\Flow\\\\P01_04\\\\frame_04610.jpg'\n",
      "Skipping D:/Datasets/Datasets/EPIC_Kitchen/RGB/P01_04\\frame_04620.jpg: name 'deft' is not defined\n",
      "Skipping D:/Datasets/Datasets/EPIC_Kitchen/Flow/P01_04\\frame_04620.jpg: [Errno 2] No such file or directory: 'D:\\\\Datasets\\\\Datasets\\\\EPIC_Kitchen\\\\Flow\\\\P01_04\\\\frame_04620.jpg'\n",
      "Skipping D:/Datasets/Datasets/EPIC_Kitchen/RGB/P01_04\\frame_04630.jpg: name 'deft' is not defined\n",
      "Skipping D:/Datasets/Datasets/EPIC_Kitchen/Flow/P01_04\\frame_04630.jpg: [Errno 2] No such file or directory: 'D:\\\\Datasets\\\\Datasets\\\\EPIC_Kitchen\\\\Flow\\\\P01_04\\\\frame_04630.jpg'\n",
      "Skipping D:/Datasets/Datasets/EPIC_Kitchen/RGB/P01_04\\frame_04640.jpg: name 'deft' is not defined\n",
      "Skipping D:/Datasets/Datasets/EPIC_Kitchen/Flow/P01_04\\frame_04640.jpg: [Errno 2] No such file or directory: 'D:\\\\Datasets\\\\Datasets\\\\EPIC_Kitchen\\\\Flow\\\\P01_04\\\\frame_04640.jpg'\n",
      "Skipping D:/Datasets/Datasets/EPIC_Kitchen/RGB/P01_04\\frame_04650.jpg: name 'deft' is not defined\n",
      "Skipping D:/Datasets/Datasets/EPIC_Kitchen/Flow/P01_04\\frame_04650.jpg: [Errno 2] No such file or directory: 'D:\\\\Datasets\\\\Datasets\\\\EPIC_Kitchen\\\\Flow\\\\P01_04\\\\frame_04650.jpg'\n",
      "Skipping D:/Datasets/Datasets/EPIC_Kitchen/RGB/P01_04\\frame_04660.jpg: name 'deft' is not defined\n",
      "Skipping D:/Datasets/Datasets/EPIC_Kitchen/Flow/P01_04\\frame_04660.jpg: [Errno 2] No such file or directory: 'D:\\\\Datasets\\\\Datasets\\\\EPIC_Kitchen\\\\Flow\\\\P01_04\\\\frame_04660.jpg'\n"
     ]
    },
    {
     "name": "stderr",
     "output_type": "stream",
     "text": [
      "Processing RGB + Flow frames:  75%|█████████████████████████████████████▌            | 474/631 [00:13<00:05, 29.11it/s]"
     ]
    },
    {
     "name": "stdout",
     "output_type": "stream",
     "text": [
      "Skipping D:/Datasets/Datasets/EPIC_Kitchen/RGB/P01_04\\frame_04670.jpg: name 'deft' is not defined\n",
      "Skipping D:/Datasets/Datasets/EPIC_Kitchen/Flow/P01_04\\frame_04670.jpg: [Errno 2] No such file or directory: 'D:\\\\Datasets\\\\Datasets\\\\EPIC_Kitchen\\\\Flow\\\\P01_04\\\\frame_04670.jpg'\n",
      "Skipping D:/Datasets/Datasets/EPIC_Kitchen/RGB/P01_04\\frame_04680.jpg: name 'deft' is not defined\n",
      "Skipping D:/Datasets/Datasets/EPIC_Kitchen/Flow/P01_04\\frame_04680.jpg: [Errno 2] No such file or directory: 'D:\\\\Datasets\\\\Datasets\\\\EPIC_Kitchen\\\\Flow\\\\P01_04\\\\frame_04680.jpg'\n",
      "Skipping D:/Datasets/Datasets/EPIC_Kitchen/RGB/P01_04\\frame_04690.jpg: name 'deft' is not defined\n",
      "Skipping D:/Datasets/Datasets/EPIC_Kitchen/Flow/P01_04\\frame_04690.jpg: [Errno 2] No such file or directory: 'D:\\\\Datasets\\\\Datasets\\\\EPIC_Kitchen\\\\Flow\\\\P01_04\\\\frame_04690.jpg'\n",
      "Skipping D:/Datasets/Datasets/EPIC_Kitchen/RGB/P01_04\\frame_04700.jpg: name 'deft' is not defined\n",
      "Skipping D:/Datasets/Datasets/EPIC_Kitchen/Flow/P01_04\\frame_04700.jpg: [Errno 2] No such file or directory: 'D:\\\\Datasets\\\\Datasets\\\\EPIC_Kitchen\\\\Flow\\\\P01_04\\\\frame_04700.jpg'\n",
      "Skipping D:/Datasets/Datasets/EPIC_Kitchen/RGB/P01_04\\frame_04710.jpg: name 'deft' is not defined\n",
      "Skipping D:/Datasets/Datasets/EPIC_Kitchen/Flow/P01_04\\frame_04710.jpg: [Errno 2] No such file or directory: 'D:\\\\Datasets\\\\Datasets\\\\EPIC_Kitchen\\\\Flow\\\\P01_04\\\\frame_04710.jpg'\n",
      "Skipping D:/Datasets/Datasets/EPIC_Kitchen/RGB/P01_04\\frame_04720.jpg: name 'deft' is not defined\n",
      "Skipping D:/Datasets/Datasets/EPIC_Kitchen/Flow/P01_04\\frame_04720.jpg: [Errno 2] No such file or directory: 'D:\\\\Datasets\\\\Datasets\\\\EPIC_Kitchen\\\\Flow\\\\P01_04\\\\frame_04720.jpg'\n",
      "Skipping D:/Datasets/Datasets/EPIC_Kitchen/RGB/P01_04\\frame_04730.jpg: name 'deft' is not defined\n",
      "Skipping D:/Datasets/Datasets/EPIC_Kitchen/Flow/P01_04\\frame_04730.jpg: [Errno 2] No such file or directory: 'D:\\\\Datasets\\\\Datasets\\\\EPIC_Kitchen\\\\Flow\\\\P01_04\\\\frame_04730.jpg'\n"
     ]
    },
    {
     "name": "stderr",
     "output_type": "stream",
     "text": [
      "\r",
      "Processing RGB + Flow frames:  76%|█████████████████████████████████████▉            | 478/631 [00:13<00:05, 29.65it/s]"
     ]
    },
    {
     "name": "stdout",
     "output_type": "stream",
     "text": [
      "Skipping D:/Datasets/Datasets/EPIC_Kitchen/RGB/P01_04\\frame_04740.jpg: name 'deft' is not defined\n",
      "Skipping D:/Datasets/Datasets/EPIC_Kitchen/Flow/P01_04\\frame_04740.jpg: [Errno 2] No such file or directory: 'D:\\\\Datasets\\\\Datasets\\\\EPIC_Kitchen\\\\Flow\\\\P01_04\\\\frame_04740.jpg'\n",
      "Skipping D:/Datasets/Datasets/EPIC_Kitchen/RGB/P01_04\\frame_04750.jpg: name 'deft' is not defined\n",
      "Skipping D:/Datasets/Datasets/EPIC_Kitchen/Flow/P01_04\\frame_04750.jpg: [Errno 2] No such file or directory: 'D:\\\\Datasets\\\\Datasets\\\\EPIC_Kitchen\\\\Flow\\\\P01_04\\\\frame_04750.jpg'\n",
      "Skipping D:/Datasets/Datasets/EPIC_Kitchen/RGB/P01_04\\frame_04760.jpg: name 'deft' is not defined\n",
      "Skipping D:/Datasets/Datasets/EPIC_Kitchen/Flow/P01_04\\frame_04760.jpg: [Errno 2] No such file or directory: 'D:\\\\Datasets\\\\Datasets\\\\EPIC_Kitchen\\\\Flow\\\\P01_04\\\\frame_04760.jpg'\n",
      "Skipping D:/Datasets/Datasets/EPIC_Kitchen/RGB/P01_04\\frame_04770.jpg: name 'deft' is not defined\n",
      "Skipping D:/Datasets/Datasets/EPIC_Kitchen/Flow/P01_04\\frame_04770.jpg: [Errno 2] No such file or directory: 'D:\\\\Datasets\\\\Datasets\\\\EPIC_Kitchen\\\\Flow\\\\P01_04\\\\frame_04770.jpg'\n",
      "Skipping D:/Datasets/Datasets/EPIC_Kitchen/RGB/P01_04\\frame_04780.jpg: name 'deft' is not defined\n",
      "Skipping D:/Datasets/Datasets/EPIC_Kitchen/Flow/P01_04\\frame_04780.jpg: [Errno 2] No such file or directory: 'D:\\\\Datasets\\\\Datasets\\\\EPIC_Kitchen\\\\Flow\\\\P01_04\\\\frame_04780.jpg'\n",
      "Skipping D:/Datasets/Datasets/EPIC_Kitchen/RGB/P01_04\\frame_04790.jpg: name 'deft' is not defined\n",
      "Skipping D:/Datasets/Datasets/EPIC_Kitchen/Flow/P01_04\\frame_04790.jpg: [Errno 2] No such file or directory: 'D:\\\\Datasets\\\\Datasets\\\\EPIC_Kitchen\\\\Flow\\\\P01_04\\\\frame_04790.jpg'\n"
     ]
    },
    {
     "name": "stderr",
     "output_type": "stream",
     "text": [
      "Processing RGB + Flow frames:  77%|██████████████████████████████████████▎           | 484/631 [00:13<00:05, 29.34it/s]"
     ]
    },
    {
     "name": "stdout",
     "output_type": "stream",
     "text": [
      "Skipping D:/Datasets/Datasets/EPIC_Kitchen/RGB/P01_04\\frame_04800.jpg: name 'deft' is not defined\n",
      "Skipping D:/Datasets/Datasets/EPIC_Kitchen/Flow/P01_04\\frame_04800.jpg: [Errno 2] No such file or directory: 'D:\\\\Datasets\\\\Datasets\\\\EPIC_Kitchen\\\\Flow\\\\P01_04\\\\frame_04800.jpg'\n",
      "Skipping D:/Datasets/Datasets/EPIC_Kitchen/RGB/P01_04\\frame_04810.jpg: name 'deft' is not defined\n",
      "Skipping D:/Datasets/Datasets/EPIC_Kitchen/Flow/P01_04\\frame_04810.jpg: [Errno 2] No such file or directory: 'D:\\\\Datasets\\\\Datasets\\\\EPIC_Kitchen\\\\Flow\\\\P01_04\\\\frame_04810.jpg'\n",
      "Skipping D:/Datasets/Datasets/EPIC_Kitchen/RGB/P01_04\\frame_04820.jpg: name 'deft' is not defined\n",
      "Skipping D:/Datasets/Datasets/EPIC_Kitchen/Flow/P01_04\\frame_04820.jpg: [Errno 2] No such file or directory: 'D:\\\\Datasets\\\\Datasets\\\\EPIC_Kitchen\\\\Flow\\\\P01_04\\\\frame_04820.jpg'\n",
      "Skipping D:/Datasets/Datasets/EPIC_Kitchen/RGB/P01_04\\frame_04830.jpg: name 'deft' is not defined\n",
      "Skipping D:/Datasets/Datasets/EPIC_Kitchen/Flow/P01_04\\frame_04830.jpg: [Errno 2] No such file or directory: 'D:\\\\Datasets\\\\Datasets\\\\EPIC_Kitchen\\\\Flow\\\\P01_04\\\\frame_04830.jpg'\n",
      "Skipping D:/Datasets/Datasets/EPIC_Kitchen/RGB/P01_04\\frame_04840.jpg: name 'deft' is not defined\n",
      "Skipping D:/Datasets/Datasets/EPIC_Kitchen/Flow/P01_04\\frame_04840.jpg: [Errno 2] No such file or directory: 'D:\\\\Datasets\\\\Datasets\\\\EPIC_Kitchen\\\\Flow\\\\P01_04\\\\frame_04840.jpg'\n",
      "Skipping D:/Datasets/Datasets/EPIC_Kitchen/RGB/P01_04\\frame_04850.jpg: name 'deft' is not defined\n",
      "Skipping D:/Datasets/Datasets/EPIC_Kitchen/Flow/P01_04\\frame_04850.jpg: [Errno 2] No such file or directory: 'D:\\\\Datasets\\\\Datasets\\\\EPIC_Kitchen\\\\Flow\\\\P01_04\\\\frame_04850.jpg'\n",
      "Skipping D:/Datasets/Datasets/EPIC_Kitchen/RGB/P01_04\\frame_04860.jpg: name 'deft' is not defined\n",
      "Skipping D:/Datasets/Datasets/EPIC_Kitchen/Flow/P01_04\\frame_04860.jpg: [Errno 2] No such file or directory: 'D:\\\\Datasets\\\\Datasets\\\\EPIC_Kitchen\\\\Flow\\\\P01_04\\\\frame_04860.jpg'\n"
     ]
    },
    {
     "name": "stderr",
     "output_type": "stream",
     "text": [
      "Processing RGB + Flow frames:  78%|██████████████████████████████████████▉           | 491/631 [00:14<00:04, 29.35it/s]"
     ]
    },
    {
     "name": "stdout",
     "output_type": "stream",
     "text": [
      "Skipping D:/Datasets/Datasets/EPIC_Kitchen/RGB/P01_04\\frame_04870.jpg: name 'deft' is not defined\n",
      "Skipping D:/Datasets/Datasets/EPIC_Kitchen/Flow/P01_04\\frame_04870.jpg: [Errno 2] No such file or directory: 'D:\\\\Datasets\\\\Datasets\\\\EPIC_Kitchen\\\\Flow\\\\P01_04\\\\frame_04870.jpg'\n",
      "Skipping D:/Datasets/Datasets/EPIC_Kitchen/RGB/P01_04\\frame_04880.jpg: name 'deft' is not defined\n",
      "Skipping D:/Datasets/Datasets/EPIC_Kitchen/Flow/P01_04\\frame_04880.jpg: [Errno 2] No such file or directory: 'D:\\\\Datasets\\\\Datasets\\\\EPIC_Kitchen\\\\Flow\\\\P01_04\\\\frame_04880.jpg'\n",
      "Skipping D:/Datasets/Datasets/EPIC_Kitchen/RGB/P01_04\\frame_04890.jpg: name 'deft' is not defined\n",
      "Skipping D:/Datasets/Datasets/EPIC_Kitchen/Flow/P01_04\\frame_04890.jpg: [Errno 2] No such file or directory: 'D:\\\\Datasets\\\\Datasets\\\\EPIC_Kitchen\\\\Flow\\\\P01_04\\\\frame_04890.jpg'\n",
      "Skipping D:/Datasets/Datasets/EPIC_Kitchen/RGB/P01_04\\frame_04900.jpg: name 'deft' is not defined\n",
      "Skipping D:/Datasets/Datasets/EPIC_Kitchen/Flow/P01_04\\frame_04900.jpg: [Errno 2] No such file or directory: 'D:\\\\Datasets\\\\Datasets\\\\EPIC_Kitchen\\\\Flow\\\\P01_04\\\\frame_04900.jpg'\n",
      "Skipping D:/Datasets/Datasets/EPIC_Kitchen/RGB/P01_04\\frame_04910.jpg: name 'deft' is not defined\n",
      "Skipping D:/Datasets/Datasets/EPIC_Kitchen/Flow/P01_04\\frame_04910.jpg: [Errno 2] No such file or directory: 'D:\\\\Datasets\\\\Datasets\\\\EPIC_Kitchen\\\\Flow\\\\P01_04\\\\frame_04910.jpg'\n",
      "Skipping D:/Datasets/Datasets/EPIC_Kitchen/RGB/P01_04\\frame_04920.jpg: name 'deft' is not defined\n",
      "Skipping D:/Datasets/Datasets/EPIC_Kitchen/Flow/P01_04\\frame_04920.jpg: [Errno 2] No such file or directory: 'D:\\\\Datasets\\\\Datasets\\\\EPIC_Kitchen\\\\Flow\\\\P01_04\\\\frame_04920.jpg'\n",
      "Skipping D:/Datasets/Datasets/EPIC_Kitchen/RGB/P01_04\\frame_04930.jpg: name 'deft' is not defined\n",
      "Skipping D:/Datasets/Datasets/EPIC_Kitchen/Flow/P01_04\\frame_04930.jpg: [Errno 2] No such file or directory: 'D:\\\\Datasets\\\\Datasets\\\\EPIC_Kitchen\\\\Flow\\\\P01_04\\\\frame_04930.jpg'\n"
     ]
    },
    {
     "name": "stderr",
     "output_type": "stream",
     "text": [
      "Processing RGB + Flow frames:  79%|███████████████████████████████████████▌          | 499/631 [00:14<00:04, 30.60it/s]"
     ]
    },
    {
     "name": "stdout",
     "output_type": "stream",
     "text": [
      "Skipping D:/Datasets/Datasets/EPIC_Kitchen/RGB/P01_04\\frame_04940.jpg: name 'deft' is not defined\n",
      "Skipping D:/Datasets/Datasets/EPIC_Kitchen/Flow/P01_04\\frame_04940.jpg: [Errno 2] No such file or directory: 'D:\\\\Datasets\\\\Datasets\\\\EPIC_Kitchen\\\\Flow\\\\P01_04\\\\frame_04940.jpg'\n",
      "Skipping D:/Datasets/Datasets/EPIC_Kitchen/RGB/P01_04\\frame_04950.jpg: name 'deft' is not defined\n",
      "Skipping D:/Datasets/Datasets/EPIC_Kitchen/Flow/P01_04\\frame_04950.jpg: [Errno 2] No such file or directory: 'D:\\\\Datasets\\\\Datasets\\\\EPIC_Kitchen\\\\Flow\\\\P01_04\\\\frame_04950.jpg'\n",
      "Skipping D:/Datasets/Datasets/EPIC_Kitchen/RGB/P01_04\\frame_04960.jpg: name 'deft' is not defined\n",
      "Skipping D:/Datasets/Datasets/EPIC_Kitchen/Flow/P01_04\\frame_04960.jpg: [Errno 2] No such file or directory: 'D:\\\\Datasets\\\\Datasets\\\\EPIC_Kitchen\\\\Flow\\\\P01_04\\\\frame_04960.jpg'\n",
      "Skipping D:/Datasets/Datasets/EPIC_Kitchen/RGB/P01_04\\frame_04970.jpg: name 'deft' is not defined\n",
      "Skipping D:/Datasets/Datasets/EPIC_Kitchen/Flow/P01_04\\frame_04970.jpg: [Errno 2] No such file or directory: 'D:\\\\Datasets\\\\Datasets\\\\EPIC_Kitchen\\\\Flow\\\\P01_04\\\\frame_04970.jpg'\n",
      "Skipping D:/Datasets/Datasets/EPIC_Kitchen/RGB/P01_04\\frame_04980.jpg: name 'deft' is not defined\n",
      "Skipping D:/Datasets/Datasets/EPIC_Kitchen/Flow/P01_04\\frame_04980.jpg: [Errno 2] No such file or directory: 'D:\\\\Datasets\\\\Datasets\\\\EPIC_Kitchen\\\\Flow\\\\P01_04\\\\frame_04980.jpg'\n",
      "Skipping D:/Datasets/Datasets/EPIC_Kitchen/RGB/P01_04\\frame_04990.jpg: name 'deft' is not defined\n",
      "Skipping D:/Datasets/Datasets/EPIC_Kitchen/Flow/P01_04\\frame_04990.jpg: [Errno 2] No such file or directory: 'D:\\\\Datasets\\\\Datasets\\\\EPIC_Kitchen\\\\Flow\\\\P01_04\\\\frame_04990.jpg'\n",
      "Skipping D:/Datasets/Datasets/EPIC_Kitchen/RGB/P01_04\\frame_05000.jpg: name 'deft' is not defined\n",
      "Skipping D:/Datasets/Datasets/EPIC_Kitchen/Flow/P01_04\\frame_05000.jpg: [Errno 2] No such file or directory: 'D:\\\\Datasets\\\\Datasets\\\\EPIC_Kitchen\\\\Flow\\\\P01_04\\\\frame_05000.jpg'\n"
     ]
    },
    {
     "name": "stderr",
     "output_type": "stream",
     "text": [
      "Processing RGB + Flow frames:  80%|████████████████████████████████████████▏         | 507/631 [00:14<00:04, 30.47it/s]"
     ]
    },
    {
     "name": "stdout",
     "output_type": "stream",
     "text": [
      "Skipping D:/Datasets/Datasets/EPIC_Kitchen/RGB/P01_04\\frame_05010.jpg: name 'deft' is not defined\n",
      "Skipping D:/Datasets/Datasets/EPIC_Kitchen/Flow/P01_04\\frame_05010.jpg: [Errno 2] No such file or directory: 'D:\\\\Datasets\\\\Datasets\\\\EPIC_Kitchen\\\\Flow\\\\P01_04\\\\frame_05010.jpg'\n",
      "Skipping D:/Datasets/Datasets/EPIC_Kitchen/RGB/P01_04\\frame_05020.jpg: name 'deft' is not defined\n",
      "Skipping D:/Datasets/Datasets/EPIC_Kitchen/Flow/P01_04\\frame_05020.jpg: [Errno 2] No such file or directory: 'D:\\\\Datasets\\\\Datasets\\\\EPIC_Kitchen\\\\Flow\\\\P01_04\\\\frame_05020.jpg'\n",
      "Skipping D:/Datasets/Datasets/EPIC_Kitchen/RGB/P01_04\\frame_05030.jpg: name 'deft' is not defined\n",
      "Skipping D:/Datasets/Datasets/EPIC_Kitchen/Flow/P01_04\\frame_05030.jpg: [Errno 2] No such file or directory: 'D:\\\\Datasets\\\\Datasets\\\\EPIC_Kitchen\\\\Flow\\\\P01_04\\\\frame_05030.jpg'\n",
      "Skipping D:/Datasets/Datasets/EPIC_Kitchen/RGB/P01_04\\frame_05040.jpg: name 'deft' is not defined\n",
      "Skipping D:/Datasets/Datasets/EPIC_Kitchen/Flow/P01_04\\frame_05040.jpg: [Errno 2] No such file or directory: 'D:\\\\Datasets\\\\Datasets\\\\EPIC_Kitchen\\\\Flow\\\\P01_04\\\\frame_05040.jpg'\n",
      "Skipping D:/Datasets/Datasets/EPIC_Kitchen/RGB/P01_04\\frame_05050.jpg: name 'deft' is not defined\n",
      "Skipping D:/Datasets/Datasets/EPIC_Kitchen/Flow/P01_04\\frame_05050.jpg: [Errno 2] No such file or directory: 'D:\\\\Datasets\\\\Datasets\\\\EPIC_Kitchen\\\\Flow\\\\P01_04\\\\frame_05050.jpg'\n",
      "Skipping D:/Datasets/Datasets/EPIC_Kitchen/RGB/P01_04\\frame_05060.jpg: name 'deft' is not defined\n",
      "Skipping D:/Datasets/Datasets/EPIC_Kitchen/Flow/P01_04\\frame_05060.jpg: [Errno 2] No such file or directory: 'D:\\\\Datasets\\\\Datasets\\\\EPIC_Kitchen\\\\Flow\\\\P01_04\\\\frame_05060.jpg'\n",
      "Skipping D:/Datasets/Datasets/EPIC_Kitchen/RGB/P01_04\\frame_05070.jpg: name 'deft' is not defined\n",
      "Skipping D:/Datasets/Datasets/EPIC_Kitchen/Flow/P01_04\\frame_05070.jpg: [Errno 2] No such file or directory: 'D:\\\\Datasets\\\\Datasets\\\\EPIC_Kitchen\\\\Flow\\\\P01_04\\\\frame_05070.jpg'\n"
     ]
    },
    {
     "name": "stderr",
     "output_type": "stream",
     "text": [
      "Processing RGB + Flow frames:  82%|████████████████████████████████████████▊         | 515/631 [00:14<00:03, 29.98it/s]"
     ]
    },
    {
     "name": "stdout",
     "output_type": "stream",
     "text": [
      "Skipping D:/Datasets/Datasets/EPIC_Kitchen/RGB/P01_04\\frame_05080.jpg: name 'deft' is not defined\n",
      "Skipping D:/Datasets/Datasets/EPIC_Kitchen/Flow/P01_04\\frame_05080.jpg: [Errno 2] No such file or directory: 'D:\\\\Datasets\\\\Datasets\\\\EPIC_Kitchen\\\\Flow\\\\P01_04\\\\frame_05080.jpg'\n",
      "Skipping D:/Datasets/Datasets/EPIC_Kitchen/RGB/P01_04\\frame_05090.jpg: name 'deft' is not defined\n",
      "Skipping D:/Datasets/Datasets/EPIC_Kitchen/Flow/P01_04\\frame_05090.jpg: [Errno 2] No such file or directory: 'D:\\\\Datasets\\\\Datasets\\\\EPIC_Kitchen\\\\Flow\\\\P01_04\\\\frame_05090.jpg'\n",
      "Skipping D:/Datasets/Datasets/EPIC_Kitchen/RGB/P01_04\\frame_05100.jpg: name 'deft' is not defined\n",
      "Skipping D:/Datasets/Datasets/EPIC_Kitchen/Flow/P01_04\\frame_05100.jpg: [Errno 2] No such file or directory: 'D:\\\\Datasets\\\\Datasets\\\\EPIC_Kitchen\\\\Flow\\\\P01_04\\\\frame_05100.jpg'\n",
      "Skipping D:/Datasets/Datasets/EPIC_Kitchen/RGB/P01_04\\frame_05110.jpg: name 'deft' is not defined\n",
      "Skipping D:/Datasets/Datasets/EPIC_Kitchen/Flow/P01_04\\frame_05110.jpg: [Errno 2] No such file or directory: 'D:\\\\Datasets\\\\Datasets\\\\EPIC_Kitchen\\\\Flow\\\\P01_04\\\\frame_05110.jpg'\n",
      "Skipping D:/Datasets/Datasets/EPIC_Kitchen/RGB/P01_04\\frame_05120.jpg: name 'deft' is not defined\n",
      "Skipping D:/Datasets/Datasets/EPIC_Kitchen/Flow/P01_04\\frame_05120.jpg: [Errno 2] No such file or directory: 'D:\\\\Datasets\\\\Datasets\\\\EPIC_Kitchen\\\\Flow\\\\P01_04\\\\frame_05120.jpg'\n",
      "Skipping D:/Datasets/Datasets/EPIC_Kitchen/RGB/P01_04\\frame_05130.jpg: name 'deft' is not defined\n",
      "Skipping D:/Datasets/Datasets/EPIC_Kitchen/Flow/P01_04\\frame_05130.jpg: [Errno 2] No such file or directory: 'D:\\\\Datasets\\\\Datasets\\\\EPIC_Kitchen\\\\Flow\\\\P01_04\\\\frame_05130.jpg'\n",
      "Skipping D:/Datasets/Datasets/EPIC_Kitchen/RGB/P01_04\\frame_05140.jpg: name 'deft' is not defined\n",
      "Skipping D:/Datasets/Datasets/EPIC_Kitchen/Flow/P01_04\\frame_05140.jpg: [Errno 2] No such file or directory: 'D:\\\\Datasets\\\\Datasets\\\\EPIC_Kitchen\\\\Flow\\\\P01_04\\\\frame_05140.jpg'\n"
     ]
    },
    {
     "name": "stderr",
     "output_type": "stream",
     "text": [
      "\r",
      "Processing RGB + Flow frames:  82%|█████████████████████████████████████████▏        | 519/631 [00:15<00:03, 29.46it/s]"
     ]
    },
    {
     "name": "stdout",
     "output_type": "stream",
     "text": [
      "Skipping D:/Datasets/Datasets/EPIC_Kitchen/RGB/P01_04\\frame_05150.jpg: name 'deft' is not defined\n",
      "Skipping D:/Datasets/Datasets/EPIC_Kitchen/Flow/P01_04\\frame_05150.jpg: [Errno 2] No such file or directory: 'D:\\\\Datasets\\\\Datasets\\\\EPIC_Kitchen\\\\Flow\\\\P01_04\\\\frame_05150.jpg'\n",
      "Skipping D:/Datasets/Datasets/EPIC_Kitchen/RGB/P01_04\\frame_05160.jpg: name 'deft' is not defined\n",
      "Skipping D:/Datasets/Datasets/EPIC_Kitchen/Flow/P01_04\\frame_05160.jpg: [Errno 2] No such file or directory: 'D:\\\\Datasets\\\\Datasets\\\\EPIC_Kitchen\\\\Flow\\\\P01_04\\\\frame_05160.jpg'\n",
      "Skipping D:/Datasets/Datasets/EPIC_Kitchen/RGB/P01_04\\frame_05170.jpg: name 'deft' is not defined\n",
      "Skipping D:/Datasets/Datasets/EPIC_Kitchen/Flow/P01_04\\frame_05170.jpg: [Errno 2] No such file or directory: 'D:\\\\Datasets\\\\Datasets\\\\EPIC_Kitchen\\\\Flow\\\\P01_04\\\\frame_05170.jpg'\n",
      "Skipping D:/Datasets/Datasets/EPIC_Kitchen/RGB/P01_04\\frame_05180.jpg: name 'deft' is not defined\n",
      "Skipping D:/Datasets/Datasets/EPIC_Kitchen/Flow/P01_04\\frame_05180.jpg: [Errno 2] No such file or directory: 'D:\\\\Datasets\\\\Datasets\\\\EPIC_Kitchen\\\\Flow\\\\P01_04\\\\frame_05180.jpg'\n",
      "Skipping D:/Datasets/Datasets/EPIC_Kitchen/RGB/P01_04\\frame_05190.jpg: name 'deft' is not defined\n",
      "Skipping D:/Datasets/Datasets/EPIC_Kitchen/Flow/P01_04\\frame_05190.jpg: [Errno 2] No such file or directory: 'D:\\\\Datasets\\\\Datasets\\\\EPIC_Kitchen\\\\Flow\\\\P01_04\\\\frame_05190.jpg'\n",
      "Skipping D:/Datasets/Datasets/EPIC_Kitchen/RGB/P01_04\\frame_05200.jpg: name 'deft' is not defined\n",
      "Skipping D:/Datasets/Datasets/EPIC_Kitchen/Flow/P01_04\\frame_05200.jpg: [Errno 2] No such file or directory: 'D:\\\\Datasets\\\\Datasets\\\\EPIC_Kitchen\\\\Flow\\\\P01_04\\\\frame_05200.jpg'\n"
     ]
    },
    {
     "name": "stderr",
     "output_type": "stream",
     "text": [
      "Processing RGB + Flow frames:  83%|█████████████████████████████████████████▌        | 525/631 [00:15<00:03, 29.18it/s]"
     ]
    },
    {
     "name": "stdout",
     "output_type": "stream",
     "text": [
      "Skipping D:/Datasets/Datasets/EPIC_Kitchen/RGB/P01_04\\frame_05210.jpg: name 'deft' is not defined\n",
      "Skipping D:/Datasets/Datasets/EPIC_Kitchen/Flow/P01_04\\frame_05210.jpg: [Errno 2] No such file or directory: 'D:\\\\Datasets\\\\Datasets\\\\EPIC_Kitchen\\\\Flow\\\\P01_04\\\\frame_05210.jpg'\n",
      "Skipping D:/Datasets/Datasets/EPIC_Kitchen/RGB/P01_04\\frame_05220.jpg: name 'deft' is not defined\n",
      "Skipping D:/Datasets/Datasets/EPIC_Kitchen/Flow/P01_04\\frame_05220.jpg: [Errno 2] No such file or directory: 'D:\\\\Datasets\\\\Datasets\\\\EPIC_Kitchen\\\\Flow\\\\P01_04\\\\frame_05220.jpg'\n",
      "Skipping D:/Datasets/Datasets/EPIC_Kitchen/RGB/P01_04\\frame_05230.jpg: name 'deft' is not defined\n",
      "Skipping D:/Datasets/Datasets/EPIC_Kitchen/Flow/P01_04\\frame_05230.jpg: [Errno 2] No such file or directory: 'D:\\\\Datasets\\\\Datasets\\\\EPIC_Kitchen\\\\Flow\\\\P01_04\\\\frame_05230.jpg'\n",
      "Skipping D:/Datasets/Datasets/EPIC_Kitchen/RGB/P01_04\\frame_05240.jpg: name 'deft' is not defined\n",
      "Skipping D:/Datasets/Datasets/EPIC_Kitchen/Flow/P01_04\\frame_05240.jpg: [Errno 2] No such file or directory: 'D:\\\\Datasets\\\\Datasets\\\\EPIC_Kitchen\\\\Flow\\\\P01_04\\\\frame_05240.jpg'\n",
      "Skipping D:/Datasets/Datasets/EPIC_Kitchen/RGB/P01_04\\frame_05250.jpg: name 'deft' is not defined\n",
      "Skipping D:/Datasets/Datasets/EPIC_Kitchen/Flow/P01_04\\frame_05250.jpg: [Errno 2] No such file or directory: 'D:\\\\Datasets\\\\Datasets\\\\EPIC_Kitchen\\\\Flow\\\\P01_04\\\\frame_05250.jpg'\n",
      "Skipping D:/Datasets/Datasets/EPIC_Kitchen/RGB/P01_04\\frame_05260.jpg: name 'deft' is not defined\n",
      "Skipping D:/Datasets/Datasets/EPIC_Kitchen/Flow/P01_04\\frame_05260.jpg: [Errno 2] No such file or directory: 'D:\\\\Datasets\\\\Datasets\\\\EPIC_Kitchen\\\\Flow\\\\P01_04\\\\frame_05260.jpg'\n"
     ]
    },
    {
     "name": "stderr",
     "output_type": "stream",
     "text": [
      "Processing RGB + Flow frames:  84%|██████████████████████████████████████████        | 531/631 [00:15<00:03, 28.77it/s]"
     ]
    },
    {
     "name": "stdout",
     "output_type": "stream",
     "text": [
      "Skipping D:/Datasets/Datasets/EPIC_Kitchen/RGB/P01_04\\frame_05270.jpg: name 'deft' is not defined\n",
      "Skipping D:/Datasets/Datasets/EPIC_Kitchen/Flow/P01_04\\frame_05270.jpg: [Errno 2] No such file or directory: 'D:\\\\Datasets\\\\Datasets\\\\EPIC_Kitchen\\\\Flow\\\\P01_04\\\\frame_05270.jpg'\n",
      "Skipping D:/Datasets/Datasets/EPIC_Kitchen/RGB/P01_04\\frame_05280.jpg: name 'deft' is not defined\n",
      "Skipping D:/Datasets/Datasets/EPIC_Kitchen/Flow/P01_04\\frame_05280.jpg: [Errno 2] No such file or directory: 'D:\\\\Datasets\\\\Datasets\\\\EPIC_Kitchen\\\\Flow\\\\P01_04\\\\frame_05280.jpg'\n",
      "Skipping D:/Datasets/Datasets/EPIC_Kitchen/RGB/P01_04\\frame_05290.jpg: name 'deft' is not defined\n",
      "Skipping D:/Datasets/Datasets/EPIC_Kitchen/Flow/P01_04\\frame_05290.jpg: [Errno 2] No such file or directory: 'D:\\\\Datasets\\\\Datasets\\\\EPIC_Kitchen\\\\Flow\\\\P01_04\\\\frame_05290.jpg'\n",
      "Skipping D:/Datasets/Datasets/EPIC_Kitchen/RGB/P01_04\\frame_05300.jpg: name 'deft' is not defined\n",
      "Skipping D:/Datasets/Datasets/EPIC_Kitchen/Flow/P01_04\\frame_05300.jpg: [Errno 2] No such file or directory: 'D:\\\\Datasets\\\\Datasets\\\\EPIC_Kitchen\\\\Flow\\\\P01_04\\\\frame_05300.jpg'\n",
      "Skipping D:/Datasets/Datasets/EPIC_Kitchen/RGB/P01_04\\frame_05310.jpg: name 'deft' is not defined\n",
      "Skipping D:/Datasets/Datasets/EPIC_Kitchen/Flow/P01_04\\frame_05310.jpg: [Errno 2] No such file or directory: 'D:\\\\Datasets\\\\Datasets\\\\EPIC_Kitchen\\\\Flow\\\\P01_04\\\\frame_05310.jpg'\n",
      "Skipping D:/Datasets/Datasets/EPIC_Kitchen/RGB/P01_04\\frame_05320.jpg: name 'deft' is not defined\n",
      "Skipping D:/Datasets/Datasets/EPIC_Kitchen/Flow/P01_04\\frame_05320.jpg: [Errno 2] No such file or directory: 'D:\\\\Datasets\\\\Datasets\\\\EPIC_Kitchen\\\\Flow\\\\P01_04\\\\frame_05320.jpg'\n",
      "Skipping D:/Datasets/Datasets/EPIC_Kitchen/RGB/P01_04\\frame_05330.jpg: name 'deft' is not defined\n"
     ]
    },
    {
     "name": "stderr",
     "output_type": "stream",
     "text": [
      "Processing RGB + Flow frames:  85%|██████████████████████████████████████████▌       | 537/631 [00:15<00:03, 28.99it/s]"
     ]
    },
    {
     "name": "stdout",
     "output_type": "stream",
     "text": [
      "Skipping D:/Datasets/Datasets/EPIC_Kitchen/Flow/P01_04\\frame_05330.jpg: [Errno 2] No such file or directory: 'D:\\\\Datasets\\\\Datasets\\\\EPIC_Kitchen\\\\Flow\\\\P01_04\\\\frame_05330.jpg'\n",
      "Skipping D:/Datasets/Datasets/EPIC_Kitchen/RGB/P01_04\\frame_05340.jpg: name 'deft' is not defined\n",
      "Skipping D:/Datasets/Datasets/EPIC_Kitchen/Flow/P01_04\\frame_05340.jpg: [Errno 2] No such file or directory: 'D:\\\\Datasets\\\\Datasets\\\\EPIC_Kitchen\\\\Flow\\\\P01_04\\\\frame_05340.jpg'\n",
      "Skipping D:/Datasets/Datasets/EPIC_Kitchen/RGB/P01_04\\frame_05350.jpg: name 'deft' is not defined\n",
      "Skipping D:/Datasets/Datasets/EPIC_Kitchen/Flow/P01_04\\frame_05350.jpg: [Errno 2] No such file or directory: 'D:\\\\Datasets\\\\Datasets\\\\EPIC_Kitchen\\\\Flow\\\\P01_04\\\\frame_05350.jpg'\n",
      "Skipping D:/Datasets/Datasets/EPIC_Kitchen/RGB/P01_04\\frame_05360.jpg: name 'deft' is not defined\n",
      "Skipping D:/Datasets/Datasets/EPIC_Kitchen/Flow/P01_04\\frame_05360.jpg: [Errno 2] No such file or directory: 'D:\\\\Datasets\\\\Datasets\\\\EPIC_Kitchen\\\\Flow\\\\P01_04\\\\frame_05360.jpg'\n",
      "Skipping D:/Datasets/Datasets/EPIC_Kitchen/RGB/P01_04\\frame_05370.jpg: name 'deft' is not defined\n",
      "Skipping D:/Datasets/Datasets/EPIC_Kitchen/Flow/P01_04\\frame_05370.jpg: [Errno 2] No such file or directory: 'D:\\\\Datasets\\\\Datasets\\\\EPIC_Kitchen\\\\Flow\\\\P01_04\\\\frame_05370.jpg'\n",
      "Skipping D:/Datasets/Datasets/EPIC_Kitchen/RGB/P01_04\\frame_05380.jpg: name 'deft' is not defined\n",
      "Skipping D:/Datasets/Datasets/EPIC_Kitchen/Flow/P01_04\\frame_05380.jpg: [Errno 2] No such file or directory: 'D:\\\\Datasets\\\\Datasets\\\\EPIC_Kitchen\\\\Flow\\\\P01_04\\\\frame_05380.jpg'\n"
     ]
    },
    {
     "name": "stderr",
     "output_type": "stream",
     "text": [
      "Processing RGB + Flow frames:  86%|███████████████████████████████████████████       | 544/631 [00:15<00:02, 29.40it/s]"
     ]
    },
    {
     "name": "stdout",
     "output_type": "stream",
     "text": [
      "Skipping D:/Datasets/Datasets/EPIC_Kitchen/RGB/P01_04\\frame_05390.jpg: name 'deft' is not defined\n",
      "Skipping D:/Datasets/Datasets/EPIC_Kitchen/Flow/P01_04\\frame_05390.jpg: [Errno 2] No such file or directory: 'D:\\\\Datasets\\\\Datasets\\\\EPIC_Kitchen\\\\Flow\\\\P01_04\\\\frame_05390.jpg'\n",
      "Skipping D:/Datasets/Datasets/EPIC_Kitchen/RGB/P01_04\\frame_05400.jpg: name 'deft' is not defined\n",
      "Skipping D:/Datasets/Datasets/EPIC_Kitchen/Flow/P01_04\\frame_05400.jpg: [Errno 2] No such file or directory: 'D:\\\\Datasets\\\\Datasets\\\\EPIC_Kitchen\\\\Flow\\\\P01_04\\\\frame_05400.jpg'\n",
      "Skipping D:/Datasets/Datasets/EPIC_Kitchen/RGB/P01_04\\frame_05410.jpg: name 'deft' is not defined\n",
      "Skipping D:/Datasets/Datasets/EPIC_Kitchen/Flow/P01_04\\frame_05410.jpg: [Errno 2] No such file or directory: 'D:\\\\Datasets\\\\Datasets\\\\EPIC_Kitchen\\\\Flow\\\\P01_04\\\\frame_05410.jpg'\n",
      "Skipping D:/Datasets/Datasets/EPIC_Kitchen/RGB/P01_04\\frame_05420.jpg: name 'deft' is not defined\n",
      "Skipping D:/Datasets/Datasets/EPIC_Kitchen/Flow/P01_04\\frame_05420.jpg: [Errno 2] No such file or directory: 'D:\\\\Datasets\\\\Datasets\\\\EPIC_Kitchen\\\\Flow\\\\P01_04\\\\frame_05420.jpg'\n",
      "Skipping D:/Datasets/Datasets/EPIC_Kitchen/RGB/P01_04\\frame_05430.jpg: name 'deft' is not defined\n",
      "Skipping D:/Datasets/Datasets/EPIC_Kitchen/Flow/P01_04\\frame_05430.jpg: [Errno 2] No such file or directory: 'D:\\\\Datasets\\\\Datasets\\\\EPIC_Kitchen\\\\Flow\\\\P01_04\\\\frame_05430.jpg'\n",
      "Skipping D:/Datasets/Datasets/EPIC_Kitchen/RGB/P01_04\\frame_05440.jpg: name 'deft' is not defined\n",
      "Skipping D:/Datasets/Datasets/EPIC_Kitchen/Flow/P01_04\\frame_05440.jpg: [Errno 2] No such file or directory: 'D:\\\\Datasets\\\\Datasets\\\\EPIC_Kitchen\\\\Flow\\\\P01_04\\\\frame_05440.jpg'\n",
      "Skipping D:/Datasets/Datasets/EPIC_Kitchen/RGB/P01_04\\frame_05450.jpg: name 'deft' is not defined\n"
     ]
    },
    {
     "name": "stderr",
     "output_type": "stream",
     "text": [
      "Processing RGB + Flow frames:  87%|███████████████████████████████████████████▋      | 551/631 [00:16<00:02, 29.51it/s]"
     ]
    },
    {
     "name": "stdout",
     "output_type": "stream",
     "text": [
      "Skipping D:/Datasets/Datasets/EPIC_Kitchen/Flow/P01_04\\frame_05450.jpg: [Errno 2] No such file or directory: 'D:\\\\Datasets\\\\Datasets\\\\EPIC_Kitchen\\\\Flow\\\\P01_04\\\\frame_05450.jpg'\n",
      "Skipping D:/Datasets/Datasets/EPIC_Kitchen/RGB/P01_04\\frame_05460.jpg: name 'deft' is not defined\n",
      "Skipping D:/Datasets/Datasets/EPIC_Kitchen/Flow/P01_04\\frame_05460.jpg: [Errno 2] No such file or directory: 'D:\\\\Datasets\\\\Datasets\\\\EPIC_Kitchen\\\\Flow\\\\P01_04\\\\frame_05460.jpg'\n",
      "Skipping D:/Datasets/Datasets/EPIC_Kitchen/RGB/P01_04\\frame_05470.jpg: name 'deft' is not defined\n",
      "Skipping D:/Datasets/Datasets/EPIC_Kitchen/Flow/P01_04\\frame_05470.jpg: [Errno 2] No such file or directory: 'D:\\\\Datasets\\\\Datasets\\\\EPIC_Kitchen\\\\Flow\\\\P01_04\\\\frame_05470.jpg'\n",
      "Skipping D:/Datasets/Datasets/EPIC_Kitchen/RGB/P01_04\\frame_05480.jpg: name 'deft' is not defined\n",
      "Skipping D:/Datasets/Datasets/EPIC_Kitchen/Flow/P01_04\\frame_05480.jpg: [Errno 2] No such file or directory: 'D:\\\\Datasets\\\\Datasets\\\\EPIC_Kitchen\\\\Flow\\\\P01_04\\\\frame_05480.jpg'\n",
      "Skipping D:/Datasets/Datasets/EPIC_Kitchen/RGB/P01_04\\frame_05490.jpg: name 'deft' is not defined\n",
      "Skipping D:/Datasets/Datasets/EPIC_Kitchen/Flow/P01_04\\frame_05490.jpg: [Errno 2] No such file or directory: 'D:\\\\Datasets\\\\Datasets\\\\EPIC_Kitchen\\\\Flow\\\\P01_04\\\\frame_05490.jpg'\n",
      "Skipping D:/Datasets/Datasets/EPIC_Kitchen/RGB/P01_04\\frame_05500.jpg: name 'deft' is not defined\n",
      "Skipping D:/Datasets/Datasets/EPIC_Kitchen/Flow/P01_04\\frame_05500.jpg: [Errno 2] No such file or directory: 'D:\\\\Datasets\\\\Datasets\\\\EPIC_Kitchen\\\\Flow\\\\P01_04\\\\frame_05500.jpg'\n"
     ]
    },
    {
     "name": "stderr",
     "output_type": "stream",
     "text": [
      "\r",
      "Processing RGB + Flow frames:  88%|███████████████████████████████████████████▉      | 555/631 [00:16<00:02, 29.72it/s]"
     ]
    },
    {
     "name": "stdout",
     "output_type": "stream",
     "text": [
      "Skipping D:/Datasets/Datasets/EPIC_Kitchen/RGB/P01_04\\frame_05510.jpg: name 'deft' is not defined\n",
      "Skipping D:/Datasets/Datasets/EPIC_Kitchen/Flow/P01_04\\frame_05510.jpg: [Errno 2] No such file or directory: 'D:\\\\Datasets\\\\Datasets\\\\EPIC_Kitchen\\\\Flow\\\\P01_04\\\\frame_05510.jpg'\n",
      "Skipping D:/Datasets/Datasets/EPIC_Kitchen/RGB/P01_04\\frame_05520.jpg: name 'deft' is not defined\n",
      "Skipping D:/Datasets/Datasets/EPIC_Kitchen/Flow/P01_04\\frame_05520.jpg: [Errno 2] No such file or directory: 'D:\\\\Datasets\\\\Datasets\\\\EPIC_Kitchen\\\\Flow\\\\P01_04\\\\frame_05520.jpg'\n",
      "Skipping D:/Datasets/Datasets/EPIC_Kitchen/RGB/P01_04\\frame_05530.jpg: name 'deft' is not defined\n",
      "Skipping D:/Datasets/Datasets/EPIC_Kitchen/Flow/P01_04\\frame_05530.jpg: [Errno 2] No such file or directory: 'D:\\\\Datasets\\\\Datasets\\\\EPIC_Kitchen\\\\Flow\\\\P01_04\\\\frame_05530.jpg'\n",
      "Skipping D:/Datasets/Datasets/EPIC_Kitchen/RGB/P01_04\\frame_05540.jpg: name 'deft' is not defined\n",
      "Skipping D:/Datasets/Datasets/EPIC_Kitchen/Flow/P01_04\\frame_05540.jpg: [Errno 2] No such file or directory: 'D:\\\\Datasets\\\\Datasets\\\\EPIC_Kitchen\\\\Flow\\\\P01_04\\\\frame_05540.jpg'\n",
      "Skipping D:/Datasets/Datasets/EPIC_Kitchen/RGB/P01_04\\frame_05550.jpg: name 'deft' is not defined\n",
      "Skipping D:/Datasets/Datasets/EPIC_Kitchen/Flow/P01_04\\frame_05550.jpg: [Errno 2] No such file or directory: 'D:\\\\Datasets\\\\Datasets\\\\EPIC_Kitchen\\\\Flow\\\\P01_04\\\\frame_05550.jpg'\n",
      "Skipping D:/Datasets/Datasets/EPIC_Kitchen/RGB/P01_04\\frame_05560.jpg: name 'deft' is not defined\n",
      "Skipping D:/Datasets/Datasets/EPIC_Kitchen/Flow/P01_04\\frame_05560.jpg: [Errno 2] No such file or directory: 'D:\\\\Datasets\\\\Datasets\\\\EPIC_Kitchen\\\\Flow\\\\P01_04\\\\frame_05560.jpg'\n"
     ]
    },
    {
     "name": "stderr",
     "output_type": "stream",
     "text": [
      "Processing RGB + Flow frames:  89%|████████████████████████████████████████████▍     | 561/631 [00:16<00:02, 29.00it/s]"
     ]
    },
    {
     "name": "stdout",
     "output_type": "stream",
     "text": [
      "Skipping D:/Datasets/Datasets/EPIC_Kitchen/RGB/P01_04\\frame_05570.jpg: name 'deft' is not defined\n",
      "Skipping D:/Datasets/Datasets/EPIC_Kitchen/Flow/P01_04\\frame_05570.jpg: [Errno 2] No such file or directory: 'D:\\\\Datasets\\\\Datasets\\\\EPIC_Kitchen\\\\Flow\\\\P01_04\\\\frame_05570.jpg'\n",
      "Skipping D:/Datasets/Datasets/EPIC_Kitchen/RGB/P01_04\\frame_05580.jpg: name 'deft' is not defined\n",
      "Skipping D:/Datasets/Datasets/EPIC_Kitchen/Flow/P01_04\\frame_05580.jpg: [Errno 2] No such file or directory: 'D:\\\\Datasets\\\\Datasets\\\\EPIC_Kitchen\\\\Flow\\\\P01_04\\\\frame_05580.jpg'\n",
      "Skipping D:/Datasets/Datasets/EPIC_Kitchen/RGB/P01_04\\frame_05590.jpg: name 'deft' is not defined\n",
      "Skipping D:/Datasets/Datasets/EPIC_Kitchen/Flow/P01_04\\frame_05590.jpg: [Errno 2] No such file or directory: 'D:\\\\Datasets\\\\Datasets\\\\EPIC_Kitchen\\\\Flow\\\\P01_04\\\\frame_05590.jpg'\n",
      "Skipping D:/Datasets/Datasets/EPIC_Kitchen/RGB/P01_04\\frame_05600.jpg: name 'deft' is not defined\n",
      "Skipping D:/Datasets/Datasets/EPIC_Kitchen/Flow/P01_04\\frame_05600.jpg: [Errno 2] No such file or directory: 'D:\\\\Datasets\\\\Datasets\\\\EPIC_Kitchen\\\\Flow\\\\P01_04\\\\frame_05600.jpg'\n",
      "Skipping D:/Datasets/Datasets/EPIC_Kitchen/RGB/P01_04\\frame_05610.jpg: name 'deft' is not defined\n",
      "Skipping D:/Datasets/Datasets/EPIC_Kitchen/Flow/P01_04\\frame_05610.jpg: [Errno 2] No such file or directory: 'D:\\\\Datasets\\\\Datasets\\\\EPIC_Kitchen\\\\Flow\\\\P01_04\\\\frame_05610.jpg'\n",
      "Skipping D:/Datasets/Datasets/EPIC_Kitchen/RGB/P01_04\\frame_05620.jpg: name 'deft' is not defined\n",
      "Skipping D:/Datasets/Datasets/EPIC_Kitchen/Flow/P01_04\\frame_05620.jpg: [Errno 2] No such file or directory: 'D:\\\\Datasets\\\\Datasets\\\\EPIC_Kitchen\\\\Flow\\\\P01_04\\\\frame_05620.jpg'\n"
     ]
    },
    {
     "name": "stderr",
     "output_type": "stream",
     "text": [
      "Processing RGB + Flow frames:  90%|█████████████████████████████████████████████     | 568/631 [00:16<00:02, 29.61it/s]"
     ]
    },
    {
     "name": "stdout",
     "output_type": "stream",
     "text": [
      "Skipping D:/Datasets/Datasets/EPIC_Kitchen/RGB/P01_04\\frame_05630.jpg: name 'deft' is not defined\n",
      "Skipping D:/Datasets/Datasets/EPIC_Kitchen/Flow/P01_04\\frame_05630.jpg: [Errno 2] No such file or directory: 'D:\\\\Datasets\\\\Datasets\\\\EPIC_Kitchen\\\\Flow\\\\P01_04\\\\frame_05630.jpg'\n",
      "Skipping D:/Datasets/Datasets/EPIC_Kitchen/RGB/P01_04\\frame_05640.jpg: name 'deft' is not defined\n",
      "Skipping D:/Datasets/Datasets/EPIC_Kitchen/Flow/P01_04\\frame_05640.jpg: [Errno 2] No such file or directory: 'D:\\\\Datasets\\\\Datasets\\\\EPIC_Kitchen\\\\Flow\\\\P01_04\\\\frame_05640.jpg'\n",
      "Skipping D:/Datasets/Datasets/EPIC_Kitchen/RGB/P01_04\\frame_05650.jpg: name 'deft' is not defined\n",
      "Skipping D:/Datasets/Datasets/EPIC_Kitchen/Flow/P01_04\\frame_05650.jpg: [Errno 2] No such file or directory: 'D:\\\\Datasets\\\\Datasets\\\\EPIC_Kitchen\\\\Flow\\\\P01_04\\\\frame_05650.jpg'\n",
      "Skipping D:/Datasets/Datasets/EPIC_Kitchen/RGB/P01_04\\frame_05660.jpg: name 'deft' is not defined\n",
      "Skipping D:/Datasets/Datasets/EPIC_Kitchen/Flow/P01_04\\frame_05660.jpg: [Errno 2] No such file or directory: 'D:\\\\Datasets\\\\Datasets\\\\EPIC_Kitchen\\\\Flow\\\\P01_04\\\\frame_05660.jpg'\n",
      "Skipping D:/Datasets/Datasets/EPIC_Kitchen/RGB/P01_04\\frame_05670.jpg: name 'deft' is not defined\n",
      "Skipping D:/Datasets/Datasets/EPIC_Kitchen/Flow/P01_04\\frame_05670.jpg: [Errno 2] No such file or directory: 'D:\\\\Datasets\\\\Datasets\\\\EPIC_Kitchen\\\\Flow\\\\P01_04\\\\frame_05670.jpg'\n",
      "Skipping D:/Datasets/Datasets/EPIC_Kitchen/RGB/P01_04\\frame_05680.jpg: name 'deft' is not defined\n",
      "Skipping D:/Datasets/Datasets/EPIC_Kitchen/Flow/P01_04\\frame_05680.jpg: [Errno 2] No such file or directory: 'D:\\\\Datasets\\\\Datasets\\\\EPIC_Kitchen\\\\Flow\\\\P01_04\\\\frame_05680.jpg'\n",
      "Skipping D:/Datasets/Datasets/EPIC_Kitchen/RGB/P01_04\\frame_05690.jpg: name 'deft' is not defined\n",
      "Skipping D:/Datasets/Datasets/EPIC_Kitchen/Flow/P01_04\\frame_05690.jpg: [Errno 2] No such file or directory: 'D:\\\\Datasets\\\\Datasets\\\\EPIC_Kitchen\\\\Flow\\\\P01_04\\\\frame_05690.jpg'\n"
     ]
    },
    {
     "name": "stderr",
     "output_type": "stream",
     "text": [
      "Processing RGB + Flow frames:  91%|█████████████████████████████████████████████▍    | 574/631 [00:16<00:01, 29.63it/s]"
     ]
    },
    {
     "name": "stdout",
     "output_type": "stream",
     "text": [
      "Skipping D:/Datasets/Datasets/EPIC_Kitchen/RGB/P01_04\\frame_05700.jpg: name 'deft' is not defined\n",
      "Skipping D:/Datasets/Datasets/EPIC_Kitchen/Flow/P01_04\\frame_05700.jpg: [Errno 2] No such file or directory: 'D:\\\\Datasets\\\\Datasets\\\\EPIC_Kitchen\\\\Flow\\\\P01_04\\\\frame_05700.jpg'\n",
      "Skipping D:/Datasets/Datasets/EPIC_Kitchen/RGB/P01_04\\frame_05710.jpg: name 'deft' is not defined\n",
      "Skipping D:/Datasets/Datasets/EPIC_Kitchen/Flow/P01_04\\frame_05710.jpg: [Errno 2] No such file or directory: 'D:\\\\Datasets\\\\Datasets\\\\EPIC_Kitchen\\\\Flow\\\\P01_04\\\\frame_05710.jpg'\n",
      "Skipping D:/Datasets/Datasets/EPIC_Kitchen/RGB/P01_04\\frame_05720.jpg: name 'deft' is not defined\n",
      "Skipping D:/Datasets/Datasets/EPIC_Kitchen/Flow/P01_04\\frame_05720.jpg: [Errno 2] No such file or directory: 'D:\\\\Datasets\\\\Datasets\\\\EPIC_Kitchen\\\\Flow\\\\P01_04\\\\frame_05720.jpg'\n",
      "Skipping D:/Datasets/Datasets/EPIC_Kitchen/RGB/P01_04\\frame_05730.jpg: name 'deft' is not defined\n",
      "Skipping D:/Datasets/Datasets/EPIC_Kitchen/Flow/P01_04\\frame_05730.jpg: [Errno 2] No such file or directory: 'D:\\\\Datasets\\\\Datasets\\\\EPIC_Kitchen\\\\Flow\\\\P01_04\\\\frame_05730.jpg'\n",
      "Skipping D:/Datasets/Datasets/EPIC_Kitchen/RGB/P01_04\\frame_05740.jpg: name 'deft' is not defined\n",
      "Skipping D:/Datasets/Datasets/EPIC_Kitchen/Flow/P01_04\\frame_05740.jpg: [Errno 2] No such file or directory: 'D:\\\\Datasets\\\\Datasets\\\\EPIC_Kitchen\\\\Flow\\\\P01_04\\\\frame_05740.jpg'\n",
      "Skipping D:/Datasets/Datasets/EPIC_Kitchen/RGB/P01_04\\frame_05750.jpg: name 'deft' is not defined\n",
      "Skipping D:/Datasets/Datasets/EPIC_Kitchen/Flow/P01_04\\frame_05750.jpg: [Errno 2] No such file or directory: 'D:\\\\Datasets\\\\Datasets\\\\EPIC_Kitchen\\\\Flow\\\\P01_04\\\\frame_05750.jpg'\n"
     ]
    },
    {
     "name": "stderr",
     "output_type": "stream",
     "text": [
      "Processing RGB + Flow frames:  92%|█████████████████████████████████████████████▉    | 580/631 [00:17<00:01, 28.49it/s]"
     ]
    },
    {
     "name": "stdout",
     "output_type": "stream",
     "text": [
      "Skipping D:/Datasets/Datasets/EPIC_Kitchen/RGB/P01_04\\frame_05760.jpg: name 'deft' is not defined\n",
      "Skipping D:/Datasets/Datasets/EPIC_Kitchen/Flow/P01_04\\frame_05760.jpg: [Errno 2] No such file or directory: 'D:\\\\Datasets\\\\Datasets\\\\EPIC_Kitchen\\\\Flow\\\\P01_04\\\\frame_05760.jpg'\n",
      "Skipping D:/Datasets/Datasets/EPIC_Kitchen/RGB/P01_04\\frame_05770.jpg: name 'deft' is not defined\n",
      "Skipping D:/Datasets/Datasets/EPIC_Kitchen/Flow/P01_04\\frame_05770.jpg: [Errno 2] No such file or directory: 'D:\\\\Datasets\\\\Datasets\\\\EPIC_Kitchen\\\\Flow\\\\P01_04\\\\frame_05770.jpg'\n",
      "Skipping D:/Datasets/Datasets/EPIC_Kitchen/RGB/P01_04\\frame_05780.jpg: name 'deft' is not defined\n",
      "Skipping D:/Datasets/Datasets/EPIC_Kitchen/Flow/P01_04\\frame_05780.jpg: [Errno 2] No such file or directory: 'D:\\\\Datasets\\\\Datasets\\\\EPIC_Kitchen\\\\Flow\\\\P01_04\\\\frame_05780.jpg'\n",
      "Skipping D:/Datasets/Datasets/EPIC_Kitchen/RGB/P01_04\\frame_05790.jpg: name 'deft' is not defined\n",
      "Skipping D:/Datasets/Datasets/EPIC_Kitchen/Flow/P01_04\\frame_05790.jpg: [Errno 2] No such file or directory: 'D:\\\\Datasets\\\\Datasets\\\\EPIC_Kitchen\\\\Flow\\\\P01_04\\\\frame_05790.jpg'\n",
      "Skipping D:/Datasets/Datasets/EPIC_Kitchen/RGB/P01_04\\frame_05800.jpg: name 'deft' is not defined\n",
      "Skipping D:/Datasets/Datasets/EPIC_Kitchen/Flow/P01_04\\frame_05800.jpg: [Errno 2] No such file or directory: 'D:\\\\Datasets\\\\Datasets\\\\EPIC_Kitchen\\\\Flow\\\\P01_04\\\\frame_05800.jpg'\n",
      "Skipping D:/Datasets/Datasets/EPIC_Kitchen/RGB/P01_04\\frame_05810.jpg: name 'deft' is not defined\n",
      "Skipping D:/Datasets/Datasets/EPIC_Kitchen/Flow/P01_04\\frame_05810.jpg: [Errno 2] No such file or directory: 'D:\\\\Datasets\\\\Datasets\\\\EPIC_Kitchen\\\\Flow\\\\P01_04\\\\frame_05810.jpg'\n",
      "Skipping D:/Datasets/Datasets/EPIC_Kitchen/RGB/P01_04\\frame_05820.jpg: name 'deft' is not defined\n",
      "Skipping D:/Datasets/Datasets/EPIC_Kitchen/Flow/P01_04\\frame_05820.jpg: [Errno 2] No such file or directory: 'D:\\\\Datasets\\\\Datasets\\\\EPIC_Kitchen\\\\Flow\\\\P01_04\\\\frame_05820.jpg'\n"
     ]
    },
    {
     "name": "stderr",
     "output_type": "stream",
     "text": [
      "Processing RGB + Flow frames:  93%|██████████████████████████████████████████████▌   | 587/631 [00:17<00:01, 28.96it/s]"
     ]
    },
    {
     "name": "stdout",
     "output_type": "stream",
     "text": [
      "Skipping D:/Datasets/Datasets/EPIC_Kitchen/RGB/P01_04\\frame_05830.jpg: name 'deft' is not defined\n",
      "Skipping D:/Datasets/Datasets/EPIC_Kitchen/Flow/P01_04\\frame_05830.jpg: [Errno 2] No such file or directory: 'D:\\\\Datasets\\\\Datasets\\\\EPIC_Kitchen\\\\Flow\\\\P01_04\\\\frame_05830.jpg'\n",
      "Skipping D:/Datasets/Datasets/EPIC_Kitchen/RGB/P01_04\\frame_05840.jpg: name 'deft' is not defined\n",
      "Skipping D:/Datasets/Datasets/EPIC_Kitchen/Flow/P01_04\\frame_05840.jpg: [Errno 2] No such file or directory: 'D:\\\\Datasets\\\\Datasets\\\\EPIC_Kitchen\\\\Flow\\\\P01_04\\\\frame_05840.jpg'\n",
      "Skipping D:/Datasets/Datasets/EPIC_Kitchen/RGB/P01_04\\frame_05850.jpg: name 'deft' is not defined\n",
      "Skipping D:/Datasets/Datasets/EPIC_Kitchen/Flow/P01_04\\frame_05850.jpg: [Errno 2] No such file or directory: 'D:\\\\Datasets\\\\Datasets\\\\EPIC_Kitchen\\\\Flow\\\\P01_04\\\\frame_05850.jpg'\n",
      "Skipping D:/Datasets/Datasets/EPIC_Kitchen/RGB/P01_04\\frame_05860.jpg: name 'deft' is not defined\n",
      "Skipping D:/Datasets/Datasets/EPIC_Kitchen/Flow/P01_04\\frame_05860.jpg: [Errno 2] No such file or directory: 'D:\\\\Datasets\\\\Datasets\\\\EPIC_Kitchen\\\\Flow\\\\P01_04\\\\frame_05860.jpg'\n",
      "Skipping D:/Datasets/Datasets/EPIC_Kitchen/RGB/P01_04\\frame_05870.jpg: name 'deft' is not defined\n",
      "Skipping D:/Datasets/Datasets/EPIC_Kitchen/Flow/P01_04\\frame_05870.jpg: [Errno 2] No such file or directory: 'D:\\\\Datasets\\\\Datasets\\\\EPIC_Kitchen\\\\Flow\\\\P01_04\\\\frame_05870.jpg'\n",
      "Skipping D:/Datasets/Datasets/EPIC_Kitchen/RGB/P01_04\\frame_05880.jpg: name 'deft' is not defined\n",
      "Skipping D:/Datasets/Datasets/EPIC_Kitchen/Flow/P01_04\\frame_05880.jpg: [Errno 2] No such file or directory: 'D:\\\\Datasets\\\\Datasets\\\\EPIC_Kitchen\\\\Flow\\\\P01_04\\\\frame_05880.jpg'\n"
     ]
    },
    {
     "name": "stderr",
     "output_type": "stream",
     "text": [
      "Processing RGB + Flow frames:  94%|███████████████████████████████████████████████   | 594/631 [00:17<00:01, 28.65it/s]"
     ]
    },
    {
     "name": "stdout",
     "output_type": "stream",
     "text": [
      "Skipping D:/Datasets/Datasets/EPIC_Kitchen/RGB/P01_04\\frame_05890.jpg: name 'deft' is not defined\n",
      "Skipping D:/Datasets/Datasets/EPIC_Kitchen/Flow/P01_04\\frame_05890.jpg: [Errno 2] No such file or directory: 'D:\\\\Datasets\\\\Datasets\\\\EPIC_Kitchen\\\\Flow\\\\P01_04\\\\frame_05890.jpg'\n",
      "Skipping D:/Datasets/Datasets/EPIC_Kitchen/RGB/P01_04\\frame_05900.jpg: name 'deft' is not defined\n",
      "Skipping D:/Datasets/Datasets/EPIC_Kitchen/Flow/P01_04\\frame_05900.jpg: [Errno 2] No such file or directory: 'D:\\\\Datasets\\\\Datasets\\\\EPIC_Kitchen\\\\Flow\\\\P01_04\\\\frame_05900.jpg'\n",
      "Skipping D:/Datasets/Datasets/EPIC_Kitchen/RGB/P01_04\\frame_05910.jpg: name 'deft' is not defined\n",
      "Skipping D:/Datasets/Datasets/EPIC_Kitchen/Flow/P01_04\\frame_05910.jpg: [Errno 2] No such file or directory: 'D:\\\\Datasets\\\\Datasets\\\\EPIC_Kitchen\\\\Flow\\\\P01_04\\\\frame_05910.jpg'\n",
      "Skipping D:/Datasets/Datasets/EPIC_Kitchen/RGB/P01_04\\frame_05920.jpg: name 'deft' is not defined\n",
      "Skipping D:/Datasets/Datasets/EPIC_Kitchen/Flow/P01_04\\frame_05920.jpg: [Errno 2] No such file or directory: 'D:\\\\Datasets\\\\Datasets\\\\EPIC_Kitchen\\\\Flow\\\\P01_04\\\\frame_05920.jpg'\n",
      "Skipping D:/Datasets/Datasets/EPIC_Kitchen/RGB/P01_04\\frame_05930.jpg: name 'deft' is not defined\n",
      "Skipping D:/Datasets/Datasets/EPIC_Kitchen/Flow/P01_04\\frame_05930.jpg: [Errno 2] No such file or directory: 'D:\\\\Datasets\\\\Datasets\\\\EPIC_Kitchen\\\\Flow\\\\P01_04\\\\frame_05930.jpg'\n",
      "Skipping D:/Datasets/Datasets/EPIC_Kitchen/RGB/P01_04\\frame_05940.jpg: name 'deft' is not defined\n",
      "Skipping D:/Datasets/Datasets/EPIC_Kitchen/Flow/P01_04\\frame_05940.jpg: [Errno 2] No such file or directory: 'D:\\\\Datasets\\\\Datasets\\\\EPIC_Kitchen\\\\Flow\\\\P01_04\\\\frame_05940.jpg'\n"
     ]
    },
    {
     "name": "stderr",
     "output_type": "stream",
     "text": [
      "Processing RGB + Flow frames:  95%|███████████████████████████████████████████████▌  | 600/631 [00:17<00:01, 28.73it/s]"
     ]
    },
    {
     "name": "stdout",
     "output_type": "stream",
     "text": [
      "Skipping D:/Datasets/Datasets/EPIC_Kitchen/RGB/P01_04\\frame_05950.jpg: name 'deft' is not defined\n",
      "Skipping D:/Datasets/Datasets/EPIC_Kitchen/Flow/P01_04\\frame_05950.jpg: [Errno 2] No such file or directory: 'D:\\\\Datasets\\\\Datasets\\\\EPIC_Kitchen\\\\Flow\\\\P01_04\\\\frame_05950.jpg'\n",
      "Skipping D:/Datasets/Datasets/EPIC_Kitchen/RGB/P01_04\\frame_05960.jpg: name 'deft' is not defined\n",
      "Skipping D:/Datasets/Datasets/EPIC_Kitchen/Flow/P01_04\\frame_05960.jpg: [Errno 2] No such file or directory: 'D:\\\\Datasets\\\\Datasets\\\\EPIC_Kitchen\\\\Flow\\\\P01_04\\\\frame_05960.jpg'\n",
      "Skipping D:/Datasets/Datasets/EPIC_Kitchen/RGB/P01_04\\frame_05970.jpg: name 'deft' is not defined\n",
      "Skipping D:/Datasets/Datasets/EPIC_Kitchen/Flow/P01_04\\frame_05970.jpg: [Errno 2] No such file or directory: 'D:\\\\Datasets\\\\Datasets\\\\EPIC_Kitchen\\\\Flow\\\\P01_04\\\\frame_05970.jpg'\n",
      "Skipping D:/Datasets/Datasets/EPIC_Kitchen/RGB/P01_04\\frame_05980.jpg: name 'deft' is not defined\n",
      "Skipping D:/Datasets/Datasets/EPIC_Kitchen/Flow/P01_04\\frame_05980.jpg: [Errno 2] No such file or directory: 'D:\\\\Datasets\\\\Datasets\\\\EPIC_Kitchen\\\\Flow\\\\P01_04\\\\frame_05980.jpg'\n",
      "Skipping D:/Datasets/Datasets/EPIC_Kitchen/RGB/P01_04\\frame_05990.jpg: name 'deft' is not defined\n",
      "Skipping D:/Datasets/Datasets/EPIC_Kitchen/Flow/P01_04\\frame_05990.jpg: [Errno 2] No such file or directory: 'D:\\\\Datasets\\\\Datasets\\\\EPIC_Kitchen\\\\Flow\\\\P01_04\\\\frame_05990.jpg'\n",
      "Skipping D:/Datasets/Datasets/EPIC_Kitchen/RGB/P01_04\\frame_06000.jpg: name 'deft' is not defined\n",
      "Skipping D:/Datasets/Datasets/EPIC_Kitchen/Flow/P01_04\\frame_06000.jpg: [Errno 2] No such file or directory: 'D:\\\\Datasets\\\\Datasets\\\\EPIC_Kitchen\\\\Flow\\\\P01_04\\\\frame_06000.jpg'\n",
      "Skipping D:/Datasets/Datasets/EPIC_Kitchen/RGB/P01_04\\frame_06010.jpg: name 'deft' is not defined\n",
      "Skipping D:/Datasets/Datasets/EPIC_Kitchen/Flow/P01_04\\frame_06010.jpg: [Errno 2] No such file or directory: 'D:\\\\Datasets\\\\Datasets\\\\EPIC_Kitchen\\\\Flow\\\\P01_04\\\\frame_06010.jpg'\n"
     ]
    },
    {
     "name": "stderr",
     "output_type": "stream",
     "text": [
      "Processing RGB + Flow frames:  96%|████████████████████████████████████████████████  | 606/631 [00:18<00:00, 28.29it/s]"
     ]
    },
    {
     "name": "stdout",
     "output_type": "stream",
     "text": [
      "Skipping D:/Datasets/Datasets/EPIC_Kitchen/RGB/P01_04\\frame_06020.jpg: name 'deft' is not defined\n",
      "Skipping D:/Datasets/Datasets/EPIC_Kitchen/Flow/P01_04\\frame_06020.jpg: [Errno 2] No such file or directory: 'D:\\\\Datasets\\\\Datasets\\\\EPIC_Kitchen\\\\Flow\\\\P01_04\\\\frame_06020.jpg'\n",
      "Skipping D:/Datasets/Datasets/EPIC_Kitchen/RGB/P01_04\\frame_06030.jpg: name 'deft' is not defined\n",
      "Skipping D:/Datasets/Datasets/EPIC_Kitchen/Flow/P01_04\\frame_06030.jpg: [Errno 2] No such file or directory: 'D:\\\\Datasets\\\\Datasets\\\\EPIC_Kitchen\\\\Flow\\\\P01_04\\\\frame_06030.jpg'\n",
      "Skipping D:/Datasets/Datasets/EPIC_Kitchen/RGB/P01_04\\frame_06040.jpg: name 'deft' is not defined\n",
      "Skipping D:/Datasets/Datasets/EPIC_Kitchen/Flow/P01_04\\frame_06040.jpg: [Errno 2] No such file or directory: 'D:\\\\Datasets\\\\Datasets\\\\EPIC_Kitchen\\\\Flow\\\\P01_04\\\\frame_06040.jpg'\n",
      "Skipping D:/Datasets/Datasets/EPIC_Kitchen/RGB/P01_04\\frame_06050.jpg: name 'deft' is not defined\n",
      "Skipping D:/Datasets/Datasets/EPIC_Kitchen/Flow/P01_04\\frame_06050.jpg: [Errno 2] No such file or directory: 'D:\\\\Datasets\\\\Datasets\\\\EPIC_Kitchen\\\\Flow\\\\P01_04\\\\frame_06050.jpg'\n",
      "Skipping D:/Datasets/Datasets/EPIC_Kitchen/RGB/P01_04\\frame_06060.jpg: name 'deft' is not defined\n",
      "Skipping D:/Datasets/Datasets/EPIC_Kitchen/Flow/P01_04\\frame_06060.jpg: [Errno 2] No such file or directory: 'D:\\\\Datasets\\\\Datasets\\\\EPIC_Kitchen\\\\Flow\\\\P01_04\\\\frame_06060.jpg'\n",
      "Skipping D:/Datasets/Datasets/EPIC_Kitchen/RGB/P01_04\\frame_06070.jpg: name 'deft' is not defined\n",
      "Skipping D:/Datasets/Datasets/EPIC_Kitchen/Flow/P01_04\\frame_06070.jpg: [Errno 2] No such file or directory: 'D:\\\\Datasets\\\\Datasets\\\\EPIC_Kitchen\\\\Flow\\\\P01_04\\\\frame_06070.jpg'\n"
     ]
    },
    {
     "name": "stderr",
     "output_type": "stream",
     "text": [
      "Processing RGB + Flow frames:  97%|████████████████████████████████████████████████▍ | 612/631 [00:18<00:00, 28.66it/s]"
     ]
    },
    {
     "name": "stdout",
     "output_type": "stream",
     "text": [
      "Skipping D:/Datasets/Datasets/EPIC_Kitchen/RGB/P01_04\\frame_06080.jpg: name 'deft' is not defined\n",
      "Skipping D:/Datasets/Datasets/EPIC_Kitchen/Flow/P01_04\\frame_06080.jpg: [Errno 2] No such file or directory: 'D:\\\\Datasets\\\\Datasets\\\\EPIC_Kitchen\\\\Flow\\\\P01_04\\\\frame_06080.jpg'\n",
      "Skipping D:/Datasets/Datasets/EPIC_Kitchen/RGB/P01_04\\frame_06090.jpg: name 'deft' is not defined\n",
      "Skipping D:/Datasets/Datasets/EPIC_Kitchen/Flow/P01_04\\frame_06090.jpg: [Errno 2] No such file or directory: 'D:\\\\Datasets\\\\Datasets\\\\EPIC_Kitchen\\\\Flow\\\\P01_04\\\\frame_06090.jpg'\n",
      "Skipping D:/Datasets/Datasets/EPIC_Kitchen/RGB/P01_04\\frame_06100.jpg: name 'deft' is not defined\n",
      "Skipping D:/Datasets/Datasets/EPIC_Kitchen/Flow/P01_04\\frame_06100.jpg: [Errno 2] No such file or directory: 'D:\\\\Datasets\\\\Datasets\\\\EPIC_Kitchen\\\\Flow\\\\P01_04\\\\frame_06100.jpg'\n",
      "Skipping D:/Datasets/Datasets/EPIC_Kitchen/RGB/P01_04\\frame_06110.jpg: name 'deft' is not defined\n",
      "Skipping D:/Datasets/Datasets/EPIC_Kitchen/Flow/P01_04\\frame_06110.jpg: [Errno 2] No such file or directory: 'D:\\\\Datasets\\\\Datasets\\\\EPIC_Kitchen\\\\Flow\\\\P01_04\\\\frame_06110.jpg'\n",
      "Skipping D:/Datasets/Datasets/EPIC_Kitchen/RGB/P01_04\\frame_06120.jpg: name 'deft' is not defined\n",
      "Skipping D:/Datasets/Datasets/EPIC_Kitchen/Flow/P01_04\\frame_06120.jpg: [Errno 2] No such file or directory: 'D:\\\\Datasets\\\\Datasets\\\\EPIC_Kitchen\\\\Flow\\\\P01_04\\\\frame_06120.jpg'\n",
      "Skipping D:/Datasets/Datasets/EPIC_Kitchen/RGB/P01_04\\frame_06130.jpg: name 'deft' is not defined\n",
      "Skipping D:/Datasets/Datasets/EPIC_Kitchen/Flow/P01_04\\frame_06130.jpg: [Errno 2] No such file or directory: 'D:\\\\Datasets\\\\Datasets\\\\EPIC_Kitchen\\\\Flow\\\\P01_04\\\\frame_06130.jpg'\n",
      "Skipping D:/Datasets/Datasets/EPIC_Kitchen/RGB/P01_04\\frame_06140.jpg: name 'deft' is not defined\n",
      "Skipping D:/Datasets/Datasets/EPIC_Kitchen/Flow/P01_04\\frame_06140.jpg: [Errno 2] No such file or directory: 'D:\\\\Datasets\\\\Datasets\\\\EPIC_Kitchen\\\\Flow\\\\P01_04\\\\frame_06140.jpg'\n"
     ]
    },
    {
     "name": "stderr",
     "output_type": "stream",
     "text": [
      "Processing RGB + Flow frames:  98%|█████████████████████████████████████████████████ | 619/631 [00:18<00:00, 29.21it/s]"
     ]
    },
    {
     "name": "stdout",
     "output_type": "stream",
     "text": [
      "Skipping D:/Datasets/Datasets/EPIC_Kitchen/RGB/P01_04\\frame_06150.jpg: name 'deft' is not defined\n",
      "Skipping D:/Datasets/Datasets/EPIC_Kitchen/Flow/P01_04\\frame_06150.jpg: [Errno 2] No such file or directory: 'D:\\\\Datasets\\\\Datasets\\\\EPIC_Kitchen\\\\Flow\\\\P01_04\\\\frame_06150.jpg'\n",
      "Skipping D:/Datasets/Datasets/EPIC_Kitchen/RGB/P01_04\\frame_06160.jpg: name 'deft' is not defined\n",
      "Skipping D:/Datasets/Datasets/EPIC_Kitchen/Flow/P01_04\\frame_06160.jpg: [Errno 2] No such file or directory: 'D:\\\\Datasets\\\\Datasets\\\\EPIC_Kitchen\\\\Flow\\\\P01_04\\\\frame_06160.jpg'\n",
      "Skipping D:/Datasets/Datasets/EPIC_Kitchen/RGB/P01_04\\frame_06170.jpg: name 'deft' is not defined\n",
      "Skipping D:/Datasets/Datasets/EPIC_Kitchen/Flow/P01_04\\frame_06170.jpg: [Errno 2] No such file or directory: 'D:\\\\Datasets\\\\Datasets\\\\EPIC_Kitchen\\\\Flow\\\\P01_04\\\\frame_06170.jpg'\n",
      "Skipping D:/Datasets/Datasets/EPIC_Kitchen/RGB/P01_04\\frame_06180.jpg: name 'deft' is not defined\n",
      "Skipping D:/Datasets/Datasets/EPIC_Kitchen/Flow/P01_04\\frame_06180.jpg: [Errno 2] No such file or directory: 'D:\\\\Datasets\\\\Datasets\\\\EPIC_Kitchen\\\\Flow\\\\P01_04\\\\frame_06180.jpg'\n",
      "Skipping D:/Datasets/Datasets/EPIC_Kitchen/RGB/P01_04\\frame_06190.jpg: name 'deft' is not defined\n",
      "Skipping D:/Datasets/Datasets/EPIC_Kitchen/Flow/P01_04\\frame_06190.jpg: [Errno 2] No such file or directory: 'D:\\\\Datasets\\\\Datasets\\\\EPIC_Kitchen\\\\Flow\\\\P01_04\\\\frame_06190.jpg'\n",
      "Skipping D:/Datasets/Datasets/EPIC_Kitchen/RGB/P01_04\\frame_06200.jpg: name 'deft' is not defined\n",
      "Skipping D:/Datasets/Datasets/EPIC_Kitchen/Flow/P01_04\\frame_06200.jpg: [Errno 2] No such file or directory: 'D:\\\\Datasets\\\\Datasets\\\\EPIC_Kitchen\\\\Flow\\\\P01_04\\\\frame_06200.jpg'\n",
      "Skipping D:/Datasets/Datasets/EPIC_Kitchen/RGB/P01_04\\frame_06210.jpg: name 'deft' is not defined\n",
      "Skipping D:/Datasets/Datasets/EPIC_Kitchen/Flow/P01_04\\frame_06210.jpg: [Errno 2] No such file or directory: 'D:\\\\Datasets\\\\Datasets\\\\EPIC_Kitchen\\\\Flow\\\\P01_04\\\\frame_06210.jpg'\n"
     ]
    },
    {
     "name": "stderr",
     "output_type": "stream",
     "text": [
      "Processing RGB + Flow frames:  99%|█████████████████████████████████████████████████▋| 627/631 [00:18<00:00, 29.69it/s]"
     ]
    },
    {
     "name": "stdout",
     "output_type": "stream",
     "text": [
      "Skipping D:/Datasets/Datasets/EPIC_Kitchen/RGB/P01_04\\frame_06220.jpg: name 'deft' is not defined\n",
      "Skipping D:/Datasets/Datasets/EPIC_Kitchen/Flow/P01_04\\frame_06220.jpg: [Errno 2] No such file or directory: 'D:\\\\Datasets\\\\Datasets\\\\EPIC_Kitchen\\\\Flow\\\\P01_04\\\\frame_06220.jpg'\n",
      "Skipping D:/Datasets/Datasets/EPIC_Kitchen/RGB/P01_04\\frame_06230.jpg: name 'deft' is not defined\n",
      "Skipping D:/Datasets/Datasets/EPIC_Kitchen/Flow/P01_04\\frame_06230.jpg: [Errno 2] No such file or directory: 'D:\\\\Datasets\\\\Datasets\\\\EPIC_Kitchen\\\\Flow\\\\P01_04\\\\frame_06230.jpg'\n",
      "Skipping D:/Datasets/Datasets/EPIC_Kitchen/RGB/P01_04\\frame_06240.jpg: name 'deft' is not defined\n",
      "Skipping D:/Datasets/Datasets/EPIC_Kitchen/Flow/P01_04\\frame_06240.jpg: [Errno 2] No such file or directory: 'D:\\\\Datasets\\\\Datasets\\\\EPIC_Kitchen\\\\Flow\\\\P01_04\\\\frame_06240.jpg'\n",
      "Skipping D:/Datasets/Datasets/EPIC_Kitchen/RGB/P01_04\\frame_06250.jpg: name 'deft' is not defined\n",
      "Skipping D:/Datasets/Datasets/EPIC_Kitchen/Flow/P01_04\\frame_06250.jpg: [Errno 2] No such file or directory: 'D:\\\\Datasets\\\\Datasets\\\\EPIC_Kitchen\\\\Flow\\\\P01_04\\\\frame_06250.jpg'\n",
      "Skipping D:/Datasets/Datasets/EPIC_Kitchen/RGB/P01_04\\frame_06260.jpg: name 'deft' is not defined\n",
      "Skipping D:/Datasets/Datasets/EPIC_Kitchen/Flow/P01_04\\frame_06260.jpg: [Errno 2] No such file or directory: 'D:\\\\Datasets\\\\Datasets\\\\EPIC_Kitchen\\\\Flow\\\\P01_04\\\\frame_06260.jpg'\n",
      "Skipping D:/Datasets/Datasets/EPIC_Kitchen/RGB/P01_04\\frame_06270.jpg: name 'deft' is not defined\n",
      "Skipping D:/Datasets/Datasets/EPIC_Kitchen/Flow/P01_04\\frame_06270.jpg: [Errno 2] No such file or directory: 'D:\\\\Datasets\\\\Datasets\\\\EPIC_Kitchen\\\\Flow\\\\P01_04\\\\frame_06270.jpg'\n"
     ]
    },
    {
     "name": "stderr",
     "output_type": "stream",
     "text": [
      "Processing RGB + Flow frames: 100%|██████████████████████████████████████████████████| 631/631 [00:18<00:00, 33.32it/s]"
     ]
    },
    {
     "name": "stdout",
     "output_type": "stream",
     "text": [
      "Skipping D:/Datasets/Datasets/EPIC_Kitchen/RGB/P01_04\\frame_06280.jpg: name 'deft' is not defined\n",
      "Skipping D:/Datasets/Datasets/EPIC_Kitchen/Flow/P01_04\\frame_06280.jpg: [Errno 2] No such file or directory: 'D:\\\\Datasets\\\\Datasets\\\\EPIC_Kitchen\\\\Flow\\\\P01_04\\\\frame_06280.jpg'\n",
      "Skipping D:/Datasets/Datasets/EPIC_Kitchen/RGB/P01_04\\frame_06290.jpg: name 'deft' is not defined\n",
      "Skipping D:/Datasets/Datasets/EPIC_Kitchen/Flow/P01_04\\frame_06290.jpg: [Errno 2] No such file or directory: 'D:\\\\Datasets\\\\Datasets\\\\EPIC_Kitchen\\\\Flow\\\\P01_04\\\\frame_06290.jpg'\n",
      "Skipping D:/Datasets/Datasets/EPIC_Kitchen/RGB/P01_04\\frame_06300.jpg: name 'deft' is not defined\n",
      "Skipping D:/Datasets/Datasets/EPIC_Kitchen/Flow/P01_04\\frame_06300.jpg: [Errno 2] No such file or directory: 'D:\\\\Datasets\\\\Datasets\\\\EPIC_Kitchen\\\\Flow\\\\P01_04\\\\frame_06300.jpg'\n",
      "⚠️ No features extracted.\n"
     ]
    },
    {
     "name": "stderr",
     "output_type": "stream",
     "text": [
      "\n"
     ]
    }
   ],
   "source": [
    "# Feature extraction function\n",
    "def extract_features(img_path):\n",
    "    try:\n",
    "        image = Image.open(img_path).convert('RGB')\n",
    "        image = transform(image).unsqueeze(0).to(device)\n",
    "\n",
    "        with torch.no_grad():\n",
    "            image = deft(image)\n",
    "            feature = model(image).squeeze().cpu().numpy()\n",
    "        return feature\n",
    "    except Exception as e:\n",
    "        print(f\"Skipping {img_path}: {e}\")\n",
    "        return None\n",
    "# Sample every 5th frame\n",
    "S = 10\n",
    "device = torch.device(\"cuda\" if torch.cuda.is_available() else \"cpu\")\n",
    "# Process frames\n",
    "features = []\n",
    "all_frames = sorted(os.listdir(rgb_path))[::S]\n",
    "\n",
    "for frame in tqdm(all_frames, desc=\"Processing RGB + Flow frames\"):\n",
    "    rgb_frame_path = os.path.join(rgb_path, frame)\n",
    "    flow_frame_path = os.path.join(flow_path, frame)  # flow has same name\n",
    "\n",
    "    rgb_feat = extract_features(rgb_frame_path)\n",
    "    flow_feat = extract_features(flow_frame_path)\n",
    "\n",
    "    if rgb_feat is not None and flow_feat is not None:\n",
    "        frame_number = int(frame.split(\"_\")[-1].split(\".\")[0])\n",
    "\n",
    "        label_row = df[(df['StartFrame'] <= frame_number) & (df['EndFrame'] >= frame_number)]\n",
    "\n",
    "        if not label_row.empty:\n",
    "            action_label = label_row.iloc[0]['Action_class']\n",
    "            combined = [frame, action_label] + rgb_feat.tolist() + flow_feat.tolist()\n",
    "            features.append(combined)\n",
    "\n",
    "# Save to CSV\n",
    "if features:\n",
    "    num_rgb = len(rgb_feat)\n",
    "    num_flow = len(flow_feat)\n",
    "    columns = ['Frame', 'Action_class'] + \\\n",
    "              [f'RGB_Feature_{i}' for i in range(num_rgb)] + \\\n",
    "              [f'Flow_Feature_{i}' for i in range(num_flow)]\n",
    "\n",
    "    out_df = pd.DataFrame(features, columns=columns)\n",
    "    os.makedirs(\"../../Features\", exist_ok=True)\n",
    "    out_df.to_csv(\"../../Features/Feature_P01_04_RGB+Flow.csv\", index=False)\n",
    "    print(\"✅ RGB + Flow features saved to Feature_P01_04_RGB+Flow.csv\")\n",
    "else:\n",
    "    print(\"⚠️ No features extracted.\")"
   ]
  }
 ],
 "metadata": {
  "kernelspec": {
   "display_name": "Python 3 (ipykernel)",
   "language": "python",
   "name": "python3"
  },
  "language_info": {
   "codemirror_mode": {
    "name": "ipython",
    "version": 3
   },
   "file_extension": ".py",
   "mimetype": "text/x-python",
   "name": "python",
   "nbconvert_exporter": "python",
   "pygments_lexer": "ipython3",
   "version": "3.11.5"
  }
 },
 "nbformat": 4,
 "nbformat_minor": 5
}
