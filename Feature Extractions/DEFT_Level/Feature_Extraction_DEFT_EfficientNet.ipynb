{
 "cells": [
  {
   "cell_type": "code",
   "execution_count": 1,
   "id": "97e74efe",
   "metadata": {},
   "outputs": [],
   "source": [
    "import os\n",
    "import numpy as np\n",
    "import pandas as pd\n",
    "import torch\n",
    "import torch.nn as nn\n",
    "import torch.nn.functional as F\n",
    "import torchvision.transforms as transforms\n",
    "from efficientnet_pytorch import EfficientNet\n",
    "from PIL import Image\n",
    "from tqdm import tqdm"
   ]
  },
  {
   "cell_type": "code",
   "execution_count": 3,
   "id": "76001ce1",
   "metadata": {},
   "outputs": [],
   "source": [
    "###########################################################\n",
    "# Define DEFT Module Components\n",
    "###########################################################\n",
    "\n",
    "class LocalizationNetwork(nn.Module):\n",
    "    def __init__(self, input_channels):\n",
    "        super(LocalizationNetwork, self).__init__()\n",
    "        self.conv1 = nn.Conv2d(input_channels, 8, kernel_size=7)\n",
    "        self.pool = nn.MaxPool2d(2, 2)\n",
    "        self.conv2 = nn.Conv2d(8, 10, kernel_size=5)\n",
    "\n",
    "        # Placeholder fc1 (will update after shape calculation)\n",
    "        self.fc1 = nn.Linear(1, 32)  # Temporary placeholder\n",
    "        self.fc2 = nn.Linear(32, 6)  # 6 affine parameters\n",
    "\n",
    "        # Initialize weights for identity transformation\n",
    "        self.fc2.weight.data.zero_()\n",
    "        self.fc2.bias.data.copy_(torch.tensor([1, 0, 0, 0, 1, 0], dtype=torch.float))\n",
    "\n",
    "    def forward(self, x):\n",
    "        x = self.pool(F.relu(self.conv1(x)))\n",
    "        x = self.pool(F.relu(self.conv2(x)))\n",
    "\n",
    "        # Dynamically compute the flattened size\n",
    "        if not hasattr(self, 'computed_fc1'):\n",
    "            flattened_size = x.view(x.shape[0], -1).shape[1]\n",
    "            self.fc1 = nn.Linear(flattened_size, 32).to(x.device)\n",
    "            self.computed_fc1 = True  # Prevent re-initialization\n",
    "\n",
    "        x = x.view(x.shape[0], -1)  # Flatten\n",
    "        x = F.relu(self.fc1(x))\n",
    "        theta = self.fc2(x)\n",
    "        theta = theta.view(-1, 2, 3)\n",
    "        return theta\n",
    "\n",
    "class WeightingModule(nn.Module):\n",
    "    def __init__(self, sigma=0.5):\n",
    "        super(WeightingModule, self).__init__()\n",
    "        self.lambda_param = nn.Parameter(torch.tensor(0.5))\n",
    "        self.sigma = sigma\n",
    "\n",
    "    def forward(self, grid):\n",
    "        dist2 = grid[..., 0]**2 + grid[..., 1]**2\n",
    "        weight = 1 + self.lambda_param * torch.exp(-dist2 / (2 * self.sigma ** 2))\n",
    "        return weight.unsqueeze(-1)\n",
    "\n",
    "class DEFTModule(nn.Module):\n",
    "    def __init__(self, input_channels, sigma=0.5):\n",
    "        super(DEFTModule, self).__init__()\n",
    "        self.localization = LocalizationNetwork(input_channels)\n",
    "        self.weighting = WeightingModule(sigma)\n",
    "\n",
    "    def forward(self, x):\n",
    "        theta = self.localization(x)\n",
    "        grid = F.affine_grid(theta, x.size(), align_corners=False)\n",
    "        weight = self.weighting(grid)\n",
    "        x_transformed = F.grid_sample(x, grid, align_corners=False)\n",
    "\n",
    "        if x.shape[1] > 1:\n",
    "            weight = weight.expand(-1, x.shape[2], x.shape[3], x.shape[1]).permute(0, 3, 1, 2)\n",
    "        else:\n",
    "            weight = weight.permute(0, 3, 1, 2)\n",
    "\n",
    "        x_weighted = x_transformed * weight\n",
    "        return x_weighted\n",
    "\n"
   ]
  },
  {
   "cell_type": "code",
   "execution_count": 12,
   "id": "bc94604b",
   "metadata": {},
   "outputs": [
    {
     "name": "stdout",
     "output_type": "stream",
     "text": [
      "Loaded pretrained weights for efficientnet-b0\n"
     ]
    }
   ],
   "source": [
    "###########################################################\n",
    "# Load EfficientNet Model for Feature Extraction\n",
    "###########################################################\n",
    "device = torch.device(\"cuda\" if torch.cuda.is_available() else \"cpu\")\n",
    "\n",
    "from efficientnet_pytorch import EfficientNet\n",
    "\n",
    "# Load EfficientNet (pretrained)\n",
    "efficientnet_model = EfficientNet.from_pretrained('efficientnet-b0')\n",
    "\n",
    "# Move model to GPU and set to evaluation mode\n",
    "efficientnet_model = efficientnet_model.to(device)\n",
    "efficientnet_model.eval()\n",
    "\n",
    "\n",
    "# Load DEFT Module\n",
    "deft_model = DEFTModule(input_channels=3).to(device)  # Input channels = 3 (RGB)\n",
    "deft_model.eval()\n",
    "\n",
    "###########################################################\n",
    "# Define Image Transformation\n",
    "###########################################################\n",
    "transform = transforms.Compose([\n",
    "    transforms.Resize((224, 224)),\n",
    "    transforms.ToTensor(),\n",
    "    transforms.Normalize(mean=[0.485, 0.456, 0.406], std=[0.229, 0.224, 0.225])\n",
    "])\n"
   ]
  },
  {
   "cell_type": "code",
   "execution_count": 13,
   "id": "1e9fa18b",
   "metadata": {},
   "outputs": [],
   "source": [
    "###########################################################\n",
    "# Feature Extraction Function with DEFT\n",
    "###########################################################\n",
    "def extract_features(image_path, transform, device=device):\n",
    "    \"\"\"Extract EfficientNet features from a single image after DEFT transformation.\"\"\"\n",
    "    try:\n",
    "        image = Image.open(image_path).convert('RGB')\n",
    "        image = transform(image).unsqueeze(0).to(device)\n",
    "\n",
    "        # Apply DEFT Transformation\n",
    "        with torch.no_grad():\n",
    "            image = deft_model(image)  # Pass through DEFT Module\n",
    "            \n",
    "            # EfficientNet requires explicit forward() call\n",
    "            features = efficientnet_model.extract_features(image).squeeze().cpu().numpy()\n",
    "\n",
    "        return features\n",
    "    except Exception as e:\n",
    "        print(f\"Skipping frame: {image_path} due to error: {e}\")\n",
    "        return None"
   ]
  },
  {
   "cell_type": "code",
   "execution_count": 14,
   "id": "928c9fbb",
   "metadata": {},
   "outputs": [],
   "source": [
    "###########################################################\n",
    "# Paths to RGB and Optical Flow Directories\n",
    "###########################################################\n",
    "rgb_path = \"D:/Datasets/Datasets/EPIC_Kitchen/RGB/P01_04\"\n",
    "flow_u_path = \"D:/Datasets/Datasets/EPIC_Kitchen/OpticalFlow/P01_04/u\"\n",
    "flow_v_path = \"D:/Datasets/Datasets/EPIC_Kitchen/OpticalFlow/P01_04/v\"\n",
    "\n",
    "label_csv_path = \"D:/Datasets/Datasets/EPIC_Kitchen/Label/P01_04.csv\"\n",
    "labels_df = pd.read_csv(label_csv_path)\n",
    "\n",
    "output_csv = \"Features/Feature_P01_04_with_DEFT_EfficeintNet.csv\"\n"
   ]
  },
  {
   "cell_type": "code",
   "execution_count": 15,
   "id": "984b22ac",
   "metadata": {},
   "outputs": [
    {
     "name": "stderr",
     "output_type": "stream",
     "text": [
      "Extracting Features with DEFT:  50%|████████████████████████▏                       | 635/1262 [01:35<00:47, 13.22it/s]"
     ]
    },
    {
     "name": "stdout",
     "output_type": "stream",
     "text": [
      "Skipping frame: D:/Datasets/Datasets/EPIC_Kitchen/OpticalFlow/P01_04/u\\frame_3161.jpg due to error: [Errno 2] No such file or directory: 'D:\\\\Datasets\\\\Datasets\\\\EPIC_Kitchen\\\\OpticalFlow\\\\P01_04\\\\u\\\\frame_3161.jpg'\n",
      "Skipping frame: D:/Datasets/Datasets/EPIC_Kitchen/OpticalFlow/P01_04/v\\frame_3161.jpg due to error: [Errno 2] No such file or directory: 'D:\\\\Datasets\\\\Datasets\\\\EPIC_Kitchen\\\\OpticalFlow\\\\P01_04\\\\v\\\\frame_3161.jpg'\n",
      "Skipping frame: D:/Datasets/Datasets/EPIC_Kitchen/OpticalFlow/P01_04/u\\frame_3166.jpg due to error: [Errno 2] No such file or directory: 'D:\\\\Datasets\\\\Datasets\\\\EPIC_Kitchen\\\\OpticalFlow\\\\P01_04\\\\u\\\\frame_3166.jpg'\n",
      "Skipping frame: D:/Datasets/Datasets/EPIC_Kitchen/OpticalFlow/P01_04/v\\frame_3166.jpg due to error: [Errno 2] No such file or directory: 'D:\\\\Datasets\\\\Datasets\\\\EPIC_Kitchen\\\\OpticalFlow\\\\P01_04\\\\v\\\\frame_3166.jpg'\n",
      "Skipping frame: D:/Datasets/Datasets/EPIC_Kitchen/OpticalFlow/P01_04/u\\frame_3171.jpg due to error: [Errno 2] No such file or directory: 'D:\\\\Datasets\\\\Datasets\\\\EPIC_Kitchen\\\\OpticalFlow\\\\P01_04\\\\u\\\\frame_3171.jpg'\n",
      "Skipping frame: D:/Datasets/Datasets/EPIC_Kitchen/OpticalFlow/P01_04/v\\frame_3171.jpg due to error: [Errno 2] No such file or directory: 'D:\\\\Datasets\\\\Datasets\\\\EPIC_Kitchen\\\\OpticalFlow\\\\P01_04\\\\v\\\\frame_3171.jpg'\n",
      "Skipping frame: D:/Datasets/Datasets/EPIC_Kitchen/OpticalFlow/P01_04/u\\frame_3176.jpg due to error: [Errno 2] No such file or directory: 'D:\\\\Datasets\\\\Datasets\\\\EPIC_Kitchen\\\\OpticalFlow\\\\P01_04\\\\u\\\\frame_3176.jpg'\n",
      "Skipping frame: D:/Datasets/Datasets/EPIC_Kitchen/OpticalFlow/P01_04/v\\frame_3176.jpg due to error: [Errno 2] No such file or directory: 'D:\\\\Datasets\\\\Datasets\\\\EPIC_Kitchen\\\\OpticalFlow\\\\P01_04\\\\v\\\\frame_3176.jpg'\n",
      "Skipping frame: D:/Datasets/Datasets/EPIC_Kitchen/OpticalFlow/P01_04/u\\frame_3181.jpg due to error: [Errno 2] No such file or directory: 'D:\\\\Datasets\\\\Datasets\\\\EPIC_Kitchen\\\\OpticalFlow\\\\P01_04\\\\u\\\\frame_3181.jpg'\n",
      "Skipping frame: D:/Datasets/Datasets/EPIC_Kitchen/OpticalFlow/P01_04/v\\frame_3181.jpg due to error: [Errno 2] No such file or directory: 'D:\\\\Datasets\\\\Datasets\\\\EPIC_Kitchen\\\\OpticalFlow\\\\P01_04\\\\v\\\\frame_3181.jpg'\n"
     ]
    },
    {
     "name": "stderr",
     "output_type": "stream",
     "text": [
      "Extracting Features with DEFT:  51%|████████████████████████▍                       | 641/1262 [01:35<00:35, 17.64it/s]"
     ]
    },
    {
     "name": "stdout",
     "output_type": "stream",
     "text": [
      "Skipping frame: D:/Datasets/Datasets/EPIC_Kitchen/OpticalFlow/P01_04/u\\frame_3186.jpg due to error: [Errno 2] No such file or directory: 'D:\\\\Datasets\\\\Datasets\\\\EPIC_Kitchen\\\\OpticalFlow\\\\P01_04\\\\u\\\\frame_3186.jpg'\n",
      "Skipping frame: D:/Datasets/Datasets/EPIC_Kitchen/OpticalFlow/P01_04/v\\frame_3186.jpg due to error: [Errno 2] No such file or directory: 'D:\\\\Datasets\\\\Datasets\\\\EPIC_Kitchen\\\\OpticalFlow\\\\P01_04\\\\v\\\\frame_3186.jpg'\n",
      "Skipping frame: D:/Datasets/Datasets/EPIC_Kitchen/OpticalFlow/P01_04/u\\frame_3191.jpg due to error: [Errno 2] No such file or directory: 'D:\\\\Datasets\\\\Datasets\\\\EPIC_Kitchen\\\\OpticalFlow\\\\P01_04\\\\u\\\\frame_3191.jpg'\n",
      "Skipping frame: D:/Datasets/Datasets/EPIC_Kitchen/OpticalFlow/P01_04/v\\frame_3191.jpg due to error: [Errno 2] No such file or directory: 'D:\\\\Datasets\\\\Datasets\\\\EPIC_Kitchen\\\\OpticalFlow\\\\P01_04\\\\v\\\\frame_3191.jpg'\n",
      "Skipping frame: D:/Datasets/Datasets/EPIC_Kitchen/OpticalFlow/P01_04/u\\frame_3196.jpg due to error: [Errno 2] No such file or directory: 'D:\\\\Datasets\\\\Datasets\\\\EPIC_Kitchen\\\\OpticalFlow\\\\P01_04\\\\u\\\\frame_3196.jpg'\n",
      "Skipping frame: D:/Datasets/Datasets/EPIC_Kitchen/OpticalFlow/P01_04/v\\frame_3196.jpg due to error: [Errno 2] No such file or directory: 'D:\\\\Datasets\\\\Datasets\\\\EPIC_Kitchen\\\\OpticalFlow\\\\P01_04\\\\v\\\\frame_3196.jpg'\n",
      "Skipping frame: D:/Datasets/Datasets/EPIC_Kitchen/OpticalFlow/P01_04/u\\frame_3201.jpg due to error: [Errno 2] No such file or directory: 'D:\\\\Datasets\\\\Datasets\\\\EPIC_Kitchen\\\\OpticalFlow\\\\P01_04\\\\u\\\\frame_3201.jpg'\n",
      "Skipping frame: D:/Datasets/Datasets/EPIC_Kitchen/OpticalFlow/P01_04/v\\frame_3201.jpg due to error: [Errno 2] No such file or directory: 'D:\\\\Datasets\\\\Datasets\\\\EPIC_Kitchen\\\\OpticalFlow\\\\P01_04\\\\v\\\\frame_3201.jpg'\n",
      "Skipping frame: D:/Datasets/Datasets/EPIC_Kitchen/OpticalFlow/P01_04/u\\frame_3206.jpg due to error: [Errno 2] No such file or directory: 'D:\\\\Datasets\\\\Datasets\\\\EPIC_Kitchen\\\\OpticalFlow\\\\P01_04\\\\u\\\\frame_3206.jpg'\n",
      "Skipping frame: D:/Datasets/Datasets/EPIC_Kitchen/OpticalFlow/P01_04/v\\frame_3206.jpg due to error: [Errno 2] No such file or directory: 'D:\\\\Datasets\\\\Datasets\\\\EPIC_Kitchen\\\\OpticalFlow\\\\P01_04\\\\v\\\\frame_3206.jpg'\n"
     ]
    },
    {
     "name": "stderr",
     "output_type": "stream",
     "text": [
      "Extracting Features with DEFT:  51%|████████████████████████▌                       | 647/1262 [01:35<00:32, 19.06it/s]"
     ]
    },
    {
     "name": "stdout",
     "output_type": "stream",
     "text": [
      "Skipping frame: D:/Datasets/Datasets/EPIC_Kitchen/OpticalFlow/P01_04/u\\frame_3211.jpg due to error: [Errno 2] No such file or directory: 'D:\\\\Datasets\\\\Datasets\\\\EPIC_Kitchen\\\\OpticalFlow\\\\P01_04\\\\u\\\\frame_3211.jpg'\n",
      "Skipping frame: D:/Datasets/Datasets/EPIC_Kitchen/OpticalFlow/P01_04/v\\frame_3211.jpg due to error: [Errno 2] No such file or directory: 'D:\\\\Datasets\\\\Datasets\\\\EPIC_Kitchen\\\\OpticalFlow\\\\P01_04\\\\v\\\\frame_3211.jpg'\n",
      "Skipping frame: D:/Datasets/Datasets/EPIC_Kitchen/OpticalFlow/P01_04/u\\frame_3216.jpg due to error: [Errno 2] No such file or directory: 'D:\\\\Datasets\\\\Datasets\\\\EPIC_Kitchen\\\\OpticalFlow\\\\P01_04\\\\u\\\\frame_3216.jpg'\n",
      "Skipping frame: D:/Datasets/Datasets/EPIC_Kitchen/OpticalFlow/P01_04/v\\frame_3216.jpg due to error: [Errno 2] No such file or directory: 'D:\\\\Datasets\\\\Datasets\\\\EPIC_Kitchen\\\\OpticalFlow\\\\P01_04\\\\v\\\\frame_3216.jpg'\n",
      "Skipping frame: D:/Datasets/Datasets/EPIC_Kitchen/OpticalFlow/P01_04/u\\frame_3221.jpg due to error: [Errno 2] No such file or directory: 'D:\\\\Datasets\\\\Datasets\\\\EPIC_Kitchen\\\\OpticalFlow\\\\P01_04\\\\u\\\\frame_3221.jpg'\n",
      "Skipping frame: D:/Datasets/Datasets/EPIC_Kitchen/OpticalFlow/P01_04/v\\frame_3221.jpg due to error: [Errno 2] No such file or directory: 'D:\\\\Datasets\\\\Datasets\\\\EPIC_Kitchen\\\\OpticalFlow\\\\P01_04\\\\v\\\\frame_3221.jpg'\n",
      "Skipping frame: D:/Datasets/Datasets/EPIC_Kitchen/OpticalFlow/P01_04/u\\frame_3226.jpg due to error: [Errno 2] No such file or directory: 'D:\\\\Datasets\\\\Datasets\\\\EPIC_Kitchen\\\\OpticalFlow\\\\P01_04\\\\u\\\\frame_3226.jpg'\n",
      "Skipping frame: D:/Datasets/Datasets/EPIC_Kitchen/OpticalFlow/P01_04/v\\frame_3226.jpg due to error: [Errno 2] No such file or directory: 'D:\\\\Datasets\\\\Datasets\\\\EPIC_Kitchen\\\\OpticalFlow\\\\P01_04\\\\v\\\\frame_3226.jpg'\n",
      "Skipping frame: D:/Datasets/Datasets/EPIC_Kitchen/OpticalFlow/P01_04/u\\frame_3231.jpg due to error: [Errno 2] No such file or directory: 'D:\\\\Datasets\\\\Datasets\\\\EPIC_Kitchen\\\\OpticalFlow\\\\P01_04\\\\u\\\\frame_3231.jpg'\n",
      "Skipping frame: D:/Datasets/Datasets/EPIC_Kitchen/OpticalFlow/P01_04/v\\frame_3231.jpg due to error: [Errno 2] No such file or directory: 'D:\\\\Datasets\\\\Datasets\\\\EPIC_Kitchen\\\\OpticalFlow\\\\P01_04\\\\v\\\\frame_3231.jpg'\n"
     ]
    },
    {
     "name": "stderr",
     "output_type": "stream",
     "text": [
      "Extracting Features with DEFT:  52%|████████████████████████▊                       | 651/1262 [01:35<00:33, 18.47it/s]"
     ]
    },
    {
     "name": "stdout",
     "output_type": "stream",
     "text": [
      "Skipping frame: D:/Datasets/Datasets/EPIC_Kitchen/OpticalFlow/P01_04/u\\frame_3236.jpg due to error: [Errno 2] No such file or directory: 'D:\\\\Datasets\\\\Datasets\\\\EPIC_Kitchen\\\\OpticalFlow\\\\P01_04\\\\u\\\\frame_3236.jpg'\n",
      "Skipping frame: D:/Datasets/Datasets/EPIC_Kitchen/OpticalFlow/P01_04/v\\frame_3236.jpg due to error: [Errno 2] No such file or directory: 'D:\\\\Datasets\\\\Datasets\\\\EPIC_Kitchen\\\\OpticalFlow\\\\P01_04\\\\v\\\\frame_3236.jpg'\n",
      "Skipping frame: D:/Datasets/Datasets/EPIC_Kitchen/OpticalFlow/P01_04/u\\frame_3241.jpg due to error: [Errno 2] No such file or directory: 'D:\\\\Datasets\\\\Datasets\\\\EPIC_Kitchen\\\\OpticalFlow\\\\P01_04\\\\u\\\\frame_3241.jpg'\n",
      "Skipping frame: D:/Datasets/Datasets/EPIC_Kitchen/OpticalFlow/P01_04/v\\frame_3241.jpg due to error: [Errno 2] No such file or directory: 'D:\\\\Datasets\\\\Datasets\\\\EPIC_Kitchen\\\\OpticalFlow\\\\P01_04\\\\v\\\\frame_3241.jpg'\n",
      "Skipping frame: D:/Datasets/Datasets/EPIC_Kitchen/OpticalFlow/P01_04/u\\frame_3246.jpg due to error: [Errno 2] No such file or directory: 'D:\\\\Datasets\\\\Datasets\\\\EPIC_Kitchen\\\\OpticalFlow\\\\P01_04\\\\u\\\\frame_3246.jpg'\n",
      "Skipping frame: D:/Datasets/Datasets/EPIC_Kitchen/OpticalFlow/P01_04/v\\frame_3246.jpg due to error: [Errno 2] No such file or directory: 'D:\\\\Datasets\\\\Datasets\\\\EPIC_Kitchen\\\\OpticalFlow\\\\P01_04\\\\v\\\\frame_3246.jpg'\n",
      "Skipping frame: D:/Datasets/Datasets/EPIC_Kitchen/OpticalFlow/P01_04/u\\frame_3251.jpg due to error: [Errno 2] No such file or directory: 'D:\\\\Datasets\\\\Datasets\\\\EPIC_Kitchen\\\\OpticalFlow\\\\P01_04\\\\u\\\\frame_3251.jpg'\n",
      "Skipping frame: D:/Datasets/Datasets/EPIC_Kitchen/OpticalFlow/P01_04/v\\frame_3251.jpg due to error: [Errno 2] No such file or directory: 'D:\\\\Datasets\\\\Datasets\\\\EPIC_Kitchen\\\\OpticalFlow\\\\P01_04\\\\v\\\\frame_3251.jpg'\n",
      "Skipping frame: D:/Datasets/Datasets/EPIC_Kitchen/OpticalFlow/P01_04/u\\frame_3256.jpg due to error: [Errno 2] No such file or directory: 'D:\\\\Datasets\\\\Datasets\\\\EPIC_Kitchen\\\\OpticalFlow\\\\P01_04\\\\u\\\\frame_3256.jpg'\n",
      "Skipping frame: D:/Datasets/Datasets/EPIC_Kitchen/OpticalFlow/P01_04/v\\frame_3256.jpg due to error: [Errno 2] No such file or directory: 'D:\\\\Datasets\\\\Datasets\\\\EPIC_Kitchen\\\\OpticalFlow\\\\P01_04\\\\v\\\\frame_3256.jpg'\n"
     ]
    },
    {
     "name": "stderr",
     "output_type": "stream",
     "text": [
      "Extracting Features with DEFT:  52%|████████████████████████▉                       | 657/1262 [01:36<00:30, 20.08it/s]"
     ]
    },
    {
     "name": "stdout",
     "output_type": "stream",
     "text": [
      "Skipping frame: D:/Datasets/Datasets/EPIC_Kitchen/OpticalFlow/P01_04/u\\frame_3261.jpg due to error: [Errno 2] No such file or directory: 'D:\\\\Datasets\\\\Datasets\\\\EPIC_Kitchen\\\\OpticalFlow\\\\P01_04\\\\u\\\\frame_3261.jpg'\n",
      "Skipping frame: D:/Datasets/Datasets/EPIC_Kitchen/OpticalFlow/P01_04/v\\frame_3261.jpg due to error: [Errno 2] No such file or directory: 'D:\\\\Datasets\\\\Datasets\\\\EPIC_Kitchen\\\\OpticalFlow\\\\P01_04\\\\v\\\\frame_3261.jpg'\n",
      "Skipping frame: D:/Datasets/Datasets/EPIC_Kitchen/OpticalFlow/P01_04/u\\frame_3266.jpg due to error: [Errno 2] No such file or directory: 'D:\\\\Datasets\\\\Datasets\\\\EPIC_Kitchen\\\\OpticalFlow\\\\P01_04\\\\u\\\\frame_3266.jpg'\n",
      "Skipping frame: D:/Datasets/Datasets/EPIC_Kitchen/OpticalFlow/P01_04/v\\frame_3266.jpg due to error: [Errno 2] No such file or directory: 'D:\\\\Datasets\\\\Datasets\\\\EPIC_Kitchen\\\\OpticalFlow\\\\P01_04\\\\v\\\\frame_3266.jpg'\n",
      "Skipping frame: D:/Datasets/Datasets/EPIC_Kitchen/OpticalFlow/P01_04/u\\frame_3271.jpg due to error: [Errno 2] No such file or directory: 'D:\\\\Datasets\\\\Datasets\\\\EPIC_Kitchen\\\\OpticalFlow\\\\P01_04\\\\u\\\\frame_3271.jpg'\n",
      "Skipping frame: D:/Datasets/Datasets/EPIC_Kitchen/OpticalFlow/P01_04/v\\frame_3271.jpg due to error: [Errno 2] No such file or directory: 'D:\\\\Datasets\\\\Datasets\\\\EPIC_Kitchen\\\\OpticalFlow\\\\P01_04\\\\v\\\\frame_3271.jpg'\n",
      "Skipping frame: D:/Datasets/Datasets/EPIC_Kitchen/OpticalFlow/P01_04/u\\frame_3276.jpg due to error: [Errno 2] No such file or directory: 'D:\\\\Datasets\\\\Datasets\\\\EPIC_Kitchen\\\\OpticalFlow\\\\P01_04\\\\u\\\\frame_3276.jpg'\n",
      "Skipping frame: D:/Datasets/Datasets/EPIC_Kitchen/OpticalFlow/P01_04/v\\frame_3276.jpg due to error: [Errno 2] No such file or directory: 'D:\\\\Datasets\\\\Datasets\\\\EPIC_Kitchen\\\\OpticalFlow\\\\P01_04\\\\v\\\\frame_3276.jpg'\n",
      "Skipping frame: D:/Datasets/Datasets/EPIC_Kitchen/OpticalFlow/P01_04/u\\frame_3281.jpg due to error: [Errno 2] No such file or directory: 'D:\\\\Datasets\\\\Datasets\\\\EPIC_Kitchen\\\\OpticalFlow\\\\P01_04\\\\u\\\\frame_3281.jpg'\n",
      "Skipping frame: D:/Datasets/Datasets/EPIC_Kitchen/OpticalFlow/P01_04/v\\frame_3281.jpg due to error: [Errno 2] No such file or directory: 'D:\\\\Datasets\\\\Datasets\\\\EPIC_Kitchen\\\\OpticalFlow\\\\P01_04\\\\v\\\\frame_3281.jpg'\n"
     ]
    },
    {
     "name": "stderr",
     "output_type": "stream",
     "text": [
      "\r",
      "Extracting Features with DEFT:  52%|█████████████████████████                       | 660/1262 [01:36<00:29, 20.37it/s]"
     ]
    },
    {
     "name": "stdout",
     "output_type": "stream",
     "text": [
      "Skipping frame: D:/Datasets/Datasets/EPIC_Kitchen/OpticalFlow/P01_04/u\\frame_3286.jpg due to error: [Errno 2] No such file or directory: 'D:\\\\Datasets\\\\Datasets\\\\EPIC_Kitchen\\\\OpticalFlow\\\\P01_04\\\\u\\\\frame_3286.jpg'\n",
      "Skipping frame: D:/Datasets/Datasets/EPIC_Kitchen/OpticalFlow/P01_04/v\\frame_3286.jpg due to error: [Errno 2] No such file or directory: 'D:\\\\Datasets\\\\Datasets\\\\EPIC_Kitchen\\\\OpticalFlow\\\\P01_04\\\\v\\\\frame_3286.jpg'\n",
      "Skipping frame: D:/Datasets/Datasets/EPIC_Kitchen/OpticalFlow/P01_04/u\\frame_3291.jpg due to error: [Errno 2] No such file or directory: 'D:\\\\Datasets\\\\Datasets\\\\EPIC_Kitchen\\\\OpticalFlow\\\\P01_04\\\\u\\\\frame_3291.jpg'\n",
      "Skipping frame: D:/Datasets/Datasets/EPIC_Kitchen/OpticalFlow/P01_04/v\\frame_3291.jpg due to error: [Errno 2] No such file or directory: 'D:\\\\Datasets\\\\Datasets\\\\EPIC_Kitchen\\\\OpticalFlow\\\\P01_04\\\\v\\\\frame_3291.jpg'\n",
      "Skipping frame: D:/Datasets/Datasets/EPIC_Kitchen/OpticalFlow/P01_04/u\\frame_3296.jpg due to error: [Errno 2] No such file or directory: 'D:\\\\Datasets\\\\Datasets\\\\EPIC_Kitchen\\\\OpticalFlow\\\\P01_04\\\\u\\\\frame_3296.jpg'\n",
      "Skipping frame: D:/Datasets/Datasets/EPIC_Kitchen/OpticalFlow/P01_04/v\\frame_3296.jpg due to error: [Errno 2] No such file or directory: 'D:\\\\Datasets\\\\Datasets\\\\EPIC_Kitchen\\\\OpticalFlow\\\\P01_04\\\\v\\\\frame_3296.jpg'\n",
      "Skipping frame: D:/Datasets/Datasets/EPIC_Kitchen/OpticalFlow/P01_04/u\\frame_3301.jpg due to error: [Errno 2] No such file or directory: 'D:\\\\Datasets\\\\Datasets\\\\EPIC_Kitchen\\\\OpticalFlow\\\\P01_04\\\\u\\\\frame_3301.jpg'\n",
      "Skipping frame: D:/Datasets/Datasets/EPIC_Kitchen/OpticalFlow/P01_04/v\\frame_3301.jpg due to error: [Errno 2] No such file or directory: 'D:\\\\Datasets\\\\Datasets\\\\EPIC_Kitchen\\\\OpticalFlow\\\\P01_04\\\\v\\\\frame_3301.jpg'\n",
      "Skipping frame: D:/Datasets/Datasets/EPIC_Kitchen/OpticalFlow/P01_04/u\\frame_3306.jpg due to error: [Errno 2] No such file or directory: 'D:\\\\Datasets\\\\Datasets\\\\EPIC_Kitchen\\\\OpticalFlow\\\\P01_04\\\\u\\\\frame_3306.jpg'\n",
      "Skipping frame: D:/Datasets/Datasets/EPIC_Kitchen/OpticalFlow/P01_04/v\\frame_3306.jpg due to error: [Errno 2] No such file or directory: 'D:\\\\Datasets\\\\Datasets\\\\EPIC_Kitchen\\\\OpticalFlow\\\\P01_04\\\\v\\\\frame_3306.jpg'\n"
     ]
    },
    {
     "name": "stderr",
     "output_type": "stream",
     "text": [
      "Extracting Features with DEFT:  53%|█████████████████████████▎                      | 666/1262 [01:36<00:28, 20.67it/s]"
     ]
    },
    {
     "name": "stdout",
     "output_type": "stream",
     "text": [
      "Skipping frame: D:/Datasets/Datasets/EPIC_Kitchen/OpticalFlow/P01_04/u\\frame_3311.jpg due to error: [Errno 2] No such file or directory: 'D:\\\\Datasets\\\\Datasets\\\\EPIC_Kitchen\\\\OpticalFlow\\\\P01_04\\\\u\\\\frame_3311.jpg'\n",
      "Skipping frame: D:/Datasets/Datasets/EPIC_Kitchen/OpticalFlow/P01_04/v\\frame_3311.jpg due to error: [Errno 2] No such file or directory: 'D:\\\\Datasets\\\\Datasets\\\\EPIC_Kitchen\\\\OpticalFlow\\\\P01_04\\\\v\\\\frame_3311.jpg'\n",
      "Skipping frame: D:/Datasets/Datasets/EPIC_Kitchen/OpticalFlow/P01_04/u\\frame_3316.jpg due to error: [Errno 2] No such file or directory: 'D:\\\\Datasets\\\\Datasets\\\\EPIC_Kitchen\\\\OpticalFlow\\\\P01_04\\\\u\\\\frame_3316.jpg'\n",
      "Skipping frame: D:/Datasets/Datasets/EPIC_Kitchen/OpticalFlow/P01_04/v\\frame_3316.jpg due to error: [Errno 2] No such file or directory: 'D:\\\\Datasets\\\\Datasets\\\\EPIC_Kitchen\\\\OpticalFlow\\\\P01_04\\\\v\\\\frame_3316.jpg'\n",
      "Skipping frame: D:/Datasets/Datasets/EPIC_Kitchen/OpticalFlow/P01_04/u\\frame_3321.jpg due to error: [Errno 2] No such file or directory: 'D:\\\\Datasets\\\\Datasets\\\\EPIC_Kitchen\\\\OpticalFlow\\\\P01_04\\\\u\\\\frame_3321.jpg'\n",
      "Skipping frame: D:/Datasets/Datasets/EPIC_Kitchen/OpticalFlow/P01_04/v\\frame_3321.jpg due to error: [Errno 2] No such file or directory: 'D:\\\\Datasets\\\\Datasets\\\\EPIC_Kitchen\\\\OpticalFlow\\\\P01_04\\\\v\\\\frame_3321.jpg'\n",
      "Skipping frame: D:/Datasets/Datasets/EPIC_Kitchen/OpticalFlow/P01_04/u\\frame_3326.jpg due to error: [Errno 2] No such file or directory: 'D:\\\\Datasets\\\\Datasets\\\\EPIC_Kitchen\\\\OpticalFlow\\\\P01_04\\\\u\\\\frame_3326.jpg'\n",
      "Skipping frame: D:/Datasets/Datasets/EPIC_Kitchen/OpticalFlow/P01_04/v\\frame_3326.jpg due to error: [Errno 2] No such file or directory: 'D:\\\\Datasets\\\\Datasets\\\\EPIC_Kitchen\\\\OpticalFlow\\\\P01_04\\\\v\\\\frame_3326.jpg'\n"
     ]
    },
    {
     "name": "stderr",
     "output_type": "stream",
     "text": [
      "\r",
      "Extracting Features with DEFT:  53%|█████████████████████████▍                      | 669/1262 [01:36<00:30, 19.76it/s]"
     ]
    },
    {
     "name": "stdout",
     "output_type": "stream",
     "text": [
      "Skipping frame: D:/Datasets/Datasets/EPIC_Kitchen/OpticalFlow/P01_04/u\\frame_3331.jpg due to error: [Errno 2] No such file or directory: 'D:\\\\Datasets\\\\Datasets\\\\EPIC_Kitchen\\\\OpticalFlow\\\\P01_04\\\\u\\\\frame_3331.jpg'\n",
      "Skipping frame: D:/Datasets/Datasets/EPIC_Kitchen/OpticalFlow/P01_04/v\\frame_3331.jpg due to error: [Errno 2] No such file or directory: 'D:\\\\Datasets\\\\Datasets\\\\EPIC_Kitchen\\\\OpticalFlow\\\\P01_04\\\\v\\\\frame_3331.jpg'\n",
      "Skipping frame: D:/Datasets/Datasets/EPIC_Kitchen/OpticalFlow/P01_04/u\\frame_3336.jpg due to error: [Errno 2] No such file or directory: 'D:\\\\Datasets\\\\Datasets\\\\EPIC_Kitchen\\\\OpticalFlow\\\\P01_04\\\\u\\\\frame_3336.jpg'\n",
      "Skipping frame: D:/Datasets/Datasets/EPIC_Kitchen/OpticalFlow/P01_04/v\\frame_3336.jpg due to error: [Errno 2] No such file or directory: 'D:\\\\Datasets\\\\Datasets\\\\EPIC_Kitchen\\\\OpticalFlow\\\\P01_04\\\\v\\\\frame_3336.jpg'\n",
      "Skipping frame: D:/Datasets/Datasets/EPIC_Kitchen/OpticalFlow/P01_04/u\\frame_3341.jpg due to error: [Errno 2] No such file or directory: 'D:\\\\Datasets\\\\Datasets\\\\EPIC_Kitchen\\\\OpticalFlow\\\\P01_04\\\\u\\\\frame_3341.jpg'\n",
      "Skipping frame: D:/Datasets/Datasets/EPIC_Kitchen/OpticalFlow/P01_04/v\\frame_3341.jpg due to error: [Errno 2] No such file or directory: 'D:\\\\Datasets\\\\Datasets\\\\EPIC_Kitchen\\\\OpticalFlow\\\\P01_04\\\\v\\\\frame_3341.jpg'\n",
      "Skipping frame: D:/Datasets/Datasets/EPIC_Kitchen/OpticalFlow/P01_04/u\\frame_3346.jpg due to error: [Errno 2] No such file or directory: 'D:\\\\Datasets\\\\Datasets\\\\EPIC_Kitchen\\\\OpticalFlow\\\\P01_04\\\\u\\\\frame_3346.jpg'\n",
      "Skipping frame: D:/Datasets/Datasets/EPIC_Kitchen/OpticalFlow/P01_04/v\\frame_3346.jpg due to error: [Errno 2] No such file or directory: 'D:\\\\Datasets\\\\Datasets\\\\EPIC_Kitchen\\\\OpticalFlow\\\\P01_04\\\\v\\\\frame_3346.jpg'\n"
     ]
    },
    {
     "name": "stderr",
     "output_type": "stream",
     "text": [
      "Extracting Features with DEFT:  53%|█████████████████████████▋                      | 675/1262 [01:37<00:30, 19.46it/s]"
     ]
    },
    {
     "name": "stdout",
     "output_type": "stream",
     "text": [
      "Skipping frame: D:/Datasets/Datasets/EPIC_Kitchen/OpticalFlow/P01_04/u\\frame_3351.jpg due to error: [Errno 2] No such file or directory: 'D:\\\\Datasets\\\\Datasets\\\\EPIC_Kitchen\\\\OpticalFlow\\\\P01_04\\\\u\\\\frame_3351.jpg'\n",
      "Skipping frame: D:/Datasets/Datasets/EPIC_Kitchen/OpticalFlow/P01_04/v\\frame_3351.jpg due to error: [Errno 2] No such file or directory: 'D:\\\\Datasets\\\\Datasets\\\\EPIC_Kitchen\\\\OpticalFlow\\\\P01_04\\\\v\\\\frame_3351.jpg'\n",
      "Skipping frame: D:/Datasets/Datasets/EPIC_Kitchen/OpticalFlow/P01_04/u\\frame_3356.jpg due to error: [Errno 2] No such file or directory: 'D:\\\\Datasets\\\\Datasets\\\\EPIC_Kitchen\\\\OpticalFlow\\\\P01_04\\\\u\\\\frame_3356.jpg'\n",
      "Skipping frame: D:/Datasets/Datasets/EPIC_Kitchen/OpticalFlow/P01_04/v\\frame_3356.jpg due to error: [Errno 2] No such file or directory: 'D:\\\\Datasets\\\\Datasets\\\\EPIC_Kitchen\\\\OpticalFlow\\\\P01_04\\\\v\\\\frame_3356.jpg'\n",
      "Skipping frame: D:/Datasets/Datasets/EPIC_Kitchen/OpticalFlow/P01_04/u\\frame_3361.jpg due to error: [Errno 2] No such file or directory: 'D:\\\\Datasets\\\\Datasets\\\\EPIC_Kitchen\\\\OpticalFlow\\\\P01_04\\\\u\\\\frame_3361.jpg'\n",
      "Skipping frame: D:/Datasets/Datasets/EPIC_Kitchen/OpticalFlow/P01_04/v\\frame_3361.jpg due to error: [Errno 2] No such file or directory: 'D:\\\\Datasets\\\\Datasets\\\\EPIC_Kitchen\\\\OpticalFlow\\\\P01_04\\\\v\\\\frame_3361.jpg'\n",
      "Skipping frame: D:/Datasets/Datasets/EPIC_Kitchen/OpticalFlow/P01_04/u\\frame_3366.jpg due to error: [Errno 2] No such file or directory: 'D:\\\\Datasets\\\\Datasets\\\\EPIC_Kitchen\\\\OpticalFlow\\\\P01_04\\\\u\\\\frame_3366.jpg'\n",
      "Skipping frame: D:/Datasets/Datasets/EPIC_Kitchen/OpticalFlow/P01_04/v\\frame_3366.jpg due to error: [Errno 2] No such file or directory: 'D:\\\\Datasets\\\\Datasets\\\\EPIC_Kitchen\\\\OpticalFlow\\\\P01_04\\\\v\\\\frame_3366.jpg'\n",
      "Skipping frame: D:/Datasets/Datasets/EPIC_Kitchen/OpticalFlow/P01_04/u\\frame_3371.jpg due to error: [Errno 2] No such file or directory: 'D:\\\\Datasets\\\\Datasets\\\\EPIC_Kitchen\\\\OpticalFlow\\\\P01_04\\\\u\\\\frame_3371.jpg'\n",
      "Skipping frame: D:/Datasets/Datasets/EPIC_Kitchen/OpticalFlow/P01_04/v\\frame_3371.jpg due to error: [Errno 2] No such file or directory: 'D:\\\\Datasets\\\\Datasets\\\\EPIC_Kitchen\\\\OpticalFlow\\\\P01_04\\\\v\\\\frame_3371.jpg'\n"
     ]
    },
    {
     "name": "stderr",
     "output_type": "stream",
     "text": [
      "Extracting Features with DEFT:  54%|█████████████████████████▊                      | 679/1262 [01:37<00:31, 18.58it/s]"
     ]
    },
    {
     "name": "stdout",
     "output_type": "stream",
     "text": [
      "Skipping frame: D:/Datasets/Datasets/EPIC_Kitchen/OpticalFlow/P01_04/u\\frame_3376.jpg due to error: [Errno 2] No such file or directory: 'D:\\\\Datasets\\\\Datasets\\\\EPIC_Kitchen\\\\OpticalFlow\\\\P01_04\\\\u\\\\frame_3376.jpg'\n",
      "Skipping frame: D:/Datasets/Datasets/EPIC_Kitchen/OpticalFlow/P01_04/v\\frame_3376.jpg due to error: [Errno 2] No such file or directory: 'D:\\\\Datasets\\\\Datasets\\\\EPIC_Kitchen\\\\OpticalFlow\\\\P01_04\\\\v\\\\frame_3376.jpg'\n",
      "Skipping frame: D:/Datasets/Datasets/EPIC_Kitchen/OpticalFlow/P01_04/u\\frame_3381.jpg due to error: [Errno 2] No such file or directory: 'D:\\\\Datasets\\\\Datasets\\\\EPIC_Kitchen\\\\OpticalFlow\\\\P01_04\\\\u\\\\frame_3381.jpg'\n",
      "Skipping frame: D:/Datasets/Datasets/EPIC_Kitchen/OpticalFlow/P01_04/v\\frame_3381.jpg due to error: [Errno 2] No such file or directory: 'D:\\\\Datasets\\\\Datasets\\\\EPIC_Kitchen\\\\OpticalFlow\\\\P01_04\\\\v\\\\frame_3381.jpg'\n",
      "Skipping frame: D:/Datasets/Datasets/EPIC_Kitchen/OpticalFlow/P01_04/u\\frame_3386.jpg due to error: [Errno 2] No such file or directory: 'D:\\\\Datasets\\\\Datasets\\\\EPIC_Kitchen\\\\OpticalFlow\\\\P01_04\\\\u\\\\frame_3386.jpg'\n",
      "Skipping frame: D:/Datasets/Datasets/EPIC_Kitchen/OpticalFlow/P01_04/v\\frame_3386.jpg due to error: [Errno 2] No such file or directory: 'D:\\\\Datasets\\\\Datasets\\\\EPIC_Kitchen\\\\OpticalFlow\\\\P01_04\\\\v\\\\frame_3386.jpg'\n",
      "Skipping frame: D:/Datasets/Datasets/EPIC_Kitchen/OpticalFlow/P01_04/u\\frame_3391.jpg due to error: [Errno 2] No such file or directory: 'D:\\\\Datasets\\\\Datasets\\\\EPIC_Kitchen\\\\OpticalFlow\\\\P01_04\\\\u\\\\frame_3391.jpg'\n",
      "Skipping frame: D:/Datasets/Datasets/EPIC_Kitchen/OpticalFlow/P01_04/v\\frame_3391.jpg due to error: [Errno 2] No such file or directory: 'D:\\\\Datasets\\\\Datasets\\\\EPIC_Kitchen\\\\OpticalFlow\\\\P01_04\\\\v\\\\frame_3391.jpg'\n",
      "Skipping frame: D:/Datasets/Datasets/EPIC_Kitchen/OpticalFlow/P01_04/u\\frame_3396.jpg due to error: [Errno 2] No such file or directory: 'D:\\\\Datasets\\\\Datasets\\\\EPIC_Kitchen\\\\OpticalFlow\\\\P01_04\\\\u\\\\frame_3396.jpg'\n",
      "Skipping frame: D:/Datasets/Datasets/EPIC_Kitchen/OpticalFlow/P01_04/v\\frame_3396.jpg due to error: [Errno 2] No such file or directory: 'D:\\\\Datasets\\\\Datasets\\\\EPIC_Kitchen\\\\OpticalFlow\\\\P01_04\\\\v\\\\frame_3396.jpg'\n"
     ]
    },
    {
     "name": "stderr",
     "output_type": "stream",
     "text": [
      "Extracting Features with DEFT:  54%|██████████████████████████                      | 685/1262 [01:37<00:28, 20.08it/s]"
     ]
    },
    {
     "name": "stdout",
     "output_type": "stream",
     "text": [
      "Skipping frame: D:/Datasets/Datasets/EPIC_Kitchen/OpticalFlow/P01_04/u\\frame_3401.jpg due to error: [Errno 2] No such file or directory: 'D:\\\\Datasets\\\\Datasets\\\\EPIC_Kitchen\\\\OpticalFlow\\\\P01_04\\\\u\\\\frame_3401.jpg'\n",
      "Skipping frame: D:/Datasets/Datasets/EPIC_Kitchen/OpticalFlow/P01_04/v\\frame_3401.jpg due to error: [Errno 2] No such file or directory: 'D:\\\\Datasets\\\\Datasets\\\\EPIC_Kitchen\\\\OpticalFlow\\\\P01_04\\\\v\\\\frame_3401.jpg'\n",
      "Skipping frame: D:/Datasets/Datasets/EPIC_Kitchen/OpticalFlow/P01_04/u\\frame_3406.jpg due to error: [Errno 2] No such file or directory: 'D:\\\\Datasets\\\\Datasets\\\\EPIC_Kitchen\\\\OpticalFlow\\\\P01_04\\\\u\\\\frame_3406.jpg'\n",
      "Skipping frame: D:/Datasets/Datasets/EPIC_Kitchen/OpticalFlow/P01_04/v\\frame_3406.jpg due to error: [Errno 2] No such file or directory: 'D:\\\\Datasets\\\\Datasets\\\\EPIC_Kitchen\\\\OpticalFlow\\\\P01_04\\\\v\\\\frame_3406.jpg'\n",
      "Skipping frame: D:/Datasets/Datasets/EPIC_Kitchen/OpticalFlow/P01_04/u\\frame_3411.jpg due to error: [Errno 2] No such file or directory: 'D:\\\\Datasets\\\\Datasets\\\\EPIC_Kitchen\\\\OpticalFlow\\\\P01_04\\\\u\\\\frame_3411.jpg'\n",
      "Skipping frame: D:/Datasets/Datasets/EPIC_Kitchen/OpticalFlow/P01_04/v\\frame_3411.jpg due to error: [Errno 2] No such file or directory: 'D:\\\\Datasets\\\\Datasets\\\\EPIC_Kitchen\\\\OpticalFlow\\\\P01_04\\\\v\\\\frame_3411.jpg'\n",
      "Skipping frame: D:/Datasets/Datasets/EPIC_Kitchen/OpticalFlow/P01_04/u\\frame_3416.jpg due to error: [Errno 2] No such file or directory: 'D:\\\\Datasets\\\\Datasets\\\\EPIC_Kitchen\\\\OpticalFlow\\\\P01_04\\\\u\\\\frame_3416.jpg'\n",
      "Skipping frame: D:/Datasets/Datasets/EPIC_Kitchen/OpticalFlow/P01_04/v\\frame_3416.jpg due to error: [Errno 2] No such file or directory: 'D:\\\\Datasets\\\\Datasets\\\\EPIC_Kitchen\\\\OpticalFlow\\\\P01_04\\\\v\\\\frame_3416.jpg'\n",
      "Skipping frame: D:/Datasets/Datasets/EPIC_Kitchen/OpticalFlow/P01_04/u\\frame_3421.jpg due to error: [Errno 2] No such file or directory: 'D:\\\\Datasets\\\\Datasets\\\\EPIC_Kitchen\\\\OpticalFlow\\\\P01_04\\\\u\\\\frame_3421.jpg'\n",
      "Skipping frame: D:/Datasets/Datasets/EPIC_Kitchen/OpticalFlow/P01_04/v\\frame_3421.jpg due to error: [Errno 2] No such file or directory: 'D:\\\\Datasets\\\\Datasets\\\\EPIC_Kitchen\\\\OpticalFlow\\\\P01_04\\\\v\\\\frame_3421.jpg'\n"
     ]
    },
    {
     "name": "stderr",
     "output_type": "stream",
     "text": [
      "\r",
      "Extracting Features with DEFT:  55%|██████████████████████████▏                     | 688/1262 [01:37<00:28, 20.48it/s]"
     ]
    },
    {
     "name": "stdout",
     "output_type": "stream",
     "text": [
      "Skipping frame: D:/Datasets/Datasets/EPIC_Kitchen/OpticalFlow/P01_04/u\\frame_3426.jpg due to error: [Errno 2] No such file or directory: 'D:\\\\Datasets\\\\Datasets\\\\EPIC_Kitchen\\\\OpticalFlow\\\\P01_04\\\\u\\\\frame_3426.jpg'\n",
      "Skipping frame: D:/Datasets/Datasets/EPIC_Kitchen/OpticalFlow/P01_04/v\\frame_3426.jpg due to error: [Errno 2] No such file or directory: 'D:\\\\Datasets\\\\Datasets\\\\EPIC_Kitchen\\\\OpticalFlow\\\\P01_04\\\\v\\\\frame_3426.jpg'\n",
      "Skipping frame: D:/Datasets/Datasets/EPIC_Kitchen/OpticalFlow/P01_04/u\\frame_3431.jpg due to error: [Errno 2] No such file or directory: 'D:\\\\Datasets\\\\Datasets\\\\EPIC_Kitchen\\\\OpticalFlow\\\\P01_04\\\\u\\\\frame_3431.jpg'\n",
      "Skipping frame: D:/Datasets/Datasets/EPIC_Kitchen/OpticalFlow/P01_04/v\\frame_3431.jpg due to error: [Errno 2] No such file or directory: 'D:\\\\Datasets\\\\Datasets\\\\EPIC_Kitchen\\\\OpticalFlow\\\\P01_04\\\\v\\\\frame_3431.jpg'\n",
      "Skipping frame: D:/Datasets/Datasets/EPIC_Kitchen/OpticalFlow/P01_04/u\\frame_3436.jpg due to error: [Errno 2] No such file or directory: 'D:\\\\Datasets\\\\Datasets\\\\EPIC_Kitchen\\\\OpticalFlow\\\\P01_04\\\\u\\\\frame_3436.jpg'\n",
      "Skipping frame: D:/Datasets/Datasets/EPIC_Kitchen/OpticalFlow/P01_04/v\\frame_3436.jpg due to error: [Errno 2] No such file or directory: 'D:\\\\Datasets\\\\Datasets\\\\EPIC_Kitchen\\\\OpticalFlow\\\\P01_04\\\\v\\\\frame_3436.jpg'\n",
      "Skipping frame: D:/Datasets/Datasets/EPIC_Kitchen/OpticalFlow/P01_04/u\\frame_3441.jpg due to error: [Errno 2] No such file or directory: 'D:\\\\Datasets\\\\Datasets\\\\EPIC_Kitchen\\\\OpticalFlow\\\\P01_04\\\\u\\\\frame_3441.jpg'\n",
      "Skipping frame: D:/Datasets/Datasets/EPIC_Kitchen/OpticalFlow/P01_04/v\\frame_3441.jpg due to error: [Errno 2] No such file or directory: 'D:\\\\Datasets\\\\Datasets\\\\EPIC_Kitchen\\\\OpticalFlow\\\\P01_04\\\\v\\\\frame_3441.jpg'\n",
      "Skipping frame: D:/Datasets/Datasets/EPIC_Kitchen/OpticalFlow/P01_04/u\\frame_3446.jpg due to error: [Errno 2] No such file or directory: 'D:\\\\Datasets\\\\Datasets\\\\EPIC_Kitchen\\\\OpticalFlow\\\\P01_04\\\\u\\\\frame_3446.jpg'\n",
      "Skipping frame: D:/Datasets/Datasets/EPIC_Kitchen/OpticalFlow/P01_04/v\\frame_3446.jpg due to error: [Errno 2] No such file or directory: 'D:\\\\Datasets\\\\Datasets\\\\EPIC_Kitchen\\\\OpticalFlow\\\\P01_04\\\\v\\\\frame_3446.jpg'\n"
     ]
    },
    {
     "name": "stderr",
     "output_type": "stream",
     "text": [
      "Extracting Features with DEFT:  55%|██████████████████████████▍                     | 694/1262 [01:38<00:27, 20.91it/s]"
     ]
    },
    {
     "name": "stdout",
     "output_type": "stream",
     "text": [
      "Skipping frame: D:/Datasets/Datasets/EPIC_Kitchen/OpticalFlow/P01_04/u\\frame_3451.jpg due to error: [Errno 2] No such file or directory: 'D:\\\\Datasets\\\\Datasets\\\\EPIC_Kitchen\\\\OpticalFlow\\\\P01_04\\\\u\\\\frame_3451.jpg'\n",
      "Skipping frame: D:/Datasets/Datasets/EPIC_Kitchen/OpticalFlow/P01_04/v\\frame_3451.jpg due to error: [Errno 2] No such file or directory: 'D:\\\\Datasets\\\\Datasets\\\\EPIC_Kitchen\\\\OpticalFlow\\\\P01_04\\\\v\\\\frame_3451.jpg'\n",
      "Skipping frame: D:/Datasets/Datasets/EPIC_Kitchen/OpticalFlow/P01_04/u\\frame_3456.jpg due to error: [Errno 2] No such file or directory: 'D:\\\\Datasets\\\\Datasets\\\\EPIC_Kitchen\\\\OpticalFlow\\\\P01_04\\\\u\\\\frame_3456.jpg'\n",
      "Skipping frame: D:/Datasets/Datasets/EPIC_Kitchen/OpticalFlow/P01_04/v\\frame_3456.jpg due to error: [Errno 2] No such file or directory: 'D:\\\\Datasets\\\\Datasets\\\\EPIC_Kitchen\\\\OpticalFlow\\\\P01_04\\\\v\\\\frame_3456.jpg'\n",
      "Skipping frame: D:/Datasets/Datasets/EPIC_Kitchen/OpticalFlow/P01_04/u\\frame_3461.jpg due to error: [Errno 2] No such file or directory: 'D:\\\\Datasets\\\\Datasets\\\\EPIC_Kitchen\\\\OpticalFlow\\\\P01_04\\\\u\\\\frame_3461.jpg'\n",
      "Skipping frame: D:/Datasets/Datasets/EPIC_Kitchen/OpticalFlow/P01_04/v\\frame_3461.jpg due to error: [Errno 2] No such file or directory: 'D:\\\\Datasets\\\\Datasets\\\\EPIC_Kitchen\\\\OpticalFlow\\\\P01_04\\\\v\\\\frame_3461.jpg'\n",
      "Skipping frame: D:/Datasets/Datasets/EPIC_Kitchen/OpticalFlow/P01_04/u\\frame_3466.jpg due to error: [Errno 2] No such file or directory: 'D:\\\\Datasets\\\\Datasets\\\\EPIC_Kitchen\\\\OpticalFlow\\\\P01_04\\\\u\\\\frame_3466.jpg'\n",
      "Skipping frame: D:/Datasets/Datasets/EPIC_Kitchen/OpticalFlow/P01_04/v\\frame_3466.jpg due to error: [Errno 2] No such file or directory: 'D:\\\\Datasets\\\\Datasets\\\\EPIC_Kitchen\\\\OpticalFlow\\\\P01_04\\\\v\\\\frame_3466.jpg'\n",
      "Skipping frame: D:/Datasets/Datasets/EPIC_Kitchen/OpticalFlow/P01_04/u\\frame_3471.jpg due to error: [Errno 2] No such file or directory: 'D:\\\\Datasets\\\\Datasets\\\\EPIC_Kitchen\\\\OpticalFlow\\\\P01_04\\\\u\\\\frame_3471.jpg'\n",
      "Skipping frame: D:/Datasets/Datasets/EPIC_Kitchen/OpticalFlow/P01_04/v\\frame_3471.jpg due to error: [Errno 2] No such file or directory: 'D:\\\\Datasets\\\\Datasets\\\\EPIC_Kitchen\\\\OpticalFlow\\\\P01_04\\\\v\\\\frame_3471.jpg'\n"
     ]
    },
    {
     "name": "stderr",
     "output_type": "stream",
     "text": [
      "Extracting Features with DEFT:  55%|██████████████████████████▌                     | 700/1262 [01:38<00:26, 20.96it/s]"
     ]
    },
    {
     "name": "stdout",
     "output_type": "stream",
     "text": [
      "Skipping frame: D:/Datasets/Datasets/EPIC_Kitchen/OpticalFlow/P01_04/u\\frame_3476.jpg due to error: [Errno 2] No such file or directory: 'D:\\\\Datasets\\\\Datasets\\\\EPIC_Kitchen\\\\OpticalFlow\\\\P01_04\\\\u\\\\frame_3476.jpg'\n",
      "Skipping frame: D:/Datasets/Datasets/EPIC_Kitchen/OpticalFlow/P01_04/v\\frame_3476.jpg due to error: [Errno 2] No such file or directory: 'D:\\\\Datasets\\\\Datasets\\\\EPIC_Kitchen\\\\OpticalFlow\\\\P01_04\\\\v\\\\frame_3476.jpg'\n",
      "Skipping frame: D:/Datasets/Datasets/EPIC_Kitchen/OpticalFlow/P01_04/u\\frame_3481.jpg due to error: [Errno 2] No such file or directory: 'D:\\\\Datasets\\\\Datasets\\\\EPIC_Kitchen\\\\OpticalFlow\\\\P01_04\\\\u\\\\frame_3481.jpg'\n",
      "Skipping frame: D:/Datasets/Datasets/EPIC_Kitchen/OpticalFlow/P01_04/v\\frame_3481.jpg due to error: [Errno 2] No such file or directory: 'D:\\\\Datasets\\\\Datasets\\\\EPIC_Kitchen\\\\OpticalFlow\\\\P01_04\\\\v\\\\frame_3481.jpg'\n",
      "Skipping frame: D:/Datasets/Datasets/EPIC_Kitchen/OpticalFlow/P01_04/u\\frame_3486.jpg due to error: [Errno 2] No such file or directory: 'D:\\\\Datasets\\\\Datasets\\\\EPIC_Kitchen\\\\OpticalFlow\\\\P01_04\\\\u\\\\frame_3486.jpg'\n",
      "Skipping frame: D:/Datasets/Datasets/EPIC_Kitchen/OpticalFlow/P01_04/v\\frame_3486.jpg due to error: [Errno 2] No such file or directory: 'D:\\\\Datasets\\\\Datasets\\\\EPIC_Kitchen\\\\OpticalFlow\\\\P01_04\\\\v\\\\frame_3486.jpg'\n",
      "Skipping frame: D:/Datasets/Datasets/EPIC_Kitchen/OpticalFlow/P01_04/u\\frame_3491.jpg due to error: [Errno 2] No such file or directory: 'D:\\\\Datasets\\\\Datasets\\\\EPIC_Kitchen\\\\OpticalFlow\\\\P01_04\\\\u\\\\frame_3491.jpg'\n",
      "Skipping frame: D:/Datasets/Datasets/EPIC_Kitchen/OpticalFlow/P01_04/v\\frame_3491.jpg due to error: [Errno 2] No such file or directory: 'D:\\\\Datasets\\\\Datasets\\\\EPIC_Kitchen\\\\OpticalFlow\\\\P01_04\\\\v\\\\frame_3491.jpg'\n",
      "Skipping frame: D:/Datasets/Datasets/EPIC_Kitchen/OpticalFlow/P01_04/u\\frame_3496.jpg due to error: [Errno 2] No such file or directory: 'D:\\\\Datasets\\\\Datasets\\\\EPIC_Kitchen\\\\OpticalFlow\\\\P01_04\\\\u\\\\frame_3496.jpg'\n",
      "Skipping frame: D:/Datasets/Datasets/EPIC_Kitchen/OpticalFlow/P01_04/v\\frame_3496.jpg due to error: [Errno 2] No such file or directory: 'D:\\\\Datasets\\\\Datasets\\\\EPIC_Kitchen\\\\OpticalFlow\\\\P01_04\\\\v\\\\frame_3496.jpg'\n"
     ]
    },
    {
     "name": "stderr",
     "output_type": "stream",
     "text": [
      "\r",
      "Extracting Features with DEFT:  56%|██████████████████████████▋                     | 703/1262 [01:38<00:26, 21.05it/s]"
     ]
    },
    {
     "name": "stdout",
     "output_type": "stream",
     "text": [
      "Skipping frame: D:/Datasets/Datasets/EPIC_Kitchen/OpticalFlow/P01_04/u\\frame_3501.jpg due to error: [Errno 2] No such file or directory: 'D:\\\\Datasets\\\\Datasets\\\\EPIC_Kitchen\\\\OpticalFlow\\\\P01_04\\\\u\\\\frame_3501.jpg'\n",
      "Skipping frame: D:/Datasets/Datasets/EPIC_Kitchen/OpticalFlow/P01_04/v\\frame_3501.jpg due to error: [Errno 2] No such file or directory: 'D:\\\\Datasets\\\\Datasets\\\\EPIC_Kitchen\\\\OpticalFlow\\\\P01_04\\\\v\\\\frame_3501.jpg'\n",
      "Skipping frame: D:/Datasets/Datasets/EPIC_Kitchen/OpticalFlow/P01_04/u\\frame_3506.jpg due to error: [Errno 2] No such file or directory: 'D:\\\\Datasets\\\\Datasets\\\\EPIC_Kitchen\\\\OpticalFlow\\\\P01_04\\\\u\\\\frame_3506.jpg'\n",
      "Skipping frame: D:/Datasets/Datasets/EPIC_Kitchen/OpticalFlow/P01_04/v\\frame_3506.jpg due to error: [Errno 2] No such file or directory: 'D:\\\\Datasets\\\\Datasets\\\\EPIC_Kitchen\\\\OpticalFlow\\\\P01_04\\\\v\\\\frame_3506.jpg'\n",
      "Skipping frame: D:/Datasets/Datasets/EPIC_Kitchen/OpticalFlow/P01_04/u\\frame_3511.jpg due to error: [Errno 2] No such file or directory: 'D:\\\\Datasets\\\\Datasets\\\\EPIC_Kitchen\\\\OpticalFlow\\\\P01_04\\\\u\\\\frame_3511.jpg'\n",
      "Skipping frame: D:/Datasets/Datasets/EPIC_Kitchen/OpticalFlow/P01_04/v\\frame_3511.jpg due to error: [Errno 2] No such file or directory: 'D:\\\\Datasets\\\\Datasets\\\\EPIC_Kitchen\\\\OpticalFlow\\\\P01_04\\\\v\\\\frame_3511.jpg'\n",
      "Skipping frame: D:/Datasets/Datasets/EPIC_Kitchen/OpticalFlow/P01_04/u\\frame_3516.jpg due to error: [Errno 2] No such file or directory: 'D:\\\\Datasets\\\\Datasets\\\\EPIC_Kitchen\\\\OpticalFlow\\\\P01_04\\\\u\\\\frame_3516.jpg'\n",
      "Skipping frame: D:/Datasets/Datasets/EPIC_Kitchen/OpticalFlow/P01_04/v\\frame_3516.jpg due to error: [Errno 2] No such file or directory: 'D:\\\\Datasets\\\\Datasets\\\\EPIC_Kitchen\\\\OpticalFlow\\\\P01_04\\\\v\\\\frame_3516.jpg'\n",
      "Skipping frame: D:/Datasets/Datasets/EPIC_Kitchen/OpticalFlow/P01_04/u\\frame_3521.jpg due to error: [Errno 2] No such file or directory: 'D:\\\\Datasets\\\\Datasets\\\\EPIC_Kitchen\\\\OpticalFlow\\\\P01_04\\\\u\\\\frame_3521.jpg'\n",
      "Skipping frame: D:/Datasets/Datasets/EPIC_Kitchen/OpticalFlow/P01_04/v\\frame_3521.jpg due to error: [Errno 2] No such file or directory: 'D:\\\\Datasets\\\\Datasets\\\\EPIC_Kitchen\\\\OpticalFlow\\\\P01_04\\\\v\\\\frame_3521.jpg'\n"
     ]
    },
    {
     "name": "stderr",
     "output_type": "stream",
     "text": [
      "Extracting Features with DEFT:  56%|██████████████████████████▉                     | 709/1262 [01:38<00:26, 20.79it/s]"
     ]
    },
    {
     "name": "stdout",
     "output_type": "stream",
     "text": [
      "Skipping frame: D:/Datasets/Datasets/EPIC_Kitchen/OpticalFlow/P01_04/u\\frame_3526.jpg due to error: [Errno 2] No such file or directory: 'D:\\\\Datasets\\\\Datasets\\\\EPIC_Kitchen\\\\OpticalFlow\\\\P01_04\\\\u\\\\frame_3526.jpg'\n",
      "Skipping frame: D:/Datasets/Datasets/EPIC_Kitchen/OpticalFlow/P01_04/v\\frame_3526.jpg due to error: [Errno 2] No such file or directory: 'D:\\\\Datasets\\\\Datasets\\\\EPIC_Kitchen\\\\OpticalFlow\\\\P01_04\\\\v\\\\frame_3526.jpg'\n",
      "Skipping frame: D:/Datasets/Datasets/EPIC_Kitchen/OpticalFlow/P01_04/u\\frame_3531.jpg due to error: [Errno 2] No such file or directory: 'D:\\\\Datasets\\\\Datasets\\\\EPIC_Kitchen\\\\OpticalFlow\\\\P01_04\\\\u\\\\frame_3531.jpg'\n",
      "Skipping frame: D:/Datasets/Datasets/EPIC_Kitchen/OpticalFlow/P01_04/v\\frame_3531.jpg due to error: [Errno 2] No such file or directory: 'D:\\\\Datasets\\\\Datasets\\\\EPIC_Kitchen\\\\OpticalFlow\\\\P01_04\\\\v\\\\frame_3531.jpg'\n",
      "Skipping frame: D:/Datasets/Datasets/EPIC_Kitchen/OpticalFlow/P01_04/u\\frame_3536.jpg due to error: [Errno 2] No such file or directory: 'D:\\\\Datasets\\\\Datasets\\\\EPIC_Kitchen\\\\OpticalFlow\\\\P01_04\\\\u\\\\frame_3536.jpg'\n",
      "Skipping frame: D:/Datasets/Datasets/EPIC_Kitchen/OpticalFlow/P01_04/v\\frame_3536.jpg due to error: [Errno 2] No such file or directory: 'D:\\\\Datasets\\\\Datasets\\\\EPIC_Kitchen\\\\OpticalFlow\\\\P01_04\\\\v\\\\frame_3536.jpg'\n",
      "Skipping frame: D:/Datasets/Datasets/EPIC_Kitchen/OpticalFlow/P01_04/u\\frame_3541.jpg due to error: [Errno 2] No such file or directory: 'D:\\\\Datasets\\\\Datasets\\\\EPIC_Kitchen\\\\OpticalFlow\\\\P01_04\\\\u\\\\frame_3541.jpg'\n",
      "Skipping frame: D:/Datasets/Datasets/EPIC_Kitchen/OpticalFlow/P01_04/v\\frame_3541.jpg due to error: [Errno 2] No such file or directory: 'D:\\\\Datasets\\\\Datasets\\\\EPIC_Kitchen\\\\OpticalFlow\\\\P01_04\\\\v\\\\frame_3541.jpg'\n",
      "Skipping frame: D:/Datasets/Datasets/EPIC_Kitchen/OpticalFlow/P01_04/u\\frame_3546.jpg due to error: [Errno 2] No such file or directory: 'D:\\\\Datasets\\\\Datasets\\\\EPIC_Kitchen\\\\OpticalFlow\\\\P01_04\\\\u\\\\frame_3546.jpg'\n",
      "Skipping frame: D:/Datasets/Datasets/EPIC_Kitchen/OpticalFlow/P01_04/v\\frame_3546.jpg due to error: [Errno 2] No such file or directory: 'D:\\\\Datasets\\\\Datasets\\\\EPIC_Kitchen\\\\OpticalFlow\\\\P01_04\\\\v\\\\frame_3546.jpg'\n"
     ]
    },
    {
     "name": "stderr",
     "output_type": "stream",
     "text": [
      "Extracting Features with DEFT:  57%|███████████████████████████▏                    | 715/1262 [01:39<00:26, 20.34it/s]"
     ]
    },
    {
     "name": "stdout",
     "output_type": "stream",
     "text": [
      "Skipping frame: D:/Datasets/Datasets/EPIC_Kitchen/OpticalFlow/P01_04/u\\frame_3551.jpg due to error: [Errno 2] No such file or directory: 'D:\\\\Datasets\\\\Datasets\\\\EPIC_Kitchen\\\\OpticalFlow\\\\P01_04\\\\u\\\\frame_3551.jpg'\n",
      "Skipping frame: D:/Datasets/Datasets/EPIC_Kitchen/OpticalFlow/P01_04/v\\frame_3551.jpg due to error: [Errno 2] No such file or directory: 'D:\\\\Datasets\\\\Datasets\\\\EPIC_Kitchen\\\\OpticalFlow\\\\P01_04\\\\v\\\\frame_3551.jpg'\n",
      "Skipping frame: D:/Datasets/Datasets/EPIC_Kitchen/OpticalFlow/P01_04/u\\frame_3556.jpg due to error: [Errno 2] No such file or directory: 'D:\\\\Datasets\\\\Datasets\\\\EPIC_Kitchen\\\\OpticalFlow\\\\P01_04\\\\u\\\\frame_3556.jpg'\n",
      "Skipping frame: D:/Datasets/Datasets/EPIC_Kitchen/OpticalFlow/P01_04/v\\frame_3556.jpg due to error: [Errno 2] No such file or directory: 'D:\\\\Datasets\\\\Datasets\\\\EPIC_Kitchen\\\\OpticalFlow\\\\P01_04\\\\v\\\\frame_3556.jpg'\n",
      "Skipping frame: D:/Datasets/Datasets/EPIC_Kitchen/OpticalFlow/P01_04/u\\frame_3561.jpg due to error: [Errno 2] No such file or directory: 'D:\\\\Datasets\\\\Datasets\\\\EPIC_Kitchen\\\\OpticalFlow\\\\P01_04\\\\u\\\\frame_3561.jpg'\n",
      "Skipping frame: D:/Datasets/Datasets/EPIC_Kitchen/OpticalFlow/P01_04/v\\frame_3561.jpg due to error: [Errno 2] No such file or directory: 'D:\\\\Datasets\\\\Datasets\\\\EPIC_Kitchen\\\\OpticalFlow\\\\P01_04\\\\v\\\\frame_3561.jpg'\n",
      "Skipping frame: D:/Datasets/Datasets/EPIC_Kitchen/OpticalFlow/P01_04/u\\frame_3566.jpg due to error: [Errno 2] No such file or directory: 'D:\\\\Datasets\\\\Datasets\\\\EPIC_Kitchen\\\\OpticalFlow\\\\P01_04\\\\u\\\\frame_3566.jpg'\n",
      "Skipping frame: D:/Datasets/Datasets/EPIC_Kitchen/OpticalFlow/P01_04/v\\frame_3566.jpg due to error: [Errno 2] No such file or directory: 'D:\\\\Datasets\\\\Datasets\\\\EPIC_Kitchen\\\\OpticalFlow\\\\P01_04\\\\v\\\\frame_3566.jpg'\n",
      "Skipping frame: D:/Datasets/Datasets/EPIC_Kitchen/OpticalFlow/P01_04/u\\frame_3571.jpg due to error: [Errno 2] No such file or directory: 'D:\\\\Datasets\\\\Datasets\\\\EPIC_Kitchen\\\\OpticalFlow\\\\P01_04\\\\u\\\\frame_3571.jpg'\n",
      "Skipping frame: D:/Datasets/Datasets/EPIC_Kitchen/OpticalFlow/P01_04/v\\frame_3571.jpg due to error: [Errno 2] No such file or directory: 'D:\\\\Datasets\\\\Datasets\\\\EPIC_Kitchen\\\\OpticalFlow\\\\P01_04\\\\v\\\\frame_3571.jpg'\n"
     ]
    },
    {
     "name": "stderr",
     "output_type": "stream",
     "text": [
      "\r",
      "Extracting Features with DEFT:  57%|███████████████████████████▎                    | 718/1262 [01:39<00:26, 20.33it/s]"
     ]
    },
    {
     "name": "stdout",
     "output_type": "stream",
     "text": [
      "Skipping frame: D:/Datasets/Datasets/EPIC_Kitchen/OpticalFlow/P01_04/u\\frame_3576.jpg due to error: [Errno 2] No such file or directory: 'D:\\\\Datasets\\\\Datasets\\\\EPIC_Kitchen\\\\OpticalFlow\\\\P01_04\\\\u\\\\frame_3576.jpg'\n",
      "Skipping frame: D:/Datasets/Datasets/EPIC_Kitchen/OpticalFlow/P01_04/v\\frame_3576.jpg due to error: [Errno 2] No such file or directory: 'D:\\\\Datasets\\\\Datasets\\\\EPIC_Kitchen\\\\OpticalFlow\\\\P01_04\\\\v\\\\frame_3576.jpg'\n",
      "Skipping frame: D:/Datasets/Datasets/EPIC_Kitchen/OpticalFlow/P01_04/u\\frame_3581.jpg due to error: [Errno 2] No such file or directory: 'D:\\\\Datasets\\\\Datasets\\\\EPIC_Kitchen\\\\OpticalFlow\\\\P01_04\\\\u\\\\frame_3581.jpg'\n",
      "Skipping frame: D:/Datasets/Datasets/EPIC_Kitchen/OpticalFlow/P01_04/v\\frame_3581.jpg due to error: [Errno 2] No such file or directory: 'D:\\\\Datasets\\\\Datasets\\\\EPIC_Kitchen\\\\OpticalFlow\\\\P01_04\\\\v\\\\frame_3581.jpg'\n",
      "Skipping frame: D:/Datasets/Datasets/EPIC_Kitchen/OpticalFlow/P01_04/u\\frame_3586.jpg due to error: [Errno 2] No such file or directory: 'D:\\\\Datasets\\\\Datasets\\\\EPIC_Kitchen\\\\OpticalFlow\\\\P01_04\\\\u\\\\frame_3586.jpg'\n",
      "Skipping frame: D:/Datasets/Datasets/EPIC_Kitchen/OpticalFlow/P01_04/v\\frame_3586.jpg due to error: [Errno 2] No such file or directory: 'D:\\\\Datasets\\\\Datasets\\\\EPIC_Kitchen\\\\OpticalFlow\\\\P01_04\\\\v\\\\frame_3586.jpg'\n",
      "Skipping frame: D:/Datasets/Datasets/EPIC_Kitchen/OpticalFlow/P01_04/u\\frame_3591.jpg due to error: [Errno 2] No such file or directory: 'D:\\\\Datasets\\\\Datasets\\\\EPIC_Kitchen\\\\OpticalFlow\\\\P01_04\\\\u\\\\frame_3591.jpg'\n",
      "Skipping frame: D:/Datasets/Datasets/EPIC_Kitchen/OpticalFlow/P01_04/v\\frame_3591.jpg due to error: [Errno 2] No such file or directory: 'D:\\\\Datasets\\\\Datasets\\\\EPIC_Kitchen\\\\OpticalFlow\\\\P01_04\\\\v\\\\frame_3591.jpg'\n",
      "Skipping frame: D:/Datasets/Datasets/EPIC_Kitchen/OpticalFlow/P01_04/u\\frame_3596.jpg due to error: [Errno 2] No such file or directory: 'D:\\\\Datasets\\\\Datasets\\\\EPIC_Kitchen\\\\OpticalFlow\\\\P01_04\\\\u\\\\frame_3596.jpg'\n",
      "Skipping frame: D:/Datasets/Datasets/EPIC_Kitchen/OpticalFlow/P01_04/v\\frame_3596.jpg due to error: [Errno 2] No such file or directory: 'D:\\\\Datasets\\\\Datasets\\\\EPIC_Kitchen\\\\OpticalFlow\\\\P01_04\\\\v\\\\frame_3596.jpg'\n"
     ]
    },
    {
     "name": "stderr",
     "output_type": "stream",
     "text": [
      "Extracting Features with DEFT:  57%|███████████████████████████▌                    | 724/1262 [01:39<00:26, 20.45it/s]"
     ]
    },
    {
     "name": "stdout",
     "output_type": "stream",
     "text": [
      "Skipping frame: D:/Datasets/Datasets/EPIC_Kitchen/OpticalFlow/P01_04/u\\frame_3601.jpg due to error: [Errno 2] No such file or directory: 'D:\\\\Datasets\\\\Datasets\\\\EPIC_Kitchen\\\\OpticalFlow\\\\P01_04\\\\u\\\\frame_3601.jpg'\n",
      "Skipping frame: D:/Datasets/Datasets/EPIC_Kitchen/OpticalFlow/P01_04/v\\frame_3601.jpg due to error: [Errno 2] No such file or directory: 'D:\\\\Datasets\\\\Datasets\\\\EPIC_Kitchen\\\\OpticalFlow\\\\P01_04\\\\v\\\\frame_3601.jpg'\n",
      "Skipping frame: D:/Datasets/Datasets/EPIC_Kitchen/OpticalFlow/P01_04/u\\frame_3606.jpg due to error: [Errno 2] No such file or directory: 'D:\\\\Datasets\\\\Datasets\\\\EPIC_Kitchen\\\\OpticalFlow\\\\P01_04\\\\u\\\\frame_3606.jpg'\n",
      "Skipping frame: D:/Datasets/Datasets/EPIC_Kitchen/OpticalFlow/P01_04/v\\frame_3606.jpg due to error: [Errno 2] No such file or directory: 'D:\\\\Datasets\\\\Datasets\\\\EPIC_Kitchen\\\\OpticalFlow\\\\P01_04\\\\v\\\\frame_3606.jpg'\n",
      "Skipping frame: D:/Datasets/Datasets/EPIC_Kitchen/OpticalFlow/P01_04/u\\frame_3611.jpg due to error: [Errno 2] No such file or directory: 'D:\\\\Datasets\\\\Datasets\\\\EPIC_Kitchen\\\\OpticalFlow\\\\P01_04\\\\u\\\\frame_3611.jpg'\n",
      "Skipping frame: D:/Datasets/Datasets/EPIC_Kitchen/OpticalFlow/P01_04/v\\frame_3611.jpg due to error: [Errno 2] No such file or directory: 'D:\\\\Datasets\\\\Datasets\\\\EPIC_Kitchen\\\\OpticalFlow\\\\P01_04\\\\v\\\\frame_3611.jpg'\n",
      "Skipping frame: D:/Datasets/Datasets/EPIC_Kitchen/OpticalFlow/P01_04/u\\frame_3616.jpg due to error: [Errno 2] No such file or directory: 'D:\\\\Datasets\\\\Datasets\\\\EPIC_Kitchen\\\\OpticalFlow\\\\P01_04\\\\u\\\\frame_3616.jpg'\n",
      "Skipping frame: D:/Datasets/Datasets/EPIC_Kitchen/OpticalFlow/P01_04/v\\frame_3616.jpg due to error: [Errno 2] No such file or directory: 'D:\\\\Datasets\\\\Datasets\\\\EPIC_Kitchen\\\\OpticalFlow\\\\P01_04\\\\v\\\\frame_3616.jpg'\n",
      "Skipping frame: D:/Datasets/Datasets/EPIC_Kitchen/OpticalFlow/P01_04/u\\frame_3621.jpg due to error: [Errno 2] No such file or directory: 'D:\\\\Datasets\\\\Datasets\\\\EPIC_Kitchen\\\\OpticalFlow\\\\P01_04\\\\u\\\\frame_3621.jpg'\n",
      "Skipping frame: D:/Datasets/Datasets/EPIC_Kitchen/OpticalFlow/P01_04/v\\frame_3621.jpg due to error: [Errno 2] No such file or directory: 'D:\\\\Datasets\\\\Datasets\\\\EPIC_Kitchen\\\\OpticalFlow\\\\P01_04\\\\v\\\\frame_3621.jpg'\n"
     ]
    },
    {
     "name": "stderr",
     "output_type": "stream",
     "text": [
      "Extracting Features with DEFT:  58%|███████████████████████████▊                    | 730/1262 [01:39<00:25, 20.93it/s]"
     ]
    },
    {
     "name": "stdout",
     "output_type": "stream",
     "text": [
      "Skipping frame: D:/Datasets/Datasets/EPIC_Kitchen/OpticalFlow/P01_04/u\\frame_3626.jpg due to error: [Errno 2] No such file or directory: 'D:\\\\Datasets\\\\Datasets\\\\EPIC_Kitchen\\\\OpticalFlow\\\\P01_04\\\\u\\\\frame_3626.jpg'\n",
      "Skipping frame: D:/Datasets/Datasets/EPIC_Kitchen/OpticalFlow/P01_04/v\\frame_3626.jpg due to error: [Errno 2] No such file or directory: 'D:\\\\Datasets\\\\Datasets\\\\EPIC_Kitchen\\\\OpticalFlow\\\\P01_04\\\\v\\\\frame_3626.jpg'\n",
      "Skipping frame: D:/Datasets/Datasets/EPIC_Kitchen/OpticalFlow/P01_04/u\\frame_3631.jpg due to error: [Errno 2] No such file or directory: 'D:\\\\Datasets\\\\Datasets\\\\EPIC_Kitchen\\\\OpticalFlow\\\\P01_04\\\\u\\\\frame_3631.jpg'\n",
      "Skipping frame: D:/Datasets/Datasets/EPIC_Kitchen/OpticalFlow/P01_04/v\\frame_3631.jpg due to error: [Errno 2] No such file or directory: 'D:\\\\Datasets\\\\Datasets\\\\EPIC_Kitchen\\\\OpticalFlow\\\\P01_04\\\\v\\\\frame_3631.jpg'\n",
      "Skipping frame: D:/Datasets/Datasets/EPIC_Kitchen/OpticalFlow/P01_04/u\\frame_3636.jpg due to error: [Errno 2] No such file or directory: 'D:\\\\Datasets\\\\Datasets\\\\EPIC_Kitchen\\\\OpticalFlow\\\\P01_04\\\\u\\\\frame_3636.jpg'\n",
      "Skipping frame: D:/Datasets/Datasets/EPIC_Kitchen/OpticalFlow/P01_04/v\\frame_3636.jpg due to error: [Errno 2] No such file or directory: 'D:\\\\Datasets\\\\Datasets\\\\EPIC_Kitchen\\\\OpticalFlow\\\\P01_04\\\\v\\\\frame_3636.jpg'\n",
      "Skipping frame: D:/Datasets/Datasets/EPIC_Kitchen/OpticalFlow/P01_04/u\\frame_3641.jpg due to error: [Errno 2] No such file or directory: 'D:\\\\Datasets\\\\Datasets\\\\EPIC_Kitchen\\\\OpticalFlow\\\\P01_04\\\\u\\\\frame_3641.jpg'\n",
      "Skipping frame: D:/Datasets/Datasets/EPIC_Kitchen/OpticalFlow/P01_04/v\\frame_3641.jpg due to error: [Errno 2] No such file or directory: 'D:\\\\Datasets\\\\Datasets\\\\EPIC_Kitchen\\\\OpticalFlow\\\\P01_04\\\\v\\\\frame_3641.jpg'\n",
      "Skipping frame: D:/Datasets/Datasets/EPIC_Kitchen/OpticalFlow/P01_04/u\\frame_3646.jpg due to error: [Errno 2] No such file or directory: 'D:\\\\Datasets\\\\Datasets\\\\EPIC_Kitchen\\\\OpticalFlow\\\\P01_04\\\\u\\\\frame_3646.jpg'\n",
      "Skipping frame: D:/Datasets/Datasets/EPIC_Kitchen/OpticalFlow/P01_04/v\\frame_3646.jpg due to error: [Errno 2] No such file or directory: 'D:\\\\Datasets\\\\Datasets\\\\EPIC_Kitchen\\\\OpticalFlow\\\\P01_04\\\\v\\\\frame_3646.jpg'\n"
     ]
    },
    {
     "name": "stderr",
     "output_type": "stream",
     "text": [
      "\r",
      "Extracting Features with DEFT:  58%|███████████████████████████▉                    | 733/1262 [01:39<00:25, 20.71it/s]"
     ]
    },
    {
     "name": "stdout",
     "output_type": "stream",
     "text": [
      "Skipping frame: D:/Datasets/Datasets/EPIC_Kitchen/OpticalFlow/P01_04/u\\frame_3651.jpg due to error: [Errno 2] No such file or directory: 'D:\\\\Datasets\\\\Datasets\\\\EPIC_Kitchen\\\\OpticalFlow\\\\P01_04\\\\u\\\\frame_3651.jpg'\n",
      "Skipping frame: D:/Datasets/Datasets/EPIC_Kitchen/OpticalFlow/P01_04/v\\frame_3651.jpg due to error: [Errno 2] No such file or directory: 'D:\\\\Datasets\\\\Datasets\\\\EPIC_Kitchen\\\\OpticalFlow\\\\P01_04\\\\v\\\\frame_3651.jpg'\n",
      "Skipping frame: D:/Datasets/Datasets/EPIC_Kitchen/OpticalFlow/P01_04/u\\frame_3656.jpg due to error: [Errno 2] No such file or directory: 'D:\\\\Datasets\\\\Datasets\\\\EPIC_Kitchen\\\\OpticalFlow\\\\P01_04\\\\u\\\\frame_3656.jpg'\n",
      "Skipping frame: D:/Datasets/Datasets/EPIC_Kitchen/OpticalFlow/P01_04/v\\frame_3656.jpg due to error: [Errno 2] No such file or directory: 'D:\\\\Datasets\\\\Datasets\\\\EPIC_Kitchen\\\\OpticalFlow\\\\P01_04\\\\v\\\\frame_3656.jpg'\n",
      "Skipping frame: D:/Datasets/Datasets/EPIC_Kitchen/OpticalFlow/P01_04/u\\frame_3661.jpg due to error: [Errno 2] No such file or directory: 'D:\\\\Datasets\\\\Datasets\\\\EPIC_Kitchen\\\\OpticalFlow\\\\P01_04\\\\u\\\\frame_3661.jpg'\n",
      "Skipping frame: D:/Datasets/Datasets/EPIC_Kitchen/OpticalFlow/P01_04/v\\frame_3661.jpg due to error: [Errno 2] No such file or directory: 'D:\\\\Datasets\\\\Datasets\\\\EPIC_Kitchen\\\\OpticalFlow\\\\P01_04\\\\v\\\\frame_3661.jpg'\n",
      "Skipping frame: D:/Datasets/Datasets/EPIC_Kitchen/OpticalFlow/P01_04/u\\frame_3666.jpg due to error: [Errno 2] No such file or directory: 'D:\\\\Datasets\\\\Datasets\\\\EPIC_Kitchen\\\\OpticalFlow\\\\P01_04\\\\u\\\\frame_3666.jpg'\n",
      "Skipping frame: D:/Datasets/Datasets/EPIC_Kitchen/OpticalFlow/P01_04/v\\frame_3666.jpg due to error: [Errno 2] No such file or directory: 'D:\\\\Datasets\\\\Datasets\\\\EPIC_Kitchen\\\\OpticalFlow\\\\P01_04\\\\v\\\\frame_3666.jpg'\n",
      "Skipping frame: D:/Datasets/Datasets/EPIC_Kitchen/OpticalFlow/P01_04/u\\frame_3671.jpg due to error: [Errno 2] No such file or directory: 'D:\\\\Datasets\\\\Datasets\\\\EPIC_Kitchen\\\\OpticalFlow\\\\P01_04\\\\u\\\\frame_3671.jpg'\n",
      "Skipping frame: D:/Datasets/Datasets/EPIC_Kitchen/OpticalFlow/P01_04/v\\frame_3671.jpg due to error: [Errno 2] No such file or directory: 'D:\\\\Datasets\\\\Datasets\\\\EPIC_Kitchen\\\\OpticalFlow\\\\P01_04\\\\v\\\\frame_3671.jpg'\n"
     ]
    },
    {
     "name": "stderr",
     "output_type": "stream",
     "text": [
      "Extracting Features with DEFT:  59%|████████████████████████████                    | 739/1262 [01:40<00:24, 21.03it/s]"
     ]
    },
    {
     "name": "stdout",
     "output_type": "stream",
     "text": [
      "Skipping frame: D:/Datasets/Datasets/EPIC_Kitchen/OpticalFlow/P01_04/u\\frame_3676.jpg due to error: [Errno 2] No such file or directory: 'D:\\\\Datasets\\\\Datasets\\\\EPIC_Kitchen\\\\OpticalFlow\\\\P01_04\\\\u\\\\frame_3676.jpg'\n",
      "Skipping frame: D:/Datasets/Datasets/EPIC_Kitchen/OpticalFlow/P01_04/v\\frame_3676.jpg due to error: [Errno 2] No such file or directory: 'D:\\\\Datasets\\\\Datasets\\\\EPIC_Kitchen\\\\OpticalFlow\\\\P01_04\\\\v\\\\frame_3676.jpg'\n",
      "Skipping frame: D:/Datasets/Datasets/EPIC_Kitchen/OpticalFlow/P01_04/u\\frame_3681.jpg due to error: [Errno 2] No such file or directory: 'D:\\\\Datasets\\\\Datasets\\\\EPIC_Kitchen\\\\OpticalFlow\\\\P01_04\\\\u\\\\frame_3681.jpg'\n",
      "Skipping frame: D:/Datasets/Datasets/EPIC_Kitchen/OpticalFlow/P01_04/v\\frame_3681.jpg due to error: [Errno 2] No such file or directory: 'D:\\\\Datasets\\\\Datasets\\\\EPIC_Kitchen\\\\OpticalFlow\\\\P01_04\\\\v\\\\frame_3681.jpg'\n",
      "Skipping frame: D:/Datasets/Datasets/EPIC_Kitchen/OpticalFlow/P01_04/u\\frame_3686.jpg due to error: [Errno 2] No such file or directory: 'D:\\\\Datasets\\\\Datasets\\\\EPIC_Kitchen\\\\OpticalFlow\\\\P01_04\\\\u\\\\frame_3686.jpg'\n",
      "Skipping frame: D:/Datasets/Datasets/EPIC_Kitchen/OpticalFlow/P01_04/v\\frame_3686.jpg due to error: [Errno 2] No such file or directory: 'D:\\\\Datasets\\\\Datasets\\\\EPIC_Kitchen\\\\OpticalFlow\\\\P01_04\\\\v\\\\frame_3686.jpg'\n",
      "Skipping frame: D:/Datasets/Datasets/EPIC_Kitchen/OpticalFlow/P01_04/u\\frame_3691.jpg due to error: [Errno 2] No such file or directory: 'D:\\\\Datasets\\\\Datasets\\\\EPIC_Kitchen\\\\OpticalFlow\\\\P01_04\\\\u\\\\frame_3691.jpg'\n",
      "Skipping frame: D:/Datasets/Datasets/EPIC_Kitchen/OpticalFlow/P01_04/v\\frame_3691.jpg due to error: [Errno 2] No such file or directory: 'D:\\\\Datasets\\\\Datasets\\\\EPIC_Kitchen\\\\OpticalFlow\\\\P01_04\\\\v\\\\frame_3691.jpg'\n",
      "Skipping frame: D:/Datasets/Datasets/EPIC_Kitchen/OpticalFlow/P01_04/u\\frame_3696.jpg due to error: [Errno 2] No such file or directory: 'D:\\\\Datasets\\\\Datasets\\\\EPIC_Kitchen\\\\OpticalFlow\\\\P01_04\\\\u\\\\frame_3696.jpg'\n",
      "Skipping frame: D:/Datasets/Datasets/EPIC_Kitchen/OpticalFlow/P01_04/v\\frame_3696.jpg due to error: [Errno 2] No such file or directory: 'D:\\\\Datasets\\\\Datasets\\\\EPIC_Kitchen\\\\OpticalFlow\\\\P01_04\\\\v\\\\frame_3696.jpg'\n"
     ]
    },
    {
     "name": "stderr",
     "output_type": "stream",
     "text": [
      "\r",
      "Extracting Features with DEFT:  59%|████████████████████████████▏                   | 742/1262 [01:40<00:24, 20.91it/s]"
     ]
    },
    {
     "name": "stdout",
     "output_type": "stream",
     "text": [
      "Skipping frame: D:/Datasets/Datasets/EPIC_Kitchen/OpticalFlow/P01_04/u\\frame_3701.jpg due to error: [Errno 2] No such file or directory: 'D:\\\\Datasets\\\\Datasets\\\\EPIC_Kitchen\\\\OpticalFlow\\\\P01_04\\\\u\\\\frame_3701.jpg'\n",
      "Skipping frame: D:/Datasets/Datasets/EPIC_Kitchen/OpticalFlow/P01_04/v\\frame_3701.jpg due to error: [Errno 2] No such file or directory: 'D:\\\\Datasets\\\\Datasets\\\\EPIC_Kitchen\\\\OpticalFlow\\\\P01_04\\\\v\\\\frame_3701.jpg'\n",
      "Skipping frame: D:/Datasets/Datasets/EPIC_Kitchen/OpticalFlow/P01_04/u\\frame_3706.jpg due to error: [Errno 2] No such file or directory: 'D:\\\\Datasets\\\\Datasets\\\\EPIC_Kitchen\\\\OpticalFlow\\\\P01_04\\\\u\\\\frame_3706.jpg'\n",
      "Skipping frame: D:/Datasets/Datasets/EPIC_Kitchen/OpticalFlow/P01_04/v\\frame_3706.jpg due to error: [Errno 2] No such file or directory: 'D:\\\\Datasets\\\\Datasets\\\\EPIC_Kitchen\\\\OpticalFlow\\\\P01_04\\\\v\\\\frame_3706.jpg'\n",
      "Skipping frame: D:/Datasets/Datasets/EPIC_Kitchen/OpticalFlow/P01_04/u\\frame_3711.jpg due to error: [Errno 2] No such file or directory: 'D:\\\\Datasets\\\\Datasets\\\\EPIC_Kitchen\\\\OpticalFlow\\\\P01_04\\\\u\\\\frame_3711.jpg'\n",
      "Skipping frame: D:/Datasets/Datasets/EPIC_Kitchen/OpticalFlow/P01_04/v\\frame_3711.jpg due to error: [Errno 2] No such file or directory: 'D:\\\\Datasets\\\\Datasets\\\\EPIC_Kitchen\\\\OpticalFlow\\\\P01_04\\\\v\\\\frame_3711.jpg'\n",
      "Skipping frame: D:/Datasets/Datasets/EPIC_Kitchen/OpticalFlow/P01_04/u\\frame_3716.jpg due to error: [Errno 2] No such file or directory: 'D:\\\\Datasets\\\\Datasets\\\\EPIC_Kitchen\\\\OpticalFlow\\\\P01_04\\\\u\\\\frame_3716.jpg'\n",
      "Skipping frame: D:/Datasets/Datasets/EPIC_Kitchen/OpticalFlow/P01_04/v\\frame_3716.jpg due to error: [Errno 2] No such file or directory: 'D:\\\\Datasets\\\\Datasets\\\\EPIC_Kitchen\\\\OpticalFlow\\\\P01_04\\\\v\\\\frame_3716.jpg'\n"
     ]
    },
    {
     "name": "stderr",
     "output_type": "stream",
     "text": [
      "Extracting Features with DEFT:  59%|████████████████████████████▍                   | 748/1262 [01:40<00:26, 19.39it/s]"
     ]
    },
    {
     "name": "stdout",
     "output_type": "stream",
     "text": [
      "Skipping frame: D:/Datasets/Datasets/EPIC_Kitchen/OpticalFlow/P01_04/u\\frame_3721.jpg due to error: [Errno 2] No such file or directory: 'D:\\\\Datasets\\\\Datasets\\\\EPIC_Kitchen\\\\OpticalFlow\\\\P01_04\\\\u\\\\frame_3721.jpg'\n",
      "Skipping frame: D:/Datasets/Datasets/EPIC_Kitchen/OpticalFlow/P01_04/v\\frame_3721.jpg due to error: [Errno 2] No such file or directory: 'D:\\\\Datasets\\\\Datasets\\\\EPIC_Kitchen\\\\OpticalFlow\\\\P01_04\\\\v\\\\frame_3721.jpg'\n",
      "Skipping frame: D:/Datasets/Datasets/EPIC_Kitchen/OpticalFlow/P01_04/u\\frame_3726.jpg due to error: [Errno 2] No such file or directory: 'D:\\\\Datasets\\\\Datasets\\\\EPIC_Kitchen\\\\OpticalFlow\\\\P01_04\\\\u\\\\frame_3726.jpg'\n",
      "Skipping frame: D:/Datasets/Datasets/EPIC_Kitchen/OpticalFlow/P01_04/v\\frame_3726.jpg due to error: [Errno 2] No such file or directory: 'D:\\\\Datasets\\\\Datasets\\\\EPIC_Kitchen\\\\OpticalFlow\\\\P01_04\\\\v\\\\frame_3726.jpg'\n",
      "Skipping frame: D:/Datasets/Datasets/EPIC_Kitchen/OpticalFlow/P01_04/u\\frame_3731.jpg due to error: [Errno 2] No such file or directory: 'D:\\\\Datasets\\\\Datasets\\\\EPIC_Kitchen\\\\OpticalFlow\\\\P01_04\\\\u\\\\frame_3731.jpg'\n",
      "Skipping frame: D:/Datasets/Datasets/EPIC_Kitchen/OpticalFlow/P01_04/v\\frame_3731.jpg due to error: [Errno 2] No such file or directory: 'D:\\\\Datasets\\\\Datasets\\\\EPIC_Kitchen\\\\OpticalFlow\\\\P01_04\\\\v\\\\frame_3731.jpg'\n",
      "Skipping frame: D:/Datasets/Datasets/EPIC_Kitchen/OpticalFlow/P01_04/u\\frame_3736.jpg due to error: [Errno 2] No such file or directory: 'D:\\\\Datasets\\\\Datasets\\\\EPIC_Kitchen\\\\OpticalFlow\\\\P01_04\\\\u\\\\frame_3736.jpg'\n",
      "Skipping frame: D:/Datasets/Datasets/EPIC_Kitchen/OpticalFlow/P01_04/v\\frame_3736.jpg due to error: [Errno 2] No such file or directory: 'D:\\\\Datasets\\\\Datasets\\\\EPIC_Kitchen\\\\OpticalFlow\\\\P01_04\\\\v\\\\frame_3736.jpg'\n"
     ]
    },
    {
     "name": "stderr",
     "output_type": "stream",
     "text": [
      "Extracting Features with DEFT:  60%|████████████████████████████▌                   | 752/1262 [01:40<00:27, 18.78it/s]"
     ]
    },
    {
     "name": "stdout",
     "output_type": "stream",
     "text": [
      "Skipping frame: D:/Datasets/Datasets/EPIC_Kitchen/OpticalFlow/P01_04/u\\frame_3741.jpg due to error: [Errno 2] No such file or directory: 'D:\\\\Datasets\\\\Datasets\\\\EPIC_Kitchen\\\\OpticalFlow\\\\P01_04\\\\u\\\\frame_3741.jpg'\n",
      "Skipping frame: D:/Datasets/Datasets/EPIC_Kitchen/OpticalFlow/P01_04/v\\frame_3741.jpg due to error: [Errno 2] No such file or directory: 'D:\\\\Datasets\\\\Datasets\\\\EPIC_Kitchen\\\\OpticalFlow\\\\P01_04\\\\v\\\\frame_3741.jpg'\n",
      "Skipping frame: D:/Datasets/Datasets/EPIC_Kitchen/OpticalFlow/P01_04/u\\frame_3746.jpg due to error: [Errno 2] No such file or directory: 'D:\\\\Datasets\\\\Datasets\\\\EPIC_Kitchen\\\\OpticalFlow\\\\P01_04\\\\u\\\\frame_3746.jpg'\n",
      "Skipping frame: D:/Datasets/Datasets/EPIC_Kitchen/OpticalFlow/P01_04/v\\frame_3746.jpg due to error: [Errno 2] No such file or directory: 'D:\\\\Datasets\\\\Datasets\\\\EPIC_Kitchen\\\\OpticalFlow\\\\P01_04\\\\v\\\\frame_3746.jpg'\n",
      "Skipping frame: D:/Datasets/Datasets/EPIC_Kitchen/OpticalFlow/P01_04/u\\frame_3751.jpg due to error: [Errno 2] No such file or directory: 'D:\\\\Datasets\\\\Datasets\\\\EPIC_Kitchen\\\\OpticalFlow\\\\P01_04\\\\u\\\\frame_3751.jpg'\n",
      "Skipping frame: D:/Datasets/Datasets/EPIC_Kitchen/OpticalFlow/P01_04/v\\frame_3751.jpg due to error: [Errno 2] No such file or directory: 'D:\\\\Datasets\\\\Datasets\\\\EPIC_Kitchen\\\\OpticalFlow\\\\P01_04\\\\v\\\\frame_3751.jpg'\n",
      "Skipping frame: D:/Datasets/Datasets/EPIC_Kitchen/OpticalFlow/P01_04/u\\frame_3756.jpg due to error: [Errno 2] No such file or directory: 'D:\\\\Datasets\\\\Datasets\\\\EPIC_Kitchen\\\\OpticalFlow\\\\P01_04\\\\u\\\\frame_3756.jpg'\n",
      "Skipping frame: D:/Datasets/Datasets/EPIC_Kitchen/OpticalFlow/P01_04/v\\frame_3756.jpg due to error: [Errno 2] No such file or directory: 'D:\\\\Datasets\\\\Datasets\\\\EPIC_Kitchen\\\\OpticalFlow\\\\P01_04\\\\v\\\\frame_3756.jpg'\n"
     ]
    },
    {
     "name": "stderr",
     "output_type": "stream",
     "text": [
      "Extracting Features with DEFT:  60%|████████████████████████████▊                   | 756/1262 [01:41<00:27, 18.74it/s]"
     ]
    },
    {
     "name": "stdout",
     "output_type": "stream",
     "text": [
      "Skipping frame: D:/Datasets/Datasets/EPIC_Kitchen/OpticalFlow/P01_04/u\\frame_3761.jpg due to error: [Errno 2] No such file or directory: 'D:\\\\Datasets\\\\Datasets\\\\EPIC_Kitchen\\\\OpticalFlow\\\\P01_04\\\\u\\\\frame_3761.jpg'\n",
      "Skipping frame: D:/Datasets/Datasets/EPIC_Kitchen/OpticalFlow/P01_04/v\\frame_3761.jpg due to error: [Errno 2] No such file or directory: 'D:\\\\Datasets\\\\Datasets\\\\EPIC_Kitchen\\\\OpticalFlow\\\\P01_04\\\\v\\\\frame_3761.jpg'\n",
      "Skipping frame: D:/Datasets/Datasets/EPIC_Kitchen/OpticalFlow/P01_04/u\\frame_3766.jpg due to error: [Errno 2] No such file or directory: 'D:\\\\Datasets\\\\Datasets\\\\EPIC_Kitchen\\\\OpticalFlow\\\\P01_04\\\\u\\\\frame_3766.jpg'\n",
      "Skipping frame: D:/Datasets/Datasets/EPIC_Kitchen/OpticalFlow/P01_04/v\\frame_3766.jpg due to error: [Errno 2] No such file or directory: 'D:\\\\Datasets\\\\Datasets\\\\EPIC_Kitchen\\\\OpticalFlow\\\\P01_04\\\\v\\\\frame_3766.jpg'\n",
      "Skipping frame: D:/Datasets/Datasets/EPIC_Kitchen/OpticalFlow/P01_04/u\\frame_3771.jpg due to error: [Errno 2] No such file or directory: 'D:\\\\Datasets\\\\Datasets\\\\EPIC_Kitchen\\\\OpticalFlow\\\\P01_04\\\\u\\\\frame_3771.jpg'\n",
      "Skipping frame: D:/Datasets/Datasets/EPIC_Kitchen/OpticalFlow/P01_04/v\\frame_3771.jpg due to error: [Errno 2] No such file or directory: 'D:\\\\Datasets\\\\Datasets\\\\EPIC_Kitchen\\\\OpticalFlow\\\\P01_04\\\\v\\\\frame_3771.jpg'\n",
      "Skipping frame: D:/Datasets/Datasets/EPIC_Kitchen/OpticalFlow/P01_04/u\\frame_3776.jpg due to error: [Errno 2] No such file or directory: 'D:\\\\Datasets\\\\Datasets\\\\EPIC_Kitchen\\\\OpticalFlow\\\\P01_04\\\\u\\\\frame_3776.jpg'\n",
      "Skipping frame: D:/Datasets/Datasets/EPIC_Kitchen/OpticalFlow/P01_04/v\\frame_3776.jpg due to error: [Errno 2] No such file or directory: 'D:\\\\Datasets\\\\Datasets\\\\EPIC_Kitchen\\\\OpticalFlow\\\\P01_04\\\\v\\\\frame_3776.jpg'\n"
     ]
    },
    {
     "name": "stderr",
     "output_type": "stream",
     "text": [
      "Extracting Features with DEFT:  60%|████████████████████████████▉                   | 760/1262 [01:41<00:27, 18.29it/s]"
     ]
    },
    {
     "name": "stdout",
     "output_type": "stream",
     "text": [
      "Skipping frame: D:/Datasets/Datasets/EPIC_Kitchen/OpticalFlow/P01_04/u\\frame_3781.jpg due to error: [Errno 2] No such file or directory: 'D:\\\\Datasets\\\\Datasets\\\\EPIC_Kitchen\\\\OpticalFlow\\\\P01_04\\\\u\\\\frame_3781.jpg'\n",
      "Skipping frame: D:/Datasets/Datasets/EPIC_Kitchen/OpticalFlow/P01_04/v\\frame_3781.jpg due to error: [Errno 2] No such file or directory: 'D:\\\\Datasets\\\\Datasets\\\\EPIC_Kitchen\\\\OpticalFlow\\\\P01_04\\\\v\\\\frame_3781.jpg'\n",
      "Skipping frame: D:/Datasets/Datasets/EPIC_Kitchen/OpticalFlow/P01_04/u\\frame_3786.jpg due to error: [Errno 2] No such file or directory: 'D:\\\\Datasets\\\\Datasets\\\\EPIC_Kitchen\\\\OpticalFlow\\\\P01_04\\\\u\\\\frame_3786.jpg'\n",
      "Skipping frame: D:/Datasets/Datasets/EPIC_Kitchen/OpticalFlow/P01_04/v\\frame_3786.jpg due to error: [Errno 2] No such file or directory: 'D:\\\\Datasets\\\\Datasets\\\\EPIC_Kitchen\\\\OpticalFlow\\\\P01_04\\\\v\\\\frame_3786.jpg'\n",
      "Skipping frame: D:/Datasets/Datasets/EPIC_Kitchen/OpticalFlow/P01_04/u\\frame_3791.jpg due to error: [Errno 2] No such file or directory: 'D:\\\\Datasets\\\\Datasets\\\\EPIC_Kitchen\\\\OpticalFlow\\\\P01_04\\\\u\\\\frame_3791.jpg'\n",
      "Skipping frame: D:/Datasets/Datasets/EPIC_Kitchen/OpticalFlow/P01_04/v\\frame_3791.jpg due to error: [Errno 2] No such file or directory: 'D:\\\\Datasets\\\\Datasets\\\\EPIC_Kitchen\\\\OpticalFlow\\\\P01_04\\\\v\\\\frame_3791.jpg'\n",
      "Skipping frame: D:/Datasets/Datasets/EPIC_Kitchen/OpticalFlow/P01_04/u\\frame_3796.jpg due to error: [Errno 2] No such file or directory: 'D:\\\\Datasets\\\\Datasets\\\\EPIC_Kitchen\\\\OpticalFlow\\\\P01_04\\\\u\\\\frame_3796.jpg'\n",
      "Skipping frame: D:/Datasets/Datasets/EPIC_Kitchen/OpticalFlow/P01_04/v\\frame_3796.jpg due to error: [Errno 2] No such file or directory: 'D:\\\\Datasets\\\\Datasets\\\\EPIC_Kitchen\\\\OpticalFlow\\\\P01_04\\\\v\\\\frame_3796.jpg'\n"
     ]
    },
    {
     "name": "stderr",
     "output_type": "stream",
     "text": [
      "Extracting Features with DEFT:  61%|█████████████████████████████                   | 764/1262 [01:41<00:27, 18.35it/s]"
     ]
    },
    {
     "name": "stdout",
     "output_type": "stream",
     "text": [
      "Skipping frame: D:/Datasets/Datasets/EPIC_Kitchen/OpticalFlow/P01_04/u\\frame_3801.jpg due to error: [Errno 2] No such file or directory: 'D:\\\\Datasets\\\\Datasets\\\\EPIC_Kitchen\\\\OpticalFlow\\\\P01_04\\\\u\\\\frame_3801.jpg'\n",
      "Skipping frame: D:/Datasets/Datasets/EPIC_Kitchen/OpticalFlow/P01_04/v\\frame_3801.jpg due to error: [Errno 2] No such file or directory: 'D:\\\\Datasets\\\\Datasets\\\\EPIC_Kitchen\\\\OpticalFlow\\\\P01_04\\\\v\\\\frame_3801.jpg'\n",
      "Skipping frame: D:/Datasets/Datasets/EPIC_Kitchen/OpticalFlow/P01_04/u\\frame_3806.jpg due to error: [Errno 2] No such file or directory: 'D:\\\\Datasets\\\\Datasets\\\\EPIC_Kitchen\\\\OpticalFlow\\\\P01_04\\\\u\\\\frame_3806.jpg'\n",
      "Skipping frame: D:/Datasets/Datasets/EPIC_Kitchen/OpticalFlow/P01_04/v\\frame_3806.jpg due to error: [Errno 2] No such file or directory: 'D:\\\\Datasets\\\\Datasets\\\\EPIC_Kitchen\\\\OpticalFlow\\\\P01_04\\\\v\\\\frame_3806.jpg'\n",
      "Skipping frame: D:/Datasets/Datasets/EPIC_Kitchen/OpticalFlow/P01_04/u\\frame_3811.jpg due to error: [Errno 2] No such file or directory: 'D:\\\\Datasets\\\\Datasets\\\\EPIC_Kitchen\\\\OpticalFlow\\\\P01_04\\\\u\\\\frame_3811.jpg'\n",
      "Skipping frame: D:/Datasets/Datasets/EPIC_Kitchen/OpticalFlow/P01_04/v\\frame_3811.jpg due to error: [Errno 2] No such file or directory: 'D:\\\\Datasets\\\\Datasets\\\\EPIC_Kitchen\\\\OpticalFlow\\\\P01_04\\\\v\\\\frame_3811.jpg'\n",
      "Skipping frame: D:/Datasets/Datasets/EPIC_Kitchen/OpticalFlow/P01_04/u\\frame_3816.jpg due to error: [Errno 2] No such file or directory: 'D:\\\\Datasets\\\\Datasets\\\\EPIC_Kitchen\\\\OpticalFlow\\\\P01_04\\\\u\\\\frame_3816.jpg'\n",
      "Skipping frame: D:/Datasets/Datasets/EPIC_Kitchen/OpticalFlow/P01_04/v\\frame_3816.jpg due to error: [Errno 2] No such file or directory: 'D:\\\\Datasets\\\\Datasets\\\\EPIC_Kitchen\\\\OpticalFlow\\\\P01_04\\\\v\\\\frame_3816.jpg'\n"
     ]
    },
    {
     "name": "stderr",
     "output_type": "stream",
     "text": [
      "Extracting Features with DEFT:  61%|█████████████████████████████▏                  | 768/1262 [01:41<00:27, 18.13it/s]"
     ]
    },
    {
     "name": "stdout",
     "output_type": "stream",
     "text": [
      "Skipping frame: D:/Datasets/Datasets/EPIC_Kitchen/OpticalFlow/P01_04/u\\frame_3821.jpg due to error: [Errno 2] No such file or directory: 'D:\\\\Datasets\\\\Datasets\\\\EPIC_Kitchen\\\\OpticalFlow\\\\P01_04\\\\u\\\\frame_3821.jpg'\n",
      "Skipping frame: D:/Datasets/Datasets/EPIC_Kitchen/OpticalFlow/P01_04/v\\frame_3821.jpg due to error: [Errno 2] No such file or directory: 'D:\\\\Datasets\\\\Datasets\\\\EPIC_Kitchen\\\\OpticalFlow\\\\P01_04\\\\v\\\\frame_3821.jpg'\n",
      "Skipping frame: D:/Datasets/Datasets/EPIC_Kitchen/OpticalFlow/P01_04/u\\frame_3826.jpg due to error: [Errno 2] No such file or directory: 'D:\\\\Datasets\\\\Datasets\\\\EPIC_Kitchen\\\\OpticalFlow\\\\P01_04\\\\u\\\\frame_3826.jpg'\n",
      "Skipping frame: D:/Datasets/Datasets/EPIC_Kitchen/OpticalFlow/P01_04/v\\frame_3826.jpg due to error: [Errno 2] No such file or directory: 'D:\\\\Datasets\\\\Datasets\\\\EPIC_Kitchen\\\\OpticalFlow\\\\P01_04\\\\v\\\\frame_3826.jpg'\n",
      "Skipping frame: D:/Datasets/Datasets/EPIC_Kitchen/OpticalFlow/P01_04/u\\frame_3831.jpg due to error: [Errno 2] No such file or directory: 'D:\\\\Datasets\\\\Datasets\\\\EPIC_Kitchen\\\\OpticalFlow\\\\P01_04\\\\u\\\\frame_3831.jpg'\n",
      "Skipping frame: D:/Datasets/Datasets/EPIC_Kitchen/OpticalFlow/P01_04/v\\frame_3831.jpg due to error: [Errno 2] No such file or directory: 'D:\\\\Datasets\\\\Datasets\\\\EPIC_Kitchen\\\\OpticalFlow\\\\P01_04\\\\v\\\\frame_3831.jpg'\n",
      "Skipping frame: D:/Datasets/Datasets/EPIC_Kitchen/OpticalFlow/P01_04/u\\frame_3836.jpg due to error: [Errno 2] No such file or directory: 'D:\\\\Datasets\\\\Datasets\\\\EPIC_Kitchen\\\\OpticalFlow\\\\P01_04\\\\u\\\\frame_3836.jpg'\n",
      "Skipping frame: D:/Datasets/Datasets/EPIC_Kitchen/OpticalFlow/P01_04/v\\frame_3836.jpg due to error: [Errno 2] No such file or directory: 'D:\\\\Datasets\\\\Datasets\\\\EPIC_Kitchen\\\\OpticalFlow\\\\P01_04\\\\v\\\\frame_3836.jpg'\n"
     ]
    },
    {
     "name": "stderr",
     "output_type": "stream",
     "text": [
      "Extracting Features with DEFT:  61%|█████████████████████████████▍                  | 773/1262 [01:42<00:25, 19.04it/s]"
     ]
    },
    {
     "name": "stdout",
     "output_type": "stream",
     "text": [
      "Skipping frame: D:/Datasets/Datasets/EPIC_Kitchen/OpticalFlow/P01_04/u\\frame_3841.jpg due to error: [Errno 2] No such file or directory: 'D:\\\\Datasets\\\\Datasets\\\\EPIC_Kitchen\\\\OpticalFlow\\\\P01_04\\\\u\\\\frame_3841.jpg'\n",
      "Skipping frame: D:/Datasets/Datasets/EPIC_Kitchen/OpticalFlow/P01_04/v\\frame_3841.jpg due to error: [Errno 2] No such file or directory: 'D:\\\\Datasets\\\\Datasets\\\\EPIC_Kitchen\\\\OpticalFlow\\\\P01_04\\\\v\\\\frame_3841.jpg'\n",
      "Skipping frame: D:/Datasets/Datasets/EPIC_Kitchen/OpticalFlow/P01_04/u\\frame_3846.jpg due to error: [Errno 2] No such file or directory: 'D:\\\\Datasets\\\\Datasets\\\\EPIC_Kitchen\\\\OpticalFlow\\\\P01_04\\\\u\\\\frame_3846.jpg'\n",
      "Skipping frame: D:/Datasets/Datasets/EPIC_Kitchen/OpticalFlow/P01_04/v\\frame_3846.jpg due to error: [Errno 2] No such file or directory: 'D:\\\\Datasets\\\\Datasets\\\\EPIC_Kitchen\\\\OpticalFlow\\\\P01_04\\\\v\\\\frame_3846.jpg'\n",
      "Skipping frame: D:/Datasets/Datasets/EPIC_Kitchen/OpticalFlow/P01_04/u\\frame_3851.jpg due to error: [Errno 2] No such file or directory: 'D:\\\\Datasets\\\\Datasets\\\\EPIC_Kitchen\\\\OpticalFlow\\\\P01_04\\\\u\\\\frame_3851.jpg'\n",
      "Skipping frame: D:/Datasets/Datasets/EPIC_Kitchen/OpticalFlow/P01_04/v\\frame_3851.jpg due to error: [Errno 2] No such file or directory: 'D:\\\\Datasets\\\\Datasets\\\\EPIC_Kitchen\\\\OpticalFlow\\\\P01_04\\\\v\\\\frame_3851.jpg'\n",
      "Skipping frame: D:/Datasets/Datasets/EPIC_Kitchen/OpticalFlow/P01_04/u\\frame_3856.jpg due to error: [Errno 2] No such file or directory: 'D:\\\\Datasets\\\\Datasets\\\\EPIC_Kitchen\\\\OpticalFlow\\\\P01_04\\\\u\\\\frame_3856.jpg'\n",
      "Skipping frame: D:/Datasets/Datasets/EPIC_Kitchen/OpticalFlow/P01_04/v\\frame_3856.jpg due to error: [Errno 2] No such file or directory: 'D:\\\\Datasets\\\\Datasets\\\\EPIC_Kitchen\\\\OpticalFlow\\\\P01_04\\\\v\\\\frame_3856.jpg'\n",
      "Skipping frame: D:/Datasets/Datasets/EPIC_Kitchen/OpticalFlow/P01_04/u\\frame_3861.jpg due to error: [Errno 2] No such file or directory: 'D:\\\\Datasets\\\\Datasets\\\\EPIC_Kitchen\\\\OpticalFlow\\\\P01_04\\\\u\\\\frame_3861.jpg'\n",
      "Skipping frame: D:/Datasets/Datasets/EPIC_Kitchen/OpticalFlow/P01_04/v\\frame_3861.jpg due to error: [Errno 2] No such file or directory: 'D:\\\\Datasets\\\\Datasets\\\\EPIC_Kitchen\\\\OpticalFlow\\\\P01_04\\\\v\\\\frame_3861.jpg'\n"
     ]
    },
    {
     "name": "stderr",
     "output_type": "stream",
     "text": [
      "Extracting Features with DEFT:  62%|█████████████████████████████▌                  | 777/1262 [01:42<00:25, 19.03it/s]"
     ]
    },
    {
     "name": "stdout",
     "output_type": "stream",
     "text": [
      "Skipping frame: D:/Datasets/Datasets/EPIC_Kitchen/OpticalFlow/P01_04/u\\frame_3866.jpg due to error: [Errno 2] No such file or directory: 'D:\\\\Datasets\\\\Datasets\\\\EPIC_Kitchen\\\\OpticalFlow\\\\P01_04\\\\u\\\\frame_3866.jpg'\n",
      "Skipping frame: D:/Datasets/Datasets/EPIC_Kitchen/OpticalFlow/P01_04/v\\frame_3866.jpg due to error: [Errno 2] No such file or directory: 'D:\\\\Datasets\\\\Datasets\\\\EPIC_Kitchen\\\\OpticalFlow\\\\P01_04\\\\v\\\\frame_3866.jpg'\n",
      "Skipping frame: D:/Datasets/Datasets/EPIC_Kitchen/OpticalFlow/P01_04/u\\frame_3871.jpg due to error: [Errno 2] No such file or directory: 'D:\\\\Datasets\\\\Datasets\\\\EPIC_Kitchen\\\\OpticalFlow\\\\P01_04\\\\u\\\\frame_3871.jpg'\n",
      "Skipping frame: D:/Datasets/Datasets/EPIC_Kitchen/OpticalFlow/P01_04/v\\frame_3871.jpg due to error: [Errno 2] No such file or directory: 'D:\\\\Datasets\\\\Datasets\\\\EPIC_Kitchen\\\\OpticalFlow\\\\P01_04\\\\v\\\\frame_3871.jpg'\n",
      "Skipping frame: D:/Datasets/Datasets/EPIC_Kitchen/OpticalFlow/P01_04/u\\frame_3876.jpg due to error: [Errno 2] No such file or directory: 'D:\\\\Datasets\\\\Datasets\\\\EPIC_Kitchen\\\\OpticalFlow\\\\P01_04\\\\u\\\\frame_3876.jpg'\n",
      "Skipping frame: D:/Datasets/Datasets/EPIC_Kitchen/OpticalFlow/P01_04/v\\frame_3876.jpg due to error: [Errno 2] No such file or directory: 'D:\\\\Datasets\\\\Datasets\\\\EPIC_Kitchen\\\\OpticalFlow\\\\P01_04\\\\v\\\\frame_3876.jpg'\n",
      "Skipping frame: D:/Datasets/Datasets/EPIC_Kitchen/OpticalFlow/P01_04/u\\frame_3881.jpg due to error: [Errno 2] No such file or directory: 'D:\\\\Datasets\\\\Datasets\\\\EPIC_Kitchen\\\\OpticalFlow\\\\P01_04\\\\u\\\\frame_3881.jpg'\n",
      "Skipping frame: D:/Datasets/Datasets/EPIC_Kitchen/OpticalFlow/P01_04/v\\frame_3881.jpg due to error: [Errno 2] No such file or directory: 'D:\\\\Datasets\\\\Datasets\\\\EPIC_Kitchen\\\\OpticalFlow\\\\P01_04\\\\v\\\\frame_3881.jpg'\n"
     ]
    },
    {
     "name": "stderr",
     "output_type": "stream",
     "text": [
      "Extracting Features with DEFT:  62%|█████████████████████████████▋                  | 782/1262 [01:42<00:24, 19.65it/s]"
     ]
    },
    {
     "name": "stdout",
     "output_type": "stream",
     "text": [
      "Skipping frame: D:/Datasets/Datasets/EPIC_Kitchen/OpticalFlow/P01_04/u\\frame_3886.jpg due to error: [Errno 2] No such file or directory: 'D:\\\\Datasets\\\\Datasets\\\\EPIC_Kitchen\\\\OpticalFlow\\\\P01_04\\\\u\\\\frame_3886.jpg'\n",
      "Skipping frame: D:/Datasets/Datasets/EPIC_Kitchen/OpticalFlow/P01_04/v\\frame_3886.jpg due to error: [Errno 2] No such file or directory: 'D:\\\\Datasets\\\\Datasets\\\\EPIC_Kitchen\\\\OpticalFlow\\\\P01_04\\\\v\\\\frame_3886.jpg'\n",
      "Skipping frame: D:/Datasets/Datasets/EPIC_Kitchen/OpticalFlow/P01_04/u\\frame_3891.jpg due to error: [Errno 2] No such file or directory: 'D:\\\\Datasets\\\\Datasets\\\\EPIC_Kitchen\\\\OpticalFlow\\\\P01_04\\\\u\\\\frame_3891.jpg'\n",
      "Skipping frame: D:/Datasets/Datasets/EPIC_Kitchen/OpticalFlow/P01_04/v\\frame_3891.jpg due to error: [Errno 2] No such file or directory: 'D:\\\\Datasets\\\\Datasets\\\\EPIC_Kitchen\\\\OpticalFlow\\\\P01_04\\\\v\\\\frame_3891.jpg'\n",
      "Skipping frame: D:/Datasets/Datasets/EPIC_Kitchen/OpticalFlow/P01_04/u\\frame_3896.jpg due to error: [Errno 2] No such file or directory: 'D:\\\\Datasets\\\\Datasets\\\\EPIC_Kitchen\\\\OpticalFlow\\\\P01_04\\\\u\\\\frame_3896.jpg'\n",
      "Skipping frame: D:/Datasets/Datasets/EPIC_Kitchen/OpticalFlow/P01_04/v\\frame_3896.jpg due to error: [Errno 2] No such file or directory: 'D:\\\\Datasets\\\\Datasets\\\\EPIC_Kitchen\\\\OpticalFlow\\\\P01_04\\\\v\\\\frame_3896.jpg'\n",
      "Skipping frame: D:/Datasets/Datasets/EPIC_Kitchen/OpticalFlow/P01_04/u\\frame_3901.jpg due to error: [Errno 2] No such file or directory: 'D:\\\\Datasets\\\\Datasets\\\\EPIC_Kitchen\\\\OpticalFlow\\\\P01_04\\\\u\\\\frame_3901.jpg'\n",
      "Skipping frame: D:/Datasets/Datasets/EPIC_Kitchen/OpticalFlow/P01_04/v\\frame_3901.jpg due to error: [Errno 2] No such file or directory: 'D:\\\\Datasets\\\\Datasets\\\\EPIC_Kitchen\\\\OpticalFlow\\\\P01_04\\\\v\\\\frame_3901.jpg'\n",
      "Skipping frame: D:/Datasets/Datasets/EPIC_Kitchen/OpticalFlow/P01_04/u\\frame_3906.jpg due to error: [Errno 2] No such file or directory: 'D:\\\\Datasets\\\\Datasets\\\\EPIC_Kitchen\\\\OpticalFlow\\\\P01_04\\\\u\\\\frame_3906.jpg'\n",
      "Skipping frame: D:/Datasets/Datasets/EPIC_Kitchen/OpticalFlow/P01_04/v\\frame_3906.jpg due to error: [Errno 2] No such file or directory: 'D:\\\\Datasets\\\\Datasets\\\\EPIC_Kitchen\\\\OpticalFlow\\\\P01_04\\\\v\\\\frame_3906.jpg'\n"
     ]
    },
    {
     "name": "stderr",
     "output_type": "stream",
     "text": [
      "Extracting Features with DEFT:  62%|█████████████████████████████▉                  | 787/1262 [01:42<00:23, 19.98it/s]"
     ]
    },
    {
     "name": "stdout",
     "output_type": "stream",
     "text": [
      "Skipping frame: D:/Datasets/Datasets/EPIC_Kitchen/OpticalFlow/P01_04/u\\frame_3911.jpg due to error: [Errno 2] No such file or directory: 'D:\\\\Datasets\\\\Datasets\\\\EPIC_Kitchen\\\\OpticalFlow\\\\P01_04\\\\u\\\\frame_3911.jpg'\n",
      "Skipping frame: D:/Datasets/Datasets/EPIC_Kitchen/OpticalFlow/P01_04/v\\frame_3911.jpg due to error: [Errno 2] No such file or directory: 'D:\\\\Datasets\\\\Datasets\\\\EPIC_Kitchen\\\\OpticalFlow\\\\P01_04\\\\v\\\\frame_3911.jpg'\n",
      "Skipping frame: D:/Datasets/Datasets/EPIC_Kitchen/OpticalFlow/P01_04/u\\frame_3916.jpg due to error: [Errno 2] No such file or directory: 'D:\\\\Datasets\\\\Datasets\\\\EPIC_Kitchen\\\\OpticalFlow\\\\P01_04\\\\u\\\\frame_3916.jpg'\n",
      "Skipping frame: D:/Datasets/Datasets/EPIC_Kitchen/OpticalFlow/P01_04/v\\frame_3916.jpg due to error: [Errno 2] No such file or directory: 'D:\\\\Datasets\\\\Datasets\\\\EPIC_Kitchen\\\\OpticalFlow\\\\P01_04\\\\v\\\\frame_3916.jpg'\n",
      "Skipping frame: D:/Datasets/Datasets/EPIC_Kitchen/OpticalFlow/P01_04/u\\frame_3921.jpg due to error: [Errno 2] No such file or directory: 'D:\\\\Datasets\\\\Datasets\\\\EPIC_Kitchen\\\\OpticalFlow\\\\P01_04\\\\u\\\\frame_3921.jpg'\n",
      "Skipping frame: D:/Datasets/Datasets/EPIC_Kitchen/OpticalFlow/P01_04/v\\frame_3921.jpg due to error: [Errno 2] No such file or directory: 'D:\\\\Datasets\\\\Datasets\\\\EPIC_Kitchen\\\\OpticalFlow\\\\P01_04\\\\v\\\\frame_3921.jpg'\n",
      "Skipping frame: D:/Datasets/Datasets/EPIC_Kitchen/OpticalFlow/P01_04/u\\frame_3926.jpg due to error: [Errno 2] No such file or directory: 'D:\\\\Datasets\\\\Datasets\\\\EPIC_Kitchen\\\\OpticalFlow\\\\P01_04\\\\u\\\\frame_3926.jpg'\n",
      "Skipping frame: D:/Datasets/Datasets/EPIC_Kitchen/OpticalFlow/P01_04/v\\frame_3926.jpg due to error: [Errno 2] No such file or directory: 'D:\\\\Datasets\\\\Datasets\\\\EPIC_Kitchen\\\\OpticalFlow\\\\P01_04\\\\v\\\\frame_3926.jpg'\n",
      "Skipping frame: D:/Datasets/Datasets/EPIC_Kitchen/OpticalFlow/P01_04/u\\frame_3931.jpg due to error: [Errno 2] No such file or directory: 'D:\\\\Datasets\\\\Datasets\\\\EPIC_Kitchen\\\\OpticalFlow\\\\P01_04\\\\u\\\\frame_3931.jpg'\n",
      "Skipping frame: D:/Datasets/Datasets/EPIC_Kitchen/OpticalFlow/P01_04/v\\frame_3931.jpg due to error: [Errno 2] No such file or directory: 'D:\\\\Datasets\\\\Datasets\\\\EPIC_Kitchen\\\\OpticalFlow\\\\P01_04\\\\v\\\\frame_3931.jpg'\n"
     ]
    },
    {
     "name": "stderr",
     "output_type": "stream",
     "text": [
      "Extracting Features with DEFT:  63%|██████████████████████████████                  | 791/1262 [01:43<00:24, 19.21it/s]"
     ]
    },
    {
     "name": "stdout",
     "output_type": "stream",
     "text": [
      "Skipping frame: D:/Datasets/Datasets/EPIC_Kitchen/OpticalFlow/P01_04/u\\frame_3936.jpg due to error: [Errno 2] No such file or directory: 'D:\\\\Datasets\\\\Datasets\\\\EPIC_Kitchen\\\\OpticalFlow\\\\P01_04\\\\u\\\\frame_3936.jpg'\n",
      "Skipping frame: D:/Datasets/Datasets/EPIC_Kitchen/OpticalFlow/P01_04/v\\frame_3936.jpg due to error: [Errno 2] No such file or directory: 'D:\\\\Datasets\\\\Datasets\\\\EPIC_Kitchen\\\\OpticalFlow\\\\P01_04\\\\v\\\\frame_3936.jpg'\n",
      "Skipping frame: D:/Datasets/Datasets/EPIC_Kitchen/OpticalFlow/P01_04/u\\frame_3941.jpg due to error: [Errno 2] No such file or directory: 'D:\\\\Datasets\\\\Datasets\\\\EPIC_Kitchen\\\\OpticalFlow\\\\P01_04\\\\u\\\\frame_3941.jpg'\n",
      "Skipping frame: D:/Datasets/Datasets/EPIC_Kitchen/OpticalFlow/P01_04/v\\frame_3941.jpg due to error: [Errno 2] No such file or directory: 'D:\\\\Datasets\\\\Datasets\\\\EPIC_Kitchen\\\\OpticalFlow\\\\P01_04\\\\v\\\\frame_3941.jpg'\n",
      "Skipping frame: D:/Datasets/Datasets/EPIC_Kitchen/OpticalFlow/P01_04/u\\frame_3946.jpg due to error: [Errno 2] No such file or directory: 'D:\\\\Datasets\\\\Datasets\\\\EPIC_Kitchen\\\\OpticalFlow\\\\P01_04\\\\u\\\\frame_3946.jpg'\n",
      "Skipping frame: D:/Datasets/Datasets/EPIC_Kitchen/OpticalFlow/P01_04/v\\frame_3946.jpg due to error: [Errno 2] No such file or directory: 'D:\\\\Datasets\\\\Datasets\\\\EPIC_Kitchen\\\\OpticalFlow\\\\P01_04\\\\v\\\\frame_3946.jpg'\n",
      "Skipping frame: D:/Datasets/Datasets/EPIC_Kitchen/OpticalFlow/P01_04/u\\frame_3951.jpg due to error: [Errno 2] No such file or directory: 'D:\\\\Datasets\\\\Datasets\\\\EPIC_Kitchen\\\\OpticalFlow\\\\P01_04\\\\u\\\\frame_3951.jpg'\n",
      "Skipping frame: D:/Datasets/Datasets/EPIC_Kitchen/OpticalFlow/P01_04/v\\frame_3951.jpg due to error: [Errno 2] No such file or directory: 'D:\\\\Datasets\\\\Datasets\\\\EPIC_Kitchen\\\\OpticalFlow\\\\P01_04\\\\v\\\\frame_3951.jpg'\n"
     ]
    },
    {
     "name": "stderr",
     "output_type": "stream",
     "text": [
      "Extracting Features with DEFT:  63%|██████████████████████████████▏                 | 795/1262 [01:43<00:24, 19.03it/s]"
     ]
    },
    {
     "name": "stdout",
     "output_type": "stream",
     "text": [
      "Skipping frame: D:/Datasets/Datasets/EPIC_Kitchen/OpticalFlow/P01_04/u\\frame_3956.jpg due to error: [Errno 2] No such file or directory: 'D:\\\\Datasets\\\\Datasets\\\\EPIC_Kitchen\\\\OpticalFlow\\\\P01_04\\\\u\\\\frame_3956.jpg'\n",
      "Skipping frame: D:/Datasets/Datasets/EPIC_Kitchen/OpticalFlow/P01_04/v\\frame_3956.jpg due to error: [Errno 2] No such file or directory: 'D:\\\\Datasets\\\\Datasets\\\\EPIC_Kitchen\\\\OpticalFlow\\\\P01_04\\\\v\\\\frame_3956.jpg'\n",
      "Skipping frame: D:/Datasets/Datasets/EPIC_Kitchen/OpticalFlow/P01_04/u\\frame_3961.jpg due to error: [Errno 2] No such file or directory: 'D:\\\\Datasets\\\\Datasets\\\\EPIC_Kitchen\\\\OpticalFlow\\\\P01_04\\\\u\\\\frame_3961.jpg'\n",
      "Skipping frame: D:/Datasets/Datasets/EPIC_Kitchen/OpticalFlow/P01_04/v\\frame_3961.jpg due to error: [Errno 2] No such file or directory: 'D:\\\\Datasets\\\\Datasets\\\\EPIC_Kitchen\\\\OpticalFlow\\\\P01_04\\\\v\\\\frame_3961.jpg'\n",
      "Skipping frame: D:/Datasets/Datasets/EPIC_Kitchen/OpticalFlow/P01_04/u\\frame_3966.jpg due to error: [Errno 2] No such file or directory: 'D:\\\\Datasets\\\\Datasets\\\\EPIC_Kitchen\\\\OpticalFlow\\\\P01_04\\\\u\\\\frame_3966.jpg'\n",
      "Skipping frame: D:/Datasets/Datasets/EPIC_Kitchen/OpticalFlow/P01_04/v\\frame_3966.jpg due to error: [Errno 2] No such file or directory: 'D:\\\\Datasets\\\\Datasets\\\\EPIC_Kitchen\\\\OpticalFlow\\\\P01_04\\\\v\\\\frame_3966.jpg'\n",
      "Skipping frame: D:/Datasets/Datasets/EPIC_Kitchen/OpticalFlow/P01_04/u\\frame_3971.jpg due to error: [Errno 2] No such file or directory: 'D:\\\\Datasets\\\\Datasets\\\\EPIC_Kitchen\\\\OpticalFlow\\\\P01_04\\\\u\\\\frame_3971.jpg'\n",
      "Skipping frame: D:/Datasets/Datasets/EPIC_Kitchen/OpticalFlow/P01_04/v\\frame_3971.jpg due to error: [Errno 2] No such file or directory: 'D:\\\\Datasets\\\\Datasets\\\\EPIC_Kitchen\\\\OpticalFlow\\\\P01_04\\\\v\\\\frame_3971.jpg'\n"
     ]
    },
    {
     "name": "stderr",
     "output_type": "stream",
     "text": [
      "Extracting Features with DEFT:  63%|██████████████████████████████▍                 | 799/1262 [01:43<00:24, 18.84it/s]"
     ]
    },
    {
     "name": "stdout",
     "output_type": "stream",
     "text": [
      "Skipping frame: D:/Datasets/Datasets/EPIC_Kitchen/OpticalFlow/P01_04/u\\frame_3976.jpg due to error: [Errno 2] No such file or directory: 'D:\\\\Datasets\\\\Datasets\\\\EPIC_Kitchen\\\\OpticalFlow\\\\P01_04\\\\u\\\\frame_3976.jpg'\n",
      "Skipping frame: D:/Datasets/Datasets/EPIC_Kitchen/OpticalFlow/P01_04/v\\frame_3976.jpg due to error: [Errno 2] No such file or directory: 'D:\\\\Datasets\\\\Datasets\\\\EPIC_Kitchen\\\\OpticalFlow\\\\P01_04\\\\v\\\\frame_3976.jpg'\n",
      "Skipping frame: D:/Datasets/Datasets/EPIC_Kitchen/OpticalFlow/P01_04/u\\frame_3981.jpg due to error: [Errno 2] No such file or directory: 'D:\\\\Datasets\\\\Datasets\\\\EPIC_Kitchen\\\\OpticalFlow\\\\P01_04\\\\u\\\\frame_3981.jpg'\n",
      "Skipping frame: D:/Datasets/Datasets/EPIC_Kitchen/OpticalFlow/P01_04/v\\frame_3981.jpg due to error: [Errno 2] No such file or directory: 'D:\\\\Datasets\\\\Datasets\\\\EPIC_Kitchen\\\\OpticalFlow\\\\P01_04\\\\v\\\\frame_3981.jpg'\n",
      "Skipping frame: D:/Datasets/Datasets/EPIC_Kitchen/OpticalFlow/P01_04/u\\frame_3986.jpg due to error: [Errno 2] No such file or directory: 'D:\\\\Datasets\\\\Datasets\\\\EPIC_Kitchen\\\\OpticalFlow\\\\P01_04\\\\u\\\\frame_3986.jpg'\n",
      "Skipping frame: D:/Datasets/Datasets/EPIC_Kitchen/OpticalFlow/P01_04/v\\frame_3986.jpg due to error: [Errno 2] No such file or directory: 'D:\\\\Datasets\\\\Datasets\\\\EPIC_Kitchen\\\\OpticalFlow\\\\P01_04\\\\v\\\\frame_3986.jpg'\n",
      "Skipping frame: D:/Datasets/Datasets/EPIC_Kitchen/OpticalFlow/P01_04/u\\frame_3991.jpg due to error: [Errno 2] No such file or directory: 'D:\\\\Datasets\\\\Datasets\\\\EPIC_Kitchen\\\\OpticalFlow\\\\P01_04\\\\u\\\\frame_3991.jpg'\n",
      "Skipping frame: D:/Datasets/Datasets/EPIC_Kitchen/OpticalFlow/P01_04/v\\frame_3991.jpg due to error: [Errno 2] No such file or directory: 'D:\\\\Datasets\\\\Datasets\\\\EPIC_Kitchen\\\\OpticalFlow\\\\P01_04\\\\v\\\\frame_3991.jpg'\n",
      "Skipping frame: D:/Datasets/Datasets/EPIC_Kitchen/OpticalFlow/P01_04/u\\frame_3996.jpg due to error: [Errno 2] No such file or directory: 'D:\\\\Datasets\\\\Datasets\\\\EPIC_Kitchen\\\\OpticalFlow\\\\P01_04\\\\u\\\\frame_3996.jpg'\n",
      "Skipping frame: D:/Datasets/Datasets/EPIC_Kitchen/OpticalFlow/P01_04/v\\frame_3996.jpg due to error: [Errno 2] No such file or directory: 'D:\\\\Datasets\\\\Datasets\\\\EPIC_Kitchen\\\\OpticalFlow\\\\P01_04\\\\v\\\\frame_3996.jpg'\n"
     ]
    },
    {
     "name": "stderr",
     "output_type": "stream",
     "text": [
      "Extracting Features with DEFT:  64%|██████████████████████████████▌                 | 803/1262 [01:43<00:23, 19.13it/s]"
     ]
    },
    {
     "name": "stdout",
     "output_type": "stream",
     "text": [
      "Skipping frame: D:/Datasets/Datasets/EPIC_Kitchen/OpticalFlow/P01_04/u\\frame_4001.jpg due to error: [Errno 2] No such file or directory: 'D:\\\\Datasets\\\\Datasets\\\\EPIC_Kitchen\\\\OpticalFlow\\\\P01_04\\\\u\\\\frame_4001.jpg'\n",
      "Skipping frame: D:/Datasets/Datasets/EPIC_Kitchen/OpticalFlow/P01_04/v\\frame_4001.jpg due to error: [Errno 2] No such file or directory: 'D:\\\\Datasets\\\\Datasets\\\\EPIC_Kitchen\\\\OpticalFlow\\\\P01_04\\\\v\\\\frame_4001.jpg'\n",
      "Skipping frame: D:/Datasets/Datasets/EPIC_Kitchen/OpticalFlow/P01_04/u\\frame_4006.jpg due to error: [Errno 2] No such file or directory: 'D:\\\\Datasets\\\\Datasets\\\\EPIC_Kitchen\\\\OpticalFlow\\\\P01_04\\\\u\\\\frame_4006.jpg'\n",
      "Skipping frame: D:/Datasets/Datasets/EPIC_Kitchen/OpticalFlow/P01_04/v\\frame_4006.jpg due to error: [Errno 2] No such file or directory: 'D:\\\\Datasets\\\\Datasets\\\\EPIC_Kitchen\\\\OpticalFlow\\\\P01_04\\\\v\\\\frame_4006.jpg'\n",
      "Skipping frame: D:/Datasets/Datasets/EPIC_Kitchen/OpticalFlow/P01_04/u\\frame_4011.jpg due to error: [Errno 2] No such file or directory: 'D:\\\\Datasets\\\\Datasets\\\\EPIC_Kitchen\\\\OpticalFlow\\\\P01_04\\\\u\\\\frame_4011.jpg'\n",
      "Skipping frame: D:/Datasets/Datasets/EPIC_Kitchen/OpticalFlow/P01_04/v\\frame_4011.jpg due to error: [Errno 2] No such file or directory: 'D:\\\\Datasets\\\\Datasets\\\\EPIC_Kitchen\\\\OpticalFlow\\\\P01_04\\\\v\\\\frame_4011.jpg'\n",
      "Skipping frame: D:/Datasets/Datasets/EPIC_Kitchen/OpticalFlow/P01_04/u\\frame_4016.jpg due to error: [Errno 2] No such file or directory: 'D:\\\\Datasets\\\\Datasets\\\\EPIC_Kitchen\\\\OpticalFlow\\\\P01_04\\\\u\\\\frame_4016.jpg'\n",
      "Skipping frame: D:/Datasets/Datasets/EPIC_Kitchen/OpticalFlow/P01_04/v\\frame_4016.jpg due to error: [Errno 2] No such file or directory: 'D:\\\\Datasets\\\\Datasets\\\\EPIC_Kitchen\\\\OpticalFlow\\\\P01_04\\\\v\\\\frame_4016.jpg'\n",
      "Skipping frame: D:/Datasets/Datasets/EPIC_Kitchen/OpticalFlow/P01_04/u\\frame_4021.jpg due to error: [Errno 2] No such file or directory: 'D:\\\\Datasets\\\\Datasets\\\\EPIC_Kitchen\\\\OpticalFlow\\\\P01_04\\\\u\\\\frame_4021.jpg'\n"
     ]
    },
    {
     "name": "stderr",
     "output_type": "stream",
     "text": [
      "Extracting Features with DEFT:  64%|██████████████████████████████▋                 | 807/1262 [01:43<00:24, 18.82it/s]"
     ]
    },
    {
     "name": "stdout",
     "output_type": "stream",
     "text": [
      "Skipping frame: D:/Datasets/Datasets/EPIC_Kitchen/OpticalFlow/P01_04/v\\frame_4021.jpg due to error: [Errno 2] No such file or directory: 'D:\\\\Datasets\\\\Datasets\\\\EPIC_Kitchen\\\\OpticalFlow\\\\P01_04\\\\v\\\\frame_4021.jpg'\n",
      "Skipping frame: D:/Datasets/Datasets/EPIC_Kitchen/OpticalFlow/P01_04/u\\frame_4026.jpg due to error: [Errno 2] No such file or directory: 'D:\\\\Datasets\\\\Datasets\\\\EPIC_Kitchen\\\\OpticalFlow\\\\P01_04\\\\u\\\\frame_4026.jpg'\n",
      "Skipping frame: D:/Datasets/Datasets/EPIC_Kitchen/OpticalFlow/P01_04/v\\frame_4026.jpg due to error: [Errno 2] No such file or directory: 'D:\\\\Datasets\\\\Datasets\\\\EPIC_Kitchen\\\\OpticalFlow\\\\P01_04\\\\v\\\\frame_4026.jpg'\n",
      "Skipping frame: D:/Datasets/Datasets/EPIC_Kitchen/OpticalFlow/P01_04/u\\frame_4031.jpg due to error: [Errno 2] No such file or directory: 'D:\\\\Datasets\\\\Datasets\\\\EPIC_Kitchen\\\\OpticalFlow\\\\P01_04\\\\u\\\\frame_4031.jpg'\n",
      "Skipping frame: D:/Datasets/Datasets/EPIC_Kitchen/OpticalFlow/P01_04/v\\frame_4031.jpg due to error: [Errno 2] No such file or directory: 'D:\\\\Datasets\\\\Datasets\\\\EPIC_Kitchen\\\\OpticalFlow\\\\P01_04\\\\v\\\\frame_4031.jpg'\n",
      "Skipping frame: D:/Datasets/Datasets/EPIC_Kitchen/OpticalFlow/P01_04/u\\frame_4036.jpg due to error: [Errno 2] No such file or directory: 'D:\\\\Datasets\\\\Datasets\\\\EPIC_Kitchen\\\\OpticalFlow\\\\P01_04\\\\u\\\\frame_4036.jpg'\n",
      "Skipping frame: D:/Datasets/Datasets/EPIC_Kitchen/OpticalFlow/P01_04/v\\frame_4036.jpg due to error: [Errno 2] No such file or directory: 'D:\\\\Datasets\\\\Datasets\\\\EPIC_Kitchen\\\\OpticalFlow\\\\P01_04\\\\v\\\\frame_4036.jpg'\n"
     ]
    },
    {
     "name": "stderr",
     "output_type": "stream",
     "text": [
      "Extracting Features with DEFT:  64%|██████████████████████████████▊                 | 811/1262 [01:44<00:24, 18.76it/s]"
     ]
    },
    {
     "name": "stdout",
     "output_type": "stream",
     "text": [
      "Skipping frame: D:/Datasets/Datasets/EPIC_Kitchen/OpticalFlow/P01_04/u\\frame_4041.jpg due to error: [Errno 2] No such file or directory: 'D:\\\\Datasets\\\\Datasets\\\\EPIC_Kitchen\\\\OpticalFlow\\\\P01_04\\\\u\\\\frame_4041.jpg'\n",
      "Skipping frame: D:/Datasets/Datasets/EPIC_Kitchen/OpticalFlow/P01_04/v\\frame_4041.jpg due to error: [Errno 2] No such file or directory: 'D:\\\\Datasets\\\\Datasets\\\\EPIC_Kitchen\\\\OpticalFlow\\\\P01_04\\\\v\\\\frame_4041.jpg'\n",
      "Skipping frame: D:/Datasets/Datasets/EPIC_Kitchen/OpticalFlow/P01_04/u\\frame_4046.jpg due to error: [Errno 2] No such file or directory: 'D:\\\\Datasets\\\\Datasets\\\\EPIC_Kitchen\\\\OpticalFlow\\\\P01_04\\\\u\\\\frame_4046.jpg'\n",
      "Skipping frame: D:/Datasets/Datasets/EPIC_Kitchen/OpticalFlow/P01_04/v\\frame_4046.jpg due to error: [Errno 2] No such file or directory: 'D:\\\\Datasets\\\\Datasets\\\\EPIC_Kitchen\\\\OpticalFlow\\\\P01_04\\\\v\\\\frame_4046.jpg'\n",
      "Skipping frame: D:/Datasets/Datasets/EPIC_Kitchen/OpticalFlow/P01_04/u\\frame_4051.jpg due to error: [Errno 2] No such file or directory: 'D:\\\\Datasets\\\\Datasets\\\\EPIC_Kitchen\\\\OpticalFlow\\\\P01_04\\\\u\\\\frame_4051.jpg'\n",
      "Skipping frame: D:/Datasets/Datasets/EPIC_Kitchen/OpticalFlow/P01_04/v\\frame_4051.jpg due to error: [Errno 2] No such file or directory: 'D:\\\\Datasets\\\\Datasets\\\\EPIC_Kitchen\\\\OpticalFlow\\\\P01_04\\\\v\\\\frame_4051.jpg'\n",
      "Skipping frame: D:/Datasets/Datasets/EPIC_Kitchen/OpticalFlow/P01_04/u\\frame_4056.jpg due to error: [Errno 2] No such file or directory: 'D:\\\\Datasets\\\\Datasets\\\\EPIC_Kitchen\\\\OpticalFlow\\\\P01_04\\\\u\\\\frame_4056.jpg'\n",
      "Skipping frame: D:/Datasets/Datasets/EPIC_Kitchen/OpticalFlow/P01_04/v\\frame_4056.jpg due to error: [Errno 2] No such file or directory: 'D:\\\\Datasets\\\\Datasets\\\\EPIC_Kitchen\\\\OpticalFlow\\\\P01_04\\\\v\\\\frame_4056.jpg'\n"
     ]
    },
    {
     "name": "stderr",
     "output_type": "stream",
     "text": [
      "Extracting Features with DEFT:  65%|███████████████████████████████                 | 816/1262 [01:44<00:23, 18.73it/s]"
     ]
    },
    {
     "name": "stdout",
     "output_type": "stream",
     "text": [
      "Skipping frame: D:/Datasets/Datasets/EPIC_Kitchen/OpticalFlow/P01_04/u\\frame_4061.jpg due to error: [Errno 2] No such file or directory: 'D:\\\\Datasets\\\\Datasets\\\\EPIC_Kitchen\\\\OpticalFlow\\\\P01_04\\\\u\\\\frame_4061.jpg'\n",
      "Skipping frame: D:/Datasets/Datasets/EPIC_Kitchen/OpticalFlow/P01_04/v\\frame_4061.jpg due to error: [Errno 2] No such file or directory: 'D:\\\\Datasets\\\\Datasets\\\\EPIC_Kitchen\\\\OpticalFlow\\\\P01_04\\\\v\\\\frame_4061.jpg'\n",
      "Skipping frame: D:/Datasets/Datasets/EPIC_Kitchen/OpticalFlow/P01_04/u\\frame_4066.jpg due to error: [Errno 2] No such file or directory: 'D:\\\\Datasets\\\\Datasets\\\\EPIC_Kitchen\\\\OpticalFlow\\\\P01_04\\\\u\\\\frame_4066.jpg'\n",
      "Skipping frame: D:/Datasets/Datasets/EPIC_Kitchen/OpticalFlow/P01_04/v\\frame_4066.jpg due to error: [Errno 2] No such file or directory: 'D:\\\\Datasets\\\\Datasets\\\\EPIC_Kitchen\\\\OpticalFlow\\\\P01_04\\\\v\\\\frame_4066.jpg'\n",
      "Skipping frame: D:/Datasets/Datasets/EPIC_Kitchen/OpticalFlow/P01_04/u\\frame_4071.jpg due to error: [Errno 2] No such file or directory: 'D:\\\\Datasets\\\\Datasets\\\\EPIC_Kitchen\\\\OpticalFlow\\\\P01_04\\\\u\\\\frame_4071.jpg'\n",
      "Skipping frame: D:/Datasets/Datasets/EPIC_Kitchen/OpticalFlow/P01_04/v\\frame_4071.jpg due to error: [Errno 2] No such file or directory: 'D:\\\\Datasets\\\\Datasets\\\\EPIC_Kitchen\\\\OpticalFlow\\\\P01_04\\\\v\\\\frame_4071.jpg'\n",
      "Skipping frame: D:/Datasets/Datasets/EPIC_Kitchen/OpticalFlow/P01_04/u\\frame_4076.jpg due to error: [Errno 2] No such file or directory: 'D:\\\\Datasets\\\\Datasets\\\\EPIC_Kitchen\\\\OpticalFlow\\\\P01_04\\\\u\\\\frame_4076.jpg'\n",
      "Skipping frame: D:/Datasets/Datasets/EPIC_Kitchen/OpticalFlow/P01_04/v\\frame_4076.jpg due to error: [Errno 2] No such file or directory: 'D:\\\\Datasets\\\\Datasets\\\\EPIC_Kitchen\\\\OpticalFlow\\\\P01_04\\\\v\\\\frame_4076.jpg'\n",
      "Skipping frame: D:/Datasets/Datasets/EPIC_Kitchen/OpticalFlow/P01_04/u\\frame_4081.jpg due to error: [Errno 2] No such file or directory: 'D:\\\\Datasets\\\\Datasets\\\\EPIC_Kitchen\\\\OpticalFlow\\\\P01_04\\\\u\\\\frame_4081.jpg'\n"
     ]
    },
    {
     "name": "stderr",
     "output_type": "stream",
     "text": [
      "Extracting Features with DEFT:  65%|███████████████████████████████▏                | 820/1262 [01:44<00:24, 17.98it/s]"
     ]
    },
    {
     "name": "stdout",
     "output_type": "stream",
     "text": [
      "Skipping frame: D:/Datasets/Datasets/EPIC_Kitchen/OpticalFlow/P01_04/v\\frame_4081.jpg due to error: [Errno 2] No such file or directory: 'D:\\\\Datasets\\\\Datasets\\\\EPIC_Kitchen\\\\OpticalFlow\\\\P01_04\\\\v\\\\frame_4081.jpg'\n",
      "Skipping frame: D:/Datasets/Datasets/EPIC_Kitchen/OpticalFlow/P01_04/u\\frame_4086.jpg due to error: [Errno 2] No such file or directory: 'D:\\\\Datasets\\\\Datasets\\\\EPIC_Kitchen\\\\OpticalFlow\\\\P01_04\\\\u\\\\frame_4086.jpg'\n",
      "Skipping frame: D:/Datasets/Datasets/EPIC_Kitchen/OpticalFlow/P01_04/v\\frame_4086.jpg due to error: [Errno 2] No such file or directory: 'D:\\\\Datasets\\\\Datasets\\\\EPIC_Kitchen\\\\OpticalFlow\\\\P01_04\\\\v\\\\frame_4086.jpg'\n",
      "Skipping frame: D:/Datasets/Datasets/EPIC_Kitchen/OpticalFlow/P01_04/u\\frame_4091.jpg due to error: [Errno 2] No such file or directory: 'D:\\\\Datasets\\\\Datasets\\\\EPIC_Kitchen\\\\OpticalFlow\\\\P01_04\\\\u\\\\frame_4091.jpg'\n",
      "Skipping frame: D:/Datasets/Datasets/EPIC_Kitchen/OpticalFlow/P01_04/v\\frame_4091.jpg due to error: [Errno 2] No such file or directory: 'D:\\\\Datasets\\\\Datasets\\\\EPIC_Kitchen\\\\OpticalFlow\\\\P01_04\\\\v\\\\frame_4091.jpg'\n",
      "Skipping frame: D:/Datasets/Datasets/EPIC_Kitchen/OpticalFlow/P01_04/u\\frame_4096.jpg due to error: [Errno 2] No such file or directory: 'D:\\\\Datasets\\\\Datasets\\\\EPIC_Kitchen\\\\OpticalFlow\\\\P01_04\\\\u\\\\frame_4096.jpg'\n",
      "Skipping frame: D:/Datasets/Datasets/EPIC_Kitchen/OpticalFlow/P01_04/v\\frame_4096.jpg due to error: [Errno 2] No such file or directory: 'D:\\\\Datasets\\\\Datasets\\\\EPIC_Kitchen\\\\OpticalFlow\\\\P01_04\\\\v\\\\frame_4096.jpg'\n"
     ]
    },
    {
     "name": "stderr",
     "output_type": "stream",
     "text": [
      "Extracting Features with DEFT:  65%|███████████████████████████████▎                | 824/1262 [01:44<00:25, 17.21it/s]"
     ]
    },
    {
     "name": "stdout",
     "output_type": "stream",
     "text": [
      "Skipping frame: D:/Datasets/Datasets/EPIC_Kitchen/OpticalFlow/P01_04/u\\frame_4101.jpg due to error: [Errno 2] No such file or directory: 'D:\\\\Datasets\\\\Datasets\\\\EPIC_Kitchen\\\\OpticalFlow\\\\P01_04\\\\u\\\\frame_4101.jpg'\n",
      "Skipping frame: D:/Datasets/Datasets/EPIC_Kitchen/OpticalFlow/P01_04/v\\frame_4101.jpg due to error: [Errno 2] No such file or directory: 'D:\\\\Datasets\\\\Datasets\\\\EPIC_Kitchen\\\\OpticalFlow\\\\P01_04\\\\v\\\\frame_4101.jpg'\n",
      "Skipping frame: D:/Datasets/Datasets/EPIC_Kitchen/OpticalFlow/P01_04/u\\frame_4106.jpg due to error: [Errno 2] No such file or directory: 'D:\\\\Datasets\\\\Datasets\\\\EPIC_Kitchen\\\\OpticalFlow\\\\P01_04\\\\u\\\\frame_4106.jpg'\n",
      "Skipping frame: D:/Datasets/Datasets/EPIC_Kitchen/OpticalFlow/P01_04/v\\frame_4106.jpg due to error: [Errno 2] No such file or directory: 'D:\\\\Datasets\\\\Datasets\\\\EPIC_Kitchen\\\\OpticalFlow\\\\P01_04\\\\v\\\\frame_4106.jpg'\n",
      "Skipping frame: D:/Datasets/Datasets/EPIC_Kitchen/OpticalFlow/P01_04/u\\frame_4111.jpg due to error: [Errno 2] No such file or directory: 'D:\\\\Datasets\\\\Datasets\\\\EPIC_Kitchen\\\\OpticalFlow\\\\P01_04\\\\u\\\\frame_4111.jpg'\n",
      "Skipping frame: D:/Datasets/Datasets/EPIC_Kitchen/OpticalFlow/P01_04/v\\frame_4111.jpg due to error: [Errno 2] No such file or directory: 'D:\\\\Datasets\\\\Datasets\\\\EPIC_Kitchen\\\\OpticalFlow\\\\P01_04\\\\v\\\\frame_4111.jpg'\n",
      "Skipping frame: D:/Datasets/Datasets/EPIC_Kitchen/OpticalFlow/P01_04/u\\frame_4116.jpg due to error: [Errno 2] No such file or directory: 'D:\\\\Datasets\\\\Datasets\\\\EPIC_Kitchen\\\\OpticalFlow\\\\P01_04\\\\u\\\\frame_4116.jpg'\n",
      "Skipping frame: D:/Datasets/Datasets/EPIC_Kitchen/OpticalFlow/P01_04/v\\frame_4116.jpg due to error: [Errno 2] No such file or directory: 'D:\\\\Datasets\\\\Datasets\\\\EPIC_Kitchen\\\\OpticalFlow\\\\P01_04\\\\v\\\\frame_4116.jpg'\n"
     ]
    },
    {
     "name": "stderr",
     "output_type": "stream",
     "text": [
      "Extracting Features with DEFT:  66%|███████████████████████████████▍                | 828/1262 [01:45<00:24, 17.96it/s]"
     ]
    },
    {
     "name": "stdout",
     "output_type": "stream",
     "text": [
      "Skipping frame: D:/Datasets/Datasets/EPIC_Kitchen/OpticalFlow/P01_04/u\\frame_4121.jpg due to error: [Errno 2] No such file or directory: 'D:\\\\Datasets\\\\Datasets\\\\EPIC_Kitchen\\\\OpticalFlow\\\\P01_04\\\\u\\\\frame_4121.jpg'\n",
      "Skipping frame: D:/Datasets/Datasets/EPIC_Kitchen/OpticalFlow/P01_04/v\\frame_4121.jpg due to error: [Errno 2] No such file or directory: 'D:\\\\Datasets\\\\Datasets\\\\EPIC_Kitchen\\\\OpticalFlow\\\\P01_04\\\\v\\\\frame_4121.jpg'\n",
      "Skipping frame: D:/Datasets/Datasets/EPIC_Kitchen/OpticalFlow/P01_04/u\\frame_4126.jpg due to error: [Errno 2] No such file or directory: 'D:\\\\Datasets\\\\Datasets\\\\EPIC_Kitchen\\\\OpticalFlow\\\\P01_04\\\\u\\\\frame_4126.jpg'\n",
      "Skipping frame: D:/Datasets/Datasets/EPIC_Kitchen/OpticalFlow/P01_04/v\\frame_4126.jpg due to error: [Errno 2] No such file or directory: 'D:\\\\Datasets\\\\Datasets\\\\EPIC_Kitchen\\\\OpticalFlow\\\\P01_04\\\\v\\\\frame_4126.jpg'\n",
      "Skipping frame: D:/Datasets/Datasets/EPIC_Kitchen/OpticalFlow/P01_04/u\\frame_4131.jpg due to error: [Errno 2] No such file or directory: 'D:\\\\Datasets\\\\Datasets\\\\EPIC_Kitchen\\\\OpticalFlow\\\\P01_04\\\\u\\\\frame_4131.jpg'\n",
      "Skipping frame: D:/Datasets/Datasets/EPIC_Kitchen/OpticalFlow/P01_04/v\\frame_4131.jpg due to error: [Errno 2] No such file or directory: 'D:\\\\Datasets\\\\Datasets\\\\EPIC_Kitchen\\\\OpticalFlow\\\\P01_04\\\\v\\\\frame_4131.jpg'\n",
      "Skipping frame: D:/Datasets/Datasets/EPIC_Kitchen/OpticalFlow/P01_04/u\\frame_4136.jpg due to error: [Errno 2] No such file or directory: 'D:\\\\Datasets\\\\Datasets\\\\EPIC_Kitchen\\\\OpticalFlow\\\\P01_04\\\\u\\\\frame_4136.jpg'\n",
      "Skipping frame: D:/Datasets/Datasets/EPIC_Kitchen/OpticalFlow/P01_04/v\\frame_4136.jpg due to error: [Errno 2] No such file or directory: 'D:\\\\Datasets\\\\Datasets\\\\EPIC_Kitchen\\\\OpticalFlow\\\\P01_04\\\\v\\\\frame_4136.jpg'\n"
     ]
    },
    {
     "name": "stderr",
     "output_type": "stream",
     "text": [
      "\r",
      "Extracting Features with DEFT:  66%|███████████████████████████████▌                | 831/1262 [01:45<00:22, 18.98it/s]"
     ]
    },
    {
     "name": "stdout",
     "output_type": "stream",
     "text": [
      "Skipping frame: D:/Datasets/Datasets/EPIC_Kitchen/OpticalFlow/P01_04/u\\frame_4141.jpg due to error: [Errno 2] No such file or directory: 'D:\\\\Datasets\\\\Datasets\\\\EPIC_Kitchen\\\\OpticalFlow\\\\P01_04\\\\u\\\\frame_4141.jpg'\n",
      "Skipping frame: D:/Datasets/Datasets/EPIC_Kitchen/OpticalFlow/P01_04/v\\frame_4141.jpg due to error: [Errno 2] No such file or directory: 'D:\\\\Datasets\\\\Datasets\\\\EPIC_Kitchen\\\\OpticalFlow\\\\P01_04\\\\v\\\\frame_4141.jpg'\n",
      "Skipping frame: D:/Datasets/Datasets/EPIC_Kitchen/OpticalFlow/P01_04/u\\frame_4146.jpg due to error: [Errno 2] No such file or directory: 'D:\\\\Datasets\\\\Datasets\\\\EPIC_Kitchen\\\\OpticalFlow\\\\P01_04\\\\u\\\\frame_4146.jpg'\n",
      "Skipping frame: D:/Datasets/Datasets/EPIC_Kitchen/OpticalFlow/P01_04/v\\frame_4146.jpg due to error: [Errno 2] No such file or directory: 'D:\\\\Datasets\\\\Datasets\\\\EPIC_Kitchen\\\\OpticalFlow\\\\P01_04\\\\v\\\\frame_4146.jpg'\n",
      "Skipping frame: D:/Datasets/Datasets/EPIC_Kitchen/OpticalFlow/P01_04/u\\frame_4151.jpg due to error: [Errno 2] No such file or directory: 'D:\\\\Datasets\\\\Datasets\\\\EPIC_Kitchen\\\\OpticalFlow\\\\P01_04\\\\u\\\\frame_4151.jpg'\n",
      "Skipping frame: D:/Datasets/Datasets/EPIC_Kitchen/OpticalFlow/P01_04/v\\frame_4151.jpg due to error: [Errno 2] No such file or directory: 'D:\\\\Datasets\\\\Datasets\\\\EPIC_Kitchen\\\\OpticalFlow\\\\P01_04\\\\v\\\\frame_4151.jpg'\n",
      "Skipping frame: D:/Datasets/Datasets/EPIC_Kitchen/OpticalFlow/P01_04/u\\frame_4156.jpg due to error: [Errno 2] No such file or directory: 'D:\\\\Datasets\\\\Datasets\\\\EPIC_Kitchen\\\\OpticalFlow\\\\P01_04\\\\u\\\\frame_4156.jpg'\n",
      "Skipping frame: D:/Datasets/Datasets/EPIC_Kitchen/OpticalFlow/P01_04/v\\frame_4156.jpg due to error: [Errno 2] No such file or directory: 'D:\\\\Datasets\\\\Datasets\\\\EPIC_Kitchen\\\\OpticalFlow\\\\P01_04\\\\v\\\\frame_4156.jpg'\n",
      "Skipping frame: D:/Datasets/Datasets/EPIC_Kitchen/OpticalFlow/P01_04/u\\frame_4161.jpg due to error: [Errno 2] No such file or directory: 'D:\\\\Datasets\\\\Datasets\\\\EPIC_Kitchen\\\\OpticalFlow\\\\P01_04\\\\u\\\\frame_4161.jpg'\n",
      "Skipping frame: D:/Datasets/Datasets/EPIC_Kitchen/OpticalFlow/P01_04/v\\frame_4161.jpg due to error: [Errno 2] No such file or directory: 'D:\\\\Datasets\\\\Datasets\\\\EPIC_Kitchen\\\\OpticalFlow\\\\P01_04\\\\v\\\\frame_4161.jpg'\n"
     ]
    },
    {
     "name": "stderr",
     "output_type": "stream",
     "text": [
      "Extracting Features with DEFT:  66%|███████████████████████████████▊                | 837/1262 [01:45<00:20, 20.46it/s]"
     ]
    },
    {
     "name": "stdout",
     "output_type": "stream",
     "text": [
      "Skipping frame: D:/Datasets/Datasets/EPIC_Kitchen/OpticalFlow/P01_04/u\\frame_4166.jpg due to error: [Errno 2] No such file or directory: 'D:\\\\Datasets\\\\Datasets\\\\EPIC_Kitchen\\\\OpticalFlow\\\\P01_04\\\\u\\\\frame_4166.jpg'\n",
      "Skipping frame: D:/Datasets/Datasets/EPIC_Kitchen/OpticalFlow/P01_04/v\\frame_4166.jpg due to error: [Errno 2] No such file or directory: 'D:\\\\Datasets\\\\Datasets\\\\EPIC_Kitchen\\\\OpticalFlow\\\\P01_04\\\\v\\\\frame_4166.jpg'\n",
      "Skipping frame: D:/Datasets/Datasets/EPIC_Kitchen/OpticalFlow/P01_04/u\\frame_4171.jpg due to error: [Errno 2] No such file or directory: 'D:\\\\Datasets\\\\Datasets\\\\EPIC_Kitchen\\\\OpticalFlow\\\\P01_04\\\\u\\\\frame_4171.jpg'\n",
      "Skipping frame: D:/Datasets/Datasets/EPIC_Kitchen/OpticalFlow/P01_04/v\\frame_4171.jpg due to error: [Errno 2] No such file or directory: 'D:\\\\Datasets\\\\Datasets\\\\EPIC_Kitchen\\\\OpticalFlow\\\\P01_04\\\\v\\\\frame_4171.jpg'\n",
      "Skipping frame: D:/Datasets/Datasets/EPIC_Kitchen/OpticalFlow/P01_04/u\\frame_4176.jpg due to error: [Errno 2] No such file or directory: 'D:\\\\Datasets\\\\Datasets\\\\EPIC_Kitchen\\\\OpticalFlow\\\\P01_04\\\\u\\\\frame_4176.jpg'\n",
      "Skipping frame: D:/Datasets/Datasets/EPIC_Kitchen/OpticalFlow/P01_04/v\\frame_4176.jpg due to error: [Errno 2] No such file or directory: 'D:\\\\Datasets\\\\Datasets\\\\EPIC_Kitchen\\\\OpticalFlow\\\\P01_04\\\\v\\\\frame_4176.jpg'\n",
      "Skipping frame: D:/Datasets/Datasets/EPIC_Kitchen/OpticalFlow/P01_04/u\\frame_4181.jpg due to error: [Errno 2] No such file or directory: 'D:\\\\Datasets\\\\Datasets\\\\EPIC_Kitchen\\\\OpticalFlow\\\\P01_04\\\\u\\\\frame_4181.jpg'\n",
      "Skipping frame: D:/Datasets/Datasets/EPIC_Kitchen/OpticalFlow/P01_04/v\\frame_4181.jpg due to error: [Errno 2] No such file or directory: 'D:\\\\Datasets\\\\Datasets\\\\EPIC_Kitchen\\\\OpticalFlow\\\\P01_04\\\\v\\\\frame_4181.jpg'\n",
      "Skipping frame: D:/Datasets/Datasets/EPIC_Kitchen/OpticalFlow/P01_04/u\\frame_4186.jpg due to error: [Errno 2] No such file or directory: 'D:\\\\Datasets\\\\Datasets\\\\EPIC_Kitchen\\\\OpticalFlow\\\\P01_04\\\\u\\\\frame_4186.jpg'\n",
      "Skipping frame: D:/Datasets/Datasets/EPIC_Kitchen/OpticalFlow/P01_04/v\\frame_4186.jpg due to error: [Errno 2] No such file or directory: 'D:\\\\Datasets\\\\Datasets\\\\EPIC_Kitchen\\\\OpticalFlow\\\\P01_04\\\\v\\\\frame_4186.jpg'\n"
     ]
    },
    {
     "name": "stderr",
     "output_type": "stream",
     "text": [
      "Extracting Features with DEFT:  67%|████████████████████████████████                | 843/1262 [01:45<00:20, 20.07it/s]"
     ]
    },
    {
     "name": "stdout",
     "output_type": "stream",
     "text": [
      "Skipping frame: D:/Datasets/Datasets/EPIC_Kitchen/OpticalFlow/P01_04/u\\frame_4191.jpg due to error: [Errno 2] No such file or directory: 'D:\\\\Datasets\\\\Datasets\\\\EPIC_Kitchen\\\\OpticalFlow\\\\P01_04\\\\u\\\\frame_4191.jpg'\n",
      "Skipping frame: D:/Datasets/Datasets/EPIC_Kitchen/OpticalFlow/P01_04/v\\frame_4191.jpg due to error: [Errno 2] No such file or directory: 'D:\\\\Datasets\\\\Datasets\\\\EPIC_Kitchen\\\\OpticalFlow\\\\P01_04\\\\v\\\\frame_4191.jpg'\n",
      "Skipping frame: D:/Datasets/Datasets/EPIC_Kitchen/OpticalFlow/P01_04/u\\frame_4196.jpg due to error: [Errno 2] No such file or directory: 'D:\\\\Datasets\\\\Datasets\\\\EPIC_Kitchen\\\\OpticalFlow\\\\P01_04\\\\u\\\\frame_4196.jpg'\n",
      "Skipping frame: D:/Datasets/Datasets/EPIC_Kitchen/OpticalFlow/P01_04/v\\frame_4196.jpg due to error: [Errno 2] No such file or directory: 'D:\\\\Datasets\\\\Datasets\\\\EPIC_Kitchen\\\\OpticalFlow\\\\P01_04\\\\v\\\\frame_4196.jpg'\n",
      "Skipping frame: D:/Datasets/Datasets/EPIC_Kitchen/OpticalFlow/P01_04/u\\frame_4201.jpg due to error: [Errno 2] No such file or directory: 'D:\\\\Datasets\\\\Datasets\\\\EPIC_Kitchen\\\\OpticalFlow\\\\P01_04\\\\u\\\\frame_4201.jpg'\n",
      "Skipping frame: D:/Datasets/Datasets/EPIC_Kitchen/OpticalFlow/P01_04/v\\frame_4201.jpg due to error: [Errno 2] No such file or directory: 'D:\\\\Datasets\\\\Datasets\\\\EPIC_Kitchen\\\\OpticalFlow\\\\P01_04\\\\v\\\\frame_4201.jpg'\n",
      "Skipping frame: D:/Datasets/Datasets/EPIC_Kitchen/OpticalFlow/P01_04/u\\frame_4206.jpg due to error: [Errno 2] No such file or directory: 'D:\\\\Datasets\\\\Datasets\\\\EPIC_Kitchen\\\\OpticalFlow\\\\P01_04\\\\u\\\\frame_4206.jpg'\n",
      "Skipping frame: D:/Datasets/Datasets/EPIC_Kitchen/OpticalFlow/P01_04/v\\frame_4206.jpg due to error: [Errno 2] No such file or directory: 'D:\\\\Datasets\\\\Datasets\\\\EPIC_Kitchen\\\\OpticalFlow\\\\P01_04\\\\v\\\\frame_4206.jpg'\n",
      "Skipping frame: D:/Datasets/Datasets/EPIC_Kitchen/OpticalFlow/P01_04/u\\frame_4211.jpg due to error: [Errno 2] No such file or directory: 'D:\\\\Datasets\\\\Datasets\\\\EPIC_Kitchen\\\\OpticalFlow\\\\P01_04\\\\u\\\\frame_4211.jpg'\n",
      "Skipping frame: D:/Datasets/Datasets/EPIC_Kitchen/OpticalFlow/P01_04/v\\frame_4211.jpg due to error: [Errno 2] No such file or directory: 'D:\\\\Datasets\\\\Datasets\\\\EPIC_Kitchen\\\\OpticalFlow\\\\P01_04\\\\v\\\\frame_4211.jpg'\n"
     ]
    },
    {
     "name": "stderr",
     "output_type": "stream",
     "text": [
      "\r",
      "Extracting Features with DEFT:  67%|████████████████████████████████▏               | 846/1262 [01:45<00:20, 20.39it/s]"
     ]
    },
    {
     "name": "stdout",
     "output_type": "stream",
     "text": [
      "Skipping frame: D:/Datasets/Datasets/EPIC_Kitchen/OpticalFlow/P01_04/u\\frame_4216.jpg due to error: [Errno 2] No such file or directory: 'D:\\\\Datasets\\\\Datasets\\\\EPIC_Kitchen\\\\OpticalFlow\\\\P01_04\\\\u\\\\frame_4216.jpg'\n",
      "Skipping frame: D:/Datasets/Datasets/EPIC_Kitchen/OpticalFlow/P01_04/v\\frame_4216.jpg due to error: [Errno 2] No such file or directory: 'D:\\\\Datasets\\\\Datasets\\\\EPIC_Kitchen\\\\OpticalFlow\\\\P01_04\\\\v\\\\frame_4216.jpg'\n",
      "Skipping frame: D:/Datasets/Datasets/EPIC_Kitchen/OpticalFlow/P01_04/u\\frame_4221.jpg due to error: [Errno 2] No such file or directory: 'D:\\\\Datasets\\\\Datasets\\\\EPIC_Kitchen\\\\OpticalFlow\\\\P01_04\\\\u\\\\frame_4221.jpg'\n",
      "Skipping frame: D:/Datasets/Datasets/EPIC_Kitchen/OpticalFlow/P01_04/v\\frame_4221.jpg due to error: [Errno 2] No such file or directory: 'D:\\\\Datasets\\\\Datasets\\\\EPIC_Kitchen\\\\OpticalFlow\\\\P01_04\\\\v\\\\frame_4221.jpg'\n",
      "Skipping frame: D:/Datasets/Datasets/EPIC_Kitchen/OpticalFlow/P01_04/u\\frame_4226.jpg due to error: [Errno 2] No such file or directory: 'D:\\\\Datasets\\\\Datasets\\\\EPIC_Kitchen\\\\OpticalFlow\\\\P01_04\\\\u\\\\frame_4226.jpg'\n",
      "Skipping frame: D:/Datasets/Datasets/EPIC_Kitchen/OpticalFlow/P01_04/v\\frame_4226.jpg due to error: [Errno 2] No such file or directory: 'D:\\\\Datasets\\\\Datasets\\\\EPIC_Kitchen\\\\OpticalFlow\\\\P01_04\\\\v\\\\frame_4226.jpg'\n",
      "Skipping frame: D:/Datasets/Datasets/EPIC_Kitchen/OpticalFlow/P01_04/u\\frame_4231.jpg due to error: [Errno 2] No such file or directory: 'D:\\\\Datasets\\\\Datasets\\\\EPIC_Kitchen\\\\OpticalFlow\\\\P01_04\\\\u\\\\frame_4231.jpg'\n",
      "Skipping frame: D:/Datasets/Datasets/EPIC_Kitchen/OpticalFlow/P01_04/v\\frame_4231.jpg due to error: [Errno 2] No such file or directory: 'D:\\\\Datasets\\\\Datasets\\\\EPIC_Kitchen\\\\OpticalFlow\\\\P01_04\\\\v\\\\frame_4231.jpg'\n",
      "Skipping frame: D:/Datasets/Datasets/EPIC_Kitchen/OpticalFlow/P01_04/u\\frame_4236.jpg due to error: [Errno 2] No such file or directory: 'D:\\\\Datasets\\\\Datasets\\\\EPIC_Kitchen\\\\OpticalFlow\\\\P01_04\\\\u\\\\frame_4236.jpg'\n",
      "Skipping frame: D:/Datasets/Datasets/EPIC_Kitchen/OpticalFlow/P01_04/v\\frame_4236.jpg due to error: [Errno 2] No such file or directory: 'D:\\\\Datasets\\\\Datasets\\\\EPIC_Kitchen\\\\OpticalFlow\\\\P01_04\\\\v\\\\frame_4236.jpg'\n"
     ]
    },
    {
     "name": "stderr",
     "output_type": "stream",
     "text": [
      "Extracting Features with DEFT:  68%|████████████████████████████████▍               | 852/1262 [01:46<00:19, 21.01it/s]"
     ]
    },
    {
     "name": "stdout",
     "output_type": "stream",
     "text": [
      "Skipping frame: D:/Datasets/Datasets/EPIC_Kitchen/OpticalFlow/P01_04/u\\frame_4241.jpg due to error: [Errno 2] No such file or directory: 'D:\\\\Datasets\\\\Datasets\\\\EPIC_Kitchen\\\\OpticalFlow\\\\P01_04\\\\u\\\\frame_4241.jpg'\n",
      "Skipping frame: D:/Datasets/Datasets/EPIC_Kitchen/OpticalFlow/P01_04/v\\frame_4241.jpg due to error: [Errno 2] No such file or directory: 'D:\\\\Datasets\\\\Datasets\\\\EPIC_Kitchen\\\\OpticalFlow\\\\P01_04\\\\v\\\\frame_4241.jpg'\n",
      "Skipping frame: D:/Datasets/Datasets/EPIC_Kitchen/OpticalFlow/P01_04/u\\frame_4246.jpg due to error: [Errno 2] No such file or directory: 'D:\\\\Datasets\\\\Datasets\\\\EPIC_Kitchen\\\\OpticalFlow\\\\P01_04\\\\u\\\\frame_4246.jpg'\n",
      "Skipping frame: D:/Datasets/Datasets/EPIC_Kitchen/OpticalFlow/P01_04/v\\frame_4246.jpg due to error: [Errno 2] No such file or directory: 'D:\\\\Datasets\\\\Datasets\\\\EPIC_Kitchen\\\\OpticalFlow\\\\P01_04\\\\v\\\\frame_4246.jpg'\n",
      "Skipping frame: D:/Datasets/Datasets/EPIC_Kitchen/OpticalFlow/P01_04/u\\frame_4251.jpg due to error: [Errno 2] No such file or directory: 'D:\\\\Datasets\\\\Datasets\\\\EPIC_Kitchen\\\\OpticalFlow\\\\P01_04\\\\u\\\\frame_4251.jpg'\n",
      "Skipping frame: D:/Datasets/Datasets/EPIC_Kitchen/OpticalFlow/P01_04/v\\frame_4251.jpg due to error: [Errno 2] No such file or directory: 'D:\\\\Datasets\\\\Datasets\\\\EPIC_Kitchen\\\\OpticalFlow\\\\P01_04\\\\v\\\\frame_4251.jpg'\n",
      "Skipping frame: D:/Datasets/Datasets/EPIC_Kitchen/OpticalFlow/P01_04/u\\frame_4256.jpg due to error: [Errno 2] No such file or directory: 'D:\\\\Datasets\\\\Datasets\\\\EPIC_Kitchen\\\\OpticalFlow\\\\P01_04\\\\u\\\\frame_4256.jpg'\n",
      "Skipping frame: D:/Datasets/Datasets/EPIC_Kitchen/OpticalFlow/P01_04/v\\frame_4256.jpg due to error: [Errno 2] No such file or directory: 'D:\\\\Datasets\\\\Datasets\\\\EPIC_Kitchen\\\\OpticalFlow\\\\P01_04\\\\v\\\\frame_4256.jpg'\n",
      "Skipping frame: D:/Datasets/Datasets/EPIC_Kitchen/OpticalFlow/P01_04/u\\frame_4261.jpg due to error: [Errno 2] No such file or directory: 'D:\\\\Datasets\\\\Datasets\\\\EPIC_Kitchen\\\\OpticalFlow\\\\P01_04\\\\u\\\\frame_4261.jpg'\n",
      "Skipping frame: D:/Datasets/Datasets/EPIC_Kitchen/OpticalFlow/P01_04/v\\frame_4261.jpg due to error: [Errno 2] No such file or directory: 'D:\\\\Datasets\\\\Datasets\\\\EPIC_Kitchen\\\\OpticalFlow\\\\P01_04\\\\v\\\\frame_4261.jpg'\n"
     ]
    },
    {
     "name": "stderr",
     "output_type": "stream",
     "text": [
      "\r",
      "Extracting Features with DEFT:  68%|████████████████████████████████▌               | 855/1262 [01:46<00:19, 20.65it/s]"
     ]
    },
    {
     "name": "stdout",
     "output_type": "stream",
     "text": [
      "Skipping frame: D:/Datasets/Datasets/EPIC_Kitchen/OpticalFlow/P01_04/u\\frame_4266.jpg due to error: [Errno 2] No such file or directory: 'D:\\\\Datasets\\\\Datasets\\\\EPIC_Kitchen\\\\OpticalFlow\\\\P01_04\\\\u\\\\frame_4266.jpg'\n",
      "Skipping frame: D:/Datasets/Datasets/EPIC_Kitchen/OpticalFlow/P01_04/v\\frame_4266.jpg due to error: [Errno 2] No such file or directory: 'D:\\\\Datasets\\\\Datasets\\\\EPIC_Kitchen\\\\OpticalFlow\\\\P01_04\\\\v\\\\frame_4266.jpg'\n",
      "Skipping frame: D:/Datasets/Datasets/EPIC_Kitchen/OpticalFlow/P01_04/u\\frame_4271.jpg due to error: [Errno 2] No such file or directory: 'D:\\\\Datasets\\\\Datasets\\\\EPIC_Kitchen\\\\OpticalFlow\\\\P01_04\\\\u\\\\frame_4271.jpg'\n",
      "Skipping frame: D:/Datasets/Datasets/EPIC_Kitchen/OpticalFlow/P01_04/v\\frame_4271.jpg due to error: [Errno 2] No such file or directory: 'D:\\\\Datasets\\\\Datasets\\\\EPIC_Kitchen\\\\OpticalFlow\\\\P01_04\\\\v\\\\frame_4271.jpg'\n",
      "Skipping frame: D:/Datasets/Datasets/EPIC_Kitchen/OpticalFlow/P01_04/u\\frame_4276.jpg due to error: [Errno 2] No such file or directory: 'D:\\\\Datasets\\\\Datasets\\\\EPIC_Kitchen\\\\OpticalFlow\\\\P01_04\\\\u\\\\frame_4276.jpg'\n",
      "Skipping frame: D:/Datasets/Datasets/EPIC_Kitchen/OpticalFlow/P01_04/v\\frame_4276.jpg due to error: [Errno 2] No such file or directory: 'D:\\\\Datasets\\\\Datasets\\\\EPIC_Kitchen\\\\OpticalFlow\\\\P01_04\\\\v\\\\frame_4276.jpg'\n",
      "Skipping frame: D:/Datasets/Datasets/EPIC_Kitchen/OpticalFlow/P01_04/u\\frame_4281.jpg due to error: [Errno 2] No such file or directory: 'D:\\\\Datasets\\\\Datasets\\\\EPIC_Kitchen\\\\OpticalFlow\\\\P01_04\\\\u\\\\frame_4281.jpg'\n",
      "Skipping frame: D:/Datasets/Datasets/EPIC_Kitchen/OpticalFlow/P01_04/v\\frame_4281.jpg due to error: [Errno 2] No such file or directory: 'D:\\\\Datasets\\\\Datasets\\\\EPIC_Kitchen\\\\OpticalFlow\\\\P01_04\\\\v\\\\frame_4281.jpg'\n"
     ]
    },
    {
     "name": "stderr",
     "output_type": "stream",
     "text": [
      "Extracting Features with DEFT:  68%|████████████████████████████████▋               | 861/1262 [01:46<00:20, 19.63it/s]"
     ]
    },
    {
     "name": "stdout",
     "output_type": "stream",
     "text": [
      "Skipping frame: D:/Datasets/Datasets/EPIC_Kitchen/OpticalFlow/P01_04/u\\frame_4286.jpg due to error: [Errno 2] No such file or directory: 'D:\\\\Datasets\\\\Datasets\\\\EPIC_Kitchen\\\\OpticalFlow\\\\P01_04\\\\u\\\\frame_4286.jpg'\n",
      "Skipping frame: D:/Datasets/Datasets/EPIC_Kitchen/OpticalFlow/P01_04/v\\frame_4286.jpg due to error: [Errno 2] No such file or directory: 'D:\\\\Datasets\\\\Datasets\\\\EPIC_Kitchen\\\\OpticalFlow\\\\P01_04\\\\v\\\\frame_4286.jpg'\n",
      "Skipping frame: D:/Datasets/Datasets/EPIC_Kitchen/OpticalFlow/P01_04/u\\frame_4291.jpg due to error: [Errno 2] No such file or directory: 'D:\\\\Datasets\\\\Datasets\\\\EPIC_Kitchen\\\\OpticalFlow\\\\P01_04\\\\u\\\\frame_4291.jpg'\n",
      "Skipping frame: D:/Datasets/Datasets/EPIC_Kitchen/OpticalFlow/P01_04/v\\frame_4291.jpg due to error: [Errno 2] No such file or directory: 'D:\\\\Datasets\\\\Datasets\\\\EPIC_Kitchen\\\\OpticalFlow\\\\P01_04\\\\v\\\\frame_4291.jpg'\n",
      "Skipping frame: D:/Datasets/Datasets/EPIC_Kitchen/OpticalFlow/P01_04/u\\frame_4296.jpg due to error: [Errno 2] No such file or directory: 'D:\\\\Datasets\\\\Datasets\\\\EPIC_Kitchen\\\\OpticalFlow\\\\P01_04\\\\u\\\\frame_4296.jpg'\n",
      "Skipping frame: D:/Datasets/Datasets/EPIC_Kitchen/OpticalFlow/P01_04/v\\frame_4296.jpg due to error: [Errno 2] No such file or directory: 'D:\\\\Datasets\\\\Datasets\\\\EPIC_Kitchen\\\\OpticalFlow\\\\P01_04\\\\v\\\\frame_4296.jpg'\n",
      "Skipping frame: D:/Datasets/Datasets/EPIC_Kitchen/OpticalFlow/P01_04/u\\frame_4301.jpg due to error: [Errno 2] No such file or directory: 'D:\\\\Datasets\\\\Datasets\\\\EPIC_Kitchen\\\\OpticalFlow\\\\P01_04\\\\u\\\\frame_4301.jpg'\n",
      "Skipping frame: D:/Datasets/Datasets/EPIC_Kitchen/OpticalFlow/P01_04/v\\frame_4301.jpg due to error: [Errno 2] No such file or directory: 'D:\\\\Datasets\\\\Datasets\\\\EPIC_Kitchen\\\\OpticalFlow\\\\P01_04\\\\v\\\\frame_4301.jpg'\n"
     ]
    },
    {
     "name": "stderr",
     "output_type": "stream",
     "text": [
      "Extracting Features with DEFT:  69%|████████████████████████████████▉               | 865/1262 [01:46<00:20, 19.19it/s]"
     ]
    },
    {
     "name": "stdout",
     "output_type": "stream",
     "text": [
      "Skipping frame: D:/Datasets/Datasets/EPIC_Kitchen/OpticalFlow/P01_04/u\\frame_4306.jpg due to error: [Errno 2] No such file or directory: 'D:\\\\Datasets\\\\Datasets\\\\EPIC_Kitchen\\\\OpticalFlow\\\\P01_04\\\\u\\\\frame_4306.jpg'\n",
      "Skipping frame: D:/Datasets/Datasets/EPIC_Kitchen/OpticalFlow/P01_04/v\\frame_4306.jpg due to error: [Errno 2] No such file or directory: 'D:\\\\Datasets\\\\Datasets\\\\EPIC_Kitchen\\\\OpticalFlow\\\\P01_04\\\\v\\\\frame_4306.jpg'\n",
      "Skipping frame: D:/Datasets/Datasets/EPIC_Kitchen/OpticalFlow/P01_04/u\\frame_4311.jpg due to error: [Errno 2] No such file or directory: 'D:\\\\Datasets\\\\Datasets\\\\EPIC_Kitchen\\\\OpticalFlow\\\\P01_04\\\\u\\\\frame_4311.jpg'\n",
      "Skipping frame: D:/Datasets/Datasets/EPIC_Kitchen/OpticalFlow/P01_04/v\\frame_4311.jpg due to error: [Errno 2] No such file or directory: 'D:\\\\Datasets\\\\Datasets\\\\EPIC_Kitchen\\\\OpticalFlow\\\\P01_04\\\\v\\\\frame_4311.jpg'\n",
      "Skipping frame: D:/Datasets/Datasets/EPIC_Kitchen/OpticalFlow/P01_04/u\\frame_4316.jpg due to error: [Errno 2] No such file or directory: 'D:\\\\Datasets\\\\Datasets\\\\EPIC_Kitchen\\\\OpticalFlow\\\\P01_04\\\\u\\\\frame_4316.jpg'\n",
      "Skipping frame: D:/Datasets/Datasets/EPIC_Kitchen/OpticalFlow/P01_04/v\\frame_4316.jpg due to error: [Errno 2] No such file or directory: 'D:\\\\Datasets\\\\Datasets\\\\EPIC_Kitchen\\\\OpticalFlow\\\\P01_04\\\\v\\\\frame_4316.jpg'\n",
      "Skipping frame: D:/Datasets/Datasets/EPIC_Kitchen/OpticalFlow/P01_04/u\\frame_4321.jpg due to error: [Errno 2] No such file or directory: 'D:\\\\Datasets\\\\Datasets\\\\EPIC_Kitchen\\\\OpticalFlow\\\\P01_04\\\\u\\\\frame_4321.jpg'\n",
      "Skipping frame: D:/Datasets/Datasets/EPIC_Kitchen/OpticalFlow/P01_04/v\\frame_4321.jpg due to error: [Errno 2] No such file or directory: 'D:\\\\Datasets\\\\Datasets\\\\EPIC_Kitchen\\\\OpticalFlow\\\\P01_04\\\\v\\\\frame_4321.jpg'\n",
      "Skipping frame: D:/Datasets/Datasets/EPIC_Kitchen/OpticalFlow/P01_04/u\\frame_4326.jpg due to error: [Errno 2] No such file or directory: 'D:\\\\Datasets\\\\Datasets\\\\EPIC_Kitchen\\\\OpticalFlow\\\\P01_04\\\\u\\\\frame_4326.jpg'\n",
      "Skipping frame: D:/Datasets/Datasets/EPIC_Kitchen/OpticalFlow/P01_04/v\\frame_4326.jpg due to error: [Errno 2] No such file or directory: 'D:\\\\Datasets\\\\Datasets\\\\EPIC_Kitchen\\\\OpticalFlow\\\\P01_04\\\\v\\\\frame_4326.jpg'\n"
     ]
    },
    {
     "name": "stderr",
     "output_type": "stream",
     "text": [
      "Extracting Features with DEFT:  69%|█████████████████████████████████               | 869/1262 [01:47<00:22, 17.72it/s]"
     ]
    },
    {
     "name": "stdout",
     "output_type": "stream",
     "text": [
      "Skipping frame: D:/Datasets/Datasets/EPIC_Kitchen/OpticalFlow/P01_04/u\\frame_4331.jpg due to error: [Errno 2] No such file or directory: 'D:\\\\Datasets\\\\Datasets\\\\EPIC_Kitchen\\\\OpticalFlow\\\\P01_04\\\\u\\\\frame_4331.jpg'\n",
      "Skipping frame: D:/Datasets/Datasets/EPIC_Kitchen/OpticalFlow/P01_04/v\\frame_4331.jpg due to error: [Errno 2] No such file or directory: 'D:\\\\Datasets\\\\Datasets\\\\EPIC_Kitchen\\\\OpticalFlow\\\\P01_04\\\\v\\\\frame_4331.jpg'\n",
      "Skipping frame: D:/Datasets/Datasets/EPIC_Kitchen/OpticalFlow/P01_04/u\\frame_4336.jpg due to error: [Errno 2] No such file or directory: 'D:\\\\Datasets\\\\Datasets\\\\EPIC_Kitchen\\\\OpticalFlow\\\\P01_04\\\\u\\\\frame_4336.jpg'\n",
      "Skipping frame: D:/Datasets/Datasets/EPIC_Kitchen/OpticalFlow/P01_04/v\\frame_4336.jpg due to error: [Errno 2] No such file or directory: 'D:\\\\Datasets\\\\Datasets\\\\EPIC_Kitchen\\\\OpticalFlow\\\\P01_04\\\\v\\\\frame_4336.jpg'\n",
      "Skipping frame: D:/Datasets/Datasets/EPIC_Kitchen/OpticalFlow/P01_04/u\\frame_4341.jpg due to error: [Errno 2] No such file or directory: 'D:\\\\Datasets\\\\Datasets\\\\EPIC_Kitchen\\\\OpticalFlow\\\\P01_04\\\\u\\\\frame_4341.jpg'\n",
      "Skipping frame: D:/Datasets/Datasets/EPIC_Kitchen/OpticalFlow/P01_04/v\\frame_4341.jpg due to error: [Errno 2] No such file or directory: 'D:\\\\Datasets\\\\Datasets\\\\EPIC_Kitchen\\\\OpticalFlow\\\\P01_04\\\\v\\\\frame_4341.jpg'\n",
      "Skipping frame: D:/Datasets/Datasets/EPIC_Kitchen/OpticalFlow/P01_04/u\\frame_4346.jpg due to error: [Errno 2] No such file or directory: 'D:\\\\Datasets\\\\Datasets\\\\EPIC_Kitchen\\\\OpticalFlow\\\\P01_04\\\\u\\\\frame_4346.jpg'\n",
      "Skipping frame: D:/Datasets/Datasets/EPIC_Kitchen/OpticalFlow/P01_04/v\\frame_4346.jpg due to error: [Errno 2] No such file or directory: 'D:\\\\Datasets\\\\Datasets\\\\EPIC_Kitchen\\\\OpticalFlow\\\\P01_04\\\\v\\\\frame_4346.jpg'\n"
     ]
    },
    {
     "name": "stderr",
     "output_type": "stream",
     "text": [
      "Extracting Features with DEFT:  69%|█████████████████████████████████▏              | 874/1262 [01:47<00:20, 19.01it/s]"
     ]
    },
    {
     "name": "stdout",
     "output_type": "stream",
     "text": [
      "Skipping frame: D:/Datasets/Datasets/EPIC_Kitchen/OpticalFlow/P01_04/u\\frame_4351.jpg due to error: [Errno 2] No such file or directory: 'D:\\\\Datasets\\\\Datasets\\\\EPIC_Kitchen\\\\OpticalFlow\\\\P01_04\\\\u\\\\frame_4351.jpg'\n",
      "Skipping frame: D:/Datasets/Datasets/EPIC_Kitchen/OpticalFlow/P01_04/v\\frame_4351.jpg due to error: [Errno 2] No such file or directory: 'D:\\\\Datasets\\\\Datasets\\\\EPIC_Kitchen\\\\OpticalFlow\\\\P01_04\\\\v\\\\frame_4351.jpg'\n",
      "Skipping frame: D:/Datasets/Datasets/EPIC_Kitchen/OpticalFlow/P01_04/u\\frame_4356.jpg due to error: [Errno 2] No such file or directory: 'D:\\\\Datasets\\\\Datasets\\\\EPIC_Kitchen\\\\OpticalFlow\\\\P01_04\\\\u\\\\frame_4356.jpg'\n",
      "Skipping frame: D:/Datasets/Datasets/EPIC_Kitchen/OpticalFlow/P01_04/v\\frame_4356.jpg due to error: [Errno 2] No such file or directory: 'D:\\\\Datasets\\\\Datasets\\\\EPIC_Kitchen\\\\OpticalFlow\\\\P01_04\\\\v\\\\frame_4356.jpg'\n",
      "Skipping frame: D:/Datasets/Datasets/EPIC_Kitchen/OpticalFlow/P01_04/u\\frame_4361.jpg due to error: [Errno 2] No such file or directory: 'D:\\\\Datasets\\\\Datasets\\\\EPIC_Kitchen\\\\OpticalFlow\\\\P01_04\\\\u\\\\frame_4361.jpg'\n",
      "Skipping frame: D:/Datasets/Datasets/EPIC_Kitchen/OpticalFlow/P01_04/v\\frame_4361.jpg due to error: [Errno 2] No such file or directory: 'D:\\\\Datasets\\\\Datasets\\\\EPIC_Kitchen\\\\OpticalFlow\\\\P01_04\\\\v\\\\frame_4361.jpg'\n",
      "Skipping frame: D:/Datasets/Datasets/EPIC_Kitchen/OpticalFlow/P01_04/u\\frame_4366.jpg due to error: [Errno 2] No such file or directory: 'D:\\\\Datasets\\\\Datasets\\\\EPIC_Kitchen\\\\OpticalFlow\\\\P01_04\\\\u\\\\frame_4366.jpg'\n",
      "Skipping frame: D:/Datasets/Datasets/EPIC_Kitchen/OpticalFlow/P01_04/v\\frame_4366.jpg due to error: [Errno 2] No such file or directory: 'D:\\\\Datasets\\\\Datasets\\\\EPIC_Kitchen\\\\OpticalFlow\\\\P01_04\\\\v\\\\frame_4366.jpg'\n",
      "Skipping frame: D:/Datasets/Datasets/EPIC_Kitchen/OpticalFlow/P01_04/u\\frame_4371.jpg due to error: [Errno 2] No such file or directory: 'D:\\\\Datasets\\\\Datasets\\\\EPIC_Kitchen\\\\OpticalFlow\\\\P01_04\\\\u\\\\frame_4371.jpg'\n",
      "Skipping frame: D:/Datasets/Datasets/EPIC_Kitchen/OpticalFlow/P01_04/v\\frame_4371.jpg due to error: [Errno 2] No such file or directory: 'D:\\\\Datasets\\\\Datasets\\\\EPIC_Kitchen\\\\OpticalFlow\\\\P01_04\\\\v\\\\frame_4371.jpg'\n"
     ]
    },
    {
     "name": "stderr",
     "output_type": "stream",
     "text": [
      "Extracting Features with DEFT:  70%|█████████████████████████████████▍              | 879/1262 [01:47<00:19, 19.63it/s]"
     ]
    },
    {
     "name": "stdout",
     "output_type": "stream",
     "text": [
      "Skipping frame: D:/Datasets/Datasets/EPIC_Kitchen/OpticalFlow/P01_04/u\\frame_4376.jpg due to error: [Errno 2] No such file or directory: 'D:\\\\Datasets\\\\Datasets\\\\EPIC_Kitchen\\\\OpticalFlow\\\\P01_04\\\\u\\\\frame_4376.jpg'\n",
      "Skipping frame: D:/Datasets/Datasets/EPIC_Kitchen/OpticalFlow/P01_04/v\\frame_4376.jpg due to error: [Errno 2] No such file or directory: 'D:\\\\Datasets\\\\Datasets\\\\EPIC_Kitchen\\\\OpticalFlow\\\\P01_04\\\\v\\\\frame_4376.jpg'\n",
      "Skipping frame: D:/Datasets/Datasets/EPIC_Kitchen/OpticalFlow/P01_04/u\\frame_4381.jpg due to error: [Errno 2] No such file or directory: 'D:\\\\Datasets\\\\Datasets\\\\EPIC_Kitchen\\\\OpticalFlow\\\\P01_04\\\\u\\\\frame_4381.jpg'\n",
      "Skipping frame: D:/Datasets/Datasets/EPIC_Kitchen/OpticalFlow/P01_04/v\\frame_4381.jpg due to error: [Errno 2] No such file or directory: 'D:\\\\Datasets\\\\Datasets\\\\EPIC_Kitchen\\\\OpticalFlow\\\\P01_04\\\\v\\\\frame_4381.jpg'\n",
      "Skipping frame: D:/Datasets/Datasets/EPIC_Kitchen/OpticalFlow/P01_04/u\\frame_4386.jpg due to error: [Errno 2] No such file or directory: 'D:\\\\Datasets\\\\Datasets\\\\EPIC_Kitchen\\\\OpticalFlow\\\\P01_04\\\\u\\\\frame_4386.jpg'\n",
      "Skipping frame: D:/Datasets/Datasets/EPIC_Kitchen/OpticalFlow/P01_04/v\\frame_4386.jpg due to error: [Errno 2] No such file or directory: 'D:\\\\Datasets\\\\Datasets\\\\EPIC_Kitchen\\\\OpticalFlow\\\\P01_04\\\\v\\\\frame_4386.jpg'\n",
      "Skipping frame: D:/Datasets/Datasets/EPIC_Kitchen/OpticalFlow/P01_04/u\\frame_4391.jpg due to error: [Errno 2] No such file or directory: 'D:\\\\Datasets\\\\Datasets\\\\EPIC_Kitchen\\\\OpticalFlow\\\\P01_04\\\\u\\\\frame_4391.jpg'\n",
      "Skipping frame: D:/Datasets/Datasets/EPIC_Kitchen/OpticalFlow/P01_04/v\\frame_4391.jpg due to error: [Errno 2] No such file or directory: 'D:\\\\Datasets\\\\Datasets\\\\EPIC_Kitchen\\\\OpticalFlow\\\\P01_04\\\\v\\\\frame_4391.jpg'\n"
     ]
    },
    {
     "name": "stderr",
     "output_type": "stream",
     "text": [
      "\r",
      "Extracting Features with DEFT:  70%|█████████████████████████████████▌              | 882/1262 [01:47<00:19, 19.97it/s]"
     ]
    },
    {
     "name": "stdout",
     "output_type": "stream",
     "text": [
      "Skipping frame: D:/Datasets/Datasets/EPIC_Kitchen/OpticalFlow/P01_04/u\\frame_4396.jpg due to error: [Errno 2] No such file or directory: 'D:\\\\Datasets\\\\Datasets\\\\EPIC_Kitchen\\\\OpticalFlow\\\\P01_04\\\\u\\\\frame_4396.jpg'\n",
      "Skipping frame: D:/Datasets/Datasets/EPIC_Kitchen/OpticalFlow/P01_04/v\\frame_4396.jpg due to error: [Errno 2] No such file or directory: 'D:\\\\Datasets\\\\Datasets\\\\EPIC_Kitchen\\\\OpticalFlow\\\\P01_04\\\\v\\\\frame_4396.jpg'\n",
      "Skipping frame: D:/Datasets/Datasets/EPIC_Kitchen/OpticalFlow/P01_04/u\\frame_4401.jpg due to error: [Errno 2] No such file or directory: 'D:\\\\Datasets\\\\Datasets\\\\EPIC_Kitchen\\\\OpticalFlow\\\\P01_04\\\\u\\\\frame_4401.jpg'\n",
      "Skipping frame: D:/Datasets/Datasets/EPIC_Kitchen/OpticalFlow/P01_04/v\\frame_4401.jpg due to error: [Errno 2] No such file or directory: 'D:\\\\Datasets\\\\Datasets\\\\EPIC_Kitchen\\\\OpticalFlow\\\\P01_04\\\\v\\\\frame_4401.jpg'\n",
      "Skipping frame: D:/Datasets/Datasets/EPIC_Kitchen/OpticalFlow/P01_04/u\\frame_4406.jpg due to error: [Errno 2] No such file or directory: 'D:\\\\Datasets\\\\Datasets\\\\EPIC_Kitchen\\\\OpticalFlow\\\\P01_04\\\\u\\\\frame_4406.jpg'\n",
      "Skipping frame: D:/Datasets/Datasets/EPIC_Kitchen/OpticalFlow/P01_04/v\\frame_4406.jpg due to error: [Errno 2] No such file or directory: 'D:\\\\Datasets\\\\Datasets\\\\EPIC_Kitchen\\\\OpticalFlow\\\\P01_04\\\\v\\\\frame_4406.jpg'\n",
      "Skipping frame: D:/Datasets/Datasets/EPIC_Kitchen/OpticalFlow/P01_04/u\\frame_4411.jpg due to error: [Errno 2] No such file or directory: 'D:\\\\Datasets\\\\Datasets\\\\EPIC_Kitchen\\\\OpticalFlow\\\\P01_04\\\\u\\\\frame_4411.jpg'\n",
      "Skipping frame: D:/Datasets/Datasets/EPIC_Kitchen/OpticalFlow/P01_04/v\\frame_4411.jpg due to error: [Errno 2] No such file or directory: 'D:\\\\Datasets\\\\Datasets\\\\EPIC_Kitchen\\\\OpticalFlow\\\\P01_04\\\\v\\\\frame_4411.jpg'\n",
      "Skipping frame: D:/Datasets/Datasets/EPIC_Kitchen/OpticalFlow/P01_04/u\\frame_4416.jpg due to error: [Errno 2] No such file or directory: 'D:\\\\Datasets\\\\Datasets\\\\EPIC_Kitchen\\\\OpticalFlow\\\\P01_04\\\\u\\\\frame_4416.jpg'\n",
      "Skipping frame: D:/Datasets/Datasets/EPIC_Kitchen/OpticalFlow/P01_04/v\\frame_4416.jpg due to error: [Errno 2] No such file or directory: 'D:\\\\Datasets\\\\Datasets\\\\EPIC_Kitchen\\\\OpticalFlow\\\\P01_04\\\\v\\\\frame_4416.jpg'\n"
     ]
    },
    {
     "name": "stderr",
     "output_type": "stream",
     "text": [
      "Extracting Features with DEFT:  70%|█████████████████████████████████▊              | 888/1262 [01:48<00:18, 19.85it/s]"
     ]
    },
    {
     "name": "stdout",
     "output_type": "stream",
     "text": [
      "Skipping frame: D:/Datasets/Datasets/EPIC_Kitchen/OpticalFlow/P01_04/u\\frame_4421.jpg due to error: [Errno 2] No such file or directory: 'D:\\\\Datasets\\\\Datasets\\\\EPIC_Kitchen\\\\OpticalFlow\\\\P01_04\\\\u\\\\frame_4421.jpg'\n",
      "Skipping frame: D:/Datasets/Datasets/EPIC_Kitchen/OpticalFlow/P01_04/v\\frame_4421.jpg due to error: [Errno 2] No such file or directory: 'D:\\\\Datasets\\\\Datasets\\\\EPIC_Kitchen\\\\OpticalFlow\\\\P01_04\\\\v\\\\frame_4421.jpg'\n",
      "Skipping frame: D:/Datasets/Datasets/EPIC_Kitchen/OpticalFlow/P01_04/u\\frame_4426.jpg due to error: [Errno 2] No such file or directory: 'D:\\\\Datasets\\\\Datasets\\\\EPIC_Kitchen\\\\OpticalFlow\\\\P01_04\\\\u\\\\frame_4426.jpg'\n",
      "Skipping frame: D:/Datasets/Datasets/EPIC_Kitchen/OpticalFlow/P01_04/v\\frame_4426.jpg due to error: [Errno 2] No such file or directory: 'D:\\\\Datasets\\\\Datasets\\\\EPIC_Kitchen\\\\OpticalFlow\\\\P01_04\\\\v\\\\frame_4426.jpg'\n",
      "Skipping frame: D:/Datasets/Datasets/EPIC_Kitchen/OpticalFlow/P01_04/u\\frame_4431.jpg due to error: [Errno 2] No such file or directory: 'D:\\\\Datasets\\\\Datasets\\\\EPIC_Kitchen\\\\OpticalFlow\\\\P01_04\\\\u\\\\frame_4431.jpg'\n",
      "Skipping frame: D:/Datasets/Datasets/EPIC_Kitchen/OpticalFlow/P01_04/v\\frame_4431.jpg due to error: [Errno 2] No such file or directory: 'D:\\\\Datasets\\\\Datasets\\\\EPIC_Kitchen\\\\OpticalFlow\\\\P01_04\\\\v\\\\frame_4431.jpg'\n",
      "Skipping frame: D:/Datasets/Datasets/EPIC_Kitchen/OpticalFlow/P01_04/u\\frame_4436.jpg due to error: [Errno 2] No such file or directory: 'D:\\\\Datasets\\\\Datasets\\\\EPIC_Kitchen\\\\OpticalFlow\\\\P01_04\\\\u\\\\frame_4436.jpg'\n",
      "Skipping frame: D:/Datasets/Datasets/EPIC_Kitchen/OpticalFlow/P01_04/v\\frame_4436.jpg due to error: [Errno 2] No such file or directory: 'D:\\\\Datasets\\\\Datasets\\\\EPIC_Kitchen\\\\OpticalFlow\\\\P01_04\\\\v\\\\frame_4436.jpg'\n",
      "Skipping frame: D:/Datasets/Datasets/EPIC_Kitchen/OpticalFlow/P01_04/u\\frame_4441.jpg due to error: [Errno 2] No such file or directory: 'D:\\\\Datasets\\\\Datasets\\\\EPIC_Kitchen\\\\OpticalFlow\\\\P01_04\\\\u\\\\frame_4441.jpg'\n",
      "Skipping frame: D:/Datasets/Datasets/EPIC_Kitchen/OpticalFlow/P01_04/v\\frame_4441.jpg due to error: [Errno 2] No such file or directory: 'D:\\\\Datasets\\\\Datasets\\\\EPIC_Kitchen\\\\OpticalFlow\\\\P01_04\\\\v\\\\frame_4441.jpg'\n"
     ]
    },
    {
     "name": "stderr",
     "output_type": "stream",
     "text": [
      "Extracting Features with DEFT:  71%|█████████████████████████████████▉              | 892/1262 [01:48<00:19, 19.34it/s]"
     ]
    },
    {
     "name": "stdout",
     "output_type": "stream",
     "text": [
      "Skipping frame: D:/Datasets/Datasets/EPIC_Kitchen/OpticalFlow/P01_04/u\\frame_4446.jpg due to error: [Errno 2] No such file or directory: 'D:\\\\Datasets\\\\Datasets\\\\EPIC_Kitchen\\\\OpticalFlow\\\\P01_04\\\\u\\\\frame_4446.jpg'\n",
      "Skipping frame: D:/Datasets/Datasets/EPIC_Kitchen/OpticalFlow/P01_04/v\\frame_4446.jpg due to error: [Errno 2] No such file or directory: 'D:\\\\Datasets\\\\Datasets\\\\EPIC_Kitchen\\\\OpticalFlow\\\\P01_04\\\\v\\\\frame_4446.jpg'\n",
      "Skipping frame: D:/Datasets/Datasets/EPIC_Kitchen/OpticalFlow/P01_04/u\\frame_4451.jpg due to error: [Errno 2] No such file or directory: 'D:\\\\Datasets\\\\Datasets\\\\EPIC_Kitchen\\\\OpticalFlow\\\\P01_04\\\\u\\\\frame_4451.jpg'\n",
      "Skipping frame: D:/Datasets/Datasets/EPIC_Kitchen/OpticalFlow/P01_04/v\\frame_4451.jpg due to error: [Errno 2] No such file or directory: 'D:\\\\Datasets\\\\Datasets\\\\EPIC_Kitchen\\\\OpticalFlow\\\\P01_04\\\\v\\\\frame_4451.jpg'\n",
      "Skipping frame: D:/Datasets/Datasets/EPIC_Kitchen/OpticalFlow/P01_04/u\\frame_4456.jpg due to error: [Errno 2] No such file or directory: 'D:\\\\Datasets\\\\Datasets\\\\EPIC_Kitchen\\\\OpticalFlow\\\\P01_04\\\\u\\\\frame_4456.jpg'\n",
      "Skipping frame: D:/Datasets/Datasets/EPIC_Kitchen/OpticalFlow/P01_04/v\\frame_4456.jpg due to error: [Errno 2] No such file or directory: 'D:\\\\Datasets\\\\Datasets\\\\EPIC_Kitchen\\\\OpticalFlow\\\\P01_04\\\\v\\\\frame_4456.jpg'\n",
      "Skipping frame: D:/Datasets/Datasets/EPIC_Kitchen/OpticalFlow/P01_04/u\\frame_4461.jpg due to error: [Errno 2] No such file or directory: 'D:\\\\Datasets\\\\Datasets\\\\EPIC_Kitchen\\\\OpticalFlow\\\\P01_04\\\\u\\\\frame_4461.jpg'\n",
      "Skipping frame: D:/Datasets/Datasets/EPIC_Kitchen/OpticalFlow/P01_04/v\\frame_4461.jpg due to error: [Errno 2] No such file or directory: 'D:\\\\Datasets\\\\Datasets\\\\EPIC_Kitchen\\\\OpticalFlow\\\\P01_04\\\\v\\\\frame_4461.jpg'\n"
     ]
    },
    {
     "name": "stderr",
     "output_type": "stream",
     "text": [
      "Extracting Features with DEFT:  71%|██████████████████████████████████▏             | 898/1262 [01:48<00:18, 19.22it/s]"
     ]
    },
    {
     "name": "stdout",
     "output_type": "stream",
     "text": [
      "Skipping frame: D:/Datasets/Datasets/EPIC_Kitchen/OpticalFlow/P01_04/u\\frame_4466.jpg due to error: [Errno 2] No such file or directory: 'D:\\\\Datasets\\\\Datasets\\\\EPIC_Kitchen\\\\OpticalFlow\\\\P01_04\\\\u\\\\frame_4466.jpg'\n",
      "Skipping frame: D:/Datasets/Datasets/EPIC_Kitchen/OpticalFlow/P01_04/v\\frame_4466.jpg due to error: [Errno 2] No such file or directory: 'D:\\\\Datasets\\\\Datasets\\\\EPIC_Kitchen\\\\OpticalFlow\\\\P01_04\\\\v\\\\frame_4466.jpg'\n",
      "Skipping frame: D:/Datasets/Datasets/EPIC_Kitchen/OpticalFlow/P01_04/u\\frame_4471.jpg due to error: [Errno 2] No such file or directory: 'D:\\\\Datasets\\\\Datasets\\\\EPIC_Kitchen\\\\OpticalFlow\\\\P01_04\\\\u\\\\frame_4471.jpg'\n",
      "Skipping frame: D:/Datasets/Datasets/EPIC_Kitchen/OpticalFlow/P01_04/v\\frame_4471.jpg due to error: [Errno 2] No such file or directory: 'D:\\\\Datasets\\\\Datasets\\\\EPIC_Kitchen\\\\OpticalFlow\\\\P01_04\\\\v\\\\frame_4471.jpg'\n",
      "Skipping frame: D:/Datasets/Datasets/EPIC_Kitchen/OpticalFlow/P01_04/u\\frame_4476.jpg due to error: [Errno 2] No such file or directory: 'D:\\\\Datasets\\\\Datasets\\\\EPIC_Kitchen\\\\OpticalFlow\\\\P01_04\\\\u\\\\frame_4476.jpg'\n",
      "Skipping frame: D:/Datasets/Datasets/EPIC_Kitchen/OpticalFlow/P01_04/v\\frame_4476.jpg due to error: [Errno 2] No such file or directory: 'D:\\\\Datasets\\\\Datasets\\\\EPIC_Kitchen\\\\OpticalFlow\\\\P01_04\\\\v\\\\frame_4476.jpg'\n",
      "Skipping frame: D:/Datasets/Datasets/EPIC_Kitchen/OpticalFlow/P01_04/u\\frame_4481.jpg due to error: [Errno 2] No such file or directory: 'D:\\\\Datasets\\\\Datasets\\\\EPIC_Kitchen\\\\OpticalFlow\\\\P01_04\\\\u\\\\frame_4481.jpg'\n",
      "Skipping frame: D:/Datasets/Datasets/EPIC_Kitchen/OpticalFlow/P01_04/v\\frame_4481.jpg due to error: [Errno 2] No such file or directory: 'D:\\\\Datasets\\\\Datasets\\\\EPIC_Kitchen\\\\OpticalFlow\\\\P01_04\\\\v\\\\frame_4481.jpg'\n",
      "Skipping frame: D:/Datasets/Datasets/EPIC_Kitchen/OpticalFlow/P01_04/u\\frame_4486.jpg due to error: [Errno 2] No such file or directory: 'D:\\\\Datasets\\\\Datasets\\\\EPIC_Kitchen\\\\OpticalFlow\\\\P01_04\\\\u\\\\frame_4486.jpg'\n",
      "Skipping frame: D:/Datasets/Datasets/EPIC_Kitchen/OpticalFlow/P01_04/v\\frame_4486.jpg due to error: [Errno 2] No such file or directory: 'D:\\\\Datasets\\\\Datasets\\\\EPIC_Kitchen\\\\OpticalFlow\\\\P01_04\\\\v\\\\frame_4486.jpg'\n"
     ]
    },
    {
     "name": "stderr",
     "output_type": "stream",
     "text": [
      "Extracting Features with DEFT:  71%|██████████████████████████████████▎             | 902/1262 [01:48<00:19, 18.66it/s]"
     ]
    },
    {
     "name": "stdout",
     "output_type": "stream",
     "text": [
      "Skipping frame: D:/Datasets/Datasets/EPIC_Kitchen/OpticalFlow/P01_04/u\\frame_4491.jpg due to error: [Errno 2] No such file or directory: 'D:\\\\Datasets\\\\Datasets\\\\EPIC_Kitchen\\\\OpticalFlow\\\\P01_04\\\\u\\\\frame_4491.jpg'\n",
      "Skipping frame: D:/Datasets/Datasets/EPIC_Kitchen/OpticalFlow/P01_04/v\\frame_4491.jpg due to error: [Errno 2] No such file or directory: 'D:\\\\Datasets\\\\Datasets\\\\EPIC_Kitchen\\\\OpticalFlow\\\\P01_04\\\\v\\\\frame_4491.jpg'\n",
      "Skipping frame: D:/Datasets/Datasets/EPIC_Kitchen/OpticalFlow/P01_04/u\\frame_4496.jpg due to error: [Errno 2] No such file or directory: 'D:\\\\Datasets\\\\Datasets\\\\EPIC_Kitchen\\\\OpticalFlow\\\\P01_04\\\\u\\\\frame_4496.jpg'\n",
      "Skipping frame: D:/Datasets/Datasets/EPIC_Kitchen/OpticalFlow/P01_04/v\\frame_4496.jpg due to error: [Errno 2] No such file or directory: 'D:\\\\Datasets\\\\Datasets\\\\EPIC_Kitchen\\\\OpticalFlow\\\\P01_04\\\\v\\\\frame_4496.jpg'\n",
      "Skipping frame: D:/Datasets/Datasets/EPIC_Kitchen/OpticalFlow/P01_04/u\\frame_4501.jpg due to error: [Errno 2] No such file or directory: 'D:\\\\Datasets\\\\Datasets\\\\EPIC_Kitchen\\\\OpticalFlow\\\\P01_04\\\\u\\\\frame_4501.jpg'\n",
      "Skipping frame: D:/Datasets/Datasets/EPIC_Kitchen/OpticalFlow/P01_04/v\\frame_4501.jpg due to error: [Errno 2] No such file or directory: 'D:\\\\Datasets\\\\Datasets\\\\EPIC_Kitchen\\\\OpticalFlow\\\\P01_04\\\\v\\\\frame_4501.jpg'\n",
      "Skipping frame: D:/Datasets/Datasets/EPIC_Kitchen/OpticalFlow/P01_04/u\\frame_4506.jpg due to error: [Errno 2] No such file or directory: 'D:\\\\Datasets\\\\Datasets\\\\EPIC_Kitchen\\\\OpticalFlow\\\\P01_04\\\\u\\\\frame_4506.jpg'\n",
      "Skipping frame: D:/Datasets/Datasets/EPIC_Kitchen/OpticalFlow/P01_04/v\\frame_4506.jpg due to error: [Errno 2] No such file or directory: 'D:\\\\Datasets\\\\Datasets\\\\EPIC_Kitchen\\\\OpticalFlow\\\\P01_04\\\\v\\\\frame_4506.jpg'\n"
     ]
    },
    {
     "name": "stderr",
     "output_type": "stream",
     "text": [
      "\r",
      "Extracting Features with DEFT:  72%|██████████████████████████████████▍             | 904/1262 [01:48<00:19, 18.51it/s]"
     ]
    },
    {
     "name": "stdout",
     "output_type": "stream",
     "text": [
      "Skipping frame: D:/Datasets/Datasets/EPIC_Kitchen/OpticalFlow/P01_04/u\\frame_4511.jpg due to error: [Errno 2] No such file or directory: 'D:\\\\Datasets\\\\Datasets\\\\EPIC_Kitchen\\\\OpticalFlow\\\\P01_04\\\\u\\\\frame_4511.jpg'\n",
      "Skipping frame: D:/Datasets/Datasets/EPIC_Kitchen/OpticalFlow/P01_04/v\\frame_4511.jpg due to error: [Errno 2] No such file or directory: 'D:\\\\Datasets\\\\Datasets\\\\EPIC_Kitchen\\\\OpticalFlow\\\\P01_04\\\\v\\\\frame_4511.jpg'\n",
      "Skipping frame: D:/Datasets/Datasets/EPIC_Kitchen/OpticalFlow/P01_04/u\\frame_4516.jpg due to error: [Errno 2] No such file or directory: 'D:\\\\Datasets\\\\Datasets\\\\EPIC_Kitchen\\\\OpticalFlow\\\\P01_04\\\\u\\\\frame_4516.jpg'\n",
      "Skipping frame: D:/Datasets/Datasets/EPIC_Kitchen/OpticalFlow/P01_04/v\\frame_4516.jpg due to error: [Errno 2] No such file or directory: 'D:\\\\Datasets\\\\Datasets\\\\EPIC_Kitchen\\\\OpticalFlow\\\\P01_04\\\\v\\\\frame_4516.jpg'\n",
      "Skipping frame: D:/Datasets/Datasets/EPIC_Kitchen/OpticalFlow/P01_04/u\\frame_4521.jpg due to error: [Errno 2] No such file or directory: 'D:\\\\Datasets\\\\Datasets\\\\EPIC_Kitchen\\\\OpticalFlow\\\\P01_04\\\\u\\\\frame_4521.jpg'\n",
      "Skipping frame: D:/Datasets/Datasets/EPIC_Kitchen/OpticalFlow/P01_04/v\\frame_4521.jpg due to error: [Errno 2] No such file or directory: 'D:\\\\Datasets\\\\Datasets\\\\EPIC_Kitchen\\\\OpticalFlow\\\\P01_04\\\\v\\\\frame_4521.jpg'\n",
      "Skipping frame: D:/Datasets/Datasets/EPIC_Kitchen/OpticalFlow/P01_04/u\\frame_4526.jpg due to error: [Errno 2] No such file or directory: 'D:\\\\Datasets\\\\Datasets\\\\EPIC_Kitchen\\\\OpticalFlow\\\\P01_04\\\\u\\\\frame_4526.jpg'\n",
      "Skipping frame: D:/Datasets/Datasets/EPIC_Kitchen/OpticalFlow/P01_04/v\\frame_4526.jpg due to error: [Errno 2] No such file or directory: 'D:\\\\Datasets\\\\Datasets\\\\EPIC_Kitchen\\\\OpticalFlow\\\\P01_04\\\\v\\\\frame_4526.jpg'\n"
     ]
    },
    {
     "name": "stderr",
     "output_type": "stream",
     "text": [
      "Extracting Features with DEFT:  72%|██████████████████████████████████▌             | 909/1262 [01:49<00:19, 18.43it/s]"
     ]
    },
    {
     "name": "stdout",
     "output_type": "stream",
     "text": [
      "Skipping frame: D:/Datasets/Datasets/EPIC_Kitchen/OpticalFlow/P01_04/u\\frame_4531.jpg due to error: [Errno 2] No such file or directory: 'D:\\\\Datasets\\\\Datasets\\\\EPIC_Kitchen\\\\OpticalFlow\\\\P01_04\\\\u\\\\frame_4531.jpg'\n",
      "Skipping frame: D:/Datasets/Datasets/EPIC_Kitchen/OpticalFlow/P01_04/v\\frame_4531.jpg due to error: [Errno 2] No such file or directory: 'D:\\\\Datasets\\\\Datasets\\\\EPIC_Kitchen\\\\OpticalFlow\\\\P01_04\\\\v\\\\frame_4531.jpg'\n",
      "Skipping frame: D:/Datasets/Datasets/EPIC_Kitchen/OpticalFlow/P01_04/u\\frame_4536.jpg due to error: [Errno 2] No such file or directory: 'D:\\\\Datasets\\\\Datasets\\\\EPIC_Kitchen\\\\OpticalFlow\\\\P01_04\\\\u\\\\frame_4536.jpg'\n",
      "Skipping frame: D:/Datasets/Datasets/EPIC_Kitchen/OpticalFlow/P01_04/v\\frame_4536.jpg due to error: [Errno 2] No such file or directory: 'D:\\\\Datasets\\\\Datasets\\\\EPIC_Kitchen\\\\OpticalFlow\\\\P01_04\\\\v\\\\frame_4536.jpg'\n",
      "Skipping frame: D:/Datasets/Datasets/EPIC_Kitchen/OpticalFlow/P01_04/u\\frame_4541.jpg due to error: [Errno 2] No such file or directory: 'D:\\\\Datasets\\\\Datasets\\\\EPIC_Kitchen\\\\OpticalFlow\\\\P01_04\\\\u\\\\frame_4541.jpg'\n",
      "Skipping frame: D:/Datasets/Datasets/EPIC_Kitchen/OpticalFlow/P01_04/v\\frame_4541.jpg due to error: [Errno 2] No such file or directory: 'D:\\\\Datasets\\\\Datasets\\\\EPIC_Kitchen\\\\OpticalFlow\\\\P01_04\\\\v\\\\frame_4541.jpg'\n",
      "Skipping frame: D:/Datasets/Datasets/EPIC_Kitchen/OpticalFlow/P01_04/u\\frame_4546.jpg due to error: [Errno 2] No such file or directory: 'D:\\\\Datasets\\\\Datasets\\\\EPIC_Kitchen\\\\OpticalFlow\\\\P01_04\\\\u\\\\frame_4546.jpg'\n",
      "Skipping frame: D:/Datasets/Datasets/EPIC_Kitchen/OpticalFlow/P01_04/v\\frame_4546.jpg due to error: [Errno 2] No such file or directory: 'D:\\\\Datasets\\\\Datasets\\\\EPIC_Kitchen\\\\OpticalFlow\\\\P01_04\\\\v\\\\frame_4546.jpg'\n"
     ]
    },
    {
     "name": "stderr",
     "output_type": "stream",
     "text": [
      "Extracting Features with DEFT:  72%|██████████████████████████████████▋             | 913/1262 [01:49<00:18, 18.41it/s]"
     ]
    },
    {
     "name": "stdout",
     "output_type": "stream",
     "text": [
      "Skipping frame: D:/Datasets/Datasets/EPIC_Kitchen/OpticalFlow/P01_04/u\\frame_4551.jpg due to error: [Errno 2] No such file or directory: 'D:\\\\Datasets\\\\Datasets\\\\EPIC_Kitchen\\\\OpticalFlow\\\\P01_04\\\\u\\\\frame_4551.jpg'\n",
      "Skipping frame: D:/Datasets/Datasets/EPIC_Kitchen/OpticalFlow/P01_04/v\\frame_4551.jpg due to error: [Errno 2] No such file or directory: 'D:\\\\Datasets\\\\Datasets\\\\EPIC_Kitchen\\\\OpticalFlow\\\\P01_04\\\\v\\\\frame_4551.jpg'\n",
      "Skipping frame: D:/Datasets/Datasets/EPIC_Kitchen/OpticalFlow/P01_04/u\\frame_4556.jpg due to error: [Errno 2] No such file or directory: 'D:\\\\Datasets\\\\Datasets\\\\EPIC_Kitchen\\\\OpticalFlow\\\\P01_04\\\\u\\\\frame_4556.jpg'\n",
      "Skipping frame: D:/Datasets/Datasets/EPIC_Kitchen/OpticalFlow/P01_04/v\\frame_4556.jpg due to error: [Errno 2] No such file or directory: 'D:\\\\Datasets\\\\Datasets\\\\EPIC_Kitchen\\\\OpticalFlow\\\\P01_04\\\\v\\\\frame_4556.jpg'\n",
      "Skipping frame: D:/Datasets/Datasets/EPIC_Kitchen/OpticalFlow/P01_04/u\\frame_4561.jpg due to error: [Errno 2] No such file or directory: 'D:\\\\Datasets\\\\Datasets\\\\EPIC_Kitchen\\\\OpticalFlow\\\\P01_04\\\\u\\\\frame_4561.jpg'\n",
      "Skipping frame: D:/Datasets/Datasets/EPIC_Kitchen/OpticalFlow/P01_04/v\\frame_4561.jpg due to error: [Errno 2] No such file or directory: 'D:\\\\Datasets\\\\Datasets\\\\EPIC_Kitchen\\\\OpticalFlow\\\\P01_04\\\\v\\\\frame_4561.jpg'\n",
      "Skipping frame: D:/Datasets/Datasets/EPIC_Kitchen/OpticalFlow/P01_04/u\\frame_4566.jpg due to error: [Errno 2] No such file or directory: 'D:\\\\Datasets\\\\Datasets\\\\EPIC_Kitchen\\\\OpticalFlow\\\\P01_04\\\\u\\\\frame_4566.jpg'\n",
      "Skipping frame: D:/Datasets/Datasets/EPIC_Kitchen/OpticalFlow/P01_04/v\\frame_4566.jpg due to error: [Errno 2] No such file or directory: 'D:\\\\Datasets\\\\Datasets\\\\EPIC_Kitchen\\\\OpticalFlow\\\\P01_04\\\\v\\\\frame_4566.jpg'\n"
     ]
    },
    {
     "name": "stderr",
     "output_type": "stream",
     "text": [
      "Extracting Features with DEFT:  73%|██████████████████████████████████▉             | 917/1262 [01:49<00:19, 17.94it/s]"
     ]
    },
    {
     "name": "stdout",
     "output_type": "stream",
     "text": [
      "Skipping frame: D:/Datasets/Datasets/EPIC_Kitchen/OpticalFlow/P01_04/u\\frame_4571.jpg due to error: [Errno 2] No such file or directory: 'D:\\\\Datasets\\\\Datasets\\\\EPIC_Kitchen\\\\OpticalFlow\\\\P01_04\\\\u\\\\frame_4571.jpg'\n",
      "Skipping frame: D:/Datasets/Datasets/EPIC_Kitchen/OpticalFlow/P01_04/v\\frame_4571.jpg due to error: [Errno 2] No such file or directory: 'D:\\\\Datasets\\\\Datasets\\\\EPIC_Kitchen\\\\OpticalFlow\\\\P01_04\\\\v\\\\frame_4571.jpg'\n",
      "Skipping frame: D:/Datasets/Datasets/EPIC_Kitchen/OpticalFlow/P01_04/u\\frame_4576.jpg due to error: [Errno 2] No such file or directory: 'D:\\\\Datasets\\\\Datasets\\\\EPIC_Kitchen\\\\OpticalFlow\\\\P01_04\\\\u\\\\frame_4576.jpg'\n",
      "Skipping frame: D:/Datasets/Datasets/EPIC_Kitchen/OpticalFlow/P01_04/v\\frame_4576.jpg due to error: [Errno 2] No such file or directory: 'D:\\\\Datasets\\\\Datasets\\\\EPIC_Kitchen\\\\OpticalFlow\\\\P01_04\\\\v\\\\frame_4576.jpg'\n",
      "Skipping frame: D:/Datasets/Datasets/EPIC_Kitchen/OpticalFlow/P01_04/u\\frame_4581.jpg due to error: [Errno 2] No such file or directory: 'D:\\\\Datasets\\\\Datasets\\\\EPIC_Kitchen\\\\OpticalFlow\\\\P01_04\\\\u\\\\frame_4581.jpg'\n",
      "Skipping frame: D:/Datasets/Datasets/EPIC_Kitchen/OpticalFlow/P01_04/v\\frame_4581.jpg due to error: [Errno 2] No such file or directory: 'D:\\\\Datasets\\\\Datasets\\\\EPIC_Kitchen\\\\OpticalFlow\\\\P01_04\\\\v\\\\frame_4581.jpg'\n",
      "Skipping frame: D:/Datasets/Datasets/EPIC_Kitchen/OpticalFlow/P01_04/u\\frame_4586.jpg due to error: [Errno 2] No such file or directory: 'D:\\\\Datasets\\\\Datasets\\\\EPIC_Kitchen\\\\OpticalFlow\\\\P01_04\\\\u\\\\frame_4586.jpg'\n",
      "Skipping frame: D:/Datasets/Datasets/EPIC_Kitchen/OpticalFlow/P01_04/v\\frame_4586.jpg due to error: [Errno 2] No such file or directory: 'D:\\\\Datasets\\\\Datasets\\\\EPIC_Kitchen\\\\OpticalFlow\\\\P01_04\\\\v\\\\frame_4586.jpg'\n"
     ]
    },
    {
     "name": "stderr",
     "output_type": "stream",
     "text": [
      "Extracting Features with DEFT:  73%|███████████████████████████████████             | 921/1262 [01:49<00:19, 17.70it/s]"
     ]
    },
    {
     "name": "stdout",
     "output_type": "stream",
     "text": [
      "Skipping frame: D:/Datasets/Datasets/EPIC_Kitchen/OpticalFlow/P01_04/u\\frame_4591.jpg due to error: [Errno 2] No such file or directory: 'D:\\\\Datasets\\\\Datasets\\\\EPIC_Kitchen\\\\OpticalFlow\\\\P01_04\\\\u\\\\frame_4591.jpg'\n",
      "Skipping frame: D:/Datasets/Datasets/EPIC_Kitchen/OpticalFlow/P01_04/v\\frame_4591.jpg due to error: [Errno 2] No such file or directory: 'D:\\\\Datasets\\\\Datasets\\\\EPIC_Kitchen\\\\OpticalFlow\\\\P01_04\\\\v\\\\frame_4591.jpg'\n",
      "Skipping frame: D:/Datasets/Datasets/EPIC_Kitchen/OpticalFlow/P01_04/u\\frame_4596.jpg due to error: [Errno 2] No such file or directory: 'D:\\\\Datasets\\\\Datasets\\\\EPIC_Kitchen\\\\OpticalFlow\\\\P01_04\\\\u\\\\frame_4596.jpg'\n",
      "Skipping frame: D:/Datasets/Datasets/EPIC_Kitchen/OpticalFlow/P01_04/v\\frame_4596.jpg due to error: [Errno 2] No such file or directory: 'D:\\\\Datasets\\\\Datasets\\\\EPIC_Kitchen\\\\OpticalFlow\\\\P01_04\\\\v\\\\frame_4596.jpg'\n",
      "Skipping frame: D:/Datasets/Datasets/EPIC_Kitchen/OpticalFlow/P01_04/u\\frame_4601.jpg due to error: [Errno 2] No such file or directory: 'D:\\\\Datasets\\\\Datasets\\\\EPIC_Kitchen\\\\OpticalFlow\\\\P01_04\\\\u\\\\frame_4601.jpg'\n",
      "Skipping frame: D:/Datasets/Datasets/EPIC_Kitchen/OpticalFlow/P01_04/v\\frame_4601.jpg due to error: [Errno 2] No such file or directory: 'D:\\\\Datasets\\\\Datasets\\\\EPIC_Kitchen\\\\OpticalFlow\\\\P01_04\\\\v\\\\frame_4601.jpg'\n",
      "Skipping frame: D:/Datasets/Datasets/EPIC_Kitchen/OpticalFlow/P01_04/u\\frame_4606.jpg due to error: [Errno 2] No such file or directory: 'D:\\\\Datasets\\\\Datasets\\\\EPIC_Kitchen\\\\OpticalFlow\\\\P01_04\\\\u\\\\frame_4606.jpg'\n",
      "Skipping frame: D:/Datasets/Datasets/EPIC_Kitchen/OpticalFlow/P01_04/v\\frame_4606.jpg due to error: [Errno 2] No such file or directory: 'D:\\\\Datasets\\\\Datasets\\\\EPIC_Kitchen\\\\OpticalFlow\\\\P01_04\\\\v\\\\frame_4606.jpg'\n"
     ]
    },
    {
     "name": "stderr",
     "output_type": "stream",
     "text": [
      "Extracting Features with DEFT:  73%|███████████████████████████████████▏            | 925/1262 [01:50<00:18, 17.82it/s]"
     ]
    },
    {
     "name": "stdout",
     "output_type": "stream",
     "text": [
      "Skipping frame: D:/Datasets/Datasets/EPIC_Kitchen/OpticalFlow/P01_04/u\\frame_4611.jpg due to error: [Errno 2] No such file or directory: 'D:\\\\Datasets\\\\Datasets\\\\EPIC_Kitchen\\\\OpticalFlow\\\\P01_04\\\\u\\\\frame_4611.jpg'\n",
      "Skipping frame: D:/Datasets/Datasets/EPIC_Kitchen/OpticalFlow/P01_04/v\\frame_4611.jpg due to error: [Errno 2] No such file or directory: 'D:\\\\Datasets\\\\Datasets\\\\EPIC_Kitchen\\\\OpticalFlow\\\\P01_04\\\\v\\\\frame_4611.jpg'\n",
      "Skipping frame: D:/Datasets/Datasets/EPIC_Kitchen/OpticalFlow/P01_04/u\\frame_4616.jpg due to error: [Errno 2] No such file or directory: 'D:\\\\Datasets\\\\Datasets\\\\EPIC_Kitchen\\\\OpticalFlow\\\\P01_04\\\\u\\\\frame_4616.jpg'\n",
      "Skipping frame: D:/Datasets/Datasets/EPIC_Kitchen/OpticalFlow/P01_04/v\\frame_4616.jpg due to error: [Errno 2] No such file or directory: 'D:\\\\Datasets\\\\Datasets\\\\EPIC_Kitchen\\\\OpticalFlow\\\\P01_04\\\\v\\\\frame_4616.jpg'\n",
      "Skipping frame: D:/Datasets/Datasets/EPIC_Kitchen/OpticalFlow/P01_04/u\\frame_4621.jpg due to error: [Errno 2] No such file or directory: 'D:\\\\Datasets\\\\Datasets\\\\EPIC_Kitchen\\\\OpticalFlow\\\\P01_04\\\\u\\\\frame_4621.jpg'\n",
      "Skipping frame: D:/Datasets/Datasets/EPIC_Kitchen/OpticalFlow/P01_04/v\\frame_4621.jpg due to error: [Errno 2] No such file or directory: 'D:\\\\Datasets\\\\Datasets\\\\EPIC_Kitchen\\\\OpticalFlow\\\\P01_04\\\\v\\\\frame_4621.jpg'\n",
      "Skipping frame: D:/Datasets/Datasets/EPIC_Kitchen/OpticalFlow/P01_04/u\\frame_4626.jpg due to error: [Errno 2] No such file or directory: 'D:\\\\Datasets\\\\Datasets\\\\EPIC_Kitchen\\\\OpticalFlow\\\\P01_04\\\\u\\\\frame_4626.jpg'\n",
      "Skipping frame: D:/Datasets/Datasets/EPIC_Kitchen/OpticalFlow/P01_04/v\\frame_4626.jpg due to error: [Errno 2] No such file or directory: 'D:\\\\Datasets\\\\Datasets\\\\EPIC_Kitchen\\\\OpticalFlow\\\\P01_04\\\\v\\\\frame_4626.jpg'\n"
     ]
    },
    {
     "name": "stderr",
     "output_type": "stream",
     "text": [
      "Extracting Features with DEFT:  74%|███████████████████████████████████▎            | 929/1262 [01:50<00:18, 18.17it/s]"
     ]
    },
    {
     "name": "stdout",
     "output_type": "stream",
     "text": [
      "Skipping frame: D:/Datasets/Datasets/EPIC_Kitchen/OpticalFlow/P01_04/u\\frame_4631.jpg due to error: [Errno 2] No such file or directory: 'D:\\\\Datasets\\\\Datasets\\\\EPIC_Kitchen\\\\OpticalFlow\\\\P01_04\\\\u\\\\frame_4631.jpg'\n",
      "Skipping frame: D:/Datasets/Datasets/EPIC_Kitchen/OpticalFlow/P01_04/v\\frame_4631.jpg due to error: [Errno 2] No such file or directory: 'D:\\\\Datasets\\\\Datasets\\\\EPIC_Kitchen\\\\OpticalFlow\\\\P01_04\\\\v\\\\frame_4631.jpg'\n",
      "Skipping frame: D:/Datasets/Datasets/EPIC_Kitchen/OpticalFlow/P01_04/u\\frame_4636.jpg due to error: [Errno 2] No such file or directory: 'D:\\\\Datasets\\\\Datasets\\\\EPIC_Kitchen\\\\OpticalFlow\\\\P01_04\\\\u\\\\frame_4636.jpg'\n",
      "Skipping frame: D:/Datasets/Datasets/EPIC_Kitchen/OpticalFlow/P01_04/v\\frame_4636.jpg due to error: [Errno 2] No such file or directory: 'D:\\\\Datasets\\\\Datasets\\\\EPIC_Kitchen\\\\OpticalFlow\\\\P01_04\\\\v\\\\frame_4636.jpg'\n",
      "Skipping frame: D:/Datasets/Datasets/EPIC_Kitchen/OpticalFlow/P01_04/u\\frame_4641.jpg due to error: [Errno 2] No such file or directory: 'D:\\\\Datasets\\\\Datasets\\\\EPIC_Kitchen\\\\OpticalFlow\\\\P01_04\\\\u\\\\frame_4641.jpg'\n",
      "Skipping frame: D:/Datasets/Datasets/EPIC_Kitchen/OpticalFlow/P01_04/v\\frame_4641.jpg due to error: [Errno 2] No such file or directory: 'D:\\\\Datasets\\\\Datasets\\\\EPIC_Kitchen\\\\OpticalFlow\\\\P01_04\\\\v\\\\frame_4641.jpg'\n",
      "Skipping frame: D:/Datasets/Datasets/EPIC_Kitchen/OpticalFlow/P01_04/u\\frame_4646.jpg due to error: [Errno 2] No such file or directory: 'D:\\\\Datasets\\\\Datasets\\\\EPIC_Kitchen\\\\OpticalFlow\\\\P01_04\\\\u\\\\frame_4646.jpg'\n",
      "Skipping frame: D:/Datasets/Datasets/EPIC_Kitchen/OpticalFlow/P01_04/v\\frame_4646.jpg due to error: [Errno 2] No such file or directory: 'D:\\\\Datasets\\\\Datasets\\\\EPIC_Kitchen\\\\OpticalFlow\\\\P01_04\\\\v\\\\frame_4646.jpg'\n"
     ]
    },
    {
     "name": "stderr",
     "output_type": "stream",
     "text": [
      "Extracting Features with DEFT:  74%|███████████████████████████████████▍            | 933/1262 [01:50<00:18, 18.05it/s]"
     ]
    },
    {
     "name": "stdout",
     "output_type": "stream",
     "text": [
      "Skipping frame: D:/Datasets/Datasets/EPIC_Kitchen/OpticalFlow/P01_04/u\\frame_4651.jpg due to error: [Errno 2] No such file or directory: 'D:\\\\Datasets\\\\Datasets\\\\EPIC_Kitchen\\\\OpticalFlow\\\\P01_04\\\\u\\\\frame_4651.jpg'\n",
      "Skipping frame: D:/Datasets/Datasets/EPIC_Kitchen/OpticalFlow/P01_04/v\\frame_4651.jpg due to error: [Errno 2] No such file or directory: 'D:\\\\Datasets\\\\Datasets\\\\EPIC_Kitchen\\\\OpticalFlow\\\\P01_04\\\\v\\\\frame_4651.jpg'\n",
      "Skipping frame: D:/Datasets/Datasets/EPIC_Kitchen/OpticalFlow/P01_04/u\\frame_4656.jpg due to error: [Errno 2] No such file or directory: 'D:\\\\Datasets\\\\Datasets\\\\EPIC_Kitchen\\\\OpticalFlow\\\\P01_04\\\\u\\\\frame_4656.jpg'\n",
      "Skipping frame: D:/Datasets/Datasets/EPIC_Kitchen/OpticalFlow/P01_04/v\\frame_4656.jpg due to error: [Errno 2] No such file or directory: 'D:\\\\Datasets\\\\Datasets\\\\EPIC_Kitchen\\\\OpticalFlow\\\\P01_04\\\\v\\\\frame_4656.jpg'\n",
      "Skipping frame: D:/Datasets/Datasets/EPIC_Kitchen/OpticalFlow/P01_04/u\\frame_4661.jpg due to error: [Errno 2] No such file or directory: 'D:\\\\Datasets\\\\Datasets\\\\EPIC_Kitchen\\\\OpticalFlow\\\\P01_04\\\\u\\\\frame_4661.jpg'\n",
      "Skipping frame: D:/Datasets/Datasets/EPIC_Kitchen/OpticalFlow/P01_04/v\\frame_4661.jpg due to error: [Errno 2] No such file or directory: 'D:\\\\Datasets\\\\Datasets\\\\EPIC_Kitchen\\\\OpticalFlow\\\\P01_04\\\\v\\\\frame_4661.jpg'\n",
      "Skipping frame: D:/Datasets/Datasets/EPIC_Kitchen/OpticalFlow/P01_04/u\\frame_4666.jpg due to error: [Errno 2] No such file or directory: 'D:\\\\Datasets\\\\Datasets\\\\EPIC_Kitchen\\\\OpticalFlow\\\\P01_04\\\\u\\\\frame_4666.jpg'\n",
      "Skipping frame: D:/Datasets/Datasets/EPIC_Kitchen/OpticalFlow/P01_04/v\\frame_4666.jpg due to error: [Errno 2] No such file or directory: 'D:\\\\Datasets\\\\Datasets\\\\EPIC_Kitchen\\\\OpticalFlow\\\\P01_04\\\\v\\\\frame_4666.jpg'\n"
     ]
    },
    {
     "name": "stderr",
     "output_type": "stream",
     "text": [
      "Extracting Features with DEFT:  74%|███████████████████████████████████▋            | 938/1262 [01:50<00:16, 19.75it/s]"
     ]
    },
    {
     "name": "stdout",
     "output_type": "stream",
     "text": [
      "Skipping frame: D:/Datasets/Datasets/EPIC_Kitchen/OpticalFlow/P01_04/u\\frame_4671.jpg due to error: [Errno 2] No such file or directory: 'D:\\\\Datasets\\\\Datasets\\\\EPIC_Kitchen\\\\OpticalFlow\\\\P01_04\\\\u\\\\frame_4671.jpg'\n",
      "Skipping frame: D:/Datasets/Datasets/EPIC_Kitchen/OpticalFlow/P01_04/v\\frame_4671.jpg due to error: [Errno 2] No such file or directory: 'D:\\\\Datasets\\\\Datasets\\\\EPIC_Kitchen\\\\OpticalFlow\\\\P01_04\\\\v\\\\frame_4671.jpg'\n",
      "Skipping frame: D:/Datasets/Datasets/EPIC_Kitchen/OpticalFlow/P01_04/u\\frame_4676.jpg due to error: [Errno 2] No such file or directory: 'D:\\\\Datasets\\\\Datasets\\\\EPIC_Kitchen\\\\OpticalFlow\\\\P01_04\\\\u\\\\frame_4676.jpg'\n",
      "Skipping frame: D:/Datasets/Datasets/EPIC_Kitchen/OpticalFlow/P01_04/v\\frame_4676.jpg due to error: [Errno 2] No such file or directory: 'D:\\\\Datasets\\\\Datasets\\\\EPIC_Kitchen\\\\OpticalFlow\\\\P01_04\\\\v\\\\frame_4676.jpg'\n",
      "Skipping frame: D:/Datasets/Datasets/EPIC_Kitchen/OpticalFlow/P01_04/u\\frame_4681.jpg due to error: [Errno 2] No such file or directory: 'D:\\\\Datasets\\\\Datasets\\\\EPIC_Kitchen\\\\OpticalFlow\\\\P01_04\\\\u\\\\frame_4681.jpg'\n",
      "Skipping frame: D:/Datasets/Datasets/EPIC_Kitchen/OpticalFlow/P01_04/v\\frame_4681.jpg due to error: [Errno 2] No such file or directory: 'D:\\\\Datasets\\\\Datasets\\\\EPIC_Kitchen\\\\OpticalFlow\\\\P01_04\\\\v\\\\frame_4681.jpg'\n",
      "Skipping frame: D:/Datasets/Datasets/EPIC_Kitchen/OpticalFlow/P01_04/u\\frame_4686.jpg due to error: [Errno 2] No such file or directory: 'D:\\\\Datasets\\\\Datasets\\\\EPIC_Kitchen\\\\OpticalFlow\\\\P01_04\\\\u\\\\frame_4686.jpg'\n",
      "Skipping frame: D:/Datasets/Datasets/EPIC_Kitchen/OpticalFlow/P01_04/v\\frame_4686.jpg due to error: [Errno 2] No such file or directory: 'D:\\\\Datasets\\\\Datasets\\\\EPIC_Kitchen\\\\OpticalFlow\\\\P01_04\\\\v\\\\frame_4686.jpg'\n",
      "Skipping frame: D:/Datasets/Datasets/EPIC_Kitchen/OpticalFlow/P01_04/u\\frame_4691.jpg due to error: [Errno 2] No such file or directory: 'D:\\\\Datasets\\\\Datasets\\\\EPIC_Kitchen\\\\OpticalFlow\\\\P01_04\\\\u\\\\frame_4691.jpg'\n",
      "Skipping frame: D:/Datasets/Datasets/EPIC_Kitchen/OpticalFlow/P01_04/v\\frame_4691.jpg due to error: [Errno 2] No such file or directory: 'D:\\\\Datasets\\\\Datasets\\\\EPIC_Kitchen\\\\OpticalFlow\\\\P01_04\\\\v\\\\frame_4691.jpg'\n"
     ]
    },
    {
     "name": "stderr",
     "output_type": "stream",
     "text": [
      "Extracting Features with DEFT:  75%|███████████████████████████████████▊            | 942/1262 [01:50<00:16, 19.54it/s]"
     ]
    },
    {
     "name": "stdout",
     "output_type": "stream",
     "text": [
      "Skipping frame: D:/Datasets/Datasets/EPIC_Kitchen/OpticalFlow/P01_04/u\\frame_4696.jpg due to error: [Errno 2] No such file or directory: 'D:\\\\Datasets\\\\Datasets\\\\EPIC_Kitchen\\\\OpticalFlow\\\\P01_04\\\\u\\\\frame_4696.jpg'\n",
      "Skipping frame: D:/Datasets/Datasets/EPIC_Kitchen/OpticalFlow/P01_04/v\\frame_4696.jpg due to error: [Errno 2] No such file or directory: 'D:\\\\Datasets\\\\Datasets\\\\EPIC_Kitchen\\\\OpticalFlow\\\\P01_04\\\\v\\\\frame_4696.jpg'\n",
      "Skipping frame: D:/Datasets/Datasets/EPIC_Kitchen/OpticalFlow/P01_04/u\\frame_4701.jpg due to error: [Errno 2] No such file or directory: 'D:\\\\Datasets\\\\Datasets\\\\EPIC_Kitchen\\\\OpticalFlow\\\\P01_04\\\\u\\\\frame_4701.jpg'\n",
      "Skipping frame: D:/Datasets/Datasets/EPIC_Kitchen/OpticalFlow/P01_04/v\\frame_4701.jpg due to error: [Errno 2] No such file or directory: 'D:\\\\Datasets\\\\Datasets\\\\EPIC_Kitchen\\\\OpticalFlow\\\\P01_04\\\\v\\\\frame_4701.jpg'\n",
      "Skipping frame: D:/Datasets/Datasets/EPIC_Kitchen/OpticalFlow/P01_04/u\\frame_4706.jpg due to error: [Errno 2] No such file or directory: 'D:\\\\Datasets\\\\Datasets\\\\EPIC_Kitchen\\\\OpticalFlow\\\\P01_04\\\\u\\\\frame_4706.jpg'\n",
      "Skipping frame: D:/Datasets/Datasets/EPIC_Kitchen/OpticalFlow/P01_04/v\\frame_4706.jpg due to error: [Errno 2] No such file or directory: 'D:\\\\Datasets\\\\Datasets\\\\EPIC_Kitchen\\\\OpticalFlow\\\\P01_04\\\\v\\\\frame_4706.jpg'\n",
      "Skipping frame: D:/Datasets/Datasets/EPIC_Kitchen/OpticalFlow/P01_04/u\\frame_4711.jpg due to error: [Errno 2] No such file or directory: 'D:\\\\Datasets\\\\Datasets\\\\EPIC_Kitchen\\\\OpticalFlow\\\\P01_04\\\\u\\\\frame_4711.jpg'\n",
      "Skipping frame: D:/Datasets/Datasets/EPIC_Kitchen/OpticalFlow/P01_04/v\\frame_4711.jpg due to error: [Errno 2] No such file or directory: 'D:\\\\Datasets\\\\Datasets\\\\EPIC_Kitchen\\\\OpticalFlow\\\\P01_04\\\\v\\\\frame_4711.jpg'\n"
     ]
    },
    {
     "name": "stderr",
     "output_type": "stream",
     "text": [
      "Extracting Features with DEFT:  75%|███████████████████████████████████▉            | 946/1262 [01:51<00:16, 19.13it/s]"
     ]
    },
    {
     "name": "stdout",
     "output_type": "stream",
     "text": [
      "Skipping frame: D:/Datasets/Datasets/EPIC_Kitchen/OpticalFlow/P01_04/u\\frame_4716.jpg due to error: [Errno 2] No such file or directory: 'D:\\\\Datasets\\\\Datasets\\\\EPIC_Kitchen\\\\OpticalFlow\\\\P01_04\\\\u\\\\frame_4716.jpg'\n",
      "Skipping frame: D:/Datasets/Datasets/EPIC_Kitchen/OpticalFlow/P01_04/v\\frame_4716.jpg due to error: [Errno 2] No such file or directory: 'D:\\\\Datasets\\\\Datasets\\\\EPIC_Kitchen\\\\OpticalFlow\\\\P01_04\\\\v\\\\frame_4716.jpg'\n",
      "Skipping frame: D:/Datasets/Datasets/EPIC_Kitchen/OpticalFlow/P01_04/u\\frame_4721.jpg due to error: [Errno 2] No such file or directory: 'D:\\\\Datasets\\\\Datasets\\\\EPIC_Kitchen\\\\OpticalFlow\\\\P01_04\\\\u\\\\frame_4721.jpg'\n",
      "Skipping frame: D:/Datasets/Datasets/EPIC_Kitchen/OpticalFlow/P01_04/v\\frame_4721.jpg due to error: [Errno 2] No such file or directory: 'D:\\\\Datasets\\\\Datasets\\\\EPIC_Kitchen\\\\OpticalFlow\\\\P01_04\\\\v\\\\frame_4721.jpg'\n",
      "Skipping frame: D:/Datasets/Datasets/EPIC_Kitchen/OpticalFlow/P01_04/u\\frame_4726.jpg due to error: [Errno 2] No such file or directory: 'D:\\\\Datasets\\\\Datasets\\\\EPIC_Kitchen\\\\OpticalFlow\\\\P01_04\\\\u\\\\frame_4726.jpg'\n",
      "Skipping frame: D:/Datasets/Datasets/EPIC_Kitchen/OpticalFlow/P01_04/v\\frame_4726.jpg due to error: [Errno 2] No such file or directory: 'D:\\\\Datasets\\\\Datasets\\\\EPIC_Kitchen\\\\OpticalFlow\\\\P01_04\\\\v\\\\frame_4726.jpg'\n",
      "Skipping frame: D:/Datasets/Datasets/EPIC_Kitchen/OpticalFlow/P01_04/u\\frame_4731.jpg due to error: [Errno 2] No such file or directory: 'D:\\\\Datasets\\\\Datasets\\\\EPIC_Kitchen\\\\OpticalFlow\\\\P01_04\\\\u\\\\frame_4731.jpg'\n",
      "Skipping frame: D:/Datasets/Datasets/EPIC_Kitchen/OpticalFlow/P01_04/v\\frame_4731.jpg due to error: [Errno 2] No such file or directory: 'D:\\\\Datasets\\\\Datasets\\\\EPIC_Kitchen\\\\OpticalFlow\\\\P01_04\\\\v\\\\frame_4731.jpg'\n"
     ]
    },
    {
     "name": "stderr",
     "output_type": "stream",
     "text": [
      "Extracting Features with DEFT:  75%|████████████████████████████████████▏           | 950/1262 [01:51<00:16, 18.79it/s]"
     ]
    },
    {
     "name": "stdout",
     "output_type": "stream",
     "text": [
      "Skipping frame: D:/Datasets/Datasets/EPIC_Kitchen/OpticalFlow/P01_04/u\\frame_4736.jpg due to error: [Errno 2] No such file or directory: 'D:\\\\Datasets\\\\Datasets\\\\EPIC_Kitchen\\\\OpticalFlow\\\\P01_04\\\\u\\\\frame_4736.jpg'\n",
      "Skipping frame: D:/Datasets/Datasets/EPIC_Kitchen/OpticalFlow/P01_04/v\\frame_4736.jpg due to error: [Errno 2] No such file or directory: 'D:\\\\Datasets\\\\Datasets\\\\EPIC_Kitchen\\\\OpticalFlow\\\\P01_04\\\\v\\\\frame_4736.jpg'\n",
      "Skipping frame: D:/Datasets/Datasets/EPIC_Kitchen/OpticalFlow/P01_04/u\\frame_4741.jpg due to error: [Errno 2] No such file or directory: 'D:\\\\Datasets\\\\Datasets\\\\EPIC_Kitchen\\\\OpticalFlow\\\\P01_04\\\\u\\\\frame_4741.jpg'\n",
      "Skipping frame: D:/Datasets/Datasets/EPIC_Kitchen/OpticalFlow/P01_04/v\\frame_4741.jpg due to error: [Errno 2] No such file or directory: 'D:\\\\Datasets\\\\Datasets\\\\EPIC_Kitchen\\\\OpticalFlow\\\\P01_04\\\\v\\\\frame_4741.jpg'\n",
      "Skipping frame: D:/Datasets/Datasets/EPIC_Kitchen/OpticalFlow/P01_04/u\\frame_4746.jpg due to error: [Errno 2] No such file or directory: 'D:\\\\Datasets\\\\Datasets\\\\EPIC_Kitchen\\\\OpticalFlow\\\\P01_04\\\\u\\\\frame_4746.jpg'\n",
      "Skipping frame: D:/Datasets/Datasets/EPIC_Kitchen/OpticalFlow/P01_04/v\\frame_4746.jpg due to error: [Errno 2] No such file or directory: 'D:\\\\Datasets\\\\Datasets\\\\EPIC_Kitchen\\\\OpticalFlow\\\\P01_04\\\\v\\\\frame_4746.jpg'\n",
      "Skipping frame: D:/Datasets/Datasets/EPIC_Kitchen/OpticalFlow/P01_04/u\\frame_4751.jpg due to error: [Errno 2] No such file or directory: 'D:\\\\Datasets\\\\Datasets\\\\EPIC_Kitchen\\\\OpticalFlow\\\\P01_04\\\\u\\\\frame_4751.jpg'\n",
      "Skipping frame: D:/Datasets/Datasets/EPIC_Kitchen/OpticalFlow/P01_04/v\\frame_4751.jpg due to error: [Errno 2] No such file or directory: 'D:\\\\Datasets\\\\Datasets\\\\EPIC_Kitchen\\\\OpticalFlow\\\\P01_04\\\\v\\\\frame_4751.jpg'\n"
     ]
    },
    {
     "name": "stderr",
     "output_type": "stream",
     "text": [
      "Extracting Features with DEFT:  76%|████████████████████████████████████▎           | 954/1262 [01:51<00:16, 18.67it/s]"
     ]
    },
    {
     "name": "stdout",
     "output_type": "stream",
     "text": [
      "Skipping frame: D:/Datasets/Datasets/EPIC_Kitchen/OpticalFlow/P01_04/u\\frame_4756.jpg due to error: [Errno 2] No such file or directory: 'D:\\\\Datasets\\\\Datasets\\\\EPIC_Kitchen\\\\OpticalFlow\\\\P01_04\\\\u\\\\frame_4756.jpg'\n",
      "Skipping frame: D:/Datasets/Datasets/EPIC_Kitchen/OpticalFlow/P01_04/v\\frame_4756.jpg due to error: [Errno 2] No such file or directory: 'D:\\\\Datasets\\\\Datasets\\\\EPIC_Kitchen\\\\OpticalFlow\\\\P01_04\\\\v\\\\frame_4756.jpg'\n",
      "Skipping frame: D:/Datasets/Datasets/EPIC_Kitchen/OpticalFlow/P01_04/u\\frame_4761.jpg due to error: [Errno 2] No such file or directory: 'D:\\\\Datasets\\\\Datasets\\\\EPIC_Kitchen\\\\OpticalFlow\\\\P01_04\\\\u\\\\frame_4761.jpg'\n",
      "Skipping frame: D:/Datasets/Datasets/EPIC_Kitchen/OpticalFlow/P01_04/v\\frame_4761.jpg due to error: [Errno 2] No such file or directory: 'D:\\\\Datasets\\\\Datasets\\\\EPIC_Kitchen\\\\OpticalFlow\\\\P01_04\\\\v\\\\frame_4761.jpg'\n",
      "Skipping frame: D:/Datasets/Datasets/EPIC_Kitchen/OpticalFlow/P01_04/u\\frame_4766.jpg due to error: [Errno 2] No such file or directory: 'D:\\\\Datasets\\\\Datasets\\\\EPIC_Kitchen\\\\OpticalFlow\\\\P01_04\\\\u\\\\frame_4766.jpg'\n",
      "Skipping frame: D:/Datasets/Datasets/EPIC_Kitchen/OpticalFlow/P01_04/v\\frame_4766.jpg due to error: [Errno 2] No such file or directory: 'D:\\\\Datasets\\\\Datasets\\\\EPIC_Kitchen\\\\OpticalFlow\\\\P01_04\\\\v\\\\frame_4766.jpg'\n",
      "Skipping frame: D:/Datasets/Datasets/EPIC_Kitchen/OpticalFlow/P01_04/u\\frame_4771.jpg due to error: [Errno 2] No such file or directory: 'D:\\\\Datasets\\\\Datasets\\\\EPIC_Kitchen\\\\OpticalFlow\\\\P01_04\\\\u\\\\frame_4771.jpg'\n",
      "Skipping frame: D:/Datasets/Datasets/EPIC_Kitchen/OpticalFlow/P01_04/v\\frame_4771.jpg due to error: [Errno 2] No such file or directory: 'D:\\\\Datasets\\\\Datasets\\\\EPIC_Kitchen\\\\OpticalFlow\\\\P01_04\\\\v\\\\frame_4771.jpg'\n"
     ]
    },
    {
     "name": "stderr",
     "output_type": "stream",
     "text": [
      "Extracting Features with DEFT:  76%|████████████████████████████████████▌           | 960/1262 [01:51<00:16, 18.52it/s]"
     ]
    },
    {
     "name": "stdout",
     "output_type": "stream",
     "text": [
      "Skipping frame: D:/Datasets/Datasets/EPIC_Kitchen/OpticalFlow/P01_04/u\\frame_4776.jpg due to error: [Errno 2] No such file or directory: 'D:\\\\Datasets\\\\Datasets\\\\EPIC_Kitchen\\\\OpticalFlow\\\\P01_04\\\\u\\\\frame_4776.jpg'\n",
      "Skipping frame: D:/Datasets/Datasets/EPIC_Kitchen/OpticalFlow/P01_04/v\\frame_4776.jpg due to error: [Errno 2] No such file or directory: 'D:\\\\Datasets\\\\Datasets\\\\EPIC_Kitchen\\\\OpticalFlow\\\\P01_04\\\\v\\\\frame_4776.jpg'\n",
      "Skipping frame: D:/Datasets/Datasets/EPIC_Kitchen/OpticalFlow/P01_04/u\\frame_4781.jpg due to error: [Errno 2] No such file or directory: 'D:\\\\Datasets\\\\Datasets\\\\EPIC_Kitchen\\\\OpticalFlow\\\\P01_04\\\\u\\\\frame_4781.jpg'\n",
      "Skipping frame: D:/Datasets/Datasets/EPIC_Kitchen/OpticalFlow/P01_04/v\\frame_4781.jpg due to error: [Errno 2] No such file or directory: 'D:\\\\Datasets\\\\Datasets\\\\EPIC_Kitchen\\\\OpticalFlow\\\\P01_04\\\\v\\\\frame_4781.jpg'\n",
      "Skipping frame: D:/Datasets/Datasets/EPIC_Kitchen/OpticalFlow/P01_04/u\\frame_4786.jpg due to error: [Errno 2] No such file or directory: 'D:\\\\Datasets\\\\Datasets\\\\EPIC_Kitchen\\\\OpticalFlow\\\\P01_04\\\\u\\\\frame_4786.jpg'\n",
      "Skipping frame: D:/Datasets/Datasets/EPIC_Kitchen/OpticalFlow/P01_04/v\\frame_4786.jpg due to error: [Errno 2] No such file or directory: 'D:\\\\Datasets\\\\Datasets\\\\EPIC_Kitchen\\\\OpticalFlow\\\\P01_04\\\\v\\\\frame_4786.jpg'\n",
      "Skipping frame: D:/Datasets/Datasets/EPIC_Kitchen/OpticalFlow/P01_04/u\\frame_4791.jpg due to error: [Errno 2] No such file or directory: 'D:\\\\Datasets\\\\Datasets\\\\EPIC_Kitchen\\\\OpticalFlow\\\\P01_04\\\\u\\\\frame_4791.jpg'\n",
      "Skipping frame: D:/Datasets/Datasets/EPIC_Kitchen/OpticalFlow/P01_04/v\\frame_4791.jpg due to error: [Errno 2] No such file or directory: 'D:\\\\Datasets\\\\Datasets\\\\EPIC_Kitchen\\\\OpticalFlow\\\\P01_04\\\\v\\\\frame_4791.jpg'\n",
      "Skipping frame: D:/Datasets/Datasets/EPIC_Kitchen/OpticalFlow/P01_04/u\\frame_4796.jpg due to error: [Errno 2] No such file or directory: 'D:\\\\Datasets\\\\Datasets\\\\EPIC_Kitchen\\\\OpticalFlow\\\\P01_04\\\\u\\\\frame_4796.jpg'\n",
      "Skipping frame: D:/Datasets/Datasets/EPIC_Kitchen/OpticalFlow/P01_04/v\\frame_4796.jpg due to error: [Errno 2] No such file or directory: 'D:\\\\Datasets\\\\Datasets\\\\EPIC_Kitchen\\\\OpticalFlow\\\\P01_04\\\\v\\\\frame_4796.jpg'\n"
     ]
    },
    {
     "name": "stderr",
     "output_type": "stream",
     "text": [
      "Extracting Features with DEFT:  76%|████████████████████████████████████▋           | 964/1262 [01:52<00:16, 18.43it/s]"
     ]
    },
    {
     "name": "stdout",
     "output_type": "stream",
     "text": [
      "Skipping frame: D:/Datasets/Datasets/EPIC_Kitchen/OpticalFlow/P01_04/u\\frame_4801.jpg due to error: [Errno 2] No such file or directory: 'D:\\\\Datasets\\\\Datasets\\\\EPIC_Kitchen\\\\OpticalFlow\\\\P01_04\\\\u\\\\frame_4801.jpg'\n",
      "Skipping frame: D:/Datasets/Datasets/EPIC_Kitchen/OpticalFlow/P01_04/v\\frame_4801.jpg due to error: [Errno 2] No such file or directory: 'D:\\\\Datasets\\\\Datasets\\\\EPIC_Kitchen\\\\OpticalFlow\\\\P01_04\\\\v\\\\frame_4801.jpg'\n",
      "Skipping frame: D:/Datasets/Datasets/EPIC_Kitchen/OpticalFlow/P01_04/u\\frame_4806.jpg due to error: [Errno 2] No such file or directory: 'D:\\\\Datasets\\\\Datasets\\\\EPIC_Kitchen\\\\OpticalFlow\\\\P01_04\\\\u\\\\frame_4806.jpg'\n",
      "Skipping frame: D:/Datasets/Datasets/EPIC_Kitchen/OpticalFlow/P01_04/v\\frame_4806.jpg due to error: [Errno 2] No such file or directory: 'D:\\\\Datasets\\\\Datasets\\\\EPIC_Kitchen\\\\OpticalFlow\\\\P01_04\\\\v\\\\frame_4806.jpg'\n",
      "Skipping frame: D:/Datasets/Datasets/EPIC_Kitchen/OpticalFlow/P01_04/u\\frame_4811.jpg due to error: [Errno 2] No such file or directory: 'D:\\\\Datasets\\\\Datasets\\\\EPIC_Kitchen\\\\OpticalFlow\\\\P01_04\\\\u\\\\frame_4811.jpg'\n",
      "Skipping frame: D:/Datasets/Datasets/EPIC_Kitchen/OpticalFlow/P01_04/v\\frame_4811.jpg due to error: [Errno 2] No such file or directory: 'D:\\\\Datasets\\\\Datasets\\\\EPIC_Kitchen\\\\OpticalFlow\\\\P01_04\\\\v\\\\frame_4811.jpg'\n",
      "Skipping frame: D:/Datasets/Datasets/EPIC_Kitchen/OpticalFlow/P01_04/u\\frame_4816.jpg due to error: [Errno 2] No such file or directory: 'D:\\\\Datasets\\\\Datasets\\\\EPIC_Kitchen\\\\OpticalFlow\\\\P01_04\\\\u\\\\frame_4816.jpg'\n",
      "Skipping frame: D:/Datasets/Datasets/EPIC_Kitchen/OpticalFlow/P01_04/v\\frame_4816.jpg due to error: [Errno 2] No such file or directory: 'D:\\\\Datasets\\\\Datasets\\\\EPIC_Kitchen\\\\OpticalFlow\\\\P01_04\\\\v\\\\frame_4816.jpg'\n"
     ]
    },
    {
     "name": "stderr",
     "output_type": "stream",
     "text": [
      "Extracting Features with DEFT:  77%|████████████████████████████████████▊           | 968/1262 [01:52<00:16, 18.25it/s]"
     ]
    },
    {
     "name": "stdout",
     "output_type": "stream",
     "text": [
      "Skipping frame: D:/Datasets/Datasets/EPIC_Kitchen/OpticalFlow/P01_04/u\\frame_4821.jpg due to error: [Errno 2] No such file or directory: 'D:\\\\Datasets\\\\Datasets\\\\EPIC_Kitchen\\\\OpticalFlow\\\\P01_04\\\\u\\\\frame_4821.jpg'\n",
      "Skipping frame: D:/Datasets/Datasets/EPIC_Kitchen/OpticalFlow/P01_04/v\\frame_4821.jpg due to error: [Errno 2] No such file or directory: 'D:\\\\Datasets\\\\Datasets\\\\EPIC_Kitchen\\\\OpticalFlow\\\\P01_04\\\\v\\\\frame_4821.jpg'\n",
      "Skipping frame: D:/Datasets/Datasets/EPIC_Kitchen/OpticalFlow/P01_04/u\\frame_4826.jpg due to error: [Errno 2] No such file or directory: 'D:\\\\Datasets\\\\Datasets\\\\EPIC_Kitchen\\\\OpticalFlow\\\\P01_04\\\\u\\\\frame_4826.jpg'\n",
      "Skipping frame: D:/Datasets/Datasets/EPIC_Kitchen/OpticalFlow/P01_04/v\\frame_4826.jpg due to error: [Errno 2] No such file or directory: 'D:\\\\Datasets\\\\Datasets\\\\EPIC_Kitchen\\\\OpticalFlow\\\\P01_04\\\\v\\\\frame_4826.jpg'\n",
      "Skipping frame: D:/Datasets/Datasets/EPIC_Kitchen/OpticalFlow/P01_04/u\\frame_4831.jpg due to error: [Errno 2] No such file or directory: 'D:\\\\Datasets\\\\Datasets\\\\EPIC_Kitchen\\\\OpticalFlow\\\\P01_04\\\\u\\\\frame_4831.jpg'\n",
      "Skipping frame: D:/Datasets/Datasets/EPIC_Kitchen/OpticalFlow/P01_04/v\\frame_4831.jpg due to error: [Errno 2] No such file or directory: 'D:\\\\Datasets\\\\Datasets\\\\EPIC_Kitchen\\\\OpticalFlow\\\\P01_04\\\\v\\\\frame_4831.jpg'\n",
      "Skipping frame: D:/Datasets/Datasets/EPIC_Kitchen/OpticalFlow/P01_04/u\\frame_4836.jpg due to error: [Errno 2] No such file or directory: 'D:\\\\Datasets\\\\Datasets\\\\EPIC_Kitchen\\\\OpticalFlow\\\\P01_04\\\\u\\\\frame_4836.jpg'\n",
      "Skipping frame: D:/Datasets/Datasets/EPIC_Kitchen/OpticalFlow/P01_04/v\\frame_4836.jpg due to error: [Errno 2] No such file or directory: 'D:\\\\Datasets\\\\Datasets\\\\EPIC_Kitchen\\\\OpticalFlow\\\\P01_04\\\\v\\\\frame_4836.jpg'\n"
     ]
    },
    {
     "name": "stderr",
     "output_type": "stream",
     "text": [
      "Extracting Features with DEFT:  77%|████████████████████████████████████▉           | 972/1262 [01:52<00:15, 18.34it/s]"
     ]
    },
    {
     "name": "stdout",
     "output_type": "stream",
     "text": [
      "Skipping frame: D:/Datasets/Datasets/EPIC_Kitchen/OpticalFlow/P01_04/u\\frame_4841.jpg due to error: [Errno 2] No such file or directory: 'D:\\\\Datasets\\\\Datasets\\\\EPIC_Kitchen\\\\OpticalFlow\\\\P01_04\\\\u\\\\frame_4841.jpg'\n",
      "Skipping frame: D:/Datasets/Datasets/EPIC_Kitchen/OpticalFlow/P01_04/v\\frame_4841.jpg due to error: [Errno 2] No such file or directory: 'D:\\\\Datasets\\\\Datasets\\\\EPIC_Kitchen\\\\OpticalFlow\\\\P01_04\\\\v\\\\frame_4841.jpg'\n",
      "Skipping frame: D:/Datasets/Datasets/EPIC_Kitchen/OpticalFlow/P01_04/u\\frame_4846.jpg due to error: [Errno 2] No such file or directory: 'D:\\\\Datasets\\\\Datasets\\\\EPIC_Kitchen\\\\OpticalFlow\\\\P01_04\\\\u\\\\frame_4846.jpg'\n",
      "Skipping frame: D:/Datasets/Datasets/EPIC_Kitchen/OpticalFlow/P01_04/v\\frame_4846.jpg due to error: [Errno 2] No such file or directory: 'D:\\\\Datasets\\\\Datasets\\\\EPIC_Kitchen\\\\OpticalFlow\\\\P01_04\\\\v\\\\frame_4846.jpg'\n",
      "Skipping frame: D:/Datasets/Datasets/EPIC_Kitchen/OpticalFlow/P01_04/u\\frame_4851.jpg due to error: [Errno 2] No such file or directory: 'D:\\\\Datasets\\\\Datasets\\\\EPIC_Kitchen\\\\OpticalFlow\\\\P01_04\\\\u\\\\frame_4851.jpg'\n",
      "Skipping frame: D:/Datasets/Datasets/EPIC_Kitchen/OpticalFlow/P01_04/v\\frame_4851.jpg due to error: [Errno 2] No such file or directory: 'D:\\\\Datasets\\\\Datasets\\\\EPIC_Kitchen\\\\OpticalFlow\\\\P01_04\\\\v\\\\frame_4851.jpg'\n",
      "Skipping frame: D:/Datasets/Datasets/EPIC_Kitchen/OpticalFlow/P01_04/u\\frame_4856.jpg due to error: [Errno 2] No such file or directory: 'D:\\\\Datasets\\\\Datasets\\\\EPIC_Kitchen\\\\OpticalFlow\\\\P01_04\\\\u\\\\frame_4856.jpg'\n",
      "Skipping frame: D:/Datasets/Datasets/EPIC_Kitchen/OpticalFlow/P01_04/v\\frame_4856.jpg due to error: [Errno 2] No such file or directory: 'D:\\\\Datasets\\\\Datasets\\\\EPIC_Kitchen\\\\OpticalFlow\\\\P01_04\\\\v\\\\frame_4856.jpg'\n"
     ]
    },
    {
     "name": "stderr",
     "output_type": "stream",
     "text": [
      "Extracting Features with DEFT:  77%|█████████████████████████████████████           | 976/1262 [01:52<00:15, 18.49it/s]"
     ]
    },
    {
     "name": "stdout",
     "output_type": "stream",
     "text": [
      "Skipping frame: D:/Datasets/Datasets/EPIC_Kitchen/OpticalFlow/P01_04/u\\frame_4861.jpg due to error: [Errno 2] No such file or directory: 'D:\\\\Datasets\\\\Datasets\\\\EPIC_Kitchen\\\\OpticalFlow\\\\P01_04\\\\u\\\\frame_4861.jpg'\n",
      "Skipping frame: D:/Datasets/Datasets/EPIC_Kitchen/OpticalFlow/P01_04/v\\frame_4861.jpg due to error: [Errno 2] No such file or directory: 'D:\\\\Datasets\\\\Datasets\\\\EPIC_Kitchen\\\\OpticalFlow\\\\P01_04\\\\v\\\\frame_4861.jpg'\n",
      "Skipping frame: D:/Datasets/Datasets/EPIC_Kitchen/OpticalFlow/P01_04/u\\frame_4866.jpg due to error: [Errno 2] No such file or directory: 'D:\\\\Datasets\\\\Datasets\\\\EPIC_Kitchen\\\\OpticalFlow\\\\P01_04\\\\u\\\\frame_4866.jpg'\n",
      "Skipping frame: D:/Datasets/Datasets/EPIC_Kitchen/OpticalFlow/P01_04/v\\frame_4866.jpg due to error: [Errno 2] No such file or directory: 'D:\\\\Datasets\\\\Datasets\\\\EPIC_Kitchen\\\\OpticalFlow\\\\P01_04\\\\v\\\\frame_4866.jpg'\n",
      "Skipping frame: D:/Datasets/Datasets/EPIC_Kitchen/OpticalFlow/P01_04/u\\frame_4871.jpg due to error: [Errno 2] No such file or directory: 'D:\\\\Datasets\\\\Datasets\\\\EPIC_Kitchen\\\\OpticalFlow\\\\P01_04\\\\u\\\\frame_4871.jpg'\n",
      "Skipping frame: D:/Datasets/Datasets/EPIC_Kitchen/OpticalFlow/P01_04/v\\frame_4871.jpg due to error: [Errno 2] No such file or directory: 'D:\\\\Datasets\\\\Datasets\\\\EPIC_Kitchen\\\\OpticalFlow\\\\P01_04\\\\v\\\\frame_4871.jpg'\n",
      "Skipping frame: D:/Datasets/Datasets/EPIC_Kitchen/OpticalFlow/P01_04/u\\frame_4876.jpg due to error: [Errno 2] No such file or directory: 'D:\\\\Datasets\\\\Datasets\\\\EPIC_Kitchen\\\\OpticalFlow\\\\P01_04\\\\u\\\\frame_4876.jpg'\n",
      "Skipping frame: D:/Datasets/Datasets/EPIC_Kitchen/OpticalFlow/P01_04/v\\frame_4876.jpg due to error: [Errno 2] No such file or directory: 'D:\\\\Datasets\\\\Datasets\\\\EPIC_Kitchen\\\\OpticalFlow\\\\P01_04\\\\v\\\\frame_4876.jpg'\n"
     ]
    },
    {
     "name": "stderr",
     "output_type": "stream",
     "text": [
      "Extracting Features with DEFT:  78%|█████████████████████████████████████▎          | 980/1262 [01:53<00:15, 18.42it/s]"
     ]
    },
    {
     "name": "stdout",
     "output_type": "stream",
     "text": [
      "Skipping frame: D:/Datasets/Datasets/EPIC_Kitchen/OpticalFlow/P01_04/u\\frame_4881.jpg due to error: [Errno 2] No such file or directory: 'D:\\\\Datasets\\\\Datasets\\\\EPIC_Kitchen\\\\OpticalFlow\\\\P01_04\\\\u\\\\frame_4881.jpg'\n",
      "Skipping frame: D:/Datasets/Datasets/EPIC_Kitchen/OpticalFlow/P01_04/v\\frame_4881.jpg due to error: [Errno 2] No such file or directory: 'D:\\\\Datasets\\\\Datasets\\\\EPIC_Kitchen\\\\OpticalFlow\\\\P01_04\\\\v\\\\frame_4881.jpg'\n",
      "Skipping frame: D:/Datasets/Datasets/EPIC_Kitchen/OpticalFlow/P01_04/u\\frame_4886.jpg due to error: [Errno 2] No such file or directory: 'D:\\\\Datasets\\\\Datasets\\\\EPIC_Kitchen\\\\OpticalFlow\\\\P01_04\\\\u\\\\frame_4886.jpg'\n",
      "Skipping frame: D:/Datasets/Datasets/EPIC_Kitchen/OpticalFlow/P01_04/v\\frame_4886.jpg due to error: [Errno 2] No such file or directory: 'D:\\\\Datasets\\\\Datasets\\\\EPIC_Kitchen\\\\OpticalFlow\\\\P01_04\\\\v\\\\frame_4886.jpg'\n",
      "Skipping frame: D:/Datasets/Datasets/EPIC_Kitchen/OpticalFlow/P01_04/u\\frame_4891.jpg due to error: [Errno 2] No such file or directory: 'D:\\\\Datasets\\\\Datasets\\\\EPIC_Kitchen\\\\OpticalFlow\\\\P01_04\\\\u\\\\frame_4891.jpg'\n",
      "Skipping frame: D:/Datasets/Datasets/EPIC_Kitchen/OpticalFlow/P01_04/v\\frame_4891.jpg due to error: [Errno 2] No such file or directory: 'D:\\\\Datasets\\\\Datasets\\\\EPIC_Kitchen\\\\OpticalFlow\\\\P01_04\\\\v\\\\frame_4891.jpg'\n",
      "Skipping frame: D:/Datasets/Datasets/EPIC_Kitchen/OpticalFlow/P01_04/u\\frame_4896.jpg due to error: [Errno 2] No such file or directory: 'D:\\\\Datasets\\\\Datasets\\\\EPIC_Kitchen\\\\OpticalFlow\\\\P01_04\\\\u\\\\frame_4896.jpg'\n",
      "Skipping frame: D:/Datasets/Datasets/EPIC_Kitchen/OpticalFlow/P01_04/v\\frame_4896.jpg due to error: [Errno 2] No such file or directory: 'D:\\\\Datasets\\\\Datasets\\\\EPIC_Kitchen\\\\OpticalFlow\\\\P01_04\\\\v\\\\frame_4896.jpg'\n"
     ]
    },
    {
     "name": "stderr",
     "output_type": "stream",
     "text": [
      "Extracting Features with DEFT:  78%|█████████████████████████████████████▍          | 984/1262 [01:53<00:15, 18.23it/s]"
     ]
    },
    {
     "name": "stdout",
     "output_type": "stream",
     "text": [
      "Skipping frame: D:/Datasets/Datasets/EPIC_Kitchen/OpticalFlow/P01_04/u\\frame_4901.jpg due to error: [Errno 2] No such file or directory: 'D:\\\\Datasets\\\\Datasets\\\\EPIC_Kitchen\\\\OpticalFlow\\\\P01_04\\\\u\\\\frame_4901.jpg'\n",
      "Skipping frame: D:/Datasets/Datasets/EPIC_Kitchen/OpticalFlow/P01_04/v\\frame_4901.jpg due to error: [Errno 2] No such file or directory: 'D:\\\\Datasets\\\\Datasets\\\\EPIC_Kitchen\\\\OpticalFlow\\\\P01_04\\\\v\\\\frame_4901.jpg'\n",
      "Skipping frame: D:/Datasets/Datasets/EPIC_Kitchen/OpticalFlow/P01_04/u\\frame_4906.jpg due to error: [Errno 2] No such file or directory: 'D:\\\\Datasets\\\\Datasets\\\\EPIC_Kitchen\\\\OpticalFlow\\\\P01_04\\\\u\\\\frame_4906.jpg'\n",
      "Skipping frame: D:/Datasets/Datasets/EPIC_Kitchen/OpticalFlow/P01_04/v\\frame_4906.jpg due to error: [Errno 2] No such file or directory: 'D:\\\\Datasets\\\\Datasets\\\\EPIC_Kitchen\\\\OpticalFlow\\\\P01_04\\\\v\\\\frame_4906.jpg'\n",
      "Skipping frame: D:/Datasets/Datasets/EPIC_Kitchen/OpticalFlow/P01_04/u\\frame_4911.jpg due to error: [Errno 2] No such file or directory: 'D:\\\\Datasets\\\\Datasets\\\\EPIC_Kitchen\\\\OpticalFlow\\\\P01_04\\\\u\\\\frame_4911.jpg'\n",
      "Skipping frame: D:/Datasets/Datasets/EPIC_Kitchen/OpticalFlow/P01_04/v\\frame_4911.jpg due to error: [Errno 2] No such file or directory: 'D:\\\\Datasets\\\\Datasets\\\\EPIC_Kitchen\\\\OpticalFlow\\\\P01_04\\\\v\\\\frame_4911.jpg'\n",
      "Skipping frame: D:/Datasets/Datasets/EPIC_Kitchen/OpticalFlow/P01_04/u\\frame_4916.jpg due to error: [Errno 2] No such file or directory: 'D:\\\\Datasets\\\\Datasets\\\\EPIC_Kitchen\\\\OpticalFlow\\\\P01_04\\\\u\\\\frame_4916.jpg'\n",
      "Skipping frame: D:/Datasets/Datasets/EPIC_Kitchen/OpticalFlow/P01_04/v\\frame_4916.jpg due to error: [Errno 2] No such file or directory: 'D:\\\\Datasets\\\\Datasets\\\\EPIC_Kitchen\\\\OpticalFlow\\\\P01_04\\\\v\\\\frame_4916.jpg'\n"
     ]
    },
    {
     "name": "stderr",
     "output_type": "stream",
     "text": [
      "Extracting Features with DEFT:  78%|█████████████████████████████████████▌          | 988/1262 [01:53<00:15, 17.33it/s]"
     ]
    },
    {
     "name": "stdout",
     "output_type": "stream",
     "text": [
      "Skipping frame: D:/Datasets/Datasets/EPIC_Kitchen/OpticalFlow/P01_04/u\\frame_4921.jpg due to error: [Errno 2] No such file or directory: 'D:\\\\Datasets\\\\Datasets\\\\EPIC_Kitchen\\\\OpticalFlow\\\\P01_04\\\\u\\\\frame_4921.jpg'\n",
      "Skipping frame: D:/Datasets/Datasets/EPIC_Kitchen/OpticalFlow/P01_04/v\\frame_4921.jpg due to error: [Errno 2] No such file or directory: 'D:\\\\Datasets\\\\Datasets\\\\EPIC_Kitchen\\\\OpticalFlow\\\\P01_04\\\\v\\\\frame_4921.jpg'\n",
      "Skipping frame: D:/Datasets/Datasets/EPIC_Kitchen/OpticalFlow/P01_04/u\\frame_4926.jpg due to error: [Errno 2] No such file or directory: 'D:\\\\Datasets\\\\Datasets\\\\EPIC_Kitchen\\\\OpticalFlow\\\\P01_04\\\\u\\\\frame_4926.jpg'\n",
      "Skipping frame: D:/Datasets/Datasets/EPIC_Kitchen/OpticalFlow/P01_04/v\\frame_4926.jpg due to error: [Errno 2] No such file or directory: 'D:\\\\Datasets\\\\Datasets\\\\EPIC_Kitchen\\\\OpticalFlow\\\\P01_04\\\\v\\\\frame_4926.jpg'\n",
      "Skipping frame: D:/Datasets/Datasets/EPIC_Kitchen/OpticalFlow/P01_04/u\\frame_4931.jpg due to error: [Errno 2] No such file or directory: 'D:\\\\Datasets\\\\Datasets\\\\EPIC_Kitchen\\\\OpticalFlow\\\\P01_04\\\\u\\\\frame_4931.jpg'\n",
      "Skipping frame: D:/Datasets/Datasets/EPIC_Kitchen/OpticalFlow/P01_04/v\\frame_4931.jpg due to error: [Errno 2] No such file or directory: 'D:\\\\Datasets\\\\Datasets\\\\EPIC_Kitchen\\\\OpticalFlow\\\\P01_04\\\\v\\\\frame_4931.jpg'\n",
      "Skipping frame: D:/Datasets/Datasets/EPIC_Kitchen/OpticalFlow/P01_04/u\\frame_4936.jpg due to error: [Errno 2] No such file or directory: 'D:\\\\Datasets\\\\Datasets\\\\EPIC_Kitchen\\\\OpticalFlow\\\\P01_04\\\\u\\\\frame_4936.jpg'\n",
      "Skipping frame: D:/Datasets/Datasets/EPIC_Kitchen/OpticalFlow/P01_04/v\\frame_4936.jpg due to error: [Errno 2] No such file or directory: 'D:\\\\Datasets\\\\Datasets\\\\EPIC_Kitchen\\\\OpticalFlow\\\\P01_04\\\\v\\\\frame_4936.jpg'\n"
     ]
    },
    {
     "name": "stderr",
     "output_type": "stream",
     "text": [
      "Extracting Features with DEFT:  79%|█████████████████████████████████████▋          | 992/1262 [01:53<00:15, 17.40it/s]"
     ]
    },
    {
     "name": "stdout",
     "output_type": "stream",
     "text": [
      "Skipping frame: D:/Datasets/Datasets/EPIC_Kitchen/OpticalFlow/P01_04/u\\frame_4941.jpg due to error: [Errno 2] No such file or directory: 'D:\\\\Datasets\\\\Datasets\\\\EPIC_Kitchen\\\\OpticalFlow\\\\P01_04\\\\u\\\\frame_4941.jpg'\n",
      "Skipping frame: D:/Datasets/Datasets/EPIC_Kitchen/OpticalFlow/P01_04/v\\frame_4941.jpg due to error: [Errno 2] No such file or directory: 'D:\\\\Datasets\\\\Datasets\\\\EPIC_Kitchen\\\\OpticalFlow\\\\P01_04\\\\v\\\\frame_4941.jpg'\n",
      "Skipping frame: D:/Datasets/Datasets/EPIC_Kitchen/OpticalFlow/P01_04/u\\frame_4946.jpg due to error: [Errno 2] No such file or directory: 'D:\\\\Datasets\\\\Datasets\\\\EPIC_Kitchen\\\\OpticalFlow\\\\P01_04\\\\u\\\\frame_4946.jpg'\n",
      "Skipping frame: D:/Datasets/Datasets/EPIC_Kitchen/OpticalFlow/P01_04/v\\frame_4946.jpg due to error: [Errno 2] No such file or directory: 'D:\\\\Datasets\\\\Datasets\\\\EPIC_Kitchen\\\\OpticalFlow\\\\P01_04\\\\v\\\\frame_4946.jpg'\n",
      "Skipping frame: D:/Datasets/Datasets/EPIC_Kitchen/OpticalFlow/P01_04/u\\frame_4951.jpg due to error: [Errno 2] No such file or directory: 'D:\\\\Datasets\\\\Datasets\\\\EPIC_Kitchen\\\\OpticalFlow\\\\P01_04\\\\u\\\\frame_4951.jpg'\n",
      "Skipping frame: D:/Datasets/Datasets/EPIC_Kitchen/OpticalFlow/P01_04/v\\frame_4951.jpg due to error: [Errno 2] No such file or directory: 'D:\\\\Datasets\\\\Datasets\\\\EPIC_Kitchen\\\\OpticalFlow\\\\P01_04\\\\v\\\\frame_4951.jpg'\n",
      "Skipping frame: D:/Datasets/Datasets/EPIC_Kitchen/OpticalFlow/P01_04/u\\frame_4956.jpg due to error: [Errno 2] No such file or directory: 'D:\\\\Datasets\\\\Datasets\\\\EPIC_Kitchen\\\\OpticalFlow\\\\P01_04\\\\u\\\\frame_4956.jpg'\n",
      "Skipping frame: D:/Datasets/Datasets/EPIC_Kitchen/OpticalFlow/P01_04/v\\frame_4956.jpg due to error: [Errno 2] No such file or directory: 'D:\\\\Datasets\\\\Datasets\\\\EPIC_Kitchen\\\\OpticalFlow\\\\P01_04\\\\v\\\\frame_4956.jpg'\n"
     ]
    },
    {
     "name": "stderr",
     "output_type": "stream",
     "text": [
      "Extracting Features with DEFT:  79%|█████████████████████████████████████▉          | 996/1262 [01:53<00:14, 18.03it/s]"
     ]
    },
    {
     "name": "stdout",
     "output_type": "stream",
     "text": [
      "Skipping frame: D:/Datasets/Datasets/EPIC_Kitchen/OpticalFlow/P01_04/u\\frame_4961.jpg due to error: [Errno 2] No such file or directory: 'D:\\\\Datasets\\\\Datasets\\\\EPIC_Kitchen\\\\OpticalFlow\\\\P01_04\\\\u\\\\frame_4961.jpg'\n",
      "Skipping frame: D:/Datasets/Datasets/EPIC_Kitchen/OpticalFlow/P01_04/v\\frame_4961.jpg due to error: [Errno 2] No such file or directory: 'D:\\\\Datasets\\\\Datasets\\\\EPIC_Kitchen\\\\OpticalFlow\\\\P01_04\\\\v\\\\frame_4961.jpg'\n",
      "Skipping frame: D:/Datasets/Datasets/EPIC_Kitchen/OpticalFlow/P01_04/u\\frame_4966.jpg due to error: [Errno 2] No such file or directory: 'D:\\\\Datasets\\\\Datasets\\\\EPIC_Kitchen\\\\OpticalFlow\\\\P01_04\\\\u\\\\frame_4966.jpg'\n",
      "Skipping frame: D:/Datasets/Datasets/EPIC_Kitchen/OpticalFlow/P01_04/v\\frame_4966.jpg due to error: [Errno 2] No such file or directory: 'D:\\\\Datasets\\\\Datasets\\\\EPIC_Kitchen\\\\OpticalFlow\\\\P01_04\\\\v\\\\frame_4966.jpg'\n",
      "Skipping frame: D:/Datasets/Datasets/EPIC_Kitchen/OpticalFlow/P01_04/u\\frame_4971.jpg due to error: [Errno 2] No such file or directory: 'D:\\\\Datasets\\\\Datasets\\\\EPIC_Kitchen\\\\OpticalFlow\\\\P01_04\\\\u\\\\frame_4971.jpg'\n",
      "Skipping frame: D:/Datasets/Datasets/EPIC_Kitchen/OpticalFlow/P01_04/v\\frame_4971.jpg due to error: [Errno 2] No such file or directory: 'D:\\\\Datasets\\\\Datasets\\\\EPIC_Kitchen\\\\OpticalFlow\\\\P01_04\\\\v\\\\frame_4971.jpg'\n",
      "Skipping frame: D:/Datasets/Datasets/EPIC_Kitchen/OpticalFlow/P01_04/u\\frame_4976.jpg due to error: [Errno 2] No such file or directory: 'D:\\\\Datasets\\\\Datasets\\\\EPIC_Kitchen\\\\OpticalFlow\\\\P01_04\\\\u\\\\frame_4976.jpg'\n",
      "Skipping frame: D:/Datasets/Datasets/EPIC_Kitchen/OpticalFlow/P01_04/v\\frame_4976.jpg due to error: [Errno 2] No such file or directory: 'D:\\\\Datasets\\\\Datasets\\\\EPIC_Kitchen\\\\OpticalFlow\\\\P01_04\\\\v\\\\frame_4976.jpg'\n"
     ]
    },
    {
     "name": "stderr",
     "output_type": "stream",
     "text": [
      "Extracting Features with DEFT:  79%|█████████████████████████████████████▏         | 1000/1262 [01:54<00:14, 18.14it/s]"
     ]
    },
    {
     "name": "stdout",
     "output_type": "stream",
     "text": [
      "Skipping frame: D:/Datasets/Datasets/EPIC_Kitchen/OpticalFlow/P01_04/u\\frame_4981.jpg due to error: [Errno 2] No such file or directory: 'D:\\\\Datasets\\\\Datasets\\\\EPIC_Kitchen\\\\OpticalFlow\\\\P01_04\\\\u\\\\frame_4981.jpg'\n",
      "Skipping frame: D:/Datasets/Datasets/EPIC_Kitchen/OpticalFlow/P01_04/v\\frame_4981.jpg due to error: [Errno 2] No such file or directory: 'D:\\\\Datasets\\\\Datasets\\\\EPIC_Kitchen\\\\OpticalFlow\\\\P01_04\\\\v\\\\frame_4981.jpg'\n",
      "Skipping frame: D:/Datasets/Datasets/EPIC_Kitchen/OpticalFlow/P01_04/u\\frame_4986.jpg due to error: [Errno 2] No such file or directory: 'D:\\\\Datasets\\\\Datasets\\\\EPIC_Kitchen\\\\OpticalFlow\\\\P01_04\\\\u\\\\frame_4986.jpg'\n",
      "Skipping frame: D:/Datasets/Datasets/EPIC_Kitchen/OpticalFlow/P01_04/v\\frame_4986.jpg due to error: [Errno 2] No such file or directory: 'D:\\\\Datasets\\\\Datasets\\\\EPIC_Kitchen\\\\OpticalFlow\\\\P01_04\\\\v\\\\frame_4986.jpg'\n",
      "Skipping frame: D:/Datasets/Datasets/EPIC_Kitchen/OpticalFlow/P01_04/u\\frame_4991.jpg due to error: [Errno 2] No such file or directory: 'D:\\\\Datasets\\\\Datasets\\\\EPIC_Kitchen\\\\OpticalFlow\\\\P01_04\\\\u\\\\frame_4991.jpg'\n",
      "Skipping frame: D:/Datasets/Datasets/EPIC_Kitchen/OpticalFlow/P01_04/v\\frame_4991.jpg due to error: [Errno 2] No such file or directory: 'D:\\\\Datasets\\\\Datasets\\\\EPIC_Kitchen\\\\OpticalFlow\\\\P01_04\\\\v\\\\frame_4991.jpg'\n",
      "Skipping frame: D:/Datasets/Datasets/EPIC_Kitchen/OpticalFlow/P01_04/u\\frame_4996.jpg due to error: [Errno 2] No such file or directory: 'D:\\\\Datasets\\\\Datasets\\\\EPIC_Kitchen\\\\OpticalFlow\\\\P01_04\\\\u\\\\frame_4996.jpg'\n",
      "Skipping frame: D:/Datasets/Datasets/EPIC_Kitchen/OpticalFlow/P01_04/v\\frame_4996.jpg due to error: [Errno 2] No such file or directory: 'D:\\\\Datasets\\\\Datasets\\\\EPIC_Kitchen\\\\OpticalFlow\\\\P01_04\\\\v\\\\frame_4996.jpg'\n"
     ]
    },
    {
     "name": "stderr",
     "output_type": "stream",
     "text": [
      "Extracting Features with DEFT:  80%|█████████████████████████████████████▍         | 1004/1262 [01:54<00:13, 18.75it/s]"
     ]
    },
    {
     "name": "stdout",
     "output_type": "stream",
     "text": [
      "Skipping frame: D:/Datasets/Datasets/EPIC_Kitchen/OpticalFlow/P01_04/u\\frame_5001.jpg due to error: [Errno 2] No such file or directory: 'D:\\\\Datasets\\\\Datasets\\\\EPIC_Kitchen\\\\OpticalFlow\\\\P01_04\\\\u\\\\frame_5001.jpg'\n",
      "Skipping frame: D:/Datasets/Datasets/EPIC_Kitchen/OpticalFlow/P01_04/v\\frame_5001.jpg due to error: [Errno 2] No such file or directory: 'D:\\\\Datasets\\\\Datasets\\\\EPIC_Kitchen\\\\OpticalFlow\\\\P01_04\\\\v\\\\frame_5001.jpg'\n",
      "Skipping frame: D:/Datasets/Datasets/EPIC_Kitchen/OpticalFlow/P01_04/u\\frame_5006.jpg due to error: [Errno 2] No such file or directory: 'D:\\\\Datasets\\\\Datasets\\\\EPIC_Kitchen\\\\OpticalFlow\\\\P01_04\\\\u\\\\frame_5006.jpg'\n",
      "Skipping frame: D:/Datasets/Datasets/EPIC_Kitchen/OpticalFlow/P01_04/v\\frame_5006.jpg due to error: [Errno 2] No such file or directory: 'D:\\\\Datasets\\\\Datasets\\\\EPIC_Kitchen\\\\OpticalFlow\\\\P01_04\\\\v\\\\frame_5006.jpg'\n",
      "Skipping frame: D:/Datasets/Datasets/EPIC_Kitchen/OpticalFlow/P01_04/u\\frame_5011.jpg due to error: [Errno 2] No such file or directory: 'D:\\\\Datasets\\\\Datasets\\\\EPIC_Kitchen\\\\OpticalFlow\\\\P01_04\\\\u\\\\frame_5011.jpg'\n",
      "Skipping frame: D:/Datasets/Datasets/EPIC_Kitchen/OpticalFlow/P01_04/v\\frame_5011.jpg due to error: [Errno 2] No such file or directory: 'D:\\\\Datasets\\\\Datasets\\\\EPIC_Kitchen\\\\OpticalFlow\\\\P01_04\\\\v\\\\frame_5011.jpg'\n",
      "Skipping frame: D:/Datasets/Datasets/EPIC_Kitchen/OpticalFlow/P01_04/u\\frame_5016.jpg due to error: [Errno 2] No such file or directory: 'D:\\\\Datasets\\\\Datasets\\\\EPIC_Kitchen\\\\OpticalFlow\\\\P01_04\\\\u\\\\frame_5016.jpg'\n",
      "Skipping frame: D:/Datasets/Datasets/EPIC_Kitchen/OpticalFlow/P01_04/v\\frame_5016.jpg due to error: [Errno 2] No such file or directory: 'D:\\\\Datasets\\\\Datasets\\\\EPIC_Kitchen\\\\OpticalFlow\\\\P01_04\\\\v\\\\frame_5016.jpg'\n"
     ]
    },
    {
     "name": "stderr",
     "output_type": "stream",
     "text": [
      "Extracting Features with DEFT:  80%|█████████████████████████████████████▌         | 1008/1262 [01:54<00:13, 18.61it/s]"
     ]
    },
    {
     "name": "stdout",
     "output_type": "stream",
     "text": [
      "Skipping frame: D:/Datasets/Datasets/EPIC_Kitchen/OpticalFlow/P01_04/u\\frame_5021.jpg due to error: [Errno 2] No such file or directory: 'D:\\\\Datasets\\\\Datasets\\\\EPIC_Kitchen\\\\OpticalFlow\\\\P01_04\\\\u\\\\frame_5021.jpg'\n",
      "Skipping frame: D:/Datasets/Datasets/EPIC_Kitchen/OpticalFlow/P01_04/v\\frame_5021.jpg due to error: [Errno 2] No such file or directory: 'D:\\\\Datasets\\\\Datasets\\\\EPIC_Kitchen\\\\OpticalFlow\\\\P01_04\\\\v\\\\frame_5021.jpg'\n",
      "Skipping frame: D:/Datasets/Datasets/EPIC_Kitchen/OpticalFlow/P01_04/u\\frame_5026.jpg due to error: [Errno 2] No such file or directory: 'D:\\\\Datasets\\\\Datasets\\\\EPIC_Kitchen\\\\OpticalFlow\\\\P01_04\\\\u\\\\frame_5026.jpg'\n",
      "Skipping frame: D:/Datasets/Datasets/EPIC_Kitchen/OpticalFlow/P01_04/v\\frame_5026.jpg due to error: [Errno 2] No such file or directory: 'D:\\\\Datasets\\\\Datasets\\\\EPIC_Kitchen\\\\OpticalFlow\\\\P01_04\\\\v\\\\frame_5026.jpg'\n",
      "Skipping frame: D:/Datasets/Datasets/EPIC_Kitchen/OpticalFlow/P01_04/u\\frame_5031.jpg due to error: [Errno 2] No such file or directory: 'D:\\\\Datasets\\\\Datasets\\\\EPIC_Kitchen\\\\OpticalFlow\\\\P01_04\\\\u\\\\frame_5031.jpg'\n",
      "Skipping frame: D:/Datasets/Datasets/EPIC_Kitchen/OpticalFlow/P01_04/v\\frame_5031.jpg due to error: [Errno 2] No such file or directory: 'D:\\\\Datasets\\\\Datasets\\\\EPIC_Kitchen\\\\OpticalFlow\\\\P01_04\\\\v\\\\frame_5031.jpg'\n",
      "Skipping frame: D:/Datasets/Datasets/EPIC_Kitchen/OpticalFlow/P01_04/u\\frame_5036.jpg due to error: [Errno 2] No such file or directory: 'D:\\\\Datasets\\\\Datasets\\\\EPIC_Kitchen\\\\OpticalFlow\\\\P01_04\\\\u\\\\frame_5036.jpg'\n",
      "Skipping frame: D:/Datasets/Datasets/EPIC_Kitchen/OpticalFlow/P01_04/v\\frame_5036.jpg due to error: [Errno 2] No such file or directory: 'D:\\\\Datasets\\\\Datasets\\\\EPIC_Kitchen\\\\OpticalFlow\\\\P01_04\\\\v\\\\frame_5036.jpg'\n"
     ]
    },
    {
     "name": "stderr",
     "output_type": "stream",
     "text": [
      "Extracting Features with DEFT:  80%|█████████████████████████████████████▋         | 1012/1262 [01:54<00:13, 18.68it/s]"
     ]
    },
    {
     "name": "stdout",
     "output_type": "stream",
     "text": [
      "Skipping frame: D:/Datasets/Datasets/EPIC_Kitchen/OpticalFlow/P01_04/u\\frame_5041.jpg due to error: [Errno 2] No such file or directory: 'D:\\\\Datasets\\\\Datasets\\\\EPIC_Kitchen\\\\OpticalFlow\\\\P01_04\\\\u\\\\frame_5041.jpg'\n",
      "Skipping frame: D:/Datasets/Datasets/EPIC_Kitchen/OpticalFlow/P01_04/v\\frame_5041.jpg due to error: [Errno 2] No such file or directory: 'D:\\\\Datasets\\\\Datasets\\\\EPIC_Kitchen\\\\OpticalFlow\\\\P01_04\\\\v\\\\frame_5041.jpg'\n",
      "Skipping frame: D:/Datasets/Datasets/EPIC_Kitchen/OpticalFlow/P01_04/u\\frame_5046.jpg due to error: [Errno 2] No such file or directory: 'D:\\\\Datasets\\\\Datasets\\\\EPIC_Kitchen\\\\OpticalFlow\\\\P01_04\\\\u\\\\frame_5046.jpg'\n",
      "Skipping frame: D:/Datasets/Datasets/EPIC_Kitchen/OpticalFlow/P01_04/v\\frame_5046.jpg due to error: [Errno 2] No such file or directory: 'D:\\\\Datasets\\\\Datasets\\\\EPIC_Kitchen\\\\OpticalFlow\\\\P01_04\\\\v\\\\frame_5046.jpg'\n",
      "Skipping frame: D:/Datasets/Datasets/EPIC_Kitchen/OpticalFlow/P01_04/u\\frame_5051.jpg due to error: [Errno 2] No such file or directory: 'D:\\\\Datasets\\\\Datasets\\\\EPIC_Kitchen\\\\OpticalFlow\\\\P01_04\\\\u\\\\frame_5051.jpg'\n",
      "Skipping frame: D:/Datasets/Datasets/EPIC_Kitchen/OpticalFlow/P01_04/v\\frame_5051.jpg due to error: [Errno 2] No such file or directory: 'D:\\\\Datasets\\\\Datasets\\\\EPIC_Kitchen\\\\OpticalFlow\\\\P01_04\\\\v\\\\frame_5051.jpg'\n",
      "Skipping frame: D:/Datasets/Datasets/EPIC_Kitchen/OpticalFlow/P01_04/u\\frame_5056.jpg due to error: [Errno 2] No such file or directory: 'D:\\\\Datasets\\\\Datasets\\\\EPIC_Kitchen\\\\OpticalFlow\\\\P01_04\\\\u\\\\frame_5056.jpg'\n",
      "Skipping frame: D:/Datasets/Datasets/EPIC_Kitchen/OpticalFlow/P01_04/v\\frame_5056.jpg due to error: [Errno 2] No such file or directory: 'D:\\\\Datasets\\\\Datasets\\\\EPIC_Kitchen\\\\OpticalFlow\\\\P01_04\\\\v\\\\frame_5056.jpg'\n"
     ]
    },
    {
     "name": "stderr",
     "output_type": "stream",
     "text": [
      "Extracting Features with DEFT:  81%|█████████████████████████████████████▊         | 1016/1262 [01:55<00:13, 18.56it/s]"
     ]
    },
    {
     "name": "stdout",
     "output_type": "stream",
     "text": [
      "Skipping frame: D:/Datasets/Datasets/EPIC_Kitchen/OpticalFlow/P01_04/u\\frame_5061.jpg due to error: [Errno 2] No such file or directory: 'D:\\\\Datasets\\\\Datasets\\\\EPIC_Kitchen\\\\OpticalFlow\\\\P01_04\\\\u\\\\frame_5061.jpg'\n",
      "Skipping frame: D:/Datasets/Datasets/EPIC_Kitchen/OpticalFlow/P01_04/v\\frame_5061.jpg due to error: [Errno 2] No such file or directory: 'D:\\\\Datasets\\\\Datasets\\\\EPIC_Kitchen\\\\OpticalFlow\\\\P01_04\\\\v\\\\frame_5061.jpg'\n",
      "Skipping frame: D:/Datasets/Datasets/EPIC_Kitchen/OpticalFlow/P01_04/u\\frame_5066.jpg due to error: [Errno 2] No such file or directory: 'D:\\\\Datasets\\\\Datasets\\\\EPIC_Kitchen\\\\OpticalFlow\\\\P01_04\\\\u\\\\frame_5066.jpg'\n",
      "Skipping frame: D:/Datasets/Datasets/EPIC_Kitchen/OpticalFlow/P01_04/v\\frame_5066.jpg due to error: [Errno 2] No such file or directory: 'D:\\\\Datasets\\\\Datasets\\\\EPIC_Kitchen\\\\OpticalFlow\\\\P01_04\\\\v\\\\frame_5066.jpg'\n",
      "Skipping frame: D:/Datasets/Datasets/EPIC_Kitchen/OpticalFlow/P01_04/u\\frame_5071.jpg due to error: [Errno 2] No such file or directory: 'D:\\\\Datasets\\\\Datasets\\\\EPIC_Kitchen\\\\OpticalFlow\\\\P01_04\\\\u\\\\frame_5071.jpg'\n",
      "Skipping frame: D:/Datasets/Datasets/EPIC_Kitchen/OpticalFlow/P01_04/v\\frame_5071.jpg due to error: [Errno 2] No such file or directory: 'D:\\\\Datasets\\\\Datasets\\\\EPIC_Kitchen\\\\OpticalFlow\\\\P01_04\\\\v\\\\frame_5071.jpg'\n",
      "Skipping frame: D:/Datasets/Datasets/EPIC_Kitchen/OpticalFlow/P01_04/u\\frame_5076.jpg due to error: [Errno 2] No such file or directory: 'D:\\\\Datasets\\\\Datasets\\\\EPIC_Kitchen\\\\OpticalFlow\\\\P01_04\\\\u\\\\frame_5076.jpg'\n",
      "Skipping frame: D:/Datasets/Datasets/EPIC_Kitchen/OpticalFlow/P01_04/v\\frame_5076.jpg due to error: [Errno 2] No such file or directory: 'D:\\\\Datasets\\\\Datasets\\\\EPIC_Kitchen\\\\OpticalFlow\\\\P01_04\\\\v\\\\frame_5076.jpg'\n"
     ]
    },
    {
     "name": "stderr",
     "output_type": "stream",
     "text": [
      "Extracting Features with DEFT:  81%|█████████████████████████████████████▉         | 1020/1262 [01:55<00:13, 18.43it/s]"
     ]
    },
    {
     "name": "stdout",
     "output_type": "stream",
     "text": [
      "Skipping frame: D:/Datasets/Datasets/EPIC_Kitchen/OpticalFlow/P01_04/u\\frame_5081.jpg due to error: [Errno 2] No such file or directory: 'D:\\\\Datasets\\\\Datasets\\\\EPIC_Kitchen\\\\OpticalFlow\\\\P01_04\\\\u\\\\frame_5081.jpg'\n",
      "Skipping frame: D:/Datasets/Datasets/EPIC_Kitchen/OpticalFlow/P01_04/v\\frame_5081.jpg due to error: [Errno 2] No such file or directory: 'D:\\\\Datasets\\\\Datasets\\\\EPIC_Kitchen\\\\OpticalFlow\\\\P01_04\\\\v\\\\frame_5081.jpg'\n",
      "Skipping frame: D:/Datasets/Datasets/EPIC_Kitchen/OpticalFlow/P01_04/u\\frame_5086.jpg due to error: [Errno 2] No such file or directory: 'D:\\\\Datasets\\\\Datasets\\\\EPIC_Kitchen\\\\OpticalFlow\\\\P01_04\\\\u\\\\frame_5086.jpg'\n",
      "Skipping frame: D:/Datasets/Datasets/EPIC_Kitchen/OpticalFlow/P01_04/v\\frame_5086.jpg due to error: [Errno 2] No such file or directory: 'D:\\\\Datasets\\\\Datasets\\\\EPIC_Kitchen\\\\OpticalFlow\\\\P01_04\\\\v\\\\frame_5086.jpg'\n",
      "Skipping frame: D:/Datasets/Datasets/EPIC_Kitchen/OpticalFlow/P01_04/u\\frame_5091.jpg due to error: [Errno 2] No such file or directory: 'D:\\\\Datasets\\\\Datasets\\\\EPIC_Kitchen\\\\OpticalFlow\\\\P01_04\\\\u\\\\frame_5091.jpg'\n",
      "Skipping frame: D:/Datasets/Datasets/EPIC_Kitchen/OpticalFlow/P01_04/v\\frame_5091.jpg due to error: [Errno 2] No such file or directory: 'D:\\\\Datasets\\\\Datasets\\\\EPIC_Kitchen\\\\OpticalFlow\\\\P01_04\\\\v\\\\frame_5091.jpg'\n",
      "Skipping frame: D:/Datasets/Datasets/EPIC_Kitchen/OpticalFlow/P01_04/u\\frame_5096.jpg due to error: [Errno 2] No such file or directory: 'D:\\\\Datasets\\\\Datasets\\\\EPIC_Kitchen\\\\OpticalFlow\\\\P01_04\\\\u\\\\frame_5096.jpg'\n",
      "Skipping frame: D:/Datasets/Datasets/EPIC_Kitchen/OpticalFlow/P01_04/v\\frame_5096.jpg due to error: [Errno 2] No such file or directory: 'D:\\\\Datasets\\\\Datasets\\\\EPIC_Kitchen\\\\OpticalFlow\\\\P01_04\\\\v\\\\frame_5096.jpg'\n",
      "Skipping frame: D:/Datasets/Datasets/EPIC_Kitchen/OpticalFlow/P01_04/u\\frame_5101.jpg due to error: [Errno 2] No such file or directory: 'D:\\\\Datasets\\\\Datasets\\\\EPIC_Kitchen\\\\OpticalFlow\\\\P01_04\\\\u\\\\frame_5101.jpg'\n"
     ]
    },
    {
     "name": "stderr",
     "output_type": "stream",
     "text": [
      "Extracting Features with DEFT:  81%|██████████████████████████████████████▏        | 1024/1262 [01:55<00:12, 18.82it/s]"
     ]
    },
    {
     "name": "stdout",
     "output_type": "stream",
     "text": [
      "Skipping frame: D:/Datasets/Datasets/EPIC_Kitchen/OpticalFlow/P01_04/v\\frame_5101.jpg due to error: [Errno 2] No such file or directory: 'D:\\\\Datasets\\\\Datasets\\\\EPIC_Kitchen\\\\OpticalFlow\\\\P01_04\\\\v\\\\frame_5101.jpg'\n",
      "Skipping frame: D:/Datasets/Datasets/EPIC_Kitchen/OpticalFlow/P01_04/u\\frame_5106.jpg due to error: [Errno 2] No such file or directory: 'D:\\\\Datasets\\\\Datasets\\\\EPIC_Kitchen\\\\OpticalFlow\\\\P01_04\\\\u\\\\frame_5106.jpg'\n",
      "Skipping frame: D:/Datasets/Datasets/EPIC_Kitchen/OpticalFlow/P01_04/v\\frame_5106.jpg due to error: [Errno 2] No such file or directory: 'D:\\\\Datasets\\\\Datasets\\\\EPIC_Kitchen\\\\OpticalFlow\\\\P01_04\\\\v\\\\frame_5106.jpg'\n",
      "Skipping frame: D:/Datasets/Datasets/EPIC_Kitchen/OpticalFlow/P01_04/u\\frame_5111.jpg due to error: [Errno 2] No such file or directory: 'D:\\\\Datasets\\\\Datasets\\\\EPIC_Kitchen\\\\OpticalFlow\\\\P01_04\\\\u\\\\frame_5111.jpg'\n",
      "Skipping frame: D:/Datasets/Datasets/EPIC_Kitchen/OpticalFlow/P01_04/v\\frame_5111.jpg due to error: [Errno 2] No such file or directory: 'D:\\\\Datasets\\\\Datasets\\\\EPIC_Kitchen\\\\OpticalFlow\\\\P01_04\\\\v\\\\frame_5111.jpg'\n",
      "Skipping frame: D:/Datasets/Datasets/EPIC_Kitchen/OpticalFlow/P01_04/u\\frame_5116.jpg due to error: [Errno 2] No such file or directory: 'D:\\\\Datasets\\\\Datasets\\\\EPIC_Kitchen\\\\OpticalFlow\\\\P01_04\\\\u\\\\frame_5116.jpg'\n",
      "Skipping frame: D:/Datasets/Datasets/EPIC_Kitchen/OpticalFlow/P01_04/v\\frame_5116.jpg due to error: [Errno 2] No such file or directory: 'D:\\\\Datasets\\\\Datasets\\\\EPIC_Kitchen\\\\OpticalFlow\\\\P01_04\\\\v\\\\frame_5116.jpg'\n",
      "Skipping frame: D:/Datasets/Datasets/EPIC_Kitchen/OpticalFlow/P01_04/u\\frame_5121.jpg due to error: [Errno 2] No such file or directory: 'D:\\\\Datasets\\\\Datasets\\\\EPIC_Kitchen\\\\OpticalFlow\\\\P01_04\\\\u\\\\frame_5121.jpg'\n",
      "Skipping frame: D:/Datasets/Datasets/EPIC_Kitchen/OpticalFlow/P01_04/v\\frame_5121.jpg due to error: [Errno 2] No such file or directory: 'D:\\\\Datasets\\\\Datasets\\\\EPIC_Kitchen\\\\OpticalFlow\\\\P01_04\\\\v\\\\frame_5121.jpg'\n"
     ]
    },
    {
     "name": "stderr",
     "output_type": "stream",
     "text": [
      "Extracting Features with DEFT:  81%|██████████████████████████████████████▎        | 1028/1262 [01:55<00:12, 18.73it/s]"
     ]
    },
    {
     "name": "stdout",
     "output_type": "stream",
     "text": [
      "Skipping frame: D:/Datasets/Datasets/EPIC_Kitchen/OpticalFlow/P01_04/u\\frame_5126.jpg due to error: [Errno 2] No such file or directory: 'D:\\\\Datasets\\\\Datasets\\\\EPIC_Kitchen\\\\OpticalFlow\\\\P01_04\\\\u\\\\frame_5126.jpg'\n",
      "Skipping frame: D:/Datasets/Datasets/EPIC_Kitchen/OpticalFlow/P01_04/v\\frame_5126.jpg due to error: [Errno 2] No such file or directory: 'D:\\\\Datasets\\\\Datasets\\\\EPIC_Kitchen\\\\OpticalFlow\\\\P01_04\\\\v\\\\frame_5126.jpg'\n",
      "Skipping frame: D:/Datasets/Datasets/EPIC_Kitchen/OpticalFlow/P01_04/u\\frame_5131.jpg due to error: [Errno 2] No such file or directory: 'D:\\\\Datasets\\\\Datasets\\\\EPIC_Kitchen\\\\OpticalFlow\\\\P01_04\\\\u\\\\frame_5131.jpg'\n",
      "Skipping frame: D:/Datasets/Datasets/EPIC_Kitchen/OpticalFlow/P01_04/v\\frame_5131.jpg due to error: [Errno 2] No such file or directory: 'D:\\\\Datasets\\\\Datasets\\\\EPIC_Kitchen\\\\OpticalFlow\\\\P01_04\\\\v\\\\frame_5131.jpg'\n",
      "Skipping frame: D:/Datasets/Datasets/EPIC_Kitchen/OpticalFlow/P01_04/u\\frame_5136.jpg due to error: [Errno 2] No such file or directory: 'D:\\\\Datasets\\\\Datasets\\\\EPIC_Kitchen\\\\OpticalFlow\\\\P01_04\\\\u\\\\frame_5136.jpg'\n",
      "Skipping frame: D:/Datasets/Datasets/EPIC_Kitchen/OpticalFlow/P01_04/v\\frame_5136.jpg due to error: [Errno 2] No such file or directory: 'D:\\\\Datasets\\\\Datasets\\\\EPIC_Kitchen\\\\OpticalFlow\\\\P01_04\\\\v\\\\frame_5136.jpg'\n",
      "Skipping frame: D:/Datasets/Datasets/EPIC_Kitchen/OpticalFlow/P01_04/u\\frame_5141.jpg due to error: [Errno 2] No such file or directory: 'D:\\\\Datasets\\\\Datasets\\\\EPIC_Kitchen\\\\OpticalFlow\\\\P01_04\\\\u\\\\frame_5141.jpg'\n",
      "Skipping frame: D:/Datasets/Datasets/EPIC_Kitchen/OpticalFlow/P01_04/v\\frame_5141.jpg due to error: [Errno 2] No such file or directory: 'D:\\\\Datasets\\\\Datasets\\\\EPIC_Kitchen\\\\OpticalFlow\\\\P01_04\\\\v\\\\frame_5141.jpg'\n"
     ]
    },
    {
     "name": "stderr",
     "output_type": "stream",
     "text": [
      "Extracting Features with DEFT:  82%|██████████████████████████████████████▍        | 1032/1262 [01:55<00:12, 18.72it/s]"
     ]
    },
    {
     "name": "stdout",
     "output_type": "stream",
     "text": [
      "Skipping frame: D:/Datasets/Datasets/EPIC_Kitchen/OpticalFlow/P01_04/u\\frame_5146.jpg due to error: [Errno 2] No such file or directory: 'D:\\\\Datasets\\\\Datasets\\\\EPIC_Kitchen\\\\OpticalFlow\\\\P01_04\\\\u\\\\frame_5146.jpg'\n",
      "Skipping frame: D:/Datasets/Datasets/EPIC_Kitchen/OpticalFlow/P01_04/v\\frame_5146.jpg due to error: [Errno 2] No such file or directory: 'D:\\\\Datasets\\\\Datasets\\\\EPIC_Kitchen\\\\OpticalFlow\\\\P01_04\\\\v\\\\frame_5146.jpg'\n",
      "Skipping frame: D:/Datasets/Datasets/EPIC_Kitchen/OpticalFlow/P01_04/u\\frame_5151.jpg due to error: [Errno 2] No such file or directory: 'D:\\\\Datasets\\\\Datasets\\\\EPIC_Kitchen\\\\OpticalFlow\\\\P01_04\\\\u\\\\frame_5151.jpg'\n",
      "Skipping frame: D:/Datasets/Datasets/EPIC_Kitchen/OpticalFlow/P01_04/v\\frame_5151.jpg due to error: [Errno 2] No such file or directory: 'D:\\\\Datasets\\\\Datasets\\\\EPIC_Kitchen\\\\OpticalFlow\\\\P01_04\\\\v\\\\frame_5151.jpg'\n",
      "Skipping frame: D:/Datasets/Datasets/EPIC_Kitchen/OpticalFlow/P01_04/u\\frame_5156.jpg due to error: [Errno 2] No such file or directory: 'D:\\\\Datasets\\\\Datasets\\\\EPIC_Kitchen\\\\OpticalFlow\\\\P01_04\\\\u\\\\frame_5156.jpg'\n",
      "Skipping frame: D:/Datasets/Datasets/EPIC_Kitchen/OpticalFlow/P01_04/v\\frame_5156.jpg due to error: [Errno 2] No such file or directory: 'D:\\\\Datasets\\\\Datasets\\\\EPIC_Kitchen\\\\OpticalFlow\\\\P01_04\\\\v\\\\frame_5156.jpg'\n",
      "Skipping frame: D:/Datasets/Datasets/EPIC_Kitchen/OpticalFlow/P01_04/u\\frame_5161.jpg due to error: [Errno 2] No such file or directory: 'D:\\\\Datasets\\\\Datasets\\\\EPIC_Kitchen\\\\OpticalFlow\\\\P01_04\\\\u\\\\frame_5161.jpg'\n",
      "Skipping frame: D:/Datasets/Datasets/EPIC_Kitchen/OpticalFlow/P01_04/v\\frame_5161.jpg due to error: [Errno 2] No such file or directory: 'D:\\\\Datasets\\\\Datasets\\\\EPIC_Kitchen\\\\OpticalFlow\\\\P01_04\\\\v\\\\frame_5161.jpg'\n"
     ]
    },
    {
     "name": "stderr",
     "output_type": "stream",
     "text": [
      "Extracting Features with DEFT:  82%|██████████████████████████████████████▌        | 1036/1262 [01:56<00:12, 18.09it/s]"
     ]
    },
    {
     "name": "stdout",
     "output_type": "stream",
     "text": [
      "Skipping frame: D:/Datasets/Datasets/EPIC_Kitchen/OpticalFlow/P01_04/u\\frame_5166.jpg due to error: [Errno 2] No such file or directory: 'D:\\\\Datasets\\\\Datasets\\\\EPIC_Kitchen\\\\OpticalFlow\\\\P01_04\\\\u\\\\frame_5166.jpg'\n",
      "Skipping frame: D:/Datasets/Datasets/EPIC_Kitchen/OpticalFlow/P01_04/v\\frame_5166.jpg due to error: [Errno 2] No such file or directory: 'D:\\\\Datasets\\\\Datasets\\\\EPIC_Kitchen\\\\OpticalFlow\\\\P01_04\\\\v\\\\frame_5166.jpg'\n",
      "Skipping frame: D:/Datasets/Datasets/EPIC_Kitchen/OpticalFlow/P01_04/u\\frame_5171.jpg due to error: [Errno 2] No such file or directory: 'D:\\\\Datasets\\\\Datasets\\\\EPIC_Kitchen\\\\OpticalFlow\\\\P01_04\\\\u\\\\frame_5171.jpg'\n",
      "Skipping frame: D:/Datasets/Datasets/EPIC_Kitchen/OpticalFlow/P01_04/v\\frame_5171.jpg due to error: [Errno 2] No such file or directory: 'D:\\\\Datasets\\\\Datasets\\\\EPIC_Kitchen\\\\OpticalFlow\\\\P01_04\\\\v\\\\frame_5171.jpg'\n",
      "Skipping frame: D:/Datasets/Datasets/EPIC_Kitchen/OpticalFlow/P01_04/u\\frame_5176.jpg due to error: [Errno 2] No such file or directory: 'D:\\\\Datasets\\\\Datasets\\\\EPIC_Kitchen\\\\OpticalFlow\\\\P01_04\\\\u\\\\frame_5176.jpg'\n",
      "Skipping frame: D:/Datasets/Datasets/EPIC_Kitchen/OpticalFlow/P01_04/v\\frame_5176.jpg due to error: [Errno 2] No such file or directory: 'D:\\\\Datasets\\\\Datasets\\\\EPIC_Kitchen\\\\OpticalFlow\\\\P01_04\\\\v\\\\frame_5176.jpg'\n",
      "Skipping frame: D:/Datasets/Datasets/EPIC_Kitchen/OpticalFlow/P01_04/u\\frame_5181.jpg due to error: [Errno 2] No such file or directory: 'D:\\\\Datasets\\\\Datasets\\\\EPIC_Kitchen\\\\OpticalFlow\\\\P01_04\\\\u\\\\frame_5181.jpg'\n",
      "Skipping frame: D:/Datasets/Datasets/EPIC_Kitchen/OpticalFlow/P01_04/v\\frame_5181.jpg due to error: [Errno 2] No such file or directory: 'D:\\\\Datasets\\\\Datasets\\\\EPIC_Kitchen\\\\OpticalFlow\\\\P01_04\\\\v\\\\frame_5181.jpg'\n"
     ]
    },
    {
     "name": "stderr",
     "output_type": "stream",
     "text": [
      "Extracting Features with DEFT:  82%|██████████████████████████████████████▋        | 1040/1262 [01:56<00:12, 18.18it/s]"
     ]
    },
    {
     "name": "stdout",
     "output_type": "stream",
     "text": [
      "Skipping frame: D:/Datasets/Datasets/EPIC_Kitchen/OpticalFlow/P01_04/u\\frame_5186.jpg due to error: [Errno 2] No such file or directory: 'D:\\\\Datasets\\\\Datasets\\\\EPIC_Kitchen\\\\OpticalFlow\\\\P01_04\\\\u\\\\frame_5186.jpg'\n",
      "Skipping frame: D:/Datasets/Datasets/EPIC_Kitchen/OpticalFlow/P01_04/v\\frame_5186.jpg due to error: [Errno 2] No such file or directory: 'D:\\\\Datasets\\\\Datasets\\\\EPIC_Kitchen\\\\OpticalFlow\\\\P01_04\\\\v\\\\frame_5186.jpg'\n",
      "Skipping frame: D:/Datasets/Datasets/EPIC_Kitchen/OpticalFlow/P01_04/u\\frame_5191.jpg due to error: [Errno 2] No such file or directory: 'D:\\\\Datasets\\\\Datasets\\\\EPIC_Kitchen\\\\OpticalFlow\\\\P01_04\\\\u\\\\frame_5191.jpg'\n",
      "Skipping frame: D:/Datasets/Datasets/EPIC_Kitchen/OpticalFlow/P01_04/v\\frame_5191.jpg due to error: [Errno 2] No such file or directory: 'D:\\\\Datasets\\\\Datasets\\\\EPIC_Kitchen\\\\OpticalFlow\\\\P01_04\\\\v\\\\frame_5191.jpg'\n",
      "Skipping frame: D:/Datasets/Datasets/EPIC_Kitchen/OpticalFlow/P01_04/u\\frame_5196.jpg due to error: [Errno 2] No such file or directory: 'D:\\\\Datasets\\\\Datasets\\\\EPIC_Kitchen\\\\OpticalFlow\\\\P01_04\\\\u\\\\frame_5196.jpg'\n",
      "Skipping frame: D:/Datasets/Datasets/EPIC_Kitchen/OpticalFlow/P01_04/v\\frame_5196.jpg due to error: [Errno 2] No such file or directory: 'D:\\\\Datasets\\\\Datasets\\\\EPIC_Kitchen\\\\OpticalFlow\\\\P01_04\\\\v\\\\frame_5196.jpg'\n",
      "Skipping frame: D:/Datasets/Datasets/EPIC_Kitchen/OpticalFlow/P01_04/u\\frame_5201.jpg due to error: [Errno 2] No such file or directory: 'D:\\\\Datasets\\\\Datasets\\\\EPIC_Kitchen\\\\OpticalFlow\\\\P01_04\\\\u\\\\frame_5201.jpg'\n",
      "Skipping frame: D:/Datasets/Datasets/EPIC_Kitchen/OpticalFlow/P01_04/v\\frame_5201.jpg due to error: [Errno 2] No such file or directory: 'D:\\\\Datasets\\\\Datasets\\\\EPIC_Kitchen\\\\OpticalFlow\\\\P01_04\\\\v\\\\frame_5201.jpg'\n"
     ]
    },
    {
     "name": "stderr",
     "output_type": "stream",
     "text": [
      "Extracting Features with DEFT:  83%|██████████████████████████████████████▉        | 1044/1262 [01:56<00:12, 17.93it/s]"
     ]
    },
    {
     "name": "stdout",
     "output_type": "stream",
     "text": [
      "Skipping frame: D:/Datasets/Datasets/EPIC_Kitchen/OpticalFlow/P01_04/u\\frame_5206.jpg due to error: [Errno 2] No such file or directory: 'D:\\\\Datasets\\\\Datasets\\\\EPIC_Kitchen\\\\OpticalFlow\\\\P01_04\\\\u\\\\frame_5206.jpg'\n",
      "Skipping frame: D:/Datasets/Datasets/EPIC_Kitchen/OpticalFlow/P01_04/v\\frame_5206.jpg due to error: [Errno 2] No such file or directory: 'D:\\\\Datasets\\\\Datasets\\\\EPIC_Kitchen\\\\OpticalFlow\\\\P01_04\\\\v\\\\frame_5206.jpg'\n",
      "Skipping frame: D:/Datasets/Datasets/EPIC_Kitchen/OpticalFlow/P01_04/u\\frame_5211.jpg due to error: [Errno 2] No such file or directory: 'D:\\\\Datasets\\\\Datasets\\\\EPIC_Kitchen\\\\OpticalFlow\\\\P01_04\\\\u\\\\frame_5211.jpg'\n",
      "Skipping frame: D:/Datasets/Datasets/EPIC_Kitchen/OpticalFlow/P01_04/v\\frame_5211.jpg due to error: [Errno 2] No such file or directory: 'D:\\\\Datasets\\\\Datasets\\\\EPIC_Kitchen\\\\OpticalFlow\\\\P01_04\\\\v\\\\frame_5211.jpg'\n",
      "Skipping frame: D:/Datasets/Datasets/EPIC_Kitchen/OpticalFlow/P01_04/u\\frame_5216.jpg due to error: [Errno 2] No such file or directory: 'D:\\\\Datasets\\\\Datasets\\\\EPIC_Kitchen\\\\OpticalFlow\\\\P01_04\\\\u\\\\frame_5216.jpg'\n",
      "Skipping frame: D:/Datasets/Datasets/EPIC_Kitchen/OpticalFlow/P01_04/v\\frame_5216.jpg due to error: [Errno 2] No such file or directory: 'D:\\\\Datasets\\\\Datasets\\\\EPIC_Kitchen\\\\OpticalFlow\\\\P01_04\\\\v\\\\frame_5216.jpg'\n",
      "Skipping frame: D:/Datasets/Datasets/EPIC_Kitchen/OpticalFlow/P01_04/u\\frame_5221.jpg due to error: [Errno 2] No such file or directory: 'D:\\\\Datasets\\\\Datasets\\\\EPIC_Kitchen\\\\OpticalFlow\\\\P01_04\\\\u\\\\frame_5221.jpg'\n",
      "Skipping frame: D:/Datasets/Datasets/EPIC_Kitchen/OpticalFlow/P01_04/v\\frame_5221.jpg due to error: [Errno 2] No such file or directory: 'D:\\\\Datasets\\\\Datasets\\\\EPIC_Kitchen\\\\OpticalFlow\\\\P01_04\\\\v\\\\frame_5221.jpg'\n"
     ]
    },
    {
     "name": "stderr",
     "output_type": "stream",
     "text": [
      "Extracting Features with DEFT:  83%|███████████████████████████████████████        | 1048/1262 [01:56<00:11, 17.98it/s]"
     ]
    },
    {
     "name": "stdout",
     "output_type": "stream",
     "text": [
      "Skipping frame: D:/Datasets/Datasets/EPIC_Kitchen/OpticalFlow/P01_04/u\\frame_5226.jpg due to error: [Errno 2] No such file or directory: 'D:\\\\Datasets\\\\Datasets\\\\EPIC_Kitchen\\\\OpticalFlow\\\\P01_04\\\\u\\\\frame_5226.jpg'\n",
      "Skipping frame: D:/Datasets/Datasets/EPIC_Kitchen/OpticalFlow/P01_04/v\\frame_5226.jpg due to error: [Errno 2] No such file or directory: 'D:\\\\Datasets\\\\Datasets\\\\EPIC_Kitchen\\\\OpticalFlow\\\\P01_04\\\\v\\\\frame_5226.jpg'\n",
      "Skipping frame: D:/Datasets/Datasets/EPIC_Kitchen/OpticalFlow/P01_04/u\\frame_5231.jpg due to error: [Errno 2] No such file or directory: 'D:\\\\Datasets\\\\Datasets\\\\EPIC_Kitchen\\\\OpticalFlow\\\\P01_04\\\\u\\\\frame_5231.jpg'\n",
      "Skipping frame: D:/Datasets/Datasets/EPIC_Kitchen/OpticalFlow/P01_04/v\\frame_5231.jpg due to error: [Errno 2] No such file or directory: 'D:\\\\Datasets\\\\Datasets\\\\EPIC_Kitchen\\\\OpticalFlow\\\\P01_04\\\\v\\\\frame_5231.jpg'\n",
      "Skipping frame: D:/Datasets/Datasets/EPIC_Kitchen/OpticalFlow/P01_04/u\\frame_5236.jpg due to error: [Errno 2] No such file or directory: 'D:\\\\Datasets\\\\Datasets\\\\EPIC_Kitchen\\\\OpticalFlow\\\\P01_04\\\\u\\\\frame_5236.jpg'\n",
      "Skipping frame: D:/Datasets/Datasets/EPIC_Kitchen/OpticalFlow/P01_04/v\\frame_5236.jpg due to error: [Errno 2] No such file or directory: 'D:\\\\Datasets\\\\Datasets\\\\EPIC_Kitchen\\\\OpticalFlow\\\\P01_04\\\\v\\\\frame_5236.jpg'\n",
      "Skipping frame: D:/Datasets/Datasets/EPIC_Kitchen/OpticalFlow/P01_04/u\\frame_5241.jpg due to error: [Errno 2] No such file or directory: 'D:\\\\Datasets\\\\Datasets\\\\EPIC_Kitchen\\\\OpticalFlow\\\\P01_04\\\\u\\\\frame_5241.jpg'\n",
      "Skipping frame: D:/Datasets/Datasets/EPIC_Kitchen/OpticalFlow/P01_04/v\\frame_5241.jpg due to error: [Errno 2] No such file or directory: 'D:\\\\Datasets\\\\Datasets\\\\EPIC_Kitchen\\\\OpticalFlow\\\\P01_04\\\\v\\\\frame_5241.jpg'\n"
     ]
    },
    {
     "name": "stderr",
     "output_type": "stream",
     "text": [
      "Extracting Features with DEFT:  83%|███████████████████████████████████████▏       | 1052/1262 [01:56<00:11, 18.39it/s]"
     ]
    },
    {
     "name": "stdout",
     "output_type": "stream",
     "text": [
      "Skipping frame: D:/Datasets/Datasets/EPIC_Kitchen/OpticalFlow/P01_04/u\\frame_5246.jpg due to error: [Errno 2] No such file or directory: 'D:\\\\Datasets\\\\Datasets\\\\EPIC_Kitchen\\\\OpticalFlow\\\\P01_04\\\\u\\\\frame_5246.jpg'\n",
      "Skipping frame: D:/Datasets/Datasets/EPIC_Kitchen/OpticalFlow/P01_04/v\\frame_5246.jpg due to error: [Errno 2] No such file or directory: 'D:\\\\Datasets\\\\Datasets\\\\EPIC_Kitchen\\\\OpticalFlow\\\\P01_04\\\\v\\\\frame_5246.jpg'\n",
      "Skipping frame: D:/Datasets/Datasets/EPIC_Kitchen/OpticalFlow/P01_04/u\\frame_5251.jpg due to error: [Errno 2] No such file or directory: 'D:\\\\Datasets\\\\Datasets\\\\EPIC_Kitchen\\\\OpticalFlow\\\\P01_04\\\\u\\\\frame_5251.jpg'\n",
      "Skipping frame: D:/Datasets/Datasets/EPIC_Kitchen/OpticalFlow/P01_04/v\\frame_5251.jpg due to error: [Errno 2] No such file or directory: 'D:\\\\Datasets\\\\Datasets\\\\EPIC_Kitchen\\\\OpticalFlow\\\\P01_04\\\\v\\\\frame_5251.jpg'\n",
      "Skipping frame: D:/Datasets/Datasets/EPIC_Kitchen/OpticalFlow/P01_04/u\\frame_5256.jpg due to error: [Errno 2] No such file or directory: 'D:\\\\Datasets\\\\Datasets\\\\EPIC_Kitchen\\\\OpticalFlow\\\\P01_04\\\\u\\\\frame_5256.jpg'\n",
      "Skipping frame: D:/Datasets/Datasets/EPIC_Kitchen/OpticalFlow/P01_04/v\\frame_5256.jpg due to error: [Errno 2] No such file or directory: 'D:\\\\Datasets\\\\Datasets\\\\EPIC_Kitchen\\\\OpticalFlow\\\\P01_04\\\\v\\\\frame_5256.jpg'\n",
      "Skipping frame: D:/Datasets/Datasets/EPIC_Kitchen/OpticalFlow/P01_04/u\\frame_5261.jpg due to error: [Errno 2] No such file or directory: 'D:\\\\Datasets\\\\Datasets\\\\EPIC_Kitchen\\\\OpticalFlow\\\\P01_04\\\\u\\\\frame_5261.jpg'\n",
      "Skipping frame: D:/Datasets/Datasets/EPIC_Kitchen/OpticalFlow/P01_04/v\\frame_5261.jpg due to error: [Errno 2] No such file or directory: 'D:\\\\Datasets\\\\Datasets\\\\EPIC_Kitchen\\\\OpticalFlow\\\\P01_04\\\\v\\\\frame_5261.jpg'\n"
     ]
    },
    {
     "name": "stderr",
     "output_type": "stream",
     "text": [
      "Extracting Features with DEFT:  84%|███████████████████████████████████████▎       | 1057/1262 [01:57<00:10, 19.15it/s]"
     ]
    },
    {
     "name": "stdout",
     "output_type": "stream",
     "text": [
      "Skipping frame: D:/Datasets/Datasets/EPIC_Kitchen/OpticalFlow/P01_04/u\\frame_5266.jpg due to error: [Errno 2] No such file or directory: 'D:\\\\Datasets\\\\Datasets\\\\EPIC_Kitchen\\\\OpticalFlow\\\\P01_04\\\\u\\\\frame_5266.jpg'\n",
      "Skipping frame: D:/Datasets/Datasets/EPIC_Kitchen/OpticalFlow/P01_04/v\\frame_5266.jpg due to error: [Errno 2] No such file or directory: 'D:\\\\Datasets\\\\Datasets\\\\EPIC_Kitchen\\\\OpticalFlow\\\\P01_04\\\\v\\\\frame_5266.jpg'\n",
      "Skipping frame: D:/Datasets/Datasets/EPIC_Kitchen/OpticalFlow/P01_04/u\\frame_5271.jpg due to error: [Errno 2] No such file or directory: 'D:\\\\Datasets\\\\Datasets\\\\EPIC_Kitchen\\\\OpticalFlow\\\\P01_04\\\\u\\\\frame_5271.jpg'\n",
      "Skipping frame: D:/Datasets/Datasets/EPIC_Kitchen/OpticalFlow/P01_04/v\\frame_5271.jpg due to error: [Errno 2] No such file or directory: 'D:\\\\Datasets\\\\Datasets\\\\EPIC_Kitchen\\\\OpticalFlow\\\\P01_04\\\\v\\\\frame_5271.jpg'\n",
      "Skipping frame: D:/Datasets/Datasets/EPIC_Kitchen/OpticalFlow/P01_04/u\\frame_5276.jpg due to error: [Errno 2] No such file or directory: 'D:\\\\Datasets\\\\Datasets\\\\EPIC_Kitchen\\\\OpticalFlow\\\\P01_04\\\\u\\\\frame_5276.jpg'\n",
      "Skipping frame: D:/Datasets/Datasets/EPIC_Kitchen/OpticalFlow/P01_04/v\\frame_5276.jpg due to error: [Errno 2] No such file or directory: 'D:\\\\Datasets\\\\Datasets\\\\EPIC_Kitchen\\\\OpticalFlow\\\\P01_04\\\\v\\\\frame_5276.jpg'\n",
      "Skipping frame: D:/Datasets/Datasets/EPIC_Kitchen/OpticalFlow/P01_04/u\\frame_5281.jpg due to error: [Errno 2] No such file or directory: 'D:\\\\Datasets\\\\Datasets\\\\EPIC_Kitchen\\\\OpticalFlow\\\\P01_04\\\\u\\\\frame_5281.jpg'\n",
      "Skipping frame: D:/Datasets/Datasets/EPIC_Kitchen/OpticalFlow/P01_04/v\\frame_5281.jpg due to error: [Errno 2] No such file or directory: 'D:\\\\Datasets\\\\Datasets\\\\EPIC_Kitchen\\\\OpticalFlow\\\\P01_04\\\\v\\\\frame_5281.jpg'\n"
     ]
    },
    {
     "name": "stderr",
     "output_type": "stream",
     "text": [
      "Extracting Features with DEFT:  84%|███████████████████████████████████████▌       | 1061/1262 [01:57<00:10, 19.07it/s]"
     ]
    },
    {
     "name": "stdout",
     "output_type": "stream",
     "text": [
      "Skipping frame: D:/Datasets/Datasets/EPIC_Kitchen/OpticalFlow/P01_04/u\\frame_5286.jpg due to error: [Errno 2] No such file or directory: 'D:\\\\Datasets\\\\Datasets\\\\EPIC_Kitchen\\\\OpticalFlow\\\\P01_04\\\\u\\\\frame_5286.jpg'\n",
      "Skipping frame: D:/Datasets/Datasets/EPIC_Kitchen/OpticalFlow/P01_04/v\\frame_5286.jpg due to error: [Errno 2] No such file or directory: 'D:\\\\Datasets\\\\Datasets\\\\EPIC_Kitchen\\\\OpticalFlow\\\\P01_04\\\\v\\\\frame_5286.jpg'\n",
      "Skipping frame: D:/Datasets/Datasets/EPIC_Kitchen/OpticalFlow/P01_04/u\\frame_5291.jpg due to error: [Errno 2] No such file or directory: 'D:\\\\Datasets\\\\Datasets\\\\EPIC_Kitchen\\\\OpticalFlow\\\\P01_04\\\\u\\\\frame_5291.jpg'\n",
      "Skipping frame: D:/Datasets/Datasets/EPIC_Kitchen/OpticalFlow/P01_04/v\\frame_5291.jpg due to error: [Errno 2] No such file or directory: 'D:\\\\Datasets\\\\Datasets\\\\EPIC_Kitchen\\\\OpticalFlow\\\\P01_04\\\\v\\\\frame_5291.jpg'\n",
      "Skipping frame: D:/Datasets/Datasets/EPIC_Kitchen/OpticalFlow/P01_04/u\\frame_5296.jpg due to error: [Errno 2] No such file or directory: 'D:\\\\Datasets\\\\Datasets\\\\EPIC_Kitchen\\\\OpticalFlow\\\\P01_04\\\\u\\\\frame_5296.jpg'\n",
      "Skipping frame: D:/Datasets/Datasets/EPIC_Kitchen/OpticalFlow/P01_04/v\\frame_5296.jpg due to error: [Errno 2] No such file or directory: 'D:\\\\Datasets\\\\Datasets\\\\EPIC_Kitchen\\\\OpticalFlow\\\\P01_04\\\\v\\\\frame_5296.jpg'\n",
      "Skipping frame: D:/Datasets/Datasets/EPIC_Kitchen/OpticalFlow/P01_04/u\\frame_5301.jpg due to error: [Errno 2] No such file or directory: 'D:\\\\Datasets\\\\Datasets\\\\EPIC_Kitchen\\\\OpticalFlow\\\\P01_04\\\\u\\\\frame_5301.jpg'\n",
      "Skipping frame: D:/Datasets/Datasets/EPIC_Kitchen/OpticalFlow/P01_04/v\\frame_5301.jpg due to error: [Errno 2] No such file or directory: 'D:\\\\Datasets\\\\Datasets\\\\EPIC_Kitchen\\\\OpticalFlow\\\\P01_04\\\\v\\\\frame_5301.jpg'\n"
     ]
    },
    {
     "name": "stderr",
     "output_type": "stream",
     "text": [
      "Extracting Features with DEFT:  84%|███████████████████████████████████████▋       | 1065/1262 [01:57<00:10, 17.99it/s]"
     ]
    },
    {
     "name": "stdout",
     "output_type": "stream",
     "text": [
      "Skipping frame: D:/Datasets/Datasets/EPIC_Kitchen/OpticalFlow/P01_04/u\\frame_5306.jpg due to error: [Errno 2] No such file or directory: 'D:\\\\Datasets\\\\Datasets\\\\EPIC_Kitchen\\\\OpticalFlow\\\\P01_04\\\\u\\\\frame_5306.jpg'\n",
      "Skipping frame: D:/Datasets/Datasets/EPIC_Kitchen/OpticalFlow/P01_04/v\\frame_5306.jpg due to error: [Errno 2] No such file or directory: 'D:\\\\Datasets\\\\Datasets\\\\EPIC_Kitchen\\\\OpticalFlow\\\\P01_04\\\\v\\\\frame_5306.jpg'\n",
      "Skipping frame: D:/Datasets/Datasets/EPIC_Kitchen/OpticalFlow/P01_04/u\\frame_5311.jpg due to error: [Errno 2] No such file or directory: 'D:\\\\Datasets\\\\Datasets\\\\EPIC_Kitchen\\\\OpticalFlow\\\\P01_04\\\\u\\\\frame_5311.jpg'\n",
      "Skipping frame: D:/Datasets/Datasets/EPIC_Kitchen/OpticalFlow/P01_04/v\\frame_5311.jpg due to error: [Errno 2] No such file or directory: 'D:\\\\Datasets\\\\Datasets\\\\EPIC_Kitchen\\\\OpticalFlow\\\\P01_04\\\\v\\\\frame_5311.jpg'\n",
      "Skipping frame: D:/Datasets/Datasets/EPIC_Kitchen/OpticalFlow/P01_04/u\\frame_5316.jpg due to error: [Errno 2] No such file or directory: 'D:\\\\Datasets\\\\Datasets\\\\EPIC_Kitchen\\\\OpticalFlow\\\\P01_04\\\\u\\\\frame_5316.jpg'\n",
      "Skipping frame: D:/Datasets/Datasets/EPIC_Kitchen/OpticalFlow/P01_04/v\\frame_5316.jpg due to error: [Errno 2] No such file or directory: 'D:\\\\Datasets\\\\Datasets\\\\EPIC_Kitchen\\\\OpticalFlow\\\\P01_04\\\\v\\\\frame_5316.jpg'\n",
      "Skipping frame: D:/Datasets/Datasets/EPIC_Kitchen/OpticalFlow/P01_04/u\\frame_5321.jpg due to error: [Errno 2] No such file or directory: 'D:\\\\Datasets\\\\Datasets\\\\EPIC_Kitchen\\\\OpticalFlow\\\\P01_04\\\\u\\\\frame_5321.jpg'\n",
      "Skipping frame: D:/Datasets/Datasets/EPIC_Kitchen/OpticalFlow/P01_04/v\\frame_5321.jpg due to error: [Errno 2] No such file or directory: 'D:\\\\Datasets\\\\Datasets\\\\EPIC_Kitchen\\\\OpticalFlow\\\\P01_04\\\\v\\\\frame_5321.jpg'\n"
     ]
    },
    {
     "name": "stderr",
     "output_type": "stream",
     "text": [
      "Extracting Features with DEFT:  85%|███████████████████████████████████████▊       | 1069/1262 [01:57<00:11, 17.52it/s]"
     ]
    },
    {
     "name": "stdout",
     "output_type": "stream",
     "text": [
      "Skipping frame: D:/Datasets/Datasets/EPIC_Kitchen/OpticalFlow/P01_04/u\\frame_5326.jpg due to error: [Errno 2] No such file or directory: 'D:\\\\Datasets\\\\Datasets\\\\EPIC_Kitchen\\\\OpticalFlow\\\\P01_04\\\\u\\\\frame_5326.jpg'\n",
      "Skipping frame: D:/Datasets/Datasets/EPIC_Kitchen/OpticalFlow/P01_04/v\\frame_5326.jpg due to error: [Errno 2] No such file or directory: 'D:\\\\Datasets\\\\Datasets\\\\EPIC_Kitchen\\\\OpticalFlow\\\\P01_04\\\\v\\\\frame_5326.jpg'\n",
      "Skipping frame: D:/Datasets/Datasets/EPIC_Kitchen/OpticalFlow/P01_04/u\\frame_5331.jpg due to error: [Errno 2] No such file or directory: 'D:\\\\Datasets\\\\Datasets\\\\EPIC_Kitchen\\\\OpticalFlow\\\\P01_04\\\\u\\\\frame_5331.jpg'\n",
      "Skipping frame: D:/Datasets/Datasets/EPIC_Kitchen/OpticalFlow/P01_04/v\\frame_5331.jpg due to error: [Errno 2] No such file or directory: 'D:\\\\Datasets\\\\Datasets\\\\EPIC_Kitchen\\\\OpticalFlow\\\\P01_04\\\\v\\\\frame_5331.jpg'\n",
      "Skipping frame: D:/Datasets/Datasets/EPIC_Kitchen/OpticalFlow/P01_04/u\\frame_5336.jpg due to error: [Errno 2] No such file or directory: 'D:\\\\Datasets\\\\Datasets\\\\EPIC_Kitchen\\\\OpticalFlow\\\\P01_04\\\\u\\\\frame_5336.jpg'\n",
      "Skipping frame: D:/Datasets/Datasets/EPIC_Kitchen/OpticalFlow/P01_04/v\\frame_5336.jpg due to error: [Errno 2] No such file or directory: 'D:\\\\Datasets\\\\Datasets\\\\EPIC_Kitchen\\\\OpticalFlow\\\\P01_04\\\\v\\\\frame_5336.jpg'\n",
      "Skipping frame: D:/Datasets/Datasets/EPIC_Kitchen/OpticalFlow/P01_04/u\\frame_5341.jpg due to error: [Errno 2] No such file or directory: 'D:\\\\Datasets\\\\Datasets\\\\EPIC_Kitchen\\\\OpticalFlow\\\\P01_04\\\\u\\\\frame_5341.jpg'\n",
      "Skipping frame: D:/Datasets/Datasets/EPIC_Kitchen/OpticalFlow/P01_04/v\\frame_5341.jpg due to error: [Errno 2] No such file or directory: 'D:\\\\Datasets\\\\Datasets\\\\EPIC_Kitchen\\\\OpticalFlow\\\\P01_04\\\\v\\\\frame_5341.jpg'\n"
     ]
    },
    {
     "name": "stderr",
     "output_type": "stream",
     "text": [
      "Extracting Features with DEFT:  85%|███████████████████████████████████████▉       | 1073/1262 [01:58<00:10, 17.84it/s]"
     ]
    },
    {
     "name": "stdout",
     "output_type": "stream",
     "text": [
      "Skipping frame: D:/Datasets/Datasets/EPIC_Kitchen/OpticalFlow/P01_04/u\\frame_5346.jpg due to error: [Errno 2] No such file or directory: 'D:\\\\Datasets\\\\Datasets\\\\EPIC_Kitchen\\\\OpticalFlow\\\\P01_04\\\\u\\\\frame_5346.jpg'\n",
      "Skipping frame: D:/Datasets/Datasets/EPIC_Kitchen/OpticalFlow/P01_04/v\\frame_5346.jpg due to error: [Errno 2] No such file or directory: 'D:\\\\Datasets\\\\Datasets\\\\EPIC_Kitchen\\\\OpticalFlow\\\\P01_04\\\\v\\\\frame_5346.jpg'\n",
      "Skipping frame: D:/Datasets/Datasets/EPIC_Kitchen/OpticalFlow/P01_04/u\\frame_5351.jpg due to error: [Errno 2] No such file or directory: 'D:\\\\Datasets\\\\Datasets\\\\EPIC_Kitchen\\\\OpticalFlow\\\\P01_04\\\\u\\\\frame_5351.jpg'\n",
      "Skipping frame: D:/Datasets/Datasets/EPIC_Kitchen/OpticalFlow/P01_04/v\\frame_5351.jpg due to error: [Errno 2] No such file or directory: 'D:\\\\Datasets\\\\Datasets\\\\EPIC_Kitchen\\\\OpticalFlow\\\\P01_04\\\\v\\\\frame_5351.jpg'\n",
      "Skipping frame: D:/Datasets/Datasets/EPIC_Kitchen/OpticalFlow/P01_04/u\\frame_5356.jpg due to error: [Errno 2] No such file or directory: 'D:\\\\Datasets\\\\Datasets\\\\EPIC_Kitchen\\\\OpticalFlow\\\\P01_04\\\\u\\\\frame_5356.jpg'\n",
      "Skipping frame: D:/Datasets/Datasets/EPIC_Kitchen/OpticalFlow/P01_04/v\\frame_5356.jpg due to error: [Errno 2] No such file or directory: 'D:\\\\Datasets\\\\Datasets\\\\EPIC_Kitchen\\\\OpticalFlow\\\\P01_04\\\\v\\\\frame_5356.jpg'\n",
      "Skipping frame: D:/Datasets/Datasets/EPIC_Kitchen/OpticalFlow/P01_04/u\\frame_5361.jpg due to error: [Errno 2] No such file or directory: 'D:\\\\Datasets\\\\Datasets\\\\EPIC_Kitchen\\\\OpticalFlow\\\\P01_04\\\\u\\\\frame_5361.jpg'\n",
      "Skipping frame: D:/Datasets/Datasets/EPIC_Kitchen/OpticalFlow/P01_04/v\\frame_5361.jpg due to error: [Errno 2] No such file or directory: 'D:\\\\Datasets\\\\Datasets\\\\EPIC_Kitchen\\\\OpticalFlow\\\\P01_04\\\\v\\\\frame_5361.jpg'\n"
     ]
    },
    {
     "name": "stderr",
     "output_type": "stream",
     "text": [
      "Extracting Features with DEFT:  85%|████████████████████████████████████████       | 1077/1262 [01:58<00:10, 17.80it/s]"
     ]
    },
    {
     "name": "stdout",
     "output_type": "stream",
     "text": [
      "Skipping frame: D:/Datasets/Datasets/EPIC_Kitchen/OpticalFlow/P01_04/u\\frame_5366.jpg due to error: [Errno 2] No such file or directory: 'D:\\\\Datasets\\\\Datasets\\\\EPIC_Kitchen\\\\OpticalFlow\\\\P01_04\\\\u\\\\frame_5366.jpg'\n",
      "Skipping frame: D:/Datasets/Datasets/EPIC_Kitchen/OpticalFlow/P01_04/v\\frame_5366.jpg due to error: [Errno 2] No such file or directory: 'D:\\\\Datasets\\\\Datasets\\\\EPIC_Kitchen\\\\OpticalFlow\\\\P01_04\\\\v\\\\frame_5366.jpg'\n",
      "Skipping frame: D:/Datasets/Datasets/EPIC_Kitchen/OpticalFlow/P01_04/u\\frame_5371.jpg due to error: [Errno 2] No such file or directory: 'D:\\\\Datasets\\\\Datasets\\\\EPIC_Kitchen\\\\OpticalFlow\\\\P01_04\\\\u\\\\frame_5371.jpg'\n",
      "Skipping frame: D:/Datasets/Datasets/EPIC_Kitchen/OpticalFlow/P01_04/v\\frame_5371.jpg due to error: [Errno 2] No such file or directory: 'D:\\\\Datasets\\\\Datasets\\\\EPIC_Kitchen\\\\OpticalFlow\\\\P01_04\\\\v\\\\frame_5371.jpg'\n",
      "Skipping frame: D:/Datasets/Datasets/EPIC_Kitchen/OpticalFlow/P01_04/u\\frame_5376.jpg due to error: [Errno 2] No such file or directory: 'D:\\\\Datasets\\\\Datasets\\\\EPIC_Kitchen\\\\OpticalFlow\\\\P01_04\\\\u\\\\frame_5376.jpg'\n",
      "Skipping frame: D:/Datasets/Datasets/EPIC_Kitchen/OpticalFlow/P01_04/v\\frame_5376.jpg due to error: [Errno 2] No such file or directory: 'D:\\\\Datasets\\\\Datasets\\\\EPIC_Kitchen\\\\OpticalFlow\\\\P01_04\\\\v\\\\frame_5376.jpg'\n",
      "Skipping frame: D:/Datasets/Datasets/EPIC_Kitchen/OpticalFlow/P01_04/u\\frame_5381.jpg due to error: [Errno 2] No such file or directory: 'D:\\\\Datasets\\\\Datasets\\\\EPIC_Kitchen\\\\OpticalFlow\\\\P01_04\\\\u\\\\frame_5381.jpg'\n",
      "Skipping frame: D:/Datasets/Datasets/EPIC_Kitchen/OpticalFlow/P01_04/v\\frame_5381.jpg due to error: [Errno 2] No such file or directory: 'D:\\\\Datasets\\\\Datasets\\\\EPIC_Kitchen\\\\OpticalFlow\\\\P01_04\\\\v\\\\frame_5381.jpg'\n"
     ]
    },
    {
     "name": "stderr",
     "output_type": "stream",
     "text": [
      "Extracting Features with DEFT:  86%|████████████████████████████████████████▎      | 1081/1262 [01:58<00:09, 18.44it/s]"
     ]
    },
    {
     "name": "stdout",
     "output_type": "stream",
     "text": [
      "Skipping frame: D:/Datasets/Datasets/EPIC_Kitchen/OpticalFlow/P01_04/u\\frame_5386.jpg due to error: [Errno 2] No such file or directory: 'D:\\\\Datasets\\\\Datasets\\\\EPIC_Kitchen\\\\OpticalFlow\\\\P01_04\\\\u\\\\frame_5386.jpg'\n",
      "Skipping frame: D:/Datasets/Datasets/EPIC_Kitchen/OpticalFlow/P01_04/v\\frame_5386.jpg due to error: [Errno 2] No such file or directory: 'D:\\\\Datasets\\\\Datasets\\\\EPIC_Kitchen\\\\OpticalFlow\\\\P01_04\\\\v\\\\frame_5386.jpg'\n",
      "Skipping frame: D:/Datasets/Datasets/EPIC_Kitchen/OpticalFlow/P01_04/u\\frame_5391.jpg due to error: [Errno 2] No such file or directory: 'D:\\\\Datasets\\\\Datasets\\\\EPIC_Kitchen\\\\OpticalFlow\\\\P01_04\\\\u\\\\frame_5391.jpg'\n",
      "Skipping frame: D:/Datasets/Datasets/EPIC_Kitchen/OpticalFlow/P01_04/v\\frame_5391.jpg due to error: [Errno 2] No such file or directory: 'D:\\\\Datasets\\\\Datasets\\\\EPIC_Kitchen\\\\OpticalFlow\\\\P01_04\\\\v\\\\frame_5391.jpg'\n",
      "Skipping frame: D:/Datasets/Datasets/EPIC_Kitchen/OpticalFlow/P01_04/u\\frame_5396.jpg due to error: [Errno 2] No such file or directory: 'D:\\\\Datasets\\\\Datasets\\\\EPIC_Kitchen\\\\OpticalFlow\\\\P01_04\\\\u\\\\frame_5396.jpg'\n",
      "Skipping frame: D:/Datasets/Datasets/EPIC_Kitchen/OpticalFlow/P01_04/v\\frame_5396.jpg due to error: [Errno 2] No such file or directory: 'D:\\\\Datasets\\\\Datasets\\\\EPIC_Kitchen\\\\OpticalFlow\\\\P01_04\\\\v\\\\frame_5396.jpg'\n",
      "Skipping frame: D:/Datasets/Datasets/EPIC_Kitchen/OpticalFlow/P01_04/u\\frame_5401.jpg due to error: [Errno 2] No such file or directory: 'D:\\\\Datasets\\\\Datasets\\\\EPIC_Kitchen\\\\OpticalFlow\\\\P01_04\\\\u\\\\frame_5401.jpg'\n",
      "Skipping frame: D:/Datasets/Datasets/EPIC_Kitchen/OpticalFlow/P01_04/v\\frame_5401.jpg due to error: [Errno 2] No such file or directory: 'D:\\\\Datasets\\\\Datasets\\\\EPIC_Kitchen\\\\OpticalFlow\\\\P01_04\\\\v\\\\frame_5401.jpg'\n"
     ]
    },
    {
     "name": "stderr",
     "output_type": "stream",
     "text": [
      "Extracting Features with DEFT:  86%|████████████████████████████████████████▍      | 1085/1262 [01:58<00:09, 18.45it/s]"
     ]
    },
    {
     "name": "stdout",
     "output_type": "stream",
     "text": [
      "Skipping frame: D:/Datasets/Datasets/EPIC_Kitchen/OpticalFlow/P01_04/u\\frame_5406.jpg due to error: [Errno 2] No such file or directory: 'D:\\\\Datasets\\\\Datasets\\\\EPIC_Kitchen\\\\OpticalFlow\\\\P01_04\\\\u\\\\frame_5406.jpg'\n",
      "Skipping frame: D:/Datasets/Datasets/EPIC_Kitchen/OpticalFlow/P01_04/v\\frame_5406.jpg due to error: [Errno 2] No such file or directory: 'D:\\\\Datasets\\\\Datasets\\\\EPIC_Kitchen\\\\OpticalFlow\\\\P01_04\\\\v\\\\frame_5406.jpg'\n",
      "Skipping frame: D:/Datasets/Datasets/EPIC_Kitchen/OpticalFlow/P01_04/u\\frame_5411.jpg due to error: [Errno 2] No such file or directory: 'D:\\\\Datasets\\\\Datasets\\\\EPIC_Kitchen\\\\OpticalFlow\\\\P01_04\\\\u\\\\frame_5411.jpg'\n",
      "Skipping frame: D:/Datasets/Datasets/EPIC_Kitchen/OpticalFlow/P01_04/v\\frame_5411.jpg due to error: [Errno 2] No such file or directory: 'D:\\\\Datasets\\\\Datasets\\\\EPIC_Kitchen\\\\OpticalFlow\\\\P01_04\\\\v\\\\frame_5411.jpg'\n",
      "Skipping frame: D:/Datasets/Datasets/EPIC_Kitchen/OpticalFlow/P01_04/u\\frame_5416.jpg due to error: [Errno 2] No such file or directory: 'D:\\\\Datasets\\\\Datasets\\\\EPIC_Kitchen\\\\OpticalFlow\\\\P01_04\\\\u\\\\frame_5416.jpg'\n",
      "Skipping frame: D:/Datasets/Datasets/EPIC_Kitchen/OpticalFlow/P01_04/v\\frame_5416.jpg due to error: [Errno 2] No such file or directory: 'D:\\\\Datasets\\\\Datasets\\\\EPIC_Kitchen\\\\OpticalFlow\\\\P01_04\\\\v\\\\frame_5416.jpg'\n",
      "Skipping frame: D:/Datasets/Datasets/EPIC_Kitchen/OpticalFlow/P01_04/u\\frame_5421.jpg due to error: [Errno 2] No such file or directory: 'D:\\\\Datasets\\\\Datasets\\\\EPIC_Kitchen\\\\OpticalFlow\\\\P01_04\\\\u\\\\frame_5421.jpg'\n",
      "Skipping frame: D:/Datasets/Datasets/EPIC_Kitchen/OpticalFlow/P01_04/v\\frame_5421.jpg due to error: [Errno 2] No such file or directory: 'D:\\\\Datasets\\\\Datasets\\\\EPIC_Kitchen\\\\OpticalFlow\\\\P01_04\\\\v\\\\frame_5421.jpg'\n"
     ]
    },
    {
     "name": "stderr",
     "output_type": "stream",
     "text": [
      "Extracting Features with DEFT:  86%|████████████████████████████████████████▌      | 1090/1262 [01:59<00:09, 19.02it/s]"
     ]
    },
    {
     "name": "stdout",
     "output_type": "stream",
     "text": [
      "Skipping frame: D:/Datasets/Datasets/EPIC_Kitchen/OpticalFlow/P01_04/u\\frame_5426.jpg due to error: [Errno 2] No such file or directory: 'D:\\\\Datasets\\\\Datasets\\\\EPIC_Kitchen\\\\OpticalFlow\\\\P01_04\\\\u\\\\frame_5426.jpg'\n",
      "Skipping frame: D:/Datasets/Datasets/EPIC_Kitchen/OpticalFlow/P01_04/v\\frame_5426.jpg due to error: [Errno 2] No such file or directory: 'D:\\\\Datasets\\\\Datasets\\\\EPIC_Kitchen\\\\OpticalFlow\\\\P01_04\\\\v\\\\frame_5426.jpg'\n",
      "Skipping frame: D:/Datasets/Datasets/EPIC_Kitchen/OpticalFlow/P01_04/u\\frame_5431.jpg due to error: [Errno 2] No such file or directory: 'D:\\\\Datasets\\\\Datasets\\\\EPIC_Kitchen\\\\OpticalFlow\\\\P01_04\\\\u\\\\frame_5431.jpg'\n",
      "Skipping frame: D:/Datasets/Datasets/EPIC_Kitchen/OpticalFlow/P01_04/v\\frame_5431.jpg due to error: [Errno 2] No such file or directory: 'D:\\\\Datasets\\\\Datasets\\\\EPIC_Kitchen\\\\OpticalFlow\\\\P01_04\\\\v\\\\frame_5431.jpg'\n",
      "Skipping frame: D:/Datasets/Datasets/EPIC_Kitchen/OpticalFlow/P01_04/u\\frame_5436.jpg due to error: [Errno 2] No such file or directory: 'D:\\\\Datasets\\\\Datasets\\\\EPIC_Kitchen\\\\OpticalFlow\\\\P01_04\\\\u\\\\frame_5436.jpg'\n",
      "Skipping frame: D:/Datasets/Datasets/EPIC_Kitchen/OpticalFlow/P01_04/v\\frame_5436.jpg due to error: [Errno 2] No such file or directory: 'D:\\\\Datasets\\\\Datasets\\\\EPIC_Kitchen\\\\OpticalFlow\\\\P01_04\\\\v\\\\frame_5436.jpg'\n",
      "Skipping frame: D:/Datasets/Datasets/EPIC_Kitchen/OpticalFlow/P01_04/u\\frame_5441.jpg due to error: [Errno 2] No such file or directory: 'D:\\\\Datasets\\\\Datasets\\\\EPIC_Kitchen\\\\OpticalFlow\\\\P01_04\\\\u\\\\frame_5441.jpg'\n",
      "Skipping frame: D:/Datasets/Datasets/EPIC_Kitchen/OpticalFlow/P01_04/v\\frame_5441.jpg due to error: [Errno 2] No such file or directory: 'D:\\\\Datasets\\\\Datasets\\\\EPIC_Kitchen\\\\OpticalFlow\\\\P01_04\\\\v\\\\frame_5441.jpg'\n",
      "Skipping frame: D:/Datasets/Datasets/EPIC_Kitchen/OpticalFlow/P01_04/u\\frame_5446.jpg due to error: [Errno 2] No such file or directory: 'D:\\\\Datasets\\\\Datasets\\\\EPIC_Kitchen\\\\OpticalFlow\\\\P01_04\\\\u\\\\frame_5446.jpg'\n",
      "Skipping frame: D:/Datasets/Datasets/EPIC_Kitchen/OpticalFlow/P01_04/v\\frame_5446.jpg due to error: [Errno 2] No such file or directory: 'D:\\\\Datasets\\\\Datasets\\\\EPIC_Kitchen\\\\OpticalFlow\\\\P01_04\\\\v\\\\frame_5446.jpg'\n"
     ]
    },
    {
     "name": "stderr",
     "output_type": "stream",
     "text": [
      "Extracting Features with DEFT:  87%|████████████████████████████████████████▋      | 1094/1262 [01:59<00:08, 19.20it/s]"
     ]
    },
    {
     "name": "stdout",
     "output_type": "stream",
     "text": [
      "Skipping frame: D:/Datasets/Datasets/EPIC_Kitchen/OpticalFlow/P01_04/u\\frame_5451.jpg due to error: [Errno 2] No such file or directory: 'D:\\\\Datasets\\\\Datasets\\\\EPIC_Kitchen\\\\OpticalFlow\\\\P01_04\\\\u\\\\frame_5451.jpg'\n",
      "Skipping frame: D:/Datasets/Datasets/EPIC_Kitchen/OpticalFlow/P01_04/v\\frame_5451.jpg due to error: [Errno 2] No such file or directory: 'D:\\\\Datasets\\\\Datasets\\\\EPIC_Kitchen\\\\OpticalFlow\\\\P01_04\\\\v\\\\frame_5451.jpg'\n",
      "Skipping frame: D:/Datasets/Datasets/EPIC_Kitchen/OpticalFlow/P01_04/u\\frame_5456.jpg due to error: [Errno 2] No such file or directory: 'D:\\\\Datasets\\\\Datasets\\\\EPIC_Kitchen\\\\OpticalFlow\\\\P01_04\\\\u\\\\frame_5456.jpg'\n",
      "Skipping frame: D:/Datasets/Datasets/EPIC_Kitchen/OpticalFlow/P01_04/v\\frame_5456.jpg due to error: [Errno 2] No such file or directory: 'D:\\\\Datasets\\\\Datasets\\\\EPIC_Kitchen\\\\OpticalFlow\\\\P01_04\\\\v\\\\frame_5456.jpg'\n",
      "Skipping frame: D:/Datasets/Datasets/EPIC_Kitchen/OpticalFlow/P01_04/u\\frame_5461.jpg due to error: [Errno 2] No such file or directory: 'D:\\\\Datasets\\\\Datasets\\\\EPIC_Kitchen\\\\OpticalFlow\\\\P01_04\\\\u\\\\frame_5461.jpg'\n",
      "Skipping frame: D:/Datasets/Datasets/EPIC_Kitchen/OpticalFlow/P01_04/v\\frame_5461.jpg due to error: [Errno 2] No such file or directory: 'D:\\\\Datasets\\\\Datasets\\\\EPIC_Kitchen\\\\OpticalFlow\\\\P01_04\\\\v\\\\frame_5461.jpg'\n",
      "Skipping frame: D:/Datasets/Datasets/EPIC_Kitchen/OpticalFlow/P01_04/u\\frame_5466.jpg due to error: [Errno 2] No such file or directory: 'D:\\\\Datasets\\\\Datasets\\\\EPIC_Kitchen\\\\OpticalFlow\\\\P01_04\\\\u\\\\frame_5466.jpg'\n",
      "Skipping frame: D:/Datasets/Datasets/EPIC_Kitchen/OpticalFlow/P01_04/v\\frame_5466.jpg due to error: [Errno 2] No such file or directory: 'D:\\\\Datasets\\\\Datasets\\\\EPIC_Kitchen\\\\OpticalFlow\\\\P01_04\\\\v\\\\frame_5466.jpg'\n"
     ]
    },
    {
     "name": "stderr",
     "output_type": "stream",
     "text": [
      "Extracting Features with DEFT:  87%|████████████████████████████████████████▉      | 1099/1262 [01:59<00:08, 19.52it/s]"
     ]
    },
    {
     "name": "stdout",
     "output_type": "stream",
     "text": [
      "Skipping frame: D:/Datasets/Datasets/EPIC_Kitchen/OpticalFlow/P01_04/u\\frame_5471.jpg due to error: [Errno 2] No such file or directory: 'D:\\\\Datasets\\\\Datasets\\\\EPIC_Kitchen\\\\OpticalFlow\\\\P01_04\\\\u\\\\frame_5471.jpg'\n",
      "Skipping frame: D:/Datasets/Datasets/EPIC_Kitchen/OpticalFlow/P01_04/v\\frame_5471.jpg due to error: [Errno 2] No such file or directory: 'D:\\\\Datasets\\\\Datasets\\\\EPIC_Kitchen\\\\OpticalFlow\\\\P01_04\\\\v\\\\frame_5471.jpg'\n",
      "Skipping frame: D:/Datasets/Datasets/EPIC_Kitchen/OpticalFlow/P01_04/u\\frame_5476.jpg due to error: [Errno 2] No such file or directory: 'D:\\\\Datasets\\\\Datasets\\\\EPIC_Kitchen\\\\OpticalFlow\\\\P01_04\\\\u\\\\frame_5476.jpg'\n",
      "Skipping frame: D:/Datasets/Datasets/EPIC_Kitchen/OpticalFlow/P01_04/v\\frame_5476.jpg due to error: [Errno 2] No such file or directory: 'D:\\\\Datasets\\\\Datasets\\\\EPIC_Kitchen\\\\OpticalFlow\\\\P01_04\\\\v\\\\frame_5476.jpg'\n",
      "Skipping frame: D:/Datasets/Datasets/EPIC_Kitchen/OpticalFlow/P01_04/u\\frame_5481.jpg due to error: [Errno 2] No such file or directory: 'D:\\\\Datasets\\\\Datasets\\\\EPIC_Kitchen\\\\OpticalFlow\\\\P01_04\\\\u\\\\frame_5481.jpg'\n",
      "Skipping frame: D:/Datasets/Datasets/EPIC_Kitchen/OpticalFlow/P01_04/v\\frame_5481.jpg due to error: [Errno 2] No such file or directory: 'D:\\\\Datasets\\\\Datasets\\\\EPIC_Kitchen\\\\OpticalFlow\\\\P01_04\\\\v\\\\frame_5481.jpg'\n",
      "Skipping frame: D:/Datasets/Datasets/EPIC_Kitchen/OpticalFlow/P01_04/u\\frame_5486.jpg due to error: [Errno 2] No such file or directory: 'D:\\\\Datasets\\\\Datasets\\\\EPIC_Kitchen\\\\OpticalFlow\\\\P01_04\\\\u\\\\frame_5486.jpg'\n",
      "Skipping frame: D:/Datasets/Datasets/EPIC_Kitchen/OpticalFlow/P01_04/v\\frame_5486.jpg due to error: [Errno 2] No such file or directory: 'D:\\\\Datasets\\\\Datasets\\\\EPIC_Kitchen\\\\OpticalFlow\\\\P01_04\\\\v\\\\frame_5486.jpg'\n",
      "Skipping frame: D:/Datasets/Datasets/EPIC_Kitchen/OpticalFlow/P01_04/u\\frame_5491.jpg due to error: [Errno 2] No such file or directory: 'D:\\\\Datasets\\\\Datasets\\\\EPIC_Kitchen\\\\OpticalFlow\\\\P01_04\\\\u\\\\frame_5491.jpg'\n",
      "Skipping frame: D:/Datasets/Datasets/EPIC_Kitchen/OpticalFlow/P01_04/v\\frame_5491.jpg due to error: [Errno 2] No such file or directory: 'D:\\\\Datasets\\\\Datasets\\\\EPIC_Kitchen\\\\OpticalFlow\\\\P01_04\\\\v\\\\frame_5491.jpg'\n"
     ]
    },
    {
     "name": "stderr",
     "output_type": "stream",
     "text": [
      "\r",
      "Extracting Features with DEFT:  87%|█████████████████████████████████████████      | 1102/1262 [01:59<00:07, 20.01it/s]"
     ]
    },
    {
     "name": "stdout",
     "output_type": "stream",
     "text": [
      "Skipping frame: D:/Datasets/Datasets/EPIC_Kitchen/OpticalFlow/P01_04/u\\frame_5496.jpg due to error: [Errno 2] No such file or directory: 'D:\\\\Datasets\\\\Datasets\\\\EPIC_Kitchen\\\\OpticalFlow\\\\P01_04\\\\u\\\\frame_5496.jpg'\n",
      "Skipping frame: D:/Datasets/Datasets/EPIC_Kitchen/OpticalFlow/P01_04/v\\frame_5496.jpg due to error: [Errno 2] No such file or directory: 'D:\\\\Datasets\\\\Datasets\\\\EPIC_Kitchen\\\\OpticalFlow\\\\P01_04\\\\v\\\\frame_5496.jpg'\n",
      "Skipping frame: D:/Datasets/Datasets/EPIC_Kitchen/OpticalFlow/P01_04/u\\frame_5501.jpg due to error: [Errno 2] No such file or directory: 'D:\\\\Datasets\\\\Datasets\\\\EPIC_Kitchen\\\\OpticalFlow\\\\P01_04\\\\u\\\\frame_5501.jpg'\n",
      "Skipping frame: D:/Datasets/Datasets/EPIC_Kitchen/OpticalFlow/P01_04/v\\frame_5501.jpg due to error: [Errno 2] No such file or directory: 'D:\\\\Datasets\\\\Datasets\\\\EPIC_Kitchen\\\\OpticalFlow\\\\P01_04\\\\v\\\\frame_5501.jpg'\n",
      "Skipping frame: D:/Datasets/Datasets/EPIC_Kitchen/OpticalFlow/P01_04/u\\frame_5506.jpg due to error: [Errno 2] No such file or directory: 'D:\\\\Datasets\\\\Datasets\\\\EPIC_Kitchen\\\\OpticalFlow\\\\P01_04\\\\u\\\\frame_5506.jpg'\n",
      "Skipping frame: D:/Datasets/Datasets/EPIC_Kitchen/OpticalFlow/P01_04/v\\frame_5506.jpg due to error: [Errno 2] No such file or directory: 'D:\\\\Datasets\\\\Datasets\\\\EPIC_Kitchen\\\\OpticalFlow\\\\P01_04\\\\v\\\\frame_5506.jpg'\n",
      "Skipping frame: D:/Datasets/Datasets/EPIC_Kitchen/OpticalFlow/P01_04/u\\frame_5511.jpg due to error: [Errno 2] No such file or directory: 'D:\\\\Datasets\\\\Datasets\\\\EPIC_Kitchen\\\\OpticalFlow\\\\P01_04\\\\u\\\\frame_5511.jpg'\n",
      "Skipping frame: D:/Datasets/Datasets/EPIC_Kitchen/OpticalFlow/P01_04/v\\frame_5511.jpg due to error: [Errno 2] No such file or directory: 'D:\\\\Datasets\\\\Datasets\\\\EPIC_Kitchen\\\\OpticalFlow\\\\P01_04\\\\v\\\\frame_5511.jpg'\n"
     ]
    },
    {
     "name": "stderr",
     "output_type": "stream",
     "text": [
      "Extracting Features with DEFT:  88%|█████████████████████████████████████████▏     | 1107/1262 [01:59<00:07, 20.00it/s]"
     ]
    },
    {
     "name": "stdout",
     "output_type": "stream",
     "text": [
      "Skipping frame: D:/Datasets/Datasets/EPIC_Kitchen/OpticalFlow/P01_04/u\\frame_5516.jpg due to error: [Errno 2] No such file or directory: 'D:\\\\Datasets\\\\Datasets\\\\EPIC_Kitchen\\\\OpticalFlow\\\\P01_04\\\\u\\\\frame_5516.jpg'\n",
      "Skipping frame: D:/Datasets/Datasets/EPIC_Kitchen/OpticalFlow/P01_04/v\\frame_5516.jpg due to error: [Errno 2] No such file or directory: 'D:\\\\Datasets\\\\Datasets\\\\EPIC_Kitchen\\\\OpticalFlow\\\\P01_04\\\\v\\\\frame_5516.jpg'\n",
      "Skipping frame: D:/Datasets/Datasets/EPIC_Kitchen/OpticalFlow/P01_04/u\\frame_5521.jpg due to error: [Errno 2] No such file or directory: 'D:\\\\Datasets\\\\Datasets\\\\EPIC_Kitchen\\\\OpticalFlow\\\\P01_04\\\\u\\\\frame_5521.jpg'\n",
      "Skipping frame: D:/Datasets/Datasets/EPIC_Kitchen/OpticalFlow/P01_04/v\\frame_5521.jpg due to error: [Errno 2] No such file or directory: 'D:\\\\Datasets\\\\Datasets\\\\EPIC_Kitchen\\\\OpticalFlow\\\\P01_04\\\\v\\\\frame_5521.jpg'\n",
      "Skipping frame: D:/Datasets/Datasets/EPIC_Kitchen/OpticalFlow/P01_04/u\\frame_5526.jpg due to error: [Errno 2] No such file or directory: 'D:\\\\Datasets\\\\Datasets\\\\EPIC_Kitchen\\\\OpticalFlow\\\\P01_04\\\\u\\\\frame_5526.jpg'\n",
      "Skipping frame: D:/Datasets/Datasets/EPIC_Kitchen/OpticalFlow/P01_04/v\\frame_5526.jpg due to error: [Errno 2] No such file or directory: 'D:\\\\Datasets\\\\Datasets\\\\EPIC_Kitchen\\\\OpticalFlow\\\\P01_04\\\\v\\\\frame_5526.jpg'\n",
      "Skipping frame: D:/Datasets/Datasets/EPIC_Kitchen/OpticalFlow/P01_04/u\\frame_5531.jpg due to error: [Errno 2] No such file or directory: 'D:\\\\Datasets\\\\Datasets\\\\EPIC_Kitchen\\\\OpticalFlow\\\\P01_04\\\\u\\\\frame_5531.jpg'\n",
      "Skipping frame: D:/Datasets/Datasets/EPIC_Kitchen/OpticalFlow/P01_04/v\\frame_5531.jpg due to error: [Errno 2] No such file or directory: 'D:\\\\Datasets\\\\Datasets\\\\EPIC_Kitchen\\\\OpticalFlow\\\\P01_04\\\\v\\\\frame_5531.jpg'\n",
      "Skipping frame: D:/Datasets/Datasets/EPIC_Kitchen/OpticalFlow/P01_04/u\\frame_5536.jpg due to error: [Errno 2] No such file or directory: 'D:\\\\Datasets\\\\Datasets\\\\EPIC_Kitchen\\\\OpticalFlow\\\\P01_04\\\\u\\\\frame_5536.jpg'\n",
      "Skipping frame: D:/Datasets/Datasets/EPIC_Kitchen/OpticalFlow/P01_04/v\\frame_5536.jpg due to error: [Errno 2] No such file or directory: 'D:\\\\Datasets\\\\Datasets\\\\EPIC_Kitchen\\\\OpticalFlow\\\\P01_04\\\\v\\\\frame_5536.jpg'\n"
     ]
    },
    {
     "name": "stderr",
     "output_type": "stream",
     "text": [
      "Extracting Features with DEFT:  88%|█████████████████████████████████████████▍     | 1113/1262 [02:00<00:07, 20.28it/s]"
     ]
    },
    {
     "name": "stdout",
     "output_type": "stream",
     "text": [
      "Skipping frame: D:/Datasets/Datasets/EPIC_Kitchen/OpticalFlow/P01_04/u\\frame_5541.jpg due to error: [Errno 2] No such file or directory: 'D:\\\\Datasets\\\\Datasets\\\\EPIC_Kitchen\\\\OpticalFlow\\\\P01_04\\\\u\\\\frame_5541.jpg'\n",
      "Skipping frame: D:/Datasets/Datasets/EPIC_Kitchen/OpticalFlow/P01_04/v\\frame_5541.jpg due to error: [Errno 2] No such file or directory: 'D:\\\\Datasets\\\\Datasets\\\\EPIC_Kitchen\\\\OpticalFlow\\\\P01_04\\\\v\\\\frame_5541.jpg'\n",
      "Skipping frame: D:/Datasets/Datasets/EPIC_Kitchen/OpticalFlow/P01_04/u\\frame_5546.jpg due to error: [Errno 2] No such file or directory: 'D:\\\\Datasets\\\\Datasets\\\\EPIC_Kitchen\\\\OpticalFlow\\\\P01_04\\\\u\\\\frame_5546.jpg'\n",
      "Skipping frame: D:/Datasets/Datasets/EPIC_Kitchen/OpticalFlow/P01_04/v\\frame_5546.jpg due to error: [Errno 2] No such file or directory: 'D:\\\\Datasets\\\\Datasets\\\\EPIC_Kitchen\\\\OpticalFlow\\\\P01_04\\\\v\\\\frame_5546.jpg'\n",
      "Skipping frame: D:/Datasets/Datasets/EPIC_Kitchen/OpticalFlow/P01_04/u\\frame_5551.jpg due to error: [Errno 2] No such file or directory: 'D:\\\\Datasets\\\\Datasets\\\\EPIC_Kitchen\\\\OpticalFlow\\\\P01_04\\\\u\\\\frame_5551.jpg'\n",
      "Skipping frame: D:/Datasets/Datasets/EPIC_Kitchen/OpticalFlow/P01_04/v\\frame_5551.jpg due to error: [Errno 2] No such file or directory: 'D:\\\\Datasets\\\\Datasets\\\\EPIC_Kitchen\\\\OpticalFlow\\\\P01_04\\\\v\\\\frame_5551.jpg'\n",
      "Skipping frame: D:/Datasets/Datasets/EPIC_Kitchen/OpticalFlow/P01_04/u\\frame_5556.jpg due to error: [Errno 2] No such file or directory: 'D:\\\\Datasets\\\\Datasets\\\\EPIC_Kitchen\\\\OpticalFlow\\\\P01_04\\\\u\\\\frame_5556.jpg'\n",
      "Skipping frame: D:/Datasets/Datasets/EPIC_Kitchen/OpticalFlow/P01_04/v\\frame_5556.jpg due to error: [Errno 2] No such file or directory: 'D:\\\\Datasets\\\\Datasets\\\\EPIC_Kitchen\\\\OpticalFlow\\\\P01_04\\\\v\\\\frame_5556.jpg'\n",
      "Skipping frame: D:/Datasets/Datasets/EPIC_Kitchen/OpticalFlow/P01_04/u\\frame_5561.jpg due to error: [Errno 2] No such file or directory: 'D:\\\\Datasets\\\\Datasets\\\\EPIC_Kitchen\\\\OpticalFlow\\\\P01_04\\\\u\\\\frame_5561.jpg'\n",
      "Skipping frame: D:/Datasets/Datasets/EPIC_Kitchen/OpticalFlow/P01_04/v\\frame_5561.jpg due to error: [Errno 2] No such file or directory: 'D:\\\\Datasets\\\\Datasets\\\\EPIC_Kitchen\\\\OpticalFlow\\\\P01_04\\\\v\\\\frame_5561.jpg'\n"
     ]
    },
    {
     "name": "stderr",
     "output_type": "stream",
     "text": [
      "\r",
      "Extracting Features with DEFT:  88%|█████████████████████████████████████████▌     | 1116/1262 [02:00<00:07, 19.78it/s]"
     ]
    },
    {
     "name": "stdout",
     "output_type": "stream",
     "text": [
      "Skipping frame: D:/Datasets/Datasets/EPIC_Kitchen/OpticalFlow/P01_04/u\\frame_5566.jpg due to error: [Errno 2] No such file or directory: 'D:\\\\Datasets\\\\Datasets\\\\EPIC_Kitchen\\\\OpticalFlow\\\\P01_04\\\\u\\\\frame_5566.jpg'\n",
      "Skipping frame: D:/Datasets/Datasets/EPIC_Kitchen/OpticalFlow/P01_04/v\\frame_5566.jpg due to error: [Errno 2] No such file or directory: 'D:\\\\Datasets\\\\Datasets\\\\EPIC_Kitchen\\\\OpticalFlow\\\\P01_04\\\\v\\\\frame_5566.jpg'\n",
      "Skipping frame: D:/Datasets/Datasets/EPIC_Kitchen/OpticalFlow/P01_04/u\\frame_5571.jpg due to error: [Errno 2] No such file or directory: 'D:\\\\Datasets\\\\Datasets\\\\EPIC_Kitchen\\\\OpticalFlow\\\\P01_04\\\\u\\\\frame_5571.jpg'\n",
      "Skipping frame: D:/Datasets/Datasets/EPIC_Kitchen/OpticalFlow/P01_04/v\\frame_5571.jpg due to error: [Errno 2] No such file or directory: 'D:\\\\Datasets\\\\Datasets\\\\EPIC_Kitchen\\\\OpticalFlow\\\\P01_04\\\\v\\\\frame_5571.jpg'\n",
      "Skipping frame: D:/Datasets/Datasets/EPIC_Kitchen/OpticalFlow/P01_04/u\\frame_5576.jpg due to error: [Errno 2] No such file or directory: 'D:\\\\Datasets\\\\Datasets\\\\EPIC_Kitchen\\\\OpticalFlow\\\\P01_04\\\\u\\\\frame_5576.jpg'\n",
      "Skipping frame: D:/Datasets/Datasets/EPIC_Kitchen/OpticalFlow/P01_04/v\\frame_5576.jpg due to error: [Errno 2] No such file or directory: 'D:\\\\Datasets\\\\Datasets\\\\EPIC_Kitchen\\\\OpticalFlow\\\\P01_04\\\\v\\\\frame_5576.jpg'\n",
      "Skipping frame: D:/Datasets/Datasets/EPIC_Kitchen/OpticalFlow/P01_04/u\\frame_5581.jpg due to error: [Errno 2] No such file or directory: 'D:\\\\Datasets\\\\Datasets\\\\EPIC_Kitchen\\\\OpticalFlow\\\\P01_04\\\\u\\\\frame_5581.jpg'\n",
      "Skipping frame: D:/Datasets/Datasets/EPIC_Kitchen/OpticalFlow/P01_04/v\\frame_5581.jpg due to error: [Errno 2] No such file or directory: 'D:\\\\Datasets\\\\Datasets\\\\EPIC_Kitchen\\\\OpticalFlow\\\\P01_04\\\\v\\\\frame_5581.jpg'\n",
      "Skipping frame: D:/Datasets/Datasets/EPIC_Kitchen/OpticalFlow/P01_04/u\\frame_5586.jpg due to error: [Errno 2] No such file or directory: 'D:\\\\Datasets\\\\Datasets\\\\EPIC_Kitchen\\\\OpticalFlow\\\\P01_04\\\\u\\\\frame_5586.jpg'\n",
      "Skipping frame: D:/Datasets/Datasets/EPIC_Kitchen/OpticalFlow/P01_04/v\\frame_5586.jpg due to error: [Errno 2] No such file or directory: 'D:\\\\Datasets\\\\Datasets\\\\EPIC_Kitchen\\\\OpticalFlow\\\\P01_04\\\\v\\\\frame_5586.jpg'\n"
     ]
    },
    {
     "name": "stderr",
     "output_type": "stream",
     "text": [
      "Extracting Features with DEFT:  89%|█████████████████████████████████████████▊     | 1122/1262 [02:00<00:06, 20.01it/s]"
     ]
    },
    {
     "name": "stdout",
     "output_type": "stream",
     "text": [
      "Skipping frame: D:/Datasets/Datasets/EPIC_Kitchen/OpticalFlow/P01_04/u\\frame_5591.jpg due to error: [Errno 2] No such file or directory: 'D:\\\\Datasets\\\\Datasets\\\\EPIC_Kitchen\\\\OpticalFlow\\\\P01_04\\\\u\\\\frame_5591.jpg'\n",
      "Skipping frame: D:/Datasets/Datasets/EPIC_Kitchen/OpticalFlow/P01_04/v\\frame_5591.jpg due to error: [Errno 2] No such file or directory: 'D:\\\\Datasets\\\\Datasets\\\\EPIC_Kitchen\\\\OpticalFlow\\\\P01_04\\\\v\\\\frame_5591.jpg'\n",
      "Skipping frame: D:/Datasets/Datasets/EPIC_Kitchen/OpticalFlow/P01_04/u\\frame_5596.jpg due to error: [Errno 2] No such file or directory: 'D:\\\\Datasets\\\\Datasets\\\\EPIC_Kitchen\\\\OpticalFlow\\\\P01_04\\\\u\\\\frame_5596.jpg'\n",
      "Skipping frame: D:/Datasets/Datasets/EPIC_Kitchen/OpticalFlow/P01_04/v\\frame_5596.jpg due to error: [Errno 2] No such file or directory: 'D:\\\\Datasets\\\\Datasets\\\\EPIC_Kitchen\\\\OpticalFlow\\\\P01_04\\\\v\\\\frame_5596.jpg'\n",
      "Skipping frame: D:/Datasets/Datasets/EPIC_Kitchen/OpticalFlow/P01_04/u\\frame_5601.jpg due to error: [Errno 2] No such file or directory: 'D:\\\\Datasets\\\\Datasets\\\\EPIC_Kitchen\\\\OpticalFlow\\\\P01_04\\\\u\\\\frame_5601.jpg'\n",
      "Skipping frame: D:/Datasets/Datasets/EPIC_Kitchen/OpticalFlow/P01_04/v\\frame_5601.jpg due to error: [Errno 2] No such file or directory: 'D:\\\\Datasets\\\\Datasets\\\\EPIC_Kitchen\\\\OpticalFlow\\\\P01_04\\\\v\\\\frame_5601.jpg'\n",
      "Skipping frame: D:/Datasets/Datasets/EPIC_Kitchen/OpticalFlow/P01_04/u\\frame_5606.jpg due to error: [Errno 2] No such file or directory: 'D:\\\\Datasets\\\\Datasets\\\\EPIC_Kitchen\\\\OpticalFlow\\\\P01_04\\\\u\\\\frame_5606.jpg'\n",
      "Skipping frame: D:/Datasets/Datasets/EPIC_Kitchen/OpticalFlow/P01_04/v\\frame_5606.jpg due to error: [Errno 2] No such file or directory: 'D:\\\\Datasets\\\\Datasets\\\\EPIC_Kitchen\\\\OpticalFlow\\\\P01_04\\\\v\\\\frame_5606.jpg'\n",
      "Skipping frame: D:/Datasets/Datasets/EPIC_Kitchen/OpticalFlow/P01_04/u\\frame_5611.jpg due to error: [Errno 2] No such file or directory: 'D:\\\\Datasets\\\\Datasets\\\\EPIC_Kitchen\\\\OpticalFlow\\\\P01_04\\\\u\\\\frame_5611.jpg'\n",
      "Skipping frame: D:/Datasets/Datasets/EPIC_Kitchen/OpticalFlow/P01_04/v\\frame_5611.jpg due to error: [Errno 2] No such file or directory: 'D:\\\\Datasets\\\\Datasets\\\\EPIC_Kitchen\\\\OpticalFlow\\\\P01_04\\\\v\\\\frame_5611.jpg'\n"
     ]
    },
    {
     "name": "stderr",
     "output_type": "stream",
     "text": [
      "Extracting Features with DEFT:  89%|██████████████████████████████████████████     | 1128/1262 [02:00<00:06, 20.20it/s]"
     ]
    },
    {
     "name": "stdout",
     "output_type": "stream",
     "text": [
      "Skipping frame: D:/Datasets/Datasets/EPIC_Kitchen/OpticalFlow/P01_04/u\\frame_5616.jpg due to error: [Errno 2] No such file or directory: 'D:\\\\Datasets\\\\Datasets\\\\EPIC_Kitchen\\\\OpticalFlow\\\\P01_04\\\\u\\\\frame_5616.jpg'\n",
      "Skipping frame: D:/Datasets/Datasets/EPIC_Kitchen/OpticalFlow/P01_04/v\\frame_5616.jpg due to error: [Errno 2] No such file or directory: 'D:\\\\Datasets\\\\Datasets\\\\EPIC_Kitchen\\\\OpticalFlow\\\\P01_04\\\\v\\\\frame_5616.jpg'\n",
      "Skipping frame: D:/Datasets/Datasets/EPIC_Kitchen/OpticalFlow/P01_04/u\\frame_5621.jpg due to error: [Errno 2] No such file or directory: 'D:\\\\Datasets\\\\Datasets\\\\EPIC_Kitchen\\\\OpticalFlow\\\\P01_04\\\\u\\\\frame_5621.jpg'\n",
      "Skipping frame: D:/Datasets/Datasets/EPIC_Kitchen/OpticalFlow/P01_04/v\\frame_5621.jpg due to error: [Errno 2] No such file or directory: 'D:\\\\Datasets\\\\Datasets\\\\EPIC_Kitchen\\\\OpticalFlow\\\\P01_04\\\\v\\\\frame_5621.jpg'\n",
      "Skipping frame: D:/Datasets/Datasets/EPIC_Kitchen/OpticalFlow/P01_04/u\\frame_5626.jpg due to error: [Errno 2] No such file or directory: 'D:\\\\Datasets\\\\Datasets\\\\EPIC_Kitchen\\\\OpticalFlow\\\\P01_04\\\\u\\\\frame_5626.jpg'\n",
      "Skipping frame: D:/Datasets/Datasets/EPIC_Kitchen/OpticalFlow/P01_04/v\\frame_5626.jpg due to error: [Errno 2] No such file or directory: 'D:\\\\Datasets\\\\Datasets\\\\EPIC_Kitchen\\\\OpticalFlow\\\\P01_04\\\\v\\\\frame_5626.jpg'\n",
      "Skipping frame: D:/Datasets/Datasets/EPIC_Kitchen/OpticalFlow/P01_04/u\\frame_5631.jpg due to error: [Errno 2] No such file or directory: 'D:\\\\Datasets\\\\Datasets\\\\EPIC_Kitchen\\\\OpticalFlow\\\\P01_04\\\\u\\\\frame_5631.jpg'\n",
      "Skipping frame: D:/Datasets/Datasets/EPIC_Kitchen/OpticalFlow/P01_04/v\\frame_5631.jpg due to error: [Errno 2] No such file or directory: 'D:\\\\Datasets\\\\Datasets\\\\EPIC_Kitchen\\\\OpticalFlow\\\\P01_04\\\\v\\\\frame_5631.jpg'\n",
      "Skipping frame: D:/Datasets/Datasets/EPIC_Kitchen/OpticalFlow/P01_04/u\\frame_5636.jpg due to error: [Errno 2] No such file or directory: 'D:\\\\Datasets\\\\Datasets\\\\EPIC_Kitchen\\\\OpticalFlow\\\\P01_04\\\\u\\\\frame_5636.jpg'\n",
      "Skipping frame: D:/Datasets/Datasets/EPIC_Kitchen/OpticalFlow/P01_04/v\\frame_5636.jpg due to error: [Errno 2] No such file or directory: 'D:\\\\Datasets\\\\Datasets\\\\EPIC_Kitchen\\\\OpticalFlow\\\\P01_04\\\\v\\\\frame_5636.jpg'\n"
     ]
    },
    {
     "name": "stderr",
     "output_type": "stream",
     "text": [
      "\r",
      "Extracting Features with DEFT:  90%|██████████████████████████████████████████     | 1131/1262 [02:01<00:06, 20.10it/s]"
     ]
    },
    {
     "name": "stdout",
     "output_type": "stream",
     "text": [
      "Skipping frame: D:/Datasets/Datasets/EPIC_Kitchen/OpticalFlow/P01_04/u\\frame_5641.jpg due to error: [Errno 2] No such file or directory: 'D:\\\\Datasets\\\\Datasets\\\\EPIC_Kitchen\\\\OpticalFlow\\\\P01_04\\\\u\\\\frame_5641.jpg'\n",
      "Skipping frame: D:/Datasets/Datasets/EPIC_Kitchen/OpticalFlow/P01_04/v\\frame_5641.jpg due to error: [Errno 2] No such file or directory: 'D:\\\\Datasets\\\\Datasets\\\\EPIC_Kitchen\\\\OpticalFlow\\\\P01_04\\\\v\\\\frame_5641.jpg'\n",
      "Skipping frame: D:/Datasets/Datasets/EPIC_Kitchen/OpticalFlow/P01_04/u\\frame_5646.jpg due to error: [Errno 2] No such file or directory: 'D:\\\\Datasets\\\\Datasets\\\\EPIC_Kitchen\\\\OpticalFlow\\\\P01_04\\\\u\\\\frame_5646.jpg'\n",
      "Skipping frame: D:/Datasets/Datasets/EPIC_Kitchen/OpticalFlow/P01_04/v\\frame_5646.jpg due to error: [Errno 2] No such file or directory: 'D:\\\\Datasets\\\\Datasets\\\\EPIC_Kitchen\\\\OpticalFlow\\\\P01_04\\\\v\\\\frame_5646.jpg'\n",
      "Skipping frame: D:/Datasets/Datasets/EPIC_Kitchen/OpticalFlow/P01_04/u\\frame_5651.jpg due to error: [Errno 2] No such file or directory: 'D:\\\\Datasets\\\\Datasets\\\\EPIC_Kitchen\\\\OpticalFlow\\\\P01_04\\\\u\\\\frame_5651.jpg'\n",
      "Skipping frame: D:/Datasets/Datasets/EPIC_Kitchen/OpticalFlow/P01_04/v\\frame_5651.jpg due to error: [Errno 2] No such file or directory: 'D:\\\\Datasets\\\\Datasets\\\\EPIC_Kitchen\\\\OpticalFlow\\\\P01_04\\\\v\\\\frame_5651.jpg'\n",
      "Skipping frame: D:/Datasets/Datasets/EPIC_Kitchen/OpticalFlow/P01_04/u\\frame_5656.jpg due to error: [Errno 2] No such file or directory: 'D:\\\\Datasets\\\\Datasets\\\\EPIC_Kitchen\\\\OpticalFlow\\\\P01_04\\\\u\\\\frame_5656.jpg'\n",
      "Skipping frame: D:/Datasets/Datasets/EPIC_Kitchen/OpticalFlow/P01_04/v\\frame_5656.jpg due to error: [Errno 2] No such file or directory: 'D:\\\\Datasets\\\\Datasets\\\\EPIC_Kitchen\\\\OpticalFlow\\\\P01_04\\\\v\\\\frame_5656.jpg'\n"
     ]
    },
    {
     "name": "stderr",
     "output_type": "stream",
     "text": [
      "Extracting Features with DEFT:  90%|██████████████████████████████████████████▎    | 1137/1262 [02:01<00:06, 20.10it/s]"
     ]
    },
    {
     "name": "stdout",
     "output_type": "stream",
     "text": [
      "Skipping frame: D:/Datasets/Datasets/EPIC_Kitchen/OpticalFlow/P01_04/u\\frame_5661.jpg due to error: [Errno 2] No such file or directory: 'D:\\\\Datasets\\\\Datasets\\\\EPIC_Kitchen\\\\OpticalFlow\\\\P01_04\\\\u\\\\frame_5661.jpg'\n",
      "Skipping frame: D:/Datasets/Datasets/EPIC_Kitchen/OpticalFlow/P01_04/v\\frame_5661.jpg due to error: [Errno 2] No such file or directory: 'D:\\\\Datasets\\\\Datasets\\\\EPIC_Kitchen\\\\OpticalFlow\\\\P01_04\\\\v\\\\frame_5661.jpg'\n",
      "Skipping frame: D:/Datasets/Datasets/EPIC_Kitchen/OpticalFlow/P01_04/u\\frame_5666.jpg due to error: [Errno 2] No such file or directory: 'D:\\\\Datasets\\\\Datasets\\\\EPIC_Kitchen\\\\OpticalFlow\\\\P01_04\\\\u\\\\frame_5666.jpg'\n",
      "Skipping frame: D:/Datasets/Datasets/EPIC_Kitchen/OpticalFlow/P01_04/v\\frame_5666.jpg due to error: [Errno 2] No such file or directory: 'D:\\\\Datasets\\\\Datasets\\\\EPIC_Kitchen\\\\OpticalFlow\\\\P01_04\\\\v\\\\frame_5666.jpg'\n",
      "Skipping frame: D:/Datasets/Datasets/EPIC_Kitchen/OpticalFlow/P01_04/u\\frame_5671.jpg due to error: [Errno 2] No such file or directory: 'D:\\\\Datasets\\\\Datasets\\\\EPIC_Kitchen\\\\OpticalFlow\\\\P01_04\\\\u\\\\frame_5671.jpg'\n",
      "Skipping frame: D:/Datasets/Datasets/EPIC_Kitchen/OpticalFlow/P01_04/v\\frame_5671.jpg due to error: [Errno 2] No such file or directory: 'D:\\\\Datasets\\\\Datasets\\\\EPIC_Kitchen\\\\OpticalFlow\\\\P01_04\\\\v\\\\frame_5671.jpg'\n",
      "Skipping frame: D:/Datasets/Datasets/EPIC_Kitchen/OpticalFlow/P01_04/u\\frame_5676.jpg due to error: [Errno 2] No such file or directory: 'D:\\\\Datasets\\\\Datasets\\\\EPIC_Kitchen\\\\OpticalFlow\\\\P01_04\\\\u\\\\frame_5676.jpg'\n",
      "Skipping frame: D:/Datasets/Datasets/EPIC_Kitchen/OpticalFlow/P01_04/v\\frame_5676.jpg due to error: [Errno 2] No such file or directory: 'D:\\\\Datasets\\\\Datasets\\\\EPIC_Kitchen\\\\OpticalFlow\\\\P01_04\\\\v\\\\frame_5676.jpg'\n",
      "Skipping frame: D:/Datasets/Datasets/EPIC_Kitchen/OpticalFlow/P01_04/u\\frame_5681.jpg due to error: [Errno 2] No such file or directory: 'D:\\\\Datasets\\\\Datasets\\\\EPIC_Kitchen\\\\OpticalFlow\\\\P01_04\\\\u\\\\frame_5681.jpg'\n",
      "Skipping frame: D:/Datasets/Datasets/EPIC_Kitchen/OpticalFlow/P01_04/v\\frame_5681.jpg due to error: [Errno 2] No such file or directory: 'D:\\\\Datasets\\\\Datasets\\\\EPIC_Kitchen\\\\OpticalFlow\\\\P01_04\\\\v\\\\frame_5681.jpg'\n"
     ]
    },
    {
     "name": "stderr",
     "output_type": "stream",
     "text": [
      "\r",
      "Extracting Features with DEFT:  90%|██████████████████████████████████████████▍    | 1140/1262 [02:01<00:06, 20.33it/s]"
     ]
    },
    {
     "name": "stdout",
     "output_type": "stream",
     "text": [
      "Skipping frame: D:/Datasets/Datasets/EPIC_Kitchen/OpticalFlow/P01_04/u\\frame_5686.jpg due to error: [Errno 2] No such file or directory: 'D:\\\\Datasets\\\\Datasets\\\\EPIC_Kitchen\\\\OpticalFlow\\\\P01_04\\\\u\\\\frame_5686.jpg'\n",
      "Skipping frame: D:/Datasets/Datasets/EPIC_Kitchen/OpticalFlow/P01_04/v\\frame_5686.jpg due to error: [Errno 2] No such file or directory: 'D:\\\\Datasets\\\\Datasets\\\\EPIC_Kitchen\\\\OpticalFlow\\\\P01_04\\\\v\\\\frame_5686.jpg'\n",
      "Skipping frame: D:/Datasets/Datasets/EPIC_Kitchen/OpticalFlow/P01_04/u\\frame_5691.jpg due to error: [Errno 2] No such file or directory: 'D:\\\\Datasets\\\\Datasets\\\\EPIC_Kitchen\\\\OpticalFlow\\\\P01_04\\\\u\\\\frame_5691.jpg'\n",
      "Skipping frame: D:/Datasets/Datasets/EPIC_Kitchen/OpticalFlow/P01_04/v\\frame_5691.jpg due to error: [Errno 2] No such file or directory: 'D:\\\\Datasets\\\\Datasets\\\\EPIC_Kitchen\\\\OpticalFlow\\\\P01_04\\\\v\\\\frame_5691.jpg'\n",
      "Skipping frame: D:/Datasets/Datasets/EPIC_Kitchen/OpticalFlow/P01_04/u\\frame_5696.jpg due to error: [Errno 2] No such file or directory: 'D:\\\\Datasets\\\\Datasets\\\\EPIC_Kitchen\\\\OpticalFlow\\\\P01_04\\\\u\\\\frame_5696.jpg'\n",
      "Skipping frame: D:/Datasets/Datasets/EPIC_Kitchen/OpticalFlow/P01_04/v\\frame_5696.jpg due to error: [Errno 2] No such file or directory: 'D:\\\\Datasets\\\\Datasets\\\\EPIC_Kitchen\\\\OpticalFlow\\\\P01_04\\\\v\\\\frame_5696.jpg'\n",
      "Skipping frame: D:/Datasets/Datasets/EPIC_Kitchen/OpticalFlow/P01_04/u\\frame_5701.jpg due to error: [Errno 2] No such file or directory: 'D:\\\\Datasets\\\\Datasets\\\\EPIC_Kitchen\\\\OpticalFlow\\\\P01_04\\\\u\\\\frame_5701.jpg'\n",
      "Skipping frame: D:/Datasets/Datasets/EPIC_Kitchen/OpticalFlow/P01_04/v\\frame_5701.jpg due to error: [Errno 2] No such file or directory: 'D:\\\\Datasets\\\\Datasets\\\\EPIC_Kitchen\\\\OpticalFlow\\\\P01_04\\\\v\\\\frame_5701.jpg'\n",
      "Skipping frame: D:/Datasets/Datasets/EPIC_Kitchen/OpticalFlow/P01_04/u\\frame_5706.jpg due to error: [Errno 2] No such file or directory: 'D:\\\\Datasets\\\\Datasets\\\\EPIC_Kitchen\\\\OpticalFlow\\\\P01_04\\\\u\\\\frame_5706.jpg'\n",
      "Skipping frame: D:/Datasets/Datasets/EPIC_Kitchen/OpticalFlow/P01_04/v\\frame_5706.jpg due to error: [Errno 2] No such file or directory: 'D:\\\\Datasets\\\\Datasets\\\\EPIC_Kitchen\\\\OpticalFlow\\\\P01_04\\\\v\\\\frame_5706.jpg'\n"
     ]
    },
    {
     "name": "stderr",
     "output_type": "stream",
     "text": [
      "Extracting Features with DEFT:  91%|██████████████████████████████████████████▋    | 1146/1262 [02:01<00:05, 21.58it/s]"
     ]
    },
    {
     "name": "stdout",
     "output_type": "stream",
     "text": [
      "Skipping frame: D:/Datasets/Datasets/EPIC_Kitchen/OpticalFlow/P01_04/u\\frame_5711.jpg due to error: [Errno 2] No such file or directory: 'D:\\\\Datasets\\\\Datasets\\\\EPIC_Kitchen\\\\OpticalFlow\\\\P01_04\\\\u\\\\frame_5711.jpg'\n",
      "Skipping frame: D:/Datasets/Datasets/EPIC_Kitchen/OpticalFlow/P01_04/v\\frame_5711.jpg due to error: [Errno 2] No such file or directory: 'D:\\\\Datasets\\\\Datasets\\\\EPIC_Kitchen\\\\OpticalFlow\\\\P01_04\\\\v\\\\frame_5711.jpg'\n",
      "Skipping frame: D:/Datasets/Datasets/EPIC_Kitchen/OpticalFlow/P01_04/u\\frame_5716.jpg due to error: [Errno 2] No such file or directory: 'D:\\\\Datasets\\\\Datasets\\\\EPIC_Kitchen\\\\OpticalFlow\\\\P01_04\\\\u\\\\frame_5716.jpg'\n",
      "Skipping frame: D:/Datasets/Datasets/EPIC_Kitchen/OpticalFlow/P01_04/v\\frame_5716.jpg due to error: [Errno 2] No such file or directory: 'D:\\\\Datasets\\\\Datasets\\\\EPIC_Kitchen\\\\OpticalFlow\\\\P01_04\\\\v\\\\frame_5716.jpg'\n",
      "Skipping frame: D:/Datasets/Datasets/EPIC_Kitchen/OpticalFlow/P01_04/u\\frame_5721.jpg due to error: [Errno 2] No such file or directory: 'D:\\\\Datasets\\\\Datasets\\\\EPIC_Kitchen\\\\OpticalFlow\\\\P01_04\\\\u\\\\frame_5721.jpg'\n",
      "Skipping frame: D:/Datasets/Datasets/EPIC_Kitchen/OpticalFlow/P01_04/v\\frame_5721.jpg due to error: [Errno 2] No such file or directory: 'D:\\\\Datasets\\\\Datasets\\\\EPIC_Kitchen\\\\OpticalFlow\\\\P01_04\\\\v\\\\frame_5721.jpg'\n",
      "Skipping frame: D:/Datasets/Datasets/EPIC_Kitchen/OpticalFlow/P01_04/u\\frame_5726.jpg due to error: [Errno 2] No such file or directory: 'D:\\\\Datasets\\\\Datasets\\\\EPIC_Kitchen\\\\OpticalFlow\\\\P01_04\\\\u\\\\frame_5726.jpg'\n",
      "Skipping frame: D:/Datasets/Datasets/EPIC_Kitchen/OpticalFlow/P01_04/v\\frame_5726.jpg due to error: [Errno 2] No such file or directory: 'D:\\\\Datasets\\\\Datasets\\\\EPIC_Kitchen\\\\OpticalFlow\\\\P01_04\\\\v\\\\frame_5726.jpg'\n",
      "Skipping frame: D:/Datasets/Datasets/EPIC_Kitchen/OpticalFlow/P01_04/u\\frame_5731.jpg due to error: [Errno 2] No such file or directory: 'D:\\\\Datasets\\\\Datasets\\\\EPIC_Kitchen\\\\OpticalFlow\\\\P01_04\\\\u\\\\frame_5731.jpg'\n",
      "Skipping frame: D:/Datasets/Datasets/EPIC_Kitchen/OpticalFlow/P01_04/v\\frame_5731.jpg due to error: [Errno 2] No such file or directory: 'D:\\\\Datasets\\\\Datasets\\\\EPIC_Kitchen\\\\OpticalFlow\\\\P01_04\\\\v\\\\frame_5731.jpg'\n"
     ]
    },
    {
     "name": "stderr",
     "output_type": "stream",
     "text": [
      "Extracting Features with DEFT:  91%|██████████████████████████████████████████▉    | 1152/1262 [02:02<00:04, 22.04it/s]"
     ]
    },
    {
     "name": "stdout",
     "output_type": "stream",
     "text": [
      "Skipping frame: D:/Datasets/Datasets/EPIC_Kitchen/OpticalFlow/P01_04/u\\frame_5736.jpg due to error: [Errno 2] No such file or directory: 'D:\\\\Datasets\\\\Datasets\\\\EPIC_Kitchen\\\\OpticalFlow\\\\P01_04\\\\u\\\\frame_5736.jpg'\n",
      "Skipping frame: D:/Datasets/Datasets/EPIC_Kitchen/OpticalFlow/P01_04/v\\frame_5736.jpg due to error: [Errno 2] No such file or directory: 'D:\\\\Datasets\\\\Datasets\\\\EPIC_Kitchen\\\\OpticalFlow\\\\P01_04\\\\v\\\\frame_5736.jpg'\n",
      "Skipping frame: D:/Datasets/Datasets/EPIC_Kitchen/OpticalFlow/P01_04/u\\frame_5741.jpg due to error: [Errno 2] No such file or directory: 'D:\\\\Datasets\\\\Datasets\\\\EPIC_Kitchen\\\\OpticalFlow\\\\P01_04\\\\u\\\\frame_5741.jpg'\n",
      "Skipping frame: D:/Datasets/Datasets/EPIC_Kitchen/OpticalFlow/P01_04/v\\frame_5741.jpg due to error: [Errno 2] No such file or directory: 'D:\\\\Datasets\\\\Datasets\\\\EPIC_Kitchen\\\\OpticalFlow\\\\P01_04\\\\v\\\\frame_5741.jpg'\n",
      "Skipping frame: D:/Datasets/Datasets/EPIC_Kitchen/OpticalFlow/P01_04/u\\frame_5746.jpg due to error: [Errno 2] No such file or directory: 'D:\\\\Datasets\\\\Datasets\\\\EPIC_Kitchen\\\\OpticalFlow\\\\P01_04\\\\u\\\\frame_5746.jpg'\n",
      "Skipping frame: D:/Datasets/Datasets/EPIC_Kitchen/OpticalFlow/P01_04/v\\frame_5746.jpg due to error: [Errno 2] No such file or directory: 'D:\\\\Datasets\\\\Datasets\\\\EPIC_Kitchen\\\\OpticalFlow\\\\P01_04\\\\v\\\\frame_5746.jpg'\n",
      "Skipping frame: D:/Datasets/Datasets/EPIC_Kitchen/OpticalFlow/P01_04/u\\frame_5751.jpg due to error: [Errno 2] No such file or directory: 'D:\\\\Datasets\\\\Datasets\\\\EPIC_Kitchen\\\\OpticalFlow\\\\P01_04\\\\u\\\\frame_5751.jpg'\n",
      "Skipping frame: D:/Datasets/Datasets/EPIC_Kitchen/OpticalFlow/P01_04/v\\frame_5751.jpg due to error: [Errno 2] No such file or directory: 'D:\\\\Datasets\\\\Datasets\\\\EPIC_Kitchen\\\\OpticalFlow\\\\P01_04\\\\v\\\\frame_5751.jpg'\n",
      "Skipping frame: D:/Datasets/Datasets/EPIC_Kitchen/OpticalFlow/P01_04/u\\frame_5756.jpg due to error: [Errno 2] No such file or directory: 'D:\\\\Datasets\\\\Datasets\\\\EPIC_Kitchen\\\\OpticalFlow\\\\P01_04\\\\u\\\\frame_5756.jpg'\n",
      "Skipping frame: D:/Datasets/Datasets/EPIC_Kitchen/OpticalFlow/P01_04/v\\frame_5756.jpg due to error: [Errno 2] No such file or directory: 'D:\\\\Datasets\\\\Datasets\\\\EPIC_Kitchen\\\\OpticalFlow\\\\P01_04\\\\v\\\\frame_5756.jpg'\n"
     ]
    },
    {
     "name": "stderr",
     "output_type": "stream",
     "text": [
      "\r",
      "Extracting Features with DEFT:  92%|███████████████████████████████████████████    | 1155/1262 [02:02<00:04, 22.07it/s]"
     ]
    },
    {
     "name": "stdout",
     "output_type": "stream",
     "text": [
      "Skipping frame: D:/Datasets/Datasets/EPIC_Kitchen/OpticalFlow/P01_04/u\\frame_5761.jpg due to error: [Errno 2] No such file or directory: 'D:\\\\Datasets\\\\Datasets\\\\EPIC_Kitchen\\\\OpticalFlow\\\\P01_04\\\\u\\\\frame_5761.jpg'\n",
      "Skipping frame: D:/Datasets/Datasets/EPIC_Kitchen/OpticalFlow/P01_04/v\\frame_5761.jpg due to error: [Errno 2] No such file or directory: 'D:\\\\Datasets\\\\Datasets\\\\EPIC_Kitchen\\\\OpticalFlow\\\\P01_04\\\\v\\\\frame_5761.jpg'\n",
      "Skipping frame: D:/Datasets/Datasets/EPIC_Kitchen/OpticalFlow/P01_04/u\\frame_5766.jpg due to error: [Errno 2] No such file or directory: 'D:\\\\Datasets\\\\Datasets\\\\EPIC_Kitchen\\\\OpticalFlow\\\\P01_04\\\\u\\\\frame_5766.jpg'\n",
      "Skipping frame: D:/Datasets/Datasets/EPIC_Kitchen/OpticalFlow/P01_04/v\\frame_5766.jpg due to error: [Errno 2] No such file or directory: 'D:\\\\Datasets\\\\Datasets\\\\EPIC_Kitchen\\\\OpticalFlow\\\\P01_04\\\\v\\\\frame_5766.jpg'\n",
      "Skipping frame: D:/Datasets/Datasets/EPIC_Kitchen/OpticalFlow/P01_04/u\\frame_5771.jpg due to error: [Errno 2] No such file or directory: 'D:\\\\Datasets\\\\Datasets\\\\EPIC_Kitchen\\\\OpticalFlow\\\\P01_04\\\\u\\\\frame_5771.jpg'\n",
      "Skipping frame: D:/Datasets/Datasets/EPIC_Kitchen/OpticalFlow/P01_04/v\\frame_5771.jpg due to error: [Errno 2] No such file or directory: 'D:\\\\Datasets\\\\Datasets\\\\EPIC_Kitchen\\\\OpticalFlow\\\\P01_04\\\\v\\\\frame_5771.jpg'\n",
      "Skipping frame: D:/Datasets/Datasets/EPIC_Kitchen/OpticalFlow/P01_04/u\\frame_5776.jpg due to error: [Errno 2] No such file or directory: 'D:\\\\Datasets\\\\Datasets\\\\EPIC_Kitchen\\\\OpticalFlow\\\\P01_04\\\\u\\\\frame_5776.jpg'\n",
      "Skipping frame: D:/Datasets/Datasets/EPIC_Kitchen/OpticalFlow/P01_04/v\\frame_5776.jpg due to error: [Errno 2] No such file or directory: 'D:\\\\Datasets\\\\Datasets\\\\EPIC_Kitchen\\\\OpticalFlow\\\\P01_04\\\\v\\\\frame_5776.jpg'\n",
      "Skipping frame: D:/Datasets/Datasets/EPIC_Kitchen/OpticalFlow/P01_04/u\\frame_5781.jpg due to error: [Errno 2] No such file or directory: 'D:\\\\Datasets\\\\Datasets\\\\EPIC_Kitchen\\\\OpticalFlow\\\\P01_04\\\\u\\\\frame_5781.jpg'\n",
      "Skipping frame: D:/Datasets/Datasets/EPIC_Kitchen/OpticalFlow/P01_04/v\\frame_5781.jpg due to error: [Errno 2] No such file or directory: 'D:\\\\Datasets\\\\Datasets\\\\EPIC_Kitchen\\\\OpticalFlow\\\\P01_04\\\\v\\\\frame_5781.jpg'\n"
     ]
    },
    {
     "name": "stderr",
     "output_type": "stream",
     "text": [
      "Extracting Features with DEFT:  92%|███████████████████████████████████████████▏   | 1161/1262 [02:02<00:04, 22.50it/s]"
     ]
    },
    {
     "name": "stdout",
     "output_type": "stream",
     "text": [
      "Skipping frame: D:/Datasets/Datasets/EPIC_Kitchen/OpticalFlow/P01_04/u\\frame_5786.jpg due to error: [Errno 2] No such file or directory: 'D:\\\\Datasets\\\\Datasets\\\\EPIC_Kitchen\\\\OpticalFlow\\\\P01_04\\\\u\\\\frame_5786.jpg'\n",
      "Skipping frame: D:/Datasets/Datasets/EPIC_Kitchen/OpticalFlow/P01_04/v\\frame_5786.jpg due to error: [Errno 2] No such file or directory: 'D:\\\\Datasets\\\\Datasets\\\\EPIC_Kitchen\\\\OpticalFlow\\\\P01_04\\\\v\\\\frame_5786.jpg'\n",
      "Skipping frame: D:/Datasets/Datasets/EPIC_Kitchen/OpticalFlow/P01_04/u\\frame_5791.jpg due to error: [Errno 2] No such file or directory: 'D:\\\\Datasets\\\\Datasets\\\\EPIC_Kitchen\\\\OpticalFlow\\\\P01_04\\\\u\\\\frame_5791.jpg'\n",
      "Skipping frame: D:/Datasets/Datasets/EPIC_Kitchen/OpticalFlow/P01_04/v\\frame_5791.jpg due to error: [Errno 2] No such file or directory: 'D:\\\\Datasets\\\\Datasets\\\\EPIC_Kitchen\\\\OpticalFlow\\\\P01_04\\\\v\\\\frame_5791.jpg'\n",
      "Skipping frame: D:/Datasets/Datasets/EPIC_Kitchen/OpticalFlow/P01_04/u\\frame_5796.jpg due to error: [Errno 2] No such file or directory: 'D:\\\\Datasets\\\\Datasets\\\\EPIC_Kitchen\\\\OpticalFlow\\\\P01_04\\\\u\\\\frame_5796.jpg'\n",
      "Skipping frame: D:/Datasets/Datasets/EPIC_Kitchen/OpticalFlow/P01_04/v\\frame_5796.jpg due to error: [Errno 2] No such file or directory: 'D:\\\\Datasets\\\\Datasets\\\\EPIC_Kitchen\\\\OpticalFlow\\\\P01_04\\\\v\\\\frame_5796.jpg'\n",
      "Skipping frame: D:/Datasets/Datasets/EPIC_Kitchen/OpticalFlow/P01_04/u\\frame_5801.jpg due to error: [Errno 2] No such file or directory: 'D:\\\\Datasets\\\\Datasets\\\\EPIC_Kitchen\\\\OpticalFlow\\\\P01_04\\\\u\\\\frame_5801.jpg'\n",
      "Skipping frame: D:/Datasets/Datasets/EPIC_Kitchen/OpticalFlow/P01_04/v\\frame_5801.jpg due to error: [Errno 2] No such file or directory: 'D:\\\\Datasets\\\\Datasets\\\\EPIC_Kitchen\\\\OpticalFlow\\\\P01_04\\\\v\\\\frame_5801.jpg'\n",
      "Skipping frame: D:/Datasets/Datasets/EPIC_Kitchen/OpticalFlow/P01_04/u\\frame_5806.jpg due to error: [Errno 2] No such file or directory: 'D:\\\\Datasets\\\\Datasets\\\\EPIC_Kitchen\\\\OpticalFlow\\\\P01_04\\\\u\\\\frame_5806.jpg'\n",
      "Skipping frame: D:/Datasets/Datasets/EPIC_Kitchen/OpticalFlow/P01_04/v\\frame_5806.jpg due to error: [Errno 2] No such file or directory: 'D:\\\\Datasets\\\\Datasets\\\\EPIC_Kitchen\\\\OpticalFlow\\\\P01_04\\\\v\\\\frame_5806.jpg'\n"
     ]
    },
    {
     "name": "stderr",
     "output_type": "stream",
     "text": [
      "Extracting Features with DEFT:  92%|███████████████████████████████████████████▍   | 1167/1262 [02:02<00:04, 22.31it/s]"
     ]
    },
    {
     "name": "stdout",
     "output_type": "stream",
     "text": [
      "Skipping frame: D:/Datasets/Datasets/EPIC_Kitchen/OpticalFlow/P01_04/u\\frame_5811.jpg due to error: [Errno 2] No such file or directory: 'D:\\\\Datasets\\\\Datasets\\\\EPIC_Kitchen\\\\OpticalFlow\\\\P01_04\\\\u\\\\frame_5811.jpg'\n",
      "Skipping frame: D:/Datasets/Datasets/EPIC_Kitchen/OpticalFlow/P01_04/v\\frame_5811.jpg due to error: [Errno 2] No such file or directory: 'D:\\\\Datasets\\\\Datasets\\\\EPIC_Kitchen\\\\OpticalFlow\\\\P01_04\\\\v\\\\frame_5811.jpg'\n",
      "Skipping frame: D:/Datasets/Datasets/EPIC_Kitchen/OpticalFlow/P01_04/u\\frame_5816.jpg due to error: [Errno 2] No such file or directory: 'D:\\\\Datasets\\\\Datasets\\\\EPIC_Kitchen\\\\OpticalFlow\\\\P01_04\\\\u\\\\frame_5816.jpg'\n",
      "Skipping frame: D:/Datasets/Datasets/EPIC_Kitchen/OpticalFlow/P01_04/v\\frame_5816.jpg due to error: [Errno 2] No such file or directory: 'D:\\\\Datasets\\\\Datasets\\\\EPIC_Kitchen\\\\OpticalFlow\\\\P01_04\\\\v\\\\frame_5816.jpg'\n",
      "Skipping frame: D:/Datasets/Datasets/EPIC_Kitchen/OpticalFlow/P01_04/u\\frame_5821.jpg due to error: [Errno 2] No such file or directory: 'D:\\\\Datasets\\\\Datasets\\\\EPIC_Kitchen\\\\OpticalFlow\\\\P01_04\\\\u\\\\frame_5821.jpg'\n",
      "Skipping frame: D:/Datasets/Datasets/EPIC_Kitchen/OpticalFlow/P01_04/v\\frame_5821.jpg due to error: [Errno 2] No such file or directory: 'D:\\\\Datasets\\\\Datasets\\\\EPIC_Kitchen\\\\OpticalFlow\\\\P01_04\\\\v\\\\frame_5821.jpg'\n",
      "Skipping frame: D:/Datasets/Datasets/EPIC_Kitchen/OpticalFlow/P01_04/u\\frame_5826.jpg due to error: [Errno 2] No such file or directory: 'D:\\\\Datasets\\\\Datasets\\\\EPIC_Kitchen\\\\OpticalFlow\\\\P01_04\\\\u\\\\frame_5826.jpg'\n",
      "Skipping frame: D:/Datasets/Datasets/EPIC_Kitchen/OpticalFlow/P01_04/v\\frame_5826.jpg due to error: [Errno 2] No such file or directory: 'D:\\\\Datasets\\\\Datasets\\\\EPIC_Kitchen\\\\OpticalFlow\\\\P01_04\\\\v\\\\frame_5826.jpg'\n",
      "Skipping frame: D:/Datasets/Datasets/EPIC_Kitchen/OpticalFlow/P01_04/u\\frame_5831.jpg due to error: [Errno 2] No such file or directory: 'D:\\\\Datasets\\\\Datasets\\\\EPIC_Kitchen\\\\OpticalFlow\\\\P01_04\\\\u\\\\frame_5831.jpg'\n",
      "Skipping frame: D:/Datasets/Datasets/EPIC_Kitchen/OpticalFlow/P01_04/v\\frame_5831.jpg due to error: [Errno 2] No such file or directory: 'D:\\\\Datasets\\\\Datasets\\\\EPIC_Kitchen\\\\OpticalFlow\\\\P01_04\\\\v\\\\frame_5831.jpg'\n"
     ]
    },
    {
     "name": "stderr",
     "output_type": "stream",
     "text": [
      "\r",
      "Extracting Features with DEFT:  93%|███████████████████████████████████████████▌   | 1170/1262 [02:02<00:04, 22.43it/s]"
     ]
    },
    {
     "name": "stdout",
     "output_type": "stream",
     "text": [
      "Skipping frame: D:/Datasets/Datasets/EPIC_Kitchen/OpticalFlow/P01_04/u\\frame_5836.jpg due to error: [Errno 2] No such file or directory: 'D:\\\\Datasets\\\\Datasets\\\\EPIC_Kitchen\\\\OpticalFlow\\\\P01_04\\\\u\\\\frame_5836.jpg'\n",
      "Skipping frame: D:/Datasets/Datasets/EPIC_Kitchen/OpticalFlow/P01_04/v\\frame_5836.jpg due to error: [Errno 2] No such file or directory: 'D:\\\\Datasets\\\\Datasets\\\\EPIC_Kitchen\\\\OpticalFlow\\\\P01_04\\\\v\\\\frame_5836.jpg'\n",
      "Skipping frame: D:/Datasets/Datasets/EPIC_Kitchen/OpticalFlow/P01_04/u\\frame_5841.jpg due to error: [Errno 2] No such file or directory: 'D:\\\\Datasets\\\\Datasets\\\\EPIC_Kitchen\\\\OpticalFlow\\\\P01_04\\\\u\\\\frame_5841.jpg'\n",
      "Skipping frame: D:/Datasets/Datasets/EPIC_Kitchen/OpticalFlow/P01_04/v\\frame_5841.jpg due to error: [Errno 2] No such file or directory: 'D:\\\\Datasets\\\\Datasets\\\\EPIC_Kitchen\\\\OpticalFlow\\\\P01_04\\\\v\\\\frame_5841.jpg'\n",
      "Skipping frame: D:/Datasets/Datasets/EPIC_Kitchen/OpticalFlow/P01_04/u\\frame_5846.jpg due to error: [Errno 2] No such file or directory: 'D:\\\\Datasets\\\\Datasets\\\\EPIC_Kitchen\\\\OpticalFlow\\\\P01_04\\\\u\\\\frame_5846.jpg'\n",
      "Skipping frame: D:/Datasets/Datasets/EPIC_Kitchen/OpticalFlow/P01_04/v\\frame_5846.jpg due to error: [Errno 2] No such file or directory: 'D:\\\\Datasets\\\\Datasets\\\\EPIC_Kitchen\\\\OpticalFlow\\\\P01_04\\\\v\\\\frame_5846.jpg'\n",
      "Skipping frame: D:/Datasets/Datasets/EPIC_Kitchen/OpticalFlow/P01_04/u\\frame_5851.jpg due to error: [Errno 2] No such file or directory: 'D:\\\\Datasets\\\\Datasets\\\\EPIC_Kitchen\\\\OpticalFlow\\\\P01_04\\\\u\\\\frame_5851.jpg'\n",
      "Skipping frame: D:/Datasets/Datasets/EPIC_Kitchen/OpticalFlow/P01_04/v\\frame_5851.jpg due to error: [Errno 2] No such file or directory: 'D:\\\\Datasets\\\\Datasets\\\\EPIC_Kitchen\\\\OpticalFlow\\\\P01_04\\\\v\\\\frame_5851.jpg'\n",
      "Skipping frame: D:/Datasets/Datasets/EPIC_Kitchen/OpticalFlow/P01_04/u\\frame_5856.jpg due to error: [Errno 2] No such file or directory: 'D:\\\\Datasets\\\\Datasets\\\\EPIC_Kitchen\\\\OpticalFlow\\\\P01_04\\\\u\\\\frame_5856.jpg'\n",
      "Skipping frame: D:/Datasets/Datasets/EPIC_Kitchen/OpticalFlow/P01_04/v\\frame_5856.jpg due to error: [Errno 2] No such file or directory: 'D:\\\\Datasets\\\\Datasets\\\\EPIC_Kitchen\\\\OpticalFlow\\\\P01_04\\\\v\\\\frame_5856.jpg'\n"
     ]
    },
    {
     "name": "stderr",
     "output_type": "stream",
     "text": [
      "Extracting Features with DEFT:  93%|███████████████████████████████████████████▊   | 1176/1262 [02:03<00:03, 22.50it/s]"
     ]
    },
    {
     "name": "stdout",
     "output_type": "stream",
     "text": [
      "Skipping frame: D:/Datasets/Datasets/EPIC_Kitchen/OpticalFlow/P01_04/u\\frame_5861.jpg due to error: [Errno 2] No such file or directory: 'D:\\\\Datasets\\\\Datasets\\\\EPIC_Kitchen\\\\OpticalFlow\\\\P01_04\\\\u\\\\frame_5861.jpg'\n",
      "Skipping frame: D:/Datasets/Datasets/EPIC_Kitchen/OpticalFlow/P01_04/v\\frame_5861.jpg due to error: [Errno 2] No such file or directory: 'D:\\\\Datasets\\\\Datasets\\\\EPIC_Kitchen\\\\OpticalFlow\\\\P01_04\\\\v\\\\frame_5861.jpg'\n",
      "Skipping frame: D:/Datasets/Datasets/EPIC_Kitchen/OpticalFlow/P01_04/u\\frame_5866.jpg due to error: [Errno 2] No such file or directory: 'D:\\\\Datasets\\\\Datasets\\\\EPIC_Kitchen\\\\OpticalFlow\\\\P01_04\\\\u\\\\frame_5866.jpg'\n",
      "Skipping frame: D:/Datasets/Datasets/EPIC_Kitchen/OpticalFlow/P01_04/v\\frame_5866.jpg due to error: [Errno 2] No such file or directory: 'D:\\\\Datasets\\\\Datasets\\\\EPIC_Kitchen\\\\OpticalFlow\\\\P01_04\\\\v\\\\frame_5866.jpg'\n",
      "Skipping frame: D:/Datasets/Datasets/EPIC_Kitchen/OpticalFlow/P01_04/u\\frame_5871.jpg due to error: [Errno 2] No such file or directory: 'D:\\\\Datasets\\\\Datasets\\\\EPIC_Kitchen\\\\OpticalFlow\\\\P01_04\\\\u\\\\frame_5871.jpg'\n",
      "Skipping frame: D:/Datasets/Datasets/EPIC_Kitchen/OpticalFlow/P01_04/v\\frame_5871.jpg due to error: [Errno 2] No such file or directory: 'D:\\\\Datasets\\\\Datasets\\\\EPIC_Kitchen\\\\OpticalFlow\\\\P01_04\\\\v\\\\frame_5871.jpg'\n",
      "Skipping frame: D:/Datasets/Datasets/EPIC_Kitchen/OpticalFlow/P01_04/u\\frame_5876.jpg due to error: [Errno 2] No such file or directory: 'D:\\\\Datasets\\\\Datasets\\\\EPIC_Kitchen\\\\OpticalFlow\\\\P01_04\\\\u\\\\frame_5876.jpg'\n",
      "Skipping frame: D:/Datasets/Datasets/EPIC_Kitchen/OpticalFlow/P01_04/v\\frame_5876.jpg due to error: [Errno 2] No such file or directory: 'D:\\\\Datasets\\\\Datasets\\\\EPIC_Kitchen\\\\OpticalFlow\\\\P01_04\\\\v\\\\frame_5876.jpg'\n",
      "Skipping frame: D:/Datasets/Datasets/EPIC_Kitchen/OpticalFlow/P01_04/u\\frame_5881.jpg due to error: [Errno 2] No such file or directory: 'D:\\\\Datasets\\\\Datasets\\\\EPIC_Kitchen\\\\OpticalFlow\\\\P01_04\\\\u\\\\frame_5881.jpg'\n",
      "Skipping frame: D:/Datasets/Datasets/EPIC_Kitchen/OpticalFlow/P01_04/v\\frame_5881.jpg due to error: [Errno 2] No such file or directory: 'D:\\\\Datasets\\\\Datasets\\\\EPIC_Kitchen\\\\OpticalFlow\\\\P01_04\\\\v\\\\frame_5881.jpg'\n"
     ]
    },
    {
     "name": "stderr",
     "output_type": "stream",
     "text": [
      "Extracting Features with DEFT:  94%|████████████████████████████████████████████   | 1182/1262 [02:03<00:03, 23.21it/s]"
     ]
    },
    {
     "name": "stdout",
     "output_type": "stream",
     "text": [
      "Skipping frame: D:/Datasets/Datasets/EPIC_Kitchen/OpticalFlow/P01_04/u\\frame_5886.jpg due to error: [Errno 2] No such file or directory: 'D:\\\\Datasets\\\\Datasets\\\\EPIC_Kitchen\\\\OpticalFlow\\\\P01_04\\\\u\\\\frame_5886.jpg'\n",
      "Skipping frame: D:/Datasets/Datasets/EPIC_Kitchen/OpticalFlow/P01_04/v\\frame_5886.jpg due to error: [Errno 2] No such file or directory: 'D:\\\\Datasets\\\\Datasets\\\\EPIC_Kitchen\\\\OpticalFlow\\\\P01_04\\\\v\\\\frame_5886.jpg'\n",
      "Skipping frame: D:/Datasets/Datasets/EPIC_Kitchen/OpticalFlow/P01_04/u\\frame_5891.jpg due to error: [Errno 2] No such file or directory: 'D:\\\\Datasets\\\\Datasets\\\\EPIC_Kitchen\\\\OpticalFlow\\\\P01_04\\\\u\\\\frame_5891.jpg'\n",
      "Skipping frame: D:/Datasets/Datasets/EPIC_Kitchen/OpticalFlow/P01_04/v\\frame_5891.jpg due to error: [Errno 2] No such file or directory: 'D:\\\\Datasets\\\\Datasets\\\\EPIC_Kitchen\\\\OpticalFlow\\\\P01_04\\\\v\\\\frame_5891.jpg'\n",
      "Skipping frame: D:/Datasets/Datasets/EPIC_Kitchen/OpticalFlow/P01_04/u\\frame_5896.jpg due to error: [Errno 2] No such file or directory: 'D:\\\\Datasets\\\\Datasets\\\\EPIC_Kitchen\\\\OpticalFlow\\\\P01_04\\\\u\\\\frame_5896.jpg'\n",
      "Skipping frame: D:/Datasets/Datasets/EPIC_Kitchen/OpticalFlow/P01_04/v\\frame_5896.jpg due to error: [Errno 2] No such file or directory: 'D:\\\\Datasets\\\\Datasets\\\\EPIC_Kitchen\\\\OpticalFlow\\\\P01_04\\\\v\\\\frame_5896.jpg'\n",
      "Skipping frame: D:/Datasets/Datasets/EPIC_Kitchen/OpticalFlow/P01_04/u\\frame_5901.jpg due to error: [Errno 2] No such file or directory: 'D:\\\\Datasets\\\\Datasets\\\\EPIC_Kitchen\\\\OpticalFlow\\\\P01_04\\\\u\\\\frame_5901.jpg'\n",
      "Skipping frame: D:/Datasets/Datasets/EPIC_Kitchen/OpticalFlow/P01_04/v\\frame_5901.jpg due to error: [Errno 2] No such file or directory: 'D:\\\\Datasets\\\\Datasets\\\\EPIC_Kitchen\\\\OpticalFlow\\\\P01_04\\\\v\\\\frame_5901.jpg'\n",
      "Skipping frame: D:/Datasets/Datasets/EPIC_Kitchen/OpticalFlow/P01_04/u\\frame_5906.jpg due to error: [Errno 2] No such file or directory: 'D:\\\\Datasets\\\\Datasets\\\\EPIC_Kitchen\\\\OpticalFlow\\\\P01_04\\\\u\\\\frame_5906.jpg'\n",
      "Skipping frame: D:/Datasets/Datasets/EPIC_Kitchen/OpticalFlow/P01_04/v\\frame_5906.jpg due to error: [Errno 2] No such file or directory: 'D:\\\\Datasets\\\\Datasets\\\\EPIC_Kitchen\\\\OpticalFlow\\\\P01_04\\\\v\\\\frame_5906.jpg'\n",
      "Skipping frame: D:/Datasets/Datasets/EPIC_Kitchen/OpticalFlow/P01_04/u\\frame_5911.jpg due to error: [Errno 2] No such file or directory: 'D:\\\\Datasets\\\\Datasets\\\\EPIC_Kitchen\\\\OpticalFlow\\\\P01_04\\\\u\\\\frame_5911.jpg'\n",
      "Skipping frame: D:/Datasets/Datasets/EPIC_Kitchen/OpticalFlow/P01_04/v\\frame_5911.jpg due to error: [Errno 2] No such file or directory: 'D:\\\\Datasets\\\\Datasets\\\\EPIC_Kitchen\\\\OpticalFlow\\\\P01_04\\\\v\\\\frame_5911.jpg'\n"
     ]
    },
    {
     "name": "stderr",
     "output_type": "stream",
     "text": [
      "Extracting Features with DEFT:  94%|████████████████████████████████████████████▏  | 1188/1262 [02:03<00:03, 23.06it/s]"
     ]
    },
    {
     "name": "stdout",
     "output_type": "stream",
     "text": [
      "Skipping frame: D:/Datasets/Datasets/EPIC_Kitchen/OpticalFlow/P01_04/u\\frame_5916.jpg due to error: [Errno 2] No such file or directory: 'D:\\\\Datasets\\\\Datasets\\\\EPIC_Kitchen\\\\OpticalFlow\\\\P01_04\\\\u\\\\frame_5916.jpg'\n",
      "Skipping frame: D:/Datasets/Datasets/EPIC_Kitchen/OpticalFlow/P01_04/v\\frame_5916.jpg due to error: [Errno 2] No such file or directory: 'D:\\\\Datasets\\\\Datasets\\\\EPIC_Kitchen\\\\OpticalFlow\\\\P01_04\\\\v\\\\frame_5916.jpg'\n",
      "Skipping frame: D:/Datasets/Datasets/EPIC_Kitchen/OpticalFlow/P01_04/u\\frame_5921.jpg due to error: [Errno 2] No such file or directory: 'D:\\\\Datasets\\\\Datasets\\\\EPIC_Kitchen\\\\OpticalFlow\\\\P01_04\\\\u\\\\frame_5921.jpg'\n",
      "Skipping frame: D:/Datasets/Datasets/EPIC_Kitchen/OpticalFlow/P01_04/v\\frame_5921.jpg due to error: [Errno 2] No such file or directory: 'D:\\\\Datasets\\\\Datasets\\\\EPIC_Kitchen\\\\OpticalFlow\\\\P01_04\\\\v\\\\frame_5921.jpg'\n",
      "Skipping frame: D:/Datasets/Datasets/EPIC_Kitchen/OpticalFlow/P01_04/u\\frame_5926.jpg due to error: [Errno 2] No such file or directory: 'D:\\\\Datasets\\\\Datasets\\\\EPIC_Kitchen\\\\OpticalFlow\\\\P01_04\\\\u\\\\frame_5926.jpg'\n",
      "Skipping frame: D:/Datasets/Datasets/EPIC_Kitchen/OpticalFlow/P01_04/v\\frame_5926.jpg due to error: [Errno 2] No such file or directory: 'D:\\\\Datasets\\\\Datasets\\\\EPIC_Kitchen\\\\OpticalFlow\\\\P01_04\\\\v\\\\frame_5926.jpg'\n",
      "Skipping frame: D:/Datasets/Datasets/EPIC_Kitchen/OpticalFlow/P01_04/u\\frame_5931.jpg due to error: [Errno 2] No such file or directory: 'D:\\\\Datasets\\\\Datasets\\\\EPIC_Kitchen\\\\OpticalFlow\\\\P01_04\\\\u\\\\frame_5931.jpg'\n",
      "Skipping frame: D:/Datasets/Datasets/EPIC_Kitchen/OpticalFlow/P01_04/v\\frame_5931.jpg due to error: [Errno 2] No such file or directory: 'D:\\\\Datasets\\\\Datasets\\\\EPIC_Kitchen\\\\OpticalFlow\\\\P01_04\\\\v\\\\frame_5931.jpg'\n",
      "Skipping frame: D:/Datasets/Datasets/EPIC_Kitchen/OpticalFlow/P01_04/u\\frame_5936.jpg due to error: [Errno 2] No such file or directory: 'D:\\\\Datasets\\\\Datasets\\\\EPIC_Kitchen\\\\OpticalFlow\\\\P01_04\\\\u\\\\frame_5936.jpg'\n",
      "Skipping frame: D:/Datasets/Datasets/EPIC_Kitchen/OpticalFlow/P01_04/v\\frame_5936.jpg due to error: [Errno 2] No such file or directory: 'D:\\\\Datasets\\\\Datasets\\\\EPIC_Kitchen\\\\OpticalFlow\\\\P01_04\\\\v\\\\frame_5936.jpg'\n",
      "Skipping frame: D:/Datasets/Datasets/EPIC_Kitchen/OpticalFlow/P01_04/u\\frame_5941.jpg due to error: [Errno 2] No such file or directory: 'D:\\\\Datasets\\\\Datasets\\\\EPIC_Kitchen\\\\OpticalFlow\\\\P01_04\\\\u\\\\frame_5941.jpg'\n",
      "Skipping frame: D:/Datasets/Datasets/EPIC_Kitchen/OpticalFlow/P01_04/v\\frame_5941.jpg due to error: [Errno 2] No such file or directory: 'D:\\\\Datasets\\\\Datasets\\\\EPIC_Kitchen\\\\OpticalFlow\\\\P01_04\\\\v\\\\frame_5941.jpg'\n"
     ]
    },
    {
     "name": "stderr",
     "output_type": "stream",
     "text": [
      "Extracting Features with DEFT:  95%|████████████████████████████████████████████▍  | 1194/1262 [02:03<00:02, 23.28it/s]"
     ]
    },
    {
     "name": "stdout",
     "output_type": "stream",
     "text": [
      "Skipping frame: D:/Datasets/Datasets/EPIC_Kitchen/OpticalFlow/P01_04/u\\frame_5946.jpg due to error: [Errno 2] No such file or directory: 'D:\\\\Datasets\\\\Datasets\\\\EPIC_Kitchen\\\\OpticalFlow\\\\P01_04\\\\u\\\\frame_5946.jpg'\n",
      "Skipping frame: D:/Datasets/Datasets/EPIC_Kitchen/OpticalFlow/P01_04/v\\frame_5946.jpg due to error: [Errno 2] No such file or directory: 'D:\\\\Datasets\\\\Datasets\\\\EPIC_Kitchen\\\\OpticalFlow\\\\P01_04\\\\v\\\\frame_5946.jpg'\n",
      "Skipping frame: D:/Datasets/Datasets/EPIC_Kitchen/OpticalFlow/P01_04/u\\frame_5951.jpg due to error: [Errno 2] No such file or directory: 'D:\\\\Datasets\\\\Datasets\\\\EPIC_Kitchen\\\\OpticalFlow\\\\P01_04\\\\u\\\\frame_5951.jpg'\n",
      "Skipping frame: D:/Datasets/Datasets/EPIC_Kitchen/OpticalFlow/P01_04/v\\frame_5951.jpg due to error: [Errno 2] No such file or directory: 'D:\\\\Datasets\\\\Datasets\\\\EPIC_Kitchen\\\\OpticalFlow\\\\P01_04\\\\v\\\\frame_5951.jpg'\n",
      "Skipping frame: D:/Datasets/Datasets/EPIC_Kitchen/OpticalFlow/P01_04/u\\frame_5956.jpg due to error: [Errno 2] No such file or directory: 'D:\\\\Datasets\\\\Datasets\\\\EPIC_Kitchen\\\\OpticalFlow\\\\P01_04\\\\u\\\\frame_5956.jpg'\n",
      "Skipping frame: D:/Datasets/Datasets/EPIC_Kitchen/OpticalFlow/P01_04/v\\frame_5956.jpg due to error: [Errno 2] No such file or directory: 'D:\\\\Datasets\\\\Datasets\\\\EPIC_Kitchen\\\\OpticalFlow\\\\P01_04\\\\v\\\\frame_5956.jpg'\n",
      "Skipping frame: D:/Datasets/Datasets/EPIC_Kitchen/OpticalFlow/P01_04/u\\frame_5961.jpg due to error: [Errno 2] No such file or directory: 'D:\\\\Datasets\\\\Datasets\\\\EPIC_Kitchen\\\\OpticalFlow\\\\P01_04\\\\u\\\\frame_5961.jpg'\n",
      "Skipping frame: D:/Datasets/Datasets/EPIC_Kitchen/OpticalFlow/P01_04/v\\frame_5961.jpg due to error: [Errno 2] No such file or directory: 'D:\\\\Datasets\\\\Datasets\\\\EPIC_Kitchen\\\\OpticalFlow\\\\P01_04\\\\v\\\\frame_5961.jpg'\n",
      "Skipping frame: D:/Datasets/Datasets/EPIC_Kitchen/OpticalFlow/P01_04/u\\frame_5966.jpg due to error: [Errno 2] No such file or directory: 'D:\\\\Datasets\\\\Datasets\\\\EPIC_Kitchen\\\\OpticalFlow\\\\P01_04\\\\u\\\\frame_5966.jpg'\n",
      "Skipping frame: D:/Datasets/Datasets/EPIC_Kitchen/OpticalFlow/P01_04/v\\frame_5966.jpg due to error: [Errno 2] No such file or directory: 'D:\\\\Datasets\\\\Datasets\\\\EPIC_Kitchen\\\\OpticalFlow\\\\P01_04\\\\v\\\\frame_5966.jpg'\n"
     ]
    },
    {
     "name": "stderr",
     "output_type": "stream",
     "text": [
      "\r",
      "Extracting Features with DEFT:  95%|████████████████████████████████████████████▌  | 1197/1262 [02:04<00:02, 22.96it/s]"
     ]
    },
    {
     "name": "stdout",
     "output_type": "stream",
     "text": [
      "Skipping frame: D:/Datasets/Datasets/EPIC_Kitchen/OpticalFlow/P01_04/u\\frame_5971.jpg due to error: [Errno 2] No such file or directory: 'D:\\\\Datasets\\\\Datasets\\\\EPIC_Kitchen\\\\OpticalFlow\\\\P01_04\\\\u\\\\frame_5971.jpg'\n",
      "Skipping frame: D:/Datasets/Datasets/EPIC_Kitchen/OpticalFlow/P01_04/v\\frame_5971.jpg due to error: [Errno 2] No such file or directory: 'D:\\\\Datasets\\\\Datasets\\\\EPIC_Kitchen\\\\OpticalFlow\\\\P01_04\\\\v\\\\frame_5971.jpg'\n",
      "Skipping frame: D:/Datasets/Datasets/EPIC_Kitchen/OpticalFlow/P01_04/u\\frame_5976.jpg due to error: [Errno 2] No such file or directory: 'D:\\\\Datasets\\\\Datasets\\\\EPIC_Kitchen\\\\OpticalFlow\\\\P01_04\\\\u\\\\frame_5976.jpg'\n",
      "Skipping frame: D:/Datasets/Datasets/EPIC_Kitchen/OpticalFlow/P01_04/v\\frame_5976.jpg due to error: [Errno 2] No such file or directory: 'D:\\\\Datasets\\\\Datasets\\\\EPIC_Kitchen\\\\OpticalFlow\\\\P01_04\\\\v\\\\frame_5976.jpg'\n",
      "Skipping frame: D:/Datasets/Datasets/EPIC_Kitchen/OpticalFlow/P01_04/u\\frame_5981.jpg due to error: [Errno 2] No such file or directory: 'D:\\\\Datasets\\\\Datasets\\\\EPIC_Kitchen\\\\OpticalFlow\\\\P01_04\\\\u\\\\frame_5981.jpg'\n",
      "Skipping frame: D:/Datasets/Datasets/EPIC_Kitchen/OpticalFlow/P01_04/v\\frame_5981.jpg due to error: [Errno 2] No such file or directory: 'D:\\\\Datasets\\\\Datasets\\\\EPIC_Kitchen\\\\OpticalFlow\\\\P01_04\\\\v\\\\frame_5981.jpg'\n",
      "Skipping frame: D:/Datasets/Datasets/EPIC_Kitchen/OpticalFlow/P01_04/u\\frame_5986.jpg due to error: [Errno 2] No such file or directory: 'D:\\\\Datasets\\\\Datasets\\\\EPIC_Kitchen\\\\OpticalFlow\\\\P01_04\\\\u\\\\frame_5986.jpg'\n",
      "Skipping frame: D:/Datasets/Datasets/EPIC_Kitchen/OpticalFlow/P01_04/v\\frame_5986.jpg due to error: [Errno 2] No such file or directory: 'D:\\\\Datasets\\\\Datasets\\\\EPIC_Kitchen\\\\OpticalFlow\\\\P01_04\\\\v\\\\frame_5986.jpg'\n",
      "Skipping frame: D:/Datasets/Datasets/EPIC_Kitchen/OpticalFlow/P01_04/u\\frame_5991.jpg due to error: [Errno 2] No such file or directory: 'D:\\\\Datasets\\\\Datasets\\\\EPIC_Kitchen\\\\OpticalFlow\\\\P01_04\\\\u\\\\frame_5991.jpg'\n",
      "Skipping frame: D:/Datasets/Datasets/EPIC_Kitchen/OpticalFlow/P01_04/v\\frame_5991.jpg due to error: [Errno 2] No such file or directory: 'D:\\\\Datasets\\\\Datasets\\\\EPIC_Kitchen\\\\OpticalFlow\\\\P01_04\\\\v\\\\frame_5991.jpg'\n"
     ]
    },
    {
     "name": "stderr",
     "output_type": "stream",
     "text": [
      "Extracting Features with DEFT:  95%|████████████████████████████████████████████▊  | 1203/1262 [02:04<00:02, 22.51it/s]"
     ]
    },
    {
     "name": "stdout",
     "output_type": "stream",
     "text": [
      "Skipping frame: D:/Datasets/Datasets/EPIC_Kitchen/OpticalFlow/P01_04/u\\frame_5996.jpg due to error: [Errno 2] No such file or directory: 'D:\\\\Datasets\\\\Datasets\\\\EPIC_Kitchen\\\\OpticalFlow\\\\P01_04\\\\u\\\\frame_5996.jpg'\n",
      "Skipping frame: D:/Datasets/Datasets/EPIC_Kitchen/OpticalFlow/P01_04/v\\frame_5996.jpg due to error: [Errno 2] No such file or directory: 'D:\\\\Datasets\\\\Datasets\\\\EPIC_Kitchen\\\\OpticalFlow\\\\P01_04\\\\v\\\\frame_5996.jpg'\n",
      "Skipping frame: D:/Datasets/Datasets/EPIC_Kitchen/OpticalFlow/P01_04/u\\frame_6001.jpg due to error: [Errno 2] No such file or directory: 'D:\\\\Datasets\\\\Datasets\\\\EPIC_Kitchen\\\\OpticalFlow\\\\P01_04\\\\u\\\\frame_6001.jpg'\n",
      "Skipping frame: D:/Datasets/Datasets/EPIC_Kitchen/OpticalFlow/P01_04/v\\frame_6001.jpg due to error: [Errno 2] No such file or directory: 'D:\\\\Datasets\\\\Datasets\\\\EPIC_Kitchen\\\\OpticalFlow\\\\P01_04\\\\v\\\\frame_6001.jpg'\n",
      "Skipping frame: D:/Datasets/Datasets/EPIC_Kitchen/OpticalFlow/P01_04/u\\frame_6006.jpg due to error: [Errno 2] No such file or directory: 'D:\\\\Datasets\\\\Datasets\\\\EPIC_Kitchen\\\\OpticalFlow\\\\P01_04\\\\u\\\\frame_6006.jpg'\n",
      "Skipping frame: D:/Datasets/Datasets/EPIC_Kitchen/OpticalFlow/P01_04/v\\frame_6006.jpg due to error: [Errno 2] No such file or directory: 'D:\\\\Datasets\\\\Datasets\\\\EPIC_Kitchen\\\\OpticalFlow\\\\P01_04\\\\v\\\\frame_6006.jpg'\n",
      "Skipping frame: D:/Datasets/Datasets/EPIC_Kitchen/OpticalFlow/P01_04/u\\frame_6011.jpg due to error: [Errno 2] No such file or directory: 'D:\\\\Datasets\\\\Datasets\\\\EPIC_Kitchen\\\\OpticalFlow\\\\P01_04\\\\u\\\\frame_6011.jpg'\n",
      "Skipping frame: D:/Datasets/Datasets/EPIC_Kitchen/OpticalFlow/P01_04/v\\frame_6011.jpg due to error: [Errno 2] No such file or directory: 'D:\\\\Datasets\\\\Datasets\\\\EPIC_Kitchen\\\\OpticalFlow\\\\P01_04\\\\v\\\\frame_6011.jpg'\n",
      "Skipping frame: D:/Datasets/Datasets/EPIC_Kitchen/OpticalFlow/P01_04/u\\frame_6016.jpg due to error: [Errno 2] No such file or directory: 'D:\\\\Datasets\\\\Datasets\\\\EPIC_Kitchen\\\\OpticalFlow\\\\P01_04\\\\u\\\\frame_6016.jpg'\n",
      "Skipping frame: D:/Datasets/Datasets/EPIC_Kitchen/OpticalFlow/P01_04/v\\frame_6016.jpg due to error: [Errno 2] No such file or directory: 'D:\\\\Datasets\\\\Datasets\\\\EPIC_Kitchen\\\\OpticalFlow\\\\P01_04\\\\v\\\\frame_6016.jpg'\n"
     ]
    },
    {
     "name": "stderr",
     "output_type": "stream",
     "text": [
      "Extracting Features with DEFT:  96%|█████████████████████████████████████████████  | 1209/1262 [02:04<00:02, 22.57it/s]"
     ]
    },
    {
     "name": "stdout",
     "output_type": "stream",
     "text": [
      "Skipping frame: D:/Datasets/Datasets/EPIC_Kitchen/OpticalFlow/P01_04/u\\frame_6021.jpg due to error: [Errno 2] No such file or directory: 'D:\\\\Datasets\\\\Datasets\\\\EPIC_Kitchen\\\\OpticalFlow\\\\P01_04\\\\u\\\\frame_6021.jpg'\n",
      "Skipping frame: D:/Datasets/Datasets/EPIC_Kitchen/OpticalFlow/P01_04/v\\frame_6021.jpg due to error: [Errno 2] No such file or directory: 'D:\\\\Datasets\\\\Datasets\\\\EPIC_Kitchen\\\\OpticalFlow\\\\P01_04\\\\v\\\\frame_6021.jpg'\n",
      "Skipping frame: D:/Datasets/Datasets/EPIC_Kitchen/OpticalFlow/P01_04/u\\frame_6026.jpg due to error: [Errno 2] No such file or directory: 'D:\\\\Datasets\\\\Datasets\\\\EPIC_Kitchen\\\\OpticalFlow\\\\P01_04\\\\u\\\\frame_6026.jpg'\n",
      "Skipping frame: D:/Datasets/Datasets/EPIC_Kitchen/OpticalFlow/P01_04/v\\frame_6026.jpg due to error: [Errno 2] No such file or directory: 'D:\\\\Datasets\\\\Datasets\\\\EPIC_Kitchen\\\\OpticalFlow\\\\P01_04\\\\v\\\\frame_6026.jpg'\n",
      "Skipping frame: D:/Datasets/Datasets/EPIC_Kitchen/OpticalFlow/P01_04/u\\frame_6031.jpg due to error: [Errno 2] No such file or directory: 'D:\\\\Datasets\\\\Datasets\\\\EPIC_Kitchen\\\\OpticalFlow\\\\P01_04\\\\u\\\\frame_6031.jpg'\n",
      "Skipping frame: D:/Datasets/Datasets/EPIC_Kitchen/OpticalFlow/P01_04/v\\frame_6031.jpg due to error: [Errno 2] No such file or directory: 'D:\\\\Datasets\\\\Datasets\\\\EPIC_Kitchen\\\\OpticalFlow\\\\P01_04\\\\v\\\\frame_6031.jpg'\n",
      "Skipping frame: D:/Datasets/Datasets/EPIC_Kitchen/OpticalFlow/P01_04/u\\frame_6036.jpg due to error: [Errno 2] No such file or directory: 'D:\\\\Datasets\\\\Datasets\\\\EPIC_Kitchen\\\\OpticalFlow\\\\P01_04\\\\u\\\\frame_6036.jpg'\n",
      "Skipping frame: D:/Datasets/Datasets/EPIC_Kitchen/OpticalFlow/P01_04/v\\frame_6036.jpg due to error: [Errno 2] No such file or directory: 'D:\\\\Datasets\\\\Datasets\\\\EPIC_Kitchen\\\\OpticalFlow\\\\P01_04\\\\v\\\\frame_6036.jpg'\n",
      "Skipping frame: D:/Datasets/Datasets/EPIC_Kitchen/OpticalFlow/P01_04/u\\frame_6041.jpg due to error: [Errno 2] No such file or directory: 'D:\\\\Datasets\\\\Datasets\\\\EPIC_Kitchen\\\\OpticalFlow\\\\P01_04\\\\u\\\\frame_6041.jpg'\n",
      "Skipping frame: D:/Datasets/Datasets/EPIC_Kitchen/OpticalFlow/P01_04/v\\frame_6041.jpg due to error: [Errno 2] No such file or directory: 'D:\\\\Datasets\\\\Datasets\\\\EPIC_Kitchen\\\\OpticalFlow\\\\P01_04\\\\v\\\\frame_6041.jpg'\n"
     ]
    },
    {
     "name": "stderr",
     "output_type": "stream",
     "text": [
      "\r",
      "Extracting Features with DEFT:  96%|█████████████████████████████████████████████▏ | 1212/1262 [02:04<00:02, 22.34it/s]"
     ]
    },
    {
     "name": "stdout",
     "output_type": "stream",
     "text": [
      "Skipping frame: D:/Datasets/Datasets/EPIC_Kitchen/OpticalFlow/P01_04/u\\frame_6046.jpg due to error: [Errno 2] No such file or directory: 'D:\\\\Datasets\\\\Datasets\\\\EPIC_Kitchen\\\\OpticalFlow\\\\P01_04\\\\u\\\\frame_6046.jpg'\n",
      "Skipping frame: D:/Datasets/Datasets/EPIC_Kitchen/OpticalFlow/P01_04/v\\frame_6046.jpg due to error: [Errno 2] No such file or directory: 'D:\\\\Datasets\\\\Datasets\\\\EPIC_Kitchen\\\\OpticalFlow\\\\P01_04\\\\v\\\\frame_6046.jpg'\n",
      "Skipping frame: D:/Datasets/Datasets/EPIC_Kitchen/OpticalFlow/P01_04/u\\frame_6051.jpg due to error: [Errno 2] No such file or directory: 'D:\\\\Datasets\\\\Datasets\\\\EPIC_Kitchen\\\\OpticalFlow\\\\P01_04\\\\u\\\\frame_6051.jpg'\n",
      "Skipping frame: D:/Datasets/Datasets/EPIC_Kitchen/OpticalFlow/P01_04/v\\frame_6051.jpg due to error: [Errno 2] No such file or directory: 'D:\\\\Datasets\\\\Datasets\\\\EPIC_Kitchen\\\\OpticalFlow\\\\P01_04\\\\v\\\\frame_6051.jpg'\n",
      "Skipping frame: D:/Datasets/Datasets/EPIC_Kitchen/OpticalFlow/P01_04/u\\frame_6056.jpg due to error: [Errno 2] No such file or directory: 'D:\\\\Datasets\\\\Datasets\\\\EPIC_Kitchen\\\\OpticalFlow\\\\P01_04\\\\u\\\\frame_6056.jpg'\n",
      "Skipping frame: D:/Datasets/Datasets/EPIC_Kitchen/OpticalFlow/P01_04/v\\frame_6056.jpg due to error: [Errno 2] No such file or directory: 'D:\\\\Datasets\\\\Datasets\\\\EPIC_Kitchen\\\\OpticalFlow\\\\P01_04\\\\v\\\\frame_6056.jpg'\n",
      "Skipping frame: D:/Datasets/Datasets/EPIC_Kitchen/OpticalFlow/P01_04/u\\frame_6061.jpg due to error: [Errno 2] No such file or directory: 'D:\\\\Datasets\\\\Datasets\\\\EPIC_Kitchen\\\\OpticalFlow\\\\P01_04\\\\u\\\\frame_6061.jpg'\n",
      "Skipping frame: D:/Datasets/Datasets/EPIC_Kitchen/OpticalFlow/P01_04/v\\frame_6061.jpg due to error: [Errno 2] No such file or directory: 'D:\\\\Datasets\\\\Datasets\\\\EPIC_Kitchen\\\\OpticalFlow\\\\P01_04\\\\v\\\\frame_6061.jpg'\n",
      "Skipping frame: D:/Datasets/Datasets/EPIC_Kitchen/OpticalFlow/P01_04/u\\frame_6066.jpg due to error: [Errno 2] No such file or directory: 'D:\\\\Datasets\\\\Datasets\\\\EPIC_Kitchen\\\\OpticalFlow\\\\P01_04\\\\u\\\\frame_6066.jpg'\n",
      "Skipping frame: D:/Datasets/Datasets/EPIC_Kitchen/OpticalFlow/P01_04/v\\frame_6066.jpg due to error: [Errno 2] No such file or directory: 'D:\\\\Datasets\\\\Datasets\\\\EPIC_Kitchen\\\\OpticalFlow\\\\P01_04\\\\v\\\\frame_6066.jpg'\n"
     ]
    },
    {
     "name": "stderr",
     "output_type": "stream",
     "text": [
      "Extracting Features with DEFT:  97%|█████████████████████████████████████████████▎ | 1218/1262 [02:04<00:01, 22.34it/s]"
     ]
    },
    {
     "name": "stdout",
     "output_type": "stream",
     "text": [
      "Skipping frame: D:/Datasets/Datasets/EPIC_Kitchen/OpticalFlow/P01_04/u\\frame_6071.jpg due to error: [Errno 2] No such file or directory: 'D:\\\\Datasets\\\\Datasets\\\\EPIC_Kitchen\\\\OpticalFlow\\\\P01_04\\\\u\\\\frame_6071.jpg'\n",
      "Skipping frame: D:/Datasets/Datasets/EPIC_Kitchen/OpticalFlow/P01_04/v\\frame_6071.jpg due to error: [Errno 2] No such file or directory: 'D:\\\\Datasets\\\\Datasets\\\\EPIC_Kitchen\\\\OpticalFlow\\\\P01_04\\\\v\\\\frame_6071.jpg'\n",
      "Skipping frame: D:/Datasets/Datasets/EPIC_Kitchen/OpticalFlow/P01_04/u\\frame_6076.jpg due to error: [Errno 2] No such file or directory: 'D:\\\\Datasets\\\\Datasets\\\\EPIC_Kitchen\\\\OpticalFlow\\\\P01_04\\\\u\\\\frame_6076.jpg'\n",
      "Skipping frame: D:/Datasets/Datasets/EPIC_Kitchen/OpticalFlow/P01_04/v\\frame_6076.jpg due to error: [Errno 2] No such file or directory: 'D:\\\\Datasets\\\\Datasets\\\\EPIC_Kitchen\\\\OpticalFlow\\\\P01_04\\\\v\\\\frame_6076.jpg'\n",
      "Skipping frame: D:/Datasets/Datasets/EPIC_Kitchen/OpticalFlow/P01_04/u\\frame_6081.jpg due to error: [Errno 2] No such file or directory: 'D:\\\\Datasets\\\\Datasets\\\\EPIC_Kitchen\\\\OpticalFlow\\\\P01_04\\\\u\\\\frame_6081.jpg'\n",
      "Skipping frame: D:/Datasets/Datasets/EPIC_Kitchen/OpticalFlow/P01_04/v\\frame_6081.jpg due to error: [Errno 2] No such file or directory: 'D:\\\\Datasets\\\\Datasets\\\\EPIC_Kitchen\\\\OpticalFlow\\\\P01_04\\\\v\\\\frame_6081.jpg'\n",
      "Skipping frame: D:/Datasets/Datasets/EPIC_Kitchen/OpticalFlow/P01_04/u\\frame_6086.jpg due to error: [Errno 2] No such file or directory: 'D:\\\\Datasets\\\\Datasets\\\\EPIC_Kitchen\\\\OpticalFlow\\\\P01_04\\\\u\\\\frame_6086.jpg'\n",
      "Skipping frame: D:/Datasets/Datasets/EPIC_Kitchen/OpticalFlow/P01_04/v\\frame_6086.jpg due to error: [Errno 2] No such file or directory: 'D:\\\\Datasets\\\\Datasets\\\\EPIC_Kitchen\\\\OpticalFlow\\\\P01_04\\\\v\\\\frame_6086.jpg'\n",
      "Skipping frame: D:/Datasets/Datasets/EPIC_Kitchen/OpticalFlow/P01_04/u\\frame_6091.jpg due to error: [Errno 2] No such file or directory: 'D:\\\\Datasets\\\\Datasets\\\\EPIC_Kitchen\\\\OpticalFlow\\\\P01_04\\\\u\\\\frame_6091.jpg'\n",
      "Skipping frame: D:/Datasets/Datasets/EPIC_Kitchen/OpticalFlow/P01_04/v\\frame_6091.jpg due to error: [Errno 2] No such file or directory: 'D:\\\\Datasets\\\\Datasets\\\\EPIC_Kitchen\\\\OpticalFlow\\\\P01_04\\\\v\\\\frame_6091.jpg'\n"
     ]
    },
    {
     "name": "stderr",
     "output_type": "stream",
     "text": [
      "Extracting Features with DEFT:  97%|█████████████████████████████████████████████▌ | 1224/1262 [02:05<00:01, 23.28it/s]"
     ]
    },
    {
     "name": "stdout",
     "output_type": "stream",
     "text": [
      "Skipping frame: D:/Datasets/Datasets/EPIC_Kitchen/OpticalFlow/P01_04/u\\frame_6096.jpg due to error: [Errno 2] No such file or directory: 'D:\\\\Datasets\\\\Datasets\\\\EPIC_Kitchen\\\\OpticalFlow\\\\P01_04\\\\u\\\\frame_6096.jpg'\n",
      "Skipping frame: D:/Datasets/Datasets/EPIC_Kitchen/OpticalFlow/P01_04/v\\frame_6096.jpg due to error: [Errno 2] No such file or directory: 'D:\\\\Datasets\\\\Datasets\\\\EPIC_Kitchen\\\\OpticalFlow\\\\P01_04\\\\v\\\\frame_6096.jpg'\n",
      "Skipping frame: D:/Datasets/Datasets/EPIC_Kitchen/OpticalFlow/P01_04/u\\frame_6101.jpg due to error: [Errno 2] No such file or directory: 'D:\\\\Datasets\\\\Datasets\\\\EPIC_Kitchen\\\\OpticalFlow\\\\P01_04\\\\u\\\\frame_6101.jpg'\n",
      "Skipping frame: D:/Datasets/Datasets/EPIC_Kitchen/OpticalFlow/P01_04/v\\frame_6101.jpg due to error: [Errno 2] No such file or directory: 'D:\\\\Datasets\\\\Datasets\\\\EPIC_Kitchen\\\\OpticalFlow\\\\P01_04\\\\v\\\\frame_6101.jpg'\n",
      "Skipping frame: D:/Datasets/Datasets/EPIC_Kitchen/OpticalFlow/P01_04/u\\frame_6106.jpg due to error: [Errno 2] No such file or directory: 'D:\\\\Datasets\\\\Datasets\\\\EPIC_Kitchen\\\\OpticalFlow\\\\P01_04\\\\u\\\\frame_6106.jpg'\n",
      "Skipping frame: D:/Datasets/Datasets/EPIC_Kitchen/OpticalFlow/P01_04/v\\frame_6106.jpg due to error: [Errno 2] No such file or directory: 'D:\\\\Datasets\\\\Datasets\\\\EPIC_Kitchen\\\\OpticalFlow\\\\P01_04\\\\v\\\\frame_6106.jpg'\n",
      "Skipping frame: D:/Datasets/Datasets/EPIC_Kitchen/OpticalFlow/P01_04/u\\frame_6111.jpg due to error: [Errno 2] No such file or directory: 'D:\\\\Datasets\\\\Datasets\\\\EPIC_Kitchen\\\\OpticalFlow\\\\P01_04\\\\u\\\\frame_6111.jpg'\n",
      "Skipping frame: D:/Datasets/Datasets/EPIC_Kitchen/OpticalFlow/P01_04/v\\frame_6111.jpg due to error: [Errno 2] No such file or directory: 'D:\\\\Datasets\\\\Datasets\\\\EPIC_Kitchen\\\\OpticalFlow\\\\P01_04\\\\v\\\\frame_6111.jpg'\n",
      "Skipping frame: D:/Datasets/Datasets/EPIC_Kitchen/OpticalFlow/P01_04/u\\frame_6116.jpg due to error: [Errno 2] No such file or directory: 'D:\\\\Datasets\\\\Datasets\\\\EPIC_Kitchen\\\\OpticalFlow\\\\P01_04\\\\u\\\\frame_6116.jpg'\n",
      "Skipping frame: D:/Datasets/Datasets/EPIC_Kitchen/OpticalFlow/P01_04/v\\frame_6116.jpg due to error: [Errno 2] No such file or directory: 'D:\\\\Datasets\\\\Datasets\\\\EPIC_Kitchen\\\\OpticalFlow\\\\P01_04\\\\v\\\\frame_6116.jpg'\n",
      "Skipping frame: D:/Datasets/Datasets/EPIC_Kitchen/OpticalFlow/P01_04/u\\frame_6121.jpg due to error: [Errno 2] No such file or directory: 'D:\\\\Datasets\\\\Datasets\\\\EPIC_Kitchen\\\\OpticalFlow\\\\P01_04\\\\u\\\\frame_6121.jpg'\n",
      "Skipping frame: D:/Datasets/Datasets/EPIC_Kitchen/OpticalFlow/P01_04/v\\frame_6121.jpg due to error: [Errno 2] No such file or directory: 'D:\\\\Datasets\\\\Datasets\\\\EPIC_Kitchen\\\\OpticalFlow\\\\P01_04\\\\v\\\\frame_6121.jpg'\n"
     ]
    },
    {
     "name": "stderr",
     "output_type": "stream",
     "text": [
      "Extracting Features with DEFT:  97%|█████████████████████████████████████████████▊ | 1230/1262 [02:05<00:01, 22.91it/s]"
     ]
    },
    {
     "name": "stdout",
     "output_type": "stream",
     "text": [
      "Skipping frame: D:/Datasets/Datasets/EPIC_Kitchen/OpticalFlow/P01_04/u\\frame_6126.jpg due to error: [Errno 2] No such file or directory: 'D:\\\\Datasets\\\\Datasets\\\\EPIC_Kitchen\\\\OpticalFlow\\\\P01_04\\\\u\\\\frame_6126.jpg'\n",
      "Skipping frame: D:/Datasets/Datasets/EPIC_Kitchen/OpticalFlow/P01_04/v\\frame_6126.jpg due to error: [Errno 2] No such file or directory: 'D:\\\\Datasets\\\\Datasets\\\\EPIC_Kitchen\\\\OpticalFlow\\\\P01_04\\\\v\\\\frame_6126.jpg'\n",
      "Skipping frame: D:/Datasets/Datasets/EPIC_Kitchen/OpticalFlow/P01_04/u\\frame_6131.jpg due to error: [Errno 2] No such file or directory: 'D:\\\\Datasets\\\\Datasets\\\\EPIC_Kitchen\\\\OpticalFlow\\\\P01_04\\\\u\\\\frame_6131.jpg'\n",
      "Skipping frame: D:/Datasets/Datasets/EPIC_Kitchen/OpticalFlow/P01_04/v\\frame_6131.jpg due to error: [Errno 2] No such file or directory: 'D:\\\\Datasets\\\\Datasets\\\\EPIC_Kitchen\\\\OpticalFlow\\\\P01_04\\\\v\\\\frame_6131.jpg'\n",
      "Skipping frame: D:/Datasets/Datasets/EPIC_Kitchen/OpticalFlow/P01_04/u\\frame_6136.jpg due to error: [Errno 2] No such file or directory: 'D:\\\\Datasets\\\\Datasets\\\\EPIC_Kitchen\\\\OpticalFlow\\\\P01_04\\\\u\\\\frame_6136.jpg'\n",
      "Skipping frame: D:/Datasets/Datasets/EPIC_Kitchen/OpticalFlow/P01_04/v\\frame_6136.jpg due to error: [Errno 2] No such file or directory: 'D:\\\\Datasets\\\\Datasets\\\\EPIC_Kitchen\\\\OpticalFlow\\\\P01_04\\\\v\\\\frame_6136.jpg'\n",
      "Skipping frame: D:/Datasets/Datasets/EPIC_Kitchen/OpticalFlow/P01_04/u\\frame_6141.jpg due to error: [Errno 2] No such file or directory: 'D:\\\\Datasets\\\\Datasets\\\\EPIC_Kitchen\\\\OpticalFlow\\\\P01_04\\\\u\\\\frame_6141.jpg'\n",
      "Skipping frame: D:/Datasets/Datasets/EPIC_Kitchen/OpticalFlow/P01_04/v\\frame_6141.jpg due to error: [Errno 2] No such file or directory: 'D:\\\\Datasets\\\\Datasets\\\\EPIC_Kitchen\\\\OpticalFlow\\\\P01_04\\\\v\\\\frame_6141.jpg'\n",
      "Skipping frame: D:/Datasets/Datasets/EPIC_Kitchen/OpticalFlow/P01_04/u\\frame_6146.jpg due to error: [Errno 2] No such file or directory: 'D:\\\\Datasets\\\\Datasets\\\\EPIC_Kitchen\\\\OpticalFlow\\\\P01_04\\\\u\\\\frame_6146.jpg'\n",
      "Skipping frame: D:/Datasets/Datasets/EPIC_Kitchen/OpticalFlow/P01_04/v\\frame_6146.jpg due to error: [Errno 2] No such file or directory: 'D:\\\\Datasets\\\\Datasets\\\\EPIC_Kitchen\\\\OpticalFlow\\\\P01_04\\\\v\\\\frame_6146.jpg'\n"
     ]
    },
    {
     "name": "stderr",
     "output_type": "stream",
     "text": [
      "\r",
      "Extracting Features with DEFT:  98%|█████████████████████████████████████████████▉ | 1233/1262 [02:05<00:01, 22.67it/s]"
     ]
    },
    {
     "name": "stdout",
     "output_type": "stream",
     "text": [
      "Skipping frame: D:/Datasets/Datasets/EPIC_Kitchen/OpticalFlow/P01_04/u\\frame_6151.jpg due to error: [Errno 2] No such file or directory: 'D:\\\\Datasets\\\\Datasets\\\\EPIC_Kitchen\\\\OpticalFlow\\\\P01_04\\\\u\\\\frame_6151.jpg'\n",
      "Skipping frame: D:/Datasets/Datasets/EPIC_Kitchen/OpticalFlow/P01_04/v\\frame_6151.jpg due to error: [Errno 2] No such file or directory: 'D:\\\\Datasets\\\\Datasets\\\\EPIC_Kitchen\\\\OpticalFlow\\\\P01_04\\\\v\\\\frame_6151.jpg'\n",
      "Skipping frame: D:/Datasets/Datasets/EPIC_Kitchen/OpticalFlow/P01_04/u\\frame_6156.jpg due to error: [Errno 2] No such file or directory: 'D:\\\\Datasets\\\\Datasets\\\\EPIC_Kitchen\\\\OpticalFlow\\\\P01_04\\\\u\\\\frame_6156.jpg'\n",
      "Skipping frame: D:/Datasets/Datasets/EPIC_Kitchen/OpticalFlow/P01_04/v\\frame_6156.jpg due to error: [Errno 2] No such file or directory: 'D:\\\\Datasets\\\\Datasets\\\\EPIC_Kitchen\\\\OpticalFlow\\\\P01_04\\\\v\\\\frame_6156.jpg'\n",
      "Skipping frame: D:/Datasets/Datasets/EPIC_Kitchen/OpticalFlow/P01_04/u\\frame_6161.jpg due to error: [Errno 2] No such file or directory: 'D:\\\\Datasets\\\\Datasets\\\\EPIC_Kitchen\\\\OpticalFlow\\\\P01_04\\\\u\\\\frame_6161.jpg'\n",
      "Skipping frame: D:/Datasets/Datasets/EPIC_Kitchen/OpticalFlow/P01_04/v\\frame_6161.jpg due to error: [Errno 2] No such file or directory: 'D:\\\\Datasets\\\\Datasets\\\\EPIC_Kitchen\\\\OpticalFlow\\\\P01_04\\\\v\\\\frame_6161.jpg'\n",
      "Skipping frame: D:/Datasets/Datasets/EPIC_Kitchen/OpticalFlow/P01_04/u\\frame_6166.jpg due to error: [Errno 2] No such file or directory: 'D:\\\\Datasets\\\\Datasets\\\\EPIC_Kitchen\\\\OpticalFlow\\\\P01_04\\\\u\\\\frame_6166.jpg'\n",
      "Skipping frame: D:/Datasets/Datasets/EPIC_Kitchen/OpticalFlow/P01_04/v\\frame_6166.jpg due to error: [Errno 2] No such file or directory: 'D:\\\\Datasets\\\\Datasets\\\\EPIC_Kitchen\\\\OpticalFlow\\\\P01_04\\\\v\\\\frame_6166.jpg'\n",
      "Skipping frame: D:/Datasets/Datasets/EPIC_Kitchen/OpticalFlow/P01_04/u\\frame_6171.jpg due to error: [Errno 2] No such file or directory: 'D:\\\\Datasets\\\\Datasets\\\\EPIC_Kitchen\\\\OpticalFlow\\\\P01_04\\\\u\\\\frame_6171.jpg'\n",
      "Skipping frame: D:/Datasets/Datasets/EPIC_Kitchen/OpticalFlow/P01_04/v\\frame_6171.jpg due to error: [Errno 2] No such file or directory: 'D:\\\\Datasets\\\\Datasets\\\\EPIC_Kitchen\\\\OpticalFlow\\\\P01_04\\\\v\\\\frame_6171.jpg'\n"
     ]
    },
    {
     "name": "stderr",
     "output_type": "stream",
     "text": [
      "Extracting Features with DEFT:  98%|██████████████████████████████████████████████▏| 1239/1262 [02:05<00:00, 23.11it/s]"
     ]
    },
    {
     "name": "stdout",
     "output_type": "stream",
     "text": [
      "Skipping frame: D:/Datasets/Datasets/EPIC_Kitchen/OpticalFlow/P01_04/u\\frame_6176.jpg due to error: [Errno 2] No such file or directory: 'D:\\\\Datasets\\\\Datasets\\\\EPIC_Kitchen\\\\OpticalFlow\\\\P01_04\\\\u\\\\frame_6176.jpg'\n",
      "Skipping frame: D:/Datasets/Datasets/EPIC_Kitchen/OpticalFlow/P01_04/v\\frame_6176.jpg due to error: [Errno 2] No such file or directory: 'D:\\\\Datasets\\\\Datasets\\\\EPIC_Kitchen\\\\OpticalFlow\\\\P01_04\\\\v\\\\frame_6176.jpg'\n",
      "Skipping frame: D:/Datasets/Datasets/EPIC_Kitchen/OpticalFlow/P01_04/u\\frame_6181.jpg due to error: [Errno 2] No such file or directory: 'D:\\\\Datasets\\\\Datasets\\\\EPIC_Kitchen\\\\OpticalFlow\\\\P01_04\\\\u\\\\frame_6181.jpg'\n",
      "Skipping frame: D:/Datasets/Datasets/EPIC_Kitchen/OpticalFlow/P01_04/v\\frame_6181.jpg due to error: [Errno 2] No such file or directory: 'D:\\\\Datasets\\\\Datasets\\\\EPIC_Kitchen\\\\OpticalFlow\\\\P01_04\\\\v\\\\frame_6181.jpg'\n",
      "Skipping frame: D:/Datasets/Datasets/EPIC_Kitchen/OpticalFlow/P01_04/u\\frame_6186.jpg due to error: [Errno 2] No such file or directory: 'D:\\\\Datasets\\\\Datasets\\\\EPIC_Kitchen\\\\OpticalFlow\\\\P01_04\\\\u\\\\frame_6186.jpg'\n",
      "Skipping frame: D:/Datasets/Datasets/EPIC_Kitchen/OpticalFlow/P01_04/v\\frame_6186.jpg due to error: [Errno 2] No such file or directory: 'D:\\\\Datasets\\\\Datasets\\\\EPIC_Kitchen\\\\OpticalFlow\\\\P01_04\\\\v\\\\frame_6186.jpg'\n",
      "Skipping frame: D:/Datasets/Datasets/EPIC_Kitchen/OpticalFlow/P01_04/u\\frame_6191.jpg due to error: [Errno 2] No such file or directory: 'D:\\\\Datasets\\\\Datasets\\\\EPIC_Kitchen\\\\OpticalFlow\\\\P01_04\\\\u\\\\frame_6191.jpg'\n",
      "Skipping frame: D:/Datasets/Datasets/EPIC_Kitchen/OpticalFlow/P01_04/v\\frame_6191.jpg due to error: [Errno 2] No such file or directory: 'D:\\\\Datasets\\\\Datasets\\\\EPIC_Kitchen\\\\OpticalFlow\\\\P01_04\\\\v\\\\frame_6191.jpg'\n",
      "Skipping frame: D:/Datasets/Datasets/EPIC_Kitchen/OpticalFlow/P01_04/u\\frame_6196.jpg due to error: [Errno 2] No such file or directory: 'D:\\\\Datasets\\\\Datasets\\\\EPIC_Kitchen\\\\OpticalFlow\\\\P01_04\\\\u\\\\frame_6196.jpg'\n",
      "Skipping frame: D:/Datasets/Datasets/EPIC_Kitchen/OpticalFlow/P01_04/v\\frame_6196.jpg due to error: [Errno 2] No such file or directory: 'D:\\\\Datasets\\\\Datasets\\\\EPIC_Kitchen\\\\OpticalFlow\\\\P01_04\\\\v\\\\frame_6196.jpg'\n"
     ]
    },
    {
     "name": "stderr",
     "output_type": "stream",
     "text": [
      "Extracting Features with DEFT:  99%|██████████████████████████████████████████████▎| 1245/1262 [02:06<00:00, 22.46it/s]"
     ]
    },
    {
     "name": "stdout",
     "output_type": "stream",
     "text": [
      "Skipping frame: D:/Datasets/Datasets/EPIC_Kitchen/OpticalFlow/P01_04/u\\frame_6201.jpg due to error: [Errno 2] No such file or directory: 'D:\\\\Datasets\\\\Datasets\\\\EPIC_Kitchen\\\\OpticalFlow\\\\P01_04\\\\u\\\\frame_6201.jpg'\n",
      "Skipping frame: D:/Datasets/Datasets/EPIC_Kitchen/OpticalFlow/P01_04/v\\frame_6201.jpg due to error: [Errno 2] No such file or directory: 'D:\\\\Datasets\\\\Datasets\\\\EPIC_Kitchen\\\\OpticalFlow\\\\P01_04\\\\v\\\\frame_6201.jpg'\n",
      "Skipping frame: D:/Datasets/Datasets/EPIC_Kitchen/OpticalFlow/P01_04/u\\frame_6206.jpg due to error: [Errno 2] No such file or directory: 'D:\\\\Datasets\\\\Datasets\\\\EPIC_Kitchen\\\\OpticalFlow\\\\P01_04\\\\u\\\\frame_6206.jpg'\n",
      "Skipping frame: D:/Datasets/Datasets/EPIC_Kitchen/OpticalFlow/P01_04/v\\frame_6206.jpg due to error: [Errno 2] No such file or directory: 'D:\\\\Datasets\\\\Datasets\\\\EPIC_Kitchen\\\\OpticalFlow\\\\P01_04\\\\v\\\\frame_6206.jpg'\n",
      "Skipping frame: D:/Datasets/Datasets/EPIC_Kitchen/OpticalFlow/P01_04/u\\frame_6211.jpg due to error: [Errno 2] No such file or directory: 'D:\\\\Datasets\\\\Datasets\\\\EPIC_Kitchen\\\\OpticalFlow\\\\P01_04\\\\u\\\\frame_6211.jpg'\n",
      "Skipping frame: D:/Datasets/Datasets/EPIC_Kitchen/OpticalFlow/P01_04/v\\frame_6211.jpg due to error: [Errno 2] No such file or directory: 'D:\\\\Datasets\\\\Datasets\\\\EPIC_Kitchen\\\\OpticalFlow\\\\P01_04\\\\v\\\\frame_6211.jpg'\n",
      "Skipping frame: D:/Datasets/Datasets/EPIC_Kitchen/OpticalFlow/P01_04/u\\frame_6216.jpg due to error: [Errno 2] No such file or directory: 'D:\\\\Datasets\\\\Datasets\\\\EPIC_Kitchen\\\\OpticalFlow\\\\P01_04\\\\u\\\\frame_6216.jpg'\n",
      "Skipping frame: D:/Datasets/Datasets/EPIC_Kitchen/OpticalFlow/P01_04/v\\frame_6216.jpg due to error: [Errno 2] No such file or directory: 'D:\\\\Datasets\\\\Datasets\\\\EPIC_Kitchen\\\\OpticalFlow\\\\P01_04\\\\v\\\\frame_6216.jpg'\n",
      "Skipping frame: D:/Datasets/Datasets/EPIC_Kitchen/OpticalFlow/P01_04/u\\frame_6221.jpg due to error: [Errno 2] No such file or directory: 'D:\\\\Datasets\\\\Datasets\\\\EPIC_Kitchen\\\\OpticalFlow\\\\P01_04\\\\u\\\\frame_6221.jpg'\n",
      "Skipping frame: D:/Datasets/Datasets/EPIC_Kitchen/OpticalFlow/P01_04/v\\frame_6221.jpg due to error: [Errno 2] No such file or directory: 'D:\\\\Datasets\\\\Datasets\\\\EPIC_Kitchen\\\\OpticalFlow\\\\P01_04\\\\v\\\\frame_6221.jpg'\n"
     ]
    },
    {
     "name": "stderr",
     "output_type": "stream",
     "text": [
      "\r",
      "Extracting Features with DEFT:  99%|██████████████████████████████████████████████▍| 1248/1262 [02:06<00:00, 21.40it/s]"
     ]
    },
    {
     "name": "stdout",
     "output_type": "stream",
     "text": [
      "Skipping frame: D:/Datasets/Datasets/EPIC_Kitchen/OpticalFlow/P01_04/u\\frame_6226.jpg due to error: [Errno 2] No such file or directory: 'D:\\\\Datasets\\\\Datasets\\\\EPIC_Kitchen\\\\OpticalFlow\\\\P01_04\\\\u\\\\frame_6226.jpg'\n",
      "Skipping frame: D:/Datasets/Datasets/EPIC_Kitchen/OpticalFlow/P01_04/v\\frame_6226.jpg due to error: [Errno 2] No such file or directory: 'D:\\\\Datasets\\\\Datasets\\\\EPIC_Kitchen\\\\OpticalFlow\\\\P01_04\\\\v\\\\frame_6226.jpg'\n",
      "Skipping frame: D:/Datasets/Datasets/EPIC_Kitchen/OpticalFlow/P01_04/u\\frame_6231.jpg due to error: [Errno 2] No such file or directory: 'D:\\\\Datasets\\\\Datasets\\\\EPIC_Kitchen\\\\OpticalFlow\\\\P01_04\\\\u\\\\frame_6231.jpg'\n",
      "Skipping frame: D:/Datasets/Datasets/EPIC_Kitchen/OpticalFlow/P01_04/v\\frame_6231.jpg due to error: [Errno 2] No such file or directory: 'D:\\\\Datasets\\\\Datasets\\\\EPIC_Kitchen\\\\OpticalFlow\\\\P01_04\\\\v\\\\frame_6231.jpg'\n",
      "Skipping frame: D:/Datasets/Datasets/EPIC_Kitchen/OpticalFlow/P01_04/u\\frame_6236.jpg due to error: [Errno 2] No such file or directory: 'D:\\\\Datasets\\\\Datasets\\\\EPIC_Kitchen\\\\OpticalFlow\\\\P01_04\\\\u\\\\frame_6236.jpg'\n",
      "Skipping frame: D:/Datasets/Datasets/EPIC_Kitchen/OpticalFlow/P01_04/v\\frame_6236.jpg due to error: [Errno 2] No such file or directory: 'D:\\\\Datasets\\\\Datasets\\\\EPIC_Kitchen\\\\OpticalFlow\\\\P01_04\\\\v\\\\frame_6236.jpg'\n",
      "Skipping frame: D:/Datasets/Datasets/EPIC_Kitchen/OpticalFlow/P01_04/u\\frame_6241.jpg due to error: [Errno 2] No such file or directory: 'D:\\\\Datasets\\\\Datasets\\\\EPIC_Kitchen\\\\OpticalFlow\\\\P01_04\\\\u\\\\frame_6241.jpg'\n",
      "Skipping frame: D:/Datasets/Datasets/EPIC_Kitchen/OpticalFlow/P01_04/v\\frame_6241.jpg due to error: [Errno 2] No such file or directory: 'D:\\\\Datasets\\\\Datasets\\\\EPIC_Kitchen\\\\OpticalFlow\\\\P01_04\\\\v\\\\frame_6241.jpg'\n",
      "Skipping frame: D:/Datasets/Datasets/EPIC_Kitchen/OpticalFlow/P01_04/u\\frame_6246.jpg due to error: [Errno 2] No such file or directory: 'D:\\\\Datasets\\\\Datasets\\\\EPIC_Kitchen\\\\OpticalFlow\\\\P01_04\\\\u\\\\frame_6246.jpg'\n",
      "Skipping frame: D:/Datasets/Datasets/EPIC_Kitchen/OpticalFlow/P01_04/v\\frame_6246.jpg due to error: [Errno 2] No such file or directory: 'D:\\\\Datasets\\\\Datasets\\\\EPIC_Kitchen\\\\OpticalFlow\\\\P01_04\\\\v\\\\frame_6246.jpg'\n"
     ]
    },
    {
     "name": "stderr",
     "output_type": "stream",
     "text": [
      "Extracting Features with DEFT:  99%|██████████████████████████████████████████████▋| 1254/1262 [02:06<00:00, 21.79it/s]"
     ]
    },
    {
     "name": "stdout",
     "output_type": "stream",
     "text": [
      "Skipping frame: D:/Datasets/Datasets/EPIC_Kitchen/OpticalFlow/P01_04/u\\frame_6251.jpg due to error: [Errno 2] No such file or directory: 'D:\\\\Datasets\\\\Datasets\\\\EPIC_Kitchen\\\\OpticalFlow\\\\P01_04\\\\u\\\\frame_6251.jpg'\n",
      "Skipping frame: D:/Datasets/Datasets/EPIC_Kitchen/OpticalFlow/P01_04/v\\frame_6251.jpg due to error: [Errno 2] No such file or directory: 'D:\\\\Datasets\\\\Datasets\\\\EPIC_Kitchen\\\\OpticalFlow\\\\P01_04\\\\v\\\\frame_6251.jpg'\n",
      "Skipping frame: D:/Datasets/Datasets/EPIC_Kitchen/OpticalFlow/P01_04/u\\frame_6256.jpg due to error: [Errno 2] No such file or directory: 'D:\\\\Datasets\\\\Datasets\\\\EPIC_Kitchen\\\\OpticalFlow\\\\P01_04\\\\u\\\\frame_6256.jpg'\n",
      "Skipping frame: D:/Datasets/Datasets/EPIC_Kitchen/OpticalFlow/P01_04/v\\frame_6256.jpg due to error: [Errno 2] No such file or directory: 'D:\\\\Datasets\\\\Datasets\\\\EPIC_Kitchen\\\\OpticalFlow\\\\P01_04\\\\v\\\\frame_6256.jpg'\n",
      "Skipping frame: D:/Datasets/Datasets/EPIC_Kitchen/OpticalFlow/P01_04/u\\frame_6261.jpg due to error: [Errno 2] No such file or directory: 'D:\\\\Datasets\\\\Datasets\\\\EPIC_Kitchen\\\\OpticalFlow\\\\P01_04\\\\u\\\\frame_6261.jpg'\n",
      "Skipping frame: D:/Datasets/Datasets/EPIC_Kitchen/OpticalFlow/P01_04/v\\frame_6261.jpg due to error: [Errno 2] No such file or directory: 'D:\\\\Datasets\\\\Datasets\\\\EPIC_Kitchen\\\\OpticalFlow\\\\P01_04\\\\v\\\\frame_6261.jpg'\n",
      "Skipping frame: D:/Datasets/Datasets/EPIC_Kitchen/OpticalFlow/P01_04/u\\frame_6266.jpg due to error: [Errno 2] No such file or directory: 'D:\\\\Datasets\\\\Datasets\\\\EPIC_Kitchen\\\\OpticalFlow\\\\P01_04\\\\u\\\\frame_6266.jpg'\n",
      "Skipping frame: D:/Datasets/Datasets/EPIC_Kitchen/OpticalFlow/P01_04/v\\frame_6266.jpg due to error: [Errno 2] No such file or directory: 'D:\\\\Datasets\\\\Datasets\\\\EPIC_Kitchen\\\\OpticalFlow\\\\P01_04\\\\v\\\\frame_6266.jpg'\n",
      "Skipping frame: D:/Datasets/Datasets/EPIC_Kitchen/OpticalFlow/P01_04/u\\frame_6271.jpg due to error: [Errno 2] No such file or directory: 'D:\\\\Datasets\\\\Datasets\\\\EPIC_Kitchen\\\\OpticalFlow\\\\P01_04\\\\u\\\\frame_6271.jpg'\n",
      "Skipping frame: D:/Datasets/Datasets/EPIC_Kitchen/OpticalFlow/P01_04/v\\frame_6271.jpg due to error: [Errno 2] No such file or directory: 'D:\\\\Datasets\\\\Datasets\\\\EPIC_Kitchen\\\\OpticalFlow\\\\P01_04\\\\v\\\\frame_6271.jpg'\n"
     ]
    },
    {
     "name": "stderr",
     "output_type": "stream",
     "text": [
      "Extracting Features with DEFT: 100%|██████████████████████████████████████████████▉| 1260/1262 [02:06<00:00, 22.51it/s]"
     ]
    },
    {
     "name": "stdout",
     "output_type": "stream",
     "text": [
      "Skipping frame: D:/Datasets/Datasets/EPIC_Kitchen/OpticalFlow/P01_04/u\\frame_6276.jpg due to error: [Errno 2] No such file or directory: 'D:\\\\Datasets\\\\Datasets\\\\EPIC_Kitchen\\\\OpticalFlow\\\\P01_04\\\\u\\\\frame_6276.jpg'\n",
      "Skipping frame: D:/Datasets/Datasets/EPIC_Kitchen/OpticalFlow/P01_04/v\\frame_6276.jpg due to error: [Errno 2] No such file or directory: 'D:\\\\Datasets\\\\Datasets\\\\EPIC_Kitchen\\\\OpticalFlow\\\\P01_04\\\\v\\\\frame_6276.jpg'\n",
      "Skipping frame: D:/Datasets/Datasets/EPIC_Kitchen/OpticalFlow/P01_04/u\\frame_6281.jpg due to error: [Errno 2] No such file or directory: 'D:\\\\Datasets\\\\Datasets\\\\EPIC_Kitchen\\\\OpticalFlow\\\\P01_04\\\\u\\\\frame_6281.jpg'\n",
      "Skipping frame: D:/Datasets/Datasets/EPIC_Kitchen/OpticalFlow/P01_04/v\\frame_6281.jpg due to error: [Errno 2] No such file or directory: 'D:\\\\Datasets\\\\Datasets\\\\EPIC_Kitchen\\\\OpticalFlow\\\\P01_04\\\\v\\\\frame_6281.jpg'\n",
      "Skipping frame: D:/Datasets/Datasets/EPIC_Kitchen/OpticalFlow/P01_04/u\\frame_6286.jpg due to error: [Errno 2] No such file or directory: 'D:\\\\Datasets\\\\Datasets\\\\EPIC_Kitchen\\\\OpticalFlow\\\\P01_04\\\\u\\\\frame_6286.jpg'\n",
      "Skipping frame: D:/Datasets/Datasets/EPIC_Kitchen/OpticalFlow/P01_04/v\\frame_6286.jpg due to error: [Errno 2] No such file or directory: 'D:\\\\Datasets\\\\Datasets\\\\EPIC_Kitchen\\\\OpticalFlow\\\\P01_04\\\\v\\\\frame_6286.jpg'\n",
      "Skipping frame: D:/Datasets/Datasets/EPIC_Kitchen/OpticalFlow/P01_04/u\\frame_6291.jpg due to error: [Errno 2] No such file or directory: 'D:\\\\Datasets\\\\Datasets\\\\EPIC_Kitchen\\\\OpticalFlow\\\\P01_04\\\\u\\\\frame_6291.jpg'\n",
      "Skipping frame: D:/Datasets/Datasets/EPIC_Kitchen/OpticalFlow/P01_04/v\\frame_6291.jpg due to error: [Errno 2] No such file or directory: 'D:\\\\Datasets\\\\Datasets\\\\EPIC_Kitchen\\\\OpticalFlow\\\\P01_04\\\\v\\\\frame_6291.jpg'\n",
      "Skipping frame: D:/Datasets/Datasets/EPIC_Kitchen/OpticalFlow/P01_04/u\\frame_6296.jpg due to error: [Errno 2] No such file or directory: 'D:\\\\Datasets\\\\Datasets\\\\EPIC_Kitchen\\\\OpticalFlow\\\\P01_04\\\\u\\\\frame_6296.jpg'\n",
      "Skipping frame: D:/Datasets/Datasets/EPIC_Kitchen/OpticalFlow/P01_04/v\\frame_6296.jpg due to error: [Errno 2] No such file or directory: 'D:\\\\Datasets\\\\Datasets\\\\EPIC_Kitchen\\\\OpticalFlow\\\\P01_04\\\\v\\\\frame_6296.jpg'\n"
     ]
    },
    {
     "name": "stderr",
     "output_type": "stream",
     "text": [
      "Extracting Features with DEFT: 100%|███████████████████████████████████████████████| 1262/1262 [02:06<00:00,  9.94it/s]\n"
     ]
    },
    {
     "name": "stdout",
     "output_type": "stream",
     "text": [
      "Skipping frame: D:/Datasets/Datasets/EPIC_Kitchen/OpticalFlow/P01_04/u\\frame_6301.jpg due to error: [Errno 2] No such file or directory: 'D:\\\\Datasets\\\\Datasets\\\\EPIC_Kitchen\\\\OpticalFlow\\\\P01_04\\\\u\\\\frame_6301.jpg'\n",
      "Skipping frame: D:/Datasets/Datasets/EPIC_Kitchen/OpticalFlow/P01_04/v\\frame_6301.jpg due to error: [Errno 2] No such file or directory: 'D:\\\\Datasets\\\\Datasets\\\\EPIC_Kitchen\\\\OpticalFlow\\\\P01_04\\\\v\\\\frame_6301.jpg'\n",
      "Skipping frame: D:/Datasets/Datasets/EPIC_Kitchen/OpticalFlow/P01_04/u\\frame_6306.jpg due to error: [Errno 2] No such file or directory: 'D:\\\\Datasets\\\\Datasets\\\\EPIC_Kitchen\\\\OpticalFlow\\\\P01_04\\\\u\\\\frame_6306.jpg'\n",
      "Skipping frame: D:/Datasets/Datasets/EPIC_Kitchen/OpticalFlow/P01_04/v\\frame_6306.jpg due to error: [Errno 2] No such file or directory: 'D:\\\\Datasets\\\\Datasets\\\\EPIC_Kitchen\\\\OpticalFlow\\\\P01_04\\\\v\\\\frame_6306.jpg'\n",
      "Feature extraction completed! Saved to Features/Feature_P01_04_with_DEFT_EfficeintNet.csv\n"
     ]
    }
   ],
   "source": [
    "\n",
    "###########################################################\n",
    "# Extract Features with DEFT & Save\n",
    "###########################################################\n",
    "S = 5  # Sampling every 5th frame\n",
    "features_list = []\n",
    "\n",
    "all_frames = sorted(os.listdir(rgb_path))[::S]\n",
    "\n",
    "for frame in tqdm(all_frames, desc=\"Extracting Features with DEFT\"):\n",
    "    rgb_frame_path = os.path.join(rgb_path, frame)\n",
    "    flow_u_frame_path = os.path.join(flow_u_path, frame)\n",
    "    flow_v_frame_path = os.path.join(flow_v_path, frame)\n",
    "    \n",
    "    rgb_features = extract_features(rgb_frame_path, transform, device)\n",
    "    flow_u_features = extract_features(flow_u_frame_path, transform, device)\n",
    "    flow_v_features = extract_features(flow_v_frame_path, transform, device)\n",
    "    \n",
    "    if rgb_features is not None and flow_u_features is not None and flow_v_features is not None:\n",
    "        combined_features = np.concatenate([rgb_features, flow_u_features, flow_v_features])\n",
    "        \n",
    "        frame_number = int(frame.split('_')[-1].split('.')[0])\n",
    "        label_row = labels_df[(labels_df['StartFrame'] <= frame_number) & (labels_df['EndFrame'] >= frame_number)]\n",
    "        \n",
    "        if not label_row.empty:\n",
    "            verb_class = label_row.iloc[0]['Verb_class']\n",
    "            noun_class = label_row.iloc[0]['Noun_class']\n",
    "            action_class = label_row.iloc[0]['Action_class']\n",
    "        else:\n",
    "            verb_class, noun_class, action_class = 0, 0, 0  # Default if no label found\n",
    "        \n",
    "        features_list.append([frame, verb_class, noun_class, action_class] + combined_features.tolist())\n",
    "\n",
    "if len(features_list) == 0:\n",
    "    raise ValueError(\"No valid features extracted. Please check the dataset paths and feature extraction function.\")\n",
    "\n",
    "columns = [\"Frame\", \"Verb_class\", \"Noun_class\", \"Action_class\"] + [f\"Feature_{i}\" for i in range(len(combined_features))]\n",
    "df = pd.DataFrame(features_list, columns=columns)\n",
    "df.to_csv(output_csv, index=False)\n",
    "\n",
    "print(f\"Feature extraction completed! Saved to {output_csv}\")"
   ]
  },
  {
   "cell_type": "code",
   "execution_count": 17,
   "id": "65b868b0",
   "metadata": {},
   "outputs": [
    {
     "data": {
      "text/html": [
       "<div>\n",
       "<style scoped>\n",
       "    .dataframe tbody tr th:only-of-type {\n",
       "        vertical-align: middle;\n",
       "    }\n",
       "\n",
       "    .dataframe tbody tr th {\n",
       "        vertical-align: top;\n",
       "    }\n",
       "\n",
       "    .dataframe thead th {\n",
       "        text-align: right;\n",
       "    }\n",
       "</style>\n",
       "<table border=\"1\" class=\"dataframe\">\n",
       "  <thead>\n",
       "    <tr style=\"text-align: right;\">\n",
       "      <th></th>\n",
       "      <th>Frame</th>\n",
       "      <th>Verb_class</th>\n",
       "      <th>Noun_class</th>\n",
       "      <th>Action_class</th>\n",
       "      <th>Feature_0</th>\n",
       "      <th>Feature_1</th>\n",
       "      <th>Feature_2</th>\n",
       "      <th>Feature_3</th>\n",
       "      <th>Feature_4</th>\n",
       "      <th>Feature_5</th>\n",
       "      <th>...</th>\n",
       "      <th>Feature_3830</th>\n",
       "      <th>Feature_3831</th>\n",
       "      <th>Feature_3832</th>\n",
       "      <th>Feature_3833</th>\n",
       "      <th>Feature_3834</th>\n",
       "      <th>Feature_3835</th>\n",
       "      <th>Feature_3836</th>\n",
       "      <th>Feature_3837</th>\n",
       "      <th>Feature_3838</th>\n",
       "      <th>Feature_3839</th>\n",
       "    </tr>\n",
       "  </thead>\n",
       "  <tbody>\n",
       "    <tr>\n",
       "      <th>0</th>\n",
       "      <td>frame_0001.jpg</td>\n",
       "      <td>0</td>\n",
       "      <td>0</td>\n",
       "      <td>0</td>\n",
       "      <td>[[-0.27609261870384216, -0.24000152945518494, ...</td>\n",
       "      <td>[[-0.27476951479911804, -0.25143420696258545, ...</td>\n",
       "      <td>[[-0.21899963915348053, -0.27313345670700073, ...</td>\n",
       "      <td>[[1.3381232023239136, 1.811214566230774, -0.24...</td>\n",
       "      <td>[[-0.10137911885976791, 0.997386634349823, 0.6...</td>\n",
       "      <td>[[-0.16131477057933807, -0.1400669813156128, -...</td>\n",
       "      <td>...</td>\n",
       "      <td>[[-0.10623680055141449, -0.046144016087055206,...</td>\n",
       "      <td>[[-0.21481752395629883, -0.21509313583374023, ...</td>\n",
       "      <td>[[-0.2603641152381897, -0.2612024247646332, -0...</td>\n",
       "      <td>[[-0.2783890962600708, -0.22564250230789185, -...</td>\n",
       "      <td>[[0.3416678309440613, -0.030438769608736038, -...</td>\n",
       "      <td>[[-0.2781553268432617, -0.27739906311035156, -...</td>\n",
       "      <td>[[-0.044042691588401794, -0.056324735283851624...</td>\n",
       "      <td>[[-0.09532679617404938, -0.14911344647407532, ...</td>\n",
       "      <td>[[-0.06893198192119598, -0.08556965738534927, ...</td>\n",
       "      <td>[[-0.06898965686559677, -0.23151248693466187, ...</td>\n",
       "    </tr>\n",
       "    <tr>\n",
       "      <th>1</th>\n",
       "      <td>frame_0006.jpg</td>\n",
       "      <td>0</td>\n",
       "      <td>23</td>\n",
       "      <td>0</td>\n",
       "      <td>[[-0.2593151926994324, -0.27424830198287964, -...</td>\n",
       "      <td>[[-0.2690913677215576, -0.10927192121744156, -...</td>\n",
       "      <td>[[-0.2726871371269226, -0.2476004660129547, -0...</td>\n",
       "      <td>[[0.3025946617126465, 1.39057457447052, -0.196...</td>\n",
       "      <td>[[-0.27489036321640015, 0.6196507215499878, 0....</td>\n",
       "      <td>[[-0.08892244845628738, -0.08882885426282883, ...</td>\n",
       "      <td>...</td>\n",
       "      <td>[[-0.10592396557331085, -0.06381741911172867, ...</td>\n",
       "      <td>[[-0.22839494049549103, -0.23177215456962585, ...</td>\n",
       "      <td>[[-0.25840067863464355, -0.2517848014831543, -...</td>\n",
       "      <td>[[-0.24809551239013672, -0.20576989650726318, ...</td>\n",
       "      <td>[[0.5891271829605103, 0.33143290877342224, 0.0...</td>\n",
       "      <td>[[-0.2773369550704956, -0.27842792868614197, -...</td>\n",
       "      <td>[[-0.130727156996727, -0.11378748714923859, -0...</td>\n",
       "      <td>[[-0.1443222016096115, -0.20034503936767578, -...</td>\n",
       "      <td>[[-0.15371060371398926, -0.1452828198671341, -...</td>\n",
       "      <td>[[-0.246071919798851, -0.27710291743278503, -0...</td>\n",
       "    </tr>\n",
       "    <tr>\n",
       "      <th>2</th>\n",
       "      <td>frame_0011.jpg</td>\n",
       "      <td>0</td>\n",
       "      <td>23</td>\n",
       "      <td>0</td>\n",
       "      <td>[[-0.2162872850894928, -0.27826768159866333, -...</td>\n",
       "      <td>[[-0.1949491649866104, -0.25145697593688965, -...</td>\n",
       "      <td>[[-0.2716781198978424, -0.2610386312007904, -0...</td>\n",
       "      <td>[[1.8685377836227417, 2.7821807861328125, -0.2...</td>\n",
       "      <td>[[-0.2756406366825104, 0.4594043493270874, 0.1...</td>\n",
       "      <td>[[-0.04171503707766533, -0.023413926362991333,...</td>\n",
       "      <td>...</td>\n",
       "      <td>[[-0.09079635143280029, -0.05278758332133293, ...</td>\n",
       "      <td>[[-0.21315327286720276, -0.17192237079143524, ...</td>\n",
       "      <td>[[-0.2725071310997009, -0.2474503517150879, -0...</td>\n",
       "      <td>[[-0.19143331050872803, -0.1720520555973053, -...</td>\n",
       "      <td>[[-0.053092531859874725, 0.00668907118961215, ...</td>\n",
       "      <td>[[-0.2665853500366211, -0.2735857665538788, -0...</td>\n",
       "      <td>[[-0.07383954524993896, -0.0642632246017456, -...</td>\n",
       "      <td>[[-0.1707826405763626, -0.22282925248146057, -...</td>\n",
       "      <td>[[-0.07479698210954666, -0.06356610357761383, ...</td>\n",
       "      <td>[[-0.26254141330718994, -0.2759663462638855, -...</td>\n",
       "    </tr>\n",
       "    <tr>\n",
       "      <th>3</th>\n",
       "      <td>frame_0016.jpg</td>\n",
       "      <td>0</td>\n",
       "      <td>23</td>\n",
       "      <td>0</td>\n",
       "      <td>[[-0.2771293520927429, -0.22459712624549866, -...</td>\n",
       "      <td>[[-0.10857917368412018, -0.27440589666366577, ...</td>\n",
       "      <td>[[-0.2085351049900055, -0.2739635109901428, -0...</td>\n",
       "      <td>[[2.0774118900299072, 3.2869203090667725, -0.2...</td>\n",
       "      <td>[[-0.27205410599708557, 0.3410997688770294, 0....</td>\n",
       "      <td>[[-0.030833881348371506, -0.02125934325158596,...</td>\n",
       "      <td>...</td>\n",
       "      <td>[[-0.08019565045833588, -0.06581227481365204, ...</td>\n",
       "      <td>[[-0.18439136445522308, -0.17940396070480347, ...</td>\n",
       "      <td>[[-0.26589855551719666, -0.26821744441986084, ...</td>\n",
       "      <td>[[-0.25372686982154846, -0.195384219288826, -0...</td>\n",
       "      <td>[[1.1503969430923462, 0.8751243352890015, 0.48...</td>\n",
       "      <td>[[-0.276060551404953, -0.26312726736068726, -0...</td>\n",
       "      <td>[[-0.0597376711666584, -0.061445701867341995, ...</td>\n",
       "      <td>[[-0.10821087658405304, -0.20947474241256714, ...</td>\n",
       "      <td>[[-0.053630854934453964, -0.055131249129772186...</td>\n",
       "      <td>[[-0.2035675346851349, -0.2541123330593109, -0...</td>\n",
       "    </tr>\n",
       "    <tr>\n",
       "      <th>4</th>\n",
       "      <td>frame_0021.jpg</td>\n",
       "      <td>0</td>\n",
       "      <td>23</td>\n",
       "      <td>0</td>\n",
       "      <td>[[-0.2736303508281708, -0.24842281639575958, -...</td>\n",
       "      <td>[[-0.23241643607616425, -0.25125932693481445, ...</td>\n",
       "      <td>[[-0.2677171528339386, -0.2522038519382477, -0...</td>\n",
       "      <td>[[3.0009233951568604, 4.100025177001953, -0.27...</td>\n",
       "      <td>[[-0.19067443907260895, 0.4332495927810669, 0....</td>\n",
       "      <td>[[-0.04865620285272598, -0.018251102417707443,...</td>\n",
       "      <td>...</td>\n",
       "      <td>[[-0.06634435802698135, -0.07082716375589371, ...</td>\n",
       "      <td>[[-0.2063218057155609, -0.19382299482822418, -...</td>\n",
       "      <td>[[-0.2321418970823288, -0.2100829780101776, -0...</td>\n",
       "      <td>[[-0.2368810921907425, -0.20372779667377472, -...</td>\n",
       "      <td>[[0.48677751421928406, 0.3012494146823883, 0.2...</td>\n",
       "      <td>[[-0.2730487585067749, -0.26715001463890076, -...</td>\n",
       "      <td>[[-0.04918256774544716, -0.059932686388492584,...</td>\n",
       "      <td>[[-0.08714888244867325, -0.16791151463985443, ...</td>\n",
       "      <td>[[-0.05002780258655548, -0.05553240329027176, ...</td>\n",
       "      <td>[[-0.12030476331710815, -0.25190621614456177, ...</td>\n",
       "    </tr>\n",
       "  </tbody>\n",
       "</table>\n",
       "<p>5 rows × 3844 columns</p>\n",
       "</div>"
      ],
      "text/plain": [
       "            Frame  Verb_class  Noun_class  Action_class  \\\n",
       "0  frame_0001.jpg           0           0             0   \n",
       "1  frame_0006.jpg           0          23             0   \n",
       "2  frame_0011.jpg           0          23             0   \n",
       "3  frame_0016.jpg           0          23             0   \n",
       "4  frame_0021.jpg           0          23             0   \n",
       "\n",
       "                                           Feature_0  \\\n",
       "0  [[-0.27609261870384216, -0.24000152945518494, ...   \n",
       "1  [[-0.2593151926994324, -0.27424830198287964, -...   \n",
       "2  [[-0.2162872850894928, -0.27826768159866333, -...   \n",
       "3  [[-0.2771293520927429, -0.22459712624549866, -...   \n",
       "4  [[-0.2736303508281708, -0.24842281639575958, -...   \n",
       "\n",
       "                                           Feature_1  \\\n",
       "0  [[-0.27476951479911804, -0.25143420696258545, ...   \n",
       "1  [[-0.2690913677215576, -0.10927192121744156, -...   \n",
       "2  [[-0.1949491649866104, -0.25145697593688965, -...   \n",
       "3  [[-0.10857917368412018, -0.27440589666366577, ...   \n",
       "4  [[-0.23241643607616425, -0.25125932693481445, ...   \n",
       "\n",
       "                                           Feature_2  \\\n",
       "0  [[-0.21899963915348053, -0.27313345670700073, ...   \n",
       "1  [[-0.2726871371269226, -0.2476004660129547, -0...   \n",
       "2  [[-0.2716781198978424, -0.2610386312007904, -0...   \n",
       "3  [[-0.2085351049900055, -0.2739635109901428, -0...   \n",
       "4  [[-0.2677171528339386, -0.2522038519382477, -0...   \n",
       "\n",
       "                                           Feature_3  \\\n",
       "0  [[1.3381232023239136, 1.811214566230774, -0.24...   \n",
       "1  [[0.3025946617126465, 1.39057457447052, -0.196...   \n",
       "2  [[1.8685377836227417, 2.7821807861328125, -0.2...   \n",
       "3  [[2.0774118900299072, 3.2869203090667725, -0.2...   \n",
       "4  [[3.0009233951568604, 4.100025177001953, -0.27...   \n",
       "\n",
       "                                           Feature_4  \\\n",
       "0  [[-0.10137911885976791, 0.997386634349823, 0.6...   \n",
       "1  [[-0.27489036321640015, 0.6196507215499878, 0....   \n",
       "2  [[-0.2756406366825104, 0.4594043493270874, 0.1...   \n",
       "3  [[-0.27205410599708557, 0.3410997688770294, 0....   \n",
       "4  [[-0.19067443907260895, 0.4332495927810669, 0....   \n",
       "\n",
       "                                           Feature_5  ...  \\\n",
       "0  [[-0.16131477057933807, -0.1400669813156128, -...  ...   \n",
       "1  [[-0.08892244845628738, -0.08882885426282883, ...  ...   \n",
       "2  [[-0.04171503707766533, -0.023413926362991333,...  ...   \n",
       "3  [[-0.030833881348371506, -0.02125934325158596,...  ...   \n",
       "4  [[-0.04865620285272598, -0.018251102417707443,...  ...   \n",
       "\n",
       "                                        Feature_3830  \\\n",
       "0  [[-0.10623680055141449, -0.046144016087055206,...   \n",
       "1  [[-0.10592396557331085, -0.06381741911172867, ...   \n",
       "2  [[-0.09079635143280029, -0.05278758332133293, ...   \n",
       "3  [[-0.08019565045833588, -0.06581227481365204, ...   \n",
       "4  [[-0.06634435802698135, -0.07082716375589371, ...   \n",
       "\n",
       "                                        Feature_3831  \\\n",
       "0  [[-0.21481752395629883, -0.21509313583374023, ...   \n",
       "1  [[-0.22839494049549103, -0.23177215456962585, ...   \n",
       "2  [[-0.21315327286720276, -0.17192237079143524, ...   \n",
       "3  [[-0.18439136445522308, -0.17940396070480347, ...   \n",
       "4  [[-0.2063218057155609, -0.19382299482822418, -...   \n",
       "\n",
       "                                        Feature_3832  \\\n",
       "0  [[-0.2603641152381897, -0.2612024247646332, -0...   \n",
       "1  [[-0.25840067863464355, -0.2517848014831543, -...   \n",
       "2  [[-0.2725071310997009, -0.2474503517150879, -0...   \n",
       "3  [[-0.26589855551719666, -0.26821744441986084, ...   \n",
       "4  [[-0.2321418970823288, -0.2100829780101776, -0...   \n",
       "\n",
       "                                        Feature_3833  \\\n",
       "0  [[-0.2783890962600708, -0.22564250230789185, -...   \n",
       "1  [[-0.24809551239013672, -0.20576989650726318, ...   \n",
       "2  [[-0.19143331050872803, -0.1720520555973053, -...   \n",
       "3  [[-0.25372686982154846, -0.195384219288826, -0...   \n",
       "4  [[-0.2368810921907425, -0.20372779667377472, -...   \n",
       "\n",
       "                                        Feature_3834  \\\n",
       "0  [[0.3416678309440613, -0.030438769608736038, -...   \n",
       "1  [[0.5891271829605103, 0.33143290877342224, 0.0...   \n",
       "2  [[-0.053092531859874725, 0.00668907118961215, ...   \n",
       "3  [[1.1503969430923462, 0.8751243352890015, 0.48...   \n",
       "4  [[0.48677751421928406, 0.3012494146823883, 0.2...   \n",
       "\n",
       "                                        Feature_3835  \\\n",
       "0  [[-0.2781553268432617, -0.27739906311035156, -...   \n",
       "1  [[-0.2773369550704956, -0.27842792868614197, -...   \n",
       "2  [[-0.2665853500366211, -0.2735857665538788, -0...   \n",
       "3  [[-0.276060551404953, -0.26312726736068726, -0...   \n",
       "4  [[-0.2730487585067749, -0.26715001463890076, -...   \n",
       "\n",
       "                                        Feature_3836  \\\n",
       "0  [[-0.044042691588401794, -0.056324735283851624...   \n",
       "1  [[-0.130727156996727, -0.11378748714923859, -0...   \n",
       "2  [[-0.07383954524993896, -0.0642632246017456, -...   \n",
       "3  [[-0.0597376711666584, -0.061445701867341995, ...   \n",
       "4  [[-0.04918256774544716, -0.059932686388492584,...   \n",
       "\n",
       "                                        Feature_3837  \\\n",
       "0  [[-0.09532679617404938, -0.14911344647407532, ...   \n",
       "1  [[-0.1443222016096115, -0.20034503936767578, -...   \n",
       "2  [[-0.1707826405763626, -0.22282925248146057, -...   \n",
       "3  [[-0.10821087658405304, -0.20947474241256714, ...   \n",
       "4  [[-0.08714888244867325, -0.16791151463985443, ...   \n",
       "\n",
       "                                        Feature_3838  \\\n",
       "0  [[-0.06893198192119598, -0.08556965738534927, ...   \n",
       "1  [[-0.15371060371398926, -0.1452828198671341, -...   \n",
       "2  [[-0.07479698210954666, -0.06356610357761383, ...   \n",
       "3  [[-0.053630854934453964, -0.055131249129772186...   \n",
       "4  [[-0.05002780258655548, -0.05553240329027176, ...   \n",
       "\n",
       "                                        Feature_3839  \n",
       "0  [[-0.06898965686559677, -0.23151248693466187, ...  \n",
       "1  [[-0.246071919798851, -0.27710291743278503, -0...  \n",
       "2  [[-0.26254141330718994, -0.2759663462638855, -...  \n",
       "3  [[-0.2035675346851349, -0.2541123330593109, -0...  \n",
       "4  [[-0.12030476331710815, -0.25190621614456177, ...  \n",
       "\n",
       "[5 rows x 3844 columns]"
      ]
     },
     "execution_count": 17,
     "metadata": {},
     "output_type": "execute_result"
    }
   ],
   "source": [
    "f=pd.read_csv(\"Features/Feature_P01_04_with_DEFT_EfficeintNet.csv\")\n",
    "f.head()"
   ]
  }
 ],
 "metadata": {
  "kernelspec": {
   "display_name": "Python 3 (ipykernel)",
   "language": "python",
   "name": "python3"
  },
  "language_info": {
   "codemirror_mode": {
    "name": "ipython",
    "version": 3
   },
   "file_extension": ".py",
   "mimetype": "text/x-python",
   "name": "python",
   "nbconvert_exporter": "python",
   "pygments_lexer": "ipython3",
   "version": "3.11.5"
  }
 },
 "nbformat": 4,
 "nbformat_minor": 5
}
