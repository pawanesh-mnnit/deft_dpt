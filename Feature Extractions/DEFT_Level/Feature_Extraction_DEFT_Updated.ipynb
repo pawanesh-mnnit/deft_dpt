{
 "cells": [
  {
   "cell_type": "markdown",
   "id": "c8985c5f",
   "metadata": {},
   "source": [
    "# Import Library Files"
   ]
  },
  {
   "cell_type": "code",
   "execution_count": 1,
   "id": "55e4b130",
   "metadata": {},
   "outputs": [],
   "source": [
    "import os\n",
    "import numpy as np\n",
    "import pandas as pd\n",
    "import torch\n",
    "import torch.nn as nn\n",
    "import torch.nn.functional as F\n",
    "import torchvision.transforms as transforms\n",
    "from torchvision.models import resnet50\n",
    "from PIL import Image\n",
    "from tqdm import tqdm"
   ]
  },
  {
   "cell_type": "markdown",
   "id": "672db89c",
   "metadata": {},
   "source": [
    "----\n",
    "1. DEFT Module Components\n",
    "----"
   ]
  },
  {
   "cell_type": "code",
   "execution_count": 2,
   "id": "cc535130",
   "metadata": {},
   "outputs": [],
   "source": [
    "class LocalizationNetwork(nn.Module):\n",
    "    def __init__(self, input_channels):\n",
    "        super(LocalizationNetwork, self).__init__()\n",
    "        self.conv1 = nn.Conv2d(input_channels, 8, kernel_size=7)\n",
    "        self.pool = nn.MaxPool2d(2, 2)\n",
    "        self.conv2 = nn.Conv2d(8, 10, kernel_size=5)\n",
    "\n",
    "        # Placeholder fc1 (will update after shape calculation)\n",
    "        self.fc1 = nn.Linear(1, 32) \n",
    "        self.fc2 = nn.Linear(32, 6)  # 6 affine parameters\n",
    "\n",
    "        # Initialize weights for identity transformation\n",
    "        self.fc2.weight.data.zero_()\n",
    "        self.fc2.bias.data.copy_(torch.tensor([1, 0, 0, 0, 1, 0], dtype=torch.float))\n",
    "\n",
    "    def forward(self, x):\n",
    "        x = self.pool(F.relu(self.conv1(x)))\n",
    "        x = self.pool(F.relu(self.conv2(x)))\n",
    "\n",
    "        # Dynamically compute the flattened size\n",
    "        if not hasattr(self, 'computed_fc1'):\n",
    "            flattened_size = x.view(x.shape[0], -1).shape[1]\n",
    "            self.fc1 = nn.Linear(flattened_size, 32).to(x.device)\n",
    "            self.computed_fc1 = True  # Prevent re-initialization\n",
    "\n",
    "        x = x.view(x.shape[0], -1)  # Flatten\n",
    "        x = F.relu(self.fc1(x))\n",
    "        theta = self.fc2(x)\n",
    "        theta = theta.view(-1, 2, 3)\n",
    "        return theta\n",
    "\n",
    "\n",
    "class WeightingModule(nn.Module):\n",
    "    def __init__(self, sigma=0.5):\n",
    "        super(WeightingModule, self).__init__()\n",
    "        self.lambda_param = nn.Parameter(torch.tensor(0.5))\n",
    "        self.sigma = sigma\n",
    "\n",
    "    def forward(self, grid):\n",
    "        dist2 = grid[..., 0] ** 2 + grid[..., 1] ** 2\n",
    "        weight = 1 + self.lambda_param * torch.exp(-dist2 / (2 * self.sigma ** 2))\n",
    "        return weight.unsqueeze(-1)\n",
    "\n",
    "\n",
    "class DEFTModule(nn.Module):\n",
    "    def __init__(self, input_channels, sigma=0.5):\n",
    "        super(DEFTModule, self).__init__()\n",
    "        self.localization = LocalizationNetwork(input_channels)\n",
    "        self.weighting = WeightingModule(sigma)\n",
    "\n",
    "    def forward(self, x):\n",
    "        theta = self.localization(x)\n",
    "        grid = F.affine_grid(theta, x.size(), align_corners=False)\n",
    "        weight = self.weighting(grid)\n",
    "        x_transformed = F.grid_sample(x, grid, align_corners=False)\n",
    "\n",
    "        if x.shape[1] > 1:\n",
    "            weight = weight.expand(-1, x.shape[2], x.shape[3], x.shape[1]).permute(0, 3, 1, 2)\n",
    "        else:\n",
    "            weight = weight.permute(0, 3, 1, 2)\n",
    "\n",
    "        x_weighted = x_transformed * weight\n",
    "        return x_weighted"
   ]
  },
  {
   "cell_type": "markdown",
   "id": "d667428b",
   "metadata": {},
   "source": [
    "----\n",
    "2. ResNet50 Model for Feature Extraction\n",
    "----"
   ]
  },
  {
   "cell_type": "code",
   "execution_count": 4,
   "id": "7aa7116b",
   "metadata": {
    "scrolled": true
   },
   "outputs": [],
   "source": [
    "device = torch.device(\"cuda\" if torch.cuda.is_available() else \"cpu\")\n",
    "\n",
    "resnet_model = resnet50(weights=True)\n",
    "resnet_model = torch.nn.Sequential(*list(resnet_model.children())[:-1])  # Remove classification layer\n",
    "resnet_model.eval().to(device)\n",
    "\n",
    "# Load DEFT Module\n",
    "deft_model = DEFTModule(input_channels=3).to(device)  # Input channels = 3 (RGB)\n",
    "deft_model.eval()\n",
    "\n",
    "###########################################################\n",
    "# Define Image Transformation\n",
    "###########################################################\n",
    "\n",
    "transform = transforms.Compose([\n",
    "    transforms.Resize((224, 224)),\n",
    "    transforms.ToTensor(),\n",
    "    transforms.Normalize(mean=[0.485, 0.456, 0.406], std=[0.229, 0.224, 0.225])\n",
    "])"
   ]
  },
  {
   "cell_type": "markdown",
   "id": "eaee8274",
   "metadata": {},
   "source": [
    "----\n",
    "3. Feature Extraction Function with DEFT\n",
    "----"
   ]
  },
  {
   "cell_type": "code",
   "execution_count": 5,
   "id": "8e809c31",
   "metadata": {},
   "outputs": [],
   "source": [
    "def extract_features(image_path, transform, device=device):\n",
    "    \"\"\"Extract ResNet50 features from a single image after DEFT transformation.\"\"\"\n",
    "    try:\n",
    "        image = Image.open(image_path).convert('RGB')\n",
    "        image = transform(image).unsqueeze(0).to(device)  # Convert to tensor and send to GPU\n",
    "\n",
    "        # Apply DEFT Transformation\n",
    "        with torch.no_grad():\n",
    "            image = deft_model(image)  # Pass through DEFT Module\n",
    "            features = resnet_model(image).squeeze().cpu().numpy()  # Extract ResNet50 features\n",
    "        \n",
    "        return features\n",
    "    except Exception as e:\n",
    "        print(f\"Skipping frame: {image_path} due to error: {e}\")\n",
    "        return None\n",
    "\n",
    "\n",
    "###########################################################\n",
    "# Paths to RGB and Optical Flow Directories\n",
    "###########################################################\n",
    "\n",
    "rgb_path = \"D:/Datasets/Datasets/EPIC_Kitchen/RGB/P01_04\"\n",
    "flow_u_path = \"D:/Datasets/Datasets/EPIC_Kitchen/OpticalFlow/P01_04/u\"\n",
    "flow_v_path = \"D:/Datasets/Datasets/EPIC_Kitchen/OpticalFlow/P01_04/v\"\n",
    "\n",
    "label_csv_path = \"D:/Datasets/Datasets/EPIC_Kitchen/Label/P01_04.csv\"\n",
    "labels_df = pd.read_csv(label_csv_path)\n",
    "\n",
    "output_csv = \"../Features/Features_DEFT/Feature_P01_04_DEFT.csv\"\n",
    "\n",
    "\n",
    "# -------------------------------------------------------------\n",
    "# Matching Frames Between RGB and Optical Flow\n",
    "# -------------------------------------------------------------\n",
    "def find_closest_frame(frame_name, flow_frames):\n",
    "    frame_num = int(frame_name.split('_')[1].split('.')[0])  # Extract frame number\n",
    "    flow_nums = [int(f.split('_')[1].split('.')[0]) for f in flow_frames]\n",
    "    closest_frame = flow_frames[np.argmin([abs(frame_num - num) for num in flow_nums])]\n",
    "    return closest_frame"
   ]
  },
  {
   "cell_type": "markdown",
   "id": "0cb5cc49",
   "metadata": {},
   "source": [
    "---\n",
    "4. Extract Features with DEFT & Save\n",
    "----"
   ]
  },
  {
   "cell_type": "code",
   "execution_count": 6,
   "id": "d994895f",
   "metadata": {},
   "outputs": [
    {
     "name": "stderr",
     "output_type": "stream",
     "text": [
      "Extracting Features with DEFT:  50%|████████████████████████▏                       | 636/1262 [00:53<00:39, 15.96it/s]"
     ]
    },
    {
     "name": "stdout",
     "output_type": "stream",
     "text": [
      "Skipping frame: D:/Datasets/Datasets/EPIC_Kitchen/OpticalFlow/P01_04/u\\frame_03160.jpg due to error: [Errno 2] No such file or directory: 'D:\\\\Datasets\\\\Datasets\\\\EPIC_Kitchen\\\\OpticalFlow\\\\P01_04\\\\u\\\\frame_03160.jpg'\n",
      "Skipping frame: D:/Datasets/Datasets/EPIC_Kitchen/OpticalFlow/P01_04/v\\frame_03160.jpg due to error: [Errno 2] No such file or directory: 'D:\\\\Datasets\\\\Datasets\\\\EPIC_Kitchen\\\\OpticalFlow\\\\P01_04\\\\v\\\\frame_03160.jpg'\n",
      "Skipping frame: D:/Datasets/Datasets/EPIC_Kitchen/OpticalFlow/P01_04/u\\frame_03165.jpg due to error: [Errno 2] No such file or directory: 'D:\\\\Datasets\\\\Datasets\\\\EPIC_Kitchen\\\\OpticalFlow\\\\P01_04\\\\u\\\\frame_03165.jpg'\n",
      "Skipping frame: D:/Datasets/Datasets/EPIC_Kitchen/OpticalFlow/P01_04/v\\frame_03165.jpg due to error: [Errno 2] No such file or directory: 'D:\\\\Datasets\\\\Datasets\\\\EPIC_Kitchen\\\\OpticalFlow\\\\P01_04\\\\v\\\\frame_03165.jpg'\n",
      "Skipping frame: D:/Datasets/Datasets/EPIC_Kitchen/OpticalFlow/P01_04/u\\frame_03170.jpg due to error: [Errno 2] No such file or directory: 'D:\\\\Datasets\\\\Datasets\\\\EPIC_Kitchen\\\\OpticalFlow\\\\P01_04\\\\u\\\\frame_03170.jpg'\n",
      "Skipping frame: D:/Datasets/Datasets/EPIC_Kitchen/OpticalFlow/P01_04/v\\frame_03170.jpg due to error: [Errno 2] No such file or directory: 'D:\\\\Datasets\\\\Datasets\\\\EPIC_Kitchen\\\\OpticalFlow\\\\P01_04\\\\v\\\\frame_03170.jpg'\n",
      "Skipping frame: D:/Datasets/Datasets/EPIC_Kitchen/OpticalFlow/P01_04/u\\frame_03175.jpg due to error: [Errno 2] No such file or directory: 'D:\\\\Datasets\\\\Datasets\\\\EPIC_Kitchen\\\\OpticalFlow\\\\P01_04\\\\u\\\\frame_03175.jpg'\n",
      "Skipping frame: D:/Datasets/Datasets/EPIC_Kitchen/OpticalFlow/P01_04/v\\frame_03175.jpg due to error: [Errno 2] No such file or directory: 'D:\\\\Datasets\\\\Datasets\\\\EPIC_Kitchen\\\\OpticalFlow\\\\P01_04\\\\v\\\\frame_03175.jpg'\n",
      "Skipping frame: D:/Datasets/Datasets/EPIC_Kitchen/OpticalFlow/P01_04/u\\frame_03180.jpg due to error: [Errno 2] No such file or directory: 'D:\\\\Datasets\\\\Datasets\\\\EPIC_Kitchen\\\\OpticalFlow\\\\P01_04\\\\u\\\\frame_03180.jpg'\n",
      "Skipping frame: D:/Datasets/Datasets/EPIC_Kitchen/OpticalFlow/P01_04/v\\frame_03180.jpg due to error: [Errno 2] No such file or directory: 'D:\\\\Datasets\\\\Datasets\\\\EPIC_Kitchen\\\\OpticalFlow\\\\P01_04\\\\v\\\\frame_03180.jpg'\n",
      "Skipping frame: D:/Datasets/Datasets/EPIC_Kitchen/OpticalFlow/P01_04/u\\frame_03185.jpg due to error: [Errno 2] No such file or directory: 'D:\\\\Datasets\\\\Datasets\\\\EPIC_Kitchen\\\\OpticalFlow\\\\P01_04\\\\u\\\\frame_03185.jpg'\n",
      "Skipping frame: D:/Datasets/Datasets/EPIC_Kitchen/OpticalFlow/P01_04/v\\frame_03185.jpg due to error: [Errno 2] No such file or directory: 'D:\\\\Datasets\\\\Datasets\\\\EPIC_Kitchen\\\\OpticalFlow\\\\P01_04\\\\v\\\\frame_03185.jpg'\n"
     ]
    },
    {
     "name": "stderr",
     "output_type": "stream",
     "text": [
      "Extracting Features with DEFT:  51%|████████████████████████▍                       | 642/1262 [00:53<00:31, 19.92it/s]"
     ]
    },
    {
     "name": "stdout",
     "output_type": "stream",
     "text": [
      "Skipping frame: D:/Datasets/Datasets/EPIC_Kitchen/OpticalFlow/P01_04/u\\frame_03190.jpg due to error: [Errno 2] No such file or directory: 'D:\\\\Datasets\\\\Datasets\\\\EPIC_Kitchen\\\\OpticalFlow\\\\P01_04\\\\u\\\\frame_03190.jpg'\n",
      "Skipping frame: D:/Datasets/Datasets/EPIC_Kitchen/OpticalFlow/P01_04/v\\frame_03190.jpg due to error: [Errno 2] No such file or directory: 'D:\\\\Datasets\\\\Datasets\\\\EPIC_Kitchen\\\\OpticalFlow\\\\P01_04\\\\v\\\\frame_03190.jpg'\n",
      "Skipping frame: D:/Datasets/Datasets/EPIC_Kitchen/OpticalFlow/P01_04/u\\frame_03195.jpg due to error: [Errno 2] No such file or directory: 'D:\\\\Datasets\\\\Datasets\\\\EPIC_Kitchen\\\\OpticalFlow\\\\P01_04\\\\u\\\\frame_03195.jpg'\n",
      "Skipping frame: D:/Datasets/Datasets/EPIC_Kitchen/OpticalFlow/P01_04/v\\frame_03195.jpg due to error: [Errno 2] No such file or directory: 'D:\\\\Datasets\\\\Datasets\\\\EPIC_Kitchen\\\\OpticalFlow\\\\P01_04\\\\v\\\\frame_03195.jpg'\n",
      "Skipping frame: D:/Datasets/Datasets/EPIC_Kitchen/OpticalFlow/P01_04/u\\frame_03200.jpg due to error: [Errno 2] No such file or directory: 'D:\\\\Datasets\\\\Datasets\\\\EPIC_Kitchen\\\\OpticalFlow\\\\P01_04\\\\u\\\\frame_03200.jpg'\n",
      "Skipping frame: D:/Datasets/Datasets/EPIC_Kitchen/OpticalFlow/P01_04/v\\frame_03200.jpg due to error: [Errno 2] No such file or directory: 'D:\\\\Datasets\\\\Datasets\\\\EPIC_Kitchen\\\\OpticalFlow\\\\P01_04\\\\v\\\\frame_03200.jpg'\n",
      "Skipping frame: D:/Datasets/Datasets/EPIC_Kitchen/OpticalFlow/P01_04/u\\frame_03205.jpg due to error: [Errno 2] No such file or directory: 'D:\\\\Datasets\\\\Datasets\\\\EPIC_Kitchen\\\\OpticalFlow\\\\P01_04\\\\u\\\\frame_03205.jpg'\n",
      "Skipping frame: D:/Datasets/Datasets/EPIC_Kitchen/OpticalFlow/P01_04/v\\frame_03205.jpg due to error: [Errno 2] No such file or directory: 'D:\\\\Datasets\\\\Datasets\\\\EPIC_Kitchen\\\\OpticalFlow\\\\P01_04\\\\v\\\\frame_03205.jpg'\n",
      "Skipping frame: D:/Datasets/Datasets/EPIC_Kitchen/OpticalFlow/P01_04/u\\frame_03210.jpg due to error: [Errno 2] No such file or directory: 'D:\\\\Datasets\\\\Datasets\\\\EPIC_Kitchen\\\\OpticalFlow\\\\P01_04\\\\u\\\\frame_03210.jpg'\n",
      "Skipping frame: D:/Datasets/Datasets/EPIC_Kitchen/OpticalFlow/P01_04/v\\frame_03210.jpg due to error: [Errno 2] No such file or directory: 'D:\\\\Datasets\\\\Datasets\\\\EPIC_Kitchen\\\\OpticalFlow\\\\P01_04\\\\v\\\\frame_03210.jpg'\n"
     ]
    },
    {
     "name": "stderr",
     "output_type": "stream",
     "text": [
      "Extracting Features with DEFT:  51%|████████████████████████▋                       | 648/1262 [00:53<00:28, 21.89it/s]"
     ]
    },
    {
     "name": "stdout",
     "output_type": "stream",
     "text": [
      "Skipping frame: D:/Datasets/Datasets/EPIC_Kitchen/OpticalFlow/P01_04/u\\frame_03215.jpg due to error: [Errno 2] No such file or directory: 'D:\\\\Datasets\\\\Datasets\\\\EPIC_Kitchen\\\\OpticalFlow\\\\P01_04\\\\u\\\\frame_03215.jpg'\n",
      "Skipping frame: D:/Datasets/Datasets/EPIC_Kitchen/OpticalFlow/P01_04/v\\frame_03215.jpg due to error: [Errno 2] No such file or directory: 'D:\\\\Datasets\\\\Datasets\\\\EPIC_Kitchen\\\\OpticalFlow\\\\P01_04\\\\v\\\\frame_03215.jpg'\n",
      "Skipping frame: D:/Datasets/Datasets/EPIC_Kitchen/OpticalFlow/P01_04/u\\frame_03220.jpg due to error: [Errno 2] No such file or directory: 'D:\\\\Datasets\\\\Datasets\\\\EPIC_Kitchen\\\\OpticalFlow\\\\P01_04\\\\u\\\\frame_03220.jpg'\n",
      "Skipping frame: D:/Datasets/Datasets/EPIC_Kitchen/OpticalFlow/P01_04/v\\frame_03220.jpg due to error: [Errno 2] No such file or directory: 'D:\\\\Datasets\\\\Datasets\\\\EPIC_Kitchen\\\\OpticalFlow\\\\P01_04\\\\v\\\\frame_03220.jpg'\n",
      "Skipping frame: D:/Datasets/Datasets/EPIC_Kitchen/OpticalFlow/P01_04/u\\frame_03225.jpg due to error: [Errno 2] No such file or directory: 'D:\\\\Datasets\\\\Datasets\\\\EPIC_Kitchen\\\\OpticalFlow\\\\P01_04\\\\u\\\\frame_03225.jpg'\n",
      "Skipping frame: D:/Datasets/Datasets/EPIC_Kitchen/OpticalFlow/P01_04/v\\frame_03225.jpg due to error: [Errno 2] No such file or directory: 'D:\\\\Datasets\\\\Datasets\\\\EPIC_Kitchen\\\\OpticalFlow\\\\P01_04\\\\v\\\\frame_03225.jpg'\n",
      "Skipping frame: D:/Datasets/Datasets/EPIC_Kitchen/OpticalFlow/P01_04/u\\frame_03230.jpg due to error: [Errno 2] No such file or directory: 'D:\\\\Datasets\\\\Datasets\\\\EPIC_Kitchen\\\\OpticalFlow\\\\P01_04\\\\u\\\\frame_03230.jpg'\n",
      "Skipping frame: D:/Datasets/Datasets/EPIC_Kitchen/OpticalFlow/P01_04/v\\frame_03230.jpg due to error: [Errno 2] No such file or directory: 'D:\\\\Datasets\\\\Datasets\\\\EPIC_Kitchen\\\\OpticalFlow\\\\P01_04\\\\v\\\\frame_03230.jpg'\n",
      "Skipping frame: D:/Datasets/Datasets/EPIC_Kitchen/OpticalFlow/P01_04/u\\frame_03235.jpg due to error: [Errno 2] No such file or directory: 'D:\\\\Datasets\\\\Datasets\\\\EPIC_Kitchen\\\\OpticalFlow\\\\P01_04\\\\u\\\\frame_03235.jpg'\n",
      "Skipping frame: D:/Datasets/Datasets/EPIC_Kitchen/OpticalFlow/P01_04/v\\frame_03235.jpg due to error: [Errno 2] No such file or directory: 'D:\\\\Datasets\\\\Datasets\\\\EPIC_Kitchen\\\\OpticalFlow\\\\P01_04\\\\v\\\\frame_03235.jpg'\n"
     ]
    },
    {
     "name": "stderr",
     "output_type": "stream",
     "text": [
      "\r",
      "Extracting Features with DEFT:  52%|████████████████████████▊                       | 651/1262 [00:53<00:26, 22.67it/s]"
     ]
    },
    {
     "name": "stdout",
     "output_type": "stream",
     "text": [
      "Skipping frame: D:/Datasets/Datasets/EPIC_Kitchen/OpticalFlow/P01_04/u\\frame_03240.jpg due to error: [Errno 2] No such file or directory: 'D:\\\\Datasets\\\\Datasets\\\\EPIC_Kitchen\\\\OpticalFlow\\\\P01_04\\\\u\\\\frame_03240.jpg'\n",
      "Skipping frame: D:/Datasets/Datasets/EPIC_Kitchen/OpticalFlow/P01_04/v\\frame_03240.jpg due to error: [Errno 2] No such file or directory: 'D:\\\\Datasets\\\\Datasets\\\\EPIC_Kitchen\\\\OpticalFlow\\\\P01_04\\\\v\\\\frame_03240.jpg'\n",
      "Skipping frame: D:/Datasets/Datasets/EPIC_Kitchen/OpticalFlow/P01_04/u\\frame_03245.jpg due to error: [Errno 2] No such file or directory: 'D:\\\\Datasets\\\\Datasets\\\\EPIC_Kitchen\\\\OpticalFlow\\\\P01_04\\\\u\\\\frame_03245.jpg'\n",
      "Skipping frame: D:/Datasets/Datasets/EPIC_Kitchen/OpticalFlow/P01_04/v\\frame_03245.jpg due to error: [Errno 2] No such file or directory: 'D:\\\\Datasets\\\\Datasets\\\\EPIC_Kitchen\\\\OpticalFlow\\\\P01_04\\\\v\\\\frame_03245.jpg'\n",
      "Skipping frame: D:/Datasets/Datasets/EPIC_Kitchen/OpticalFlow/P01_04/u\\frame_03250.jpg due to error: [Errno 2] No such file or directory: 'D:\\\\Datasets\\\\Datasets\\\\EPIC_Kitchen\\\\OpticalFlow\\\\P01_04\\\\u\\\\frame_03250.jpg'\n",
      "Skipping frame: D:/Datasets/Datasets/EPIC_Kitchen/OpticalFlow/P01_04/v\\frame_03250.jpg due to error: [Errno 2] No such file or directory: 'D:\\\\Datasets\\\\Datasets\\\\EPIC_Kitchen\\\\OpticalFlow\\\\P01_04\\\\v\\\\frame_03250.jpg'\n",
      "Skipping frame: D:/Datasets/Datasets/EPIC_Kitchen/OpticalFlow/P01_04/u\\frame_03255.jpg due to error: [Errno 2] No such file or directory: 'D:\\\\Datasets\\\\Datasets\\\\EPIC_Kitchen\\\\OpticalFlow\\\\P01_04\\\\u\\\\frame_03255.jpg'\n",
      "Skipping frame: D:/Datasets/Datasets/EPIC_Kitchen/OpticalFlow/P01_04/v\\frame_03255.jpg due to error: [Errno 2] No such file or directory: 'D:\\\\Datasets\\\\Datasets\\\\EPIC_Kitchen\\\\OpticalFlow\\\\P01_04\\\\v\\\\frame_03255.jpg'\n",
      "Skipping frame: D:/Datasets/Datasets/EPIC_Kitchen/OpticalFlow/P01_04/u\\frame_03260.jpg due to error: [Errno 2] No such file or directory: 'D:\\\\Datasets\\\\Datasets\\\\EPIC_Kitchen\\\\OpticalFlow\\\\P01_04\\\\u\\\\frame_03260.jpg'\n",
      "Skipping frame: D:/Datasets/Datasets/EPIC_Kitchen/OpticalFlow/P01_04/v\\frame_03260.jpg due to error: [Errno 2] No such file or directory: 'D:\\\\Datasets\\\\Datasets\\\\EPIC_Kitchen\\\\OpticalFlow\\\\P01_04\\\\v\\\\frame_03260.jpg'\n"
     ]
    },
    {
     "name": "stderr",
     "output_type": "stream",
     "text": [
      "Extracting Features with DEFT:  52%|████████████████████████▉                       | 657/1262 [00:53<00:25, 23.29it/s]"
     ]
    },
    {
     "name": "stdout",
     "output_type": "stream",
     "text": [
      "Skipping frame: D:/Datasets/Datasets/EPIC_Kitchen/OpticalFlow/P01_04/u\\frame_03265.jpg due to error: [Errno 2] No such file or directory: 'D:\\\\Datasets\\\\Datasets\\\\EPIC_Kitchen\\\\OpticalFlow\\\\P01_04\\\\u\\\\frame_03265.jpg'\n",
      "Skipping frame: D:/Datasets/Datasets/EPIC_Kitchen/OpticalFlow/P01_04/v\\frame_03265.jpg due to error: [Errno 2] No such file or directory: 'D:\\\\Datasets\\\\Datasets\\\\EPIC_Kitchen\\\\OpticalFlow\\\\P01_04\\\\v\\\\frame_03265.jpg'\n",
      "Skipping frame: D:/Datasets/Datasets/EPIC_Kitchen/OpticalFlow/P01_04/u\\frame_03270.jpg due to error: [Errno 2] No such file or directory: 'D:\\\\Datasets\\\\Datasets\\\\EPIC_Kitchen\\\\OpticalFlow\\\\P01_04\\\\u\\\\frame_03270.jpg'\n",
      "Skipping frame: D:/Datasets/Datasets/EPIC_Kitchen/OpticalFlow/P01_04/v\\frame_03270.jpg due to error: [Errno 2] No such file or directory: 'D:\\\\Datasets\\\\Datasets\\\\EPIC_Kitchen\\\\OpticalFlow\\\\P01_04\\\\v\\\\frame_03270.jpg'\n",
      "Skipping frame: D:/Datasets/Datasets/EPIC_Kitchen/OpticalFlow/P01_04/u\\frame_03275.jpg due to error: [Errno 2] No such file or directory: 'D:\\\\Datasets\\\\Datasets\\\\EPIC_Kitchen\\\\OpticalFlow\\\\P01_04\\\\u\\\\frame_03275.jpg'\n",
      "Skipping frame: D:/Datasets/Datasets/EPIC_Kitchen/OpticalFlow/P01_04/v\\frame_03275.jpg due to error: [Errno 2] No such file or directory: 'D:\\\\Datasets\\\\Datasets\\\\EPIC_Kitchen\\\\OpticalFlow\\\\P01_04\\\\v\\\\frame_03275.jpg'\n",
      "Skipping frame: D:/Datasets/Datasets/EPIC_Kitchen/OpticalFlow/P01_04/u\\frame_03280.jpg due to error: [Errno 2] No such file or directory: 'D:\\\\Datasets\\\\Datasets\\\\EPIC_Kitchen\\\\OpticalFlow\\\\P01_04\\\\u\\\\frame_03280.jpg'\n",
      "Skipping frame: D:/Datasets/Datasets/EPIC_Kitchen/OpticalFlow/P01_04/v\\frame_03280.jpg due to error: [Errno 2] No such file or directory: 'D:\\\\Datasets\\\\Datasets\\\\EPIC_Kitchen\\\\OpticalFlow\\\\P01_04\\\\v\\\\frame_03280.jpg'\n",
      "Skipping frame: D:/Datasets/Datasets/EPIC_Kitchen/OpticalFlow/P01_04/u\\frame_03285.jpg due to error: [Errno 2] No such file or directory: 'D:\\\\Datasets\\\\Datasets\\\\EPIC_Kitchen\\\\OpticalFlow\\\\P01_04\\\\u\\\\frame_03285.jpg'\n",
      "Skipping frame: D:/Datasets/Datasets/EPIC_Kitchen/OpticalFlow/P01_04/v\\frame_03285.jpg due to error: [Errno 2] No such file or directory: 'D:\\\\Datasets\\\\Datasets\\\\EPIC_Kitchen\\\\OpticalFlow\\\\P01_04\\\\v\\\\frame_03285.jpg'\n"
     ]
    },
    {
     "name": "stderr",
     "output_type": "stream",
     "text": [
      "Extracting Features with DEFT:  53%|█████████████████████████▏                      | 663/1262 [00:54<00:24, 24.19it/s]"
     ]
    },
    {
     "name": "stdout",
     "output_type": "stream",
     "text": [
      "Skipping frame: D:/Datasets/Datasets/EPIC_Kitchen/OpticalFlow/P01_04/u\\frame_03290.jpg due to error: [Errno 2] No such file or directory: 'D:\\\\Datasets\\\\Datasets\\\\EPIC_Kitchen\\\\OpticalFlow\\\\P01_04\\\\u\\\\frame_03290.jpg'\n",
      "Skipping frame: D:/Datasets/Datasets/EPIC_Kitchen/OpticalFlow/P01_04/v\\frame_03290.jpg due to error: [Errno 2] No such file or directory: 'D:\\\\Datasets\\\\Datasets\\\\EPIC_Kitchen\\\\OpticalFlow\\\\P01_04\\\\v\\\\frame_03290.jpg'\n",
      "Skipping frame: D:/Datasets/Datasets/EPIC_Kitchen/OpticalFlow/P01_04/u\\frame_03295.jpg due to error: [Errno 2] No such file or directory: 'D:\\\\Datasets\\\\Datasets\\\\EPIC_Kitchen\\\\OpticalFlow\\\\P01_04\\\\u\\\\frame_03295.jpg'\n",
      "Skipping frame: D:/Datasets/Datasets/EPIC_Kitchen/OpticalFlow/P01_04/v\\frame_03295.jpg due to error: [Errno 2] No such file or directory: 'D:\\\\Datasets\\\\Datasets\\\\EPIC_Kitchen\\\\OpticalFlow\\\\P01_04\\\\v\\\\frame_03295.jpg'\n",
      "Skipping frame: D:/Datasets/Datasets/EPIC_Kitchen/OpticalFlow/P01_04/u\\frame_03300.jpg due to error: [Errno 2] No such file or directory: 'D:\\\\Datasets\\\\Datasets\\\\EPIC_Kitchen\\\\OpticalFlow\\\\P01_04\\\\u\\\\frame_03300.jpg'\n",
      "Skipping frame: D:/Datasets/Datasets/EPIC_Kitchen/OpticalFlow/P01_04/v\\frame_03300.jpg due to error: [Errno 2] No such file or directory: 'D:\\\\Datasets\\\\Datasets\\\\EPIC_Kitchen\\\\OpticalFlow\\\\P01_04\\\\v\\\\frame_03300.jpg'\n",
      "Skipping frame: D:/Datasets/Datasets/EPIC_Kitchen/OpticalFlow/P01_04/u\\frame_03305.jpg due to error: [Errno 2] No such file or directory: 'D:\\\\Datasets\\\\Datasets\\\\EPIC_Kitchen\\\\OpticalFlow\\\\P01_04\\\\u\\\\frame_03305.jpg'\n",
      "Skipping frame: D:/Datasets/Datasets/EPIC_Kitchen/OpticalFlow/P01_04/v\\frame_03305.jpg due to error: [Errno 2] No such file or directory: 'D:\\\\Datasets\\\\Datasets\\\\EPIC_Kitchen\\\\OpticalFlow\\\\P01_04\\\\v\\\\frame_03305.jpg'\n",
      "Skipping frame: D:/Datasets/Datasets/EPIC_Kitchen/OpticalFlow/P01_04/u\\frame_03310.jpg due to error: [Errno 2] No such file or directory: 'D:\\\\Datasets\\\\Datasets\\\\EPIC_Kitchen\\\\OpticalFlow\\\\P01_04\\\\u\\\\frame_03310.jpg'\n",
      "Skipping frame: D:/Datasets/Datasets/EPIC_Kitchen/OpticalFlow/P01_04/v\\frame_03310.jpg due to error: [Errno 2] No such file or directory: 'D:\\\\Datasets\\\\Datasets\\\\EPIC_Kitchen\\\\OpticalFlow\\\\P01_04\\\\v\\\\frame_03310.jpg'\n",
      "Skipping frame: D:/Datasets/Datasets/EPIC_Kitchen/OpticalFlow/P01_04/u\\frame_03315.jpg due to error: [Errno 2] No such file or directory: 'D:\\\\Datasets\\\\Datasets\\\\EPIC_Kitchen\\\\OpticalFlow\\\\P01_04\\\\u\\\\frame_03315.jpg'\n",
      "Skipping frame: D:/Datasets/Datasets/EPIC_Kitchen/OpticalFlow/P01_04/v\\frame_03315.jpg due to error: [Errno 2] No such file or directory: 'D:\\\\Datasets\\\\Datasets\\\\EPIC_Kitchen\\\\OpticalFlow\\\\P01_04\\\\v\\\\frame_03315.jpg'\n"
     ]
    },
    {
     "name": "stderr",
     "output_type": "stream",
     "text": [
      "Extracting Features with DEFT:  53%|█████████████████████████▍                      | 669/1262 [00:54<00:24, 23.86it/s]"
     ]
    },
    {
     "name": "stdout",
     "output_type": "stream",
     "text": [
      "Skipping frame: D:/Datasets/Datasets/EPIC_Kitchen/OpticalFlow/P01_04/u\\frame_03320.jpg due to error: [Errno 2] No such file or directory: 'D:\\\\Datasets\\\\Datasets\\\\EPIC_Kitchen\\\\OpticalFlow\\\\P01_04\\\\u\\\\frame_03320.jpg'\n",
      "Skipping frame: D:/Datasets/Datasets/EPIC_Kitchen/OpticalFlow/P01_04/v\\frame_03320.jpg due to error: [Errno 2] No such file or directory: 'D:\\\\Datasets\\\\Datasets\\\\EPIC_Kitchen\\\\OpticalFlow\\\\P01_04\\\\v\\\\frame_03320.jpg'\n",
      "Skipping frame: D:/Datasets/Datasets/EPIC_Kitchen/OpticalFlow/P01_04/u\\frame_03325.jpg due to error: [Errno 2] No such file or directory: 'D:\\\\Datasets\\\\Datasets\\\\EPIC_Kitchen\\\\OpticalFlow\\\\P01_04\\\\u\\\\frame_03325.jpg'\n",
      "Skipping frame: D:/Datasets/Datasets/EPIC_Kitchen/OpticalFlow/P01_04/v\\frame_03325.jpg due to error: [Errno 2] No such file or directory: 'D:\\\\Datasets\\\\Datasets\\\\EPIC_Kitchen\\\\OpticalFlow\\\\P01_04\\\\v\\\\frame_03325.jpg'\n",
      "Skipping frame: D:/Datasets/Datasets/EPIC_Kitchen/OpticalFlow/P01_04/u\\frame_03330.jpg due to error: [Errno 2] No such file or directory: 'D:\\\\Datasets\\\\Datasets\\\\EPIC_Kitchen\\\\OpticalFlow\\\\P01_04\\\\u\\\\frame_03330.jpg'\n",
      "Skipping frame: D:/Datasets/Datasets/EPIC_Kitchen/OpticalFlow/P01_04/v\\frame_03330.jpg due to error: [Errno 2] No such file or directory: 'D:\\\\Datasets\\\\Datasets\\\\EPIC_Kitchen\\\\OpticalFlow\\\\P01_04\\\\v\\\\frame_03330.jpg'\n",
      "Skipping frame: D:/Datasets/Datasets/EPIC_Kitchen/OpticalFlow/P01_04/u\\frame_03335.jpg due to error: [Errno 2] No such file or directory: 'D:\\\\Datasets\\\\Datasets\\\\EPIC_Kitchen\\\\OpticalFlow\\\\P01_04\\\\u\\\\frame_03335.jpg'\n",
      "Skipping frame: D:/Datasets/Datasets/EPIC_Kitchen/OpticalFlow/P01_04/v\\frame_03335.jpg due to error: [Errno 2] No such file or directory: 'D:\\\\Datasets\\\\Datasets\\\\EPIC_Kitchen\\\\OpticalFlow\\\\P01_04\\\\v\\\\frame_03335.jpg'\n",
      "Skipping frame: D:/Datasets/Datasets/EPIC_Kitchen/OpticalFlow/P01_04/u\\frame_03340.jpg due to error: [Errno 2] No such file or directory: 'D:\\\\Datasets\\\\Datasets\\\\EPIC_Kitchen\\\\OpticalFlow\\\\P01_04\\\\u\\\\frame_03340.jpg'\n",
      "Skipping frame: D:/Datasets/Datasets/EPIC_Kitchen/OpticalFlow/P01_04/v\\frame_03340.jpg due to error: [Errno 2] No such file or directory: 'D:\\\\Datasets\\\\Datasets\\\\EPIC_Kitchen\\\\OpticalFlow\\\\P01_04\\\\v\\\\frame_03340.jpg'\n",
      "Skipping frame: D:/Datasets/Datasets/EPIC_Kitchen/OpticalFlow/P01_04/u\\frame_03345.jpg due to error: [Errno 2] No such file or directory: 'D:\\\\Datasets\\\\Datasets\\\\EPIC_Kitchen\\\\OpticalFlow\\\\P01_04\\\\u\\\\frame_03345.jpg'\n",
      "Skipping frame: D:/Datasets/Datasets/EPIC_Kitchen/OpticalFlow/P01_04/v\\frame_03345.jpg due to error: [Errno 2] No such file or directory: 'D:\\\\Datasets\\\\Datasets\\\\EPIC_Kitchen\\\\OpticalFlow\\\\P01_04\\\\v\\\\frame_03345.jpg'\n"
     ]
    },
    {
     "name": "stderr",
     "output_type": "stream",
     "text": [
      "Extracting Features with DEFT:  53%|█████████████████████████▋                      | 675/1262 [00:54<00:24, 24.42it/s]"
     ]
    },
    {
     "name": "stdout",
     "output_type": "stream",
     "text": [
      "Skipping frame: D:/Datasets/Datasets/EPIC_Kitchen/OpticalFlow/P01_04/u\\frame_03350.jpg due to error: [Errno 2] No such file or directory: 'D:\\\\Datasets\\\\Datasets\\\\EPIC_Kitchen\\\\OpticalFlow\\\\P01_04\\\\u\\\\frame_03350.jpg'\n",
      "Skipping frame: D:/Datasets/Datasets/EPIC_Kitchen/OpticalFlow/P01_04/v\\frame_03350.jpg due to error: [Errno 2] No such file or directory: 'D:\\\\Datasets\\\\Datasets\\\\EPIC_Kitchen\\\\OpticalFlow\\\\P01_04\\\\v\\\\frame_03350.jpg'\n",
      "Skipping frame: D:/Datasets/Datasets/EPIC_Kitchen/OpticalFlow/P01_04/u\\frame_03355.jpg due to error: [Errno 2] No such file or directory: 'D:\\\\Datasets\\\\Datasets\\\\EPIC_Kitchen\\\\OpticalFlow\\\\P01_04\\\\u\\\\frame_03355.jpg'\n",
      "Skipping frame: D:/Datasets/Datasets/EPIC_Kitchen/OpticalFlow/P01_04/v\\frame_03355.jpg due to error: [Errno 2] No such file or directory: 'D:\\\\Datasets\\\\Datasets\\\\EPIC_Kitchen\\\\OpticalFlow\\\\P01_04\\\\v\\\\frame_03355.jpg'\n",
      "Skipping frame: D:/Datasets/Datasets/EPIC_Kitchen/OpticalFlow/P01_04/u\\frame_03360.jpg due to error: [Errno 2] No such file or directory: 'D:\\\\Datasets\\\\Datasets\\\\EPIC_Kitchen\\\\OpticalFlow\\\\P01_04\\\\u\\\\frame_03360.jpg'\n",
      "Skipping frame: D:/Datasets/Datasets/EPIC_Kitchen/OpticalFlow/P01_04/v\\frame_03360.jpg due to error: [Errno 2] No such file or directory: 'D:\\\\Datasets\\\\Datasets\\\\EPIC_Kitchen\\\\OpticalFlow\\\\P01_04\\\\v\\\\frame_03360.jpg'\n",
      "Skipping frame: D:/Datasets/Datasets/EPIC_Kitchen/OpticalFlow/P01_04/u\\frame_03365.jpg due to error: [Errno 2] No such file or directory: 'D:\\\\Datasets\\\\Datasets\\\\EPIC_Kitchen\\\\OpticalFlow\\\\P01_04\\\\u\\\\frame_03365.jpg'\n",
      "Skipping frame: D:/Datasets/Datasets/EPIC_Kitchen/OpticalFlow/P01_04/v\\frame_03365.jpg due to error: [Errno 2] No such file or directory: 'D:\\\\Datasets\\\\Datasets\\\\EPIC_Kitchen\\\\OpticalFlow\\\\P01_04\\\\v\\\\frame_03365.jpg'\n",
      "Skipping frame: D:/Datasets/Datasets/EPIC_Kitchen/OpticalFlow/P01_04/u\\frame_03370.jpg due to error: [Errno 2] No such file or directory: 'D:\\\\Datasets\\\\Datasets\\\\EPIC_Kitchen\\\\OpticalFlow\\\\P01_04\\\\u\\\\frame_03370.jpg'\n",
      "Skipping frame: D:/Datasets/Datasets/EPIC_Kitchen/OpticalFlow/P01_04/v\\frame_03370.jpg due to error: [Errno 2] No such file or directory: 'D:\\\\Datasets\\\\Datasets\\\\EPIC_Kitchen\\\\OpticalFlow\\\\P01_04\\\\v\\\\frame_03370.jpg'\n",
      "Skipping frame: D:/Datasets/Datasets/EPIC_Kitchen/OpticalFlow/P01_04/u\\frame_03375.jpg due to error: [Errno 2] No such file or directory: 'D:\\\\Datasets\\\\Datasets\\\\EPIC_Kitchen\\\\OpticalFlow\\\\P01_04\\\\u\\\\frame_03375.jpg'\n",
      "Skipping frame: D:/Datasets/Datasets/EPIC_Kitchen/OpticalFlow/P01_04/v\\frame_03375.jpg due to error: [Errno 2] No such file or directory: 'D:\\\\Datasets\\\\Datasets\\\\EPIC_Kitchen\\\\OpticalFlow\\\\P01_04\\\\v\\\\frame_03375.jpg'\n"
     ]
    },
    {
     "name": "stderr",
     "output_type": "stream",
     "text": [
      "Extracting Features with DEFT:  54%|█████████████████████████▉                      | 681/1262 [00:54<00:24, 24.07it/s]"
     ]
    },
    {
     "name": "stdout",
     "output_type": "stream",
     "text": [
      "Skipping frame: D:/Datasets/Datasets/EPIC_Kitchen/OpticalFlow/P01_04/u\\frame_03380.jpg due to error: [Errno 2] No such file or directory: 'D:\\\\Datasets\\\\Datasets\\\\EPIC_Kitchen\\\\OpticalFlow\\\\P01_04\\\\u\\\\frame_03380.jpg'\n",
      "Skipping frame: D:/Datasets/Datasets/EPIC_Kitchen/OpticalFlow/P01_04/v\\frame_03380.jpg due to error: [Errno 2] No such file or directory: 'D:\\\\Datasets\\\\Datasets\\\\EPIC_Kitchen\\\\OpticalFlow\\\\P01_04\\\\v\\\\frame_03380.jpg'\n",
      "Skipping frame: D:/Datasets/Datasets/EPIC_Kitchen/OpticalFlow/P01_04/u\\frame_03385.jpg due to error: [Errno 2] No such file or directory: 'D:\\\\Datasets\\\\Datasets\\\\EPIC_Kitchen\\\\OpticalFlow\\\\P01_04\\\\u\\\\frame_03385.jpg'\n",
      "Skipping frame: D:/Datasets/Datasets/EPIC_Kitchen/OpticalFlow/P01_04/v\\frame_03385.jpg due to error: [Errno 2] No such file or directory: 'D:\\\\Datasets\\\\Datasets\\\\EPIC_Kitchen\\\\OpticalFlow\\\\P01_04\\\\v\\\\frame_03385.jpg'\n",
      "Skipping frame: D:/Datasets/Datasets/EPIC_Kitchen/OpticalFlow/P01_04/u\\frame_03390.jpg due to error: [Errno 2] No such file or directory: 'D:\\\\Datasets\\\\Datasets\\\\EPIC_Kitchen\\\\OpticalFlow\\\\P01_04\\\\u\\\\frame_03390.jpg'\n",
      "Skipping frame: D:/Datasets/Datasets/EPIC_Kitchen/OpticalFlow/P01_04/v\\frame_03390.jpg due to error: [Errno 2] No such file or directory: 'D:\\\\Datasets\\\\Datasets\\\\EPIC_Kitchen\\\\OpticalFlow\\\\P01_04\\\\v\\\\frame_03390.jpg'\n",
      "Skipping frame: D:/Datasets/Datasets/EPIC_Kitchen/OpticalFlow/P01_04/u\\frame_03395.jpg due to error: [Errno 2] No such file or directory: 'D:\\\\Datasets\\\\Datasets\\\\EPIC_Kitchen\\\\OpticalFlow\\\\P01_04\\\\u\\\\frame_03395.jpg'\n",
      "Skipping frame: D:/Datasets/Datasets/EPIC_Kitchen/OpticalFlow/P01_04/v\\frame_03395.jpg due to error: [Errno 2] No such file or directory: 'D:\\\\Datasets\\\\Datasets\\\\EPIC_Kitchen\\\\OpticalFlow\\\\P01_04\\\\v\\\\frame_03395.jpg'\n",
      "Skipping frame: D:/Datasets/Datasets/EPIC_Kitchen/OpticalFlow/P01_04/u\\frame_03400.jpg due to error: [Errno 2] No such file or directory: 'D:\\\\Datasets\\\\Datasets\\\\EPIC_Kitchen\\\\OpticalFlow\\\\P01_04\\\\u\\\\frame_03400.jpg'\n",
      "Skipping frame: D:/Datasets/Datasets/EPIC_Kitchen/OpticalFlow/P01_04/v\\frame_03400.jpg due to error: [Errno 2] No such file or directory: 'D:\\\\Datasets\\\\Datasets\\\\EPIC_Kitchen\\\\OpticalFlow\\\\P01_04\\\\v\\\\frame_03400.jpg'\n"
     ]
    },
    {
     "name": "stderr",
     "output_type": "stream",
     "text": [
      "Extracting Features with DEFT:  54%|██████████████████████████▏                     | 687/1262 [00:55<00:24, 23.64it/s]"
     ]
    },
    {
     "name": "stdout",
     "output_type": "stream",
     "text": [
      "Skipping frame: D:/Datasets/Datasets/EPIC_Kitchen/OpticalFlow/P01_04/u\\frame_03405.jpg due to error: [Errno 2] No such file or directory: 'D:\\\\Datasets\\\\Datasets\\\\EPIC_Kitchen\\\\OpticalFlow\\\\P01_04\\\\u\\\\frame_03405.jpg'\n",
      "Skipping frame: D:/Datasets/Datasets/EPIC_Kitchen/OpticalFlow/P01_04/v\\frame_03405.jpg due to error: [Errno 2] No such file or directory: 'D:\\\\Datasets\\\\Datasets\\\\EPIC_Kitchen\\\\OpticalFlow\\\\P01_04\\\\v\\\\frame_03405.jpg'\n",
      "Skipping frame: D:/Datasets/Datasets/EPIC_Kitchen/OpticalFlow/P01_04/u\\frame_03410.jpg due to error: [Errno 2] No such file or directory: 'D:\\\\Datasets\\\\Datasets\\\\EPIC_Kitchen\\\\OpticalFlow\\\\P01_04\\\\u\\\\frame_03410.jpg'\n",
      "Skipping frame: D:/Datasets/Datasets/EPIC_Kitchen/OpticalFlow/P01_04/v\\frame_03410.jpg due to error: [Errno 2] No such file or directory: 'D:\\\\Datasets\\\\Datasets\\\\EPIC_Kitchen\\\\OpticalFlow\\\\P01_04\\\\v\\\\frame_03410.jpg'\n",
      "Skipping frame: D:/Datasets/Datasets/EPIC_Kitchen/OpticalFlow/P01_04/u\\frame_03415.jpg due to error: [Errno 2] No such file or directory: 'D:\\\\Datasets\\\\Datasets\\\\EPIC_Kitchen\\\\OpticalFlow\\\\P01_04\\\\u\\\\frame_03415.jpg'\n",
      "Skipping frame: D:/Datasets/Datasets/EPIC_Kitchen/OpticalFlow/P01_04/v\\frame_03415.jpg due to error: [Errno 2] No such file or directory: 'D:\\\\Datasets\\\\Datasets\\\\EPIC_Kitchen\\\\OpticalFlow\\\\P01_04\\\\v\\\\frame_03415.jpg'\n",
      "Skipping frame: D:/Datasets/Datasets/EPIC_Kitchen/OpticalFlow/P01_04/u\\frame_03420.jpg due to error: [Errno 2] No such file or directory: 'D:\\\\Datasets\\\\Datasets\\\\EPIC_Kitchen\\\\OpticalFlow\\\\P01_04\\\\u\\\\frame_03420.jpg'\n",
      "Skipping frame: D:/Datasets/Datasets/EPIC_Kitchen/OpticalFlow/P01_04/v\\frame_03420.jpg due to error: [Errno 2] No such file or directory: 'D:\\\\Datasets\\\\Datasets\\\\EPIC_Kitchen\\\\OpticalFlow\\\\P01_04\\\\v\\\\frame_03420.jpg'\n",
      "Skipping frame: D:/Datasets/Datasets/EPIC_Kitchen/OpticalFlow/P01_04/u\\frame_03425.jpg due to error: [Errno 2] No such file or directory: 'D:\\\\Datasets\\\\Datasets\\\\EPIC_Kitchen\\\\OpticalFlow\\\\P01_04\\\\u\\\\frame_03425.jpg'\n",
      "Skipping frame: D:/Datasets/Datasets/EPIC_Kitchen/OpticalFlow/P01_04/v\\frame_03425.jpg due to error: [Errno 2] No such file or directory: 'D:\\\\Datasets\\\\Datasets\\\\EPIC_Kitchen\\\\OpticalFlow\\\\P01_04\\\\v\\\\frame_03425.jpg'\n",
      "Skipping frame: D:/Datasets/Datasets/EPIC_Kitchen/OpticalFlow/P01_04/u\\frame_03430.jpg due to error: [Errno 2] No such file or directory: 'D:\\\\Datasets\\\\Datasets\\\\EPIC_Kitchen\\\\OpticalFlow\\\\P01_04\\\\u\\\\frame_03430.jpg'\n",
      "Skipping frame: D:/Datasets/Datasets/EPIC_Kitchen/OpticalFlow/P01_04/v\\frame_03430.jpg due to error: [Errno 2] No such file or directory: 'D:\\\\Datasets\\\\Datasets\\\\EPIC_Kitchen\\\\OpticalFlow\\\\P01_04\\\\v\\\\frame_03430.jpg'\n"
     ]
    },
    {
     "name": "stderr",
     "output_type": "stream",
     "text": [
      "\r",
      "Extracting Features with DEFT:  55%|██████████████████████████▏                     | 690/1262 [00:55<00:24, 23.53it/s]"
     ]
    },
    {
     "name": "stdout",
     "output_type": "stream",
     "text": [
      "Skipping frame: D:/Datasets/Datasets/EPIC_Kitchen/OpticalFlow/P01_04/u\\frame_03435.jpg due to error: [Errno 2] No such file or directory: 'D:\\\\Datasets\\\\Datasets\\\\EPIC_Kitchen\\\\OpticalFlow\\\\P01_04\\\\u\\\\frame_03435.jpg'\n",
      "Skipping frame: D:/Datasets/Datasets/EPIC_Kitchen/OpticalFlow/P01_04/v\\frame_03435.jpg due to error: [Errno 2] No such file or directory: 'D:\\\\Datasets\\\\Datasets\\\\EPIC_Kitchen\\\\OpticalFlow\\\\P01_04\\\\v\\\\frame_03435.jpg'\n",
      "Skipping frame: D:/Datasets/Datasets/EPIC_Kitchen/OpticalFlow/P01_04/u\\frame_03440.jpg due to error: [Errno 2] No such file or directory: 'D:\\\\Datasets\\\\Datasets\\\\EPIC_Kitchen\\\\OpticalFlow\\\\P01_04\\\\u\\\\frame_03440.jpg'\n",
      "Skipping frame: D:/Datasets/Datasets/EPIC_Kitchen/OpticalFlow/P01_04/v\\frame_03440.jpg due to error: [Errno 2] No such file or directory: 'D:\\\\Datasets\\\\Datasets\\\\EPIC_Kitchen\\\\OpticalFlow\\\\P01_04\\\\v\\\\frame_03440.jpg'\n",
      "Skipping frame: D:/Datasets/Datasets/EPIC_Kitchen/OpticalFlow/P01_04/u\\frame_03445.jpg due to error: [Errno 2] No such file or directory: 'D:\\\\Datasets\\\\Datasets\\\\EPIC_Kitchen\\\\OpticalFlow\\\\P01_04\\\\u\\\\frame_03445.jpg'\n",
      "Skipping frame: D:/Datasets/Datasets/EPIC_Kitchen/OpticalFlow/P01_04/v\\frame_03445.jpg due to error: [Errno 2] No such file or directory: 'D:\\\\Datasets\\\\Datasets\\\\EPIC_Kitchen\\\\OpticalFlow\\\\P01_04\\\\v\\\\frame_03445.jpg'\n",
      "Skipping frame: D:/Datasets/Datasets/EPIC_Kitchen/OpticalFlow/P01_04/u\\frame_03450.jpg due to error: [Errno 2] No such file or directory: 'D:\\\\Datasets\\\\Datasets\\\\EPIC_Kitchen\\\\OpticalFlow\\\\P01_04\\\\u\\\\frame_03450.jpg'\n",
      "Skipping frame: D:/Datasets/Datasets/EPIC_Kitchen/OpticalFlow/P01_04/v\\frame_03450.jpg due to error: [Errno 2] No such file or directory: 'D:\\\\Datasets\\\\Datasets\\\\EPIC_Kitchen\\\\OpticalFlow\\\\P01_04\\\\v\\\\frame_03450.jpg'\n",
      "Skipping frame: D:/Datasets/Datasets/EPIC_Kitchen/OpticalFlow/P01_04/u\\frame_03455.jpg due to error: [Errno 2] No such file or directory: 'D:\\\\Datasets\\\\Datasets\\\\EPIC_Kitchen\\\\OpticalFlow\\\\P01_04\\\\u\\\\frame_03455.jpg'\n",
      "Skipping frame: D:/Datasets/Datasets/EPIC_Kitchen/OpticalFlow/P01_04/v\\frame_03455.jpg due to error: [Errno 2] No such file or directory: 'D:\\\\Datasets\\\\Datasets\\\\EPIC_Kitchen\\\\OpticalFlow\\\\P01_04\\\\v\\\\frame_03455.jpg'\n"
     ]
    },
    {
     "name": "stderr",
     "output_type": "stream",
     "text": [
      "Extracting Features with DEFT:  55%|██████████████████████████▍                     | 696/1262 [00:55<00:23, 23.84it/s]"
     ]
    },
    {
     "name": "stdout",
     "output_type": "stream",
     "text": [
      "Skipping frame: D:/Datasets/Datasets/EPIC_Kitchen/OpticalFlow/P01_04/u\\frame_03460.jpg due to error: [Errno 2] No such file or directory: 'D:\\\\Datasets\\\\Datasets\\\\EPIC_Kitchen\\\\OpticalFlow\\\\P01_04\\\\u\\\\frame_03460.jpg'\n",
      "Skipping frame: D:/Datasets/Datasets/EPIC_Kitchen/OpticalFlow/P01_04/v\\frame_03460.jpg due to error: [Errno 2] No such file or directory: 'D:\\\\Datasets\\\\Datasets\\\\EPIC_Kitchen\\\\OpticalFlow\\\\P01_04\\\\v\\\\frame_03460.jpg'\n",
      "Skipping frame: D:/Datasets/Datasets/EPIC_Kitchen/OpticalFlow/P01_04/u\\frame_03465.jpg due to error: [Errno 2] No such file or directory: 'D:\\\\Datasets\\\\Datasets\\\\EPIC_Kitchen\\\\OpticalFlow\\\\P01_04\\\\u\\\\frame_03465.jpg'\n",
      "Skipping frame: D:/Datasets/Datasets/EPIC_Kitchen/OpticalFlow/P01_04/v\\frame_03465.jpg due to error: [Errno 2] No such file or directory: 'D:\\\\Datasets\\\\Datasets\\\\EPIC_Kitchen\\\\OpticalFlow\\\\P01_04\\\\v\\\\frame_03465.jpg'\n",
      "Skipping frame: D:/Datasets/Datasets/EPIC_Kitchen/OpticalFlow/P01_04/u\\frame_03470.jpg due to error: [Errno 2] No such file or directory: 'D:\\\\Datasets\\\\Datasets\\\\EPIC_Kitchen\\\\OpticalFlow\\\\P01_04\\\\u\\\\frame_03470.jpg'\n",
      "Skipping frame: D:/Datasets/Datasets/EPIC_Kitchen/OpticalFlow/P01_04/v\\frame_03470.jpg due to error: [Errno 2] No such file or directory: 'D:\\\\Datasets\\\\Datasets\\\\EPIC_Kitchen\\\\OpticalFlow\\\\P01_04\\\\v\\\\frame_03470.jpg'\n",
      "Skipping frame: D:/Datasets/Datasets/EPIC_Kitchen/OpticalFlow/P01_04/u\\frame_03475.jpg due to error: [Errno 2] No such file or directory: 'D:\\\\Datasets\\\\Datasets\\\\EPIC_Kitchen\\\\OpticalFlow\\\\P01_04\\\\u\\\\frame_03475.jpg'\n",
      "Skipping frame: D:/Datasets/Datasets/EPIC_Kitchen/OpticalFlow/P01_04/v\\frame_03475.jpg due to error: [Errno 2] No such file or directory: 'D:\\\\Datasets\\\\Datasets\\\\EPIC_Kitchen\\\\OpticalFlow\\\\P01_04\\\\v\\\\frame_03475.jpg'\n",
      "Skipping frame: D:/Datasets/Datasets/EPIC_Kitchen/OpticalFlow/P01_04/u\\frame_03480.jpg due to error: [Errno 2] No such file or directory: 'D:\\\\Datasets\\\\Datasets\\\\EPIC_Kitchen\\\\OpticalFlow\\\\P01_04\\\\u\\\\frame_03480.jpg'\n",
      "Skipping frame: D:/Datasets/Datasets/EPIC_Kitchen/OpticalFlow/P01_04/v\\frame_03480.jpg due to error: [Errno 2] No such file or directory: 'D:\\\\Datasets\\\\Datasets\\\\EPIC_Kitchen\\\\OpticalFlow\\\\P01_04\\\\v\\\\frame_03480.jpg'\n"
     ]
    },
    {
     "name": "stderr",
     "output_type": "stream",
     "text": [
      "Extracting Features with DEFT:  56%|██████████████████████████▋                     | 702/1262 [00:55<00:23, 23.43it/s]"
     ]
    },
    {
     "name": "stdout",
     "output_type": "stream",
     "text": [
      "Skipping frame: D:/Datasets/Datasets/EPIC_Kitchen/OpticalFlow/P01_04/u\\frame_03485.jpg due to error: [Errno 2] No such file or directory: 'D:\\\\Datasets\\\\Datasets\\\\EPIC_Kitchen\\\\OpticalFlow\\\\P01_04\\\\u\\\\frame_03485.jpg'\n",
      "Skipping frame: D:/Datasets/Datasets/EPIC_Kitchen/OpticalFlow/P01_04/v\\frame_03485.jpg due to error: [Errno 2] No such file or directory: 'D:\\\\Datasets\\\\Datasets\\\\EPIC_Kitchen\\\\OpticalFlow\\\\P01_04\\\\v\\\\frame_03485.jpg'\n",
      "Skipping frame: D:/Datasets/Datasets/EPIC_Kitchen/OpticalFlow/P01_04/u\\frame_03490.jpg due to error: [Errno 2] No such file or directory: 'D:\\\\Datasets\\\\Datasets\\\\EPIC_Kitchen\\\\OpticalFlow\\\\P01_04\\\\u\\\\frame_03490.jpg'\n",
      "Skipping frame: D:/Datasets/Datasets/EPIC_Kitchen/OpticalFlow/P01_04/v\\frame_03490.jpg due to error: [Errno 2] No such file or directory: 'D:\\\\Datasets\\\\Datasets\\\\EPIC_Kitchen\\\\OpticalFlow\\\\P01_04\\\\v\\\\frame_03490.jpg'\n",
      "Skipping frame: D:/Datasets/Datasets/EPIC_Kitchen/OpticalFlow/P01_04/u\\frame_03495.jpg due to error: [Errno 2] No such file or directory: 'D:\\\\Datasets\\\\Datasets\\\\EPIC_Kitchen\\\\OpticalFlow\\\\P01_04\\\\u\\\\frame_03495.jpg'\n",
      "Skipping frame: D:/Datasets/Datasets/EPIC_Kitchen/OpticalFlow/P01_04/v\\frame_03495.jpg due to error: [Errno 2] No such file or directory: 'D:\\\\Datasets\\\\Datasets\\\\EPIC_Kitchen\\\\OpticalFlow\\\\P01_04\\\\v\\\\frame_03495.jpg'\n",
      "Skipping frame: D:/Datasets/Datasets/EPIC_Kitchen/OpticalFlow/P01_04/u\\frame_03500.jpg due to error: [Errno 2] No such file or directory: 'D:\\\\Datasets\\\\Datasets\\\\EPIC_Kitchen\\\\OpticalFlow\\\\P01_04\\\\u\\\\frame_03500.jpg'\n",
      "Skipping frame: D:/Datasets/Datasets/EPIC_Kitchen/OpticalFlow/P01_04/v\\frame_03500.jpg due to error: [Errno 2] No such file or directory: 'D:\\\\Datasets\\\\Datasets\\\\EPIC_Kitchen\\\\OpticalFlow\\\\P01_04\\\\v\\\\frame_03500.jpg'\n",
      "Skipping frame: D:/Datasets/Datasets/EPIC_Kitchen/OpticalFlow/P01_04/u\\frame_03505.jpg due to error: [Errno 2] No such file or directory: 'D:\\\\Datasets\\\\Datasets\\\\EPIC_Kitchen\\\\OpticalFlow\\\\P01_04\\\\u\\\\frame_03505.jpg'\n",
      "Skipping frame: D:/Datasets/Datasets/EPIC_Kitchen/OpticalFlow/P01_04/v\\frame_03505.jpg due to error: [Errno 2] No such file or directory: 'D:\\\\Datasets\\\\Datasets\\\\EPIC_Kitchen\\\\OpticalFlow\\\\P01_04\\\\v\\\\frame_03505.jpg'\n"
     ]
    },
    {
     "name": "stderr",
     "output_type": "stream",
     "text": [
      "Extracting Features with DEFT:  56%|██████████████████████████▉                     | 708/1262 [00:56<00:23, 23.49it/s]"
     ]
    },
    {
     "name": "stdout",
     "output_type": "stream",
     "text": [
      "Skipping frame: D:/Datasets/Datasets/EPIC_Kitchen/OpticalFlow/P01_04/u\\frame_03510.jpg due to error: [Errno 2] No such file or directory: 'D:\\\\Datasets\\\\Datasets\\\\EPIC_Kitchen\\\\OpticalFlow\\\\P01_04\\\\u\\\\frame_03510.jpg'\n",
      "Skipping frame: D:/Datasets/Datasets/EPIC_Kitchen/OpticalFlow/P01_04/v\\frame_03510.jpg due to error: [Errno 2] No such file or directory: 'D:\\\\Datasets\\\\Datasets\\\\EPIC_Kitchen\\\\OpticalFlow\\\\P01_04\\\\v\\\\frame_03510.jpg'\n",
      "Skipping frame: D:/Datasets/Datasets/EPIC_Kitchen/OpticalFlow/P01_04/u\\frame_03515.jpg due to error: [Errno 2] No such file or directory: 'D:\\\\Datasets\\\\Datasets\\\\EPIC_Kitchen\\\\OpticalFlow\\\\P01_04\\\\u\\\\frame_03515.jpg'\n",
      "Skipping frame: D:/Datasets/Datasets/EPIC_Kitchen/OpticalFlow/P01_04/v\\frame_03515.jpg due to error: [Errno 2] No such file or directory: 'D:\\\\Datasets\\\\Datasets\\\\EPIC_Kitchen\\\\OpticalFlow\\\\P01_04\\\\v\\\\frame_03515.jpg'\n",
      "Skipping frame: D:/Datasets/Datasets/EPIC_Kitchen/OpticalFlow/P01_04/u\\frame_03520.jpg due to error: [Errno 2] No such file or directory: 'D:\\\\Datasets\\\\Datasets\\\\EPIC_Kitchen\\\\OpticalFlow\\\\P01_04\\\\u\\\\frame_03520.jpg'\n",
      "Skipping frame: D:/Datasets/Datasets/EPIC_Kitchen/OpticalFlow/P01_04/v\\frame_03520.jpg due to error: [Errno 2] No such file or directory: 'D:\\\\Datasets\\\\Datasets\\\\EPIC_Kitchen\\\\OpticalFlow\\\\P01_04\\\\v\\\\frame_03520.jpg'\n",
      "Skipping frame: D:/Datasets/Datasets/EPIC_Kitchen/OpticalFlow/P01_04/u\\frame_03525.jpg due to error: [Errno 2] No such file or directory: 'D:\\\\Datasets\\\\Datasets\\\\EPIC_Kitchen\\\\OpticalFlow\\\\P01_04\\\\u\\\\frame_03525.jpg'\n",
      "Skipping frame: D:/Datasets/Datasets/EPIC_Kitchen/OpticalFlow/P01_04/v\\frame_03525.jpg due to error: [Errno 2] No such file or directory: 'D:\\\\Datasets\\\\Datasets\\\\EPIC_Kitchen\\\\OpticalFlow\\\\P01_04\\\\v\\\\frame_03525.jpg'\n",
      "Skipping frame: D:/Datasets/Datasets/EPIC_Kitchen/OpticalFlow/P01_04/u\\frame_03530.jpg due to error: [Errno 2] No such file or directory: 'D:\\\\Datasets\\\\Datasets\\\\EPIC_Kitchen\\\\OpticalFlow\\\\P01_04\\\\u\\\\frame_03530.jpg'\n",
      "Skipping frame: D:/Datasets/Datasets/EPIC_Kitchen/OpticalFlow/P01_04/v\\frame_03530.jpg due to error: [Errno 2] No such file or directory: 'D:\\\\Datasets\\\\Datasets\\\\EPIC_Kitchen\\\\OpticalFlow\\\\P01_04\\\\v\\\\frame_03530.jpg'\n",
      "Skipping frame: D:/Datasets/Datasets/EPIC_Kitchen/OpticalFlow/P01_04/u\\frame_03535.jpg due to error: [Errno 2] No such file or directory: 'D:\\\\Datasets\\\\Datasets\\\\EPIC_Kitchen\\\\OpticalFlow\\\\P01_04\\\\u\\\\frame_03535.jpg'\n",
      "Skipping frame: D:/Datasets/Datasets/EPIC_Kitchen/OpticalFlow/P01_04/v\\frame_03535.jpg due to error: [Errno 2] No such file or directory: 'D:\\\\Datasets\\\\Datasets\\\\EPIC_Kitchen\\\\OpticalFlow\\\\P01_04\\\\v\\\\frame_03535.jpg'\n"
     ]
    },
    {
     "name": "stderr",
     "output_type": "stream",
     "text": [
      "\r",
      "Extracting Features with DEFT:  56%|███████████████████████████                     | 711/1262 [00:56<00:23, 23.05it/s]"
     ]
    },
    {
     "name": "stdout",
     "output_type": "stream",
     "text": [
      "Skipping frame: D:/Datasets/Datasets/EPIC_Kitchen/OpticalFlow/P01_04/u\\frame_03540.jpg due to error: [Errno 2] No such file or directory: 'D:\\\\Datasets\\\\Datasets\\\\EPIC_Kitchen\\\\OpticalFlow\\\\P01_04\\\\u\\\\frame_03540.jpg'\n",
      "Skipping frame: D:/Datasets/Datasets/EPIC_Kitchen/OpticalFlow/P01_04/v\\frame_03540.jpg due to error: [Errno 2] No such file or directory: 'D:\\\\Datasets\\\\Datasets\\\\EPIC_Kitchen\\\\OpticalFlow\\\\P01_04\\\\v\\\\frame_03540.jpg'\n",
      "Skipping frame: D:/Datasets/Datasets/EPIC_Kitchen/OpticalFlow/P01_04/u\\frame_03545.jpg due to error: [Errno 2] No such file or directory: 'D:\\\\Datasets\\\\Datasets\\\\EPIC_Kitchen\\\\OpticalFlow\\\\P01_04\\\\u\\\\frame_03545.jpg'\n",
      "Skipping frame: D:/Datasets/Datasets/EPIC_Kitchen/OpticalFlow/P01_04/v\\frame_03545.jpg due to error: [Errno 2] No such file or directory: 'D:\\\\Datasets\\\\Datasets\\\\EPIC_Kitchen\\\\OpticalFlow\\\\P01_04\\\\v\\\\frame_03545.jpg'\n",
      "Skipping frame: D:/Datasets/Datasets/EPIC_Kitchen/OpticalFlow/P01_04/u\\frame_03550.jpg due to error: [Errno 2] No such file or directory: 'D:\\\\Datasets\\\\Datasets\\\\EPIC_Kitchen\\\\OpticalFlow\\\\P01_04\\\\u\\\\frame_03550.jpg'\n",
      "Skipping frame: D:/Datasets/Datasets/EPIC_Kitchen/OpticalFlow/P01_04/v\\frame_03550.jpg due to error: [Errno 2] No such file or directory: 'D:\\\\Datasets\\\\Datasets\\\\EPIC_Kitchen\\\\OpticalFlow\\\\P01_04\\\\v\\\\frame_03550.jpg'\n",
      "Skipping frame: D:/Datasets/Datasets/EPIC_Kitchen/OpticalFlow/P01_04/u\\frame_03555.jpg due to error: [Errno 2] No such file or directory: 'D:\\\\Datasets\\\\Datasets\\\\EPIC_Kitchen\\\\OpticalFlow\\\\P01_04\\\\u\\\\frame_03555.jpg'\n",
      "Skipping frame: D:/Datasets/Datasets/EPIC_Kitchen/OpticalFlow/P01_04/v\\frame_03555.jpg due to error: [Errno 2] No such file or directory: 'D:\\\\Datasets\\\\Datasets\\\\EPIC_Kitchen\\\\OpticalFlow\\\\P01_04\\\\v\\\\frame_03555.jpg'\n",
      "Skipping frame: D:/Datasets/Datasets/EPIC_Kitchen/OpticalFlow/P01_04/u\\frame_03560.jpg due to error: [Errno 2] No such file or directory: 'D:\\\\Datasets\\\\Datasets\\\\EPIC_Kitchen\\\\OpticalFlow\\\\P01_04\\\\u\\\\frame_03560.jpg'\n",
      "Skipping frame: D:/Datasets/Datasets/EPIC_Kitchen/OpticalFlow/P01_04/v\\frame_03560.jpg due to error: [Errno 2] No such file or directory: 'D:\\\\Datasets\\\\Datasets\\\\EPIC_Kitchen\\\\OpticalFlow\\\\P01_04\\\\v\\\\frame_03560.jpg'\n"
     ]
    },
    {
     "name": "stderr",
     "output_type": "stream",
     "text": [
      "Extracting Features with DEFT:  57%|███████████████████████████▎                    | 717/1262 [00:56<00:23, 23.46it/s]"
     ]
    },
    {
     "name": "stdout",
     "output_type": "stream",
     "text": [
      "Skipping frame: D:/Datasets/Datasets/EPIC_Kitchen/OpticalFlow/P01_04/u\\frame_03565.jpg due to error: [Errno 2] No such file or directory: 'D:\\\\Datasets\\\\Datasets\\\\EPIC_Kitchen\\\\OpticalFlow\\\\P01_04\\\\u\\\\frame_03565.jpg'\n",
      "Skipping frame: D:/Datasets/Datasets/EPIC_Kitchen/OpticalFlow/P01_04/v\\frame_03565.jpg due to error: [Errno 2] No such file or directory: 'D:\\\\Datasets\\\\Datasets\\\\EPIC_Kitchen\\\\OpticalFlow\\\\P01_04\\\\v\\\\frame_03565.jpg'\n",
      "Skipping frame: D:/Datasets/Datasets/EPIC_Kitchen/OpticalFlow/P01_04/u\\frame_03570.jpg due to error: [Errno 2] No such file or directory: 'D:\\\\Datasets\\\\Datasets\\\\EPIC_Kitchen\\\\OpticalFlow\\\\P01_04\\\\u\\\\frame_03570.jpg'\n",
      "Skipping frame: D:/Datasets/Datasets/EPIC_Kitchen/OpticalFlow/P01_04/v\\frame_03570.jpg due to error: [Errno 2] No such file or directory: 'D:\\\\Datasets\\\\Datasets\\\\EPIC_Kitchen\\\\OpticalFlow\\\\P01_04\\\\v\\\\frame_03570.jpg'\n",
      "Skipping frame: D:/Datasets/Datasets/EPIC_Kitchen/OpticalFlow/P01_04/u\\frame_03575.jpg due to error: [Errno 2] No such file or directory: 'D:\\\\Datasets\\\\Datasets\\\\EPIC_Kitchen\\\\OpticalFlow\\\\P01_04\\\\u\\\\frame_03575.jpg'\n",
      "Skipping frame: D:/Datasets/Datasets/EPIC_Kitchen/OpticalFlow/P01_04/v\\frame_03575.jpg due to error: [Errno 2] No such file or directory: 'D:\\\\Datasets\\\\Datasets\\\\EPIC_Kitchen\\\\OpticalFlow\\\\P01_04\\\\v\\\\frame_03575.jpg'\n",
      "Skipping frame: D:/Datasets/Datasets/EPIC_Kitchen/OpticalFlow/P01_04/u\\frame_03580.jpg due to error: [Errno 2] No such file or directory: 'D:\\\\Datasets\\\\Datasets\\\\EPIC_Kitchen\\\\OpticalFlow\\\\P01_04\\\\u\\\\frame_03580.jpg'\n",
      "Skipping frame: D:/Datasets/Datasets/EPIC_Kitchen/OpticalFlow/P01_04/v\\frame_03580.jpg due to error: [Errno 2] No such file or directory: 'D:\\\\Datasets\\\\Datasets\\\\EPIC_Kitchen\\\\OpticalFlow\\\\P01_04\\\\v\\\\frame_03580.jpg'\n",
      "Skipping frame: D:/Datasets/Datasets/EPIC_Kitchen/OpticalFlow/P01_04/u\\frame_03585.jpg due to error: [Errno 2] No such file or directory: 'D:\\\\Datasets\\\\Datasets\\\\EPIC_Kitchen\\\\OpticalFlow\\\\P01_04\\\\u\\\\frame_03585.jpg'\n",
      "Skipping frame: D:/Datasets/Datasets/EPIC_Kitchen/OpticalFlow/P01_04/v\\frame_03585.jpg due to error: [Errno 2] No such file or directory: 'D:\\\\Datasets\\\\Datasets\\\\EPIC_Kitchen\\\\OpticalFlow\\\\P01_04\\\\v\\\\frame_03585.jpg'\n"
     ]
    },
    {
     "name": "stderr",
     "output_type": "stream",
     "text": [
      "Extracting Features with DEFT:  57%|███████████████████████████▍                    | 723/1262 [00:56<00:23, 22.81it/s]"
     ]
    },
    {
     "name": "stdout",
     "output_type": "stream",
     "text": [
      "Skipping frame: D:/Datasets/Datasets/EPIC_Kitchen/OpticalFlow/P01_04/u\\frame_03590.jpg due to error: [Errno 2] No such file or directory: 'D:\\\\Datasets\\\\Datasets\\\\EPIC_Kitchen\\\\OpticalFlow\\\\P01_04\\\\u\\\\frame_03590.jpg'\n",
      "Skipping frame: D:/Datasets/Datasets/EPIC_Kitchen/OpticalFlow/P01_04/v\\frame_03590.jpg due to error: [Errno 2] No such file or directory: 'D:\\\\Datasets\\\\Datasets\\\\EPIC_Kitchen\\\\OpticalFlow\\\\P01_04\\\\v\\\\frame_03590.jpg'\n",
      "Skipping frame: D:/Datasets/Datasets/EPIC_Kitchen/OpticalFlow/P01_04/u\\frame_03595.jpg due to error: [Errno 2] No such file or directory: 'D:\\\\Datasets\\\\Datasets\\\\EPIC_Kitchen\\\\OpticalFlow\\\\P01_04\\\\u\\\\frame_03595.jpg'\n",
      "Skipping frame: D:/Datasets/Datasets/EPIC_Kitchen/OpticalFlow/P01_04/v\\frame_03595.jpg due to error: [Errno 2] No such file or directory: 'D:\\\\Datasets\\\\Datasets\\\\EPIC_Kitchen\\\\OpticalFlow\\\\P01_04\\\\v\\\\frame_03595.jpg'\n",
      "Skipping frame: D:/Datasets/Datasets/EPIC_Kitchen/OpticalFlow/P01_04/u\\frame_03600.jpg due to error: [Errno 2] No such file or directory: 'D:\\\\Datasets\\\\Datasets\\\\EPIC_Kitchen\\\\OpticalFlow\\\\P01_04\\\\u\\\\frame_03600.jpg'\n",
      "Skipping frame: D:/Datasets/Datasets/EPIC_Kitchen/OpticalFlow/P01_04/v\\frame_03600.jpg due to error: [Errno 2] No such file or directory: 'D:\\\\Datasets\\\\Datasets\\\\EPIC_Kitchen\\\\OpticalFlow\\\\P01_04\\\\v\\\\frame_03600.jpg'\n",
      "Skipping frame: D:/Datasets/Datasets/EPIC_Kitchen/OpticalFlow/P01_04/u\\frame_03605.jpg due to error: [Errno 2] No such file or directory: 'D:\\\\Datasets\\\\Datasets\\\\EPIC_Kitchen\\\\OpticalFlow\\\\P01_04\\\\u\\\\frame_03605.jpg'\n",
      "Skipping frame: D:/Datasets/Datasets/EPIC_Kitchen/OpticalFlow/P01_04/v\\frame_03605.jpg due to error: [Errno 2] No such file or directory: 'D:\\\\Datasets\\\\Datasets\\\\EPIC_Kitchen\\\\OpticalFlow\\\\P01_04\\\\v\\\\frame_03605.jpg'\n",
      "Skipping frame: D:/Datasets/Datasets/EPIC_Kitchen/OpticalFlow/P01_04/u\\frame_03610.jpg due to error: [Errno 2] No such file or directory: 'D:\\\\Datasets\\\\Datasets\\\\EPIC_Kitchen\\\\OpticalFlow\\\\P01_04\\\\u\\\\frame_03610.jpg'\n",
      "Skipping frame: D:/Datasets/Datasets/EPIC_Kitchen/OpticalFlow/P01_04/v\\frame_03610.jpg due to error: [Errno 2] No such file or directory: 'D:\\\\Datasets\\\\Datasets\\\\EPIC_Kitchen\\\\OpticalFlow\\\\P01_04\\\\v\\\\frame_03610.jpg'\n"
     ]
    },
    {
     "name": "stderr",
     "output_type": "stream",
     "text": [
      "\r",
      "Extracting Features with DEFT:  58%|███████████████████████████▌                    | 726/1262 [00:56<00:23, 22.89it/s]"
     ]
    },
    {
     "name": "stdout",
     "output_type": "stream",
     "text": [
      "Skipping frame: D:/Datasets/Datasets/EPIC_Kitchen/OpticalFlow/P01_04/u\\frame_03615.jpg due to error: [Errno 2] No such file or directory: 'D:\\\\Datasets\\\\Datasets\\\\EPIC_Kitchen\\\\OpticalFlow\\\\P01_04\\\\u\\\\frame_03615.jpg'\n",
      "Skipping frame: D:/Datasets/Datasets/EPIC_Kitchen/OpticalFlow/P01_04/v\\frame_03615.jpg due to error: [Errno 2] No such file or directory: 'D:\\\\Datasets\\\\Datasets\\\\EPIC_Kitchen\\\\OpticalFlow\\\\P01_04\\\\v\\\\frame_03615.jpg'\n",
      "Skipping frame: D:/Datasets/Datasets/EPIC_Kitchen/OpticalFlow/P01_04/u\\frame_03620.jpg due to error: [Errno 2] No such file or directory: 'D:\\\\Datasets\\\\Datasets\\\\EPIC_Kitchen\\\\OpticalFlow\\\\P01_04\\\\u\\\\frame_03620.jpg'\n",
      "Skipping frame: D:/Datasets/Datasets/EPIC_Kitchen/OpticalFlow/P01_04/v\\frame_03620.jpg due to error: [Errno 2] No such file or directory: 'D:\\\\Datasets\\\\Datasets\\\\EPIC_Kitchen\\\\OpticalFlow\\\\P01_04\\\\v\\\\frame_03620.jpg'\n",
      "Skipping frame: D:/Datasets/Datasets/EPIC_Kitchen/OpticalFlow/P01_04/u\\frame_03625.jpg due to error: [Errno 2] No such file or directory: 'D:\\\\Datasets\\\\Datasets\\\\EPIC_Kitchen\\\\OpticalFlow\\\\P01_04\\\\u\\\\frame_03625.jpg'\n",
      "Skipping frame: D:/Datasets/Datasets/EPIC_Kitchen/OpticalFlow/P01_04/v\\frame_03625.jpg due to error: [Errno 2] No such file or directory: 'D:\\\\Datasets\\\\Datasets\\\\EPIC_Kitchen\\\\OpticalFlow\\\\P01_04\\\\v\\\\frame_03625.jpg'\n",
      "Skipping frame: D:/Datasets/Datasets/EPIC_Kitchen/OpticalFlow/P01_04/u\\frame_03630.jpg due to error: [Errno 2] No such file or directory: 'D:\\\\Datasets\\\\Datasets\\\\EPIC_Kitchen\\\\OpticalFlow\\\\P01_04\\\\u\\\\frame_03630.jpg'\n",
      "Skipping frame: D:/Datasets/Datasets/EPIC_Kitchen/OpticalFlow/P01_04/v\\frame_03630.jpg due to error: [Errno 2] No such file or directory: 'D:\\\\Datasets\\\\Datasets\\\\EPIC_Kitchen\\\\OpticalFlow\\\\P01_04\\\\v\\\\frame_03630.jpg'\n",
      "Skipping frame: D:/Datasets/Datasets/EPIC_Kitchen/OpticalFlow/P01_04/u\\frame_03635.jpg due to error: [Errno 2] No such file or directory: 'D:\\\\Datasets\\\\Datasets\\\\EPIC_Kitchen\\\\OpticalFlow\\\\P01_04\\\\u\\\\frame_03635.jpg'\n",
      "Skipping frame: D:/Datasets/Datasets/EPIC_Kitchen/OpticalFlow/P01_04/v\\frame_03635.jpg due to error: [Errno 2] No such file or directory: 'D:\\\\Datasets\\\\Datasets\\\\EPIC_Kitchen\\\\OpticalFlow\\\\P01_04\\\\v\\\\frame_03635.jpg'\n"
     ]
    },
    {
     "name": "stderr",
     "output_type": "stream",
     "text": [
      "Extracting Features with DEFT:  58%|███████████████████████████▊                    | 732/1262 [00:57<00:23, 22.65it/s]"
     ]
    },
    {
     "name": "stdout",
     "output_type": "stream",
     "text": [
      "Skipping frame: D:/Datasets/Datasets/EPIC_Kitchen/OpticalFlow/P01_04/u\\frame_03640.jpg due to error: [Errno 2] No such file or directory: 'D:\\\\Datasets\\\\Datasets\\\\EPIC_Kitchen\\\\OpticalFlow\\\\P01_04\\\\u\\\\frame_03640.jpg'\n",
      "Skipping frame: D:/Datasets/Datasets/EPIC_Kitchen/OpticalFlow/P01_04/v\\frame_03640.jpg due to error: [Errno 2] No such file or directory: 'D:\\\\Datasets\\\\Datasets\\\\EPIC_Kitchen\\\\OpticalFlow\\\\P01_04\\\\v\\\\frame_03640.jpg'\n",
      "Skipping frame: D:/Datasets/Datasets/EPIC_Kitchen/OpticalFlow/P01_04/u\\frame_03645.jpg due to error: [Errno 2] No such file or directory: 'D:\\\\Datasets\\\\Datasets\\\\EPIC_Kitchen\\\\OpticalFlow\\\\P01_04\\\\u\\\\frame_03645.jpg'\n",
      "Skipping frame: D:/Datasets/Datasets/EPIC_Kitchen/OpticalFlow/P01_04/v\\frame_03645.jpg due to error: [Errno 2] No such file or directory: 'D:\\\\Datasets\\\\Datasets\\\\EPIC_Kitchen\\\\OpticalFlow\\\\P01_04\\\\v\\\\frame_03645.jpg'\n",
      "Skipping frame: D:/Datasets/Datasets/EPIC_Kitchen/OpticalFlow/P01_04/u\\frame_03650.jpg due to error: [Errno 2] No such file or directory: 'D:\\\\Datasets\\\\Datasets\\\\EPIC_Kitchen\\\\OpticalFlow\\\\P01_04\\\\u\\\\frame_03650.jpg'\n",
      "Skipping frame: D:/Datasets/Datasets/EPIC_Kitchen/OpticalFlow/P01_04/v\\frame_03650.jpg due to error: [Errno 2] No such file or directory: 'D:\\\\Datasets\\\\Datasets\\\\EPIC_Kitchen\\\\OpticalFlow\\\\P01_04\\\\v\\\\frame_03650.jpg'\n",
      "Skipping frame: D:/Datasets/Datasets/EPIC_Kitchen/OpticalFlow/P01_04/u\\frame_03655.jpg due to error: [Errno 2] No such file or directory: 'D:\\\\Datasets\\\\Datasets\\\\EPIC_Kitchen\\\\OpticalFlow\\\\P01_04\\\\u\\\\frame_03655.jpg'\n",
      "Skipping frame: D:/Datasets/Datasets/EPIC_Kitchen/OpticalFlow/P01_04/v\\frame_03655.jpg due to error: [Errno 2] No such file or directory: 'D:\\\\Datasets\\\\Datasets\\\\EPIC_Kitchen\\\\OpticalFlow\\\\P01_04\\\\v\\\\frame_03655.jpg'\n",
      "Skipping frame: D:/Datasets/Datasets/EPIC_Kitchen/OpticalFlow/P01_04/u\\frame_03660.jpg due to error: [Errno 2] No such file or directory: 'D:\\\\Datasets\\\\Datasets\\\\EPIC_Kitchen\\\\OpticalFlow\\\\P01_04\\\\u\\\\frame_03660.jpg'\n",
      "Skipping frame: D:/Datasets/Datasets/EPIC_Kitchen/OpticalFlow/P01_04/v\\frame_03660.jpg due to error: [Errno 2] No such file or directory: 'D:\\\\Datasets\\\\Datasets\\\\EPIC_Kitchen\\\\OpticalFlow\\\\P01_04\\\\v\\\\frame_03660.jpg'\n",
      "Skipping frame: D:/Datasets/Datasets/EPIC_Kitchen/OpticalFlow/P01_04/u\\frame_03665.jpg due to error: [Errno 2] No such file or directory: 'D:\\\\Datasets\\\\Datasets\\\\EPIC_Kitchen\\\\OpticalFlow\\\\P01_04\\\\u\\\\frame_03665.jpg'\n",
      "Skipping frame: D:/Datasets/Datasets/EPIC_Kitchen/OpticalFlow/P01_04/v\\frame_03665.jpg due to error: [Errno 2] No such file or directory: 'D:\\\\Datasets\\\\Datasets\\\\EPIC_Kitchen\\\\OpticalFlow\\\\P01_04\\\\v\\\\frame_03665.jpg'\n"
     ]
    },
    {
     "name": "stderr",
     "output_type": "stream",
     "text": [
      "Extracting Features with DEFT:  58%|████████████████████████████                    | 738/1262 [00:57<00:22, 23.07it/s]"
     ]
    },
    {
     "name": "stdout",
     "output_type": "stream",
     "text": [
      "Skipping frame: D:/Datasets/Datasets/EPIC_Kitchen/OpticalFlow/P01_04/u\\frame_03670.jpg due to error: [Errno 2] No such file or directory: 'D:\\\\Datasets\\\\Datasets\\\\EPIC_Kitchen\\\\OpticalFlow\\\\P01_04\\\\u\\\\frame_03670.jpg'\n",
      "Skipping frame: D:/Datasets/Datasets/EPIC_Kitchen/OpticalFlow/P01_04/v\\frame_03670.jpg due to error: [Errno 2] No such file or directory: 'D:\\\\Datasets\\\\Datasets\\\\EPIC_Kitchen\\\\OpticalFlow\\\\P01_04\\\\v\\\\frame_03670.jpg'\n",
      "Skipping frame: D:/Datasets/Datasets/EPIC_Kitchen/OpticalFlow/P01_04/u\\frame_03675.jpg due to error: [Errno 2] No such file or directory: 'D:\\\\Datasets\\\\Datasets\\\\EPIC_Kitchen\\\\OpticalFlow\\\\P01_04\\\\u\\\\frame_03675.jpg'\n",
      "Skipping frame: D:/Datasets/Datasets/EPIC_Kitchen/OpticalFlow/P01_04/v\\frame_03675.jpg due to error: [Errno 2] No such file or directory: 'D:\\\\Datasets\\\\Datasets\\\\EPIC_Kitchen\\\\OpticalFlow\\\\P01_04\\\\v\\\\frame_03675.jpg'\n",
      "Skipping frame: D:/Datasets/Datasets/EPIC_Kitchen/OpticalFlow/P01_04/u\\frame_03680.jpg due to error: [Errno 2] No such file or directory: 'D:\\\\Datasets\\\\Datasets\\\\EPIC_Kitchen\\\\OpticalFlow\\\\P01_04\\\\u\\\\frame_03680.jpg'\n",
      "Skipping frame: D:/Datasets/Datasets/EPIC_Kitchen/OpticalFlow/P01_04/v\\frame_03680.jpg due to error: [Errno 2] No such file or directory: 'D:\\\\Datasets\\\\Datasets\\\\EPIC_Kitchen\\\\OpticalFlow\\\\P01_04\\\\v\\\\frame_03680.jpg'\n",
      "Skipping frame: D:/Datasets/Datasets/EPIC_Kitchen/OpticalFlow/P01_04/u\\frame_03685.jpg due to error: [Errno 2] No such file or directory: 'D:\\\\Datasets\\\\Datasets\\\\EPIC_Kitchen\\\\OpticalFlow\\\\P01_04\\\\u\\\\frame_03685.jpg'\n",
      "Skipping frame: D:/Datasets/Datasets/EPIC_Kitchen/OpticalFlow/P01_04/v\\frame_03685.jpg due to error: [Errno 2] No such file or directory: 'D:\\\\Datasets\\\\Datasets\\\\EPIC_Kitchen\\\\OpticalFlow\\\\P01_04\\\\v\\\\frame_03685.jpg'\n",
      "Skipping frame: D:/Datasets/Datasets/EPIC_Kitchen/OpticalFlow/P01_04/u\\frame_03690.jpg due to error: [Errno 2] No such file or directory: 'D:\\\\Datasets\\\\Datasets\\\\EPIC_Kitchen\\\\OpticalFlow\\\\P01_04\\\\u\\\\frame_03690.jpg'\n",
      "Skipping frame: D:/Datasets/Datasets/EPIC_Kitchen/OpticalFlow/P01_04/v\\frame_03690.jpg due to error: [Errno 2] No such file or directory: 'D:\\\\Datasets\\\\Datasets\\\\EPIC_Kitchen\\\\OpticalFlow\\\\P01_04\\\\v\\\\frame_03690.jpg'\n"
     ]
    },
    {
     "name": "stderr",
     "output_type": "stream",
     "text": [
      "Extracting Features with DEFT:  59%|████████████████████████████▎                   | 744/1262 [00:57<00:22, 22.75it/s]"
     ]
    },
    {
     "name": "stdout",
     "output_type": "stream",
     "text": [
      "Skipping frame: D:/Datasets/Datasets/EPIC_Kitchen/OpticalFlow/P01_04/u\\frame_03695.jpg due to error: [Errno 2] No such file or directory: 'D:\\\\Datasets\\\\Datasets\\\\EPIC_Kitchen\\\\OpticalFlow\\\\P01_04\\\\u\\\\frame_03695.jpg'\n",
      "Skipping frame: D:/Datasets/Datasets/EPIC_Kitchen/OpticalFlow/P01_04/v\\frame_03695.jpg due to error: [Errno 2] No such file or directory: 'D:\\\\Datasets\\\\Datasets\\\\EPIC_Kitchen\\\\OpticalFlow\\\\P01_04\\\\v\\\\frame_03695.jpg'\n",
      "Skipping frame: D:/Datasets/Datasets/EPIC_Kitchen/OpticalFlow/P01_04/u\\frame_03700.jpg due to error: [Errno 2] No such file or directory: 'D:\\\\Datasets\\\\Datasets\\\\EPIC_Kitchen\\\\OpticalFlow\\\\P01_04\\\\u\\\\frame_03700.jpg'\n",
      "Skipping frame: D:/Datasets/Datasets/EPIC_Kitchen/OpticalFlow/P01_04/v\\frame_03700.jpg due to error: [Errno 2] No such file or directory: 'D:\\\\Datasets\\\\Datasets\\\\EPIC_Kitchen\\\\OpticalFlow\\\\P01_04\\\\v\\\\frame_03700.jpg'\n",
      "Skipping frame: D:/Datasets/Datasets/EPIC_Kitchen/OpticalFlow/P01_04/u\\frame_03705.jpg due to error: [Errno 2] No such file or directory: 'D:\\\\Datasets\\\\Datasets\\\\EPIC_Kitchen\\\\OpticalFlow\\\\P01_04\\\\u\\\\frame_03705.jpg'\n",
      "Skipping frame: D:/Datasets/Datasets/EPIC_Kitchen/OpticalFlow/P01_04/v\\frame_03705.jpg due to error: [Errno 2] No such file or directory: 'D:\\\\Datasets\\\\Datasets\\\\EPIC_Kitchen\\\\OpticalFlow\\\\P01_04\\\\v\\\\frame_03705.jpg'\n",
      "Skipping frame: D:/Datasets/Datasets/EPIC_Kitchen/OpticalFlow/P01_04/u\\frame_03710.jpg due to error: [Errno 2] No such file or directory: 'D:\\\\Datasets\\\\Datasets\\\\EPIC_Kitchen\\\\OpticalFlow\\\\P01_04\\\\u\\\\frame_03710.jpg'\n",
      "Skipping frame: D:/Datasets/Datasets/EPIC_Kitchen/OpticalFlow/P01_04/v\\frame_03710.jpg due to error: [Errno 2] No such file or directory: 'D:\\\\Datasets\\\\Datasets\\\\EPIC_Kitchen\\\\OpticalFlow\\\\P01_04\\\\v\\\\frame_03710.jpg'\n",
      "Skipping frame: D:/Datasets/Datasets/EPIC_Kitchen/OpticalFlow/P01_04/u\\frame_03715.jpg due to error: [Errno 2] No such file or directory: 'D:\\\\Datasets\\\\Datasets\\\\EPIC_Kitchen\\\\OpticalFlow\\\\P01_04\\\\u\\\\frame_03715.jpg'\n",
      "Skipping frame: D:/Datasets/Datasets/EPIC_Kitchen/OpticalFlow/P01_04/v\\frame_03715.jpg due to error: [Errno 2] No such file or directory: 'D:\\\\Datasets\\\\Datasets\\\\EPIC_Kitchen\\\\OpticalFlow\\\\P01_04\\\\v\\\\frame_03715.jpg'\n"
     ]
    },
    {
     "name": "stderr",
     "output_type": "stream",
     "text": [
      "\r",
      "Extracting Features with DEFT:  59%|████████████████████████████▍                   | 747/1262 [00:57<00:22, 22.64it/s]"
     ]
    },
    {
     "name": "stdout",
     "output_type": "stream",
     "text": [
      "Skipping frame: D:/Datasets/Datasets/EPIC_Kitchen/OpticalFlow/P01_04/u\\frame_03720.jpg due to error: [Errno 2] No such file or directory: 'D:\\\\Datasets\\\\Datasets\\\\EPIC_Kitchen\\\\OpticalFlow\\\\P01_04\\\\u\\\\frame_03720.jpg'\n",
      "Skipping frame: D:/Datasets/Datasets/EPIC_Kitchen/OpticalFlow/P01_04/v\\frame_03720.jpg due to error: [Errno 2] No such file or directory: 'D:\\\\Datasets\\\\Datasets\\\\EPIC_Kitchen\\\\OpticalFlow\\\\P01_04\\\\v\\\\frame_03720.jpg'\n",
      "Skipping frame: D:/Datasets/Datasets/EPIC_Kitchen/OpticalFlow/P01_04/u\\frame_03725.jpg due to error: [Errno 2] No such file or directory: 'D:\\\\Datasets\\\\Datasets\\\\EPIC_Kitchen\\\\OpticalFlow\\\\P01_04\\\\u\\\\frame_03725.jpg'\n",
      "Skipping frame: D:/Datasets/Datasets/EPIC_Kitchen/OpticalFlow/P01_04/v\\frame_03725.jpg due to error: [Errno 2] No such file or directory: 'D:\\\\Datasets\\\\Datasets\\\\EPIC_Kitchen\\\\OpticalFlow\\\\P01_04\\\\v\\\\frame_03725.jpg'\n",
      "Skipping frame: D:/Datasets/Datasets/EPIC_Kitchen/OpticalFlow/P01_04/u\\frame_03730.jpg due to error: [Errno 2] No such file or directory: 'D:\\\\Datasets\\\\Datasets\\\\EPIC_Kitchen\\\\OpticalFlow\\\\P01_04\\\\u\\\\frame_03730.jpg'\n",
      "Skipping frame: D:/Datasets/Datasets/EPIC_Kitchen/OpticalFlow/P01_04/v\\frame_03730.jpg due to error: [Errno 2] No such file or directory: 'D:\\\\Datasets\\\\Datasets\\\\EPIC_Kitchen\\\\OpticalFlow\\\\P01_04\\\\v\\\\frame_03730.jpg'\n",
      "Skipping frame: D:/Datasets/Datasets/EPIC_Kitchen/OpticalFlow/P01_04/u\\frame_03735.jpg due to error: [Errno 2] No such file or directory: 'D:\\\\Datasets\\\\Datasets\\\\EPIC_Kitchen\\\\OpticalFlow\\\\P01_04\\\\u\\\\frame_03735.jpg'\n",
      "Skipping frame: D:/Datasets/Datasets/EPIC_Kitchen/OpticalFlow/P01_04/v\\frame_03735.jpg due to error: [Errno 2] No such file or directory: 'D:\\\\Datasets\\\\Datasets\\\\EPIC_Kitchen\\\\OpticalFlow\\\\P01_04\\\\v\\\\frame_03735.jpg'\n",
      "Skipping frame: D:/Datasets/Datasets/EPIC_Kitchen/OpticalFlow/P01_04/u\\frame_03740.jpg due to error: [Errno 2] No such file or directory: 'D:\\\\Datasets\\\\Datasets\\\\EPIC_Kitchen\\\\OpticalFlow\\\\P01_04\\\\u\\\\frame_03740.jpg'\n",
      "Skipping frame: D:/Datasets/Datasets/EPIC_Kitchen/OpticalFlow/P01_04/v\\frame_03740.jpg due to error: [Errno 2] No such file or directory: 'D:\\\\Datasets\\\\Datasets\\\\EPIC_Kitchen\\\\OpticalFlow\\\\P01_04\\\\v\\\\frame_03740.jpg'\n"
     ]
    },
    {
     "name": "stderr",
     "output_type": "stream",
     "text": [
      "Extracting Features with DEFT:  60%|████████████████████████████▋                   | 753/1262 [00:58<00:22, 22.69it/s]"
     ]
    },
    {
     "name": "stdout",
     "output_type": "stream",
     "text": [
      "Skipping frame: D:/Datasets/Datasets/EPIC_Kitchen/OpticalFlow/P01_04/u\\frame_03745.jpg due to error: [Errno 2] No such file or directory: 'D:\\\\Datasets\\\\Datasets\\\\EPIC_Kitchen\\\\OpticalFlow\\\\P01_04\\\\u\\\\frame_03745.jpg'\n",
      "Skipping frame: D:/Datasets/Datasets/EPIC_Kitchen/OpticalFlow/P01_04/v\\frame_03745.jpg due to error: [Errno 2] No such file or directory: 'D:\\\\Datasets\\\\Datasets\\\\EPIC_Kitchen\\\\OpticalFlow\\\\P01_04\\\\v\\\\frame_03745.jpg'\n",
      "Skipping frame: D:/Datasets/Datasets/EPIC_Kitchen/OpticalFlow/P01_04/u\\frame_03750.jpg due to error: [Errno 2] No such file or directory: 'D:\\\\Datasets\\\\Datasets\\\\EPIC_Kitchen\\\\OpticalFlow\\\\P01_04\\\\u\\\\frame_03750.jpg'\n",
      "Skipping frame: D:/Datasets/Datasets/EPIC_Kitchen/OpticalFlow/P01_04/v\\frame_03750.jpg due to error: [Errno 2] No such file or directory: 'D:\\\\Datasets\\\\Datasets\\\\EPIC_Kitchen\\\\OpticalFlow\\\\P01_04\\\\v\\\\frame_03750.jpg'\n",
      "Skipping frame: D:/Datasets/Datasets/EPIC_Kitchen/OpticalFlow/P01_04/u\\frame_03755.jpg due to error: [Errno 2] No such file or directory: 'D:\\\\Datasets\\\\Datasets\\\\EPIC_Kitchen\\\\OpticalFlow\\\\P01_04\\\\u\\\\frame_03755.jpg'\n",
      "Skipping frame: D:/Datasets/Datasets/EPIC_Kitchen/OpticalFlow/P01_04/v\\frame_03755.jpg due to error: [Errno 2] No such file or directory: 'D:\\\\Datasets\\\\Datasets\\\\EPIC_Kitchen\\\\OpticalFlow\\\\P01_04\\\\v\\\\frame_03755.jpg'\n",
      "Skipping frame: D:/Datasets/Datasets/EPIC_Kitchen/OpticalFlow/P01_04/u\\frame_03760.jpg due to error: [Errno 2] No such file or directory: 'D:\\\\Datasets\\\\Datasets\\\\EPIC_Kitchen\\\\OpticalFlow\\\\P01_04\\\\u\\\\frame_03760.jpg'\n",
      "Skipping frame: D:/Datasets/Datasets/EPIC_Kitchen/OpticalFlow/P01_04/v\\frame_03760.jpg due to error: [Errno 2] No such file or directory: 'D:\\\\Datasets\\\\Datasets\\\\EPIC_Kitchen\\\\OpticalFlow\\\\P01_04\\\\v\\\\frame_03760.jpg'\n",
      "Skipping frame: D:/Datasets/Datasets/EPIC_Kitchen/OpticalFlow/P01_04/u\\frame_03765.jpg due to error: [Errno 2] No such file or directory: 'D:\\\\Datasets\\\\Datasets\\\\EPIC_Kitchen\\\\OpticalFlow\\\\P01_04\\\\u\\\\frame_03765.jpg'\n",
      "Skipping frame: D:/Datasets/Datasets/EPIC_Kitchen/OpticalFlow/P01_04/v\\frame_03765.jpg due to error: [Errno 2] No such file or directory: 'D:\\\\Datasets\\\\Datasets\\\\EPIC_Kitchen\\\\OpticalFlow\\\\P01_04\\\\v\\\\frame_03765.jpg'\n"
     ]
    },
    {
     "name": "stderr",
     "output_type": "stream",
     "text": [
      "\r",
      "Extracting Features with DEFT:  60%|████████████████████████████▊                   | 756/1262 [00:58<00:23, 21.98it/s]"
     ]
    },
    {
     "name": "stdout",
     "output_type": "stream",
     "text": [
      "Skipping frame: D:/Datasets/Datasets/EPIC_Kitchen/OpticalFlow/P01_04/u\\frame_03770.jpg due to error: [Errno 2] No such file or directory: 'D:\\\\Datasets\\\\Datasets\\\\EPIC_Kitchen\\\\OpticalFlow\\\\P01_04\\\\u\\\\frame_03770.jpg'\n",
      "Skipping frame: D:/Datasets/Datasets/EPIC_Kitchen/OpticalFlow/P01_04/v\\frame_03770.jpg due to error: [Errno 2] No such file or directory: 'D:\\\\Datasets\\\\Datasets\\\\EPIC_Kitchen\\\\OpticalFlow\\\\P01_04\\\\v\\\\frame_03770.jpg'\n",
      "Skipping frame: D:/Datasets/Datasets/EPIC_Kitchen/OpticalFlow/P01_04/u\\frame_03775.jpg due to error: [Errno 2] No such file or directory: 'D:\\\\Datasets\\\\Datasets\\\\EPIC_Kitchen\\\\OpticalFlow\\\\P01_04\\\\u\\\\frame_03775.jpg'\n",
      "Skipping frame: D:/Datasets/Datasets/EPIC_Kitchen/OpticalFlow/P01_04/v\\frame_03775.jpg due to error: [Errno 2] No such file or directory: 'D:\\\\Datasets\\\\Datasets\\\\EPIC_Kitchen\\\\OpticalFlow\\\\P01_04\\\\v\\\\frame_03775.jpg'\n",
      "Skipping frame: D:/Datasets/Datasets/EPIC_Kitchen/OpticalFlow/P01_04/u\\frame_03780.jpg due to error: [Errno 2] No such file or directory: 'D:\\\\Datasets\\\\Datasets\\\\EPIC_Kitchen\\\\OpticalFlow\\\\P01_04\\\\u\\\\frame_03780.jpg'\n",
      "Skipping frame: D:/Datasets/Datasets/EPIC_Kitchen/OpticalFlow/P01_04/v\\frame_03780.jpg due to error: [Errno 2] No such file or directory: 'D:\\\\Datasets\\\\Datasets\\\\EPIC_Kitchen\\\\OpticalFlow\\\\P01_04\\\\v\\\\frame_03780.jpg'\n",
      "Skipping frame: D:/Datasets/Datasets/EPIC_Kitchen/OpticalFlow/P01_04/u\\frame_03785.jpg due to error: [Errno 2] No such file or directory: 'D:\\\\Datasets\\\\Datasets\\\\EPIC_Kitchen\\\\OpticalFlow\\\\P01_04\\\\u\\\\frame_03785.jpg'\n",
      "Skipping frame: D:/Datasets/Datasets/EPIC_Kitchen/OpticalFlow/P01_04/v\\frame_03785.jpg due to error: [Errno 2] No such file or directory: 'D:\\\\Datasets\\\\Datasets\\\\EPIC_Kitchen\\\\OpticalFlow\\\\P01_04\\\\v\\\\frame_03785.jpg'\n"
     ]
    },
    {
     "name": "stderr",
     "output_type": "stream",
     "text": [
      "Extracting Features with DEFT:  60%|████████████████████████████▉                   | 762/1262 [00:58<00:23, 21.55it/s]"
     ]
    },
    {
     "name": "stdout",
     "output_type": "stream",
     "text": [
      "Skipping frame: D:/Datasets/Datasets/EPIC_Kitchen/OpticalFlow/P01_04/u\\frame_03790.jpg due to error: [Errno 2] No such file or directory: 'D:\\\\Datasets\\\\Datasets\\\\EPIC_Kitchen\\\\OpticalFlow\\\\P01_04\\\\u\\\\frame_03790.jpg'\n",
      "Skipping frame: D:/Datasets/Datasets/EPIC_Kitchen/OpticalFlow/P01_04/v\\frame_03790.jpg due to error: [Errno 2] No such file or directory: 'D:\\\\Datasets\\\\Datasets\\\\EPIC_Kitchen\\\\OpticalFlow\\\\P01_04\\\\v\\\\frame_03790.jpg'\n",
      "Skipping frame: D:/Datasets/Datasets/EPIC_Kitchen/OpticalFlow/P01_04/u\\frame_03795.jpg due to error: [Errno 2] No such file or directory: 'D:\\\\Datasets\\\\Datasets\\\\EPIC_Kitchen\\\\OpticalFlow\\\\P01_04\\\\u\\\\frame_03795.jpg'\n",
      "Skipping frame: D:/Datasets/Datasets/EPIC_Kitchen/OpticalFlow/P01_04/v\\frame_03795.jpg due to error: [Errno 2] No such file or directory: 'D:\\\\Datasets\\\\Datasets\\\\EPIC_Kitchen\\\\OpticalFlow\\\\P01_04\\\\v\\\\frame_03795.jpg'\n",
      "Skipping frame: D:/Datasets/Datasets/EPIC_Kitchen/OpticalFlow/P01_04/u\\frame_03800.jpg due to error: [Errno 2] No such file or directory: 'D:\\\\Datasets\\\\Datasets\\\\EPIC_Kitchen\\\\OpticalFlow\\\\P01_04\\\\u\\\\frame_03800.jpg'\n",
      "Skipping frame: D:/Datasets/Datasets/EPIC_Kitchen/OpticalFlow/P01_04/v\\frame_03800.jpg due to error: [Errno 2] No such file or directory: 'D:\\\\Datasets\\\\Datasets\\\\EPIC_Kitchen\\\\OpticalFlow\\\\P01_04\\\\v\\\\frame_03800.jpg'\n",
      "Skipping frame: D:/Datasets/Datasets/EPIC_Kitchen/OpticalFlow/P01_04/u\\frame_03805.jpg due to error: [Errno 2] No such file or directory: 'D:\\\\Datasets\\\\Datasets\\\\EPIC_Kitchen\\\\OpticalFlow\\\\P01_04\\\\u\\\\frame_03805.jpg'\n",
      "Skipping frame: D:/Datasets/Datasets/EPIC_Kitchen/OpticalFlow/P01_04/v\\frame_03805.jpg due to error: [Errno 2] No such file or directory: 'D:\\\\Datasets\\\\Datasets\\\\EPIC_Kitchen\\\\OpticalFlow\\\\P01_04\\\\v\\\\frame_03805.jpg'\n",
      "Skipping frame: D:/Datasets/Datasets/EPIC_Kitchen/OpticalFlow/P01_04/u\\frame_03810.jpg due to error: [Errno 2] No such file or directory: 'D:\\\\Datasets\\\\Datasets\\\\EPIC_Kitchen\\\\OpticalFlow\\\\P01_04\\\\u\\\\frame_03810.jpg'\n",
      "Skipping frame: D:/Datasets/Datasets/EPIC_Kitchen/OpticalFlow/P01_04/v\\frame_03810.jpg due to error: [Errno 2] No such file or directory: 'D:\\\\Datasets\\\\Datasets\\\\EPIC_Kitchen\\\\OpticalFlow\\\\P01_04\\\\v\\\\frame_03810.jpg'\n"
     ]
    },
    {
     "name": "stderr",
     "output_type": "stream",
     "text": [
      "\r",
      "Extracting Features with DEFT:  61%|█████████████████████████████                   | 765/1262 [00:58<00:23, 21.11it/s]"
     ]
    },
    {
     "name": "stdout",
     "output_type": "stream",
     "text": [
      "Skipping frame: D:/Datasets/Datasets/EPIC_Kitchen/OpticalFlow/P01_04/u\\frame_03815.jpg due to error: [Errno 2] No such file or directory: 'D:\\\\Datasets\\\\Datasets\\\\EPIC_Kitchen\\\\OpticalFlow\\\\P01_04\\\\u\\\\frame_03815.jpg'\n",
      "Skipping frame: D:/Datasets/Datasets/EPIC_Kitchen/OpticalFlow/P01_04/v\\frame_03815.jpg due to error: [Errno 2] No such file or directory: 'D:\\\\Datasets\\\\Datasets\\\\EPIC_Kitchen\\\\OpticalFlow\\\\P01_04\\\\v\\\\frame_03815.jpg'\n",
      "Skipping frame: D:/Datasets/Datasets/EPIC_Kitchen/OpticalFlow/P01_04/u\\frame_03820.jpg due to error: [Errno 2] No such file or directory: 'D:\\\\Datasets\\\\Datasets\\\\EPIC_Kitchen\\\\OpticalFlow\\\\P01_04\\\\u\\\\frame_03820.jpg'\n",
      "Skipping frame: D:/Datasets/Datasets/EPIC_Kitchen/OpticalFlow/P01_04/v\\frame_03820.jpg due to error: [Errno 2] No such file or directory: 'D:\\\\Datasets\\\\Datasets\\\\EPIC_Kitchen\\\\OpticalFlow\\\\P01_04\\\\v\\\\frame_03820.jpg'\n",
      "Skipping frame: D:/Datasets/Datasets/EPIC_Kitchen/OpticalFlow/P01_04/u\\frame_03825.jpg due to error: [Errno 2] No such file or directory: 'D:\\\\Datasets\\\\Datasets\\\\EPIC_Kitchen\\\\OpticalFlow\\\\P01_04\\\\u\\\\frame_03825.jpg'\n",
      "Skipping frame: D:/Datasets/Datasets/EPIC_Kitchen/OpticalFlow/P01_04/v\\frame_03825.jpg due to error: [Errno 2] No such file or directory: 'D:\\\\Datasets\\\\Datasets\\\\EPIC_Kitchen\\\\OpticalFlow\\\\P01_04\\\\v\\\\frame_03825.jpg'\n",
      "Skipping frame: D:/Datasets/Datasets/EPIC_Kitchen/OpticalFlow/P01_04/u\\frame_03830.jpg due to error: [Errno 2] No such file or directory: 'D:\\\\Datasets\\\\Datasets\\\\EPIC_Kitchen\\\\OpticalFlow\\\\P01_04\\\\u\\\\frame_03830.jpg'\n",
      "Skipping frame: D:/Datasets/Datasets/EPIC_Kitchen/OpticalFlow/P01_04/v\\frame_03830.jpg due to error: [Errno 2] No such file or directory: 'D:\\\\Datasets\\\\Datasets\\\\EPIC_Kitchen\\\\OpticalFlow\\\\P01_04\\\\v\\\\frame_03830.jpg'\n",
      "Skipping frame: D:/Datasets/Datasets/EPIC_Kitchen/OpticalFlow/P01_04/u\\frame_03835.jpg due to error: [Errno 2] No such file or directory: 'D:\\\\Datasets\\\\Datasets\\\\EPIC_Kitchen\\\\OpticalFlow\\\\P01_04\\\\u\\\\frame_03835.jpg'\n",
      "Skipping frame: D:/Datasets/Datasets/EPIC_Kitchen/OpticalFlow/P01_04/v\\frame_03835.jpg due to error: [Errno 2] No such file or directory: 'D:\\\\Datasets\\\\Datasets\\\\EPIC_Kitchen\\\\OpticalFlow\\\\P01_04\\\\v\\\\frame_03835.jpg'\n"
     ]
    },
    {
     "name": "stderr",
     "output_type": "stream",
     "text": [
      "Extracting Features with DEFT:  61%|█████████████████████████████▎                  | 771/1262 [00:58<00:23, 21.32it/s]"
     ]
    },
    {
     "name": "stdout",
     "output_type": "stream",
     "text": [
      "Skipping frame: D:/Datasets/Datasets/EPIC_Kitchen/OpticalFlow/P01_04/u\\frame_03840.jpg due to error: [Errno 2] No such file or directory: 'D:\\\\Datasets\\\\Datasets\\\\EPIC_Kitchen\\\\OpticalFlow\\\\P01_04\\\\u\\\\frame_03840.jpg'\n",
      "Skipping frame: D:/Datasets/Datasets/EPIC_Kitchen/OpticalFlow/P01_04/v\\frame_03840.jpg due to error: [Errno 2] No such file or directory: 'D:\\\\Datasets\\\\Datasets\\\\EPIC_Kitchen\\\\OpticalFlow\\\\P01_04\\\\v\\\\frame_03840.jpg'\n",
      "Skipping frame: D:/Datasets/Datasets/EPIC_Kitchen/OpticalFlow/P01_04/u\\frame_03845.jpg due to error: [Errno 2] No such file or directory: 'D:\\\\Datasets\\\\Datasets\\\\EPIC_Kitchen\\\\OpticalFlow\\\\P01_04\\\\u\\\\frame_03845.jpg'\n",
      "Skipping frame: D:/Datasets/Datasets/EPIC_Kitchen/OpticalFlow/P01_04/v\\frame_03845.jpg due to error: [Errno 2] No such file or directory: 'D:\\\\Datasets\\\\Datasets\\\\EPIC_Kitchen\\\\OpticalFlow\\\\P01_04\\\\v\\\\frame_03845.jpg'\n",
      "Skipping frame: D:/Datasets/Datasets/EPIC_Kitchen/OpticalFlow/P01_04/u\\frame_03850.jpg due to error: [Errno 2] No such file or directory: 'D:\\\\Datasets\\\\Datasets\\\\EPIC_Kitchen\\\\OpticalFlow\\\\P01_04\\\\u\\\\frame_03850.jpg'\n",
      "Skipping frame: D:/Datasets/Datasets/EPIC_Kitchen/OpticalFlow/P01_04/v\\frame_03850.jpg due to error: [Errno 2] No such file or directory: 'D:\\\\Datasets\\\\Datasets\\\\EPIC_Kitchen\\\\OpticalFlow\\\\P01_04\\\\v\\\\frame_03850.jpg'\n",
      "Skipping frame: D:/Datasets/Datasets/EPIC_Kitchen/OpticalFlow/P01_04/u\\frame_03855.jpg due to error: [Errno 2] No such file or directory: 'D:\\\\Datasets\\\\Datasets\\\\EPIC_Kitchen\\\\OpticalFlow\\\\P01_04\\\\u\\\\frame_03855.jpg'\n",
      "Skipping frame: D:/Datasets/Datasets/EPIC_Kitchen/OpticalFlow/P01_04/v\\frame_03855.jpg due to error: [Errno 2] No such file or directory: 'D:\\\\Datasets\\\\Datasets\\\\EPIC_Kitchen\\\\OpticalFlow\\\\P01_04\\\\v\\\\frame_03855.jpg'\n",
      "Skipping frame: D:/Datasets/Datasets/EPIC_Kitchen/OpticalFlow/P01_04/u\\frame_03860.jpg due to error: [Errno 2] No such file or directory: 'D:\\\\Datasets\\\\Datasets\\\\EPIC_Kitchen\\\\OpticalFlow\\\\P01_04\\\\u\\\\frame_03860.jpg'\n",
      "Skipping frame: D:/Datasets/Datasets/EPIC_Kitchen/OpticalFlow/P01_04/v\\frame_03860.jpg due to error: [Errno 2] No such file or directory: 'D:\\\\Datasets\\\\Datasets\\\\EPIC_Kitchen\\\\OpticalFlow\\\\P01_04\\\\v\\\\frame_03860.jpg'\n"
     ]
    },
    {
     "name": "stderr",
     "output_type": "stream",
     "text": [
      "Extracting Features with DEFT:  62%|█████████████████████████████▌                  | 777/1262 [00:59<00:22, 21.47it/s]"
     ]
    },
    {
     "name": "stdout",
     "output_type": "stream",
     "text": [
      "Skipping frame: D:/Datasets/Datasets/EPIC_Kitchen/OpticalFlow/P01_04/u\\frame_03865.jpg due to error: [Errno 2] No such file or directory: 'D:\\\\Datasets\\\\Datasets\\\\EPIC_Kitchen\\\\OpticalFlow\\\\P01_04\\\\u\\\\frame_03865.jpg'\n",
      "Skipping frame: D:/Datasets/Datasets/EPIC_Kitchen/OpticalFlow/P01_04/v\\frame_03865.jpg due to error: [Errno 2] No such file or directory: 'D:\\\\Datasets\\\\Datasets\\\\EPIC_Kitchen\\\\OpticalFlow\\\\P01_04\\\\v\\\\frame_03865.jpg'\n",
      "Skipping frame: D:/Datasets/Datasets/EPIC_Kitchen/OpticalFlow/P01_04/u\\frame_03870.jpg due to error: [Errno 2] No such file or directory: 'D:\\\\Datasets\\\\Datasets\\\\EPIC_Kitchen\\\\OpticalFlow\\\\P01_04\\\\u\\\\frame_03870.jpg'\n",
      "Skipping frame: D:/Datasets/Datasets/EPIC_Kitchen/OpticalFlow/P01_04/v\\frame_03870.jpg due to error: [Errno 2] No such file or directory: 'D:\\\\Datasets\\\\Datasets\\\\EPIC_Kitchen\\\\OpticalFlow\\\\P01_04\\\\v\\\\frame_03870.jpg'\n",
      "Skipping frame: D:/Datasets/Datasets/EPIC_Kitchen/OpticalFlow/P01_04/u\\frame_03875.jpg due to error: [Errno 2] No such file or directory: 'D:\\\\Datasets\\\\Datasets\\\\EPIC_Kitchen\\\\OpticalFlow\\\\P01_04\\\\u\\\\frame_03875.jpg'\n",
      "Skipping frame: D:/Datasets/Datasets/EPIC_Kitchen/OpticalFlow/P01_04/v\\frame_03875.jpg due to error: [Errno 2] No such file or directory: 'D:\\\\Datasets\\\\Datasets\\\\EPIC_Kitchen\\\\OpticalFlow\\\\P01_04\\\\v\\\\frame_03875.jpg'\n",
      "Skipping frame: D:/Datasets/Datasets/EPIC_Kitchen/OpticalFlow/P01_04/u\\frame_03880.jpg due to error: [Errno 2] No such file or directory: 'D:\\\\Datasets\\\\Datasets\\\\EPIC_Kitchen\\\\OpticalFlow\\\\P01_04\\\\u\\\\frame_03880.jpg'\n",
      "Skipping frame: D:/Datasets/Datasets/EPIC_Kitchen/OpticalFlow/P01_04/v\\frame_03880.jpg due to error: [Errno 2] No such file or directory: 'D:\\\\Datasets\\\\Datasets\\\\EPIC_Kitchen\\\\OpticalFlow\\\\P01_04\\\\v\\\\frame_03880.jpg'\n",
      "Skipping frame: D:/Datasets/Datasets/EPIC_Kitchen/OpticalFlow/P01_04/u\\frame_03885.jpg due to error: [Errno 2] No such file or directory: 'D:\\\\Datasets\\\\Datasets\\\\EPIC_Kitchen\\\\OpticalFlow\\\\P01_04\\\\u\\\\frame_03885.jpg'\n",
      "Skipping frame: D:/Datasets/Datasets/EPIC_Kitchen/OpticalFlow/P01_04/v\\frame_03885.jpg due to error: [Errno 2] No such file or directory: 'D:\\\\Datasets\\\\Datasets\\\\EPIC_Kitchen\\\\OpticalFlow\\\\P01_04\\\\v\\\\frame_03885.jpg'\n"
     ]
    },
    {
     "name": "stderr",
     "output_type": "stream",
     "text": [
      "Extracting Features with DEFT:  62%|█████████████████████████████▊                  | 783/1262 [00:59<00:22, 21.41it/s]"
     ]
    },
    {
     "name": "stdout",
     "output_type": "stream",
     "text": [
      "Skipping frame: D:/Datasets/Datasets/EPIC_Kitchen/OpticalFlow/P01_04/u\\frame_03890.jpg due to error: [Errno 2] No such file or directory: 'D:\\\\Datasets\\\\Datasets\\\\EPIC_Kitchen\\\\OpticalFlow\\\\P01_04\\\\u\\\\frame_03890.jpg'\n",
      "Skipping frame: D:/Datasets/Datasets/EPIC_Kitchen/OpticalFlow/P01_04/v\\frame_03890.jpg due to error: [Errno 2] No such file or directory: 'D:\\\\Datasets\\\\Datasets\\\\EPIC_Kitchen\\\\OpticalFlow\\\\P01_04\\\\v\\\\frame_03890.jpg'\n",
      "Skipping frame: D:/Datasets/Datasets/EPIC_Kitchen/OpticalFlow/P01_04/u\\frame_03895.jpg due to error: [Errno 2] No such file or directory: 'D:\\\\Datasets\\\\Datasets\\\\EPIC_Kitchen\\\\OpticalFlow\\\\P01_04\\\\u\\\\frame_03895.jpg'\n",
      "Skipping frame: D:/Datasets/Datasets/EPIC_Kitchen/OpticalFlow/P01_04/v\\frame_03895.jpg due to error: [Errno 2] No such file or directory: 'D:\\\\Datasets\\\\Datasets\\\\EPIC_Kitchen\\\\OpticalFlow\\\\P01_04\\\\v\\\\frame_03895.jpg'\n",
      "Skipping frame: D:/Datasets/Datasets/EPIC_Kitchen/OpticalFlow/P01_04/u\\frame_03900.jpg due to error: [Errno 2] No such file or directory: 'D:\\\\Datasets\\\\Datasets\\\\EPIC_Kitchen\\\\OpticalFlow\\\\P01_04\\\\u\\\\frame_03900.jpg'\n",
      "Skipping frame: D:/Datasets/Datasets/EPIC_Kitchen/OpticalFlow/P01_04/v\\frame_03900.jpg due to error: [Errno 2] No such file or directory: 'D:\\\\Datasets\\\\Datasets\\\\EPIC_Kitchen\\\\OpticalFlow\\\\P01_04\\\\v\\\\frame_03900.jpg'\n",
      "Skipping frame: D:/Datasets/Datasets/EPIC_Kitchen/OpticalFlow/P01_04/u\\frame_03905.jpg due to error: [Errno 2] No such file or directory: 'D:\\\\Datasets\\\\Datasets\\\\EPIC_Kitchen\\\\OpticalFlow\\\\P01_04\\\\u\\\\frame_03905.jpg'\n",
      "Skipping frame: D:/Datasets/Datasets/EPIC_Kitchen/OpticalFlow/P01_04/v\\frame_03905.jpg due to error: [Errno 2] No such file or directory: 'D:\\\\Datasets\\\\Datasets\\\\EPIC_Kitchen\\\\OpticalFlow\\\\P01_04\\\\v\\\\frame_03905.jpg'\n",
      "Skipping frame: D:/Datasets/Datasets/EPIC_Kitchen/OpticalFlow/P01_04/u\\frame_03910.jpg due to error: [Errno 2] No such file or directory: 'D:\\\\Datasets\\\\Datasets\\\\EPIC_Kitchen\\\\OpticalFlow\\\\P01_04\\\\u\\\\frame_03910.jpg'\n",
      "Skipping frame: D:/Datasets/Datasets/EPIC_Kitchen/OpticalFlow/P01_04/v\\frame_03910.jpg due to error: [Errno 2] No such file or directory: 'D:\\\\Datasets\\\\Datasets\\\\EPIC_Kitchen\\\\OpticalFlow\\\\P01_04\\\\v\\\\frame_03910.jpg'\n"
     ]
    },
    {
     "name": "stderr",
     "output_type": "stream",
     "text": [
      "\r",
      "Extracting Features with DEFT:  62%|█████████████████████████████▉                  | 786/1262 [00:59<00:22, 21.09it/s]"
     ]
    },
    {
     "name": "stdout",
     "output_type": "stream",
     "text": [
      "Skipping frame: D:/Datasets/Datasets/EPIC_Kitchen/OpticalFlow/P01_04/u\\frame_03915.jpg due to error: [Errno 2] No such file or directory: 'D:\\\\Datasets\\\\Datasets\\\\EPIC_Kitchen\\\\OpticalFlow\\\\P01_04\\\\u\\\\frame_03915.jpg'\n",
      "Skipping frame: D:/Datasets/Datasets/EPIC_Kitchen/OpticalFlow/P01_04/v\\frame_03915.jpg due to error: [Errno 2] No such file or directory: 'D:\\\\Datasets\\\\Datasets\\\\EPIC_Kitchen\\\\OpticalFlow\\\\P01_04\\\\v\\\\frame_03915.jpg'\n",
      "Skipping frame: D:/Datasets/Datasets/EPIC_Kitchen/OpticalFlow/P01_04/u\\frame_03920.jpg due to error: [Errno 2] No such file or directory: 'D:\\\\Datasets\\\\Datasets\\\\EPIC_Kitchen\\\\OpticalFlow\\\\P01_04\\\\u\\\\frame_03920.jpg'\n",
      "Skipping frame: D:/Datasets/Datasets/EPIC_Kitchen/OpticalFlow/P01_04/v\\frame_03920.jpg due to error: [Errno 2] No such file or directory: 'D:\\\\Datasets\\\\Datasets\\\\EPIC_Kitchen\\\\OpticalFlow\\\\P01_04\\\\v\\\\frame_03920.jpg'\n",
      "Skipping frame: D:/Datasets/Datasets/EPIC_Kitchen/OpticalFlow/P01_04/u\\frame_03925.jpg due to error: [Errno 2] No such file or directory: 'D:\\\\Datasets\\\\Datasets\\\\EPIC_Kitchen\\\\OpticalFlow\\\\P01_04\\\\u\\\\frame_03925.jpg'\n",
      "Skipping frame: D:/Datasets/Datasets/EPIC_Kitchen/OpticalFlow/P01_04/v\\frame_03925.jpg due to error: [Errno 2] No such file or directory: 'D:\\\\Datasets\\\\Datasets\\\\EPIC_Kitchen\\\\OpticalFlow\\\\P01_04\\\\v\\\\frame_03925.jpg'\n",
      "Skipping frame: D:/Datasets/Datasets/EPIC_Kitchen/OpticalFlow/P01_04/u\\frame_03930.jpg due to error: [Errno 2] No such file or directory: 'D:\\\\Datasets\\\\Datasets\\\\EPIC_Kitchen\\\\OpticalFlow\\\\P01_04\\\\u\\\\frame_03930.jpg'\n",
      "Skipping frame: D:/Datasets/Datasets/EPIC_Kitchen/OpticalFlow/P01_04/v\\frame_03930.jpg due to error: [Errno 2] No such file or directory: 'D:\\\\Datasets\\\\Datasets\\\\EPIC_Kitchen\\\\OpticalFlow\\\\P01_04\\\\v\\\\frame_03930.jpg'\n"
     ]
    },
    {
     "name": "stderr",
     "output_type": "stream",
     "text": [
      "Extracting Features with DEFT:  63%|██████████████████████████████                  | 792/1262 [00:59<00:22, 20.63it/s]"
     ]
    },
    {
     "name": "stdout",
     "output_type": "stream",
     "text": [
      "Skipping frame: D:/Datasets/Datasets/EPIC_Kitchen/OpticalFlow/P01_04/u\\frame_03935.jpg due to error: [Errno 2] No such file or directory: 'D:\\\\Datasets\\\\Datasets\\\\EPIC_Kitchen\\\\OpticalFlow\\\\P01_04\\\\u\\\\frame_03935.jpg'\n",
      "Skipping frame: D:/Datasets/Datasets/EPIC_Kitchen/OpticalFlow/P01_04/v\\frame_03935.jpg due to error: [Errno 2] No such file or directory: 'D:\\\\Datasets\\\\Datasets\\\\EPIC_Kitchen\\\\OpticalFlow\\\\P01_04\\\\v\\\\frame_03935.jpg'\n",
      "Skipping frame: D:/Datasets/Datasets/EPIC_Kitchen/OpticalFlow/P01_04/u\\frame_03940.jpg due to error: [Errno 2] No such file or directory: 'D:\\\\Datasets\\\\Datasets\\\\EPIC_Kitchen\\\\OpticalFlow\\\\P01_04\\\\u\\\\frame_03940.jpg'\n",
      "Skipping frame: D:/Datasets/Datasets/EPIC_Kitchen/OpticalFlow/P01_04/v\\frame_03940.jpg due to error: [Errno 2] No such file or directory: 'D:\\\\Datasets\\\\Datasets\\\\EPIC_Kitchen\\\\OpticalFlow\\\\P01_04\\\\v\\\\frame_03940.jpg'\n",
      "Skipping frame: D:/Datasets/Datasets/EPIC_Kitchen/OpticalFlow/P01_04/u\\frame_03945.jpg due to error: [Errno 2] No such file or directory: 'D:\\\\Datasets\\\\Datasets\\\\EPIC_Kitchen\\\\OpticalFlow\\\\P01_04\\\\u\\\\frame_03945.jpg'\n",
      "Skipping frame: D:/Datasets/Datasets/EPIC_Kitchen/OpticalFlow/P01_04/v\\frame_03945.jpg due to error: [Errno 2] No such file or directory: 'D:\\\\Datasets\\\\Datasets\\\\EPIC_Kitchen\\\\OpticalFlow\\\\P01_04\\\\v\\\\frame_03945.jpg'\n",
      "Skipping frame: D:/Datasets/Datasets/EPIC_Kitchen/OpticalFlow/P01_04/u\\frame_03950.jpg due to error: [Errno 2] No such file or directory: 'D:\\\\Datasets\\\\Datasets\\\\EPIC_Kitchen\\\\OpticalFlow\\\\P01_04\\\\u\\\\frame_03950.jpg'\n",
      "Skipping frame: D:/Datasets/Datasets/EPIC_Kitchen/OpticalFlow/P01_04/v\\frame_03950.jpg due to error: [Errno 2] No such file or directory: 'D:\\\\Datasets\\\\Datasets\\\\EPIC_Kitchen\\\\OpticalFlow\\\\P01_04\\\\v\\\\frame_03950.jpg'\n",
      "Skipping frame: D:/Datasets/Datasets/EPIC_Kitchen/OpticalFlow/P01_04/u\\frame_03955.jpg due to error: [Errno 2] No such file or directory: 'D:\\\\Datasets\\\\Datasets\\\\EPIC_Kitchen\\\\OpticalFlow\\\\P01_04\\\\u\\\\frame_03955.jpg'\n",
      "Skipping frame: D:/Datasets/Datasets/EPIC_Kitchen/OpticalFlow/P01_04/v\\frame_03955.jpg due to error: [Errno 2] No such file or directory: 'D:\\\\Datasets\\\\Datasets\\\\EPIC_Kitchen\\\\OpticalFlow\\\\P01_04\\\\v\\\\frame_03955.jpg'\n"
     ]
    },
    {
     "name": "stderr",
     "output_type": "stream",
     "text": [
      "\r",
      "Extracting Features with DEFT:  63%|██████████████████████████████▏                 | 795/1262 [01:00<00:23, 20.17it/s]"
     ]
    },
    {
     "name": "stdout",
     "output_type": "stream",
     "text": [
      "Skipping frame: D:/Datasets/Datasets/EPIC_Kitchen/OpticalFlow/P01_04/u\\frame_03960.jpg due to error: [Errno 2] No such file or directory: 'D:\\\\Datasets\\\\Datasets\\\\EPIC_Kitchen\\\\OpticalFlow\\\\P01_04\\\\u\\\\frame_03960.jpg'\n",
      "Skipping frame: D:/Datasets/Datasets/EPIC_Kitchen/OpticalFlow/P01_04/v\\frame_03960.jpg due to error: [Errno 2] No such file or directory: 'D:\\\\Datasets\\\\Datasets\\\\EPIC_Kitchen\\\\OpticalFlow\\\\P01_04\\\\v\\\\frame_03960.jpg'\n",
      "Skipping frame: D:/Datasets/Datasets/EPIC_Kitchen/OpticalFlow/P01_04/u\\frame_03965.jpg due to error: [Errno 2] No such file or directory: 'D:\\\\Datasets\\\\Datasets\\\\EPIC_Kitchen\\\\OpticalFlow\\\\P01_04\\\\u\\\\frame_03965.jpg'\n",
      "Skipping frame: D:/Datasets/Datasets/EPIC_Kitchen/OpticalFlow/P01_04/v\\frame_03965.jpg due to error: [Errno 2] No such file or directory: 'D:\\\\Datasets\\\\Datasets\\\\EPIC_Kitchen\\\\OpticalFlow\\\\P01_04\\\\v\\\\frame_03965.jpg'\n",
      "Skipping frame: D:/Datasets/Datasets/EPIC_Kitchen/OpticalFlow/P01_04/u\\frame_03970.jpg due to error: [Errno 2] No such file or directory: 'D:\\\\Datasets\\\\Datasets\\\\EPIC_Kitchen\\\\OpticalFlow\\\\P01_04\\\\u\\\\frame_03970.jpg'\n",
      "Skipping frame: D:/Datasets/Datasets/EPIC_Kitchen/OpticalFlow/P01_04/v\\frame_03970.jpg due to error: [Errno 2] No such file or directory: 'D:\\\\Datasets\\\\Datasets\\\\EPIC_Kitchen\\\\OpticalFlow\\\\P01_04\\\\v\\\\frame_03970.jpg'\n",
      "Skipping frame: D:/Datasets/Datasets/EPIC_Kitchen/OpticalFlow/P01_04/u\\frame_03975.jpg due to error: [Errno 2] No such file or directory: 'D:\\\\Datasets\\\\Datasets\\\\EPIC_Kitchen\\\\OpticalFlow\\\\P01_04\\\\u\\\\frame_03975.jpg'\n",
      "Skipping frame: D:/Datasets/Datasets/EPIC_Kitchen/OpticalFlow/P01_04/v\\frame_03975.jpg due to error: [Errno 2] No such file or directory: 'D:\\\\Datasets\\\\Datasets\\\\EPIC_Kitchen\\\\OpticalFlow\\\\P01_04\\\\v\\\\frame_03975.jpg'\n"
     ]
    },
    {
     "name": "stderr",
     "output_type": "stream",
     "text": [
      "Extracting Features with DEFT:  63%|██████████████████████████████▍                 | 800/1262 [01:00<00:23, 19.71it/s]"
     ]
    },
    {
     "name": "stdout",
     "output_type": "stream",
     "text": [
      "Skipping frame: D:/Datasets/Datasets/EPIC_Kitchen/OpticalFlow/P01_04/u\\frame_03980.jpg due to error: [Errno 2] No such file or directory: 'D:\\\\Datasets\\\\Datasets\\\\EPIC_Kitchen\\\\OpticalFlow\\\\P01_04\\\\u\\\\frame_03980.jpg'\n",
      "Skipping frame: D:/Datasets/Datasets/EPIC_Kitchen/OpticalFlow/P01_04/v\\frame_03980.jpg due to error: [Errno 2] No such file or directory: 'D:\\\\Datasets\\\\Datasets\\\\EPIC_Kitchen\\\\OpticalFlow\\\\P01_04\\\\v\\\\frame_03980.jpg'\n",
      "Skipping frame: D:/Datasets/Datasets/EPIC_Kitchen/OpticalFlow/P01_04/u\\frame_03985.jpg due to error: [Errno 2] No such file or directory: 'D:\\\\Datasets\\\\Datasets\\\\EPIC_Kitchen\\\\OpticalFlow\\\\P01_04\\\\u\\\\frame_03985.jpg'\n",
      "Skipping frame: D:/Datasets/Datasets/EPIC_Kitchen/OpticalFlow/P01_04/v\\frame_03985.jpg due to error: [Errno 2] No such file or directory: 'D:\\\\Datasets\\\\Datasets\\\\EPIC_Kitchen\\\\OpticalFlow\\\\P01_04\\\\v\\\\frame_03985.jpg'\n",
      "Skipping frame: D:/Datasets/Datasets/EPIC_Kitchen/OpticalFlow/P01_04/u\\frame_03990.jpg due to error: [Errno 2] No such file or directory: 'D:\\\\Datasets\\\\Datasets\\\\EPIC_Kitchen\\\\OpticalFlow\\\\P01_04\\\\u\\\\frame_03990.jpg'\n",
      "Skipping frame: D:/Datasets/Datasets/EPIC_Kitchen/OpticalFlow/P01_04/v\\frame_03990.jpg due to error: [Errno 2] No such file or directory: 'D:\\\\Datasets\\\\Datasets\\\\EPIC_Kitchen\\\\OpticalFlow\\\\P01_04\\\\v\\\\frame_03990.jpg'\n",
      "Skipping frame: D:/Datasets/Datasets/EPIC_Kitchen/OpticalFlow/P01_04/u\\frame_03995.jpg due to error: [Errno 2] No such file or directory: 'D:\\\\Datasets\\\\Datasets\\\\EPIC_Kitchen\\\\OpticalFlow\\\\P01_04\\\\u\\\\frame_03995.jpg'\n",
      "Skipping frame: D:/Datasets/Datasets/EPIC_Kitchen/OpticalFlow/P01_04/v\\frame_03995.jpg due to error: [Errno 2] No such file or directory: 'D:\\\\Datasets\\\\Datasets\\\\EPIC_Kitchen\\\\OpticalFlow\\\\P01_04\\\\v\\\\frame_03995.jpg'\n"
     ]
    },
    {
     "name": "stderr",
     "output_type": "stream",
     "text": [
      "\r",
      "Extracting Features with DEFT:  64%|██████████████████████████████▌                 | 803/1262 [01:00<00:22, 20.14it/s]"
     ]
    },
    {
     "name": "stdout",
     "output_type": "stream",
     "text": [
      "Skipping frame: D:/Datasets/Datasets/EPIC_Kitchen/OpticalFlow/P01_04/u\\frame_04000.jpg due to error: [Errno 2] No such file or directory: 'D:\\\\Datasets\\\\Datasets\\\\EPIC_Kitchen\\\\OpticalFlow\\\\P01_04\\\\u\\\\frame_04000.jpg'\n",
      "Skipping frame: D:/Datasets/Datasets/EPIC_Kitchen/OpticalFlow/P01_04/v\\frame_04000.jpg due to error: [Errno 2] No such file or directory: 'D:\\\\Datasets\\\\Datasets\\\\EPIC_Kitchen\\\\OpticalFlow\\\\P01_04\\\\v\\\\frame_04000.jpg'\n",
      "Skipping frame: D:/Datasets/Datasets/EPIC_Kitchen/OpticalFlow/P01_04/u\\frame_04005.jpg due to error: [Errno 2] No such file or directory: 'D:\\\\Datasets\\\\Datasets\\\\EPIC_Kitchen\\\\OpticalFlow\\\\P01_04\\\\u\\\\frame_04005.jpg'\n",
      "Skipping frame: D:/Datasets/Datasets/EPIC_Kitchen/OpticalFlow/P01_04/v\\frame_04005.jpg due to error: [Errno 2] No such file or directory: 'D:\\\\Datasets\\\\Datasets\\\\EPIC_Kitchen\\\\OpticalFlow\\\\P01_04\\\\v\\\\frame_04005.jpg'\n",
      "Skipping frame: D:/Datasets/Datasets/EPIC_Kitchen/OpticalFlow/P01_04/u\\frame_04010.jpg due to error: [Errno 2] No such file or directory: 'D:\\\\Datasets\\\\Datasets\\\\EPIC_Kitchen\\\\OpticalFlow\\\\P01_04\\\\u\\\\frame_04010.jpg'\n",
      "Skipping frame: D:/Datasets/Datasets/EPIC_Kitchen/OpticalFlow/P01_04/v\\frame_04010.jpg due to error: [Errno 2] No such file or directory: 'D:\\\\Datasets\\\\Datasets\\\\EPIC_Kitchen\\\\OpticalFlow\\\\P01_04\\\\v\\\\frame_04010.jpg'\n",
      "Skipping frame: D:/Datasets/Datasets/EPIC_Kitchen/OpticalFlow/P01_04/u\\frame_04015.jpg due to error: [Errno 2] No such file or directory: 'D:\\\\Datasets\\\\Datasets\\\\EPIC_Kitchen\\\\OpticalFlow\\\\P01_04\\\\u\\\\frame_04015.jpg'\n",
      "Skipping frame: D:/Datasets/Datasets/EPIC_Kitchen/OpticalFlow/P01_04/v\\frame_04015.jpg due to error: [Errno 2] No such file or directory: 'D:\\\\Datasets\\\\Datasets\\\\EPIC_Kitchen\\\\OpticalFlow\\\\P01_04\\\\v\\\\frame_04015.jpg'\n",
      "Skipping frame: D:/Datasets/Datasets/EPIC_Kitchen/OpticalFlow/P01_04/u\\frame_04020.jpg due to error: [Errno 2] No such file or directory: 'D:\\\\Datasets\\\\Datasets\\\\EPIC_Kitchen\\\\OpticalFlow\\\\P01_04\\\\u\\\\frame_04020.jpg'\n",
      "Skipping frame: D:/Datasets/Datasets/EPIC_Kitchen/OpticalFlow/P01_04/v\\frame_04020.jpg due to error: [Errno 2] No such file or directory: 'D:\\\\Datasets\\\\Datasets\\\\EPIC_Kitchen\\\\OpticalFlow\\\\P01_04\\\\v\\\\frame_04020.jpg'\n"
     ]
    },
    {
     "name": "stderr",
     "output_type": "stream",
     "text": [
      "Extracting Features with DEFT:  64%|██████████████████████████████▊                 | 809/1262 [01:00<00:22, 20.00it/s]"
     ]
    },
    {
     "name": "stdout",
     "output_type": "stream",
     "text": [
      "Skipping frame: D:/Datasets/Datasets/EPIC_Kitchen/OpticalFlow/P01_04/u\\frame_04025.jpg due to error: [Errno 2] No such file or directory: 'D:\\\\Datasets\\\\Datasets\\\\EPIC_Kitchen\\\\OpticalFlow\\\\P01_04\\\\u\\\\frame_04025.jpg'\n",
      "Skipping frame: D:/Datasets/Datasets/EPIC_Kitchen/OpticalFlow/P01_04/v\\frame_04025.jpg due to error: [Errno 2] No such file or directory: 'D:\\\\Datasets\\\\Datasets\\\\EPIC_Kitchen\\\\OpticalFlow\\\\P01_04\\\\v\\\\frame_04025.jpg'\n",
      "Skipping frame: D:/Datasets/Datasets/EPIC_Kitchen/OpticalFlow/P01_04/u\\frame_04030.jpg due to error: [Errno 2] No such file or directory: 'D:\\\\Datasets\\\\Datasets\\\\EPIC_Kitchen\\\\OpticalFlow\\\\P01_04\\\\u\\\\frame_04030.jpg'\n",
      "Skipping frame: D:/Datasets/Datasets/EPIC_Kitchen/OpticalFlow/P01_04/v\\frame_04030.jpg due to error: [Errno 2] No such file or directory: 'D:\\\\Datasets\\\\Datasets\\\\EPIC_Kitchen\\\\OpticalFlow\\\\P01_04\\\\v\\\\frame_04030.jpg'\n",
      "Skipping frame: D:/Datasets/Datasets/EPIC_Kitchen/OpticalFlow/P01_04/u\\frame_04035.jpg due to error: [Errno 2] No such file or directory: 'D:\\\\Datasets\\\\Datasets\\\\EPIC_Kitchen\\\\OpticalFlow\\\\P01_04\\\\u\\\\frame_04035.jpg'\n",
      "Skipping frame: D:/Datasets/Datasets/EPIC_Kitchen/OpticalFlow/P01_04/v\\frame_04035.jpg due to error: [Errno 2] No such file or directory: 'D:\\\\Datasets\\\\Datasets\\\\EPIC_Kitchen\\\\OpticalFlow\\\\P01_04\\\\v\\\\frame_04035.jpg'\n",
      "Skipping frame: D:/Datasets/Datasets/EPIC_Kitchen/OpticalFlow/P01_04/u\\frame_04040.jpg due to error: [Errno 2] No such file or directory: 'D:\\\\Datasets\\\\Datasets\\\\EPIC_Kitchen\\\\OpticalFlow\\\\P01_04\\\\u\\\\frame_04040.jpg'\n",
      "Skipping frame: D:/Datasets/Datasets/EPIC_Kitchen/OpticalFlow/P01_04/v\\frame_04040.jpg due to error: [Errno 2] No such file or directory: 'D:\\\\Datasets\\\\Datasets\\\\EPIC_Kitchen\\\\OpticalFlow\\\\P01_04\\\\v\\\\frame_04040.jpg'\n"
     ]
    },
    {
     "name": "stderr",
     "output_type": "stream",
     "text": [
      "\r",
      "Extracting Features with DEFT:  64%|██████████████████████████████▉                 | 812/1262 [01:00<00:22, 20.01it/s]"
     ]
    },
    {
     "name": "stdout",
     "output_type": "stream",
     "text": [
      "Skipping frame: D:/Datasets/Datasets/EPIC_Kitchen/OpticalFlow/P01_04/u\\frame_04045.jpg due to error: [Errno 2] No such file or directory: 'D:\\\\Datasets\\\\Datasets\\\\EPIC_Kitchen\\\\OpticalFlow\\\\P01_04\\\\u\\\\frame_04045.jpg'\n",
      "Skipping frame: D:/Datasets/Datasets/EPIC_Kitchen/OpticalFlow/P01_04/v\\frame_04045.jpg due to error: [Errno 2] No such file or directory: 'D:\\\\Datasets\\\\Datasets\\\\EPIC_Kitchen\\\\OpticalFlow\\\\P01_04\\\\v\\\\frame_04045.jpg'\n",
      "Skipping frame: D:/Datasets/Datasets/EPIC_Kitchen/OpticalFlow/P01_04/u\\frame_04050.jpg due to error: [Errno 2] No such file or directory: 'D:\\\\Datasets\\\\Datasets\\\\EPIC_Kitchen\\\\OpticalFlow\\\\P01_04\\\\u\\\\frame_04050.jpg'\n",
      "Skipping frame: D:/Datasets/Datasets/EPIC_Kitchen/OpticalFlow/P01_04/v\\frame_04050.jpg due to error: [Errno 2] No such file or directory: 'D:\\\\Datasets\\\\Datasets\\\\EPIC_Kitchen\\\\OpticalFlow\\\\P01_04\\\\v\\\\frame_04050.jpg'\n",
      "Skipping frame: D:/Datasets/Datasets/EPIC_Kitchen/OpticalFlow/P01_04/u\\frame_04055.jpg due to error: [Errno 2] No such file or directory: 'D:\\\\Datasets\\\\Datasets\\\\EPIC_Kitchen\\\\OpticalFlow\\\\P01_04\\\\u\\\\frame_04055.jpg'\n",
      "Skipping frame: D:/Datasets/Datasets/EPIC_Kitchen/OpticalFlow/P01_04/v\\frame_04055.jpg due to error: [Errno 2] No such file or directory: 'D:\\\\Datasets\\\\Datasets\\\\EPIC_Kitchen\\\\OpticalFlow\\\\P01_04\\\\v\\\\frame_04055.jpg'\n",
      "Skipping frame: D:/Datasets/Datasets/EPIC_Kitchen/OpticalFlow/P01_04/u\\frame_04060.jpg due to error: [Errno 2] No such file or directory: 'D:\\\\Datasets\\\\Datasets\\\\EPIC_Kitchen\\\\OpticalFlow\\\\P01_04\\\\u\\\\frame_04060.jpg'\n",
      "Skipping frame: D:/Datasets/Datasets/EPIC_Kitchen/OpticalFlow/P01_04/v\\frame_04060.jpg due to error: [Errno 2] No such file or directory: 'D:\\\\Datasets\\\\Datasets\\\\EPIC_Kitchen\\\\OpticalFlow\\\\P01_04\\\\v\\\\frame_04060.jpg'\n",
      "Skipping frame: D:/Datasets/Datasets/EPIC_Kitchen/OpticalFlow/P01_04/u\\frame_04065.jpg due to error: [Errno 2] No such file or directory: 'D:\\\\Datasets\\\\Datasets\\\\EPIC_Kitchen\\\\OpticalFlow\\\\P01_04\\\\u\\\\frame_04065.jpg'\n",
      "Skipping frame: D:/Datasets/Datasets/EPIC_Kitchen/OpticalFlow/P01_04/v\\frame_04065.jpg due to error: [Errno 2] No such file or directory: 'D:\\\\Datasets\\\\Datasets\\\\EPIC_Kitchen\\\\OpticalFlow\\\\P01_04\\\\v\\\\frame_04065.jpg'\n"
     ]
    },
    {
     "name": "stderr",
     "output_type": "stream",
     "text": [
      "Extracting Features with DEFT:  65%|███████████████████████████████                 | 818/1262 [01:01<00:21, 20.77it/s]"
     ]
    },
    {
     "name": "stdout",
     "output_type": "stream",
     "text": [
      "Skipping frame: D:/Datasets/Datasets/EPIC_Kitchen/OpticalFlow/P01_04/u\\frame_04070.jpg due to error: [Errno 2] No such file or directory: 'D:\\\\Datasets\\\\Datasets\\\\EPIC_Kitchen\\\\OpticalFlow\\\\P01_04\\\\u\\\\frame_04070.jpg'\n",
      "Skipping frame: D:/Datasets/Datasets/EPIC_Kitchen/OpticalFlow/P01_04/v\\frame_04070.jpg due to error: [Errno 2] No such file or directory: 'D:\\\\Datasets\\\\Datasets\\\\EPIC_Kitchen\\\\OpticalFlow\\\\P01_04\\\\v\\\\frame_04070.jpg'\n",
      "Skipping frame: D:/Datasets/Datasets/EPIC_Kitchen/OpticalFlow/P01_04/u\\frame_04075.jpg due to error: [Errno 2] No such file or directory: 'D:\\\\Datasets\\\\Datasets\\\\EPIC_Kitchen\\\\OpticalFlow\\\\P01_04\\\\u\\\\frame_04075.jpg'\n",
      "Skipping frame: D:/Datasets/Datasets/EPIC_Kitchen/OpticalFlow/P01_04/v\\frame_04075.jpg due to error: [Errno 2] No such file or directory: 'D:\\\\Datasets\\\\Datasets\\\\EPIC_Kitchen\\\\OpticalFlow\\\\P01_04\\\\v\\\\frame_04075.jpg'\n",
      "Skipping frame: D:/Datasets/Datasets/EPIC_Kitchen/OpticalFlow/P01_04/u\\frame_04080.jpg due to error: [Errno 2] No such file or directory: 'D:\\\\Datasets\\\\Datasets\\\\EPIC_Kitchen\\\\OpticalFlow\\\\P01_04\\\\u\\\\frame_04080.jpg'\n",
      "Skipping frame: D:/Datasets/Datasets/EPIC_Kitchen/OpticalFlow/P01_04/v\\frame_04080.jpg due to error: [Errno 2] No such file or directory: 'D:\\\\Datasets\\\\Datasets\\\\EPIC_Kitchen\\\\OpticalFlow\\\\P01_04\\\\v\\\\frame_04080.jpg'\n",
      "Skipping frame: D:/Datasets/Datasets/EPIC_Kitchen/OpticalFlow/P01_04/u\\frame_04085.jpg due to error: [Errno 2] No such file or directory: 'D:\\\\Datasets\\\\Datasets\\\\EPIC_Kitchen\\\\OpticalFlow\\\\P01_04\\\\u\\\\frame_04085.jpg'\n",
      "Skipping frame: D:/Datasets/Datasets/EPIC_Kitchen/OpticalFlow/P01_04/v\\frame_04085.jpg due to error: [Errno 2] No such file or directory: 'D:\\\\Datasets\\\\Datasets\\\\EPIC_Kitchen\\\\OpticalFlow\\\\P01_04\\\\v\\\\frame_04085.jpg'\n",
      "Skipping frame: D:/Datasets/Datasets/EPIC_Kitchen/OpticalFlow/P01_04/u\\frame_04090.jpg due to error: [Errno 2] No such file or directory: 'D:\\\\Datasets\\\\Datasets\\\\EPIC_Kitchen\\\\OpticalFlow\\\\P01_04\\\\u\\\\frame_04090.jpg'\n",
      "Skipping frame: D:/Datasets/Datasets/EPIC_Kitchen/OpticalFlow/P01_04/v\\frame_04090.jpg due to error: [Errno 2] No such file or directory: 'D:\\\\Datasets\\\\Datasets\\\\EPIC_Kitchen\\\\OpticalFlow\\\\P01_04\\\\v\\\\frame_04090.jpg'\n",
      "Skipping frame: D:/Datasets/Datasets/EPIC_Kitchen/OpticalFlow/P01_04/u\\frame_04095.jpg due to error: [Errno 2] No such file or directory: 'D:\\\\Datasets\\\\Datasets\\\\EPIC_Kitchen\\\\OpticalFlow\\\\P01_04\\\\u\\\\frame_04095.jpg'\n",
      "Skipping frame: D:/Datasets/Datasets/EPIC_Kitchen/OpticalFlow/P01_04/v\\frame_04095.jpg due to error: [Errno 2] No such file or directory: 'D:\\\\Datasets\\\\Datasets\\\\EPIC_Kitchen\\\\OpticalFlow\\\\P01_04\\\\v\\\\frame_04095.jpg'\n"
     ]
    },
    {
     "name": "stderr",
     "output_type": "stream",
     "text": [
      "Extracting Features with DEFT:  65%|███████████████████████████████▎                | 824/1262 [01:01<00:19, 22.27it/s]"
     ]
    },
    {
     "name": "stdout",
     "output_type": "stream",
     "text": [
      "Skipping frame: D:/Datasets/Datasets/EPIC_Kitchen/OpticalFlow/P01_04/u\\frame_04100.jpg due to error: [Errno 2] No such file or directory: 'D:\\\\Datasets\\\\Datasets\\\\EPIC_Kitchen\\\\OpticalFlow\\\\P01_04\\\\u\\\\frame_04100.jpg'\n",
      "Skipping frame: D:/Datasets/Datasets/EPIC_Kitchen/OpticalFlow/P01_04/v\\frame_04100.jpg due to error: [Errno 2] No such file or directory: 'D:\\\\Datasets\\\\Datasets\\\\EPIC_Kitchen\\\\OpticalFlow\\\\P01_04\\\\v\\\\frame_04100.jpg'\n",
      "Skipping frame: D:/Datasets/Datasets/EPIC_Kitchen/OpticalFlow/P01_04/u\\frame_04105.jpg due to error: [Errno 2] No such file or directory: 'D:\\\\Datasets\\\\Datasets\\\\EPIC_Kitchen\\\\OpticalFlow\\\\P01_04\\\\u\\\\frame_04105.jpg'\n",
      "Skipping frame: D:/Datasets/Datasets/EPIC_Kitchen/OpticalFlow/P01_04/v\\frame_04105.jpg due to error: [Errno 2] No such file or directory: 'D:\\\\Datasets\\\\Datasets\\\\EPIC_Kitchen\\\\OpticalFlow\\\\P01_04\\\\v\\\\frame_04105.jpg'\n",
      "Skipping frame: D:/Datasets/Datasets/EPIC_Kitchen/OpticalFlow/P01_04/u\\frame_04110.jpg due to error: [Errno 2] No such file or directory: 'D:\\\\Datasets\\\\Datasets\\\\EPIC_Kitchen\\\\OpticalFlow\\\\P01_04\\\\u\\\\frame_04110.jpg'\n",
      "Skipping frame: D:/Datasets/Datasets/EPIC_Kitchen/OpticalFlow/P01_04/v\\frame_04110.jpg due to error: [Errno 2] No such file or directory: 'D:\\\\Datasets\\\\Datasets\\\\EPIC_Kitchen\\\\OpticalFlow\\\\P01_04\\\\v\\\\frame_04110.jpg'\n",
      "Skipping frame: D:/Datasets/Datasets/EPIC_Kitchen/OpticalFlow/P01_04/u\\frame_04115.jpg due to error: [Errno 2] No such file or directory: 'D:\\\\Datasets\\\\Datasets\\\\EPIC_Kitchen\\\\OpticalFlow\\\\P01_04\\\\u\\\\frame_04115.jpg'\n",
      "Skipping frame: D:/Datasets/Datasets/EPIC_Kitchen/OpticalFlow/P01_04/v\\frame_04115.jpg due to error: [Errno 2] No such file or directory: 'D:\\\\Datasets\\\\Datasets\\\\EPIC_Kitchen\\\\OpticalFlow\\\\P01_04\\\\v\\\\frame_04115.jpg'\n",
      "Skipping frame: D:/Datasets/Datasets/EPIC_Kitchen/OpticalFlow/P01_04/u\\frame_04120.jpg due to error: [Errno 2] No such file or directory: 'D:\\\\Datasets\\\\Datasets\\\\EPIC_Kitchen\\\\OpticalFlow\\\\P01_04\\\\u\\\\frame_04120.jpg'\n",
      "Skipping frame: D:/Datasets/Datasets/EPIC_Kitchen/OpticalFlow/P01_04/v\\frame_04120.jpg due to error: [Errno 2] No such file or directory: 'D:\\\\Datasets\\\\Datasets\\\\EPIC_Kitchen\\\\OpticalFlow\\\\P01_04\\\\v\\\\frame_04120.jpg'\n"
     ]
    },
    {
     "name": "stderr",
     "output_type": "stream",
     "text": [
      "Extracting Features with DEFT:  66%|███████████████████████████████▌                | 830/1262 [01:01<00:19, 22.63it/s]"
     ]
    },
    {
     "name": "stdout",
     "output_type": "stream",
     "text": [
      "Skipping frame: D:/Datasets/Datasets/EPIC_Kitchen/OpticalFlow/P01_04/u\\frame_04125.jpg due to error: [Errno 2] No such file or directory: 'D:\\\\Datasets\\\\Datasets\\\\EPIC_Kitchen\\\\OpticalFlow\\\\P01_04\\\\u\\\\frame_04125.jpg'\n",
      "Skipping frame: D:/Datasets/Datasets/EPIC_Kitchen/OpticalFlow/P01_04/v\\frame_04125.jpg due to error: [Errno 2] No such file or directory: 'D:\\\\Datasets\\\\Datasets\\\\EPIC_Kitchen\\\\OpticalFlow\\\\P01_04\\\\v\\\\frame_04125.jpg'\n",
      "Skipping frame: D:/Datasets/Datasets/EPIC_Kitchen/OpticalFlow/P01_04/u\\frame_04130.jpg due to error: [Errno 2] No such file or directory: 'D:\\\\Datasets\\\\Datasets\\\\EPIC_Kitchen\\\\OpticalFlow\\\\P01_04\\\\u\\\\frame_04130.jpg'\n",
      "Skipping frame: D:/Datasets/Datasets/EPIC_Kitchen/OpticalFlow/P01_04/v\\frame_04130.jpg due to error: [Errno 2] No such file or directory: 'D:\\\\Datasets\\\\Datasets\\\\EPIC_Kitchen\\\\OpticalFlow\\\\P01_04\\\\v\\\\frame_04130.jpg'\n",
      "Skipping frame: D:/Datasets/Datasets/EPIC_Kitchen/OpticalFlow/P01_04/u\\frame_04135.jpg due to error: [Errno 2] No such file or directory: 'D:\\\\Datasets\\\\Datasets\\\\EPIC_Kitchen\\\\OpticalFlow\\\\P01_04\\\\u\\\\frame_04135.jpg'\n",
      "Skipping frame: D:/Datasets/Datasets/EPIC_Kitchen/OpticalFlow/P01_04/v\\frame_04135.jpg due to error: [Errno 2] No such file or directory: 'D:\\\\Datasets\\\\Datasets\\\\EPIC_Kitchen\\\\OpticalFlow\\\\P01_04\\\\v\\\\frame_04135.jpg'\n",
      "Skipping frame: D:/Datasets/Datasets/EPIC_Kitchen/OpticalFlow/P01_04/u\\frame_04140.jpg due to error: [Errno 2] No such file or directory: 'D:\\\\Datasets\\\\Datasets\\\\EPIC_Kitchen\\\\OpticalFlow\\\\P01_04\\\\u\\\\frame_04140.jpg'\n",
      "Skipping frame: D:/Datasets/Datasets/EPIC_Kitchen/OpticalFlow/P01_04/v\\frame_04140.jpg due to error: [Errno 2] No such file or directory: 'D:\\\\Datasets\\\\Datasets\\\\EPIC_Kitchen\\\\OpticalFlow\\\\P01_04\\\\v\\\\frame_04140.jpg'\n",
      "Skipping frame: D:/Datasets/Datasets/EPIC_Kitchen/OpticalFlow/P01_04/u\\frame_04145.jpg due to error: [Errno 2] No such file or directory: 'D:\\\\Datasets\\\\Datasets\\\\EPIC_Kitchen\\\\OpticalFlow\\\\P01_04\\\\u\\\\frame_04145.jpg'\n",
      "Skipping frame: D:/Datasets/Datasets/EPIC_Kitchen/OpticalFlow/P01_04/v\\frame_04145.jpg due to error: [Errno 2] No such file or directory: 'D:\\\\Datasets\\\\Datasets\\\\EPIC_Kitchen\\\\OpticalFlow\\\\P01_04\\\\v\\\\frame_04145.jpg'\n"
     ]
    },
    {
     "name": "stderr",
     "output_type": "stream",
     "text": [
      "\r",
      "Extracting Features with DEFT:  66%|███████████████████████████████▋                | 833/1262 [01:01<00:19, 22.26it/s]"
     ]
    },
    {
     "name": "stdout",
     "output_type": "stream",
     "text": [
      "Skipping frame: D:/Datasets/Datasets/EPIC_Kitchen/OpticalFlow/P01_04/u\\frame_04150.jpg due to error: [Errno 2] No such file or directory: 'D:\\\\Datasets\\\\Datasets\\\\EPIC_Kitchen\\\\OpticalFlow\\\\P01_04\\\\u\\\\frame_04150.jpg'\n",
      "Skipping frame: D:/Datasets/Datasets/EPIC_Kitchen/OpticalFlow/P01_04/v\\frame_04150.jpg due to error: [Errno 2] No such file or directory: 'D:\\\\Datasets\\\\Datasets\\\\EPIC_Kitchen\\\\OpticalFlow\\\\P01_04\\\\v\\\\frame_04150.jpg'\n",
      "Skipping frame: D:/Datasets/Datasets/EPIC_Kitchen/OpticalFlow/P01_04/u\\frame_04155.jpg due to error: [Errno 2] No such file or directory: 'D:\\\\Datasets\\\\Datasets\\\\EPIC_Kitchen\\\\OpticalFlow\\\\P01_04\\\\u\\\\frame_04155.jpg'\n",
      "Skipping frame: D:/Datasets/Datasets/EPIC_Kitchen/OpticalFlow/P01_04/v\\frame_04155.jpg due to error: [Errno 2] No such file or directory: 'D:\\\\Datasets\\\\Datasets\\\\EPIC_Kitchen\\\\OpticalFlow\\\\P01_04\\\\v\\\\frame_04155.jpg'\n",
      "Skipping frame: D:/Datasets/Datasets/EPIC_Kitchen/OpticalFlow/P01_04/u\\frame_04160.jpg due to error: [Errno 2] No such file or directory: 'D:\\\\Datasets\\\\Datasets\\\\EPIC_Kitchen\\\\OpticalFlow\\\\P01_04\\\\u\\\\frame_04160.jpg'\n",
      "Skipping frame: D:/Datasets/Datasets/EPIC_Kitchen/OpticalFlow/P01_04/v\\frame_04160.jpg due to error: [Errno 2] No such file or directory: 'D:\\\\Datasets\\\\Datasets\\\\EPIC_Kitchen\\\\OpticalFlow\\\\P01_04\\\\v\\\\frame_04160.jpg'\n",
      "Skipping frame: D:/Datasets/Datasets/EPIC_Kitchen/OpticalFlow/P01_04/u\\frame_04165.jpg due to error: [Errno 2] No such file or directory: 'D:\\\\Datasets\\\\Datasets\\\\EPIC_Kitchen\\\\OpticalFlow\\\\P01_04\\\\u\\\\frame_04165.jpg'\n",
      "Skipping frame: D:/Datasets/Datasets/EPIC_Kitchen/OpticalFlow/P01_04/v\\frame_04165.jpg due to error: [Errno 2] No such file or directory: 'D:\\\\Datasets\\\\Datasets\\\\EPIC_Kitchen\\\\OpticalFlow\\\\P01_04\\\\v\\\\frame_04165.jpg'\n",
      "Skipping frame: D:/Datasets/Datasets/EPIC_Kitchen/OpticalFlow/P01_04/u\\frame_04170.jpg due to error: [Errno 2] No such file or directory: 'D:\\\\Datasets\\\\Datasets\\\\EPIC_Kitchen\\\\OpticalFlow\\\\P01_04\\\\u\\\\frame_04170.jpg'\n",
      "Skipping frame: D:/Datasets/Datasets/EPIC_Kitchen/OpticalFlow/P01_04/v\\frame_04170.jpg due to error: [Errno 2] No such file or directory: 'D:\\\\Datasets\\\\Datasets\\\\EPIC_Kitchen\\\\OpticalFlow\\\\P01_04\\\\v\\\\frame_04170.jpg'\n"
     ]
    },
    {
     "name": "stderr",
     "output_type": "stream",
     "text": [
      "Extracting Features with DEFT:  66%|███████████████████████████████▉                | 839/1262 [01:02<00:19, 21.84it/s]"
     ]
    },
    {
     "name": "stdout",
     "output_type": "stream",
     "text": [
      "Skipping frame: D:/Datasets/Datasets/EPIC_Kitchen/OpticalFlow/P01_04/u\\frame_04175.jpg due to error: [Errno 2] No such file or directory: 'D:\\\\Datasets\\\\Datasets\\\\EPIC_Kitchen\\\\OpticalFlow\\\\P01_04\\\\u\\\\frame_04175.jpg'\n",
      "Skipping frame: D:/Datasets/Datasets/EPIC_Kitchen/OpticalFlow/P01_04/v\\frame_04175.jpg due to error: [Errno 2] No such file or directory: 'D:\\\\Datasets\\\\Datasets\\\\EPIC_Kitchen\\\\OpticalFlow\\\\P01_04\\\\v\\\\frame_04175.jpg'\n",
      "Skipping frame: D:/Datasets/Datasets/EPIC_Kitchen/OpticalFlow/P01_04/u\\frame_04180.jpg due to error: [Errno 2] No such file or directory: 'D:\\\\Datasets\\\\Datasets\\\\EPIC_Kitchen\\\\OpticalFlow\\\\P01_04\\\\u\\\\frame_04180.jpg'\n",
      "Skipping frame: D:/Datasets/Datasets/EPIC_Kitchen/OpticalFlow/P01_04/v\\frame_04180.jpg due to error: [Errno 2] No such file or directory: 'D:\\\\Datasets\\\\Datasets\\\\EPIC_Kitchen\\\\OpticalFlow\\\\P01_04\\\\v\\\\frame_04180.jpg'\n",
      "Skipping frame: D:/Datasets/Datasets/EPIC_Kitchen/OpticalFlow/P01_04/u\\frame_04185.jpg due to error: [Errno 2] No such file or directory: 'D:\\\\Datasets\\\\Datasets\\\\EPIC_Kitchen\\\\OpticalFlow\\\\P01_04\\\\u\\\\frame_04185.jpg'\n",
      "Skipping frame: D:/Datasets/Datasets/EPIC_Kitchen/OpticalFlow/P01_04/v\\frame_04185.jpg due to error: [Errno 2] No such file or directory: 'D:\\\\Datasets\\\\Datasets\\\\EPIC_Kitchen\\\\OpticalFlow\\\\P01_04\\\\v\\\\frame_04185.jpg'\n",
      "Skipping frame: D:/Datasets/Datasets/EPIC_Kitchen/OpticalFlow/P01_04/u\\frame_04190.jpg due to error: [Errno 2] No such file or directory: 'D:\\\\Datasets\\\\Datasets\\\\EPIC_Kitchen\\\\OpticalFlow\\\\P01_04\\\\u\\\\frame_04190.jpg'\n",
      "Skipping frame: D:/Datasets/Datasets/EPIC_Kitchen/OpticalFlow/P01_04/v\\frame_04190.jpg due to error: [Errno 2] No such file or directory: 'D:\\\\Datasets\\\\Datasets\\\\EPIC_Kitchen\\\\OpticalFlow\\\\P01_04\\\\v\\\\frame_04190.jpg'\n",
      "Skipping frame: D:/Datasets/Datasets/EPIC_Kitchen/OpticalFlow/P01_04/u\\frame_04195.jpg due to error: [Errno 2] No such file or directory: 'D:\\\\Datasets\\\\Datasets\\\\EPIC_Kitchen\\\\OpticalFlow\\\\P01_04\\\\u\\\\frame_04195.jpg'\n",
      "Skipping frame: D:/Datasets/Datasets/EPIC_Kitchen/OpticalFlow/P01_04/v\\frame_04195.jpg due to error: [Errno 2] No such file or directory: 'D:\\\\Datasets\\\\Datasets\\\\EPIC_Kitchen\\\\OpticalFlow\\\\P01_04\\\\v\\\\frame_04195.jpg'\n"
     ]
    },
    {
     "name": "stderr",
     "output_type": "stream",
     "text": [
      "Extracting Features with DEFT:  67%|████████████████████████████████▏               | 845/1262 [01:02<00:19, 21.02it/s]"
     ]
    },
    {
     "name": "stdout",
     "output_type": "stream",
     "text": [
      "Skipping frame: D:/Datasets/Datasets/EPIC_Kitchen/OpticalFlow/P01_04/u\\frame_04200.jpg due to error: [Errno 2] No such file or directory: 'D:\\\\Datasets\\\\Datasets\\\\EPIC_Kitchen\\\\OpticalFlow\\\\P01_04\\\\u\\\\frame_04200.jpg'\n",
      "Skipping frame: D:/Datasets/Datasets/EPIC_Kitchen/OpticalFlow/P01_04/v\\frame_04200.jpg due to error: [Errno 2] No such file or directory: 'D:\\\\Datasets\\\\Datasets\\\\EPIC_Kitchen\\\\OpticalFlow\\\\P01_04\\\\v\\\\frame_04200.jpg'\n",
      "Skipping frame: D:/Datasets/Datasets/EPIC_Kitchen/OpticalFlow/P01_04/u\\frame_04205.jpg due to error: [Errno 2] No such file or directory: 'D:\\\\Datasets\\\\Datasets\\\\EPIC_Kitchen\\\\OpticalFlow\\\\P01_04\\\\u\\\\frame_04205.jpg'\n",
      "Skipping frame: D:/Datasets/Datasets/EPIC_Kitchen/OpticalFlow/P01_04/v\\frame_04205.jpg due to error: [Errno 2] No such file or directory: 'D:\\\\Datasets\\\\Datasets\\\\EPIC_Kitchen\\\\OpticalFlow\\\\P01_04\\\\v\\\\frame_04205.jpg'\n",
      "Skipping frame: D:/Datasets/Datasets/EPIC_Kitchen/OpticalFlow/P01_04/u\\frame_04210.jpg due to error: [Errno 2] No such file or directory: 'D:\\\\Datasets\\\\Datasets\\\\EPIC_Kitchen\\\\OpticalFlow\\\\P01_04\\\\u\\\\frame_04210.jpg'\n",
      "Skipping frame: D:/Datasets/Datasets/EPIC_Kitchen/OpticalFlow/P01_04/v\\frame_04210.jpg due to error: [Errno 2] No such file or directory: 'D:\\\\Datasets\\\\Datasets\\\\EPIC_Kitchen\\\\OpticalFlow\\\\P01_04\\\\v\\\\frame_04210.jpg'\n",
      "Skipping frame: D:/Datasets/Datasets/EPIC_Kitchen/OpticalFlow/P01_04/u\\frame_04215.jpg due to error: [Errno 2] No such file or directory: 'D:\\\\Datasets\\\\Datasets\\\\EPIC_Kitchen\\\\OpticalFlow\\\\P01_04\\\\u\\\\frame_04215.jpg'\n",
      "Skipping frame: D:/Datasets/Datasets/EPIC_Kitchen/OpticalFlow/P01_04/v\\frame_04215.jpg due to error: [Errno 2] No such file or directory: 'D:\\\\Datasets\\\\Datasets\\\\EPIC_Kitchen\\\\OpticalFlow\\\\P01_04\\\\v\\\\frame_04215.jpg'\n",
      "Skipping frame: D:/Datasets/Datasets/EPIC_Kitchen/OpticalFlow/P01_04/u\\frame_04220.jpg due to error: [Errno 2] No such file or directory: 'D:\\\\Datasets\\\\Datasets\\\\EPIC_Kitchen\\\\OpticalFlow\\\\P01_04\\\\u\\\\frame_04220.jpg'\n",
      "Skipping frame: D:/Datasets/Datasets/EPIC_Kitchen/OpticalFlow/P01_04/v\\frame_04220.jpg due to error: [Errno 2] No such file or directory: 'D:\\\\Datasets\\\\Datasets\\\\EPIC_Kitchen\\\\OpticalFlow\\\\P01_04\\\\v\\\\frame_04220.jpg'\n"
     ]
    },
    {
     "name": "stderr",
     "output_type": "stream",
     "text": [
      "\r",
      "Extracting Features with DEFT:  67%|████████████████████████████████▎               | 848/1262 [01:02<00:19, 20.79it/s]"
     ]
    },
    {
     "name": "stdout",
     "output_type": "stream",
     "text": [
      "Skipping frame: D:/Datasets/Datasets/EPIC_Kitchen/OpticalFlow/P01_04/u\\frame_04225.jpg due to error: [Errno 2] No such file or directory: 'D:\\\\Datasets\\\\Datasets\\\\EPIC_Kitchen\\\\OpticalFlow\\\\P01_04\\\\u\\\\frame_04225.jpg'\n",
      "Skipping frame: D:/Datasets/Datasets/EPIC_Kitchen/OpticalFlow/P01_04/v\\frame_04225.jpg due to error: [Errno 2] No such file or directory: 'D:\\\\Datasets\\\\Datasets\\\\EPIC_Kitchen\\\\OpticalFlow\\\\P01_04\\\\v\\\\frame_04225.jpg'\n",
      "Skipping frame: D:/Datasets/Datasets/EPIC_Kitchen/OpticalFlow/P01_04/u\\frame_04230.jpg due to error: [Errno 2] No such file or directory: 'D:\\\\Datasets\\\\Datasets\\\\EPIC_Kitchen\\\\OpticalFlow\\\\P01_04\\\\u\\\\frame_04230.jpg'\n",
      "Skipping frame: D:/Datasets/Datasets/EPIC_Kitchen/OpticalFlow/P01_04/v\\frame_04230.jpg due to error: [Errno 2] No such file or directory: 'D:\\\\Datasets\\\\Datasets\\\\EPIC_Kitchen\\\\OpticalFlow\\\\P01_04\\\\v\\\\frame_04230.jpg'\n",
      "Skipping frame: D:/Datasets/Datasets/EPIC_Kitchen/OpticalFlow/P01_04/u\\frame_04235.jpg due to error: [Errno 2] No such file or directory: 'D:\\\\Datasets\\\\Datasets\\\\EPIC_Kitchen\\\\OpticalFlow\\\\P01_04\\\\u\\\\frame_04235.jpg'\n",
      "Skipping frame: D:/Datasets/Datasets/EPIC_Kitchen/OpticalFlow/P01_04/v\\frame_04235.jpg due to error: [Errno 2] No such file or directory: 'D:\\\\Datasets\\\\Datasets\\\\EPIC_Kitchen\\\\OpticalFlow\\\\P01_04\\\\v\\\\frame_04235.jpg'\n",
      "Skipping frame: D:/Datasets/Datasets/EPIC_Kitchen/OpticalFlow/P01_04/u\\frame_04240.jpg due to error: [Errno 2] No such file or directory: 'D:\\\\Datasets\\\\Datasets\\\\EPIC_Kitchen\\\\OpticalFlow\\\\P01_04\\\\u\\\\frame_04240.jpg'\n",
      "Skipping frame: D:/Datasets/Datasets/EPIC_Kitchen/OpticalFlow/P01_04/v\\frame_04240.jpg due to error: [Errno 2] No such file or directory: 'D:\\\\Datasets\\\\Datasets\\\\EPIC_Kitchen\\\\OpticalFlow\\\\P01_04\\\\v\\\\frame_04240.jpg'\n",
      "Skipping frame: D:/Datasets/Datasets/EPIC_Kitchen/OpticalFlow/P01_04/u\\frame_04245.jpg due to error: [Errno 2] No such file or directory: 'D:\\\\Datasets\\\\Datasets\\\\EPIC_Kitchen\\\\OpticalFlow\\\\P01_04\\\\u\\\\frame_04245.jpg'\n",
      "Skipping frame: D:/Datasets/Datasets/EPIC_Kitchen/OpticalFlow/P01_04/v\\frame_04245.jpg due to error: [Errno 2] No such file or directory: 'D:\\\\Datasets\\\\Datasets\\\\EPIC_Kitchen\\\\OpticalFlow\\\\P01_04\\\\v\\\\frame_04245.jpg'\n"
     ]
    },
    {
     "name": "stderr",
     "output_type": "stream",
     "text": [
      "Extracting Features with DEFT:  68%|████████████████████████████████▍               | 854/1262 [01:02<00:19, 21.13it/s]"
     ]
    },
    {
     "name": "stdout",
     "output_type": "stream",
     "text": [
      "Skipping frame: D:/Datasets/Datasets/EPIC_Kitchen/OpticalFlow/P01_04/u\\frame_04250.jpg due to error: [Errno 2] No such file or directory: 'D:\\\\Datasets\\\\Datasets\\\\EPIC_Kitchen\\\\OpticalFlow\\\\P01_04\\\\u\\\\frame_04250.jpg'\n",
      "Skipping frame: D:/Datasets/Datasets/EPIC_Kitchen/OpticalFlow/P01_04/v\\frame_04250.jpg due to error: [Errno 2] No such file or directory: 'D:\\\\Datasets\\\\Datasets\\\\EPIC_Kitchen\\\\OpticalFlow\\\\P01_04\\\\v\\\\frame_04250.jpg'\n",
      "Skipping frame: D:/Datasets/Datasets/EPIC_Kitchen/OpticalFlow/P01_04/u\\frame_04255.jpg due to error: [Errno 2] No such file or directory: 'D:\\\\Datasets\\\\Datasets\\\\EPIC_Kitchen\\\\OpticalFlow\\\\P01_04\\\\u\\\\frame_04255.jpg'\n",
      "Skipping frame: D:/Datasets/Datasets/EPIC_Kitchen/OpticalFlow/P01_04/v\\frame_04255.jpg due to error: [Errno 2] No such file or directory: 'D:\\\\Datasets\\\\Datasets\\\\EPIC_Kitchen\\\\OpticalFlow\\\\P01_04\\\\v\\\\frame_04255.jpg'\n",
      "Skipping frame: D:/Datasets/Datasets/EPIC_Kitchen/OpticalFlow/P01_04/u\\frame_04260.jpg due to error: [Errno 2] No such file or directory: 'D:\\\\Datasets\\\\Datasets\\\\EPIC_Kitchen\\\\OpticalFlow\\\\P01_04\\\\u\\\\frame_04260.jpg'\n",
      "Skipping frame: D:/Datasets/Datasets/EPIC_Kitchen/OpticalFlow/P01_04/v\\frame_04260.jpg due to error: [Errno 2] No such file or directory: 'D:\\\\Datasets\\\\Datasets\\\\EPIC_Kitchen\\\\OpticalFlow\\\\P01_04\\\\v\\\\frame_04260.jpg'\n",
      "Skipping frame: D:/Datasets/Datasets/EPIC_Kitchen/OpticalFlow/P01_04/u\\frame_04265.jpg due to error: [Errno 2] No such file or directory: 'D:\\\\Datasets\\\\Datasets\\\\EPIC_Kitchen\\\\OpticalFlow\\\\P01_04\\\\u\\\\frame_04265.jpg'\n",
      "Skipping frame: D:/Datasets/Datasets/EPIC_Kitchen/OpticalFlow/P01_04/v\\frame_04265.jpg due to error: [Errno 2] No such file or directory: 'D:\\\\Datasets\\\\Datasets\\\\EPIC_Kitchen\\\\OpticalFlow\\\\P01_04\\\\v\\\\frame_04265.jpg'\n",
      "Skipping frame: D:/Datasets/Datasets/EPIC_Kitchen/OpticalFlow/P01_04/u\\frame_04270.jpg due to error: [Errno 2] No such file or directory: 'D:\\\\Datasets\\\\Datasets\\\\EPIC_Kitchen\\\\OpticalFlow\\\\P01_04\\\\u\\\\frame_04270.jpg'\n",
      "Skipping frame: D:/Datasets/Datasets/EPIC_Kitchen/OpticalFlow/P01_04/v\\frame_04270.jpg due to error: [Errno 2] No such file or directory: 'D:\\\\Datasets\\\\Datasets\\\\EPIC_Kitchen\\\\OpticalFlow\\\\P01_04\\\\v\\\\frame_04270.jpg'\n"
     ]
    },
    {
     "name": "stderr",
     "output_type": "stream",
     "text": [
      "Extracting Features with DEFT:  68%|████████████████████████████████▋               | 860/1262 [01:03<00:19, 20.69it/s]"
     ]
    },
    {
     "name": "stdout",
     "output_type": "stream",
     "text": [
      "Skipping frame: D:/Datasets/Datasets/EPIC_Kitchen/OpticalFlow/P01_04/u\\frame_04275.jpg due to error: [Errno 2] No such file or directory: 'D:\\\\Datasets\\\\Datasets\\\\EPIC_Kitchen\\\\OpticalFlow\\\\P01_04\\\\u\\\\frame_04275.jpg'\n",
      "Skipping frame: D:/Datasets/Datasets/EPIC_Kitchen/OpticalFlow/P01_04/v\\frame_04275.jpg due to error: [Errno 2] No such file or directory: 'D:\\\\Datasets\\\\Datasets\\\\EPIC_Kitchen\\\\OpticalFlow\\\\P01_04\\\\v\\\\frame_04275.jpg'\n",
      "Skipping frame: D:/Datasets/Datasets/EPIC_Kitchen/OpticalFlow/P01_04/u\\frame_04280.jpg due to error: [Errno 2] No such file or directory: 'D:\\\\Datasets\\\\Datasets\\\\EPIC_Kitchen\\\\OpticalFlow\\\\P01_04\\\\u\\\\frame_04280.jpg'\n",
      "Skipping frame: D:/Datasets/Datasets/EPIC_Kitchen/OpticalFlow/P01_04/v\\frame_04280.jpg due to error: [Errno 2] No such file or directory: 'D:\\\\Datasets\\\\Datasets\\\\EPIC_Kitchen\\\\OpticalFlow\\\\P01_04\\\\v\\\\frame_04280.jpg'\n",
      "Skipping frame: D:/Datasets/Datasets/EPIC_Kitchen/OpticalFlow/P01_04/u\\frame_04285.jpg due to error: [Errno 2] No such file or directory: 'D:\\\\Datasets\\\\Datasets\\\\EPIC_Kitchen\\\\OpticalFlow\\\\P01_04\\\\u\\\\frame_04285.jpg'\n",
      "Skipping frame: D:/Datasets/Datasets/EPIC_Kitchen/OpticalFlow/P01_04/v\\frame_04285.jpg due to error: [Errno 2] No such file or directory: 'D:\\\\Datasets\\\\Datasets\\\\EPIC_Kitchen\\\\OpticalFlow\\\\P01_04\\\\v\\\\frame_04285.jpg'\n",
      "Skipping frame: D:/Datasets/Datasets/EPIC_Kitchen/OpticalFlow/P01_04/u\\frame_04290.jpg due to error: [Errno 2] No such file or directory: 'D:\\\\Datasets\\\\Datasets\\\\EPIC_Kitchen\\\\OpticalFlow\\\\P01_04\\\\u\\\\frame_04290.jpg'\n",
      "Skipping frame: D:/Datasets/Datasets/EPIC_Kitchen/OpticalFlow/P01_04/v\\frame_04290.jpg due to error: [Errno 2] No such file or directory: 'D:\\\\Datasets\\\\Datasets\\\\EPIC_Kitchen\\\\OpticalFlow\\\\P01_04\\\\v\\\\frame_04290.jpg'\n",
      "Skipping frame: D:/Datasets/Datasets/EPIC_Kitchen/OpticalFlow/P01_04/u\\frame_04295.jpg due to error: [Errno 2] No such file or directory: 'D:\\\\Datasets\\\\Datasets\\\\EPIC_Kitchen\\\\OpticalFlow\\\\P01_04\\\\u\\\\frame_04295.jpg'\n",
      "Skipping frame: D:/Datasets/Datasets/EPIC_Kitchen/OpticalFlow/P01_04/v\\frame_04295.jpg due to error: [Errno 2] No such file or directory: 'D:\\\\Datasets\\\\Datasets\\\\EPIC_Kitchen\\\\OpticalFlow\\\\P01_04\\\\v\\\\frame_04295.jpg'\n"
     ]
    },
    {
     "name": "stderr",
     "output_type": "stream",
     "text": [
      "\r",
      "Extracting Features with DEFT:  68%|████████████████████████████████▊               | 863/1262 [01:03<00:19, 20.71it/s]"
     ]
    },
    {
     "name": "stdout",
     "output_type": "stream",
     "text": [
      "Skipping frame: D:/Datasets/Datasets/EPIC_Kitchen/OpticalFlow/P01_04/u\\frame_04300.jpg due to error: [Errno 2] No such file or directory: 'D:\\\\Datasets\\\\Datasets\\\\EPIC_Kitchen\\\\OpticalFlow\\\\P01_04\\\\u\\\\frame_04300.jpg'\n",
      "Skipping frame: D:/Datasets/Datasets/EPIC_Kitchen/OpticalFlow/P01_04/v\\frame_04300.jpg due to error: [Errno 2] No such file or directory: 'D:\\\\Datasets\\\\Datasets\\\\EPIC_Kitchen\\\\OpticalFlow\\\\P01_04\\\\v\\\\frame_04300.jpg'\n",
      "Skipping frame: D:/Datasets/Datasets/EPIC_Kitchen/OpticalFlow/P01_04/u\\frame_04305.jpg due to error: [Errno 2] No such file or directory: 'D:\\\\Datasets\\\\Datasets\\\\EPIC_Kitchen\\\\OpticalFlow\\\\P01_04\\\\u\\\\frame_04305.jpg'\n",
      "Skipping frame: D:/Datasets/Datasets/EPIC_Kitchen/OpticalFlow/P01_04/v\\frame_04305.jpg due to error: [Errno 2] No such file or directory: 'D:\\\\Datasets\\\\Datasets\\\\EPIC_Kitchen\\\\OpticalFlow\\\\P01_04\\\\v\\\\frame_04305.jpg'\n",
      "Skipping frame: D:/Datasets/Datasets/EPIC_Kitchen/OpticalFlow/P01_04/u\\frame_04310.jpg due to error: [Errno 2] No such file or directory: 'D:\\\\Datasets\\\\Datasets\\\\EPIC_Kitchen\\\\OpticalFlow\\\\P01_04\\\\u\\\\frame_04310.jpg'\n",
      "Skipping frame: D:/Datasets/Datasets/EPIC_Kitchen/OpticalFlow/P01_04/v\\frame_04310.jpg due to error: [Errno 2] No such file or directory: 'D:\\\\Datasets\\\\Datasets\\\\EPIC_Kitchen\\\\OpticalFlow\\\\P01_04\\\\v\\\\frame_04310.jpg'\n",
      "Skipping frame: D:/Datasets/Datasets/EPIC_Kitchen/OpticalFlow/P01_04/u\\frame_04315.jpg due to error: [Errno 2] No such file or directory: 'D:\\\\Datasets\\\\Datasets\\\\EPIC_Kitchen\\\\OpticalFlow\\\\P01_04\\\\u\\\\frame_04315.jpg'\n",
      "Skipping frame: D:/Datasets/Datasets/EPIC_Kitchen/OpticalFlow/P01_04/v\\frame_04315.jpg due to error: [Errno 2] No such file or directory: 'D:\\\\Datasets\\\\Datasets\\\\EPIC_Kitchen\\\\OpticalFlow\\\\P01_04\\\\v\\\\frame_04315.jpg'\n"
     ]
    },
    {
     "name": "stderr",
     "output_type": "stream",
     "text": [
      "Extracting Features with DEFT:  69%|█████████████████████████████████               | 869/1262 [01:03<00:19, 20.66it/s]"
     ]
    },
    {
     "name": "stdout",
     "output_type": "stream",
     "text": [
      "Skipping frame: D:/Datasets/Datasets/EPIC_Kitchen/OpticalFlow/P01_04/u\\frame_04320.jpg due to error: [Errno 2] No such file or directory: 'D:\\\\Datasets\\\\Datasets\\\\EPIC_Kitchen\\\\OpticalFlow\\\\P01_04\\\\u\\\\frame_04320.jpg'\n",
      "Skipping frame: D:/Datasets/Datasets/EPIC_Kitchen/OpticalFlow/P01_04/v\\frame_04320.jpg due to error: [Errno 2] No such file or directory: 'D:\\\\Datasets\\\\Datasets\\\\EPIC_Kitchen\\\\OpticalFlow\\\\P01_04\\\\v\\\\frame_04320.jpg'\n",
      "Skipping frame: D:/Datasets/Datasets/EPIC_Kitchen/OpticalFlow/P01_04/u\\frame_04325.jpg due to error: [Errno 2] No such file or directory: 'D:\\\\Datasets\\\\Datasets\\\\EPIC_Kitchen\\\\OpticalFlow\\\\P01_04\\\\u\\\\frame_04325.jpg'\n",
      "Skipping frame: D:/Datasets/Datasets/EPIC_Kitchen/OpticalFlow/P01_04/v\\frame_04325.jpg due to error: [Errno 2] No such file or directory: 'D:\\\\Datasets\\\\Datasets\\\\EPIC_Kitchen\\\\OpticalFlow\\\\P01_04\\\\v\\\\frame_04325.jpg'\n",
      "Skipping frame: D:/Datasets/Datasets/EPIC_Kitchen/OpticalFlow/P01_04/u\\frame_04330.jpg due to error: [Errno 2] No such file or directory: 'D:\\\\Datasets\\\\Datasets\\\\EPIC_Kitchen\\\\OpticalFlow\\\\P01_04\\\\u\\\\frame_04330.jpg'\n",
      "Skipping frame: D:/Datasets/Datasets/EPIC_Kitchen/OpticalFlow/P01_04/v\\frame_04330.jpg due to error: [Errno 2] No such file or directory: 'D:\\\\Datasets\\\\Datasets\\\\EPIC_Kitchen\\\\OpticalFlow\\\\P01_04\\\\v\\\\frame_04330.jpg'\n",
      "Skipping frame: D:/Datasets/Datasets/EPIC_Kitchen/OpticalFlow/P01_04/u\\frame_04335.jpg due to error: [Errno 2] No such file or directory: 'D:\\\\Datasets\\\\Datasets\\\\EPIC_Kitchen\\\\OpticalFlow\\\\P01_04\\\\u\\\\frame_04335.jpg'\n",
      "Skipping frame: D:/Datasets/Datasets/EPIC_Kitchen/OpticalFlow/P01_04/v\\frame_04335.jpg due to error: [Errno 2] No such file or directory: 'D:\\\\Datasets\\\\Datasets\\\\EPIC_Kitchen\\\\OpticalFlow\\\\P01_04\\\\v\\\\frame_04335.jpg'\n",
      "Skipping frame: D:/Datasets/Datasets/EPIC_Kitchen/OpticalFlow/P01_04/u\\frame_04340.jpg due to error: [Errno 2] No such file or directory: 'D:\\\\Datasets\\\\Datasets\\\\EPIC_Kitchen\\\\OpticalFlow\\\\P01_04\\\\u\\\\frame_04340.jpg'\n",
      "Skipping frame: D:/Datasets/Datasets/EPIC_Kitchen/OpticalFlow/P01_04/v\\frame_04340.jpg due to error: [Errno 2] No such file or directory: 'D:\\\\Datasets\\\\Datasets\\\\EPIC_Kitchen\\\\OpticalFlow\\\\P01_04\\\\v\\\\frame_04340.jpg'\n"
     ]
    },
    {
     "name": "stderr",
     "output_type": "stream",
     "text": [
      "\r",
      "Extracting Features with DEFT:  69%|█████████████████████████████████▏              | 872/1262 [01:03<00:18, 20.58it/s]"
     ]
    },
    {
     "name": "stdout",
     "output_type": "stream",
     "text": [
      "Skipping frame: D:/Datasets/Datasets/EPIC_Kitchen/OpticalFlow/P01_04/u\\frame_04345.jpg due to error: [Errno 2] No such file or directory: 'D:\\\\Datasets\\\\Datasets\\\\EPIC_Kitchen\\\\OpticalFlow\\\\P01_04\\\\u\\\\frame_04345.jpg'\n",
      "Skipping frame: D:/Datasets/Datasets/EPIC_Kitchen/OpticalFlow/P01_04/v\\frame_04345.jpg due to error: [Errno 2] No such file or directory: 'D:\\\\Datasets\\\\Datasets\\\\EPIC_Kitchen\\\\OpticalFlow\\\\P01_04\\\\v\\\\frame_04345.jpg'\n",
      "Skipping frame: D:/Datasets/Datasets/EPIC_Kitchen/OpticalFlow/P01_04/u\\frame_04350.jpg due to error: [Errno 2] No such file or directory: 'D:\\\\Datasets\\\\Datasets\\\\EPIC_Kitchen\\\\OpticalFlow\\\\P01_04\\\\u\\\\frame_04350.jpg'\n",
      "Skipping frame: D:/Datasets/Datasets/EPIC_Kitchen/OpticalFlow/P01_04/v\\frame_04350.jpg due to error: [Errno 2] No such file or directory: 'D:\\\\Datasets\\\\Datasets\\\\EPIC_Kitchen\\\\OpticalFlow\\\\P01_04\\\\v\\\\frame_04350.jpg'\n",
      "Skipping frame: D:/Datasets/Datasets/EPIC_Kitchen/OpticalFlow/P01_04/u\\frame_04355.jpg due to error: [Errno 2] No such file or directory: 'D:\\\\Datasets\\\\Datasets\\\\EPIC_Kitchen\\\\OpticalFlow\\\\P01_04\\\\u\\\\frame_04355.jpg'\n",
      "Skipping frame: D:/Datasets/Datasets/EPIC_Kitchen/OpticalFlow/P01_04/v\\frame_04355.jpg due to error: [Errno 2] No such file or directory: 'D:\\\\Datasets\\\\Datasets\\\\EPIC_Kitchen\\\\OpticalFlow\\\\P01_04\\\\v\\\\frame_04355.jpg'\n",
      "Skipping frame: D:/Datasets/Datasets/EPIC_Kitchen/OpticalFlow/P01_04/u\\frame_04360.jpg due to error: [Errno 2] No such file or directory: 'D:\\\\Datasets\\\\Datasets\\\\EPIC_Kitchen\\\\OpticalFlow\\\\P01_04\\\\u\\\\frame_04360.jpg'\n",
      "Skipping frame: D:/Datasets/Datasets/EPIC_Kitchen/OpticalFlow/P01_04/v\\frame_04360.jpg due to error: [Errno 2] No such file or directory: 'D:\\\\Datasets\\\\Datasets\\\\EPIC_Kitchen\\\\OpticalFlow\\\\P01_04\\\\v\\\\frame_04360.jpg'\n",
      "Skipping frame: D:/Datasets/Datasets/EPIC_Kitchen/OpticalFlow/P01_04/u\\frame_04365.jpg due to error: [Errno 2] No such file or directory: 'D:\\\\Datasets\\\\Datasets\\\\EPIC_Kitchen\\\\OpticalFlow\\\\P01_04\\\\u\\\\frame_04365.jpg'\n"
     ]
    },
    {
     "name": "stderr",
     "output_type": "stream",
     "text": [
      "Extracting Features with DEFT:  70%|█████████████████████████████████▍              | 878/1262 [01:04<00:18, 20.65it/s]"
     ]
    },
    {
     "name": "stdout",
     "output_type": "stream",
     "text": [
      "Skipping frame: D:/Datasets/Datasets/EPIC_Kitchen/OpticalFlow/P01_04/v\\frame_04365.jpg due to error: [Errno 2] No such file or directory: 'D:\\\\Datasets\\\\Datasets\\\\EPIC_Kitchen\\\\OpticalFlow\\\\P01_04\\\\v\\\\frame_04365.jpg'\n",
      "Skipping frame: D:/Datasets/Datasets/EPIC_Kitchen/OpticalFlow/P01_04/u\\frame_04370.jpg due to error: [Errno 2] No such file or directory: 'D:\\\\Datasets\\\\Datasets\\\\EPIC_Kitchen\\\\OpticalFlow\\\\P01_04\\\\u\\\\frame_04370.jpg'\n",
      "Skipping frame: D:/Datasets/Datasets/EPIC_Kitchen/OpticalFlow/P01_04/v\\frame_04370.jpg due to error: [Errno 2] No such file or directory: 'D:\\\\Datasets\\\\Datasets\\\\EPIC_Kitchen\\\\OpticalFlow\\\\P01_04\\\\v\\\\frame_04370.jpg'\n",
      "Skipping frame: D:/Datasets/Datasets/EPIC_Kitchen/OpticalFlow/P01_04/u\\frame_04375.jpg due to error: [Errno 2] No such file or directory: 'D:\\\\Datasets\\\\Datasets\\\\EPIC_Kitchen\\\\OpticalFlow\\\\P01_04\\\\u\\\\frame_04375.jpg'\n",
      "Skipping frame: D:/Datasets/Datasets/EPIC_Kitchen/OpticalFlow/P01_04/v\\frame_04375.jpg due to error: [Errno 2] No such file or directory: 'D:\\\\Datasets\\\\Datasets\\\\EPIC_Kitchen\\\\OpticalFlow\\\\P01_04\\\\v\\\\frame_04375.jpg'\n",
      "Skipping frame: D:/Datasets/Datasets/EPIC_Kitchen/OpticalFlow/P01_04/u\\frame_04380.jpg due to error: [Errno 2] No such file or directory: 'D:\\\\Datasets\\\\Datasets\\\\EPIC_Kitchen\\\\OpticalFlow\\\\P01_04\\\\u\\\\frame_04380.jpg'\n",
      "Skipping frame: D:/Datasets/Datasets/EPIC_Kitchen/OpticalFlow/P01_04/v\\frame_04380.jpg due to error: [Errno 2] No such file or directory: 'D:\\\\Datasets\\\\Datasets\\\\EPIC_Kitchen\\\\OpticalFlow\\\\P01_04\\\\v\\\\frame_04380.jpg'\n",
      "Skipping frame: D:/Datasets/Datasets/EPIC_Kitchen/OpticalFlow/P01_04/u\\frame_04385.jpg due to error: [Errno 2] No such file or directory: 'D:\\\\Datasets\\\\Datasets\\\\EPIC_Kitchen\\\\OpticalFlow\\\\P01_04\\\\u\\\\frame_04385.jpg'\n",
      "Skipping frame: D:/Datasets/Datasets/EPIC_Kitchen/OpticalFlow/P01_04/v\\frame_04385.jpg due to error: [Errno 2] No such file or directory: 'D:\\\\Datasets\\\\Datasets\\\\EPIC_Kitchen\\\\OpticalFlow\\\\P01_04\\\\v\\\\frame_04385.jpg'\n"
     ]
    },
    {
     "name": "stderr",
     "output_type": "stream",
     "text": [
      "\r",
      "Extracting Features with DEFT:  70%|█████████████████████████████████▌              | 881/1262 [01:04<00:18, 20.65it/s]"
     ]
    },
    {
     "name": "stdout",
     "output_type": "stream",
     "text": [
      "Skipping frame: D:/Datasets/Datasets/EPIC_Kitchen/OpticalFlow/P01_04/u\\frame_04390.jpg due to error: [Errno 2] No such file or directory: 'D:\\\\Datasets\\\\Datasets\\\\EPIC_Kitchen\\\\OpticalFlow\\\\P01_04\\\\u\\\\frame_04390.jpg'\n",
      "Skipping frame: D:/Datasets/Datasets/EPIC_Kitchen/OpticalFlow/P01_04/v\\frame_04390.jpg due to error: [Errno 2] No such file or directory: 'D:\\\\Datasets\\\\Datasets\\\\EPIC_Kitchen\\\\OpticalFlow\\\\P01_04\\\\v\\\\frame_04390.jpg'\n",
      "Skipping frame: D:/Datasets/Datasets/EPIC_Kitchen/OpticalFlow/P01_04/u\\frame_04395.jpg due to error: [Errno 2] No such file or directory: 'D:\\\\Datasets\\\\Datasets\\\\EPIC_Kitchen\\\\OpticalFlow\\\\P01_04\\\\u\\\\frame_04395.jpg'\n",
      "Skipping frame: D:/Datasets/Datasets/EPIC_Kitchen/OpticalFlow/P01_04/v\\frame_04395.jpg due to error: [Errno 2] No such file or directory: 'D:\\\\Datasets\\\\Datasets\\\\EPIC_Kitchen\\\\OpticalFlow\\\\P01_04\\\\v\\\\frame_04395.jpg'\n",
      "Skipping frame: D:/Datasets/Datasets/EPIC_Kitchen/OpticalFlow/P01_04/u\\frame_04400.jpg due to error: [Errno 2] No such file or directory: 'D:\\\\Datasets\\\\Datasets\\\\EPIC_Kitchen\\\\OpticalFlow\\\\P01_04\\\\u\\\\frame_04400.jpg'\n",
      "Skipping frame: D:/Datasets/Datasets/EPIC_Kitchen/OpticalFlow/P01_04/v\\frame_04400.jpg due to error: [Errno 2] No such file or directory: 'D:\\\\Datasets\\\\Datasets\\\\EPIC_Kitchen\\\\OpticalFlow\\\\P01_04\\\\v\\\\frame_04400.jpg'\n",
      "Skipping frame: D:/Datasets/Datasets/EPIC_Kitchen/OpticalFlow/P01_04/u\\frame_04405.jpg due to error: [Errno 2] No such file or directory: 'D:\\\\Datasets\\\\Datasets\\\\EPIC_Kitchen\\\\OpticalFlow\\\\P01_04\\\\u\\\\frame_04405.jpg'\n",
      "Skipping frame: D:/Datasets/Datasets/EPIC_Kitchen/OpticalFlow/P01_04/v\\frame_04405.jpg due to error: [Errno 2] No such file or directory: 'D:\\\\Datasets\\\\Datasets\\\\EPIC_Kitchen\\\\OpticalFlow\\\\P01_04\\\\v\\\\frame_04405.jpg'\n",
      "Skipping frame: D:/Datasets/Datasets/EPIC_Kitchen/OpticalFlow/P01_04/u\\frame_04410.jpg due to error: [Errno 2] No such file or directory: 'D:\\\\Datasets\\\\Datasets\\\\EPIC_Kitchen\\\\OpticalFlow\\\\P01_04\\\\u\\\\frame_04410.jpg'\n",
      "Skipping frame: D:/Datasets/Datasets/EPIC_Kitchen/OpticalFlow/P01_04/v\\frame_04410.jpg due to error: [Errno 2] No such file or directory: 'D:\\\\Datasets\\\\Datasets\\\\EPIC_Kitchen\\\\OpticalFlow\\\\P01_04\\\\v\\\\frame_04410.jpg'\n"
     ]
    },
    {
     "name": "stderr",
     "output_type": "stream",
     "text": [
      "Extracting Features with DEFT:  70%|█████████████████████████████████▋              | 887/1262 [01:04<00:18, 20.80it/s]"
     ]
    },
    {
     "name": "stdout",
     "output_type": "stream",
     "text": [
      "Skipping frame: D:/Datasets/Datasets/EPIC_Kitchen/OpticalFlow/P01_04/u\\frame_04415.jpg due to error: [Errno 2] No such file or directory: 'D:\\\\Datasets\\\\Datasets\\\\EPIC_Kitchen\\\\OpticalFlow\\\\P01_04\\\\u\\\\frame_04415.jpg'\n",
      "Skipping frame: D:/Datasets/Datasets/EPIC_Kitchen/OpticalFlow/P01_04/v\\frame_04415.jpg due to error: [Errno 2] No such file or directory: 'D:\\\\Datasets\\\\Datasets\\\\EPIC_Kitchen\\\\OpticalFlow\\\\P01_04\\\\v\\\\frame_04415.jpg'\n",
      "Skipping frame: D:/Datasets/Datasets/EPIC_Kitchen/OpticalFlow/P01_04/u\\frame_04420.jpg due to error: [Errno 2] No such file or directory: 'D:\\\\Datasets\\\\Datasets\\\\EPIC_Kitchen\\\\OpticalFlow\\\\P01_04\\\\u\\\\frame_04420.jpg'\n",
      "Skipping frame: D:/Datasets/Datasets/EPIC_Kitchen/OpticalFlow/P01_04/v\\frame_04420.jpg due to error: [Errno 2] No such file or directory: 'D:\\\\Datasets\\\\Datasets\\\\EPIC_Kitchen\\\\OpticalFlow\\\\P01_04\\\\v\\\\frame_04420.jpg'\n",
      "Skipping frame: D:/Datasets/Datasets/EPIC_Kitchen/OpticalFlow/P01_04/u\\frame_04425.jpg due to error: [Errno 2] No such file or directory: 'D:\\\\Datasets\\\\Datasets\\\\EPIC_Kitchen\\\\OpticalFlow\\\\P01_04\\\\u\\\\frame_04425.jpg'\n",
      "Skipping frame: D:/Datasets/Datasets/EPIC_Kitchen/OpticalFlow/P01_04/v\\frame_04425.jpg due to error: [Errno 2] No such file or directory: 'D:\\\\Datasets\\\\Datasets\\\\EPIC_Kitchen\\\\OpticalFlow\\\\P01_04\\\\v\\\\frame_04425.jpg'\n",
      "Skipping frame: D:/Datasets/Datasets/EPIC_Kitchen/OpticalFlow/P01_04/u\\frame_04430.jpg due to error: [Errno 2] No such file or directory: 'D:\\\\Datasets\\\\Datasets\\\\EPIC_Kitchen\\\\OpticalFlow\\\\P01_04\\\\u\\\\frame_04430.jpg'\n",
      "Skipping frame: D:/Datasets/Datasets/EPIC_Kitchen/OpticalFlow/P01_04/v\\frame_04430.jpg due to error: [Errno 2] No such file or directory: 'D:\\\\Datasets\\\\Datasets\\\\EPIC_Kitchen\\\\OpticalFlow\\\\P01_04\\\\v\\\\frame_04430.jpg'\n",
      "Skipping frame: D:/Datasets/Datasets/EPIC_Kitchen/OpticalFlow/P01_04/u\\frame_04435.jpg due to error: [Errno 2] No such file or directory: 'D:\\\\Datasets\\\\Datasets\\\\EPIC_Kitchen\\\\OpticalFlow\\\\P01_04\\\\u\\\\frame_04435.jpg'\n",
      "Skipping frame: D:/Datasets/Datasets/EPIC_Kitchen/OpticalFlow/P01_04/v\\frame_04435.jpg due to error: [Errno 2] No such file or directory: 'D:\\\\Datasets\\\\Datasets\\\\EPIC_Kitchen\\\\OpticalFlow\\\\P01_04\\\\v\\\\frame_04435.jpg'\n"
     ]
    },
    {
     "name": "stderr",
     "output_type": "stream",
     "text": [
      "\r",
      "Extracting Features with DEFT:  71%|█████████████████████████████████▊              | 890/1262 [01:04<00:18, 20.36it/s]"
     ]
    },
    {
     "name": "stdout",
     "output_type": "stream",
     "text": [
      "Skipping frame: D:/Datasets/Datasets/EPIC_Kitchen/OpticalFlow/P01_04/u\\frame_04440.jpg due to error: [Errno 2] No such file or directory: 'D:\\\\Datasets\\\\Datasets\\\\EPIC_Kitchen\\\\OpticalFlow\\\\P01_04\\\\u\\\\frame_04440.jpg'\n",
      "Skipping frame: D:/Datasets/Datasets/EPIC_Kitchen/OpticalFlow/P01_04/v\\frame_04440.jpg due to error: [Errno 2] No such file or directory: 'D:\\\\Datasets\\\\Datasets\\\\EPIC_Kitchen\\\\OpticalFlow\\\\P01_04\\\\v\\\\frame_04440.jpg'\n",
      "Skipping frame: D:/Datasets/Datasets/EPIC_Kitchen/OpticalFlow/P01_04/u\\frame_04445.jpg due to error: [Errno 2] No such file or directory: 'D:\\\\Datasets\\\\Datasets\\\\EPIC_Kitchen\\\\OpticalFlow\\\\P01_04\\\\u\\\\frame_04445.jpg'\n",
      "Skipping frame: D:/Datasets/Datasets/EPIC_Kitchen/OpticalFlow/P01_04/v\\frame_04445.jpg due to error: [Errno 2] No such file or directory: 'D:\\\\Datasets\\\\Datasets\\\\EPIC_Kitchen\\\\OpticalFlow\\\\P01_04\\\\v\\\\frame_04445.jpg'\n",
      "Skipping frame: D:/Datasets/Datasets/EPIC_Kitchen/OpticalFlow/P01_04/u\\frame_04450.jpg due to error: [Errno 2] No such file or directory: 'D:\\\\Datasets\\\\Datasets\\\\EPIC_Kitchen\\\\OpticalFlow\\\\P01_04\\\\u\\\\frame_04450.jpg'\n",
      "Skipping frame: D:/Datasets/Datasets/EPIC_Kitchen/OpticalFlow/P01_04/v\\frame_04450.jpg due to error: [Errno 2] No such file or directory: 'D:\\\\Datasets\\\\Datasets\\\\EPIC_Kitchen\\\\OpticalFlow\\\\P01_04\\\\v\\\\frame_04450.jpg'\n",
      "Skipping frame: D:/Datasets/Datasets/EPIC_Kitchen/OpticalFlow/P01_04/u\\frame_04455.jpg due to error: [Errno 2] No such file or directory: 'D:\\\\Datasets\\\\Datasets\\\\EPIC_Kitchen\\\\OpticalFlow\\\\P01_04\\\\u\\\\frame_04455.jpg'\n",
      "Skipping frame: D:/Datasets/Datasets/EPIC_Kitchen/OpticalFlow/P01_04/v\\frame_04455.jpg due to error: [Errno 2] No such file or directory: 'D:\\\\Datasets\\\\Datasets\\\\EPIC_Kitchen\\\\OpticalFlow\\\\P01_04\\\\v\\\\frame_04455.jpg'\n"
     ]
    },
    {
     "name": "stderr",
     "output_type": "stream",
     "text": [
      "Extracting Features with DEFT:  71%|██████████████████████████████████              | 896/1262 [01:04<00:18, 19.87it/s]"
     ]
    },
    {
     "name": "stdout",
     "output_type": "stream",
     "text": [
      "Skipping frame: D:/Datasets/Datasets/EPIC_Kitchen/OpticalFlow/P01_04/u\\frame_04460.jpg due to error: [Errno 2] No such file or directory: 'D:\\\\Datasets\\\\Datasets\\\\EPIC_Kitchen\\\\OpticalFlow\\\\P01_04\\\\u\\\\frame_04460.jpg'\n",
      "Skipping frame: D:/Datasets/Datasets/EPIC_Kitchen/OpticalFlow/P01_04/v\\frame_04460.jpg due to error: [Errno 2] No such file or directory: 'D:\\\\Datasets\\\\Datasets\\\\EPIC_Kitchen\\\\OpticalFlow\\\\P01_04\\\\v\\\\frame_04460.jpg'\n",
      "Skipping frame: D:/Datasets/Datasets/EPIC_Kitchen/OpticalFlow/P01_04/u\\frame_04465.jpg due to error: [Errno 2] No such file or directory: 'D:\\\\Datasets\\\\Datasets\\\\EPIC_Kitchen\\\\OpticalFlow\\\\P01_04\\\\u\\\\frame_04465.jpg'\n",
      "Skipping frame: D:/Datasets/Datasets/EPIC_Kitchen/OpticalFlow/P01_04/v\\frame_04465.jpg due to error: [Errno 2] No such file or directory: 'D:\\\\Datasets\\\\Datasets\\\\EPIC_Kitchen\\\\OpticalFlow\\\\P01_04\\\\v\\\\frame_04465.jpg'\n",
      "Skipping frame: D:/Datasets/Datasets/EPIC_Kitchen/OpticalFlow/P01_04/u\\frame_04470.jpg due to error: [Errno 2] No such file or directory: 'D:\\\\Datasets\\\\Datasets\\\\EPIC_Kitchen\\\\OpticalFlow\\\\P01_04\\\\u\\\\frame_04470.jpg'\n",
      "Skipping frame: D:/Datasets/Datasets/EPIC_Kitchen/OpticalFlow/P01_04/v\\frame_04470.jpg due to error: [Errno 2] No such file or directory: 'D:\\\\Datasets\\\\Datasets\\\\EPIC_Kitchen\\\\OpticalFlow\\\\P01_04\\\\v\\\\frame_04470.jpg'\n",
      "Skipping frame: D:/Datasets/Datasets/EPIC_Kitchen/OpticalFlow/P01_04/u\\frame_04475.jpg due to error: [Errno 2] No such file or directory: 'D:\\\\Datasets\\\\Datasets\\\\EPIC_Kitchen\\\\OpticalFlow\\\\P01_04\\\\u\\\\frame_04475.jpg'\n",
      "Skipping frame: D:/Datasets/Datasets/EPIC_Kitchen/OpticalFlow/P01_04/v\\frame_04475.jpg due to error: [Errno 2] No such file or directory: 'D:\\\\Datasets\\\\Datasets\\\\EPIC_Kitchen\\\\OpticalFlow\\\\P01_04\\\\v\\\\frame_04475.jpg'\n",
      "Skipping frame: D:/Datasets/Datasets/EPIC_Kitchen/OpticalFlow/P01_04/u\\frame_04480.jpg due to error: [Errno 2] No such file or directory: 'D:\\\\Datasets\\\\Datasets\\\\EPIC_Kitchen\\\\OpticalFlow\\\\P01_04\\\\u\\\\frame_04480.jpg'\n",
      "Skipping frame: D:/Datasets/Datasets/EPIC_Kitchen/OpticalFlow/P01_04/v\\frame_04480.jpg due to error: [Errno 2] No such file or directory: 'D:\\\\Datasets\\\\Datasets\\\\EPIC_Kitchen\\\\OpticalFlow\\\\P01_04\\\\v\\\\frame_04480.jpg'\n"
     ]
    },
    {
     "name": "stderr",
     "output_type": "stream",
     "text": [
      "Extracting Features with DEFT:  71%|██████████████████████████████████▏             | 900/1262 [01:05<00:18, 19.81it/s]"
     ]
    },
    {
     "name": "stdout",
     "output_type": "stream",
     "text": [
      "Skipping frame: D:/Datasets/Datasets/EPIC_Kitchen/OpticalFlow/P01_04/u\\frame_04485.jpg due to error: [Errno 2] No such file or directory: 'D:\\\\Datasets\\\\Datasets\\\\EPIC_Kitchen\\\\OpticalFlow\\\\P01_04\\\\u\\\\frame_04485.jpg'\n",
      "Skipping frame: D:/Datasets/Datasets/EPIC_Kitchen/OpticalFlow/P01_04/v\\frame_04485.jpg due to error: [Errno 2] No such file or directory: 'D:\\\\Datasets\\\\Datasets\\\\EPIC_Kitchen\\\\OpticalFlow\\\\P01_04\\\\v\\\\frame_04485.jpg'\n",
      "Skipping frame: D:/Datasets/Datasets/EPIC_Kitchen/OpticalFlow/P01_04/u\\frame_04490.jpg due to error: [Errno 2] No such file or directory: 'D:\\\\Datasets\\\\Datasets\\\\EPIC_Kitchen\\\\OpticalFlow\\\\P01_04\\\\u\\\\frame_04490.jpg'\n",
      "Skipping frame: D:/Datasets/Datasets/EPIC_Kitchen/OpticalFlow/P01_04/v\\frame_04490.jpg due to error: [Errno 2] No such file or directory: 'D:\\\\Datasets\\\\Datasets\\\\EPIC_Kitchen\\\\OpticalFlow\\\\P01_04\\\\v\\\\frame_04490.jpg'\n",
      "Skipping frame: D:/Datasets/Datasets/EPIC_Kitchen/OpticalFlow/P01_04/u\\frame_04495.jpg due to error: [Errno 2] No such file or directory: 'D:\\\\Datasets\\\\Datasets\\\\EPIC_Kitchen\\\\OpticalFlow\\\\P01_04\\\\u\\\\frame_04495.jpg'\n",
      "Skipping frame: D:/Datasets/Datasets/EPIC_Kitchen/OpticalFlow/P01_04/v\\frame_04495.jpg due to error: [Errno 2] No such file or directory: 'D:\\\\Datasets\\\\Datasets\\\\EPIC_Kitchen\\\\OpticalFlow\\\\P01_04\\\\v\\\\frame_04495.jpg'\n",
      "Skipping frame: D:/Datasets/Datasets/EPIC_Kitchen/OpticalFlow/P01_04/u\\frame_04500.jpg due to error: [Errno 2] No such file or directory: 'D:\\\\Datasets\\\\Datasets\\\\EPIC_Kitchen\\\\OpticalFlow\\\\P01_04\\\\u\\\\frame_04500.jpg'\n",
      "Skipping frame: D:/Datasets/Datasets/EPIC_Kitchen/OpticalFlow/P01_04/v\\frame_04500.jpg due to error: [Errno 2] No such file or directory: 'D:\\\\Datasets\\\\Datasets\\\\EPIC_Kitchen\\\\OpticalFlow\\\\P01_04\\\\v\\\\frame_04500.jpg'\n"
     ]
    },
    {
     "name": "stderr",
     "output_type": "stream",
     "text": [
      "Extracting Features with DEFT:  72%|██████████████████████████████████▍             | 906/1262 [01:05<00:17, 19.80it/s]"
     ]
    },
    {
     "name": "stdout",
     "output_type": "stream",
     "text": [
      "Skipping frame: D:/Datasets/Datasets/EPIC_Kitchen/OpticalFlow/P01_04/u\\frame_04505.jpg due to error: [Errno 2] No such file or directory: 'D:\\\\Datasets\\\\Datasets\\\\EPIC_Kitchen\\\\OpticalFlow\\\\P01_04\\\\u\\\\frame_04505.jpg'\n",
      "Skipping frame: D:/Datasets/Datasets/EPIC_Kitchen/OpticalFlow/P01_04/v\\frame_04505.jpg due to error: [Errno 2] No such file or directory: 'D:\\\\Datasets\\\\Datasets\\\\EPIC_Kitchen\\\\OpticalFlow\\\\P01_04\\\\v\\\\frame_04505.jpg'\n",
      "Skipping frame: D:/Datasets/Datasets/EPIC_Kitchen/OpticalFlow/P01_04/u\\frame_04510.jpg due to error: [Errno 2] No such file or directory: 'D:\\\\Datasets\\\\Datasets\\\\EPIC_Kitchen\\\\OpticalFlow\\\\P01_04\\\\u\\\\frame_04510.jpg'\n",
      "Skipping frame: D:/Datasets/Datasets/EPIC_Kitchen/OpticalFlow/P01_04/v\\frame_04510.jpg due to error: [Errno 2] No such file or directory: 'D:\\\\Datasets\\\\Datasets\\\\EPIC_Kitchen\\\\OpticalFlow\\\\P01_04\\\\v\\\\frame_04510.jpg'\n",
      "Skipping frame: D:/Datasets/Datasets/EPIC_Kitchen/OpticalFlow/P01_04/u\\frame_04515.jpg due to error: [Errno 2] No such file or directory: 'D:\\\\Datasets\\\\Datasets\\\\EPIC_Kitchen\\\\OpticalFlow\\\\P01_04\\\\u\\\\frame_04515.jpg'\n",
      "Skipping frame: D:/Datasets/Datasets/EPIC_Kitchen/OpticalFlow/P01_04/v\\frame_04515.jpg due to error: [Errno 2] No such file or directory: 'D:\\\\Datasets\\\\Datasets\\\\EPIC_Kitchen\\\\OpticalFlow\\\\P01_04\\\\v\\\\frame_04515.jpg'\n",
      "Skipping frame: D:/Datasets/Datasets/EPIC_Kitchen/OpticalFlow/P01_04/u\\frame_04520.jpg due to error: [Errno 2] No such file or directory: 'D:\\\\Datasets\\\\Datasets\\\\EPIC_Kitchen\\\\OpticalFlow\\\\P01_04\\\\u\\\\frame_04520.jpg'\n",
      "Skipping frame: D:/Datasets/Datasets/EPIC_Kitchen/OpticalFlow/P01_04/v\\frame_04520.jpg due to error: [Errno 2] No such file or directory: 'D:\\\\Datasets\\\\Datasets\\\\EPIC_Kitchen\\\\OpticalFlow\\\\P01_04\\\\v\\\\frame_04520.jpg'\n",
      "Skipping frame: D:/Datasets/Datasets/EPIC_Kitchen/OpticalFlow/P01_04/u\\frame_04525.jpg due to error: [Errno 2] No such file or directory: 'D:\\\\Datasets\\\\Datasets\\\\EPIC_Kitchen\\\\OpticalFlow\\\\P01_04\\\\u\\\\frame_04525.jpg'\n",
      "Skipping frame: D:/Datasets/Datasets/EPIC_Kitchen/OpticalFlow/P01_04/v\\frame_04525.jpg due to error: [Errno 2] No such file or directory: 'D:\\\\Datasets\\\\Datasets\\\\EPIC_Kitchen\\\\OpticalFlow\\\\P01_04\\\\v\\\\frame_04525.jpg'\n"
     ]
    },
    {
     "name": "stderr",
     "output_type": "stream",
     "text": [
      "\r",
      "Extracting Features with DEFT:  72%|██████████████████████████████████▌             | 909/1262 [01:05<00:17, 19.79it/s]"
     ]
    },
    {
     "name": "stdout",
     "output_type": "stream",
     "text": [
      "Skipping frame: D:/Datasets/Datasets/EPIC_Kitchen/OpticalFlow/P01_04/u\\frame_04530.jpg due to error: [Errno 2] No such file or directory: 'D:\\\\Datasets\\\\Datasets\\\\EPIC_Kitchen\\\\OpticalFlow\\\\P01_04\\\\u\\\\frame_04530.jpg'\n",
      "Skipping frame: D:/Datasets/Datasets/EPIC_Kitchen/OpticalFlow/P01_04/v\\frame_04530.jpg due to error: [Errno 2] No such file or directory: 'D:\\\\Datasets\\\\Datasets\\\\EPIC_Kitchen\\\\OpticalFlow\\\\P01_04\\\\v\\\\frame_04530.jpg'\n",
      "Skipping frame: D:/Datasets/Datasets/EPIC_Kitchen/OpticalFlow/P01_04/u\\frame_04535.jpg due to error: [Errno 2] No such file or directory: 'D:\\\\Datasets\\\\Datasets\\\\EPIC_Kitchen\\\\OpticalFlow\\\\P01_04\\\\u\\\\frame_04535.jpg'\n",
      "Skipping frame: D:/Datasets/Datasets/EPIC_Kitchen/OpticalFlow/P01_04/v\\frame_04535.jpg due to error: [Errno 2] No such file or directory: 'D:\\\\Datasets\\\\Datasets\\\\EPIC_Kitchen\\\\OpticalFlow\\\\P01_04\\\\v\\\\frame_04535.jpg'\n",
      "Skipping frame: D:/Datasets/Datasets/EPIC_Kitchen/OpticalFlow/P01_04/u\\frame_04540.jpg due to error: [Errno 2] No such file or directory: 'D:\\\\Datasets\\\\Datasets\\\\EPIC_Kitchen\\\\OpticalFlow\\\\P01_04\\\\u\\\\frame_04540.jpg'\n",
      "Skipping frame: D:/Datasets/Datasets/EPIC_Kitchen/OpticalFlow/P01_04/v\\frame_04540.jpg due to error: [Errno 2] No such file or directory: 'D:\\\\Datasets\\\\Datasets\\\\EPIC_Kitchen\\\\OpticalFlow\\\\P01_04\\\\v\\\\frame_04540.jpg'\n",
      "Skipping frame: D:/Datasets/Datasets/EPIC_Kitchen/OpticalFlow/P01_04/u\\frame_04545.jpg due to error: [Errno 2] No such file or directory: 'D:\\\\Datasets\\\\Datasets\\\\EPIC_Kitchen\\\\OpticalFlow\\\\P01_04\\\\u\\\\frame_04545.jpg'\n",
      "Skipping frame: D:/Datasets/Datasets/EPIC_Kitchen/OpticalFlow/P01_04/v\\frame_04545.jpg due to error: [Errno 2] No such file or directory: 'D:\\\\Datasets\\\\Datasets\\\\EPIC_Kitchen\\\\OpticalFlow\\\\P01_04\\\\v\\\\frame_04545.jpg'\n"
     ]
    },
    {
     "name": "stderr",
     "output_type": "stream",
     "text": [
      "Extracting Features with DEFT:  72%|██████████████████████████████████▊             | 914/1262 [01:05<00:17, 19.84it/s]"
     ]
    },
    {
     "name": "stdout",
     "output_type": "stream",
     "text": [
      "Skipping frame: D:/Datasets/Datasets/EPIC_Kitchen/OpticalFlow/P01_04/u\\frame_04550.jpg due to error: [Errno 2] No such file or directory: 'D:\\\\Datasets\\\\Datasets\\\\EPIC_Kitchen\\\\OpticalFlow\\\\P01_04\\\\u\\\\frame_04550.jpg'\n",
      "Skipping frame: D:/Datasets/Datasets/EPIC_Kitchen/OpticalFlow/P01_04/v\\frame_04550.jpg due to error: [Errno 2] No such file or directory: 'D:\\\\Datasets\\\\Datasets\\\\EPIC_Kitchen\\\\OpticalFlow\\\\P01_04\\\\v\\\\frame_04550.jpg'\n",
      "Skipping frame: D:/Datasets/Datasets/EPIC_Kitchen/OpticalFlow/P01_04/u\\frame_04555.jpg due to error: [Errno 2] No such file or directory: 'D:\\\\Datasets\\\\Datasets\\\\EPIC_Kitchen\\\\OpticalFlow\\\\P01_04\\\\u\\\\frame_04555.jpg'\n",
      "Skipping frame: D:/Datasets/Datasets/EPIC_Kitchen/OpticalFlow/P01_04/v\\frame_04555.jpg due to error: [Errno 2] No such file or directory: 'D:\\\\Datasets\\\\Datasets\\\\EPIC_Kitchen\\\\OpticalFlow\\\\P01_04\\\\v\\\\frame_04555.jpg'\n",
      "Skipping frame: D:/Datasets/Datasets/EPIC_Kitchen/OpticalFlow/P01_04/u\\frame_04560.jpg due to error: [Errno 2] No such file or directory: 'D:\\\\Datasets\\\\Datasets\\\\EPIC_Kitchen\\\\OpticalFlow\\\\P01_04\\\\u\\\\frame_04560.jpg'\n",
      "Skipping frame: D:/Datasets/Datasets/EPIC_Kitchen/OpticalFlow/P01_04/v\\frame_04560.jpg due to error: [Errno 2] No such file or directory: 'D:\\\\Datasets\\\\Datasets\\\\EPIC_Kitchen\\\\OpticalFlow\\\\P01_04\\\\v\\\\frame_04560.jpg'\n",
      "Skipping frame: D:/Datasets/Datasets/EPIC_Kitchen/OpticalFlow/P01_04/u\\frame_04565.jpg due to error: [Errno 2] No such file or directory: 'D:\\\\Datasets\\\\Datasets\\\\EPIC_Kitchen\\\\OpticalFlow\\\\P01_04\\\\u\\\\frame_04565.jpg'\n",
      "Skipping frame: D:/Datasets/Datasets/EPIC_Kitchen/OpticalFlow/P01_04/v\\frame_04565.jpg due to error: [Errno 2] No such file or directory: 'D:\\\\Datasets\\\\Datasets\\\\EPIC_Kitchen\\\\OpticalFlow\\\\P01_04\\\\v\\\\frame_04565.jpg'\n",
      "Skipping frame: D:/Datasets/Datasets/EPIC_Kitchen/OpticalFlow/P01_04/u\\frame_04570.jpg due to error: [Errno 2] No such file or directory: 'D:\\\\Datasets\\\\Datasets\\\\EPIC_Kitchen\\\\OpticalFlow\\\\P01_04\\\\u\\\\frame_04570.jpg'\n",
      "Skipping frame: D:/Datasets/Datasets/EPIC_Kitchen/OpticalFlow/P01_04/v\\frame_04570.jpg due to error: [Errno 2] No such file or directory: 'D:\\\\Datasets\\\\Datasets\\\\EPIC_Kitchen\\\\OpticalFlow\\\\P01_04\\\\v\\\\frame_04570.jpg'\n"
     ]
    },
    {
     "name": "stderr",
     "output_type": "stream",
     "text": [
      "Extracting Features with DEFT:  73%|██████████████████████████████████▉             | 919/1262 [01:06<00:16, 20.23it/s]"
     ]
    },
    {
     "name": "stdout",
     "output_type": "stream",
     "text": [
      "Skipping frame: D:/Datasets/Datasets/EPIC_Kitchen/OpticalFlow/P01_04/u\\frame_04575.jpg due to error: [Errno 2] No such file or directory: 'D:\\\\Datasets\\\\Datasets\\\\EPIC_Kitchen\\\\OpticalFlow\\\\P01_04\\\\u\\\\frame_04575.jpg'\n",
      "Skipping frame: D:/Datasets/Datasets/EPIC_Kitchen/OpticalFlow/P01_04/v\\frame_04575.jpg due to error: [Errno 2] No such file or directory: 'D:\\\\Datasets\\\\Datasets\\\\EPIC_Kitchen\\\\OpticalFlow\\\\P01_04\\\\v\\\\frame_04575.jpg'\n",
      "Skipping frame: D:/Datasets/Datasets/EPIC_Kitchen/OpticalFlow/P01_04/u\\frame_04580.jpg due to error: [Errno 2] No such file or directory: 'D:\\\\Datasets\\\\Datasets\\\\EPIC_Kitchen\\\\OpticalFlow\\\\P01_04\\\\u\\\\frame_04580.jpg'\n",
      "Skipping frame: D:/Datasets/Datasets/EPIC_Kitchen/OpticalFlow/P01_04/v\\frame_04580.jpg due to error: [Errno 2] No such file or directory: 'D:\\\\Datasets\\\\Datasets\\\\EPIC_Kitchen\\\\OpticalFlow\\\\P01_04\\\\v\\\\frame_04580.jpg'\n",
      "Skipping frame: D:/Datasets/Datasets/EPIC_Kitchen/OpticalFlow/P01_04/u\\frame_04585.jpg due to error: [Errno 2] No such file or directory: 'D:\\\\Datasets\\\\Datasets\\\\EPIC_Kitchen\\\\OpticalFlow\\\\P01_04\\\\u\\\\frame_04585.jpg'\n",
      "Skipping frame: D:/Datasets/Datasets/EPIC_Kitchen/OpticalFlow/P01_04/v\\frame_04585.jpg due to error: [Errno 2] No such file or directory: 'D:\\\\Datasets\\\\Datasets\\\\EPIC_Kitchen\\\\OpticalFlow\\\\P01_04\\\\v\\\\frame_04585.jpg'\n",
      "Skipping frame: D:/Datasets/Datasets/EPIC_Kitchen/OpticalFlow/P01_04/u\\frame_04590.jpg due to error: [Errno 2] No such file or directory: 'D:\\\\Datasets\\\\Datasets\\\\EPIC_Kitchen\\\\OpticalFlow\\\\P01_04\\\\u\\\\frame_04590.jpg'\n",
      "Skipping frame: D:/Datasets/Datasets/EPIC_Kitchen/OpticalFlow/P01_04/v\\frame_04590.jpg due to error: [Errno 2] No such file or directory: 'D:\\\\Datasets\\\\Datasets\\\\EPIC_Kitchen\\\\OpticalFlow\\\\P01_04\\\\v\\\\frame_04590.jpg'\n",
      "Skipping frame: D:/Datasets/Datasets/EPIC_Kitchen/OpticalFlow/P01_04/u\\frame_04595.jpg due to error: [Errno 2] No such file or directory: 'D:\\\\Datasets\\\\Datasets\\\\EPIC_Kitchen\\\\OpticalFlow\\\\P01_04\\\\u\\\\frame_04595.jpg'\n",
      "Skipping frame: D:/Datasets/Datasets/EPIC_Kitchen/OpticalFlow/P01_04/v\\frame_04595.jpg due to error: [Errno 2] No such file or directory: 'D:\\\\Datasets\\\\Datasets\\\\EPIC_Kitchen\\\\OpticalFlow\\\\P01_04\\\\v\\\\frame_04595.jpg'\n"
     ]
    },
    {
     "name": "stderr",
     "output_type": "stream",
     "text": [
      "Extracting Features with DEFT:  73%|███████████████████████████████████▏            | 925/1262 [01:06<00:16, 20.48it/s]"
     ]
    },
    {
     "name": "stdout",
     "output_type": "stream",
     "text": [
      "Skipping frame: D:/Datasets/Datasets/EPIC_Kitchen/OpticalFlow/P01_04/u\\frame_04600.jpg due to error: [Errno 2] No such file or directory: 'D:\\\\Datasets\\\\Datasets\\\\EPIC_Kitchen\\\\OpticalFlow\\\\P01_04\\\\u\\\\frame_04600.jpg'\n",
      "Skipping frame: D:/Datasets/Datasets/EPIC_Kitchen/OpticalFlow/P01_04/v\\frame_04600.jpg due to error: [Errno 2] No such file or directory: 'D:\\\\Datasets\\\\Datasets\\\\EPIC_Kitchen\\\\OpticalFlow\\\\P01_04\\\\v\\\\frame_04600.jpg'\n",
      "Skipping frame: D:/Datasets/Datasets/EPIC_Kitchen/OpticalFlow/P01_04/u\\frame_04605.jpg due to error: [Errno 2] No such file or directory: 'D:\\\\Datasets\\\\Datasets\\\\EPIC_Kitchen\\\\OpticalFlow\\\\P01_04\\\\u\\\\frame_04605.jpg'\n",
      "Skipping frame: D:/Datasets/Datasets/EPIC_Kitchen/OpticalFlow/P01_04/v\\frame_04605.jpg due to error: [Errno 2] No such file or directory: 'D:\\\\Datasets\\\\Datasets\\\\EPIC_Kitchen\\\\OpticalFlow\\\\P01_04\\\\v\\\\frame_04605.jpg'\n",
      "Skipping frame: D:/Datasets/Datasets/EPIC_Kitchen/OpticalFlow/P01_04/u\\frame_04610.jpg due to error: [Errno 2] No such file or directory: 'D:\\\\Datasets\\\\Datasets\\\\EPIC_Kitchen\\\\OpticalFlow\\\\P01_04\\\\u\\\\frame_04610.jpg'\n",
      "Skipping frame: D:/Datasets/Datasets/EPIC_Kitchen/OpticalFlow/P01_04/v\\frame_04610.jpg due to error: [Errno 2] No such file or directory: 'D:\\\\Datasets\\\\Datasets\\\\EPIC_Kitchen\\\\OpticalFlow\\\\P01_04\\\\v\\\\frame_04610.jpg'\n",
      "Skipping frame: D:/Datasets/Datasets/EPIC_Kitchen/OpticalFlow/P01_04/u\\frame_04615.jpg due to error: [Errno 2] No such file or directory: 'D:\\\\Datasets\\\\Datasets\\\\EPIC_Kitchen\\\\OpticalFlow\\\\P01_04\\\\u\\\\frame_04615.jpg'\n",
      "Skipping frame: D:/Datasets/Datasets/EPIC_Kitchen/OpticalFlow/P01_04/v\\frame_04615.jpg due to error: [Errno 2] No such file or directory: 'D:\\\\Datasets\\\\Datasets\\\\EPIC_Kitchen\\\\OpticalFlow\\\\P01_04\\\\v\\\\frame_04615.jpg'\n",
      "Skipping frame: D:/Datasets/Datasets/EPIC_Kitchen/OpticalFlow/P01_04/u\\frame_04620.jpg due to error: [Errno 2] No such file or directory: 'D:\\\\Datasets\\\\Datasets\\\\EPIC_Kitchen\\\\OpticalFlow\\\\P01_04\\\\u\\\\frame_04620.jpg'\n",
      "Skipping frame: D:/Datasets/Datasets/EPIC_Kitchen/OpticalFlow/P01_04/v\\frame_04620.jpg due to error: [Errno 2] No such file or directory: 'D:\\\\Datasets\\\\Datasets\\\\EPIC_Kitchen\\\\OpticalFlow\\\\P01_04\\\\v\\\\frame_04620.jpg'\n"
     ]
    },
    {
     "name": "stderr",
     "output_type": "stream",
     "text": [
      "\r",
      "Extracting Features with DEFT:  74%|███████████████████████████████████▎            | 928/1262 [01:06<00:16, 20.46it/s]"
     ]
    },
    {
     "name": "stdout",
     "output_type": "stream",
     "text": [
      "Skipping frame: D:/Datasets/Datasets/EPIC_Kitchen/OpticalFlow/P01_04/u\\frame_04625.jpg due to error: [Errno 2] No such file or directory: 'D:\\\\Datasets\\\\Datasets\\\\EPIC_Kitchen\\\\OpticalFlow\\\\P01_04\\\\u\\\\frame_04625.jpg'\n",
      "Skipping frame: D:/Datasets/Datasets/EPIC_Kitchen/OpticalFlow/P01_04/v\\frame_04625.jpg due to error: [Errno 2] No such file or directory: 'D:\\\\Datasets\\\\Datasets\\\\EPIC_Kitchen\\\\OpticalFlow\\\\P01_04\\\\v\\\\frame_04625.jpg'\n",
      "Skipping frame: D:/Datasets/Datasets/EPIC_Kitchen/OpticalFlow/P01_04/u\\frame_04630.jpg due to error: [Errno 2] No such file or directory: 'D:\\\\Datasets\\\\Datasets\\\\EPIC_Kitchen\\\\OpticalFlow\\\\P01_04\\\\u\\\\frame_04630.jpg'\n",
      "Skipping frame: D:/Datasets/Datasets/EPIC_Kitchen/OpticalFlow/P01_04/v\\frame_04630.jpg due to error: [Errno 2] No such file or directory: 'D:\\\\Datasets\\\\Datasets\\\\EPIC_Kitchen\\\\OpticalFlow\\\\P01_04\\\\v\\\\frame_04630.jpg'\n",
      "Skipping frame: D:/Datasets/Datasets/EPIC_Kitchen/OpticalFlow/P01_04/u\\frame_04635.jpg due to error: [Errno 2] No such file or directory: 'D:\\\\Datasets\\\\Datasets\\\\EPIC_Kitchen\\\\OpticalFlow\\\\P01_04\\\\u\\\\frame_04635.jpg'\n",
      "Skipping frame: D:/Datasets/Datasets/EPIC_Kitchen/OpticalFlow/P01_04/v\\frame_04635.jpg due to error: [Errno 2] No such file or directory: 'D:\\\\Datasets\\\\Datasets\\\\EPIC_Kitchen\\\\OpticalFlow\\\\P01_04\\\\v\\\\frame_04635.jpg'\n",
      "Skipping frame: D:/Datasets/Datasets/EPIC_Kitchen/OpticalFlow/P01_04/u\\frame_04640.jpg due to error: [Errno 2] No such file or directory: 'D:\\\\Datasets\\\\Datasets\\\\EPIC_Kitchen\\\\OpticalFlow\\\\P01_04\\\\u\\\\frame_04640.jpg'\n",
      "Skipping frame: D:/Datasets/Datasets/EPIC_Kitchen/OpticalFlow/P01_04/v\\frame_04640.jpg due to error: [Errno 2] No such file or directory: 'D:\\\\Datasets\\\\Datasets\\\\EPIC_Kitchen\\\\OpticalFlow\\\\P01_04\\\\v\\\\frame_04640.jpg'\n",
      "Skipping frame: D:/Datasets/Datasets/EPIC_Kitchen/OpticalFlow/P01_04/u\\frame_04645.jpg due to error: [Errno 2] No such file or directory: 'D:\\\\Datasets\\\\Datasets\\\\EPIC_Kitchen\\\\OpticalFlow\\\\P01_04\\\\u\\\\frame_04645.jpg'\n",
      "Skipping frame: D:/Datasets/Datasets/EPIC_Kitchen/OpticalFlow/P01_04/v\\frame_04645.jpg due to error: [Errno 2] No such file or directory: 'D:\\\\Datasets\\\\Datasets\\\\EPIC_Kitchen\\\\OpticalFlow\\\\P01_04\\\\v\\\\frame_04645.jpg'\n"
     ]
    },
    {
     "name": "stderr",
     "output_type": "stream",
     "text": [
      "Extracting Features with DEFT:  74%|███████████████████████████████████▌            | 934/1262 [01:06<00:15, 20.56it/s]"
     ]
    },
    {
     "name": "stdout",
     "output_type": "stream",
     "text": [
      "Skipping frame: D:/Datasets/Datasets/EPIC_Kitchen/OpticalFlow/P01_04/u\\frame_04650.jpg due to error: [Errno 2] No such file or directory: 'D:\\\\Datasets\\\\Datasets\\\\EPIC_Kitchen\\\\OpticalFlow\\\\P01_04\\\\u\\\\frame_04650.jpg'\n",
      "Skipping frame: D:/Datasets/Datasets/EPIC_Kitchen/OpticalFlow/P01_04/v\\frame_04650.jpg due to error: [Errno 2] No such file or directory: 'D:\\\\Datasets\\\\Datasets\\\\EPIC_Kitchen\\\\OpticalFlow\\\\P01_04\\\\v\\\\frame_04650.jpg'\n",
      "Skipping frame: D:/Datasets/Datasets/EPIC_Kitchen/OpticalFlow/P01_04/u\\frame_04655.jpg due to error: [Errno 2] No such file or directory: 'D:\\\\Datasets\\\\Datasets\\\\EPIC_Kitchen\\\\OpticalFlow\\\\P01_04\\\\u\\\\frame_04655.jpg'\n",
      "Skipping frame: D:/Datasets/Datasets/EPIC_Kitchen/OpticalFlow/P01_04/v\\frame_04655.jpg due to error: [Errno 2] No such file or directory: 'D:\\\\Datasets\\\\Datasets\\\\EPIC_Kitchen\\\\OpticalFlow\\\\P01_04\\\\v\\\\frame_04655.jpg'\n",
      "Skipping frame: D:/Datasets/Datasets/EPIC_Kitchen/OpticalFlow/P01_04/u\\frame_04660.jpg due to error: [Errno 2] No such file or directory: 'D:\\\\Datasets\\\\Datasets\\\\EPIC_Kitchen\\\\OpticalFlow\\\\P01_04\\\\u\\\\frame_04660.jpg'\n",
      "Skipping frame: D:/Datasets/Datasets/EPIC_Kitchen/OpticalFlow/P01_04/v\\frame_04660.jpg due to error: [Errno 2] No such file or directory: 'D:\\\\Datasets\\\\Datasets\\\\EPIC_Kitchen\\\\OpticalFlow\\\\P01_04\\\\v\\\\frame_04660.jpg'\n",
      "Skipping frame: D:/Datasets/Datasets/EPIC_Kitchen/OpticalFlow/P01_04/u\\frame_04665.jpg due to error: [Errno 2] No such file or directory: 'D:\\\\Datasets\\\\Datasets\\\\EPIC_Kitchen\\\\OpticalFlow\\\\P01_04\\\\u\\\\frame_04665.jpg'\n",
      "Skipping frame: D:/Datasets/Datasets/EPIC_Kitchen/OpticalFlow/P01_04/v\\frame_04665.jpg due to error: [Errno 2] No such file or directory: 'D:\\\\Datasets\\\\Datasets\\\\EPIC_Kitchen\\\\OpticalFlow\\\\P01_04\\\\v\\\\frame_04665.jpg'\n",
      "Skipping frame: D:/Datasets/Datasets/EPIC_Kitchen/OpticalFlow/P01_04/u\\frame_04670.jpg due to error: [Errno 2] No such file or directory: 'D:\\\\Datasets\\\\Datasets\\\\EPIC_Kitchen\\\\OpticalFlow\\\\P01_04\\\\u\\\\frame_04670.jpg'\n",
      "Skipping frame: D:/Datasets/Datasets/EPIC_Kitchen/OpticalFlow/P01_04/v\\frame_04670.jpg due to error: [Errno 2] No such file or directory: 'D:\\\\Datasets\\\\Datasets\\\\EPIC_Kitchen\\\\OpticalFlow\\\\P01_04\\\\v\\\\frame_04670.jpg'\n"
     ]
    },
    {
     "name": "stderr",
     "output_type": "stream",
     "text": [
      "Extracting Features with DEFT:  74%|███████████████████████████████████▊            | 940/1262 [01:07<00:15, 21.46it/s]"
     ]
    },
    {
     "name": "stdout",
     "output_type": "stream",
     "text": [
      "Skipping frame: D:/Datasets/Datasets/EPIC_Kitchen/OpticalFlow/P01_04/u\\frame_04675.jpg due to error: [Errno 2] No such file or directory: 'D:\\\\Datasets\\\\Datasets\\\\EPIC_Kitchen\\\\OpticalFlow\\\\P01_04\\\\u\\\\frame_04675.jpg'\n",
      "Skipping frame: D:/Datasets/Datasets/EPIC_Kitchen/OpticalFlow/P01_04/v\\frame_04675.jpg due to error: [Errno 2] No such file or directory: 'D:\\\\Datasets\\\\Datasets\\\\EPIC_Kitchen\\\\OpticalFlow\\\\P01_04\\\\v\\\\frame_04675.jpg'\n",
      "Skipping frame: D:/Datasets/Datasets/EPIC_Kitchen/OpticalFlow/P01_04/u\\frame_04680.jpg due to error: [Errno 2] No such file or directory: 'D:\\\\Datasets\\\\Datasets\\\\EPIC_Kitchen\\\\OpticalFlow\\\\P01_04\\\\u\\\\frame_04680.jpg'\n",
      "Skipping frame: D:/Datasets/Datasets/EPIC_Kitchen/OpticalFlow/P01_04/v\\frame_04680.jpg due to error: [Errno 2] No such file or directory: 'D:\\\\Datasets\\\\Datasets\\\\EPIC_Kitchen\\\\OpticalFlow\\\\P01_04\\\\v\\\\frame_04680.jpg'\n",
      "Skipping frame: D:/Datasets/Datasets/EPIC_Kitchen/OpticalFlow/P01_04/u\\frame_04685.jpg due to error: [Errno 2] No such file or directory: 'D:\\\\Datasets\\\\Datasets\\\\EPIC_Kitchen\\\\OpticalFlow\\\\P01_04\\\\u\\\\frame_04685.jpg'\n",
      "Skipping frame: D:/Datasets/Datasets/EPIC_Kitchen/OpticalFlow/P01_04/v\\frame_04685.jpg due to error: [Errno 2] No such file or directory: 'D:\\\\Datasets\\\\Datasets\\\\EPIC_Kitchen\\\\OpticalFlow\\\\P01_04\\\\v\\\\frame_04685.jpg'\n",
      "Skipping frame: D:/Datasets/Datasets/EPIC_Kitchen/OpticalFlow/P01_04/u\\frame_04690.jpg due to error: [Errno 2] No such file or directory: 'D:\\\\Datasets\\\\Datasets\\\\EPIC_Kitchen\\\\OpticalFlow\\\\P01_04\\\\u\\\\frame_04690.jpg'\n",
      "Skipping frame: D:/Datasets/Datasets/EPIC_Kitchen/OpticalFlow/P01_04/v\\frame_04690.jpg due to error: [Errno 2] No such file or directory: 'D:\\\\Datasets\\\\Datasets\\\\EPIC_Kitchen\\\\OpticalFlow\\\\P01_04\\\\v\\\\frame_04690.jpg'\n",
      "Skipping frame: D:/Datasets/Datasets/EPIC_Kitchen/OpticalFlow/P01_04/u\\frame_04695.jpg due to error: [Errno 2] No such file or directory: 'D:\\\\Datasets\\\\Datasets\\\\EPIC_Kitchen\\\\OpticalFlow\\\\P01_04\\\\u\\\\frame_04695.jpg'\n",
      "Skipping frame: D:/Datasets/Datasets/EPIC_Kitchen/OpticalFlow/P01_04/v\\frame_04695.jpg due to error: [Errno 2] No such file or directory: 'D:\\\\Datasets\\\\Datasets\\\\EPIC_Kitchen\\\\OpticalFlow\\\\P01_04\\\\v\\\\frame_04695.jpg'\n"
     ]
    },
    {
     "name": "stderr",
     "output_type": "stream",
     "text": [
      "\r",
      "Extracting Features with DEFT:  75%|███████████████████████████████████▊            | 943/1262 [01:07<00:15, 21.19it/s]"
     ]
    },
    {
     "name": "stdout",
     "output_type": "stream",
     "text": [
      "Skipping frame: D:/Datasets/Datasets/EPIC_Kitchen/OpticalFlow/P01_04/u\\frame_04700.jpg due to error: [Errno 2] No such file or directory: 'D:\\\\Datasets\\\\Datasets\\\\EPIC_Kitchen\\\\OpticalFlow\\\\P01_04\\\\u\\\\frame_04700.jpg'\n",
      "Skipping frame: D:/Datasets/Datasets/EPIC_Kitchen/OpticalFlow/P01_04/v\\frame_04700.jpg due to error: [Errno 2] No such file or directory: 'D:\\\\Datasets\\\\Datasets\\\\EPIC_Kitchen\\\\OpticalFlow\\\\P01_04\\\\v\\\\frame_04700.jpg'\n",
      "Skipping frame: D:/Datasets/Datasets/EPIC_Kitchen/OpticalFlow/P01_04/u\\frame_04705.jpg due to error: [Errno 2] No such file or directory: 'D:\\\\Datasets\\\\Datasets\\\\EPIC_Kitchen\\\\OpticalFlow\\\\P01_04\\\\u\\\\frame_04705.jpg'\n",
      "Skipping frame: D:/Datasets/Datasets/EPIC_Kitchen/OpticalFlow/P01_04/v\\frame_04705.jpg due to error: [Errno 2] No such file or directory: 'D:\\\\Datasets\\\\Datasets\\\\EPIC_Kitchen\\\\OpticalFlow\\\\P01_04\\\\v\\\\frame_04705.jpg'\n",
      "Skipping frame: D:/Datasets/Datasets/EPIC_Kitchen/OpticalFlow/P01_04/u\\frame_04710.jpg due to error: [Errno 2] No such file or directory: 'D:\\\\Datasets\\\\Datasets\\\\EPIC_Kitchen\\\\OpticalFlow\\\\P01_04\\\\u\\\\frame_04710.jpg'\n",
      "Skipping frame: D:/Datasets/Datasets/EPIC_Kitchen/OpticalFlow/P01_04/v\\frame_04710.jpg due to error: [Errno 2] No such file or directory: 'D:\\\\Datasets\\\\Datasets\\\\EPIC_Kitchen\\\\OpticalFlow\\\\P01_04\\\\v\\\\frame_04710.jpg'\n",
      "Skipping frame: D:/Datasets/Datasets/EPIC_Kitchen/OpticalFlow/P01_04/u\\frame_04715.jpg due to error: [Errno 2] No such file or directory: 'D:\\\\Datasets\\\\Datasets\\\\EPIC_Kitchen\\\\OpticalFlow\\\\P01_04\\\\u\\\\frame_04715.jpg'\n",
      "Skipping frame: D:/Datasets/Datasets/EPIC_Kitchen/OpticalFlow/P01_04/v\\frame_04715.jpg due to error: [Errno 2] No such file or directory: 'D:\\\\Datasets\\\\Datasets\\\\EPIC_Kitchen\\\\OpticalFlow\\\\P01_04\\\\v\\\\frame_04715.jpg'\n",
      "Skipping frame: D:/Datasets/Datasets/EPIC_Kitchen/OpticalFlow/P01_04/u\\frame_04720.jpg due to error: [Errno 2] No such file or directory: 'D:\\\\Datasets\\\\Datasets\\\\EPIC_Kitchen\\\\OpticalFlow\\\\P01_04\\\\u\\\\frame_04720.jpg'\n",
      "Skipping frame: D:/Datasets/Datasets/EPIC_Kitchen/OpticalFlow/P01_04/v\\frame_04720.jpg due to error: [Errno 2] No such file or directory: 'D:\\\\Datasets\\\\Datasets\\\\EPIC_Kitchen\\\\OpticalFlow\\\\P01_04\\\\v\\\\frame_04720.jpg'\n"
     ]
    },
    {
     "name": "stderr",
     "output_type": "stream",
     "text": [
      "Extracting Features with DEFT:  75%|████████████████████████████████████            | 949/1262 [01:07<00:15, 20.62it/s]"
     ]
    },
    {
     "name": "stdout",
     "output_type": "stream",
     "text": [
      "Skipping frame: D:/Datasets/Datasets/EPIC_Kitchen/OpticalFlow/P01_04/u\\frame_04725.jpg due to error: [Errno 2] No such file or directory: 'D:\\\\Datasets\\\\Datasets\\\\EPIC_Kitchen\\\\OpticalFlow\\\\P01_04\\\\u\\\\frame_04725.jpg'\n",
      "Skipping frame: D:/Datasets/Datasets/EPIC_Kitchen/OpticalFlow/P01_04/v\\frame_04725.jpg due to error: [Errno 2] No such file or directory: 'D:\\\\Datasets\\\\Datasets\\\\EPIC_Kitchen\\\\OpticalFlow\\\\P01_04\\\\v\\\\frame_04725.jpg'\n",
      "Skipping frame: D:/Datasets/Datasets/EPIC_Kitchen/OpticalFlow/P01_04/u\\frame_04730.jpg due to error: [Errno 2] No such file or directory: 'D:\\\\Datasets\\\\Datasets\\\\EPIC_Kitchen\\\\OpticalFlow\\\\P01_04\\\\u\\\\frame_04730.jpg'\n",
      "Skipping frame: D:/Datasets/Datasets/EPIC_Kitchen/OpticalFlow/P01_04/v\\frame_04730.jpg due to error: [Errno 2] No such file or directory: 'D:\\\\Datasets\\\\Datasets\\\\EPIC_Kitchen\\\\OpticalFlow\\\\P01_04\\\\v\\\\frame_04730.jpg'\n",
      "Skipping frame: D:/Datasets/Datasets/EPIC_Kitchen/OpticalFlow/P01_04/u\\frame_04735.jpg due to error: [Errno 2] No such file or directory: 'D:\\\\Datasets\\\\Datasets\\\\EPIC_Kitchen\\\\OpticalFlow\\\\P01_04\\\\u\\\\frame_04735.jpg'\n",
      "Skipping frame: D:/Datasets/Datasets/EPIC_Kitchen/OpticalFlow/P01_04/v\\frame_04735.jpg due to error: [Errno 2] No such file or directory: 'D:\\\\Datasets\\\\Datasets\\\\EPIC_Kitchen\\\\OpticalFlow\\\\P01_04\\\\v\\\\frame_04735.jpg'\n",
      "Skipping frame: D:/Datasets/Datasets/EPIC_Kitchen/OpticalFlow/P01_04/u\\frame_04740.jpg due to error: [Errno 2] No such file or directory: 'D:\\\\Datasets\\\\Datasets\\\\EPIC_Kitchen\\\\OpticalFlow\\\\P01_04\\\\u\\\\frame_04740.jpg'\n",
      "Skipping frame: D:/Datasets/Datasets/EPIC_Kitchen/OpticalFlow/P01_04/v\\frame_04740.jpg due to error: [Errno 2] No such file or directory: 'D:\\\\Datasets\\\\Datasets\\\\EPIC_Kitchen\\\\OpticalFlow\\\\P01_04\\\\v\\\\frame_04740.jpg'\n"
     ]
    },
    {
     "name": "stderr",
     "output_type": "stream",
     "text": [
      "\r",
      "Extracting Features with DEFT:  75%|████████████████████████████████████▏           | 952/1262 [01:07<00:15, 19.85it/s]"
     ]
    },
    {
     "name": "stdout",
     "output_type": "stream",
     "text": [
      "Skipping frame: D:/Datasets/Datasets/EPIC_Kitchen/OpticalFlow/P01_04/u\\frame_04745.jpg due to error: [Errno 2] No such file or directory: 'D:\\\\Datasets\\\\Datasets\\\\EPIC_Kitchen\\\\OpticalFlow\\\\P01_04\\\\u\\\\frame_04745.jpg'\n",
      "Skipping frame: D:/Datasets/Datasets/EPIC_Kitchen/OpticalFlow/P01_04/v\\frame_04745.jpg due to error: [Errno 2] No such file or directory: 'D:\\\\Datasets\\\\Datasets\\\\EPIC_Kitchen\\\\OpticalFlow\\\\P01_04\\\\v\\\\frame_04745.jpg'\n",
      "Skipping frame: D:/Datasets/Datasets/EPIC_Kitchen/OpticalFlow/P01_04/u\\frame_04750.jpg due to error: [Errno 2] No such file or directory: 'D:\\\\Datasets\\\\Datasets\\\\EPIC_Kitchen\\\\OpticalFlow\\\\P01_04\\\\u\\\\frame_04750.jpg'\n",
      "Skipping frame: D:/Datasets/Datasets/EPIC_Kitchen/OpticalFlow/P01_04/v\\frame_04750.jpg due to error: [Errno 2] No such file or directory: 'D:\\\\Datasets\\\\Datasets\\\\EPIC_Kitchen\\\\OpticalFlow\\\\P01_04\\\\v\\\\frame_04750.jpg'\n",
      "Skipping frame: D:/Datasets/Datasets/EPIC_Kitchen/OpticalFlow/P01_04/u\\frame_04755.jpg due to error: [Errno 2] No such file or directory: 'D:\\\\Datasets\\\\Datasets\\\\EPIC_Kitchen\\\\OpticalFlow\\\\P01_04\\\\u\\\\frame_04755.jpg'\n",
      "Skipping frame: D:/Datasets/Datasets/EPIC_Kitchen/OpticalFlow/P01_04/v\\frame_04755.jpg due to error: [Errno 2] No such file or directory: 'D:\\\\Datasets\\\\Datasets\\\\EPIC_Kitchen\\\\OpticalFlow\\\\P01_04\\\\v\\\\frame_04755.jpg'\n",
      "Skipping frame: D:/Datasets/Datasets/EPIC_Kitchen/OpticalFlow/P01_04/u\\frame_04760.jpg due to error: [Errno 2] No such file or directory: 'D:\\\\Datasets\\\\Datasets\\\\EPIC_Kitchen\\\\OpticalFlow\\\\P01_04\\\\u\\\\frame_04760.jpg'\n",
      "Skipping frame: D:/Datasets/Datasets/EPIC_Kitchen/OpticalFlow/P01_04/v\\frame_04760.jpg due to error: [Errno 2] No such file or directory: 'D:\\\\Datasets\\\\Datasets\\\\EPIC_Kitchen\\\\OpticalFlow\\\\P01_04\\\\v\\\\frame_04760.jpg'\n",
      "Skipping frame: D:/Datasets/Datasets/EPIC_Kitchen/OpticalFlow/P01_04/u\\frame_04765.jpg due to error: [Errno 2] No such file or directory: 'D:\\\\Datasets\\\\Datasets\\\\EPIC_Kitchen\\\\OpticalFlow\\\\P01_04\\\\u\\\\frame_04765.jpg'\n",
      "Skipping frame: D:/Datasets/Datasets/EPIC_Kitchen/OpticalFlow/P01_04/v\\frame_04765.jpg due to error: [Errno 2] No such file or directory: 'D:\\\\Datasets\\\\Datasets\\\\EPIC_Kitchen\\\\OpticalFlow\\\\P01_04\\\\v\\\\frame_04765.jpg'\n"
     ]
    },
    {
     "name": "stderr",
     "output_type": "stream",
     "text": [
      "Extracting Features with DEFT:  76%|████████████████████████████████████▍           | 958/1262 [01:07<00:15, 20.15it/s]"
     ]
    },
    {
     "name": "stdout",
     "output_type": "stream",
     "text": [
      "Skipping frame: D:/Datasets/Datasets/EPIC_Kitchen/OpticalFlow/P01_04/u\\frame_04770.jpg due to error: [Errno 2] No such file or directory: 'D:\\\\Datasets\\\\Datasets\\\\EPIC_Kitchen\\\\OpticalFlow\\\\P01_04\\\\u\\\\frame_04770.jpg'\n",
      "Skipping frame: D:/Datasets/Datasets/EPIC_Kitchen/OpticalFlow/P01_04/v\\frame_04770.jpg due to error: [Errno 2] No such file or directory: 'D:\\\\Datasets\\\\Datasets\\\\EPIC_Kitchen\\\\OpticalFlow\\\\P01_04\\\\v\\\\frame_04770.jpg'\n",
      "Skipping frame: D:/Datasets/Datasets/EPIC_Kitchen/OpticalFlow/P01_04/u\\frame_04775.jpg due to error: [Errno 2] No such file or directory: 'D:\\\\Datasets\\\\Datasets\\\\EPIC_Kitchen\\\\OpticalFlow\\\\P01_04\\\\u\\\\frame_04775.jpg'\n",
      "Skipping frame: D:/Datasets/Datasets/EPIC_Kitchen/OpticalFlow/P01_04/v\\frame_04775.jpg due to error: [Errno 2] No such file or directory: 'D:\\\\Datasets\\\\Datasets\\\\EPIC_Kitchen\\\\OpticalFlow\\\\P01_04\\\\v\\\\frame_04775.jpg'\n",
      "Skipping frame: D:/Datasets/Datasets/EPIC_Kitchen/OpticalFlow/P01_04/u\\frame_04780.jpg due to error: [Errno 2] No such file or directory: 'D:\\\\Datasets\\\\Datasets\\\\EPIC_Kitchen\\\\OpticalFlow\\\\P01_04\\\\u\\\\frame_04780.jpg'\n",
      "Skipping frame: D:/Datasets/Datasets/EPIC_Kitchen/OpticalFlow/P01_04/v\\frame_04780.jpg due to error: [Errno 2] No such file or directory: 'D:\\\\Datasets\\\\Datasets\\\\EPIC_Kitchen\\\\OpticalFlow\\\\P01_04\\\\v\\\\frame_04780.jpg'\n",
      "Skipping frame: D:/Datasets/Datasets/EPIC_Kitchen/OpticalFlow/P01_04/u\\frame_04785.jpg due to error: [Errno 2] No such file or directory: 'D:\\\\Datasets\\\\Datasets\\\\EPIC_Kitchen\\\\OpticalFlow\\\\P01_04\\\\u\\\\frame_04785.jpg'\n",
      "Skipping frame: D:/Datasets/Datasets/EPIC_Kitchen/OpticalFlow/P01_04/v\\frame_04785.jpg due to error: [Errno 2] No such file or directory: 'D:\\\\Datasets\\\\Datasets\\\\EPIC_Kitchen\\\\OpticalFlow\\\\P01_04\\\\v\\\\frame_04785.jpg'\n"
     ]
    },
    {
     "name": "stderr",
     "output_type": "stream",
     "text": [
      "\r",
      "Extracting Features with DEFT:  76%|████████████████████████████████████▌           | 961/1262 [01:08<00:14, 20.53it/s]"
     ]
    },
    {
     "name": "stdout",
     "output_type": "stream",
     "text": [
      "Skipping frame: D:/Datasets/Datasets/EPIC_Kitchen/OpticalFlow/P01_04/u\\frame_04790.jpg due to error: [Errno 2] No such file or directory: 'D:\\\\Datasets\\\\Datasets\\\\EPIC_Kitchen\\\\OpticalFlow\\\\P01_04\\\\u\\\\frame_04790.jpg'\n",
      "Skipping frame: D:/Datasets/Datasets/EPIC_Kitchen/OpticalFlow/P01_04/v\\frame_04790.jpg due to error: [Errno 2] No such file or directory: 'D:\\\\Datasets\\\\Datasets\\\\EPIC_Kitchen\\\\OpticalFlow\\\\P01_04\\\\v\\\\frame_04790.jpg'\n",
      "Skipping frame: D:/Datasets/Datasets/EPIC_Kitchen/OpticalFlow/P01_04/u\\frame_04795.jpg due to error: [Errno 2] No such file or directory: 'D:\\\\Datasets\\\\Datasets\\\\EPIC_Kitchen\\\\OpticalFlow\\\\P01_04\\\\u\\\\frame_04795.jpg'\n",
      "Skipping frame: D:/Datasets/Datasets/EPIC_Kitchen/OpticalFlow/P01_04/v\\frame_04795.jpg due to error: [Errno 2] No such file or directory: 'D:\\\\Datasets\\\\Datasets\\\\EPIC_Kitchen\\\\OpticalFlow\\\\P01_04\\\\v\\\\frame_04795.jpg'\n",
      "Skipping frame: D:/Datasets/Datasets/EPIC_Kitchen/OpticalFlow/P01_04/u\\frame_04800.jpg due to error: [Errno 2] No such file or directory: 'D:\\\\Datasets\\\\Datasets\\\\EPIC_Kitchen\\\\OpticalFlow\\\\P01_04\\\\u\\\\frame_04800.jpg'\n",
      "Skipping frame: D:/Datasets/Datasets/EPIC_Kitchen/OpticalFlow/P01_04/v\\frame_04800.jpg due to error: [Errno 2] No such file or directory: 'D:\\\\Datasets\\\\Datasets\\\\EPIC_Kitchen\\\\OpticalFlow\\\\P01_04\\\\v\\\\frame_04800.jpg'\n",
      "Skipping frame: D:/Datasets/Datasets/EPIC_Kitchen/OpticalFlow/P01_04/u\\frame_04805.jpg due to error: [Errno 2] No such file or directory: 'D:\\\\Datasets\\\\Datasets\\\\EPIC_Kitchen\\\\OpticalFlow\\\\P01_04\\\\u\\\\frame_04805.jpg'\n",
      "Skipping frame: D:/Datasets/Datasets/EPIC_Kitchen/OpticalFlow/P01_04/v\\frame_04805.jpg due to error: [Errno 2] No such file or directory: 'D:\\\\Datasets\\\\Datasets\\\\EPIC_Kitchen\\\\OpticalFlow\\\\P01_04\\\\v\\\\frame_04805.jpg'\n",
      "Skipping frame: D:/Datasets/Datasets/EPIC_Kitchen/OpticalFlow/P01_04/u\\frame_04810.jpg due to error: [Errno 2] No such file or directory: 'D:\\\\Datasets\\\\Datasets\\\\EPIC_Kitchen\\\\OpticalFlow\\\\P01_04\\\\u\\\\frame_04810.jpg'\n",
      "Skipping frame: D:/Datasets/Datasets/EPIC_Kitchen/OpticalFlow/P01_04/v\\frame_04810.jpg due to error: [Errno 2] No such file or directory: 'D:\\\\Datasets\\\\Datasets\\\\EPIC_Kitchen\\\\OpticalFlow\\\\P01_04\\\\v\\\\frame_04810.jpg'\n"
     ]
    },
    {
     "name": "stderr",
     "output_type": "stream",
     "text": [
      "Extracting Features with DEFT:  77%|████████████████████████████████████▊           | 967/1262 [01:08<00:14, 20.61it/s]"
     ]
    },
    {
     "name": "stdout",
     "output_type": "stream",
     "text": [
      "Skipping frame: D:/Datasets/Datasets/EPIC_Kitchen/OpticalFlow/P01_04/u\\frame_04815.jpg due to error: [Errno 2] No such file or directory: 'D:\\\\Datasets\\\\Datasets\\\\EPIC_Kitchen\\\\OpticalFlow\\\\P01_04\\\\u\\\\frame_04815.jpg'\n",
      "Skipping frame: D:/Datasets/Datasets/EPIC_Kitchen/OpticalFlow/P01_04/v\\frame_04815.jpg due to error: [Errno 2] No such file or directory: 'D:\\\\Datasets\\\\Datasets\\\\EPIC_Kitchen\\\\OpticalFlow\\\\P01_04\\\\v\\\\frame_04815.jpg'\n",
      "Skipping frame: D:/Datasets/Datasets/EPIC_Kitchen/OpticalFlow/P01_04/u\\frame_04820.jpg due to error: [Errno 2] No such file or directory: 'D:\\\\Datasets\\\\Datasets\\\\EPIC_Kitchen\\\\OpticalFlow\\\\P01_04\\\\u\\\\frame_04820.jpg'\n",
      "Skipping frame: D:/Datasets/Datasets/EPIC_Kitchen/OpticalFlow/P01_04/v\\frame_04820.jpg due to error: [Errno 2] No such file or directory: 'D:\\\\Datasets\\\\Datasets\\\\EPIC_Kitchen\\\\OpticalFlow\\\\P01_04\\\\v\\\\frame_04820.jpg'\n",
      "Skipping frame: D:/Datasets/Datasets/EPIC_Kitchen/OpticalFlow/P01_04/u\\frame_04825.jpg due to error: [Errno 2] No such file or directory: 'D:\\\\Datasets\\\\Datasets\\\\EPIC_Kitchen\\\\OpticalFlow\\\\P01_04\\\\u\\\\frame_04825.jpg'\n",
      "Skipping frame: D:/Datasets/Datasets/EPIC_Kitchen/OpticalFlow/P01_04/v\\frame_04825.jpg due to error: [Errno 2] No such file or directory: 'D:\\\\Datasets\\\\Datasets\\\\EPIC_Kitchen\\\\OpticalFlow\\\\P01_04\\\\v\\\\frame_04825.jpg'\n",
      "Skipping frame: D:/Datasets/Datasets/EPIC_Kitchen/OpticalFlow/P01_04/u\\frame_04830.jpg due to error: [Errno 2] No such file or directory: 'D:\\\\Datasets\\\\Datasets\\\\EPIC_Kitchen\\\\OpticalFlow\\\\P01_04\\\\u\\\\frame_04830.jpg'\n",
      "Skipping frame: D:/Datasets/Datasets/EPIC_Kitchen/OpticalFlow/P01_04/v\\frame_04830.jpg due to error: [Errno 2] No such file or directory: 'D:\\\\Datasets\\\\Datasets\\\\EPIC_Kitchen\\\\OpticalFlow\\\\P01_04\\\\v\\\\frame_04830.jpg'\n",
      "Skipping frame: D:/Datasets/Datasets/EPIC_Kitchen/OpticalFlow/P01_04/u\\frame_04835.jpg due to error: [Errno 2] No such file or directory: 'D:\\\\Datasets\\\\Datasets\\\\EPIC_Kitchen\\\\OpticalFlow\\\\P01_04\\\\u\\\\frame_04835.jpg'\n",
      "Skipping frame: D:/Datasets/Datasets/EPIC_Kitchen/OpticalFlow/P01_04/v\\frame_04835.jpg due to error: [Errno 2] No such file or directory: 'D:\\\\Datasets\\\\Datasets\\\\EPIC_Kitchen\\\\OpticalFlow\\\\P01_04\\\\v\\\\frame_04835.jpg'\n"
     ]
    },
    {
     "name": "stderr",
     "output_type": "stream",
     "text": [
      "Extracting Features with DEFT:  77%|█████████████████████████████████████           | 973/1262 [01:08<00:14, 20.63it/s]"
     ]
    },
    {
     "name": "stdout",
     "output_type": "stream",
     "text": [
      "Skipping frame: D:/Datasets/Datasets/EPIC_Kitchen/OpticalFlow/P01_04/u\\frame_04840.jpg due to error: [Errno 2] No such file or directory: 'D:\\\\Datasets\\\\Datasets\\\\EPIC_Kitchen\\\\OpticalFlow\\\\P01_04\\\\u\\\\frame_04840.jpg'\n",
      "Skipping frame: D:/Datasets/Datasets/EPIC_Kitchen/OpticalFlow/P01_04/v\\frame_04840.jpg due to error: [Errno 2] No such file or directory: 'D:\\\\Datasets\\\\Datasets\\\\EPIC_Kitchen\\\\OpticalFlow\\\\P01_04\\\\v\\\\frame_04840.jpg'\n",
      "Skipping frame: D:/Datasets/Datasets/EPIC_Kitchen/OpticalFlow/P01_04/u\\frame_04845.jpg due to error: [Errno 2] No such file or directory: 'D:\\\\Datasets\\\\Datasets\\\\EPIC_Kitchen\\\\OpticalFlow\\\\P01_04\\\\u\\\\frame_04845.jpg'\n",
      "Skipping frame: D:/Datasets/Datasets/EPIC_Kitchen/OpticalFlow/P01_04/v\\frame_04845.jpg due to error: [Errno 2] No such file or directory: 'D:\\\\Datasets\\\\Datasets\\\\EPIC_Kitchen\\\\OpticalFlow\\\\P01_04\\\\v\\\\frame_04845.jpg'\n",
      "Skipping frame: D:/Datasets/Datasets/EPIC_Kitchen/OpticalFlow/P01_04/u\\frame_04850.jpg due to error: [Errno 2] No such file or directory: 'D:\\\\Datasets\\\\Datasets\\\\EPIC_Kitchen\\\\OpticalFlow\\\\P01_04\\\\u\\\\frame_04850.jpg'\n",
      "Skipping frame: D:/Datasets/Datasets/EPIC_Kitchen/OpticalFlow/P01_04/v\\frame_04850.jpg due to error: [Errno 2] No such file or directory: 'D:\\\\Datasets\\\\Datasets\\\\EPIC_Kitchen\\\\OpticalFlow\\\\P01_04\\\\v\\\\frame_04850.jpg'\n",
      "Skipping frame: D:/Datasets/Datasets/EPIC_Kitchen/OpticalFlow/P01_04/u\\frame_04855.jpg due to error: [Errno 2] No such file or directory: 'D:\\\\Datasets\\\\Datasets\\\\EPIC_Kitchen\\\\OpticalFlow\\\\P01_04\\\\u\\\\frame_04855.jpg'\n",
      "Skipping frame: D:/Datasets/Datasets/EPIC_Kitchen/OpticalFlow/P01_04/v\\frame_04855.jpg due to error: [Errno 2] No such file or directory: 'D:\\\\Datasets\\\\Datasets\\\\EPIC_Kitchen\\\\OpticalFlow\\\\P01_04\\\\v\\\\frame_04855.jpg'\n",
      "Skipping frame: D:/Datasets/Datasets/EPIC_Kitchen/OpticalFlow/P01_04/u\\frame_04860.jpg due to error: [Errno 2] No such file or directory: 'D:\\\\Datasets\\\\Datasets\\\\EPIC_Kitchen\\\\OpticalFlow\\\\P01_04\\\\u\\\\frame_04860.jpg'\n",
      "Skipping frame: D:/Datasets/Datasets/EPIC_Kitchen/OpticalFlow/P01_04/v\\frame_04860.jpg due to error: [Errno 2] No such file or directory: 'D:\\\\Datasets\\\\Datasets\\\\EPIC_Kitchen\\\\OpticalFlow\\\\P01_04\\\\v\\\\frame_04860.jpg'\n"
     ]
    },
    {
     "name": "stderr",
     "output_type": "stream",
     "text": [
      "\r",
      "Extracting Features with DEFT:  77%|█████████████████████████████████████           | 976/1262 [01:08<00:14, 20.32it/s]"
     ]
    },
    {
     "name": "stdout",
     "output_type": "stream",
     "text": [
      "Skipping frame: D:/Datasets/Datasets/EPIC_Kitchen/OpticalFlow/P01_04/u\\frame_04865.jpg due to error: [Errno 2] No such file or directory: 'D:\\\\Datasets\\\\Datasets\\\\EPIC_Kitchen\\\\OpticalFlow\\\\P01_04\\\\u\\\\frame_04865.jpg'\n",
      "Skipping frame: D:/Datasets/Datasets/EPIC_Kitchen/OpticalFlow/P01_04/v\\frame_04865.jpg due to error: [Errno 2] No such file or directory: 'D:\\\\Datasets\\\\Datasets\\\\EPIC_Kitchen\\\\OpticalFlow\\\\P01_04\\\\v\\\\frame_04865.jpg'\n",
      "Skipping frame: D:/Datasets/Datasets/EPIC_Kitchen/OpticalFlow/P01_04/u\\frame_04870.jpg due to error: [Errno 2] No such file or directory: 'D:\\\\Datasets\\\\Datasets\\\\EPIC_Kitchen\\\\OpticalFlow\\\\P01_04\\\\u\\\\frame_04870.jpg'\n",
      "Skipping frame: D:/Datasets/Datasets/EPIC_Kitchen/OpticalFlow/P01_04/v\\frame_04870.jpg due to error: [Errno 2] No such file or directory: 'D:\\\\Datasets\\\\Datasets\\\\EPIC_Kitchen\\\\OpticalFlow\\\\P01_04\\\\v\\\\frame_04870.jpg'\n",
      "Skipping frame: D:/Datasets/Datasets/EPIC_Kitchen/OpticalFlow/P01_04/u\\frame_04875.jpg due to error: [Errno 2] No such file or directory: 'D:\\\\Datasets\\\\Datasets\\\\EPIC_Kitchen\\\\OpticalFlow\\\\P01_04\\\\u\\\\frame_04875.jpg'\n",
      "Skipping frame: D:/Datasets/Datasets/EPIC_Kitchen/OpticalFlow/P01_04/v\\frame_04875.jpg due to error: [Errno 2] No such file or directory: 'D:\\\\Datasets\\\\Datasets\\\\EPIC_Kitchen\\\\OpticalFlow\\\\P01_04\\\\v\\\\frame_04875.jpg'\n",
      "Skipping frame: D:/Datasets/Datasets/EPIC_Kitchen/OpticalFlow/P01_04/u\\frame_04880.jpg due to error: [Errno 2] No such file or directory: 'D:\\\\Datasets\\\\Datasets\\\\EPIC_Kitchen\\\\OpticalFlow\\\\P01_04\\\\u\\\\frame_04880.jpg'\n",
      "Skipping frame: D:/Datasets/Datasets/EPIC_Kitchen/OpticalFlow/P01_04/v\\frame_04880.jpg due to error: [Errno 2] No such file or directory: 'D:\\\\Datasets\\\\Datasets\\\\EPIC_Kitchen\\\\OpticalFlow\\\\P01_04\\\\v\\\\frame_04880.jpg'\n",
      "Skipping frame: D:/Datasets/Datasets/EPIC_Kitchen/OpticalFlow/P01_04/u\\frame_04885.jpg due to error: [Errno 2] No such file or directory: 'D:\\\\Datasets\\\\Datasets\\\\EPIC_Kitchen\\\\OpticalFlow\\\\P01_04\\\\u\\\\frame_04885.jpg'\n",
      "Skipping frame: D:/Datasets/Datasets/EPIC_Kitchen/OpticalFlow/P01_04/v\\frame_04885.jpg due to error: [Errno 2] No such file or directory: 'D:\\\\Datasets\\\\Datasets\\\\EPIC_Kitchen\\\\OpticalFlow\\\\P01_04\\\\v\\\\frame_04885.jpg'\n"
     ]
    },
    {
     "name": "stderr",
     "output_type": "stream",
     "text": [
      "Extracting Features with DEFT:  78%|█████████████████████████████████████▎          | 982/1262 [01:09<00:14, 19.94it/s]"
     ]
    },
    {
     "name": "stdout",
     "output_type": "stream",
     "text": [
      "Skipping frame: D:/Datasets/Datasets/EPIC_Kitchen/OpticalFlow/P01_04/u\\frame_04890.jpg due to error: [Errno 2] No such file or directory: 'D:\\\\Datasets\\\\Datasets\\\\EPIC_Kitchen\\\\OpticalFlow\\\\P01_04\\\\u\\\\frame_04890.jpg'\n",
      "Skipping frame: D:/Datasets/Datasets/EPIC_Kitchen/OpticalFlow/P01_04/v\\frame_04890.jpg due to error: [Errno 2] No such file or directory: 'D:\\\\Datasets\\\\Datasets\\\\EPIC_Kitchen\\\\OpticalFlow\\\\P01_04\\\\v\\\\frame_04890.jpg'\n",
      "Skipping frame: D:/Datasets/Datasets/EPIC_Kitchen/OpticalFlow/P01_04/u\\frame_04895.jpg due to error: [Errno 2] No such file or directory: 'D:\\\\Datasets\\\\Datasets\\\\EPIC_Kitchen\\\\OpticalFlow\\\\P01_04\\\\u\\\\frame_04895.jpg'\n",
      "Skipping frame: D:/Datasets/Datasets/EPIC_Kitchen/OpticalFlow/P01_04/v\\frame_04895.jpg due to error: [Errno 2] No such file or directory: 'D:\\\\Datasets\\\\Datasets\\\\EPIC_Kitchen\\\\OpticalFlow\\\\P01_04\\\\v\\\\frame_04895.jpg'\n",
      "Skipping frame: D:/Datasets/Datasets/EPIC_Kitchen/OpticalFlow/P01_04/u\\frame_04900.jpg due to error: [Errno 2] No such file or directory: 'D:\\\\Datasets\\\\Datasets\\\\EPIC_Kitchen\\\\OpticalFlow\\\\P01_04\\\\u\\\\frame_04900.jpg'\n",
      "Skipping frame: D:/Datasets/Datasets/EPIC_Kitchen/OpticalFlow/P01_04/v\\frame_04900.jpg due to error: [Errno 2] No such file or directory: 'D:\\\\Datasets\\\\Datasets\\\\EPIC_Kitchen\\\\OpticalFlow\\\\P01_04\\\\v\\\\frame_04900.jpg'\n",
      "Skipping frame: D:/Datasets/Datasets/EPIC_Kitchen/OpticalFlow/P01_04/u\\frame_04905.jpg due to error: [Errno 2] No such file or directory: 'D:\\\\Datasets\\\\Datasets\\\\EPIC_Kitchen\\\\OpticalFlow\\\\P01_04\\\\u\\\\frame_04905.jpg'\n",
      "Skipping frame: D:/Datasets/Datasets/EPIC_Kitchen/OpticalFlow/P01_04/v\\frame_04905.jpg due to error: [Errno 2] No such file or directory: 'D:\\\\Datasets\\\\Datasets\\\\EPIC_Kitchen\\\\OpticalFlow\\\\P01_04\\\\v\\\\frame_04905.jpg'\n",
      "Skipping frame: D:/Datasets/Datasets/EPIC_Kitchen/OpticalFlow/P01_04/u\\frame_04910.jpg due to error: [Errno 2] No such file or directory: 'D:\\\\Datasets\\\\Datasets\\\\EPIC_Kitchen\\\\OpticalFlow\\\\P01_04\\\\u\\\\frame_04910.jpg'\n",
      "Skipping frame: D:/Datasets/Datasets/EPIC_Kitchen/OpticalFlow/P01_04/v\\frame_04910.jpg due to error: [Errno 2] No such file or directory: 'D:\\\\Datasets\\\\Datasets\\\\EPIC_Kitchen\\\\OpticalFlow\\\\P01_04\\\\v\\\\frame_04910.jpg'\n"
     ]
    },
    {
     "name": "stderr",
     "output_type": "stream",
     "text": [
      "Extracting Features with DEFT:  78%|█████████████████████████████████████▌          | 987/1262 [01:09<00:14, 19.10it/s]"
     ]
    },
    {
     "name": "stdout",
     "output_type": "stream",
     "text": [
      "Skipping frame: D:/Datasets/Datasets/EPIC_Kitchen/OpticalFlow/P01_04/u\\frame_04915.jpg due to error: [Errno 2] No such file or directory: 'D:\\\\Datasets\\\\Datasets\\\\EPIC_Kitchen\\\\OpticalFlow\\\\P01_04\\\\u\\\\frame_04915.jpg'\n",
      "Skipping frame: D:/Datasets/Datasets/EPIC_Kitchen/OpticalFlow/P01_04/v\\frame_04915.jpg due to error: [Errno 2] No such file or directory: 'D:\\\\Datasets\\\\Datasets\\\\EPIC_Kitchen\\\\OpticalFlow\\\\P01_04\\\\v\\\\frame_04915.jpg'\n",
      "Skipping frame: D:/Datasets/Datasets/EPIC_Kitchen/OpticalFlow/P01_04/u\\frame_04920.jpg due to error: [Errno 2] No such file or directory: 'D:\\\\Datasets\\\\Datasets\\\\EPIC_Kitchen\\\\OpticalFlow\\\\P01_04\\\\u\\\\frame_04920.jpg'\n",
      "Skipping frame: D:/Datasets/Datasets/EPIC_Kitchen/OpticalFlow/P01_04/v\\frame_04920.jpg due to error: [Errno 2] No such file or directory: 'D:\\\\Datasets\\\\Datasets\\\\EPIC_Kitchen\\\\OpticalFlow\\\\P01_04\\\\v\\\\frame_04920.jpg'\n",
      "Skipping frame: D:/Datasets/Datasets/EPIC_Kitchen/OpticalFlow/P01_04/u\\frame_04925.jpg due to error: [Errno 2] No such file or directory: 'D:\\\\Datasets\\\\Datasets\\\\EPIC_Kitchen\\\\OpticalFlow\\\\P01_04\\\\u\\\\frame_04925.jpg'\n",
      "Skipping frame: D:/Datasets/Datasets/EPIC_Kitchen/OpticalFlow/P01_04/v\\frame_04925.jpg due to error: [Errno 2] No such file or directory: 'D:\\\\Datasets\\\\Datasets\\\\EPIC_Kitchen\\\\OpticalFlow\\\\P01_04\\\\v\\\\frame_04925.jpg'\n",
      "Skipping frame: D:/Datasets/Datasets/EPIC_Kitchen/OpticalFlow/P01_04/u\\frame_04930.jpg due to error: [Errno 2] No such file or directory: 'D:\\\\Datasets\\\\Datasets\\\\EPIC_Kitchen\\\\OpticalFlow\\\\P01_04\\\\u\\\\frame_04930.jpg'\n",
      "Skipping frame: D:/Datasets/Datasets/EPIC_Kitchen/OpticalFlow/P01_04/v\\frame_04930.jpg due to error: [Errno 2] No such file or directory: 'D:\\\\Datasets\\\\Datasets\\\\EPIC_Kitchen\\\\OpticalFlow\\\\P01_04\\\\v\\\\frame_04930.jpg'\n"
     ]
    },
    {
     "name": "stderr",
     "output_type": "stream",
     "text": [
      "\r",
      "Extracting Features with DEFT:  78%|█████████████████████████████████████▌          | 989/1262 [01:09<00:14, 18.84it/s]"
     ]
    },
    {
     "name": "stdout",
     "output_type": "stream",
     "text": [
      "Skipping frame: D:/Datasets/Datasets/EPIC_Kitchen/OpticalFlow/P01_04/u\\frame_04935.jpg due to error: [Errno 2] No such file or directory: 'D:\\\\Datasets\\\\Datasets\\\\EPIC_Kitchen\\\\OpticalFlow\\\\P01_04\\\\u\\\\frame_04935.jpg'\n",
      "Skipping frame: D:/Datasets/Datasets/EPIC_Kitchen/OpticalFlow/P01_04/v\\frame_04935.jpg due to error: [Errno 2] No such file or directory: 'D:\\\\Datasets\\\\Datasets\\\\EPIC_Kitchen\\\\OpticalFlow\\\\P01_04\\\\v\\\\frame_04935.jpg'\n",
      "Skipping frame: D:/Datasets/Datasets/EPIC_Kitchen/OpticalFlow/P01_04/u\\frame_04940.jpg due to error: [Errno 2] No such file or directory: 'D:\\\\Datasets\\\\Datasets\\\\EPIC_Kitchen\\\\OpticalFlow\\\\P01_04\\\\u\\\\frame_04940.jpg'\n",
      "Skipping frame: D:/Datasets/Datasets/EPIC_Kitchen/OpticalFlow/P01_04/v\\frame_04940.jpg due to error: [Errno 2] No such file or directory: 'D:\\\\Datasets\\\\Datasets\\\\EPIC_Kitchen\\\\OpticalFlow\\\\P01_04\\\\v\\\\frame_04940.jpg'\n",
      "Skipping frame: D:/Datasets/Datasets/EPIC_Kitchen/OpticalFlow/P01_04/u\\frame_04945.jpg due to error: [Errno 2] No such file or directory: 'D:\\\\Datasets\\\\Datasets\\\\EPIC_Kitchen\\\\OpticalFlow\\\\P01_04\\\\u\\\\frame_04945.jpg'\n",
      "Skipping frame: D:/Datasets/Datasets/EPIC_Kitchen/OpticalFlow/P01_04/v\\frame_04945.jpg due to error: [Errno 2] No such file or directory: 'D:\\\\Datasets\\\\Datasets\\\\EPIC_Kitchen\\\\OpticalFlow\\\\P01_04\\\\v\\\\frame_04945.jpg'\n",
      "Skipping frame: D:/Datasets/Datasets/EPIC_Kitchen/OpticalFlow/P01_04/u\\frame_04950.jpg due to error: [Errno 2] No such file or directory: 'D:\\\\Datasets\\\\Datasets\\\\EPIC_Kitchen\\\\OpticalFlow\\\\P01_04\\\\u\\\\frame_04950.jpg'\n",
      "Skipping frame: D:/Datasets/Datasets/EPIC_Kitchen/OpticalFlow/P01_04/v\\frame_04950.jpg due to error: [Errno 2] No such file or directory: 'D:\\\\Datasets\\\\Datasets\\\\EPIC_Kitchen\\\\OpticalFlow\\\\P01_04\\\\v\\\\frame_04950.jpg'\n"
     ]
    },
    {
     "name": "stderr",
     "output_type": "stream",
     "text": [
      "Extracting Features with DEFT:  79%|█████████████████████████████████████▊          | 995/1262 [01:09<00:13, 19.91it/s]"
     ]
    },
    {
     "name": "stdout",
     "output_type": "stream",
     "text": [
      "Skipping frame: D:/Datasets/Datasets/EPIC_Kitchen/OpticalFlow/P01_04/u\\frame_04955.jpg due to error: [Errno 2] No such file or directory: 'D:\\\\Datasets\\\\Datasets\\\\EPIC_Kitchen\\\\OpticalFlow\\\\P01_04\\\\u\\\\frame_04955.jpg'\n",
      "Skipping frame: D:/Datasets/Datasets/EPIC_Kitchen/OpticalFlow/P01_04/v\\frame_04955.jpg due to error: [Errno 2] No such file or directory: 'D:\\\\Datasets\\\\Datasets\\\\EPIC_Kitchen\\\\OpticalFlow\\\\P01_04\\\\v\\\\frame_04955.jpg'\n",
      "Skipping frame: D:/Datasets/Datasets/EPIC_Kitchen/OpticalFlow/P01_04/u\\frame_04960.jpg due to error: [Errno 2] No such file or directory: 'D:\\\\Datasets\\\\Datasets\\\\EPIC_Kitchen\\\\OpticalFlow\\\\P01_04\\\\u\\\\frame_04960.jpg'\n",
      "Skipping frame: D:/Datasets/Datasets/EPIC_Kitchen/OpticalFlow/P01_04/v\\frame_04960.jpg due to error: [Errno 2] No such file or directory: 'D:\\\\Datasets\\\\Datasets\\\\EPIC_Kitchen\\\\OpticalFlow\\\\P01_04\\\\v\\\\frame_04960.jpg'\n",
      "Skipping frame: D:/Datasets/Datasets/EPIC_Kitchen/OpticalFlow/P01_04/u\\frame_04965.jpg due to error: [Errno 2] No such file or directory: 'D:\\\\Datasets\\\\Datasets\\\\EPIC_Kitchen\\\\OpticalFlow\\\\P01_04\\\\u\\\\frame_04965.jpg'\n",
      "Skipping frame: D:/Datasets/Datasets/EPIC_Kitchen/OpticalFlow/P01_04/v\\frame_04965.jpg due to error: [Errno 2] No such file or directory: 'D:\\\\Datasets\\\\Datasets\\\\EPIC_Kitchen\\\\OpticalFlow\\\\P01_04\\\\v\\\\frame_04965.jpg'\n",
      "Skipping frame: D:/Datasets/Datasets/EPIC_Kitchen/OpticalFlow/P01_04/u\\frame_04970.jpg due to error: [Errno 2] No such file or directory: 'D:\\\\Datasets\\\\Datasets\\\\EPIC_Kitchen\\\\OpticalFlow\\\\P01_04\\\\u\\\\frame_04970.jpg'\n",
      "Skipping frame: D:/Datasets/Datasets/EPIC_Kitchen/OpticalFlow/P01_04/v\\frame_04970.jpg due to error: [Errno 2] No such file or directory: 'D:\\\\Datasets\\\\Datasets\\\\EPIC_Kitchen\\\\OpticalFlow\\\\P01_04\\\\v\\\\frame_04970.jpg'\n",
      "Skipping frame: D:/Datasets/Datasets/EPIC_Kitchen/OpticalFlow/P01_04/u\\frame_04975.jpg due to error: [Errno 2] No such file or directory: 'D:\\\\Datasets\\\\Datasets\\\\EPIC_Kitchen\\\\OpticalFlow\\\\P01_04\\\\u\\\\frame_04975.jpg'\n",
      "Skipping frame: D:/Datasets/Datasets/EPIC_Kitchen/OpticalFlow/P01_04/v\\frame_04975.jpg due to error: [Errno 2] No such file or directory: 'D:\\\\Datasets\\\\Datasets\\\\EPIC_Kitchen\\\\OpticalFlow\\\\P01_04\\\\v\\\\frame_04975.jpg'\n"
     ]
    },
    {
     "name": "stderr",
     "output_type": "stream",
     "text": [
      "Extracting Features with DEFT:  79%|█████████████████████████████████████▏         | 1000/1262 [01:10<00:13, 20.14it/s]"
     ]
    },
    {
     "name": "stdout",
     "output_type": "stream",
     "text": [
      "Skipping frame: D:/Datasets/Datasets/EPIC_Kitchen/OpticalFlow/P01_04/u\\frame_04980.jpg due to error: [Errno 2] No such file or directory: 'D:\\\\Datasets\\\\Datasets\\\\EPIC_Kitchen\\\\OpticalFlow\\\\P01_04\\\\u\\\\frame_04980.jpg'\n",
      "Skipping frame: D:/Datasets/Datasets/EPIC_Kitchen/OpticalFlow/P01_04/v\\frame_04980.jpg due to error: [Errno 2] No such file or directory: 'D:\\\\Datasets\\\\Datasets\\\\EPIC_Kitchen\\\\OpticalFlow\\\\P01_04\\\\v\\\\frame_04980.jpg'\n",
      "Skipping frame: D:/Datasets/Datasets/EPIC_Kitchen/OpticalFlow/P01_04/u\\frame_04985.jpg due to error: [Errno 2] No such file or directory: 'D:\\\\Datasets\\\\Datasets\\\\EPIC_Kitchen\\\\OpticalFlow\\\\P01_04\\\\u\\\\frame_04985.jpg'\n",
      "Skipping frame: D:/Datasets/Datasets/EPIC_Kitchen/OpticalFlow/P01_04/v\\frame_04985.jpg due to error: [Errno 2] No such file or directory: 'D:\\\\Datasets\\\\Datasets\\\\EPIC_Kitchen\\\\OpticalFlow\\\\P01_04\\\\v\\\\frame_04985.jpg'\n",
      "Skipping frame: D:/Datasets/Datasets/EPIC_Kitchen/OpticalFlow/P01_04/u\\frame_04990.jpg due to error: [Errno 2] No such file or directory: 'D:\\\\Datasets\\\\Datasets\\\\EPIC_Kitchen\\\\OpticalFlow\\\\P01_04\\\\u\\\\frame_04990.jpg'\n",
      "Skipping frame: D:/Datasets/Datasets/EPIC_Kitchen/OpticalFlow/P01_04/v\\frame_04990.jpg due to error: [Errno 2] No such file or directory: 'D:\\\\Datasets\\\\Datasets\\\\EPIC_Kitchen\\\\OpticalFlow\\\\P01_04\\\\v\\\\frame_04990.jpg'\n",
      "Skipping frame: D:/Datasets/Datasets/EPIC_Kitchen/OpticalFlow/P01_04/u\\frame_04995.jpg due to error: [Errno 2] No such file or directory: 'D:\\\\Datasets\\\\Datasets\\\\EPIC_Kitchen\\\\OpticalFlow\\\\P01_04\\\\u\\\\frame_04995.jpg'\n",
      "Skipping frame: D:/Datasets/Datasets/EPIC_Kitchen/OpticalFlow/P01_04/v\\frame_04995.jpg due to error: [Errno 2] No such file or directory: 'D:\\\\Datasets\\\\Datasets\\\\EPIC_Kitchen\\\\OpticalFlow\\\\P01_04\\\\v\\\\frame_04995.jpg'\n",
      "Skipping frame: D:/Datasets/Datasets/EPIC_Kitchen/OpticalFlow/P01_04/u\\frame_05000.jpg due to error: [Errno 2] No such file or directory: 'D:\\\\Datasets\\\\Datasets\\\\EPIC_Kitchen\\\\OpticalFlow\\\\P01_04\\\\u\\\\frame_05000.jpg'\n",
      "Skipping frame: D:/Datasets/Datasets/EPIC_Kitchen/OpticalFlow/P01_04/v\\frame_05000.jpg due to error: [Errno 2] No such file or directory: 'D:\\\\Datasets\\\\Datasets\\\\EPIC_Kitchen\\\\OpticalFlow\\\\P01_04\\\\v\\\\frame_05000.jpg'\n"
     ]
    },
    {
     "name": "stderr",
     "output_type": "stream",
     "text": [
      "Extracting Features with DEFT:  80%|█████████████████████████████████████▍         | 1005/1262 [01:10<00:13, 18.93it/s]"
     ]
    },
    {
     "name": "stdout",
     "output_type": "stream",
     "text": [
      "Skipping frame: D:/Datasets/Datasets/EPIC_Kitchen/OpticalFlow/P01_04/u\\frame_05005.jpg due to error: [Errno 2] No such file or directory: 'D:\\\\Datasets\\\\Datasets\\\\EPIC_Kitchen\\\\OpticalFlow\\\\P01_04\\\\u\\\\frame_05005.jpg'\n",
      "Skipping frame: D:/Datasets/Datasets/EPIC_Kitchen/OpticalFlow/P01_04/v\\frame_05005.jpg due to error: [Errno 2] No such file or directory: 'D:\\\\Datasets\\\\Datasets\\\\EPIC_Kitchen\\\\OpticalFlow\\\\P01_04\\\\v\\\\frame_05005.jpg'\n",
      "Skipping frame: D:/Datasets/Datasets/EPIC_Kitchen/OpticalFlow/P01_04/u\\frame_05010.jpg due to error: [Errno 2] No such file or directory: 'D:\\\\Datasets\\\\Datasets\\\\EPIC_Kitchen\\\\OpticalFlow\\\\P01_04\\\\u\\\\frame_05010.jpg'\n",
      "Skipping frame: D:/Datasets/Datasets/EPIC_Kitchen/OpticalFlow/P01_04/v\\frame_05010.jpg due to error: [Errno 2] No such file or directory: 'D:\\\\Datasets\\\\Datasets\\\\EPIC_Kitchen\\\\OpticalFlow\\\\P01_04\\\\v\\\\frame_05010.jpg'\n",
      "Skipping frame: D:/Datasets/Datasets/EPIC_Kitchen/OpticalFlow/P01_04/u\\frame_05015.jpg due to error: [Errno 2] No such file or directory: 'D:\\\\Datasets\\\\Datasets\\\\EPIC_Kitchen\\\\OpticalFlow\\\\P01_04\\\\u\\\\frame_05015.jpg'\n",
      "Skipping frame: D:/Datasets/Datasets/EPIC_Kitchen/OpticalFlow/P01_04/v\\frame_05015.jpg due to error: [Errno 2] No such file or directory: 'D:\\\\Datasets\\\\Datasets\\\\EPIC_Kitchen\\\\OpticalFlow\\\\P01_04\\\\v\\\\frame_05015.jpg'\n",
      "Skipping frame: D:/Datasets/Datasets/EPIC_Kitchen/OpticalFlow/P01_04/u\\frame_05020.jpg due to error: [Errno 2] No such file or directory: 'D:\\\\Datasets\\\\Datasets\\\\EPIC_Kitchen\\\\OpticalFlow\\\\P01_04\\\\u\\\\frame_05020.jpg'\n",
      "Skipping frame: D:/Datasets/Datasets/EPIC_Kitchen/OpticalFlow/P01_04/v\\frame_05020.jpg due to error: [Errno 2] No such file or directory: 'D:\\\\Datasets\\\\Datasets\\\\EPIC_Kitchen\\\\OpticalFlow\\\\P01_04\\\\v\\\\frame_05020.jpg'\n"
     ]
    },
    {
     "name": "stderr",
     "output_type": "stream",
     "text": [
      "\r",
      "Extracting Features with DEFT:  80%|█████████████████████████████████████▌         | 1008/1262 [01:10<00:13, 19.25it/s]"
     ]
    },
    {
     "name": "stdout",
     "output_type": "stream",
     "text": [
      "Skipping frame: D:/Datasets/Datasets/EPIC_Kitchen/OpticalFlow/P01_04/u\\frame_05025.jpg due to error: [Errno 2] No such file or directory: 'D:\\\\Datasets\\\\Datasets\\\\EPIC_Kitchen\\\\OpticalFlow\\\\P01_04\\\\u\\\\frame_05025.jpg'\n",
      "Skipping frame: D:/Datasets/Datasets/EPIC_Kitchen/OpticalFlow/P01_04/v\\frame_05025.jpg due to error: [Errno 2] No such file or directory: 'D:\\\\Datasets\\\\Datasets\\\\EPIC_Kitchen\\\\OpticalFlow\\\\P01_04\\\\v\\\\frame_05025.jpg'\n",
      "Skipping frame: D:/Datasets/Datasets/EPIC_Kitchen/OpticalFlow/P01_04/u\\frame_05030.jpg due to error: [Errno 2] No such file or directory: 'D:\\\\Datasets\\\\Datasets\\\\EPIC_Kitchen\\\\OpticalFlow\\\\P01_04\\\\u\\\\frame_05030.jpg'\n",
      "Skipping frame: D:/Datasets/Datasets/EPIC_Kitchen/OpticalFlow/P01_04/v\\frame_05030.jpg due to error: [Errno 2] No such file or directory: 'D:\\\\Datasets\\\\Datasets\\\\EPIC_Kitchen\\\\OpticalFlow\\\\P01_04\\\\v\\\\frame_05030.jpg'\n",
      "Skipping frame: D:/Datasets/Datasets/EPIC_Kitchen/OpticalFlow/P01_04/u\\frame_05035.jpg due to error: [Errno 2] No such file or directory: 'D:\\\\Datasets\\\\Datasets\\\\EPIC_Kitchen\\\\OpticalFlow\\\\P01_04\\\\u\\\\frame_05035.jpg'\n",
      "Skipping frame: D:/Datasets/Datasets/EPIC_Kitchen/OpticalFlow/P01_04/v\\frame_05035.jpg due to error: [Errno 2] No such file or directory: 'D:\\\\Datasets\\\\Datasets\\\\EPIC_Kitchen\\\\OpticalFlow\\\\P01_04\\\\v\\\\frame_05035.jpg'\n",
      "Skipping frame: D:/Datasets/Datasets/EPIC_Kitchen/OpticalFlow/P01_04/u\\frame_05040.jpg due to error: [Errno 2] No such file or directory: 'D:\\\\Datasets\\\\Datasets\\\\EPIC_Kitchen\\\\OpticalFlow\\\\P01_04\\\\u\\\\frame_05040.jpg'\n",
      "Skipping frame: D:/Datasets/Datasets/EPIC_Kitchen/OpticalFlow/P01_04/v\\frame_05040.jpg due to error: [Errno 2] No such file or directory: 'D:\\\\Datasets\\\\Datasets\\\\EPIC_Kitchen\\\\OpticalFlow\\\\P01_04\\\\v\\\\frame_05040.jpg'\n",
      "Skipping frame: D:/Datasets/Datasets/EPIC_Kitchen/OpticalFlow/P01_04/u\\frame_05045.jpg due to error: [Errno 2] No such file or directory: 'D:\\\\Datasets\\\\Datasets\\\\EPIC_Kitchen\\\\OpticalFlow\\\\P01_04\\\\u\\\\frame_05045.jpg'\n",
      "Skipping frame: D:/Datasets/Datasets/EPIC_Kitchen/OpticalFlow/P01_04/v\\frame_05045.jpg due to error: [Errno 2] No such file or directory: 'D:\\\\Datasets\\\\Datasets\\\\EPIC_Kitchen\\\\OpticalFlow\\\\P01_04\\\\v\\\\frame_05045.jpg'\n"
     ]
    },
    {
     "name": "stderr",
     "output_type": "stream",
     "text": [
      "Extracting Features with DEFT:  80%|█████████████████████████████████████▋         | 1013/1262 [01:10<00:12, 19.50it/s]"
     ]
    },
    {
     "name": "stdout",
     "output_type": "stream",
     "text": [
      "Skipping frame: D:/Datasets/Datasets/EPIC_Kitchen/OpticalFlow/P01_04/u\\frame_05050.jpg due to error: [Errno 2] No such file or directory: 'D:\\\\Datasets\\\\Datasets\\\\EPIC_Kitchen\\\\OpticalFlow\\\\P01_04\\\\u\\\\frame_05050.jpg'\n",
      "Skipping frame: D:/Datasets/Datasets/EPIC_Kitchen/OpticalFlow/P01_04/v\\frame_05050.jpg due to error: [Errno 2] No such file or directory: 'D:\\\\Datasets\\\\Datasets\\\\EPIC_Kitchen\\\\OpticalFlow\\\\P01_04\\\\v\\\\frame_05050.jpg'\n",
      "Skipping frame: D:/Datasets/Datasets/EPIC_Kitchen/OpticalFlow/P01_04/u\\frame_05055.jpg due to error: [Errno 2] No such file or directory: 'D:\\\\Datasets\\\\Datasets\\\\EPIC_Kitchen\\\\OpticalFlow\\\\P01_04\\\\u\\\\frame_05055.jpg'\n",
      "Skipping frame: D:/Datasets/Datasets/EPIC_Kitchen/OpticalFlow/P01_04/v\\frame_05055.jpg due to error: [Errno 2] No such file or directory: 'D:\\\\Datasets\\\\Datasets\\\\EPIC_Kitchen\\\\OpticalFlow\\\\P01_04\\\\v\\\\frame_05055.jpg'\n",
      "Skipping frame: D:/Datasets/Datasets/EPIC_Kitchen/OpticalFlow/P01_04/u\\frame_05060.jpg due to error: [Errno 2] No such file or directory: 'D:\\\\Datasets\\\\Datasets\\\\EPIC_Kitchen\\\\OpticalFlow\\\\P01_04\\\\u\\\\frame_05060.jpg'\n",
      "Skipping frame: D:/Datasets/Datasets/EPIC_Kitchen/OpticalFlow/P01_04/v\\frame_05060.jpg due to error: [Errno 2] No such file or directory: 'D:\\\\Datasets\\\\Datasets\\\\EPIC_Kitchen\\\\OpticalFlow\\\\P01_04\\\\v\\\\frame_05060.jpg'\n",
      "Skipping frame: D:/Datasets/Datasets/EPIC_Kitchen/OpticalFlow/P01_04/u\\frame_05065.jpg due to error: [Errno 2] No such file or directory: 'D:\\\\Datasets\\\\Datasets\\\\EPIC_Kitchen\\\\OpticalFlow\\\\P01_04\\\\u\\\\frame_05065.jpg'\n",
      "Skipping frame: D:/Datasets/Datasets/EPIC_Kitchen/OpticalFlow/P01_04/v\\frame_05065.jpg due to error: [Errno 2] No such file or directory: 'D:\\\\Datasets\\\\Datasets\\\\EPIC_Kitchen\\\\OpticalFlow\\\\P01_04\\\\v\\\\frame_05065.jpg'\n",
      "Skipping frame: D:/Datasets/Datasets/EPIC_Kitchen/OpticalFlow/P01_04/u\\frame_05070.jpg due to error: [Errno 2] No such file or directory: 'D:\\\\Datasets\\\\Datasets\\\\EPIC_Kitchen\\\\OpticalFlow\\\\P01_04\\\\u\\\\frame_05070.jpg'\n",
      "Skipping frame: D:/Datasets/Datasets/EPIC_Kitchen/OpticalFlow/P01_04/v\\frame_05070.jpg due to error: [Errno 2] No such file or directory: 'D:\\\\Datasets\\\\Datasets\\\\EPIC_Kitchen\\\\OpticalFlow\\\\P01_04\\\\v\\\\frame_05070.jpg'\n"
     ]
    },
    {
     "name": "stderr",
     "output_type": "stream",
     "text": [
      "Extracting Features with DEFT:  81%|█████████████████████████████████████▉         | 1018/1262 [01:11<00:12, 19.14it/s]"
     ]
    },
    {
     "name": "stdout",
     "output_type": "stream",
     "text": [
      "Skipping frame: D:/Datasets/Datasets/EPIC_Kitchen/OpticalFlow/P01_04/u\\frame_05075.jpg due to error: [Errno 2] No such file or directory: 'D:\\\\Datasets\\\\Datasets\\\\EPIC_Kitchen\\\\OpticalFlow\\\\P01_04\\\\u\\\\frame_05075.jpg'\n",
      "Skipping frame: D:/Datasets/Datasets/EPIC_Kitchen/OpticalFlow/P01_04/v\\frame_05075.jpg due to error: [Errno 2] No such file or directory: 'D:\\\\Datasets\\\\Datasets\\\\EPIC_Kitchen\\\\OpticalFlow\\\\P01_04\\\\v\\\\frame_05075.jpg'\n",
      "Skipping frame: D:/Datasets/Datasets/EPIC_Kitchen/OpticalFlow/P01_04/u\\frame_05080.jpg due to error: [Errno 2] No such file or directory: 'D:\\\\Datasets\\\\Datasets\\\\EPIC_Kitchen\\\\OpticalFlow\\\\P01_04\\\\u\\\\frame_05080.jpg'\n",
      "Skipping frame: D:/Datasets/Datasets/EPIC_Kitchen/OpticalFlow/P01_04/v\\frame_05080.jpg due to error: [Errno 2] No such file or directory: 'D:\\\\Datasets\\\\Datasets\\\\EPIC_Kitchen\\\\OpticalFlow\\\\P01_04\\\\v\\\\frame_05080.jpg'\n",
      "Skipping frame: D:/Datasets/Datasets/EPIC_Kitchen/OpticalFlow/P01_04/u\\frame_05085.jpg due to error: [Errno 2] No such file or directory: 'D:\\\\Datasets\\\\Datasets\\\\EPIC_Kitchen\\\\OpticalFlow\\\\P01_04\\\\u\\\\frame_05085.jpg'\n",
      "Skipping frame: D:/Datasets/Datasets/EPIC_Kitchen/OpticalFlow/P01_04/v\\frame_05085.jpg due to error: [Errno 2] No such file or directory: 'D:\\\\Datasets\\\\Datasets\\\\EPIC_Kitchen\\\\OpticalFlow\\\\P01_04\\\\v\\\\frame_05085.jpg'\n",
      "Skipping frame: D:/Datasets/Datasets/EPIC_Kitchen/OpticalFlow/P01_04/u\\frame_05090.jpg due to error: [Errno 2] No such file or directory: 'D:\\\\Datasets\\\\Datasets\\\\EPIC_Kitchen\\\\OpticalFlow\\\\P01_04\\\\u\\\\frame_05090.jpg'\n",
      "Skipping frame: D:/Datasets/Datasets/EPIC_Kitchen/OpticalFlow/P01_04/v\\frame_05090.jpg due to error: [Errno 2] No such file or directory: 'D:\\\\Datasets\\\\Datasets\\\\EPIC_Kitchen\\\\OpticalFlow\\\\P01_04\\\\v\\\\frame_05090.jpg'\n"
     ]
    },
    {
     "name": "stderr",
     "output_type": "stream",
     "text": [
      "Extracting Features with DEFT:  81%|██████████████████████████████████████         | 1022/1262 [01:11<00:12, 18.68it/s]"
     ]
    },
    {
     "name": "stdout",
     "output_type": "stream",
     "text": [
      "Skipping frame: D:/Datasets/Datasets/EPIC_Kitchen/OpticalFlow/P01_04/u\\frame_05095.jpg due to error: [Errno 2] No such file or directory: 'D:\\\\Datasets\\\\Datasets\\\\EPIC_Kitchen\\\\OpticalFlow\\\\P01_04\\\\u\\\\frame_05095.jpg'\n",
      "Skipping frame: D:/Datasets/Datasets/EPIC_Kitchen/OpticalFlow/P01_04/v\\frame_05095.jpg due to error: [Errno 2] No such file or directory: 'D:\\\\Datasets\\\\Datasets\\\\EPIC_Kitchen\\\\OpticalFlow\\\\P01_04\\\\v\\\\frame_05095.jpg'\n",
      "Skipping frame: D:/Datasets/Datasets/EPIC_Kitchen/OpticalFlow/P01_04/u\\frame_05100.jpg due to error: [Errno 2] No such file or directory: 'D:\\\\Datasets\\\\Datasets\\\\EPIC_Kitchen\\\\OpticalFlow\\\\P01_04\\\\u\\\\frame_05100.jpg'\n",
      "Skipping frame: D:/Datasets/Datasets/EPIC_Kitchen/OpticalFlow/P01_04/v\\frame_05100.jpg due to error: [Errno 2] No such file or directory: 'D:\\\\Datasets\\\\Datasets\\\\EPIC_Kitchen\\\\OpticalFlow\\\\P01_04\\\\v\\\\frame_05100.jpg'\n",
      "Skipping frame: D:/Datasets/Datasets/EPIC_Kitchen/OpticalFlow/P01_04/u\\frame_05105.jpg due to error: [Errno 2] No such file or directory: 'D:\\\\Datasets\\\\Datasets\\\\EPIC_Kitchen\\\\OpticalFlow\\\\P01_04\\\\u\\\\frame_05105.jpg'\n",
      "Skipping frame: D:/Datasets/Datasets/EPIC_Kitchen/OpticalFlow/P01_04/v\\frame_05105.jpg due to error: [Errno 2] No such file or directory: 'D:\\\\Datasets\\\\Datasets\\\\EPIC_Kitchen\\\\OpticalFlow\\\\P01_04\\\\v\\\\frame_05105.jpg'\n",
      "Skipping frame: D:/Datasets/Datasets/EPIC_Kitchen/OpticalFlow/P01_04/u\\frame_05110.jpg due to error: [Errno 2] No such file or directory: 'D:\\\\Datasets\\\\Datasets\\\\EPIC_Kitchen\\\\OpticalFlow\\\\P01_04\\\\u\\\\frame_05110.jpg'\n",
      "Skipping frame: D:/Datasets/Datasets/EPIC_Kitchen/OpticalFlow/P01_04/v\\frame_05110.jpg due to error: [Errno 2] No such file or directory: 'D:\\\\Datasets\\\\Datasets\\\\EPIC_Kitchen\\\\OpticalFlow\\\\P01_04\\\\v\\\\frame_05110.jpg'\n"
     ]
    },
    {
     "name": "stderr",
     "output_type": "stream",
     "text": [
      "Extracting Features with DEFT:  81%|██████████████████████████████████████▏        | 1027/1262 [01:11<00:12, 18.82it/s]"
     ]
    },
    {
     "name": "stdout",
     "output_type": "stream",
     "text": [
      "Skipping frame: D:/Datasets/Datasets/EPIC_Kitchen/OpticalFlow/P01_04/u\\frame_05115.jpg due to error: [Errno 2] No such file or directory: 'D:\\\\Datasets\\\\Datasets\\\\EPIC_Kitchen\\\\OpticalFlow\\\\P01_04\\\\u\\\\frame_05115.jpg'\n",
      "Skipping frame: D:/Datasets/Datasets/EPIC_Kitchen/OpticalFlow/P01_04/v\\frame_05115.jpg due to error: [Errno 2] No such file or directory: 'D:\\\\Datasets\\\\Datasets\\\\EPIC_Kitchen\\\\OpticalFlow\\\\P01_04\\\\v\\\\frame_05115.jpg'\n",
      "Skipping frame: D:/Datasets/Datasets/EPIC_Kitchen/OpticalFlow/P01_04/u\\frame_05120.jpg due to error: [Errno 2] No such file or directory: 'D:\\\\Datasets\\\\Datasets\\\\EPIC_Kitchen\\\\OpticalFlow\\\\P01_04\\\\u\\\\frame_05120.jpg'\n",
      "Skipping frame: D:/Datasets/Datasets/EPIC_Kitchen/OpticalFlow/P01_04/v\\frame_05120.jpg due to error: [Errno 2] No such file or directory: 'D:\\\\Datasets\\\\Datasets\\\\EPIC_Kitchen\\\\OpticalFlow\\\\P01_04\\\\v\\\\frame_05120.jpg'\n",
      "Skipping frame: D:/Datasets/Datasets/EPIC_Kitchen/OpticalFlow/P01_04/u\\frame_05125.jpg due to error: [Errno 2] No such file or directory: 'D:\\\\Datasets\\\\Datasets\\\\EPIC_Kitchen\\\\OpticalFlow\\\\P01_04\\\\u\\\\frame_05125.jpg'\n",
      "Skipping frame: D:/Datasets/Datasets/EPIC_Kitchen/OpticalFlow/P01_04/v\\frame_05125.jpg due to error: [Errno 2] No such file or directory: 'D:\\\\Datasets\\\\Datasets\\\\EPIC_Kitchen\\\\OpticalFlow\\\\P01_04\\\\v\\\\frame_05125.jpg'\n",
      "Skipping frame: D:/Datasets/Datasets/EPIC_Kitchen/OpticalFlow/P01_04/u\\frame_05130.jpg due to error: [Errno 2] No such file or directory: 'D:\\\\Datasets\\\\Datasets\\\\EPIC_Kitchen\\\\OpticalFlow\\\\P01_04\\\\u\\\\frame_05130.jpg'\n",
      "Skipping frame: D:/Datasets/Datasets/EPIC_Kitchen/OpticalFlow/P01_04/v\\frame_05130.jpg due to error: [Errno 2] No such file or directory: 'D:\\\\Datasets\\\\Datasets\\\\EPIC_Kitchen\\\\OpticalFlow\\\\P01_04\\\\v\\\\frame_05130.jpg'\n"
     ]
    },
    {
     "name": "stderr",
     "output_type": "stream",
     "text": [
      "Extracting Features with DEFT:  82%|██████████████████████████████████████▍        | 1031/1262 [01:11<00:12, 18.90it/s]"
     ]
    },
    {
     "name": "stdout",
     "output_type": "stream",
     "text": [
      "Skipping frame: D:/Datasets/Datasets/EPIC_Kitchen/OpticalFlow/P01_04/u\\frame_05135.jpg due to error: [Errno 2] No such file or directory: 'D:\\\\Datasets\\\\Datasets\\\\EPIC_Kitchen\\\\OpticalFlow\\\\P01_04\\\\u\\\\frame_05135.jpg'\n",
      "Skipping frame: D:/Datasets/Datasets/EPIC_Kitchen/OpticalFlow/P01_04/v\\frame_05135.jpg due to error: [Errno 2] No such file or directory: 'D:\\\\Datasets\\\\Datasets\\\\EPIC_Kitchen\\\\OpticalFlow\\\\P01_04\\\\v\\\\frame_05135.jpg'\n",
      "Skipping frame: D:/Datasets/Datasets/EPIC_Kitchen/OpticalFlow/P01_04/u\\frame_05140.jpg due to error: [Errno 2] No such file or directory: 'D:\\\\Datasets\\\\Datasets\\\\EPIC_Kitchen\\\\OpticalFlow\\\\P01_04\\\\u\\\\frame_05140.jpg'\n",
      "Skipping frame: D:/Datasets/Datasets/EPIC_Kitchen/OpticalFlow/P01_04/v\\frame_05140.jpg due to error: [Errno 2] No such file or directory: 'D:\\\\Datasets\\\\Datasets\\\\EPIC_Kitchen\\\\OpticalFlow\\\\P01_04\\\\v\\\\frame_05140.jpg'\n",
      "Skipping frame: D:/Datasets/Datasets/EPIC_Kitchen/OpticalFlow/P01_04/u\\frame_05145.jpg due to error: [Errno 2] No such file or directory: 'D:\\\\Datasets\\\\Datasets\\\\EPIC_Kitchen\\\\OpticalFlow\\\\P01_04\\\\u\\\\frame_05145.jpg'\n",
      "Skipping frame: D:/Datasets/Datasets/EPIC_Kitchen/OpticalFlow/P01_04/v\\frame_05145.jpg due to error: [Errno 2] No such file or directory: 'D:\\\\Datasets\\\\Datasets\\\\EPIC_Kitchen\\\\OpticalFlow\\\\P01_04\\\\v\\\\frame_05145.jpg'\n",
      "Skipping frame: D:/Datasets/Datasets/EPIC_Kitchen/OpticalFlow/P01_04/u\\frame_05150.jpg due to error: [Errno 2] No such file or directory: 'D:\\\\Datasets\\\\Datasets\\\\EPIC_Kitchen\\\\OpticalFlow\\\\P01_04\\\\u\\\\frame_05150.jpg'\n",
      "Skipping frame: D:/Datasets/Datasets/EPIC_Kitchen/OpticalFlow/P01_04/v\\frame_05150.jpg due to error: [Errno 2] No such file or directory: 'D:\\\\Datasets\\\\Datasets\\\\EPIC_Kitchen\\\\OpticalFlow\\\\P01_04\\\\v\\\\frame_05150.jpg'\n"
     ]
    },
    {
     "name": "stderr",
     "output_type": "stream",
     "text": [
      "\r",
      "Extracting Features with DEFT:  82%|██████████████████████████████████████▍        | 1033/1262 [01:11<00:12, 19.03it/s]"
     ]
    },
    {
     "name": "stdout",
     "output_type": "stream",
     "text": [
      "Skipping frame: D:/Datasets/Datasets/EPIC_Kitchen/OpticalFlow/P01_04/u\\frame_05155.jpg due to error: [Errno 2] No such file or directory: 'D:\\\\Datasets\\\\Datasets\\\\EPIC_Kitchen\\\\OpticalFlow\\\\P01_04\\\\u\\\\frame_05155.jpg'\n",
      "Skipping frame: D:/Datasets/Datasets/EPIC_Kitchen/OpticalFlow/P01_04/v\\frame_05155.jpg due to error: [Errno 2] No such file or directory: 'D:\\\\Datasets\\\\Datasets\\\\EPIC_Kitchen\\\\OpticalFlow\\\\P01_04\\\\v\\\\frame_05155.jpg'\n",
      "Skipping frame: D:/Datasets/Datasets/EPIC_Kitchen/OpticalFlow/P01_04/u\\frame_05160.jpg due to error: [Errno 2] No such file or directory: 'D:\\\\Datasets\\\\Datasets\\\\EPIC_Kitchen\\\\OpticalFlow\\\\P01_04\\\\u\\\\frame_05160.jpg'\n",
      "Skipping frame: D:/Datasets/Datasets/EPIC_Kitchen/OpticalFlow/P01_04/v\\frame_05160.jpg due to error: [Errno 2] No such file or directory: 'D:\\\\Datasets\\\\Datasets\\\\EPIC_Kitchen\\\\OpticalFlow\\\\P01_04\\\\v\\\\frame_05160.jpg'\n",
      "Skipping frame: D:/Datasets/Datasets/EPIC_Kitchen/OpticalFlow/P01_04/u\\frame_05165.jpg due to error: [Errno 2] No such file or directory: 'D:\\\\Datasets\\\\Datasets\\\\EPIC_Kitchen\\\\OpticalFlow\\\\P01_04\\\\u\\\\frame_05165.jpg'\n",
      "Skipping frame: D:/Datasets/Datasets/EPIC_Kitchen/OpticalFlow/P01_04/v\\frame_05165.jpg due to error: [Errno 2] No such file or directory: 'D:\\\\Datasets\\\\Datasets\\\\EPIC_Kitchen\\\\OpticalFlow\\\\P01_04\\\\v\\\\frame_05165.jpg'\n",
      "Skipping frame: D:/Datasets/Datasets/EPIC_Kitchen/OpticalFlow/P01_04/u\\frame_05170.jpg due to error: [Errno 2] No such file or directory: 'D:\\\\Datasets\\\\Datasets\\\\EPIC_Kitchen\\\\OpticalFlow\\\\P01_04\\\\u\\\\frame_05170.jpg'\n",
      "Skipping frame: D:/Datasets/Datasets/EPIC_Kitchen/OpticalFlow/P01_04/v\\frame_05170.jpg due to error: [Errno 2] No such file or directory: 'D:\\\\Datasets\\\\Datasets\\\\EPIC_Kitchen\\\\OpticalFlow\\\\P01_04\\\\v\\\\frame_05170.jpg'\n"
     ]
    },
    {
     "name": "stderr",
     "output_type": "stream",
     "text": [
      "Extracting Features with DEFT:  82%|██████████████████████████████████████▋        | 1039/1262 [01:12<00:11, 20.02it/s]"
     ]
    },
    {
     "name": "stdout",
     "output_type": "stream",
     "text": [
      "Skipping frame: D:/Datasets/Datasets/EPIC_Kitchen/OpticalFlow/P01_04/u\\frame_05175.jpg due to error: [Errno 2] No such file or directory: 'D:\\\\Datasets\\\\Datasets\\\\EPIC_Kitchen\\\\OpticalFlow\\\\P01_04\\\\u\\\\frame_05175.jpg'\n",
      "Skipping frame: D:/Datasets/Datasets/EPIC_Kitchen/OpticalFlow/P01_04/v\\frame_05175.jpg due to error: [Errno 2] No such file or directory: 'D:\\\\Datasets\\\\Datasets\\\\EPIC_Kitchen\\\\OpticalFlow\\\\P01_04\\\\v\\\\frame_05175.jpg'\n",
      "Skipping frame: D:/Datasets/Datasets/EPIC_Kitchen/OpticalFlow/P01_04/u\\frame_05180.jpg due to error: [Errno 2] No such file or directory: 'D:\\\\Datasets\\\\Datasets\\\\EPIC_Kitchen\\\\OpticalFlow\\\\P01_04\\\\u\\\\frame_05180.jpg'\n",
      "Skipping frame: D:/Datasets/Datasets/EPIC_Kitchen/OpticalFlow/P01_04/v\\frame_05180.jpg due to error: [Errno 2] No such file or directory: 'D:\\\\Datasets\\\\Datasets\\\\EPIC_Kitchen\\\\OpticalFlow\\\\P01_04\\\\v\\\\frame_05180.jpg'\n",
      "Skipping frame: D:/Datasets/Datasets/EPIC_Kitchen/OpticalFlow/P01_04/u\\frame_05185.jpg due to error: [Errno 2] No such file or directory: 'D:\\\\Datasets\\\\Datasets\\\\EPIC_Kitchen\\\\OpticalFlow\\\\P01_04\\\\u\\\\frame_05185.jpg'\n",
      "Skipping frame: D:/Datasets/Datasets/EPIC_Kitchen/OpticalFlow/P01_04/v\\frame_05185.jpg due to error: [Errno 2] No such file or directory: 'D:\\\\Datasets\\\\Datasets\\\\EPIC_Kitchen\\\\OpticalFlow\\\\P01_04\\\\v\\\\frame_05185.jpg'\n",
      "Skipping frame: D:/Datasets/Datasets/EPIC_Kitchen/OpticalFlow/P01_04/u\\frame_05190.jpg due to error: [Errno 2] No such file or directory: 'D:\\\\Datasets\\\\Datasets\\\\EPIC_Kitchen\\\\OpticalFlow\\\\P01_04\\\\u\\\\frame_05190.jpg'\n",
      "Skipping frame: D:/Datasets/Datasets/EPIC_Kitchen/OpticalFlow/P01_04/v\\frame_05190.jpg due to error: [Errno 2] No such file or directory: 'D:\\\\Datasets\\\\Datasets\\\\EPIC_Kitchen\\\\OpticalFlow\\\\P01_04\\\\v\\\\frame_05190.jpg'\n",
      "Skipping frame: D:/Datasets/Datasets/EPIC_Kitchen/OpticalFlow/P01_04/u\\frame_05195.jpg due to error: [Errno 2] No such file or directory: 'D:\\\\Datasets\\\\Datasets\\\\EPIC_Kitchen\\\\OpticalFlow\\\\P01_04\\\\u\\\\frame_05195.jpg'\n",
      "Skipping frame: D:/Datasets/Datasets/EPIC_Kitchen/OpticalFlow/P01_04/v\\frame_05195.jpg due to error: [Errno 2] No such file or directory: 'D:\\\\Datasets\\\\Datasets\\\\EPIC_Kitchen\\\\OpticalFlow\\\\P01_04\\\\v\\\\frame_05195.jpg'\n"
     ]
    },
    {
     "name": "stderr",
     "output_type": "stream",
     "text": [
      "\r",
      "Extracting Features with DEFT:  83%|██████████████████████████████████████▊        | 1042/1262 [01:12<00:11, 19.97it/s]"
     ]
    },
    {
     "name": "stdout",
     "output_type": "stream",
     "text": [
      "Skipping frame: D:/Datasets/Datasets/EPIC_Kitchen/OpticalFlow/P01_04/u\\frame_05200.jpg due to error: [Errno 2] No such file or directory: 'D:\\\\Datasets\\\\Datasets\\\\EPIC_Kitchen\\\\OpticalFlow\\\\P01_04\\\\u\\\\frame_05200.jpg'\n",
      "Skipping frame: D:/Datasets/Datasets/EPIC_Kitchen/OpticalFlow/P01_04/v\\frame_05200.jpg due to error: [Errno 2] No such file or directory: 'D:\\\\Datasets\\\\Datasets\\\\EPIC_Kitchen\\\\OpticalFlow\\\\P01_04\\\\v\\\\frame_05200.jpg'\n",
      "Skipping frame: D:/Datasets/Datasets/EPIC_Kitchen/OpticalFlow/P01_04/u\\frame_05205.jpg due to error: [Errno 2] No such file or directory: 'D:\\\\Datasets\\\\Datasets\\\\EPIC_Kitchen\\\\OpticalFlow\\\\P01_04\\\\u\\\\frame_05205.jpg'\n",
      "Skipping frame: D:/Datasets/Datasets/EPIC_Kitchen/OpticalFlow/P01_04/v\\frame_05205.jpg due to error: [Errno 2] No such file or directory: 'D:\\\\Datasets\\\\Datasets\\\\EPIC_Kitchen\\\\OpticalFlow\\\\P01_04\\\\v\\\\frame_05205.jpg'\n",
      "Skipping frame: D:/Datasets/Datasets/EPIC_Kitchen/OpticalFlow/P01_04/u\\frame_05210.jpg due to error: [Errno 2] No such file or directory: 'D:\\\\Datasets\\\\Datasets\\\\EPIC_Kitchen\\\\OpticalFlow\\\\P01_04\\\\u\\\\frame_05210.jpg'\n",
      "Skipping frame: D:/Datasets/Datasets/EPIC_Kitchen/OpticalFlow/P01_04/v\\frame_05210.jpg due to error: [Errno 2] No such file or directory: 'D:\\\\Datasets\\\\Datasets\\\\EPIC_Kitchen\\\\OpticalFlow\\\\P01_04\\\\v\\\\frame_05210.jpg'\n",
      "Skipping frame: D:/Datasets/Datasets/EPIC_Kitchen/OpticalFlow/P01_04/u\\frame_05215.jpg due to error: [Errno 2] No such file or directory: 'D:\\\\Datasets\\\\Datasets\\\\EPIC_Kitchen\\\\OpticalFlow\\\\P01_04\\\\u\\\\frame_05215.jpg'\n",
      "Skipping frame: D:/Datasets/Datasets/EPIC_Kitchen/OpticalFlow/P01_04/v\\frame_05215.jpg due to error: [Errno 2] No such file or directory: 'D:\\\\Datasets\\\\Datasets\\\\EPIC_Kitchen\\\\OpticalFlow\\\\P01_04\\\\v\\\\frame_05215.jpg'\n"
     ]
    },
    {
     "name": "stderr",
     "output_type": "stream",
     "text": [
      "Extracting Features with DEFT:  83%|███████████████████████████████████████        | 1048/1262 [01:12<00:10, 20.37it/s]"
     ]
    },
    {
     "name": "stdout",
     "output_type": "stream",
     "text": [
      "Skipping frame: D:/Datasets/Datasets/EPIC_Kitchen/OpticalFlow/P01_04/u\\frame_05220.jpg due to error: [Errno 2] No such file or directory: 'D:\\\\Datasets\\\\Datasets\\\\EPIC_Kitchen\\\\OpticalFlow\\\\P01_04\\\\u\\\\frame_05220.jpg'\n",
      "Skipping frame: D:/Datasets/Datasets/EPIC_Kitchen/OpticalFlow/P01_04/v\\frame_05220.jpg due to error: [Errno 2] No such file or directory: 'D:\\\\Datasets\\\\Datasets\\\\EPIC_Kitchen\\\\OpticalFlow\\\\P01_04\\\\v\\\\frame_05220.jpg'\n",
      "Skipping frame: D:/Datasets/Datasets/EPIC_Kitchen/OpticalFlow/P01_04/u\\frame_05225.jpg due to error: [Errno 2] No such file or directory: 'D:\\\\Datasets\\\\Datasets\\\\EPIC_Kitchen\\\\OpticalFlow\\\\P01_04\\\\u\\\\frame_05225.jpg'\n",
      "Skipping frame: D:/Datasets/Datasets/EPIC_Kitchen/OpticalFlow/P01_04/v\\frame_05225.jpg due to error: [Errno 2] No such file or directory: 'D:\\\\Datasets\\\\Datasets\\\\EPIC_Kitchen\\\\OpticalFlow\\\\P01_04\\\\v\\\\frame_05225.jpg'\n",
      "Skipping frame: D:/Datasets/Datasets/EPIC_Kitchen/OpticalFlow/P01_04/u\\frame_05230.jpg due to error: [Errno 2] No such file or directory: 'D:\\\\Datasets\\\\Datasets\\\\EPIC_Kitchen\\\\OpticalFlow\\\\P01_04\\\\u\\\\frame_05230.jpg'\n",
      "Skipping frame: D:/Datasets/Datasets/EPIC_Kitchen/OpticalFlow/P01_04/v\\frame_05230.jpg due to error: [Errno 2] No such file or directory: 'D:\\\\Datasets\\\\Datasets\\\\EPIC_Kitchen\\\\OpticalFlow\\\\P01_04\\\\v\\\\frame_05230.jpg'\n",
      "Skipping frame: D:/Datasets/Datasets/EPIC_Kitchen/OpticalFlow/P01_04/u\\frame_05235.jpg due to error: [Errno 2] No such file or directory: 'D:\\\\Datasets\\\\Datasets\\\\EPIC_Kitchen\\\\OpticalFlow\\\\P01_04\\\\u\\\\frame_05235.jpg'\n",
      "Skipping frame: D:/Datasets/Datasets/EPIC_Kitchen/OpticalFlow/P01_04/v\\frame_05235.jpg due to error: [Errno 2] No such file or directory: 'D:\\\\Datasets\\\\Datasets\\\\EPIC_Kitchen\\\\OpticalFlow\\\\P01_04\\\\v\\\\frame_05235.jpg'\n",
      "Skipping frame: D:/Datasets/Datasets/EPIC_Kitchen/OpticalFlow/P01_04/u\\frame_05240.jpg due to error: [Errno 2] No such file or directory: 'D:\\\\Datasets\\\\Datasets\\\\EPIC_Kitchen\\\\OpticalFlow\\\\P01_04\\\\u\\\\frame_05240.jpg'\n",
      "Skipping frame: D:/Datasets/Datasets/EPIC_Kitchen/OpticalFlow/P01_04/v\\frame_05240.jpg due to error: [Errno 2] No such file or directory: 'D:\\\\Datasets\\\\Datasets\\\\EPIC_Kitchen\\\\OpticalFlow\\\\P01_04\\\\v\\\\frame_05240.jpg'\n"
     ]
    },
    {
     "name": "stderr",
     "output_type": "stream",
     "text": [
      "Extracting Features with DEFT:  84%|███████████████████████████████████████▎       | 1054/1262 [01:12<00:09, 20.82it/s]"
     ]
    },
    {
     "name": "stdout",
     "output_type": "stream",
     "text": [
      "Skipping frame: D:/Datasets/Datasets/EPIC_Kitchen/OpticalFlow/P01_04/u\\frame_05245.jpg due to error: [Errno 2] No such file or directory: 'D:\\\\Datasets\\\\Datasets\\\\EPIC_Kitchen\\\\OpticalFlow\\\\P01_04\\\\u\\\\frame_05245.jpg'\n",
      "Skipping frame: D:/Datasets/Datasets/EPIC_Kitchen/OpticalFlow/P01_04/v\\frame_05245.jpg due to error: [Errno 2] No such file or directory: 'D:\\\\Datasets\\\\Datasets\\\\EPIC_Kitchen\\\\OpticalFlow\\\\P01_04\\\\v\\\\frame_05245.jpg'\n",
      "Skipping frame: D:/Datasets/Datasets/EPIC_Kitchen/OpticalFlow/P01_04/u\\frame_05250.jpg due to error: [Errno 2] No such file or directory: 'D:\\\\Datasets\\\\Datasets\\\\EPIC_Kitchen\\\\OpticalFlow\\\\P01_04\\\\u\\\\frame_05250.jpg'\n",
      "Skipping frame: D:/Datasets/Datasets/EPIC_Kitchen/OpticalFlow/P01_04/v\\frame_05250.jpg due to error: [Errno 2] No such file or directory: 'D:\\\\Datasets\\\\Datasets\\\\EPIC_Kitchen\\\\OpticalFlow\\\\P01_04\\\\v\\\\frame_05250.jpg'\n",
      "Skipping frame: D:/Datasets/Datasets/EPIC_Kitchen/OpticalFlow/P01_04/u\\frame_05255.jpg due to error: [Errno 2] No such file or directory: 'D:\\\\Datasets\\\\Datasets\\\\EPIC_Kitchen\\\\OpticalFlow\\\\P01_04\\\\u\\\\frame_05255.jpg'\n",
      "Skipping frame: D:/Datasets/Datasets/EPIC_Kitchen/OpticalFlow/P01_04/v\\frame_05255.jpg due to error: [Errno 2] No such file or directory: 'D:\\\\Datasets\\\\Datasets\\\\EPIC_Kitchen\\\\OpticalFlow\\\\P01_04\\\\v\\\\frame_05255.jpg'\n",
      "Skipping frame: D:/Datasets/Datasets/EPIC_Kitchen/OpticalFlow/P01_04/u\\frame_05260.jpg due to error: [Errno 2] No such file or directory: 'D:\\\\Datasets\\\\Datasets\\\\EPIC_Kitchen\\\\OpticalFlow\\\\P01_04\\\\u\\\\frame_05260.jpg'\n",
      "Skipping frame: D:/Datasets/Datasets/EPIC_Kitchen/OpticalFlow/P01_04/v\\frame_05260.jpg due to error: [Errno 2] No such file or directory: 'D:\\\\Datasets\\\\Datasets\\\\EPIC_Kitchen\\\\OpticalFlow\\\\P01_04\\\\v\\\\frame_05260.jpg'\n",
      "Skipping frame: D:/Datasets/Datasets/EPIC_Kitchen/OpticalFlow/P01_04/u\\frame_05265.jpg due to error: [Errno 2] No such file or directory: 'D:\\\\Datasets\\\\Datasets\\\\EPIC_Kitchen\\\\OpticalFlow\\\\P01_04\\\\u\\\\frame_05265.jpg'\n",
      "Skipping frame: D:/Datasets/Datasets/EPIC_Kitchen/OpticalFlow/P01_04/v\\frame_05265.jpg due to error: [Errno 2] No such file or directory: 'D:\\\\Datasets\\\\Datasets\\\\EPIC_Kitchen\\\\OpticalFlow\\\\P01_04\\\\v\\\\frame_05265.jpg'\n"
     ]
    },
    {
     "name": "stderr",
     "output_type": "stream",
     "text": [
      "\r",
      "Extracting Features with DEFT:  84%|███████████████████████████████████████▎       | 1057/1262 [01:12<00:09, 20.94it/s]"
     ]
    },
    {
     "name": "stdout",
     "output_type": "stream",
     "text": [
      "Skipping frame: D:/Datasets/Datasets/EPIC_Kitchen/OpticalFlow/P01_04/u\\frame_05270.jpg due to error: [Errno 2] No such file or directory: 'D:\\\\Datasets\\\\Datasets\\\\EPIC_Kitchen\\\\OpticalFlow\\\\P01_04\\\\u\\\\frame_05270.jpg'\n",
      "Skipping frame: D:/Datasets/Datasets/EPIC_Kitchen/OpticalFlow/P01_04/v\\frame_05270.jpg due to error: [Errno 2] No such file or directory: 'D:\\\\Datasets\\\\Datasets\\\\EPIC_Kitchen\\\\OpticalFlow\\\\P01_04\\\\v\\\\frame_05270.jpg'\n",
      "Skipping frame: D:/Datasets/Datasets/EPIC_Kitchen/OpticalFlow/P01_04/u\\frame_05275.jpg due to error: [Errno 2] No such file or directory: 'D:\\\\Datasets\\\\Datasets\\\\EPIC_Kitchen\\\\OpticalFlow\\\\P01_04\\\\u\\\\frame_05275.jpg'\n",
      "Skipping frame: D:/Datasets/Datasets/EPIC_Kitchen/OpticalFlow/P01_04/v\\frame_05275.jpg due to error: [Errno 2] No such file or directory: 'D:\\\\Datasets\\\\Datasets\\\\EPIC_Kitchen\\\\OpticalFlow\\\\P01_04\\\\v\\\\frame_05275.jpg'\n",
      "Skipping frame: D:/Datasets/Datasets/EPIC_Kitchen/OpticalFlow/P01_04/u\\frame_05280.jpg due to error: [Errno 2] No such file or directory: 'D:\\\\Datasets\\\\Datasets\\\\EPIC_Kitchen\\\\OpticalFlow\\\\P01_04\\\\u\\\\frame_05280.jpg'\n",
      "Skipping frame: D:/Datasets/Datasets/EPIC_Kitchen/OpticalFlow/P01_04/v\\frame_05280.jpg due to error: [Errno 2] No such file or directory: 'D:\\\\Datasets\\\\Datasets\\\\EPIC_Kitchen\\\\OpticalFlow\\\\P01_04\\\\v\\\\frame_05280.jpg'\n",
      "Skipping frame: D:/Datasets/Datasets/EPIC_Kitchen/OpticalFlow/P01_04/u\\frame_05285.jpg due to error: [Errno 2] No such file or directory: 'D:\\\\Datasets\\\\Datasets\\\\EPIC_Kitchen\\\\OpticalFlow\\\\P01_04\\\\u\\\\frame_05285.jpg'\n",
      "Skipping frame: D:/Datasets/Datasets/EPIC_Kitchen/OpticalFlow/P01_04/v\\frame_05285.jpg due to error: [Errno 2] No such file or directory: 'D:\\\\Datasets\\\\Datasets\\\\EPIC_Kitchen\\\\OpticalFlow\\\\P01_04\\\\v\\\\frame_05285.jpg'\n",
      "Skipping frame: D:/Datasets/Datasets/EPIC_Kitchen/OpticalFlow/P01_04/u\\frame_05290.jpg due to error: [Errno 2] No such file or directory: 'D:\\\\Datasets\\\\Datasets\\\\EPIC_Kitchen\\\\OpticalFlow\\\\P01_04\\\\u\\\\frame_05290.jpg'\n",
      "Skipping frame: D:/Datasets/Datasets/EPIC_Kitchen/OpticalFlow/P01_04/v\\frame_05290.jpg due to error: [Errno 2] No such file or directory: 'D:\\\\Datasets\\\\Datasets\\\\EPIC_Kitchen\\\\OpticalFlow\\\\P01_04\\\\v\\\\frame_05290.jpg'\n"
     ]
    },
    {
     "name": "stderr",
     "output_type": "stream",
     "text": [
      "Extracting Features with DEFT:  84%|███████████████████████████████████████▌       | 1063/1262 [01:13<00:09, 20.71it/s]"
     ]
    },
    {
     "name": "stdout",
     "output_type": "stream",
     "text": [
      "Skipping frame: D:/Datasets/Datasets/EPIC_Kitchen/OpticalFlow/P01_04/u\\frame_05295.jpg due to error: [Errno 2] No such file or directory: 'D:\\\\Datasets\\\\Datasets\\\\EPIC_Kitchen\\\\OpticalFlow\\\\P01_04\\\\u\\\\frame_05295.jpg'\n",
      "Skipping frame: D:/Datasets/Datasets/EPIC_Kitchen/OpticalFlow/P01_04/v\\frame_05295.jpg due to error: [Errno 2] No such file or directory: 'D:\\\\Datasets\\\\Datasets\\\\EPIC_Kitchen\\\\OpticalFlow\\\\P01_04\\\\v\\\\frame_05295.jpg'\n",
      "Skipping frame: D:/Datasets/Datasets/EPIC_Kitchen/OpticalFlow/P01_04/u\\frame_05300.jpg due to error: [Errno 2] No such file or directory: 'D:\\\\Datasets\\\\Datasets\\\\EPIC_Kitchen\\\\OpticalFlow\\\\P01_04\\\\u\\\\frame_05300.jpg'\n",
      "Skipping frame: D:/Datasets/Datasets/EPIC_Kitchen/OpticalFlow/P01_04/v\\frame_05300.jpg due to error: [Errno 2] No such file or directory: 'D:\\\\Datasets\\\\Datasets\\\\EPIC_Kitchen\\\\OpticalFlow\\\\P01_04\\\\v\\\\frame_05300.jpg'\n",
      "Skipping frame: D:/Datasets/Datasets/EPIC_Kitchen/OpticalFlow/P01_04/u\\frame_05305.jpg due to error: [Errno 2] No such file or directory: 'D:\\\\Datasets\\\\Datasets\\\\EPIC_Kitchen\\\\OpticalFlow\\\\P01_04\\\\u\\\\frame_05305.jpg'\n",
      "Skipping frame: D:/Datasets/Datasets/EPIC_Kitchen/OpticalFlow/P01_04/v\\frame_05305.jpg due to error: [Errno 2] No such file or directory: 'D:\\\\Datasets\\\\Datasets\\\\EPIC_Kitchen\\\\OpticalFlow\\\\P01_04\\\\v\\\\frame_05305.jpg'\n",
      "Skipping frame: D:/Datasets/Datasets/EPIC_Kitchen/OpticalFlow/P01_04/u\\frame_05310.jpg due to error: [Errno 2] No such file or directory: 'D:\\\\Datasets\\\\Datasets\\\\EPIC_Kitchen\\\\OpticalFlow\\\\P01_04\\\\u\\\\frame_05310.jpg'\n",
      "Skipping frame: D:/Datasets/Datasets/EPIC_Kitchen/OpticalFlow/P01_04/v\\frame_05310.jpg due to error: [Errno 2] No such file or directory: 'D:\\\\Datasets\\\\Datasets\\\\EPIC_Kitchen\\\\OpticalFlow\\\\P01_04\\\\v\\\\frame_05310.jpg'\n",
      "Skipping frame: D:/Datasets/Datasets/EPIC_Kitchen/OpticalFlow/P01_04/u\\frame_05315.jpg due to error: [Errno 2] No such file or directory: 'D:\\\\Datasets\\\\Datasets\\\\EPIC_Kitchen\\\\OpticalFlow\\\\P01_04\\\\u\\\\frame_05315.jpg'\n",
      "Skipping frame: D:/Datasets/Datasets/EPIC_Kitchen/OpticalFlow/P01_04/v\\frame_05315.jpg due to error: [Errno 2] No such file or directory: 'D:\\\\Datasets\\\\Datasets\\\\EPIC_Kitchen\\\\OpticalFlow\\\\P01_04\\\\v\\\\frame_05315.jpg'\n"
     ]
    },
    {
     "name": "stderr",
     "output_type": "stream",
     "text": [
      "Extracting Features with DEFT:  85%|███████████████████████████████████████▊       | 1069/1262 [01:13<00:09, 21.04it/s]"
     ]
    },
    {
     "name": "stdout",
     "output_type": "stream",
     "text": [
      "Skipping frame: D:/Datasets/Datasets/EPIC_Kitchen/OpticalFlow/P01_04/u\\frame_05320.jpg due to error: [Errno 2] No such file or directory: 'D:\\\\Datasets\\\\Datasets\\\\EPIC_Kitchen\\\\OpticalFlow\\\\P01_04\\\\u\\\\frame_05320.jpg'\n",
      "Skipping frame: D:/Datasets/Datasets/EPIC_Kitchen/OpticalFlow/P01_04/v\\frame_05320.jpg due to error: [Errno 2] No such file or directory: 'D:\\\\Datasets\\\\Datasets\\\\EPIC_Kitchen\\\\OpticalFlow\\\\P01_04\\\\v\\\\frame_05320.jpg'\n",
      "Skipping frame: D:/Datasets/Datasets/EPIC_Kitchen/OpticalFlow/P01_04/u\\frame_05325.jpg due to error: [Errno 2] No such file or directory: 'D:\\\\Datasets\\\\Datasets\\\\EPIC_Kitchen\\\\OpticalFlow\\\\P01_04\\\\u\\\\frame_05325.jpg'\n",
      "Skipping frame: D:/Datasets/Datasets/EPIC_Kitchen/OpticalFlow/P01_04/v\\frame_05325.jpg due to error: [Errno 2] No such file or directory: 'D:\\\\Datasets\\\\Datasets\\\\EPIC_Kitchen\\\\OpticalFlow\\\\P01_04\\\\v\\\\frame_05325.jpg'\n",
      "Skipping frame: D:/Datasets/Datasets/EPIC_Kitchen/OpticalFlow/P01_04/u\\frame_05330.jpg due to error: [Errno 2] No such file or directory: 'D:\\\\Datasets\\\\Datasets\\\\EPIC_Kitchen\\\\OpticalFlow\\\\P01_04\\\\u\\\\frame_05330.jpg'\n",
      "Skipping frame: D:/Datasets/Datasets/EPIC_Kitchen/OpticalFlow/P01_04/v\\frame_05330.jpg due to error: [Errno 2] No such file or directory: 'D:\\\\Datasets\\\\Datasets\\\\EPIC_Kitchen\\\\OpticalFlow\\\\P01_04\\\\v\\\\frame_05330.jpg'\n",
      "Skipping frame: D:/Datasets/Datasets/EPIC_Kitchen/OpticalFlow/P01_04/u\\frame_05335.jpg due to error: [Errno 2] No such file or directory: 'D:\\\\Datasets\\\\Datasets\\\\EPIC_Kitchen\\\\OpticalFlow\\\\P01_04\\\\u\\\\frame_05335.jpg'\n",
      "Skipping frame: D:/Datasets/Datasets/EPIC_Kitchen/OpticalFlow/P01_04/v\\frame_05335.jpg due to error: [Errno 2] No such file or directory: 'D:\\\\Datasets\\\\Datasets\\\\EPIC_Kitchen\\\\OpticalFlow\\\\P01_04\\\\v\\\\frame_05335.jpg'\n",
      "Skipping frame: D:/Datasets/Datasets/EPIC_Kitchen/OpticalFlow/P01_04/u\\frame_05340.jpg due to error: [Errno 2] No such file or directory: 'D:\\\\Datasets\\\\Datasets\\\\EPIC_Kitchen\\\\OpticalFlow\\\\P01_04\\\\u\\\\frame_05340.jpg'\n",
      "Skipping frame: D:/Datasets/Datasets/EPIC_Kitchen/OpticalFlow/P01_04/v\\frame_05340.jpg due to error: [Errno 2] No such file or directory: 'D:\\\\Datasets\\\\Datasets\\\\EPIC_Kitchen\\\\OpticalFlow\\\\P01_04\\\\v\\\\frame_05340.jpg'\n"
     ]
    },
    {
     "name": "stderr",
     "output_type": "stream",
     "text": [
      "\r",
      "Extracting Features with DEFT:  85%|███████████████████████████████████████▉       | 1072/1262 [01:13<00:09, 20.86it/s]"
     ]
    },
    {
     "name": "stdout",
     "output_type": "stream",
     "text": [
      "Skipping frame: D:/Datasets/Datasets/EPIC_Kitchen/OpticalFlow/P01_04/u\\frame_05345.jpg due to error: [Errno 2] No such file or directory: 'D:\\\\Datasets\\\\Datasets\\\\EPIC_Kitchen\\\\OpticalFlow\\\\P01_04\\\\u\\\\frame_05345.jpg'\n",
      "Skipping frame: D:/Datasets/Datasets/EPIC_Kitchen/OpticalFlow/P01_04/v\\frame_05345.jpg due to error: [Errno 2] No such file or directory: 'D:\\\\Datasets\\\\Datasets\\\\EPIC_Kitchen\\\\OpticalFlow\\\\P01_04\\\\v\\\\frame_05345.jpg'\n",
      "Skipping frame: D:/Datasets/Datasets/EPIC_Kitchen/OpticalFlow/P01_04/u\\frame_05350.jpg due to error: [Errno 2] No such file or directory: 'D:\\\\Datasets\\\\Datasets\\\\EPIC_Kitchen\\\\OpticalFlow\\\\P01_04\\\\u\\\\frame_05350.jpg'\n",
      "Skipping frame: D:/Datasets/Datasets/EPIC_Kitchen/OpticalFlow/P01_04/v\\frame_05350.jpg due to error: [Errno 2] No such file or directory: 'D:\\\\Datasets\\\\Datasets\\\\EPIC_Kitchen\\\\OpticalFlow\\\\P01_04\\\\v\\\\frame_05350.jpg'\n",
      "Skipping frame: D:/Datasets/Datasets/EPIC_Kitchen/OpticalFlow/P01_04/u\\frame_05355.jpg due to error: [Errno 2] No such file or directory: 'D:\\\\Datasets\\\\Datasets\\\\EPIC_Kitchen\\\\OpticalFlow\\\\P01_04\\\\u\\\\frame_05355.jpg'\n",
      "Skipping frame: D:/Datasets/Datasets/EPIC_Kitchen/OpticalFlow/P01_04/v\\frame_05355.jpg due to error: [Errno 2] No such file or directory: 'D:\\\\Datasets\\\\Datasets\\\\EPIC_Kitchen\\\\OpticalFlow\\\\P01_04\\\\v\\\\frame_05355.jpg'\n",
      "Skipping frame: D:/Datasets/Datasets/EPIC_Kitchen/OpticalFlow/P01_04/u\\frame_05360.jpg due to error: [Errno 2] No such file or directory: 'D:\\\\Datasets\\\\Datasets\\\\EPIC_Kitchen\\\\OpticalFlow\\\\P01_04\\\\u\\\\frame_05360.jpg'\n",
      "Skipping frame: D:/Datasets/Datasets/EPIC_Kitchen/OpticalFlow/P01_04/v\\frame_05360.jpg due to error: [Errno 2] No such file or directory: 'D:\\\\Datasets\\\\Datasets\\\\EPIC_Kitchen\\\\OpticalFlow\\\\P01_04\\\\v\\\\frame_05360.jpg'\n",
      "Skipping frame: D:/Datasets/Datasets/EPIC_Kitchen/OpticalFlow/P01_04/u\\frame_05365.jpg due to error: [Errno 2] No such file or directory: 'D:\\\\Datasets\\\\Datasets\\\\EPIC_Kitchen\\\\OpticalFlow\\\\P01_04\\\\u\\\\frame_05365.jpg'\n",
      "Skipping frame: D:/Datasets/Datasets/EPIC_Kitchen/OpticalFlow/P01_04/v\\frame_05365.jpg due to error: [Errno 2] No such file or directory: 'D:\\\\Datasets\\\\Datasets\\\\EPIC_Kitchen\\\\OpticalFlow\\\\P01_04\\\\v\\\\frame_05365.jpg'\n"
     ]
    },
    {
     "name": "stderr",
     "output_type": "stream",
     "text": [
      "Extracting Features with DEFT:  85%|████████████████████████████████████████▏      | 1078/1262 [01:13<00:08, 21.10it/s]"
     ]
    },
    {
     "name": "stdout",
     "output_type": "stream",
     "text": [
      "Skipping frame: D:/Datasets/Datasets/EPIC_Kitchen/OpticalFlow/P01_04/u\\frame_05370.jpg due to error: [Errno 2] No such file or directory: 'D:\\\\Datasets\\\\Datasets\\\\EPIC_Kitchen\\\\OpticalFlow\\\\P01_04\\\\u\\\\frame_05370.jpg'\n",
      "Skipping frame: D:/Datasets/Datasets/EPIC_Kitchen/OpticalFlow/P01_04/v\\frame_05370.jpg due to error: [Errno 2] No such file or directory: 'D:\\\\Datasets\\\\Datasets\\\\EPIC_Kitchen\\\\OpticalFlow\\\\P01_04\\\\v\\\\frame_05370.jpg'\n",
      "Skipping frame: D:/Datasets/Datasets/EPIC_Kitchen/OpticalFlow/P01_04/u\\frame_05375.jpg due to error: [Errno 2] No such file or directory: 'D:\\\\Datasets\\\\Datasets\\\\EPIC_Kitchen\\\\OpticalFlow\\\\P01_04\\\\u\\\\frame_05375.jpg'\n",
      "Skipping frame: D:/Datasets/Datasets/EPIC_Kitchen/OpticalFlow/P01_04/v\\frame_05375.jpg due to error: [Errno 2] No such file or directory: 'D:\\\\Datasets\\\\Datasets\\\\EPIC_Kitchen\\\\OpticalFlow\\\\P01_04\\\\v\\\\frame_05375.jpg'\n",
      "Skipping frame: D:/Datasets/Datasets/EPIC_Kitchen/OpticalFlow/P01_04/u\\frame_05380.jpg due to error: [Errno 2] No such file or directory: 'D:\\\\Datasets\\\\Datasets\\\\EPIC_Kitchen\\\\OpticalFlow\\\\P01_04\\\\u\\\\frame_05380.jpg'\n",
      "Skipping frame: D:/Datasets/Datasets/EPIC_Kitchen/OpticalFlow/P01_04/v\\frame_05380.jpg due to error: [Errno 2] No such file or directory: 'D:\\\\Datasets\\\\Datasets\\\\EPIC_Kitchen\\\\OpticalFlow\\\\P01_04\\\\v\\\\frame_05380.jpg'\n",
      "Skipping frame: D:/Datasets/Datasets/EPIC_Kitchen/OpticalFlow/P01_04/u\\frame_05385.jpg due to error: [Errno 2] No such file or directory: 'D:\\\\Datasets\\\\Datasets\\\\EPIC_Kitchen\\\\OpticalFlow\\\\P01_04\\\\u\\\\frame_05385.jpg'\n",
      "Skipping frame: D:/Datasets/Datasets/EPIC_Kitchen/OpticalFlow/P01_04/v\\frame_05385.jpg due to error: [Errno 2] No such file or directory: 'D:\\\\Datasets\\\\Datasets\\\\EPIC_Kitchen\\\\OpticalFlow\\\\P01_04\\\\v\\\\frame_05385.jpg'\n",
      "Skipping frame: D:/Datasets/Datasets/EPIC_Kitchen/OpticalFlow/P01_04/u\\frame_05390.jpg due to error: [Errno 2] No such file or directory: 'D:\\\\Datasets\\\\Datasets\\\\EPIC_Kitchen\\\\OpticalFlow\\\\P01_04\\\\u\\\\frame_05390.jpg'\n",
      "Skipping frame: D:/Datasets/Datasets/EPIC_Kitchen/OpticalFlow/P01_04/v\\frame_05390.jpg due to error: [Errno 2] No such file or directory: 'D:\\\\Datasets\\\\Datasets\\\\EPIC_Kitchen\\\\OpticalFlow\\\\P01_04\\\\v\\\\frame_05390.jpg'\n"
     ]
    },
    {
     "name": "stderr",
     "output_type": "stream",
     "text": [
      "Extracting Features with DEFT:  86%|████████████████████████████████████████▎      | 1084/1262 [01:14<00:08, 21.78it/s]"
     ]
    },
    {
     "name": "stdout",
     "output_type": "stream",
     "text": [
      "Skipping frame: D:/Datasets/Datasets/EPIC_Kitchen/OpticalFlow/P01_04/u\\frame_05395.jpg due to error: [Errno 2] No such file or directory: 'D:\\\\Datasets\\\\Datasets\\\\EPIC_Kitchen\\\\OpticalFlow\\\\P01_04\\\\u\\\\frame_05395.jpg'\n",
      "Skipping frame: D:/Datasets/Datasets/EPIC_Kitchen/OpticalFlow/P01_04/v\\frame_05395.jpg due to error: [Errno 2] No such file or directory: 'D:\\\\Datasets\\\\Datasets\\\\EPIC_Kitchen\\\\OpticalFlow\\\\P01_04\\\\v\\\\frame_05395.jpg'\n",
      "Skipping frame: D:/Datasets/Datasets/EPIC_Kitchen/OpticalFlow/P01_04/u\\frame_05400.jpg due to error: [Errno 2] No such file or directory: 'D:\\\\Datasets\\\\Datasets\\\\EPIC_Kitchen\\\\OpticalFlow\\\\P01_04\\\\u\\\\frame_05400.jpg'\n",
      "Skipping frame: D:/Datasets/Datasets/EPIC_Kitchen/OpticalFlow/P01_04/v\\frame_05400.jpg due to error: [Errno 2] No such file or directory: 'D:\\\\Datasets\\\\Datasets\\\\EPIC_Kitchen\\\\OpticalFlow\\\\P01_04\\\\v\\\\frame_05400.jpg'\n",
      "Skipping frame: D:/Datasets/Datasets/EPIC_Kitchen/OpticalFlow/P01_04/u\\frame_05405.jpg due to error: [Errno 2] No such file or directory: 'D:\\\\Datasets\\\\Datasets\\\\EPIC_Kitchen\\\\OpticalFlow\\\\P01_04\\\\u\\\\frame_05405.jpg'\n",
      "Skipping frame: D:/Datasets/Datasets/EPIC_Kitchen/OpticalFlow/P01_04/v\\frame_05405.jpg due to error: [Errno 2] No such file or directory: 'D:\\\\Datasets\\\\Datasets\\\\EPIC_Kitchen\\\\OpticalFlow\\\\P01_04\\\\v\\\\frame_05405.jpg'\n",
      "Skipping frame: D:/Datasets/Datasets/EPIC_Kitchen/OpticalFlow/P01_04/u\\frame_05410.jpg due to error: [Errno 2] No such file or directory: 'D:\\\\Datasets\\\\Datasets\\\\EPIC_Kitchen\\\\OpticalFlow\\\\P01_04\\\\u\\\\frame_05410.jpg'\n",
      "Skipping frame: D:/Datasets/Datasets/EPIC_Kitchen/OpticalFlow/P01_04/v\\frame_05410.jpg due to error: [Errno 2] No such file or directory: 'D:\\\\Datasets\\\\Datasets\\\\EPIC_Kitchen\\\\OpticalFlow\\\\P01_04\\\\v\\\\frame_05410.jpg'\n",
      "Skipping frame: D:/Datasets/Datasets/EPIC_Kitchen/OpticalFlow/P01_04/u\\frame_05415.jpg due to error: [Errno 2] No such file or directory: 'D:\\\\Datasets\\\\Datasets\\\\EPIC_Kitchen\\\\OpticalFlow\\\\P01_04\\\\u\\\\frame_05415.jpg'\n",
      "Skipping frame: D:/Datasets/Datasets/EPIC_Kitchen/OpticalFlow/P01_04/v\\frame_05415.jpg due to error: [Errno 2] No such file or directory: 'D:\\\\Datasets\\\\Datasets\\\\EPIC_Kitchen\\\\OpticalFlow\\\\P01_04\\\\v\\\\frame_05415.jpg'\n"
     ]
    },
    {
     "name": "stderr",
     "output_type": "stream",
     "text": [
      "\r",
      "Extracting Features with DEFT:  86%|████████████████████████████████████████▍      | 1087/1262 [01:14<00:07, 22.22it/s]"
     ]
    },
    {
     "name": "stdout",
     "output_type": "stream",
     "text": [
      "Skipping frame: D:/Datasets/Datasets/EPIC_Kitchen/OpticalFlow/P01_04/u\\frame_05420.jpg due to error: [Errno 2] No such file or directory: 'D:\\\\Datasets\\\\Datasets\\\\EPIC_Kitchen\\\\OpticalFlow\\\\P01_04\\\\u\\\\frame_05420.jpg'\n",
      "Skipping frame: D:/Datasets/Datasets/EPIC_Kitchen/OpticalFlow/P01_04/v\\frame_05420.jpg due to error: [Errno 2] No such file or directory: 'D:\\\\Datasets\\\\Datasets\\\\EPIC_Kitchen\\\\OpticalFlow\\\\P01_04\\\\v\\\\frame_05420.jpg'\n",
      "Skipping frame: D:/Datasets/Datasets/EPIC_Kitchen/OpticalFlow/P01_04/u\\frame_05425.jpg due to error: [Errno 2] No such file or directory: 'D:\\\\Datasets\\\\Datasets\\\\EPIC_Kitchen\\\\OpticalFlow\\\\P01_04\\\\u\\\\frame_05425.jpg'\n",
      "Skipping frame: D:/Datasets/Datasets/EPIC_Kitchen/OpticalFlow/P01_04/v\\frame_05425.jpg due to error: [Errno 2] No such file or directory: 'D:\\\\Datasets\\\\Datasets\\\\EPIC_Kitchen\\\\OpticalFlow\\\\P01_04\\\\v\\\\frame_05425.jpg'\n",
      "Skipping frame: D:/Datasets/Datasets/EPIC_Kitchen/OpticalFlow/P01_04/u\\frame_05430.jpg due to error: [Errno 2] No such file or directory: 'D:\\\\Datasets\\\\Datasets\\\\EPIC_Kitchen\\\\OpticalFlow\\\\P01_04\\\\u\\\\frame_05430.jpg'\n",
      "Skipping frame: D:/Datasets/Datasets/EPIC_Kitchen/OpticalFlow/P01_04/v\\frame_05430.jpg due to error: [Errno 2] No such file or directory: 'D:\\\\Datasets\\\\Datasets\\\\EPIC_Kitchen\\\\OpticalFlow\\\\P01_04\\\\v\\\\frame_05430.jpg'\n",
      "Skipping frame: D:/Datasets/Datasets/EPIC_Kitchen/OpticalFlow/P01_04/u\\frame_05435.jpg due to error: [Errno 2] No such file or directory: 'D:\\\\Datasets\\\\Datasets\\\\EPIC_Kitchen\\\\OpticalFlow\\\\P01_04\\\\u\\\\frame_05435.jpg'\n",
      "Skipping frame: D:/Datasets/Datasets/EPIC_Kitchen/OpticalFlow/P01_04/v\\frame_05435.jpg due to error: [Errno 2] No such file or directory: 'D:\\\\Datasets\\\\Datasets\\\\EPIC_Kitchen\\\\OpticalFlow\\\\P01_04\\\\v\\\\frame_05435.jpg'\n",
      "Skipping frame: D:/Datasets/Datasets/EPIC_Kitchen/OpticalFlow/P01_04/u\\frame_05440.jpg due to error: [Errno 2] No such file or directory: 'D:\\\\Datasets\\\\Datasets\\\\EPIC_Kitchen\\\\OpticalFlow\\\\P01_04\\\\u\\\\frame_05440.jpg'\n",
      "Skipping frame: D:/Datasets/Datasets/EPIC_Kitchen/OpticalFlow/P01_04/v\\frame_05440.jpg due to error: [Errno 2] No such file or directory: 'D:\\\\Datasets\\\\Datasets\\\\EPIC_Kitchen\\\\OpticalFlow\\\\P01_04\\\\v\\\\frame_05440.jpg'\n"
     ]
    },
    {
     "name": "stderr",
     "output_type": "stream",
     "text": [
      "Extracting Features with DEFT:  87%|████████████████████████████████████████▋      | 1093/1262 [01:14<00:07, 22.31it/s]"
     ]
    },
    {
     "name": "stdout",
     "output_type": "stream",
     "text": [
      "Skipping frame: D:/Datasets/Datasets/EPIC_Kitchen/OpticalFlow/P01_04/u\\frame_05445.jpg due to error: [Errno 2] No such file or directory: 'D:\\\\Datasets\\\\Datasets\\\\EPIC_Kitchen\\\\OpticalFlow\\\\P01_04\\\\u\\\\frame_05445.jpg'\n",
      "Skipping frame: D:/Datasets/Datasets/EPIC_Kitchen/OpticalFlow/P01_04/v\\frame_05445.jpg due to error: [Errno 2] No such file or directory: 'D:\\\\Datasets\\\\Datasets\\\\EPIC_Kitchen\\\\OpticalFlow\\\\P01_04\\\\v\\\\frame_05445.jpg'\n",
      "Skipping frame: D:/Datasets/Datasets/EPIC_Kitchen/OpticalFlow/P01_04/u\\frame_05450.jpg due to error: [Errno 2] No such file or directory: 'D:\\\\Datasets\\\\Datasets\\\\EPIC_Kitchen\\\\OpticalFlow\\\\P01_04\\\\u\\\\frame_05450.jpg'\n",
      "Skipping frame: D:/Datasets/Datasets/EPIC_Kitchen/OpticalFlow/P01_04/v\\frame_05450.jpg due to error: [Errno 2] No such file or directory: 'D:\\\\Datasets\\\\Datasets\\\\EPIC_Kitchen\\\\OpticalFlow\\\\P01_04\\\\v\\\\frame_05450.jpg'\n",
      "Skipping frame: D:/Datasets/Datasets/EPIC_Kitchen/OpticalFlow/P01_04/u\\frame_05455.jpg due to error: [Errno 2] No such file or directory: 'D:\\\\Datasets\\\\Datasets\\\\EPIC_Kitchen\\\\OpticalFlow\\\\P01_04\\\\u\\\\frame_05455.jpg'\n",
      "Skipping frame: D:/Datasets/Datasets/EPIC_Kitchen/OpticalFlow/P01_04/v\\frame_05455.jpg due to error: [Errno 2] No such file or directory: 'D:\\\\Datasets\\\\Datasets\\\\EPIC_Kitchen\\\\OpticalFlow\\\\P01_04\\\\v\\\\frame_05455.jpg'\n",
      "Skipping frame: D:/Datasets/Datasets/EPIC_Kitchen/OpticalFlow/P01_04/u\\frame_05460.jpg due to error: [Errno 2] No such file or directory: 'D:\\\\Datasets\\\\Datasets\\\\EPIC_Kitchen\\\\OpticalFlow\\\\P01_04\\\\u\\\\frame_05460.jpg'\n",
      "Skipping frame: D:/Datasets/Datasets/EPIC_Kitchen/OpticalFlow/P01_04/v\\frame_05460.jpg due to error: [Errno 2] No such file or directory: 'D:\\\\Datasets\\\\Datasets\\\\EPIC_Kitchen\\\\OpticalFlow\\\\P01_04\\\\v\\\\frame_05460.jpg'\n",
      "Skipping frame: D:/Datasets/Datasets/EPIC_Kitchen/OpticalFlow/P01_04/u\\frame_05465.jpg due to error: [Errno 2] No such file or directory: 'D:\\\\Datasets\\\\Datasets\\\\EPIC_Kitchen\\\\OpticalFlow\\\\P01_04\\\\u\\\\frame_05465.jpg'\n",
      "Skipping frame: D:/Datasets/Datasets/EPIC_Kitchen/OpticalFlow/P01_04/v\\frame_05465.jpg due to error: [Errno 2] No such file or directory: 'D:\\\\Datasets\\\\Datasets\\\\EPIC_Kitchen\\\\OpticalFlow\\\\P01_04\\\\v\\\\frame_05465.jpg'\n"
     ]
    },
    {
     "name": "stderr",
     "output_type": "stream",
     "text": [
      "Extracting Features with DEFT:  87%|████████████████████████████████████████▉      | 1099/1262 [01:14<00:07, 22.06it/s]"
     ]
    },
    {
     "name": "stdout",
     "output_type": "stream",
     "text": [
      "Skipping frame: D:/Datasets/Datasets/EPIC_Kitchen/OpticalFlow/P01_04/u\\frame_05470.jpg due to error: [Errno 2] No such file or directory: 'D:\\\\Datasets\\\\Datasets\\\\EPIC_Kitchen\\\\OpticalFlow\\\\P01_04\\\\u\\\\frame_05470.jpg'\n",
      "Skipping frame: D:/Datasets/Datasets/EPIC_Kitchen/OpticalFlow/P01_04/v\\frame_05470.jpg due to error: [Errno 2] No such file or directory: 'D:\\\\Datasets\\\\Datasets\\\\EPIC_Kitchen\\\\OpticalFlow\\\\P01_04\\\\v\\\\frame_05470.jpg'\n",
      "Skipping frame: D:/Datasets/Datasets/EPIC_Kitchen/OpticalFlow/P01_04/u\\frame_05475.jpg due to error: [Errno 2] No such file or directory: 'D:\\\\Datasets\\\\Datasets\\\\EPIC_Kitchen\\\\OpticalFlow\\\\P01_04\\\\u\\\\frame_05475.jpg'\n",
      "Skipping frame: D:/Datasets/Datasets/EPIC_Kitchen/OpticalFlow/P01_04/v\\frame_05475.jpg due to error: [Errno 2] No such file or directory: 'D:\\\\Datasets\\\\Datasets\\\\EPIC_Kitchen\\\\OpticalFlow\\\\P01_04\\\\v\\\\frame_05475.jpg'\n",
      "Skipping frame: D:/Datasets/Datasets/EPIC_Kitchen/OpticalFlow/P01_04/u\\frame_05480.jpg due to error: [Errno 2] No such file or directory: 'D:\\\\Datasets\\\\Datasets\\\\EPIC_Kitchen\\\\OpticalFlow\\\\P01_04\\\\u\\\\frame_05480.jpg'\n",
      "Skipping frame: D:/Datasets/Datasets/EPIC_Kitchen/OpticalFlow/P01_04/v\\frame_05480.jpg due to error: [Errno 2] No such file or directory: 'D:\\\\Datasets\\\\Datasets\\\\EPIC_Kitchen\\\\OpticalFlow\\\\P01_04\\\\v\\\\frame_05480.jpg'\n",
      "Skipping frame: D:/Datasets/Datasets/EPIC_Kitchen/OpticalFlow/P01_04/u\\frame_05485.jpg due to error: [Errno 2] No such file or directory: 'D:\\\\Datasets\\\\Datasets\\\\EPIC_Kitchen\\\\OpticalFlow\\\\P01_04\\\\u\\\\frame_05485.jpg'\n",
      "Skipping frame: D:/Datasets/Datasets/EPIC_Kitchen/OpticalFlow/P01_04/v\\frame_05485.jpg due to error: [Errno 2] No such file or directory: 'D:\\\\Datasets\\\\Datasets\\\\EPIC_Kitchen\\\\OpticalFlow\\\\P01_04\\\\v\\\\frame_05485.jpg'\n",
      "Skipping frame: D:/Datasets/Datasets/EPIC_Kitchen/OpticalFlow/P01_04/u\\frame_05490.jpg due to error: [Errno 2] No such file or directory: 'D:\\\\Datasets\\\\Datasets\\\\EPIC_Kitchen\\\\OpticalFlow\\\\P01_04\\\\u\\\\frame_05490.jpg'\n",
      "Skipping frame: D:/Datasets/Datasets/EPIC_Kitchen/OpticalFlow/P01_04/v\\frame_05490.jpg due to error: [Errno 2] No such file or directory: 'D:\\\\Datasets\\\\Datasets\\\\EPIC_Kitchen\\\\OpticalFlow\\\\P01_04\\\\v\\\\frame_05490.jpg'\n"
     ]
    },
    {
     "name": "stderr",
     "output_type": "stream",
     "text": [
      "\r",
      "Extracting Features with DEFT:  87%|█████████████████████████████████████████      | 1102/1262 [01:15<00:07, 20.91it/s]"
     ]
    },
    {
     "name": "stdout",
     "output_type": "stream",
     "text": [
      "Skipping frame: D:/Datasets/Datasets/EPIC_Kitchen/OpticalFlow/P01_04/u\\frame_05495.jpg due to error: [Errno 2] No such file or directory: 'D:\\\\Datasets\\\\Datasets\\\\EPIC_Kitchen\\\\OpticalFlow\\\\P01_04\\\\u\\\\frame_05495.jpg'\n",
      "Skipping frame: D:/Datasets/Datasets/EPIC_Kitchen/OpticalFlow/P01_04/v\\frame_05495.jpg due to error: [Errno 2] No such file or directory: 'D:\\\\Datasets\\\\Datasets\\\\EPIC_Kitchen\\\\OpticalFlow\\\\P01_04\\\\v\\\\frame_05495.jpg'\n",
      "Skipping frame: D:/Datasets/Datasets/EPIC_Kitchen/OpticalFlow/P01_04/u\\frame_05500.jpg due to error: [Errno 2] No such file or directory: 'D:\\\\Datasets\\\\Datasets\\\\EPIC_Kitchen\\\\OpticalFlow\\\\P01_04\\\\u\\\\frame_05500.jpg'\n",
      "Skipping frame: D:/Datasets/Datasets/EPIC_Kitchen/OpticalFlow/P01_04/v\\frame_05500.jpg due to error: [Errno 2] No such file or directory: 'D:\\\\Datasets\\\\Datasets\\\\EPIC_Kitchen\\\\OpticalFlow\\\\P01_04\\\\v\\\\frame_05500.jpg'\n",
      "Skipping frame: D:/Datasets/Datasets/EPIC_Kitchen/OpticalFlow/P01_04/u\\frame_05505.jpg due to error: [Errno 2] No such file or directory: 'D:\\\\Datasets\\\\Datasets\\\\EPIC_Kitchen\\\\OpticalFlow\\\\P01_04\\\\u\\\\frame_05505.jpg'\n",
      "Skipping frame: D:/Datasets/Datasets/EPIC_Kitchen/OpticalFlow/P01_04/v\\frame_05505.jpg due to error: [Errno 2] No such file or directory: 'D:\\\\Datasets\\\\Datasets\\\\EPIC_Kitchen\\\\OpticalFlow\\\\P01_04\\\\v\\\\frame_05505.jpg'\n",
      "Skipping frame: D:/Datasets/Datasets/EPIC_Kitchen/OpticalFlow/P01_04/u\\frame_05510.jpg due to error: [Errno 2] No such file or directory: 'D:\\\\Datasets\\\\Datasets\\\\EPIC_Kitchen\\\\OpticalFlow\\\\P01_04\\\\u\\\\frame_05510.jpg'\n",
      "Skipping frame: D:/Datasets/Datasets/EPIC_Kitchen/OpticalFlow/P01_04/v\\frame_05510.jpg due to error: [Errno 2] No such file or directory: 'D:\\\\Datasets\\\\Datasets\\\\EPIC_Kitchen\\\\OpticalFlow\\\\P01_04\\\\v\\\\frame_05510.jpg'\n",
      "Skipping frame: D:/Datasets/Datasets/EPIC_Kitchen/OpticalFlow/P01_04/u\\frame_05515.jpg due to error: [Errno 2] No such file or directory: 'D:\\\\Datasets\\\\Datasets\\\\EPIC_Kitchen\\\\OpticalFlow\\\\P01_04\\\\u\\\\frame_05515.jpg'\n",
      "Skipping frame: D:/Datasets/Datasets/EPIC_Kitchen/OpticalFlow/P01_04/v\\frame_05515.jpg due to error: [Errno 2] No such file or directory: 'D:\\\\Datasets\\\\Datasets\\\\EPIC_Kitchen\\\\OpticalFlow\\\\P01_04\\\\v\\\\frame_05515.jpg'\n"
     ]
    },
    {
     "name": "stderr",
     "output_type": "stream",
     "text": [
      "Extracting Features with DEFT:  88%|█████████████████████████████████████████▎     | 1108/1262 [01:15<00:06, 22.19it/s]"
     ]
    },
    {
     "name": "stdout",
     "output_type": "stream",
     "text": [
      "Skipping frame: D:/Datasets/Datasets/EPIC_Kitchen/OpticalFlow/P01_04/u\\frame_05520.jpg due to error: [Errno 2] No such file or directory: 'D:\\\\Datasets\\\\Datasets\\\\EPIC_Kitchen\\\\OpticalFlow\\\\P01_04\\\\u\\\\frame_05520.jpg'\n",
      "Skipping frame: D:/Datasets/Datasets/EPIC_Kitchen/OpticalFlow/P01_04/v\\frame_05520.jpg due to error: [Errno 2] No such file or directory: 'D:\\\\Datasets\\\\Datasets\\\\EPIC_Kitchen\\\\OpticalFlow\\\\P01_04\\\\v\\\\frame_05520.jpg'\n",
      "Skipping frame: D:/Datasets/Datasets/EPIC_Kitchen/OpticalFlow/P01_04/u\\frame_05525.jpg due to error: [Errno 2] No such file or directory: 'D:\\\\Datasets\\\\Datasets\\\\EPIC_Kitchen\\\\OpticalFlow\\\\P01_04\\\\u\\\\frame_05525.jpg'\n",
      "Skipping frame: D:/Datasets/Datasets/EPIC_Kitchen/OpticalFlow/P01_04/v\\frame_05525.jpg due to error: [Errno 2] No such file or directory: 'D:\\\\Datasets\\\\Datasets\\\\EPIC_Kitchen\\\\OpticalFlow\\\\P01_04\\\\v\\\\frame_05525.jpg'\n",
      "Skipping frame: D:/Datasets/Datasets/EPIC_Kitchen/OpticalFlow/P01_04/u\\frame_05530.jpg due to error: [Errno 2] No such file or directory: 'D:\\\\Datasets\\\\Datasets\\\\EPIC_Kitchen\\\\OpticalFlow\\\\P01_04\\\\u\\\\frame_05530.jpg'\n",
      "Skipping frame: D:/Datasets/Datasets/EPIC_Kitchen/OpticalFlow/P01_04/v\\frame_05530.jpg due to error: [Errno 2] No such file or directory: 'D:\\\\Datasets\\\\Datasets\\\\EPIC_Kitchen\\\\OpticalFlow\\\\P01_04\\\\v\\\\frame_05530.jpg'\n",
      "Skipping frame: D:/Datasets/Datasets/EPIC_Kitchen/OpticalFlow/P01_04/u\\frame_05535.jpg due to error: [Errno 2] No such file or directory: 'D:\\\\Datasets\\\\Datasets\\\\EPIC_Kitchen\\\\OpticalFlow\\\\P01_04\\\\u\\\\frame_05535.jpg'\n",
      "Skipping frame: D:/Datasets/Datasets/EPIC_Kitchen/OpticalFlow/P01_04/v\\frame_05535.jpg due to error: [Errno 2] No such file or directory: 'D:\\\\Datasets\\\\Datasets\\\\EPIC_Kitchen\\\\OpticalFlow\\\\P01_04\\\\v\\\\frame_05535.jpg'\n",
      "Skipping frame: D:/Datasets/Datasets/EPIC_Kitchen/OpticalFlow/P01_04/u\\frame_05540.jpg due to error: [Errno 2] No such file or directory: 'D:\\\\Datasets\\\\Datasets\\\\EPIC_Kitchen\\\\OpticalFlow\\\\P01_04\\\\u\\\\frame_05540.jpg'\n",
      "Skipping frame: D:/Datasets/Datasets/EPIC_Kitchen/OpticalFlow/P01_04/v\\frame_05540.jpg due to error: [Errno 2] No such file or directory: 'D:\\\\Datasets\\\\Datasets\\\\EPIC_Kitchen\\\\OpticalFlow\\\\P01_04\\\\v\\\\frame_05540.jpg'\n"
     ]
    },
    {
     "name": "stderr",
     "output_type": "stream",
     "text": [
      "Extracting Features with DEFT:  88%|█████████████████████████████████████████▍     | 1114/1262 [01:15<00:06, 22.00it/s]"
     ]
    },
    {
     "name": "stdout",
     "output_type": "stream",
     "text": [
      "Skipping frame: D:/Datasets/Datasets/EPIC_Kitchen/OpticalFlow/P01_04/u\\frame_05545.jpg due to error: [Errno 2] No such file or directory: 'D:\\\\Datasets\\\\Datasets\\\\EPIC_Kitchen\\\\OpticalFlow\\\\P01_04\\\\u\\\\frame_05545.jpg'\n",
      "Skipping frame: D:/Datasets/Datasets/EPIC_Kitchen/OpticalFlow/P01_04/v\\frame_05545.jpg due to error: [Errno 2] No such file or directory: 'D:\\\\Datasets\\\\Datasets\\\\EPIC_Kitchen\\\\OpticalFlow\\\\P01_04\\\\v\\\\frame_05545.jpg'\n",
      "Skipping frame: D:/Datasets/Datasets/EPIC_Kitchen/OpticalFlow/P01_04/u\\frame_05550.jpg due to error: [Errno 2] No such file or directory: 'D:\\\\Datasets\\\\Datasets\\\\EPIC_Kitchen\\\\OpticalFlow\\\\P01_04\\\\u\\\\frame_05550.jpg'\n",
      "Skipping frame: D:/Datasets/Datasets/EPIC_Kitchen/OpticalFlow/P01_04/v\\frame_05550.jpg due to error: [Errno 2] No such file or directory: 'D:\\\\Datasets\\\\Datasets\\\\EPIC_Kitchen\\\\OpticalFlow\\\\P01_04\\\\v\\\\frame_05550.jpg'\n",
      "Skipping frame: D:/Datasets/Datasets/EPIC_Kitchen/OpticalFlow/P01_04/u\\frame_05555.jpg due to error: [Errno 2] No such file or directory: 'D:\\\\Datasets\\\\Datasets\\\\EPIC_Kitchen\\\\OpticalFlow\\\\P01_04\\\\u\\\\frame_05555.jpg'\n",
      "Skipping frame: D:/Datasets/Datasets/EPIC_Kitchen/OpticalFlow/P01_04/v\\frame_05555.jpg due to error: [Errno 2] No such file or directory: 'D:\\\\Datasets\\\\Datasets\\\\EPIC_Kitchen\\\\OpticalFlow\\\\P01_04\\\\v\\\\frame_05555.jpg'\n",
      "Skipping frame: D:/Datasets/Datasets/EPIC_Kitchen/OpticalFlow/P01_04/u\\frame_05560.jpg due to error: [Errno 2] No such file or directory: 'D:\\\\Datasets\\\\Datasets\\\\EPIC_Kitchen\\\\OpticalFlow\\\\P01_04\\\\u\\\\frame_05560.jpg'\n",
      "Skipping frame: D:/Datasets/Datasets/EPIC_Kitchen/OpticalFlow/P01_04/v\\frame_05560.jpg due to error: [Errno 2] No such file or directory: 'D:\\\\Datasets\\\\Datasets\\\\EPIC_Kitchen\\\\OpticalFlow\\\\P01_04\\\\v\\\\frame_05560.jpg'\n",
      "Skipping frame: D:/Datasets/Datasets/EPIC_Kitchen/OpticalFlow/P01_04/u\\frame_05565.jpg due to error: [Errno 2] No such file or directory: 'D:\\\\Datasets\\\\Datasets\\\\EPIC_Kitchen\\\\OpticalFlow\\\\P01_04\\\\u\\\\frame_05565.jpg'\n",
      "Skipping frame: D:/Datasets/Datasets/EPIC_Kitchen/OpticalFlow/P01_04/v\\frame_05565.jpg due to error: [Errno 2] No such file or directory: 'D:\\\\Datasets\\\\Datasets\\\\EPIC_Kitchen\\\\OpticalFlow\\\\P01_04\\\\v\\\\frame_05565.jpg'\n"
     ]
    },
    {
     "name": "stderr",
     "output_type": "stream",
     "text": [
      "\r",
      "Extracting Features with DEFT:  89%|█████████████████████████████████████████▌     | 1117/1262 [01:15<00:06, 21.39it/s]"
     ]
    },
    {
     "name": "stdout",
     "output_type": "stream",
     "text": [
      "Skipping frame: D:/Datasets/Datasets/EPIC_Kitchen/OpticalFlow/P01_04/u\\frame_05570.jpg due to error: [Errno 2] No such file or directory: 'D:\\\\Datasets\\\\Datasets\\\\EPIC_Kitchen\\\\OpticalFlow\\\\P01_04\\\\u\\\\frame_05570.jpg'\n",
      "Skipping frame: D:/Datasets/Datasets/EPIC_Kitchen/OpticalFlow/P01_04/v\\frame_05570.jpg due to error: [Errno 2] No such file or directory: 'D:\\\\Datasets\\\\Datasets\\\\EPIC_Kitchen\\\\OpticalFlow\\\\P01_04\\\\v\\\\frame_05570.jpg'\n",
      "Skipping frame: D:/Datasets/Datasets/EPIC_Kitchen/OpticalFlow/P01_04/u\\frame_05575.jpg due to error: [Errno 2] No such file or directory: 'D:\\\\Datasets\\\\Datasets\\\\EPIC_Kitchen\\\\OpticalFlow\\\\P01_04\\\\u\\\\frame_05575.jpg'\n",
      "Skipping frame: D:/Datasets/Datasets/EPIC_Kitchen/OpticalFlow/P01_04/v\\frame_05575.jpg due to error: [Errno 2] No such file or directory: 'D:\\\\Datasets\\\\Datasets\\\\EPIC_Kitchen\\\\OpticalFlow\\\\P01_04\\\\v\\\\frame_05575.jpg'\n",
      "Skipping frame: D:/Datasets/Datasets/EPIC_Kitchen/OpticalFlow/P01_04/u\\frame_05580.jpg due to error: [Errno 2] No such file or directory: 'D:\\\\Datasets\\\\Datasets\\\\EPIC_Kitchen\\\\OpticalFlow\\\\P01_04\\\\u\\\\frame_05580.jpg'\n",
      "Skipping frame: D:/Datasets/Datasets/EPIC_Kitchen/OpticalFlow/P01_04/v\\frame_05580.jpg due to error: [Errno 2] No such file or directory: 'D:\\\\Datasets\\\\Datasets\\\\EPIC_Kitchen\\\\OpticalFlow\\\\P01_04\\\\v\\\\frame_05580.jpg'\n",
      "Skipping frame: D:/Datasets/Datasets/EPIC_Kitchen/OpticalFlow/P01_04/u\\frame_05585.jpg due to error: [Errno 2] No such file or directory: 'D:\\\\Datasets\\\\Datasets\\\\EPIC_Kitchen\\\\OpticalFlow\\\\P01_04\\\\u\\\\frame_05585.jpg'\n",
      "Skipping frame: D:/Datasets/Datasets/EPIC_Kitchen/OpticalFlow/P01_04/v\\frame_05585.jpg due to error: [Errno 2] No such file or directory: 'D:\\\\Datasets\\\\Datasets\\\\EPIC_Kitchen\\\\OpticalFlow\\\\P01_04\\\\v\\\\frame_05585.jpg'\n",
      "Skipping frame: D:/Datasets/Datasets/EPIC_Kitchen/OpticalFlow/P01_04/u\\frame_05590.jpg due to error: [Errno 2] No such file or directory: 'D:\\\\Datasets\\\\Datasets\\\\EPIC_Kitchen\\\\OpticalFlow\\\\P01_04\\\\u\\\\frame_05590.jpg'\n",
      "Skipping frame: D:/Datasets/Datasets/EPIC_Kitchen/OpticalFlow/P01_04/v\\frame_05590.jpg due to error: [Errno 2] No such file or directory: 'D:\\\\Datasets\\\\Datasets\\\\EPIC_Kitchen\\\\OpticalFlow\\\\P01_04\\\\v\\\\frame_05590.jpg'\n"
     ]
    },
    {
     "name": "stderr",
     "output_type": "stream",
     "text": [
      "Extracting Features with DEFT:  89%|█████████████████████████████████████████▊     | 1123/1262 [01:16<00:06, 21.23it/s]"
     ]
    },
    {
     "name": "stdout",
     "output_type": "stream",
     "text": [
      "Skipping frame: D:/Datasets/Datasets/EPIC_Kitchen/OpticalFlow/P01_04/u\\frame_05595.jpg due to error: [Errno 2] No such file or directory: 'D:\\\\Datasets\\\\Datasets\\\\EPIC_Kitchen\\\\OpticalFlow\\\\P01_04\\\\u\\\\frame_05595.jpg'\n",
      "Skipping frame: D:/Datasets/Datasets/EPIC_Kitchen/OpticalFlow/P01_04/v\\frame_05595.jpg due to error: [Errno 2] No such file or directory: 'D:\\\\Datasets\\\\Datasets\\\\EPIC_Kitchen\\\\OpticalFlow\\\\P01_04\\\\v\\\\frame_05595.jpg'\n",
      "Skipping frame: D:/Datasets/Datasets/EPIC_Kitchen/OpticalFlow/P01_04/u\\frame_05600.jpg due to error: [Errno 2] No such file or directory: 'D:\\\\Datasets\\\\Datasets\\\\EPIC_Kitchen\\\\OpticalFlow\\\\P01_04\\\\u\\\\frame_05600.jpg'\n",
      "Skipping frame: D:/Datasets/Datasets/EPIC_Kitchen/OpticalFlow/P01_04/v\\frame_05600.jpg due to error: [Errno 2] No such file or directory: 'D:\\\\Datasets\\\\Datasets\\\\EPIC_Kitchen\\\\OpticalFlow\\\\P01_04\\\\v\\\\frame_05600.jpg'\n",
      "Skipping frame: D:/Datasets/Datasets/EPIC_Kitchen/OpticalFlow/P01_04/u\\frame_05605.jpg due to error: [Errno 2] No such file or directory: 'D:\\\\Datasets\\\\Datasets\\\\EPIC_Kitchen\\\\OpticalFlow\\\\P01_04\\\\u\\\\frame_05605.jpg'\n",
      "Skipping frame: D:/Datasets/Datasets/EPIC_Kitchen/OpticalFlow/P01_04/v\\frame_05605.jpg due to error: [Errno 2] No such file or directory: 'D:\\\\Datasets\\\\Datasets\\\\EPIC_Kitchen\\\\OpticalFlow\\\\P01_04\\\\v\\\\frame_05605.jpg'\n",
      "Skipping frame: D:/Datasets/Datasets/EPIC_Kitchen/OpticalFlow/P01_04/u\\frame_05610.jpg due to error: [Errno 2] No such file or directory: 'D:\\\\Datasets\\\\Datasets\\\\EPIC_Kitchen\\\\OpticalFlow\\\\P01_04\\\\u\\\\frame_05610.jpg'\n",
      "Skipping frame: D:/Datasets/Datasets/EPIC_Kitchen/OpticalFlow/P01_04/v\\frame_05610.jpg due to error: [Errno 2] No such file or directory: 'D:\\\\Datasets\\\\Datasets\\\\EPIC_Kitchen\\\\OpticalFlow\\\\P01_04\\\\v\\\\frame_05610.jpg'\n",
      "Skipping frame: D:/Datasets/Datasets/EPIC_Kitchen/OpticalFlow/P01_04/u\\frame_05615.jpg due to error: [Errno 2] No such file or directory: 'D:\\\\Datasets\\\\Datasets\\\\EPIC_Kitchen\\\\OpticalFlow\\\\P01_04\\\\u\\\\frame_05615.jpg'\n",
      "Skipping frame: D:/Datasets/Datasets/EPIC_Kitchen/OpticalFlow/P01_04/v\\frame_05615.jpg due to error: [Errno 2] No such file or directory: 'D:\\\\Datasets\\\\Datasets\\\\EPIC_Kitchen\\\\OpticalFlow\\\\P01_04\\\\v\\\\frame_05615.jpg'\n"
     ]
    },
    {
     "name": "stderr",
     "output_type": "stream",
     "text": [
      "Extracting Features with DEFT:  89%|██████████████████████████████████████████     | 1129/1262 [01:16<00:06, 21.24it/s]"
     ]
    },
    {
     "name": "stdout",
     "output_type": "stream",
     "text": [
      "Skipping frame: D:/Datasets/Datasets/EPIC_Kitchen/OpticalFlow/P01_04/u\\frame_05620.jpg due to error: [Errno 2] No such file or directory: 'D:\\\\Datasets\\\\Datasets\\\\EPIC_Kitchen\\\\OpticalFlow\\\\P01_04\\\\u\\\\frame_05620.jpg'\n",
      "Skipping frame: D:/Datasets/Datasets/EPIC_Kitchen/OpticalFlow/P01_04/v\\frame_05620.jpg due to error: [Errno 2] No such file or directory: 'D:\\\\Datasets\\\\Datasets\\\\EPIC_Kitchen\\\\OpticalFlow\\\\P01_04\\\\v\\\\frame_05620.jpg'\n",
      "Skipping frame: D:/Datasets/Datasets/EPIC_Kitchen/OpticalFlow/P01_04/u\\frame_05625.jpg due to error: [Errno 2] No such file or directory: 'D:\\\\Datasets\\\\Datasets\\\\EPIC_Kitchen\\\\OpticalFlow\\\\P01_04\\\\u\\\\frame_05625.jpg'\n",
      "Skipping frame: D:/Datasets/Datasets/EPIC_Kitchen/OpticalFlow/P01_04/v\\frame_05625.jpg due to error: [Errno 2] No such file or directory: 'D:\\\\Datasets\\\\Datasets\\\\EPIC_Kitchen\\\\OpticalFlow\\\\P01_04\\\\v\\\\frame_05625.jpg'\n",
      "Skipping frame: D:/Datasets/Datasets/EPIC_Kitchen/OpticalFlow/P01_04/u\\frame_05630.jpg due to error: [Errno 2] No such file or directory: 'D:\\\\Datasets\\\\Datasets\\\\EPIC_Kitchen\\\\OpticalFlow\\\\P01_04\\\\u\\\\frame_05630.jpg'\n",
      "Skipping frame: D:/Datasets/Datasets/EPIC_Kitchen/OpticalFlow/P01_04/v\\frame_05630.jpg due to error: [Errno 2] No such file or directory: 'D:\\\\Datasets\\\\Datasets\\\\EPIC_Kitchen\\\\OpticalFlow\\\\P01_04\\\\v\\\\frame_05630.jpg'\n",
      "Skipping frame: D:/Datasets/Datasets/EPIC_Kitchen/OpticalFlow/P01_04/u\\frame_05635.jpg due to error: [Errno 2] No such file or directory: 'D:\\\\Datasets\\\\Datasets\\\\EPIC_Kitchen\\\\OpticalFlow\\\\P01_04\\\\u\\\\frame_05635.jpg'\n",
      "Skipping frame: D:/Datasets/Datasets/EPIC_Kitchen/OpticalFlow/P01_04/v\\frame_05635.jpg due to error: [Errno 2] No such file or directory: 'D:\\\\Datasets\\\\Datasets\\\\EPIC_Kitchen\\\\OpticalFlow\\\\P01_04\\\\v\\\\frame_05635.jpg'\n",
      "Skipping frame: D:/Datasets/Datasets/EPIC_Kitchen/OpticalFlow/P01_04/u\\frame_05640.jpg due to error: [Errno 2] No such file or directory: 'D:\\\\Datasets\\\\Datasets\\\\EPIC_Kitchen\\\\OpticalFlow\\\\P01_04\\\\u\\\\frame_05640.jpg'\n",
      "Skipping frame: D:/Datasets/Datasets/EPIC_Kitchen/OpticalFlow/P01_04/v\\frame_05640.jpg due to error: [Errno 2] No such file or directory: 'D:\\\\Datasets\\\\Datasets\\\\EPIC_Kitchen\\\\OpticalFlow\\\\P01_04\\\\v\\\\frame_05640.jpg'\n"
     ]
    },
    {
     "name": "stderr",
     "output_type": "stream",
     "text": [
      "\r",
      "Extracting Features with DEFT:  90%|██████████████████████████████████████████▏    | 1132/1262 [01:16<00:06, 21.13it/s]"
     ]
    },
    {
     "name": "stdout",
     "output_type": "stream",
     "text": [
      "Skipping frame: D:/Datasets/Datasets/EPIC_Kitchen/OpticalFlow/P01_04/u\\frame_05645.jpg due to error: [Errno 2] No such file or directory: 'D:\\\\Datasets\\\\Datasets\\\\EPIC_Kitchen\\\\OpticalFlow\\\\P01_04\\\\u\\\\frame_05645.jpg'\n",
      "Skipping frame: D:/Datasets/Datasets/EPIC_Kitchen/OpticalFlow/P01_04/v\\frame_05645.jpg due to error: [Errno 2] No such file or directory: 'D:\\\\Datasets\\\\Datasets\\\\EPIC_Kitchen\\\\OpticalFlow\\\\P01_04\\\\v\\\\frame_05645.jpg'\n",
      "Skipping frame: D:/Datasets/Datasets/EPIC_Kitchen/OpticalFlow/P01_04/u\\frame_05650.jpg due to error: [Errno 2] No such file or directory: 'D:\\\\Datasets\\\\Datasets\\\\EPIC_Kitchen\\\\OpticalFlow\\\\P01_04\\\\u\\\\frame_05650.jpg'\n",
      "Skipping frame: D:/Datasets/Datasets/EPIC_Kitchen/OpticalFlow/P01_04/v\\frame_05650.jpg due to error: [Errno 2] No such file or directory: 'D:\\\\Datasets\\\\Datasets\\\\EPIC_Kitchen\\\\OpticalFlow\\\\P01_04\\\\v\\\\frame_05650.jpg'\n",
      "Skipping frame: D:/Datasets/Datasets/EPIC_Kitchen/OpticalFlow/P01_04/u\\frame_05655.jpg due to error: [Errno 2] No such file or directory: 'D:\\\\Datasets\\\\Datasets\\\\EPIC_Kitchen\\\\OpticalFlow\\\\P01_04\\\\u\\\\frame_05655.jpg'\n",
      "Skipping frame: D:/Datasets/Datasets/EPIC_Kitchen/OpticalFlow/P01_04/v\\frame_05655.jpg due to error: [Errno 2] No such file or directory: 'D:\\\\Datasets\\\\Datasets\\\\EPIC_Kitchen\\\\OpticalFlow\\\\P01_04\\\\v\\\\frame_05655.jpg'\n",
      "Skipping frame: D:/Datasets/Datasets/EPIC_Kitchen/OpticalFlow/P01_04/u\\frame_05660.jpg due to error: [Errno 2] No such file or directory: 'D:\\\\Datasets\\\\Datasets\\\\EPIC_Kitchen\\\\OpticalFlow\\\\P01_04\\\\u\\\\frame_05660.jpg'\n",
      "Skipping frame: D:/Datasets/Datasets/EPIC_Kitchen/OpticalFlow/P01_04/v\\frame_05660.jpg due to error: [Errno 2] No such file or directory: 'D:\\\\Datasets\\\\Datasets\\\\EPIC_Kitchen\\\\OpticalFlow\\\\P01_04\\\\v\\\\frame_05660.jpg'\n",
      "Skipping frame: D:/Datasets/Datasets/EPIC_Kitchen/OpticalFlow/P01_04/u\\frame_05665.jpg due to error: [Errno 2] No such file or directory: 'D:\\\\Datasets\\\\Datasets\\\\EPIC_Kitchen\\\\OpticalFlow\\\\P01_04\\\\u\\\\frame_05665.jpg'\n"
     ]
    },
    {
     "name": "stderr",
     "output_type": "stream",
     "text": [
      "Extracting Features with DEFT:  90%|██████████████████████████████████████████▍    | 1138/1262 [01:16<00:05, 20.74it/s]"
     ]
    },
    {
     "name": "stdout",
     "output_type": "stream",
     "text": [
      "Skipping frame: D:/Datasets/Datasets/EPIC_Kitchen/OpticalFlow/P01_04/v\\frame_05665.jpg due to error: [Errno 2] No such file or directory: 'D:\\\\Datasets\\\\Datasets\\\\EPIC_Kitchen\\\\OpticalFlow\\\\P01_04\\\\v\\\\frame_05665.jpg'\n",
      "Skipping frame: D:/Datasets/Datasets/EPIC_Kitchen/OpticalFlow/P01_04/u\\frame_05670.jpg due to error: [Errno 2] No such file or directory: 'D:\\\\Datasets\\\\Datasets\\\\EPIC_Kitchen\\\\OpticalFlow\\\\P01_04\\\\u\\\\frame_05670.jpg'\n",
      "Skipping frame: D:/Datasets/Datasets/EPIC_Kitchen/OpticalFlow/P01_04/v\\frame_05670.jpg due to error: [Errno 2] No such file or directory: 'D:\\\\Datasets\\\\Datasets\\\\EPIC_Kitchen\\\\OpticalFlow\\\\P01_04\\\\v\\\\frame_05670.jpg'\n",
      "Skipping frame: D:/Datasets/Datasets/EPIC_Kitchen/OpticalFlow/P01_04/u\\frame_05675.jpg due to error: [Errno 2] No such file or directory: 'D:\\\\Datasets\\\\Datasets\\\\EPIC_Kitchen\\\\OpticalFlow\\\\P01_04\\\\u\\\\frame_05675.jpg'\n",
      "Skipping frame: D:/Datasets/Datasets/EPIC_Kitchen/OpticalFlow/P01_04/v\\frame_05675.jpg due to error: [Errno 2] No such file or directory: 'D:\\\\Datasets\\\\Datasets\\\\EPIC_Kitchen\\\\OpticalFlow\\\\P01_04\\\\v\\\\frame_05675.jpg'\n",
      "Skipping frame: D:/Datasets/Datasets/EPIC_Kitchen/OpticalFlow/P01_04/u\\frame_05680.jpg due to error: [Errno 2] No such file or directory: 'D:\\\\Datasets\\\\Datasets\\\\EPIC_Kitchen\\\\OpticalFlow\\\\P01_04\\\\u\\\\frame_05680.jpg'\n",
      "Skipping frame: D:/Datasets/Datasets/EPIC_Kitchen/OpticalFlow/P01_04/v\\frame_05680.jpg due to error: [Errno 2] No such file or directory: 'D:\\\\Datasets\\\\Datasets\\\\EPIC_Kitchen\\\\OpticalFlow\\\\P01_04\\\\v\\\\frame_05680.jpg'\n",
      "Skipping frame: D:/Datasets/Datasets/EPIC_Kitchen/OpticalFlow/P01_04/u\\frame_05685.jpg due to error: [Errno 2] No such file or directory: 'D:\\\\Datasets\\\\Datasets\\\\EPIC_Kitchen\\\\OpticalFlow\\\\P01_04\\\\u\\\\frame_05685.jpg'\n",
      "Skipping frame: D:/Datasets/Datasets/EPIC_Kitchen/OpticalFlow/P01_04/v\\frame_05685.jpg due to error: [Errno 2] No such file or directory: 'D:\\\\Datasets\\\\Datasets\\\\EPIC_Kitchen\\\\OpticalFlow\\\\P01_04\\\\v\\\\frame_05685.jpg'\n"
     ]
    },
    {
     "name": "stderr",
     "output_type": "stream",
     "text": [
      "\r",
      "Extracting Features with DEFT:  90%|██████████████████████████████████████████▍    | 1141/1262 [01:16<00:05, 20.39it/s]"
     ]
    },
    {
     "name": "stdout",
     "output_type": "stream",
     "text": [
      "Skipping frame: D:/Datasets/Datasets/EPIC_Kitchen/OpticalFlow/P01_04/u\\frame_05690.jpg due to error: [Errno 2] No such file or directory: 'D:\\\\Datasets\\\\Datasets\\\\EPIC_Kitchen\\\\OpticalFlow\\\\P01_04\\\\u\\\\frame_05690.jpg'\n",
      "Skipping frame: D:/Datasets/Datasets/EPIC_Kitchen/OpticalFlow/P01_04/v\\frame_05690.jpg due to error: [Errno 2] No such file or directory: 'D:\\\\Datasets\\\\Datasets\\\\EPIC_Kitchen\\\\OpticalFlow\\\\P01_04\\\\v\\\\frame_05690.jpg'\n",
      "Skipping frame: D:/Datasets/Datasets/EPIC_Kitchen/OpticalFlow/P01_04/u\\frame_05695.jpg due to error: [Errno 2] No such file or directory: 'D:\\\\Datasets\\\\Datasets\\\\EPIC_Kitchen\\\\OpticalFlow\\\\P01_04\\\\u\\\\frame_05695.jpg'\n",
      "Skipping frame: D:/Datasets/Datasets/EPIC_Kitchen/OpticalFlow/P01_04/v\\frame_05695.jpg due to error: [Errno 2] No such file or directory: 'D:\\\\Datasets\\\\Datasets\\\\EPIC_Kitchen\\\\OpticalFlow\\\\P01_04\\\\v\\\\frame_05695.jpg'\n",
      "Skipping frame: D:/Datasets/Datasets/EPIC_Kitchen/OpticalFlow/P01_04/u\\frame_05700.jpg due to error: [Errno 2] No such file or directory: 'D:\\\\Datasets\\\\Datasets\\\\EPIC_Kitchen\\\\OpticalFlow\\\\P01_04\\\\u\\\\frame_05700.jpg'\n",
      "Skipping frame: D:/Datasets/Datasets/EPIC_Kitchen/OpticalFlow/P01_04/v\\frame_05700.jpg due to error: [Errno 2] No such file or directory: 'D:\\\\Datasets\\\\Datasets\\\\EPIC_Kitchen\\\\OpticalFlow\\\\P01_04\\\\v\\\\frame_05700.jpg'\n",
      "Skipping frame: D:/Datasets/Datasets/EPIC_Kitchen/OpticalFlow/P01_04/u\\frame_05705.jpg due to error: [Errno 2] No such file or directory: 'D:\\\\Datasets\\\\Datasets\\\\EPIC_Kitchen\\\\OpticalFlow\\\\P01_04\\\\u\\\\frame_05705.jpg'\n",
      "Skipping frame: D:/Datasets/Datasets/EPIC_Kitchen/OpticalFlow/P01_04/v\\frame_05705.jpg due to error: [Errno 2] No such file or directory: 'D:\\\\Datasets\\\\Datasets\\\\EPIC_Kitchen\\\\OpticalFlow\\\\P01_04\\\\v\\\\frame_05705.jpg'\n"
     ]
    },
    {
     "name": "stderr",
     "output_type": "stream",
     "text": [
      "Extracting Features with DEFT:  91%|██████████████████████████████████████████▋    | 1147/1262 [01:17<00:05, 20.01it/s]"
     ]
    },
    {
     "name": "stdout",
     "output_type": "stream",
     "text": [
      "Skipping frame: D:/Datasets/Datasets/EPIC_Kitchen/OpticalFlow/P01_04/u\\frame_05710.jpg due to error: [Errno 2] No such file or directory: 'D:\\\\Datasets\\\\Datasets\\\\EPIC_Kitchen\\\\OpticalFlow\\\\P01_04\\\\u\\\\frame_05710.jpg'\n",
      "Skipping frame: D:/Datasets/Datasets/EPIC_Kitchen/OpticalFlow/P01_04/v\\frame_05710.jpg due to error: [Errno 2] No such file or directory: 'D:\\\\Datasets\\\\Datasets\\\\EPIC_Kitchen\\\\OpticalFlow\\\\P01_04\\\\v\\\\frame_05710.jpg'\n",
      "Skipping frame: D:/Datasets/Datasets/EPIC_Kitchen/OpticalFlow/P01_04/u\\frame_05715.jpg due to error: [Errno 2] No such file or directory: 'D:\\\\Datasets\\\\Datasets\\\\EPIC_Kitchen\\\\OpticalFlow\\\\P01_04\\\\u\\\\frame_05715.jpg'\n",
      "Skipping frame: D:/Datasets/Datasets/EPIC_Kitchen/OpticalFlow/P01_04/v\\frame_05715.jpg due to error: [Errno 2] No such file or directory: 'D:\\\\Datasets\\\\Datasets\\\\EPIC_Kitchen\\\\OpticalFlow\\\\P01_04\\\\v\\\\frame_05715.jpg'\n",
      "Skipping frame: D:/Datasets/Datasets/EPIC_Kitchen/OpticalFlow/P01_04/u\\frame_05720.jpg due to error: [Errno 2] No such file or directory: 'D:\\\\Datasets\\\\Datasets\\\\EPIC_Kitchen\\\\OpticalFlow\\\\P01_04\\\\u\\\\frame_05720.jpg'\n",
      "Skipping frame: D:/Datasets/Datasets/EPIC_Kitchen/OpticalFlow/P01_04/v\\frame_05720.jpg due to error: [Errno 2] No such file or directory: 'D:\\\\Datasets\\\\Datasets\\\\EPIC_Kitchen\\\\OpticalFlow\\\\P01_04\\\\v\\\\frame_05720.jpg'\n",
      "Skipping frame: D:/Datasets/Datasets/EPIC_Kitchen/OpticalFlow/P01_04/u\\frame_05725.jpg due to error: [Errno 2] No such file or directory: 'D:\\\\Datasets\\\\Datasets\\\\EPIC_Kitchen\\\\OpticalFlow\\\\P01_04\\\\u\\\\frame_05725.jpg'\n",
      "Skipping frame: D:/Datasets/Datasets/EPIC_Kitchen/OpticalFlow/P01_04/v\\frame_05725.jpg due to error: [Errno 2] No such file or directory: 'D:\\\\Datasets\\\\Datasets\\\\EPIC_Kitchen\\\\OpticalFlow\\\\P01_04\\\\v\\\\frame_05725.jpg'\n",
      "Skipping frame: D:/Datasets/Datasets/EPIC_Kitchen/OpticalFlow/P01_04/u\\frame_05730.jpg due to error: [Errno 2] No such file or directory: 'D:\\\\Datasets\\\\Datasets\\\\EPIC_Kitchen\\\\OpticalFlow\\\\P01_04\\\\u\\\\frame_05730.jpg'\n",
      "Skipping frame: D:/Datasets/Datasets/EPIC_Kitchen/OpticalFlow/P01_04/v\\frame_05730.jpg due to error: [Errno 2] No such file or directory: 'D:\\\\Datasets\\\\Datasets\\\\EPIC_Kitchen\\\\OpticalFlow\\\\P01_04\\\\v\\\\frame_05730.jpg'\n"
     ]
    },
    {
     "name": "stderr",
     "output_type": "stream",
     "text": [
      "\r",
      "Extracting Features with DEFT:  91%|██████████████████████████████████████████▊    | 1150/1262 [01:17<00:05, 20.06it/s]"
     ]
    },
    {
     "name": "stdout",
     "output_type": "stream",
     "text": [
      "Skipping frame: D:/Datasets/Datasets/EPIC_Kitchen/OpticalFlow/P01_04/u\\frame_05735.jpg due to error: [Errno 2] No such file or directory: 'D:\\\\Datasets\\\\Datasets\\\\EPIC_Kitchen\\\\OpticalFlow\\\\P01_04\\\\u\\\\frame_05735.jpg'\n",
      "Skipping frame: D:/Datasets/Datasets/EPIC_Kitchen/OpticalFlow/P01_04/v\\frame_05735.jpg due to error: [Errno 2] No such file or directory: 'D:\\\\Datasets\\\\Datasets\\\\EPIC_Kitchen\\\\OpticalFlow\\\\P01_04\\\\v\\\\frame_05735.jpg'\n",
      "Skipping frame: D:/Datasets/Datasets/EPIC_Kitchen/OpticalFlow/P01_04/u\\frame_05740.jpg due to error: [Errno 2] No such file or directory: 'D:\\\\Datasets\\\\Datasets\\\\EPIC_Kitchen\\\\OpticalFlow\\\\P01_04\\\\u\\\\frame_05740.jpg'\n",
      "Skipping frame: D:/Datasets/Datasets/EPIC_Kitchen/OpticalFlow/P01_04/v\\frame_05740.jpg due to error: [Errno 2] No such file or directory: 'D:\\\\Datasets\\\\Datasets\\\\EPIC_Kitchen\\\\OpticalFlow\\\\P01_04\\\\v\\\\frame_05740.jpg'\n",
      "Skipping frame: D:/Datasets/Datasets/EPIC_Kitchen/OpticalFlow/P01_04/u\\frame_05745.jpg due to error: [Errno 2] No such file or directory: 'D:\\\\Datasets\\\\Datasets\\\\EPIC_Kitchen\\\\OpticalFlow\\\\P01_04\\\\u\\\\frame_05745.jpg'\n",
      "Skipping frame: D:/Datasets/Datasets/EPIC_Kitchen/OpticalFlow/P01_04/v\\frame_05745.jpg due to error: [Errno 2] No such file or directory: 'D:\\\\Datasets\\\\Datasets\\\\EPIC_Kitchen\\\\OpticalFlow\\\\P01_04\\\\v\\\\frame_05745.jpg'\n",
      "Skipping frame: D:/Datasets/Datasets/EPIC_Kitchen/OpticalFlow/P01_04/u\\frame_05750.jpg due to error: [Errno 2] No such file or directory: 'D:\\\\Datasets\\\\Datasets\\\\EPIC_Kitchen\\\\OpticalFlow\\\\P01_04\\\\u\\\\frame_05750.jpg'\n",
      "Skipping frame: D:/Datasets/Datasets/EPIC_Kitchen/OpticalFlow/P01_04/v\\frame_05750.jpg due to error: [Errno 2] No such file or directory: 'D:\\\\Datasets\\\\Datasets\\\\EPIC_Kitchen\\\\OpticalFlow\\\\P01_04\\\\v\\\\frame_05750.jpg'\n",
      "Skipping frame: D:/Datasets/Datasets/EPIC_Kitchen/OpticalFlow/P01_04/u\\frame_05755.jpg due to error: [Errno 2] No such file or directory: 'D:\\\\Datasets\\\\Datasets\\\\EPIC_Kitchen\\\\OpticalFlow\\\\P01_04\\\\u\\\\frame_05755.jpg'\n",
      "Skipping frame: D:/Datasets/Datasets/EPIC_Kitchen/OpticalFlow/P01_04/v\\frame_05755.jpg due to error: [Errno 2] No such file or directory: 'D:\\\\Datasets\\\\Datasets\\\\EPIC_Kitchen\\\\OpticalFlow\\\\P01_04\\\\v\\\\frame_05755.jpg'\n"
     ]
    },
    {
     "name": "stderr",
     "output_type": "stream",
     "text": [
      "Extracting Features with DEFT:  92%|███████████████████████████████████████████    | 1156/1262 [01:17<00:05, 20.33it/s]"
     ]
    },
    {
     "name": "stdout",
     "output_type": "stream",
     "text": [
      "Skipping frame: D:/Datasets/Datasets/EPIC_Kitchen/OpticalFlow/P01_04/u\\frame_05760.jpg due to error: [Errno 2] No such file or directory: 'D:\\\\Datasets\\\\Datasets\\\\EPIC_Kitchen\\\\OpticalFlow\\\\P01_04\\\\u\\\\frame_05760.jpg'\n",
      "Skipping frame: D:/Datasets/Datasets/EPIC_Kitchen/OpticalFlow/P01_04/v\\frame_05760.jpg due to error: [Errno 2] No such file or directory: 'D:\\\\Datasets\\\\Datasets\\\\EPIC_Kitchen\\\\OpticalFlow\\\\P01_04\\\\v\\\\frame_05760.jpg'\n",
      "Skipping frame: D:/Datasets/Datasets/EPIC_Kitchen/OpticalFlow/P01_04/u\\frame_05765.jpg due to error: [Errno 2] No such file or directory: 'D:\\\\Datasets\\\\Datasets\\\\EPIC_Kitchen\\\\OpticalFlow\\\\P01_04\\\\u\\\\frame_05765.jpg'\n",
      "Skipping frame: D:/Datasets/Datasets/EPIC_Kitchen/OpticalFlow/P01_04/v\\frame_05765.jpg due to error: [Errno 2] No such file or directory: 'D:\\\\Datasets\\\\Datasets\\\\EPIC_Kitchen\\\\OpticalFlow\\\\P01_04\\\\v\\\\frame_05765.jpg'\n",
      "Skipping frame: D:/Datasets/Datasets/EPIC_Kitchen/OpticalFlow/P01_04/u\\frame_05770.jpg due to error: [Errno 2] No such file or directory: 'D:\\\\Datasets\\\\Datasets\\\\EPIC_Kitchen\\\\OpticalFlow\\\\P01_04\\\\u\\\\frame_05770.jpg'\n",
      "Skipping frame: D:/Datasets/Datasets/EPIC_Kitchen/OpticalFlow/P01_04/v\\frame_05770.jpg due to error: [Errno 2] No such file or directory: 'D:\\\\Datasets\\\\Datasets\\\\EPIC_Kitchen\\\\OpticalFlow\\\\P01_04\\\\v\\\\frame_05770.jpg'\n",
      "Skipping frame: D:/Datasets/Datasets/EPIC_Kitchen/OpticalFlow/P01_04/u\\frame_05775.jpg due to error: [Errno 2] No such file or directory: 'D:\\\\Datasets\\\\Datasets\\\\EPIC_Kitchen\\\\OpticalFlow\\\\P01_04\\\\u\\\\frame_05775.jpg'\n",
      "Skipping frame: D:/Datasets/Datasets/EPIC_Kitchen/OpticalFlow/P01_04/v\\frame_05775.jpg due to error: [Errno 2] No such file or directory: 'D:\\\\Datasets\\\\Datasets\\\\EPIC_Kitchen\\\\OpticalFlow\\\\P01_04\\\\v\\\\frame_05775.jpg'\n",
      "Skipping frame: D:/Datasets/Datasets/EPIC_Kitchen/OpticalFlow/P01_04/u\\frame_05780.jpg due to error: [Errno 2] No such file or directory: 'D:\\\\Datasets\\\\Datasets\\\\EPIC_Kitchen\\\\OpticalFlow\\\\P01_04\\\\u\\\\frame_05780.jpg'\n",
      "Skipping frame: D:/Datasets/Datasets/EPIC_Kitchen/OpticalFlow/P01_04/v\\frame_05780.jpg due to error: [Errno 2] No such file or directory: 'D:\\\\Datasets\\\\Datasets\\\\EPIC_Kitchen\\\\OpticalFlow\\\\P01_04\\\\v\\\\frame_05780.jpg'\n"
     ]
    },
    {
     "name": "stderr",
     "output_type": "stream",
     "text": [
      "\r",
      "Extracting Features with DEFT:  92%|███████████████████████████████████████████▏   | 1159/1262 [01:17<00:05, 20.20it/s]"
     ]
    },
    {
     "name": "stdout",
     "output_type": "stream",
     "text": [
      "Skipping frame: D:/Datasets/Datasets/EPIC_Kitchen/OpticalFlow/P01_04/u\\frame_05785.jpg due to error: [Errno 2] No such file or directory: 'D:\\\\Datasets\\\\Datasets\\\\EPIC_Kitchen\\\\OpticalFlow\\\\P01_04\\\\u\\\\frame_05785.jpg'\n",
      "Skipping frame: D:/Datasets/Datasets/EPIC_Kitchen/OpticalFlow/P01_04/v\\frame_05785.jpg due to error: [Errno 2] No such file or directory: 'D:\\\\Datasets\\\\Datasets\\\\EPIC_Kitchen\\\\OpticalFlow\\\\P01_04\\\\v\\\\frame_05785.jpg'\n",
      "Skipping frame: D:/Datasets/Datasets/EPIC_Kitchen/OpticalFlow/P01_04/u\\frame_05790.jpg due to error: [Errno 2] No such file or directory: 'D:\\\\Datasets\\\\Datasets\\\\EPIC_Kitchen\\\\OpticalFlow\\\\P01_04\\\\u\\\\frame_05790.jpg'\n",
      "Skipping frame: D:/Datasets/Datasets/EPIC_Kitchen/OpticalFlow/P01_04/v\\frame_05790.jpg due to error: [Errno 2] No such file or directory: 'D:\\\\Datasets\\\\Datasets\\\\EPIC_Kitchen\\\\OpticalFlow\\\\P01_04\\\\v\\\\frame_05790.jpg'\n",
      "Skipping frame: D:/Datasets/Datasets/EPIC_Kitchen/OpticalFlow/P01_04/u\\frame_05795.jpg due to error: [Errno 2] No such file or directory: 'D:\\\\Datasets\\\\Datasets\\\\EPIC_Kitchen\\\\OpticalFlow\\\\P01_04\\\\u\\\\frame_05795.jpg'\n",
      "Skipping frame: D:/Datasets/Datasets/EPIC_Kitchen/OpticalFlow/P01_04/v\\frame_05795.jpg due to error: [Errno 2] No such file or directory: 'D:\\\\Datasets\\\\Datasets\\\\EPIC_Kitchen\\\\OpticalFlow\\\\P01_04\\\\v\\\\frame_05795.jpg'\n",
      "Skipping frame: D:/Datasets/Datasets/EPIC_Kitchen/OpticalFlow/P01_04/u\\frame_05800.jpg due to error: [Errno 2] No such file or directory: 'D:\\\\Datasets\\\\Datasets\\\\EPIC_Kitchen\\\\OpticalFlow\\\\P01_04\\\\u\\\\frame_05800.jpg'\n",
      "Skipping frame: D:/Datasets/Datasets/EPIC_Kitchen/OpticalFlow/P01_04/v\\frame_05800.jpg due to error: [Errno 2] No such file or directory: 'D:\\\\Datasets\\\\Datasets\\\\EPIC_Kitchen\\\\OpticalFlow\\\\P01_04\\\\v\\\\frame_05800.jpg'\n"
     ]
    },
    {
     "name": "stderr",
     "output_type": "stream",
     "text": [
      "Extracting Features with DEFT:  92%|███████████████████████████████████████████▎   | 1164/1262 [01:18<00:05, 19.38it/s]"
     ]
    },
    {
     "name": "stdout",
     "output_type": "stream",
     "text": [
      "Skipping frame: D:/Datasets/Datasets/EPIC_Kitchen/OpticalFlow/P01_04/u\\frame_05805.jpg due to error: [Errno 2] No such file or directory: 'D:\\\\Datasets\\\\Datasets\\\\EPIC_Kitchen\\\\OpticalFlow\\\\P01_04\\\\u\\\\frame_05805.jpg'\n",
      "Skipping frame: D:/Datasets/Datasets/EPIC_Kitchen/OpticalFlow/P01_04/v\\frame_05805.jpg due to error: [Errno 2] No such file or directory: 'D:\\\\Datasets\\\\Datasets\\\\EPIC_Kitchen\\\\OpticalFlow\\\\P01_04\\\\v\\\\frame_05805.jpg'\n",
      "Skipping frame: D:/Datasets/Datasets/EPIC_Kitchen/OpticalFlow/P01_04/u\\frame_05810.jpg due to error: [Errno 2] No such file or directory: 'D:\\\\Datasets\\\\Datasets\\\\EPIC_Kitchen\\\\OpticalFlow\\\\P01_04\\\\u\\\\frame_05810.jpg'\n",
      "Skipping frame: D:/Datasets/Datasets/EPIC_Kitchen/OpticalFlow/P01_04/v\\frame_05810.jpg due to error: [Errno 2] No such file or directory: 'D:\\\\Datasets\\\\Datasets\\\\EPIC_Kitchen\\\\OpticalFlow\\\\P01_04\\\\v\\\\frame_05810.jpg'\n",
      "Skipping frame: D:/Datasets/Datasets/EPIC_Kitchen/OpticalFlow/P01_04/u\\frame_05815.jpg due to error: [Errno 2] No such file or directory: 'D:\\\\Datasets\\\\Datasets\\\\EPIC_Kitchen\\\\OpticalFlow\\\\P01_04\\\\u\\\\frame_05815.jpg'\n",
      "Skipping frame: D:/Datasets/Datasets/EPIC_Kitchen/OpticalFlow/P01_04/v\\frame_05815.jpg due to error: [Errno 2] No such file or directory: 'D:\\\\Datasets\\\\Datasets\\\\EPIC_Kitchen\\\\OpticalFlow\\\\P01_04\\\\v\\\\frame_05815.jpg'\n",
      "Skipping frame: D:/Datasets/Datasets/EPIC_Kitchen/OpticalFlow/P01_04/u\\frame_05820.jpg due to error: [Errno 2] No such file or directory: 'D:\\\\Datasets\\\\Datasets\\\\EPIC_Kitchen\\\\OpticalFlow\\\\P01_04\\\\u\\\\frame_05820.jpg'\n",
      "Skipping frame: D:/Datasets/Datasets/EPIC_Kitchen/OpticalFlow/P01_04/v\\frame_05820.jpg due to error: [Errno 2] No such file or directory: 'D:\\\\Datasets\\\\Datasets\\\\EPIC_Kitchen\\\\OpticalFlow\\\\P01_04\\\\v\\\\frame_05820.jpg'\n"
     ]
    },
    {
     "name": "stderr",
     "output_type": "stream",
     "text": [
      "Extracting Features with DEFT:  93%|███████████████████████████████████████████▌   | 1169/1262 [01:18<00:04, 19.61it/s]"
     ]
    },
    {
     "name": "stdout",
     "output_type": "stream",
     "text": [
      "Skipping frame: D:/Datasets/Datasets/EPIC_Kitchen/OpticalFlow/P01_04/u\\frame_05825.jpg due to error: [Errno 2] No such file or directory: 'D:\\\\Datasets\\\\Datasets\\\\EPIC_Kitchen\\\\OpticalFlow\\\\P01_04\\\\u\\\\frame_05825.jpg'\n",
      "Skipping frame: D:/Datasets/Datasets/EPIC_Kitchen/OpticalFlow/P01_04/v\\frame_05825.jpg due to error: [Errno 2] No such file or directory: 'D:\\\\Datasets\\\\Datasets\\\\EPIC_Kitchen\\\\OpticalFlow\\\\P01_04\\\\v\\\\frame_05825.jpg'\n",
      "Skipping frame: D:/Datasets/Datasets/EPIC_Kitchen/OpticalFlow/P01_04/u\\frame_05830.jpg due to error: [Errno 2] No such file or directory: 'D:\\\\Datasets\\\\Datasets\\\\EPIC_Kitchen\\\\OpticalFlow\\\\P01_04\\\\u\\\\frame_05830.jpg'\n",
      "Skipping frame: D:/Datasets/Datasets/EPIC_Kitchen/OpticalFlow/P01_04/v\\frame_05830.jpg due to error: [Errno 2] No such file or directory: 'D:\\\\Datasets\\\\Datasets\\\\EPIC_Kitchen\\\\OpticalFlow\\\\P01_04\\\\v\\\\frame_05830.jpg'\n",
      "Skipping frame: D:/Datasets/Datasets/EPIC_Kitchen/OpticalFlow/P01_04/u\\frame_05835.jpg due to error: [Errno 2] No such file or directory: 'D:\\\\Datasets\\\\Datasets\\\\EPIC_Kitchen\\\\OpticalFlow\\\\P01_04\\\\u\\\\frame_05835.jpg'\n",
      "Skipping frame: D:/Datasets/Datasets/EPIC_Kitchen/OpticalFlow/P01_04/v\\frame_05835.jpg due to error: [Errno 2] No such file or directory: 'D:\\\\Datasets\\\\Datasets\\\\EPIC_Kitchen\\\\OpticalFlow\\\\P01_04\\\\v\\\\frame_05835.jpg'\n",
      "Skipping frame: D:/Datasets/Datasets/EPIC_Kitchen/OpticalFlow/P01_04/u\\frame_05840.jpg due to error: [Errno 2] No such file or directory: 'D:\\\\Datasets\\\\Datasets\\\\EPIC_Kitchen\\\\OpticalFlow\\\\P01_04\\\\u\\\\frame_05840.jpg'\n",
      "Skipping frame: D:/Datasets/Datasets/EPIC_Kitchen/OpticalFlow/P01_04/v\\frame_05840.jpg due to error: [Errno 2] No such file or directory: 'D:\\\\Datasets\\\\Datasets\\\\EPIC_Kitchen\\\\OpticalFlow\\\\P01_04\\\\v\\\\frame_05840.jpg'\n",
      "Skipping frame: D:/Datasets/Datasets/EPIC_Kitchen/OpticalFlow/P01_04/u\\frame_05845.jpg due to error: [Errno 2] No such file or directory: 'D:\\\\Datasets\\\\Datasets\\\\EPIC_Kitchen\\\\OpticalFlow\\\\P01_04\\\\u\\\\frame_05845.jpg'\n",
      "Skipping frame: D:/Datasets/Datasets/EPIC_Kitchen/OpticalFlow/P01_04/v\\frame_05845.jpg due to error: [Errno 2] No such file or directory: 'D:\\\\Datasets\\\\Datasets\\\\EPIC_Kitchen\\\\OpticalFlow\\\\P01_04\\\\v\\\\frame_05845.jpg'\n"
     ]
    },
    {
     "name": "stderr",
     "output_type": "stream",
     "text": [
      "Extracting Features with DEFT:  93%|███████████████████████████████████████████▋   | 1173/1262 [01:18<00:04, 19.09it/s]"
     ]
    },
    {
     "name": "stdout",
     "output_type": "stream",
     "text": [
      "Skipping frame: D:/Datasets/Datasets/EPIC_Kitchen/OpticalFlow/P01_04/u\\frame_05850.jpg due to error: [Errno 2] No such file or directory: 'D:\\\\Datasets\\\\Datasets\\\\EPIC_Kitchen\\\\OpticalFlow\\\\P01_04\\\\u\\\\frame_05850.jpg'\n",
      "Skipping frame: D:/Datasets/Datasets/EPIC_Kitchen/OpticalFlow/P01_04/v\\frame_05850.jpg due to error: [Errno 2] No such file or directory: 'D:\\\\Datasets\\\\Datasets\\\\EPIC_Kitchen\\\\OpticalFlow\\\\P01_04\\\\v\\\\frame_05850.jpg'\n",
      "Skipping frame: D:/Datasets/Datasets/EPIC_Kitchen/OpticalFlow/P01_04/u\\frame_05855.jpg due to error: [Errno 2] No such file or directory: 'D:\\\\Datasets\\\\Datasets\\\\EPIC_Kitchen\\\\OpticalFlow\\\\P01_04\\\\u\\\\frame_05855.jpg'\n",
      "Skipping frame: D:/Datasets/Datasets/EPIC_Kitchen/OpticalFlow/P01_04/v\\frame_05855.jpg due to error: [Errno 2] No such file or directory: 'D:\\\\Datasets\\\\Datasets\\\\EPIC_Kitchen\\\\OpticalFlow\\\\P01_04\\\\v\\\\frame_05855.jpg'\n",
      "Skipping frame: D:/Datasets/Datasets/EPIC_Kitchen/OpticalFlow/P01_04/u\\frame_05860.jpg due to error: [Errno 2] No such file or directory: 'D:\\\\Datasets\\\\Datasets\\\\EPIC_Kitchen\\\\OpticalFlow\\\\P01_04\\\\u\\\\frame_05860.jpg'\n",
      "Skipping frame: D:/Datasets/Datasets/EPIC_Kitchen/OpticalFlow/P01_04/v\\frame_05860.jpg due to error: [Errno 2] No such file or directory: 'D:\\\\Datasets\\\\Datasets\\\\EPIC_Kitchen\\\\OpticalFlow\\\\P01_04\\\\v\\\\frame_05860.jpg'\n",
      "Skipping frame: D:/Datasets/Datasets/EPIC_Kitchen/OpticalFlow/P01_04/u\\frame_05865.jpg due to error: [Errno 2] No such file or directory: 'D:\\\\Datasets\\\\Datasets\\\\EPIC_Kitchen\\\\OpticalFlow\\\\P01_04\\\\u\\\\frame_05865.jpg'\n",
      "Skipping frame: D:/Datasets/Datasets/EPIC_Kitchen/OpticalFlow/P01_04/v\\frame_05865.jpg due to error: [Errno 2] No such file or directory: 'D:\\\\Datasets\\\\Datasets\\\\EPIC_Kitchen\\\\OpticalFlow\\\\P01_04\\\\v\\\\frame_05865.jpg'\n",
      "Skipping frame: D:/Datasets/Datasets/EPIC_Kitchen/OpticalFlow/P01_04/u\\frame_05870.jpg due to error: [Errno 2] No such file or directory: 'D:\\\\Datasets\\\\Datasets\\\\EPIC_Kitchen\\\\OpticalFlow\\\\P01_04\\\\u\\\\frame_05870.jpg'\n",
      "Skipping frame: D:/Datasets/Datasets/EPIC_Kitchen/OpticalFlow/P01_04/v\\frame_05870.jpg due to error: [Errno 2] No such file or directory: 'D:\\\\Datasets\\\\Datasets\\\\EPIC_Kitchen\\\\OpticalFlow\\\\P01_04\\\\v\\\\frame_05870.jpg'\n"
     ]
    },
    {
     "name": "stderr",
     "output_type": "stream",
     "text": [
      "Extracting Features with DEFT:  93%|███████████████████████████████████████████▊   | 1178/1262 [01:18<00:04, 19.46it/s]"
     ]
    },
    {
     "name": "stdout",
     "output_type": "stream",
     "text": [
      "Skipping frame: D:/Datasets/Datasets/EPIC_Kitchen/OpticalFlow/P01_04/u\\frame_05875.jpg due to error: [Errno 2] No such file or directory: 'D:\\\\Datasets\\\\Datasets\\\\EPIC_Kitchen\\\\OpticalFlow\\\\P01_04\\\\u\\\\frame_05875.jpg'\n",
      "Skipping frame: D:/Datasets/Datasets/EPIC_Kitchen/OpticalFlow/P01_04/v\\frame_05875.jpg due to error: [Errno 2] No such file or directory: 'D:\\\\Datasets\\\\Datasets\\\\EPIC_Kitchen\\\\OpticalFlow\\\\P01_04\\\\v\\\\frame_05875.jpg'\n",
      "Skipping frame: D:/Datasets/Datasets/EPIC_Kitchen/OpticalFlow/P01_04/u\\frame_05880.jpg due to error: [Errno 2] No such file or directory: 'D:\\\\Datasets\\\\Datasets\\\\EPIC_Kitchen\\\\OpticalFlow\\\\P01_04\\\\u\\\\frame_05880.jpg'\n",
      "Skipping frame: D:/Datasets/Datasets/EPIC_Kitchen/OpticalFlow/P01_04/v\\frame_05880.jpg due to error: [Errno 2] No such file or directory: 'D:\\\\Datasets\\\\Datasets\\\\EPIC_Kitchen\\\\OpticalFlow\\\\P01_04\\\\v\\\\frame_05880.jpg'\n",
      "Skipping frame: D:/Datasets/Datasets/EPIC_Kitchen/OpticalFlow/P01_04/u\\frame_05885.jpg due to error: [Errno 2] No such file or directory: 'D:\\\\Datasets\\\\Datasets\\\\EPIC_Kitchen\\\\OpticalFlow\\\\P01_04\\\\u\\\\frame_05885.jpg'\n",
      "Skipping frame: D:/Datasets/Datasets/EPIC_Kitchen/OpticalFlow/P01_04/v\\frame_05885.jpg due to error: [Errno 2] No such file or directory: 'D:\\\\Datasets\\\\Datasets\\\\EPIC_Kitchen\\\\OpticalFlow\\\\P01_04\\\\v\\\\frame_05885.jpg'\n",
      "Skipping frame: D:/Datasets/Datasets/EPIC_Kitchen/OpticalFlow/P01_04/u\\frame_05890.jpg due to error: [Errno 2] No such file or directory: 'D:\\\\Datasets\\\\Datasets\\\\EPIC_Kitchen\\\\OpticalFlow\\\\P01_04\\\\u\\\\frame_05890.jpg'\n",
      "Skipping frame: D:/Datasets/Datasets/EPIC_Kitchen/OpticalFlow/P01_04/v\\frame_05890.jpg due to error: [Errno 2] No such file or directory: 'D:\\\\Datasets\\\\Datasets\\\\EPIC_Kitchen\\\\OpticalFlow\\\\P01_04\\\\v\\\\frame_05890.jpg'\n",
      "Skipping frame: D:/Datasets/Datasets/EPIC_Kitchen/OpticalFlow/P01_04/u\\frame_05895.jpg due to error: [Errno 2] No such file or directory: 'D:\\\\Datasets\\\\Datasets\\\\EPIC_Kitchen\\\\OpticalFlow\\\\P01_04\\\\u\\\\frame_05895.jpg'\n",
      "Skipping frame: D:/Datasets/Datasets/EPIC_Kitchen/OpticalFlow/P01_04/v\\frame_05895.jpg due to error: [Errno 2] No such file or directory: 'D:\\\\Datasets\\\\Datasets\\\\EPIC_Kitchen\\\\OpticalFlow\\\\P01_04\\\\v\\\\frame_05895.jpg'\n"
     ]
    },
    {
     "name": "stderr",
     "output_type": "stream",
     "text": [
      "Extracting Features with DEFT:  94%|████████████████████████████████████████████   | 1183/1262 [01:19<00:04, 19.49it/s]"
     ]
    },
    {
     "name": "stdout",
     "output_type": "stream",
     "text": [
      "Skipping frame: D:/Datasets/Datasets/EPIC_Kitchen/OpticalFlow/P01_04/u\\frame_05900.jpg due to error: [Errno 2] No such file or directory: 'D:\\\\Datasets\\\\Datasets\\\\EPIC_Kitchen\\\\OpticalFlow\\\\P01_04\\\\u\\\\frame_05900.jpg'\n",
      "Skipping frame: D:/Datasets/Datasets/EPIC_Kitchen/OpticalFlow/P01_04/v\\frame_05900.jpg due to error: [Errno 2] No such file or directory: 'D:\\\\Datasets\\\\Datasets\\\\EPIC_Kitchen\\\\OpticalFlow\\\\P01_04\\\\v\\\\frame_05900.jpg'\n",
      "Skipping frame: D:/Datasets/Datasets/EPIC_Kitchen/OpticalFlow/P01_04/u\\frame_05905.jpg due to error: [Errno 2] No such file or directory: 'D:\\\\Datasets\\\\Datasets\\\\EPIC_Kitchen\\\\OpticalFlow\\\\P01_04\\\\u\\\\frame_05905.jpg'\n",
      "Skipping frame: D:/Datasets/Datasets/EPIC_Kitchen/OpticalFlow/P01_04/v\\frame_05905.jpg due to error: [Errno 2] No such file or directory: 'D:\\\\Datasets\\\\Datasets\\\\EPIC_Kitchen\\\\OpticalFlow\\\\P01_04\\\\v\\\\frame_05905.jpg'\n",
      "Skipping frame: D:/Datasets/Datasets/EPIC_Kitchen/OpticalFlow/P01_04/u\\frame_05910.jpg due to error: [Errno 2] No such file or directory: 'D:\\\\Datasets\\\\Datasets\\\\EPIC_Kitchen\\\\OpticalFlow\\\\P01_04\\\\u\\\\frame_05910.jpg'\n",
      "Skipping frame: D:/Datasets/Datasets/EPIC_Kitchen/OpticalFlow/P01_04/v\\frame_05910.jpg due to error: [Errno 2] No such file or directory: 'D:\\\\Datasets\\\\Datasets\\\\EPIC_Kitchen\\\\OpticalFlow\\\\P01_04\\\\v\\\\frame_05910.jpg'\n",
      "Skipping frame: D:/Datasets/Datasets/EPIC_Kitchen/OpticalFlow/P01_04/u\\frame_05915.jpg due to error: [Errno 2] No such file or directory: 'D:\\\\Datasets\\\\Datasets\\\\EPIC_Kitchen\\\\OpticalFlow\\\\P01_04\\\\u\\\\frame_05915.jpg'\n",
      "Skipping frame: D:/Datasets/Datasets/EPIC_Kitchen/OpticalFlow/P01_04/v\\frame_05915.jpg due to error: [Errno 2] No such file or directory: 'D:\\\\Datasets\\\\Datasets\\\\EPIC_Kitchen\\\\OpticalFlow\\\\P01_04\\\\v\\\\frame_05915.jpg'\n"
     ]
    },
    {
     "name": "stderr",
     "output_type": "stream",
     "text": [
      "Extracting Features with DEFT:  94%|████████████████████████████████████████████▏  | 1187/1262 [01:19<00:03, 19.55it/s]"
     ]
    },
    {
     "name": "stdout",
     "output_type": "stream",
     "text": [
      "Skipping frame: D:/Datasets/Datasets/EPIC_Kitchen/OpticalFlow/P01_04/u\\frame_05920.jpg due to error: [Errno 2] No such file or directory: 'D:\\\\Datasets\\\\Datasets\\\\EPIC_Kitchen\\\\OpticalFlow\\\\P01_04\\\\u\\\\frame_05920.jpg'\n",
      "Skipping frame: D:/Datasets/Datasets/EPIC_Kitchen/OpticalFlow/P01_04/v\\frame_05920.jpg due to error: [Errno 2] No such file or directory: 'D:\\\\Datasets\\\\Datasets\\\\EPIC_Kitchen\\\\OpticalFlow\\\\P01_04\\\\v\\\\frame_05920.jpg'\n",
      "Skipping frame: D:/Datasets/Datasets/EPIC_Kitchen/OpticalFlow/P01_04/u\\frame_05925.jpg due to error: [Errno 2] No such file or directory: 'D:\\\\Datasets\\\\Datasets\\\\EPIC_Kitchen\\\\OpticalFlow\\\\P01_04\\\\u\\\\frame_05925.jpg'\n",
      "Skipping frame: D:/Datasets/Datasets/EPIC_Kitchen/OpticalFlow/P01_04/v\\frame_05925.jpg due to error: [Errno 2] No such file or directory: 'D:\\\\Datasets\\\\Datasets\\\\EPIC_Kitchen\\\\OpticalFlow\\\\P01_04\\\\v\\\\frame_05925.jpg'\n",
      "Skipping frame: D:/Datasets/Datasets/EPIC_Kitchen/OpticalFlow/P01_04/u\\frame_05930.jpg due to error: [Errno 2] No such file or directory: 'D:\\\\Datasets\\\\Datasets\\\\EPIC_Kitchen\\\\OpticalFlow\\\\P01_04\\\\u\\\\frame_05930.jpg'\n",
      "Skipping frame: D:/Datasets/Datasets/EPIC_Kitchen/OpticalFlow/P01_04/v\\frame_05930.jpg due to error: [Errno 2] No such file or directory: 'D:\\\\Datasets\\\\Datasets\\\\EPIC_Kitchen\\\\OpticalFlow\\\\P01_04\\\\v\\\\frame_05930.jpg'\n",
      "Skipping frame: D:/Datasets/Datasets/EPIC_Kitchen/OpticalFlow/P01_04/u\\frame_05935.jpg due to error: [Errno 2] No such file or directory: 'D:\\\\Datasets\\\\Datasets\\\\EPIC_Kitchen\\\\OpticalFlow\\\\P01_04\\\\u\\\\frame_05935.jpg'\n",
      "Skipping frame: D:/Datasets/Datasets/EPIC_Kitchen/OpticalFlow/P01_04/v\\frame_05935.jpg due to error: [Errno 2] No such file or directory: 'D:\\\\Datasets\\\\Datasets\\\\EPIC_Kitchen\\\\OpticalFlow\\\\P01_04\\\\v\\\\frame_05935.jpg'\n"
     ]
    },
    {
     "name": "stderr",
     "output_type": "stream",
     "text": [
      "Extracting Features with DEFT:  94%|████████████████████████████████████████████▎  | 1191/1262 [01:19<00:03, 19.16it/s]"
     ]
    },
    {
     "name": "stdout",
     "output_type": "stream",
     "text": [
      "Skipping frame: D:/Datasets/Datasets/EPIC_Kitchen/OpticalFlow/P01_04/u\\frame_05940.jpg due to error: [Errno 2] No such file or directory: 'D:\\\\Datasets\\\\Datasets\\\\EPIC_Kitchen\\\\OpticalFlow\\\\P01_04\\\\u\\\\frame_05940.jpg'\n",
      "Skipping frame: D:/Datasets/Datasets/EPIC_Kitchen/OpticalFlow/P01_04/v\\frame_05940.jpg due to error: [Errno 2] No such file or directory: 'D:\\\\Datasets\\\\Datasets\\\\EPIC_Kitchen\\\\OpticalFlow\\\\P01_04\\\\v\\\\frame_05940.jpg'\n",
      "Skipping frame: D:/Datasets/Datasets/EPIC_Kitchen/OpticalFlow/P01_04/u\\frame_05945.jpg due to error: [Errno 2] No such file or directory: 'D:\\\\Datasets\\\\Datasets\\\\EPIC_Kitchen\\\\OpticalFlow\\\\P01_04\\\\u\\\\frame_05945.jpg'\n",
      "Skipping frame: D:/Datasets/Datasets/EPIC_Kitchen/OpticalFlow/P01_04/v\\frame_05945.jpg due to error: [Errno 2] No such file or directory: 'D:\\\\Datasets\\\\Datasets\\\\EPIC_Kitchen\\\\OpticalFlow\\\\P01_04\\\\v\\\\frame_05945.jpg'\n",
      "Skipping frame: D:/Datasets/Datasets/EPIC_Kitchen/OpticalFlow/P01_04/u\\frame_05950.jpg due to error: [Errno 2] No such file or directory: 'D:\\\\Datasets\\\\Datasets\\\\EPIC_Kitchen\\\\OpticalFlow\\\\P01_04\\\\u\\\\frame_05950.jpg'\n",
      "Skipping frame: D:/Datasets/Datasets/EPIC_Kitchen/OpticalFlow/P01_04/v\\frame_05950.jpg due to error: [Errno 2] No such file or directory: 'D:\\\\Datasets\\\\Datasets\\\\EPIC_Kitchen\\\\OpticalFlow\\\\P01_04\\\\v\\\\frame_05950.jpg'\n",
      "Skipping frame: D:/Datasets/Datasets/EPIC_Kitchen/OpticalFlow/P01_04/u\\frame_05955.jpg due to error: [Errno 2] No such file or directory: 'D:\\\\Datasets\\\\Datasets\\\\EPIC_Kitchen\\\\OpticalFlow\\\\P01_04\\\\u\\\\frame_05955.jpg'\n",
      "Skipping frame: D:/Datasets/Datasets/EPIC_Kitchen/OpticalFlow/P01_04/v\\frame_05955.jpg due to error: [Errno 2] No such file or directory: 'D:\\\\Datasets\\\\Datasets\\\\EPIC_Kitchen\\\\OpticalFlow\\\\P01_04\\\\v\\\\frame_05955.jpg'\n"
     ]
    },
    {
     "name": "stderr",
     "output_type": "stream",
     "text": [
      "Extracting Features with DEFT:  95%|████████████████████████████████████████████▌  | 1196/1262 [01:19<00:03, 19.59it/s]"
     ]
    },
    {
     "name": "stdout",
     "output_type": "stream",
     "text": [
      "Skipping frame: D:/Datasets/Datasets/EPIC_Kitchen/OpticalFlow/P01_04/u\\frame_05960.jpg due to error: [Errno 2] No such file or directory: 'D:\\\\Datasets\\\\Datasets\\\\EPIC_Kitchen\\\\OpticalFlow\\\\P01_04\\\\u\\\\frame_05960.jpg'\n",
      "Skipping frame: D:/Datasets/Datasets/EPIC_Kitchen/OpticalFlow/P01_04/v\\frame_05960.jpg due to error: [Errno 2] No such file or directory: 'D:\\\\Datasets\\\\Datasets\\\\EPIC_Kitchen\\\\OpticalFlow\\\\P01_04\\\\v\\\\frame_05960.jpg'\n",
      "Skipping frame: D:/Datasets/Datasets/EPIC_Kitchen/OpticalFlow/P01_04/u\\frame_05965.jpg due to error: [Errno 2] No such file or directory: 'D:\\\\Datasets\\\\Datasets\\\\EPIC_Kitchen\\\\OpticalFlow\\\\P01_04\\\\u\\\\frame_05965.jpg'\n",
      "Skipping frame: D:/Datasets/Datasets/EPIC_Kitchen/OpticalFlow/P01_04/v\\frame_05965.jpg due to error: [Errno 2] No such file or directory: 'D:\\\\Datasets\\\\Datasets\\\\EPIC_Kitchen\\\\OpticalFlow\\\\P01_04\\\\v\\\\frame_05965.jpg'\n",
      "Skipping frame: D:/Datasets/Datasets/EPIC_Kitchen/OpticalFlow/P01_04/u\\frame_05970.jpg due to error: [Errno 2] No such file or directory: 'D:\\\\Datasets\\\\Datasets\\\\EPIC_Kitchen\\\\OpticalFlow\\\\P01_04\\\\u\\\\frame_05970.jpg'\n",
      "Skipping frame: D:/Datasets/Datasets/EPIC_Kitchen/OpticalFlow/P01_04/v\\frame_05970.jpg due to error: [Errno 2] No such file or directory: 'D:\\\\Datasets\\\\Datasets\\\\EPIC_Kitchen\\\\OpticalFlow\\\\P01_04\\\\v\\\\frame_05970.jpg'\n",
      "Skipping frame: D:/Datasets/Datasets/EPIC_Kitchen/OpticalFlow/P01_04/u\\frame_05975.jpg due to error: [Errno 2] No such file or directory: 'D:\\\\Datasets\\\\Datasets\\\\EPIC_Kitchen\\\\OpticalFlow\\\\P01_04\\\\u\\\\frame_05975.jpg'\n",
      "Skipping frame: D:/Datasets/Datasets/EPIC_Kitchen/OpticalFlow/P01_04/v\\frame_05975.jpg due to error: [Errno 2] No such file or directory: 'D:\\\\Datasets\\\\Datasets\\\\EPIC_Kitchen\\\\OpticalFlow\\\\P01_04\\\\v\\\\frame_05975.jpg'\n",
      "Skipping frame: D:/Datasets/Datasets/EPIC_Kitchen/OpticalFlow/P01_04/u\\frame_05980.jpg due to error: [Errno 2] No such file or directory: 'D:\\\\Datasets\\\\Datasets\\\\EPIC_Kitchen\\\\OpticalFlow\\\\P01_04\\\\u\\\\frame_05980.jpg'\n",
      "Skipping frame: D:/Datasets/Datasets/EPIC_Kitchen/OpticalFlow/P01_04/v\\frame_05980.jpg due to error: [Errno 2] No such file or directory: 'D:\\\\Datasets\\\\Datasets\\\\EPIC_Kitchen\\\\OpticalFlow\\\\P01_04\\\\v\\\\frame_05980.jpg'\n"
     ]
    },
    {
     "name": "stderr",
     "output_type": "stream",
     "text": [
      "\r",
      "Extracting Features with DEFT:  95%|████████████████████████████████████████████▋  | 1199/1262 [01:19<00:03, 19.99it/s]"
     ]
    },
    {
     "name": "stdout",
     "output_type": "stream",
     "text": [
      "Skipping frame: D:/Datasets/Datasets/EPIC_Kitchen/OpticalFlow/P01_04/u\\frame_05985.jpg due to error: [Errno 2] No such file or directory: 'D:\\\\Datasets\\\\Datasets\\\\EPIC_Kitchen\\\\OpticalFlow\\\\P01_04\\\\u\\\\frame_05985.jpg'\n",
      "Skipping frame: D:/Datasets/Datasets/EPIC_Kitchen/OpticalFlow/P01_04/v\\frame_05985.jpg due to error: [Errno 2] No such file or directory: 'D:\\\\Datasets\\\\Datasets\\\\EPIC_Kitchen\\\\OpticalFlow\\\\P01_04\\\\v\\\\frame_05985.jpg'\n",
      "Skipping frame: D:/Datasets/Datasets/EPIC_Kitchen/OpticalFlow/P01_04/u\\frame_05990.jpg due to error: [Errno 2] No such file or directory: 'D:\\\\Datasets\\\\Datasets\\\\EPIC_Kitchen\\\\OpticalFlow\\\\P01_04\\\\u\\\\frame_05990.jpg'\n",
      "Skipping frame: D:/Datasets/Datasets/EPIC_Kitchen/OpticalFlow/P01_04/v\\frame_05990.jpg due to error: [Errno 2] No such file or directory: 'D:\\\\Datasets\\\\Datasets\\\\EPIC_Kitchen\\\\OpticalFlow\\\\P01_04\\\\v\\\\frame_05990.jpg'\n",
      "Skipping frame: D:/Datasets/Datasets/EPIC_Kitchen/OpticalFlow/P01_04/u\\frame_05995.jpg due to error: [Errno 2] No such file or directory: 'D:\\\\Datasets\\\\Datasets\\\\EPIC_Kitchen\\\\OpticalFlow\\\\P01_04\\\\u\\\\frame_05995.jpg'\n",
      "Skipping frame: D:/Datasets/Datasets/EPIC_Kitchen/OpticalFlow/P01_04/v\\frame_05995.jpg due to error: [Errno 2] No such file or directory: 'D:\\\\Datasets\\\\Datasets\\\\EPIC_Kitchen\\\\OpticalFlow\\\\P01_04\\\\v\\\\frame_05995.jpg'\n",
      "Skipping frame: D:/Datasets/Datasets/EPIC_Kitchen/OpticalFlow/P01_04/u\\frame_06000.jpg due to error: [Errno 2] No such file or directory: 'D:\\\\Datasets\\\\Datasets\\\\EPIC_Kitchen\\\\OpticalFlow\\\\P01_04\\\\u\\\\frame_06000.jpg'\n",
      "Skipping frame: D:/Datasets/Datasets/EPIC_Kitchen/OpticalFlow/P01_04/v\\frame_06000.jpg due to error: [Errno 2] No such file or directory: 'D:\\\\Datasets\\\\Datasets\\\\EPIC_Kitchen\\\\OpticalFlow\\\\P01_04\\\\v\\\\frame_06000.jpg'\n"
     ]
    },
    {
     "name": "stderr",
     "output_type": "stream",
     "text": [
      "Extracting Features with DEFT:  95%|████████████████████████████████████████████▊  | 1204/1262 [01:20<00:02, 19.43it/s]"
     ]
    },
    {
     "name": "stdout",
     "output_type": "stream",
     "text": [
      "Skipping frame: D:/Datasets/Datasets/EPIC_Kitchen/OpticalFlow/P01_04/u\\frame_06005.jpg due to error: [Errno 2] No such file or directory: 'D:\\\\Datasets\\\\Datasets\\\\EPIC_Kitchen\\\\OpticalFlow\\\\P01_04\\\\u\\\\frame_06005.jpg'\n",
      "Skipping frame: D:/Datasets/Datasets/EPIC_Kitchen/OpticalFlow/P01_04/v\\frame_06005.jpg due to error: [Errno 2] No such file or directory: 'D:\\\\Datasets\\\\Datasets\\\\EPIC_Kitchen\\\\OpticalFlow\\\\P01_04\\\\v\\\\frame_06005.jpg'\n",
      "Skipping frame: D:/Datasets/Datasets/EPIC_Kitchen/OpticalFlow/P01_04/u\\frame_06010.jpg due to error: [Errno 2] No such file or directory: 'D:\\\\Datasets\\\\Datasets\\\\EPIC_Kitchen\\\\OpticalFlow\\\\P01_04\\\\u\\\\frame_06010.jpg'\n",
      "Skipping frame: D:/Datasets/Datasets/EPIC_Kitchen/OpticalFlow/P01_04/v\\frame_06010.jpg due to error: [Errno 2] No such file or directory: 'D:\\\\Datasets\\\\Datasets\\\\EPIC_Kitchen\\\\OpticalFlow\\\\P01_04\\\\v\\\\frame_06010.jpg'\n",
      "Skipping frame: D:/Datasets/Datasets/EPIC_Kitchen/OpticalFlow/P01_04/u\\frame_06015.jpg due to error: [Errno 2] No such file or directory: 'D:\\\\Datasets\\\\Datasets\\\\EPIC_Kitchen\\\\OpticalFlow\\\\P01_04\\\\u\\\\frame_06015.jpg'\n",
      "Skipping frame: D:/Datasets/Datasets/EPIC_Kitchen/OpticalFlow/P01_04/v\\frame_06015.jpg due to error: [Errno 2] No such file or directory: 'D:\\\\Datasets\\\\Datasets\\\\EPIC_Kitchen\\\\OpticalFlow\\\\P01_04\\\\v\\\\frame_06015.jpg'\n",
      "Skipping frame: D:/Datasets/Datasets/EPIC_Kitchen/OpticalFlow/P01_04/u\\frame_06020.jpg due to error: [Errno 2] No such file or directory: 'D:\\\\Datasets\\\\Datasets\\\\EPIC_Kitchen\\\\OpticalFlow\\\\P01_04\\\\u\\\\frame_06020.jpg'\n",
      "Skipping frame: D:/Datasets/Datasets/EPIC_Kitchen/OpticalFlow/P01_04/v\\frame_06020.jpg due to error: [Errno 2] No such file or directory: 'D:\\\\Datasets\\\\Datasets\\\\EPIC_Kitchen\\\\OpticalFlow\\\\P01_04\\\\v\\\\frame_06020.jpg'\n",
      "Skipping frame: D:/Datasets/Datasets/EPIC_Kitchen/OpticalFlow/P01_04/u\\frame_06025.jpg due to error: [Errno 2] No such file or directory: 'D:\\\\Datasets\\\\Datasets\\\\EPIC_Kitchen\\\\OpticalFlow\\\\P01_04\\\\u\\\\frame_06025.jpg'\n",
      "Skipping frame: D:/Datasets/Datasets/EPIC_Kitchen/OpticalFlow/P01_04/v\\frame_06025.jpg due to error: [Errno 2] No such file or directory: 'D:\\\\Datasets\\\\Datasets\\\\EPIC_Kitchen\\\\OpticalFlow\\\\P01_04\\\\v\\\\frame_06025.jpg'\n"
     ]
    },
    {
     "name": "stderr",
     "output_type": "stream",
     "text": [
      "Extracting Features with DEFT:  96%|█████████████████████████████████████████████  | 1210/1262 [01:20<00:02, 20.20it/s]"
     ]
    },
    {
     "name": "stdout",
     "output_type": "stream",
     "text": [
      "Skipping frame: D:/Datasets/Datasets/EPIC_Kitchen/OpticalFlow/P01_04/u\\frame_06030.jpg due to error: [Errno 2] No such file or directory: 'D:\\\\Datasets\\\\Datasets\\\\EPIC_Kitchen\\\\OpticalFlow\\\\P01_04\\\\u\\\\frame_06030.jpg'\n",
      "Skipping frame: D:/Datasets/Datasets/EPIC_Kitchen/OpticalFlow/P01_04/v\\frame_06030.jpg due to error: [Errno 2] No such file or directory: 'D:\\\\Datasets\\\\Datasets\\\\EPIC_Kitchen\\\\OpticalFlow\\\\P01_04\\\\v\\\\frame_06030.jpg'\n",
      "Skipping frame: D:/Datasets/Datasets/EPIC_Kitchen/OpticalFlow/P01_04/u\\frame_06035.jpg due to error: [Errno 2] No such file or directory: 'D:\\\\Datasets\\\\Datasets\\\\EPIC_Kitchen\\\\OpticalFlow\\\\P01_04\\\\u\\\\frame_06035.jpg'\n",
      "Skipping frame: D:/Datasets/Datasets/EPIC_Kitchen/OpticalFlow/P01_04/v\\frame_06035.jpg due to error: [Errno 2] No such file or directory: 'D:\\\\Datasets\\\\Datasets\\\\EPIC_Kitchen\\\\OpticalFlow\\\\P01_04\\\\v\\\\frame_06035.jpg'\n",
      "Skipping frame: D:/Datasets/Datasets/EPIC_Kitchen/OpticalFlow/P01_04/u\\frame_06040.jpg due to error: [Errno 2] No such file or directory: 'D:\\\\Datasets\\\\Datasets\\\\EPIC_Kitchen\\\\OpticalFlow\\\\P01_04\\\\u\\\\frame_06040.jpg'\n",
      "Skipping frame: D:/Datasets/Datasets/EPIC_Kitchen/OpticalFlow/P01_04/v\\frame_06040.jpg due to error: [Errno 2] No such file or directory: 'D:\\\\Datasets\\\\Datasets\\\\EPIC_Kitchen\\\\OpticalFlow\\\\P01_04\\\\v\\\\frame_06040.jpg'\n",
      "Skipping frame: D:/Datasets/Datasets/EPIC_Kitchen/OpticalFlow/P01_04/u\\frame_06045.jpg due to error: [Errno 2] No such file or directory: 'D:\\\\Datasets\\\\Datasets\\\\EPIC_Kitchen\\\\OpticalFlow\\\\P01_04\\\\u\\\\frame_06045.jpg'\n",
      "Skipping frame: D:/Datasets/Datasets/EPIC_Kitchen/OpticalFlow/P01_04/v\\frame_06045.jpg due to error: [Errno 2] No such file or directory: 'D:\\\\Datasets\\\\Datasets\\\\EPIC_Kitchen\\\\OpticalFlow\\\\P01_04\\\\v\\\\frame_06045.jpg'\n",
      "Skipping frame: D:/Datasets/Datasets/EPIC_Kitchen/OpticalFlow/P01_04/u\\frame_06050.jpg due to error: [Errno 2] No such file or directory: 'D:\\\\Datasets\\\\Datasets\\\\EPIC_Kitchen\\\\OpticalFlow\\\\P01_04\\\\u\\\\frame_06050.jpg'\n",
      "Skipping frame: D:/Datasets/Datasets/EPIC_Kitchen/OpticalFlow/P01_04/v\\frame_06050.jpg due to error: [Errno 2] No such file or directory: 'D:\\\\Datasets\\\\Datasets\\\\EPIC_Kitchen\\\\OpticalFlow\\\\P01_04\\\\v\\\\frame_06050.jpg'\n"
     ]
    },
    {
     "name": "stderr",
     "output_type": "stream",
     "text": [
      "Extracting Features with DEFT:  96%|█████████████████████████████████████████████▎ | 1216/1262 [01:20<00:02, 20.34it/s]"
     ]
    },
    {
     "name": "stdout",
     "output_type": "stream",
     "text": [
      "Skipping frame: D:/Datasets/Datasets/EPIC_Kitchen/OpticalFlow/P01_04/u\\frame_06055.jpg due to error: [Errno 2] No such file or directory: 'D:\\\\Datasets\\\\Datasets\\\\EPIC_Kitchen\\\\OpticalFlow\\\\P01_04\\\\u\\\\frame_06055.jpg'\n",
      "Skipping frame: D:/Datasets/Datasets/EPIC_Kitchen/OpticalFlow/P01_04/v\\frame_06055.jpg due to error: [Errno 2] No such file or directory: 'D:\\\\Datasets\\\\Datasets\\\\EPIC_Kitchen\\\\OpticalFlow\\\\P01_04\\\\v\\\\frame_06055.jpg'\n",
      "Skipping frame: D:/Datasets/Datasets/EPIC_Kitchen/OpticalFlow/P01_04/u\\frame_06060.jpg due to error: [Errno 2] No such file or directory: 'D:\\\\Datasets\\\\Datasets\\\\EPIC_Kitchen\\\\OpticalFlow\\\\P01_04\\\\u\\\\frame_06060.jpg'\n",
      "Skipping frame: D:/Datasets/Datasets/EPIC_Kitchen/OpticalFlow/P01_04/v\\frame_06060.jpg due to error: [Errno 2] No such file or directory: 'D:\\\\Datasets\\\\Datasets\\\\EPIC_Kitchen\\\\OpticalFlow\\\\P01_04\\\\v\\\\frame_06060.jpg'\n",
      "Skipping frame: D:/Datasets/Datasets/EPIC_Kitchen/OpticalFlow/P01_04/u\\frame_06065.jpg due to error: [Errno 2] No such file or directory: 'D:\\\\Datasets\\\\Datasets\\\\EPIC_Kitchen\\\\OpticalFlow\\\\P01_04\\\\u\\\\frame_06065.jpg'\n",
      "Skipping frame: D:/Datasets/Datasets/EPIC_Kitchen/OpticalFlow/P01_04/v\\frame_06065.jpg due to error: [Errno 2] No such file or directory: 'D:\\\\Datasets\\\\Datasets\\\\EPIC_Kitchen\\\\OpticalFlow\\\\P01_04\\\\v\\\\frame_06065.jpg'\n",
      "Skipping frame: D:/Datasets/Datasets/EPIC_Kitchen/OpticalFlow/P01_04/u\\frame_06070.jpg due to error: [Errno 2] No such file or directory: 'D:\\\\Datasets\\\\Datasets\\\\EPIC_Kitchen\\\\OpticalFlow\\\\P01_04\\\\u\\\\frame_06070.jpg'\n",
      "Skipping frame: D:/Datasets/Datasets/EPIC_Kitchen/OpticalFlow/P01_04/v\\frame_06070.jpg due to error: [Errno 2] No such file or directory: 'D:\\\\Datasets\\\\Datasets\\\\EPIC_Kitchen\\\\OpticalFlow\\\\P01_04\\\\v\\\\frame_06070.jpg'\n",
      "Skipping frame: D:/Datasets/Datasets/EPIC_Kitchen/OpticalFlow/P01_04/u\\frame_06075.jpg due to error: [Errno 2] No such file or directory: 'D:\\\\Datasets\\\\Datasets\\\\EPIC_Kitchen\\\\OpticalFlow\\\\P01_04\\\\u\\\\frame_06075.jpg'\n",
      "Skipping frame: D:/Datasets/Datasets/EPIC_Kitchen/OpticalFlow/P01_04/v\\frame_06075.jpg due to error: [Errno 2] No such file or directory: 'D:\\\\Datasets\\\\Datasets\\\\EPIC_Kitchen\\\\OpticalFlow\\\\P01_04\\\\v\\\\frame_06075.jpg'\n"
     ]
    },
    {
     "name": "stderr",
     "output_type": "stream",
     "text": [
      "\r",
      "Extracting Features with DEFT:  97%|█████████████████████████████████████████████▍ | 1219/1262 [01:20<00:02, 20.48it/s]"
     ]
    },
    {
     "name": "stdout",
     "output_type": "stream",
     "text": [
      "Skipping frame: D:/Datasets/Datasets/EPIC_Kitchen/OpticalFlow/P01_04/u\\frame_06080.jpg due to error: [Errno 2] No such file or directory: 'D:\\\\Datasets\\\\Datasets\\\\EPIC_Kitchen\\\\OpticalFlow\\\\P01_04\\\\u\\\\frame_06080.jpg'\n",
      "Skipping frame: D:/Datasets/Datasets/EPIC_Kitchen/OpticalFlow/P01_04/v\\frame_06080.jpg due to error: [Errno 2] No such file or directory: 'D:\\\\Datasets\\\\Datasets\\\\EPIC_Kitchen\\\\OpticalFlow\\\\P01_04\\\\v\\\\frame_06080.jpg'\n",
      "Skipping frame: D:/Datasets/Datasets/EPIC_Kitchen/OpticalFlow/P01_04/u\\frame_06085.jpg due to error: [Errno 2] No such file or directory: 'D:\\\\Datasets\\\\Datasets\\\\EPIC_Kitchen\\\\OpticalFlow\\\\P01_04\\\\u\\\\frame_06085.jpg'\n",
      "Skipping frame: D:/Datasets/Datasets/EPIC_Kitchen/OpticalFlow/P01_04/v\\frame_06085.jpg due to error: [Errno 2] No such file or directory: 'D:\\\\Datasets\\\\Datasets\\\\EPIC_Kitchen\\\\OpticalFlow\\\\P01_04\\\\v\\\\frame_06085.jpg'\n",
      "Skipping frame: D:/Datasets/Datasets/EPIC_Kitchen/OpticalFlow/P01_04/u\\frame_06090.jpg due to error: [Errno 2] No such file or directory: 'D:\\\\Datasets\\\\Datasets\\\\EPIC_Kitchen\\\\OpticalFlow\\\\P01_04\\\\u\\\\frame_06090.jpg'\n",
      "Skipping frame: D:/Datasets/Datasets/EPIC_Kitchen/OpticalFlow/P01_04/v\\frame_06090.jpg due to error: [Errno 2] No such file or directory: 'D:\\\\Datasets\\\\Datasets\\\\EPIC_Kitchen\\\\OpticalFlow\\\\P01_04\\\\v\\\\frame_06090.jpg'\n",
      "Skipping frame: D:/Datasets/Datasets/EPIC_Kitchen/OpticalFlow/P01_04/u\\frame_06095.jpg due to error: [Errno 2] No such file or directory: 'D:\\\\Datasets\\\\Datasets\\\\EPIC_Kitchen\\\\OpticalFlow\\\\P01_04\\\\u\\\\frame_06095.jpg'\n",
      "Skipping frame: D:/Datasets/Datasets/EPIC_Kitchen/OpticalFlow/P01_04/v\\frame_06095.jpg due to error: [Errno 2] No such file or directory: 'D:\\\\Datasets\\\\Datasets\\\\EPIC_Kitchen\\\\OpticalFlow\\\\P01_04\\\\v\\\\frame_06095.jpg'\n",
      "Skipping frame: D:/Datasets/Datasets/EPIC_Kitchen/OpticalFlow/P01_04/u\\frame_06100.jpg due to error: [Errno 2] No such file or directory: 'D:\\\\Datasets\\\\Datasets\\\\EPIC_Kitchen\\\\OpticalFlow\\\\P01_04\\\\u\\\\frame_06100.jpg'\n",
      "Skipping frame: D:/Datasets/Datasets/EPIC_Kitchen/OpticalFlow/P01_04/v\\frame_06100.jpg due to error: [Errno 2] No such file or directory: 'D:\\\\Datasets\\\\Datasets\\\\EPIC_Kitchen\\\\OpticalFlow\\\\P01_04\\\\v\\\\frame_06100.jpg'\n"
     ]
    },
    {
     "name": "stderr",
     "output_type": "stream",
     "text": [
      "Extracting Features with DEFT:  97%|█████████████████████████████████████████████▌ | 1225/1262 [01:21<00:01, 20.61it/s]"
     ]
    },
    {
     "name": "stdout",
     "output_type": "stream",
     "text": [
      "Skipping frame: D:/Datasets/Datasets/EPIC_Kitchen/OpticalFlow/P01_04/u\\frame_06105.jpg due to error: [Errno 2] No such file or directory: 'D:\\\\Datasets\\\\Datasets\\\\EPIC_Kitchen\\\\OpticalFlow\\\\P01_04\\\\u\\\\frame_06105.jpg'\n",
      "Skipping frame: D:/Datasets/Datasets/EPIC_Kitchen/OpticalFlow/P01_04/v\\frame_06105.jpg due to error: [Errno 2] No such file or directory: 'D:\\\\Datasets\\\\Datasets\\\\EPIC_Kitchen\\\\OpticalFlow\\\\P01_04\\\\v\\\\frame_06105.jpg'\n",
      "Skipping frame: D:/Datasets/Datasets/EPIC_Kitchen/OpticalFlow/P01_04/u\\frame_06110.jpg due to error: [Errno 2] No such file or directory: 'D:\\\\Datasets\\\\Datasets\\\\EPIC_Kitchen\\\\OpticalFlow\\\\P01_04\\\\u\\\\frame_06110.jpg'\n",
      "Skipping frame: D:/Datasets/Datasets/EPIC_Kitchen/OpticalFlow/P01_04/v\\frame_06110.jpg due to error: [Errno 2] No such file or directory: 'D:\\\\Datasets\\\\Datasets\\\\EPIC_Kitchen\\\\OpticalFlow\\\\P01_04\\\\v\\\\frame_06110.jpg'\n",
      "Skipping frame: D:/Datasets/Datasets/EPIC_Kitchen/OpticalFlow/P01_04/u\\frame_06115.jpg due to error: [Errno 2] No such file or directory: 'D:\\\\Datasets\\\\Datasets\\\\EPIC_Kitchen\\\\OpticalFlow\\\\P01_04\\\\u\\\\frame_06115.jpg'\n",
      "Skipping frame: D:/Datasets/Datasets/EPIC_Kitchen/OpticalFlow/P01_04/v\\frame_06115.jpg due to error: [Errno 2] No such file or directory: 'D:\\\\Datasets\\\\Datasets\\\\EPIC_Kitchen\\\\OpticalFlow\\\\P01_04\\\\v\\\\frame_06115.jpg'\n",
      "Skipping frame: D:/Datasets/Datasets/EPIC_Kitchen/OpticalFlow/P01_04/u\\frame_06120.jpg due to error: [Errno 2] No such file or directory: 'D:\\\\Datasets\\\\Datasets\\\\EPIC_Kitchen\\\\OpticalFlow\\\\P01_04\\\\u\\\\frame_06120.jpg'\n",
      "Skipping frame: D:/Datasets/Datasets/EPIC_Kitchen/OpticalFlow/P01_04/v\\frame_06120.jpg due to error: [Errno 2] No such file or directory: 'D:\\\\Datasets\\\\Datasets\\\\EPIC_Kitchen\\\\OpticalFlow\\\\P01_04\\\\v\\\\frame_06120.jpg'\n",
      "Skipping frame: D:/Datasets/Datasets/EPIC_Kitchen/OpticalFlow/P01_04/u\\frame_06125.jpg due to error: [Errno 2] No such file or directory: 'D:\\\\Datasets\\\\Datasets\\\\EPIC_Kitchen\\\\OpticalFlow\\\\P01_04\\\\u\\\\frame_06125.jpg'\n",
      "Skipping frame: D:/Datasets/Datasets/EPIC_Kitchen/OpticalFlow/P01_04/v\\frame_06125.jpg due to error: [Errno 2] No such file or directory: 'D:\\\\Datasets\\\\Datasets\\\\EPIC_Kitchen\\\\OpticalFlow\\\\P01_04\\\\v\\\\frame_06125.jpg'\n"
     ]
    },
    {
     "name": "stderr",
     "output_type": "stream",
     "text": [
      "Extracting Features with DEFT:  98%|█████████████████████████████████████████████▊ | 1231/1262 [01:21<00:01, 20.55it/s]"
     ]
    },
    {
     "name": "stdout",
     "output_type": "stream",
     "text": [
      "Skipping frame: D:/Datasets/Datasets/EPIC_Kitchen/OpticalFlow/P01_04/u\\frame_06130.jpg due to error: [Errno 2] No such file or directory: 'D:\\\\Datasets\\\\Datasets\\\\EPIC_Kitchen\\\\OpticalFlow\\\\P01_04\\\\u\\\\frame_06130.jpg'\n",
      "Skipping frame: D:/Datasets/Datasets/EPIC_Kitchen/OpticalFlow/P01_04/v\\frame_06130.jpg due to error: [Errno 2] No such file or directory: 'D:\\\\Datasets\\\\Datasets\\\\EPIC_Kitchen\\\\OpticalFlow\\\\P01_04\\\\v\\\\frame_06130.jpg'\n",
      "Skipping frame: D:/Datasets/Datasets/EPIC_Kitchen/OpticalFlow/P01_04/u\\frame_06135.jpg due to error: [Errno 2] No such file or directory: 'D:\\\\Datasets\\\\Datasets\\\\EPIC_Kitchen\\\\OpticalFlow\\\\P01_04\\\\u\\\\frame_06135.jpg'\n",
      "Skipping frame: D:/Datasets/Datasets/EPIC_Kitchen/OpticalFlow/P01_04/v\\frame_06135.jpg due to error: [Errno 2] No such file or directory: 'D:\\\\Datasets\\\\Datasets\\\\EPIC_Kitchen\\\\OpticalFlow\\\\P01_04\\\\v\\\\frame_06135.jpg'\n",
      "Skipping frame: D:/Datasets/Datasets/EPIC_Kitchen/OpticalFlow/P01_04/u\\frame_06140.jpg due to error: [Errno 2] No such file or directory: 'D:\\\\Datasets\\\\Datasets\\\\EPIC_Kitchen\\\\OpticalFlow\\\\P01_04\\\\u\\\\frame_06140.jpg'\n",
      "Skipping frame: D:/Datasets/Datasets/EPIC_Kitchen/OpticalFlow/P01_04/v\\frame_06140.jpg due to error: [Errno 2] No such file or directory: 'D:\\\\Datasets\\\\Datasets\\\\EPIC_Kitchen\\\\OpticalFlow\\\\P01_04\\\\v\\\\frame_06140.jpg'\n",
      "Skipping frame: D:/Datasets/Datasets/EPIC_Kitchen/OpticalFlow/P01_04/u\\frame_06145.jpg due to error: [Errno 2] No such file or directory: 'D:\\\\Datasets\\\\Datasets\\\\EPIC_Kitchen\\\\OpticalFlow\\\\P01_04\\\\u\\\\frame_06145.jpg'\n",
      "Skipping frame: D:/Datasets/Datasets/EPIC_Kitchen/OpticalFlow/P01_04/v\\frame_06145.jpg due to error: [Errno 2] No such file or directory: 'D:\\\\Datasets\\\\Datasets\\\\EPIC_Kitchen\\\\OpticalFlow\\\\P01_04\\\\v\\\\frame_06145.jpg'\n",
      "Skipping frame: D:/Datasets/Datasets/EPIC_Kitchen/OpticalFlow/P01_04/u\\frame_06150.jpg due to error: [Errno 2] No such file or directory: 'D:\\\\Datasets\\\\Datasets\\\\EPIC_Kitchen\\\\OpticalFlow\\\\P01_04\\\\u\\\\frame_06150.jpg'\n",
      "Skipping frame: D:/Datasets/Datasets/EPIC_Kitchen/OpticalFlow/P01_04/v\\frame_06150.jpg due to error: [Errno 2] No such file or directory: 'D:\\\\Datasets\\\\Datasets\\\\EPIC_Kitchen\\\\OpticalFlow\\\\P01_04\\\\v\\\\frame_06150.jpg'\n"
     ]
    },
    {
     "name": "stderr",
     "output_type": "stream",
     "text": [
      "\r",
      "Extracting Features with DEFT:  98%|█████████████████████████████████████████████▉ | 1234/1262 [01:21<00:01, 20.03it/s]"
     ]
    },
    {
     "name": "stdout",
     "output_type": "stream",
     "text": [
      "Skipping frame: D:/Datasets/Datasets/EPIC_Kitchen/OpticalFlow/P01_04/u\\frame_06155.jpg due to error: [Errno 2] No such file or directory: 'D:\\\\Datasets\\\\Datasets\\\\EPIC_Kitchen\\\\OpticalFlow\\\\P01_04\\\\u\\\\frame_06155.jpg'\n",
      "Skipping frame: D:/Datasets/Datasets/EPIC_Kitchen/OpticalFlow/P01_04/v\\frame_06155.jpg due to error: [Errno 2] No such file or directory: 'D:\\\\Datasets\\\\Datasets\\\\EPIC_Kitchen\\\\OpticalFlow\\\\P01_04\\\\v\\\\frame_06155.jpg'\n",
      "Skipping frame: D:/Datasets/Datasets/EPIC_Kitchen/OpticalFlow/P01_04/u\\frame_06160.jpg due to error: [Errno 2] No such file or directory: 'D:\\\\Datasets\\\\Datasets\\\\EPIC_Kitchen\\\\OpticalFlow\\\\P01_04\\\\u\\\\frame_06160.jpg'\n",
      "Skipping frame: D:/Datasets/Datasets/EPIC_Kitchen/OpticalFlow/P01_04/v\\frame_06160.jpg due to error: [Errno 2] No such file or directory: 'D:\\\\Datasets\\\\Datasets\\\\EPIC_Kitchen\\\\OpticalFlow\\\\P01_04\\\\v\\\\frame_06160.jpg'\n",
      "Skipping frame: D:/Datasets/Datasets/EPIC_Kitchen/OpticalFlow/P01_04/u\\frame_06165.jpg due to error: [Errno 2] No such file or directory: 'D:\\\\Datasets\\\\Datasets\\\\EPIC_Kitchen\\\\OpticalFlow\\\\P01_04\\\\u\\\\frame_06165.jpg'\n",
      "Skipping frame: D:/Datasets/Datasets/EPIC_Kitchen/OpticalFlow/P01_04/v\\frame_06165.jpg due to error: [Errno 2] No such file or directory: 'D:\\\\Datasets\\\\Datasets\\\\EPIC_Kitchen\\\\OpticalFlow\\\\P01_04\\\\v\\\\frame_06165.jpg'\n",
      "Skipping frame: D:/Datasets/Datasets/EPIC_Kitchen/OpticalFlow/P01_04/u\\frame_06170.jpg due to error: [Errno 2] No such file or directory: 'D:\\\\Datasets\\\\Datasets\\\\EPIC_Kitchen\\\\OpticalFlow\\\\P01_04\\\\u\\\\frame_06170.jpg'\n",
      "Skipping frame: D:/Datasets/Datasets/EPIC_Kitchen/OpticalFlow/P01_04/v\\frame_06170.jpg due to error: [Errno 2] No such file or directory: 'D:\\\\Datasets\\\\Datasets\\\\EPIC_Kitchen\\\\OpticalFlow\\\\P01_04\\\\v\\\\frame_06170.jpg'\n"
     ]
    },
    {
     "name": "stderr",
     "output_type": "stream",
     "text": [
      "Extracting Features with DEFT:  98%|██████████████████████████████████████████████▏| 1240/1262 [01:21<00:01, 20.53it/s]"
     ]
    },
    {
     "name": "stdout",
     "output_type": "stream",
     "text": [
      "Skipping frame: D:/Datasets/Datasets/EPIC_Kitchen/OpticalFlow/P01_04/u\\frame_06175.jpg due to error: [Errno 2] No such file or directory: 'D:\\\\Datasets\\\\Datasets\\\\EPIC_Kitchen\\\\OpticalFlow\\\\P01_04\\\\u\\\\frame_06175.jpg'\n",
      "Skipping frame: D:/Datasets/Datasets/EPIC_Kitchen/OpticalFlow/P01_04/v\\frame_06175.jpg due to error: [Errno 2] No such file or directory: 'D:\\\\Datasets\\\\Datasets\\\\EPIC_Kitchen\\\\OpticalFlow\\\\P01_04\\\\v\\\\frame_06175.jpg'\n",
      "Skipping frame: D:/Datasets/Datasets/EPIC_Kitchen/OpticalFlow/P01_04/u\\frame_06180.jpg due to error: [Errno 2] No such file or directory: 'D:\\\\Datasets\\\\Datasets\\\\EPIC_Kitchen\\\\OpticalFlow\\\\P01_04\\\\u\\\\frame_06180.jpg'\n",
      "Skipping frame: D:/Datasets/Datasets/EPIC_Kitchen/OpticalFlow/P01_04/v\\frame_06180.jpg due to error: [Errno 2] No such file or directory: 'D:\\\\Datasets\\\\Datasets\\\\EPIC_Kitchen\\\\OpticalFlow\\\\P01_04\\\\v\\\\frame_06180.jpg'\n",
      "Skipping frame: D:/Datasets/Datasets/EPIC_Kitchen/OpticalFlow/P01_04/u\\frame_06185.jpg due to error: [Errno 2] No such file or directory: 'D:\\\\Datasets\\\\Datasets\\\\EPIC_Kitchen\\\\OpticalFlow\\\\P01_04\\\\u\\\\frame_06185.jpg'\n",
      "Skipping frame: D:/Datasets/Datasets/EPIC_Kitchen/OpticalFlow/P01_04/v\\frame_06185.jpg due to error: [Errno 2] No such file or directory: 'D:\\\\Datasets\\\\Datasets\\\\EPIC_Kitchen\\\\OpticalFlow\\\\P01_04\\\\v\\\\frame_06185.jpg'\n",
      "Skipping frame: D:/Datasets/Datasets/EPIC_Kitchen/OpticalFlow/P01_04/u\\frame_06190.jpg due to error: [Errno 2] No such file or directory: 'D:\\\\Datasets\\\\Datasets\\\\EPIC_Kitchen\\\\OpticalFlow\\\\P01_04\\\\u\\\\frame_06190.jpg'\n",
      "Skipping frame: D:/Datasets/Datasets/EPIC_Kitchen/OpticalFlow/P01_04/v\\frame_06190.jpg due to error: [Errno 2] No such file or directory: 'D:\\\\Datasets\\\\Datasets\\\\EPIC_Kitchen\\\\OpticalFlow\\\\P01_04\\\\v\\\\frame_06190.jpg'\n",
      "Skipping frame: D:/Datasets/Datasets/EPIC_Kitchen/OpticalFlow/P01_04/u\\frame_06195.jpg due to error: [Errno 2] No such file or directory: 'D:\\\\Datasets\\\\Datasets\\\\EPIC_Kitchen\\\\OpticalFlow\\\\P01_04\\\\u\\\\frame_06195.jpg'\n",
      "Skipping frame: D:/Datasets/Datasets/EPIC_Kitchen/OpticalFlow/P01_04/v\\frame_06195.jpg due to error: [Errno 2] No such file or directory: 'D:\\\\Datasets\\\\Datasets\\\\EPIC_Kitchen\\\\OpticalFlow\\\\P01_04\\\\v\\\\frame_06195.jpg'\n"
     ]
    },
    {
     "name": "stderr",
     "output_type": "stream",
     "text": [
      "\r",
      "Extracting Features with DEFT:  98%|██████████████████████████████████████████████▎| 1243/1262 [01:21<00:00, 21.02it/s]"
     ]
    },
    {
     "name": "stdout",
     "output_type": "stream",
     "text": [
      "Skipping frame: D:/Datasets/Datasets/EPIC_Kitchen/OpticalFlow/P01_04/u\\frame_06200.jpg due to error: [Errno 2] No such file or directory: 'D:\\\\Datasets\\\\Datasets\\\\EPIC_Kitchen\\\\OpticalFlow\\\\P01_04\\\\u\\\\frame_06200.jpg'\n",
      "Skipping frame: D:/Datasets/Datasets/EPIC_Kitchen/OpticalFlow/P01_04/v\\frame_06200.jpg due to error: [Errno 2] No such file or directory: 'D:\\\\Datasets\\\\Datasets\\\\EPIC_Kitchen\\\\OpticalFlow\\\\P01_04\\\\v\\\\frame_06200.jpg'\n",
      "Skipping frame: D:/Datasets/Datasets/EPIC_Kitchen/OpticalFlow/P01_04/u\\frame_06205.jpg due to error: [Errno 2] No such file or directory: 'D:\\\\Datasets\\\\Datasets\\\\EPIC_Kitchen\\\\OpticalFlow\\\\P01_04\\\\u\\\\frame_06205.jpg'\n",
      "Skipping frame: D:/Datasets/Datasets/EPIC_Kitchen/OpticalFlow/P01_04/v\\frame_06205.jpg due to error: [Errno 2] No such file or directory: 'D:\\\\Datasets\\\\Datasets\\\\EPIC_Kitchen\\\\OpticalFlow\\\\P01_04\\\\v\\\\frame_06205.jpg'\n",
      "Skipping frame: D:/Datasets/Datasets/EPIC_Kitchen/OpticalFlow/P01_04/u\\frame_06210.jpg due to error: [Errno 2] No such file or directory: 'D:\\\\Datasets\\\\Datasets\\\\EPIC_Kitchen\\\\OpticalFlow\\\\P01_04\\\\u\\\\frame_06210.jpg'\n",
      "Skipping frame: D:/Datasets/Datasets/EPIC_Kitchen/OpticalFlow/P01_04/v\\frame_06210.jpg due to error: [Errno 2] No such file or directory: 'D:\\\\Datasets\\\\Datasets\\\\EPIC_Kitchen\\\\OpticalFlow\\\\P01_04\\\\v\\\\frame_06210.jpg'\n",
      "Skipping frame: D:/Datasets/Datasets/EPIC_Kitchen/OpticalFlow/P01_04/u\\frame_06215.jpg due to error: [Errno 2] No such file or directory: 'D:\\\\Datasets\\\\Datasets\\\\EPIC_Kitchen\\\\OpticalFlow\\\\P01_04\\\\u\\\\frame_06215.jpg'\n",
      "Skipping frame: D:/Datasets/Datasets/EPIC_Kitchen/OpticalFlow/P01_04/v\\frame_06215.jpg due to error: [Errno 2] No such file or directory: 'D:\\\\Datasets\\\\Datasets\\\\EPIC_Kitchen\\\\OpticalFlow\\\\P01_04\\\\v\\\\frame_06215.jpg'\n",
      "Skipping frame: D:/Datasets/Datasets/EPIC_Kitchen/OpticalFlow/P01_04/u\\frame_06220.jpg due to error: [Errno 2] No such file or directory: 'D:\\\\Datasets\\\\Datasets\\\\EPIC_Kitchen\\\\OpticalFlow\\\\P01_04\\\\u\\\\frame_06220.jpg'\n",
      "Skipping frame: D:/Datasets/Datasets/EPIC_Kitchen/OpticalFlow/P01_04/v\\frame_06220.jpg due to error: [Errno 2] No such file or directory: 'D:\\\\Datasets\\\\Datasets\\\\EPIC_Kitchen\\\\OpticalFlow\\\\P01_04\\\\v\\\\frame_06220.jpg'\n"
     ]
    },
    {
     "name": "stderr",
     "output_type": "stream",
     "text": [
      "Extracting Features with DEFT:  99%|██████████████████████████████████████████████▌| 1249/1262 [01:22<00:00, 21.36it/s]"
     ]
    },
    {
     "name": "stdout",
     "output_type": "stream",
     "text": [
      "Skipping frame: D:/Datasets/Datasets/EPIC_Kitchen/OpticalFlow/P01_04/u\\frame_06225.jpg due to error: [Errno 2] No such file or directory: 'D:\\\\Datasets\\\\Datasets\\\\EPIC_Kitchen\\\\OpticalFlow\\\\P01_04\\\\u\\\\frame_06225.jpg'\n",
      "Skipping frame: D:/Datasets/Datasets/EPIC_Kitchen/OpticalFlow/P01_04/v\\frame_06225.jpg due to error: [Errno 2] No such file or directory: 'D:\\\\Datasets\\\\Datasets\\\\EPIC_Kitchen\\\\OpticalFlow\\\\P01_04\\\\v\\\\frame_06225.jpg'\n",
      "Skipping frame: D:/Datasets/Datasets/EPIC_Kitchen/OpticalFlow/P01_04/u\\frame_06230.jpg due to error: [Errno 2] No such file or directory: 'D:\\\\Datasets\\\\Datasets\\\\EPIC_Kitchen\\\\OpticalFlow\\\\P01_04\\\\u\\\\frame_06230.jpg'\n",
      "Skipping frame: D:/Datasets/Datasets/EPIC_Kitchen/OpticalFlow/P01_04/v\\frame_06230.jpg due to error: [Errno 2] No such file or directory: 'D:\\\\Datasets\\\\Datasets\\\\EPIC_Kitchen\\\\OpticalFlow\\\\P01_04\\\\v\\\\frame_06230.jpg'\n",
      "Skipping frame: D:/Datasets/Datasets/EPIC_Kitchen/OpticalFlow/P01_04/u\\frame_06235.jpg due to error: [Errno 2] No such file or directory: 'D:\\\\Datasets\\\\Datasets\\\\EPIC_Kitchen\\\\OpticalFlow\\\\P01_04\\\\u\\\\frame_06235.jpg'\n",
      "Skipping frame: D:/Datasets/Datasets/EPIC_Kitchen/OpticalFlow/P01_04/v\\frame_06235.jpg due to error: [Errno 2] No such file or directory: 'D:\\\\Datasets\\\\Datasets\\\\EPIC_Kitchen\\\\OpticalFlow\\\\P01_04\\\\v\\\\frame_06235.jpg'\n",
      "Skipping frame: D:/Datasets/Datasets/EPIC_Kitchen/OpticalFlow/P01_04/u\\frame_06240.jpg due to error: [Errno 2] No such file or directory: 'D:\\\\Datasets\\\\Datasets\\\\EPIC_Kitchen\\\\OpticalFlow\\\\P01_04\\\\u\\\\frame_06240.jpg'\n",
      "Skipping frame: D:/Datasets/Datasets/EPIC_Kitchen/OpticalFlow/P01_04/v\\frame_06240.jpg due to error: [Errno 2] No such file or directory: 'D:\\\\Datasets\\\\Datasets\\\\EPIC_Kitchen\\\\OpticalFlow\\\\P01_04\\\\v\\\\frame_06240.jpg'\n",
      "Skipping frame: D:/Datasets/Datasets/EPIC_Kitchen/OpticalFlow/P01_04/u\\frame_06245.jpg due to error: [Errno 2] No such file or directory: 'D:\\\\Datasets\\\\Datasets\\\\EPIC_Kitchen\\\\OpticalFlow\\\\P01_04\\\\u\\\\frame_06245.jpg'\n",
      "Skipping frame: D:/Datasets/Datasets/EPIC_Kitchen/OpticalFlow/P01_04/v\\frame_06245.jpg due to error: [Errno 2] No such file or directory: 'D:\\\\Datasets\\\\Datasets\\\\EPIC_Kitchen\\\\OpticalFlow\\\\P01_04\\\\v\\\\frame_06245.jpg'\n"
     ]
    },
    {
     "name": "stderr",
     "output_type": "stream",
     "text": [
      "Extracting Features with DEFT:  99%|██████████████████████████████████████████████▋| 1255/1262 [01:22<00:00, 22.19it/s]"
     ]
    },
    {
     "name": "stdout",
     "output_type": "stream",
     "text": [
      "Skipping frame: D:/Datasets/Datasets/EPIC_Kitchen/OpticalFlow/P01_04/u\\frame_06250.jpg due to error: [Errno 2] No such file or directory: 'D:\\\\Datasets\\\\Datasets\\\\EPIC_Kitchen\\\\OpticalFlow\\\\P01_04\\\\u\\\\frame_06250.jpg'\n",
      "Skipping frame: D:/Datasets/Datasets/EPIC_Kitchen/OpticalFlow/P01_04/v\\frame_06250.jpg due to error: [Errno 2] No such file or directory: 'D:\\\\Datasets\\\\Datasets\\\\EPIC_Kitchen\\\\OpticalFlow\\\\P01_04\\\\v\\\\frame_06250.jpg'\n",
      "Skipping frame: D:/Datasets/Datasets/EPIC_Kitchen/OpticalFlow/P01_04/u\\frame_06255.jpg due to error: [Errno 2] No such file or directory: 'D:\\\\Datasets\\\\Datasets\\\\EPIC_Kitchen\\\\OpticalFlow\\\\P01_04\\\\u\\\\frame_06255.jpg'\n",
      "Skipping frame: D:/Datasets/Datasets/EPIC_Kitchen/OpticalFlow/P01_04/v\\frame_06255.jpg due to error: [Errno 2] No such file or directory: 'D:\\\\Datasets\\\\Datasets\\\\EPIC_Kitchen\\\\OpticalFlow\\\\P01_04\\\\v\\\\frame_06255.jpg'\n",
      "Skipping frame: D:/Datasets/Datasets/EPIC_Kitchen/OpticalFlow/P01_04/u\\frame_06260.jpg due to error: [Errno 2] No such file or directory: 'D:\\\\Datasets\\\\Datasets\\\\EPIC_Kitchen\\\\OpticalFlow\\\\P01_04\\\\u\\\\frame_06260.jpg'\n",
      "Skipping frame: D:/Datasets/Datasets/EPIC_Kitchen/OpticalFlow/P01_04/v\\frame_06260.jpg due to error: [Errno 2] No such file or directory: 'D:\\\\Datasets\\\\Datasets\\\\EPIC_Kitchen\\\\OpticalFlow\\\\P01_04\\\\v\\\\frame_06260.jpg'\n",
      "Skipping frame: D:/Datasets/Datasets/EPIC_Kitchen/OpticalFlow/P01_04/u\\frame_06265.jpg due to error: [Errno 2] No such file or directory: 'D:\\\\Datasets\\\\Datasets\\\\EPIC_Kitchen\\\\OpticalFlow\\\\P01_04\\\\u\\\\frame_06265.jpg'\n",
      "Skipping frame: D:/Datasets/Datasets/EPIC_Kitchen/OpticalFlow/P01_04/v\\frame_06265.jpg due to error: [Errno 2] No such file or directory: 'D:\\\\Datasets\\\\Datasets\\\\EPIC_Kitchen\\\\OpticalFlow\\\\P01_04\\\\v\\\\frame_06265.jpg'\n",
      "Skipping frame: D:/Datasets/Datasets/EPIC_Kitchen/OpticalFlow/P01_04/u\\frame_06270.jpg due to error: [Errno 2] No such file or directory: 'D:\\\\Datasets\\\\Datasets\\\\EPIC_Kitchen\\\\OpticalFlow\\\\P01_04\\\\u\\\\frame_06270.jpg'\n",
      "Skipping frame: D:/Datasets/Datasets/EPIC_Kitchen/OpticalFlow/P01_04/v\\frame_06270.jpg due to error: [Errno 2] No such file or directory: 'D:\\\\Datasets\\\\Datasets\\\\EPIC_Kitchen\\\\OpticalFlow\\\\P01_04\\\\v\\\\frame_06270.jpg'\n"
     ]
    },
    {
     "name": "stderr",
     "output_type": "stream",
     "text": [
      "\r",
      "Extracting Features with DEFT: 100%|██████████████████████████████████████████████▊| 1258/1262 [01:22<00:00, 21.98it/s]"
     ]
    },
    {
     "name": "stdout",
     "output_type": "stream",
     "text": [
      "Skipping frame: D:/Datasets/Datasets/EPIC_Kitchen/OpticalFlow/P01_04/u\\frame_06275.jpg due to error: [Errno 2] No such file or directory: 'D:\\\\Datasets\\\\Datasets\\\\EPIC_Kitchen\\\\OpticalFlow\\\\P01_04\\\\u\\\\frame_06275.jpg'\n",
      "Skipping frame: D:/Datasets/Datasets/EPIC_Kitchen/OpticalFlow/P01_04/v\\frame_06275.jpg due to error: [Errno 2] No such file or directory: 'D:\\\\Datasets\\\\Datasets\\\\EPIC_Kitchen\\\\OpticalFlow\\\\P01_04\\\\v\\\\frame_06275.jpg'\n",
      "Skipping frame: D:/Datasets/Datasets/EPIC_Kitchen/OpticalFlow/P01_04/u\\frame_06280.jpg due to error: [Errno 2] No such file or directory: 'D:\\\\Datasets\\\\Datasets\\\\EPIC_Kitchen\\\\OpticalFlow\\\\P01_04\\\\u\\\\frame_06280.jpg'\n",
      "Skipping frame: D:/Datasets/Datasets/EPIC_Kitchen/OpticalFlow/P01_04/v\\frame_06280.jpg due to error: [Errno 2] No such file or directory: 'D:\\\\Datasets\\\\Datasets\\\\EPIC_Kitchen\\\\OpticalFlow\\\\P01_04\\\\v\\\\frame_06280.jpg'\n",
      "Skipping frame: D:/Datasets/Datasets/EPIC_Kitchen/OpticalFlow/P01_04/u\\frame_06285.jpg due to error: [Errno 2] No such file or directory: 'D:\\\\Datasets\\\\Datasets\\\\EPIC_Kitchen\\\\OpticalFlow\\\\P01_04\\\\u\\\\frame_06285.jpg'\n",
      "Skipping frame: D:/Datasets/Datasets/EPIC_Kitchen/OpticalFlow/P01_04/v\\frame_06285.jpg due to error: [Errno 2] No such file or directory: 'D:\\\\Datasets\\\\Datasets\\\\EPIC_Kitchen\\\\OpticalFlow\\\\P01_04\\\\v\\\\frame_06285.jpg'\n",
      "Skipping frame: D:/Datasets/Datasets/EPIC_Kitchen/OpticalFlow/P01_04/u\\frame_06290.jpg due to error: [Errno 2] No such file or directory: 'D:\\\\Datasets\\\\Datasets\\\\EPIC_Kitchen\\\\OpticalFlow\\\\P01_04\\\\u\\\\frame_06290.jpg'\n",
      "Skipping frame: D:/Datasets/Datasets/EPIC_Kitchen/OpticalFlow/P01_04/v\\frame_06290.jpg due to error: [Errno 2] No such file or directory: 'D:\\\\Datasets\\\\Datasets\\\\EPIC_Kitchen\\\\OpticalFlow\\\\P01_04\\\\v\\\\frame_06290.jpg'\n",
      "Skipping frame: D:/Datasets/Datasets/EPIC_Kitchen/OpticalFlow/P01_04/u\\frame_06295.jpg due to error: [Errno 2] No such file or directory: 'D:\\\\Datasets\\\\Datasets\\\\EPIC_Kitchen\\\\OpticalFlow\\\\P01_04\\\\u\\\\frame_06295.jpg'\n",
      "Skipping frame: D:/Datasets/Datasets/EPIC_Kitchen/OpticalFlow/P01_04/v\\frame_06295.jpg due to error: [Errno 2] No such file or directory: 'D:\\\\Datasets\\\\Datasets\\\\EPIC_Kitchen\\\\OpticalFlow\\\\P01_04\\\\v\\\\frame_06295.jpg'\n"
     ]
    },
    {
     "name": "stderr",
     "output_type": "stream",
     "text": [
      "Extracting Features with DEFT: 100%|███████████████████████████████████████████████| 1262/1262 [01:22<00:00, 15.23it/s]"
     ]
    },
    {
     "name": "stdout",
     "output_type": "stream",
     "text": [
      "Skipping frame: D:/Datasets/Datasets/EPIC_Kitchen/OpticalFlow/P01_04/u\\frame_06300.jpg due to error: [Errno 2] No such file or directory: 'D:\\\\Datasets\\\\Datasets\\\\EPIC_Kitchen\\\\OpticalFlow\\\\P01_04\\\\u\\\\frame_06300.jpg'\n",
      "Skipping frame: D:/Datasets/Datasets/EPIC_Kitchen/OpticalFlow/P01_04/v\\frame_06300.jpg due to error: [Errno 2] No such file or directory: 'D:\\\\Datasets\\\\Datasets\\\\EPIC_Kitchen\\\\OpticalFlow\\\\P01_04\\\\v\\\\frame_06300.jpg'\n",
      "Skipping frame: D:/Datasets/Datasets/EPIC_Kitchen/OpticalFlow/P01_04/u\\frame_06305.jpg due to error: [Errno 2] No such file or directory: 'D:\\\\Datasets\\\\Datasets\\\\EPIC_Kitchen\\\\OpticalFlow\\\\P01_04\\\\u\\\\frame_06305.jpg'\n",
      "Skipping frame: D:/Datasets/Datasets/EPIC_Kitchen/OpticalFlow/P01_04/v\\frame_06305.jpg due to error: [Errno 2] No such file or directory: 'D:\\\\Datasets\\\\Datasets\\\\EPIC_Kitchen\\\\OpticalFlow\\\\P01_04\\\\v\\\\frame_06305.jpg'\n"
     ]
    },
    {
     "name": "stderr",
     "output_type": "stream",
     "text": [
      "\n"
     ]
    },
    {
     "name": "stdout",
     "output_type": "stream",
     "text": [
      "Feature extraction completed! Saved to ../Features/Features_DEFT/Feature_P01_04_DEFT.csv\n"
     ]
    }
   ],
   "source": [
    "S = 5  # Sampling every 30th frame\n",
    "features_list = []\n",
    "\n",
    "all_frames = sorted(os.listdir(rgb_path))[::S]\n",
    "\n",
    "for frame in tqdm(all_frames, desc=\"Extracting Features with DEFT\"):\n",
    "    rgb_frame_path = os.path.join(rgb_path, frame)\n",
    "    flow_u_frame_path = os.path.join(flow_u_path, frame)\n",
    "    flow_v_frame_path = os.path.join(flow_v_path, frame)\n",
    "    \n",
    "    rgb_features = extract_features(rgb_frame_path, transform, device)\n",
    "    flow_u_features = extract_features(flow_u_frame_path, transform, device)\n",
    "    flow_v_features = extract_features(flow_v_frame_path, transform, device)\n",
    "    \n",
    "    if rgb_features is not None and flow_u_features is not None and flow_v_features is not None:\n",
    "        combined_features = np.concatenate([rgb_features, flow_u_features, flow_v_features])\n",
    "        \n",
    "        frame_number = int(frame.split('_')[-1].split('.')[0])\n",
    "        label_row = labels_df[(labels_df['StartFrame'] <= frame_number) & (labels_df['EndFrame'] >= frame_number)]\n",
    "        \n",
    "        if not label_row.empty:\n",
    "            verb_class = label_row.iloc[0]['Verb_class']\n",
    "            noun_class = label_row.iloc[0]['Noun_class']\n",
    "            action_class = label_row.iloc[0]['Action_class']\n",
    "        else:\n",
    "            verb_class, noun_class, action_class = -1, -1, -1  # Default if no label found\n",
    "        \n",
    "        features_list.append([frame, verb_class, noun_class, action_class] + combined_features.tolist())\n",
    "\n",
    "if len(features_list) == 0:\n",
    "    raise ValueError(\"No valid features extracted. Please check the dataset paths and feature extraction function.\")\n",
    "\n",
    "columns = [\"Frame\", \"Verb_class\", \"Noun_class\", \"Action_class\"] + [f\"Feature_{i}\" for i in range(len(combined_features))]\n",
    "df = pd.DataFrame(features_list, columns=columns)\n",
    "df.to_csv(output_csv, index=False)\n",
    "\n",
    "print(f\"Feature extraction completed! Saved to {output_csv}\")\n"
   ]
  },
  {
   "cell_type": "code",
   "execution_count": 7,
   "id": "2065cf52",
   "metadata": {
    "scrolled": true
   },
   "outputs": [
    {
     "data": {
      "text/html": [
       "<div>\n",
       "<style scoped>\n",
       "    .dataframe tbody tr th:only-of-type {\n",
       "        vertical-align: middle;\n",
       "    }\n",
       "\n",
       "    .dataframe tbody tr th {\n",
       "        vertical-align: top;\n",
       "    }\n",
       "\n",
       "    .dataframe thead th {\n",
       "        text-align: right;\n",
       "    }\n",
       "</style>\n",
       "<table border=\"1\" class=\"dataframe\">\n",
       "  <thead>\n",
       "    <tr style=\"text-align: right;\">\n",
       "      <th></th>\n",
       "      <th>Frame</th>\n",
       "      <th>Verb_class</th>\n",
       "      <th>Noun_class</th>\n",
       "      <th>Action_class</th>\n",
       "      <th>Feature_0</th>\n",
       "      <th>Feature_1</th>\n",
       "      <th>Feature_2</th>\n",
       "      <th>Feature_3</th>\n",
       "      <th>Feature_4</th>\n",
       "      <th>Feature_5</th>\n",
       "      <th>...</th>\n",
       "      <th>Feature_6134</th>\n",
       "      <th>Feature_6135</th>\n",
       "      <th>Feature_6136</th>\n",
       "      <th>Feature_6137</th>\n",
       "      <th>Feature_6138</th>\n",
       "      <th>Feature_6139</th>\n",
       "      <th>Feature_6140</th>\n",
       "      <th>Feature_6141</th>\n",
       "      <th>Feature_6142</th>\n",
       "      <th>Feature_6143</th>\n",
       "    </tr>\n",
       "  </thead>\n",
       "  <tbody>\n",
       "    <tr>\n",
       "      <th>0</th>\n",
       "      <td>frame_00000.jpg</td>\n",
       "      <td>-1</td>\n",
       "      <td>-1</td>\n",
       "      <td>-1</td>\n",
       "      <td>0.651917</td>\n",
       "      <td>0.407176</td>\n",
       "      <td>0.076979</td>\n",
       "      <td>0.357042</td>\n",
       "      <td>1.976730</td>\n",
       "      <td>0.638776</td>\n",
       "      <td>...</td>\n",
       "      <td>0.119569</td>\n",
       "      <td>0.000009</td>\n",
       "      <td>0.029647</td>\n",
       "      <td>0.155487</td>\n",
       "      <td>0.006345</td>\n",
       "      <td>0.000375</td>\n",
       "      <td>0.108428</td>\n",
       "      <td>0.139510</td>\n",
       "      <td>0.029922</td>\n",
       "      <td>0.226609</td>\n",
       "    </tr>\n",
       "    <tr>\n",
       "      <th>1</th>\n",
       "      <td>frame_00005.jpg</td>\n",
       "      <td>-1</td>\n",
       "      <td>-1</td>\n",
       "      <td>-1</td>\n",
       "      <td>0.546664</td>\n",
       "      <td>0.483001</td>\n",
       "      <td>0.135680</td>\n",
       "      <td>0.225158</td>\n",
       "      <td>2.126921</td>\n",
       "      <td>0.551493</td>\n",
       "      <td>...</td>\n",
       "      <td>0.157487</td>\n",
       "      <td>0.000000</td>\n",
       "      <td>0.006592</td>\n",
       "      <td>0.087250</td>\n",
       "      <td>0.241418</td>\n",
       "      <td>0.000000</td>\n",
       "      <td>0.131806</td>\n",
       "      <td>0.069871</td>\n",
       "      <td>0.019073</td>\n",
       "      <td>0.259733</td>\n",
       "    </tr>\n",
       "    <tr>\n",
       "      <th>2</th>\n",
       "      <td>frame_00010.jpg</td>\n",
       "      <td>0</td>\n",
       "      <td>23</td>\n",
       "      <td>0</td>\n",
       "      <td>0.483140</td>\n",
       "      <td>0.646575</td>\n",
       "      <td>0.202512</td>\n",
       "      <td>0.355270</td>\n",
       "      <td>2.394428</td>\n",
       "      <td>0.560053</td>\n",
       "      <td>...</td>\n",
       "      <td>0.212274</td>\n",
       "      <td>0.019422</td>\n",
       "      <td>0.061624</td>\n",
       "      <td>0.105661</td>\n",
       "      <td>0.028055</td>\n",
       "      <td>0.000000</td>\n",
       "      <td>0.000000</td>\n",
       "      <td>0.177602</td>\n",
       "      <td>0.010195</td>\n",
       "      <td>0.164882</td>\n",
       "    </tr>\n",
       "    <tr>\n",
       "      <th>3</th>\n",
       "      <td>frame_00015.jpg</td>\n",
       "      <td>0</td>\n",
       "      <td>23</td>\n",
       "      <td>0</td>\n",
       "      <td>0.404216</td>\n",
       "      <td>0.568184</td>\n",
       "      <td>0.049507</td>\n",
       "      <td>0.525459</td>\n",
       "      <td>2.029208</td>\n",
       "      <td>0.432885</td>\n",
       "      <td>...</td>\n",
       "      <td>0.484715</td>\n",
       "      <td>0.122950</td>\n",
       "      <td>0.030248</td>\n",
       "      <td>0.096550</td>\n",
       "      <td>0.606497</td>\n",
       "      <td>0.011370</td>\n",
       "      <td>0.219069</td>\n",
       "      <td>0.188862</td>\n",
       "      <td>0.002258</td>\n",
       "      <td>0.156196</td>\n",
       "    </tr>\n",
       "    <tr>\n",
       "      <th>4</th>\n",
       "      <td>frame_00020.jpg</td>\n",
       "      <td>0</td>\n",
       "      <td>23</td>\n",
       "      <td>0</td>\n",
       "      <td>0.504452</td>\n",
       "      <td>0.529196</td>\n",
       "      <td>0.116372</td>\n",
       "      <td>0.598458</td>\n",
       "      <td>1.932839</td>\n",
       "      <td>0.722018</td>\n",
       "      <td>...</td>\n",
       "      <td>0.611212</td>\n",
       "      <td>0.257860</td>\n",
       "      <td>0.085634</td>\n",
       "      <td>0.485791</td>\n",
       "      <td>0.232887</td>\n",
       "      <td>0.000439</td>\n",
       "      <td>0.003415</td>\n",
       "      <td>0.046124</td>\n",
       "      <td>0.019902</td>\n",
       "      <td>0.666137</td>\n",
       "    </tr>\n",
       "    <tr>\n",
       "      <th>...</th>\n",
       "      <td>...</td>\n",
       "      <td>...</td>\n",
       "      <td>...</td>\n",
       "      <td>...</td>\n",
       "      <td>...</td>\n",
       "      <td>...</td>\n",
       "      <td>...</td>\n",
       "      <td>...</td>\n",
       "      <td>...</td>\n",
       "      <td>...</td>\n",
       "      <td>...</td>\n",
       "      <td>...</td>\n",
       "      <td>...</td>\n",
       "      <td>...</td>\n",
       "      <td>...</td>\n",
       "      <td>...</td>\n",
       "      <td>...</td>\n",
       "      <td>...</td>\n",
       "      <td>...</td>\n",
       "      <td>...</td>\n",
       "      <td>...</td>\n",
       "    </tr>\n",
       "    <tr>\n",
       "      <th>627</th>\n",
       "      <td>frame_03135.jpg</td>\n",
       "      <td>4</td>\n",
       "      <td>23</td>\n",
       "      <td>14</td>\n",
       "      <td>1.126213</td>\n",
       "      <td>0.175981</td>\n",
       "      <td>1.183292</td>\n",
       "      <td>1.671395</td>\n",
       "      <td>0.540780</td>\n",
       "      <td>0.675402</td>\n",
       "      <td>...</td>\n",
       "      <td>0.249193</td>\n",
       "      <td>0.011448</td>\n",
       "      <td>0.177856</td>\n",
       "      <td>0.290418</td>\n",
       "      <td>0.058419</td>\n",
       "      <td>0.020178</td>\n",
       "      <td>0.000000</td>\n",
       "      <td>0.038382</td>\n",
       "      <td>0.000758</td>\n",
       "      <td>0.110715</td>\n",
       "    </tr>\n",
       "    <tr>\n",
       "      <th>628</th>\n",
       "      <td>frame_03140.jpg</td>\n",
       "      <td>4</td>\n",
       "      <td>23</td>\n",
       "      <td>14</td>\n",
       "      <td>0.875532</td>\n",
       "      <td>0.130069</td>\n",
       "      <td>1.162229</td>\n",
       "      <td>1.753934</td>\n",
       "      <td>0.414319</td>\n",
       "      <td>0.467606</td>\n",
       "      <td>...</td>\n",
       "      <td>0.014190</td>\n",
       "      <td>0.004053</td>\n",
       "      <td>0.060821</td>\n",
       "      <td>0.077685</td>\n",
       "      <td>0.000000</td>\n",
       "      <td>0.007218</td>\n",
       "      <td>0.001084</td>\n",
       "      <td>0.041424</td>\n",
       "      <td>0.011284</td>\n",
       "      <td>0.098705</td>\n",
       "    </tr>\n",
       "    <tr>\n",
       "      <th>629</th>\n",
       "      <td>frame_03145.jpg</td>\n",
       "      <td>-1</td>\n",
       "      <td>-1</td>\n",
       "      <td>-1</td>\n",
       "      <td>0.990685</td>\n",
       "      <td>0.336301</td>\n",
       "      <td>0.916479</td>\n",
       "      <td>1.528714</td>\n",
       "      <td>0.513048</td>\n",
       "      <td>0.428346</td>\n",
       "      <td>...</td>\n",
       "      <td>0.383098</td>\n",
       "      <td>0.005483</td>\n",
       "      <td>0.029652</td>\n",
       "      <td>0.194086</td>\n",
       "      <td>0.161036</td>\n",
       "      <td>0.001043</td>\n",
       "      <td>0.000000</td>\n",
       "      <td>0.023354</td>\n",
       "      <td>0.198656</td>\n",
       "      <td>0.131415</td>\n",
       "    </tr>\n",
       "    <tr>\n",
       "      <th>630</th>\n",
       "      <td>frame_03150.jpg</td>\n",
       "      <td>4</td>\n",
       "      <td>7</td>\n",
       "      <td>15</td>\n",
       "      <td>1.255465</td>\n",
       "      <td>0.304995</td>\n",
       "      <td>1.173652</td>\n",
       "      <td>1.445411</td>\n",
       "      <td>0.552218</td>\n",
       "      <td>0.506052</td>\n",
       "      <td>...</td>\n",
       "      <td>0.182186</td>\n",
       "      <td>0.000100</td>\n",
       "      <td>0.025416</td>\n",
       "      <td>0.243660</td>\n",
       "      <td>0.004754</td>\n",
       "      <td>0.002198</td>\n",
       "      <td>0.000000</td>\n",
       "      <td>0.130777</td>\n",
       "      <td>0.013741</td>\n",
       "      <td>0.037159</td>\n",
       "    </tr>\n",
       "    <tr>\n",
       "      <th>631</th>\n",
       "      <td>frame_03155.jpg</td>\n",
       "      <td>4</td>\n",
       "      <td>7</td>\n",
       "      <td>15</td>\n",
       "      <td>1.158546</td>\n",
       "      <td>0.220160</td>\n",
       "      <td>1.129778</td>\n",
       "      <td>1.749090</td>\n",
       "      <td>0.472535</td>\n",
       "      <td>0.650623</td>\n",
       "      <td>...</td>\n",
       "      <td>0.000000</td>\n",
       "      <td>0.000000</td>\n",
       "      <td>0.000000</td>\n",
       "      <td>0.061422</td>\n",
       "      <td>0.000000</td>\n",
       "      <td>0.001553</td>\n",
       "      <td>0.000000</td>\n",
       "      <td>0.011717</td>\n",
       "      <td>0.011481</td>\n",
       "      <td>0.007311</td>\n",
       "    </tr>\n",
       "  </tbody>\n",
       "</table>\n",
       "<p>632 rows × 6148 columns</p>\n",
       "</div>"
      ],
      "text/plain": [
       "               Frame  Verb_class  Noun_class  Action_class  Feature_0  \\\n",
       "0    frame_00000.jpg          -1          -1            -1   0.651917   \n",
       "1    frame_00005.jpg          -1          -1            -1   0.546664   \n",
       "2    frame_00010.jpg           0          23             0   0.483140   \n",
       "3    frame_00015.jpg           0          23             0   0.404216   \n",
       "4    frame_00020.jpg           0          23             0   0.504452   \n",
       "..               ...         ...         ...           ...        ...   \n",
       "627  frame_03135.jpg           4          23            14   1.126213   \n",
       "628  frame_03140.jpg           4          23            14   0.875532   \n",
       "629  frame_03145.jpg          -1          -1            -1   0.990685   \n",
       "630  frame_03150.jpg           4           7            15   1.255465   \n",
       "631  frame_03155.jpg           4           7            15   1.158546   \n",
       "\n",
       "     Feature_1  Feature_2  Feature_3  Feature_4  Feature_5  ...  Feature_6134  \\\n",
       "0     0.407176   0.076979   0.357042   1.976730   0.638776  ...      0.119569   \n",
       "1     0.483001   0.135680   0.225158   2.126921   0.551493  ...      0.157487   \n",
       "2     0.646575   0.202512   0.355270   2.394428   0.560053  ...      0.212274   \n",
       "3     0.568184   0.049507   0.525459   2.029208   0.432885  ...      0.484715   \n",
       "4     0.529196   0.116372   0.598458   1.932839   0.722018  ...      0.611212   \n",
       "..         ...        ...        ...        ...        ...  ...           ...   \n",
       "627   0.175981   1.183292   1.671395   0.540780   0.675402  ...      0.249193   \n",
       "628   0.130069   1.162229   1.753934   0.414319   0.467606  ...      0.014190   \n",
       "629   0.336301   0.916479   1.528714   0.513048   0.428346  ...      0.383098   \n",
       "630   0.304995   1.173652   1.445411   0.552218   0.506052  ...      0.182186   \n",
       "631   0.220160   1.129778   1.749090   0.472535   0.650623  ...      0.000000   \n",
       "\n",
       "     Feature_6135  Feature_6136  Feature_6137  Feature_6138  Feature_6139  \\\n",
       "0        0.000009      0.029647      0.155487      0.006345      0.000375   \n",
       "1        0.000000      0.006592      0.087250      0.241418      0.000000   \n",
       "2        0.019422      0.061624      0.105661      0.028055      0.000000   \n",
       "3        0.122950      0.030248      0.096550      0.606497      0.011370   \n",
       "4        0.257860      0.085634      0.485791      0.232887      0.000439   \n",
       "..            ...           ...           ...           ...           ...   \n",
       "627      0.011448      0.177856      0.290418      0.058419      0.020178   \n",
       "628      0.004053      0.060821      0.077685      0.000000      0.007218   \n",
       "629      0.005483      0.029652      0.194086      0.161036      0.001043   \n",
       "630      0.000100      0.025416      0.243660      0.004754      0.002198   \n",
       "631      0.000000      0.000000      0.061422      0.000000      0.001553   \n",
       "\n",
       "     Feature_6140  Feature_6141  Feature_6142  Feature_6143  \n",
       "0        0.108428      0.139510      0.029922      0.226609  \n",
       "1        0.131806      0.069871      0.019073      0.259733  \n",
       "2        0.000000      0.177602      0.010195      0.164882  \n",
       "3        0.219069      0.188862      0.002258      0.156196  \n",
       "4        0.003415      0.046124      0.019902      0.666137  \n",
       "..            ...           ...           ...           ...  \n",
       "627      0.000000      0.038382      0.000758      0.110715  \n",
       "628      0.001084      0.041424      0.011284      0.098705  \n",
       "629      0.000000      0.023354      0.198656      0.131415  \n",
       "630      0.000000      0.130777      0.013741      0.037159  \n",
       "631      0.000000      0.011717      0.011481      0.007311  \n",
       "\n",
       "[632 rows x 6148 columns]"
      ]
     },
     "execution_count": 7,
     "metadata": {},
     "output_type": "execute_result"
    }
   ],
   "source": [
    "###########################################################\n",
    "# Display Extracted Features for Verification\n",
    "###########################################################\n",
    "f = pd.read_csv(\"../Features/Features_DEFT/Feature_P01_04_DEFT.csv\")\n",
    "f"
   ]
  }
 ],
 "metadata": {
  "kernelspec": {
   "display_name": "Python 3 (ipykernel)",
   "language": "python",
   "name": "python3"
  },
  "language_info": {
   "codemirror_mode": {
    "name": "ipython",
    "version": 3
   },
   "file_extension": ".py",
   "mimetype": "text/x-python",
   "name": "python",
   "nbconvert_exporter": "python",
   "pygments_lexer": "ipython3",
   "version": "3.11.5"
  }
 },
 "nbformat": 4,
 "nbformat_minor": 5
}
