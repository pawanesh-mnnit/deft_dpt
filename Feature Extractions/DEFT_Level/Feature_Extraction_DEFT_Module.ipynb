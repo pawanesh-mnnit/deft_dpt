{
 "cells": [
  {
   "cell_type": "code",
   "execution_count": 1,
   "id": "dc1e8957",
   "metadata": {},
   "outputs": [],
   "source": [
    "import os\n",
    "import numpy as np\n",
    "import pandas as pd\n",
    "import torch\n",
    "import torch.nn as nn\n",
    "import torch.nn.functional as F\n",
    "import torchvision.transforms as transforms\n",
    "from torchvision.models import resnet50\n",
    "from PIL import Image\n",
    "from tqdm import tqdm"
   ]
  },
  {
   "cell_type": "code",
   "execution_count": 11,
   "id": "2e05c5b0",
   "metadata": {},
   "outputs": [],
   "source": [
    "###########################################################\n",
    "# Define DEFT Module Components\n",
    "###########################################################\n",
    "\n",
    "class LocalizationNetwork(nn.Module):\n",
    "    def __init__(self, input_channels):\n",
    "        super(LocalizationNetwork, self).__init__()\n",
    "        self.conv1 = nn.Conv2d(input_channels, 8, kernel_size=7)\n",
    "        self.pool = nn.MaxPool2d(2, 2)\n",
    "        self.conv2 = nn.Conv2d(8, 10, kernel_size=5)\n",
    "\n",
    "        # Placeholder fc1 (will update after shape calculation)\n",
    "        self.fc1 = nn.Linear(1, 32)  # Temporary placeholder\n",
    "        self.fc2 = nn.Linear(32, 6)  # 6 affine parameters\n",
    "\n",
    "        # Initialize weights for identity transformation\n",
    "        self.fc2.weight.data.zero_()\n",
    "        self.fc2.bias.data.copy_(torch.tensor([1, 0, 0, 0, 1, 0], dtype=torch.float))\n",
    "\n",
    "    def forward(self, x):\n",
    "        x = self.pool(F.relu(self.conv1(x)))\n",
    "        x = self.pool(F.relu(self.conv2(x)))\n",
    "\n",
    "        # Dynamically compute the flattened size\n",
    "        if not hasattr(self, 'computed_fc1'):\n",
    "            flattened_size = x.view(x.shape[0], -1).shape[1]\n",
    "            self.fc1 = nn.Linear(flattened_size, 32).to(x.device)\n",
    "            self.computed_fc1 = True  # Prevent re-initialization\n",
    "\n",
    "        x = x.view(x.shape[0], -1)  # Flatten\n",
    "        x = F.relu(self.fc1(x))\n",
    "        theta = self.fc2(x)\n",
    "        theta = theta.view(-1, 2, 3)\n",
    "        return theta\n",
    "\n",
    "class WeightingModule(nn.Module):\n",
    "    def __init__(self, sigma=0.5):\n",
    "        super(WeightingModule, self).__init__()\n",
    "        self.lambda_param = nn.Parameter(torch.tensor(0.5))\n",
    "        self.sigma = sigma\n",
    "\n",
    "    def forward(self, grid):\n",
    "        dist2 = grid[..., 0]**2 + grid[..., 1]**2\n",
    "        weight = 1 + self.lambda_param * torch.exp(-dist2 / (2 * self.sigma ** 2))\n",
    "        return weight.unsqueeze(-1)\n",
    "\n",
    "class DEFTModule(nn.Module):\n",
    "    def __init__(self, input_channels, sigma=0.5):\n",
    "        super(DEFTModule, self).__init__()\n",
    "        self.localization = LocalizationNetwork(input_channels)\n",
    "        self.weighting = WeightingModule(sigma)\n",
    "\n",
    "    def forward(self, x):\n",
    "        theta = self.localization(x)\n",
    "        grid = F.affine_grid(theta, x.size(), align_corners=False)\n",
    "        weight = self.weighting(grid)\n",
    "        x_transformed = F.grid_sample(x, grid, align_corners=False)\n",
    "\n",
    "        if x.shape[1] > 1:\n",
    "            weight = weight.expand(-1, x.shape[2], x.shape[3], x.shape[1]).permute(0, 3, 1, 2)\n",
    "        else:\n",
    "            weight = weight.permute(0, 3, 1, 2)\n",
    "\n",
    "        x_weighted = x_transformed * weight\n",
    "        return x_weighted\n"
   ]
  },
  {
   "cell_type": "code",
   "execution_count": 12,
   "id": "5884d7a9",
   "metadata": {},
   "outputs": [
    {
     "name": "stderr",
     "output_type": "stream",
     "text": [
      "C:\\Users\\PAWANESH\\anaconda3\\Lib\\site-packages\\torchvision\\models\\_utils.py:208: UserWarning: The parameter 'pretrained' is deprecated since 0.13 and may be removed in the future, please use 'weights' instead.\n",
      "  warnings.warn(\n",
      "C:\\Users\\PAWANESH\\anaconda3\\Lib\\site-packages\\torchvision\\models\\_utils.py:223: UserWarning: Arguments other than a weight enum or `None` for 'weights' are deprecated since 0.13 and may be removed in the future. The current behavior is equivalent to passing `weights=ResNet50_Weights.IMAGENET1K_V1`. You can also use `weights=ResNet50_Weights.DEFAULT` to get the most up-to-date weights.\n",
      "  warnings.warn(msg)\n"
     ]
    }
   ],
   "source": [
    "###########################################################\n",
    "# Load ResNet50 Model for Feature Extraction\n",
    "###########################################################\n",
    "device = torch.device(\"cuda\" if torch.cuda.is_available() else \"cpu\")\n",
    "\n",
    "resnet_model = resnet50(pretrained=True)\n",
    "resnet_model = torch.nn.Sequential(*list(resnet_model.children())[:-1])  # Remove classification layer\n",
    "resnet_model.eval().to(device)\n",
    "\n",
    "# Load DEFT Module\n",
    "deft_model = DEFTModule(input_channels=3).to(device)  # Input channels = 3 (RGB)\n",
    "deft_model.eval()\n",
    "\n",
    "###########################################################\n",
    "# Define Image Transformation\n",
    "###########################################################\n",
    "transform = transforms.Compose([\n",
    "    transforms.Resize((224, 224)),\n",
    "    transforms.ToTensor(),\n",
    "    transforms.Normalize(mean=[0.485, 0.456, 0.406], std=[0.229, 0.224, 0.225])\n",
    "])"
   ]
  },
  {
   "cell_type": "code",
   "execution_count": 8,
   "id": "7955dee6",
   "metadata": {},
   "outputs": [
    {
     "data": {
      "text/plain": [
       "DEFTModule(\n",
       "  (localization): LocalizationNetwork(\n",
       "    (conv1): Conv2d(3, 8, kernel_size=(7, 7), stride=(1, 1))\n",
       "    (pool): MaxPool2d(kernel_size=2, stride=2, padding=0, dilation=1, ceil_mode=False)\n",
       "    (conv2): Conv2d(8, 10, kernel_size=(5, 5), stride=(1, 1))\n",
       "    (fc1): Linear(in_features=4000, out_features=32, bias=True)\n",
       "    (fc2): Linear(in_features=32, out_features=6, bias=True)\n",
       "  )\n",
       "  (weighting): WeightingModule()\n",
       ")"
      ]
     },
     "execution_count": 8,
     "metadata": {},
     "output_type": "execute_result"
    }
   ],
   "source": [
    "deft_model"
   ]
  },
  {
   "cell_type": "code",
   "execution_count": 13,
   "id": "01ef9e72",
   "metadata": {},
   "outputs": [],
   "source": [
    "###########################################################\n",
    "# Feature Extraction Function with DEFT\n",
    "###########################################################\n",
    "def extract_features(image_path, transform, device=device):\n",
    "    \"\"\"Extract ResNet50 features from a single image after DEFT transformation.\"\"\"\n",
    "    try:\n",
    "        image = Image.open(image_path).convert('RGB')\n",
    "        image = transform(image).unsqueeze(0).to(device)  # Convert to tensor and send to GPU\n",
    "\n",
    "        # Apply DEFT Transformation\n",
    "        with torch.no_grad():\n",
    "            image = deft_model(image)  # Pass through DEFT Module\n",
    "            features = resnet_model(image).squeeze().cpu().numpy()  # Extract ResNet50 features\n",
    "        \n",
    "        return features\n",
    "    except Exception as e:\n",
    "        print(f\"Skipping frame: {image_path} due to error: {e}\")\n",
    "        return None\n",
    "\n",
    "###########################################################\n",
    "# Paths to RGB and Optical Flow Directories\n",
    "###########################################################\n",
    "rgb_path = \"D:/Datasets/Datasets/EPIC_Kitchen/RGB/P01_04\"\n",
    "flow_u_path = \"D:/Datasets/Datasets/EPIC_Kitchen/OpticalFlow/P01_04/u\"\n",
    "flow_v_path = \"D:/Datasets/Datasets/EPIC_Kitchen/OpticalFlow/P01_04/v\"\n",
    "\n",
    "label_csv_path = \"D:/Datasets/Datasets/EPIC_Kitchen/Label/P01_04.csv\"\n",
    "labels_df = pd.read_csv(label_csv_path)\n",
    "\n",
    "output_csv = \"Features/Feature_P01_04_with_DEFT.csv\"\n"
   ]
  },
  {
   "cell_type": "code",
   "execution_count": 14,
   "id": "bdd4548d",
   "metadata": {
    "collapsed": true
   },
   "outputs": [
    {
     "name": "stderr",
     "output_type": "stream",
     "text": [
      "Extracting Features with DEFT:  50%|████████████████████████▏                       | 636/1262 [00:44<00:33, 18.55it/s]"
     ]
    },
    {
     "name": "stdout",
     "output_type": "stream",
     "text": [
      "Skipping frame: D:/Datasets/Datasets/EPIC_Kitchen/OpticalFlow/P01_04/u\\frame_3161.jpg due to error: [Errno 2] No such file or directory: 'D:\\\\Datasets\\\\Datasets\\\\EPIC_Kitchen\\\\OpticalFlow\\\\P01_04\\\\u\\\\frame_3161.jpg'\n",
      "Skipping frame: D:/Datasets/Datasets/EPIC_Kitchen/OpticalFlow/P01_04/v\\frame_3161.jpg due to error: [Errno 2] No such file or directory: 'D:\\\\Datasets\\\\Datasets\\\\EPIC_Kitchen\\\\OpticalFlow\\\\P01_04\\\\v\\\\frame_3161.jpg'\n",
      "Skipping frame: D:/Datasets/Datasets/EPIC_Kitchen/OpticalFlow/P01_04/u\\frame_3166.jpg due to error: [Errno 2] No such file or directory: 'D:\\\\Datasets\\\\Datasets\\\\EPIC_Kitchen\\\\OpticalFlow\\\\P01_04\\\\u\\\\frame_3166.jpg'\n",
      "Skipping frame: D:/Datasets/Datasets/EPIC_Kitchen/OpticalFlow/P01_04/v\\frame_3166.jpg due to error: [Errno 2] No such file or directory: 'D:\\\\Datasets\\\\Datasets\\\\EPIC_Kitchen\\\\OpticalFlow\\\\P01_04\\\\v\\\\frame_3166.jpg'\n",
      "Skipping frame: D:/Datasets/Datasets/EPIC_Kitchen/OpticalFlow/P01_04/u\\frame_3171.jpg due to error: [Errno 2] No such file or directory: 'D:\\\\Datasets\\\\Datasets\\\\EPIC_Kitchen\\\\OpticalFlow\\\\P01_04\\\\u\\\\frame_3171.jpg'\n",
      "Skipping frame: D:/Datasets/Datasets/EPIC_Kitchen/OpticalFlow/P01_04/v\\frame_3171.jpg due to error: [Errno 2] No such file or directory: 'D:\\\\Datasets\\\\Datasets\\\\EPIC_Kitchen\\\\OpticalFlow\\\\P01_04\\\\v\\\\frame_3171.jpg'\n",
      "Skipping frame: D:/Datasets/Datasets/EPIC_Kitchen/OpticalFlow/P01_04/u\\frame_3176.jpg due to error: [Errno 2] No such file or directory: 'D:\\\\Datasets\\\\Datasets\\\\EPIC_Kitchen\\\\OpticalFlow\\\\P01_04\\\\u\\\\frame_3176.jpg'\n",
      "Skipping frame: D:/Datasets/Datasets/EPIC_Kitchen/OpticalFlow/P01_04/v\\frame_3176.jpg due to error: [Errno 2] No such file or directory: 'D:\\\\Datasets\\\\Datasets\\\\EPIC_Kitchen\\\\OpticalFlow\\\\P01_04\\\\v\\\\frame_3176.jpg'\n",
      "Skipping frame: D:/Datasets/Datasets/EPIC_Kitchen/OpticalFlow/P01_04/u\\frame_3181.jpg due to error: [Errno 2] No such file or directory: 'D:\\\\Datasets\\\\Datasets\\\\EPIC_Kitchen\\\\OpticalFlow\\\\P01_04\\\\u\\\\frame_3181.jpg'\n",
      "Skipping frame: D:/Datasets/Datasets/EPIC_Kitchen/OpticalFlow/P01_04/v\\frame_3181.jpg due to error: [Errno 2] No such file or directory: 'D:\\\\Datasets\\\\Datasets\\\\EPIC_Kitchen\\\\OpticalFlow\\\\P01_04\\\\v\\\\frame_3181.jpg'\n",
      "Skipping frame: D:/Datasets/Datasets/EPIC_Kitchen/OpticalFlow/P01_04/u\\frame_3186.jpg due to error: [Errno 2] No such file or directory: 'D:\\\\Datasets\\\\Datasets\\\\EPIC_Kitchen\\\\OpticalFlow\\\\P01_04\\\\u\\\\frame_3186.jpg'\n",
      "Skipping frame: D:/Datasets/Datasets/EPIC_Kitchen/OpticalFlow/P01_04/v\\frame_3186.jpg due to error: [Errno 2] No such file or directory: 'D:\\\\Datasets\\\\Datasets\\\\EPIC_Kitchen\\\\OpticalFlow\\\\P01_04\\\\v\\\\frame_3186.jpg'\n"
     ]
    },
    {
     "name": "stderr",
     "output_type": "stream",
     "text": [
      "Extracting Features with DEFT:  51%|████████████████████████▍                       | 642/1262 [00:44<00:28, 22.07it/s]"
     ]
    },
    {
     "name": "stdout",
     "output_type": "stream",
     "text": [
      "Skipping frame: D:/Datasets/Datasets/EPIC_Kitchen/OpticalFlow/P01_04/u\\frame_3191.jpg due to error: [Errno 2] No such file or directory: 'D:\\\\Datasets\\\\Datasets\\\\EPIC_Kitchen\\\\OpticalFlow\\\\P01_04\\\\u\\\\frame_3191.jpg'\n",
      "Skipping frame: D:/Datasets/Datasets/EPIC_Kitchen/OpticalFlow/P01_04/v\\frame_3191.jpg due to error: [Errno 2] No such file or directory: 'D:\\\\Datasets\\\\Datasets\\\\EPIC_Kitchen\\\\OpticalFlow\\\\P01_04\\\\v\\\\frame_3191.jpg'\n",
      "Skipping frame: D:/Datasets/Datasets/EPIC_Kitchen/OpticalFlow/P01_04/u\\frame_3196.jpg due to error: [Errno 2] No such file or directory: 'D:\\\\Datasets\\\\Datasets\\\\EPIC_Kitchen\\\\OpticalFlow\\\\P01_04\\\\u\\\\frame_3196.jpg'\n",
      "Skipping frame: D:/Datasets/Datasets/EPIC_Kitchen/OpticalFlow/P01_04/v\\frame_3196.jpg due to error: [Errno 2] No such file or directory: 'D:\\\\Datasets\\\\Datasets\\\\EPIC_Kitchen\\\\OpticalFlow\\\\P01_04\\\\v\\\\frame_3196.jpg'\n",
      "Skipping frame: D:/Datasets/Datasets/EPIC_Kitchen/OpticalFlow/P01_04/u\\frame_3201.jpg due to error: [Errno 2] No such file or directory: 'D:\\\\Datasets\\\\Datasets\\\\EPIC_Kitchen\\\\OpticalFlow\\\\P01_04\\\\u\\\\frame_3201.jpg'\n",
      "Skipping frame: D:/Datasets/Datasets/EPIC_Kitchen/OpticalFlow/P01_04/v\\frame_3201.jpg due to error: [Errno 2] No such file or directory: 'D:\\\\Datasets\\\\Datasets\\\\EPIC_Kitchen\\\\OpticalFlow\\\\P01_04\\\\v\\\\frame_3201.jpg'\n",
      "Skipping frame: D:/Datasets/Datasets/EPIC_Kitchen/OpticalFlow/P01_04/u\\frame_3206.jpg due to error: [Errno 2] No such file or directory: 'D:\\\\Datasets\\\\Datasets\\\\EPIC_Kitchen\\\\OpticalFlow\\\\P01_04\\\\u\\\\frame_3206.jpg'\n",
      "Skipping frame: D:/Datasets/Datasets/EPIC_Kitchen/OpticalFlow/P01_04/v\\frame_3206.jpg due to error: [Errno 2] No such file or directory: 'D:\\\\Datasets\\\\Datasets\\\\EPIC_Kitchen\\\\OpticalFlow\\\\P01_04\\\\v\\\\frame_3206.jpg'\n",
      "Skipping frame: D:/Datasets/Datasets/EPIC_Kitchen/OpticalFlow/P01_04/u\\frame_3211.jpg due to error: [Errno 2] No such file or directory: 'D:\\\\Datasets\\\\Datasets\\\\EPIC_Kitchen\\\\OpticalFlow\\\\P01_04\\\\u\\\\frame_3211.jpg'\n",
      "Skipping frame: D:/Datasets/Datasets/EPIC_Kitchen/OpticalFlow/P01_04/v\\frame_3211.jpg due to error: [Errno 2] No such file or directory: 'D:\\\\Datasets\\\\Datasets\\\\EPIC_Kitchen\\\\OpticalFlow\\\\P01_04\\\\v\\\\frame_3211.jpg'\n",
      "Skipping frame: D:/Datasets/Datasets/EPIC_Kitchen/OpticalFlow/P01_04/u\\frame_3216.jpg due to error: [Errno 2] No such file or directory: 'D:\\\\Datasets\\\\Datasets\\\\EPIC_Kitchen\\\\OpticalFlow\\\\P01_04\\\\u\\\\frame_3216.jpg'\n",
      "Skipping frame: D:/Datasets/Datasets/EPIC_Kitchen/OpticalFlow/P01_04/v\\frame_3216.jpg due to error: [Errno 2] No such file or directory: 'D:\\\\Datasets\\\\Datasets\\\\EPIC_Kitchen\\\\OpticalFlow\\\\P01_04\\\\v\\\\frame_3216.jpg'\n"
     ]
    },
    {
     "name": "stderr",
     "output_type": "stream",
     "text": [
      "Extracting Features with DEFT:  51%|████████████████████████▋                       | 648/1262 [00:44<00:24, 24.76it/s]"
     ]
    },
    {
     "name": "stdout",
     "output_type": "stream",
     "text": [
      "Skipping frame: D:/Datasets/Datasets/EPIC_Kitchen/OpticalFlow/P01_04/u\\frame_3221.jpg due to error: [Errno 2] No such file or directory: 'D:\\\\Datasets\\\\Datasets\\\\EPIC_Kitchen\\\\OpticalFlow\\\\P01_04\\\\u\\\\frame_3221.jpg'\n",
      "Skipping frame: D:/Datasets/Datasets/EPIC_Kitchen/OpticalFlow/P01_04/v\\frame_3221.jpg due to error: [Errno 2] No such file or directory: 'D:\\\\Datasets\\\\Datasets\\\\EPIC_Kitchen\\\\OpticalFlow\\\\P01_04\\\\v\\\\frame_3221.jpg'\n",
      "Skipping frame: D:/Datasets/Datasets/EPIC_Kitchen/OpticalFlow/P01_04/u\\frame_3226.jpg due to error: [Errno 2] No such file or directory: 'D:\\\\Datasets\\\\Datasets\\\\EPIC_Kitchen\\\\OpticalFlow\\\\P01_04\\\\u\\\\frame_3226.jpg'\n",
      "Skipping frame: D:/Datasets/Datasets/EPIC_Kitchen/OpticalFlow/P01_04/v\\frame_3226.jpg due to error: [Errno 2] No such file or directory: 'D:\\\\Datasets\\\\Datasets\\\\EPIC_Kitchen\\\\OpticalFlow\\\\P01_04\\\\v\\\\frame_3226.jpg'\n",
      "Skipping frame: D:/Datasets/Datasets/EPIC_Kitchen/OpticalFlow/P01_04/u\\frame_3231.jpg due to error: [Errno 2] No such file or directory: 'D:\\\\Datasets\\\\Datasets\\\\EPIC_Kitchen\\\\OpticalFlow\\\\P01_04\\\\u\\\\frame_3231.jpg'\n",
      "Skipping frame: D:/Datasets/Datasets/EPIC_Kitchen/OpticalFlow/P01_04/v\\frame_3231.jpg due to error: [Errno 2] No such file or directory: 'D:\\\\Datasets\\\\Datasets\\\\EPIC_Kitchen\\\\OpticalFlow\\\\P01_04\\\\v\\\\frame_3231.jpg'\n",
      "Skipping frame: D:/Datasets/Datasets/EPIC_Kitchen/OpticalFlow/P01_04/u\\frame_3236.jpg due to error: [Errno 2] No such file or directory: 'D:\\\\Datasets\\\\Datasets\\\\EPIC_Kitchen\\\\OpticalFlow\\\\P01_04\\\\u\\\\frame_3236.jpg'\n",
      "Skipping frame: D:/Datasets/Datasets/EPIC_Kitchen/OpticalFlow/P01_04/v\\frame_3236.jpg due to error: [Errno 2] No such file or directory: 'D:\\\\Datasets\\\\Datasets\\\\EPIC_Kitchen\\\\OpticalFlow\\\\P01_04\\\\v\\\\frame_3236.jpg'\n",
      "Skipping frame: D:/Datasets/Datasets/EPIC_Kitchen/OpticalFlow/P01_04/u\\frame_3241.jpg due to error: [Errno 2] No such file or directory: 'D:\\\\Datasets\\\\Datasets\\\\EPIC_Kitchen\\\\OpticalFlow\\\\P01_04\\\\u\\\\frame_3241.jpg'\n",
      "Skipping frame: D:/Datasets/Datasets/EPIC_Kitchen/OpticalFlow/P01_04/v\\frame_3241.jpg due to error: [Errno 2] No such file or directory: 'D:\\\\Datasets\\\\Datasets\\\\EPIC_Kitchen\\\\OpticalFlow\\\\P01_04\\\\v\\\\frame_3241.jpg'\n",
      "Skipping frame: D:/Datasets/Datasets/EPIC_Kitchen/OpticalFlow/P01_04/u\\frame_3246.jpg due to error: [Errno 2] No such file or directory: 'D:\\\\Datasets\\\\Datasets\\\\EPIC_Kitchen\\\\OpticalFlow\\\\P01_04\\\\u\\\\frame_3246.jpg'\n",
      "Skipping frame: D:/Datasets/Datasets/EPIC_Kitchen/OpticalFlow/P01_04/v\\frame_3246.jpg due to error: [Errno 2] No such file or directory: 'D:\\\\Datasets\\\\Datasets\\\\EPIC_Kitchen\\\\OpticalFlow\\\\P01_04\\\\v\\\\frame_3246.jpg'\n"
     ]
    },
    {
     "name": "stderr",
     "output_type": "stream",
     "text": [
      "Extracting Features with DEFT:  52%|████████████████████████▊                       | 654/1262 [00:44<00:23, 25.82it/s]"
     ]
    },
    {
     "name": "stdout",
     "output_type": "stream",
     "text": [
      "Skipping frame: D:/Datasets/Datasets/EPIC_Kitchen/OpticalFlow/P01_04/u\\frame_3251.jpg due to error: [Errno 2] No such file or directory: 'D:\\\\Datasets\\\\Datasets\\\\EPIC_Kitchen\\\\OpticalFlow\\\\P01_04\\\\u\\\\frame_3251.jpg'\n",
      "Skipping frame: D:/Datasets/Datasets/EPIC_Kitchen/OpticalFlow/P01_04/v\\frame_3251.jpg due to error: [Errno 2] No such file or directory: 'D:\\\\Datasets\\\\Datasets\\\\EPIC_Kitchen\\\\OpticalFlow\\\\P01_04\\\\v\\\\frame_3251.jpg'\n",
      "Skipping frame: D:/Datasets/Datasets/EPIC_Kitchen/OpticalFlow/P01_04/u\\frame_3256.jpg due to error: [Errno 2] No such file or directory: 'D:\\\\Datasets\\\\Datasets\\\\EPIC_Kitchen\\\\OpticalFlow\\\\P01_04\\\\u\\\\frame_3256.jpg'\n",
      "Skipping frame: D:/Datasets/Datasets/EPIC_Kitchen/OpticalFlow/P01_04/v\\frame_3256.jpg due to error: [Errno 2] No such file or directory: 'D:\\\\Datasets\\\\Datasets\\\\EPIC_Kitchen\\\\OpticalFlow\\\\P01_04\\\\v\\\\frame_3256.jpg'\n",
      "Skipping frame: D:/Datasets/Datasets/EPIC_Kitchen/OpticalFlow/P01_04/u\\frame_3261.jpg due to error: [Errno 2] No such file or directory: 'D:\\\\Datasets\\\\Datasets\\\\EPIC_Kitchen\\\\OpticalFlow\\\\P01_04\\\\u\\\\frame_3261.jpg'\n",
      "Skipping frame: D:/Datasets/Datasets/EPIC_Kitchen/OpticalFlow/P01_04/v\\frame_3261.jpg due to error: [Errno 2] No such file or directory: 'D:\\\\Datasets\\\\Datasets\\\\EPIC_Kitchen\\\\OpticalFlow\\\\P01_04\\\\v\\\\frame_3261.jpg'\n",
      "Skipping frame: D:/Datasets/Datasets/EPIC_Kitchen/OpticalFlow/P01_04/u\\frame_3266.jpg due to error: [Errno 2] No such file or directory: 'D:\\\\Datasets\\\\Datasets\\\\EPIC_Kitchen\\\\OpticalFlow\\\\P01_04\\\\u\\\\frame_3266.jpg'\n",
      "Skipping frame: D:/Datasets/Datasets/EPIC_Kitchen/OpticalFlow/P01_04/v\\frame_3266.jpg due to error: [Errno 2] No such file or directory: 'D:\\\\Datasets\\\\Datasets\\\\EPIC_Kitchen\\\\OpticalFlow\\\\P01_04\\\\v\\\\frame_3266.jpg'\n",
      "Skipping frame: D:/Datasets/Datasets/EPIC_Kitchen/OpticalFlow/P01_04/u\\frame_3271.jpg due to error: [Errno 2] No such file or directory: 'D:\\\\Datasets\\\\Datasets\\\\EPIC_Kitchen\\\\OpticalFlow\\\\P01_04\\\\u\\\\frame_3271.jpg'\n",
      "Skipping frame: D:/Datasets/Datasets/EPIC_Kitchen/OpticalFlow/P01_04/v\\frame_3271.jpg due to error: [Errno 2] No such file or directory: 'D:\\\\Datasets\\\\Datasets\\\\EPIC_Kitchen\\\\OpticalFlow\\\\P01_04\\\\v\\\\frame_3271.jpg'\n",
      "Skipping frame: D:/Datasets/Datasets/EPIC_Kitchen/OpticalFlow/P01_04/u\\frame_3276.jpg due to error: [Errno 2] No such file or directory: 'D:\\\\Datasets\\\\Datasets\\\\EPIC_Kitchen\\\\OpticalFlow\\\\P01_04\\\\u\\\\frame_3276.jpg'\n",
      "Skipping frame: D:/Datasets/Datasets/EPIC_Kitchen/OpticalFlow/P01_04/v\\frame_3276.jpg due to error: [Errno 2] No such file or directory: 'D:\\\\Datasets\\\\Datasets\\\\EPIC_Kitchen\\\\OpticalFlow\\\\P01_04\\\\v\\\\frame_3276.jpg'\n"
     ]
    },
    {
     "name": "stderr",
     "output_type": "stream",
     "text": [
      "Extracting Features with DEFT:  52%|█████████████████████████                       | 660/1262 [00:45<00:23, 25.96it/s]"
     ]
    },
    {
     "name": "stdout",
     "output_type": "stream",
     "text": [
      "Skipping frame: D:/Datasets/Datasets/EPIC_Kitchen/OpticalFlow/P01_04/u\\frame_3281.jpg due to error: [Errno 2] No such file or directory: 'D:\\\\Datasets\\\\Datasets\\\\EPIC_Kitchen\\\\OpticalFlow\\\\P01_04\\\\u\\\\frame_3281.jpg'\n",
      "Skipping frame: D:/Datasets/Datasets/EPIC_Kitchen/OpticalFlow/P01_04/v\\frame_3281.jpg due to error: [Errno 2] No such file or directory: 'D:\\\\Datasets\\\\Datasets\\\\EPIC_Kitchen\\\\OpticalFlow\\\\P01_04\\\\v\\\\frame_3281.jpg'\n",
      "Skipping frame: D:/Datasets/Datasets/EPIC_Kitchen/OpticalFlow/P01_04/u\\frame_3286.jpg due to error: [Errno 2] No such file or directory: 'D:\\\\Datasets\\\\Datasets\\\\EPIC_Kitchen\\\\OpticalFlow\\\\P01_04\\\\u\\\\frame_3286.jpg'\n",
      "Skipping frame: D:/Datasets/Datasets/EPIC_Kitchen/OpticalFlow/P01_04/v\\frame_3286.jpg due to error: [Errno 2] No such file or directory: 'D:\\\\Datasets\\\\Datasets\\\\EPIC_Kitchen\\\\OpticalFlow\\\\P01_04\\\\v\\\\frame_3286.jpg'\n",
      "Skipping frame: D:/Datasets/Datasets/EPIC_Kitchen/OpticalFlow/P01_04/u\\frame_3291.jpg due to error: [Errno 2] No such file or directory: 'D:\\\\Datasets\\\\Datasets\\\\EPIC_Kitchen\\\\OpticalFlow\\\\P01_04\\\\u\\\\frame_3291.jpg'\n",
      "Skipping frame: D:/Datasets/Datasets/EPIC_Kitchen/OpticalFlow/P01_04/v\\frame_3291.jpg due to error: [Errno 2] No such file or directory: 'D:\\\\Datasets\\\\Datasets\\\\EPIC_Kitchen\\\\OpticalFlow\\\\P01_04\\\\v\\\\frame_3291.jpg'\n",
      "Skipping frame: D:/Datasets/Datasets/EPIC_Kitchen/OpticalFlow/P01_04/u\\frame_3296.jpg due to error: [Errno 2] No such file or directory: 'D:\\\\Datasets\\\\Datasets\\\\EPIC_Kitchen\\\\OpticalFlow\\\\P01_04\\\\u\\\\frame_3296.jpg'\n",
      "Skipping frame: D:/Datasets/Datasets/EPIC_Kitchen/OpticalFlow/P01_04/v\\frame_3296.jpg due to error: [Errno 2] No such file or directory: 'D:\\\\Datasets\\\\Datasets\\\\EPIC_Kitchen\\\\OpticalFlow\\\\P01_04\\\\v\\\\frame_3296.jpg'\n",
      "Skipping frame: D:/Datasets/Datasets/EPIC_Kitchen/OpticalFlow/P01_04/u\\frame_3301.jpg due to error: [Errno 2] No such file or directory: 'D:\\\\Datasets\\\\Datasets\\\\EPIC_Kitchen\\\\OpticalFlow\\\\P01_04\\\\u\\\\frame_3301.jpg'\n",
      "Skipping frame: D:/Datasets/Datasets/EPIC_Kitchen/OpticalFlow/P01_04/v\\frame_3301.jpg due to error: [Errno 2] No such file or directory: 'D:\\\\Datasets\\\\Datasets\\\\EPIC_Kitchen\\\\OpticalFlow\\\\P01_04\\\\v\\\\frame_3301.jpg'\n",
      "Skipping frame: D:/Datasets/Datasets/EPIC_Kitchen/OpticalFlow/P01_04/u\\frame_3306.jpg due to error: [Errno 2] No such file or directory: 'D:\\\\Datasets\\\\Datasets\\\\EPIC_Kitchen\\\\OpticalFlow\\\\P01_04\\\\u\\\\frame_3306.jpg'\n",
      "Skipping frame: D:/Datasets/Datasets/EPIC_Kitchen/OpticalFlow/P01_04/v\\frame_3306.jpg due to error: [Errno 2] No such file or directory: 'D:\\\\Datasets\\\\Datasets\\\\EPIC_Kitchen\\\\OpticalFlow\\\\P01_04\\\\v\\\\frame_3306.jpg'\n"
     ]
    },
    {
     "name": "stderr",
     "output_type": "stream",
     "text": [
      "Extracting Features with DEFT:  53%|█████████████████████████▎                      | 666/1262 [00:45<00:22, 26.30it/s]"
     ]
    },
    {
     "name": "stdout",
     "output_type": "stream",
     "text": [
      "Skipping frame: D:/Datasets/Datasets/EPIC_Kitchen/OpticalFlow/P01_04/u\\frame_3311.jpg due to error: [Errno 2] No such file or directory: 'D:\\\\Datasets\\\\Datasets\\\\EPIC_Kitchen\\\\OpticalFlow\\\\P01_04\\\\u\\\\frame_3311.jpg'\n",
      "Skipping frame: D:/Datasets/Datasets/EPIC_Kitchen/OpticalFlow/P01_04/v\\frame_3311.jpg due to error: [Errno 2] No such file or directory: 'D:\\\\Datasets\\\\Datasets\\\\EPIC_Kitchen\\\\OpticalFlow\\\\P01_04\\\\v\\\\frame_3311.jpg'\n",
      "Skipping frame: D:/Datasets/Datasets/EPIC_Kitchen/OpticalFlow/P01_04/u\\frame_3316.jpg due to error: [Errno 2] No such file or directory: 'D:\\\\Datasets\\\\Datasets\\\\EPIC_Kitchen\\\\OpticalFlow\\\\P01_04\\\\u\\\\frame_3316.jpg'\n",
      "Skipping frame: D:/Datasets/Datasets/EPIC_Kitchen/OpticalFlow/P01_04/v\\frame_3316.jpg due to error: [Errno 2] No such file or directory: 'D:\\\\Datasets\\\\Datasets\\\\EPIC_Kitchen\\\\OpticalFlow\\\\P01_04\\\\v\\\\frame_3316.jpg'\n",
      "Skipping frame: D:/Datasets/Datasets/EPIC_Kitchen/OpticalFlow/P01_04/u\\frame_3321.jpg due to error: [Errno 2] No such file or directory: 'D:\\\\Datasets\\\\Datasets\\\\EPIC_Kitchen\\\\OpticalFlow\\\\P01_04\\\\u\\\\frame_3321.jpg'\n",
      "Skipping frame: D:/Datasets/Datasets/EPIC_Kitchen/OpticalFlow/P01_04/v\\frame_3321.jpg due to error: [Errno 2] No such file or directory: 'D:\\\\Datasets\\\\Datasets\\\\EPIC_Kitchen\\\\OpticalFlow\\\\P01_04\\\\v\\\\frame_3321.jpg'\n",
      "Skipping frame: D:/Datasets/Datasets/EPIC_Kitchen/OpticalFlow/P01_04/u\\frame_3326.jpg due to error: [Errno 2] No such file or directory: 'D:\\\\Datasets\\\\Datasets\\\\EPIC_Kitchen\\\\OpticalFlow\\\\P01_04\\\\u\\\\frame_3326.jpg'\n",
      "Skipping frame: D:/Datasets/Datasets/EPIC_Kitchen/OpticalFlow/P01_04/v\\frame_3326.jpg due to error: [Errno 2] No such file or directory: 'D:\\\\Datasets\\\\Datasets\\\\EPIC_Kitchen\\\\OpticalFlow\\\\P01_04\\\\v\\\\frame_3326.jpg'\n",
      "Skipping frame: D:/Datasets/Datasets/EPIC_Kitchen/OpticalFlow/P01_04/u\\frame_3331.jpg due to error: [Errno 2] No such file or directory: 'D:\\\\Datasets\\\\Datasets\\\\EPIC_Kitchen\\\\OpticalFlow\\\\P01_04\\\\u\\\\frame_3331.jpg'\n",
      "Skipping frame: D:/Datasets/Datasets/EPIC_Kitchen/OpticalFlow/P01_04/v\\frame_3331.jpg due to error: [Errno 2] No such file or directory: 'D:\\\\Datasets\\\\Datasets\\\\EPIC_Kitchen\\\\OpticalFlow\\\\P01_04\\\\v\\\\frame_3331.jpg'\n"
     ]
    },
    {
     "name": "stderr",
     "output_type": "stream",
     "text": [
      "Extracting Features with DEFT:  53%|█████████████████████████▌                      | 672/1262 [00:45<00:24, 24.35it/s]"
     ]
    },
    {
     "name": "stdout",
     "output_type": "stream",
     "text": [
      "Skipping frame: D:/Datasets/Datasets/EPIC_Kitchen/OpticalFlow/P01_04/u\\frame_3336.jpg due to error: [Errno 2] No such file or directory: 'D:\\\\Datasets\\\\Datasets\\\\EPIC_Kitchen\\\\OpticalFlow\\\\P01_04\\\\u\\\\frame_3336.jpg'\n",
      "Skipping frame: D:/Datasets/Datasets/EPIC_Kitchen/OpticalFlow/P01_04/v\\frame_3336.jpg due to error: [Errno 2] No such file or directory: 'D:\\\\Datasets\\\\Datasets\\\\EPIC_Kitchen\\\\OpticalFlow\\\\P01_04\\\\v\\\\frame_3336.jpg'\n",
      "Skipping frame: D:/Datasets/Datasets/EPIC_Kitchen/OpticalFlow/P01_04/u\\frame_3341.jpg due to error: [Errno 2] No such file or directory: 'D:\\\\Datasets\\\\Datasets\\\\EPIC_Kitchen\\\\OpticalFlow\\\\P01_04\\\\u\\\\frame_3341.jpg'\n",
      "Skipping frame: D:/Datasets/Datasets/EPIC_Kitchen/OpticalFlow/P01_04/v\\frame_3341.jpg due to error: [Errno 2] No such file or directory: 'D:\\\\Datasets\\\\Datasets\\\\EPIC_Kitchen\\\\OpticalFlow\\\\P01_04\\\\v\\\\frame_3341.jpg'\n",
      "Skipping frame: D:/Datasets/Datasets/EPIC_Kitchen/OpticalFlow/P01_04/u\\frame_3346.jpg due to error: [Errno 2] No such file or directory: 'D:\\\\Datasets\\\\Datasets\\\\EPIC_Kitchen\\\\OpticalFlow\\\\P01_04\\\\u\\\\frame_3346.jpg'\n",
      "Skipping frame: D:/Datasets/Datasets/EPIC_Kitchen/OpticalFlow/P01_04/v\\frame_3346.jpg due to error: [Errno 2] No such file or directory: 'D:\\\\Datasets\\\\Datasets\\\\EPIC_Kitchen\\\\OpticalFlow\\\\P01_04\\\\v\\\\frame_3346.jpg'\n",
      "Skipping frame: D:/Datasets/Datasets/EPIC_Kitchen/OpticalFlow/P01_04/u\\frame_3351.jpg due to error: [Errno 2] No such file or directory: 'D:\\\\Datasets\\\\Datasets\\\\EPIC_Kitchen\\\\OpticalFlow\\\\P01_04\\\\u\\\\frame_3351.jpg'\n",
      "Skipping frame: D:/Datasets/Datasets/EPIC_Kitchen/OpticalFlow/P01_04/v\\frame_3351.jpg due to error: [Errno 2] No such file or directory: 'D:\\\\Datasets\\\\Datasets\\\\EPIC_Kitchen\\\\OpticalFlow\\\\P01_04\\\\v\\\\frame_3351.jpg'\n",
      "Skipping frame: D:/Datasets/Datasets/EPIC_Kitchen/OpticalFlow/P01_04/u\\frame_3356.jpg due to error: [Errno 2] No such file or directory: 'D:\\\\Datasets\\\\Datasets\\\\EPIC_Kitchen\\\\OpticalFlow\\\\P01_04\\\\u\\\\frame_3356.jpg'\n",
      "Skipping frame: D:/Datasets/Datasets/EPIC_Kitchen/OpticalFlow/P01_04/v\\frame_3356.jpg due to error: [Errno 2] No such file or directory: 'D:\\\\Datasets\\\\Datasets\\\\EPIC_Kitchen\\\\OpticalFlow\\\\P01_04\\\\v\\\\frame_3356.jpg'\n"
     ]
    },
    {
     "name": "stderr",
     "output_type": "stream",
     "text": [
      "\r",
      "Extracting Features with DEFT:  53%|█████████████████████████▋                      | 675/1262 [00:45<00:24, 24.04it/s]"
     ]
    },
    {
     "name": "stdout",
     "output_type": "stream",
     "text": [
      "Skipping frame: D:/Datasets/Datasets/EPIC_Kitchen/OpticalFlow/P01_04/u\\frame_3361.jpg due to error: [Errno 2] No such file or directory: 'D:\\\\Datasets\\\\Datasets\\\\EPIC_Kitchen\\\\OpticalFlow\\\\P01_04\\\\u\\\\frame_3361.jpg'\n",
      "Skipping frame: D:/Datasets/Datasets/EPIC_Kitchen/OpticalFlow/P01_04/v\\frame_3361.jpg due to error: [Errno 2] No such file or directory: 'D:\\\\Datasets\\\\Datasets\\\\EPIC_Kitchen\\\\OpticalFlow\\\\P01_04\\\\v\\\\frame_3361.jpg'\n",
      "Skipping frame: D:/Datasets/Datasets/EPIC_Kitchen/OpticalFlow/P01_04/u\\frame_3366.jpg due to error: [Errno 2] No such file or directory: 'D:\\\\Datasets\\\\Datasets\\\\EPIC_Kitchen\\\\OpticalFlow\\\\P01_04\\\\u\\\\frame_3366.jpg'\n",
      "Skipping frame: D:/Datasets/Datasets/EPIC_Kitchen/OpticalFlow/P01_04/v\\frame_3366.jpg due to error: [Errno 2] No such file or directory: 'D:\\\\Datasets\\\\Datasets\\\\EPIC_Kitchen\\\\OpticalFlow\\\\P01_04\\\\v\\\\frame_3366.jpg'\n",
      "Skipping frame: D:/Datasets/Datasets/EPIC_Kitchen/OpticalFlow/P01_04/u\\frame_3371.jpg due to error: [Errno 2] No such file or directory: 'D:\\\\Datasets\\\\Datasets\\\\EPIC_Kitchen\\\\OpticalFlow\\\\P01_04\\\\u\\\\frame_3371.jpg'\n",
      "Skipping frame: D:/Datasets/Datasets/EPIC_Kitchen/OpticalFlow/P01_04/v\\frame_3371.jpg due to error: [Errno 2] No such file or directory: 'D:\\\\Datasets\\\\Datasets\\\\EPIC_Kitchen\\\\OpticalFlow\\\\P01_04\\\\v\\\\frame_3371.jpg'\n",
      "Skipping frame: D:/Datasets/Datasets/EPIC_Kitchen/OpticalFlow/P01_04/u\\frame_3376.jpg due to error: [Errno 2] No such file or directory: 'D:\\\\Datasets\\\\Datasets\\\\EPIC_Kitchen\\\\OpticalFlow\\\\P01_04\\\\u\\\\frame_3376.jpg'\n",
      "Skipping frame: D:/Datasets/Datasets/EPIC_Kitchen/OpticalFlow/P01_04/v\\frame_3376.jpg due to error: [Errno 2] No such file or directory: 'D:\\\\Datasets\\\\Datasets\\\\EPIC_Kitchen\\\\OpticalFlow\\\\P01_04\\\\v\\\\frame_3376.jpg'\n",
      "Skipping frame: D:/Datasets/Datasets/EPIC_Kitchen/OpticalFlow/P01_04/u\\frame_3381.jpg due to error: [Errno 2] No such file or directory: 'D:\\\\Datasets\\\\Datasets\\\\EPIC_Kitchen\\\\OpticalFlow\\\\P01_04\\\\u\\\\frame_3381.jpg'\n",
      "Skipping frame: D:/Datasets/Datasets/EPIC_Kitchen/OpticalFlow/P01_04/v\\frame_3381.jpg due to error: [Errno 2] No such file or directory: 'D:\\\\Datasets\\\\Datasets\\\\EPIC_Kitchen\\\\OpticalFlow\\\\P01_04\\\\v\\\\frame_3381.jpg'\n"
     ]
    },
    {
     "name": "stderr",
     "output_type": "stream",
     "text": [
      "Extracting Features with DEFT:  54%|█████████████████████████▉                      | 681/1262 [00:45<00:25, 23.21it/s]"
     ]
    },
    {
     "name": "stdout",
     "output_type": "stream",
     "text": [
      "Skipping frame: D:/Datasets/Datasets/EPIC_Kitchen/OpticalFlow/P01_04/u\\frame_3386.jpg due to error: [Errno 2] No such file or directory: 'D:\\\\Datasets\\\\Datasets\\\\EPIC_Kitchen\\\\OpticalFlow\\\\P01_04\\\\u\\\\frame_3386.jpg'\n",
      "Skipping frame: D:/Datasets/Datasets/EPIC_Kitchen/OpticalFlow/P01_04/v\\frame_3386.jpg due to error: [Errno 2] No such file or directory: 'D:\\\\Datasets\\\\Datasets\\\\EPIC_Kitchen\\\\OpticalFlow\\\\P01_04\\\\v\\\\frame_3386.jpg'\n",
      "Skipping frame: D:/Datasets/Datasets/EPIC_Kitchen/OpticalFlow/P01_04/u\\frame_3391.jpg due to error: [Errno 2] No such file or directory: 'D:\\\\Datasets\\\\Datasets\\\\EPIC_Kitchen\\\\OpticalFlow\\\\P01_04\\\\u\\\\frame_3391.jpg'\n",
      "Skipping frame: D:/Datasets/Datasets/EPIC_Kitchen/OpticalFlow/P01_04/v\\frame_3391.jpg due to error: [Errno 2] No such file or directory: 'D:\\\\Datasets\\\\Datasets\\\\EPIC_Kitchen\\\\OpticalFlow\\\\P01_04\\\\v\\\\frame_3391.jpg'\n",
      "Skipping frame: D:/Datasets/Datasets/EPIC_Kitchen/OpticalFlow/P01_04/u\\frame_3396.jpg due to error: [Errno 2] No such file or directory: 'D:\\\\Datasets\\\\Datasets\\\\EPIC_Kitchen\\\\OpticalFlow\\\\P01_04\\\\u\\\\frame_3396.jpg'\n",
      "Skipping frame: D:/Datasets/Datasets/EPIC_Kitchen/OpticalFlow/P01_04/v\\frame_3396.jpg due to error: [Errno 2] No such file or directory: 'D:\\\\Datasets\\\\Datasets\\\\EPIC_Kitchen\\\\OpticalFlow\\\\P01_04\\\\v\\\\frame_3396.jpg'\n",
      "Skipping frame: D:/Datasets/Datasets/EPIC_Kitchen/OpticalFlow/P01_04/u\\frame_3401.jpg due to error: [Errno 2] No such file or directory: 'D:\\\\Datasets\\\\Datasets\\\\EPIC_Kitchen\\\\OpticalFlow\\\\P01_04\\\\u\\\\frame_3401.jpg'\n",
      "Skipping frame: D:/Datasets/Datasets/EPIC_Kitchen/OpticalFlow/P01_04/v\\frame_3401.jpg due to error: [Errno 2] No such file or directory: 'D:\\\\Datasets\\\\Datasets\\\\EPIC_Kitchen\\\\OpticalFlow\\\\P01_04\\\\v\\\\frame_3401.jpg'\n",
      "Skipping frame: D:/Datasets/Datasets/EPIC_Kitchen/OpticalFlow/P01_04/u\\frame_3406.jpg due to error: [Errno 2] No such file or directory: 'D:\\\\Datasets\\\\Datasets\\\\EPIC_Kitchen\\\\OpticalFlow\\\\P01_04\\\\u\\\\frame_3406.jpg'\n",
      "Skipping frame: D:/Datasets/Datasets/EPIC_Kitchen/OpticalFlow/P01_04/v\\frame_3406.jpg due to error: [Errno 2] No such file or directory: 'D:\\\\Datasets\\\\Datasets\\\\EPIC_Kitchen\\\\OpticalFlow\\\\P01_04\\\\v\\\\frame_3406.jpg'\n"
     ]
    },
    {
     "name": "stderr",
     "output_type": "stream",
     "text": [
      "Extracting Features with DEFT:  54%|██████████████████████████▏                     | 687/1262 [00:46<00:24, 23.25it/s]"
     ]
    },
    {
     "name": "stdout",
     "output_type": "stream",
     "text": [
      "Skipping frame: D:/Datasets/Datasets/EPIC_Kitchen/OpticalFlow/P01_04/u\\frame_3411.jpg due to error: [Errno 2] No such file or directory: 'D:\\\\Datasets\\\\Datasets\\\\EPIC_Kitchen\\\\OpticalFlow\\\\P01_04\\\\u\\\\frame_3411.jpg'\n",
      "Skipping frame: D:/Datasets/Datasets/EPIC_Kitchen/OpticalFlow/P01_04/v\\frame_3411.jpg due to error: [Errno 2] No such file or directory: 'D:\\\\Datasets\\\\Datasets\\\\EPIC_Kitchen\\\\OpticalFlow\\\\P01_04\\\\v\\\\frame_3411.jpg'\n",
      "Skipping frame: D:/Datasets/Datasets/EPIC_Kitchen/OpticalFlow/P01_04/u\\frame_3416.jpg due to error: [Errno 2] No such file or directory: 'D:\\\\Datasets\\\\Datasets\\\\EPIC_Kitchen\\\\OpticalFlow\\\\P01_04\\\\u\\\\frame_3416.jpg'\n",
      "Skipping frame: D:/Datasets/Datasets/EPIC_Kitchen/OpticalFlow/P01_04/v\\frame_3416.jpg due to error: [Errno 2] No such file or directory: 'D:\\\\Datasets\\\\Datasets\\\\EPIC_Kitchen\\\\OpticalFlow\\\\P01_04\\\\v\\\\frame_3416.jpg'\n",
      "Skipping frame: D:/Datasets/Datasets/EPIC_Kitchen/OpticalFlow/P01_04/u\\frame_3421.jpg due to error: [Errno 2] No such file or directory: 'D:\\\\Datasets\\\\Datasets\\\\EPIC_Kitchen\\\\OpticalFlow\\\\P01_04\\\\u\\\\frame_3421.jpg'\n",
      "Skipping frame: D:/Datasets/Datasets/EPIC_Kitchen/OpticalFlow/P01_04/v\\frame_3421.jpg due to error: [Errno 2] No such file or directory: 'D:\\\\Datasets\\\\Datasets\\\\EPIC_Kitchen\\\\OpticalFlow\\\\P01_04\\\\v\\\\frame_3421.jpg'\n",
      "Skipping frame: D:/Datasets/Datasets/EPIC_Kitchen/OpticalFlow/P01_04/u\\frame_3426.jpg due to error: [Errno 2] No such file or directory: 'D:\\\\Datasets\\\\Datasets\\\\EPIC_Kitchen\\\\OpticalFlow\\\\P01_04\\\\u\\\\frame_3426.jpg'\n",
      "Skipping frame: D:/Datasets/Datasets/EPIC_Kitchen/OpticalFlow/P01_04/v\\frame_3426.jpg due to error: [Errno 2] No such file or directory: 'D:\\\\Datasets\\\\Datasets\\\\EPIC_Kitchen\\\\OpticalFlow\\\\P01_04\\\\v\\\\frame_3426.jpg'\n",
      "Skipping frame: D:/Datasets/Datasets/EPIC_Kitchen/OpticalFlow/P01_04/u\\frame_3431.jpg due to error: [Errno 2] No such file or directory: 'D:\\\\Datasets\\\\Datasets\\\\EPIC_Kitchen\\\\OpticalFlow\\\\P01_04\\\\u\\\\frame_3431.jpg'\n",
      "Skipping frame: D:/Datasets/Datasets/EPIC_Kitchen/OpticalFlow/P01_04/v\\frame_3431.jpg due to error: [Errno 2] No such file or directory: 'D:\\\\Datasets\\\\Datasets\\\\EPIC_Kitchen\\\\OpticalFlow\\\\P01_04\\\\v\\\\frame_3431.jpg'\n"
     ]
    },
    {
     "name": "stderr",
     "output_type": "stream",
     "text": [
      "\r",
      "Extracting Features with DEFT:  55%|██████████████████████████▏                     | 690/1262 [00:46<00:24, 23.72it/s]"
     ]
    },
    {
     "name": "stdout",
     "output_type": "stream",
     "text": [
      "Skipping frame: D:/Datasets/Datasets/EPIC_Kitchen/OpticalFlow/P01_04/u\\frame_3436.jpg due to error: [Errno 2] No such file or directory: 'D:\\\\Datasets\\\\Datasets\\\\EPIC_Kitchen\\\\OpticalFlow\\\\P01_04\\\\u\\\\frame_3436.jpg'\n",
      "Skipping frame: D:/Datasets/Datasets/EPIC_Kitchen/OpticalFlow/P01_04/v\\frame_3436.jpg due to error: [Errno 2] No such file or directory: 'D:\\\\Datasets\\\\Datasets\\\\EPIC_Kitchen\\\\OpticalFlow\\\\P01_04\\\\v\\\\frame_3436.jpg'\n",
      "Skipping frame: D:/Datasets/Datasets/EPIC_Kitchen/OpticalFlow/P01_04/u\\frame_3441.jpg due to error: [Errno 2] No such file or directory: 'D:\\\\Datasets\\\\Datasets\\\\EPIC_Kitchen\\\\OpticalFlow\\\\P01_04\\\\u\\\\frame_3441.jpg'\n",
      "Skipping frame: D:/Datasets/Datasets/EPIC_Kitchen/OpticalFlow/P01_04/v\\frame_3441.jpg due to error: [Errno 2] No such file or directory: 'D:\\\\Datasets\\\\Datasets\\\\EPIC_Kitchen\\\\OpticalFlow\\\\P01_04\\\\v\\\\frame_3441.jpg'\n",
      "Skipping frame: D:/Datasets/Datasets/EPIC_Kitchen/OpticalFlow/P01_04/u\\frame_3446.jpg due to error: [Errno 2] No such file or directory: 'D:\\\\Datasets\\\\Datasets\\\\EPIC_Kitchen\\\\OpticalFlow\\\\P01_04\\\\u\\\\frame_3446.jpg'\n",
      "Skipping frame: D:/Datasets/Datasets/EPIC_Kitchen/OpticalFlow/P01_04/v\\frame_3446.jpg due to error: [Errno 2] No such file or directory: 'D:\\\\Datasets\\\\Datasets\\\\EPIC_Kitchen\\\\OpticalFlow\\\\P01_04\\\\v\\\\frame_3446.jpg'\n",
      "Skipping frame: D:/Datasets/Datasets/EPIC_Kitchen/OpticalFlow/P01_04/u\\frame_3451.jpg due to error: [Errno 2] No such file or directory: 'D:\\\\Datasets\\\\Datasets\\\\EPIC_Kitchen\\\\OpticalFlow\\\\P01_04\\\\u\\\\frame_3451.jpg'\n",
      "Skipping frame: D:/Datasets/Datasets/EPIC_Kitchen/OpticalFlow/P01_04/v\\frame_3451.jpg due to error: [Errno 2] No such file or directory: 'D:\\\\Datasets\\\\Datasets\\\\EPIC_Kitchen\\\\OpticalFlow\\\\P01_04\\\\v\\\\frame_3451.jpg'\n",
      "Skipping frame: D:/Datasets/Datasets/EPIC_Kitchen/OpticalFlow/P01_04/u\\frame_3456.jpg due to error: [Errno 2] No such file or directory: 'D:\\\\Datasets\\\\Datasets\\\\EPIC_Kitchen\\\\OpticalFlow\\\\P01_04\\\\u\\\\frame_3456.jpg'\n",
      "Skipping frame: D:/Datasets/Datasets/EPIC_Kitchen/OpticalFlow/P01_04/v\\frame_3456.jpg due to error: [Errno 2] No such file or directory: 'D:\\\\Datasets\\\\Datasets\\\\EPIC_Kitchen\\\\OpticalFlow\\\\P01_04\\\\v\\\\frame_3456.jpg'\n"
     ]
    },
    {
     "name": "stderr",
     "output_type": "stream",
     "text": [
      "Extracting Features with DEFT:  55%|██████████████████████████▍                     | 696/1262 [00:46<00:23, 23.75it/s]"
     ]
    },
    {
     "name": "stdout",
     "output_type": "stream",
     "text": [
      "Skipping frame: D:/Datasets/Datasets/EPIC_Kitchen/OpticalFlow/P01_04/u\\frame_3461.jpg due to error: [Errno 2] No such file or directory: 'D:\\\\Datasets\\\\Datasets\\\\EPIC_Kitchen\\\\OpticalFlow\\\\P01_04\\\\u\\\\frame_3461.jpg'\n",
      "Skipping frame: D:/Datasets/Datasets/EPIC_Kitchen/OpticalFlow/P01_04/v\\frame_3461.jpg due to error: [Errno 2] No such file or directory: 'D:\\\\Datasets\\\\Datasets\\\\EPIC_Kitchen\\\\OpticalFlow\\\\P01_04\\\\v\\\\frame_3461.jpg'\n",
      "Skipping frame: D:/Datasets/Datasets/EPIC_Kitchen/OpticalFlow/P01_04/u\\frame_3466.jpg due to error: [Errno 2] No such file or directory: 'D:\\\\Datasets\\\\Datasets\\\\EPIC_Kitchen\\\\OpticalFlow\\\\P01_04\\\\u\\\\frame_3466.jpg'\n",
      "Skipping frame: D:/Datasets/Datasets/EPIC_Kitchen/OpticalFlow/P01_04/v\\frame_3466.jpg due to error: [Errno 2] No such file or directory: 'D:\\\\Datasets\\\\Datasets\\\\EPIC_Kitchen\\\\OpticalFlow\\\\P01_04\\\\v\\\\frame_3466.jpg'\n",
      "Skipping frame: D:/Datasets/Datasets/EPIC_Kitchen/OpticalFlow/P01_04/u\\frame_3471.jpg due to error: [Errno 2] No such file or directory: 'D:\\\\Datasets\\\\Datasets\\\\EPIC_Kitchen\\\\OpticalFlow\\\\P01_04\\\\u\\\\frame_3471.jpg'\n",
      "Skipping frame: D:/Datasets/Datasets/EPIC_Kitchen/OpticalFlow/P01_04/v\\frame_3471.jpg due to error: [Errno 2] No such file or directory: 'D:\\\\Datasets\\\\Datasets\\\\EPIC_Kitchen\\\\OpticalFlow\\\\P01_04\\\\v\\\\frame_3471.jpg'\n",
      "Skipping frame: D:/Datasets/Datasets/EPIC_Kitchen/OpticalFlow/P01_04/u\\frame_3476.jpg due to error: [Errno 2] No such file or directory: 'D:\\\\Datasets\\\\Datasets\\\\EPIC_Kitchen\\\\OpticalFlow\\\\P01_04\\\\u\\\\frame_3476.jpg'\n",
      "Skipping frame: D:/Datasets/Datasets/EPIC_Kitchen/OpticalFlow/P01_04/v\\frame_3476.jpg due to error: [Errno 2] No such file or directory: 'D:\\\\Datasets\\\\Datasets\\\\EPIC_Kitchen\\\\OpticalFlow\\\\P01_04\\\\v\\\\frame_3476.jpg'\n",
      "Skipping frame: D:/Datasets/Datasets/EPIC_Kitchen/OpticalFlow/P01_04/u\\frame_3481.jpg due to error: [Errno 2] No such file or directory: 'D:\\\\Datasets\\\\Datasets\\\\EPIC_Kitchen\\\\OpticalFlow\\\\P01_04\\\\u\\\\frame_3481.jpg'\n",
      "Skipping frame: D:/Datasets/Datasets/EPIC_Kitchen/OpticalFlow/P01_04/v\\frame_3481.jpg due to error: [Errno 2] No such file or directory: 'D:\\\\Datasets\\\\Datasets\\\\EPIC_Kitchen\\\\OpticalFlow\\\\P01_04\\\\v\\\\frame_3481.jpg'\n"
     ]
    },
    {
     "name": "stderr",
     "output_type": "stream",
     "text": [
      "Extracting Features with DEFT:  56%|██████████████████████████▋                     | 702/1262 [00:46<00:23, 23.64it/s]"
     ]
    },
    {
     "name": "stdout",
     "output_type": "stream",
     "text": [
      "Skipping frame: D:/Datasets/Datasets/EPIC_Kitchen/OpticalFlow/P01_04/u\\frame_3486.jpg due to error: [Errno 2] No such file or directory: 'D:\\\\Datasets\\\\Datasets\\\\EPIC_Kitchen\\\\OpticalFlow\\\\P01_04\\\\u\\\\frame_3486.jpg'\n",
      "Skipping frame: D:/Datasets/Datasets/EPIC_Kitchen/OpticalFlow/P01_04/v\\frame_3486.jpg due to error: [Errno 2] No such file or directory: 'D:\\\\Datasets\\\\Datasets\\\\EPIC_Kitchen\\\\OpticalFlow\\\\P01_04\\\\v\\\\frame_3486.jpg'\n",
      "Skipping frame: D:/Datasets/Datasets/EPIC_Kitchen/OpticalFlow/P01_04/u\\frame_3491.jpg due to error: [Errno 2] No such file or directory: 'D:\\\\Datasets\\\\Datasets\\\\EPIC_Kitchen\\\\OpticalFlow\\\\P01_04\\\\u\\\\frame_3491.jpg'\n",
      "Skipping frame: D:/Datasets/Datasets/EPIC_Kitchen/OpticalFlow/P01_04/v\\frame_3491.jpg due to error: [Errno 2] No such file or directory: 'D:\\\\Datasets\\\\Datasets\\\\EPIC_Kitchen\\\\OpticalFlow\\\\P01_04\\\\v\\\\frame_3491.jpg'\n",
      "Skipping frame: D:/Datasets/Datasets/EPIC_Kitchen/OpticalFlow/P01_04/u\\frame_3496.jpg due to error: [Errno 2] No such file or directory: 'D:\\\\Datasets\\\\Datasets\\\\EPIC_Kitchen\\\\OpticalFlow\\\\P01_04\\\\u\\\\frame_3496.jpg'\n",
      "Skipping frame: D:/Datasets/Datasets/EPIC_Kitchen/OpticalFlow/P01_04/v\\frame_3496.jpg due to error: [Errno 2] No such file or directory: 'D:\\\\Datasets\\\\Datasets\\\\EPIC_Kitchen\\\\OpticalFlow\\\\P01_04\\\\v\\\\frame_3496.jpg'\n",
      "Skipping frame: D:/Datasets/Datasets/EPIC_Kitchen/OpticalFlow/P01_04/u\\frame_3501.jpg due to error: [Errno 2] No such file or directory: 'D:\\\\Datasets\\\\Datasets\\\\EPIC_Kitchen\\\\OpticalFlow\\\\P01_04\\\\u\\\\frame_3501.jpg'\n",
      "Skipping frame: D:/Datasets/Datasets/EPIC_Kitchen/OpticalFlow/P01_04/v\\frame_3501.jpg due to error: [Errno 2] No such file or directory: 'D:\\\\Datasets\\\\Datasets\\\\EPIC_Kitchen\\\\OpticalFlow\\\\P01_04\\\\v\\\\frame_3501.jpg'\n",
      "Skipping frame: D:/Datasets/Datasets/EPIC_Kitchen/OpticalFlow/P01_04/u\\frame_3506.jpg due to error: [Errno 2] No such file or directory: 'D:\\\\Datasets\\\\Datasets\\\\EPIC_Kitchen\\\\OpticalFlow\\\\P01_04\\\\u\\\\frame_3506.jpg'\n",
      "Skipping frame: D:/Datasets/Datasets/EPIC_Kitchen/OpticalFlow/P01_04/v\\frame_3506.jpg due to error: [Errno 2] No such file or directory: 'D:\\\\Datasets\\\\Datasets\\\\EPIC_Kitchen\\\\OpticalFlow\\\\P01_04\\\\v\\\\frame_3506.jpg'\n",
      "Skipping frame: D:/Datasets/Datasets/EPIC_Kitchen/OpticalFlow/P01_04/u\\frame_3511.jpg due to error: [Errno 2] No such file or directory: 'D:\\\\Datasets\\\\Datasets\\\\EPIC_Kitchen\\\\OpticalFlow\\\\P01_04\\\\u\\\\frame_3511.jpg'\n",
      "Skipping frame: D:/Datasets/Datasets/EPIC_Kitchen/OpticalFlow/P01_04/v\\frame_3511.jpg due to error: [Errno 2] No such file or directory: 'D:\\\\Datasets\\\\Datasets\\\\EPIC_Kitchen\\\\OpticalFlow\\\\P01_04\\\\v\\\\frame_3511.jpg'\n"
     ]
    },
    {
     "name": "stderr",
     "output_type": "stream",
     "text": [
      "Extracting Features with DEFT:  56%|██████████████████████████▉                     | 708/1262 [00:47<00:23, 23.56it/s]"
     ]
    },
    {
     "name": "stdout",
     "output_type": "stream",
     "text": [
      "Skipping frame: D:/Datasets/Datasets/EPIC_Kitchen/OpticalFlow/P01_04/u\\frame_3516.jpg due to error: [Errno 2] No such file or directory: 'D:\\\\Datasets\\\\Datasets\\\\EPIC_Kitchen\\\\OpticalFlow\\\\P01_04\\\\u\\\\frame_3516.jpg'\n",
      "Skipping frame: D:/Datasets/Datasets/EPIC_Kitchen/OpticalFlow/P01_04/v\\frame_3516.jpg due to error: [Errno 2] No such file or directory: 'D:\\\\Datasets\\\\Datasets\\\\EPIC_Kitchen\\\\OpticalFlow\\\\P01_04\\\\v\\\\frame_3516.jpg'\n",
      "Skipping frame: D:/Datasets/Datasets/EPIC_Kitchen/OpticalFlow/P01_04/u\\frame_3521.jpg due to error: [Errno 2] No such file or directory: 'D:\\\\Datasets\\\\Datasets\\\\EPIC_Kitchen\\\\OpticalFlow\\\\P01_04\\\\u\\\\frame_3521.jpg'\n",
      "Skipping frame: D:/Datasets/Datasets/EPIC_Kitchen/OpticalFlow/P01_04/v\\frame_3521.jpg due to error: [Errno 2] No such file or directory: 'D:\\\\Datasets\\\\Datasets\\\\EPIC_Kitchen\\\\OpticalFlow\\\\P01_04\\\\v\\\\frame_3521.jpg'\n",
      "Skipping frame: D:/Datasets/Datasets/EPIC_Kitchen/OpticalFlow/P01_04/u\\frame_3526.jpg due to error: [Errno 2] No such file or directory: 'D:\\\\Datasets\\\\Datasets\\\\EPIC_Kitchen\\\\OpticalFlow\\\\P01_04\\\\u\\\\frame_3526.jpg'\n",
      "Skipping frame: D:/Datasets/Datasets/EPIC_Kitchen/OpticalFlow/P01_04/v\\frame_3526.jpg due to error: [Errno 2] No such file or directory: 'D:\\\\Datasets\\\\Datasets\\\\EPIC_Kitchen\\\\OpticalFlow\\\\P01_04\\\\v\\\\frame_3526.jpg'\n",
      "Skipping frame: D:/Datasets/Datasets/EPIC_Kitchen/OpticalFlow/P01_04/u\\frame_3531.jpg due to error: [Errno 2] No such file or directory: 'D:\\\\Datasets\\\\Datasets\\\\EPIC_Kitchen\\\\OpticalFlow\\\\P01_04\\\\u\\\\frame_3531.jpg'\n",
      "Skipping frame: D:/Datasets/Datasets/EPIC_Kitchen/OpticalFlow/P01_04/v\\frame_3531.jpg due to error: [Errno 2] No such file or directory: 'D:\\\\Datasets\\\\Datasets\\\\EPIC_Kitchen\\\\OpticalFlow\\\\P01_04\\\\v\\\\frame_3531.jpg'\n",
      "Skipping frame: D:/Datasets/Datasets/EPIC_Kitchen/OpticalFlow/P01_04/u\\frame_3536.jpg due to error: [Errno 2] No such file or directory: 'D:\\\\Datasets\\\\Datasets\\\\EPIC_Kitchen\\\\OpticalFlow\\\\P01_04\\\\u\\\\frame_3536.jpg'\n",
      "Skipping frame: D:/Datasets/Datasets/EPIC_Kitchen/OpticalFlow/P01_04/v\\frame_3536.jpg due to error: [Errno 2] No such file or directory: 'D:\\\\Datasets\\\\Datasets\\\\EPIC_Kitchen\\\\OpticalFlow\\\\P01_04\\\\v\\\\frame_3536.jpg'\n"
     ]
    },
    {
     "name": "stderr",
     "output_type": "stream",
     "text": [
      "\r",
      "Extracting Features with DEFT:  56%|███████████████████████████                     | 711/1262 [00:47<00:23, 23.79it/s]"
     ]
    },
    {
     "name": "stdout",
     "output_type": "stream",
     "text": [
      "Skipping frame: D:/Datasets/Datasets/EPIC_Kitchen/OpticalFlow/P01_04/u\\frame_3541.jpg due to error: [Errno 2] No such file or directory: 'D:\\\\Datasets\\\\Datasets\\\\EPIC_Kitchen\\\\OpticalFlow\\\\P01_04\\\\u\\\\frame_3541.jpg'\n",
      "Skipping frame: D:/Datasets/Datasets/EPIC_Kitchen/OpticalFlow/P01_04/v\\frame_3541.jpg due to error: [Errno 2] No such file or directory: 'D:\\\\Datasets\\\\Datasets\\\\EPIC_Kitchen\\\\OpticalFlow\\\\P01_04\\\\v\\\\frame_3541.jpg'\n",
      "Skipping frame: D:/Datasets/Datasets/EPIC_Kitchen/OpticalFlow/P01_04/u\\frame_3546.jpg due to error: [Errno 2] No such file or directory: 'D:\\\\Datasets\\\\Datasets\\\\EPIC_Kitchen\\\\OpticalFlow\\\\P01_04\\\\u\\\\frame_3546.jpg'\n",
      "Skipping frame: D:/Datasets/Datasets/EPIC_Kitchen/OpticalFlow/P01_04/v\\frame_3546.jpg due to error: [Errno 2] No such file or directory: 'D:\\\\Datasets\\\\Datasets\\\\EPIC_Kitchen\\\\OpticalFlow\\\\P01_04\\\\v\\\\frame_3546.jpg'\n",
      "Skipping frame: D:/Datasets/Datasets/EPIC_Kitchen/OpticalFlow/P01_04/u\\frame_3551.jpg due to error: [Errno 2] No such file or directory: 'D:\\\\Datasets\\\\Datasets\\\\EPIC_Kitchen\\\\OpticalFlow\\\\P01_04\\\\u\\\\frame_3551.jpg'\n",
      "Skipping frame: D:/Datasets/Datasets/EPIC_Kitchen/OpticalFlow/P01_04/v\\frame_3551.jpg due to error: [Errno 2] No such file or directory: 'D:\\\\Datasets\\\\Datasets\\\\EPIC_Kitchen\\\\OpticalFlow\\\\P01_04\\\\v\\\\frame_3551.jpg'\n",
      "Skipping frame: D:/Datasets/Datasets/EPIC_Kitchen/OpticalFlow/P01_04/u\\frame_3556.jpg due to error: [Errno 2] No such file or directory: 'D:\\\\Datasets\\\\Datasets\\\\EPIC_Kitchen\\\\OpticalFlow\\\\P01_04\\\\u\\\\frame_3556.jpg'\n",
      "Skipping frame: D:/Datasets/Datasets/EPIC_Kitchen/OpticalFlow/P01_04/v\\frame_3556.jpg due to error: [Errno 2] No such file or directory: 'D:\\\\Datasets\\\\Datasets\\\\EPIC_Kitchen\\\\OpticalFlow\\\\P01_04\\\\v\\\\frame_3556.jpg'\n",
      "Skipping frame: D:/Datasets/Datasets/EPIC_Kitchen/OpticalFlow/P01_04/u\\frame_3561.jpg due to error: [Errno 2] No such file or directory: 'D:\\\\Datasets\\\\Datasets\\\\EPIC_Kitchen\\\\OpticalFlow\\\\P01_04\\\\u\\\\frame_3561.jpg'\n",
      "Skipping frame: D:/Datasets/Datasets/EPIC_Kitchen/OpticalFlow/P01_04/v\\frame_3561.jpg due to error: [Errno 2] No such file or directory: 'D:\\\\Datasets\\\\Datasets\\\\EPIC_Kitchen\\\\OpticalFlow\\\\P01_04\\\\v\\\\frame_3561.jpg'\n"
     ]
    },
    {
     "name": "stderr",
     "output_type": "stream",
     "text": [
      "Extracting Features with DEFT:  57%|███████████████████████████▎                    | 717/1262 [00:47<00:22, 23.94it/s]"
     ]
    },
    {
     "name": "stdout",
     "output_type": "stream",
     "text": [
      "Skipping frame: D:/Datasets/Datasets/EPIC_Kitchen/OpticalFlow/P01_04/u\\frame_3566.jpg due to error: [Errno 2] No such file or directory: 'D:\\\\Datasets\\\\Datasets\\\\EPIC_Kitchen\\\\OpticalFlow\\\\P01_04\\\\u\\\\frame_3566.jpg'\n",
      "Skipping frame: D:/Datasets/Datasets/EPIC_Kitchen/OpticalFlow/P01_04/v\\frame_3566.jpg due to error: [Errno 2] No such file or directory: 'D:\\\\Datasets\\\\Datasets\\\\EPIC_Kitchen\\\\OpticalFlow\\\\P01_04\\\\v\\\\frame_3566.jpg'\n",
      "Skipping frame: D:/Datasets/Datasets/EPIC_Kitchen/OpticalFlow/P01_04/u\\frame_3571.jpg due to error: [Errno 2] No such file or directory: 'D:\\\\Datasets\\\\Datasets\\\\EPIC_Kitchen\\\\OpticalFlow\\\\P01_04\\\\u\\\\frame_3571.jpg'\n",
      "Skipping frame: D:/Datasets/Datasets/EPIC_Kitchen/OpticalFlow/P01_04/v\\frame_3571.jpg due to error: [Errno 2] No such file or directory: 'D:\\\\Datasets\\\\Datasets\\\\EPIC_Kitchen\\\\OpticalFlow\\\\P01_04\\\\v\\\\frame_3571.jpg'\n",
      "Skipping frame: D:/Datasets/Datasets/EPIC_Kitchen/OpticalFlow/P01_04/u\\frame_3576.jpg due to error: [Errno 2] No such file or directory: 'D:\\\\Datasets\\\\Datasets\\\\EPIC_Kitchen\\\\OpticalFlow\\\\P01_04\\\\u\\\\frame_3576.jpg'\n",
      "Skipping frame: D:/Datasets/Datasets/EPIC_Kitchen/OpticalFlow/P01_04/v\\frame_3576.jpg due to error: [Errno 2] No such file or directory: 'D:\\\\Datasets\\\\Datasets\\\\EPIC_Kitchen\\\\OpticalFlow\\\\P01_04\\\\v\\\\frame_3576.jpg'\n",
      "Skipping frame: D:/Datasets/Datasets/EPIC_Kitchen/OpticalFlow/P01_04/u\\frame_3581.jpg due to error: [Errno 2] No such file or directory: 'D:\\\\Datasets\\\\Datasets\\\\EPIC_Kitchen\\\\OpticalFlow\\\\P01_04\\\\u\\\\frame_3581.jpg'\n",
      "Skipping frame: D:/Datasets/Datasets/EPIC_Kitchen/OpticalFlow/P01_04/v\\frame_3581.jpg due to error: [Errno 2] No such file or directory: 'D:\\\\Datasets\\\\Datasets\\\\EPIC_Kitchen\\\\OpticalFlow\\\\P01_04\\\\v\\\\frame_3581.jpg'\n",
      "Skipping frame: D:/Datasets/Datasets/EPIC_Kitchen/OpticalFlow/P01_04/u\\frame_3586.jpg due to error: [Errno 2] No such file or directory: 'D:\\\\Datasets\\\\Datasets\\\\EPIC_Kitchen\\\\OpticalFlow\\\\P01_04\\\\u\\\\frame_3586.jpg'\n",
      "Skipping frame: D:/Datasets/Datasets/EPIC_Kitchen/OpticalFlow/P01_04/v\\frame_3586.jpg due to error: [Errno 2] No such file or directory: 'D:\\\\Datasets\\\\Datasets\\\\EPIC_Kitchen\\\\OpticalFlow\\\\P01_04\\\\v\\\\frame_3586.jpg'\n"
     ]
    },
    {
     "name": "stderr",
     "output_type": "stream",
     "text": [
      "Extracting Features with DEFT:  57%|███████████████████████████▍                    | 723/1262 [00:47<00:22, 23.85it/s]"
     ]
    },
    {
     "name": "stdout",
     "output_type": "stream",
     "text": [
      "Skipping frame: D:/Datasets/Datasets/EPIC_Kitchen/OpticalFlow/P01_04/u\\frame_3591.jpg due to error: [Errno 2] No such file or directory: 'D:\\\\Datasets\\\\Datasets\\\\EPIC_Kitchen\\\\OpticalFlow\\\\P01_04\\\\u\\\\frame_3591.jpg'\n",
      "Skipping frame: D:/Datasets/Datasets/EPIC_Kitchen/OpticalFlow/P01_04/v\\frame_3591.jpg due to error: [Errno 2] No such file or directory: 'D:\\\\Datasets\\\\Datasets\\\\EPIC_Kitchen\\\\OpticalFlow\\\\P01_04\\\\v\\\\frame_3591.jpg'\n",
      "Skipping frame: D:/Datasets/Datasets/EPIC_Kitchen/OpticalFlow/P01_04/u\\frame_3596.jpg due to error: [Errno 2] No such file or directory: 'D:\\\\Datasets\\\\Datasets\\\\EPIC_Kitchen\\\\OpticalFlow\\\\P01_04\\\\u\\\\frame_3596.jpg'\n",
      "Skipping frame: D:/Datasets/Datasets/EPIC_Kitchen/OpticalFlow/P01_04/v\\frame_3596.jpg due to error: [Errno 2] No such file or directory: 'D:\\\\Datasets\\\\Datasets\\\\EPIC_Kitchen\\\\OpticalFlow\\\\P01_04\\\\v\\\\frame_3596.jpg'\n",
      "Skipping frame: D:/Datasets/Datasets/EPIC_Kitchen/OpticalFlow/P01_04/u\\frame_3601.jpg due to error: [Errno 2] No such file or directory: 'D:\\\\Datasets\\\\Datasets\\\\EPIC_Kitchen\\\\OpticalFlow\\\\P01_04\\\\u\\\\frame_3601.jpg'\n",
      "Skipping frame: D:/Datasets/Datasets/EPIC_Kitchen/OpticalFlow/P01_04/v\\frame_3601.jpg due to error: [Errno 2] No such file or directory: 'D:\\\\Datasets\\\\Datasets\\\\EPIC_Kitchen\\\\OpticalFlow\\\\P01_04\\\\v\\\\frame_3601.jpg'\n",
      "Skipping frame: D:/Datasets/Datasets/EPIC_Kitchen/OpticalFlow/P01_04/u\\frame_3606.jpg due to error: [Errno 2] No such file or directory: 'D:\\\\Datasets\\\\Datasets\\\\EPIC_Kitchen\\\\OpticalFlow\\\\P01_04\\\\u\\\\frame_3606.jpg'\n",
      "Skipping frame: D:/Datasets/Datasets/EPIC_Kitchen/OpticalFlow/P01_04/v\\frame_3606.jpg due to error: [Errno 2] No such file or directory: 'D:\\\\Datasets\\\\Datasets\\\\EPIC_Kitchen\\\\OpticalFlow\\\\P01_04\\\\v\\\\frame_3606.jpg'\n",
      "Skipping frame: D:/Datasets/Datasets/EPIC_Kitchen/OpticalFlow/P01_04/u\\frame_3611.jpg due to error: [Errno 2] No such file or directory: 'D:\\\\Datasets\\\\Datasets\\\\EPIC_Kitchen\\\\OpticalFlow\\\\P01_04\\\\u\\\\frame_3611.jpg'\n",
      "Skipping frame: D:/Datasets/Datasets/EPIC_Kitchen/OpticalFlow/P01_04/v\\frame_3611.jpg due to error: [Errno 2] No such file or directory: 'D:\\\\Datasets\\\\Datasets\\\\EPIC_Kitchen\\\\OpticalFlow\\\\P01_04\\\\v\\\\frame_3611.jpg'\n",
      "Skipping frame: D:/Datasets/Datasets/EPIC_Kitchen/OpticalFlow/P01_04/u\\frame_3616.jpg due to error: [Errno 2] No such file or directory: 'D:\\\\Datasets\\\\Datasets\\\\EPIC_Kitchen\\\\OpticalFlow\\\\P01_04\\\\u\\\\frame_3616.jpg'\n",
      "Skipping frame: D:/Datasets/Datasets/EPIC_Kitchen/OpticalFlow/P01_04/v\\frame_3616.jpg due to error: [Errno 2] No such file or directory: 'D:\\\\Datasets\\\\Datasets\\\\EPIC_Kitchen\\\\OpticalFlow\\\\P01_04\\\\v\\\\frame_3616.jpg'\n"
     ]
    },
    {
     "name": "stderr",
     "output_type": "stream",
     "text": [
      "Extracting Features with DEFT:  58%|███████████████████████████▋                    | 729/1262 [00:47<00:22, 23.68it/s]"
     ]
    },
    {
     "name": "stdout",
     "output_type": "stream",
     "text": [
      "Skipping frame: D:/Datasets/Datasets/EPIC_Kitchen/OpticalFlow/P01_04/u\\frame_3621.jpg due to error: [Errno 2] No such file or directory: 'D:\\\\Datasets\\\\Datasets\\\\EPIC_Kitchen\\\\OpticalFlow\\\\P01_04\\\\u\\\\frame_3621.jpg'\n",
      "Skipping frame: D:/Datasets/Datasets/EPIC_Kitchen/OpticalFlow/P01_04/v\\frame_3621.jpg due to error: [Errno 2] No such file or directory: 'D:\\\\Datasets\\\\Datasets\\\\EPIC_Kitchen\\\\OpticalFlow\\\\P01_04\\\\v\\\\frame_3621.jpg'\n",
      "Skipping frame: D:/Datasets/Datasets/EPIC_Kitchen/OpticalFlow/P01_04/u\\frame_3626.jpg due to error: [Errno 2] No such file or directory: 'D:\\\\Datasets\\\\Datasets\\\\EPIC_Kitchen\\\\OpticalFlow\\\\P01_04\\\\u\\\\frame_3626.jpg'\n",
      "Skipping frame: D:/Datasets/Datasets/EPIC_Kitchen/OpticalFlow/P01_04/v\\frame_3626.jpg due to error: [Errno 2] No such file or directory: 'D:\\\\Datasets\\\\Datasets\\\\EPIC_Kitchen\\\\OpticalFlow\\\\P01_04\\\\v\\\\frame_3626.jpg'\n",
      "Skipping frame: D:/Datasets/Datasets/EPIC_Kitchen/OpticalFlow/P01_04/u\\frame_3631.jpg due to error: [Errno 2] No such file or directory: 'D:\\\\Datasets\\\\Datasets\\\\EPIC_Kitchen\\\\OpticalFlow\\\\P01_04\\\\u\\\\frame_3631.jpg'\n",
      "Skipping frame: D:/Datasets/Datasets/EPIC_Kitchen/OpticalFlow/P01_04/v\\frame_3631.jpg due to error: [Errno 2] No such file or directory: 'D:\\\\Datasets\\\\Datasets\\\\EPIC_Kitchen\\\\OpticalFlow\\\\P01_04\\\\v\\\\frame_3631.jpg'\n",
      "Skipping frame: D:/Datasets/Datasets/EPIC_Kitchen/OpticalFlow/P01_04/u\\frame_3636.jpg due to error: [Errno 2] No such file or directory: 'D:\\\\Datasets\\\\Datasets\\\\EPIC_Kitchen\\\\OpticalFlow\\\\P01_04\\\\u\\\\frame_3636.jpg'\n",
      "Skipping frame: D:/Datasets/Datasets/EPIC_Kitchen/OpticalFlow/P01_04/v\\frame_3636.jpg due to error: [Errno 2] No such file or directory: 'D:\\\\Datasets\\\\Datasets\\\\EPIC_Kitchen\\\\OpticalFlow\\\\P01_04\\\\v\\\\frame_3636.jpg'\n",
      "Skipping frame: D:/Datasets/Datasets/EPIC_Kitchen/OpticalFlow/P01_04/u\\frame_3641.jpg due to error: [Errno 2] No such file or directory: 'D:\\\\Datasets\\\\Datasets\\\\EPIC_Kitchen\\\\OpticalFlow\\\\P01_04\\\\u\\\\frame_3641.jpg'\n",
      "Skipping frame: D:/Datasets/Datasets/EPIC_Kitchen/OpticalFlow/P01_04/v\\frame_3641.jpg due to error: [Errno 2] No such file or directory: 'D:\\\\Datasets\\\\Datasets\\\\EPIC_Kitchen\\\\OpticalFlow\\\\P01_04\\\\v\\\\frame_3641.jpg'\n",
      "Skipping frame: D:/Datasets/Datasets/EPIC_Kitchen/OpticalFlow/P01_04/u\\frame_3646.jpg due to error: [Errno 2] No such file or directory: 'D:\\\\Datasets\\\\Datasets\\\\EPIC_Kitchen\\\\OpticalFlow\\\\P01_04\\\\u\\\\frame_3646.jpg'\n",
      "Skipping frame: D:/Datasets/Datasets/EPIC_Kitchen/OpticalFlow/P01_04/v\\frame_3646.jpg due to error: [Errno 2] No such file or directory: 'D:\\\\Datasets\\\\Datasets\\\\EPIC_Kitchen\\\\OpticalFlow\\\\P01_04\\\\v\\\\frame_3646.jpg'\n"
     ]
    },
    {
     "name": "stderr",
     "output_type": "stream",
     "text": [
      "Extracting Features with DEFT:  58%|███████████████████████████▉                    | 735/1262 [00:48<00:22, 23.84it/s]"
     ]
    },
    {
     "name": "stdout",
     "output_type": "stream",
     "text": [
      "Skipping frame: D:/Datasets/Datasets/EPIC_Kitchen/OpticalFlow/P01_04/u\\frame_3651.jpg due to error: [Errno 2] No such file or directory: 'D:\\\\Datasets\\\\Datasets\\\\EPIC_Kitchen\\\\OpticalFlow\\\\P01_04\\\\u\\\\frame_3651.jpg'\n",
      "Skipping frame: D:/Datasets/Datasets/EPIC_Kitchen/OpticalFlow/P01_04/v\\frame_3651.jpg due to error: [Errno 2] No such file or directory: 'D:\\\\Datasets\\\\Datasets\\\\EPIC_Kitchen\\\\OpticalFlow\\\\P01_04\\\\v\\\\frame_3651.jpg'\n",
      "Skipping frame: D:/Datasets/Datasets/EPIC_Kitchen/OpticalFlow/P01_04/u\\frame_3656.jpg due to error: [Errno 2] No such file or directory: 'D:\\\\Datasets\\\\Datasets\\\\EPIC_Kitchen\\\\OpticalFlow\\\\P01_04\\\\u\\\\frame_3656.jpg'\n",
      "Skipping frame: D:/Datasets/Datasets/EPIC_Kitchen/OpticalFlow/P01_04/v\\frame_3656.jpg due to error: [Errno 2] No such file or directory: 'D:\\\\Datasets\\\\Datasets\\\\EPIC_Kitchen\\\\OpticalFlow\\\\P01_04\\\\v\\\\frame_3656.jpg'\n",
      "Skipping frame: D:/Datasets/Datasets/EPIC_Kitchen/OpticalFlow/P01_04/u\\frame_3661.jpg due to error: [Errno 2] No such file or directory: 'D:\\\\Datasets\\\\Datasets\\\\EPIC_Kitchen\\\\OpticalFlow\\\\P01_04\\\\u\\\\frame_3661.jpg'\n",
      "Skipping frame: D:/Datasets/Datasets/EPIC_Kitchen/OpticalFlow/P01_04/v\\frame_3661.jpg due to error: [Errno 2] No such file or directory: 'D:\\\\Datasets\\\\Datasets\\\\EPIC_Kitchen\\\\OpticalFlow\\\\P01_04\\\\v\\\\frame_3661.jpg'\n",
      "Skipping frame: D:/Datasets/Datasets/EPIC_Kitchen/OpticalFlow/P01_04/u\\frame_3666.jpg due to error: [Errno 2] No such file or directory: 'D:\\\\Datasets\\\\Datasets\\\\EPIC_Kitchen\\\\OpticalFlow\\\\P01_04\\\\u\\\\frame_3666.jpg'\n",
      "Skipping frame: D:/Datasets/Datasets/EPIC_Kitchen/OpticalFlow/P01_04/v\\frame_3666.jpg due to error: [Errno 2] No such file or directory: 'D:\\\\Datasets\\\\Datasets\\\\EPIC_Kitchen\\\\OpticalFlow\\\\P01_04\\\\v\\\\frame_3666.jpg'\n",
      "Skipping frame: D:/Datasets/Datasets/EPIC_Kitchen/OpticalFlow/P01_04/u\\frame_3671.jpg due to error: [Errno 2] No such file or directory: 'D:\\\\Datasets\\\\Datasets\\\\EPIC_Kitchen\\\\OpticalFlow\\\\P01_04\\\\u\\\\frame_3671.jpg'\n",
      "Skipping frame: D:/Datasets/Datasets/EPIC_Kitchen/OpticalFlow/P01_04/v\\frame_3671.jpg due to error: [Errno 2] No such file or directory: 'D:\\\\Datasets\\\\Datasets\\\\EPIC_Kitchen\\\\OpticalFlow\\\\P01_04\\\\v\\\\frame_3671.jpg'\n"
     ]
    },
    {
     "name": "stderr",
     "output_type": "stream",
     "text": [
      "Extracting Features with DEFT:  59%|████████████████████████████▏                   | 741/1262 [00:48<00:22, 23.60it/s]"
     ]
    },
    {
     "name": "stdout",
     "output_type": "stream",
     "text": [
      "Skipping frame: D:/Datasets/Datasets/EPIC_Kitchen/OpticalFlow/P01_04/u\\frame_3676.jpg due to error: [Errno 2] No such file or directory: 'D:\\\\Datasets\\\\Datasets\\\\EPIC_Kitchen\\\\OpticalFlow\\\\P01_04\\\\u\\\\frame_3676.jpg'\n",
      "Skipping frame: D:/Datasets/Datasets/EPIC_Kitchen/OpticalFlow/P01_04/v\\frame_3676.jpg due to error: [Errno 2] No such file or directory: 'D:\\\\Datasets\\\\Datasets\\\\EPIC_Kitchen\\\\OpticalFlow\\\\P01_04\\\\v\\\\frame_3676.jpg'\n",
      "Skipping frame: D:/Datasets/Datasets/EPIC_Kitchen/OpticalFlow/P01_04/u\\frame_3681.jpg due to error: [Errno 2] No such file or directory: 'D:\\\\Datasets\\\\Datasets\\\\EPIC_Kitchen\\\\OpticalFlow\\\\P01_04\\\\u\\\\frame_3681.jpg'\n",
      "Skipping frame: D:/Datasets/Datasets/EPIC_Kitchen/OpticalFlow/P01_04/v\\frame_3681.jpg due to error: [Errno 2] No such file or directory: 'D:\\\\Datasets\\\\Datasets\\\\EPIC_Kitchen\\\\OpticalFlow\\\\P01_04\\\\v\\\\frame_3681.jpg'\n",
      "Skipping frame: D:/Datasets/Datasets/EPIC_Kitchen/OpticalFlow/P01_04/u\\frame_3686.jpg due to error: [Errno 2] No such file or directory: 'D:\\\\Datasets\\\\Datasets\\\\EPIC_Kitchen\\\\OpticalFlow\\\\P01_04\\\\u\\\\frame_3686.jpg'\n",
      "Skipping frame: D:/Datasets/Datasets/EPIC_Kitchen/OpticalFlow/P01_04/v\\frame_3686.jpg due to error: [Errno 2] No such file or directory: 'D:\\\\Datasets\\\\Datasets\\\\EPIC_Kitchen\\\\OpticalFlow\\\\P01_04\\\\v\\\\frame_3686.jpg'\n",
      "Skipping frame: D:/Datasets/Datasets/EPIC_Kitchen/OpticalFlow/P01_04/u\\frame_3691.jpg due to error: [Errno 2] No such file or directory: 'D:\\\\Datasets\\\\Datasets\\\\EPIC_Kitchen\\\\OpticalFlow\\\\P01_04\\\\u\\\\frame_3691.jpg'\n",
      "Skipping frame: D:/Datasets/Datasets/EPIC_Kitchen/OpticalFlow/P01_04/v\\frame_3691.jpg due to error: [Errno 2] No such file or directory: 'D:\\\\Datasets\\\\Datasets\\\\EPIC_Kitchen\\\\OpticalFlow\\\\P01_04\\\\v\\\\frame_3691.jpg'\n",
      "Skipping frame: D:/Datasets/Datasets/EPIC_Kitchen/OpticalFlow/P01_04/u\\frame_3696.jpg due to error: [Errno 2] No such file or directory: 'D:\\\\Datasets\\\\Datasets\\\\EPIC_Kitchen\\\\OpticalFlow\\\\P01_04\\\\u\\\\frame_3696.jpg'\n",
      "Skipping frame: D:/Datasets/Datasets/EPIC_Kitchen/OpticalFlow/P01_04/v\\frame_3696.jpg due to error: [Errno 2] No such file or directory: 'D:\\\\Datasets\\\\Datasets\\\\EPIC_Kitchen\\\\OpticalFlow\\\\P01_04\\\\v\\\\frame_3696.jpg'\n",
      "Skipping frame: D:/Datasets/Datasets/EPIC_Kitchen/OpticalFlow/P01_04/u\\frame_3701.jpg due to error: [Errno 2] No such file or directory: 'D:\\\\Datasets\\\\Datasets\\\\EPIC_Kitchen\\\\OpticalFlow\\\\P01_04\\\\u\\\\frame_3701.jpg'\n",
      "Skipping frame: D:/Datasets/Datasets/EPIC_Kitchen/OpticalFlow/P01_04/v\\frame_3701.jpg due to error: [Errno 2] No such file or directory: 'D:\\\\Datasets\\\\Datasets\\\\EPIC_Kitchen\\\\OpticalFlow\\\\P01_04\\\\v\\\\frame_3701.jpg'\n"
     ]
    },
    {
     "name": "stderr",
     "output_type": "stream",
     "text": [
      "\r",
      "Extracting Features with DEFT:  59%|████████████████████████████▎                   | 744/1262 [00:48<00:21, 23.75it/s]"
     ]
    },
    {
     "name": "stdout",
     "output_type": "stream",
     "text": [
      "Skipping frame: D:/Datasets/Datasets/EPIC_Kitchen/OpticalFlow/P01_04/u\\frame_3706.jpg due to error: [Errno 2] No such file or directory: 'D:\\\\Datasets\\\\Datasets\\\\EPIC_Kitchen\\\\OpticalFlow\\\\P01_04\\\\u\\\\frame_3706.jpg'\n",
      "Skipping frame: D:/Datasets/Datasets/EPIC_Kitchen/OpticalFlow/P01_04/v\\frame_3706.jpg due to error: [Errno 2] No such file or directory: 'D:\\\\Datasets\\\\Datasets\\\\EPIC_Kitchen\\\\OpticalFlow\\\\P01_04\\\\v\\\\frame_3706.jpg'\n",
      "Skipping frame: D:/Datasets/Datasets/EPIC_Kitchen/OpticalFlow/P01_04/u\\frame_3711.jpg due to error: [Errno 2] No such file or directory: 'D:\\\\Datasets\\\\Datasets\\\\EPIC_Kitchen\\\\OpticalFlow\\\\P01_04\\\\u\\\\frame_3711.jpg'\n",
      "Skipping frame: D:/Datasets/Datasets/EPIC_Kitchen/OpticalFlow/P01_04/v\\frame_3711.jpg due to error: [Errno 2] No such file or directory: 'D:\\\\Datasets\\\\Datasets\\\\EPIC_Kitchen\\\\OpticalFlow\\\\P01_04\\\\v\\\\frame_3711.jpg'\n",
      "Skipping frame: D:/Datasets/Datasets/EPIC_Kitchen/OpticalFlow/P01_04/u\\frame_3716.jpg due to error: [Errno 2] No such file or directory: 'D:\\\\Datasets\\\\Datasets\\\\EPIC_Kitchen\\\\OpticalFlow\\\\P01_04\\\\u\\\\frame_3716.jpg'\n",
      "Skipping frame: D:/Datasets/Datasets/EPIC_Kitchen/OpticalFlow/P01_04/v\\frame_3716.jpg due to error: [Errno 2] No such file or directory: 'D:\\\\Datasets\\\\Datasets\\\\EPIC_Kitchen\\\\OpticalFlow\\\\P01_04\\\\v\\\\frame_3716.jpg'\n",
      "Skipping frame: D:/Datasets/Datasets/EPIC_Kitchen/OpticalFlow/P01_04/u\\frame_3721.jpg due to error: [Errno 2] No such file or directory: 'D:\\\\Datasets\\\\Datasets\\\\EPIC_Kitchen\\\\OpticalFlow\\\\P01_04\\\\u\\\\frame_3721.jpg'\n",
      "Skipping frame: D:/Datasets/Datasets/EPIC_Kitchen/OpticalFlow/P01_04/v\\frame_3721.jpg due to error: [Errno 2] No such file or directory: 'D:\\\\Datasets\\\\Datasets\\\\EPIC_Kitchen\\\\OpticalFlow\\\\P01_04\\\\v\\\\frame_3721.jpg'\n",
      "Skipping frame: D:/Datasets/Datasets/EPIC_Kitchen/OpticalFlow/P01_04/u\\frame_3726.jpg due to error: [Errno 2] No such file or directory: 'D:\\\\Datasets\\\\Datasets\\\\EPIC_Kitchen\\\\OpticalFlow\\\\P01_04\\\\u\\\\frame_3726.jpg'\n",
      "Skipping frame: D:/Datasets/Datasets/EPIC_Kitchen/OpticalFlow/P01_04/v\\frame_3726.jpg due to error: [Errno 2] No such file or directory: 'D:\\\\Datasets\\\\Datasets\\\\EPIC_Kitchen\\\\OpticalFlow\\\\P01_04\\\\v\\\\frame_3726.jpg'\n"
     ]
    },
    {
     "name": "stderr",
     "output_type": "stream",
     "text": [
      "Extracting Features with DEFT:  59%|████████████████████████████▌                   | 750/1262 [00:48<00:21, 23.58it/s]"
     ]
    },
    {
     "name": "stdout",
     "output_type": "stream",
     "text": [
      "Skipping frame: D:/Datasets/Datasets/EPIC_Kitchen/OpticalFlow/P01_04/u\\frame_3731.jpg due to error: [Errno 2] No such file or directory: 'D:\\\\Datasets\\\\Datasets\\\\EPIC_Kitchen\\\\OpticalFlow\\\\P01_04\\\\u\\\\frame_3731.jpg'\n",
      "Skipping frame: D:/Datasets/Datasets/EPIC_Kitchen/OpticalFlow/P01_04/v\\frame_3731.jpg due to error: [Errno 2] No such file or directory: 'D:\\\\Datasets\\\\Datasets\\\\EPIC_Kitchen\\\\OpticalFlow\\\\P01_04\\\\v\\\\frame_3731.jpg'\n",
      "Skipping frame: D:/Datasets/Datasets/EPIC_Kitchen/OpticalFlow/P01_04/u\\frame_3736.jpg due to error: [Errno 2] No such file or directory: 'D:\\\\Datasets\\\\Datasets\\\\EPIC_Kitchen\\\\OpticalFlow\\\\P01_04\\\\u\\\\frame_3736.jpg'\n",
      "Skipping frame: D:/Datasets/Datasets/EPIC_Kitchen/OpticalFlow/P01_04/v\\frame_3736.jpg due to error: [Errno 2] No such file or directory: 'D:\\\\Datasets\\\\Datasets\\\\EPIC_Kitchen\\\\OpticalFlow\\\\P01_04\\\\v\\\\frame_3736.jpg'\n",
      "Skipping frame: D:/Datasets/Datasets/EPIC_Kitchen/OpticalFlow/P01_04/u\\frame_3741.jpg due to error: [Errno 2] No such file or directory: 'D:\\\\Datasets\\\\Datasets\\\\EPIC_Kitchen\\\\OpticalFlow\\\\P01_04\\\\u\\\\frame_3741.jpg'\n",
      "Skipping frame: D:/Datasets/Datasets/EPIC_Kitchen/OpticalFlow/P01_04/v\\frame_3741.jpg due to error: [Errno 2] No such file or directory: 'D:\\\\Datasets\\\\Datasets\\\\EPIC_Kitchen\\\\OpticalFlow\\\\P01_04\\\\v\\\\frame_3741.jpg'\n",
      "Skipping frame: D:/Datasets/Datasets/EPIC_Kitchen/OpticalFlow/P01_04/u\\frame_3746.jpg due to error: [Errno 2] No such file or directory: 'D:\\\\Datasets\\\\Datasets\\\\EPIC_Kitchen\\\\OpticalFlow\\\\P01_04\\\\u\\\\frame_3746.jpg'\n",
      "Skipping frame: D:/Datasets/Datasets/EPIC_Kitchen/OpticalFlow/P01_04/v\\frame_3746.jpg due to error: [Errno 2] No such file or directory: 'D:\\\\Datasets\\\\Datasets\\\\EPIC_Kitchen\\\\OpticalFlow\\\\P01_04\\\\v\\\\frame_3746.jpg'\n",
      "Skipping frame: D:/Datasets/Datasets/EPIC_Kitchen/OpticalFlow/P01_04/u\\frame_3751.jpg due to error: [Errno 2] No such file or directory: 'D:\\\\Datasets\\\\Datasets\\\\EPIC_Kitchen\\\\OpticalFlow\\\\P01_04\\\\u\\\\frame_3751.jpg'\n",
      "Skipping frame: D:/Datasets/Datasets/EPIC_Kitchen/OpticalFlow/P01_04/v\\frame_3751.jpg due to error: [Errno 2] No such file or directory: 'D:\\\\Datasets\\\\Datasets\\\\EPIC_Kitchen\\\\OpticalFlow\\\\P01_04\\\\v\\\\frame_3751.jpg'\n"
     ]
    },
    {
     "name": "stderr",
     "output_type": "stream",
     "text": [
      "Extracting Features with DEFT:  60%|████████████████████████████▊                   | 756/1262 [00:49<00:21, 23.52it/s]"
     ]
    },
    {
     "name": "stdout",
     "output_type": "stream",
     "text": [
      "Skipping frame: D:/Datasets/Datasets/EPIC_Kitchen/OpticalFlow/P01_04/u\\frame_3756.jpg due to error: [Errno 2] No such file or directory: 'D:\\\\Datasets\\\\Datasets\\\\EPIC_Kitchen\\\\OpticalFlow\\\\P01_04\\\\u\\\\frame_3756.jpg'\n",
      "Skipping frame: D:/Datasets/Datasets/EPIC_Kitchen/OpticalFlow/P01_04/v\\frame_3756.jpg due to error: [Errno 2] No such file or directory: 'D:\\\\Datasets\\\\Datasets\\\\EPIC_Kitchen\\\\OpticalFlow\\\\P01_04\\\\v\\\\frame_3756.jpg'\n",
      "Skipping frame: D:/Datasets/Datasets/EPIC_Kitchen/OpticalFlow/P01_04/u\\frame_3761.jpg due to error: [Errno 2] No such file or directory: 'D:\\\\Datasets\\\\Datasets\\\\EPIC_Kitchen\\\\OpticalFlow\\\\P01_04\\\\u\\\\frame_3761.jpg'\n",
      "Skipping frame: D:/Datasets/Datasets/EPIC_Kitchen/OpticalFlow/P01_04/v\\frame_3761.jpg due to error: [Errno 2] No such file or directory: 'D:\\\\Datasets\\\\Datasets\\\\EPIC_Kitchen\\\\OpticalFlow\\\\P01_04\\\\v\\\\frame_3761.jpg'\n",
      "Skipping frame: D:/Datasets/Datasets/EPIC_Kitchen/OpticalFlow/P01_04/u\\frame_3766.jpg due to error: [Errno 2] No such file or directory: 'D:\\\\Datasets\\\\Datasets\\\\EPIC_Kitchen\\\\OpticalFlow\\\\P01_04\\\\u\\\\frame_3766.jpg'\n",
      "Skipping frame: D:/Datasets/Datasets/EPIC_Kitchen/OpticalFlow/P01_04/v\\frame_3766.jpg due to error: [Errno 2] No such file or directory: 'D:\\\\Datasets\\\\Datasets\\\\EPIC_Kitchen\\\\OpticalFlow\\\\P01_04\\\\v\\\\frame_3766.jpg'\n",
      "Skipping frame: D:/Datasets/Datasets/EPIC_Kitchen/OpticalFlow/P01_04/u\\frame_3771.jpg due to error: [Errno 2] No such file or directory: 'D:\\\\Datasets\\\\Datasets\\\\EPIC_Kitchen\\\\OpticalFlow\\\\P01_04\\\\u\\\\frame_3771.jpg'\n",
      "Skipping frame: D:/Datasets/Datasets/EPIC_Kitchen/OpticalFlow/P01_04/v\\frame_3771.jpg due to error: [Errno 2] No such file or directory: 'D:\\\\Datasets\\\\Datasets\\\\EPIC_Kitchen\\\\OpticalFlow\\\\P01_04\\\\v\\\\frame_3771.jpg'\n",
      "Skipping frame: D:/Datasets/Datasets/EPIC_Kitchen/OpticalFlow/P01_04/u\\frame_3776.jpg due to error: [Errno 2] No such file or directory: 'D:\\\\Datasets\\\\Datasets\\\\EPIC_Kitchen\\\\OpticalFlow\\\\P01_04\\\\u\\\\frame_3776.jpg'\n",
      "Skipping frame: D:/Datasets/Datasets/EPIC_Kitchen/OpticalFlow/P01_04/v\\frame_3776.jpg due to error: [Errno 2] No such file or directory: 'D:\\\\Datasets\\\\Datasets\\\\EPIC_Kitchen\\\\OpticalFlow\\\\P01_04\\\\v\\\\frame_3776.jpg'\n"
     ]
    },
    {
     "name": "stderr",
     "output_type": "stream",
     "text": [
      "Extracting Features with DEFT:  60%|████████████████████████████▉                   | 762/1262 [00:49<00:21, 23.70it/s]"
     ]
    },
    {
     "name": "stdout",
     "output_type": "stream",
     "text": [
      "Skipping frame: D:/Datasets/Datasets/EPIC_Kitchen/OpticalFlow/P01_04/u\\frame_3781.jpg due to error: [Errno 2] No such file or directory: 'D:\\\\Datasets\\\\Datasets\\\\EPIC_Kitchen\\\\OpticalFlow\\\\P01_04\\\\u\\\\frame_3781.jpg'\n",
      "Skipping frame: D:/Datasets/Datasets/EPIC_Kitchen/OpticalFlow/P01_04/v\\frame_3781.jpg due to error: [Errno 2] No such file or directory: 'D:\\\\Datasets\\\\Datasets\\\\EPIC_Kitchen\\\\OpticalFlow\\\\P01_04\\\\v\\\\frame_3781.jpg'\n",
      "Skipping frame: D:/Datasets/Datasets/EPIC_Kitchen/OpticalFlow/P01_04/u\\frame_3786.jpg due to error: [Errno 2] No such file or directory: 'D:\\\\Datasets\\\\Datasets\\\\EPIC_Kitchen\\\\OpticalFlow\\\\P01_04\\\\u\\\\frame_3786.jpg'\n",
      "Skipping frame: D:/Datasets/Datasets/EPIC_Kitchen/OpticalFlow/P01_04/v\\frame_3786.jpg due to error: [Errno 2] No such file or directory: 'D:\\\\Datasets\\\\Datasets\\\\EPIC_Kitchen\\\\OpticalFlow\\\\P01_04\\\\v\\\\frame_3786.jpg'\n",
      "Skipping frame: D:/Datasets/Datasets/EPIC_Kitchen/OpticalFlow/P01_04/u\\frame_3791.jpg due to error: [Errno 2] No such file or directory: 'D:\\\\Datasets\\\\Datasets\\\\EPIC_Kitchen\\\\OpticalFlow\\\\P01_04\\\\u\\\\frame_3791.jpg'\n",
      "Skipping frame: D:/Datasets/Datasets/EPIC_Kitchen/OpticalFlow/P01_04/v\\frame_3791.jpg due to error: [Errno 2] No such file or directory: 'D:\\\\Datasets\\\\Datasets\\\\EPIC_Kitchen\\\\OpticalFlow\\\\P01_04\\\\v\\\\frame_3791.jpg'\n",
      "Skipping frame: D:/Datasets/Datasets/EPIC_Kitchen/OpticalFlow/P01_04/u\\frame_3796.jpg due to error: [Errno 2] No such file or directory: 'D:\\\\Datasets\\\\Datasets\\\\EPIC_Kitchen\\\\OpticalFlow\\\\P01_04\\\\u\\\\frame_3796.jpg'\n",
      "Skipping frame: D:/Datasets/Datasets/EPIC_Kitchen/OpticalFlow/P01_04/v\\frame_3796.jpg due to error: [Errno 2] No such file or directory: 'D:\\\\Datasets\\\\Datasets\\\\EPIC_Kitchen\\\\OpticalFlow\\\\P01_04\\\\v\\\\frame_3796.jpg'\n",
      "Skipping frame: D:/Datasets/Datasets/EPIC_Kitchen/OpticalFlow/P01_04/u\\frame_3801.jpg due to error: [Errno 2] No such file or directory: 'D:\\\\Datasets\\\\Datasets\\\\EPIC_Kitchen\\\\OpticalFlow\\\\P01_04\\\\u\\\\frame_3801.jpg'\n",
      "Skipping frame: D:/Datasets/Datasets/EPIC_Kitchen/OpticalFlow/P01_04/v\\frame_3801.jpg due to error: [Errno 2] No such file or directory: 'D:\\\\Datasets\\\\Datasets\\\\EPIC_Kitchen\\\\OpticalFlow\\\\P01_04\\\\v\\\\frame_3801.jpg'\n",
      "Skipping frame: D:/Datasets/Datasets/EPIC_Kitchen/OpticalFlow/P01_04/u\\frame_3806.jpg due to error: [Errno 2] No such file or directory: 'D:\\\\Datasets\\\\Datasets\\\\EPIC_Kitchen\\\\OpticalFlow\\\\P01_04\\\\u\\\\frame_3806.jpg'\n",
      "Skipping frame: D:/Datasets/Datasets/EPIC_Kitchen/OpticalFlow/P01_04/v\\frame_3806.jpg due to error: [Errno 2] No such file or directory: 'D:\\\\Datasets\\\\Datasets\\\\EPIC_Kitchen\\\\OpticalFlow\\\\P01_04\\\\v\\\\frame_3806.jpg'\n"
     ]
    },
    {
     "name": "stderr",
     "output_type": "stream",
     "text": [
      "Extracting Features with DEFT:  61%|█████████████████████████████▏                  | 768/1262 [00:49<00:20, 23.92it/s]"
     ]
    },
    {
     "name": "stdout",
     "output_type": "stream",
     "text": [
      "Skipping frame: D:/Datasets/Datasets/EPIC_Kitchen/OpticalFlow/P01_04/u\\frame_3811.jpg due to error: [Errno 2] No such file or directory: 'D:\\\\Datasets\\\\Datasets\\\\EPIC_Kitchen\\\\OpticalFlow\\\\P01_04\\\\u\\\\frame_3811.jpg'\n",
      "Skipping frame: D:/Datasets/Datasets/EPIC_Kitchen/OpticalFlow/P01_04/v\\frame_3811.jpg due to error: [Errno 2] No such file or directory: 'D:\\\\Datasets\\\\Datasets\\\\EPIC_Kitchen\\\\OpticalFlow\\\\P01_04\\\\v\\\\frame_3811.jpg'\n",
      "Skipping frame: D:/Datasets/Datasets/EPIC_Kitchen/OpticalFlow/P01_04/u\\frame_3816.jpg due to error: [Errno 2] No such file or directory: 'D:\\\\Datasets\\\\Datasets\\\\EPIC_Kitchen\\\\OpticalFlow\\\\P01_04\\\\u\\\\frame_3816.jpg'\n",
      "Skipping frame: D:/Datasets/Datasets/EPIC_Kitchen/OpticalFlow/P01_04/v\\frame_3816.jpg due to error: [Errno 2] No such file or directory: 'D:\\\\Datasets\\\\Datasets\\\\EPIC_Kitchen\\\\OpticalFlow\\\\P01_04\\\\v\\\\frame_3816.jpg'\n",
      "Skipping frame: D:/Datasets/Datasets/EPIC_Kitchen/OpticalFlow/P01_04/u\\frame_3821.jpg due to error: [Errno 2] No such file or directory: 'D:\\\\Datasets\\\\Datasets\\\\EPIC_Kitchen\\\\OpticalFlow\\\\P01_04\\\\u\\\\frame_3821.jpg'\n",
      "Skipping frame: D:/Datasets/Datasets/EPIC_Kitchen/OpticalFlow/P01_04/v\\frame_3821.jpg due to error: [Errno 2] No such file or directory: 'D:\\\\Datasets\\\\Datasets\\\\EPIC_Kitchen\\\\OpticalFlow\\\\P01_04\\\\v\\\\frame_3821.jpg'\n",
      "Skipping frame: D:/Datasets/Datasets/EPIC_Kitchen/OpticalFlow/P01_04/u\\frame_3826.jpg due to error: [Errno 2] No such file or directory: 'D:\\\\Datasets\\\\Datasets\\\\EPIC_Kitchen\\\\OpticalFlow\\\\P01_04\\\\u\\\\frame_3826.jpg'\n",
      "Skipping frame: D:/Datasets/Datasets/EPIC_Kitchen/OpticalFlow/P01_04/v\\frame_3826.jpg due to error: [Errno 2] No such file or directory: 'D:\\\\Datasets\\\\Datasets\\\\EPIC_Kitchen\\\\OpticalFlow\\\\P01_04\\\\v\\\\frame_3826.jpg'\n",
      "Skipping frame: D:/Datasets/Datasets/EPIC_Kitchen/OpticalFlow/P01_04/u\\frame_3831.jpg due to error: [Errno 2] No such file or directory: 'D:\\\\Datasets\\\\Datasets\\\\EPIC_Kitchen\\\\OpticalFlow\\\\P01_04\\\\u\\\\frame_3831.jpg'\n",
      "Skipping frame: D:/Datasets/Datasets/EPIC_Kitchen/OpticalFlow/P01_04/v\\frame_3831.jpg due to error: [Errno 2] No such file or directory: 'D:\\\\Datasets\\\\Datasets\\\\EPIC_Kitchen\\\\OpticalFlow\\\\P01_04\\\\v\\\\frame_3831.jpg'\n",
      "Skipping frame: D:/Datasets/Datasets/EPIC_Kitchen/OpticalFlow/P01_04/u\\frame_3836.jpg due to error: [Errno 2] No such file or directory: 'D:\\\\Datasets\\\\Datasets\\\\EPIC_Kitchen\\\\OpticalFlow\\\\P01_04\\\\u\\\\frame_3836.jpg'\n",
      "Skipping frame: D:/Datasets/Datasets/EPIC_Kitchen/OpticalFlow/P01_04/v\\frame_3836.jpg due to error: [Errno 2] No such file or directory: 'D:\\\\Datasets\\\\Datasets\\\\EPIC_Kitchen\\\\OpticalFlow\\\\P01_04\\\\v\\\\frame_3836.jpg'\n"
     ]
    },
    {
     "name": "stderr",
     "output_type": "stream",
     "text": [
      "\r",
      "Extracting Features with DEFT:  61%|█████████████████████████████▎                  | 771/1262 [00:49<00:20, 23.82it/s]"
     ]
    },
    {
     "name": "stdout",
     "output_type": "stream",
     "text": [
      "Skipping frame: D:/Datasets/Datasets/EPIC_Kitchen/OpticalFlow/P01_04/u\\frame_3841.jpg due to error: [Errno 2] No such file or directory: 'D:\\\\Datasets\\\\Datasets\\\\EPIC_Kitchen\\\\OpticalFlow\\\\P01_04\\\\u\\\\frame_3841.jpg'\n",
      "Skipping frame: D:/Datasets/Datasets/EPIC_Kitchen/OpticalFlow/P01_04/v\\frame_3841.jpg due to error: [Errno 2] No such file or directory: 'D:\\\\Datasets\\\\Datasets\\\\EPIC_Kitchen\\\\OpticalFlow\\\\P01_04\\\\v\\\\frame_3841.jpg'\n",
      "Skipping frame: D:/Datasets/Datasets/EPIC_Kitchen/OpticalFlow/P01_04/u\\frame_3846.jpg due to error: [Errno 2] No such file or directory: 'D:\\\\Datasets\\\\Datasets\\\\EPIC_Kitchen\\\\OpticalFlow\\\\P01_04\\\\u\\\\frame_3846.jpg'\n",
      "Skipping frame: D:/Datasets/Datasets/EPIC_Kitchen/OpticalFlow/P01_04/v\\frame_3846.jpg due to error: [Errno 2] No such file or directory: 'D:\\\\Datasets\\\\Datasets\\\\EPIC_Kitchen\\\\OpticalFlow\\\\P01_04\\\\v\\\\frame_3846.jpg'\n",
      "Skipping frame: D:/Datasets/Datasets/EPIC_Kitchen/OpticalFlow/P01_04/u\\frame_3851.jpg due to error: [Errno 2] No such file or directory: 'D:\\\\Datasets\\\\Datasets\\\\EPIC_Kitchen\\\\OpticalFlow\\\\P01_04\\\\u\\\\frame_3851.jpg'\n",
      "Skipping frame: D:/Datasets/Datasets/EPIC_Kitchen/OpticalFlow/P01_04/v\\frame_3851.jpg due to error: [Errno 2] No such file or directory: 'D:\\\\Datasets\\\\Datasets\\\\EPIC_Kitchen\\\\OpticalFlow\\\\P01_04\\\\v\\\\frame_3851.jpg'\n",
      "Skipping frame: D:/Datasets/Datasets/EPIC_Kitchen/OpticalFlow/P01_04/u\\frame_3856.jpg due to error: [Errno 2] No such file or directory: 'D:\\\\Datasets\\\\Datasets\\\\EPIC_Kitchen\\\\OpticalFlow\\\\P01_04\\\\u\\\\frame_3856.jpg'\n",
      "Skipping frame: D:/Datasets/Datasets/EPIC_Kitchen/OpticalFlow/P01_04/v\\frame_3856.jpg due to error: [Errno 2] No such file or directory: 'D:\\\\Datasets\\\\Datasets\\\\EPIC_Kitchen\\\\OpticalFlow\\\\P01_04\\\\v\\\\frame_3856.jpg'\n",
      "Skipping frame: D:/Datasets/Datasets/EPIC_Kitchen/OpticalFlow/P01_04/u\\frame_3861.jpg due to error: [Errno 2] No such file or directory: 'D:\\\\Datasets\\\\Datasets\\\\EPIC_Kitchen\\\\OpticalFlow\\\\P01_04\\\\u\\\\frame_3861.jpg'\n",
      "Skipping frame: D:/Datasets/Datasets/EPIC_Kitchen/OpticalFlow/P01_04/v\\frame_3861.jpg due to error: [Errno 2] No such file or directory: 'D:\\\\Datasets\\\\Datasets\\\\EPIC_Kitchen\\\\OpticalFlow\\\\P01_04\\\\v\\\\frame_3861.jpg'\n"
     ]
    },
    {
     "name": "stderr",
     "output_type": "stream",
     "text": [
      "Extracting Features with DEFT:  62%|█████████████████████████████▌                  | 777/1262 [00:49<00:20, 23.71it/s]"
     ]
    },
    {
     "name": "stdout",
     "output_type": "stream",
     "text": [
      "Skipping frame: D:/Datasets/Datasets/EPIC_Kitchen/OpticalFlow/P01_04/u\\frame_3866.jpg due to error: [Errno 2] No such file or directory: 'D:\\\\Datasets\\\\Datasets\\\\EPIC_Kitchen\\\\OpticalFlow\\\\P01_04\\\\u\\\\frame_3866.jpg'\n",
      "Skipping frame: D:/Datasets/Datasets/EPIC_Kitchen/OpticalFlow/P01_04/v\\frame_3866.jpg due to error: [Errno 2] No such file or directory: 'D:\\\\Datasets\\\\Datasets\\\\EPIC_Kitchen\\\\OpticalFlow\\\\P01_04\\\\v\\\\frame_3866.jpg'\n",
      "Skipping frame: D:/Datasets/Datasets/EPIC_Kitchen/OpticalFlow/P01_04/u\\frame_3871.jpg due to error: [Errno 2] No such file or directory: 'D:\\\\Datasets\\\\Datasets\\\\EPIC_Kitchen\\\\OpticalFlow\\\\P01_04\\\\u\\\\frame_3871.jpg'\n",
      "Skipping frame: D:/Datasets/Datasets/EPIC_Kitchen/OpticalFlow/P01_04/v\\frame_3871.jpg due to error: [Errno 2] No such file or directory: 'D:\\\\Datasets\\\\Datasets\\\\EPIC_Kitchen\\\\OpticalFlow\\\\P01_04\\\\v\\\\frame_3871.jpg'\n",
      "Skipping frame: D:/Datasets/Datasets/EPIC_Kitchen/OpticalFlow/P01_04/u\\frame_3876.jpg due to error: [Errno 2] No such file or directory: 'D:\\\\Datasets\\\\Datasets\\\\EPIC_Kitchen\\\\OpticalFlow\\\\P01_04\\\\u\\\\frame_3876.jpg'\n",
      "Skipping frame: D:/Datasets/Datasets/EPIC_Kitchen/OpticalFlow/P01_04/v\\frame_3876.jpg due to error: [Errno 2] No such file or directory: 'D:\\\\Datasets\\\\Datasets\\\\EPIC_Kitchen\\\\OpticalFlow\\\\P01_04\\\\v\\\\frame_3876.jpg'\n",
      "Skipping frame: D:/Datasets/Datasets/EPIC_Kitchen/OpticalFlow/P01_04/u\\frame_3881.jpg due to error: [Errno 2] No such file or directory: 'D:\\\\Datasets\\\\Datasets\\\\EPIC_Kitchen\\\\OpticalFlow\\\\P01_04\\\\u\\\\frame_3881.jpg'\n",
      "Skipping frame: D:/Datasets/Datasets/EPIC_Kitchen/OpticalFlow/P01_04/v\\frame_3881.jpg due to error: [Errno 2] No such file or directory: 'D:\\\\Datasets\\\\Datasets\\\\EPIC_Kitchen\\\\OpticalFlow\\\\P01_04\\\\v\\\\frame_3881.jpg'\n",
      "Skipping frame: D:/Datasets/Datasets/EPIC_Kitchen/OpticalFlow/P01_04/u\\frame_3886.jpg due to error: [Errno 2] No such file or directory: 'D:\\\\Datasets\\\\Datasets\\\\EPIC_Kitchen\\\\OpticalFlow\\\\P01_04\\\\u\\\\frame_3886.jpg'\n",
      "Skipping frame: D:/Datasets/Datasets/EPIC_Kitchen/OpticalFlow/P01_04/v\\frame_3886.jpg due to error: [Errno 2] No such file or directory: 'D:\\\\Datasets\\\\Datasets\\\\EPIC_Kitchen\\\\OpticalFlow\\\\P01_04\\\\v\\\\frame_3886.jpg'\n"
     ]
    },
    {
     "name": "stderr",
     "output_type": "stream",
     "text": [
      "Extracting Features with DEFT:  62%|█████████████████████████████▊                  | 783/1262 [00:50<00:20, 23.56it/s]"
     ]
    },
    {
     "name": "stdout",
     "output_type": "stream",
     "text": [
      "Skipping frame: D:/Datasets/Datasets/EPIC_Kitchen/OpticalFlow/P01_04/u\\frame_3891.jpg due to error: [Errno 2] No such file or directory: 'D:\\\\Datasets\\\\Datasets\\\\EPIC_Kitchen\\\\OpticalFlow\\\\P01_04\\\\u\\\\frame_3891.jpg'\n",
      "Skipping frame: D:/Datasets/Datasets/EPIC_Kitchen/OpticalFlow/P01_04/v\\frame_3891.jpg due to error: [Errno 2] No such file or directory: 'D:\\\\Datasets\\\\Datasets\\\\EPIC_Kitchen\\\\OpticalFlow\\\\P01_04\\\\v\\\\frame_3891.jpg'\n",
      "Skipping frame: D:/Datasets/Datasets/EPIC_Kitchen/OpticalFlow/P01_04/u\\frame_3896.jpg due to error: [Errno 2] No such file or directory: 'D:\\\\Datasets\\\\Datasets\\\\EPIC_Kitchen\\\\OpticalFlow\\\\P01_04\\\\u\\\\frame_3896.jpg'\n",
      "Skipping frame: D:/Datasets/Datasets/EPIC_Kitchen/OpticalFlow/P01_04/v\\frame_3896.jpg due to error: [Errno 2] No such file or directory: 'D:\\\\Datasets\\\\Datasets\\\\EPIC_Kitchen\\\\OpticalFlow\\\\P01_04\\\\v\\\\frame_3896.jpg'\n",
      "Skipping frame: D:/Datasets/Datasets/EPIC_Kitchen/OpticalFlow/P01_04/u\\frame_3901.jpg due to error: [Errno 2] No such file or directory: 'D:\\\\Datasets\\\\Datasets\\\\EPIC_Kitchen\\\\OpticalFlow\\\\P01_04\\\\u\\\\frame_3901.jpg'\n",
      "Skipping frame: D:/Datasets/Datasets/EPIC_Kitchen/OpticalFlow/P01_04/v\\frame_3901.jpg due to error: [Errno 2] No such file or directory: 'D:\\\\Datasets\\\\Datasets\\\\EPIC_Kitchen\\\\OpticalFlow\\\\P01_04\\\\v\\\\frame_3901.jpg'\n",
      "Skipping frame: D:/Datasets/Datasets/EPIC_Kitchen/OpticalFlow/P01_04/u\\frame_3906.jpg due to error: [Errno 2] No such file or directory: 'D:\\\\Datasets\\\\Datasets\\\\EPIC_Kitchen\\\\OpticalFlow\\\\P01_04\\\\u\\\\frame_3906.jpg'\n",
      "Skipping frame: D:/Datasets/Datasets/EPIC_Kitchen/OpticalFlow/P01_04/v\\frame_3906.jpg due to error: [Errno 2] No such file or directory: 'D:\\\\Datasets\\\\Datasets\\\\EPIC_Kitchen\\\\OpticalFlow\\\\P01_04\\\\v\\\\frame_3906.jpg'\n",
      "Skipping frame: D:/Datasets/Datasets/EPIC_Kitchen/OpticalFlow/P01_04/u\\frame_3911.jpg due to error: [Errno 2] No such file or directory: 'D:\\\\Datasets\\\\Datasets\\\\EPIC_Kitchen\\\\OpticalFlow\\\\P01_04\\\\u\\\\frame_3911.jpg'\n",
      "Skipping frame: D:/Datasets/Datasets/EPIC_Kitchen/OpticalFlow/P01_04/v\\frame_3911.jpg due to error: [Errno 2] No such file or directory: 'D:\\\\Datasets\\\\Datasets\\\\EPIC_Kitchen\\\\OpticalFlow\\\\P01_04\\\\v\\\\frame_3911.jpg'\n"
     ]
    },
    {
     "name": "stderr",
     "output_type": "stream",
     "text": [
      "\r",
      "Extracting Features with DEFT:  62%|█████████████████████████████▉                  | 786/1262 [00:50<00:20, 23.57it/s]"
     ]
    },
    {
     "name": "stdout",
     "output_type": "stream",
     "text": [
      "Skipping frame: D:/Datasets/Datasets/EPIC_Kitchen/OpticalFlow/P01_04/u\\frame_3916.jpg due to error: [Errno 2] No such file or directory: 'D:\\\\Datasets\\\\Datasets\\\\EPIC_Kitchen\\\\OpticalFlow\\\\P01_04\\\\u\\\\frame_3916.jpg'\n",
      "Skipping frame: D:/Datasets/Datasets/EPIC_Kitchen/OpticalFlow/P01_04/v\\frame_3916.jpg due to error: [Errno 2] No such file or directory: 'D:\\\\Datasets\\\\Datasets\\\\EPIC_Kitchen\\\\OpticalFlow\\\\P01_04\\\\v\\\\frame_3916.jpg'\n",
      "Skipping frame: D:/Datasets/Datasets/EPIC_Kitchen/OpticalFlow/P01_04/u\\frame_3921.jpg due to error: [Errno 2] No such file or directory: 'D:\\\\Datasets\\\\Datasets\\\\EPIC_Kitchen\\\\OpticalFlow\\\\P01_04\\\\u\\\\frame_3921.jpg'\n",
      "Skipping frame: D:/Datasets/Datasets/EPIC_Kitchen/OpticalFlow/P01_04/v\\frame_3921.jpg due to error: [Errno 2] No such file or directory: 'D:\\\\Datasets\\\\Datasets\\\\EPIC_Kitchen\\\\OpticalFlow\\\\P01_04\\\\v\\\\frame_3921.jpg'\n",
      "Skipping frame: D:/Datasets/Datasets/EPIC_Kitchen/OpticalFlow/P01_04/u\\frame_3926.jpg due to error: [Errno 2] No such file or directory: 'D:\\\\Datasets\\\\Datasets\\\\EPIC_Kitchen\\\\OpticalFlow\\\\P01_04\\\\u\\\\frame_3926.jpg'\n",
      "Skipping frame: D:/Datasets/Datasets/EPIC_Kitchen/OpticalFlow/P01_04/v\\frame_3926.jpg due to error: [Errno 2] No such file or directory: 'D:\\\\Datasets\\\\Datasets\\\\EPIC_Kitchen\\\\OpticalFlow\\\\P01_04\\\\v\\\\frame_3926.jpg'\n",
      "Skipping frame: D:/Datasets/Datasets/EPIC_Kitchen/OpticalFlow/P01_04/u\\frame_3931.jpg due to error: [Errno 2] No such file or directory: 'D:\\\\Datasets\\\\Datasets\\\\EPIC_Kitchen\\\\OpticalFlow\\\\P01_04\\\\u\\\\frame_3931.jpg'\n",
      "Skipping frame: D:/Datasets/Datasets/EPIC_Kitchen/OpticalFlow/P01_04/v\\frame_3931.jpg due to error: [Errno 2] No such file or directory: 'D:\\\\Datasets\\\\Datasets\\\\EPIC_Kitchen\\\\OpticalFlow\\\\P01_04\\\\v\\\\frame_3931.jpg'\n",
      "Skipping frame: D:/Datasets/Datasets/EPIC_Kitchen/OpticalFlow/P01_04/u\\frame_3936.jpg due to error: [Errno 2] No such file or directory: 'D:\\\\Datasets\\\\Datasets\\\\EPIC_Kitchen\\\\OpticalFlow\\\\P01_04\\\\u\\\\frame_3936.jpg'\n",
      "Skipping frame: D:/Datasets/Datasets/EPIC_Kitchen/OpticalFlow/P01_04/v\\frame_3936.jpg due to error: [Errno 2] No such file or directory: 'D:\\\\Datasets\\\\Datasets\\\\EPIC_Kitchen\\\\OpticalFlow\\\\P01_04\\\\v\\\\frame_3936.jpg'\n"
     ]
    },
    {
     "name": "stderr",
     "output_type": "stream",
     "text": [
      "Extracting Features with DEFT:  63%|██████████████████████████████                  | 792/1262 [00:50<00:18, 24.76it/s]"
     ]
    },
    {
     "name": "stdout",
     "output_type": "stream",
     "text": [
      "Skipping frame: D:/Datasets/Datasets/EPIC_Kitchen/OpticalFlow/P01_04/u\\frame_3941.jpg due to error: [Errno 2] No such file or directory: 'D:\\\\Datasets\\\\Datasets\\\\EPIC_Kitchen\\\\OpticalFlow\\\\P01_04\\\\u\\\\frame_3941.jpg'\n",
      "Skipping frame: D:/Datasets/Datasets/EPIC_Kitchen/OpticalFlow/P01_04/v\\frame_3941.jpg due to error: [Errno 2] No such file or directory: 'D:\\\\Datasets\\\\Datasets\\\\EPIC_Kitchen\\\\OpticalFlow\\\\P01_04\\\\v\\\\frame_3941.jpg'\n",
      "Skipping frame: D:/Datasets/Datasets/EPIC_Kitchen/OpticalFlow/P01_04/u\\frame_3946.jpg due to error: [Errno 2] No such file or directory: 'D:\\\\Datasets\\\\Datasets\\\\EPIC_Kitchen\\\\OpticalFlow\\\\P01_04\\\\u\\\\frame_3946.jpg'\n",
      "Skipping frame: D:/Datasets/Datasets/EPIC_Kitchen/OpticalFlow/P01_04/v\\frame_3946.jpg due to error: [Errno 2] No such file or directory: 'D:\\\\Datasets\\\\Datasets\\\\EPIC_Kitchen\\\\OpticalFlow\\\\P01_04\\\\v\\\\frame_3946.jpg'\n",
      "Skipping frame: D:/Datasets/Datasets/EPIC_Kitchen/OpticalFlow/P01_04/u\\frame_3951.jpg due to error: [Errno 2] No such file or directory: 'D:\\\\Datasets\\\\Datasets\\\\EPIC_Kitchen\\\\OpticalFlow\\\\P01_04\\\\u\\\\frame_3951.jpg'\n",
      "Skipping frame: D:/Datasets/Datasets/EPIC_Kitchen/OpticalFlow/P01_04/v\\frame_3951.jpg due to error: [Errno 2] No such file or directory: 'D:\\\\Datasets\\\\Datasets\\\\EPIC_Kitchen\\\\OpticalFlow\\\\P01_04\\\\v\\\\frame_3951.jpg'\n",
      "Skipping frame: D:/Datasets/Datasets/EPIC_Kitchen/OpticalFlow/P01_04/u\\frame_3956.jpg due to error: [Errno 2] No such file or directory: 'D:\\\\Datasets\\\\Datasets\\\\EPIC_Kitchen\\\\OpticalFlow\\\\P01_04\\\\u\\\\frame_3956.jpg'\n",
      "Skipping frame: D:/Datasets/Datasets/EPIC_Kitchen/OpticalFlow/P01_04/v\\frame_3956.jpg due to error: [Errno 2] No such file or directory: 'D:\\\\Datasets\\\\Datasets\\\\EPIC_Kitchen\\\\OpticalFlow\\\\P01_04\\\\v\\\\frame_3956.jpg'\n",
      "Skipping frame: D:/Datasets/Datasets/EPIC_Kitchen/OpticalFlow/P01_04/u\\frame_3961.jpg due to error: [Errno 2] No such file or directory: 'D:\\\\Datasets\\\\Datasets\\\\EPIC_Kitchen\\\\OpticalFlow\\\\P01_04\\\\u\\\\frame_3961.jpg'\n",
      "Skipping frame: D:/Datasets/Datasets/EPIC_Kitchen/OpticalFlow/P01_04/v\\frame_3961.jpg due to error: [Errno 2] No such file or directory: 'D:\\\\Datasets\\\\Datasets\\\\EPIC_Kitchen\\\\OpticalFlow\\\\P01_04\\\\v\\\\frame_3961.jpg'\n",
      "Skipping frame: D:/Datasets/Datasets/EPIC_Kitchen/OpticalFlow/P01_04/u\\frame_3966.jpg due to error: [Errno 2] No such file or directory: 'D:\\\\Datasets\\\\Datasets\\\\EPIC_Kitchen\\\\OpticalFlow\\\\P01_04\\\\u\\\\frame_3966.jpg'\n",
      "Skipping frame: D:/Datasets/Datasets/EPIC_Kitchen/OpticalFlow/P01_04/v\\frame_3966.jpg due to error: [Errno 2] No such file or directory: 'D:\\\\Datasets\\\\Datasets\\\\EPIC_Kitchen\\\\OpticalFlow\\\\P01_04\\\\v\\\\frame_3966.jpg'\n"
     ]
    },
    {
     "name": "stderr",
     "output_type": "stream",
     "text": [
      "Extracting Features with DEFT:  63%|██████████████████████████████▎                 | 798/1262 [00:50<00:18, 24.63it/s]"
     ]
    },
    {
     "name": "stdout",
     "output_type": "stream",
     "text": [
      "Skipping frame: D:/Datasets/Datasets/EPIC_Kitchen/OpticalFlow/P01_04/u\\frame_3971.jpg due to error: [Errno 2] No such file or directory: 'D:\\\\Datasets\\\\Datasets\\\\EPIC_Kitchen\\\\OpticalFlow\\\\P01_04\\\\u\\\\frame_3971.jpg'\n",
      "Skipping frame: D:/Datasets/Datasets/EPIC_Kitchen/OpticalFlow/P01_04/v\\frame_3971.jpg due to error: [Errno 2] No such file or directory: 'D:\\\\Datasets\\\\Datasets\\\\EPIC_Kitchen\\\\OpticalFlow\\\\P01_04\\\\v\\\\frame_3971.jpg'\n",
      "Skipping frame: D:/Datasets/Datasets/EPIC_Kitchen/OpticalFlow/P01_04/u\\frame_3976.jpg due to error: [Errno 2] No such file or directory: 'D:\\\\Datasets\\\\Datasets\\\\EPIC_Kitchen\\\\OpticalFlow\\\\P01_04\\\\u\\\\frame_3976.jpg'\n",
      "Skipping frame: D:/Datasets/Datasets/EPIC_Kitchen/OpticalFlow/P01_04/v\\frame_3976.jpg due to error: [Errno 2] No such file or directory: 'D:\\\\Datasets\\\\Datasets\\\\EPIC_Kitchen\\\\OpticalFlow\\\\P01_04\\\\v\\\\frame_3976.jpg'\n",
      "Skipping frame: D:/Datasets/Datasets/EPIC_Kitchen/OpticalFlow/P01_04/u\\frame_3981.jpg due to error: [Errno 2] No such file or directory: 'D:\\\\Datasets\\\\Datasets\\\\EPIC_Kitchen\\\\OpticalFlow\\\\P01_04\\\\u\\\\frame_3981.jpg'\n",
      "Skipping frame: D:/Datasets/Datasets/EPIC_Kitchen/OpticalFlow/P01_04/v\\frame_3981.jpg due to error: [Errno 2] No such file or directory: 'D:\\\\Datasets\\\\Datasets\\\\EPIC_Kitchen\\\\OpticalFlow\\\\P01_04\\\\v\\\\frame_3981.jpg'\n",
      "Skipping frame: D:/Datasets/Datasets/EPIC_Kitchen/OpticalFlow/P01_04/u\\frame_3986.jpg due to error: [Errno 2] No such file or directory: 'D:\\\\Datasets\\\\Datasets\\\\EPIC_Kitchen\\\\OpticalFlow\\\\P01_04\\\\u\\\\frame_3986.jpg'\n",
      "Skipping frame: D:/Datasets/Datasets/EPIC_Kitchen/OpticalFlow/P01_04/v\\frame_3986.jpg due to error: [Errno 2] No such file or directory: 'D:\\\\Datasets\\\\Datasets\\\\EPIC_Kitchen\\\\OpticalFlow\\\\P01_04\\\\v\\\\frame_3986.jpg'\n",
      "Skipping frame: D:/Datasets/Datasets/EPIC_Kitchen/OpticalFlow/P01_04/u\\frame_3991.jpg due to error: [Errno 2] No such file or directory: 'D:\\\\Datasets\\\\Datasets\\\\EPIC_Kitchen\\\\OpticalFlow\\\\P01_04\\\\u\\\\frame_3991.jpg'\n",
      "Skipping frame: D:/Datasets/Datasets/EPIC_Kitchen/OpticalFlow/P01_04/v\\frame_3991.jpg due to error: [Errno 2] No such file or directory: 'D:\\\\Datasets\\\\Datasets\\\\EPIC_Kitchen\\\\OpticalFlow\\\\P01_04\\\\v\\\\frame_3991.jpg'\n"
     ]
    },
    {
     "name": "stderr",
     "output_type": "stream",
     "text": [
      "Extracting Features with DEFT:  64%|██████████████████████████████▌                 | 804/1262 [00:51<00:19, 23.57it/s]"
     ]
    },
    {
     "name": "stdout",
     "output_type": "stream",
     "text": [
      "Skipping frame: D:/Datasets/Datasets/EPIC_Kitchen/OpticalFlow/P01_04/u\\frame_3996.jpg due to error: [Errno 2] No such file or directory: 'D:\\\\Datasets\\\\Datasets\\\\EPIC_Kitchen\\\\OpticalFlow\\\\P01_04\\\\u\\\\frame_3996.jpg'\n",
      "Skipping frame: D:/Datasets/Datasets/EPIC_Kitchen/OpticalFlow/P01_04/v\\frame_3996.jpg due to error: [Errno 2] No such file or directory: 'D:\\\\Datasets\\\\Datasets\\\\EPIC_Kitchen\\\\OpticalFlow\\\\P01_04\\\\v\\\\frame_3996.jpg'\n",
      "Skipping frame: D:/Datasets/Datasets/EPIC_Kitchen/OpticalFlow/P01_04/u\\frame_4001.jpg due to error: [Errno 2] No such file or directory: 'D:\\\\Datasets\\\\Datasets\\\\EPIC_Kitchen\\\\OpticalFlow\\\\P01_04\\\\u\\\\frame_4001.jpg'\n",
      "Skipping frame: D:/Datasets/Datasets/EPIC_Kitchen/OpticalFlow/P01_04/v\\frame_4001.jpg due to error: [Errno 2] No such file or directory: 'D:\\\\Datasets\\\\Datasets\\\\EPIC_Kitchen\\\\OpticalFlow\\\\P01_04\\\\v\\\\frame_4001.jpg'\n",
      "Skipping frame: D:/Datasets/Datasets/EPIC_Kitchen/OpticalFlow/P01_04/u\\frame_4006.jpg due to error: [Errno 2] No such file or directory: 'D:\\\\Datasets\\\\Datasets\\\\EPIC_Kitchen\\\\OpticalFlow\\\\P01_04\\\\u\\\\frame_4006.jpg'\n",
      "Skipping frame: D:/Datasets/Datasets/EPIC_Kitchen/OpticalFlow/P01_04/v\\frame_4006.jpg due to error: [Errno 2] No such file or directory: 'D:\\\\Datasets\\\\Datasets\\\\EPIC_Kitchen\\\\OpticalFlow\\\\P01_04\\\\v\\\\frame_4006.jpg'\n",
      "Skipping frame: D:/Datasets/Datasets/EPIC_Kitchen/OpticalFlow/P01_04/u\\frame_4011.jpg due to error: [Errno 2] No such file or directory: 'D:\\\\Datasets\\\\Datasets\\\\EPIC_Kitchen\\\\OpticalFlow\\\\P01_04\\\\u\\\\frame_4011.jpg'\n",
      "Skipping frame: D:/Datasets/Datasets/EPIC_Kitchen/OpticalFlow/P01_04/v\\frame_4011.jpg due to error: [Errno 2] No such file or directory: 'D:\\\\Datasets\\\\Datasets\\\\EPIC_Kitchen\\\\OpticalFlow\\\\P01_04\\\\v\\\\frame_4011.jpg'\n",
      "Skipping frame: D:/Datasets/Datasets/EPIC_Kitchen/OpticalFlow/P01_04/u\\frame_4016.jpg due to error: [Errno 2] No such file or directory: 'D:\\\\Datasets\\\\Datasets\\\\EPIC_Kitchen\\\\OpticalFlow\\\\P01_04\\\\u\\\\frame_4016.jpg'\n",
      "Skipping frame: D:/Datasets/Datasets/EPIC_Kitchen/OpticalFlow/P01_04/v\\frame_4016.jpg due to error: [Errno 2] No such file or directory: 'D:\\\\Datasets\\\\Datasets\\\\EPIC_Kitchen\\\\OpticalFlow\\\\P01_04\\\\v\\\\frame_4016.jpg'\n"
     ]
    },
    {
     "name": "stderr",
     "output_type": "stream",
     "text": [
      "Extracting Features with DEFT:  64%|██████████████████████████████▊                 | 810/1262 [00:51<00:18, 24.24it/s]"
     ]
    },
    {
     "name": "stdout",
     "output_type": "stream",
     "text": [
      "Skipping frame: D:/Datasets/Datasets/EPIC_Kitchen/OpticalFlow/P01_04/u\\frame_4021.jpg due to error: [Errno 2] No such file or directory: 'D:\\\\Datasets\\\\Datasets\\\\EPIC_Kitchen\\\\OpticalFlow\\\\P01_04\\\\u\\\\frame_4021.jpg'\n",
      "Skipping frame: D:/Datasets/Datasets/EPIC_Kitchen/OpticalFlow/P01_04/v\\frame_4021.jpg due to error: [Errno 2] No such file or directory: 'D:\\\\Datasets\\\\Datasets\\\\EPIC_Kitchen\\\\OpticalFlow\\\\P01_04\\\\v\\\\frame_4021.jpg'\n",
      "Skipping frame: D:/Datasets/Datasets/EPIC_Kitchen/OpticalFlow/P01_04/u\\frame_4026.jpg due to error: [Errno 2] No such file or directory: 'D:\\\\Datasets\\\\Datasets\\\\EPIC_Kitchen\\\\OpticalFlow\\\\P01_04\\\\u\\\\frame_4026.jpg'\n",
      "Skipping frame: D:/Datasets/Datasets/EPIC_Kitchen/OpticalFlow/P01_04/v\\frame_4026.jpg due to error: [Errno 2] No such file or directory: 'D:\\\\Datasets\\\\Datasets\\\\EPIC_Kitchen\\\\OpticalFlow\\\\P01_04\\\\v\\\\frame_4026.jpg'\n",
      "Skipping frame: D:/Datasets/Datasets/EPIC_Kitchen/OpticalFlow/P01_04/u\\frame_4031.jpg due to error: [Errno 2] No such file or directory: 'D:\\\\Datasets\\\\Datasets\\\\EPIC_Kitchen\\\\OpticalFlow\\\\P01_04\\\\u\\\\frame_4031.jpg'\n",
      "Skipping frame: D:/Datasets/Datasets/EPIC_Kitchen/OpticalFlow/P01_04/v\\frame_4031.jpg due to error: [Errno 2] No such file or directory: 'D:\\\\Datasets\\\\Datasets\\\\EPIC_Kitchen\\\\OpticalFlow\\\\P01_04\\\\v\\\\frame_4031.jpg'\n",
      "Skipping frame: D:/Datasets/Datasets/EPIC_Kitchen/OpticalFlow/P01_04/u\\frame_4036.jpg due to error: [Errno 2] No such file or directory: 'D:\\\\Datasets\\\\Datasets\\\\EPIC_Kitchen\\\\OpticalFlow\\\\P01_04\\\\u\\\\frame_4036.jpg'\n",
      "Skipping frame: D:/Datasets/Datasets/EPIC_Kitchen/OpticalFlow/P01_04/v\\frame_4036.jpg due to error: [Errno 2] No such file or directory: 'D:\\\\Datasets\\\\Datasets\\\\EPIC_Kitchen\\\\OpticalFlow\\\\P01_04\\\\v\\\\frame_4036.jpg'\n",
      "Skipping frame: D:/Datasets/Datasets/EPIC_Kitchen/OpticalFlow/P01_04/u\\frame_4041.jpg due to error: [Errno 2] No such file or directory: 'D:\\\\Datasets\\\\Datasets\\\\EPIC_Kitchen\\\\OpticalFlow\\\\P01_04\\\\u\\\\frame_4041.jpg'\n",
      "Skipping frame: D:/Datasets/Datasets/EPIC_Kitchen/OpticalFlow/P01_04/v\\frame_4041.jpg due to error: [Errno 2] No such file or directory: 'D:\\\\Datasets\\\\Datasets\\\\EPIC_Kitchen\\\\OpticalFlow\\\\P01_04\\\\v\\\\frame_4041.jpg'\n",
      "Skipping frame: D:/Datasets/Datasets/EPIC_Kitchen/OpticalFlow/P01_04/u\\frame_4046.jpg due to error: [Errno 2] No such file or directory: 'D:\\\\Datasets\\\\Datasets\\\\EPIC_Kitchen\\\\OpticalFlow\\\\P01_04\\\\u\\\\frame_4046.jpg'\n",
      "Skipping frame: D:/Datasets/Datasets/EPIC_Kitchen/OpticalFlow/P01_04/v\\frame_4046.jpg due to error: [Errno 2] No such file or directory: 'D:\\\\Datasets\\\\Datasets\\\\EPIC_Kitchen\\\\OpticalFlow\\\\P01_04\\\\v\\\\frame_4046.jpg'\n"
     ]
    },
    {
     "name": "stderr",
     "output_type": "stream",
     "text": [
      "\r",
      "Extracting Features with DEFT:  64%|██████████████████████████████▉                 | 813/1262 [00:51<00:18, 24.29it/s]"
     ]
    },
    {
     "name": "stdout",
     "output_type": "stream",
     "text": [
      "Skipping frame: D:/Datasets/Datasets/EPIC_Kitchen/OpticalFlow/P01_04/u\\frame_4051.jpg due to error: [Errno 2] No such file or directory: 'D:\\\\Datasets\\\\Datasets\\\\EPIC_Kitchen\\\\OpticalFlow\\\\P01_04\\\\u\\\\frame_4051.jpg'\n",
      "Skipping frame: D:/Datasets/Datasets/EPIC_Kitchen/OpticalFlow/P01_04/v\\frame_4051.jpg due to error: [Errno 2] No such file or directory: 'D:\\\\Datasets\\\\Datasets\\\\EPIC_Kitchen\\\\OpticalFlow\\\\P01_04\\\\v\\\\frame_4051.jpg'\n",
      "Skipping frame: D:/Datasets/Datasets/EPIC_Kitchen/OpticalFlow/P01_04/u\\frame_4056.jpg due to error: [Errno 2] No such file or directory: 'D:\\\\Datasets\\\\Datasets\\\\EPIC_Kitchen\\\\OpticalFlow\\\\P01_04\\\\u\\\\frame_4056.jpg'\n",
      "Skipping frame: D:/Datasets/Datasets/EPIC_Kitchen/OpticalFlow/P01_04/v\\frame_4056.jpg due to error: [Errno 2] No such file or directory: 'D:\\\\Datasets\\\\Datasets\\\\EPIC_Kitchen\\\\OpticalFlow\\\\P01_04\\\\v\\\\frame_4056.jpg'\n",
      "Skipping frame: D:/Datasets/Datasets/EPIC_Kitchen/OpticalFlow/P01_04/u\\frame_4061.jpg due to error: [Errno 2] No such file or directory: 'D:\\\\Datasets\\\\Datasets\\\\EPIC_Kitchen\\\\OpticalFlow\\\\P01_04\\\\u\\\\frame_4061.jpg'\n",
      "Skipping frame: D:/Datasets/Datasets/EPIC_Kitchen/OpticalFlow/P01_04/v\\frame_4061.jpg due to error: [Errno 2] No such file or directory: 'D:\\\\Datasets\\\\Datasets\\\\EPIC_Kitchen\\\\OpticalFlow\\\\P01_04\\\\v\\\\frame_4061.jpg'\n",
      "Skipping frame: D:/Datasets/Datasets/EPIC_Kitchen/OpticalFlow/P01_04/u\\frame_4066.jpg due to error: [Errno 2] No such file or directory: 'D:\\\\Datasets\\\\Datasets\\\\EPIC_Kitchen\\\\OpticalFlow\\\\P01_04\\\\u\\\\frame_4066.jpg'\n",
      "Skipping frame: D:/Datasets/Datasets/EPIC_Kitchen/OpticalFlow/P01_04/v\\frame_4066.jpg due to error: [Errno 2] No such file or directory: 'D:\\\\Datasets\\\\Datasets\\\\EPIC_Kitchen\\\\OpticalFlow\\\\P01_04\\\\v\\\\frame_4066.jpg'\n",
      "Skipping frame: D:/Datasets/Datasets/EPIC_Kitchen/OpticalFlow/P01_04/u\\frame_4071.jpg due to error: [Errno 2] No such file or directory: 'D:\\\\Datasets\\\\Datasets\\\\EPIC_Kitchen\\\\OpticalFlow\\\\P01_04\\\\u\\\\frame_4071.jpg'\n",
      "Skipping frame: D:/Datasets/Datasets/EPIC_Kitchen/OpticalFlow/P01_04/v\\frame_4071.jpg due to error: [Errno 2] No such file or directory: 'D:\\\\Datasets\\\\Datasets\\\\EPIC_Kitchen\\\\OpticalFlow\\\\P01_04\\\\v\\\\frame_4071.jpg'\n"
     ]
    },
    {
     "name": "stderr",
     "output_type": "stream",
     "text": [
      "Extracting Features with DEFT:  65%|███████████████████████████████▏                | 819/1262 [00:51<00:18, 24.25it/s]"
     ]
    },
    {
     "name": "stdout",
     "output_type": "stream",
     "text": [
      "Skipping frame: D:/Datasets/Datasets/EPIC_Kitchen/OpticalFlow/P01_04/u\\frame_4076.jpg due to error: [Errno 2] No such file or directory: 'D:\\\\Datasets\\\\Datasets\\\\EPIC_Kitchen\\\\OpticalFlow\\\\P01_04\\\\u\\\\frame_4076.jpg'\n",
      "Skipping frame: D:/Datasets/Datasets/EPIC_Kitchen/OpticalFlow/P01_04/v\\frame_4076.jpg due to error: [Errno 2] No such file or directory: 'D:\\\\Datasets\\\\Datasets\\\\EPIC_Kitchen\\\\OpticalFlow\\\\P01_04\\\\v\\\\frame_4076.jpg'\n",
      "Skipping frame: D:/Datasets/Datasets/EPIC_Kitchen/OpticalFlow/P01_04/u\\frame_4081.jpg due to error: [Errno 2] No such file or directory: 'D:\\\\Datasets\\\\Datasets\\\\EPIC_Kitchen\\\\OpticalFlow\\\\P01_04\\\\u\\\\frame_4081.jpg'\n",
      "Skipping frame: D:/Datasets/Datasets/EPIC_Kitchen/OpticalFlow/P01_04/v\\frame_4081.jpg due to error: [Errno 2] No such file or directory: 'D:\\\\Datasets\\\\Datasets\\\\EPIC_Kitchen\\\\OpticalFlow\\\\P01_04\\\\v\\\\frame_4081.jpg'\n",
      "Skipping frame: D:/Datasets/Datasets/EPIC_Kitchen/OpticalFlow/P01_04/u\\frame_4086.jpg due to error: [Errno 2] No such file or directory: 'D:\\\\Datasets\\\\Datasets\\\\EPIC_Kitchen\\\\OpticalFlow\\\\P01_04\\\\u\\\\frame_4086.jpg'\n",
      "Skipping frame: D:/Datasets/Datasets/EPIC_Kitchen/OpticalFlow/P01_04/v\\frame_4086.jpg due to error: [Errno 2] No such file or directory: 'D:\\\\Datasets\\\\Datasets\\\\EPIC_Kitchen\\\\OpticalFlow\\\\P01_04\\\\v\\\\frame_4086.jpg'\n",
      "Skipping frame: D:/Datasets/Datasets/EPIC_Kitchen/OpticalFlow/P01_04/u\\frame_4091.jpg due to error: [Errno 2] No such file or directory: 'D:\\\\Datasets\\\\Datasets\\\\EPIC_Kitchen\\\\OpticalFlow\\\\P01_04\\\\u\\\\frame_4091.jpg'\n",
      "Skipping frame: D:/Datasets/Datasets/EPIC_Kitchen/OpticalFlow/P01_04/v\\frame_4091.jpg due to error: [Errno 2] No such file or directory: 'D:\\\\Datasets\\\\Datasets\\\\EPIC_Kitchen\\\\OpticalFlow\\\\P01_04\\\\v\\\\frame_4091.jpg'\n",
      "Skipping frame: D:/Datasets/Datasets/EPIC_Kitchen/OpticalFlow/P01_04/u\\frame_4096.jpg due to error: [Errno 2] No such file or directory: 'D:\\\\Datasets\\\\Datasets\\\\EPIC_Kitchen\\\\OpticalFlow\\\\P01_04\\\\u\\\\frame_4096.jpg'\n",
      "Skipping frame: D:/Datasets/Datasets/EPIC_Kitchen/OpticalFlow/P01_04/v\\frame_4096.jpg due to error: [Errno 2] No such file or directory: 'D:\\\\Datasets\\\\Datasets\\\\EPIC_Kitchen\\\\OpticalFlow\\\\P01_04\\\\v\\\\frame_4096.jpg'\n"
     ]
    },
    {
     "name": "stderr",
     "output_type": "stream",
     "text": [
      "Extracting Features with DEFT:  65%|███████████████████████████████▍                | 825/1262 [00:51<00:18, 24.03it/s]"
     ]
    },
    {
     "name": "stdout",
     "output_type": "stream",
     "text": [
      "Skipping frame: D:/Datasets/Datasets/EPIC_Kitchen/OpticalFlow/P01_04/u\\frame_4101.jpg due to error: [Errno 2] No such file or directory: 'D:\\\\Datasets\\\\Datasets\\\\EPIC_Kitchen\\\\OpticalFlow\\\\P01_04\\\\u\\\\frame_4101.jpg'\n",
      "Skipping frame: D:/Datasets/Datasets/EPIC_Kitchen/OpticalFlow/P01_04/v\\frame_4101.jpg due to error: [Errno 2] No such file or directory: 'D:\\\\Datasets\\\\Datasets\\\\EPIC_Kitchen\\\\OpticalFlow\\\\P01_04\\\\v\\\\frame_4101.jpg'\n",
      "Skipping frame: D:/Datasets/Datasets/EPIC_Kitchen/OpticalFlow/P01_04/u\\frame_4106.jpg due to error: [Errno 2] No such file or directory: 'D:\\\\Datasets\\\\Datasets\\\\EPIC_Kitchen\\\\OpticalFlow\\\\P01_04\\\\u\\\\frame_4106.jpg'\n",
      "Skipping frame: D:/Datasets/Datasets/EPIC_Kitchen/OpticalFlow/P01_04/v\\frame_4106.jpg due to error: [Errno 2] No such file or directory: 'D:\\\\Datasets\\\\Datasets\\\\EPIC_Kitchen\\\\OpticalFlow\\\\P01_04\\\\v\\\\frame_4106.jpg'\n",
      "Skipping frame: D:/Datasets/Datasets/EPIC_Kitchen/OpticalFlow/P01_04/u\\frame_4111.jpg due to error: [Errno 2] No such file or directory: 'D:\\\\Datasets\\\\Datasets\\\\EPIC_Kitchen\\\\OpticalFlow\\\\P01_04\\\\u\\\\frame_4111.jpg'\n",
      "Skipping frame: D:/Datasets/Datasets/EPIC_Kitchen/OpticalFlow/P01_04/v\\frame_4111.jpg due to error: [Errno 2] No such file or directory: 'D:\\\\Datasets\\\\Datasets\\\\EPIC_Kitchen\\\\OpticalFlow\\\\P01_04\\\\v\\\\frame_4111.jpg'\n",
      "Skipping frame: D:/Datasets/Datasets/EPIC_Kitchen/OpticalFlow/P01_04/u\\frame_4116.jpg due to error: [Errno 2] No such file or directory: 'D:\\\\Datasets\\\\Datasets\\\\EPIC_Kitchen\\\\OpticalFlow\\\\P01_04\\\\u\\\\frame_4116.jpg'\n",
      "Skipping frame: D:/Datasets/Datasets/EPIC_Kitchen/OpticalFlow/P01_04/v\\frame_4116.jpg due to error: [Errno 2] No such file or directory: 'D:\\\\Datasets\\\\Datasets\\\\EPIC_Kitchen\\\\OpticalFlow\\\\P01_04\\\\v\\\\frame_4116.jpg'\n",
      "Skipping frame: D:/Datasets/Datasets/EPIC_Kitchen/OpticalFlow/P01_04/u\\frame_4121.jpg due to error: [Errno 2] No such file or directory: 'D:\\\\Datasets\\\\Datasets\\\\EPIC_Kitchen\\\\OpticalFlow\\\\P01_04\\\\u\\\\frame_4121.jpg'\n",
      "Skipping frame: D:/Datasets/Datasets/EPIC_Kitchen/OpticalFlow/P01_04/v\\frame_4121.jpg due to error: [Errno 2] No such file or directory: 'D:\\\\Datasets\\\\Datasets\\\\EPIC_Kitchen\\\\OpticalFlow\\\\P01_04\\\\v\\\\frame_4121.jpg'\n"
     ]
    },
    {
     "name": "stderr",
     "output_type": "stream",
     "text": [
      "\r",
      "Extracting Features with DEFT:  66%|███████████████████████████████▍                | 828/1262 [00:52<00:17, 24.24it/s]"
     ]
    },
    {
     "name": "stdout",
     "output_type": "stream",
     "text": [
      "Skipping frame: D:/Datasets/Datasets/EPIC_Kitchen/OpticalFlow/P01_04/u\\frame_4126.jpg due to error: [Errno 2] No such file or directory: 'D:\\\\Datasets\\\\Datasets\\\\EPIC_Kitchen\\\\OpticalFlow\\\\P01_04\\\\u\\\\frame_4126.jpg'\n",
      "Skipping frame: D:/Datasets/Datasets/EPIC_Kitchen/OpticalFlow/P01_04/v\\frame_4126.jpg due to error: [Errno 2] No such file or directory: 'D:\\\\Datasets\\\\Datasets\\\\EPIC_Kitchen\\\\OpticalFlow\\\\P01_04\\\\v\\\\frame_4126.jpg'\n",
      "Skipping frame: D:/Datasets/Datasets/EPIC_Kitchen/OpticalFlow/P01_04/u\\frame_4131.jpg due to error: [Errno 2] No such file or directory: 'D:\\\\Datasets\\\\Datasets\\\\EPIC_Kitchen\\\\OpticalFlow\\\\P01_04\\\\u\\\\frame_4131.jpg'\n",
      "Skipping frame: D:/Datasets/Datasets/EPIC_Kitchen/OpticalFlow/P01_04/v\\frame_4131.jpg due to error: [Errno 2] No such file or directory: 'D:\\\\Datasets\\\\Datasets\\\\EPIC_Kitchen\\\\OpticalFlow\\\\P01_04\\\\v\\\\frame_4131.jpg'\n",
      "Skipping frame: D:/Datasets/Datasets/EPIC_Kitchen/OpticalFlow/P01_04/u\\frame_4136.jpg due to error: [Errno 2] No such file or directory: 'D:\\\\Datasets\\\\Datasets\\\\EPIC_Kitchen\\\\OpticalFlow\\\\P01_04\\\\u\\\\frame_4136.jpg'\n",
      "Skipping frame: D:/Datasets/Datasets/EPIC_Kitchen/OpticalFlow/P01_04/v\\frame_4136.jpg due to error: [Errno 2] No such file or directory: 'D:\\\\Datasets\\\\Datasets\\\\EPIC_Kitchen\\\\OpticalFlow\\\\P01_04\\\\v\\\\frame_4136.jpg'\n",
      "Skipping frame: D:/Datasets/Datasets/EPIC_Kitchen/OpticalFlow/P01_04/u\\frame_4141.jpg due to error: [Errno 2] No such file or directory: 'D:\\\\Datasets\\\\Datasets\\\\EPIC_Kitchen\\\\OpticalFlow\\\\P01_04\\\\u\\\\frame_4141.jpg'\n",
      "Skipping frame: D:/Datasets/Datasets/EPIC_Kitchen/OpticalFlow/P01_04/v\\frame_4141.jpg due to error: [Errno 2] No such file or directory: 'D:\\\\Datasets\\\\Datasets\\\\EPIC_Kitchen\\\\OpticalFlow\\\\P01_04\\\\v\\\\frame_4141.jpg'\n",
      "Skipping frame: D:/Datasets/Datasets/EPIC_Kitchen/OpticalFlow/P01_04/u\\frame_4146.jpg due to error: [Errno 2] No such file or directory: 'D:\\\\Datasets\\\\Datasets\\\\EPIC_Kitchen\\\\OpticalFlow\\\\P01_04\\\\u\\\\frame_4146.jpg'\n",
      "Skipping frame: D:/Datasets/Datasets/EPIC_Kitchen/OpticalFlow/P01_04/v\\frame_4146.jpg due to error: [Errno 2] No such file or directory: 'D:\\\\Datasets\\\\Datasets\\\\EPIC_Kitchen\\\\OpticalFlow\\\\P01_04\\\\v\\\\frame_4146.jpg'\n"
     ]
    },
    {
     "name": "stderr",
     "output_type": "stream",
     "text": [
      "Extracting Features with DEFT:  66%|███████████████████████████████▋                | 834/1262 [00:52<00:17, 24.26it/s]"
     ]
    },
    {
     "name": "stdout",
     "output_type": "stream",
     "text": [
      "Skipping frame: D:/Datasets/Datasets/EPIC_Kitchen/OpticalFlow/P01_04/u\\frame_4151.jpg due to error: [Errno 2] No such file or directory: 'D:\\\\Datasets\\\\Datasets\\\\EPIC_Kitchen\\\\OpticalFlow\\\\P01_04\\\\u\\\\frame_4151.jpg'\n",
      "Skipping frame: D:/Datasets/Datasets/EPIC_Kitchen/OpticalFlow/P01_04/v\\frame_4151.jpg due to error: [Errno 2] No such file or directory: 'D:\\\\Datasets\\\\Datasets\\\\EPIC_Kitchen\\\\OpticalFlow\\\\P01_04\\\\v\\\\frame_4151.jpg'\n",
      "Skipping frame: D:/Datasets/Datasets/EPIC_Kitchen/OpticalFlow/P01_04/u\\frame_4156.jpg due to error: [Errno 2] No such file or directory: 'D:\\\\Datasets\\\\Datasets\\\\EPIC_Kitchen\\\\OpticalFlow\\\\P01_04\\\\u\\\\frame_4156.jpg'\n",
      "Skipping frame: D:/Datasets/Datasets/EPIC_Kitchen/OpticalFlow/P01_04/v\\frame_4156.jpg due to error: [Errno 2] No such file or directory: 'D:\\\\Datasets\\\\Datasets\\\\EPIC_Kitchen\\\\OpticalFlow\\\\P01_04\\\\v\\\\frame_4156.jpg'\n",
      "Skipping frame: D:/Datasets/Datasets/EPIC_Kitchen/OpticalFlow/P01_04/u\\frame_4161.jpg due to error: [Errno 2] No such file or directory: 'D:\\\\Datasets\\\\Datasets\\\\EPIC_Kitchen\\\\OpticalFlow\\\\P01_04\\\\u\\\\frame_4161.jpg'\n",
      "Skipping frame: D:/Datasets/Datasets/EPIC_Kitchen/OpticalFlow/P01_04/v\\frame_4161.jpg due to error: [Errno 2] No such file or directory: 'D:\\\\Datasets\\\\Datasets\\\\EPIC_Kitchen\\\\OpticalFlow\\\\P01_04\\\\v\\\\frame_4161.jpg'\n",
      "Skipping frame: D:/Datasets/Datasets/EPIC_Kitchen/OpticalFlow/P01_04/u\\frame_4166.jpg due to error: [Errno 2] No such file or directory: 'D:\\\\Datasets\\\\Datasets\\\\EPIC_Kitchen\\\\OpticalFlow\\\\P01_04\\\\u\\\\frame_4166.jpg'\n",
      "Skipping frame: D:/Datasets/Datasets/EPIC_Kitchen/OpticalFlow/P01_04/v\\frame_4166.jpg due to error: [Errno 2] No such file or directory: 'D:\\\\Datasets\\\\Datasets\\\\EPIC_Kitchen\\\\OpticalFlow\\\\P01_04\\\\v\\\\frame_4166.jpg'\n",
      "Skipping frame: D:/Datasets/Datasets/EPIC_Kitchen/OpticalFlow/P01_04/u\\frame_4171.jpg due to error: [Errno 2] No such file or directory: 'D:\\\\Datasets\\\\Datasets\\\\EPIC_Kitchen\\\\OpticalFlow\\\\P01_04\\\\u\\\\frame_4171.jpg'\n",
      "Skipping frame: D:/Datasets/Datasets/EPIC_Kitchen/OpticalFlow/P01_04/v\\frame_4171.jpg due to error: [Errno 2] No such file or directory: 'D:\\\\Datasets\\\\Datasets\\\\EPIC_Kitchen\\\\OpticalFlow\\\\P01_04\\\\v\\\\frame_4171.jpg'\n"
     ]
    },
    {
     "name": "stderr",
     "output_type": "stream",
     "text": [
      "Extracting Features with DEFT:  67%|███████████████████████████████▉                | 840/1262 [00:52<00:17, 24.35it/s]"
     ]
    },
    {
     "name": "stdout",
     "output_type": "stream",
     "text": [
      "Skipping frame: D:/Datasets/Datasets/EPIC_Kitchen/OpticalFlow/P01_04/u\\frame_4176.jpg due to error: [Errno 2] No such file or directory: 'D:\\\\Datasets\\\\Datasets\\\\EPIC_Kitchen\\\\OpticalFlow\\\\P01_04\\\\u\\\\frame_4176.jpg'\n",
      "Skipping frame: D:/Datasets/Datasets/EPIC_Kitchen/OpticalFlow/P01_04/v\\frame_4176.jpg due to error: [Errno 2] No such file or directory: 'D:\\\\Datasets\\\\Datasets\\\\EPIC_Kitchen\\\\OpticalFlow\\\\P01_04\\\\v\\\\frame_4176.jpg'\n",
      "Skipping frame: D:/Datasets/Datasets/EPIC_Kitchen/OpticalFlow/P01_04/u\\frame_4181.jpg due to error: [Errno 2] No such file or directory: 'D:\\\\Datasets\\\\Datasets\\\\EPIC_Kitchen\\\\OpticalFlow\\\\P01_04\\\\u\\\\frame_4181.jpg'\n",
      "Skipping frame: D:/Datasets/Datasets/EPIC_Kitchen/OpticalFlow/P01_04/v\\frame_4181.jpg due to error: [Errno 2] No such file or directory: 'D:\\\\Datasets\\\\Datasets\\\\EPIC_Kitchen\\\\OpticalFlow\\\\P01_04\\\\v\\\\frame_4181.jpg'\n",
      "Skipping frame: D:/Datasets/Datasets/EPIC_Kitchen/OpticalFlow/P01_04/u\\frame_4186.jpg due to error: [Errno 2] No such file or directory: 'D:\\\\Datasets\\\\Datasets\\\\EPIC_Kitchen\\\\OpticalFlow\\\\P01_04\\\\u\\\\frame_4186.jpg'\n",
      "Skipping frame: D:/Datasets/Datasets/EPIC_Kitchen/OpticalFlow/P01_04/v\\frame_4186.jpg due to error: [Errno 2] No such file or directory: 'D:\\\\Datasets\\\\Datasets\\\\EPIC_Kitchen\\\\OpticalFlow\\\\P01_04\\\\v\\\\frame_4186.jpg'\n",
      "Skipping frame: D:/Datasets/Datasets/EPIC_Kitchen/OpticalFlow/P01_04/u\\frame_4191.jpg due to error: [Errno 2] No such file or directory: 'D:\\\\Datasets\\\\Datasets\\\\EPIC_Kitchen\\\\OpticalFlow\\\\P01_04\\\\u\\\\frame_4191.jpg'\n",
      "Skipping frame: D:/Datasets/Datasets/EPIC_Kitchen/OpticalFlow/P01_04/v\\frame_4191.jpg due to error: [Errno 2] No such file or directory: 'D:\\\\Datasets\\\\Datasets\\\\EPIC_Kitchen\\\\OpticalFlow\\\\P01_04\\\\v\\\\frame_4191.jpg'\n",
      "Skipping frame: D:/Datasets/Datasets/EPIC_Kitchen/OpticalFlow/P01_04/u\\frame_4196.jpg due to error: [Errno 2] No such file or directory: 'D:\\\\Datasets\\\\Datasets\\\\EPIC_Kitchen\\\\OpticalFlow\\\\P01_04\\\\u\\\\frame_4196.jpg'\n",
      "Skipping frame: D:/Datasets/Datasets/EPIC_Kitchen/OpticalFlow/P01_04/v\\frame_4196.jpg due to error: [Errno 2] No such file or directory: 'D:\\\\Datasets\\\\Datasets\\\\EPIC_Kitchen\\\\OpticalFlow\\\\P01_04\\\\v\\\\frame_4196.jpg'\n",
      "Skipping frame: D:/Datasets/Datasets/EPIC_Kitchen/OpticalFlow/P01_04/u\\frame_4201.jpg due to error: [Errno 2] No such file or directory: 'D:\\\\Datasets\\\\Datasets\\\\EPIC_Kitchen\\\\OpticalFlow\\\\P01_04\\\\u\\\\frame_4201.jpg'\n",
      "Skipping frame: D:/Datasets/Datasets/EPIC_Kitchen/OpticalFlow/P01_04/v\\frame_4201.jpg due to error: [Errno 2] No such file or directory: 'D:\\\\Datasets\\\\Datasets\\\\EPIC_Kitchen\\\\OpticalFlow\\\\P01_04\\\\v\\\\frame_4201.jpg'\n"
     ]
    },
    {
     "name": "stderr",
     "output_type": "stream",
     "text": [
      "Extracting Features with DEFT:  67%|████████████████████████████████▏               | 846/1262 [00:52<00:16, 25.16it/s]"
     ]
    },
    {
     "name": "stdout",
     "output_type": "stream",
     "text": [
      "Skipping frame: D:/Datasets/Datasets/EPIC_Kitchen/OpticalFlow/P01_04/u\\frame_4206.jpg due to error: [Errno 2] No such file or directory: 'D:\\\\Datasets\\\\Datasets\\\\EPIC_Kitchen\\\\OpticalFlow\\\\P01_04\\\\u\\\\frame_4206.jpg'\n",
      "Skipping frame: D:/Datasets/Datasets/EPIC_Kitchen/OpticalFlow/P01_04/v\\frame_4206.jpg due to error: [Errno 2] No such file or directory: 'D:\\\\Datasets\\\\Datasets\\\\EPIC_Kitchen\\\\OpticalFlow\\\\P01_04\\\\v\\\\frame_4206.jpg'\n",
      "Skipping frame: D:/Datasets/Datasets/EPIC_Kitchen/OpticalFlow/P01_04/u\\frame_4211.jpg due to error: [Errno 2] No such file or directory: 'D:\\\\Datasets\\\\Datasets\\\\EPIC_Kitchen\\\\OpticalFlow\\\\P01_04\\\\u\\\\frame_4211.jpg'\n",
      "Skipping frame: D:/Datasets/Datasets/EPIC_Kitchen/OpticalFlow/P01_04/v\\frame_4211.jpg due to error: [Errno 2] No such file or directory: 'D:\\\\Datasets\\\\Datasets\\\\EPIC_Kitchen\\\\OpticalFlow\\\\P01_04\\\\v\\\\frame_4211.jpg'\n",
      "Skipping frame: D:/Datasets/Datasets/EPIC_Kitchen/OpticalFlow/P01_04/u\\frame_4216.jpg due to error: [Errno 2] No such file or directory: 'D:\\\\Datasets\\\\Datasets\\\\EPIC_Kitchen\\\\OpticalFlow\\\\P01_04\\\\u\\\\frame_4216.jpg'\n",
      "Skipping frame: D:/Datasets/Datasets/EPIC_Kitchen/OpticalFlow/P01_04/v\\frame_4216.jpg due to error: [Errno 2] No such file or directory: 'D:\\\\Datasets\\\\Datasets\\\\EPIC_Kitchen\\\\OpticalFlow\\\\P01_04\\\\v\\\\frame_4216.jpg'\n",
      "Skipping frame: D:/Datasets/Datasets/EPIC_Kitchen/OpticalFlow/P01_04/u\\frame_4221.jpg due to error: [Errno 2] No such file or directory: 'D:\\\\Datasets\\\\Datasets\\\\EPIC_Kitchen\\\\OpticalFlow\\\\P01_04\\\\u\\\\frame_4221.jpg'\n",
      "Skipping frame: D:/Datasets/Datasets/EPIC_Kitchen/OpticalFlow/P01_04/v\\frame_4221.jpg due to error: [Errno 2] No such file or directory: 'D:\\\\Datasets\\\\Datasets\\\\EPIC_Kitchen\\\\OpticalFlow\\\\P01_04\\\\v\\\\frame_4221.jpg'\n",
      "Skipping frame: D:/Datasets/Datasets/EPIC_Kitchen/OpticalFlow/P01_04/u\\frame_4226.jpg due to error: [Errno 2] No such file or directory: 'D:\\\\Datasets\\\\Datasets\\\\EPIC_Kitchen\\\\OpticalFlow\\\\P01_04\\\\u\\\\frame_4226.jpg'\n",
      "Skipping frame: D:/Datasets/Datasets/EPIC_Kitchen/OpticalFlow/P01_04/v\\frame_4226.jpg due to error: [Errno 2] No such file or directory: 'D:\\\\Datasets\\\\Datasets\\\\EPIC_Kitchen\\\\OpticalFlow\\\\P01_04\\\\v\\\\frame_4226.jpg'\n",
      "Skipping frame: D:/Datasets/Datasets/EPIC_Kitchen/OpticalFlow/P01_04/u\\frame_4231.jpg due to error: [Errno 2] No such file or directory: 'D:\\\\Datasets\\\\Datasets\\\\EPIC_Kitchen\\\\OpticalFlow\\\\P01_04\\\\u\\\\frame_4231.jpg'\n",
      "Skipping frame: D:/Datasets/Datasets/EPIC_Kitchen/OpticalFlow/P01_04/v\\frame_4231.jpg due to error: [Errno 2] No such file or directory: 'D:\\\\Datasets\\\\Datasets\\\\EPIC_Kitchen\\\\OpticalFlow\\\\P01_04\\\\v\\\\frame_4231.jpg'\n"
     ]
    },
    {
     "name": "stderr",
     "output_type": "stream",
     "text": [
      "Extracting Features with DEFT:  68%|████████████████████████████████▍               | 852/1262 [00:53<00:16, 25.14it/s]"
     ]
    },
    {
     "name": "stdout",
     "output_type": "stream",
     "text": [
      "Skipping frame: D:/Datasets/Datasets/EPIC_Kitchen/OpticalFlow/P01_04/u\\frame_4236.jpg due to error: [Errno 2] No such file or directory: 'D:\\\\Datasets\\\\Datasets\\\\EPIC_Kitchen\\\\OpticalFlow\\\\P01_04\\\\u\\\\frame_4236.jpg'\n",
      "Skipping frame: D:/Datasets/Datasets/EPIC_Kitchen/OpticalFlow/P01_04/v\\frame_4236.jpg due to error: [Errno 2] No such file or directory: 'D:\\\\Datasets\\\\Datasets\\\\EPIC_Kitchen\\\\OpticalFlow\\\\P01_04\\\\v\\\\frame_4236.jpg'\n",
      "Skipping frame: D:/Datasets/Datasets/EPIC_Kitchen/OpticalFlow/P01_04/u\\frame_4241.jpg due to error: [Errno 2] No such file or directory: 'D:\\\\Datasets\\\\Datasets\\\\EPIC_Kitchen\\\\OpticalFlow\\\\P01_04\\\\u\\\\frame_4241.jpg'\n",
      "Skipping frame: D:/Datasets/Datasets/EPIC_Kitchen/OpticalFlow/P01_04/v\\frame_4241.jpg due to error: [Errno 2] No such file or directory: 'D:\\\\Datasets\\\\Datasets\\\\EPIC_Kitchen\\\\OpticalFlow\\\\P01_04\\\\v\\\\frame_4241.jpg'\n",
      "Skipping frame: D:/Datasets/Datasets/EPIC_Kitchen/OpticalFlow/P01_04/u\\frame_4246.jpg due to error: [Errno 2] No such file or directory: 'D:\\\\Datasets\\\\Datasets\\\\EPIC_Kitchen\\\\OpticalFlow\\\\P01_04\\\\u\\\\frame_4246.jpg'\n",
      "Skipping frame: D:/Datasets/Datasets/EPIC_Kitchen/OpticalFlow/P01_04/v\\frame_4246.jpg due to error: [Errno 2] No such file or directory: 'D:\\\\Datasets\\\\Datasets\\\\EPIC_Kitchen\\\\OpticalFlow\\\\P01_04\\\\v\\\\frame_4246.jpg'\n",
      "Skipping frame: D:/Datasets/Datasets/EPIC_Kitchen/OpticalFlow/P01_04/u\\frame_4251.jpg due to error: [Errno 2] No such file or directory: 'D:\\\\Datasets\\\\Datasets\\\\EPIC_Kitchen\\\\OpticalFlow\\\\P01_04\\\\u\\\\frame_4251.jpg'\n",
      "Skipping frame: D:/Datasets/Datasets/EPIC_Kitchen/OpticalFlow/P01_04/v\\frame_4251.jpg due to error: [Errno 2] No such file or directory: 'D:\\\\Datasets\\\\Datasets\\\\EPIC_Kitchen\\\\OpticalFlow\\\\P01_04\\\\v\\\\frame_4251.jpg'\n",
      "Skipping frame: D:/Datasets/Datasets/EPIC_Kitchen/OpticalFlow/P01_04/u\\frame_4256.jpg due to error: [Errno 2] No such file or directory: 'D:\\\\Datasets\\\\Datasets\\\\EPIC_Kitchen\\\\OpticalFlow\\\\P01_04\\\\u\\\\frame_4256.jpg'\n",
      "Skipping frame: D:/Datasets/Datasets/EPIC_Kitchen/OpticalFlow/P01_04/v\\frame_4256.jpg due to error: [Errno 2] No such file or directory: 'D:\\\\Datasets\\\\Datasets\\\\EPIC_Kitchen\\\\OpticalFlow\\\\P01_04\\\\v\\\\frame_4256.jpg'\n",
      "Skipping frame: D:/Datasets/Datasets/EPIC_Kitchen/OpticalFlow/P01_04/u\\frame_4261.jpg due to error: [Errno 2] No such file or directory: 'D:\\\\Datasets\\\\Datasets\\\\EPIC_Kitchen\\\\OpticalFlow\\\\P01_04\\\\u\\\\frame_4261.jpg'\n",
      "Skipping frame: D:/Datasets/Datasets/EPIC_Kitchen/OpticalFlow/P01_04/v\\frame_4261.jpg due to error: [Errno 2] No such file or directory: 'D:\\\\Datasets\\\\Datasets\\\\EPIC_Kitchen\\\\OpticalFlow\\\\P01_04\\\\v\\\\frame_4261.jpg'\n"
     ]
    },
    {
     "name": "stderr",
     "output_type": "stream",
     "text": [
      "Extracting Features with DEFT:  68%|████████████████████████████████▋               | 858/1262 [00:53<00:16, 24.56it/s]"
     ]
    },
    {
     "name": "stdout",
     "output_type": "stream",
     "text": [
      "Skipping frame: D:/Datasets/Datasets/EPIC_Kitchen/OpticalFlow/P01_04/u\\frame_4266.jpg due to error: [Errno 2] No such file or directory: 'D:\\\\Datasets\\\\Datasets\\\\EPIC_Kitchen\\\\OpticalFlow\\\\P01_04\\\\u\\\\frame_4266.jpg'\n",
      "Skipping frame: D:/Datasets/Datasets/EPIC_Kitchen/OpticalFlow/P01_04/v\\frame_4266.jpg due to error: [Errno 2] No such file or directory: 'D:\\\\Datasets\\\\Datasets\\\\EPIC_Kitchen\\\\OpticalFlow\\\\P01_04\\\\v\\\\frame_4266.jpg'\n",
      "Skipping frame: D:/Datasets/Datasets/EPIC_Kitchen/OpticalFlow/P01_04/u\\frame_4271.jpg due to error: [Errno 2] No such file or directory: 'D:\\\\Datasets\\\\Datasets\\\\EPIC_Kitchen\\\\OpticalFlow\\\\P01_04\\\\u\\\\frame_4271.jpg'\n",
      "Skipping frame: D:/Datasets/Datasets/EPIC_Kitchen/OpticalFlow/P01_04/v\\frame_4271.jpg due to error: [Errno 2] No such file or directory: 'D:\\\\Datasets\\\\Datasets\\\\EPIC_Kitchen\\\\OpticalFlow\\\\P01_04\\\\v\\\\frame_4271.jpg'\n",
      "Skipping frame: D:/Datasets/Datasets/EPIC_Kitchen/OpticalFlow/P01_04/u\\frame_4276.jpg due to error: [Errno 2] No such file or directory: 'D:\\\\Datasets\\\\Datasets\\\\EPIC_Kitchen\\\\OpticalFlow\\\\P01_04\\\\u\\\\frame_4276.jpg'\n",
      "Skipping frame: D:/Datasets/Datasets/EPIC_Kitchen/OpticalFlow/P01_04/v\\frame_4276.jpg due to error: [Errno 2] No such file or directory: 'D:\\\\Datasets\\\\Datasets\\\\EPIC_Kitchen\\\\OpticalFlow\\\\P01_04\\\\v\\\\frame_4276.jpg'\n",
      "Skipping frame: D:/Datasets/Datasets/EPIC_Kitchen/OpticalFlow/P01_04/u\\frame_4281.jpg due to error: [Errno 2] No such file or directory: 'D:\\\\Datasets\\\\Datasets\\\\EPIC_Kitchen\\\\OpticalFlow\\\\P01_04\\\\u\\\\frame_4281.jpg'\n",
      "Skipping frame: D:/Datasets/Datasets/EPIC_Kitchen/OpticalFlow/P01_04/v\\frame_4281.jpg due to error: [Errno 2] No such file or directory: 'D:\\\\Datasets\\\\Datasets\\\\EPIC_Kitchen\\\\OpticalFlow\\\\P01_04\\\\v\\\\frame_4281.jpg'\n",
      "Skipping frame: D:/Datasets/Datasets/EPIC_Kitchen/OpticalFlow/P01_04/u\\frame_4286.jpg due to error: [Errno 2] No such file or directory: 'D:\\\\Datasets\\\\Datasets\\\\EPIC_Kitchen\\\\OpticalFlow\\\\P01_04\\\\u\\\\frame_4286.jpg'\n",
      "Skipping frame: D:/Datasets/Datasets/EPIC_Kitchen/OpticalFlow/P01_04/v\\frame_4286.jpg due to error: [Errno 2] No such file or directory: 'D:\\\\Datasets\\\\Datasets\\\\EPIC_Kitchen\\\\OpticalFlow\\\\P01_04\\\\v\\\\frame_4286.jpg'\n",
      "Skipping frame: D:/Datasets/Datasets/EPIC_Kitchen/OpticalFlow/P01_04/u\\frame_4291.jpg due to error: [Errno 2] No such file or directory: 'D:\\\\Datasets\\\\Datasets\\\\EPIC_Kitchen\\\\OpticalFlow\\\\P01_04\\\\u\\\\frame_4291.jpg'\n",
      "Skipping frame: D:/Datasets/Datasets/EPIC_Kitchen/OpticalFlow/P01_04/v\\frame_4291.jpg due to error: [Errno 2] No such file or directory: 'D:\\\\Datasets\\\\Datasets\\\\EPIC_Kitchen\\\\OpticalFlow\\\\P01_04\\\\v\\\\frame_4291.jpg'\n"
     ]
    },
    {
     "name": "stderr",
     "output_type": "stream",
     "text": [
      "Extracting Features with DEFT:  68%|████████████████████████████████▊               | 864/1262 [00:53<00:16, 24.17it/s]"
     ]
    },
    {
     "name": "stdout",
     "output_type": "stream",
     "text": [
      "Skipping frame: D:/Datasets/Datasets/EPIC_Kitchen/OpticalFlow/P01_04/u\\frame_4296.jpg due to error: [Errno 2] No such file or directory: 'D:\\\\Datasets\\\\Datasets\\\\EPIC_Kitchen\\\\OpticalFlow\\\\P01_04\\\\u\\\\frame_4296.jpg'\n",
      "Skipping frame: D:/Datasets/Datasets/EPIC_Kitchen/OpticalFlow/P01_04/v\\frame_4296.jpg due to error: [Errno 2] No such file or directory: 'D:\\\\Datasets\\\\Datasets\\\\EPIC_Kitchen\\\\OpticalFlow\\\\P01_04\\\\v\\\\frame_4296.jpg'\n",
      "Skipping frame: D:/Datasets/Datasets/EPIC_Kitchen/OpticalFlow/P01_04/u\\frame_4301.jpg due to error: [Errno 2] No such file or directory: 'D:\\\\Datasets\\\\Datasets\\\\EPIC_Kitchen\\\\OpticalFlow\\\\P01_04\\\\u\\\\frame_4301.jpg'\n",
      "Skipping frame: D:/Datasets/Datasets/EPIC_Kitchen/OpticalFlow/P01_04/v\\frame_4301.jpg due to error: [Errno 2] No such file or directory: 'D:\\\\Datasets\\\\Datasets\\\\EPIC_Kitchen\\\\OpticalFlow\\\\P01_04\\\\v\\\\frame_4301.jpg'\n",
      "Skipping frame: D:/Datasets/Datasets/EPIC_Kitchen/OpticalFlow/P01_04/u\\frame_4306.jpg due to error: [Errno 2] No such file or directory: 'D:\\\\Datasets\\\\Datasets\\\\EPIC_Kitchen\\\\OpticalFlow\\\\P01_04\\\\u\\\\frame_4306.jpg'\n",
      "Skipping frame: D:/Datasets/Datasets/EPIC_Kitchen/OpticalFlow/P01_04/v\\frame_4306.jpg due to error: [Errno 2] No such file or directory: 'D:\\\\Datasets\\\\Datasets\\\\EPIC_Kitchen\\\\OpticalFlow\\\\P01_04\\\\v\\\\frame_4306.jpg'\n",
      "Skipping frame: D:/Datasets/Datasets/EPIC_Kitchen/OpticalFlow/P01_04/u\\frame_4311.jpg due to error: [Errno 2] No such file or directory: 'D:\\\\Datasets\\\\Datasets\\\\EPIC_Kitchen\\\\OpticalFlow\\\\P01_04\\\\u\\\\frame_4311.jpg'\n",
      "Skipping frame: D:/Datasets/Datasets/EPIC_Kitchen/OpticalFlow/P01_04/v\\frame_4311.jpg due to error: [Errno 2] No such file or directory: 'D:\\\\Datasets\\\\Datasets\\\\EPIC_Kitchen\\\\OpticalFlow\\\\P01_04\\\\v\\\\frame_4311.jpg'\n",
      "Skipping frame: D:/Datasets/Datasets/EPIC_Kitchen/OpticalFlow/P01_04/u\\frame_4316.jpg due to error: [Errno 2] No such file or directory: 'D:\\\\Datasets\\\\Datasets\\\\EPIC_Kitchen\\\\OpticalFlow\\\\P01_04\\\\u\\\\frame_4316.jpg'\n",
      "Skipping frame: D:/Datasets/Datasets/EPIC_Kitchen/OpticalFlow/P01_04/v\\frame_4316.jpg due to error: [Errno 2] No such file or directory: 'D:\\\\Datasets\\\\Datasets\\\\EPIC_Kitchen\\\\OpticalFlow\\\\P01_04\\\\v\\\\frame_4316.jpg'\n",
      "Skipping frame: D:/Datasets/Datasets/EPIC_Kitchen/OpticalFlow/P01_04/u\\frame_4321.jpg due to error: [Errno 2] No such file or directory: 'D:\\\\Datasets\\\\Datasets\\\\EPIC_Kitchen\\\\OpticalFlow\\\\P01_04\\\\u\\\\frame_4321.jpg'\n",
      "Skipping frame: D:/Datasets/Datasets/EPIC_Kitchen/OpticalFlow/P01_04/v\\frame_4321.jpg due to error: [Errno 2] No such file or directory: 'D:\\\\Datasets\\\\Datasets\\\\EPIC_Kitchen\\\\OpticalFlow\\\\P01_04\\\\v\\\\frame_4321.jpg'\n"
     ]
    },
    {
     "name": "stderr",
     "output_type": "stream",
     "text": [
      "Extracting Features with DEFT:  69%|█████████████████████████████████               | 870/1262 [00:53<00:16, 24.12it/s]"
     ]
    },
    {
     "name": "stdout",
     "output_type": "stream",
     "text": [
      "Skipping frame: D:/Datasets/Datasets/EPIC_Kitchen/OpticalFlow/P01_04/u\\frame_4326.jpg due to error: [Errno 2] No such file or directory: 'D:\\\\Datasets\\\\Datasets\\\\EPIC_Kitchen\\\\OpticalFlow\\\\P01_04\\\\u\\\\frame_4326.jpg'\n",
      "Skipping frame: D:/Datasets/Datasets/EPIC_Kitchen/OpticalFlow/P01_04/v\\frame_4326.jpg due to error: [Errno 2] No such file or directory: 'D:\\\\Datasets\\\\Datasets\\\\EPIC_Kitchen\\\\OpticalFlow\\\\P01_04\\\\v\\\\frame_4326.jpg'\n",
      "Skipping frame: D:/Datasets/Datasets/EPIC_Kitchen/OpticalFlow/P01_04/u\\frame_4331.jpg due to error: [Errno 2] No such file or directory: 'D:\\\\Datasets\\\\Datasets\\\\EPIC_Kitchen\\\\OpticalFlow\\\\P01_04\\\\u\\\\frame_4331.jpg'\n",
      "Skipping frame: D:/Datasets/Datasets/EPIC_Kitchen/OpticalFlow/P01_04/v\\frame_4331.jpg due to error: [Errno 2] No such file or directory: 'D:\\\\Datasets\\\\Datasets\\\\EPIC_Kitchen\\\\OpticalFlow\\\\P01_04\\\\v\\\\frame_4331.jpg'\n",
      "Skipping frame: D:/Datasets/Datasets/EPIC_Kitchen/OpticalFlow/P01_04/u\\frame_4336.jpg due to error: [Errno 2] No such file or directory: 'D:\\\\Datasets\\\\Datasets\\\\EPIC_Kitchen\\\\OpticalFlow\\\\P01_04\\\\u\\\\frame_4336.jpg'\n",
      "Skipping frame: D:/Datasets/Datasets/EPIC_Kitchen/OpticalFlow/P01_04/v\\frame_4336.jpg due to error: [Errno 2] No such file or directory: 'D:\\\\Datasets\\\\Datasets\\\\EPIC_Kitchen\\\\OpticalFlow\\\\P01_04\\\\v\\\\frame_4336.jpg'\n",
      "Skipping frame: D:/Datasets/Datasets/EPIC_Kitchen/OpticalFlow/P01_04/u\\frame_4341.jpg due to error: [Errno 2] No such file or directory: 'D:\\\\Datasets\\\\Datasets\\\\EPIC_Kitchen\\\\OpticalFlow\\\\P01_04\\\\u\\\\frame_4341.jpg'\n",
      "Skipping frame: D:/Datasets/Datasets/EPIC_Kitchen/OpticalFlow/P01_04/v\\frame_4341.jpg due to error: [Errno 2] No such file or directory: 'D:\\\\Datasets\\\\Datasets\\\\EPIC_Kitchen\\\\OpticalFlow\\\\P01_04\\\\v\\\\frame_4341.jpg'\n",
      "Skipping frame: D:/Datasets/Datasets/EPIC_Kitchen/OpticalFlow/P01_04/u\\frame_4346.jpg due to error: [Errno 2] No such file or directory: 'D:\\\\Datasets\\\\Datasets\\\\EPIC_Kitchen\\\\OpticalFlow\\\\P01_04\\\\u\\\\frame_4346.jpg'\n",
      "Skipping frame: D:/Datasets/Datasets/EPIC_Kitchen/OpticalFlow/P01_04/v\\frame_4346.jpg due to error: [Errno 2] No such file or directory: 'D:\\\\Datasets\\\\Datasets\\\\EPIC_Kitchen\\\\OpticalFlow\\\\P01_04\\\\v\\\\frame_4346.jpg'\n",
      "Skipping frame: D:/Datasets/Datasets/EPIC_Kitchen/OpticalFlow/P01_04/u\\frame_4351.jpg due to error: [Errno 2] No such file or directory: 'D:\\\\Datasets\\\\Datasets\\\\EPIC_Kitchen\\\\OpticalFlow\\\\P01_04\\\\u\\\\frame_4351.jpg'\n",
      "Skipping frame: D:/Datasets/Datasets/EPIC_Kitchen/OpticalFlow/P01_04/v\\frame_4351.jpg due to error: [Errno 2] No such file or directory: 'D:\\\\Datasets\\\\Datasets\\\\EPIC_Kitchen\\\\OpticalFlow\\\\P01_04\\\\v\\\\frame_4351.jpg'\n"
     ]
    },
    {
     "name": "stderr",
     "output_type": "stream",
     "text": [
      "Extracting Features with DEFT:  69%|█████████████████████████████████▎              | 876/1262 [00:54<00:15, 24.34it/s]"
     ]
    },
    {
     "name": "stdout",
     "output_type": "stream",
     "text": [
      "Skipping frame: D:/Datasets/Datasets/EPIC_Kitchen/OpticalFlow/P01_04/u\\frame_4356.jpg due to error: [Errno 2] No such file or directory: 'D:\\\\Datasets\\\\Datasets\\\\EPIC_Kitchen\\\\OpticalFlow\\\\P01_04\\\\u\\\\frame_4356.jpg'\n",
      "Skipping frame: D:/Datasets/Datasets/EPIC_Kitchen/OpticalFlow/P01_04/v\\frame_4356.jpg due to error: [Errno 2] No such file or directory: 'D:\\\\Datasets\\\\Datasets\\\\EPIC_Kitchen\\\\OpticalFlow\\\\P01_04\\\\v\\\\frame_4356.jpg'\n",
      "Skipping frame: D:/Datasets/Datasets/EPIC_Kitchen/OpticalFlow/P01_04/u\\frame_4361.jpg due to error: [Errno 2] No such file or directory: 'D:\\\\Datasets\\\\Datasets\\\\EPIC_Kitchen\\\\OpticalFlow\\\\P01_04\\\\u\\\\frame_4361.jpg'\n",
      "Skipping frame: D:/Datasets/Datasets/EPIC_Kitchen/OpticalFlow/P01_04/v\\frame_4361.jpg due to error: [Errno 2] No such file or directory: 'D:\\\\Datasets\\\\Datasets\\\\EPIC_Kitchen\\\\OpticalFlow\\\\P01_04\\\\v\\\\frame_4361.jpg'\n",
      "Skipping frame: D:/Datasets/Datasets/EPIC_Kitchen/OpticalFlow/P01_04/u\\frame_4366.jpg due to error: [Errno 2] No such file or directory: 'D:\\\\Datasets\\\\Datasets\\\\EPIC_Kitchen\\\\OpticalFlow\\\\P01_04\\\\u\\\\frame_4366.jpg'\n",
      "Skipping frame: D:/Datasets/Datasets/EPIC_Kitchen/OpticalFlow/P01_04/v\\frame_4366.jpg due to error: [Errno 2] No such file or directory: 'D:\\\\Datasets\\\\Datasets\\\\EPIC_Kitchen\\\\OpticalFlow\\\\P01_04\\\\v\\\\frame_4366.jpg'\n",
      "Skipping frame: D:/Datasets/Datasets/EPIC_Kitchen/OpticalFlow/P01_04/u\\frame_4371.jpg due to error: [Errno 2] No such file or directory: 'D:\\\\Datasets\\\\Datasets\\\\EPIC_Kitchen\\\\OpticalFlow\\\\P01_04\\\\u\\\\frame_4371.jpg'\n",
      "Skipping frame: D:/Datasets/Datasets/EPIC_Kitchen/OpticalFlow/P01_04/v\\frame_4371.jpg due to error: [Errno 2] No such file or directory: 'D:\\\\Datasets\\\\Datasets\\\\EPIC_Kitchen\\\\OpticalFlow\\\\P01_04\\\\v\\\\frame_4371.jpg'\n",
      "Skipping frame: D:/Datasets/Datasets/EPIC_Kitchen/OpticalFlow/P01_04/u\\frame_4376.jpg due to error: [Errno 2] No such file or directory: 'D:\\\\Datasets\\\\Datasets\\\\EPIC_Kitchen\\\\OpticalFlow\\\\P01_04\\\\u\\\\frame_4376.jpg'\n",
      "Skipping frame: D:/Datasets/Datasets/EPIC_Kitchen/OpticalFlow/P01_04/v\\frame_4376.jpg due to error: [Errno 2] No such file or directory: 'D:\\\\Datasets\\\\Datasets\\\\EPIC_Kitchen\\\\OpticalFlow\\\\P01_04\\\\v\\\\frame_4376.jpg'\n",
      "Skipping frame: D:/Datasets/Datasets/EPIC_Kitchen/OpticalFlow/P01_04/u\\frame_4381.jpg due to error: [Errno 2] No such file or directory: 'D:\\\\Datasets\\\\Datasets\\\\EPIC_Kitchen\\\\OpticalFlow\\\\P01_04\\\\u\\\\frame_4381.jpg'\n",
      "Skipping frame: D:/Datasets/Datasets/EPIC_Kitchen/OpticalFlow/P01_04/v\\frame_4381.jpg due to error: [Errno 2] No such file or directory: 'D:\\\\Datasets\\\\Datasets\\\\EPIC_Kitchen\\\\OpticalFlow\\\\P01_04\\\\v\\\\frame_4381.jpg'\n"
     ]
    },
    {
     "name": "stderr",
     "output_type": "stream",
     "text": [
      "Extracting Features with DEFT:  70%|█████████████████████████████████▌              | 882/1262 [00:54<00:15, 24.14it/s]"
     ]
    },
    {
     "name": "stdout",
     "output_type": "stream",
     "text": [
      "Skipping frame: D:/Datasets/Datasets/EPIC_Kitchen/OpticalFlow/P01_04/u\\frame_4386.jpg due to error: [Errno 2] No such file or directory: 'D:\\\\Datasets\\\\Datasets\\\\EPIC_Kitchen\\\\OpticalFlow\\\\P01_04\\\\u\\\\frame_4386.jpg'\n",
      "Skipping frame: D:/Datasets/Datasets/EPIC_Kitchen/OpticalFlow/P01_04/v\\frame_4386.jpg due to error: [Errno 2] No such file or directory: 'D:\\\\Datasets\\\\Datasets\\\\EPIC_Kitchen\\\\OpticalFlow\\\\P01_04\\\\v\\\\frame_4386.jpg'\n",
      "Skipping frame: D:/Datasets/Datasets/EPIC_Kitchen/OpticalFlow/P01_04/u\\frame_4391.jpg due to error: [Errno 2] No such file or directory: 'D:\\\\Datasets\\\\Datasets\\\\EPIC_Kitchen\\\\OpticalFlow\\\\P01_04\\\\u\\\\frame_4391.jpg'\n",
      "Skipping frame: D:/Datasets/Datasets/EPIC_Kitchen/OpticalFlow/P01_04/v\\frame_4391.jpg due to error: [Errno 2] No such file or directory: 'D:\\\\Datasets\\\\Datasets\\\\EPIC_Kitchen\\\\OpticalFlow\\\\P01_04\\\\v\\\\frame_4391.jpg'\n",
      "Skipping frame: D:/Datasets/Datasets/EPIC_Kitchen/OpticalFlow/P01_04/u\\frame_4396.jpg due to error: [Errno 2] No such file or directory: 'D:\\\\Datasets\\\\Datasets\\\\EPIC_Kitchen\\\\OpticalFlow\\\\P01_04\\\\u\\\\frame_4396.jpg'\n",
      "Skipping frame: D:/Datasets/Datasets/EPIC_Kitchen/OpticalFlow/P01_04/v\\frame_4396.jpg due to error: [Errno 2] No such file or directory: 'D:\\\\Datasets\\\\Datasets\\\\EPIC_Kitchen\\\\OpticalFlow\\\\P01_04\\\\v\\\\frame_4396.jpg'\n",
      "Skipping frame: D:/Datasets/Datasets/EPIC_Kitchen/OpticalFlow/P01_04/u\\frame_4401.jpg due to error: [Errno 2] No such file or directory: 'D:\\\\Datasets\\\\Datasets\\\\EPIC_Kitchen\\\\OpticalFlow\\\\P01_04\\\\u\\\\frame_4401.jpg'\n",
      "Skipping frame: D:/Datasets/Datasets/EPIC_Kitchen/OpticalFlow/P01_04/v\\frame_4401.jpg due to error: [Errno 2] No such file or directory: 'D:\\\\Datasets\\\\Datasets\\\\EPIC_Kitchen\\\\OpticalFlow\\\\P01_04\\\\v\\\\frame_4401.jpg'\n",
      "Skipping frame: D:/Datasets/Datasets/EPIC_Kitchen/OpticalFlow/P01_04/u\\frame_4406.jpg due to error: [Errno 2] No such file or directory: 'D:\\\\Datasets\\\\Datasets\\\\EPIC_Kitchen\\\\OpticalFlow\\\\P01_04\\\\u\\\\frame_4406.jpg'\n",
      "Skipping frame: D:/Datasets/Datasets/EPIC_Kitchen/OpticalFlow/P01_04/v\\frame_4406.jpg due to error: [Errno 2] No such file or directory: 'D:\\\\Datasets\\\\Datasets\\\\EPIC_Kitchen\\\\OpticalFlow\\\\P01_04\\\\v\\\\frame_4406.jpg'\n",
      "Skipping frame: D:/Datasets/Datasets/EPIC_Kitchen/OpticalFlow/P01_04/u\\frame_4411.jpg due to error: [Errno 2] No such file or directory: 'D:\\\\Datasets\\\\Datasets\\\\EPIC_Kitchen\\\\OpticalFlow\\\\P01_04\\\\u\\\\frame_4411.jpg'\n",
      "Skipping frame: D:/Datasets/Datasets/EPIC_Kitchen/OpticalFlow/P01_04/v\\frame_4411.jpg due to error: [Errno 2] No such file or directory: 'D:\\\\Datasets\\\\Datasets\\\\EPIC_Kitchen\\\\OpticalFlow\\\\P01_04\\\\v\\\\frame_4411.jpg'\n"
     ]
    },
    {
     "name": "stderr",
     "output_type": "stream",
     "text": [
      "Extracting Features with DEFT:  70%|█████████████████████████████████▊              | 888/1262 [00:54<00:15, 24.26it/s]"
     ]
    },
    {
     "name": "stdout",
     "output_type": "stream",
     "text": [
      "Skipping frame: D:/Datasets/Datasets/EPIC_Kitchen/OpticalFlow/P01_04/u\\frame_4416.jpg due to error: [Errno 2] No such file or directory: 'D:\\\\Datasets\\\\Datasets\\\\EPIC_Kitchen\\\\OpticalFlow\\\\P01_04\\\\u\\\\frame_4416.jpg'\n",
      "Skipping frame: D:/Datasets/Datasets/EPIC_Kitchen/OpticalFlow/P01_04/v\\frame_4416.jpg due to error: [Errno 2] No such file or directory: 'D:\\\\Datasets\\\\Datasets\\\\EPIC_Kitchen\\\\OpticalFlow\\\\P01_04\\\\v\\\\frame_4416.jpg'\n",
      "Skipping frame: D:/Datasets/Datasets/EPIC_Kitchen/OpticalFlow/P01_04/u\\frame_4421.jpg due to error: [Errno 2] No such file or directory: 'D:\\\\Datasets\\\\Datasets\\\\EPIC_Kitchen\\\\OpticalFlow\\\\P01_04\\\\u\\\\frame_4421.jpg'\n",
      "Skipping frame: D:/Datasets/Datasets/EPIC_Kitchen/OpticalFlow/P01_04/v\\frame_4421.jpg due to error: [Errno 2] No such file or directory: 'D:\\\\Datasets\\\\Datasets\\\\EPIC_Kitchen\\\\OpticalFlow\\\\P01_04\\\\v\\\\frame_4421.jpg'\n",
      "Skipping frame: D:/Datasets/Datasets/EPIC_Kitchen/OpticalFlow/P01_04/u\\frame_4426.jpg due to error: [Errno 2] No such file or directory: 'D:\\\\Datasets\\\\Datasets\\\\EPIC_Kitchen\\\\OpticalFlow\\\\P01_04\\\\u\\\\frame_4426.jpg'\n",
      "Skipping frame: D:/Datasets/Datasets/EPIC_Kitchen/OpticalFlow/P01_04/v\\frame_4426.jpg due to error: [Errno 2] No such file or directory: 'D:\\\\Datasets\\\\Datasets\\\\EPIC_Kitchen\\\\OpticalFlow\\\\P01_04\\\\v\\\\frame_4426.jpg'\n",
      "Skipping frame: D:/Datasets/Datasets/EPIC_Kitchen/OpticalFlow/P01_04/u\\frame_4431.jpg due to error: [Errno 2] No such file or directory: 'D:\\\\Datasets\\\\Datasets\\\\EPIC_Kitchen\\\\OpticalFlow\\\\P01_04\\\\u\\\\frame_4431.jpg'\n",
      "Skipping frame: D:/Datasets/Datasets/EPIC_Kitchen/OpticalFlow/P01_04/v\\frame_4431.jpg due to error: [Errno 2] No such file or directory: 'D:\\\\Datasets\\\\Datasets\\\\EPIC_Kitchen\\\\OpticalFlow\\\\P01_04\\\\v\\\\frame_4431.jpg'\n",
      "Skipping frame: D:/Datasets/Datasets/EPIC_Kitchen/OpticalFlow/P01_04/u\\frame_4436.jpg due to error: [Errno 2] No such file or directory: 'D:\\\\Datasets\\\\Datasets\\\\EPIC_Kitchen\\\\OpticalFlow\\\\P01_04\\\\u\\\\frame_4436.jpg'\n",
      "Skipping frame: D:/Datasets/Datasets/EPIC_Kitchen/OpticalFlow/P01_04/v\\frame_4436.jpg due to error: [Errno 2] No such file or directory: 'D:\\\\Datasets\\\\Datasets\\\\EPIC_Kitchen\\\\OpticalFlow\\\\P01_04\\\\v\\\\frame_4436.jpg'\n"
     ]
    },
    {
     "name": "stderr",
     "output_type": "stream",
     "text": [
      "\r",
      "Extracting Features with DEFT:  71%|█████████████████████████████████▉              | 891/1262 [00:54<00:15, 23.69it/s]"
     ]
    },
    {
     "name": "stdout",
     "output_type": "stream",
     "text": [
      "Skipping frame: D:/Datasets/Datasets/EPIC_Kitchen/OpticalFlow/P01_04/u\\frame_4441.jpg due to error: [Errno 2] No such file or directory: 'D:\\\\Datasets\\\\Datasets\\\\EPIC_Kitchen\\\\OpticalFlow\\\\P01_04\\\\u\\\\frame_4441.jpg'\n",
      "Skipping frame: D:/Datasets/Datasets/EPIC_Kitchen/OpticalFlow/P01_04/v\\frame_4441.jpg due to error: [Errno 2] No such file or directory: 'D:\\\\Datasets\\\\Datasets\\\\EPIC_Kitchen\\\\OpticalFlow\\\\P01_04\\\\v\\\\frame_4441.jpg'\n",
      "Skipping frame: D:/Datasets/Datasets/EPIC_Kitchen/OpticalFlow/P01_04/u\\frame_4446.jpg due to error: [Errno 2] No such file or directory: 'D:\\\\Datasets\\\\Datasets\\\\EPIC_Kitchen\\\\OpticalFlow\\\\P01_04\\\\u\\\\frame_4446.jpg'\n",
      "Skipping frame: D:/Datasets/Datasets/EPIC_Kitchen/OpticalFlow/P01_04/v\\frame_4446.jpg due to error: [Errno 2] No such file or directory: 'D:\\\\Datasets\\\\Datasets\\\\EPIC_Kitchen\\\\OpticalFlow\\\\P01_04\\\\v\\\\frame_4446.jpg'\n",
      "Skipping frame: D:/Datasets/Datasets/EPIC_Kitchen/OpticalFlow/P01_04/u\\frame_4451.jpg due to error: [Errno 2] No such file or directory: 'D:\\\\Datasets\\\\Datasets\\\\EPIC_Kitchen\\\\OpticalFlow\\\\P01_04\\\\u\\\\frame_4451.jpg'\n",
      "Skipping frame: D:/Datasets/Datasets/EPIC_Kitchen/OpticalFlow/P01_04/v\\frame_4451.jpg due to error: [Errno 2] No such file or directory: 'D:\\\\Datasets\\\\Datasets\\\\EPIC_Kitchen\\\\OpticalFlow\\\\P01_04\\\\v\\\\frame_4451.jpg'\n",
      "Skipping frame: D:/Datasets/Datasets/EPIC_Kitchen/OpticalFlow/P01_04/u\\frame_4456.jpg due to error: [Errno 2] No such file or directory: 'D:\\\\Datasets\\\\Datasets\\\\EPIC_Kitchen\\\\OpticalFlow\\\\P01_04\\\\u\\\\frame_4456.jpg'\n",
      "Skipping frame: D:/Datasets/Datasets/EPIC_Kitchen/OpticalFlow/P01_04/v\\frame_4456.jpg due to error: [Errno 2] No such file or directory: 'D:\\\\Datasets\\\\Datasets\\\\EPIC_Kitchen\\\\OpticalFlow\\\\P01_04\\\\v\\\\frame_4456.jpg'\n",
      "Skipping frame: D:/Datasets/Datasets/EPIC_Kitchen/OpticalFlow/P01_04/u\\frame_4461.jpg due to error: [Errno 2] No such file or directory: 'D:\\\\Datasets\\\\Datasets\\\\EPIC_Kitchen\\\\OpticalFlow\\\\P01_04\\\\u\\\\frame_4461.jpg'\n",
      "Skipping frame: D:/Datasets/Datasets/EPIC_Kitchen/OpticalFlow/P01_04/v\\frame_4461.jpg due to error: [Errno 2] No such file or directory: 'D:\\\\Datasets\\\\Datasets\\\\EPIC_Kitchen\\\\OpticalFlow\\\\P01_04\\\\v\\\\frame_4461.jpg'\n"
     ]
    },
    {
     "name": "stderr",
     "output_type": "stream",
     "text": [
      "Extracting Features with DEFT:  71%|██████████████████████████████████              | 897/1262 [00:54<00:15, 23.57it/s]"
     ]
    },
    {
     "name": "stdout",
     "output_type": "stream",
     "text": [
      "Skipping frame: D:/Datasets/Datasets/EPIC_Kitchen/OpticalFlow/P01_04/u\\frame_4466.jpg due to error: [Errno 2] No such file or directory: 'D:\\\\Datasets\\\\Datasets\\\\EPIC_Kitchen\\\\OpticalFlow\\\\P01_04\\\\u\\\\frame_4466.jpg'\n",
      "Skipping frame: D:/Datasets/Datasets/EPIC_Kitchen/OpticalFlow/P01_04/v\\frame_4466.jpg due to error: [Errno 2] No such file or directory: 'D:\\\\Datasets\\\\Datasets\\\\EPIC_Kitchen\\\\OpticalFlow\\\\P01_04\\\\v\\\\frame_4466.jpg'\n",
      "Skipping frame: D:/Datasets/Datasets/EPIC_Kitchen/OpticalFlow/P01_04/u\\frame_4471.jpg due to error: [Errno 2] No such file or directory: 'D:\\\\Datasets\\\\Datasets\\\\EPIC_Kitchen\\\\OpticalFlow\\\\P01_04\\\\u\\\\frame_4471.jpg'\n",
      "Skipping frame: D:/Datasets/Datasets/EPIC_Kitchen/OpticalFlow/P01_04/v\\frame_4471.jpg due to error: [Errno 2] No such file or directory: 'D:\\\\Datasets\\\\Datasets\\\\EPIC_Kitchen\\\\OpticalFlow\\\\P01_04\\\\v\\\\frame_4471.jpg'\n",
      "Skipping frame: D:/Datasets/Datasets/EPIC_Kitchen/OpticalFlow/P01_04/u\\frame_4476.jpg due to error: [Errno 2] No such file or directory: 'D:\\\\Datasets\\\\Datasets\\\\EPIC_Kitchen\\\\OpticalFlow\\\\P01_04\\\\u\\\\frame_4476.jpg'\n",
      "Skipping frame: D:/Datasets/Datasets/EPIC_Kitchen/OpticalFlow/P01_04/v\\frame_4476.jpg due to error: [Errno 2] No such file or directory: 'D:\\\\Datasets\\\\Datasets\\\\EPIC_Kitchen\\\\OpticalFlow\\\\P01_04\\\\v\\\\frame_4476.jpg'\n",
      "Skipping frame: D:/Datasets/Datasets/EPIC_Kitchen/OpticalFlow/P01_04/u\\frame_4481.jpg due to error: [Errno 2] No such file or directory: 'D:\\\\Datasets\\\\Datasets\\\\EPIC_Kitchen\\\\OpticalFlow\\\\P01_04\\\\u\\\\frame_4481.jpg'\n",
      "Skipping frame: D:/Datasets/Datasets/EPIC_Kitchen/OpticalFlow/P01_04/v\\frame_4481.jpg due to error: [Errno 2] No such file or directory: 'D:\\\\Datasets\\\\Datasets\\\\EPIC_Kitchen\\\\OpticalFlow\\\\P01_04\\\\v\\\\frame_4481.jpg'\n",
      "Skipping frame: D:/Datasets/Datasets/EPIC_Kitchen/OpticalFlow/P01_04/u\\frame_4486.jpg due to error: [Errno 2] No such file or directory: 'D:\\\\Datasets\\\\Datasets\\\\EPIC_Kitchen\\\\OpticalFlow\\\\P01_04\\\\u\\\\frame_4486.jpg'\n",
      "Skipping frame: D:/Datasets/Datasets/EPIC_Kitchen/OpticalFlow/P01_04/v\\frame_4486.jpg due to error: [Errno 2] No such file or directory: 'D:\\\\Datasets\\\\Datasets\\\\EPIC_Kitchen\\\\OpticalFlow\\\\P01_04\\\\v\\\\frame_4486.jpg'\n"
     ]
    },
    {
     "name": "stderr",
     "output_type": "stream",
     "text": [
      "Extracting Features with DEFT:  72%|██████████████████████████████████▎             | 903/1262 [00:55<00:15, 23.34it/s]"
     ]
    },
    {
     "name": "stdout",
     "output_type": "stream",
     "text": [
      "Skipping frame: D:/Datasets/Datasets/EPIC_Kitchen/OpticalFlow/P01_04/u\\frame_4491.jpg due to error: [Errno 2] No such file or directory: 'D:\\\\Datasets\\\\Datasets\\\\EPIC_Kitchen\\\\OpticalFlow\\\\P01_04\\\\u\\\\frame_4491.jpg'\n",
      "Skipping frame: D:/Datasets/Datasets/EPIC_Kitchen/OpticalFlow/P01_04/v\\frame_4491.jpg due to error: [Errno 2] No such file or directory: 'D:\\\\Datasets\\\\Datasets\\\\EPIC_Kitchen\\\\OpticalFlow\\\\P01_04\\\\v\\\\frame_4491.jpg'\n",
      "Skipping frame: D:/Datasets/Datasets/EPIC_Kitchen/OpticalFlow/P01_04/u\\frame_4496.jpg due to error: [Errno 2] No such file or directory: 'D:\\\\Datasets\\\\Datasets\\\\EPIC_Kitchen\\\\OpticalFlow\\\\P01_04\\\\u\\\\frame_4496.jpg'\n",
      "Skipping frame: D:/Datasets/Datasets/EPIC_Kitchen/OpticalFlow/P01_04/v\\frame_4496.jpg due to error: [Errno 2] No such file or directory: 'D:\\\\Datasets\\\\Datasets\\\\EPIC_Kitchen\\\\OpticalFlow\\\\P01_04\\\\v\\\\frame_4496.jpg'\n",
      "Skipping frame: D:/Datasets/Datasets/EPIC_Kitchen/OpticalFlow/P01_04/u\\frame_4501.jpg due to error: [Errno 2] No such file or directory: 'D:\\\\Datasets\\\\Datasets\\\\EPIC_Kitchen\\\\OpticalFlow\\\\P01_04\\\\u\\\\frame_4501.jpg'\n",
      "Skipping frame: D:/Datasets/Datasets/EPIC_Kitchen/OpticalFlow/P01_04/v\\frame_4501.jpg due to error: [Errno 2] No such file or directory: 'D:\\\\Datasets\\\\Datasets\\\\EPIC_Kitchen\\\\OpticalFlow\\\\P01_04\\\\v\\\\frame_4501.jpg'\n",
      "Skipping frame: D:/Datasets/Datasets/EPIC_Kitchen/OpticalFlow/P01_04/u\\frame_4506.jpg due to error: [Errno 2] No such file or directory: 'D:\\\\Datasets\\\\Datasets\\\\EPIC_Kitchen\\\\OpticalFlow\\\\P01_04\\\\u\\\\frame_4506.jpg'\n",
      "Skipping frame: D:/Datasets/Datasets/EPIC_Kitchen/OpticalFlow/P01_04/v\\frame_4506.jpg due to error: [Errno 2] No such file or directory: 'D:\\\\Datasets\\\\Datasets\\\\EPIC_Kitchen\\\\OpticalFlow\\\\P01_04\\\\v\\\\frame_4506.jpg'\n",
      "Skipping frame: D:/Datasets/Datasets/EPIC_Kitchen/OpticalFlow/P01_04/u\\frame_4511.jpg due to error: [Errno 2] No such file or directory: 'D:\\\\Datasets\\\\Datasets\\\\EPIC_Kitchen\\\\OpticalFlow\\\\P01_04\\\\u\\\\frame_4511.jpg'\n",
      "Skipping frame: D:/Datasets/Datasets/EPIC_Kitchen/OpticalFlow/P01_04/v\\frame_4511.jpg due to error: [Errno 2] No such file or directory: 'D:\\\\Datasets\\\\Datasets\\\\EPIC_Kitchen\\\\OpticalFlow\\\\P01_04\\\\v\\\\frame_4511.jpg'\n"
     ]
    },
    {
     "name": "stderr",
     "output_type": "stream",
     "text": [
      "\r",
      "Extracting Features with DEFT:  72%|██████████████████████████████████▍             | 906/1262 [00:55<00:15, 23.62it/s]"
     ]
    },
    {
     "name": "stdout",
     "output_type": "stream",
     "text": [
      "Skipping frame: D:/Datasets/Datasets/EPIC_Kitchen/OpticalFlow/P01_04/u\\frame_4516.jpg due to error: [Errno 2] No such file or directory: 'D:\\\\Datasets\\\\Datasets\\\\EPIC_Kitchen\\\\OpticalFlow\\\\P01_04\\\\u\\\\frame_4516.jpg'\n",
      "Skipping frame: D:/Datasets/Datasets/EPIC_Kitchen/OpticalFlow/P01_04/v\\frame_4516.jpg due to error: [Errno 2] No such file or directory: 'D:\\\\Datasets\\\\Datasets\\\\EPIC_Kitchen\\\\OpticalFlow\\\\P01_04\\\\v\\\\frame_4516.jpg'\n",
      "Skipping frame: D:/Datasets/Datasets/EPIC_Kitchen/OpticalFlow/P01_04/u\\frame_4521.jpg due to error: [Errno 2] No such file or directory: 'D:\\\\Datasets\\\\Datasets\\\\EPIC_Kitchen\\\\OpticalFlow\\\\P01_04\\\\u\\\\frame_4521.jpg'\n",
      "Skipping frame: D:/Datasets/Datasets/EPIC_Kitchen/OpticalFlow/P01_04/v\\frame_4521.jpg due to error: [Errno 2] No such file or directory: 'D:\\\\Datasets\\\\Datasets\\\\EPIC_Kitchen\\\\OpticalFlow\\\\P01_04\\\\v\\\\frame_4521.jpg'\n",
      "Skipping frame: D:/Datasets/Datasets/EPIC_Kitchen/OpticalFlow/P01_04/u\\frame_4526.jpg due to error: [Errno 2] No such file or directory: 'D:\\\\Datasets\\\\Datasets\\\\EPIC_Kitchen\\\\OpticalFlow\\\\P01_04\\\\u\\\\frame_4526.jpg'\n",
      "Skipping frame: D:/Datasets/Datasets/EPIC_Kitchen/OpticalFlow/P01_04/v\\frame_4526.jpg due to error: [Errno 2] No such file or directory: 'D:\\\\Datasets\\\\Datasets\\\\EPIC_Kitchen\\\\OpticalFlow\\\\P01_04\\\\v\\\\frame_4526.jpg'\n",
      "Skipping frame: D:/Datasets/Datasets/EPIC_Kitchen/OpticalFlow/P01_04/u\\frame_4531.jpg due to error: [Errno 2] No such file or directory: 'D:\\\\Datasets\\\\Datasets\\\\EPIC_Kitchen\\\\OpticalFlow\\\\P01_04\\\\u\\\\frame_4531.jpg'\n",
      "Skipping frame: D:/Datasets/Datasets/EPIC_Kitchen/OpticalFlow/P01_04/v\\frame_4531.jpg due to error: [Errno 2] No such file or directory: 'D:\\\\Datasets\\\\Datasets\\\\EPIC_Kitchen\\\\OpticalFlow\\\\P01_04\\\\v\\\\frame_4531.jpg'\n",
      "Skipping frame: D:/Datasets/Datasets/EPIC_Kitchen/OpticalFlow/P01_04/u\\frame_4536.jpg due to error: [Errno 2] No such file or directory: 'D:\\\\Datasets\\\\Datasets\\\\EPIC_Kitchen\\\\OpticalFlow\\\\P01_04\\\\u\\\\frame_4536.jpg'\n",
      "Skipping frame: D:/Datasets/Datasets/EPIC_Kitchen/OpticalFlow/P01_04/v\\frame_4536.jpg due to error: [Errno 2] No such file or directory: 'D:\\\\Datasets\\\\Datasets\\\\EPIC_Kitchen\\\\OpticalFlow\\\\P01_04\\\\v\\\\frame_4536.jpg'\n"
     ]
    },
    {
     "name": "stderr",
     "output_type": "stream",
     "text": [
      "Extracting Features with DEFT:  72%|██████████████████████████████████▋             | 912/1262 [00:55<00:14, 24.06it/s]"
     ]
    },
    {
     "name": "stdout",
     "output_type": "stream",
     "text": [
      "Skipping frame: D:/Datasets/Datasets/EPIC_Kitchen/OpticalFlow/P01_04/u\\frame_4541.jpg due to error: [Errno 2] No such file or directory: 'D:\\\\Datasets\\\\Datasets\\\\EPIC_Kitchen\\\\OpticalFlow\\\\P01_04\\\\u\\\\frame_4541.jpg'\n",
      "Skipping frame: D:/Datasets/Datasets/EPIC_Kitchen/OpticalFlow/P01_04/v\\frame_4541.jpg due to error: [Errno 2] No such file or directory: 'D:\\\\Datasets\\\\Datasets\\\\EPIC_Kitchen\\\\OpticalFlow\\\\P01_04\\\\v\\\\frame_4541.jpg'\n",
      "Skipping frame: D:/Datasets/Datasets/EPIC_Kitchen/OpticalFlow/P01_04/u\\frame_4546.jpg due to error: [Errno 2] No such file or directory: 'D:\\\\Datasets\\\\Datasets\\\\EPIC_Kitchen\\\\OpticalFlow\\\\P01_04\\\\u\\\\frame_4546.jpg'\n",
      "Skipping frame: D:/Datasets/Datasets/EPIC_Kitchen/OpticalFlow/P01_04/v\\frame_4546.jpg due to error: [Errno 2] No such file or directory: 'D:\\\\Datasets\\\\Datasets\\\\EPIC_Kitchen\\\\OpticalFlow\\\\P01_04\\\\v\\\\frame_4546.jpg'\n",
      "Skipping frame: D:/Datasets/Datasets/EPIC_Kitchen/OpticalFlow/P01_04/u\\frame_4551.jpg due to error: [Errno 2] No such file or directory: 'D:\\\\Datasets\\\\Datasets\\\\EPIC_Kitchen\\\\OpticalFlow\\\\P01_04\\\\u\\\\frame_4551.jpg'\n",
      "Skipping frame: D:/Datasets/Datasets/EPIC_Kitchen/OpticalFlow/P01_04/v\\frame_4551.jpg due to error: [Errno 2] No such file or directory: 'D:\\\\Datasets\\\\Datasets\\\\EPIC_Kitchen\\\\OpticalFlow\\\\P01_04\\\\v\\\\frame_4551.jpg'\n",
      "Skipping frame: D:/Datasets/Datasets/EPIC_Kitchen/OpticalFlow/P01_04/u\\frame_4556.jpg due to error: [Errno 2] No such file or directory: 'D:\\\\Datasets\\\\Datasets\\\\EPIC_Kitchen\\\\OpticalFlow\\\\P01_04\\\\u\\\\frame_4556.jpg'\n",
      "Skipping frame: D:/Datasets/Datasets/EPIC_Kitchen/OpticalFlow/P01_04/v\\frame_4556.jpg due to error: [Errno 2] No such file or directory: 'D:\\\\Datasets\\\\Datasets\\\\EPIC_Kitchen\\\\OpticalFlow\\\\P01_04\\\\v\\\\frame_4556.jpg'\n",
      "Skipping frame: D:/Datasets/Datasets/EPIC_Kitchen/OpticalFlow/P01_04/u\\frame_4561.jpg due to error: [Errno 2] No such file or directory: 'D:\\\\Datasets\\\\Datasets\\\\EPIC_Kitchen\\\\OpticalFlow\\\\P01_04\\\\u\\\\frame_4561.jpg'\n",
      "Skipping frame: D:/Datasets/Datasets/EPIC_Kitchen/OpticalFlow/P01_04/v\\frame_4561.jpg due to error: [Errno 2] No such file or directory: 'D:\\\\Datasets\\\\Datasets\\\\EPIC_Kitchen\\\\OpticalFlow\\\\P01_04\\\\v\\\\frame_4561.jpg'\n"
     ]
    },
    {
     "name": "stderr",
     "output_type": "stream",
     "text": [
      "Extracting Features with DEFT:  73%|██████████████████████████████████▉             | 918/1262 [00:55<00:14, 24.34it/s]"
     ]
    },
    {
     "name": "stdout",
     "output_type": "stream",
     "text": [
      "Skipping frame: D:/Datasets/Datasets/EPIC_Kitchen/OpticalFlow/P01_04/u\\frame_4566.jpg due to error: [Errno 2] No such file or directory: 'D:\\\\Datasets\\\\Datasets\\\\EPIC_Kitchen\\\\OpticalFlow\\\\P01_04\\\\u\\\\frame_4566.jpg'\n",
      "Skipping frame: D:/Datasets/Datasets/EPIC_Kitchen/OpticalFlow/P01_04/v\\frame_4566.jpg due to error: [Errno 2] No such file or directory: 'D:\\\\Datasets\\\\Datasets\\\\EPIC_Kitchen\\\\OpticalFlow\\\\P01_04\\\\v\\\\frame_4566.jpg'\n",
      "Skipping frame: D:/Datasets/Datasets/EPIC_Kitchen/OpticalFlow/P01_04/u\\frame_4571.jpg due to error: [Errno 2] No such file or directory: 'D:\\\\Datasets\\\\Datasets\\\\EPIC_Kitchen\\\\OpticalFlow\\\\P01_04\\\\u\\\\frame_4571.jpg'\n",
      "Skipping frame: D:/Datasets/Datasets/EPIC_Kitchen/OpticalFlow/P01_04/v\\frame_4571.jpg due to error: [Errno 2] No such file or directory: 'D:\\\\Datasets\\\\Datasets\\\\EPIC_Kitchen\\\\OpticalFlow\\\\P01_04\\\\v\\\\frame_4571.jpg'\n",
      "Skipping frame: D:/Datasets/Datasets/EPIC_Kitchen/OpticalFlow/P01_04/u\\frame_4576.jpg due to error: [Errno 2] No such file or directory: 'D:\\\\Datasets\\\\Datasets\\\\EPIC_Kitchen\\\\OpticalFlow\\\\P01_04\\\\u\\\\frame_4576.jpg'\n",
      "Skipping frame: D:/Datasets/Datasets/EPIC_Kitchen/OpticalFlow/P01_04/v\\frame_4576.jpg due to error: [Errno 2] No such file or directory: 'D:\\\\Datasets\\\\Datasets\\\\EPIC_Kitchen\\\\OpticalFlow\\\\P01_04\\\\v\\\\frame_4576.jpg'\n",
      "Skipping frame: D:/Datasets/Datasets/EPIC_Kitchen/OpticalFlow/P01_04/u\\frame_4581.jpg due to error: [Errno 2] No such file or directory: 'D:\\\\Datasets\\\\Datasets\\\\EPIC_Kitchen\\\\OpticalFlow\\\\P01_04\\\\u\\\\frame_4581.jpg'\n",
      "Skipping frame: D:/Datasets/Datasets/EPIC_Kitchen/OpticalFlow/P01_04/v\\frame_4581.jpg due to error: [Errno 2] No such file or directory: 'D:\\\\Datasets\\\\Datasets\\\\EPIC_Kitchen\\\\OpticalFlow\\\\P01_04\\\\v\\\\frame_4581.jpg'\n",
      "Skipping frame: D:/Datasets/Datasets/EPIC_Kitchen/OpticalFlow/P01_04/u\\frame_4586.jpg due to error: [Errno 2] No such file or directory: 'D:\\\\Datasets\\\\Datasets\\\\EPIC_Kitchen\\\\OpticalFlow\\\\P01_04\\\\u\\\\frame_4586.jpg'\n",
      "Skipping frame: D:/Datasets/Datasets/EPIC_Kitchen/OpticalFlow/P01_04/v\\frame_4586.jpg due to error: [Errno 2] No such file or directory: 'D:\\\\Datasets\\\\Datasets\\\\EPIC_Kitchen\\\\OpticalFlow\\\\P01_04\\\\v\\\\frame_4586.jpg'\n",
      "Skipping frame: D:/Datasets/Datasets/EPIC_Kitchen/OpticalFlow/P01_04/u\\frame_4591.jpg due to error: [Errno 2] No such file or directory: 'D:\\\\Datasets\\\\Datasets\\\\EPIC_Kitchen\\\\OpticalFlow\\\\P01_04\\\\u\\\\frame_4591.jpg'\n",
      "Skipping frame: D:/Datasets/Datasets/EPIC_Kitchen/OpticalFlow/P01_04/v\\frame_4591.jpg due to error: [Errno 2] No such file or directory: 'D:\\\\Datasets\\\\Datasets\\\\EPIC_Kitchen\\\\OpticalFlow\\\\P01_04\\\\v\\\\frame_4591.jpg'\n"
     ]
    },
    {
     "name": "stderr",
     "output_type": "stream",
     "text": [
      "Extracting Features with DEFT:  73%|███████████████████████████████████▏            | 924/1262 [00:56<00:13, 24.20it/s]"
     ]
    },
    {
     "name": "stdout",
     "output_type": "stream",
     "text": [
      "Skipping frame: D:/Datasets/Datasets/EPIC_Kitchen/OpticalFlow/P01_04/u\\frame_4596.jpg due to error: [Errno 2] No such file or directory: 'D:\\\\Datasets\\\\Datasets\\\\EPIC_Kitchen\\\\OpticalFlow\\\\P01_04\\\\u\\\\frame_4596.jpg'\n",
      "Skipping frame: D:/Datasets/Datasets/EPIC_Kitchen/OpticalFlow/P01_04/v\\frame_4596.jpg due to error: [Errno 2] No such file or directory: 'D:\\\\Datasets\\\\Datasets\\\\EPIC_Kitchen\\\\OpticalFlow\\\\P01_04\\\\v\\\\frame_4596.jpg'\n",
      "Skipping frame: D:/Datasets/Datasets/EPIC_Kitchen/OpticalFlow/P01_04/u\\frame_4601.jpg due to error: [Errno 2] No such file or directory: 'D:\\\\Datasets\\\\Datasets\\\\EPIC_Kitchen\\\\OpticalFlow\\\\P01_04\\\\u\\\\frame_4601.jpg'\n",
      "Skipping frame: D:/Datasets/Datasets/EPIC_Kitchen/OpticalFlow/P01_04/v\\frame_4601.jpg due to error: [Errno 2] No such file or directory: 'D:\\\\Datasets\\\\Datasets\\\\EPIC_Kitchen\\\\OpticalFlow\\\\P01_04\\\\v\\\\frame_4601.jpg'\n",
      "Skipping frame: D:/Datasets/Datasets/EPIC_Kitchen/OpticalFlow/P01_04/u\\frame_4606.jpg due to error: [Errno 2] No such file or directory: 'D:\\\\Datasets\\\\Datasets\\\\EPIC_Kitchen\\\\OpticalFlow\\\\P01_04\\\\u\\\\frame_4606.jpg'\n",
      "Skipping frame: D:/Datasets/Datasets/EPIC_Kitchen/OpticalFlow/P01_04/v\\frame_4606.jpg due to error: [Errno 2] No such file or directory: 'D:\\\\Datasets\\\\Datasets\\\\EPIC_Kitchen\\\\OpticalFlow\\\\P01_04\\\\v\\\\frame_4606.jpg'\n",
      "Skipping frame: D:/Datasets/Datasets/EPIC_Kitchen/OpticalFlow/P01_04/u\\frame_4611.jpg due to error: [Errno 2] No such file or directory: 'D:\\\\Datasets\\\\Datasets\\\\EPIC_Kitchen\\\\OpticalFlow\\\\P01_04\\\\u\\\\frame_4611.jpg'\n",
      "Skipping frame: D:/Datasets/Datasets/EPIC_Kitchen/OpticalFlow/P01_04/v\\frame_4611.jpg due to error: [Errno 2] No such file or directory: 'D:\\\\Datasets\\\\Datasets\\\\EPIC_Kitchen\\\\OpticalFlow\\\\P01_04\\\\v\\\\frame_4611.jpg'\n",
      "Skipping frame: D:/Datasets/Datasets/EPIC_Kitchen/OpticalFlow/P01_04/u\\frame_4616.jpg due to error: [Errno 2] No such file or directory: 'D:\\\\Datasets\\\\Datasets\\\\EPIC_Kitchen\\\\OpticalFlow\\\\P01_04\\\\u\\\\frame_4616.jpg'\n",
      "Skipping frame: D:/Datasets/Datasets/EPIC_Kitchen/OpticalFlow/P01_04/v\\frame_4616.jpg due to error: [Errno 2] No such file or directory: 'D:\\\\Datasets\\\\Datasets\\\\EPIC_Kitchen\\\\OpticalFlow\\\\P01_04\\\\v\\\\frame_4616.jpg'\n"
     ]
    },
    {
     "name": "stderr",
     "output_type": "stream",
     "text": [
      "Extracting Features with DEFT:  74%|███████████████████████████████████▎            | 930/1262 [00:56<00:13, 24.33it/s]"
     ]
    },
    {
     "name": "stdout",
     "output_type": "stream",
     "text": [
      "Skipping frame: D:/Datasets/Datasets/EPIC_Kitchen/OpticalFlow/P01_04/u\\frame_4621.jpg due to error: [Errno 2] No such file or directory: 'D:\\\\Datasets\\\\Datasets\\\\EPIC_Kitchen\\\\OpticalFlow\\\\P01_04\\\\u\\\\frame_4621.jpg'\n",
      "Skipping frame: D:/Datasets/Datasets/EPIC_Kitchen/OpticalFlow/P01_04/v\\frame_4621.jpg due to error: [Errno 2] No such file or directory: 'D:\\\\Datasets\\\\Datasets\\\\EPIC_Kitchen\\\\OpticalFlow\\\\P01_04\\\\v\\\\frame_4621.jpg'\n",
      "Skipping frame: D:/Datasets/Datasets/EPIC_Kitchen/OpticalFlow/P01_04/u\\frame_4626.jpg due to error: [Errno 2] No such file or directory: 'D:\\\\Datasets\\\\Datasets\\\\EPIC_Kitchen\\\\OpticalFlow\\\\P01_04\\\\u\\\\frame_4626.jpg'\n",
      "Skipping frame: D:/Datasets/Datasets/EPIC_Kitchen/OpticalFlow/P01_04/v\\frame_4626.jpg due to error: [Errno 2] No such file or directory: 'D:\\\\Datasets\\\\Datasets\\\\EPIC_Kitchen\\\\OpticalFlow\\\\P01_04\\\\v\\\\frame_4626.jpg'\n",
      "Skipping frame: D:/Datasets/Datasets/EPIC_Kitchen/OpticalFlow/P01_04/u\\frame_4631.jpg due to error: [Errno 2] No such file or directory: 'D:\\\\Datasets\\\\Datasets\\\\EPIC_Kitchen\\\\OpticalFlow\\\\P01_04\\\\u\\\\frame_4631.jpg'\n",
      "Skipping frame: D:/Datasets/Datasets/EPIC_Kitchen/OpticalFlow/P01_04/v\\frame_4631.jpg due to error: [Errno 2] No such file or directory: 'D:\\\\Datasets\\\\Datasets\\\\EPIC_Kitchen\\\\OpticalFlow\\\\P01_04\\\\v\\\\frame_4631.jpg'\n",
      "Skipping frame: D:/Datasets/Datasets/EPIC_Kitchen/OpticalFlow/P01_04/u\\frame_4636.jpg due to error: [Errno 2] No such file or directory: 'D:\\\\Datasets\\\\Datasets\\\\EPIC_Kitchen\\\\OpticalFlow\\\\P01_04\\\\u\\\\frame_4636.jpg'\n",
      "Skipping frame: D:/Datasets/Datasets/EPIC_Kitchen/OpticalFlow/P01_04/v\\frame_4636.jpg due to error: [Errno 2] No such file or directory: 'D:\\\\Datasets\\\\Datasets\\\\EPIC_Kitchen\\\\OpticalFlow\\\\P01_04\\\\v\\\\frame_4636.jpg'\n",
      "Skipping frame: D:/Datasets/Datasets/EPIC_Kitchen/OpticalFlow/P01_04/u\\frame_4641.jpg due to error: [Errno 2] No such file or directory: 'D:\\\\Datasets\\\\Datasets\\\\EPIC_Kitchen\\\\OpticalFlow\\\\P01_04\\\\u\\\\frame_4641.jpg'\n",
      "Skipping frame: D:/Datasets/Datasets/EPIC_Kitchen/OpticalFlow/P01_04/v\\frame_4641.jpg due to error: [Errno 2] No such file or directory: 'D:\\\\Datasets\\\\Datasets\\\\EPIC_Kitchen\\\\OpticalFlow\\\\P01_04\\\\v\\\\frame_4641.jpg'\n",
      "Skipping frame: D:/Datasets/Datasets/EPIC_Kitchen/OpticalFlow/P01_04/u\\frame_4646.jpg due to error: [Errno 2] No such file or directory: 'D:\\\\Datasets\\\\Datasets\\\\EPIC_Kitchen\\\\OpticalFlow\\\\P01_04\\\\u\\\\frame_4646.jpg'\n",
      "Skipping frame: D:/Datasets/Datasets/EPIC_Kitchen/OpticalFlow/P01_04/v\\frame_4646.jpg due to error: [Errno 2] No such file or directory: 'D:\\\\Datasets\\\\Datasets\\\\EPIC_Kitchen\\\\OpticalFlow\\\\P01_04\\\\v\\\\frame_4646.jpg'\n"
     ]
    },
    {
     "name": "stderr",
     "output_type": "stream",
     "text": [
      "Extracting Features with DEFT:  74%|███████████████████████████████████▌            | 936/1262 [00:56<00:13, 24.62it/s]"
     ]
    },
    {
     "name": "stdout",
     "output_type": "stream",
     "text": [
      "Skipping frame: D:/Datasets/Datasets/EPIC_Kitchen/OpticalFlow/P01_04/u\\frame_4651.jpg due to error: [Errno 2] No such file or directory: 'D:\\\\Datasets\\\\Datasets\\\\EPIC_Kitchen\\\\OpticalFlow\\\\P01_04\\\\u\\\\frame_4651.jpg'\n",
      "Skipping frame: D:/Datasets/Datasets/EPIC_Kitchen/OpticalFlow/P01_04/v\\frame_4651.jpg due to error: [Errno 2] No such file or directory: 'D:\\\\Datasets\\\\Datasets\\\\EPIC_Kitchen\\\\OpticalFlow\\\\P01_04\\\\v\\\\frame_4651.jpg'\n",
      "Skipping frame: D:/Datasets/Datasets/EPIC_Kitchen/OpticalFlow/P01_04/u\\frame_4656.jpg due to error: [Errno 2] No such file or directory: 'D:\\\\Datasets\\\\Datasets\\\\EPIC_Kitchen\\\\OpticalFlow\\\\P01_04\\\\u\\\\frame_4656.jpg'\n",
      "Skipping frame: D:/Datasets/Datasets/EPIC_Kitchen/OpticalFlow/P01_04/v\\frame_4656.jpg due to error: [Errno 2] No such file or directory: 'D:\\\\Datasets\\\\Datasets\\\\EPIC_Kitchen\\\\OpticalFlow\\\\P01_04\\\\v\\\\frame_4656.jpg'\n",
      "Skipping frame: D:/Datasets/Datasets/EPIC_Kitchen/OpticalFlow/P01_04/u\\frame_4661.jpg due to error: [Errno 2] No such file or directory: 'D:\\\\Datasets\\\\Datasets\\\\EPIC_Kitchen\\\\OpticalFlow\\\\P01_04\\\\u\\\\frame_4661.jpg'\n",
      "Skipping frame: D:/Datasets/Datasets/EPIC_Kitchen/OpticalFlow/P01_04/v\\frame_4661.jpg due to error: [Errno 2] No such file or directory: 'D:\\\\Datasets\\\\Datasets\\\\EPIC_Kitchen\\\\OpticalFlow\\\\P01_04\\\\v\\\\frame_4661.jpg'\n",
      "Skipping frame: D:/Datasets/Datasets/EPIC_Kitchen/OpticalFlow/P01_04/u\\frame_4666.jpg due to error: [Errno 2] No such file or directory: 'D:\\\\Datasets\\\\Datasets\\\\EPIC_Kitchen\\\\OpticalFlow\\\\P01_04\\\\u\\\\frame_4666.jpg'\n",
      "Skipping frame: D:/Datasets/Datasets/EPIC_Kitchen/OpticalFlow/P01_04/v\\frame_4666.jpg due to error: [Errno 2] No such file or directory: 'D:\\\\Datasets\\\\Datasets\\\\EPIC_Kitchen\\\\OpticalFlow\\\\P01_04\\\\v\\\\frame_4666.jpg'\n",
      "Skipping frame: D:/Datasets/Datasets/EPIC_Kitchen/OpticalFlow/P01_04/u\\frame_4671.jpg due to error: [Errno 2] No such file or directory: 'D:\\\\Datasets\\\\Datasets\\\\EPIC_Kitchen\\\\OpticalFlow\\\\P01_04\\\\u\\\\frame_4671.jpg'\n",
      "Skipping frame: D:/Datasets/Datasets/EPIC_Kitchen/OpticalFlow/P01_04/v\\frame_4671.jpg due to error: [Errno 2] No such file or directory: 'D:\\\\Datasets\\\\Datasets\\\\EPIC_Kitchen\\\\OpticalFlow\\\\P01_04\\\\v\\\\frame_4671.jpg'\n",
      "Skipping frame: D:/Datasets/Datasets/EPIC_Kitchen/OpticalFlow/P01_04/u\\frame_4676.jpg due to error: [Errno 2] No such file or directory: 'D:\\\\Datasets\\\\Datasets\\\\EPIC_Kitchen\\\\OpticalFlow\\\\P01_04\\\\u\\\\frame_4676.jpg'\n",
      "Skipping frame: D:/Datasets/Datasets/EPIC_Kitchen/OpticalFlow/P01_04/v\\frame_4676.jpg due to error: [Errno 2] No such file or directory: 'D:\\\\Datasets\\\\Datasets\\\\EPIC_Kitchen\\\\OpticalFlow\\\\P01_04\\\\v\\\\frame_4676.jpg'\n"
     ]
    },
    {
     "name": "stderr",
     "output_type": "stream",
     "text": [
      "Extracting Features with DEFT:  75%|███████████████████████████████████▊            | 942/1262 [00:56<00:13, 24.41it/s]"
     ]
    },
    {
     "name": "stdout",
     "output_type": "stream",
     "text": [
      "Skipping frame: D:/Datasets/Datasets/EPIC_Kitchen/OpticalFlow/P01_04/u\\frame_4681.jpg due to error: [Errno 2] No such file or directory: 'D:\\\\Datasets\\\\Datasets\\\\EPIC_Kitchen\\\\OpticalFlow\\\\P01_04\\\\u\\\\frame_4681.jpg'\n",
      "Skipping frame: D:/Datasets/Datasets/EPIC_Kitchen/OpticalFlow/P01_04/v\\frame_4681.jpg due to error: [Errno 2] No such file or directory: 'D:\\\\Datasets\\\\Datasets\\\\EPIC_Kitchen\\\\OpticalFlow\\\\P01_04\\\\v\\\\frame_4681.jpg'\n",
      "Skipping frame: D:/Datasets/Datasets/EPIC_Kitchen/OpticalFlow/P01_04/u\\frame_4686.jpg due to error: [Errno 2] No such file or directory: 'D:\\\\Datasets\\\\Datasets\\\\EPIC_Kitchen\\\\OpticalFlow\\\\P01_04\\\\u\\\\frame_4686.jpg'\n",
      "Skipping frame: D:/Datasets/Datasets/EPIC_Kitchen/OpticalFlow/P01_04/v\\frame_4686.jpg due to error: [Errno 2] No such file or directory: 'D:\\\\Datasets\\\\Datasets\\\\EPIC_Kitchen\\\\OpticalFlow\\\\P01_04\\\\v\\\\frame_4686.jpg'\n",
      "Skipping frame: D:/Datasets/Datasets/EPIC_Kitchen/OpticalFlow/P01_04/u\\frame_4691.jpg due to error: [Errno 2] No such file or directory: 'D:\\\\Datasets\\\\Datasets\\\\EPIC_Kitchen\\\\OpticalFlow\\\\P01_04\\\\u\\\\frame_4691.jpg'\n",
      "Skipping frame: D:/Datasets/Datasets/EPIC_Kitchen/OpticalFlow/P01_04/v\\frame_4691.jpg due to error: [Errno 2] No such file or directory: 'D:\\\\Datasets\\\\Datasets\\\\EPIC_Kitchen\\\\OpticalFlow\\\\P01_04\\\\v\\\\frame_4691.jpg'\n",
      "Skipping frame: D:/Datasets/Datasets/EPIC_Kitchen/OpticalFlow/P01_04/u\\frame_4696.jpg due to error: [Errno 2] No such file or directory: 'D:\\\\Datasets\\\\Datasets\\\\EPIC_Kitchen\\\\OpticalFlow\\\\P01_04\\\\u\\\\frame_4696.jpg'\n",
      "Skipping frame: D:/Datasets/Datasets/EPIC_Kitchen/OpticalFlow/P01_04/v\\frame_4696.jpg due to error: [Errno 2] No such file or directory: 'D:\\\\Datasets\\\\Datasets\\\\EPIC_Kitchen\\\\OpticalFlow\\\\P01_04\\\\v\\\\frame_4696.jpg'\n",
      "Skipping frame: D:/Datasets/Datasets/EPIC_Kitchen/OpticalFlow/P01_04/u\\frame_4701.jpg due to error: [Errno 2] No such file or directory: 'D:\\\\Datasets\\\\Datasets\\\\EPIC_Kitchen\\\\OpticalFlow\\\\P01_04\\\\u\\\\frame_4701.jpg'\n",
      "Skipping frame: D:/Datasets/Datasets/EPIC_Kitchen/OpticalFlow/P01_04/v\\frame_4701.jpg due to error: [Errno 2] No such file or directory: 'D:\\\\Datasets\\\\Datasets\\\\EPIC_Kitchen\\\\OpticalFlow\\\\P01_04\\\\v\\\\frame_4701.jpg'\n",
      "Skipping frame: D:/Datasets/Datasets/EPIC_Kitchen/OpticalFlow/P01_04/u\\frame_4706.jpg due to error: [Errno 2] No such file or directory: 'D:\\\\Datasets\\\\Datasets\\\\EPIC_Kitchen\\\\OpticalFlow\\\\P01_04\\\\u\\\\frame_4706.jpg'\n",
      "Skipping frame: D:/Datasets/Datasets/EPIC_Kitchen/OpticalFlow/P01_04/v\\frame_4706.jpg due to error: [Errno 2] No such file or directory: 'D:\\\\Datasets\\\\Datasets\\\\EPIC_Kitchen\\\\OpticalFlow\\\\P01_04\\\\v\\\\frame_4706.jpg'\n"
     ]
    },
    {
     "name": "stderr",
     "output_type": "stream",
     "text": [
      "\r",
      "Extracting Features with DEFT:  75%|███████████████████████████████████▉            | 945/1262 [00:56<00:12, 24.91it/s]"
     ]
    },
    {
     "name": "stdout",
     "output_type": "stream",
     "text": [
      "Skipping frame: D:/Datasets/Datasets/EPIC_Kitchen/OpticalFlow/P01_04/u\\frame_4711.jpg due to error: [Errno 2] No such file or directory: 'D:\\\\Datasets\\\\Datasets\\\\EPIC_Kitchen\\\\OpticalFlow\\\\P01_04\\\\u\\\\frame_4711.jpg'\n",
      "Skipping frame: D:/Datasets/Datasets/EPIC_Kitchen/OpticalFlow/P01_04/v\\frame_4711.jpg due to error: [Errno 2] No such file or directory: 'D:\\\\Datasets\\\\Datasets\\\\EPIC_Kitchen\\\\OpticalFlow\\\\P01_04\\\\v\\\\frame_4711.jpg'\n",
      "Skipping frame: D:/Datasets/Datasets/EPIC_Kitchen/OpticalFlow/P01_04/u\\frame_4716.jpg due to error: [Errno 2] No such file or directory: 'D:\\\\Datasets\\\\Datasets\\\\EPIC_Kitchen\\\\OpticalFlow\\\\P01_04\\\\u\\\\frame_4716.jpg'\n",
      "Skipping frame: D:/Datasets/Datasets/EPIC_Kitchen/OpticalFlow/P01_04/v\\frame_4716.jpg due to error: [Errno 2] No such file or directory: 'D:\\\\Datasets\\\\Datasets\\\\EPIC_Kitchen\\\\OpticalFlow\\\\P01_04\\\\v\\\\frame_4716.jpg'\n",
      "Skipping frame: D:/Datasets/Datasets/EPIC_Kitchen/OpticalFlow/P01_04/u\\frame_4721.jpg due to error: [Errno 2] No such file or directory: 'D:\\\\Datasets\\\\Datasets\\\\EPIC_Kitchen\\\\OpticalFlow\\\\P01_04\\\\u\\\\frame_4721.jpg'\n",
      "Skipping frame: D:/Datasets/Datasets/EPIC_Kitchen/OpticalFlow/P01_04/v\\frame_4721.jpg due to error: [Errno 2] No such file or directory: 'D:\\\\Datasets\\\\Datasets\\\\EPIC_Kitchen\\\\OpticalFlow\\\\P01_04\\\\v\\\\frame_4721.jpg'\n",
      "Skipping frame: D:/Datasets/Datasets/EPIC_Kitchen/OpticalFlow/P01_04/u\\frame_4726.jpg due to error: [Errno 2] No such file or directory: 'D:\\\\Datasets\\\\Datasets\\\\EPIC_Kitchen\\\\OpticalFlow\\\\P01_04\\\\u\\\\frame_4726.jpg'\n",
      "Skipping frame: D:/Datasets/Datasets/EPIC_Kitchen/OpticalFlow/P01_04/v\\frame_4726.jpg due to error: [Errno 2] No such file or directory: 'D:\\\\Datasets\\\\Datasets\\\\EPIC_Kitchen\\\\OpticalFlow\\\\P01_04\\\\v\\\\frame_4726.jpg'\n",
      "Skipping frame: D:/Datasets/Datasets/EPIC_Kitchen/OpticalFlow/P01_04/u\\frame_4731.jpg due to error: [Errno 2] No such file or directory: 'D:\\\\Datasets\\\\Datasets\\\\EPIC_Kitchen\\\\OpticalFlow\\\\P01_04\\\\u\\\\frame_4731.jpg'\n",
      "Skipping frame: D:/Datasets/Datasets/EPIC_Kitchen/OpticalFlow/P01_04/v\\frame_4731.jpg due to error: [Errno 2] No such file or directory: 'D:\\\\Datasets\\\\Datasets\\\\EPIC_Kitchen\\\\OpticalFlow\\\\P01_04\\\\v\\\\frame_4731.jpg'\n"
     ]
    },
    {
     "name": "stderr",
     "output_type": "stream",
     "text": [
      "Extracting Features with DEFT:  75%|████████████████████████████████████▏           | 951/1262 [00:57<00:12, 24.61it/s]"
     ]
    },
    {
     "name": "stdout",
     "output_type": "stream",
     "text": [
      "Skipping frame: D:/Datasets/Datasets/EPIC_Kitchen/OpticalFlow/P01_04/u\\frame_4736.jpg due to error: [Errno 2] No such file or directory: 'D:\\\\Datasets\\\\Datasets\\\\EPIC_Kitchen\\\\OpticalFlow\\\\P01_04\\\\u\\\\frame_4736.jpg'\n",
      "Skipping frame: D:/Datasets/Datasets/EPIC_Kitchen/OpticalFlow/P01_04/v\\frame_4736.jpg due to error: [Errno 2] No such file or directory: 'D:\\\\Datasets\\\\Datasets\\\\EPIC_Kitchen\\\\OpticalFlow\\\\P01_04\\\\v\\\\frame_4736.jpg'\n",
      "Skipping frame: D:/Datasets/Datasets/EPIC_Kitchen/OpticalFlow/P01_04/u\\frame_4741.jpg due to error: [Errno 2] No such file or directory: 'D:\\\\Datasets\\\\Datasets\\\\EPIC_Kitchen\\\\OpticalFlow\\\\P01_04\\\\u\\\\frame_4741.jpg'\n",
      "Skipping frame: D:/Datasets/Datasets/EPIC_Kitchen/OpticalFlow/P01_04/v\\frame_4741.jpg due to error: [Errno 2] No such file or directory: 'D:\\\\Datasets\\\\Datasets\\\\EPIC_Kitchen\\\\OpticalFlow\\\\P01_04\\\\v\\\\frame_4741.jpg'\n",
      "Skipping frame: D:/Datasets/Datasets/EPIC_Kitchen/OpticalFlow/P01_04/u\\frame_4746.jpg due to error: [Errno 2] No such file or directory: 'D:\\\\Datasets\\\\Datasets\\\\EPIC_Kitchen\\\\OpticalFlow\\\\P01_04\\\\u\\\\frame_4746.jpg'\n",
      "Skipping frame: D:/Datasets/Datasets/EPIC_Kitchen/OpticalFlow/P01_04/v\\frame_4746.jpg due to error: [Errno 2] No such file or directory: 'D:\\\\Datasets\\\\Datasets\\\\EPIC_Kitchen\\\\OpticalFlow\\\\P01_04\\\\v\\\\frame_4746.jpg'\n",
      "Skipping frame: D:/Datasets/Datasets/EPIC_Kitchen/OpticalFlow/P01_04/u\\frame_4751.jpg due to error: [Errno 2] No such file or directory: 'D:\\\\Datasets\\\\Datasets\\\\EPIC_Kitchen\\\\OpticalFlow\\\\P01_04\\\\u\\\\frame_4751.jpg'\n",
      "Skipping frame: D:/Datasets/Datasets/EPIC_Kitchen/OpticalFlow/P01_04/v\\frame_4751.jpg due to error: [Errno 2] No such file or directory: 'D:\\\\Datasets\\\\Datasets\\\\EPIC_Kitchen\\\\OpticalFlow\\\\P01_04\\\\v\\\\frame_4751.jpg'\n",
      "Skipping frame: D:/Datasets/Datasets/EPIC_Kitchen/OpticalFlow/P01_04/u\\frame_4756.jpg due to error: [Errno 2] No such file or directory: 'D:\\\\Datasets\\\\Datasets\\\\EPIC_Kitchen\\\\OpticalFlow\\\\P01_04\\\\u\\\\frame_4756.jpg'\n",
      "Skipping frame: D:/Datasets/Datasets/EPIC_Kitchen/OpticalFlow/P01_04/v\\frame_4756.jpg due to error: [Errno 2] No such file or directory: 'D:\\\\Datasets\\\\Datasets\\\\EPIC_Kitchen\\\\OpticalFlow\\\\P01_04\\\\v\\\\frame_4756.jpg'\n"
     ]
    },
    {
     "name": "stderr",
     "output_type": "stream",
     "text": [
      "Extracting Features with DEFT:  76%|████████████████████████████████████▍           | 957/1262 [00:57<00:12, 24.89it/s]"
     ]
    },
    {
     "name": "stdout",
     "output_type": "stream",
     "text": [
      "Skipping frame: D:/Datasets/Datasets/EPIC_Kitchen/OpticalFlow/P01_04/u\\frame_4761.jpg due to error: [Errno 2] No such file or directory: 'D:\\\\Datasets\\\\Datasets\\\\EPIC_Kitchen\\\\OpticalFlow\\\\P01_04\\\\u\\\\frame_4761.jpg'\n",
      "Skipping frame: D:/Datasets/Datasets/EPIC_Kitchen/OpticalFlow/P01_04/v\\frame_4761.jpg due to error: [Errno 2] No such file or directory: 'D:\\\\Datasets\\\\Datasets\\\\EPIC_Kitchen\\\\OpticalFlow\\\\P01_04\\\\v\\\\frame_4761.jpg'\n",
      "Skipping frame: D:/Datasets/Datasets/EPIC_Kitchen/OpticalFlow/P01_04/u\\frame_4766.jpg due to error: [Errno 2] No such file or directory: 'D:\\\\Datasets\\\\Datasets\\\\EPIC_Kitchen\\\\OpticalFlow\\\\P01_04\\\\u\\\\frame_4766.jpg'\n",
      "Skipping frame: D:/Datasets/Datasets/EPIC_Kitchen/OpticalFlow/P01_04/v\\frame_4766.jpg due to error: [Errno 2] No such file or directory: 'D:\\\\Datasets\\\\Datasets\\\\EPIC_Kitchen\\\\OpticalFlow\\\\P01_04\\\\v\\\\frame_4766.jpg'\n",
      "Skipping frame: D:/Datasets/Datasets/EPIC_Kitchen/OpticalFlow/P01_04/u\\frame_4771.jpg due to error: [Errno 2] No such file or directory: 'D:\\\\Datasets\\\\Datasets\\\\EPIC_Kitchen\\\\OpticalFlow\\\\P01_04\\\\u\\\\frame_4771.jpg'\n",
      "Skipping frame: D:/Datasets/Datasets/EPIC_Kitchen/OpticalFlow/P01_04/v\\frame_4771.jpg due to error: [Errno 2] No such file or directory: 'D:\\\\Datasets\\\\Datasets\\\\EPIC_Kitchen\\\\OpticalFlow\\\\P01_04\\\\v\\\\frame_4771.jpg'\n",
      "Skipping frame: D:/Datasets/Datasets/EPIC_Kitchen/OpticalFlow/P01_04/u\\frame_4776.jpg due to error: [Errno 2] No such file or directory: 'D:\\\\Datasets\\\\Datasets\\\\EPIC_Kitchen\\\\OpticalFlow\\\\P01_04\\\\u\\\\frame_4776.jpg'\n",
      "Skipping frame: D:/Datasets/Datasets/EPIC_Kitchen/OpticalFlow/P01_04/v\\frame_4776.jpg due to error: [Errno 2] No such file or directory: 'D:\\\\Datasets\\\\Datasets\\\\EPIC_Kitchen\\\\OpticalFlow\\\\P01_04\\\\v\\\\frame_4776.jpg'\n",
      "Skipping frame: D:/Datasets/Datasets/EPIC_Kitchen/OpticalFlow/P01_04/u\\frame_4781.jpg due to error: [Errno 2] No such file or directory: 'D:\\\\Datasets\\\\Datasets\\\\EPIC_Kitchen\\\\OpticalFlow\\\\P01_04\\\\u\\\\frame_4781.jpg'\n",
      "Skipping frame: D:/Datasets/Datasets/EPIC_Kitchen/OpticalFlow/P01_04/v\\frame_4781.jpg due to error: [Errno 2] No such file or directory: 'D:\\\\Datasets\\\\Datasets\\\\EPIC_Kitchen\\\\OpticalFlow\\\\P01_04\\\\v\\\\frame_4781.jpg'\n",
      "Skipping frame: D:/Datasets/Datasets/EPIC_Kitchen/OpticalFlow/P01_04/u\\frame_4786.jpg due to error: [Errno 2] No such file or directory: 'D:\\\\Datasets\\\\Datasets\\\\EPIC_Kitchen\\\\OpticalFlow\\\\P01_04\\\\u\\\\frame_4786.jpg'\n",
      "Skipping frame: D:/Datasets/Datasets/EPIC_Kitchen/OpticalFlow/P01_04/v\\frame_4786.jpg due to error: [Errno 2] No such file or directory: 'D:\\\\Datasets\\\\Datasets\\\\EPIC_Kitchen\\\\OpticalFlow\\\\P01_04\\\\v\\\\frame_4786.jpg'\n"
     ]
    },
    {
     "name": "stderr",
     "output_type": "stream",
     "text": [
      "Extracting Features with DEFT:  76%|████████████████████████████████████▋           | 963/1262 [00:57<00:12, 23.96it/s]"
     ]
    },
    {
     "name": "stdout",
     "output_type": "stream",
     "text": [
      "Skipping frame: D:/Datasets/Datasets/EPIC_Kitchen/OpticalFlow/P01_04/u\\frame_4791.jpg due to error: [Errno 2] No such file or directory: 'D:\\\\Datasets\\\\Datasets\\\\EPIC_Kitchen\\\\OpticalFlow\\\\P01_04\\\\u\\\\frame_4791.jpg'\n",
      "Skipping frame: D:/Datasets/Datasets/EPIC_Kitchen/OpticalFlow/P01_04/v\\frame_4791.jpg due to error: [Errno 2] No such file or directory: 'D:\\\\Datasets\\\\Datasets\\\\EPIC_Kitchen\\\\OpticalFlow\\\\P01_04\\\\v\\\\frame_4791.jpg'\n",
      "Skipping frame: D:/Datasets/Datasets/EPIC_Kitchen/OpticalFlow/P01_04/u\\frame_4796.jpg due to error: [Errno 2] No such file or directory: 'D:\\\\Datasets\\\\Datasets\\\\EPIC_Kitchen\\\\OpticalFlow\\\\P01_04\\\\u\\\\frame_4796.jpg'\n",
      "Skipping frame: D:/Datasets/Datasets/EPIC_Kitchen/OpticalFlow/P01_04/v\\frame_4796.jpg due to error: [Errno 2] No such file or directory: 'D:\\\\Datasets\\\\Datasets\\\\EPIC_Kitchen\\\\OpticalFlow\\\\P01_04\\\\v\\\\frame_4796.jpg'\n",
      "Skipping frame: D:/Datasets/Datasets/EPIC_Kitchen/OpticalFlow/P01_04/u\\frame_4801.jpg due to error: [Errno 2] No such file or directory: 'D:\\\\Datasets\\\\Datasets\\\\EPIC_Kitchen\\\\OpticalFlow\\\\P01_04\\\\u\\\\frame_4801.jpg'\n",
      "Skipping frame: D:/Datasets/Datasets/EPIC_Kitchen/OpticalFlow/P01_04/v\\frame_4801.jpg due to error: [Errno 2] No such file or directory: 'D:\\\\Datasets\\\\Datasets\\\\EPIC_Kitchen\\\\OpticalFlow\\\\P01_04\\\\v\\\\frame_4801.jpg'\n",
      "Skipping frame: D:/Datasets/Datasets/EPIC_Kitchen/OpticalFlow/P01_04/u\\frame_4806.jpg due to error: [Errno 2] No such file or directory: 'D:\\\\Datasets\\\\Datasets\\\\EPIC_Kitchen\\\\OpticalFlow\\\\P01_04\\\\u\\\\frame_4806.jpg'\n",
      "Skipping frame: D:/Datasets/Datasets/EPIC_Kitchen/OpticalFlow/P01_04/v\\frame_4806.jpg due to error: [Errno 2] No such file or directory: 'D:\\\\Datasets\\\\Datasets\\\\EPIC_Kitchen\\\\OpticalFlow\\\\P01_04\\\\v\\\\frame_4806.jpg'\n",
      "Skipping frame: D:/Datasets/Datasets/EPIC_Kitchen/OpticalFlow/P01_04/u\\frame_4811.jpg due to error: [Errno 2] No such file or directory: 'D:\\\\Datasets\\\\Datasets\\\\EPIC_Kitchen\\\\OpticalFlow\\\\P01_04\\\\u\\\\frame_4811.jpg'\n",
      "Skipping frame: D:/Datasets/Datasets/EPIC_Kitchen/OpticalFlow/P01_04/v\\frame_4811.jpg due to error: [Errno 2] No such file or directory: 'D:\\\\Datasets\\\\Datasets\\\\EPIC_Kitchen\\\\OpticalFlow\\\\P01_04\\\\v\\\\frame_4811.jpg'\n",
      "Skipping frame: D:/Datasets/Datasets/EPIC_Kitchen/OpticalFlow/P01_04/u\\frame_4816.jpg due to error: [Errno 2] No such file or directory: 'D:\\\\Datasets\\\\Datasets\\\\EPIC_Kitchen\\\\OpticalFlow\\\\P01_04\\\\u\\\\frame_4816.jpg'\n",
      "Skipping frame: D:/Datasets/Datasets/EPIC_Kitchen/OpticalFlow/P01_04/v\\frame_4816.jpg due to error: [Errno 2] No such file or directory: 'D:\\\\Datasets\\\\Datasets\\\\EPIC_Kitchen\\\\OpticalFlow\\\\P01_04\\\\v\\\\frame_4816.jpg'\n"
     ]
    },
    {
     "name": "stderr",
     "output_type": "stream",
     "text": [
      "Extracting Features with DEFT:  77%|████████████████████████████████████▊           | 969/1262 [00:57<00:12, 24.07it/s]"
     ]
    },
    {
     "name": "stdout",
     "output_type": "stream",
     "text": [
      "Skipping frame: D:/Datasets/Datasets/EPIC_Kitchen/OpticalFlow/P01_04/u\\frame_4821.jpg due to error: [Errno 2] No such file or directory: 'D:\\\\Datasets\\\\Datasets\\\\EPIC_Kitchen\\\\OpticalFlow\\\\P01_04\\\\u\\\\frame_4821.jpg'\n",
      "Skipping frame: D:/Datasets/Datasets/EPIC_Kitchen/OpticalFlow/P01_04/v\\frame_4821.jpg due to error: [Errno 2] No such file or directory: 'D:\\\\Datasets\\\\Datasets\\\\EPIC_Kitchen\\\\OpticalFlow\\\\P01_04\\\\v\\\\frame_4821.jpg'\n",
      "Skipping frame: D:/Datasets/Datasets/EPIC_Kitchen/OpticalFlow/P01_04/u\\frame_4826.jpg due to error: [Errno 2] No such file or directory: 'D:\\\\Datasets\\\\Datasets\\\\EPIC_Kitchen\\\\OpticalFlow\\\\P01_04\\\\u\\\\frame_4826.jpg'\n",
      "Skipping frame: D:/Datasets/Datasets/EPIC_Kitchen/OpticalFlow/P01_04/v\\frame_4826.jpg due to error: [Errno 2] No such file or directory: 'D:\\\\Datasets\\\\Datasets\\\\EPIC_Kitchen\\\\OpticalFlow\\\\P01_04\\\\v\\\\frame_4826.jpg'\n",
      "Skipping frame: D:/Datasets/Datasets/EPIC_Kitchen/OpticalFlow/P01_04/u\\frame_4831.jpg due to error: [Errno 2] No such file or directory: 'D:\\\\Datasets\\\\Datasets\\\\EPIC_Kitchen\\\\OpticalFlow\\\\P01_04\\\\u\\\\frame_4831.jpg'\n",
      "Skipping frame: D:/Datasets/Datasets/EPIC_Kitchen/OpticalFlow/P01_04/v\\frame_4831.jpg due to error: [Errno 2] No such file or directory: 'D:\\\\Datasets\\\\Datasets\\\\EPIC_Kitchen\\\\OpticalFlow\\\\P01_04\\\\v\\\\frame_4831.jpg'\n",
      "Skipping frame: D:/Datasets/Datasets/EPIC_Kitchen/OpticalFlow/P01_04/u\\frame_4836.jpg due to error: [Errno 2] No such file or directory: 'D:\\\\Datasets\\\\Datasets\\\\EPIC_Kitchen\\\\OpticalFlow\\\\P01_04\\\\u\\\\frame_4836.jpg'\n",
      "Skipping frame: D:/Datasets/Datasets/EPIC_Kitchen/OpticalFlow/P01_04/v\\frame_4836.jpg due to error: [Errno 2] No such file or directory: 'D:\\\\Datasets\\\\Datasets\\\\EPIC_Kitchen\\\\OpticalFlow\\\\P01_04\\\\v\\\\frame_4836.jpg'\n",
      "Skipping frame: D:/Datasets/Datasets/EPIC_Kitchen/OpticalFlow/P01_04/u\\frame_4841.jpg due to error: [Errno 2] No such file or directory: 'D:\\\\Datasets\\\\Datasets\\\\EPIC_Kitchen\\\\OpticalFlow\\\\P01_04\\\\u\\\\frame_4841.jpg'\n",
      "Skipping frame: D:/Datasets/Datasets/EPIC_Kitchen/OpticalFlow/P01_04/v\\frame_4841.jpg due to error: [Errno 2] No such file or directory: 'D:\\\\Datasets\\\\Datasets\\\\EPIC_Kitchen\\\\OpticalFlow\\\\P01_04\\\\v\\\\frame_4841.jpg'\n"
     ]
    },
    {
     "name": "stderr",
     "output_type": "stream",
     "text": [
      "\r",
      "Extracting Features with DEFT:  77%|████████████████████████████████████▉           | 972/1262 [00:58<00:12, 23.86it/s]"
     ]
    },
    {
     "name": "stdout",
     "output_type": "stream",
     "text": [
      "Skipping frame: D:/Datasets/Datasets/EPIC_Kitchen/OpticalFlow/P01_04/u\\frame_4846.jpg due to error: [Errno 2] No such file or directory: 'D:\\\\Datasets\\\\Datasets\\\\EPIC_Kitchen\\\\OpticalFlow\\\\P01_04\\\\u\\\\frame_4846.jpg'\n",
      "Skipping frame: D:/Datasets/Datasets/EPIC_Kitchen/OpticalFlow/P01_04/v\\frame_4846.jpg due to error: [Errno 2] No such file or directory: 'D:\\\\Datasets\\\\Datasets\\\\EPIC_Kitchen\\\\OpticalFlow\\\\P01_04\\\\v\\\\frame_4846.jpg'\n",
      "Skipping frame: D:/Datasets/Datasets/EPIC_Kitchen/OpticalFlow/P01_04/u\\frame_4851.jpg due to error: [Errno 2] No such file or directory: 'D:\\\\Datasets\\\\Datasets\\\\EPIC_Kitchen\\\\OpticalFlow\\\\P01_04\\\\u\\\\frame_4851.jpg'\n",
      "Skipping frame: D:/Datasets/Datasets/EPIC_Kitchen/OpticalFlow/P01_04/v\\frame_4851.jpg due to error: [Errno 2] No such file or directory: 'D:\\\\Datasets\\\\Datasets\\\\EPIC_Kitchen\\\\OpticalFlow\\\\P01_04\\\\v\\\\frame_4851.jpg'\n",
      "Skipping frame: D:/Datasets/Datasets/EPIC_Kitchen/OpticalFlow/P01_04/u\\frame_4856.jpg due to error: [Errno 2] No such file or directory: 'D:\\\\Datasets\\\\Datasets\\\\EPIC_Kitchen\\\\OpticalFlow\\\\P01_04\\\\u\\\\frame_4856.jpg'\n",
      "Skipping frame: D:/Datasets/Datasets/EPIC_Kitchen/OpticalFlow/P01_04/v\\frame_4856.jpg due to error: [Errno 2] No such file or directory: 'D:\\\\Datasets\\\\Datasets\\\\EPIC_Kitchen\\\\OpticalFlow\\\\P01_04\\\\v\\\\frame_4856.jpg'\n",
      "Skipping frame: D:/Datasets/Datasets/EPIC_Kitchen/OpticalFlow/P01_04/u\\frame_4861.jpg due to error: [Errno 2] No such file or directory: 'D:\\\\Datasets\\\\Datasets\\\\EPIC_Kitchen\\\\OpticalFlow\\\\P01_04\\\\u\\\\frame_4861.jpg'\n",
      "Skipping frame: D:/Datasets/Datasets/EPIC_Kitchen/OpticalFlow/P01_04/v\\frame_4861.jpg due to error: [Errno 2] No such file or directory: 'D:\\\\Datasets\\\\Datasets\\\\EPIC_Kitchen\\\\OpticalFlow\\\\P01_04\\\\v\\\\frame_4861.jpg'\n",
      "Skipping frame: D:/Datasets/Datasets/EPIC_Kitchen/OpticalFlow/P01_04/u\\frame_4866.jpg due to error: [Errno 2] No such file or directory: 'D:\\\\Datasets\\\\Datasets\\\\EPIC_Kitchen\\\\OpticalFlow\\\\P01_04\\\\u\\\\frame_4866.jpg'\n",
      "Skipping frame: D:/Datasets/Datasets/EPIC_Kitchen/OpticalFlow/P01_04/v\\frame_4866.jpg due to error: [Errno 2] No such file or directory: 'D:\\\\Datasets\\\\Datasets\\\\EPIC_Kitchen\\\\OpticalFlow\\\\P01_04\\\\v\\\\frame_4866.jpg'\n"
     ]
    },
    {
     "name": "stderr",
     "output_type": "stream",
     "text": [
      "Extracting Features with DEFT:  77%|█████████████████████████████████████▏          | 978/1262 [00:58<00:12, 23.50it/s]"
     ]
    },
    {
     "name": "stdout",
     "output_type": "stream",
     "text": [
      "Skipping frame: D:/Datasets/Datasets/EPIC_Kitchen/OpticalFlow/P01_04/u\\frame_4871.jpg due to error: [Errno 2] No such file or directory: 'D:\\\\Datasets\\\\Datasets\\\\EPIC_Kitchen\\\\OpticalFlow\\\\P01_04\\\\u\\\\frame_4871.jpg'\n",
      "Skipping frame: D:/Datasets/Datasets/EPIC_Kitchen/OpticalFlow/P01_04/v\\frame_4871.jpg due to error: [Errno 2] No such file or directory: 'D:\\\\Datasets\\\\Datasets\\\\EPIC_Kitchen\\\\OpticalFlow\\\\P01_04\\\\v\\\\frame_4871.jpg'\n",
      "Skipping frame: D:/Datasets/Datasets/EPIC_Kitchen/OpticalFlow/P01_04/u\\frame_4876.jpg due to error: [Errno 2] No such file or directory: 'D:\\\\Datasets\\\\Datasets\\\\EPIC_Kitchen\\\\OpticalFlow\\\\P01_04\\\\u\\\\frame_4876.jpg'\n",
      "Skipping frame: D:/Datasets/Datasets/EPIC_Kitchen/OpticalFlow/P01_04/v\\frame_4876.jpg due to error: [Errno 2] No such file or directory: 'D:\\\\Datasets\\\\Datasets\\\\EPIC_Kitchen\\\\OpticalFlow\\\\P01_04\\\\v\\\\frame_4876.jpg'\n",
      "Skipping frame: D:/Datasets/Datasets/EPIC_Kitchen/OpticalFlow/P01_04/u\\frame_4881.jpg due to error: [Errno 2] No such file or directory: 'D:\\\\Datasets\\\\Datasets\\\\EPIC_Kitchen\\\\OpticalFlow\\\\P01_04\\\\u\\\\frame_4881.jpg'\n",
      "Skipping frame: D:/Datasets/Datasets/EPIC_Kitchen/OpticalFlow/P01_04/v\\frame_4881.jpg due to error: [Errno 2] No such file or directory: 'D:\\\\Datasets\\\\Datasets\\\\EPIC_Kitchen\\\\OpticalFlow\\\\P01_04\\\\v\\\\frame_4881.jpg'\n",
      "Skipping frame: D:/Datasets/Datasets/EPIC_Kitchen/OpticalFlow/P01_04/u\\frame_4886.jpg due to error: [Errno 2] No such file or directory: 'D:\\\\Datasets\\\\Datasets\\\\EPIC_Kitchen\\\\OpticalFlow\\\\P01_04\\\\u\\\\frame_4886.jpg'\n",
      "Skipping frame: D:/Datasets/Datasets/EPIC_Kitchen/OpticalFlow/P01_04/v\\frame_4886.jpg due to error: [Errno 2] No such file or directory: 'D:\\\\Datasets\\\\Datasets\\\\EPIC_Kitchen\\\\OpticalFlow\\\\P01_04\\\\v\\\\frame_4886.jpg'\n",
      "Skipping frame: D:/Datasets/Datasets/EPIC_Kitchen/OpticalFlow/P01_04/u\\frame_4891.jpg due to error: [Errno 2] No such file or directory: 'D:\\\\Datasets\\\\Datasets\\\\EPIC_Kitchen\\\\OpticalFlow\\\\P01_04\\\\u\\\\frame_4891.jpg'\n",
      "Skipping frame: D:/Datasets/Datasets/EPIC_Kitchen/OpticalFlow/P01_04/v\\frame_4891.jpg due to error: [Errno 2] No such file or directory: 'D:\\\\Datasets\\\\Datasets\\\\EPIC_Kitchen\\\\OpticalFlow\\\\P01_04\\\\v\\\\frame_4891.jpg'\n"
     ]
    },
    {
     "name": "stderr",
     "output_type": "stream",
     "text": [
      "Extracting Features with DEFT:  78%|█████████████████████████████████████▍          | 984/1262 [00:58<00:11, 23.97it/s]"
     ]
    },
    {
     "name": "stdout",
     "output_type": "stream",
     "text": [
      "Skipping frame: D:/Datasets/Datasets/EPIC_Kitchen/OpticalFlow/P01_04/u\\frame_4896.jpg due to error: [Errno 2] No such file or directory: 'D:\\\\Datasets\\\\Datasets\\\\EPIC_Kitchen\\\\OpticalFlow\\\\P01_04\\\\u\\\\frame_4896.jpg'\n",
      "Skipping frame: D:/Datasets/Datasets/EPIC_Kitchen/OpticalFlow/P01_04/v\\frame_4896.jpg due to error: [Errno 2] No such file or directory: 'D:\\\\Datasets\\\\Datasets\\\\EPIC_Kitchen\\\\OpticalFlow\\\\P01_04\\\\v\\\\frame_4896.jpg'\n",
      "Skipping frame: D:/Datasets/Datasets/EPIC_Kitchen/OpticalFlow/P01_04/u\\frame_4901.jpg due to error: [Errno 2] No such file or directory: 'D:\\\\Datasets\\\\Datasets\\\\EPIC_Kitchen\\\\OpticalFlow\\\\P01_04\\\\u\\\\frame_4901.jpg'\n",
      "Skipping frame: D:/Datasets/Datasets/EPIC_Kitchen/OpticalFlow/P01_04/v\\frame_4901.jpg due to error: [Errno 2] No such file or directory: 'D:\\\\Datasets\\\\Datasets\\\\EPIC_Kitchen\\\\OpticalFlow\\\\P01_04\\\\v\\\\frame_4901.jpg'\n",
      "Skipping frame: D:/Datasets/Datasets/EPIC_Kitchen/OpticalFlow/P01_04/u\\frame_4906.jpg due to error: [Errno 2] No such file or directory: 'D:\\\\Datasets\\\\Datasets\\\\EPIC_Kitchen\\\\OpticalFlow\\\\P01_04\\\\u\\\\frame_4906.jpg'\n",
      "Skipping frame: D:/Datasets/Datasets/EPIC_Kitchen/OpticalFlow/P01_04/v\\frame_4906.jpg due to error: [Errno 2] No such file or directory: 'D:\\\\Datasets\\\\Datasets\\\\EPIC_Kitchen\\\\OpticalFlow\\\\P01_04\\\\v\\\\frame_4906.jpg'\n",
      "Skipping frame: D:/Datasets/Datasets/EPIC_Kitchen/OpticalFlow/P01_04/u\\frame_4911.jpg due to error: [Errno 2] No such file or directory: 'D:\\\\Datasets\\\\Datasets\\\\EPIC_Kitchen\\\\OpticalFlow\\\\P01_04\\\\u\\\\frame_4911.jpg'\n",
      "Skipping frame: D:/Datasets/Datasets/EPIC_Kitchen/OpticalFlow/P01_04/v\\frame_4911.jpg due to error: [Errno 2] No such file or directory: 'D:\\\\Datasets\\\\Datasets\\\\EPIC_Kitchen\\\\OpticalFlow\\\\P01_04\\\\v\\\\frame_4911.jpg'\n",
      "Skipping frame: D:/Datasets/Datasets/EPIC_Kitchen/OpticalFlow/P01_04/u\\frame_4916.jpg due to error: [Errno 2] No such file or directory: 'D:\\\\Datasets\\\\Datasets\\\\EPIC_Kitchen\\\\OpticalFlow\\\\P01_04\\\\u\\\\frame_4916.jpg'\n",
      "Skipping frame: D:/Datasets/Datasets/EPIC_Kitchen/OpticalFlow/P01_04/v\\frame_4916.jpg due to error: [Errno 2] No such file or directory: 'D:\\\\Datasets\\\\Datasets\\\\EPIC_Kitchen\\\\OpticalFlow\\\\P01_04\\\\v\\\\frame_4916.jpg'\n",
      "Skipping frame: D:/Datasets/Datasets/EPIC_Kitchen/OpticalFlow/P01_04/u\\frame_4921.jpg due to error: [Errno 2] No such file or directory: 'D:\\\\Datasets\\\\Datasets\\\\EPIC_Kitchen\\\\OpticalFlow\\\\P01_04\\\\u\\\\frame_4921.jpg'\n",
      "Skipping frame: D:/Datasets/Datasets/EPIC_Kitchen/OpticalFlow/P01_04/v\\frame_4921.jpg due to error: [Errno 2] No such file or directory: 'D:\\\\Datasets\\\\Datasets\\\\EPIC_Kitchen\\\\OpticalFlow\\\\P01_04\\\\v\\\\frame_4921.jpg'\n"
     ]
    },
    {
     "name": "stderr",
     "output_type": "stream",
     "text": [
      "Extracting Features with DEFT:  78%|█████████████████████████████████████▋          | 990/1262 [00:58<00:11, 24.16it/s]"
     ]
    },
    {
     "name": "stdout",
     "output_type": "stream",
     "text": [
      "Skipping frame: D:/Datasets/Datasets/EPIC_Kitchen/OpticalFlow/P01_04/u\\frame_4926.jpg due to error: [Errno 2] No such file or directory: 'D:\\\\Datasets\\\\Datasets\\\\EPIC_Kitchen\\\\OpticalFlow\\\\P01_04\\\\u\\\\frame_4926.jpg'\n",
      "Skipping frame: D:/Datasets/Datasets/EPIC_Kitchen/OpticalFlow/P01_04/v\\frame_4926.jpg due to error: [Errno 2] No such file or directory: 'D:\\\\Datasets\\\\Datasets\\\\EPIC_Kitchen\\\\OpticalFlow\\\\P01_04\\\\v\\\\frame_4926.jpg'\n",
      "Skipping frame: D:/Datasets/Datasets/EPIC_Kitchen/OpticalFlow/P01_04/u\\frame_4931.jpg due to error: [Errno 2] No such file or directory: 'D:\\\\Datasets\\\\Datasets\\\\EPIC_Kitchen\\\\OpticalFlow\\\\P01_04\\\\u\\\\frame_4931.jpg'\n",
      "Skipping frame: D:/Datasets/Datasets/EPIC_Kitchen/OpticalFlow/P01_04/v\\frame_4931.jpg due to error: [Errno 2] No such file or directory: 'D:\\\\Datasets\\\\Datasets\\\\EPIC_Kitchen\\\\OpticalFlow\\\\P01_04\\\\v\\\\frame_4931.jpg'\n",
      "Skipping frame: D:/Datasets/Datasets/EPIC_Kitchen/OpticalFlow/P01_04/u\\frame_4936.jpg due to error: [Errno 2] No such file or directory: 'D:\\\\Datasets\\\\Datasets\\\\EPIC_Kitchen\\\\OpticalFlow\\\\P01_04\\\\u\\\\frame_4936.jpg'\n",
      "Skipping frame: D:/Datasets/Datasets/EPIC_Kitchen/OpticalFlow/P01_04/v\\frame_4936.jpg due to error: [Errno 2] No such file or directory: 'D:\\\\Datasets\\\\Datasets\\\\EPIC_Kitchen\\\\OpticalFlow\\\\P01_04\\\\v\\\\frame_4936.jpg'\n",
      "Skipping frame: D:/Datasets/Datasets/EPIC_Kitchen/OpticalFlow/P01_04/u\\frame_4941.jpg due to error: [Errno 2] No such file or directory: 'D:\\\\Datasets\\\\Datasets\\\\EPIC_Kitchen\\\\OpticalFlow\\\\P01_04\\\\u\\\\frame_4941.jpg'\n",
      "Skipping frame: D:/Datasets/Datasets/EPIC_Kitchen/OpticalFlow/P01_04/v\\frame_4941.jpg due to error: [Errno 2] No such file or directory: 'D:\\\\Datasets\\\\Datasets\\\\EPIC_Kitchen\\\\OpticalFlow\\\\P01_04\\\\v\\\\frame_4941.jpg'\n",
      "Skipping frame: D:/Datasets/Datasets/EPIC_Kitchen/OpticalFlow/P01_04/u\\frame_4946.jpg due to error: [Errno 2] No such file or directory: 'D:\\\\Datasets\\\\Datasets\\\\EPIC_Kitchen\\\\OpticalFlow\\\\P01_04\\\\u\\\\frame_4946.jpg'\n",
      "Skipping frame: D:/Datasets/Datasets/EPIC_Kitchen/OpticalFlow/P01_04/v\\frame_4946.jpg due to error: [Errno 2] No such file or directory: 'D:\\\\Datasets\\\\Datasets\\\\EPIC_Kitchen\\\\OpticalFlow\\\\P01_04\\\\v\\\\frame_4946.jpg'\n",
      "Skipping frame: D:/Datasets/Datasets/EPIC_Kitchen/OpticalFlow/P01_04/u\\frame_4951.jpg due to error: [Errno 2] No such file or directory: 'D:\\\\Datasets\\\\Datasets\\\\EPIC_Kitchen\\\\OpticalFlow\\\\P01_04\\\\u\\\\frame_4951.jpg'\n",
      "Skipping frame: D:/Datasets/Datasets/EPIC_Kitchen/OpticalFlow/P01_04/v\\frame_4951.jpg due to error: [Errno 2] No such file or directory: 'D:\\\\Datasets\\\\Datasets\\\\EPIC_Kitchen\\\\OpticalFlow\\\\P01_04\\\\v\\\\frame_4951.jpg'\n"
     ]
    },
    {
     "name": "stderr",
     "output_type": "stream",
     "text": [
      "Extracting Features with DEFT:  79%|█████████████████████████████████████▉          | 996/1262 [00:59<00:10, 24.54it/s]"
     ]
    },
    {
     "name": "stdout",
     "output_type": "stream",
     "text": [
      "Skipping frame: D:/Datasets/Datasets/EPIC_Kitchen/OpticalFlow/P01_04/u\\frame_4956.jpg due to error: [Errno 2] No such file or directory: 'D:\\\\Datasets\\\\Datasets\\\\EPIC_Kitchen\\\\OpticalFlow\\\\P01_04\\\\u\\\\frame_4956.jpg'\n",
      "Skipping frame: D:/Datasets/Datasets/EPIC_Kitchen/OpticalFlow/P01_04/v\\frame_4956.jpg due to error: [Errno 2] No such file or directory: 'D:\\\\Datasets\\\\Datasets\\\\EPIC_Kitchen\\\\OpticalFlow\\\\P01_04\\\\v\\\\frame_4956.jpg'\n",
      "Skipping frame: D:/Datasets/Datasets/EPIC_Kitchen/OpticalFlow/P01_04/u\\frame_4961.jpg due to error: [Errno 2] No such file or directory: 'D:\\\\Datasets\\\\Datasets\\\\EPIC_Kitchen\\\\OpticalFlow\\\\P01_04\\\\u\\\\frame_4961.jpg'\n",
      "Skipping frame: D:/Datasets/Datasets/EPIC_Kitchen/OpticalFlow/P01_04/v\\frame_4961.jpg due to error: [Errno 2] No such file or directory: 'D:\\\\Datasets\\\\Datasets\\\\EPIC_Kitchen\\\\OpticalFlow\\\\P01_04\\\\v\\\\frame_4961.jpg'\n",
      "Skipping frame: D:/Datasets/Datasets/EPIC_Kitchen/OpticalFlow/P01_04/u\\frame_4966.jpg due to error: [Errno 2] No such file or directory: 'D:\\\\Datasets\\\\Datasets\\\\EPIC_Kitchen\\\\OpticalFlow\\\\P01_04\\\\u\\\\frame_4966.jpg'\n",
      "Skipping frame: D:/Datasets/Datasets/EPIC_Kitchen/OpticalFlow/P01_04/v\\frame_4966.jpg due to error: [Errno 2] No such file or directory: 'D:\\\\Datasets\\\\Datasets\\\\EPIC_Kitchen\\\\OpticalFlow\\\\P01_04\\\\v\\\\frame_4966.jpg'\n",
      "Skipping frame: D:/Datasets/Datasets/EPIC_Kitchen/OpticalFlow/P01_04/u\\frame_4971.jpg due to error: [Errno 2] No such file or directory: 'D:\\\\Datasets\\\\Datasets\\\\EPIC_Kitchen\\\\OpticalFlow\\\\P01_04\\\\u\\\\frame_4971.jpg'\n",
      "Skipping frame: D:/Datasets/Datasets/EPIC_Kitchen/OpticalFlow/P01_04/v\\frame_4971.jpg due to error: [Errno 2] No such file or directory: 'D:\\\\Datasets\\\\Datasets\\\\EPIC_Kitchen\\\\OpticalFlow\\\\P01_04\\\\v\\\\frame_4971.jpg'\n",
      "Skipping frame: D:/Datasets/Datasets/EPIC_Kitchen/OpticalFlow/P01_04/u\\frame_4976.jpg due to error: [Errno 2] No such file or directory: 'D:\\\\Datasets\\\\Datasets\\\\EPIC_Kitchen\\\\OpticalFlow\\\\P01_04\\\\u\\\\frame_4976.jpg'\n",
      "Skipping frame: D:/Datasets/Datasets/EPIC_Kitchen/OpticalFlow/P01_04/v\\frame_4976.jpg due to error: [Errno 2] No such file or directory: 'D:\\\\Datasets\\\\Datasets\\\\EPIC_Kitchen\\\\OpticalFlow\\\\P01_04\\\\v\\\\frame_4976.jpg'\n"
     ]
    },
    {
     "name": "stderr",
     "output_type": "stream",
     "text": [
      "\r",
      "Extracting Features with DEFT:  79%|█████████████████████████████████████▉          | 999/1262 [00:59<00:10, 24.00it/s]"
     ]
    },
    {
     "name": "stdout",
     "output_type": "stream",
     "text": [
      "Skipping frame: D:/Datasets/Datasets/EPIC_Kitchen/OpticalFlow/P01_04/u\\frame_4981.jpg due to error: [Errno 2] No such file or directory: 'D:\\\\Datasets\\\\Datasets\\\\EPIC_Kitchen\\\\OpticalFlow\\\\P01_04\\\\u\\\\frame_4981.jpg'\n",
      "Skipping frame: D:/Datasets/Datasets/EPIC_Kitchen/OpticalFlow/P01_04/v\\frame_4981.jpg due to error: [Errno 2] No such file or directory: 'D:\\\\Datasets\\\\Datasets\\\\EPIC_Kitchen\\\\OpticalFlow\\\\P01_04\\\\v\\\\frame_4981.jpg'\n",
      "Skipping frame: D:/Datasets/Datasets/EPIC_Kitchen/OpticalFlow/P01_04/u\\frame_4986.jpg due to error: [Errno 2] No such file or directory: 'D:\\\\Datasets\\\\Datasets\\\\EPIC_Kitchen\\\\OpticalFlow\\\\P01_04\\\\u\\\\frame_4986.jpg'\n",
      "Skipping frame: D:/Datasets/Datasets/EPIC_Kitchen/OpticalFlow/P01_04/v\\frame_4986.jpg due to error: [Errno 2] No such file or directory: 'D:\\\\Datasets\\\\Datasets\\\\EPIC_Kitchen\\\\OpticalFlow\\\\P01_04\\\\v\\\\frame_4986.jpg'\n",
      "Skipping frame: D:/Datasets/Datasets/EPIC_Kitchen/OpticalFlow/P01_04/u\\frame_4991.jpg due to error: [Errno 2] No such file or directory: 'D:\\\\Datasets\\\\Datasets\\\\EPIC_Kitchen\\\\OpticalFlow\\\\P01_04\\\\u\\\\frame_4991.jpg'\n",
      "Skipping frame: D:/Datasets/Datasets/EPIC_Kitchen/OpticalFlow/P01_04/v\\frame_4991.jpg due to error: [Errno 2] No such file or directory: 'D:\\\\Datasets\\\\Datasets\\\\EPIC_Kitchen\\\\OpticalFlow\\\\P01_04\\\\v\\\\frame_4991.jpg'\n",
      "Skipping frame: D:/Datasets/Datasets/EPIC_Kitchen/OpticalFlow/P01_04/u\\frame_4996.jpg due to error: [Errno 2] No such file or directory: 'D:\\\\Datasets\\\\Datasets\\\\EPIC_Kitchen\\\\OpticalFlow\\\\P01_04\\\\u\\\\frame_4996.jpg'\n",
      "Skipping frame: D:/Datasets/Datasets/EPIC_Kitchen/OpticalFlow/P01_04/v\\frame_4996.jpg due to error: [Errno 2] No such file or directory: 'D:\\\\Datasets\\\\Datasets\\\\EPIC_Kitchen\\\\OpticalFlow\\\\P01_04\\\\v\\\\frame_4996.jpg'\n",
      "Skipping frame: D:/Datasets/Datasets/EPIC_Kitchen/OpticalFlow/P01_04/u\\frame_5001.jpg due to error: [Errno 2] No such file or directory: 'D:\\\\Datasets\\\\Datasets\\\\EPIC_Kitchen\\\\OpticalFlow\\\\P01_04\\\\u\\\\frame_5001.jpg'\n",
      "Skipping frame: D:/Datasets/Datasets/EPIC_Kitchen/OpticalFlow/P01_04/v\\frame_5001.jpg due to error: [Errno 2] No such file or directory: 'D:\\\\Datasets\\\\Datasets\\\\EPIC_Kitchen\\\\OpticalFlow\\\\P01_04\\\\v\\\\frame_5001.jpg'\n"
     ]
    },
    {
     "name": "stderr",
     "output_type": "stream",
     "text": [
      "Extracting Features with DEFT:  80%|█████████████████████████████████████▍         | 1005/1262 [00:59<00:11, 23.13it/s]"
     ]
    },
    {
     "name": "stdout",
     "output_type": "stream",
     "text": [
      "Skipping frame: D:/Datasets/Datasets/EPIC_Kitchen/OpticalFlow/P01_04/u\\frame_5006.jpg due to error: [Errno 2] No such file or directory: 'D:\\\\Datasets\\\\Datasets\\\\EPIC_Kitchen\\\\OpticalFlow\\\\P01_04\\\\u\\\\frame_5006.jpg'\n",
      "Skipping frame: D:/Datasets/Datasets/EPIC_Kitchen/OpticalFlow/P01_04/v\\frame_5006.jpg due to error: [Errno 2] No such file or directory: 'D:\\\\Datasets\\\\Datasets\\\\EPIC_Kitchen\\\\OpticalFlow\\\\P01_04\\\\v\\\\frame_5006.jpg'\n",
      "Skipping frame: D:/Datasets/Datasets/EPIC_Kitchen/OpticalFlow/P01_04/u\\frame_5011.jpg due to error: [Errno 2] No such file or directory: 'D:\\\\Datasets\\\\Datasets\\\\EPIC_Kitchen\\\\OpticalFlow\\\\P01_04\\\\u\\\\frame_5011.jpg'\n",
      "Skipping frame: D:/Datasets/Datasets/EPIC_Kitchen/OpticalFlow/P01_04/v\\frame_5011.jpg due to error: [Errno 2] No such file or directory: 'D:\\\\Datasets\\\\Datasets\\\\EPIC_Kitchen\\\\OpticalFlow\\\\P01_04\\\\v\\\\frame_5011.jpg'\n",
      "Skipping frame: D:/Datasets/Datasets/EPIC_Kitchen/OpticalFlow/P01_04/u\\frame_5016.jpg due to error: [Errno 2] No such file or directory: 'D:\\\\Datasets\\\\Datasets\\\\EPIC_Kitchen\\\\OpticalFlow\\\\P01_04\\\\u\\\\frame_5016.jpg'\n",
      "Skipping frame: D:/Datasets/Datasets/EPIC_Kitchen/OpticalFlow/P01_04/v\\frame_5016.jpg due to error: [Errno 2] No such file or directory: 'D:\\\\Datasets\\\\Datasets\\\\EPIC_Kitchen\\\\OpticalFlow\\\\P01_04\\\\v\\\\frame_5016.jpg'\n",
      "Skipping frame: D:/Datasets/Datasets/EPIC_Kitchen/OpticalFlow/P01_04/u\\frame_5021.jpg due to error: [Errno 2] No such file or directory: 'D:\\\\Datasets\\\\Datasets\\\\EPIC_Kitchen\\\\OpticalFlow\\\\P01_04\\\\u\\\\frame_5021.jpg'\n",
      "Skipping frame: D:/Datasets/Datasets/EPIC_Kitchen/OpticalFlow/P01_04/v\\frame_5021.jpg due to error: [Errno 2] No such file or directory: 'D:\\\\Datasets\\\\Datasets\\\\EPIC_Kitchen\\\\OpticalFlow\\\\P01_04\\\\v\\\\frame_5021.jpg'\n",
      "Skipping frame: D:/Datasets/Datasets/EPIC_Kitchen/OpticalFlow/P01_04/u\\frame_5026.jpg due to error: [Errno 2] No such file or directory: 'D:\\\\Datasets\\\\Datasets\\\\EPIC_Kitchen\\\\OpticalFlow\\\\P01_04\\\\u\\\\frame_5026.jpg'\n",
      "Skipping frame: D:/Datasets/Datasets/EPIC_Kitchen/OpticalFlow/P01_04/v\\frame_5026.jpg due to error: [Errno 2] No such file or directory: 'D:\\\\Datasets\\\\Datasets\\\\EPIC_Kitchen\\\\OpticalFlow\\\\P01_04\\\\v\\\\frame_5026.jpg'\n",
      "Skipping frame: D:/Datasets/Datasets/EPIC_Kitchen/OpticalFlow/P01_04/u\\frame_5031.jpg due to error: [Errno 2] No such file or directory: 'D:\\\\Datasets\\\\Datasets\\\\EPIC_Kitchen\\\\OpticalFlow\\\\P01_04\\\\u\\\\frame_5031.jpg'\n",
      "Skipping frame: D:/Datasets/Datasets/EPIC_Kitchen/OpticalFlow/P01_04/v\\frame_5031.jpg due to error: [Errno 2] No such file or directory: 'D:\\\\Datasets\\\\Datasets\\\\EPIC_Kitchen\\\\OpticalFlow\\\\P01_04\\\\v\\\\frame_5031.jpg'\n"
     ]
    },
    {
     "name": "stderr",
     "output_type": "stream",
     "text": [
      "Extracting Features with DEFT:  80%|█████████████████████████████████████▋         | 1011/1262 [00:59<00:10, 23.83it/s]"
     ]
    },
    {
     "name": "stdout",
     "output_type": "stream",
     "text": [
      "Skipping frame: D:/Datasets/Datasets/EPIC_Kitchen/OpticalFlow/P01_04/u\\frame_5036.jpg due to error: [Errno 2] No such file or directory: 'D:\\\\Datasets\\\\Datasets\\\\EPIC_Kitchen\\\\OpticalFlow\\\\P01_04\\\\u\\\\frame_5036.jpg'\n",
      "Skipping frame: D:/Datasets/Datasets/EPIC_Kitchen/OpticalFlow/P01_04/v\\frame_5036.jpg due to error: [Errno 2] No such file or directory: 'D:\\\\Datasets\\\\Datasets\\\\EPIC_Kitchen\\\\OpticalFlow\\\\P01_04\\\\v\\\\frame_5036.jpg'\n",
      "Skipping frame: D:/Datasets/Datasets/EPIC_Kitchen/OpticalFlow/P01_04/u\\frame_5041.jpg due to error: [Errno 2] No such file or directory: 'D:\\\\Datasets\\\\Datasets\\\\EPIC_Kitchen\\\\OpticalFlow\\\\P01_04\\\\u\\\\frame_5041.jpg'\n",
      "Skipping frame: D:/Datasets/Datasets/EPIC_Kitchen/OpticalFlow/P01_04/v\\frame_5041.jpg due to error: [Errno 2] No such file or directory: 'D:\\\\Datasets\\\\Datasets\\\\EPIC_Kitchen\\\\OpticalFlow\\\\P01_04\\\\v\\\\frame_5041.jpg'\n",
      "Skipping frame: D:/Datasets/Datasets/EPIC_Kitchen/OpticalFlow/P01_04/u\\frame_5046.jpg due to error: [Errno 2] No such file or directory: 'D:\\\\Datasets\\\\Datasets\\\\EPIC_Kitchen\\\\OpticalFlow\\\\P01_04\\\\u\\\\frame_5046.jpg'\n",
      "Skipping frame: D:/Datasets/Datasets/EPIC_Kitchen/OpticalFlow/P01_04/v\\frame_5046.jpg due to error: [Errno 2] No such file or directory: 'D:\\\\Datasets\\\\Datasets\\\\EPIC_Kitchen\\\\OpticalFlow\\\\P01_04\\\\v\\\\frame_5046.jpg'\n",
      "Skipping frame: D:/Datasets/Datasets/EPIC_Kitchen/OpticalFlow/P01_04/u\\frame_5051.jpg due to error: [Errno 2] No such file or directory: 'D:\\\\Datasets\\\\Datasets\\\\EPIC_Kitchen\\\\OpticalFlow\\\\P01_04\\\\u\\\\frame_5051.jpg'\n",
      "Skipping frame: D:/Datasets/Datasets/EPIC_Kitchen/OpticalFlow/P01_04/v\\frame_5051.jpg due to error: [Errno 2] No such file or directory: 'D:\\\\Datasets\\\\Datasets\\\\EPIC_Kitchen\\\\OpticalFlow\\\\P01_04\\\\v\\\\frame_5051.jpg'\n",
      "Skipping frame: D:/Datasets/Datasets/EPIC_Kitchen/OpticalFlow/P01_04/u\\frame_5056.jpg due to error: [Errno 2] No such file or directory: 'D:\\\\Datasets\\\\Datasets\\\\EPIC_Kitchen\\\\OpticalFlow\\\\P01_04\\\\u\\\\frame_5056.jpg'\n",
      "Skipping frame: D:/Datasets/Datasets/EPIC_Kitchen/OpticalFlow/P01_04/v\\frame_5056.jpg due to error: [Errno 2] No such file or directory: 'D:\\\\Datasets\\\\Datasets\\\\EPIC_Kitchen\\\\OpticalFlow\\\\P01_04\\\\v\\\\frame_5056.jpg'\n",
      "Skipping frame: D:/Datasets/Datasets/EPIC_Kitchen/OpticalFlow/P01_04/u\\frame_5061.jpg due to error: [Errno 2] No such file or directory: 'D:\\\\Datasets\\\\Datasets\\\\EPIC_Kitchen\\\\OpticalFlow\\\\P01_04\\\\u\\\\frame_5061.jpg'\n",
      "Skipping frame: D:/Datasets/Datasets/EPIC_Kitchen/OpticalFlow/P01_04/v\\frame_5061.jpg due to error: [Errno 2] No such file or directory: 'D:\\\\Datasets\\\\Datasets\\\\EPIC_Kitchen\\\\OpticalFlow\\\\P01_04\\\\v\\\\frame_5061.jpg'\n"
     ]
    },
    {
     "name": "stderr",
     "output_type": "stream",
     "text": [
      "Extracting Features with DEFT:  81%|█████████████████████████████████████▉         | 1017/1262 [00:59<00:10, 23.55it/s]"
     ]
    },
    {
     "name": "stdout",
     "output_type": "stream",
     "text": [
      "Skipping frame: D:/Datasets/Datasets/EPIC_Kitchen/OpticalFlow/P01_04/u\\frame_5066.jpg due to error: [Errno 2] No such file or directory: 'D:\\\\Datasets\\\\Datasets\\\\EPIC_Kitchen\\\\OpticalFlow\\\\P01_04\\\\u\\\\frame_5066.jpg'\n",
      "Skipping frame: D:/Datasets/Datasets/EPIC_Kitchen/OpticalFlow/P01_04/v\\frame_5066.jpg due to error: [Errno 2] No such file or directory: 'D:\\\\Datasets\\\\Datasets\\\\EPIC_Kitchen\\\\OpticalFlow\\\\P01_04\\\\v\\\\frame_5066.jpg'\n",
      "Skipping frame: D:/Datasets/Datasets/EPIC_Kitchen/OpticalFlow/P01_04/u\\frame_5071.jpg due to error: [Errno 2] No such file or directory: 'D:\\\\Datasets\\\\Datasets\\\\EPIC_Kitchen\\\\OpticalFlow\\\\P01_04\\\\u\\\\frame_5071.jpg'\n",
      "Skipping frame: D:/Datasets/Datasets/EPIC_Kitchen/OpticalFlow/P01_04/v\\frame_5071.jpg due to error: [Errno 2] No such file or directory: 'D:\\\\Datasets\\\\Datasets\\\\EPIC_Kitchen\\\\OpticalFlow\\\\P01_04\\\\v\\\\frame_5071.jpg'\n",
      "Skipping frame: D:/Datasets/Datasets/EPIC_Kitchen/OpticalFlow/P01_04/u\\frame_5076.jpg due to error: [Errno 2] No such file or directory: 'D:\\\\Datasets\\\\Datasets\\\\EPIC_Kitchen\\\\OpticalFlow\\\\P01_04\\\\u\\\\frame_5076.jpg'\n",
      "Skipping frame: D:/Datasets/Datasets/EPIC_Kitchen/OpticalFlow/P01_04/v\\frame_5076.jpg due to error: [Errno 2] No such file or directory: 'D:\\\\Datasets\\\\Datasets\\\\EPIC_Kitchen\\\\OpticalFlow\\\\P01_04\\\\v\\\\frame_5076.jpg'\n",
      "Skipping frame: D:/Datasets/Datasets/EPIC_Kitchen/OpticalFlow/P01_04/u\\frame_5081.jpg due to error: [Errno 2] No such file or directory: 'D:\\\\Datasets\\\\Datasets\\\\EPIC_Kitchen\\\\OpticalFlow\\\\P01_04\\\\u\\\\frame_5081.jpg'\n",
      "Skipping frame: D:/Datasets/Datasets/EPIC_Kitchen/OpticalFlow/P01_04/v\\frame_5081.jpg due to error: [Errno 2] No such file or directory: 'D:\\\\Datasets\\\\Datasets\\\\EPIC_Kitchen\\\\OpticalFlow\\\\P01_04\\\\v\\\\frame_5081.jpg'\n",
      "Skipping frame: D:/Datasets/Datasets/EPIC_Kitchen/OpticalFlow/P01_04/u\\frame_5086.jpg due to error: [Errno 2] No such file or directory: 'D:\\\\Datasets\\\\Datasets\\\\EPIC_Kitchen\\\\OpticalFlow\\\\P01_04\\\\u\\\\frame_5086.jpg'\n",
      "Skipping frame: D:/Datasets/Datasets/EPIC_Kitchen/OpticalFlow/P01_04/v\\frame_5086.jpg due to error: [Errno 2] No such file or directory: 'D:\\\\Datasets\\\\Datasets\\\\EPIC_Kitchen\\\\OpticalFlow\\\\P01_04\\\\v\\\\frame_5086.jpg'\n"
     ]
    },
    {
     "name": "stderr",
     "output_type": "stream",
     "text": [
      "Extracting Features with DEFT:  81%|██████████████████████████████████████         | 1023/1262 [01:00<00:10, 23.02it/s]"
     ]
    },
    {
     "name": "stdout",
     "output_type": "stream",
     "text": [
      "Skipping frame: D:/Datasets/Datasets/EPIC_Kitchen/OpticalFlow/P01_04/u\\frame_5091.jpg due to error: [Errno 2] No such file or directory: 'D:\\\\Datasets\\\\Datasets\\\\EPIC_Kitchen\\\\OpticalFlow\\\\P01_04\\\\u\\\\frame_5091.jpg'\n",
      "Skipping frame: D:/Datasets/Datasets/EPIC_Kitchen/OpticalFlow/P01_04/v\\frame_5091.jpg due to error: [Errno 2] No such file or directory: 'D:\\\\Datasets\\\\Datasets\\\\EPIC_Kitchen\\\\OpticalFlow\\\\P01_04\\\\v\\\\frame_5091.jpg'\n",
      "Skipping frame: D:/Datasets/Datasets/EPIC_Kitchen/OpticalFlow/P01_04/u\\frame_5096.jpg due to error: [Errno 2] No such file or directory: 'D:\\\\Datasets\\\\Datasets\\\\EPIC_Kitchen\\\\OpticalFlow\\\\P01_04\\\\u\\\\frame_5096.jpg'\n",
      "Skipping frame: D:/Datasets/Datasets/EPIC_Kitchen/OpticalFlow/P01_04/v\\frame_5096.jpg due to error: [Errno 2] No such file or directory: 'D:\\\\Datasets\\\\Datasets\\\\EPIC_Kitchen\\\\OpticalFlow\\\\P01_04\\\\v\\\\frame_5096.jpg'\n",
      "Skipping frame: D:/Datasets/Datasets/EPIC_Kitchen/OpticalFlow/P01_04/u\\frame_5101.jpg due to error: [Errno 2] No such file or directory: 'D:\\\\Datasets\\\\Datasets\\\\EPIC_Kitchen\\\\OpticalFlow\\\\P01_04\\\\u\\\\frame_5101.jpg'\n",
      "Skipping frame: D:/Datasets/Datasets/EPIC_Kitchen/OpticalFlow/P01_04/v\\frame_5101.jpg due to error: [Errno 2] No such file or directory: 'D:\\\\Datasets\\\\Datasets\\\\EPIC_Kitchen\\\\OpticalFlow\\\\P01_04\\\\v\\\\frame_5101.jpg'\n",
      "Skipping frame: D:/Datasets/Datasets/EPIC_Kitchen/OpticalFlow/P01_04/u\\frame_5106.jpg due to error: [Errno 2] No such file or directory: 'D:\\\\Datasets\\\\Datasets\\\\EPIC_Kitchen\\\\OpticalFlow\\\\P01_04\\\\u\\\\frame_5106.jpg'\n",
      "Skipping frame: D:/Datasets/Datasets/EPIC_Kitchen/OpticalFlow/P01_04/v\\frame_5106.jpg due to error: [Errno 2] No such file or directory: 'D:\\\\Datasets\\\\Datasets\\\\EPIC_Kitchen\\\\OpticalFlow\\\\P01_04\\\\v\\\\frame_5106.jpg'\n",
      "Skipping frame: D:/Datasets/Datasets/EPIC_Kitchen/OpticalFlow/P01_04/u\\frame_5111.jpg due to error: [Errno 2] No such file or directory: 'D:\\\\Datasets\\\\Datasets\\\\EPIC_Kitchen\\\\OpticalFlow\\\\P01_04\\\\u\\\\frame_5111.jpg'\n",
      "Skipping frame: D:/Datasets/Datasets/EPIC_Kitchen/OpticalFlow/P01_04/v\\frame_5111.jpg due to error: [Errno 2] No such file or directory: 'D:\\\\Datasets\\\\Datasets\\\\EPIC_Kitchen\\\\OpticalFlow\\\\P01_04\\\\v\\\\frame_5111.jpg'\n"
     ]
    },
    {
     "name": "stderr",
     "output_type": "stream",
     "text": [
      "\r",
      "Extracting Features with DEFT:  81%|██████████████████████████████████████▏        | 1026/1262 [01:00<00:10, 22.84it/s]"
     ]
    },
    {
     "name": "stdout",
     "output_type": "stream",
     "text": [
      "Skipping frame: D:/Datasets/Datasets/EPIC_Kitchen/OpticalFlow/P01_04/u\\frame_5116.jpg due to error: [Errno 2] No such file or directory: 'D:\\\\Datasets\\\\Datasets\\\\EPIC_Kitchen\\\\OpticalFlow\\\\P01_04\\\\u\\\\frame_5116.jpg'\n",
      "Skipping frame: D:/Datasets/Datasets/EPIC_Kitchen/OpticalFlow/P01_04/v\\frame_5116.jpg due to error: [Errno 2] No such file or directory: 'D:\\\\Datasets\\\\Datasets\\\\EPIC_Kitchen\\\\OpticalFlow\\\\P01_04\\\\v\\\\frame_5116.jpg'\n",
      "Skipping frame: D:/Datasets/Datasets/EPIC_Kitchen/OpticalFlow/P01_04/u\\frame_5121.jpg due to error: [Errno 2] No such file or directory: 'D:\\\\Datasets\\\\Datasets\\\\EPIC_Kitchen\\\\OpticalFlow\\\\P01_04\\\\u\\\\frame_5121.jpg'\n",
      "Skipping frame: D:/Datasets/Datasets/EPIC_Kitchen/OpticalFlow/P01_04/v\\frame_5121.jpg due to error: [Errno 2] No such file or directory: 'D:\\\\Datasets\\\\Datasets\\\\EPIC_Kitchen\\\\OpticalFlow\\\\P01_04\\\\v\\\\frame_5121.jpg'\n",
      "Skipping frame: D:/Datasets/Datasets/EPIC_Kitchen/OpticalFlow/P01_04/u\\frame_5126.jpg due to error: [Errno 2] No such file or directory: 'D:\\\\Datasets\\\\Datasets\\\\EPIC_Kitchen\\\\OpticalFlow\\\\P01_04\\\\u\\\\frame_5126.jpg'\n",
      "Skipping frame: D:/Datasets/Datasets/EPIC_Kitchen/OpticalFlow/P01_04/v\\frame_5126.jpg due to error: [Errno 2] No such file or directory: 'D:\\\\Datasets\\\\Datasets\\\\EPIC_Kitchen\\\\OpticalFlow\\\\P01_04\\\\v\\\\frame_5126.jpg'\n",
      "Skipping frame: D:/Datasets/Datasets/EPIC_Kitchen/OpticalFlow/P01_04/u\\frame_5131.jpg due to error: [Errno 2] No such file or directory: 'D:\\\\Datasets\\\\Datasets\\\\EPIC_Kitchen\\\\OpticalFlow\\\\P01_04\\\\u\\\\frame_5131.jpg'\n",
      "Skipping frame: D:/Datasets/Datasets/EPIC_Kitchen/OpticalFlow/P01_04/v\\frame_5131.jpg due to error: [Errno 2] No such file or directory: 'D:\\\\Datasets\\\\Datasets\\\\EPIC_Kitchen\\\\OpticalFlow\\\\P01_04\\\\v\\\\frame_5131.jpg'\n",
      "Skipping frame: D:/Datasets/Datasets/EPIC_Kitchen/OpticalFlow/P01_04/u\\frame_5136.jpg due to error: [Errno 2] No such file or directory: 'D:\\\\Datasets\\\\Datasets\\\\EPIC_Kitchen\\\\OpticalFlow\\\\P01_04\\\\u\\\\frame_5136.jpg'\n",
      "Skipping frame: D:/Datasets/Datasets/EPIC_Kitchen/OpticalFlow/P01_04/v\\frame_5136.jpg due to error: [Errno 2] No such file or directory: 'D:\\\\Datasets\\\\Datasets\\\\EPIC_Kitchen\\\\OpticalFlow\\\\P01_04\\\\v\\\\frame_5136.jpg'\n"
     ]
    },
    {
     "name": "stderr",
     "output_type": "stream",
     "text": [
      "Extracting Features with DEFT:  82%|██████████████████████████████████████▍        | 1032/1262 [01:00<00:10, 21.91it/s]"
     ]
    },
    {
     "name": "stdout",
     "output_type": "stream",
     "text": [
      "Skipping frame: D:/Datasets/Datasets/EPIC_Kitchen/OpticalFlow/P01_04/u\\frame_5141.jpg due to error: [Errno 2] No such file or directory: 'D:\\\\Datasets\\\\Datasets\\\\EPIC_Kitchen\\\\OpticalFlow\\\\P01_04\\\\u\\\\frame_5141.jpg'\n",
      "Skipping frame: D:/Datasets/Datasets/EPIC_Kitchen/OpticalFlow/P01_04/v\\frame_5141.jpg due to error: [Errno 2] No such file or directory: 'D:\\\\Datasets\\\\Datasets\\\\EPIC_Kitchen\\\\OpticalFlow\\\\P01_04\\\\v\\\\frame_5141.jpg'\n",
      "Skipping frame: D:/Datasets/Datasets/EPIC_Kitchen/OpticalFlow/P01_04/u\\frame_5146.jpg due to error: [Errno 2] No such file or directory: 'D:\\\\Datasets\\\\Datasets\\\\EPIC_Kitchen\\\\OpticalFlow\\\\P01_04\\\\u\\\\frame_5146.jpg'\n",
      "Skipping frame: D:/Datasets/Datasets/EPIC_Kitchen/OpticalFlow/P01_04/v\\frame_5146.jpg due to error: [Errno 2] No such file or directory: 'D:\\\\Datasets\\\\Datasets\\\\EPIC_Kitchen\\\\OpticalFlow\\\\P01_04\\\\v\\\\frame_5146.jpg'\n",
      "Skipping frame: D:/Datasets/Datasets/EPIC_Kitchen/OpticalFlow/P01_04/u\\frame_5151.jpg due to error: [Errno 2] No such file or directory: 'D:\\\\Datasets\\\\Datasets\\\\EPIC_Kitchen\\\\OpticalFlow\\\\P01_04\\\\u\\\\frame_5151.jpg'\n",
      "Skipping frame: D:/Datasets/Datasets/EPIC_Kitchen/OpticalFlow/P01_04/v\\frame_5151.jpg due to error: [Errno 2] No such file or directory: 'D:\\\\Datasets\\\\Datasets\\\\EPIC_Kitchen\\\\OpticalFlow\\\\P01_04\\\\v\\\\frame_5151.jpg'\n",
      "Skipping frame: D:/Datasets/Datasets/EPIC_Kitchen/OpticalFlow/P01_04/u\\frame_5156.jpg due to error: [Errno 2] No such file or directory: 'D:\\\\Datasets\\\\Datasets\\\\EPIC_Kitchen\\\\OpticalFlow\\\\P01_04\\\\u\\\\frame_5156.jpg'\n",
      "Skipping frame: D:/Datasets/Datasets/EPIC_Kitchen/OpticalFlow/P01_04/v\\frame_5156.jpg due to error: [Errno 2] No such file or directory: 'D:\\\\Datasets\\\\Datasets\\\\EPIC_Kitchen\\\\OpticalFlow\\\\P01_04\\\\v\\\\frame_5156.jpg'\n",
      "Skipping frame: D:/Datasets/Datasets/EPIC_Kitchen/OpticalFlow/P01_04/u\\frame_5161.jpg due to error: [Errno 2] No such file or directory: 'D:\\\\Datasets\\\\Datasets\\\\EPIC_Kitchen\\\\OpticalFlow\\\\P01_04\\\\u\\\\frame_5161.jpg'\n",
      "Skipping frame: D:/Datasets/Datasets/EPIC_Kitchen/OpticalFlow/P01_04/v\\frame_5161.jpg due to error: [Errno 2] No such file or directory: 'D:\\\\Datasets\\\\Datasets\\\\EPIC_Kitchen\\\\OpticalFlow\\\\P01_04\\\\v\\\\frame_5161.jpg'\n"
     ]
    },
    {
     "name": "stderr",
     "output_type": "stream",
     "text": [
      "Extracting Features with DEFT:  82%|██████████████████████████████████████▋        | 1038/1262 [01:00<00:10, 21.74it/s]"
     ]
    },
    {
     "name": "stdout",
     "output_type": "stream",
     "text": [
      "Skipping frame: D:/Datasets/Datasets/EPIC_Kitchen/OpticalFlow/P01_04/u\\frame_5166.jpg due to error: [Errno 2] No such file or directory: 'D:\\\\Datasets\\\\Datasets\\\\EPIC_Kitchen\\\\OpticalFlow\\\\P01_04\\\\u\\\\frame_5166.jpg'\n",
      "Skipping frame: D:/Datasets/Datasets/EPIC_Kitchen/OpticalFlow/P01_04/v\\frame_5166.jpg due to error: [Errno 2] No such file or directory: 'D:\\\\Datasets\\\\Datasets\\\\EPIC_Kitchen\\\\OpticalFlow\\\\P01_04\\\\v\\\\frame_5166.jpg'\n",
      "Skipping frame: D:/Datasets/Datasets/EPIC_Kitchen/OpticalFlow/P01_04/u\\frame_5171.jpg due to error: [Errno 2] No such file or directory: 'D:\\\\Datasets\\\\Datasets\\\\EPIC_Kitchen\\\\OpticalFlow\\\\P01_04\\\\u\\\\frame_5171.jpg'\n",
      "Skipping frame: D:/Datasets/Datasets/EPIC_Kitchen/OpticalFlow/P01_04/v\\frame_5171.jpg due to error: [Errno 2] No such file or directory: 'D:\\\\Datasets\\\\Datasets\\\\EPIC_Kitchen\\\\OpticalFlow\\\\P01_04\\\\v\\\\frame_5171.jpg'\n",
      "Skipping frame: D:/Datasets/Datasets/EPIC_Kitchen/OpticalFlow/P01_04/u\\frame_5176.jpg due to error: [Errno 2] No such file or directory: 'D:\\\\Datasets\\\\Datasets\\\\EPIC_Kitchen\\\\OpticalFlow\\\\P01_04\\\\u\\\\frame_5176.jpg'\n",
      "Skipping frame: D:/Datasets/Datasets/EPIC_Kitchen/OpticalFlow/P01_04/v\\frame_5176.jpg due to error: [Errno 2] No such file or directory: 'D:\\\\Datasets\\\\Datasets\\\\EPIC_Kitchen\\\\OpticalFlow\\\\P01_04\\\\v\\\\frame_5176.jpg'\n",
      "Skipping frame: D:/Datasets/Datasets/EPIC_Kitchen/OpticalFlow/P01_04/u\\frame_5181.jpg due to error: [Errno 2] No such file or directory: 'D:\\\\Datasets\\\\Datasets\\\\EPIC_Kitchen\\\\OpticalFlow\\\\P01_04\\\\u\\\\frame_5181.jpg'\n",
      "Skipping frame: D:/Datasets/Datasets/EPIC_Kitchen/OpticalFlow/P01_04/v\\frame_5181.jpg due to error: [Errno 2] No such file or directory: 'D:\\\\Datasets\\\\Datasets\\\\EPIC_Kitchen\\\\OpticalFlow\\\\P01_04\\\\v\\\\frame_5181.jpg'\n",
      "Skipping frame: D:/Datasets/Datasets/EPIC_Kitchen/OpticalFlow/P01_04/u\\frame_5186.jpg due to error: [Errno 2] No such file or directory: 'D:\\\\Datasets\\\\Datasets\\\\EPIC_Kitchen\\\\OpticalFlow\\\\P01_04\\\\u\\\\frame_5186.jpg'\n",
      "Skipping frame: D:/Datasets/Datasets/EPIC_Kitchen/OpticalFlow/P01_04/v\\frame_5186.jpg due to error: [Errno 2] No such file or directory: 'D:\\\\Datasets\\\\Datasets\\\\EPIC_Kitchen\\\\OpticalFlow\\\\P01_04\\\\v\\\\frame_5186.jpg'\n"
     ]
    },
    {
     "name": "stderr",
     "output_type": "stream",
     "text": [
      "\r",
      "Extracting Features with DEFT:  82%|██████████████████████████████████████▊        | 1041/1262 [01:01<00:10, 21.38it/s]"
     ]
    },
    {
     "name": "stdout",
     "output_type": "stream",
     "text": [
      "Skipping frame: D:/Datasets/Datasets/EPIC_Kitchen/OpticalFlow/P01_04/u\\frame_5191.jpg due to error: [Errno 2] No such file or directory: 'D:\\\\Datasets\\\\Datasets\\\\EPIC_Kitchen\\\\OpticalFlow\\\\P01_04\\\\u\\\\frame_5191.jpg'\n",
      "Skipping frame: D:/Datasets/Datasets/EPIC_Kitchen/OpticalFlow/P01_04/v\\frame_5191.jpg due to error: [Errno 2] No such file or directory: 'D:\\\\Datasets\\\\Datasets\\\\EPIC_Kitchen\\\\OpticalFlow\\\\P01_04\\\\v\\\\frame_5191.jpg'\n",
      "Skipping frame: D:/Datasets/Datasets/EPIC_Kitchen/OpticalFlow/P01_04/u\\frame_5196.jpg due to error: [Errno 2] No such file or directory: 'D:\\\\Datasets\\\\Datasets\\\\EPIC_Kitchen\\\\OpticalFlow\\\\P01_04\\\\u\\\\frame_5196.jpg'\n",
      "Skipping frame: D:/Datasets/Datasets/EPIC_Kitchen/OpticalFlow/P01_04/v\\frame_5196.jpg due to error: [Errno 2] No such file or directory: 'D:\\\\Datasets\\\\Datasets\\\\EPIC_Kitchen\\\\OpticalFlow\\\\P01_04\\\\v\\\\frame_5196.jpg'\n",
      "Skipping frame: D:/Datasets/Datasets/EPIC_Kitchen/OpticalFlow/P01_04/u\\frame_5201.jpg due to error: [Errno 2] No such file or directory: 'D:\\\\Datasets\\\\Datasets\\\\EPIC_Kitchen\\\\OpticalFlow\\\\P01_04\\\\u\\\\frame_5201.jpg'\n",
      "Skipping frame: D:/Datasets/Datasets/EPIC_Kitchen/OpticalFlow/P01_04/v\\frame_5201.jpg due to error: [Errno 2] No such file or directory: 'D:\\\\Datasets\\\\Datasets\\\\EPIC_Kitchen\\\\OpticalFlow\\\\P01_04\\\\v\\\\frame_5201.jpg'\n",
      "Skipping frame: D:/Datasets/Datasets/EPIC_Kitchen/OpticalFlow/P01_04/u\\frame_5206.jpg due to error: [Errno 2] No such file or directory: 'D:\\\\Datasets\\\\Datasets\\\\EPIC_Kitchen\\\\OpticalFlow\\\\P01_04\\\\u\\\\frame_5206.jpg'\n",
      "Skipping frame: D:/Datasets/Datasets/EPIC_Kitchen/OpticalFlow/P01_04/v\\frame_5206.jpg due to error: [Errno 2] No such file or directory: 'D:\\\\Datasets\\\\Datasets\\\\EPIC_Kitchen\\\\OpticalFlow\\\\P01_04\\\\v\\\\frame_5206.jpg'\n",
      "Skipping frame: D:/Datasets/Datasets/EPIC_Kitchen/OpticalFlow/P01_04/u\\frame_5211.jpg due to error: [Errno 2] No such file or directory: 'D:\\\\Datasets\\\\Datasets\\\\EPIC_Kitchen\\\\OpticalFlow\\\\P01_04\\\\u\\\\frame_5211.jpg'\n",
      "Skipping frame: D:/Datasets/Datasets/EPIC_Kitchen/OpticalFlow/P01_04/v\\frame_5211.jpg due to error: [Errno 2] No such file or directory: 'D:\\\\Datasets\\\\Datasets\\\\EPIC_Kitchen\\\\OpticalFlow\\\\P01_04\\\\v\\\\frame_5211.jpg'\n"
     ]
    },
    {
     "name": "stderr",
     "output_type": "stream",
     "text": [
      "Extracting Features with DEFT:  83%|██████████████████████████████████████▉        | 1047/1262 [01:01<00:10, 21.15it/s]"
     ]
    },
    {
     "name": "stdout",
     "output_type": "stream",
     "text": [
      "Skipping frame: D:/Datasets/Datasets/EPIC_Kitchen/OpticalFlow/P01_04/u\\frame_5216.jpg due to error: [Errno 2] No such file or directory: 'D:\\\\Datasets\\\\Datasets\\\\EPIC_Kitchen\\\\OpticalFlow\\\\P01_04\\\\u\\\\frame_5216.jpg'\n",
      "Skipping frame: D:/Datasets/Datasets/EPIC_Kitchen/OpticalFlow/P01_04/v\\frame_5216.jpg due to error: [Errno 2] No such file or directory: 'D:\\\\Datasets\\\\Datasets\\\\EPIC_Kitchen\\\\OpticalFlow\\\\P01_04\\\\v\\\\frame_5216.jpg'\n",
      "Skipping frame: D:/Datasets/Datasets/EPIC_Kitchen/OpticalFlow/P01_04/u\\frame_5221.jpg due to error: [Errno 2] No such file or directory: 'D:\\\\Datasets\\\\Datasets\\\\EPIC_Kitchen\\\\OpticalFlow\\\\P01_04\\\\u\\\\frame_5221.jpg'\n",
      "Skipping frame: D:/Datasets/Datasets/EPIC_Kitchen/OpticalFlow/P01_04/v\\frame_5221.jpg due to error: [Errno 2] No such file or directory: 'D:\\\\Datasets\\\\Datasets\\\\EPIC_Kitchen\\\\OpticalFlow\\\\P01_04\\\\v\\\\frame_5221.jpg'\n",
      "Skipping frame: D:/Datasets/Datasets/EPIC_Kitchen/OpticalFlow/P01_04/u\\frame_5226.jpg due to error: [Errno 2] No such file or directory: 'D:\\\\Datasets\\\\Datasets\\\\EPIC_Kitchen\\\\OpticalFlow\\\\P01_04\\\\u\\\\frame_5226.jpg'\n",
      "Skipping frame: D:/Datasets/Datasets/EPIC_Kitchen/OpticalFlow/P01_04/v\\frame_5226.jpg due to error: [Errno 2] No such file or directory: 'D:\\\\Datasets\\\\Datasets\\\\EPIC_Kitchen\\\\OpticalFlow\\\\P01_04\\\\v\\\\frame_5226.jpg'\n",
      "Skipping frame: D:/Datasets/Datasets/EPIC_Kitchen/OpticalFlow/P01_04/u\\frame_5231.jpg due to error: [Errno 2] No such file or directory: 'D:\\\\Datasets\\\\Datasets\\\\EPIC_Kitchen\\\\OpticalFlow\\\\P01_04\\\\u\\\\frame_5231.jpg'\n",
      "Skipping frame: D:/Datasets/Datasets/EPIC_Kitchen/OpticalFlow/P01_04/v\\frame_5231.jpg due to error: [Errno 2] No such file or directory: 'D:\\\\Datasets\\\\Datasets\\\\EPIC_Kitchen\\\\OpticalFlow\\\\P01_04\\\\v\\\\frame_5231.jpg'\n",
      "Skipping frame: D:/Datasets/Datasets/EPIC_Kitchen/OpticalFlow/P01_04/u\\frame_5236.jpg due to error: [Errno 2] No such file or directory: 'D:\\\\Datasets\\\\Datasets\\\\EPIC_Kitchen\\\\OpticalFlow\\\\P01_04\\\\u\\\\frame_5236.jpg'\n",
      "Skipping frame: D:/Datasets/Datasets/EPIC_Kitchen/OpticalFlow/P01_04/v\\frame_5236.jpg due to error: [Errno 2] No such file or directory: 'D:\\\\Datasets\\\\Datasets\\\\EPIC_Kitchen\\\\OpticalFlow\\\\P01_04\\\\v\\\\frame_5236.jpg'\n"
     ]
    },
    {
     "name": "stderr",
     "output_type": "stream",
     "text": [
      "Extracting Features with DEFT:  83%|███████████████████████████████████████▏       | 1053/1262 [01:01<00:10, 20.65it/s]"
     ]
    },
    {
     "name": "stdout",
     "output_type": "stream",
     "text": [
      "Skipping frame: D:/Datasets/Datasets/EPIC_Kitchen/OpticalFlow/P01_04/u\\frame_5241.jpg due to error: [Errno 2] No such file or directory: 'D:\\\\Datasets\\\\Datasets\\\\EPIC_Kitchen\\\\OpticalFlow\\\\P01_04\\\\u\\\\frame_5241.jpg'\n",
      "Skipping frame: D:/Datasets/Datasets/EPIC_Kitchen/OpticalFlow/P01_04/v\\frame_5241.jpg due to error: [Errno 2] No such file or directory: 'D:\\\\Datasets\\\\Datasets\\\\EPIC_Kitchen\\\\OpticalFlow\\\\P01_04\\\\v\\\\frame_5241.jpg'\n",
      "Skipping frame: D:/Datasets/Datasets/EPIC_Kitchen/OpticalFlow/P01_04/u\\frame_5246.jpg due to error: [Errno 2] No such file or directory: 'D:\\\\Datasets\\\\Datasets\\\\EPIC_Kitchen\\\\OpticalFlow\\\\P01_04\\\\u\\\\frame_5246.jpg'\n",
      "Skipping frame: D:/Datasets/Datasets/EPIC_Kitchen/OpticalFlow/P01_04/v\\frame_5246.jpg due to error: [Errno 2] No such file or directory: 'D:\\\\Datasets\\\\Datasets\\\\EPIC_Kitchen\\\\OpticalFlow\\\\P01_04\\\\v\\\\frame_5246.jpg'\n",
      "Skipping frame: D:/Datasets/Datasets/EPIC_Kitchen/OpticalFlow/P01_04/u\\frame_5251.jpg due to error: [Errno 2] No such file or directory: 'D:\\\\Datasets\\\\Datasets\\\\EPIC_Kitchen\\\\OpticalFlow\\\\P01_04\\\\u\\\\frame_5251.jpg'\n",
      "Skipping frame: D:/Datasets/Datasets/EPIC_Kitchen/OpticalFlow/P01_04/v\\frame_5251.jpg due to error: [Errno 2] No such file or directory: 'D:\\\\Datasets\\\\Datasets\\\\EPIC_Kitchen\\\\OpticalFlow\\\\P01_04\\\\v\\\\frame_5251.jpg'\n",
      "Skipping frame: D:/Datasets/Datasets/EPIC_Kitchen/OpticalFlow/P01_04/u\\frame_5256.jpg due to error: [Errno 2] No such file or directory: 'D:\\\\Datasets\\\\Datasets\\\\EPIC_Kitchen\\\\OpticalFlow\\\\P01_04\\\\u\\\\frame_5256.jpg'\n",
      "Skipping frame: D:/Datasets/Datasets/EPIC_Kitchen/OpticalFlow/P01_04/v\\frame_5256.jpg due to error: [Errno 2] No such file or directory: 'D:\\\\Datasets\\\\Datasets\\\\EPIC_Kitchen\\\\OpticalFlow\\\\P01_04\\\\v\\\\frame_5256.jpg'\n",
      "Skipping frame: D:/Datasets/Datasets/EPIC_Kitchen/OpticalFlow/P01_04/u\\frame_5261.jpg due to error: [Errno 2] No such file or directory: 'D:\\\\Datasets\\\\Datasets\\\\EPIC_Kitchen\\\\OpticalFlow\\\\P01_04\\\\u\\\\frame_5261.jpg'\n",
      "Skipping frame: D:/Datasets/Datasets/EPIC_Kitchen/OpticalFlow/P01_04/v\\frame_5261.jpg due to error: [Errno 2] No such file or directory: 'D:\\\\Datasets\\\\Datasets\\\\EPIC_Kitchen\\\\OpticalFlow\\\\P01_04\\\\v\\\\frame_5261.jpg'\n"
     ]
    },
    {
     "name": "stderr",
     "output_type": "stream",
     "text": [
      "\r",
      "Extracting Features with DEFT:  84%|███████████████████████████████████████▎       | 1056/1262 [01:01<00:10, 20.40it/s]"
     ]
    },
    {
     "name": "stdout",
     "output_type": "stream",
     "text": [
      "Skipping frame: D:/Datasets/Datasets/EPIC_Kitchen/OpticalFlow/P01_04/u\\frame_5266.jpg due to error: [Errno 2] No such file or directory: 'D:\\\\Datasets\\\\Datasets\\\\EPIC_Kitchen\\\\OpticalFlow\\\\P01_04\\\\u\\\\frame_5266.jpg'\n",
      "Skipping frame: D:/Datasets/Datasets/EPIC_Kitchen/OpticalFlow/P01_04/v\\frame_5266.jpg due to error: [Errno 2] No such file or directory: 'D:\\\\Datasets\\\\Datasets\\\\EPIC_Kitchen\\\\OpticalFlow\\\\P01_04\\\\v\\\\frame_5266.jpg'\n",
      "Skipping frame: D:/Datasets/Datasets/EPIC_Kitchen/OpticalFlow/P01_04/u\\frame_5271.jpg due to error: [Errno 2] No such file or directory: 'D:\\\\Datasets\\\\Datasets\\\\EPIC_Kitchen\\\\OpticalFlow\\\\P01_04\\\\u\\\\frame_5271.jpg'\n",
      "Skipping frame: D:/Datasets/Datasets/EPIC_Kitchen/OpticalFlow/P01_04/v\\frame_5271.jpg due to error: [Errno 2] No such file or directory: 'D:\\\\Datasets\\\\Datasets\\\\EPIC_Kitchen\\\\OpticalFlow\\\\P01_04\\\\v\\\\frame_5271.jpg'\n",
      "Skipping frame: D:/Datasets/Datasets/EPIC_Kitchen/OpticalFlow/P01_04/u\\frame_5276.jpg due to error: [Errno 2] No such file or directory: 'D:\\\\Datasets\\\\Datasets\\\\EPIC_Kitchen\\\\OpticalFlow\\\\P01_04\\\\u\\\\frame_5276.jpg'\n",
      "Skipping frame: D:/Datasets/Datasets/EPIC_Kitchen/OpticalFlow/P01_04/v\\frame_5276.jpg due to error: [Errno 2] No such file or directory: 'D:\\\\Datasets\\\\Datasets\\\\EPIC_Kitchen\\\\OpticalFlow\\\\P01_04\\\\v\\\\frame_5276.jpg'\n",
      "Skipping frame: D:/Datasets/Datasets/EPIC_Kitchen/OpticalFlow/P01_04/u\\frame_5281.jpg due to error: [Errno 2] No such file or directory: 'D:\\\\Datasets\\\\Datasets\\\\EPIC_Kitchen\\\\OpticalFlow\\\\P01_04\\\\u\\\\frame_5281.jpg'\n",
      "Skipping frame: D:/Datasets/Datasets/EPIC_Kitchen/OpticalFlow/P01_04/v\\frame_5281.jpg due to error: [Errno 2] No such file or directory: 'D:\\\\Datasets\\\\Datasets\\\\EPIC_Kitchen\\\\OpticalFlow\\\\P01_04\\\\v\\\\frame_5281.jpg'\n",
      "Skipping frame: D:/Datasets/Datasets/EPIC_Kitchen/OpticalFlow/P01_04/u\\frame_5286.jpg due to error: [Errno 2] No such file or directory: 'D:\\\\Datasets\\\\Datasets\\\\EPIC_Kitchen\\\\OpticalFlow\\\\P01_04\\\\u\\\\frame_5286.jpg'\n",
      "Skipping frame: D:/Datasets/Datasets/EPIC_Kitchen/OpticalFlow/P01_04/v\\frame_5286.jpg due to error: [Errno 2] No such file or directory: 'D:\\\\Datasets\\\\Datasets\\\\EPIC_Kitchen\\\\OpticalFlow\\\\P01_04\\\\v\\\\frame_5286.jpg'\n"
     ]
    },
    {
     "name": "stderr",
     "output_type": "stream",
     "text": [
      "Extracting Features with DEFT:  84%|███████████████████████████████████████▌       | 1062/1262 [01:02<00:09, 20.39it/s]"
     ]
    },
    {
     "name": "stdout",
     "output_type": "stream",
     "text": [
      "Skipping frame: D:/Datasets/Datasets/EPIC_Kitchen/OpticalFlow/P01_04/u\\frame_5291.jpg due to error: [Errno 2] No such file or directory: 'D:\\\\Datasets\\\\Datasets\\\\EPIC_Kitchen\\\\OpticalFlow\\\\P01_04\\\\u\\\\frame_5291.jpg'\n",
      "Skipping frame: D:/Datasets/Datasets/EPIC_Kitchen/OpticalFlow/P01_04/v\\frame_5291.jpg due to error: [Errno 2] No such file or directory: 'D:\\\\Datasets\\\\Datasets\\\\EPIC_Kitchen\\\\OpticalFlow\\\\P01_04\\\\v\\\\frame_5291.jpg'\n",
      "Skipping frame: D:/Datasets/Datasets/EPIC_Kitchen/OpticalFlow/P01_04/u\\frame_5296.jpg due to error: [Errno 2] No such file or directory: 'D:\\\\Datasets\\\\Datasets\\\\EPIC_Kitchen\\\\OpticalFlow\\\\P01_04\\\\u\\\\frame_5296.jpg'\n",
      "Skipping frame: D:/Datasets/Datasets/EPIC_Kitchen/OpticalFlow/P01_04/v\\frame_5296.jpg due to error: [Errno 2] No such file or directory: 'D:\\\\Datasets\\\\Datasets\\\\EPIC_Kitchen\\\\OpticalFlow\\\\P01_04\\\\v\\\\frame_5296.jpg'\n",
      "Skipping frame: D:/Datasets/Datasets/EPIC_Kitchen/OpticalFlow/P01_04/u\\frame_5301.jpg due to error: [Errno 2] No such file or directory: 'D:\\\\Datasets\\\\Datasets\\\\EPIC_Kitchen\\\\OpticalFlow\\\\P01_04\\\\u\\\\frame_5301.jpg'\n",
      "Skipping frame: D:/Datasets/Datasets/EPIC_Kitchen/OpticalFlow/P01_04/v\\frame_5301.jpg due to error: [Errno 2] No such file or directory: 'D:\\\\Datasets\\\\Datasets\\\\EPIC_Kitchen\\\\OpticalFlow\\\\P01_04\\\\v\\\\frame_5301.jpg'\n",
      "Skipping frame: D:/Datasets/Datasets/EPIC_Kitchen/OpticalFlow/P01_04/u\\frame_5306.jpg due to error: [Errno 2] No such file or directory: 'D:\\\\Datasets\\\\Datasets\\\\EPIC_Kitchen\\\\OpticalFlow\\\\P01_04\\\\u\\\\frame_5306.jpg'\n",
      "Skipping frame: D:/Datasets/Datasets/EPIC_Kitchen/OpticalFlow/P01_04/v\\frame_5306.jpg due to error: [Errno 2] No such file or directory: 'D:\\\\Datasets\\\\Datasets\\\\EPIC_Kitchen\\\\OpticalFlow\\\\P01_04\\\\v\\\\frame_5306.jpg'\n",
      "Skipping frame: D:/Datasets/Datasets/EPIC_Kitchen/OpticalFlow/P01_04/u\\frame_5311.jpg due to error: [Errno 2] No such file or directory: 'D:\\\\Datasets\\\\Datasets\\\\EPIC_Kitchen\\\\OpticalFlow\\\\P01_04\\\\u\\\\frame_5311.jpg'\n",
      "Skipping frame: D:/Datasets/Datasets/EPIC_Kitchen/OpticalFlow/P01_04/v\\frame_5311.jpg due to error: [Errno 2] No such file or directory: 'D:\\\\Datasets\\\\Datasets\\\\EPIC_Kitchen\\\\OpticalFlow\\\\P01_04\\\\v\\\\frame_5311.jpg'\n"
     ]
    },
    {
     "name": "stderr",
     "output_type": "stream",
     "text": [
      "Extracting Features with DEFT:  85%|███████████████████████████████████████▊       | 1068/1262 [01:02<00:09, 20.45it/s]"
     ]
    },
    {
     "name": "stdout",
     "output_type": "stream",
     "text": [
      "Skipping frame: D:/Datasets/Datasets/EPIC_Kitchen/OpticalFlow/P01_04/u\\frame_5316.jpg due to error: [Errno 2] No such file or directory: 'D:\\\\Datasets\\\\Datasets\\\\EPIC_Kitchen\\\\OpticalFlow\\\\P01_04\\\\u\\\\frame_5316.jpg'\n",
      "Skipping frame: D:/Datasets/Datasets/EPIC_Kitchen/OpticalFlow/P01_04/v\\frame_5316.jpg due to error: [Errno 2] No such file or directory: 'D:\\\\Datasets\\\\Datasets\\\\EPIC_Kitchen\\\\OpticalFlow\\\\P01_04\\\\v\\\\frame_5316.jpg'\n",
      "Skipping frame: D:/Datasets/Datasets/EPIC_Kitchen/OpticalFlow/P01_04/u\\frame_5321.jpg due to error: [Errno 2] No such file or directory: 'D:\\\\Datasets\\\\Datasets\\\\EPIC_Kitchen\\\\OpticalFlow\\\\P01_04\\\\u\\\\frame_5321.jpg'\n",
      "Skipping frame: D:/Datasets/Datasets/EPIC_Kitchen/OpticalFlow/P01_04/v\\frame_5321.jpg due to error: [Errno 2] No such file or directory: 'D:\\\\Datasets\\\\Datasets\\\\EPIC_Kitchen\\\\OpticalFlow\\\\P01_04\\\\v\\\\frame_5321.jpg'\n",
      "Skipping frame: D:/Datasets/Datasets/EPIC_Kitchen/OpticalFlow/P01_04/u\\frame_5326.jpg due to error: [Errno 2] No such file or directory: 'D:\\\\Datasets\\\\Datasets\\\\EPIC_Kitchen\\\\OpticalFlow\\\\P01_04\\\\u\\\\frame_5326.jpg'\n",
      "Skipping frame: D:/Datasets/Datasets/EPIC_Kitchen/OpticalFlow/P01_04/v\\frame_5326.jpg due to error: [Errno 2] No such file or directory: 'D:\\\\Datasets\\\\Datasets\\\\EPIC_Kitchen\\\\OpticalFlow\\\\P01_04\\\\v\\\\frame_5326.jpg'\n",
      "Skipping frame: D:/Datasets/Datasets/EPIC_Kitchen/OpticalFlow/P01_04/u\\frame_5331.jpg due to error: [Errno 2] No such file or directory: 'D:\\\\Datasets\\\\Datasets\\\\EPIC_Kitchen\\\\OpticalFlow\\\\P01_04\\\\u\\\\frame_5331.jpg'\n",
      "Skipping frame: D:/Datasets/Datasets/EPIC_Kitchen/OpticalFlow/P01_04/v\\frame_5331.jpg due to error: [Errno 2] No such file or directory: 'D:\\\\Datasets\\\\Datasets\\\\EPIC_Kitchen\\\\OpticalFlow\\\\P01_04\\\\v\\\\frame_5331.jpg'\n",
      "Skipping frame: D:/Datasets/Datasets/EPIC_Kitchen/OpticalFlow/P01_04/u\\frame_5336.jpg due to error: [Errno 2] No such file or directory: 'D:\\\\Datasets\\\\Datasets\\\\EPIC_Kitchen\\\\OpticalFlow\\\\P01_04\\\\u\\\\frame_5336.jpg'\n",
      "Skipping frame: D:/Datasets/Datasets/EPIC_Kitchen/OpticalFlow/P01_04/v\\frame_5336.jpg due to error: [Errno 2] No such file or directory: 'D:\\\\Datasets\\\\Datasets\\\\EPIC_Kitchen\\\\OpticalFlow\\\\P01_04\\\\v\\\\frame_5336.jpg'\n"
     ]
    },
    {
     "name": "stderr",
     "output_type": "stream",
     "text": [
      "\r",
      "Extracting Features with DEFT:  85%|███████████████████████████████████████▉       | 1071/1262 [01:02<00:09, 20.23it/s]"
     ]
    },
    {
     "name": "stdout",
     "output_type": "stream",
     "text": [
      "Skipping frame: D:/Datasets/Datasets/EPIC_Kitchen/OpticalFlow/P01_04/u\\frame_5341.jpg due to error: [Errno 2] No such file or directory: 'D:\\\\Datasets\\\\Datasets\\\\EPIC_Kitchen\\\\OpticalFlow\\\\P01_04\\\\u\\\\frame_5341.jpg'\n",
      "Skipping frame: D:/Datasets/Datasets/EPIC_Kitchen/OpticalFlow/P01_04/v\\frame_5341.jpg due to error: [Errno 2] No such file or directory: 'D:\\\\Datasets\\\\Datasets\\\\EPIC_Kitchen\\\\OpticalFlow\\\\P01_04\\\\v\\\\frame_5341.jpg'\n",
      "Skipping frame: D:/Datasets/Datasets/EPIC_Kitchen/OpticalFlow/P01_04/u\\frame_5346.jpg due to error: [Errno 2] No such file or directory: 'D:\\\\Datasets\\\\Datasets\\\\EPIC_Kitchen\\\\OpticalFlow\\\\P01_04\\\\u\\\\frame_5346.jpg'\n",
      "Skipping frame: D:/Datasets/Datasets/EPIC_Kitchen/OpticalFlow/P01_04/v\\frame_5346.jpg due to error: [Errno 2] No such file or directory: 'D:\\\\Datasets\\\\Datasets\\\\EPIC_Kitchen\\\\OpticalFlow\\\\P01_04\\\\v\\\\frame_5346.jpg'\n",
      "Skipping frame: D:/Datasets/Datasets/EPIC_Kitchen/OpticalFlow/P01_04/u\\frame_5351.jpg due to error: [Errno 2] No such file or directory: 'D:\\\\Datasets\\\\Datasets\\\\EPIC_Kitchen\\\\OpticalFlow\\\\P01_04\\\\u\\\\frame_5351.jpg'\n",
      "Skipping frame: D:/Datasets/Datasets/EPIC_Kitchen/OpticalFlow/P01_04/v\\frame_5351.jpg due to error: [Errno 2] No such file or directory: 'D:\\\\Datasets\\\\Datasets\\\\EPIC_Kitchen\\\\OpticalFlow\\\\P01_04\\\\v\\\\frame_5351.jpg'\n",
      "Skipping frame: D:/Datasets/Datasets/EPIC_Kitchen/OpticalFlow/P01_04/u\\frame_5356.jpg due to error: [Errno 2] No such file or directory: 'D:\\\\Datasets\\\\Datasets\\\\EPIC_Kitchen\\\\OpticalFlow\\\\P01_04\\\\u\\\\frame_5356.jpg'\n",
      "Skipping frame: D:/Datasets/Datasets/EPIC_Kitchen/OpticalFlow/P01_04/v\\frame_5356.jpg due to error: [Errno 2] No such file or directory: 'D:\\\\Datasets\\\\Datasets\\\\EPIC_Kitchen\\\\OpticalFlow\\\\P01_04\\\\v\\\\frame_5356.jpg'\n"
     ]
    },
    {
     "name": "stderr",
     "output_type": "stream",
     "text": [
      "Extracting Features with DEFT:  85%|████████████████████████████████████████       | 1077/1262 [01:02<00:09, 20.43it/s]"
     ]
    },
    {
     "name": "stdout",
     "output_type": "stream",
     "text": [
      "Skipping frame: D:/Datasets/Datasets/EPIC_Kitchen/OpticalFlow/P01_04/u\\frame_5361.jpg due to error: [Errno 2] No such file or directory: 'D:\\\\Datasets\\\\Datasets\\\\EPIC_Kitchen\\\\OpticalFlow\\\\P01_04\\\\u\\\\frame_5361.jpg'\n",
      "Skipping frame: D:/Datasets/Datasets/EPIC_Kitchen/OpticalFlow/P01_04/v\\frame_5361.jpg due to error: [Errno 2] No such file or directory: 'D:\\\\Datasets\\\\Datasets\\\\EPIC_Kitchen\\\\OpticalFlow\\\\P01_04\\\\v\\\\frame_5361.jpg'\n",
      "Skipping frame: D:/Datasets/Datasets/EPIC_Kitchen/OpticalFlow/P01_04/u\\frame_5366.jpg due to error: [Errno 2] No such file or directory: 'D:\\\\Datasets\\\\Datasets\\\\EPIC_Kitchen\\\\OpticalFlow\\\\P01_04\\\\u\\\\frame_5366.jpg'\n",
      "Skipping frame: D:/Datasets/Datasets/EPIC_Kitchen/OpticalFlow/P01_04/v\\frame_5366.jpg due to error: [Errno 2] No such file or directory: 'D:\\\\Datasets\\\\Datasets\\\\EPIC_Kitchen\\\\OpticalFlow\\\\P01_04\\\\v\\\\frame_5366.jpg'\n",
      "Skipping frame: D:/Datasets/Datasets/EPIC_Kitchen/OpticalFlow/P01_04/u\\frame_5371.jpg due to error: [Errno 2] No such file or directory: 'D:\\\\Datasets\\\\Datasets\\\\EPIC_Kitchen\\\\OpticalFlow\\\\P01_04\\\\u\\\\frame_5371.jpg'\n",
      "Skipping frame: D:/Datasets/Datasets/EPIC_Kitchen/OpticalFlow/P01_04/v\\frame_5371.jpg due to error: [Errno 2] No such file or directory: 'D:\\\\Datasets\\\\Datasets\\\\EPIC_Kitchen\\\\OpticalFlow\\\\P01_04\\\\v\\\\frame_5371.jpg'\n",
      "Skipping frame: D:/Datasets/Datasets/EPIC_Kitchen/OpticalFlow/P01_04/u\\frame_5376.jpg due to error: [Errno 2] No such file or directory: 'D:\\\\Datasets\\\\Datasets\\\\EPIC_Kitchen\\\\OpticalFlow\\\\P01_04\\\\u\\\\frame_5376.jpg'\n",
      "Skipping frame: D:/Datasets/Datasets/EPIC_Kitchen/OpticalFlow/P01_04/v\\frame_5376.jpg due to error: [Errno 2] No such file or directory: 'D:\\\\Datasets\\\\Datasets\\\\EPIC_Kitchen\\\\OpticalFlow\\\\P01_04\\\\v\\\\frame_5376.jpg'\n",
      "Skipping frame: D:/Datasets/Datasets/EPIC_Kitchen/OpticalFlow/P01_04/u\\frame_5381.jpg due to error: [Errno 2] No such file or directory: 'D:\\\\Datasets\\\\Datasets\\\\EPIC_Kitchen\\\\OpticalFlow\\\\P01_04\\\\u\\\\frame_5381.jpg'\n",
      "Skipping frame: D:/Datasets/Datasets/EPIC_Kitchen/OpticalFlow/P01_04/v\\frame_5381.jpg due to error: [Errno 2] No such file or directory: 'D:\\\\Datasets\\\\Datasets\\\\EPIC_Kitchen\\\\OpticalFlow\\\\P01_04\\\\v\\\\frame_5381.jpg'\n"
     ]
    },
    {
     "name": "stderr",
     "output_type": "stream",
     "text": [
      "\r",
      "Extracting Features with DEFT:  86%|████████████████████████████████████████▏      | 1080/1262 [01:02<00:08, 20.67it/s]"
     ]
    },
    {
     "name": "stdout",
     "output_type": "stream",
     "text": [
      "Skipping frame: D:/Datasets/Datasets/EPIC_Kitchen/OpticalFlow/P01_04/u\\frame_5386.jpg due to error: [Errno 2] No such file or directory: 'D:\\\\Datasets\\\\Datasets\\\\EPIC_Kitchen\\\\OpticalFlow\\\\P01_04\\\\u\\\\frame_5386.jpg'\n",
      "Skipping frame: D:/Datasets/Datasets/EPIC_Kitchen/OpticalFlow/P01_04/v\\frame_5386.jpg due to error: [Errno 2] No such file or directory: 'D:\\\\Datasets\\\\Datasets\\\\EPIC_Kitchen\\\\OpticalFlow\\\\P01_04\\\\v\\\\frame_5386.jpg'\n",
      "Skipping frame: D:/Datasets/Datasets/EPIC_Kitchen/OpticalFlow/P01_04/u\\frame_5391.jpg due to error: [Errno 2] No such file or directory: 'D:\\\\Datasets\\\\Datasets\\\\EPIC_Kitchen\\\\OpticalFlow\\\\P01_04\\\\u\\\\frame_5391.jpg'\n",
      "Skipping frame: D:/Datasets/Datasets/EPIC_Kitchen/OpticalFlow/P01_04/v\\frame_5391.jpg due to error: [Errno 2] No such file or directory: 'D:\\\\Datasets\\\\Datasets\\\\EPIC_Kitchen\\\\OpticalFlow\\\\P01_04\\\\v\\\\frame_5391.jpg'\n",
      "Skipping frame: D:/Datasets/Datasets/EPIC_Kitchen/OpticalFlow/P01_04/u\\frame_5396.jpg due to error: [Errno 2] No such file or directory: 'D:\\\\Datasets\\\\Datasets\\\\EPIC_Kitchen\\\\OpticalFlow\\\\P01_04\\\\u\\\\frame_5396.jpg'\n",
      "Skipping frame: D:/Datasets/Datasets/EPIC_Kitchen/OpticalFlow/P01_04/v\\frame_5396.jpg due to error: [Errno 2] No such file or directory: 'D:\\\\Datasets\\\\Datasets\\\\EPIC_Kitchen\\\\OpticalFlow\\\\P01_04\\\\v\\\\frame_5396.jpg'\n",
      "Skipping frame: D:/Datasets/Datasets/EPIC_Kitchen/OpticalFlow/P01_04/u\\frame_5401.jpg due to error: [Errno 2] No such file or directory: 'D:\\\\Datasets\\\\Datasets\\\\EPIC_Kitchen\\\\OpticalFlow\\\\P01_04\\\\u\\\\frame_5401.jpg'\n",
      "Skipping frame: D:/Datasets/Datasets/EPIC_Kitchen/OpticalFlow/P01_04/v\\frame_5401.jpg due to error: [Errno 2] No such file or directory: 'D:\\\\Datasets\\\\Datasets\\\\EPIC_Kitchen\\\\OpticalFlow\\\\P01_04\\\\v\\\\frame_5401.jpg'\n",
      "Skipping frame: D:/Datasets/Datasets/EPIC_Kitchen/OpticalFlow/P01_04/u\\frame_5406.jpg due to error: [Errno 2] No such file or directory: 'D:\\\\Datasets\\\\Datasets\\\\EPIC_Kitchen\\\\OpticalFlow\\\\P01_04\\\\u\\\\frame_5406.jpg'\n",
      "Skipping frame: D:/Datasets/Datasets/EPIC_Kitchen/OpticalFlow/P01_04/v\\frame_5406.jpg due to error: [Errno 2] No such file or directory: 'D:\\\\Datasets\\\\Datasets\\\\EPIC_Kitchen\\\\OpticalFlow\\\\P01_04\\\\v\\\\frame_5406.jpg'\n"
     ]
    },
    {
     "name": "stderr",
     "output_type": "stream",
     "text": [
      "Extracting Features with DEFT:  86%|████████████████████████████████████████▍      | 1086/1262 [01:03<00:08, 21.37it/s]"
     ]
    },
    {
     "name": "stdout",
     "output_type": "stream",
     "text": [
      "Skipping frame: D:/Datasets/Datasets/EPIC_Kitchen/OpticalFlow/P01_04/u\\frame_5411.jpg due to error: [Errno 2] No such file or directory: 'D:\\\\Datasets\\\\Datasets\\\\EPIC_Kitchen\\\\OpticalFlow\\\\P01_04\\\\u\\\\frame_5411.jpg'\n",
      "Skipping frame: D:/Datasets/Datasets/EPIC_Kitchen/OpticalFlow/P01_04/v\\frame_5411.jpg due to error: [Errno 2] No such file or directory: 'D:\\\\Datasets\\\\Datasets\\\\EPIC_Kitchen\\\\OpticalFlow\\\\P01_04\\\\v\\\\frame_5411.jpg'\n",
      "Skipping frame: D:/Datasets/Datasets/EPIC_Kitchen/OpticalFlow/P01_04/u\\frame_5416.jpg due to error: [Errno 2] No such file or directory: 'D:\\\\Datasets\\\\Datasets\\\\EPIC_Kitchen\\\\OpticalFlow\\\\P01_04\\\\u\\\\frame_5416.jpg'\n",
      "Skipping frame: D:/Datasets/Datasets/EPIC_Kitchen/OpticalFlow/P01_04/v\\frame_5416.jpg due to error: [Errno 2] No such file or directory: 'D:\\\\Datasets\\\\Datasets\\\\EPIC_Kitchen\\\\OpticalFlow\\\\P01_04\\\\v\\\\frame_5416.jpg'\n",
      "Skipping frame: D:/Datasets/Datasets/EPIC_Kitchen/OpticalFlow/P01_04/u\\frame_5421.jpg due to error: [Errno 2] No such file or directory: 'D:\\\\Datasets\\\\Datasets\\\\EPIC_Kitchen\\\\OpticalFlow\\\\P01_04\\\\u\\\\frame_5421.jpg'\n",
      "Skipping frame: D:/Datasets/Datasets/EPIC_Kitchen/OpticalFlow/P01_04/v\\frame_5421.jpg due to error: [Errno 2] No such file or directory: 'D:\\\\Datasets\\\\Datasets\\\\EPIC_Kitchen\\\\OpticalFlow\\\\P01_04\\\\v\\\\frame_5421.jpg'\n",
      "Skipping frame: D:/Datasets/Datasets/EPIC_Kitchen/OpticalFlow/P01_04/u\\frame_5426.jpg due to error: [Errno 2] No such file or directory: 'D:\\\\Datasets\\\\Datasets\\\\EPIC_Kitchen\\\\OpticalFlow\\\\P01_04\\\\u\\\\frame_5426.jpg'\n",
      "Skipping frame: D:/Datasets/Datasets/EPIC_Kitchen/OpticalFlow/P01_04/v\\frame_5426.jpg due to error: [Errno 2] No such file or directory: 'D:\\\\Datasets\\\\Datasets\\\\EPIC_Kitchen\\\\OpticalFlow\\\\P01_04\\\\v\\\\frame_5426.jpg'\n",
      "Skipping frame: D:/Datasets/Datasets/EPIC_Kitchen/OpticalFlow/P01_04/u\\frame_5431.jpg due to error: [Errno 2] No such file or directory: 'D:\\\\Datasets\\\\Datasets\\\\EPIC_Kitchen\\\\OpticalFlow\\\\P01_04\\\\u\\\\frame_5431.jpg'\n",
      "Skipping frame: D:/Datasets/Datasets/EPIC_Kitchen/OpticalFlow/P01_04/v\\frame_5431.jpg due to error: [Errno 2] No such file or directory: 'D:\\\\Datasets\\\\Datasets\\\\EPIC_Kitchen\\\\OpticalFlow\\\\P01_04\\\\v\\\\frame_5431.jpg'\n"
     ]
    },
    {
     "name": "stderr",
     "output_type": "stream",
     "text": [
      "Extracting Features with DEFT:  87%|████████████████████████████████████████▋      | 1092/1262 [01:03<00:07, 21.66it/s]"
     ]
    },
    {
     "name": "stdout",
     "output_type": "stream",
     "text": [
      "Skipping frame: D:/Datasets/Datasets/EPIC_Kitchen/OpticalFlow/P01_04/u\\frame_5436.jpg due to error: [Errno 2] No such file or directory: 'D:\\\\Datasets\\\\Datasets\\\\EPIC_Kitchen\\\\OpticalFlow\\\\P01_04\\\\u\\\\frame_5436.jpg'\n",
      "Skipping frame: D:/Datasets/Datasets/EPIC_Kitchen/OpticalFlow/P01_04/v\\frame_5436.jpg due to error: [Errno 2] No such file or directory: 'D:\\\\Datasets\\\\Datasets\\\\EPIC_Kitchen\\\\OpticalFlow\\\\P01_04\\\\v\\\\frame_5436.jpg'\n",
      "Skipping frame: D:/Datasets/Datasets/EPIC_Kitchen/OpticalFlow/P01_04/u\\frame_5441.jpg due to error: [Errno 2] No such file or directory: 'D:\\\\Datasets\\\\Datasets\\\\EPIC_Kitchen\\\\OpticalFlow\\\\P01_04\\\\u\\\\frame_5441.jpg'\n",
      "Skipping frame: D:/Datasets/Datasets/EPIC_Kitchen/OpticalFlow/P01_04/v\\frame_5441.jpg due to error: [Errno 2] No such file or directory: 'D:\\\\Datasets\\\\Datasets\\\\EPIC_Kitchen\\\\OpticalFlow\\\\P01_04\\\\v\\\\frame_5441.jpg'\n",
      "Skipping frame: D:/Datasets/Datasets/EPIC_Kitchen/OpticalFlow/P01_04/u\\frame_5446.jpg due to error: [Errno 2] No such file or directory: 'D:\\\\Datasets\\\\Datasets\\\\EPIC_Kitchen\\\\OpticalFlow\\\\P01_04\\\\u\\\\frame_5446.jpg'\n",
      "Skipping frame: D:/Datasets/Datasets/EPIC_Kitchen/OpticalFlow/P01_04/v\\frame_5446.jpg due to error: [Errno 2] No such file or directory: 'D:\\\\Datasets\\\\Datasets\\\\EPIC_Kitchen\\\\OpticalFlow\\\\P01_04\\\\v\\\\frame_5446.jpg'\n",
      "Skipping frame: D:/Datasets/Datasets/EPIC_Kitchen/OpticalFlow/P01_04/u\\frame_5451.jpg due to error: [Errno 2] No such file or directory: 'D:\\\\Datasets\\\\Datasets\\\\EPIC_Kitchen\\\\OpticalFlow\\\\P01_04\\\\u\\\\frame_5451.jpg'\n",
      "Skipping frame: D:/Datasets/Datasets/EPIC_Kitchen/OpticalFlow/P01_04/v\\frame_5451.jpg due to error: [Errno 2] No such file or directory: 'D:\\\\Datasets\\\\Datasets\\\\EPIC_Kitchen\\\\OpticalFlow\\\\P01_04\\\\v\\\\frame_5451.jpg'\n",
      "Skipping frame: D:/Datasets/Datasets/EPIC_Kitchen/OpticalFlow/P01_04/u\\frame_5456.jpg due to error: [Errno 2] No such file or directory: 'D:\\\\Datasets\\\\Datasets\\\\EPIC_Kitchen\\\\OpticalFlow\\\\P01_04\\\\u\\\\frame_5456.jpg'\n",
      "Skipping frame: D:/Datasets/Datasets/EPIC_Kitchen/OpticalFlow/P01_04/v\\frame_5456.jpg due to error: [Errno 2] No such file or directory: 'D:\\\\Datasets\\\\Datasets\\\\EPIC_Kitchen\\\\OpticalFlow\\\\P01_04\\\\v\\\\frame_5456.jpg'\n"
     ]
    },
    {
     "name": "stderr",
     "output_type": "stream",
     "text": [
      "\r",
      "Extracting Features with DEFT:  87%|████████████████████████████████████████▊      | 1095/1262 [01:03<00:07, 21.05it/s]"
     ]
    },
    {
     "name": "stdout",
     "output_type": "stream",
     "text": [
      "Skipping frame: D:/Datasets/Datasets/EPIC_Kitchen/OpticalFlow/P01_04/u\\frame_5461.jpg due to error: [Errno 2] No such file or directory: 'D:\\\\Datasets\\\\Datasets\\\\EPIC_Kitchen\\\\OpticalFlow\\\\P01_04\\\\u\\\\frame_5461.jpg'\n",
      "Skipping frame: D:/Datasets/Datasets/EPIC_Kitchen/OpticalFlow/P01_04/v\\frame_5461.jpg due to error: [Errno 2] No such file or directory: 'D:\\\\Datasets\\\\Datasets\\\\EPIC_Kitchen\\\\OpticalFlow\\\\P01_04\\\\v\\\\frame_5461.jpg'\n",
      "Skipping frame: D:/Datasets/Datasets/EPIC_Kitchen/OpticalFlow/P01_04/u\\frame_5466.jpg due to error: [Errno 2] No such file or directory: 'D:\\\\Datasets\\\\Datasets\\\\EPIC_Kitchen\\\\OpticalFlow\\\\P01_04\\\\u\\\\frame_5466.jpg'\n",
      "Skipping frame: D:/Datasets/Datasets/EPIC_Kitchen/OpticalFlow/P01_04/v\\frame_5466.jpg due to error: [Errno 2] No such file or directory: 'D:\\\\Datasets\\\\Datasets\\\\EPIC_Kitchen\\\\OpticalFlow\\\\P01_04\\\\v\\\\frame_5466.jpg'\n",
      "Skipping frame: D:/Datasets/Datasets/EPIC_Kitchen/OpticalFlow/P01_04/u\\frame_5471.jpg due to error: [Errno 2] No such file or directory: 'D:\\\\Datasets\\\\Datasets\\\\EPIC_Kitchen\\\\OpticalFlow\\\\P01_04\\\\u\\\\frame_5471.jpg'\n",
      "Skipping frame: D:/Datasets/Datasets/EPIC_Kitchen/OpticalFlow/P01_04/v\\frame_5471.jpg due to error: [Errno 2] No such file or directory: 'D:\\\\Datasets\\\\Datasets\\\\EPIC_Kitchen\\\\OpticalFlow\\\\P01_04\\\\v\\\\frame_5471.jpg'\n",
      "Skipping frame: D:/Datasets/Datasets/EPIC_Kitchen/OpticalFlow/P01_04/u\\frame_5476.jpg due to error: [Errno 2] No such file or directory: 'D:\\\\Datasets\\\\Datasets\\\\EPIC_Kitchen\\\\OpticalFlow\\\\P01_04\\\\u\\\\frame_5476.jpg'\n",
      "Skipping frame: D:/Datasets/Datasets/EPIC_Kitchen/OpticalFlow/P01_04/v\\frame_5476.jpg due to error: [Errno 2] No such file or directory: 'D:\\\\Datasets\\\\Datasets\\\\EPIC_Kitchen\\\\OpticalFlow\\\\P01_04\\\\v\\\\frame_5476.jpg'\n",
      "Skipping frame: D:/Datasets/Datasets/EPIC_Kitchen/OpticalFlow/P01_04/u\\frame_5481.jpg due to error: [Errno 2] No such file or directory: 'D:\\\\Datasets\\\\Datasets\\\\EPIC_Kitchen\\\\OpticalFlow\\\\P01_04\\\\u\\\\frame_5481.jpg'\n",
      "Skipping frame: D:/Datasets/Datasets/EPIC_Kitchen/OpticalFlow/P01_04/v\\frame_5481.jpg due to error: [Errno 2] No such file or directory: 'D:\\\\Datasets\\\\Datasets\\\\EPIC_Kitchen\\\\OpticalFlow\\\\P01_04\\\\v\\\\frame_5481.jpg'\n"
     ]
    },
    {
     "name": "stderr",
     "output_type": "stream",
     "text": [
      "Extracting Features with DEFT:  87%|█████████████████████████████████████████      | 1101/1262 [01:03<00:07, 21.04it/s]"
     ]
    },
    {
     "name": "stdout",
     "output_type": "stream",
     "text": [
      "Skipping frame: D:/Datasets/Datasets/EPIC_Kitchen/OpticalFlow/P01_04/u\\frame_5486.jpg due to error: [Errno 2] No such file or directory: 'D:\\\\Datasets\\\\Datasets\\\\EPIC_Kitchen\\\\OpticalFlow\\\\P01_04\\\\u\\\\frame_5486.jpg'\n",
      "Skipping frame: D:/Datasets/Datasets/EPIC_Kitchen/OpticalFlow/P01_04/v\\frame_5486.jpg due to error: [Errno 2] No such file or directory: 'D:\\\\Datasets\\\\Datasets\\\\EPIC_Kitchen\\\\OpticalFlow\\\\P01_04\\\\v\\\\frame_5486.jpg'\n",
      "Skipping frame: D:/Datasets/Datasets/EPIC_Kitchen/OpticalFlow/P01_04/u\\frame_5491.jpg due to error: [Errno 2] No such file or directory: 'D:\\\\Datasets\\\\Datasets\\\\EPIC_Kitchen\\\\OpticalFlow\\\\P01_04\\\\u\\\\frame_5491.jpg'\n",
      "Skipping frame: D:/Datasets/Datasets/EPIC_Kitchen/OpticalFlow/P01_04/v\\frame_5491.jpg due to error: [Errno 2] No such file or directory: 'D:\\\\Datasets\\\\Datasets\\\\EPIC_Kitchen\\\\OpticalFlow\\\\P01_04\\\\v\\\\frame_5491.jpg'\n",
      "Skipping frame: D:/Datasets/Datasets/EPIC_Kitchen/OpticalFlow/P01_04/u\\frame_5496.jpg due to error: [Errno 2] No such file or directory: 'D:\\\\Datasets\\\\Datasets\\\\EPIC_Kitchen\\\\OpticalFlow\\\\P01_04\\\\u\\\\frame_5496.jpg'\n",
      "Skipping frame: D:/Datasets/Datasets/EPIC_Kitchen/OpticalFlow/P01_04/v\\frame_5496.jpg due to error: [Errno 2] No such file or directory: 'D:\\\\Datasets\\\\Datasets\\\\EPIC_Kitchen\\\\OpticalFlow\\\\P01_04\\\\v\\\\frame_5496.jpg'\n",
      "Skipping frame: D:/Datasets/Datasets/EPIC_Kitchen/OpticalFlow/P01_04/u\\frame_5501.jpg due to error: [Errno 2] No such file or directory: 'D:\\\\Datasets\\\\Datasets\\\\EPIC_Kitchen\\\\OpticalFlow\\\\P01_04\\\\u\\\\frame_5501.jpg'\n",
      "Skipping frame: D:/Datasets/Datasets/EPIC_Kitchen/OpticalFlow/P01_04/v\\frame_5501.jpg due to error: [Errno 2] No such file or directory: 'D:\\\\Datasets\\\\Datasets\\\\EPIC_Kitchen\\\\OpticalFlow\\\\P01_04\\\\v\\\\frame_5501.jpg'\n",
      "Skipping frame: D:/Datasets/Datasets/EPIC_Kitchen/OpticalFlow/P01_04/u\\frame_5506.jpg due to error: [Errno 2] No such file or directory: 'D:\\\\Datasets\\\\Datasets\\\\EPIC_Kitchen\\\\OpticalFlow\\\\P01_04\\\\u\\\\frame_5506.jpg'\n",
      "Skipping frame: D:/Datasets/Datasets/EPIC_Kitchen/OpticalFlow/P01_04/v\\frame_5506.jpg due to error: [Errno 2] No such file or directory: 'D:\\\\Datasets\\\\Datasets\\\\EPIC_Kitchen\\\\OpticalFlow\\\\P01_04\\\\v\\\\frame_5506.jpg'\n"
     ]
    },
    {
     "name": "stderr",
     "output_type": "stream",
     "text": [
      "Extracting Features with DEFT:  88%|█████████████████████████████████████████▏     | 1107/1262 [01:04<00:07, 21.21it/s]"
     ]
    },
    {
     "name": "stdout",
     "output_type": "stream",
     "text": [
      "Skipping frame: D:/Datasets/Datasets/EPIC_Kitchen/OpticalFlow/P01_04/u\\frame_5511.jpg due to error: [Errno 2] No such file or directory: 'D:\\\\Datasets\\\\Datasets\\\\EPIC_Kitchen\\\\OpticalFlow\\\\P01_04\\\\u\\\\frame_5511.jpg'\n",
      "Skipping frame: D:/Datasets/Datasets/EPIC_Kitchen/OpticalFlow/P01_04/v\\frame_5511.jpg due to error: [Errno 2] No such file or directory: 'D:\\\\Datasets\\\\Datasets\\\\EPIC_Kitchen\\\\OpticalFlow\\\\P01_04\\\\v\\\\frame_5511.jpg'\n",
      "Skipping frame: D:/Datasets/Datasets/EPIC_Kitchen/OpticalFlow/P01_04/u\\frame_5516.jpg due to error: [Errno 2] No such file or directory: 'D:\\\\Datasets\\\\Datasets\\\\EPIC_Kitchen\\\\OpticalFlow\\\\P01_04\\\\u\\\\frame_5516.jpg'\n",
      "Skipping frame: D:/Datasets/Datasets/EPIC_Kitchen/OpticalFlow/P01_04/v\\frame_5516.jpg due to error: [Errno 2] No such file or directory: 'D:\\\\Datasets\\\\Datasets\\\\EPIC_Kitchen\\\\OpticalFlow\\\\P01_04\\\\v\\\\frame_5516.jpg'\n",
      "Skipping frame: D:/Datasets/Datasets/EPIC_Kitchen/OpticalFlow/P01_04/u\\frame_5521.jpg due to error: [Errno 2] No such file or directory: 'D:\\\\Datasets\\\\Datasets\\\\EPIC_Kitchen\\\\OpticalFlow\\\\P01_04\\\\u\\\\frame_5521.jpg'\n",
      "Skipping frame: D:/Datasets/Datasets/EPIC_Kitchen/OpticalFlow/P01_04/v\\frame_5521.jpg due to error: [Errno 2] No such file or directory: 'D:\\\\Datasets\\\\Datasets\\\\EPIC_Kitchen\\\\OpticalFlow\\\\P01_04\\\\v\\\\frame_5521.jpg'\n",
      "Skipping frame: D:/Datasets/Datasets/EPIC_Kitchen/OpticalFlow/P01_04/u\\frame_5526.jpg due to error: [Errno 2] No such file or directory: 'D:\\\\Datasets\\\\Datasets\\\\EPIC_Kitchen\\\\OpticalFlow\\\\P01_04\\\\u\\\\frame_5526.jpg'\n",
      "Skipping frame: D:/Datasets/Datasets/EPIC_Kitchen/OpticalFlow/P01_04/v\\frame_5526.jpg due to error: [Errno 2] No such file or directory: 'D:\\\\Datasets\\\\Datasets\\\\EPIC_Kitchen\\\\OpticalFlow\\\\P01_04\\\\v\\\\frame_5526.jpg'\n",
      "Skipping frame: D:/Datasets/Datasets/EPIC_Kitchen/OpticalFlow/P01_04/u\\frame_5531.jpg due to error: [Errno 2] No such file or directory: 'D:\\\\Datasets\\\\Datasets\\\\EPIC_Kitchen\\\\OpticalFlow\\\\P01_04\\\\u\\\\frame_5531.jpg'\n",
      "Skipping frame: D:/Datasets/Datasets/EPIC_Kitchen/OpticalFlow/P01_04/v\\frame_5531.jpg due to error: [Errno 2] No such file or directory: 'D:\\\\Datasets\\\\Datasets\\\\EPIC_Kitchen\\\\OpticalFlow\\\\P01_04\\\\v\\\\frame_5531.jpg'\n"
     ]
    },
    {
     "name": "stderr",
     "output_type": "stream",
     "text": [
      "\r",
      "Extracting Features with DEFT:  88%|█████████████████████████████████████████▎     | 1110/1262 [01:04<00:07, 21.29it/s]"
     ]
    },
    {
     "name": "stdout",
     "output_type": "stream",
     "text": [
      "Skipping frame: D:/Datasets/Datasets/EPIC_Kitchen/OpticalFlow/P01_04/u\\frame_5536.jpg due to error: [Errno 2] No such file or directory: 'D:\\\\Datasets\\\\Datasets\\\\EPIC_Kitchen\\\\OpticalFlow\\\\P01_04\\\\u\\\\frame_5536.jpg'\n",
      "Skipping frame: D:/Datasets/Datasets/EPIC_Kitchen/OpticalFlow/P01_04/v\\frame_5536.jpg due to error: [Errno 2] No such file or directory: 'D:\\\\Datasets\\\\Datasets\\\\EPIC_Kitchen\\\\OpticalFlow\\\\P01_04\\\\v\\\\frame_5536.jpg'\n",
      "Skipping frame: D:/Datasets/Datasets/EPIC_Kitchen/OpticalFlow/P01_04/u\\frame_5541.jpg due to error: [Errno 2] No such file or directory: 'D:\\\\Datasets\\\\Datasets\\\\EPIC_Kitchen\\\\OpticalFlow\\\\P01_04\\\\u\\\\frame_5541.jpg'\n",
      "Skipping frame: D:/Datasets/Datasets/EPIC_Kitchen/OpticalFlow/P01_04/v\\frame_5541.jpg due to error: [Errno 2] No such file or directory: 'D:\\\\Datasets\\\\Datasets\\\\EPIC_Kitchen\\\\OpticalFlow\\\\P01_04\\\\v\\\\frame_5541.jpg'\n",
      "Skipping frame: D:/Datasets/Datasets/EPIC_Kitchen/OpticalFlow/P01_04/u\\frame_5546.jpg due to error: [Errno 2] No such file or directory: 'D:\\\\Datasets\\\\Datasets\\\\EPIC_Kitchen\\\\OpticalFlow\\\\P01_04\\\\u\\\\frame_5546.jpg'\n",
      "Skipping frame: D:/Datasets/Datasets/EPIC_Kitchen/OpticalFlow/P01_04/v\\frame_5546.jpg due to error: [Errno 2] No such file or directory: 'D:\\\\Datasets\\\\Datasets\\\\EPIC_Kitchen\\\\OpticalFlow\\\\P01_04\\\\v\\\\frame_5546.jpg'\n",
      "Skipping frame: D:/Datasets/Datasets/EPIC_Kitchen/OpticalFlow/P01_04/u\\frame_5551.jpg due to error: [Errno 2] No such file or directory: 'D:\\\\Datasets\\\\Datasets\\\\EPIC_Kitchen\\\\OpticalFlow\\\\P01_04\\\\u\\\\frame_5551.jpg'\n",
      "Skipping frame: D:/Datasets/Datasets/EPIC_Kitchen/OpticalFlow/P01_04/v\\frame_5551.jpg due to error: [Errno 2] No such file or directory: 'D:\\\\Datasets\\\\Datasets\\\\EPIC_Kitchen\\\\OpticalFlow\\\\P01_04\\\\v\\\\frame_5551.jpg'\n",
      "Skipping frame: D:/Datasets/Datasets/EPIC_Kitchen/OpticalFlow/P01_04/u\\frame_5556.jpg due to error: [Errno 2] No such file or directory: 'D:\\\\Datasets\\\\Datasets\\\\EPIC_Kitchen\\\\OpticalFlow\\\\P01_04\\\\u\\\\frame_5556.jpg'\n",
      "Skipping frame: D:/Datasets/Datasets/EPIC_Kitchen/OpticalFlow/P01_04/v\\frame_5556.jpg due to error: [Errno 2] No such file or directory: 'D:\\\\Datasets\\\\Datasets\\\\EPIC_Kitchen\\\\OpticalFlow\\\\P01_04\\\\v\\\\frame_5556.jpg'\n"
     ]
    },
    {
     "name": "stderr",
     "output_type": "stream",
     "text": [
      "Extracting Features with DEFT:  88%|█████████████████████████████████████████▌     | 1116/1262 [01:04<00:06, 20.99it/s]"
     ]
    },
    {
     "name": "stdout",
     "output_type": "stream",
     "text": [
      "Skipping frame: D:/Datasets/Datasets/EPIC_Kitchen/OpticalFlow/P01_04/u\\frame_5561.jpg due to error: [Errno 2] No such file or directory: 'D:\\\\Datasets\\\\Datasets\\\\EPIC_Kitchen\\\\OpticalFlow\\\\P01_04\\\\u\\\\frame_5561.jpg'\n",
      "Skipping frame: D:/Datasets/Datasets/EPIC_Kitchen/OpticalFlow/P01_04/v\\frame_5561.jpg due to error: [Errno 2] No such file or directory: 'D:\\\\Datasets\\\\Datasets\\\\EPIC_Kitchen\\\\OpticalFlow\\\\P01_04\\\\v\\\\frame_5561.jpg'\n",
      "Skipping frame: D:/Datasets/Datasets/EPIC_Kitchen/OpticalFlow/P01_04/u\\frame_5566.jpg due to error: [Errno 2] No such file or directory: 'D:\\\\Datasets\\\\Datasets\\\\EPIC_Kitchen\\\\OpticalFlow\\\\P01_04\\\\u\\\\frame_5566.jpg'\n",
      "Skipping frame: D:/Datasets/Datasets/EPIC_Kitchen/OpticalFlow/P01_04/v\\frame_5566.jpg due to error: [Errno 2] No such file or directory: 'D:\\\\Datasets\\\\Datasets\\\\EPIC_Kitchen\\\\OpticalFlow\\\\P01_04\\\\v\\\\frame_5566.jpg'\n",
      "Skipping frame: D:/Datasets/Datasets/EPIC_Kitchen/OpticalFlow/P01_04/u\\frame_5571.jpg due to error: [Errno 2] No such file or directory: 'D:\\\\Datasets\\\\Datasets\\\\EPIC_Kitchen\\\\OpticalFlow\\\\P01_04\\\\u\\\\frame_5571.jpg'\n",
      "Skipping frame: D:/Datasets/Datasets/EPIC_Kitchen/OpticalFlow/P01_04/v\\frame_5571.jpg due to error: [Errno 2] No such file or directory: 'D:\\\\Datasets\\\\Datasets\\\\EPIC_Kitchen\\\\OpticalFlow\\\\P01_04\\\\v\\\\frame_5571.jpg'\n",
      "Skipping frame: D:/Datasets/Datasets/EPIC_Kitchen/OpticalFlow/P01_04/u\\frame_5576.jpg due to error: [Errno 2] No such file or directory: 'D:\\\\Datasets\\\\Datasets\\\\EPIC_Kitchen\\\\OpticalFlow\\\\P01_04\\\\u\\\\frame_5576.jpg'\n",
      "Skipping frame: D:/Datasets/Datasets/EPIC_Kitchen/OpticalFlow/P01_04/v\\frame_5576.jpg due to error: [Errno 2] No such file or directory: 'D:\\\\Datasets\\\\Datasets\\\\EPIC_Kitchen\\\\OpticalFlow\\\\P01_04\\\\v\\\\frame_5576.jpg'\n",
      "Skipping frame: D:/Datasets/Datasets/EPIC_Kitchen/OpticalFlow/P01_04/u\\frame_5581.jpg due to error: [Errno 2] No such file or directory: 'D:\\\\Datasets\\\\Datasets\\\\EPIC_Kitchen\\\\OpticalFlow\\\\P01_04\\\\u\\\\frame_5581.jpg'\n",
      "Skipping frame: D:/Datasets/Datasets/EPIC_Kitchen/OpticalFlow/P01_04/v\\frame_5581.jpg due to error: [Errno 2] No such file or directory: 'D:\\\\Datasets\\\\Datasets\\\\EPIC_Kitchen\\\\OpticalFlow\\\\P01_04\\\\v\\\\frame_5581.jpg'\n"
     ]
    },
    {
     "name": "stderr",
     "output_type": "stream",
     "text": [
      "Extracting Features with DEFT:  89%|█████████████████████████████████████████▊     | 1122/1262 [01:04<00:06, 20.69it/s]"
     ]
    },
    {
     "name": "stdout",
     "output_type": "stream",
     "text": [
      "Skipping frame: D:/Datasets/Datasets/EPIC_Kitchen/OpticalFlow/P01_04/u\\frame_5586.jpg due to error: [Errno 2] No such file or directory: 'D:\\\\Datasets\\\\Datasets\\\\EPIC_Kitchen\\\\OpticalFlow\\\\P01_04\\\\u\\\\frame_5586.jpg'\n",
      "Skipping frame: D:/Datasets/Datasets/EPIC_Kitchen/OpticalFlow/P01_04/v\\frame_5586.jpg due to error: [Errno 2] No such file or directory: 'D:\\\\Datasets\\\\Datasets\\\\EPIC_Kitchen\\\\OpticalFlow\\\\P01_04\\\\v\\\\frame_5586.jpg'\n",
      "Skipping frame: D:/Datasets/Datasets/EPIC_Kitchen/OpticalFlow/P01_04/u\\frame_5591.jpg due to error: [Errno 2] No such file or directory: 'D:\\\\Datasets\\\\Datasets\\\\EPIC_Kitchen\\\\OpticalFlow\\\\P01_04\\\\u\\\\frame_5591.jpg'\n",
      "Skipping frame: D:/Datasets/Datasets/EPIC_Kitchen/OpticalFlow/P01_04/v\\frame_5591.jpg due to error: [Errno 2] No such file or directory: 'D:\\\\Datasets\\\\Datasets\\\\EPIC_Kitchen\\\\OpticalFlow\\\\P01_04\\\\v\\\\frame_5591.jpg'\n",
      "Skipping frame: D:/Datasets/Datasets/EPIC_Kitchen/OpticalFlow/P01_04/u\\frame_5596.jpg due to error: [Errno 2] No such file or directory: 'D:\\\\Datasets\\\\Datasets\\\\EPIC_Kitchen\\\\OpticalFlow\\\\P01_04\\\\u\\\\frame_5596.jpg'\n",
      "Skipping frame: D:/Datasets/Datasets/EPIC_Kitchen/OpticalFlow/P01_04/v\\frame_5596.jpg due to error: [Errno 2] No such file or directory: 'D:\\\\Datasets\\\\Datasets\\\\EPIC_Kitchen\\\\OpticalFlow\\\\P01_04\\\\v\\\\frame_5596.jpg'\n",
      "Skipping frame: D:/Datasets/Datasets/EPIC_Kitchen/OpticalFlow/P01_04/u\\frame_5601.jpg due to error: [Errno 2] No such file or directory: 'D:\\\\Datasets\\\\Datasets\\\\EPIC_Kitchen\\\\OpticalFlow\\\\P01_04\\\\u\\\\frame_5601.jpg'\n",
      "Skipping frame: D:/Datasets/Datasets/EPIC_Kitchen/OpticalFlow/P01_04/v\\frame_5601.jpg due to error: [Errno 2] No such file or directory: 'D:\\\\Datasets\\\\Datasets\\\\EPIC_Kitchen\\\\OpticalFlow\\\\P01_04\\\\v\\\\frame_5601.jpg'\n",
      "Skipping frame: D:/Datasets/Datasets/EPIC_Kitchen/OpticalFlow/P01_04/u\\frame_5606.jpg due to error: [Errno 2] No such file or directory: 'D:\\\\Datasets\\\\Datasets\\\\EPIC_Kitchen\\\\OpticalFlow\\\\P01_04\\\\u\\\\frame_5606.jpg'\n",
      "Skipping frame: D:/Datasets/Datasets/EPIC_Kitchen/OpticalFlow/P01_04/v\\frame_5606.jpg due to error: [Errno 2] No such file or directory: 'D:\\\\Datasets\\\\Datasets\\\\EPIC_Kitchen\\\\OpticalFlow\\\\P01_04\\\\v\\\\frame_5606.jpg'\n"
     ]
    },
    {
     "name": "stderr",
     "output_type": "stream",
     "text": [
      "\r",
      "Extracting Features with DEFT:  89%|█████████████████████████████████████████▉     | 1125/1262 [01:05<00:06, 21.12it/s]"
     ]
    },
    {
     "name": "stdout",
     "output_type": "stream",
     "text": [
      "Skipping frame: D:/Datasets/Datasets/EPIC_Kitchen/OpticalFlow/P01_04/u\\frame_5611.jpg due to error: [Errno 2] No such file or directory: 'D:\\\\Datasets\\\\Datasets\\\\EPIC_Kitchen\\\\OpticalFlow\\\\P01_04\\\\u\\\\frame_5611.jpg'\n",
      "Skipping frame: D:/Datasets/Datasets/EPIC_Kitchen/OpticalFlow/P01_04/v\\frame_5611.jpg due to error: [Errno 2] No such file or directory: 'D:\\\\Datasets\\\\Datasets\\\\EPIC_Kitchen\\\\OpticalFlow\\\\P01_04\\\\v\\\\frame_5611.jpg'\n",
      "Skipping frame: D:/Datasets/Datasets/EPIC_Kitchen/OpticalFlow/P01_04/u\\frame_5616.jpg due to error: [Errno 2] No such file or directory: 'D:\\\\Datasets\\\\Datasets\\\\EPIC_Kitchen\\\\OpticalFlow\\\\P01_04\\\\u\\\\frame_5616.jpg'\n",
      "Skipping frame: D:/Datasets/Datasets/EPIC_Kitchen/OpticalFlow/P01_04/v\\frame_5616.jpg due to error: [Errno 2] No such file or directory: 'D:\\\\Datasets\\\\Datasets\\\\EPIC_Kitchen\\\\OpticalFlow\\\\P01_04\\\\v\\\\frame_5616.jpg'\n",
      "Skipping frame: D:/Datasets/Datasets/EPIC_Kitchen/OpticalFlow/P01_04/u\\frame_5621.jpg due to error: [Errno 2] No such file or directory: 'D:\\\\Datasets\\\\Datasets\\\\EPIC_Kitchen\\\\OpticalFlow\\\\P01_04\\\\u\\\\frame_5621.jpg'\n",
      "Skipping frame: D:/Datasets/Datasets/EPIC_Kitchen/OpticalFlow/P01_04/v\\frame_5621.jpg due to error: [Errno 2] No such file or directory: 'D:\\\\Datasets\\\\Datasets\\\\EPIC_Kitchen\\\\OpticalFlow\\\\P01_04\\\\v\\\\frame_5621.jpg'\n",
      "Skipping frame: D:/Datasets/Datasets/EPIC_Kitchen/OpticalFlow/P01_04/u\\frame_5626.jpg due to error: [Errno 2] No such file or directory: 'D:\\\\Datasets\\\\Datasets\\\\EPIC_Kitchen\\\\OpticalFlow\\\\P01_04\\\\u\\\\frame_5626.jpg'\n",
      "Skipping frame: D:/Datasets/Datasets/EPIC_Kitchen/OpticalFlow/P01_04/v\\frame_5626.jpg due to error: [Errno 2] No such file or directory: 'D:\\\\Datasets\\\\Datasets\\\\EPIC_Kitchen\\\\OpticalFlow\\\\P01_04\\\\v\\\\frame_5626.jpg'\n",
      "Skipping frame: D:/Datasets/Datasets/EPIC_Kitchen/OpticalFlow/P01_04/u\\frame_5631.jpg due to error: [Errno 2] No such file or directory: 'D:\\\\Datasets\\\\Datasets\\\\EPIC_Kitchen\\\\OpticalFlow\\\\P01_04\\\\u\\\\frame_5631.jpg'\n",
      "Skipping frame: D:/Datasets/Datasets/EPIC_Kitchen/OpticalFlow/P01_04/v\\frame_5631.jpg due to error: [Errno 2] No such file or directory: 'D:\\\\Datasets\\\\Datasets\\\\EPIC_Kitchen\\\\OpticalFlow\\\\P01_04\\\\v\\\\frame_5631.jpg'\n"
     ]
    },
    {
     "name": "stderr",
     "output_type": "stream",
     "text": [
      "Extracting Features with DEFT:  90%|██████████████████████████████████████████     | 1131/1262 [01:05<00:06, 21.72it/s]"
     ]
    },
    {
     "name": "stdout",
     "output_type": "stream",
     "text": [
      "Skipping frame: D:/Datasets/Datasets/EPIC_Kitchen/OpticalFlow/P01_04/u\\frame_5636.jpg due to error: [Errno 2] No such file or directory: 'D:\\\\Datasets\\\\Datasets\\\\EPIC_Kitchen\\\\OpticalFlow\\\\P01_04\\\\u\\\\frame_5636.jpg'\n",
      "Skipping frame: D:/Datasets/Datasets/EPIC_Kitchen/OpticalFlow/P01_04/v\\frame_5636.jpg due to error: [Errno 2] No such file or directory: 'D:\\\\Datasets\\\\Datasets\\\\EPIC_Kitchen\\\\OpticalFlow\\\\P01_04\\\\v\\\\frame_5636.jpg'\n",
      "Skipping frame: D:/Datasets/Datasets/EPIC_Kitchen/OpticalFlow/P01_04/u\\frame_5641.jpg due to error: [Errno 2] No such file or directory: 'D:\\\\Datasets\\\\Datasets\\\\EPIC_Kitchen\\\\OpticalFlow\\\\P01_04\\\\u\\\\frame_5641.jpg'\n",
      "Skipping frame: D:/Datasets/Datasets/EPIC_Kitchen/OpticalFlow/P01_04/v\\frame_5641.jpg due to error: [Errno 2] No such file or directory: 'D:\\\\Datasets\\\\Datasets\\\\EPIC_Kitchen\\\\OpticalFlow\\\\P01_04\\\\v\\\\frame_5641.jpg'\n",
      "Skipping frame: D:/Datasets/Datasets/EPIC_Kitchen/OpticalFlow/P01_04/u\\frame_5646.jpg due to error: [Errno 2] No such file or directory: 'D:\\\\Datasets\\\\Datasets\\\\EPIC_Kitchen\\\\OpticalFlow\\\\P01_04\\\\u\\\\frame_5646.jpg'\n",
      "Skipping frame: D:/Datasets/Datasets/EPIC_Kitchen/OpticalFlow/P01_04/v\\frame_5646.jpg due to error: [Errno 2] No such file or directory: 'D:\\\\Datasets\\\\Datasets\\\\EPIC_Kitchen\\\\OpticalFlow\\\\P01_04\\\\v\\\\frame_5646.jpg'\n",
      "Skipping frame: D:/Datasets/Datasets/EPIC_Kitchen/OpticalFlow/P01_04/u\\frame_5651.jpg due to error: [Errno 2] No such file or directory: 'D:\\\\Datasets\\\\Datasets\\\\EPIC_Kitchen\\\\OpticalFlow\\\\P01_04\\\\u\\\\frame_5651.jpg'\n",
      "Skipping frame: D:/Datasets/Datasets/EPIC_Kitchen/OpticalFlow/P01_04/v\\frame_5651.jpg due to error: [Errno 2] No such file or directory: 'D:\\\\Datasets\\\\Datasets\\\\EPIC_Kitchen\\\\OpticalFlow\\\\P01_04\\\\v\\\\frame_5651.jpg'\n",
      "Skipping frame: D:/Datasets/Datasets/EPIC_Kitchen/OpticalFlow/P01_04/u\\frame_5656.jpg due to error: [Errno 2] No such file or directory: 'D:\\\\Datasets\\\\Datasets\\\\EPIC_Kitchen\\\\OpticalFlow\\\\P01_04\\\\u\\\\frame_5656.jpg'\n",
      "Skipping frame: D:/Datasets/Datasets/EPIC_Kitchen/OpticalFlow/P01_04/v\\frame_5656.jpg due to error: [Errno 2] No such file or directory: 'D:\\\\Datasets\\\\Datasets\\\\EPIC_Kitchen\\\\OpticalFlow\\\\P01_04\\\\v\\\\frame_5656.jpg'\n"
     ]
    },
    {
     "name": "stderr",
     "output_type": "stream",
     "text": [
      "Extracting Features with DEFT:  90%|██████████████████████████████████████████▎    | 1137/1262 [01:05<00:05, 21.95it/s]"
     ]
    },
    {
     "name": "stdout",
     "output_type": "stream",
     "text": [
      "Skipping frame: D:/Datasets/Datasets/EPIC_Kitchen/OpticalFlow/P01_04/u\\frame_5661.jpg due to error: [Errno 2] No such file or directory: 'D:\\\\Datasets\\\\Datasets\\\\EPIC_Kitchen\\\\OpticalFlow\\\\P01_04\\\\u\\\\frame_5661.jpg'\n",
      "Skipping frame: D:/Datasets/Datasets/EPIC_Kitchen/OpticalFlow/P01_04/v\\frame_5661.jpg due to error: [Errno 2] No such file or directory: 'D:\\\\Datasets\\\\Datasets\\\\EPIC_Kitchen\\\\OpticalFlow\\\\P01_04\\\\v\\\\frame_5661.jpg'\n",
      "Skipping frame: D:/Datasets/Datasets/EPIC_Kitchen/OpticalFlow/P01_04/u\\frame_5666.jpg due to error: [Errno 2] No such file or directory: 'D:\\\\Datasets\\\\Datasets\\\\EPIC_Kitchen\\\\OpticalFlow\\\\P01_04\\\\u\\\\frame_5666.jpg'\n",
      "Skipping frame: D:/Datasets/Datasets/EPIC_Kitchen/OpticalFlow/P01_04/v\\frame_5666.jpg due to error: [Errno 2] No such file or directory: 'D:\\\\Datasets\\\\Datasets\\\\EPIC_Kitchen\\\\OpticalFlow\\\\P01_04\\\\v\\\\frame_5666.jpg'\n",
      "Skipping frame: D:/Datasets/Datasets/EPIC_Kitchen/OpticalFlow/P01_04/u\\frame_5671.jpg due to error: [Errno 2] No such file or directory: 'D:\\\\Datasets\\\\Datasets\\\\EPIC_Kitchen\\\\OpticalFlow\\\\P01_04\\\\u\\\\frame_5671.jpg'\n",
      "Skipping frame: D:/Datasets/Datasets/EPIC_Kitchen/OpticalFlow/P01_04/v\\frame_5671.jpg due to error: [Errno 2] No such file or directory: 'D:\\\\Datasets\\\\Datasets\\\\EPIC_Kitchen\\\\OpticalFlow\\\\P01_04\\\\v\\\\frame_5671.jpg'\n",
      "Skipping frame: D:/Datasets/Datasets/EPIC_Kitchen/OpticalFlow/P01_04/u\\frame_5676.jpg due to error: [Errno 2] No such file or directory: 'D:\\\\Datasets\\\\Datasets\\\\EPIC_Kitchen\\\\OpticalFlow\\\\P01_04\\\\u\\\\frame_5676.jpg'\n",
      "Skipping frame: D:/Datasets/Datasets/EPIC_Kitchen/OpticalFlow/P01_04/v\\frame_5676.jpg due to error: [Errno 2] No such file or directory: 'D:\\\\Datasets\\\\Datasets\\\\EPIC_Kitchen\\\\OpticalFlow\\\\P01_04\\\\v\\\\frame_5676.jpg'\n",
      "Skipping frame: D:/Datasets/Datasets/EPIC_Kitchen/OpticalFlow/P01_04/u\\frame_5681.jpg due to error: [Errno 2] No such file or directory: 'D:\\\\Datasets\\\\Datasets\\\\EPIC_Kitchen\\\\OpticalFlow\\\\P01_04\\\\u\\\\frame_5681.jpg'\n",
      "Skipping frame: D:/Datasets/Datasets/EPIC_Kitchen/OpticalFlow/P01_04/v\\frame_5681.jpg due to error: [Errno 2] No such file or directory: 'D:\\\\Datasets\\\\Datasets\\\\EPIC_Kitchen\\\\OpticalFlow\\\\P01_04\\\\v\\\\frame_5681.jpg'\n"
     ]
    },
    {
     "name": "stderr",
     "output_type": "stream",
     "text": [
      "\r",
      "Extracting Features with DEFT:  90%|██████████████████████████████████████████▍    | 1140/1262 [01:05<00:05, 22.01it/s]"
     ]
    },
    {
     "name": "stdout",
     "output_type": "stream",
     "text": [
      "Skipping frame: D:/Datasets/Datasets/EPIC_Kitchen/OpticalFlow/P01_04/u\\frame_5686.jpg due to error: [Errno 2] No such file or directory: 'D:\\\\Datasets\\\\Datasets\\\\EPIC_Kitchen\\\\OpticalFlow\\\\P01_04\\\\u\\\\frame_5686.jpg'\n",
      "Skipping frame: D:/Datasets/Datasets/EPIC_Kitchen/OpticalFlow/P01_04/v\\frame_5686.jpg due to error: [Errno 2] No such file or directory: 'D:\\\\Datasets\\\\Datasets\\\\EPIC_Kitchen\\\\OpticalFlow\\\\P01_04\\\\v\\\\frame_5686.jpg'\n",
      "Skipping frame: D:/Datasets/Datasets/EPIC_Kitchen/OpticalFlow/P01_04/u\\frame_5691.jpg due to error: [Errno 2] No such file or directory: 'D:\\\\Datasets\\\\Datasets\\\\EPIC_Kitchen\\\\OpticalFlow\\\\P01_04\\\\u\\\\frame_5691.jpg'\n",
      "Skipping frame: D:/Datasets/Datasets/EPIC_Kitchen/OpticalFlow/P01_04/v\\frame_5691.jpg due to error: [Errno 2] No such file or directory: 'D:\\\\Datasets\\\\Datasets\\\\EPIC_Kitchen\\\\OpticalFlow\\\\P01_04\\\\v\\\\frame_5691.jpg'\n",
      "Skipping frame: D:/Datasets/Datasets/EPIC_Kitchen/OpticalFlow/P01_04/u\\frame_5696.jpg due to error: [Errno 2] No such file or directory: 'D:\\\\Datasets\\\\Datasets\\\\EPIC_Kitchen\\\\OpticalFlow\\\\P01_04\\\\u\\\\frame_5696.jpg'\n",
      "Skipping frame: D:/Datasets/Datasets/EPIC_Kitchen/OpticalFlow/P01_04/v\\frame_5696.jpg due to error: [Errno 2] No such file or directory: 'D:\\\\Datasets\\\\Datasets\\\\EPIC_Kitchen\\\\OpticalFlow\\\\P01_04\\\\v\\\\frame_5696.jpg'\n",
      "Skipping frame: D:/Datasets/Datasets/EPIC_Kitchen/OpticalFlow/P01_04/u\\frame_5701.jpg due to error: [Errno 2] No such file or directory: 'D:\\\\Datasets\\\\Datasets\\\\EPIC_Kitchen\\\\OpticalFlow\\\\P01_04\\\\u\\\\frame_5701.jpg'\n",
      "Skipping frame: D:/Datasets/Datasets/EPIC_Kitchen/OpticalFlow/P01_04/v\\frame_5701.jpg due to error: [Errno 2] No such file or directory: 'D:\\\\Datasets\\\\Datasets\\\\EPIC_Kitchen\\\\OpticalFlow\\\\P01_04\\\\v\\\\frame_5701.jpg'\n",
      "Skipping frame: D:/Datasets/Datasets/EPIC_Kitchen/OpticalFlow/P01_04/u\\frame_5706.jpg due to error: [Errno 2] No such file or directory: 'D:\\\\Datasets\\\\Datasets\\\\EPIC_Kitchen\\\\OpticalFlow\\\\P01_04\\\\u\\\\frame_5706.jpg'\n",
      "Skipping frame: D:/Datasets/Datasets/EPIC_Kitchen/OpticalFlow/P01_04/v\\frame_5706.jpg due to error: [Errno 2] No such file or directory: 'D:\\\\Datasets\\\\Datasets\\\\EPIC_Kitchen\\\\OpticalFlow\\\\P01_04\\\\v\\\\frame_5706.jpg'\n"
     ]
    },
    {
     "name": "stderr",
     "output_type": "stream",
     "text": [
      "Extracting Features with DEFT:  91%|██████████████████████████████████████████▋    | 1146/1262 [01:05<00:05, 22.27it/s]"
     ]
    },
    {
     "name": "stdout",
     "output_type": "stream",
     "text": [
      "Skipping frame: D:/Datasets/Datasets/EPIC_Kitchen/OpticalFlow/P01_04/u\\frame_5711.jpg due to error: [Errno 2] No such file or directory: 'D:\\\\Datasets\\\\Datasets\\\\EPIC_Kitchen\\\\OpticalFlow\\\\P01_04\\\\u\\\\frame_5711.jpg'\n",
      "Skipping frame: D:/Datasets/Datasets/EPIC_Kitchen/OpticalFlow/P01_04/v\\frame_5711.jpg due to error: [Errno 2] No such file or directory: 'D:\\\\Datasets\\\\Datasets\\\\EPIC_Kitchen\\\\OpticalFlow\\\\P01_04\\\\v\\\\frame_5711.jpg'\n",
      "Skipping frame: D:/Datasets/Datasets/EPIC_Kitchen/OpticalFlow/P01_04/u\\frame_5716.jpg due to error: [Errno 2] No such file or directory: 'D:\\\\Datasets\\\\Datasets\\\\EPIC_Kitchen\\\\OpticalFlow\\\\P01_04\\\\u\\\\frame_5716.jpg'\n",
      "Skipping frame: D:/Datasets/Datasets/EPIC_Kitchen/OpticalFlow/P01_04/v\\frame_5716.jpg due to error: [Errno 2] No such file or directory: 'D:\\\\Datasets\\\\Datasets\\\\EPIC_Kitchen\\\\OpticalFlow\\\\P01_04\\\\v\\\\frame_5716.jpg'\n",
      "Skipping frame: D:/Datasets/Datasets/EPIC_Kitchen/OpticalFlow/P01_04/u\\frame_5721.jpg due to error: [Errno 2] No such file or directory: 'D:\\\\Datasets\\\\Datasets\\\\EPIC_Kitchen\\\\OpticalFlow\\\\P01_04\\\\u\\\\frame_5721.jpg'\n",
      "Skipping frame: D:/Datasets/Datasets/EPIC_Kitchen/OpticalFlow/P01_04/v\\frame_5721.jpg due to error: [Errno 2] No such file or directory: 'D:\\\\Datasets\\\\Datasets\\\\EPIC_Kitchen\\\\OpticalFlow\\\\P01_04\\\\v\\\\frame_5721.jpg'\n",
      "Skipping frame: D:/Datasets/Datasets/EPIC_Kitchen/OpticalFlow/P01_04/u\\frame_5726.jpg due to error: [Errno 2] No such file or directory: 'D:\\\\Datasets\\\\Datasets\\\\EPIC_Kitchen\\\\OpticalFlow\\\\P01_04\\\\u\\\\frame_5726.jpg'\n",
      "Skipping frame: D:/Datasets/Datasets/EPIC_Kitchen/OpticalFlow/P01_04/v\\frame_5726.jpg due to error: [Errno 2] No such file or directory: 'D:\\\\Datasets\\\\Datasets\\\\EPIC_Kitchen\\\\OpticalFlow\\\\P01_04\\\\v\\\\frame_5726.jpg'\n",
      "Skipping frame: D:/Datasets/Datasets/EPIC_Kitchen/OpticalFlow/P01_04/u\\frame_5731.jpg due to error: [Errno 2] No such file or directory: 'D:\\\\Datasets\\\\Datasets\\\\EPIC_Kitchen\\\\OpticalFlow\\\\P01_04\\\\u\\\\frame_5731.jpg'\n",
      "Skipping frame: D:/Datasets/Datasets/EPIC_Kitchen/OpticalFlow/P01_04/v\\frame_5731.jpg due to error: [Errno 2] No such file or directory: 'D:\\\\Datasets\\\\Datasets\\\\EPIC_Kitchen\\\\OpticalFlow\\\\P01_04\\\\v\\\\frame_5731.jpg'\n"
     ]
    },
    {
     "name": "stderr",
     "output_type": "stream",
     "text": [
      "Extracting Features with DEFT:  91%|██████████████████████████████████████████▉    | 1152/1262 [01:06<00:05, 21.97it/s]"
     ]
    },
    {
     "name": "stdout",
     "output_type": "stream",
     "text": [
      "Skipping frame: D:/Datasets/Datasets/EPIC_Kitchen/OpticalFlow/P01_04/u\\frame_5736.jpg due to error: [Errno 2] No such file or directory: 'D:\\\\Datasets\\\\Datasets\\\\EPIC_Kitchen\\\\OpticalFlow\\\\P01_04\\\\u\\\\frame_5736.jpg'\n",
      "Skipping frame: D:/Datasets/Datasets/EPIC_Kitchen/OpticalFlow/P01_04/v\\frame_5736.jpg due to error: [Errno 2] No such file or directory: 'D:\\\\Datasets\\\\Datasets\\\\EPIC_Kitchen\\\\OpticalFlow\\\\P01_04\\\\v\\\\frame_5736.jpg'\n",
      "Skipping frame: D:/Datasets/Datasets/EPIC_Kitchen/OpticalFlow/P01_04/u\\frame_5741.jpg due to error: [Errno 2] No such file or directory: 'D:\\\\Datasets\\\\Datasets\\\\EPIC_Kitchen\\\\OpticalFlow\\\\P01_04\\\\u\\\\frame_5741.jpg'\n",
      "Skipping frame: D:/Datasets/Datasets/EPIC_Kitchen/OpticalFlow/P01_04/v\\frame_5741.jpg due to error: [Errno 2] No such file or directory: 'D:\\\\Datasets\\\\Datasets\\\\EPIC_Kitchen\\\\OpticalFlow\\\\P01_04\\\\v\\\\frame_5741.jpg'\n",
      "Skipping frame: D:/Datasets/Datasets/EPIC_Kitchen/OpticalFlow/P01_04/u\\frame_5746.jpg due to error: [Errno 2] No such file or directory: 'D:\\\\Datasets\\\\Datasets\\\\EPIC_Kitchen\\\\OpticalFlow\\\\P01_04\\\\u\\\\frame_5746.jpg'\n",
      "Skipping frame: D:/Datasets/Datasets/EPIC_Kitchen/OpticalFlow/P01_04/v\\frame_5746.jpg due to error: [Errno 2] No such file or directory: 'D:\\\\Datasets\\\\Datasets\\\\EPIC_Kitchen\\\\OpticalFlow\\\\P01_04\\\\v\\\\frame_5746.jpg'\n",
      "Skipping frame: D:/Datasets/Datasets/EPIC_Kitchen/OpticalFlow/P01_04/u\\frame_5751.jpg due to error: [Errno 2] No such file or directory: 'D:\\\\Datasets\\\\Datasets\\\\EPIC_Kitchen\\\\OpticalFlow\\\\P01_04\\\\u\\\\frame_5751.jpg'\n",
      "Skipping frame: D:/Datasets/Datasets/EPIC_Kitchen/OpticalFlow/P01_04/v\\frame_5751.jpg due to error: [Errno 2] No such file or directory: 'D:\\\\Datasets\\\\Datasets\\\\EPIC_Kitchen\\\\OpticalFlow\\\\P01_04\\\\v\\\\frame_5751.jpg'\n",
      "Skipping frame: D:/Datasets/Datasets/EPIC_Kitchen/OpticalFlow/P01_04/u\\frame_5756.jpg due to error: [Errno 2] No such file or directory: 'D:\\\\Datasets\\\\Datasets\\\\EPIC_Kitchen\\\\OpticalFlow\\\\P01_04\\\\u\\\\frame_5756.jpg'\n",
      "Skipping frame: D:/Datasets/Datasets/EPIC_Kitchen/OpticalFlow/P01_04/v\\frame_5756.jpg due to error: [Errno 2] No such file or directory: 'D:\\\\Datasets\\\\Datasets\\\\EPIC_Kitchen\\\\OpticalFlow\\\\P01_04\\\\v\\\\frame_5756.jpg'\n"
     ]
    },
    {
     "name": "stderr",
     "output_type": "stream",
     "text": [
      "\r",
      "Extracting Features with DEFT:  92%|███████████████████████████████████████████    | 1155/1262 [01:06<00:04, 22.00it/s]"
     ]
    },
    {
     "name": "stdout",
     "output_type": "stream",
     "text": [
      "Skipping frame: D:/Datasets/Datasets/EPIC_Kitchen/OpticalFlow/P01_04/u\\frame_5761.jpg due to error: [Errno 2] No such file or directory: 'D:\\\\Datasets\\\\Datasets\\\\EPIC_Kitchen\\\\OpticalFlow\\\\P01_04\\\\u\\\\frame_5761.jpg'\n",
      "Skipping frame: D:/Datasets/Datasets/EPIC_Kitchen/OpticalFlow/P01_04/v\\frame_5761.jpg due to error: [Errno 2] No such file or directory: 'D:\\\\Datasets\\\\Datasets\\\\EPIC_Kitchen\\\\OpticalFlow\\\\P01_04\\\\v\\\\frame_5761.jpg'\n",
      "Skipping frame: D:/Datasets/Datasets/EPIC_Kitchen/OpticalFlow/P01_04/u\\frame_5766.jpg due to error: [Errno 2] No such file or directory: 'D:\\\\Datasets\\\\Datasets\\\\EPIC_Kitchen\\\\OpticalFlow\\\\P01_04\\\\u\\\\frame_5766.jpg'\n",
      "Skipping frame: D:/Datasets/Datasets/EPIC_Kitchen/OpticalFlow/P01_04/v\\frame_5766.jpg due to error: [Errno 2] No such file or directory: 'D:\\\\Datasets\\\\Datasets\\\\EPIC_Kitchen\\\\OpticalFlow\\\\P01_04\\\\v\\\\frame_5766.jpg'\n",
      "Skipping frame: D:/Datasets/Datasets/EPIC_Kitchen/OpticalFlow/P01_04/u\\frame_5771.jpg due to error: [Errno 2] No such file or directory: 'D:\\\\Datasets\\\\Datasets\\\\EPIC_Kitchen\\\\OpticalFlow\\\\P01_04\\\\u\\\\frame_5771.jpg'\n",
      "Skipping frame: D:/Datasets/Datasets/EPIC_Kitchen/OpticalFlow/P01_04/v\\frame_5771.jpg due to error: [Errno 2] No such file or directory: 'D:\\\\Datasets\\\\Datasets\\\\EPIC_Kitchen\\\\OpticalFlow\\\\P01_04\\\\v\\\\frame_5771.jpg'\n",
      "Skipping frame: D:/Datasets/Datasets/EPIC_Kitchen/OpticalFlow/P01_04/u\\frame_5776.jpg due to error: [Errno 2] No such file or directory: 'D:\\\\Datasets\\\\Datasets\\\\EPIC_Kitchen\\\\OpticalFlow\\\\P01_04\\\\u\\\\frame_5776.jpg'\n",
      "Skipping frame: D:/Datasets/Datasets/EPIC_Kitchen/OpticalFlow/P01_04/v\\frame_5776.jpg due to error: [Errno 2] No such file or directory: 'D:\\\\Datasets\\\\Datasets\\\\EPIC_Kitchen\\\\OpticalFlow\\\\P01_04\\\\v\\\\frame_5776.jpg'\n",
      "Skipping frame: D:/Datasets/Datasets/EPIC_Kitchen/OpticalFlow/P01_04/u\\frame_5781.jpg due to error: [Errno 2] No such file or directory: 'D:\\\\Datasets\\\\Datasets\\\\EPIC_Kitchen\\\\OpticalFlow\\\\P01_04\\\\u\\\\frame_5781.jpg'\n",
      "Skipping frame: D:/Datasets/Datasets/EPIC_Kitchen/OpticalFlow/P01_04/v\\frame_5781.jpg due to error: [Errno 2] No such file or directory: 'D:\\\\Datasets\\\\Datasets\\\\EPIC_Kitchen\\\\OpticalFlow\\\\P01_04\\\\v\\\\frame_5781.jpg'\n"
     ]
    },
    {
     "name": "stderr",
     "output_type": "stream",
     "text": [
      "Extracting Features with DEFT:  92%|███████████████████████████████████████████▏   | 1161/1262 [01:06<00:04, 22.11it/s]"
     ]
    },
    {
     "name": "stdout",
     "output_type": "stream",
     "text": [
      "Skipping frame: D:/Datasets/Datasets/EPIC_Kitchen/OpticalFlow/P01_04/u\\frame_5786.jpg due to error: [Errno 2] No such file or directory: 'D:\\\\Datasets\\\\Datasets\\\\EPIC_Kitchen\\\\OpticalFlow\\\\P01_04\\\\u\\\\frame_5786.jpg'\n",
      "Skipping frame: D:/Datasets/Datasets/EPIC_Kitchen/OpticalFlow/P01_04/v\\frame_5786.jpg due to error: [Errno 2] No such file or directory: 'D:\\\\Datasets\\\\Datasets\\\\EPIC_Kitchen\\\\OpticalFlow\\\\P01_04\\\\v\\\\frame_5786.jpg'\n",
      "Skipping frame: D:/Datasets/Datasets/EPIC_Kitchen/OpticalFlow/P01_04/u\\frame_5791.jpg due to error: [Errno 2] No such file or directory: 'D:\\\\Datasets\\\\Datasets\\\\EPIC_Kitchen\\\\OpticalFlow\\\\P01_04\\\\u\\\\frame_5791.jpg'\n",
      "Skipping frame: D:/Datasets/Datasets/EPIC_Kitchen/OpticalFlow/P01_04/v\\frame_5791.jpg due to error: [Errno 2] No such file or directory: 'D:\\\\Datasets\\\\Datasets\\\\EPIC_Kitchen\\\\OpticalFlow\\\\P01_04\\\\v\\\\frame_5791.jpg'\n",
      "Skipping frame: D:/Datasets/Datasets/EPIC_Kitchen/OpticalFlow/P01_04/u\\frame_5796.jpg due to error: [Errno 2] No such file or directory: 'D:\\\\Datasets\\\\Datasets\\\\EPIC_Kitchen\\\\OpticalFlow\\\\P01_04\\\\u\\\\frame_5796.jpg'\n",
      "Skipping frame: D:/Datasets/Datasets/EPIC_Kitchen/OpticalFlow/P01_04/v\\frame_5796.jpg due to error: [Errno 2] No such file or directory: 'D:\\\\Datasets\\\\Datasets\\\\EPIC_Kitchen\\\\OpticalFlow\\\\P01_04\\\\v\\\\frame_5796.jpg'\n",
      "Skipping frame: D:/Datasets/Datasets/EPIC_Kitchen/OpticalFlow/P01_04/u\\frame_5801.jpg due to error: [Errno 2] No such file or directory: 'D:\\\\Datasets\\\\Datasets\\\\EPIC_Kitchen\\\\OpticalFlow\\\\P01_04\\\\u\\\\frame_5801.jpg'\n",
      "Skipping frame: D:/Datasets/Datasets/EPIC_Kitchen/OpticalFlow/P01_04/v\\frame_5801.jpg due to error: [Errno 2] No such file or directory: 'D:\\\\Datasets\\\\Datasets\\\\EPIC_Kitchen\\\\OpticalFlow\\\\P01_04\\\\v\\\\frame_5801.jpg'\n",
      "Skipping frame: D:/Datasets/Datasets/EPIC_Kitchen/OpticalFlow/P01_04/u\\frame_5806.jpg due to error: [Errno 2] No such file or directory: 'D:\\\\Datasets\\\\Datasets\\\\EPIC_Kitchen\\\\OpticalFlow\\\\P01_04\\\\u\\\\frame_5806.jpg'\n",
      "Skipping frame: D:/Datasets/Datasets/EPIC_Kitchen/OpticalFlow/P01_04/v\\frame_5806.jpg due to error: [Errno 2] No such file or directory: 'D:\\\\Datasets\\\\Datasets\\\\EPIC_Kitchen\\\\OpticalFlow\\\\P01_04\\\\v\\\\frame_5806.jpg'\n"
     ]
    },
    {
     "name": "stderr",
     "output_type": "stream",
     "text": [
      "Extracting Features with DEFT:  92%|███████████████████████████████████████████▍   | 1167/1262 [01:06<00:04, 22.42it/s]"
     ]
    },
    {
     "name": "stdout",
     "output_type": "stream",
     "text": [
      "Skipping frame: D:/Datasets/Datasets/EPIC_Kitchen/OpticalFlow/P01_04/u\\frame_5811.jpg due to error: [Errno 2] No such file or directory: 'D:\\\\Datasets\\\\Datasets\\\\EPIC_Kitchen\\\\OpticalFlow\\\\P01_04\\\\u\\\\frame_5811.jpg'\n",
      "Skipping frame: D:/Datasets/Datasets/EPIC_Kitchen/OpticalFlow/P01_04/v\\frame_5811.jpg due to error: [Errno 2] No such file or directory: 'D:\\\\Datasets\\\\Datasets\\\\EPIC_Kitchen\\\\OpticalFlow\\\\P01_04\\\\v\\\\frame_5811.jpg'\n",
      "Skipping frame: D:/Datasets/Datasets/EPIC_Kitchen/OpticalFlow/P01_04/u\\frame_5816.jpg due to error: [Errno 2] No such file or directory: 'D:\\\\Datasets\\\\Datasets\\\\EPIC_Kitchen\\\\OpticalFlow\\\\P01_04\\\\u\\\\frame_5816.jpg'\n",
      "Skipping frame: D:/Datasets/Datasets/EPIC_Kitchen/OpticalFlow/P01_04/v\\frame_5816.jpg due to error: [Errno 2] No such file or directory: 'D:\\\\Datasets\\\\Datasets\\\\EPIC_Kitchen\\\\OpticalFlow\\\\P01_04\\\\v\\\\frame_5816.jpg'\n",
      "Skipping frame: D:/Datasets/Datasets/EPIC_Kitchen/OpticalFlow/P01_04/u\\frame_5821.jpg due to error: [Errno 2] No such file or directory: 'D:\\\\Datasets\\\\Datasets\\\\EPIC_Kitchen\\\\OpticalFlow\\\\P01_04\\\\u\\\\frame_5821.jpg'\n",
      "Skipping frame: D:/Datasets/Datasets/EPIC_Kitchen/OpticalFlow/P01_04/v\\frame_5821.jpg due to error: [Errno 2] No such file or directory: 'D:\\\\Datasets\\\\Datasets\\\\EPIC_Kitchen\\\\OpticalFlow\\\\P01_04\\\\v\\\\frame_5821.jpg'\n",
      "Skipping frame: D:/Datasets/Datasets/EPIC_Kitchen/OpticalFlow/P01_04/u\\frame_5826.jpg due to error: [Errno 2] No such file or directory: 'D:\\\\Datasets\\\\Datasets\\\\EPIC_Kitchen\\\\OpticalFlow\\\\P01_04\\\\u\\\\frame_5826.jpg'\n",
      "Skipping frame: D:/Datasets/Datasets/EPIC_Kitchen/OpticalFlow/P01_04/v\\frame_5826.jpg due to error: [Errno 2] No such file or directory: 'D:\\\\Datasets\\\\Datasets\\\\EPIC_Kitchen\\\\OpticalFlow\\\\P01_04\\\\v\\\\frame_5826.jpg'\n",
      "Skipping frame: D:/Datasets/Datasets/EPIC_Kitchen/OpticalFlow/P01_04/u\\frame_5831.jpg due to error: [Errno 2] No such file or directory: 'D:\\\\Datasets\\\\Datasets\\\\EPIC_Kitchen\\\\OpticalFlow\\\\P01_04\\\\u\\\\frame_5831.jpg'\n",
      "Skipping frame: D:/Datasets/Datasets/EPIC_Kitchen/OpticalFlow/P01_04/v\\frame_5831.jpg due to error: [Errno 2] No such file or directory: 'D:\\\\Datasets\\\\Datasets\\\\EPIC_Kitchen\\\\OpticalFlow\\\\P01_04\\\\v\\\\frame_5831.jpg'\n"
     ]
    },
    {
     "name": "stderr",
     "output_type": "stream",
     "text": [
      "\r",
      "Extracting Features with DEFT:  93%|███████████████████████████████████████████▌   | 1170/1262 [01:07<00:04, 22.67it/s]"
     ]
    },
    {
     "name": "stdout",
     "output_type": "stream",
     "text": [
      "Skipping frame: D:/Datasets/Datasets/EPIC_Kitchen/OpticalFlow/P01_04/u\\frame_5836.jpg due to error: [Errno 2] No such file or directory: 'D:\\\\Datasets\\\\Datasets\\\\EPIC_Kitchen\\\\OpticalFlow\\\\P01_04\\\\u\\\\frame_5836.jpg'\n",
      "Skipping frame: D:/Datasets/Datasets/EPIC_Kitchen/OpticalFlow/P01_04/v\\frame_5836.jpg due to error: [Errno 2] No such file or directory: 'D:\\\\Datasets\\\\Datasets\\\\EPIC_Kitchen\\\\OpticalFlow\\\\P01_04\\\\v\\\\frame_5836.jpg'\n",
      "Skipping frame: D:/Datasets/Datasets/EPIC_Kitchen/OpticalFlow/P01_04/u\\frame_5841.jpg due to error: [Errno 2] No such file or directory: 'D:\\\\Datasets\\\\Datasets\\\\EPIC_Kitchen\\\\OpticalFlow\\\\P01_04\\\\u\\\\frame_5841.jpg'\n",
      "Skipping frame: D:/Datasets/Datasets/EPIC_Kitchen/OpticalFlow/P01_04/v\\frame_5841.jpg due to error: [Errno 2] No such file or directory: 'D:\\\\Datasets\\\\Datasets\\\\EPIC_Kitchen\\\\OpticalFlow\\\\P01_04\\\\v\\\\frame_5841.jpg'\n",
      "Skipping frame: D:/Datasets/Datasets/EPIC_Kitchen/OpticalFlow/P01_04/u\\frame_5846.jpg due to error: [Errno 2] No such file or directory: 'D:\\\\Datasets\\\\Datasets\\\\EPIC_Kitchen\\\\OpticalFlow\\\\P01_04\\\\u\\\\frame_5846.jpg'\n",
      "Skipping frame: D:/Datasets/Datasets/EPIC_Kitchen/OpticalFlow/P01_04/v\\frame_5846.jpg due to error: [Errno 2] No such file or directory: 'D:\\\\Datasets\\\\Datasets\\\\EPIC_Kitchen\\\\OpticalFlow\\\\P01_04\\\\v\\\\frame_5846.jpg'\n",
      "Skipping frame: D:/Datasets/Datasets/EPIC_Kitchen/OpticalFlow/P01_04/u\\frame_5851.jpg due to error: [Errno 2] No such file or directory: 'D:\\\\Datasets\\\\Datasets\\\\EPIC_Kitchen\\\\OpticalFlow\\\\P01_04\\\\u\\\\frame_5851.jpg'\n",
      "Skipping frame: D:/Datasets/Datasets/EPIC_Kitchen/OpticalFlow/P01_04/v\\frame_5851.jpg due to error: [Errno 2] No such file or directory: 'D:\\\\Datasets\\\\Datasets\\\\EPIC_Kitchen\\\\OpticalFlow\\\\P01_04\\\\v\\\\frame_5851.jpg'\n",
      "Skipping frame: D:/Datasets/Datasets/EPIC_Kitchen/OpticalFlow/P01_04/u\\frame_5856.jpg due to error: [Errno 2] No such file or directory: 'D:\\\\Datasets\\\\Datasets\\\\EPIC_Kitchen\\\\OpticalFlow\\\\P01_04\\\\u\\\\frame_5856.jpg'\n",
      "Skipping frame: D:/Datasets/Datasets/EPIC_Kitchen/OpticalFlow/P01_04/v\\frame_5856.jpg due to error: [Errno 2] No such file or directory: 'D:\\\\Datasets\\\\Datasets\\\\EPIC_Kitchen\\\\OpticalFlow\\\\P01_04\\\\v\\\\frame_5856.jpg'\n"
     ]
    },
    {
     "name": "stderr",
     "output_type": "stream",
     "text": [
      "Extracting Features with DEFT:  93%|███████████████████████████████████████████▊   | 1176/1262 [01:07<00:03, 22.94it/s]"
     ]
    },
    {
     "name": "stdout",
     "output_type": "stream",
     "text": [
      "Skipping frame: D:/Datasets/Datasets/EPIC_Kitchen/OpticalFlow/P01_04/u\\frame_5861.jpg due to error: [Errno 2] No such file or directory: 'D:\\\\Datasets\\\\Datasets\\\\EPIC_Kitchen\\\\OpticalFlow\\\\P01_04\\\\u\\\\frame_5861.jpg'\n",
      "Skipping frame: D:/Datasets/Datasets/EPIC_Kitchen/OpticalFlow/P01_04/v\\frame_5861.jpg due to error: [Errno 2] No such file or directory: 'D:\\\\Datasets\\\\Datasets\\\\EPIC_Kitchen\\\\OpticalFlow\\\\P01_04\\\\v\\\\frame_5861.jpg'\n",
      "Skipping frame: D:/Datasets/Datasets/EPIC_Kitchen/OpticalFlow/P01_04/u\\frame_5866.jpg due to error: [Errno 2] No such file or directory: 'D:\\\\Datasets\\\\Datasets\\\\EPIC_Kitchen\\\\OpticalFlow\\\\P01_04\\\\u\\\\frame_5866.jpg'\n",
      "Skipping frame: D:/Datasets/Datasets/EPIC_Kitchen/OpticalFlow/P01_04/v\\frame_5866.jpg due to error: [Errno 2] No such file or directory: 'D:\\\\Datasets\\\\Datasets\\\\EPIC_Kitchen\\\\OpticalFlow\\\\P01_04\\\\v\\\\frame_5866.jpg'\n",
      "Skipping frame: D:/Datasets/Datasets/EPIC_Kitchen/OpticalFlow/P01_04/u\\frame_5871.jpg due to error: [Errno 2] No such file or directory: 'D:\\\\Datasets\\\\Datasets\\\\EPIC_Kitchen\\\\OpticalFlow\\\\P01_04\\\\u\\\\frame_5871.jpg'\n",
      "Skipping frame: D:/Datasets/Datasets/EPIC_Kitchen/OpticalFlow/P01_04/v\\frame_5871.jpg due to error: [Errno 2] No such file or directory: 'D:\\\\Datasets\\\\Datasets\\\\EPIC_Kitchen\\\\OpticalFlow\\\\P01_04\\\\v\\\\frame_5871.jpg'\n",
      "Skipping frame: D:/Datasets/Datasets/EPIC_Kitchen/OpticalFlow/P01_04/u\\frame_5876.jpg due to error: [Errno 2] No such file or directory: 'D:\\\\Datasets\\\\Datasets\\\\EPIC_Kitchen\\\\OpticalFlow\\\\P01_04\\\\u\\\\frame_5876.jpg'\n",
      "Skipping frame: D:/Datasets/Datasets/EPIC_Kitchen/OpticalFlow/P01_04/v\\frame_5876.jpg due to error: [Errno 2] No such file or directory: 'D:\\\\Datasets\\\\Datasets\\\\EPIC_Kitchen\\\\OpticalFlow\\\\P01_04\\\\v\\\\frame_5876.jpg'\n",
      "Skipping frame: D:/Datasets/Datasets/EPIC_Kitchen/OpticalFlow/P01_04/u\\frame_5881.jpg due to error: [Errno 2] No such file or directory: 'D:\\\\Datasets\\\\Datasets\\\\EPIC_Kitchen\\\\OpticalFlow\\\\P01_04\\\\u\\\\frame_5881.jpg'\n",
      "Skipping frame: D:/Datasets/Datasets/EPIC_Kitchen/OpticalFlow/P01_04/v\\frame_5881.jpg due to error: [Errno 2] No such file or directory: 'D:\\\\Datasets\\\\Datasets\\\\EPIC_Kitchen\\\\OpticalFlow\\\\P01_04\\\\v\\\\frame_5881.jpg'\n"
     ]
    },
    {
     "name": "stderr",
     "output_type": "stream",
     "text": [
      "Extracting Features with DEFT:  94%|████████████████████████████████████████████   | 1182/1262 [01:07<00:03, 22.69it/s]"
     ]
    },
    {
     "name": "stdout",
     "output_type": "stream",
     "text": [
      "Skipping frame: D:/Datasets/Datasets/EPIC_Kitchen/OpticalFlow/P01_04/u\\frame_5886.jpg due to error: [Errno 2] No such file or directory: 'D:\\\\Datasets\\\\Datasets\\\\EPIC_Kitchen\\\\OpticalFlow\\\\P01_04\\\\u\\\\frame_5886.jpg'\n",
      "Skipping frame: D:/Datasets/Datasets/EPIC_Kitchen/OpticalFlow/P01_04/v\\frame_5886.jpg due to error: [Errno 2] No such file or directory: 'D:\\\\Datasets\\\\Datasets\\\\EPIC_Kitchen\\\\OpticalFlow\\\\P01_04\\\\v\\\\frame_5886.jpg'\n",
      "Skipping frame: D:/Datasets/Datasets/EPIC_Kitchen/OpticalFlow/P01_04/u\\frame_5891.jpg due to error: [Errno 2] No such file or directory: 'D:\\\\Datasets\\\\Datasets\\\\EPIC_Kitchen\\\\OpticalFlow\\\\P01_04\\\\u\\\\frame_5891.jpg'\n",
      "Skipping frame: D:/Datasets/Datasets/EPIC_Kitchen/OpticalFlow/P01_04/v\\frame_5891.jpg due to error: [Errno 2] No such file or directory: 'D:\\\\Datasets\\\\Datasets\\\\EPIC_Kitchen\\\\OpticalFlow\\\\P01_04\\\\v\\\\frame_5891.jpg'\n",
      "Skipping frame: D:/Datasets/Datasets/EPIC_Kitchen/OpticalFlow/P01_04/u\\frame_5896.jpg due to error: [Errno 2] No such file or directory: 'D:\\\\Datasets\\\\Datasets\\\\EPIC_Kitchen\\\\OpticalFlow\\\\P01_04\\\\u\\\\frame_5896.jpg'\n",
      "Skipping frame: D:/Datasets/Datasets/EPIC_Kitchen/OpticalFlow/P01_04/v\\frame_5896.jpg due to error: [Errno 2] No such file or directory: 'D:\\\\Datasets\\\\Datasets\\\\EPIC_Kitchen\\\\OpticalFlow\\\\P01_04\\\\v\\\\frame_5896.jpg'\n",
      "Skipping frame: D:/Datasets/Datasets/EPIC_Kitchen/OpticalFlow/P01_04/u\\frame_5901.jpg due to error: [Errno 2] No such file or directory: 'D:\\\\Datasets\\\\Datasets\\\\EPIC_Kitchen\\\\OpticalFlow\\\\P01_04\\\\u\\\\frame_5901.jpg'\n",
      "Skipping frame: D:/Datasets/Datasets/EPIC_Kitchen/OpticalFlow/P01_04/v\\frame_5901.jpg due to error: [Errno 2] No such file or directory: 'D:\\\\Datasets\\\\Datasets\\\\EPIC_Kitchen\\\\OpticalFlow\\\\P01_04\\\\v\\\\frame_5901.jpg'\n",
      "Skipping frame: D:/Datasets/Datasets/EPIC_Kitchen/OpticalFlow/P01_04/u\\frame_5906.jpg due to error: [Errno 2] No such file or directory: 'D:\\\\Datasets\\\\Datasets\\\\EPIC_Kitchen\\\\OpticalFlow\\\\P01_04\\\\u\\\\frame_5906.jpg'\n",
      "Skipping frame: D:/Datasets/Datasets/EPIC_Kitchen/OpticalFlow/P01_04/v\\frame_5906.jpg due to error: [Errno 2] No such file or directory: 'D:\\\\Datasets\\\\Datasets\\\\EPIC_Kitchen\\\\OpticalFlow\\\\P01_04\\\\v\\\\frame_5906.jpg'\n"
     ]
    },
    {
     "name": "stderr",
     "output_type": "stream",
     "text": [
      "\r",
      "Extracting Features with DEFT:  94%|████████████████████████████████████████████▏  | 1185/1262 [01:07<00:03, 22.51it/s]"
     ]
    },
    {
     "name": "stdout",
     "output_type": "stream",
     "text": [
      "Skipping frame: D:/Datasets/Datasets/EPIC_Kitchen/OpticalFlow/P01_04/u\\frame_5911.jpg due to error: [Errno 2] No such file or directory: 'D:\\\\Datasets\\\\Datasets\\\\EPIC_Kitchen\\\\OpticalFlow\\\\P01_04\\\\u\\\\frame_5911.jpg'\n",
      "Skipping frame: D:/Datasets/Datasets/EPIC_Kitchen/OpticalFlow/P01_04/v\\frame_5911.jpg due to error: [Errno 2] No such file or directory: 'D:\\\\Datasets\\\\Datasets\\\\EPIC_Kitchen\\\\OpticalFlow\\\\P01_04\\\\v\\\\frame_5911.jpg'\n",
      "Skipping frame: D:/Datasets/Datasets/EPIC_Kitchen/OpticalFlow/P01_04/u\\frame_5916.jpg due to error: [Errno 2] No such file or directory: 'D:\\\\Datasets\\\\Datasets\\\\EPIC_Kitchen\\\\OpticalFlow\\\\P01_04\\\\u\\\\frame_5916.jpg'\n",
      "Skipping frame: D:/Datasets/Datasets/EPIC_Kitchen/OpticalFlow/P01_04/v\\frame_5916.jpg due to error: [Errno 2] No such file or directory: 'D:\\\\Datasets\\\\Datasets\\\\EPIC_Kitchen\\\\OpticalFlow\\\\P01_04\\\\v\\\\frame_5916.jpg'\n",
      "Skipping frame: D:/Datasets/Datasets/EPIC_Kitchen/OpticalFlow/P01_04/u\\frame_5921.jpg due to error: [Errno 2] No such file or directory: 'D:\\\\Datasets\\\\Datasets\\\\EPIC_Kitchen\\\\OpticalFlow\\\\P01_04\\\\u\\\\frame_5921.jpg'\n",
      "Skipping frame: D:/Datasets/Datasets/EPIC_Kitchen/OpticalFlow/P01_04/v\\frame_5921.jpg due to error: [Errno 2] No such file or directory: 'D:\\\\Datasets\\\\Datasets\\\\EPIC_Kitchen\\\\OpticalFlow\\\\P01_04\\\\v\\\\frame_5921.jpg'\n",
      "Skipping frame: D:/Datasets/Datasets/EPIC_Kitchen/OpticalFlow/P01_04/u\\frame_5926.jpg due to error: [Errno 2] No such file or directory: 'D:\\\\Datasets\\\\Datasets\\\\EPIC_Kitchen\\\\OpticalFlow\\\\P01_04\\\\u\\\\frame_5926.jpg'\n",
      "Skipping frame: D:/Datasets/Datasets/EPIC_Kitchen/OpticalFlow/P01_04/v\\frame_5926.jpg due to error: [Errno 2] No such file or directory: 'D:\\\\Datasets\\\\Datasets\\\\EPIC_Kitchen\\\\OpticalFlow\\\\P01_04\\\\v\\\\frame_5926.jpg'\n",
      "Skipping frame: D:/Datasets/Datasets/EPIC_Kitchen/OpticalFlow/P01_04/u\\frame_5931.jpg due to error: [Errno 2] No such file or directory: 'D:\\\\Datasets\\\\Datasets\\\\EPIC_Kitchen\\\\OpticalFlow\\\\P01_04\\\\u\\\\frame_5931.jpg'\n",
      "Skipping frame: D:/Datasets/Datasets/EPIC_Kitchen/OpticalFlow/P01_04/v\\frame_5931.jpg due to error: [Errno 2] No such file or directory: 'D:\\\\Datasets\\\\Datasets\\\\EPIC_Kitchen\\\\OpticalFlow\\\\P01_04\\\\v\\\\frame_5931.jpg'\n"
     ]
    },
    {
     "name": "stderr",
     "output_type": "stream",
     "text": [
      "Extracting Features with DEFT:  94%|████████████████████████████████████████████▎  | 1191/1262 [01:08<00:03, 22.31it/s]"
     ]
    },
    {
     "name": "stdout",
     "output_type": "stream",
     "text": [
      "Skipping frame: D:/Datasets/Datasets/EPIC_Kitchen/OpticalFlow/P01_04/u\\frame_5936.jpg due to error: [Errno 2] No such file or directory: 'D:\\\\Datasets\\\\Datasets\\\\EPIC_Kitchen\\\\OpticalFlow\\\\P01_04\\\\u\\\\frame_5936.jpg'\n",
      "Skipping frame: D:/Datasets/Datasets/EPIC_Kitchen/OpticalFlow/P01_04/v\\frame_5936.jpg due to error: [Errno 2] No such file or directory: 'D:\\\\Datasets\\\\Datasets\\\\EPIC_Kitchen\\\\OpticalFlow\\\\P01_04\\\\v\\\\frame_5936.jpg'\n",
      "Skipping frame: D:/Datasets/Datasets/EPIC_Kitchen/OpticalFlow/P01_04/u\\frame_5941.jpg due to error: [Errno 2] No such file or directory: 'D:\\\\Datasets\\\\Datasets\\\\EPIC_Kitchen\\\\OpticalFlow\\\\P01_04\\\\u\\\\frame_5941.jpg'\n",
      "Skipping frame: D:/Datasets/Datasets/EPIC_Kitchen/OpticalFlow/P01_04/v\\frame_5941.jpg due to error: [Errno 2] No such file or directory: 'D:\\\\Datasets\\\\Datasets\\\\EPIC_Kitchen\\\\OpticalFlow\\\\P01_04\\\\v\\\\frame_5941.jpg'\n",
      "Skipping frame: D:/Datasets/Datasets/EPIC_Kitchen/OpticalFlow/P01_04/u\\frame_5946.jpg due to error: [Errno 2] No such file or directory: 'D:\\\\Datasets\\\\Datasets\\\\EPIC_Kitchen\\\\OpticalFlow\\\\P01_04\\\\u\\\\frame_5946.jpg'\n",
      "Skipping frame: D:/Datasets/Datasets/EPIC_Kitchen/OpticalFlow/P01_04/v\\frame_5946.jpg due to error: [Errno 2] No such file or directory: 'D:\\\\Datasets\\\\Datasets\\\\EPIC_Kitchen\\\\OpticalFlow\\\\P01_04\\\\v\\\\frame_5946.jpg'\n",
      "Skipping frame: D:/Datasets/Datasets/EPIC_Kitchen/OpticalFlow/P01_04/u\\frame_5951.jpg due to error: [Errno 2] No such file or directory: 'D:\\\\Datasets\\\\Datasets\\\\EPIC_Kitchen\\\\OpticalFlow\\\\P01_04\\\\u\\\\frame_5951.jpg'\n",
      "Skipping frame: D:/Datasets/Datasets/EPIC_Kitchen/OpticalFlow/P01_04/v\\frame_5951.jpg due to error: [Errno 2] No such file or directory: 'D:\\\\Datasets\\\\Datasets\\\\EPIC_Kitchen\\\\OpticalFlow\\\\P01_04\\\\v\\\\frame_5951.jpg'\n",
      "Skipping frame: D:/Datasets/Datasets/EPIC_Kitchen/OpticalFlow/P01_04/u\\frame_5956.jpg due to error: [Errno 2] No such file or directory: 'D:\\\\Datasets\\\\Datasets\\\\EPIC_Kitchen\\\\OpticalFlow\\\\P01_04\\\\u\\\\frame_5956.jpg'\n",
      "Skipping frame: D:/Datasets/Datasets/EPIC_Kitchen/OpticalFlow/P01_04/v\\frame_5956.jpg due to error: [Errno 2] No such file or directory: 'D:\\\\Datasets\\\\Datasets\\\\EPIC_Kitchen\\\\OpticalFlow\\\\P01_04\\\\v\\\\frame_5956.jpg'\n"
     ]
    },
    {
     "name": "stderr",
     "output_type": "stream",
     "text": [
      "Extracting Features with DEFT:  95%|████████████████████████████████████████████▌  | 1197/1262 [01:08<00:02, 22.84it/s]"
     ]
    },
    {
     "name": "stdout",
     "output_type": "stream",
     "text": [
      "Skipping frame: D:/Datasets/Datasets/EPIC_Kitchen/OpticalFlow/P01_04/u\\frame_5961.jpg due to error: [Errno 2] No such file or directory: 'D:\\\\Datasets\\\\Datasets\\\\EPIC_Kitchen\\\\OpticalFlow\\\\P01_04\\\\u\\\\frame_5961.jpg'\n",
      "Skipping frame: D:/Datasets/Datasets/EPIC_Kitchen/OpticalFlow/P01_04/v\\frame_5961.jpg due to error: [Errno 2] No such file or directory: 'D:\\\\Datasets\\\\Datasets\\\\EPIC_Kitchen\\\\OpticalFlow\\\\P01_04\\\\v\\\\frame_5961.jpg'\n",
      "Skipping frame: D:/Datasets/Datasets/EPIC_Kitchen/OpticalFlow/P01_04/u\\frame_5966.jpg due to error: [Errno 2] No such file or directory: 'D:\\\\Datasets\\\\Datasets\\\\EPIC_Kitchen\\\\OpticalFlow\\\\P01_04\\\\u\\\\frame_5966.jpg'\n",
      "Skipping frame: D:/Datasets/Datasets/EPIC_Kitchen/OpticalFlow/P01_04/v\\frame_5966.jpg due to error: [Errno 2] No such file or directory: 'D:\\\\Datasets\\\\Datasets\\\\EPIC_Kitchen\\\\OpticalFlow\\\\P01_04\\\\v\\\\frame_5966.jpg'\n",
      "Skipping frame: D:/Datasets/Datasets/EPIC_Kitchen/OpticalFlow/P01_04/u\\frame_5971.jpg due to error: [Errno 2] No such file or directory: 'D:\\\\Datasets\\\\Datasets\\\\EPIC_Kitchen\\\\OpticalFlow\\\\P01_04\\\\u\\\\frame_5971.jpg'\n",
      "Skipping frame: D:/Datasets/Datasets/EPIC_Kitchen/OpticalFlow/P01_04/v\\frame_5971.jpg due to error: [Errno 2] No such file or directory: 'D:\\\\Datasets\\\\Datasets\\\\EPIC_Kitchen\\\\OpticalFlow\\\\P01_04\\\\v\\\\frame_5971.jpg'\n",
      "Skipping frame: D:/Datasets/Datasets/EPIC_Kitchen/OpticalFlow/P01_04/u\\frame_5976.jpg due to error: [Errno 2] No such file or directory: 'D:\\\\Datasets\\\\Datasets\\\\EPIC_Kitchen\\\\OpticalFlow\\\\P01_04\\\\u\\\\frame_5976.jpg'\n",
      "Skipping frame: D:/Datasets/Datasets/EPIC_Kitchen/OpticalFlow/P01_04/v\\frame_5976.jpg due to error: [Errno 2] No such file or directory: 'D:\\\\Datasets\\\\Datasets\\\\EPIC_Kitchen\\\\OpticalFlow\\\\P01_04\\\\v\\\\frame_5976.jpg'\n",
      "Skipping frame: D:/Datasets/Datasets/EPIC_Kitchen/OpticalFlow/P01_04/u\\frame_5981.jpg due to error: [Errno 2] No such file or directory: 'D:\\\\Datasets\\\\Datasets\\\\EPIC_Kitchen\\\\OpticalFlow\\\\P01_04\\\\u\\\\frame_5981.jpg'\n",
      "Skipping frame: D:/Datasets/Datasets/EPIC_Kitchen/OpticalFlow/P01_04/v\\frame_5981.jpg due to error: [Errno 2] No such file or directory: 'D:\\\\Datasets\\\\Datasets\\\\EPIC_Kitchen\\\\OpticalFlow\\\\P01_04\\\\v\\\\frame_5981.jpg'\n"
     ]
    },
    {
     "name": "stderr",
     "output_type": "stream",
     "text": [
      "Extracting Features with DEFT:  95%|████████████████████████████████████████████▊  | 1203/1262 [01:08<00:02, 23.29it/s]"
     ]
    },
    {
     "name": "stdout",
     "output_type": "stream",
     "text": [
      "Skipping frame: D:/Datasets/Datasets/EPIC_Kitchen/OpticalFlow/P01_04/u\\frame_5986.jpg due to error: [Errno 2] No such file or directory: 'D:\\\\Datasets\\\\Datasets\\\\EPIC_Kitchen\\\\OpticalFlow\\\\P01_04\\\\u\\\\frame_5986.jpg'\n",
      "Skipping frame: D:/Datasets/Datasets/EPIC_Kitchen/OpticalFlow/P01_04/v\\frame_5986.jpg due to error: [Errno 2] No such file or directory: 'D:\\\\Datasets\\\\Datasets\\\\EPIC_Kitchen\\\\OpticalFlow\\\\P01_04\\\\v\\\\frame_5986.jpg'\n",
      "Skipping frame: D:/Datasets/Datasets/EPIC_Kitchen/OpticalFlow/P01_04/u\\frame_5991.jpg due to error: [Errno 2] No such file or directory: 'D:\\\\Datasets\\\\Datasets\\\\EPIC_Kitchen\\\\OpticalFlow\\\\P01_04\\\\u\\\\frame_5991.jpg'\n",
      "Skipping frame: D:/Datasets/Datasets/EPIC_Kitchen/OpticalFlow/P01_04/v\\frame_5991.jpg due to error: [Errno 2] No such file or directory: 'D:\\\\Datasets\\\\Datasets\\\\EPIC_Kitchen\\\\OpticalFlow\\\\P01_04\\\\v\\\\frame_5991.jpg'\n",
      "Skipping frame: D:/Datasets/Datasets/EPIC_Kitchen/OpticalFlow/P01_04/u\\frame_5996.jpg due to error: [Errno 2] No such file or directory: 'D:\\\\Datasets\\\\Datasets\\\\EPIC_Kitchen\\\\OpticalFlow\\\\P01_04\\\\u\\\\frame_5996.jpg'\n",
      "Skipping frame: D:/Datasets/Datasets/EPIC_Kitchen/OpticalFlow/P01_04/v\\frame_5996.jpg due to error: [Errno 2] No such file or directory: 'D:\\\\Datasets\\\\Datasets\\\\EPIC_Kitchen\\\\OpticalFlow\\\\P01_04\\\\v\\\\frame_5996.jpg'\n",
      "Skipping frame: D:/Datasets/Datasets/EPIC_Kitchen/OpticalFlow/P01_04/u\\frame_6001.jpg due to error: [Errno 2] No such file or directory: 'D:\\\\Datasets\\\\Datasets\\\\EPIC_Kitchen\\\\OpticalFlow\\\\P01_04\\\\u\\\\frame_6001.jpg'\n",
      "Skipping frame: D:/Datasets/Datasets/EPIC_Kitchen/OpticalFlow/P01_04/v\\frame_6001.jpg due to error: [Errno 2] No such file or directory: 'D:\\\\Datasets\\\\Datasets\\\\EPIC_Kitchen\\\\OpticalFlow\\\\P01_04\\\\v\\\\frame_6001.jpg'\n",
      "Skipping frame: D:/Datasets/Datasets/EPIC_Kitchen/OpticalFlow/P01_04/u\\frame_6006.jpg due to error: [Errno 2] No such file or directory: 'D:\\\\Datasets\\\\Datasets\\\\EPIC_Kitchen\\\\OpticalFlow\\\\P01_04\\\\u\\\\frame_6006.jpg'\n",
      "Skipping frame: D:/Datasets/Datasets/EPIC_Kitchen/OpticalFlow/P01_04/v\\frame_6006.jpg due to error: [Errno 2] No such file or directory: 'D:\\\\Datasets\\\\Datasets\\\\EPIC_Kitchen\\\\OpticalFlow\\\\P01_04\\\\v\\\\frame_6006.jpg'\n",
      "Skipping frame: D:/Datasets/Datasets/EPIC_Kitchen/OpticalFlow/P01_04/u\\frame_6011.jpg due to error: [Errno 2] No such file or directory: 'D:\\\\Datasets\\\\Datasets\\\\EPIC_Kitchen\\\\OpticalFlow\\\\P01_04\\\\u\\\\frame_6011.jpg'\n",
      "Skipping frame: D:/Datasets/Datasets/EPIC_Kitchen/OpticalFlow/P01_04/v\\frame_6011.jpg due to error: [Errno 2] No such file or directory: 'D:\\\\Datasets\\\\Datasets\\\\EPIC_Kitchen\\\\OpticalFlow\\\\P01_04\\\\v\\\\frame_6011.jpg'\n"
     ]
    },
    {
     "name": "stderr",
     "output_type": "stream",
     "text": [
      "Extracting Features with DEFT:  96%|█████████████████████████████████████████████  | 1209/1262 [01:08<00:02, 23.69it/s]"
     ]
    },
    {
     "name": "stdout",
     "output_type": "stream",
     "text": [
      "Skipping frame: D:/Datasets/Datasets/EPIC_Kitchen/OpticalFlow/P01_04/u\\frame_6016.jpg due to error: [Errno 2] No such file or directory: 'D:\\\\Datasets\\\\Datasets\\\\EPIC_Kitchen\\\\OpticalFlow\\\\P01_04\\\\u\\\\frame_6016.jpg'\n",
      "Skipping frame: D:/Datasets/Datasets/EPIC_Kitchen/OpticalFlow/P01_04/v\\frame_6016.jpg due to error: [Errno 2] No such file or directory: 'D:\\\\Datasets\\\\Datasets\\\\EPIC_Kitchen\\\\OpticalFlow\\\\P01_04\\\\v\\\\frame_6016.jpg'\n",
      "Skipping frame: D:/Datasets/Datasets/EPIC_Kitchen/OpticalFlow/P01_04/u\\frame_6021.jpg due to error: [Errno 2] No such file or directory: 'D:\\\\Datasets\\\\Datasets\\\\EPIC_Kitchen\\\\OpticalFlow\\\\P01_04\\\\u\\\\frame_6021.jpg'\n",
      "Skipping frame: D:/Datasets/Datasets/EPIC_Kitchen/OpticalFlow/P01_04/v\\frame_6021.jpg due to error: [Errno 2] No such file or directory: 'D:\\\\Datasets\\\\Datasets\\\\EPIC_Kitchen\\\\OpticalFlow\\\\P01_04\\\\v\\\\frame_6021.jpg'\n",
      "Skipping frame: D:/Datasets/Datasets/EPIC_Kitchen/OpticalFlow/P01_04/u\\frame_6026.jpg due to error: [Errno 2] No such file or directory: 'D:\\\\Datasets\\\\Datasets\\\\EPIC_Kitchen\\\\OpticalFlow\\\\P01_04\\\\u\\\\frame_6026.jpg'\n",
      "Skipping frame: D:/Datasets/Datasets/EPIC_Kitchen/OpticalFlow/P01_04/v\\frame_6026.jpg due to error: [Errno 2] No such file or directory: 'D:\\\\Datasets\\\\Datasets\\\\EPIC_Kitchen\\\\OpticalFlow\\\\P01_04\\\\v\\\\frame_6026.jpg'\n",
      "Skipping frame: D:/Datasets/Datasets/EPIC_Kitchen/OpticalFlow/P01_04/u\\frame_6031.jpg due to error: [Errno 2] No such file or directory: 'D:\\\\Datasets\\\\Datasets\\\\EPIC_Kitchen\\\\OpticalFlow\\\\P01_04\\\\u\\\\frame_6031.jpg'\n",
      "Skipping frame: D:/Datasets/Datasets/EPIC_Kitchen/OpticalFlow/P01_04/v\\frame_6031.jpg due to error: [Errno 2] No such file or directory: 'D:\\\\Datasets\\\\Datasets\\\\EPIC_Kitchen\\\\OpticalFlow\\\\P01_04\\\\v\\\\frame_6031.jpg'\n",
      "Skipping frame: D:/Datasets/Datasets/EPIC_Kitchen/OpticalFlow/P01_04/u\\frame_6036.jpg due to error: [Errno 2] No such file or directory: 'D:\\\\Datasets\\\\Datasets\\\\EPIC_Kitchen\\\\OpticalFlow\\\\P01_04\\\\u\\\\frame_6036.jpg'\n",
      "Skipping frame: D:/Datasets/Datasets/EPIC_Kitchen/OpticalFlow/P01_04/v\\frame_6036.jpg due to error: [Errno 2] No such file or directory: 'D:\\\\Datasets\\\\Datasets\\\\EPIC_Kitchen\\\\OpticalFlow\\\\P01_04\\\\v\\\\frame_6036.jpg'\n",
      "Skipping frame: D:/Datasets/Datasets/EPIC_Kitchen/OpticalFlow/P01_04/u\\frame_6041.jpg due to error: [Errno 2] No such file or directory: 'D:\\\\Datasets\\\\Datasets\\\\EPIC_Kitchen\\\\OpticalFlow\\\\P01_04\\\\u\\\\frame_6041.jpg'\n",
      "Skipping frame: D:/Datasets/Datasets/EPIC_Kitchen/OpticalFlow/P01_04/v\\frame_6041.jpg due to error: [Errno 2] No such file or directory: 'D:\\\\Datasets\\\\Datasets\\\\EPIC_Kitchen\\\\OpticalFlow\\\\P01_04\\\\v\\\\frame_6041.jpg'\n"
     ]
    },
    {
     "name": "stderr",
     "output_type": "stream",
     "text": [
      "Extracting Features with DEFT:  96%|█████████████████████████████████████████████▏ | 1215/1262 [01:09<00:01, 23.71it/s]"
     ]
    },
    {
     "name": "stdout",
     "output_type": "stream",
     "text": [
      "Skipping frame: D:/Datasets/Datasets/EPIC_Kitchen/OpticalFlow/P01_04/u\\frame_6046.jpg due to error: [Errno 2] No such file or directory: 'D:\\\\Datasets\\\\Datasets\\\\EPIC_Kitchen\\\\OpticalFlow\\\\P01_04\\\\u\\\\frame_6046.jpg'\n",
      "Skipping frame: D:/Datasets/Datasets/EPIC_Kitchen/OpticalFlow/P01_04/v\\frame_6046.jpg due to error: [Errno 2] No such file or directory: 'D:\\\\Datasets\\\\Datasets\\\\EPIC_Kitchen\\\\OpticalFlow\\\\P01_04\\\\v\\\\frame_6046.jpg'\n",
      "Skipping frame: D:/Datasets/Datasets/EPIC_Kitchen/OpticalFlow/P01_04/u\\frame_6051.jpg due to error: [Errno 2] No such file or directory: 'D:\\\\Datasets\\\\Datasets\\\\EPIC_Kitchen\\\\OpticalFlow\\\\P01_04\\\\u\\\\frame_6051.jpg'\n",
      "Skipping frame: D:/Datasets/Datasets/EPIC_Kitchen/OpticalFlow/P01_04/v\\frame_6051.jpg due to error: [Errno 2] No such file or directory: 'D:\\\\Datasets\\\\Datasets\\\\EPIC_Kitchen\\\\OpticalFlow\\\\P01_04\\\\v\\\\frame_6051.jpg'\n",
      "Skipping frame: D:/Datasets/Datasets/EPIC_Kitchen/OpticalFlow/P01_04/u\\frame_6056.jpg due to error: [Errno 2] No such file or directory: 'D:\\\\Datasets\\\\Datasets\\\\EPIC_Kitchen\\\\OpticalFlow\\\\P01_04\\\\u\\\\frame_6056.jpg'\n",
      "Skipping frame: D:/Datasets/Datasets/EPIC_Kitchen/OpticalFlow/P01_04/v\\frame_6056.jpg due to error: [Errno 2] No such file or directory: 'D:\\\\Datasets\\\\Datasets\\\\EPIC_Kitchen\\\\OpticalFlow\\\\P01_04\\\\v\\\\frame_6056.jpg'\n",
      "Skipping frame: D:/Datasets/Datasets/EPIC_Kitchen/OpticalFlow/P01_04/u\\frame_6061.jpg due to error: [Errno 2] No such file or directory: 'D:\\\\Datasets\\\\Datasets\\\\EPIC_Kitchen\\\\OpticalFlow\\\\P01_04\\\\u\\\\frame_6061.jpg'\n",
      "Skipping frame: D:/Datasets/Datasets/EPIC_Kitchen/OpticalFlow/P01_04/v\\frame_6061.jpg due to error: [Errno 2] No such file or directory: 'D:\\\\Datasets\\\\Datasets\\\\EPIC_Kitchen\\\\OpticalFlow\\\\P01_04\\\\v\\\\frame_6061.jpg'\n",
      "Skipping frame: D:/Datasets/Datasets/EPIC_Kitchen/OpticalFlow/P01_04/u\\frame_6066.jpg due to error: [Errno 2] No such file or directory: 'D:\\\\Datasets\\\\Datasets\\\\EPIC_Kitchen\\\\OpticalFlow\\\\P01_04\\\\u\\\\frame_6066.jpg'\n",
      "Skipping frame: D:/Datasets/Datasets/EPIC_Kitchen/OpticalFlow/P01_04/v\\frame_6066.jpg due to error: [Errno 2] No such file or directory: 'D:\\\\Datasets\\\\Datasets\\\\EPIC_Kitchen\\\\OpticalFlow\\\\P01_04\\\\v\\\\frame_6066.jpg'\n",
      "Skipping frame: D:/Datasets/Datasets/EPIC_Kitchen/OpticalFlow/P01_04/u\\frame_6071.jpg due to error: [Errno 2] No such file or directory: 'D:\\\\Datasets\\\\Datasets\\\\EPIC_Kitchen\\\\OpticalFlow\\\\P01_04\\\\u\\\\frame_6071.jpg'\n",
      "Skipping frame: D:/Datasets/Datasets/EPIC_Kitchen/OpticalFlow/P01_04/v\\frame_6071.jpg due to error: [Errno 2] No such file or directory: 'D:\\\\Datasets\\\\Datasets\\\\EPIC_Kitchen\\\\OpticalFlow\\\\P01_04\\\\v\\\\frame_6071.jpg'\n"
     ]
    },
    {
     "name": "stderr",
     "output_type": "stream",
     "text": [
      "Extracting Features with DEFT:  97%|█████████████████████████████████████████████▍ | 1221/1262 [01:09<00:01, 23.88it/s]"
     ]
    },
    {
     "name": "stdout",
     "output_type": "stream",
     "text": [
      "Skipping frame: D:/Datasets/Datasets/EPIC_Kitchen/OpticalFlow/P01_04/u\\frame_6076.jpg due to error: [Errno 2] No such file or directory: 'D:\\\\Datasets\\\\Datasets\\\\EPIC_Kitchen\\\\OpticalFlow\\\\P01_04\\\\u\\\\frame_6076.jpg'\n",
      "Skipping frame: D:/Datasets/Datasets/EPIC_Kitchen/OpticalFlow/P01_04/v\\frame_6076.jpg due to error: [Errno 2] No such file or directory: 'D:\\\\Datasets\\\\Datasets\\\\EPIC_Kitchen\\\\OpticalFlow\\\\P01_04\\\\v\\\\frame_6076.jpg'\n",
      "Skipping frame: D:/Datasets/Datasets/EPIC_Kitchen/OpticalFlow/P01_04/u\\frame_6081.jpg due to error: [Errno 2] No such file or directory: 'D:\\\\Datasets\\\\Datasets\\\\EPIC_Kitchen\\\\OpticalFlow\\\\P01_04\\\\u\\\\frame_6081.jpg'\n",
      "Skipping frame: D:/Datasets/Datasets/EPIC_Kitchen/OpticalFlow/P01_04/v\\frame_6081.jpg due to error: [Errno 2] No such file or directory: 'D:\\\\Datasets\\\\Datasets\\\\EPIC_Kitchen\\\\OpticalFlow\\\\P01_04\\\\v\\\\frame_6081.jpg'\n",
      "Skipping frame: D:/Datasets/Datasets/EPIC_Kitchen/OpticalFlow/P01_04/u\\frame_6086.jpg due to error: [Errno 2] No such file or directory: 'D:\\\\Datasets\\\\Datasets\\\\EPIC_Kitchen\\\\OpticalFlow\\\\P01_04\\\\u\\\\frame_6086.jpg'\n",
      "Skipping frame: D:/Datasets/Datasets/EPIC_Kitchen/OpticalFlow/P01_04/v\\frame_6086.jpg due to error: [Errno 2] No such file or directory: 'D:\\\\Datasets\\\\Datasets\\\\EPIC_Kitchen\\\\OpticalFlow\\\\P01_04\\\\v\\\\frame_6086.jpg'\n",
      "Skipping frame: D:/Datasets/Datasets/EPIC_Kitchen/OpticalFlow/P01_04/u\\frame_6091.jpg due to error: [Errno 2] No such file or directory: 'D:\\\\Datasets\\\\Datasets\\\\EPIC_Kitchen\\\\OpticalFlow\\\\P01_04\\\\u\\\\frame_6091.jpg'\n",
      "Skipping frame: D:/Datasets/Datasets/EPIC_Kitchen/OpticalFlow/P01_04/v\\frame_6091.jpg due to error: [Errno 2] No such file or directory: 'D:\\\\Datasets\\\\Datasets\\\\EPIC_Kitchen\\\\OpticalFlow\\\\P01_04\\\\v\\\\frame_6091.jpg'\n",
      "Skipping frame: D:/Datasets/Datasets/EPIC_Kitchen/OpticalFlow/P01_04/u\\frame_6096.jpg due to error: [Errno 2] No such file or directory: 'D:\\\\Datasets\\\\Datasets\\\\EPIC_Kitchen\\\\OpticalFlow\\\\P01_04\\\\u\\\\frame_6096.jpg'\n",
      "Skipping frame: D:/Datasets/Datasets/EPIC_Kitchen/OpticalFlow/P01_04/v\\frame_6096.jpg due to error: [Errno 2] No such file or directory: 'D:\\\\Datasets\\\\Datasets\\\\EPIC_Kitchen\\\\OpticalFlow\\\\P01_04\\\\v\\\\frame_6096.jpg'\n",
      "Skipping frame: D:/Datasets/Datasets/EPIC_Kitchen/OpticalFlow/P01_04/u\\frame_6101.jpg due to error: [Errno 2] No such file or directory: 'D:\\\\Datasets\\\\Datasets\\\\EPIC_Kitchen\\\\OpticalFlow\\\\P01_04\\\\u\\\\frame_6101.jpg'\n",
      "Skipping frame: D:/Datasets/Datasets/EPIC_Kitchen/OpticalFlow/P01_04/v\\frame_6101.jpg due to error: [Errno 2] No such file or directory: 'D:\\\\Datasets\\\\Datasets\\\\EPIC_Kitchen\\\\OpticalFlow\\\\P01_04\\\\v\\\\frame_6101.jpg'\n"
     ]
    },
    {
     "name": "stderr",
     "output_type": "stream",
     "text": [
      "Extracting Features with DEFT:  97%|█████████████████████████████████████████████▋ | 1227/1262 [01:09<00:01, 24.64it/s]"
     ]
    },
    {
     "name": "stdout",
     "output_type": "stream",
     "text": [
      "Skipping frame: D:/Datasets/Datasets/EPIC_Kitchen/OpticalFlow/P01_04/u\\frame_6106.jpg due to error: [Errno 2] No such file or directory: 'D:\\\\Datasets\\\\Datasets\\\\EPIC_Kitchen\\\\OpticalFlow\\\\P01_04\\\\u\\\\frame_6106.jpg'\n",
      "Skipping frame: D:/Datasets/Datasets/EPIC_Kitchen/OpticalFlow/P01_04/v\\frame_6106.jpg due to error: [Errno 2] No such file or directory: 'D:\\\\Datasets\\\\Datasets\\\\EPIC_Kitchen\\\\OpticalFlow\\\\P01_04\\\\v\\\\frame_6106.jpg'\n",
      "Skipping frame: D:/Datasets/Datasets/EPIC_Kitchen/OpticalFlow/P01_04/u\\frame_6111.jpg due to error: [Errno 2] No such file or directory: 'D:\\\\Datasets\\\\Datasets\\\\EPIC_Kitchen\\\\OpticalFlow\\\\P01_04\\\\u\\\\frame_6111.jpg'\n",
      "Skipping frame: D:/Datasets/Datasets/EPIC_Kitchen/OpticalFlow/P01_04/v\\frame_6111.jpg due to error: [Errno 2] No such file or directory: 'D:\\\\Datasets\\\\Datasets\\\\EPIC_Kitchen\\\\OpticalFlow\\\\P01_04\\\\v\\\\frame_6111.jpg'\n",
      "Skipping frame: D:/Datasets/Datasets/EPIC_Kitchen/OpticalFlow/P01_04/u\\frame_6116.jpg due to error: [Errno 2] No such file or directory: 'D:\\\\Datasets\\\\Datasets\\\\EPIC_Kitchen\\\\OpticalFlow\\\\P01_04\\\\u\\\\frame_6116.jpg'\n",
      "Skipping frame: D:/Datasets/Datasets/EPIC_Kitchen/OpticalFlow/P01_04/v\\frame_6116.jpg due to error: [Errno 2] No such file or directory: 'D:\\\\Datasets\\\\Datasets\\\\EPIC_Kitchen\\\\OpticalFlow\\\\P01_04\\\\v\\\\frame_6116.jpg'\n",
      "Skipping frame: D:/Datasets/Datasets/EPIC_Kitchen/OpticalFlow/P01_04/u\\frame_6121.jpg due to error: [Errno 2] No such file or directory: 'D:\\\\Datasets\\\\Datasets\\\\EPIC_Kitchen\\\\OpticalFlow\\\\P01_04\\\\u\\\\frame_6121.jpg'\n",
      "Skipping frame: D:/Datasets/Datasets/EPIC_Kitchen/OpticalFlow/P01_04/v\\frame_6121.jpg due to error: [Errno 2] No such file or directory: 'D:\\\\Datasets\\\\Datasets\\\\EPIC_Kitchen\\\\OpticalFlow\\\\P01_04\\\\v\\\\frame_6121.jpg'\n",
      "Skipping frame: D:/Datasets/Datasets/EPIC_Kitchen/OpticalFlow/P01_04/u\\frame_6126.jpg due to error: [Errno 2] No such file or directory: 'D:\\\\Datasets\\\\Datasets\\\\EPIC_Kitchen\\\\OpticalFlow\\\\P01_04\\\\u\\\\frame_6126.jpg'\n",
      "Skipping frame: D:/Datasets/Datasets/EPIC_Kitchen/OpticalFlow/P01_04/v\\frame_6126.jpg due to error: [Errno 2] No such file or directory: 'D:\\\\Datasets\\\\Datasets\\\\EPIC_Kitchen\\\\OpticalFlow\\\\P01_04\\\\v\\\\frame_6126.jpg'\n",
      "Skipping frame: D:/Datasets/Datasets/EPIC_Kitchen/OpticalFlow/P01_04/u\\frame_6131.jpg due to error: [Errno 2] No such file or directory: 'D:\\\\Datasets\\\\Datasets\\\\EPIC_Kitchen\\\\OpticalFlow\\\\P01_04\\\\u\\\\frame_6131.jpg'\n",
      "Skipping frame: D:/Datasets/Datasets/EPIC_Kitchen/OpticalFlow/P01_04/v\\frame_6131.jpg due to error: [Errno 2] No such file or directory: 'D:\\\\Datasets\\\\Datasets\\\\EPIC_Kitchen\\\\OpticalFlow\\\\P01_04\\\\v\\\\frame_6131.jpg'\n"
     ]
    },
    {
     "name": "stderr",
     "output_type": "stream",
     "text": [
      "\r",
      "Extracting Features with DEFT:  97%|█████████████████████████████████████████████▊ | 1230/1262 [01:09<00:01, 24.51it/s]"
     ]
    },
    {
     "name": "stdout",
     "output_type": "stream",
     "text": [
      "Skipping frame: D:/Datasets/Datasets/EPIC_Kitchen/OpticalFlow/P01_04/u\\frame_6136.jpg due to error: [Errno 2] No such file or directory: 'D:\\\\Datasets\\\\Datasets\\\\EPIC_Kitchen\\\\OpticalFlow\\\\P01_04\\\\u\\\\frame_6136.jpg'\n",
      "Skipping frame: D:/Datasets/Datasets/EPIC_Kitchen/OpticalFlow/P01_04/v\\frame_6136.jpg due to error: [Errno 2] No such file or directory: 'D:\\\\Datasets\\\\Datasets\\\\EPIC_Kitchen\\\\OpticalFlow\\\\P01_04\\\\v\\\\frame_6136.jpg'\n",
      "Skipping frame: D:/Datasets/Datasets/EPIC_Kitchen/OpticalFlow/P01_04/u\\frame_6141.jpg due to error: [Errno 2] No such file or directory: 'D:\\\\Datasets\\\\Datasets\\\\EPIC_Kitchen\\\\OpticalFlow\\\\P01_04\\\\u\\\\frame_6141.jpg'\n",
      "Skipping frame: D:/Datasets/Datasets/EPIC_Kitchen/OpticalFlow/P01_04/v\\frame_6141.jpg due to error: [Errno 2] No such file or directory: 'D:\\\\Datasets\\\\Datasets\\\\EPIC_Kitchen\\\\OpticalFlow\\\\P01_04\\\\v\\\\frame_6141.jpg'\n",
      "Skipping frame: D:/Datasets/Datasets/EPIC_Kitchen/OpticalFlow/P01_04/u\\frame_6146.jpg due to error: [Errno 2] No such file or directory: 'D:\\\\Datasets\\\\Datasets\\\\EPIC_Kitchen\\\\OpticalFlow\\\\P01_04\\\\u\\\\frame_6146.jpg'\n",
      "Skipping frame: D:/Datasets/Datasets/EPIC_Kitchen/OpticalFlow/P01_04/v\\frame_6146.jpg due to error: [Errno 2] No such file or directory: 'D:\\\\Datasets\\\\Datasets\\\\EPIC_Kitchen\\\\OpticalFlow\\\\P01_04\\\\v\\\\frame_6146.jpg'\n",
      "Skipping frame: D:/Datasets/Datasets/EPIC_Kitchen/OpticalFlow/P01_04/u\\frame_6151.jpg due to error: [Errno 2] No such file or directory: 'D:\\\\Datasets\\\\Datasets\\\\EPIC_Kitchen\\\\OpticalFlow\\\\P01_04\\\\u\\\\frame_6151.jpg'\n",
      "Skipping frame: D:/Datasets/Datasets/EPIC_Kitchen/OpticalFlow/P01_04/v\\frame_6151.jpg due to error: [Errno 2] No such file or directory: 'D:\\\\Datasets\\\\Datasets\\\\EPIC_Kitchen\\\\OpticalFlow\\\\P01_04\\\\v\\\\frame_6151.jpg'\n",
      "Skipping frame: D:/Datasets/Datasets/EPIC_Kitchen/OpticalFlow/P01_04/u\\frame_6156.jpg due to error: [Errno 2] No such file or directory: 'D:\\\\Datasets\\\\Datasets\\\\EPIC_Kitchen\\\\OpticalFlow\\\\P01_04\\\\u\\\\frame_6156.jpg'\n",
      "Skipping frame: D:/Datasets/Datasets/EPIC_Kitchen/OpticalFlow/P01_04/v\\frame_6156.jpg due to error: [Errno 2] No such file or directory: 'D:\\\\Datasets\\\\Datasets\\\\EPIC_Kitchen\\\\OpticalFlow\\\\P01_04\\\\v\\\\frame_6156.jpg'\n",
      "Skipping frame: D:/Datasets/Datasets/EPIC_Kitchen/OpticalFlow/P01_04/u\\frame_6161.jpg due to error: [Errno 2] No such file or directory: 'D:\\\\Datasets\\\\Datasets\\\\EPIC_Kitchen\\\\OpticalFlow\\\\P01_04\\\\u\\\\frame_6161.jpg'\n",
      "Skipping frame: D:/Datasets/Datasets/EPIC_Kitchen/OpticalFlow/P01_04/v\\frame_6161.jpg due to error: [Errno 2] No such file or directory: 'D:\\\\Datasets\\\\Datasets\\\\EPIC_Kitchen\\\\OpticalFlow\\\\P01_04\\\\v\\\\frame_6161.jpg'\n"
     ]
    },
    {
     "name": "stderr",
     "output_type": "stream",
     "text": [
      "Extracting Features with DEFT:  98%|██████████████████████████████████████████████▏| 1239/1262 [01:09<00:00, 24.86it/s]"
     ]
    },
    {
     "name": "stdout",
     "output_type": "stream",
     "text": [
      "Skipping frame: D:/Datasets/Datasets/EPIC_Kitchen/OpticalFlow/P01_04/u\\frame_6166.jpg due to error: [Errno 2] No such file or directory: 'D:\\\\Datasets\\\\Datasets\\\\EPIC_Kitchen\\\\OpticalFlow\\\\P01_04\\\\u\\\\frame_6166.jpg'\n",
      "Skipping frame: D:/Datasets/Datasets/EPIC_Kitchen/OpticalFlow/P01_04/v\\frame_6166.jpg due to error: [Errno 2] No such file or directory: 'D:\\\\Datasets\\\\Datasets\\\\EPIC_Kitchen\\\\OpticalFlow\\\\P01_04\\\\v\\\\frame_6166.jpg'\n",
      "Skipping frame: D:/Datasets/Datasets/EPIC_Kitchen/OpticalFlow/P01_04/u\\frame_6171.jpg due to error: [Errno 2] No such file or directory: 'D:\\\\Datasets\\\\Datasets\\\\EPIC_Kitchen\\\\OpticalFlow\\\\P01_04\\\\u\\\\frame_6171.jpg'\n",
      "Skipping frame: D:/Datasets/Datasets/EPIC_Kitchen/OpticalFlow/P01_04/v\\frame_6171.jpg due to error: [Errno 2] No such file or directory: 'D:\\\\Datasets\\\\Datasets\\\\EPIC_Kitchen\\\\OpticalFlow\\\\P01_04\\\\v\\\\frame_6171.jpg'\n",
      "Skipping frame: D:/Datasets/Datasets/EPIC_Kitchen/OpticalFlow/P01_04/u\\frame_6176.jpg due to error: [Errno 2] No such file or directory: 'D:\\\\Datasets\\\\Datasets\\\\EPIC_Kitchen\\\\OpticalFlow\\\\P01_04\\\\u\\\\frame_6176.jpg'\n",
      "Skipping frame: D:/Datasets/Datasets/EPIC_Kitchen/OpticalFlow/P01_04/v\\frame_6176.jpg due to error: [Errno 2] No such file or directory: 'D:\\\\Datasets\\\\Datasets\\\\EPIC_Kitchen\\\\OpticalFlow\\\\P01_04\\\\v\\\\frame_6176.jpg'\n",
      "Skipping frame: D:/Datasets/Datasets/EPIC_Kitchen/OpticalFlow/P01_04/u\\frame_6181.jpg due to error: [Errno 2] No such file or directory: 'D:\\\\Datasets\\\\Datasets\\\\EPIC_Kitchen\\\\OpticalFlow\\\\P01_04\\\\u\\\\frame_6181.jpg'\n",
      "Skipping frame: D:/Datasets/Datasets/EPIC_Kitchen/OpticalFlow/P01_04/v\\frame_6181.jpg due to error: [Errno 2] No such file or directory: 'D:\\\\Datasets\\\\Datasets\\\\EPIC_Kitchen\\\\OpticalFlow\\\\P01_04\\\\v\\\\frame_6181.jpg'\n",
      "Skipping frame: D:/Datasets/Datasets/EPIC_Kitchen/OpticalFlow/P01_04/u\\frame_6186.jpg due to error: [Errno 2] No such file or directory: 'D:\\\\Datasets\\\\Datasets\\\\EPIC_Kitchen\\\\OpticalFlow\\\\P01_04\\\\u\\\\frame_6186.jpg'\n",
      "Skipping frame: D:/Datasets/Datasets/EPIC_Kitchen/OpticalFlow/P01_04/v\\frame_6186.jpg due to error: [Errno 2] No such file or directory: 'D:\\\\Datasets\\\\Datasets\\\\EPIC_Kitchen\\\\OpticalFlow\\\\P01_04\\\\v\\\\frame_6186.jpg'\n",
      "Skipping frame: D:/Datasets/Datasets/EPIC_Kitchen/OpticalFlow/P01_04/u\\frame_6191.jpg due to error: [Errno 2] No such file or directory: 'D:\\\\Datasets\\\\Datasets\\\\EPIC_Kitchen\\\\OpticalFlow\\\\P01_04\\\\u\\\\frame_6191.jpg'\n",
      "Skipping frame: D:/Datasets/Datasets/EPIC_Kitchen/OpticalFlow/P01_04/v\\frame_6191.jpg due to error: [Errno 2] No such file or directory: 'D:\\\\Datasets\\\\Datasets\\\\EPIC_Kitchen\\\\OpticalFlow\\\\P01_04\\\\v\\\\frame_6191.jpg'\n"
     ]
    },
    {
     "name": "stderr",
     "output_type": "stream",
     "text": [
      "Extracting Features with DEFT:  99%|██████████████████████████████████████████████▎| 1245/1262 [01:10<00:00, 25.50it/s]"
     ]
    },
    {
     "name": "stdout",
     "output_type": "stream",
     "text": [
      "Skipping frame: D:/Datasets/Datasets/EPIC_Kitchen/OpticalFlow/P01_04/u\\frame_6196.jpg due to error: [Errno 2] No such file or directory: 'D:\\\\Datasets\\\\Datasets\\\\EPIC_Kitchen\\\\OpticalFlow\\\\P01_04\\\\u\\\\frame_6196.jpg'\n",
      "Skipping frame: D:/Datasets/Datasets/EPIC_Kitchen/OpticalFlow/P01_04/v\\frame_6196.jpg due to error: [Errno 2] No such file or directory: 'D:\\\\Datasets\\\\Datasets\\\\EPIC_Kitchen\\\\OpticalFlow\\\\P01_04\\\\v\\\\frame_6196.jpg'\n",
      "Skipping frame: D:/Datasets/Datasets/EPIC_Kitchen/OpticalFlow/P01_04/u\\frame_6201.jpg due to error: [Errno 2] No such file or directory: 'D:\\\\Datasets\\\\Datasets\\\\EPIC_Kitchen\\\\OpticalFlow\\\\P01_04\\\\u\\\\frame_6201.jpg'\n",
      "Skipping frame: D:/Datasets/Datasets/EPIC_Kitchen/OpticalFlow/P01_04/v\\frame_6201.jpg due to error: [Errno 2] No such file or directory: 'D:\\\\Datasets\\\\Datasets\\\\EPIC_Kitchen\\\\OpticalFlow\\\\P01_04\\\\v\\\\frame_6201.jpg'\n",
      "Skipping frame: D:/Datasets/Datasets/EPIC_Kitchen/OpticalFlow/P01_04/u\\frame_6206.jpg due to error: [Errno 2] No such file or directory: 'D:\\\\Datasets\\\\Datasets\\\\EPIC_Kitchen\\\\OpticalFlow\\\\P01_04\\\\u\\\\frame_6206.jpg'\n",
      "Skipping frame: D:/Datasets/Datasets/EPIC_Kitchen/OpticalFlow/P01_04/v\\frame_6206.jpg due to error: [Errno 2] No such file or directory: 'D:\\\\Datasets\\\\Datasets\\\\EPIC_Kitchen\\\\OpticalFlow\\\\P01_04\\\\v\\\\frame_6206.jpg'\n",
      "Skipping frame: D:/Datasets/Datasets/EPIC_Kitchen/OpticalFlow/P01_04/u\\frame_6211.jpg due to error: [Errno 2] No such file or directory: 'D:\\\\Datasets\\\\Datasets\\\\EPIC_Kitchen\\\\OpticalFlow\\\\P01_04\\\\u\\\\frame_6211.jpg'\n",
      "Skipping frame: D:/Datasets/Datasets/EPIC_Kitchen/OpticalFlow/P01_04/v\\frame_6211.jpg due to error: [Errno 2] No such file or directory: 'D:\\\\Datasets\\\\Datasets\\\\EPIC_Kitchen\\\\OpticalFlow\\\\P01_04\\\\v\\\\frame_6211.jpg'\n",
      "Skipping frame: D:/Datasets/Datasets/EPIC_Kitchen/OpticalFlow/P01_04/u\\frame_6216.jpg due to error: [Errno 2] No such file or directory: 'D:\\\\Datasets\\\\Datasets\\\\EPIC_Kitchen\\\\OpticalFlow\\\\P01_04\\\\u\\\\frame_6216.jpg'\n",
      "Skipping frame: D:/Datasets/Datasets/EPIC_Kitchen/OpticalFlow/P01_04/v\\frame_6216.jpg due to error: [Errno 2] No such file or directory: 'D:\\\\Datasets\\\\Datasets\\\\EPIC_Kitchen\\\\OpticalFlow\\\\P01_04\\\\v\\\\frame_6216.jpg'\n",
      "Skipping frame: D:/Datasets/Datasets/EPIC_Kitchen/OpticalFlow/P01_04/u\\frame_6221.jpg due to error: [Errno 2] No such file or directory: 'D:\\\\Datasets\\\\Datasets\\\\EPIC_Kitchen\\\\OpticalFlow\\\\P01_04\\\\u\\\\frame_6221.jpg'\n",
      "Skipping frame: D:/Datasets/Datasets/EPIC_Kitchen/OpticalFlow/P01_04/v\\frame_6221.jpg due to error: [Errno 2] No such file or directory: 'D:\\\\Datasets\\\\Datasets\\\\EPIC_Kitchen\\\\OpticalFlow\\\\P01_04\\\\v\\\\frame_6221.jpg'\n"
     ]
    },
    {
     "name": "stderr",
     "output_type": "stream",
     "text": [
      "\r",
      "Extracting Features with DEFT:  99%|██████████████████████████████████████████████▍| 1248/1262 [01:10<00:00, 25.45it/s]"
     ]
    },
    {
     "name": "stdout",
     "output_type": "stream",
     "text": [
      "Skipping frame: D:/Datasets/Datasets/EPIC_Kitchen/OpticalFlow/P01_04/u\\frame_6226.jpg due to error: [Errno 2] No such file or directory: 'D:\\\\Datasets\\\\Datasets\\\\EPIC_Kitchen\\\\OpticalFlow\\\\P01_04\\\\u\\\\frame_6226.jpg'\n",
      "Skipping frame: D:/Datasets/Datasets/EPIC_Kitchen/OpticalFlow/P01_04/v\\frame_6226.jpg due to error: [Errno 2] No such file or directory: 'D:\\\\Datasets\\\\Datasets\\\\EPIC_Kitchen\\\\OpticalFlow\\\\P01_04\\\\v\\\\frame_6226.jpg'\n",
      "Skipping frame: D:/Datasets/Datasets/EPIC_Kitchen/OpticalFlow/P01_04/u\\frame_6231.jpg due to error: [Errno 2] No such file or directory: 'D:\\\\Datasets\\\\Datasets\\\\EPIC_Kitchen\\\\OpticalFlow\\\\P01_04\\\\u\\\\frame_6231.jpg'\n",
      "Skipping frame: D:/Datasets/Datasets/EPIC_Kitchen/OpticalFlow/P01_04/v\\frame_6231.jpg due to error: [Errno 2] No such file or directory: 'D:\\\\Datasets\\\\Datasets\\\\EPIC_Kitchen\\\\OpticalFlow\\\\P01_04\\\\v\\\\frame_6231.jpg'\n",
      "Skipping frame: D:/Datasets/Datasets/EPIC_Kitchen/OpticalFlow/P01_04/u\\frame_6236.jpg due to error: [Errno 2] No such file or directory: 'D:\\\\Datasets\\\\Datasets\\\\EPIC_Kitchen\\\\OpticalFlow\\\\P01_04\\\\u\\\\frame_6236.jpg'\n",
      "Skipping frame: D:/Datasets/Datasets/EPIC_Kitchen/OpticalFlow/P01_04/v\\frame_6236.jpg due to error: [Errno 2] No such file or directory: 'D:\\\\Datasets\\\\Datasets\\\\EPIC_Kitchen\\\\OpticalFlow\\\\P01_04\\\\v\\\\frame_6236.jpg'\n",
      "Skipping frame: D:/Datasets/Datasets/EPIC_Kitchen/OpticalFlow/P01_04/u\\frame_6241.jpg due to error: [Errno 2] No such file or directory: 'D:\\\\Datasets\\\\Datasets\\\\EPIC_Kitchen\\\\OpticalFlow\\\\P01_04\\\\u\\\\frame_6241.jpg'\n",
      "Skipping frame: D:/Datasets/Datasets/EPIC_Kitchen/OpticalFlow/P01_04/v\\frame_6241.jpg due to error: [Errno 2] No such file or directory: 'D:\\\\Datasets\\\\Datasets\\\\EPIC_Kitchen\\\\OpticalFlow\\\\P01_04\\\\v\\\\frame_6241.jpg'\n",
      "Skipping frame: D:/Datasets/Datasets/EPIC_Kitchen/OpticalFlow/P01_04/u\\frame_6246.jpg due to error: [Errno 2] No such file or directory: 'D:\\\\Datasets\\\\Datasets\\\\EPIC_Kitchen\\\\OpticalFlow\\\\P01_04\\\\u\\\\frame_6246.jpg'\n",
      "Skipping frame: D:/Datasets/Datasets/EPIC_Kitchen/OpticalFlow/P01_04/v\\frame_6246.jpg due to error: [Errno 2] No such file or directory: 'D:\\\\Datasets\\\\Datasets\\\\EPIC_Kitchen\\\\OpticalFlow\\\\P01_04\\\\v\\\\frame_6246.jpg'\n"
     ]
    },
    {
     "name": "stderr",
     "output_type": "stream",
     "text": [
      "Extracting Features with DEFT:  99%|██████████████████████████████████████████████▋| 1254/1262 [01:10<00:00, 25.18it/s]"
     ]
    },
    {
     "name": "stdout",
     "output_type": "stream",
     "text": [
      "Skipping frame: D:/Datasets/Datasets/EPIC_Kitchen/OpticalFlow/P01_04/u\\frame_6251.jpg due to error: [Errno 2] No such file or directory: 'D:\\\\Datasets\\\\Datasets\\\\EPIC_Kitchen\\\\OpticalFlow\\\\P01_04\\\\u\\\\frame_6251.jpg'\n",
      "Skipping frame: D:/Datasets/Datasets/EPIC_Kitchen/OpticalFlow/P01_04/v\\frame_6251.jpg due to error: [Errno 2] No such file or directory: 'D:\\\\Datasets\\\\Datasets\\\\EPIC_Kitchen\\\\OpticalFlow\\\\P01_04\\\\v\\\\frame_6251.jpg'\n",
      "Skipping frame: D:/Datasets/Datasets/EPIC_Kitchen/OpticalFlow/P01_04/u\\frame_6256.jpg due to error: [Errno 2] No such file or directory: 'D:\\\\Datasets\\\\Datasets\\\\EPIC_Kitchen\\\\OpticalFlow\\\\P01_04\\\\u\\\\frame_6256.jpg'\n",
      "Skipping frame: D:/Datasets/Datasets/EPIC_Kitchen/OpticalFlow/P01_04/v\\frame_6256.jpg due to error: [Errno 2] No such file or directory: 'D:\\\\Datasets\\\\Datasets\\\\EPIC_Kitchen\\\\OpticalFlow\\\\P01_04\\\\v\\\\frame_6256.jpg'\n",
      "Skipping frame: D:/Datasets/Datasets/EPIC_Kitchen/OpticalFlow/P01_04/u\\frame_6261.jpg due to error: [Errno 2] No such file or directory: 'D:\\\\Datasets\\\\Datasets\\\\EPIC_Kitchen\\\\OpticalFlow\\\\P01_04\\\\u\\\\frame_6261.jpg'\n",
      "Skipping frame: D:/Datasets/Datasets/EPIC_Kitchen/OpticalFlow/P01_04/v\\frame_6261.jpg due to error: [Errno 2] No such file or directory: 'D:\\\\Datasets\\\\Datasets\\\\EPIC_Kitchen\\\\OpticalFlow\\\\P01_04\\\\v\\\\frame_6261.jpg'\n",
      "Skipping frame: D:/Datasets/Datasets/EPIC_Kitchen/OpticalFlow/P01_04/u\\frame_6266.jpg due to error: [Errno 2] No such file or directory: 'D:\\\\Datasets\\\\Datasets\\\\EPIC_Kitchen\\\\OpticalFlow\\\\P01_04\\\\u\\\\frame_6266.jpg'\n",
      "Skipping frame: D:/Datasets/Datasets/EPIC_Kitchen/OpticalFlow/P01_04/v\\frame_6266.jpg due to error: [Errno 2] No such file or directory: 'D:\\\\Datasets\\\\Datasets\\\\EPIC_Kitchen\\\\OpticalFlow\\\\P01_04\\\\v\\\\frame_6266.jpg'\n",
      "Skipping frame: D:/Datasets/Datasets/EPIC_Kitchen/OpticalFlow/P01_04/u\\frame_6271.jpg due to error: [Errno 2] No such file or directory: 'D:\\\\Datasets\\\\Datasets\\\\EPIC_Kitchen\\\\OpticalFlow\\\\P01_04\\\\u\\\\frame_6271.jpg'\n",
      "Skipping frame: D:/Datasets/Datasets/EPIC_Kitchen/OpticalFlow/P01_04/v\\frame_6271.jpg due to error: [Errno 2] No such file or directory: 'D:\\\\Datasets\\\\Datasets\\\\EPIC_Kitchen\\\\OpticalFlow\\\\P01_04\\\\v\\\\frame_6271.jpg'\n"
     ]
    },
    {
     "name": "stderr",
     "output_type": "stream",
     "text": [
      "Extracting Features with DEFT: 100%|██████████████████████████████████████████████▉| 1260/1262 [01:10<00:00, 24.84it/s]"
     ]
    },
    {
     "name": "stdout",
     "output_type": "stream",
     "text": [
      "Skipping frame: D:/Datasets/Datasets/EPIC_Kitchen/OpticalFlow/P01_04/u\\frame_6276.jpg due to error: [Errno 2] No such file or directory: 'D:\\\\Datasets\\\\Datasets\\\\EPIC_Kitchen\\\\OpticalFlow\\\\P01_04\\\\u\\\\frame_6276.jpg'\n",
      "Skipping frame: D:/Datasets/Datasets/EPIC_Kitchen/OpticalFlow/P01_04/v\\frame_6276.jpg due to error: [Errno 2] No such file or directory: 'D:\\\\Datasets\\\\Datasets\\\\EPIC_Kitchen\\\\OpticalFlow\\\\P01_04\\\\v\\\\frame_6276.jpg'\n",
      "Skipping frame: D:/Datasets/Datasets/EPIC_Kitchen/OpticalFlow/P01_04/u\\frame_6281.jpg due to error: [Errno 2] No such file or directory: 'D:\\\\Datasets\\\\Datasets\\\\EPIC_Kitchen\\\\OpticalFlow\\\\P01_04\\\\u\\\\frame_6281.jpg'\n",
      "Skipping frame: D:/Datasets/Datasets/EPIC_Kitchen/OpticalFlow/P01_04/v\\frame_6281.jpg due to error: [Errno 2] No such file or directory: 'D:\\\\Datasets\\\\Datasets\\\\EPIC_Kitchen\\\\OpticalFlow\\\\P01_04\\\\v\\\\frame_6281.jpg'\n",
      "Skipping frame: D:/Datasets/Datasets/EPIC_Kitchen/OpticalFlow/P01_04/u\\frame_6286.jpg due to error: [Errno 2] No such file or directory: 'D:\\\\Datasets\\\\Datasets\\\\EPIC_Kitchen\\\\OpticalFlow\\\\P01_04\\\\u\\\\frame_6286.jpg'\n",
      "Skipping frame: D:/Datasets/Datasets/EPIC_Kitchen/OpticalFlow/P01_04/v\\frame_6286.jpg due to error: [Errno 2] No such file or directory: 'D:\\\\Datasets\\\\Datasets\\\\EPIC_Kitchen\\\\OpticalFlow\\\\P01_04\\\\v\\\\frame_6286.jpg'\n",
      "Skipping frame: D:/Datasets/Datasets/EPIC_Kitchen/OpticalFlow/P01_04/u\\frame_6291.jpg due to error: [Errno 2] No such file or directory: 'D:\\\\Datasets\\\\Datasets\\\\EPIC_Kitchen\\\\OpticalFlow\\\\P01_04\\\\u\\\\frame_6291.jpg'\n",
      "Skipping frame: D:/Datasets/Datasets/EPIC_Kitchen/OpticalFlow/P01_04/v\\frame_6291.jpg due to error: [Errno 2] No such file or directory: 'D:\\\\Datasets\\\\Datasets\\\\EPIC_Kitchen\\\\OpticalFlow\\\\P01_04\\\\v\\\\frame_6291.jpg'\n",
      "Skipping frame: D:/Datasets/Datasets/EPIC_Kitchen/OpticalFlow/P01_04/u\\frame_6296.jpg due to error: [Errno 2] No such file or directory: 'D:\\\\Datasets\\\\Datasets\\\\EPIC_Kitchen\\\\OpticalFlow\\\\P01_04\\\\u\\\\frame_6296.jpg'\n",
      "Skipping frame: D:/Datasets/Datasets/EPIC_Kitchen/OpticalFlow/P01_04/v\\frame_6296.jpg due to error: [Errno 2] No such file or directory: 'D:\\\\Datasets\\\\Datasets\\\\EPIC_Kitchen\\\\OpticalFlow\\\\P01_04\\\\v\\\\frame_6296.jpg'\n"
     ]
    },
    {
     "name": "stderr",
     "output_type": "stream",
     "text": [
      "Extracting Features with DEFT: 100%|███████████████████████████████████████████████| 1262/1262 [01:10<00:00, 17.80it/s]\n"
     ]
    },
    {
     "name": "stdout",
     "output_type": "stream",
     "text": [
      "Skipping frame: D:/Datasets/Datasets/EPIC_Kitchen/OpticalFlow/P01_04/u\\frame_6301.jpg due to error: [Errno 2] No such file or directory: 'D:\\\\Datasets\\\\Datasets\\\\EPIC_Kitchen\\\\OpticalFlow\\\\P01_04\\\\u\\\\frame_6301.jpg'\n",
      "Skipping frame: D:/Datasets/Datasets/EPIC_Kitchen/OpticalFlow/P01_04/v\\frame_6301.jpg due to error: [Errno 2] No such file or directory: 'D:\\\\Datasets\\\\Datasets\\\\EPIC_Kitchen\\\\OpticalFlow\\\\P01_04\\\\v\\\\frame_6301.jpg'\n",
      "Skipping frame: D:/Datasets/Datasets/EPIC_Kitchen/OpticalFlow/P01_04/u\\frame_6306.jpg due to error: [Errno 2] No such file or directory: 'D:\\\\Datasets\\\\Datasets\\\\EPIC_Kitchen\\\\OpticalFlow\\\\P01_04\\\\u\\\\frame_6306.jpg'\n",
      "Skipping frame: D:/Datasets/Datasets/EPIC_Kitchen/OpticalFlow/P01_04/v\\frame_6306.jpg due to error: [Errno 2] No such file or directory: 'D:\\\\Datasets\\\\Datasets\\\\EPIC_Kitchen\\\\OpticalFlow\\\\P01_04\\\\v\\\\frame_6306.jpg'\n",
      "Feature extraction completed! Saved to Features/Feature_P01_04_with_DEFT.csv\n"
     ]
    }
   ],
   "source": [
    "###########################################################\n",
    "# Extract Features with DEFT & Save\n",
    "###########################################################\n",
    "S = 5  # Sampling every 5th frame\n",
    "features_list = []\n",
    "\n",
    "all_frames = sorted(os.listdir(rgb_path))[::S]\n",
    "\n",
    "for frame in tqdm(all_frames, desc=\"Extracting Features with DEFT\"):\n",
    "    rgb_frame_path = os.path.join(rgb_path, frame)\n",
    "    flow_u_frame_path = os.path.join(flow_u_path, frame)\n",
    "    flow_v_frame_path = os.path.join(flow_v_path, frame)\n",
    "    \n",
    "    rgb_features = extract_features(rgb_frame_path, transform, device)\n",
    "    flow_u_features = extract_features(flow_u_frame_path, transform, device)\n",
    "    flow_v_features = extract_features(flow_v_frame_path, transform, device)\n",
    "    \n",
    "    if rgb_features is not None and flow_u_features is not None and flow_v_features is not None:\n",
    "        combined_features = np.concatenate([rgb_features, flow_u_features, flow_v_features])\n",
    "        \n",
    "        frame_number = int(frame.split('_')[-1].split('.')[0])\n",
    "        label_row = labels_df[(labels_df['StartFrame'] <= frame_number) & (labels_df['EndFrame'] >= frame_number)]\n",
    "        \n",
    "        if not label_row.empty:\n",
    "            verb_class = label_row.iloc[0]['Verb_class']\n",
    "            noun_class = label_row.iloc[0]['Noun_class']\n",
    "            action_class = label_row.iloc[0]['Action_class']\n",
    "        else:\n",
    "            verb_class, noun_class, action_class = 0, 0, 0  # Default if no label found\n",
    "        \n",
    "        features_list.append([frame, verb_class, noun_class, action_class] + combined_features.tolist())\n",
    "\n",
    "if len(features_list) == 0:\n",
    "    raise ValueError(\"No valid features extracted. Please check the dataset paths and feature extraction function.\")\n",
    "\n",
    "columns = [\"Frame\", \"Verb_class\", \"Noun_class\", \"Action_class\"] + [f\"Feature_{i}\" for i in range(len(combined_features))]\n",
    "df = pd.DataFrame(features_list, columns=columns)\n",
    "df.to_csv(output_csv, index=False)\n",
    "\n",
    "print(f\"Feature extraction completed! Saved to {output_csv}\")\n"
   ]
  },
  {
   "cell_type": "code",
   "execution_count": 15,
   "id": "4f76710e",
   "metadata": {},
   "outputs": [
    {
     "data": {
      "text/html": [
       "<div>\n",
       "<style scoped>\n",
       "    .dataframe tbody tr th:only-of-type {\n",
       "        vertical-align: middle;\n",
       "    }\n",
       "\n",
       "    .dataframe tbody tr th {\n",
       "        vertical-align: top;\n",
       "    }\n",
       "\n",
       "    .dataframe thead th {\n",
       "        text-align: right;\n",
       "    }\n",
       "</style>\n",
       "<table border=\"1\" class=\"dataframe\">\n",
       "  <thead>\n",
       "    <tr style=\"text-align: right;\">\n",
       "      <th></th>\n",
       "      <th>Frame</th>\n",
       "      <th>Verb_class</th>\n",
       "      <th>Noun_class</th>\n",
       "      <th>Action_class</th>\n",
       "      <th>Feature_0</th>\n",
       "      <th>Feature_1</th>\n",
       "      <th>Feature_2</th>\n",
       "      <th>Feature_3</th>\n",
       "      <th>Feature_4</th>\n",
       "      <th>Feature_5</th>\n",
       "      <th>...</th>\n",
       "      <th>Feature_6134</th>\n",
       "      <th>Feature_6135</th>\n",
       "      <th>Feature_6136</th>\n",
       "      <th>Feature_6137</th>\n",
       "      <th>Feature_6138</th>\n",
       "      <th>Feature_6139</th>\n",
       "      <th>Feature_6140</th>\n",
       "      <th>Feature_6141</th>\n",
       "      <th>Feature_6142</th>\n",
       "      <th>Feature_6143</th>\n",
       "    </tr>\n",
       "  </thead>\n",
       "  <tbody>\n",
       "    <tr>\n",
       "      <th>0</th>\n",
       "      <td>frame_0001.jpg</td>\n",
       "      <td>0</td>\n",
       "      <td>0</td>\n",
       "      <td>0</td>\n",
       "      <td>0.651917</td>\n",
       "      <td>0.407176</td>\n",
       "      <td>0.076979</td>\n",
       "      <td>0.357042</td>\n",
       "      <td>1.976730</td>\n",
       "      <td>0.638776</td>\n",
       "      <td>...</td>\n",
       "      <td>0.119569</td>\n",
       "      <td>0.000009</td>\n",
       "      <td>0.029647</td>\n",
       "      <td>0.155487</td>\n",
       "      <td>0.006345</td>\n",
       "      <td>0.000375</td>\n",
       "      <td>0.108428</td>\n",
       "      <td>0.139510</td>\n",
       "      <td>0.029922</td>\n",
       "      <td>0.226609</td>\n",
       "    </tr>\n",
       "    <tr>\n",
       "      <th>1</th>\n",
       "      <td>frame_0006.jpg</td>\n",
       "      <td>0</td>\n",
       "      <td>23</td>\n",
       "      <td>0</td>\n",
       "      <td>0.546664</td>\n",
       "      <td>0.483001</td>\n",
       "      <td>0.135680</td>\n",
       "      <td>0.225158</td>\n",
       "      <td>2.126921</td>\n",
       "      <td>0.551493</td>\n",
       "      <td>...</td>\n",
       "      <td>0.157487</td>\n",
       "      <td>0.000000</td>\n",
       "      <td>0.006592</td>\n",
       "      <td>0.087250</td>\n",
       "      <td>0.241418</td>\n",
       "      <td>0.000000</td>\n",
       "      <td>0.131806</td>\n",
       "      <td>0.069871</td>\n",
       "      <td>0.019073</td>\n",
       "      <td>0.259733</td>\n",
       "    </tr>\n",
       "    <tr>\n",
       "      <th>2</th>\n",
       "      <td>frame_0011.jpg</td>\n",
       "      <td>0</td>\n",
       "      <td>23</td>\n",
       "      <td>0</td>\n",
       "      <td>0.483140</td>\n",
       "      <td>0.646575</td>\n",
       "      <td>0.202512</td>\n",
       "      <td>0.355270</td>\n",
       "      <td>2.394428</td>\n",
       "      <td>0.560053</td>\n",
       "      <td>...</td>\n",
       "      <td>0.212274</td>\n",
       "      <td>0.019422</td>\n",
       "      <td>0.061624</td>\n",
       "      <td>0.105661</td>\n",
       "      <td>0.028055</td>\n",
       "      <td>0.000000</td>\n",
       "      <td>0.000000</td>\n",
       "      <td>0.177602</td>\n",
       "      <td>0.010195</td>\n",
       "      <td>0.164882</td>\n",
       "    </tr>\n",
       "    <tr>\n",
       "      <th>3</th>\n",
       "      <td>frame_0016.jpg</td>\n",
       "      <td>0</td>\n",
       "      <td>23</td>\n",
       "      <td>0</td>\n",
       "      <td>0.404216</td>\n",
       "      <td>0.568184</td>\n",
       "      <td>0.049507</td>\n",
       "      <td>0.525459</td>\n",
       "      <td>2.029208</td>\n",
       "      <td>0.432885</td>\n",
       "      <td>...</td>\n",
       "      <td>0.484715</td>\n",
       "      <td>0.122950</td>\n",
       "      <td>0.030248</td>\n",
       "      <td>0.096550</td>\n",
       "      <td>0.606497</td>\n",
       "      <td>0.011370</td>\n",
       "      <td>0.219069</td>\n",
       "      <td>0.188862</td>\n",
       "      <td>0.002258</td>\n",
       "      <td>0.156196</td>\n",
       "    </tr>\n",
       "    <tr>\n",
       "      <th>4</th>\n",
       "      <td>frame_0021.jpg</td>\n",
       "      <td>0</td>\n",
       "      <td>23</td>\n",
       "      <td>0</td>\n",
       "      <td>0.504452</td>\n",
       "      <td>0.529196</td>\n",
       "      <td>0.116372</td>\n",
       "      <td>0.598458</td>\n",
       "      <td>1.932839</td>\n",
       "      <td>0.722018</td>\n",
       "      <td>...</td>\n",
       "      <td>0.611212</td>\n",
       "      <td>0.257860</td>\n",
       "      <td>0.085634</td>\n",
       "      <td>0.485791</td>\n",
       "      <td>0.232887</td>\n",
       "      <td>0.000439</td>\n",
       "      <td>0.003415</td>\n",
       "      <td>0.046124</td>\n",
       "      <td>0.019902</td>\n",
       "      <td>0.666137</td>\n",
       "    </tr>\n",
       "    <tr>\n",
       "      <th>...</th>\n",
       "      <td>...</td>\n",
       "      <td>...</td>\n",
       "      <td>...</td>\n",
       "      <td>...</td>\n",
       "      <td>...</td>\n",
       "      <td>...</td>\n",
       "      <td>...</td>\n",
       "      <td>...</td>\n",
       "      <td>...</td>\n",
       "      <td>...</td>\n",
       "      <td>...</td>\n",
       "      <td>...</td>\n",
       "      <td>...</td>\n",
       "      <td>...</td>\n",
       "      <td>...</td>\n",
       "      <td>...</td>\n",
       "      <td>...</td>\n",
       "      <td>...</td>\n",
       "      <td>...</td>\n",
       "      <td>...</td>\n",
       "      <td>...</td>\n",
       "    </tr>\n",
       "    <tr>\n",
       "      <th>627</th>\n",
       "      <td>frame_3136.jpg</td>\n",
       "      <td>4</td>\n",
       "      <td>23</td>\n",
       "      <td>14</td>\n",
       "      <td>1.126213</td>\n",
       "      <td>0.175981</td>\n",
       "      <td>1.183292</td>\n",
       "      <td>1.671395</td>\n",
       "      <td>0.540780</td>\n",
       "      <td>0.675402</td>\n",
       "      <td>...</td>\n",
       "      <td>0.249193</td>\n",
       "      <td>0.011448</td>\n",
       "      <td>0.177856</td>\n",
       "      <td>0.290418</td>\n",
       "      <td>0.058419</td>\n",
       "      <td>0.020178</td>\n",
       "      <td>0.000000</td>\n",
       "      <td>0.038382</td>\n",
       "      <td>0.000758</td>\n",
       "      <td>0.110715</td>\n",
       "    </tr>\n",
       "    <tr>\n",
       "      <th>628</th>\n",
       "      <td>frame_3141.jpg</td>\n",
       "      <td>4</td>\n",
       "      <td>23</td>\n",
       "      <td>14</td>\n",
       "      <td>0.875532</td>\n",
       "      <td>0.130069</td>\n",
       "      <td>1.162229</td>\n",
       "      <td>1.753934</td>\n",
       "      <td>0.414319</td>\n",
       "      <td>0.467606</td>\n",
       "      <td>...</td>\n",
       "      <td>0.014190</td>\n",
       "      <td>0.004053</td>\n",
       "      <td>0.060821</td>\n",
       "      <td>0.077685</td>\n",
       "      <td>0.000000</td>\n",
       "      <td>0.007218</td>\n",
       "      <td>0.001084</td>\n",
       "      <td>0.041424</td>\n",
       "      <td>0.011284</td>\n",
       "      <td>0.098705</td>\n",
       "    </tr>\n",
       "    <tr>\n",
       "      <th>629</th>\n",
       "      <td>frame_3146.jpg</td>\n",
       "      <td>0</td>\n",
       "      <td>0</td>\n",
       "      <td>0</td>\n",
       "      <td>0.990685</td>\n",
       "      <td>0.336301</td>\n",
       "      <td>0.916479</td>\n",
       "      <td>1.528714</td>\n",
       "      <td>0.513048</td>\n",
       "      <td>0.428346</td>\n",
       "      <td>...</td>\n",
       "      <td>0.383098</td>\n",
       "      <td>0.005483</td>\n",
       "      <td>0.029652</td>\n",
       "      <td>0.194086</td>\n",
       "      <td>0.161036</td>\n",
       "      <td>0.001043</td>\n",
       "      <td>0.000000</td>\n",
       "      <td>0.023354</td>\n",
       "      <td>0.198656</td>\n",
       "      <td>0.131415</td>\n",
       "    </tr>\n",
       "    <tr>\n",
       "      <th>630</th>\n",
       "      <td>frame_3151.jpg</td>\n",
       "      <td>4</td>\n",
       "      <td>7</td>\n",
       "      <td>15</td>\n",
       "      <td>1.255465</td>\n",
       "      <td>0.304995</td>\n",
       "      <td>1.173652</td>\n",
       "      <td>1.445411</td>\n",
       "      <td>0.552218</td>\n",
       "      <td>0.506052</td>\n",
       "      <td>...</td>\n",
       "      <td>0.182186</td>\n",
       "      <td>0.000100</td>\n",
       "      <td>0.025416</td>\n",
       "      <td>0.243660</td>\n",
       "      <td>0.004754</td>\n",
       "      <td>0.002198</td>\n",
       "      <td>0.000000</td>\n",
       "      <td>0.130777</td>\n",
       "      <td>0.013741</td>\n",
       "      <td>0.037159</td>\n",
       "    </tr>\n",
       "    <tr>\n",
       "      <th>631</th>\n",
       "      <td>frame_3156.jpg</td>\n",
       "      <td>4</td>\n",
       "      <td>7</td>\n",
       "      <td>15</td>\n",
       "      <td>1.158546</td>\n",
       "      <td>0.220160</td>\n",
       "      <td>1.129778</td>\n",
       "      <td>1.749090</td>\n",
       "      <td>0.472535</td>\n",
       "      <td>0.650623</td>\n",
       "      <td>...</td>\n",
       "      <td>0.000000</td>\n",
       "      <td>0.000000</td>\n",
       "      <td>0.000000</td>\n",
       "      <td>0.061422</td>\n",
       "      <td>0.000000</td>\n",
       "      <td>0.001553</td>\n",
       "      <td>0.000000</td>\n",
       "      <td>0.011717</td>\n",
       "      <td>0.011481</td>\n",
       "      <td>0.007311</td>\n",
       "    </tr>\n",
       "  </tbody>\n",
       "</table>\n",
       "<p>632 rows × 6148 columns</p>\n",
       "</div>"
      ],
      "text/plain": [
       "              Frame  Verb_class  Noun_class  Action_class  Feature_0  \\\n",
       "0    frame_0001.jpg           0           0             0   0.651917   \n",
       "1    frame_0006.jpg           0          23             0   0.546664   \n",
       "2    frame_0011.jpg           0          23             0   0.483140   \n",
       "3    frame_0016.jpg           0          23             0   0.404216   \n",
       "4    frame_0021.jpg           0          23             0   0.504452   \n",
       "..              ...         ...         ...           ...        ...   \n",
       "627  frame_3136.jpg           4          23            14   1.126213   \n",
       "628  frame_3141.jpg           4          23            14   0.875532   \n",
       "629  frame_3146.jpg           0           0             0   0.990685   \n",
       "630  frame_3151.jpg           4           7            15   1.255465   \n",
       "631  frame_3156.jpg           4           7            15   1.158546   \n",
       "\n",
       "     Feature_1  Feature_2  Feature_3  Feature_4  Feature_5  ...  Feature_6134  \\\n",
       "0     0.407176   0.076979   0.357042   1.976730   0.638776  ...      0.119569   \n",
       "1     0.483001   0.135680   0.225158   2.126921   0.551493  ...      0.157487   \n",
       "2     0.646575   0.202512   0.355270   2.394428   0.560053  ...      0.212274   \n",
       "3     0.568184   0.049507   0.525459   2.029208   0.432885  ...      0.484715   \n",
       "4     0.529196   0.116372   0.598458   1.932839   0.722018  ...      0.611212   \n",
       "..         ...        ...        ...        ...        ...  ...           ...   \n",
       "627   0.175981   1.183292   1.671395   0.540780   0.675402  ...      0.249193   \n",
       "628   0.130069   1.162229   1.753934   0.414319   0.467606  ...      0.014190   \n",
       "629   0.336301   0.916479   1.528714   0.513048   0.428346  ...      0.383098   \n",
       "630   0.304995   1.173652   1.445411   0.552218   0.506052  ...      0.182186   \n",
       "631   0.220160   1.129778   1.749090   0.472535   0.650623  ...      0.000000   \n",
       "\n",
       "     Feature_6135  Feature_6136  Feature_6137  Feature_6138  Feature_6139  \\\n",
       "0        0.000009      0.029647      0.155487      0.006345      0.000375   \n",
       "1        0.000000      0.006592      0.087250      0.241418      0.000000   \n",
       "2        0.019422      0.061624      0.105661      0.028055      0.000000   \n",
       "3        0.122950      0.030248      0.096550      0.606497      0.011370   \n",
       "4        0.257860      0.085634      0.485791      0.232887      0.000439   \n",
       "..            ...           ...           ...           ...           ...   \n",
       "627      0.011448      0.177856      0.290418      0.058419      0.020178   \n",
       "628      0.004053      0.060821      0.077685      0.000000      0.007218   \n",
       "629      0.005483      0.029652      0.194086      0.161036      0.001043   \n",
       "630      0.000100      0.025416      0.243660      0.004754      0.002198   \n",
       "631      0.000000      0.000000      0.061422      0.000000      0.001553   \n",
       "\n",
       "     Feature_6140  Feature_6141  Feature_6142  Feature_6143  \n",
       "0        0.108428      0.139510      0.029922      0.226609  \n",
       "1        0.131806      0.069871      0.019073      0.259733  \n",
       "2        0.000000      0.177602      0.010195      0.164882  \n",
       "3        0.219069      0.188862      0.002258      0.156196  \n",
       "4        0.003415      0.046124      0.019902      0.666137  \n",
       "..            ...           ...           ...           ...  \n",
       "627      0.000000      0.038382      0.000758      0.110715  \n",
       "628      0.001084      0.041424      0.011284      0.098705  \n",
       "629      0.000000      0.023354      0.198656      0.131415  \n",
       "630      0.000000      0.130777      0.013741      0.037159  \n",
       "631      0.000000      0.011717      0.011481      0.007311  \n",
       "\n",
       "[632 rows x 6148 columns]"
      ]
     },
     "execution_count": 15,
     "metadata": {},
     "output_type": "execute_result"
    }
   ],
   "source": [
    "f=pd.read_csv(\"Features/Feature_P01_04_with_DEFT.csv\")\n",
    "f"
   ]
  }
 ],
 "metadata": {
  "kernelspec": {
   "display_name": "Python 3 (ipykernel)",
   "language": "python",
   "name": "python3"
  },
  "language_info": {
   "codemirror_mode": {
    "name": "ipython",
    "version": 3
   },
   "file_extension": ".py",
   "mimetype": "text/x-python",
   "name": "python",
   "nbconvert_exporter": "python",
   "pygments_lexer": "ipython3",
   "version": "3.11.5"
  }
 },
 "nbformat": 4,
 "nbformat_minor": 5
}
